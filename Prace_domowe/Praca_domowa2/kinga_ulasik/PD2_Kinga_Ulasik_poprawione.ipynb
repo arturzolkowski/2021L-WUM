{
 "cells": [
  {
   "cell_type": "markdown",
   "id": "patent-albania",
   "metadata": {},
   "source": [
    "# Praca Domowa 2 - Wstęp do uczenia maszynowego\n",
    "# Poprawiona wersja\n",
    "## Kinga Ułasik IiAD 03.04.2021"
   ]
  },
  {
   "cell_type": "markdown",
   "id": "commercial-stockholm",
   "metadata": {},
   "source": [
    "### Zaimportowanie potrzebnych pakietów"
   ]
  },
  {
   "cell_type": "code",
   "execution_count": 5,
   "id": "designing-edwards",
   "metadata": {},
   "outputs": [],
   "source": [
    "import pandas as pd\n",
    "import pylab as pl\n",
    "import numpy as np\n",
    "import sklearn \n",
    "import seaborn as sns\n",
    "import matplotlib.pyplot as plt\n",
    "import matplotlib\n",
    "%matplotlib inline\n",
    "import warnings\n",
    "warnings.filterwarnings('ignore')\n",
    "import matplotlib.ticker as ticker\n",
    "import random\n",
    "import category_encoders as ce\n",
    "from sklearn.impute import KNNImputer\n",
    "\n",
    "from numpy import isnan\n",
    "from pandas import read_csv\n",
    "from sklearn.experimental import enable_iterative_imputer\n",
    "from sklearn.impute import IterativeImputer\n",
    "\n",
    "import category_encoders as ce\n",
    "from sklearn.metrics import mean_squared_error"
   ]
  },
  {
   "cell_type": "markdown",
   "id": "greek-corpus",
   "metadata": {},
   "source": [
    "## Wczytanie danych"
   ]
  },
  {
   "cell_type": "code",
   "execution_count": 7,
   "id": "sealed-iraqi",
   "metadata": {
    "scrolled": false
   },
   "outputs": [
    {
     "data": {
      "text/html": [
       "<div>\n",
       "<style scoped>\n",
       "    .dataframe tbody tr th:only-of-type {\n",
       "        vertical-align: middle;\n",
       "    }\n",
       "\n",
       "    .dataframe tbody tr th {\n",
       "        vertical-align: top;\n",
       "    }\n",
       "\n",
       "    .dataframe thead th {\n",
       "        text-align: right;\n",
       "    }\n",
       "</style>\n",
       "<table border=\"1\" class=\"dataframe\">\n",
       "  <thead>\n",
       "    <tr style=\"text-align: right;\">\n",
       "      <th></th>\n",
       "      <th>lp</th>\n",
       "      <th>date</th>\n",
       "      <th>item_id</th>\n",
       "      <th>categories</th>\n",
       "      <th>pay_option_on_delivery</th>\n",
       "      <th>pay_option_transfer</th>\n",
       "      <th>seller</th>\n",
       "      <th>price</th>\n",
       "      <th>it_is_allegro_standard</th>\n",
       "      <th>it_quantity</th>\n",
       "      <th>it_is_brand_zone</th>\n",
       "      <th>it_seller_rating</th>\n",
       "      <th>it_location</th>\n",
       "      <th>main_category</th>\n",
       "    </tr>\n",
       "  </thead>\n",
       "  <tbody>\n",
       "    <tr>\n",
       "      <th>0</th>\n",
       "      <td>0</td>\n",
       "      <td>2016-04-03 21:21:08</td>\n",
       "      <td>4753602474</td>\n",
       "      <td>['Komputery', 'Dyski i napędy', 'Nośniki', 'No...</td>\n",
       "      <td>1</td>\n",
       "      <td>1</td>\n",
       "      <td>radzioch666</td>\n",
       "      <td>59.99</td>\n",
       "      <td>1</td>\n",
       "      <td>997</td>\n",
       "      <td>0</td>\n",
       "      <td>50177</td>\n",
       "      <td>Warszawa</td>\n",
       "      <td>Komputery</td>\n",
       "    </tr>\n",
       "    <tr>\n",
       "      <th>1</th>\n",
       "      <td>1</td>\n",
       "      <td>2016-04-03 15:35:26</td>\n",
       "      <td>4773181874</td>\n",
       "      <td>['Odzież, Obuwie, Dodatki', 'Bielizna damska',...</td>\n",
       "      <td>1</td>\n",
       "      <td>1</td>\n",
       "      <td>InwestycjeNET</td>\n",
       "      <td>4.90</td>\n",
       "      <td>1</td>\n",
       "      <td>9288</td>\n",
       "      <td>0</td>\n",
       "      <td>12428</td>\n",
       "      <td>Warszawa</td>\n",
       "      <td>Odzież, Obuwie, Dodatki</td>\n",
       "    </tr>\n",
       "    <tr>\n",
       "      <th>2</th>\n",
       "      <td>2</td>\n",
       "      <td>2016-04-03 14:14:31</td>\n",
       "      <td>4781627074</td>\n",
       "      <td>['Dom i Ogród', 'Budownictwo i Akcesoria', 'Śc...</td>\n",
       "      <td>1</td>\n",
       "      <td>1</td>\n",
       "      <td>otostyl_com</td>\n",
       "      <td>109.90</td>\n",
       "      <td>1</td>\n",
       "      <td>895</td>\n",
       "      <td>0</td>\n",
       "      <td>7389</td>\n",
       "      <td>Leszno</td>\n",
       "      <td>Dom i Ogród</td>\n",
       "    </tr>\n",
       "    <tr>\n",
       "      <th>3</th>\n",
       "      <td>3</td>\n",
       "      <td>2016-04-03 19:55:44</td>\n",
       "      <td>4783971474</td>\n",
       "      <td>['Książki i Komiksy', 'Poradniki i albumy', 'Z...</td>\n",
       "      <td>1</td>\n",
       "      <td>1</td>\n",
       "      <td>Matfel1</td>\n",
       "      <td>18.50</td>\n",
       "      <td>0</td>\n",
       "      <td>971</td>\n",
       "      <td>0</td>\n",
       "      <td>15006</td>\n",
       "      <td>Wola Krzysztoporska</td>\n",
       "      <td>Książki i Komiksy</td>\n",
       "    </tr>\n",
       "    <tr>\n",
       "      <th>4</th>\n",
       "      <td>4</td>\n",
       "      <td>2016-04-03 18:05:54</td>\n",
       "      <td>4787908274</td>\n",
       "      <td>['Odzież, Obuwie, Dodatki', 'Ślub i wesele', '...</td>\n",
       "      <td>1</td>\n",
       "      <td>1</td>\n",
       "      <td>PPHU_RICO</td>\n",
       "      <td>19.90</td>\n",
       "      <td>1</td>\n",
       "      <td>950</td>\n",
       "      <td>0</td>\n",
       "      <td>32975</td>\n",
       "      <td>BIAŁYSTOK</td>\n",
       "      <td>Odzież, Obuwie, Dodatki</td>\n",
       "    </tr>\n",
       "  </tbody>\n",
       "</table>\n",
       "</div>"
      ],
      "text/plain": [
       "   lp                 date     item_id  \\\n",
       "0   0  2016-04-03 21:21:08  4753602474   \n",
       "1   1  2016-04-03 15:35:26  4773181874   \n",
       "2   2  2016-04-03 14:14:31  4781627074   \n",
       "3   3  2016-04-03 19:55:44  4783971474   \n",
       "4   4  2016-04-03 18:05:54  4787908274   \n",
       "\n",
       "                                          categories  pay_option_on_delivery  \\\n",
       "0  ['Komputery', 'Dyski i napędy', 'Nośniki', 'No...                       1   \n",
       "1  ['Odzież, Obuwie, Dodatki', 'Bielizna damska',...                       1   \n",
       "2  ['Dom i Ogród', 'Budownictwo i Akcesoria', 'Śc...                       1   \n",
       "3  ['Książki i Komiksy', 'Poradniki i albumy', 'Z...                       1   \n",
       "4  ['Odzież, Obuwie, Dodatki', 'Ślub i wesele', '...                       1   \n",
       "\n",
       "   pay_option_transfer         seller   price  it_is_allegro_standard  \\\n",
       "0                    1    radzioch666   59.99                       1   \n",
       "1                    1  InwestycjeNET    4.90                       1   \n",
       "2                    1    otostyl_com  109.90                       1   \n",
       "3                    1        Matfel1   18.50                       0   \n",
       "4                    1      PPHU_RICO   19.90                       1   \n",
       "\n",
       "   it_quantity  it_is_brand_zone  it_seller_rating          it_location  \\\n",
       "0          997                 0             50177             Warszawa   \n",
       "1         9288                 0             12428             Warszawa   \n",
       "2          895                 0              7389               Leszno   \n",
       "3          971                 0             15006  Wola Krzysztoporska   \n",
       "4          950                 0             32975            BIAŁYSTOK   \n",
       "\n",
       "             main_category  \n",
       "0                Komputery  \n",
       "1  Odzież, Obuwie, Dodatki  \n",
       "2              Dom i Ogród  \n",
       "3        Książki i Komiksy  \n",
       "4  Odzież, Obuwie, Dodatki  "
      ]
     },
     "execution_count": 7,
     "metadata": {},
     "output_type": "execute_result"
    }
   ],
   "source": [
    "allegro = pd.read_csv('allegro-api-transactions.csv')\n",
    "allegro.head()"
   ]
  },
  {
   "cell_type": "code",
   "execution_count": 17,
   "id": "liberal-title",
   "metadata": {},
   "outputs": [
    {
     "name": "stdout",
     "output_type": "stream",
     "text": [
      "<class 'pandas.core.frame.DataFrame'>\n",
      "RangeIndex: 420020 entries, 0 to 420019\n",
      "Data columns (total 14 columns):\n",
      " #   Column                  Non-Null Count   Dtype  \n",
      "---  ------                  --------------   -----  \n",
      " 0   lp                      420020 non-null  int64  \n",
      " 1   date                    420020 non-null  object \n",
      " 2   item_id                 420020 non-null  int64  \n",
      " 3   categories              420020 non-null  object \n",
      " 4   pay_option_on_delivery  420020 non-null  int64  \n",
      " 5   pay_option_transfer     420020 non-null  int64  \n",
      " 6   seller                  420020 non-null  object \n",
      " 7   price                   420020 non-null  float64\n",
      " 8   it_is_allegro_standard  420020 non-null  int64  \n",
      " 9   it_quantity             420020 non-null  int64  \n",
      " 10  it_is_brand_zone        420020 non-null  int64  \n",
      " 11  it_seller_rating        420020 non-null  int64  \n",
      " 12  it_location             420020 non-null  object \n",
      " 13  main_category           420020 non-null  object \n",
      "dtypes: float64(1), int64(8), object(5)\n",
      "memory usage: 44.9+ MB\n"
     ]
    }
   ],
   "source": [
    "allegro.info()"
   ]
  },
  {
   "cell_type": "markdown",
   "id": "literary-croatia",
   "metadata": {},
   "source": [
    "# Zadanie 1"
   ]
  },
  {
   "cell_type": "markdown",
   "id": "turkish-lyric",
   "metadata": {},
   "source": [
    "## Encoding\n",
    "### Target Encoding"
   ]
  },
  {
   "cell_type": "code",
   "execution_count": 15,
   "id": "ongoing-citizen",
   "metadata": {
    "scrolled": false
   },
   "outputs": [
    {
     "data": {
      "text/html": [
       "<div>\n",
       "<style scoped>\n",
       "    .dataframe tbody tr th:only-of-type {\n",
       "        vertical-align: middle;\n",
       "    }\n",
       "\n",
       "    .dataframe tbody tr th {\n",
       "        vertical-align: top;\n",
       "    }\n",
       "\n",
       "    .dataframe thead th {\n",
       "        text-align: right;\n",
       "    }\n",
       "</style>\n",
       "<table border=\"1\" class=\"dataframe\">\n",
       "  <thead>\n",
       "    <tr style=\"text-align: right;\">\n",
       "      <th></th>\n",
       "      <th>lp</th>\n",
       "      <th>date</th>\n",
       "      <th>item_id</th>\n",
       "      <th>categories</th>\n",
       "      <th>pay_option_on_delivery</th>\n",
       "      <th>pay_option_transfer</th>\n",
       "      <th>seller</th>\n",
       "      <th>it_is_allegro_standard</th>\n",
       "      <th>it_quantity</th>\n",
       "      <th>it_is_brand_zone</th>\n",
       "      <th>it_seller_rating</th>\n",
       "      <th>it_location</th>\n",
       "      <th>main_category</th>\n",
       "    </tr>\n",
       "  </thead>\n",
       "  <tbody>\n",
       "    <tr>\n",
       "      <th>0</th>\n",
       "      <td>0</td>\n",
       "      <td>2016-04-03 21:21:08</td>\n",
       "      <td>4753602474</td>\n",
       "      <td>['Komputery', 'Dyski i napędy', 'Nośniki', 'No...</td>\n",
       "      <td>1</td>\n",
       "      <td>1</td>\n",
       "      <td>radzioch666</td>\n",
       "      <td>1</td>\n",
       "      <td>997</td>\n",
       "      <td>0</td>\n",
       "      <td>50177</td>\n",
       "      <td>84.132898</td>\n",
       "      <td>Komputery</td>\n",
       "    </tr>\n",
       "    <tr>\n",
       "      <th>1</th>\n",
       "      <td>1</td>\n",
       "      <td>2016-04-03 15:35:26</td>\n",
       "      <td>4773181874</td>\n",
       "      <td>['Odzież, Obuwie, Dodatki', 'Bielizna damska',...</td>\n",
       "      <td>1</td>\n",
       "      <td>1</td>\n",
       "      <td>InwestycjeNET</td>\n",
       "      <td>1</td>\n",
       "      <td>9288</td>\n",
       "      <td>0</td>\n",
       "      <td>12428</td>\n",
       "      <td>84.132898</td>\n",
       "      <td>Odzież, Obuwie, Dodatki</td>\n",
       "    </tr>\n",
       "    <tr>\n",
       "      <th>2</th>\n",
       "      <td>2</td>\n",
       "      <td>2016-04-03 14:14:31</td>\n",
       "      <td>4781627074</td>\n",
       "      <td>['Dom i Ogród', 'Budownictwo i Akcesoria', 'Śc...</td>\n",
       "      <td>1</td>\n",
       "      <td>1</td>\n",
       "      <td>otostyl_com</td>\n",
       "      <td>1</td>\n",
       "      <td>895</td>\n",
       "      <td>0</td>\n",
       "      <td>7389</td>\n",
       "      <td>64.883187</td>\n",
       "      <td>Dom i Ogród</td>\n",
       "    </tr>\n",
       "  </tbody>\n",
       "</table>\n",
       "</div>"
      ],
      "text/plain": [
       "   lp                 date     item_id  \\\n",
       "0   0  2016-04-03 21:21:08  4753602474   \n",
       "1   1  2016-04-03 15:35:26  4773181874   \n",
       "2   2  2016-04-03 14:14:31  4781627074   \n",
       "\n",
       "                                          categories  pay_option_on_delivery  \\\n",
       "0  ['Komputery', 'Dyski i napędy', 'Nośniki', 'No...                       1   \n",
       "1  ['Odzież, Obuwie, Dodatki', 'Bielizna damska',...                       1   \n",
       "2  ['Dom i Ogród', 'Budownictwo i Akcesoria', 'Śc...                       1   \n",
       "\n",
       "   pay_option_transfer         seller  it_is_allegro_standard  it_quantity  \\\n",
       "0                    1    radzioch666                       1          997   \n",
       "1                    1  InwestycjeNET                       1         9288   \n",
       "2                    1    otostyl_com                       1          895   \n",
       "\n",
       "   it_is_brand_zone  it_seller_rating  it_location            main_category  \n",
       "0                 0             50177    84.132898                Komputery  \n",
       "1                 0             12428    84.132898  Odzież, Obuwie, Dodatki  \n",
       "2                 0              7389    64.883187              Dom i Ogród  "
      ]
     },
     "execution_count": 15,
     "metadata": {},
     "output_type": "execute_result"
    }
   ],
   "source": [
    "X= allegro.drop('price', axis =1)\n",
    "y= allegro.drop('it_location', axis=1)\n",
    "#aby nie powatarzać tych samych nazw tylko dlatego, że niektóre są z wielkiej litery użyjemy 'str.lower'\n",
    "X['it_location'] = X['it_location'].str.lower()\n",
    "\n",
    "encoder = ce.TargetEncoder(cols=['it_location'])\n",
    "encoder.fit(X,y['price'])\n",
    "allegro_target_coded=encoder.transform(X,y['price'])\n",
    "allegro_target_coded.head(3)"
   ]
  },
  {
   "cell_type": "markdown",
   "id": "satisfactory-catering",
   "metadata": {},
   "source": [
    "Dla porównania zobaczmy jak wyglądałby One Hot Encoding na it_location:`"
   ]
  },
  {
   "cell_type": "code",
   "execution_count": 26,
   "id": "least-implement",
   "metadata": {},
   "outputs": [
    {
     "data": {
      "text/html": [
       "<div>\n",
       "<style scoped>\n",
       "    .dataframe tbody tr th:only-of-type {\n",
       "        vertical-align: middle;\n",
       "    }\n",
       "\n",
       "    .dataframe tbody tr th {\n",
       "        vertical-align: top;\n",
       "    }\n",
       "\n",
       "    .dataframe thead th {\n",
       "        text-align: right;\n",
       "    }\n",
       "</style>\n",
       "<table border=\"1\" class=\"dataframe\">\n",
       "  <thead>\n",
       "    <tr style=\"text-align: right;\">\n",
       "      <th></th>\n",
       "      <th>\\twarszawa,wrocław,częstochowa</th>\n",
       "      <th>*</th>\n",
       "      <th>dzierżoniów</th>\n",
       "      <th>warszawa janki</th>\n",
       "      <th>- ząbki  koło warszawy</th>\n",
       "      <th>18 miast i wysyłkowo cała polska</th>\n",
       "      <th>@</th>\n",
       "      <th>_</th>\n",
       "      <th>cały kraj</th>\n",
       "      <th>chotomów</th>\n",
       "      <th>...</th>\n",
       "      <th>żyrzyn</th>\n",
       "      <th>żytniów</th>\n",
       "      <th>żytno</th>\n",
       "      <th>żywiec</th>\n",
       "      <th>żywiec ul. browarna 75</th>\n",
       "      <th>żywiec- bielsko-katowice-gliwice</th>\n",
       "      <th>żórawina</th>\n",
       "      <th>żółkiewka</th>\n",
       "      <th>żędowice</th>\n",
       "      <th>↑╔╩═╬╤╤╝←</th>\n",
       "    </tr>\n",
       "  </thead>\n",
       "  <tbody>\n",
       "    <tr>\n",
       "      <th>0</th>\n",
       "      <td>0</td>\n",
       "      <td>0</td>\n",
       "      <td>0</td>\n",
       "      <td>0</td>\n",
       "      <td>0</td>\n",
       "      <td>0</td>\n",
       "      <td>0</td>\n",
       "      <td>0</td>\n",
       "      <td>0</td>\n",
       "      <td>0</td>\n",
       "      <td>...</td>\n",
       "      <td>0</td>\n",
       "      <td>0</td>\n",
       "      <td>0</td>\n",
       "      <td>0</td>\n",
       "      <td>0</td>\n",
       "      <td>0</td>\n",
       "      <td>0</td>\n",
       "      <td>0</td>\n",
       "      <td>0</td>\n",
       "      <td>0</td>\n",
       "    </tr>\n",
       "    <tr>\n",
       "      <th>1</th>\n",
       "      <td>0</td>\n",
       "      <td>0</td>\n",
       "      <td>0</td>\n",
       "      <td>0</td>\n",
       "      <td>0</td>\n",
       "      <td>0</td>\n",
       "      <td>0</td>\n",
       "      <td>0</td>\n",
       "      <td>0</td>\n",
       "      <td>0</td>\n",
       "      <td>...</td>\n",
       "      <td>0</td>\n",
       "      <td>0</td>\n",
       "      <td>0</td>\n",
       "      <td>0</td>\n",
       "      <td>0</td>\n",
       "      <td>0</td>\n",
       "      <td>0</td>\n",
       "      <td>0</td>\n",
       "      <td>0</td>\n",
       "      <td>0</td>\n",
       "    </tr>\n",
       "    <tr>\n",
       "      <th>2</th>\n",
       "      <td>0</td>\n",
       "      <td>0</td>\n",
       "      <td>0</td>\n",
       "      <td>0</td>\n",
       "      <td>0</td>\n",
       "      <td>0</td>\n",
       "      <td>0</td>\n",
       "      <td>0</td>\n",
       "      <td>0</td>\n",
       "      <td>0</td>\n",
       "      <td>...</td>\n",
       "      <td>0</td>\n",
       "      <td>0</td>\n",
       "      <td>0</td>\n",
       "      <td>0</td>\n",
       "      <td>0</td>\n",
       "      <td>0</td>\n",
       "      <td>0</td>\n",
       "      <td>0</td>\n",
       "      <td>0</td>\n",
       "      <td>0</td>\n",
       "    </tr>\n",
       "  </tbody>\n",
       "</table>\n",
       "<p>3 rows × 7903 columns</p>\n",
       "</div>"
      ],
      "text/plain": [
       "    \\twarszawa,wrocław,częstochowa      *      dzierżoniów    warszawa janki  \\\n",
       "0                                0      0                0                 0   \n",
       "1                                0      0                0                 0   \n",
       "2                                0      0                0                 0   \n",
       "\n",
       "    - ząbki  koło warszawy   18 miast i wysyłkowo cała polska   @   _  \\\n",
       "0                        0                                  0   0   0   \n",
       "1                        0                                  0   0   0   \n",
       "2                        0                                  0   0   0   \n",
       "\n",
       "    cały kraj   chotomów  ...  żyrzyn  żytniów  żytno  żywiec  \\\n",
       "0           0          0  ...       0        0      0       0   \n",
       "1           0          0  ...       0        0      0       0   \n",
       "2           0          0  ...       0        0      0       0   \n",
       "\n",
       "   żywiec ul. browarna 75  żywiec- bielsko-katowice-gliwice  żórawina  \\\n",
       "0                       0                                 0         0   \n",
       "1                       0                                 0         0   \n",
       "2                       0                                 0         0   \n",
       "\n",
       "   żółkiewka  żędowice  ↑╔╩═╬╤╤╝←  \n",
       "0          0         0          0  \n",
       "1          0         0          0  \n",
       "2          0         0          0  \n",
       "\n",
       "[3 rows x 7903 columns]"
      ]
     },
     "execution_count": 26,
     "metadata": {},
     "output_type": "execute_result"
    }
   ],
   "source": [
    "copy = allegro.copy(deep=True)\n",
    "copy['it_location'] = copy['it_location'].str.lower()\n",
    "\n",
    "allegro_ohe_coded = pd.get_dummies(copy.it_location)\n",
    "allegro_ohe_coded.head(3)"
   ]
  },
  {
   "cell_type": "markdown",
   "id": "combined-hampshire",
   "metadata": {},
   "source": [
    "### Target Encoding a One-Hot Encoding\n",
    "\n",
    "#### Plusy Target encodingu\n",
    "* niewątpliwą przewagą jest to że nie dodajemy kolumn do tabeli (w One-Hot Encoding może ich się pojawić bardzo dużo, jak w powyżej)\n",
    "* niesie dodatkowe informacje o targecie i kategoriach\n",
    "\n",
    "#### Plusy One-Hot Encodingu\n",
    "* eliminuje problem kiedy w kolumnie mamy duże wartości kategoryczne, ponieważ po encodingu a kolumna jest w postaci binarnej - 1 lub 0\n",
    "* wymaga weryfikacji ponieważ może powodować  overfitting\n",
    "\n"
   ]
  },
  {
   "cell_type": "markdown",
   "id": "french-carbon",
   "metadata": {},
   "source": [
    "## Inne Rodzaje Encoding-u\n",
    "### One Hot Encoding\n"
   ]
  },
  {
   "cell_type": "code",
   "execution_count": 21,
   "id": "brown-consistency",
   "metadata": {
    "scrolled": false
   },
   "outputs": [
    {
     "data": {
      "text/html": [
       "<div>\n",
       "<style scoped>\n",
       "    .dataframe tbody tr th:only-of-type {\n",
       "        vertical-align: middle;\n",
       "    }\n",
       "\n",
       "    .dataframe tbody tr th {\n",
       "        vertical-align: top;\n",
       "    }\n",
       "\n",
       "    .dataframe thead th {\n",
       "        text-align: right;\n",
       "    }\n",
       "</style>\n",
       "<table border=\"1\" class=\"dataframe\">\n",
       "  <thead>\n",
       "    <tr style=\"text-align: right;\">\n",
       "      <th></th>\n",
       "      <th>lp</th>\n",
       "      <th>date</th>\n",
       "      <th>item_id</th>\n",
       "      <th>categories</th>\n",
       "      <th>pay_option_on_delivery</th>\n",
       "      <th>pay_option_transfer</th>\n",
       "      <th>seller</th>\n",
       "      <th>price</th>\n",
       "      <th>it_is_allegro_standard</th>\n",
       "      <th>it_quantity</th>\n",
       "      <th>...</th>\n",
       "      <th>Nieruchomości</th>\n",
       "      <th>Odzież, Obuwie, Dodatki</th>\n",
       "      <th>Przemysł</th>\n",
       "      <th>RTV i AGD</th>\n",
       "      <th>Rękodzieło</th>\n",
       "      <th>Sport i Turystyka</th>\n",
       "      <th>Sprzęt estradowy, studyjny i DJ-ski</th>\n",
       "      <th>Telefony i Akcesoria</th>\n",
       "      <th>Uroda</th>\n",
       "      <th>Zdrowie</th>\n",
       "    </tr>\n",
       "  </thead>\n",
       "  <tbody>\n",
       "    <tr>\n",
       "      <th>0</th>\n",
       "      <td>0</td>\n",
       "      <td>2016-04-03 21:21:08</td>\n",
       "      <td>4753602474</td>\n",
       "      <td>['Komputery', 'Dyski i napędy', 'Nośniki', 'No...</td>\n",
       "      <td>1</td>\n",
       "      <td>1</td>\n",
       "      <td>radzioch666</td>\n",
       "      <td>59.99</td>\n",
       "      <td>1</td>\n",
       "      <td>997</td>\n",
       "      <td>...</td>\n",
       "      <td>0</td>\n",
       "      <td>0</td>\n",
       "      <td>0</td>\n",
       "      <td>0</td>\n",
       "      <td>0</td>\n",
       "      <td>0</td>\n",
       "      <td>0</td>\n",
       "      <td>0</td>\n",
       "      <td>0</td>\n",
       "      <td>0</td>\n",
       "    </tr>\n",
       "    <tr>\n",
       "      <th>1</th>\n",
       "      <td>1</td>\n",
       "      <td>2016-04-03 15:35:26</td>\n",
       "      <td>4773181874</td>\n",
       "      <td>['Odzież, Obuwie, Dodatki', 'Bielizna damska',...</td>\n",
       "      <td>1</td>\n",
       "      <td>1</td>\n",
       "      <td>InwestycjeNET</td>\n",
       "      <td>4.90</td>\n",
       "      <td>1</td>\n",
       "      <td>9288</td>\n",
       "      <td>...</td>\n",
       "      <td>0</td>\n",
       "      <td>1</td>\n",
       "      <td>0</td>\n",
       "      <td>0</td>\n",
       "      <td>0</td>\n",
       "      <td>0</td>\n",
       "      <td>0</td>\n",
       "      <td>0</td>\n",
       "      <td>0</td>\n",
       "      <td>0</td>\n",
       "    </tr>\n",
       "    <tr>\n",
       "      <th>2</th>\n",
       "      <td>2</td>\n",
       "      <td>2016-04-03 14:14:31</td>\n",
       "      <td>4781627074</td>\n",
       "      <td>['Dom i Ogród', 'Budownictwo i Akcesoria', 'Śc...</td>\n",
       "      <td>1</td>\n",
       "      <td>1</td>\n",
       "      <td>otostyl_com</td>\n",
       "      <td>109.90</td>\n",
       "      <td>1</td>\n",
       "      <td>895</td>\n",
       "      <td>...</td>\n",
       "      <td>0</td>\n",
       "      <td>0</td>\n",
       "      <td>0</td>\n",
       "      <td>0</td>\n",
       "      <td>0</td>\n",
       "      <td>0</td>\n",
       "      <td>0</td>\n",
       "      <td>0</td>\n",
       "      <td>0</td>\n",
       "      <td>0</td>\n",
       "    </tr>\n",
       "  </tbody>\n",
       "</table>\n",
       "<p>3 rows × 41 columns</p>\n",
       "</div>"
      ],
      "text/plain": [
       "   lp                 date     item_id  \\\n",
       "0   0  2016-04-03 21:21:08  4753602474   \n",
       "1   1  2016-04-03 15:35:26  4773181874   \n",
       "2   2  2016-04-03 14:14:31  4781627074   \n",
       "\n",
       "                                          categories  pay_option_on_delivery  \\\n",
       "0  ['Komputery', 'Dyski i napędy', 'Nośniki', 'No...                       1   \n",
       "1  ['Odzież, Obuwie, Dodatki', 'Bielizna damska',...                       1   \n",
       "2  ['Dom i Ogród', 'Budownictwo i Akcesoria', 'Śc...                       1   \n",
       "\n",
       "   pay_option_transfer         seller   price  it_is_allegro_standard  \\\n",
       "0                    1    radzioch666   59.99                       1   \n",
       "1                    1  InwestycjeNET    4.90                       1   \n",
       "2                    1    otostyl_com  109.90                       1   \n",
       "\n",
       "   it_quantity  ...  Nieruchomości  Odzież, Obuwie, Dodatki Przemysł  \\\n",
       "0          997  ...              0                        0        0   \n",
       "1         9288  ...              0                        1        0   \n",
       "2          895  ...              0                        0        0   \n",
       "\n",
       "  RTV i AGD  Rękodzieło  Sport i Turystyka  \\\n",
       "0         0           0                  0   \n",
       "1         0           0                  0   \n",
       "2         0           0                  0   \n",
       "\n",
       "   Sprzęt estradowy, studyjny i DJ-ski  Telefony i Akcesoria  Uroda  Zdrowie  \n",
       "0                                    0                     0      0        0  \n",
       "1                                    0                     0      0        0  \n",
       "2                                    0                     0      0        0  \n",
       "\n",
       "[3 rows x 41 columns]"
      ]
     },
     "execution_count": 21,
     "metadata": {},
     "output_type": "execute_result"
    }
   ],
   "source": [
    "allegro_ohe_main = pd.get_dummies(allegro.main_category, sparse=True)\n",
    "allegro_ohe_main = pd.concat([allegro, allegro_ohe_main], axis=1)\n",
    "allegro_ohe_main.head(3)"
   ]
  },
  {
   "cell_type": "markdown",
   "id": "worthy-montreal",
   "metadata": {},
   "source": [
    "## Count Encoder\n",
    "Count encoder zastępuje wartość w kolumnie ilością wystapień tej wartości w całej tabeli. To działa i jest przydatne, bo rzadko występujące wartości będą miały podobne kody, a wartości występujące bardzo często raczej nie będą miały takiej samej liczności. Dodatkowo niesie ze sobą dodatkową informację o częstotliwości występowania danych kategorii. "
   ]
  },
  {
   "cell_type": "code",
   "execution_count": 9,
   "id": "normal-marketplace",
   "metadata": {
    "scrolled": false
   },
   "outputs": [
    {
     "data": {
      "text/html": [
       "<div>\n",
       "<style scoped>\n",
       "    .dataframe tbody tr th:only-of-type {\n",
       "        vertical-align: middle;\n",
       "    }\n",
       "\n",
       "    .dataframe tbody tr th {\n",
       "        vertical-align: top;\n",
       "    }\n",
       "\n",
       "    .dataframe thead th {\n",
       "        text-align: right;\n",
       "    }\n",
       "</style>\n",
       "<table border=\"1\" class=\"dataframe\">\n",
       "  <thead>\n",
       "    <tr style=\"text-align: right;\">\n",
       "      <th></th>\n",
       "      <th>lp</th>\n",
       "      <th>date</th>\n",
       "      <th>item_id</th>\n",
       "      <th>categories</th>\n",
       "      <th>pay_option_on_delivery</th>\n",
       "      <th>pay_option_transfer</th>\n",
       "      <th>seller</th>\n",
       "      <th>price</th>\n",
       "      <th>it_is_allegro_standard</th>\n",
       "      <th>it_quantity</th>\n",
       "      <th>it_is_brand_zone</th>\n",
       "      <th>it_seller_rating</th>\n",
       "      <th>it_location</th>\n",
       "      <th>main_category</th>\n",
       "    </tr>\n",
       "  </thead>\n",
       "  <tbody>\n",
       "    <tr>\n",
       "      <th>0</th>\n",
       "      <td>0</td>\n",
       "      <td>2016-04-03 21:21:08</td>\n",
       "      <td>4753602474</td>\n",
       "      <td>['Komputery', 'Dyski i napędy', 'Nośniki', 'No...</td>\n",
       "      <td>1</td>\n",
       "      <td>1</td>\n",
       "      <td>radzioch666</td>\n",
       "      <td>59.99</td>\n",
       "      <td>1</td>\n",
       "      <td>997</td>\n",
       "      <td>0</td>\n",
       "      <td>50177</td>\n",
       "      <td>Warszawa</td>\n",
       "      <td>14491</td>\n",
       "    </tr>\n",
       "    <tr>\n",
       "      <th>1</th>\n",
       "      <td>1</td>\n",
       "      <td>2016-04-03 15:35:26</td>\n",
       "      <td>4773181874</td>\n",
       "      <td>['Odzież, Obuwie, Dodatki', 'Bielizna damska',...</td>\n",
       "      <td>1</td>\n",
       "      <td>1</td>\n",
       "      <td>InwestycjeNET</td>\n",
       "      <td>4.90</td>\n",
       "      <td>1</td>\n",
       "      <td>9288</td>\n",
       "      <td>0</td>\n",
       "      <td>12428</td>\n",
       "      <td>Warszawa</td>\n",
       "      <td>54257</td>\n",
       "    </tr>\n",
       "    <tr>\n",
       "      <th>2</th>\n",
       "      <td>2</td>\n",
       "      <td>2016-04-03 14:14:31</td>\n",
       "      <td>4781627074</td>\n",
       "      <td>['Dom i Ogród', 'Budownictwo i Akcesoria', 'Śc...</td>\n",
       "      <td>1</td>\n",
       "      <td>1</td>\n",
       "      <td>otostyl_com</td>\n",
       "      <td>109.90</td>\n",
       "      <td>1</td>\n",
       "      <td>895</td>\n",
       "      <td>0</td>\n",
       "      <td>7389</td>\n",
       "      <td>Leszno</td>\n",
       "      <td>91042</td>\n",
       "    </tr>\n",
       "    <tr>\n",
       "      <th>3</th>\n",
       "      <td>3</td>\n",
       "      <td>2016-04-03 19:55:44</td>\n",
       "      <td>4783971474</td>\n",
       "      <td>['Książki i Komiksy', 'Poradniki i albumy', 'Z...</td>\n",
       "      <td>1</td>\n",
       "      <td>1</td>\n",
       "      <td>Matfel1</td>\n",
       "      <td>18.50</td>\n",
       "      <td>0</td>\n",
       "      <td>971</td>\n",
       "      <td>0</td>\n",
       "      <td>15006</td>\n",
       "      <td>Wola Krzysztoporska</td>\n",
       "      <td>11572</td>\n",
       "    </tr>\n",
       "    <tr>\n",
       "      <th>4</th>\n",
       "      <td>4</td>\n",
       "      <td>2016-04-03 18:05:54</td>\n",
       "      <td>4787908274</td>\n",
       "      <td>['Odzież, Obuwie, Dodatki', 'Ślub i wesele', '...</td>\n",
       "      <td>1</td>\n",
       "      <td>1</td>\n",
       "      <td>PPHU_RICO</td>\n",
       "      <td>19.90</td>\n",
       "      <td>1</td>\n",
       "      <td>950</td>\n",
       "      <td>0</td>\n",
       "      <td>32975</td>\n",
       "      <td>BIAŁYSTOK</td>\n",
       "      <td>54257</td>\n",
       "    </tr>\n",
       "  </tbody>\n",
       "</table>\n",
       "</div>"
      ],
      "text/plain": [
       "   lp                 date     item_id  \\\n",
       "0   0  2016-04-03 21:21:08  4753602474   \n",
       "1   1  2016-04-03 15:35:26  4773181874   \n",
       "2   2  2016-04-03 14:14:31  4781627074   \n",
       "3   3  2016-04-03 19:55:44  4783971474   \n",
       "4   4  2016-04-03 18:05:54  4787908274   \n",
       "\n",
       "                                          categories  pay_option_on_delivery  \\\n",
       "0  ['Komputery', 'Dyski i napędy', 'Nośniki', 'No...                       1   \n",
       "1  ['Odzież, Obuwie, Dodatki', 'Bielizna damska',...                       1   \n",
       "2  ['Dom i Ogród', 'Budownictwo i Akcesoria', 'Śc...                       1   \n",
       "3  ['Książki i Komiksy', 'Poradniki i albumy', 'Z...                       1   \n",
       "4  ['Odzież, Obuwie, Dodatki', 'Ślub i wesele', '...                       1   \n",
       "\n",
       "   pay_option_transfer         seller   price  it_is_allegro_standard  \\\n",
       "0                    1    radzioch666   59.99                       1   \n",
       "1                    1  InwestycjeNET    4.90                       1   \n",
       "2                    1    otostyl_com  109.90                       1   \n",
       "3                    1        Matfel1   18.50                       0   \n",
       "4                    1      PPHU_RICO   19.90                       1   \n",
       "\n",
       "   it_quantity  it_is_brand_zone  it_seller_rating          it_location  \\\n",
       "0          997                 0             50177             Warszawa   \n",
       "1         9288                 0             12428             Warszawa   \n",
       "2          895                 0              7389               Leszno   \n",
       "3          971                 0             15006  Wola Krzysztoporska   \n",
       "4          950                 0             32975            BIAŁYSTOK   \n",
       "\n",
       "   main_category  \n",
       "0          14491  \n",
       "1          54257  \n",
       "2          91042  \n",
       "3          11572  \n",
       "4          54257  "
      ]
     },
     "execution_count": 9,
     "metadata": {},
     "output_type": "execute_result"
    }
   ],
   "source": [
    "encoder = ce.count.CountEncoder(cols=['main_category'], return_df=True)\n",
    "encoder.fit(allegro, allegro['price'])\n",
    "allegro_ce_main = encoder.transform(allegro)\n",
    "\n",
    "allegro_ce_main.head()"
   ]
  },
  {
   "cell_type": "markdown",
   "id": "laden-vessel",
   "metadata": {},
   "source": [
    "## Binary Encoder\n",
    "\n",
    "Binary encoder najpierw przekształca warotść na liczbową tak jak w Ordinal Encoder, następnie liczby są przekształcane na liczbę w systemie binarną, następnie wartość binarna jest dzielona na różne kolumny. Ten sposób działa dobrze w przypadku dużej liczby kategorii."
   ]
  },
  {
   "cell_type": "code",
   "execution_count": 46,
   "id": "august-atmosphere",
   "metadata": {
    "scrolled": false
   },
   "outputs": [
    {
     "data": {
      "text/html": [
       "<div>\n",
       "<style scoped>\n",
       "    .dataframe tbody tr th:only-of-type {\n",
       "        vertical-align: middle;\n",
       "    }\n",
       "\n",
       "    .dataframe tbody tr th {\n",
       "        vertical-align: top;\n",
       "    }\n",
       "\n",
       "    .dataframe thead th {\n",
       "        text-align: right;\n",
       "    }\n",
       "</style>\n",
       "<table border=\"1\" class=\"dataframe\">\n",
       "  <thead>\n",
       "    <tr style=\"text-align: right;\">\n",
       "      <th></th>\n",
       "      <th>lp</th>\n",
       "      <th>date</th>\n",
       "      <th>item_id</th>\n",
       "      <th>categories</th>\n",
       "      <th>pay_option_on_delivery</th>\n",
       "      <th>pay_option_transfer</th>\n",
       "      <th>seller</th>\n",
       "      <th>price</th>\n",
       "      <th>it_is_allegro_standard</th>\n",
       "      <th>it_quantity</th>\n",
       "      <th>it_is_brand_zone</th>\n",
       "      <th>it_seller_rating</th>\n",
       "      <th>it_location</th>\n",
       "      <th>main_category_0</th>\n",
       "      <th>main_category_1</th>\n",
       "      <th>main_category_2</th>\n",
       "      <th>main_category_3</th>\n",
       "      <th>main_category_4</th>\n",
       "      <th>main_category_5</th>\n",
       "    </tr>\n",
       "  </thead>\n",
       "  <tbody>\n",
       "    <tr>\n",
       "      <th>0</th>\n",
       "      <td>0</td>\n",
       "      <td>2016-04-03 21:21:08</td>\n",
       "      <td>4753602474</td>\n",
       "      <td>['Komputery', 'Dyski i napędy', 'Nośniki', 'No...</td>\n",
       "      <td>1</td>\n",
       "      <td>1</td>\n",
       "      <td>radzioch666</td>\n",
       "      <td>59.99</td>\n",
       "      <td>1</td>\n",
       "      <td>997</td>\n",
       "      <td>0</td>\n",
       "      <td>50177</td>\n",
       "      <td>Warszawa</td>\n",
       "      <td>0</td>\n",
       "      <td>0</td>\n",
       "      <td>0</td>\n",
       "      <td>0</td>\n",
       "      <td>0</td>\n",
       "      <td>1</td>\n",
       "    </tr>\n",
       "    <tr>\n",
       "      <th>1</th>\n",
       "      <td>1</td>\n",
       "      <td>2016-04-03 15:35:26</td>\n",
       "      <td>4773181874</td>\n",
       "      <td>['Odzież, Obuwie, Dodatki', 'Bielizna damska',...</td>\n",
       "      <td>1</td>\n",
       "      <td>1</td>\n",
       "      <td>InwestycjeNET</td>\n",
       "      <td>4.90</td>\n",
       "      <td>1</td>\n",
       "      <td>9288</td>\n",
       "      <td>0</td>\n",
       "      <td>12428</td>\n",
       "      <td>Warszawa</td>\n",
       "      <td>0</td>\n",
       "      <td>0</td>\n",
       "      <td>0</td>\n",
       "      <td>0</td>\n",
       "      <td>1</td>\n",
       "      <td>0</td>\n",
       "    </tr>\n",
       "    <tr>\n",
       "      <th>2</th>\n",
       "      <td>2</td>\n",
       "      <td>2016-04-03 14:14:31</td>\n",
       "      <td>4781627074</td>\n",
       "      <td>['Dom i Ogród', 'Budownictwo i Akcesoria', 'Śc...</td>\n",
       "      <td>1</td>\n",
       "      <td>1</td>\n",
       "      <td>otostyl_com</td>\n",
       "      <td>109.90</td>\n",
       "      <td>1</td>\n",
       "      <td>895</td>\n",
       "      <td>0</td>\n",
       "      <td>7389</td>\n",
       "      <td>Leszno</td>\n",
       "      <td>0</td>\n",
       "      <td>0</td>\n",
       "      <td>0</td>\n",
       "      <td>0</td>\n",
       "      <td>1</td>\n",
       "      <td>1</td>\n",
       "    </tr>\n",
       "    <tr>\n",
       "      <th>3</th>\n",
       "      <td>3</td>\n",
       "      <td>2016-04-03 19:55:44</td>\n",
       "      <td>4783971474</td>\n",
       "      <td>['Książki i Komiksy', 'Poradniki i albumy', 'Z...</td>\n",
       "      <td>1</td>\n",
       "      <td>1</td>\n",
       "      <td>Matfel1</td>\n",
       "      <td>18.50</td>\n",
       "      <td>0</td>\n",
       "      <td>971</td>\n",
       "      <td>0</td>\n",
       "      <td>15006</td>\n",
       "      <td>Wola Krzysztoporska</td>\n",
       "      <td>0</td>\n",
       "      <td>0</td>\n",
       "      <td>0</td>\n",
       "      <td>1</td>\n",
       "      <td>0</td>\n",
       "      <td>0</td>\n",
       "    </tr>\n",
       "    <tr>\n",
       "      <th>4</th>\n",
       "      <td>4</td>\n",
       "      <td>2016-04-03 18:05:54</td>\n",
       "      <td>4787908274</td>\n",
       "      <td>['Odzież, Obuwie, Dodatki', 'Ślub i wesele', '...</td>\n",
       "      <td>1</td>\n",
       "      <td>1</td>\n",
       "      <td>PPHU_RICO</td>\n",
       "      <td>19.90</td>\n",
       "      <td>1</td>\n",
       "      <td>950</td>\n",
       "      <td>0</td>\n",
       "      <td>32975</td>\n",
       "      <td>BIAŁYSTOK</td>\n",
       "      <td>0</td>\n",
       "      <td>0</td>\n",
       "      <td>0</td>\n",
       "      <td>0</td>\n",
       "      <td>1</td>\n",
       "      <td>0</td>\n",
       "    </tr>\n",
       "  </tbody>\n",
       "</table>\n",
       "</div>"
      ],
      "text/plain": [
       "   lp                 date     item_id  \\\n",
       "0   0  2016-04-03 21:21:08  4753602474   \n",
       "1   1  2016-04-03 15:35:26  4773181874   \n",
       "2   2  2016-04-03 14:14:31  4781627074   \n",
       "3   3  2016-04-03 19:55:44  4783971474   \n",
       "4   4  2016-04-03 18:05:54  4787908274   \n",
       "\n",
       "                                          categories  pay_option_on_delivery  \\\n",
       "0  ['Komputery', 'Dyski i napędy', 'Nośniki', 'No...                       1   \n",
       "1  ['Odzież, Obuwie, Dodatki', 'Bielizna damska',...                       1   \n",
       "2  ['Dom i Ogród', 'Budownictwo i Akcesoria', 'Śc...                       1   \n",
       "3  ['Książki i Komiksy', 'Poradniki i albumy', 'Z...                       1   \n",
       "4  ['Odzież, Obuwie, Dodatki', 'Ślub i wesele', '...                       1   \n",
       "\n",
       "   pay_option_transfer         seller   price  it_is_allegro_standard  \\\n",
       "0                    1    radzioch666   59.99                       1   \n",
       "1                    1  InwestycjeNET    4.90                       1   \n",
       "2                    1    otostyl_com  109.90                       1   \n",
       "3                    1        Matfel1   18.50                       0   \n",
       "4                    1      PPHU_RICO   19.90                       1   \n",
       "\n",
       "   it_quantity  it_is_brand_zone  it_seller_rating          it_location  \\\n",
       "0          997                 0             50177             Warszawa   \n",
       "1         9288                 0             12428             Warszawa   \n",
       "2          895                 0              7389               Leszno   \n",
       "3          971                 0             15006  Wola Krzysztoporska   \n",
       "4          950                 0             32975            BIAŁYSTOK   \n",
       "\n",
       "   main_category_0  main_category_1  main_category_2  main_category_3  \\\n",
       "0                0                0                0                0   \n",
       "1                0                0                0                0   \n",
       "2                0                0                0                0   \n",
       "3                0                0                0                1   \n",
       "4                0                0                0                0   \n",
       "\n",
       "   main_category_4  main_category_5  \n",
       "0                0                1  \n",
       "1                1                0  \n",
       "2                1                1  \n",
       "3                0                0  \n",
       "4                1                0  "
      ]
     },
     "execution_count": 46,
     "metadata": {},
     "output_type": "execute_result"
    }
   ],
   "source": [
    "encoder = ce.binary.BinaryEncoder(cols=['main_category'], return_df=True)\n",
    "encoder.fit(allegro, allegro['price'])\n",
    "allegro_be_main = encoder.transform(allegro)\n",
    "\n",
    "allegro_be_main.head()"
   ]
  },
  {
   "cell_type": "markdown",
   "id": "lyric-shore",
   "metadata": {},
   "source": [
    "# Zadanie 2\n",
    "## Multivariate Imputation - Iterative Imputer"
   ]
  },
  {
   "cell_type": "markdown",
   "id": "statewide-contract",
   "metadata": {},
   "source": [
    "### Tylko jedna kategoria"
   ]
  },
  {
   "cell_type": "code",
   "execution_count": 28,
   "id": "powerful-shepherd",
   "metadata": {
    "scrolled": false
   },
   "outputs": [
    {
     "data": {
      "text/html": [
       "<div>\n",
       "<style scoped>\n",
       "    .dataframe tbody tr th:only-of-type {\n",
       "        vertical-align: middle;\n",
       "    }\n",
       "\n",
       "    .dataframe tbody tr th {\n",
       "        vertical-align: top;\n",
       "    }\n",
       "\n",
       "    .dataframe thead th {\n",
       "        text-align: right;\n",
       "    }\n",
       "</style>\n",
       "<table border=\"1\" class=\"dataframe\">\n",
       "  <thead>\n",
       "    <tr style=\"text-align: right;\">\n",
       "      <th></th>\n",
       "      <th>price</th>\n",
       "      <th>it_seller_rating</th>\n",
       "      <th>it_quantity</th>\n",
       "    </tr>\n",
       "  </thead>\n",
       "  <tbody>\n",
       "    <tr>\n",
       "      <th>0</th>\n",
       "      <td>59.99</td>\n",
       "      <td>NaN</td>\n",
       "      <td>997</td>\n",
       "    </tr>\n",
       "    <tr>\n",
       "      <th>1</th>\n",
       "      <td>4.90</td>\n",
       "      <td>12428.0</td>\n",
       "      <td>9288</td>\n",
       "    </tr>\n",
       "    <tr>\n",
       "      <th>2</th>\n",
       "      <td>109.90</td>\n",
       "      <td>7389.0</td>\n",
       "      <td>895</td>\n",
       "    </tr>\n",
       "    <tr>\n",
       "      <th>3</th>\n",
       "      <td>18.50</td>\n",
       "      <td>15006.0</td>\n",
       "      <td>971</td>\n",
       "    </tr>\n",
       "    <tr>\n",
       "      <th>4</th>\n",
       "      <td>19.90</td>\n",
       "      <td>NaN</td>\n",
       "      <td>950</td>\n",
       "    </tr>\n",
       "  </tbody>\n",
       "</table>\n",
       "</div>"
      ],
      "text/plain": [
       "    price  it_seller_rating  it_quantity\n",
       "0   59.99               NaN          997\n",
       "1    4.90           12428.0         9288\n",
       "2  109.90            7389.0          895\n",
       "3   18.50           15006.0          971\n",
       "4   19.90               NaN          950"
      ]
     },
     "execution_count": 28,
     "metadata": {},
     "output_type": "execute_result"
    }
   ],
   "source": [
    "#wylosowanie numerów wierszy, w których pojawią NaN-y\n",
    "l = random.sample(range(0, len(allegro['main_category'])), round(len(allegro['main_category'])/10))\n",
    "tmp = allegro.copy(deep=True)\n",
    "tmp = tmp[['price', 'it_seller_rating','it_quantity']]\n",
    "tmp.loc[l, 'it_seller_rating'] = np.NaN\n",
    "tmp.head()"
   ]
  },
  {
   "cell_type": "code",
   "execution_count": 29,
   "id": "indoor-glossary",
   "metadata": {
    "scrolled": false
   },
   "outputs": [],
   "source": [
    "allegro_data = allegro.values\n",
    "data = tmp.values\n",
    "ix = [i for i in range(data.shape[1]) if i != 0]\n",
    "X, y = data[:, ix], data[:, 0]\n",
    "imputer = IterativeImputer()\n",
    "imputer.fit(X)\n",
    "Xtrans = imputer.transform(X) "
   ]
  },
  {
   "cell_type": "code",
   "execution_count": 30,
   "id": "medium-vienna",
   "metadata": {},
   "outputs": [
    {
     "name": "stdout",
     "output_type": "stream",
     "text": [
      "Missing: 42002\n",
      "Missing: 0\n"
     ]
    }
   ],
   "source": [
    "#dla sprawdzenia czy wszystko wykonało się poprawnie\n",
    "print('Missing: %d' % sum(isnan(X).flatten()))\n",
    "print('Missing: %d' % sum(isnan(Xtrans).flatten()))"
   ]
  },
  {
   "cell_type": "code",
   "execution_count": 31,
   "id": "vanilla-officer",
   "metadata": {},
   "outputs": [
    {
     "name": "stdout",
     "output_type": "stream",
     "text": [
      "36106.50356228659\n"
     ]
    }
   ],
   "source": [
    "#policzmy błąd za pomocą RMSE\n",
    "rmse = mean_squared_error(Xtrans[l,0], allegro_data[l,11] , squared=False)\n",
    "print(rmse)"
   ]
  },
  {
   "cell_type": "code",
   "execution_count": 32,
   "id": "floppy-highway",
   "metadata": {},
   "outputs": [
    {
     "name": "stdout",
     "output_type": "stream",
     "text": [
      "20402.59349554783\n"
     ]
    }
   ],
   "source": [
    "#zbadajmy średnią wartości w kolumnie 'it_seller_rating' żeby zbadać jak duży jest błąd\n",
    "print(allegro['it_seller_rating'].mean())"
   ]
  },
  {
   "cell_type": "markdown",
   "id": "photographic-operator",
   "metadata": {},
   "source": [
    "### 10 iteracji dla jednej kategorii"
   ]
  },
  {
   "cell_type": "code",
   "execution_count": 33,
   "id": "random-variance",
   "metadata": {},
   "outputs": [],
   "source": [
    "errors = []\n",
    "for i in range(10):\n",
    "    l = random.sample(range(0, len(allegro['main_category'])), round(len(allegro['main_category'])/10))\n",
    "    tmp = allegro.copy(deep=True)\n",
    "    tmp = tmp[['price', 'it_seller_rating','it_quantity']]\n",
    "    tmp.loc[l, 'it_seller_rating'] = np.NaN\n",
    "    data = tmp.values\n",
    "    ix = [i for i in range(data.shape[1]) if i != 0]\n",
    "    X, y = data[:, ix], data[:, 0]\n",
    "    imputer = IterativeImputer()\n",
    "    imputer.fit(X)\n",
    "    Xtrans = imputer.transform(X) \n",
    "    rmse = mean_squared_error(Xtrans[l,0], allegro_data[l,11] , squared=False)\n",
    "    errors.append(rmse)"
   ]
  },
  {
   "cell_type": "code",
   "execution_count": 34,
   "id": "japanese-playlist",
   "metadata": {
    "scrolled": false
   },
   "outputs": [
    {
     "name": "stdout",
     "output_type": "stream",
     "text": [
      "289.6797147522258\n"
     ]
    }
   ],
   "source": [
    "std = np.std(errors, axis=0)\n",
    "print(std)"
   ]
  },
  {
   "cell_type": "markdown",
   "id": "turkish-fifteen",
   "metadata": {},
   "source": [
    "### Wizualizacja wyniku"
   ]
  },
  {
   "cell_type": "code",
   "execution_count": 35,
   "id": "annoying-restriction",
   "metadata": {},
   "outputs": [
    {
     "data": {
      "image/png": "[encoded data removed]",
      "text/plain": [
       "<Figure size 432x288 with 1 Axes>"
      ]
     },
     "metadata": {
      "needs_background": "light"
     },
     "output_type": "display_data"
    }
   ],
   "source": [
    "plot_data = {'Index' : [1,2,3,4,5,6,7,8,9,10], 'RMSE':errors, 'STD':[std]*10}\n",
    "plot_df = pd.DataFrame(plot_data) \n",
    "#sns.barplot(data=plot_df, x = 'Index', y = 'RMSE', color='steelblue',ci='STD')\n",
    "fig, ax = plt.subplots()\n",
    "ax.bar(plot_df['Index'], plot_df['RMSE'], yerr=plot_df['STD'])\n",
    "ax.set_xticks(plot_df['Index'])\n",
    "ax.set_title('RMSE values of each iteration with Std as error whiskers (variable: it_seller_rating)')\n",
    "ax.set_ylabel('RMSE')\n",
    "plt.show()"
   ]
  },
  {
   "cell_type": "markdown",
   "id": "conservative-pakistan",
   "metadata": {},
   "source": [
    "### Dwie kategorie"
   ]
  },
  {
   "cell_type": "code",
   "execution_count": 36,
   "id": "confident-teens",
   "metadata": {},
   "outputs": [],
   "source": [
    "l = random.sample(range(0, len(allegro['main_category'])), round(len(allegro['main_category'])/10))\n",
    "p = random.sample(range(0, len(allegro['main_category'])), round(len(allegro['main_category'])/10))\n",
    "tmp = allegro.copy(deep=True)\n",
    "tmp = tmp[['price', 'it_seller_rating','it_quantity']]\n",
    "tmp.loc[l, 'it_seller_rating'] = np.NaN\n",
    "tmp.loc[p, 'it_quantity'] = np.NaN\n",
    "data = tmp.values\n",
    "ix = [i for i in range(data.shape[1]) if i != 0]\n",
    "X, y = data[:, ix], data[:, 0]\n",
    "imputer = IterativeImputer()\n",
    "imputer.fit(X)\n",
    "Xtrans = imputer.transform(X) "
   ]
  },
  {
   "cell_type": "code",
   "execution_count": 37,
   "id": "third-retention",
   "metadata": {},
   "outputs": [
    {
     "name": "stdout",
     "output_type": "stream",
     "text": [
      "Missing: 84004\n",
      "Missing: 0\n"
     ]
    }
   ],
   "source": [
    "#dla sprawdzenia czy wszystko wykonało się poprawnie\n",
    "print('Missing: %d' % sum(isnan(X).flatten()))\n",
    "print('Missing: %d' % sum(isnan(Xtrans).flatten()))"
   ]
  },
  {
   "cell_type": "code",
   "execution_count": 38,
   "id": "nominated-creativity",
   "metadata": {},
   "outputs": [
    {
     "name": "stdout",
     "output_type": "stream",
     "text": [
      "36393.55788354312\n",
      "23177.502858831253\n"
     ]
    }
   ],
   "source": [
    "#policzmy błąd za pomocą RMSE\n",
    "rmse1 = mean_squared_error(Xtrans[l,0], allegro_data[l,11] , squared=False)\n",
    "rmse2 = mean_squared_error(Xtrans[p,1], allegro_data[p,9] , squared=False)\n",
    "print(rmse1)\n",
    "print(rmse2)"
   ]
  },
  {
   "cell_type": "code",
   "execution_count": 39,
   "id": "desperate-luther",
   "metadata": {},
   "outputs": [
    {
     "name": "stdout",
     "output_type": "stream",
     "text": [
      "6748.274822627494\n"
     ]
    }
   ],
   "source": [
    "#zbadajmy średnią wartości w kolumnie 'it_quantity' żeby zbadać jak duży jest błąd\n",
    "print(allegro['it_quantity'].mean())"
   ]
  },
  {
   "cell_type": "markdown",
   "id": "indonesian-brick",
   "metadata": {},
   "source": [
    "### 10 iteracji dla dwoch kategorii"
   ]
  },
  {
   "cell_type": "code",
   "execution_count": 40,
   "id": "cheap-kingdom",
   "metadata": {},
   "outputs": [],
   "source": [
    "errors1 = []\n",
    "errors2 = []\n",
    "for i in range(10):\n",
    "    l = random.sample(range(0, len(allegro['main_category'])), round(len(allegro['main_category'])/10))\n",
    "    p = random.sample(range(0, len(allegro['main_category'])), round(len(allegro['main_category'])/10))\n",
    "    tmp = allegro.copy(deep=True)\n",
    "    tmp = tmp[['price', 'it_seller_rating','it_quantity']]\n",
    "    tmp.loc[l, 'it_seller_rating'] = np.NaN\n",
    "    tmp.loc[p, 'it_quantity'] = np.NaN\n",
    "    data = tmp.values\n",
    "    ix = [i for i in range(data.shape[1]) if i != 0]\n",
    "    X, y = data[:, ix], data[:, 0]\n",
    "    imputer = IterativeImputer()\n",
    "    imputer.fit(X)\n",
    "    Xtrans = imputer.transform(X)\n",
    "    rmse1 = mean_squared_error(Xtrans[l,0], allegro_data[l,11] , squared=False)\n",
    "    errors1.append(rmse1)\n",
    "    rmse2 = mean_squared_error(Xtrans[p,1], allegro_data[p,9] , squared=False)\n",
    "    errors2.append(rmse2)\n",
    "    "
   ]
  },
  {
   "cell_type": "code",
   "execution_count": 41,
   "id": "intended-municipality",
   "metadata": {},
   "outputs": [
    {
     "name": "stdout",
     "output_type": "stream",
     "text": [
      "256.7455532043524\n"
     ]
    }
   ],
   "source": [
    "std1 = np.std(errors1, axis=0)\n",
    "print(std1)"
   ]
  },
  {
   "cell_type": "code",
   "execution_count": 42,
   "id": "personalized-coalition",
   "metadata": {},
   "outputs": [
    {
     "name": "stdout",
     "output_type": "stream",
     "text": [
      "101.19670381341835\n"
     ]
    }
   ],
   "source": [
    "std2 = np.std(errors2, axis=0)\n",
    "print(std2)"
   ]
  },
  {
   "cell_type": "markdown",
   "id": "assumed-virginia",
   "metadata": {},
   "source": [
    "### Wizualizacja wyniku"
   ]
  },
  {
   "cell_type": "code",
   "execution_count": 43,
   "id": "olive-mount",
   "metadata": {
    "scrolled": true
   },
   "outputs": [
    {
     "data": {
      "image/png": "[encoded data removed]",
      "text/plain": [
       "<Figure size 432x288 with 1 Axes>"
      ]
     },
     "metadata": {
      "needs_background": "light"
     },
     "output_type": "display_data"
    }
   ],
   "source": [
    "plot_data1 = {'Index' : [1,2,3,4,5,6,7,8,9,10], 'RMSE':errors1, 'STD':[std1]*10}\n",
    "plot_df1 = pd.DataFrame(plot_data1) \n",
    "#sns.barplot(data=plot_df, x = 'Index', y = 'RMSE', color='steelblue',ci='STD')\n",
    "fig, ax = plt.subplots()\n",
    "ax.bar(plot_df1['Index'], plot_df1['RMSE'], yerr=plot_df1['STD'])\n",
    "ax.set_xticks(plot_df1['Index'])\n",
    "ax.set_title('RMSE values of each iteration with Std as error whiskers (variable: it_seller_rating)')\n",
    "ax.set_ylabel('RMSE')\n",
    "plt.show()"
   ]
  },
  {
   "cell_type": "code",
   "execution_count": 44,
   "id": "great-symbol",
   "metadata": {
    "scrolled": true
   },
   "outputs": [
    {
     "data": {
      "image/png": "[encoded data removed]",
      "text/plain": [
       "<Figure size 432x288 with 1 Axes>"
      ]
     },
     "metadata": {
      "needs_background": "light"
     },
     "output_type": "display_data"
    }
   ],
   "source": [
    "plot_data2 = {'Index' : [1,2,3,4,5,6,7,8,9,10], 'RMSE':errors2, 'STD':[std2]*10}\n",
    "plot_df2 = pd.DataFrame(plot_data2) \n",
    "fig, ax = plt.subplots()\n",
    "ax.bar(plot_df2['Index'], plot_df2['RMSE'], yerr=plot_df2['STD'], color='darkgreen')\n",
    "ax.set_xticks(plot_df2['Index'])\n",
    "ax.set_title('RMSE values of each iteration with Std as error whiskers (variable: it_quantity)')\n",
    "ax.set_ylabel('RMSE')\n",
    "plt.show()"
   ]
  },
  {
   "cell_type": "markdown",
   "id": "demonstrated-ottawa",
   "metadata": {},
   "source": [
    "### Wnioski\n",
    "* przebadane narzędzi imputacji działa poprawnie, jednak błąd wygenerowanych danych z prawdziwymi jest jednak spory (dla zmiennej 'it_seller_rating' RMSE jest ponad 150% średniej wartości tej kolumny, a zmiennej 'it_quantity' RMSE jest średnio ponad 400% średniej wartości zmiennej)\n",
    "* przy kilku podejściach uzupełniania brakujących danych, wartości błedu (RMSE) nie różniły się znacznie (niska wartość standardowego odchylenia)\n",
    "* im więcej braków w tabeli tym, w większości przypadków, mniejsza dokładność imputacji i większe odchylenie standardowe błędu (wykres potwierdzający poniżej)"
   ]
  },
  {
   "cell_type": "code",
   "execution_count": 45,
   "id": "convinced-shade",
   "metadata": {},
   "outputs": [
    {
     "data": {
      "image/png": "[encoded data removed]",
      "text/plain": [
       "<Figure size 432x288 with 1 Axes>"
      ]
     },
     "metadata": {
      "needs_background": "light"
     },
     "output_type": "display_data"
    }
   ],
   "source": [
    "width=0.4\n",
    "fig, ax = plt.subplots()\n",
    "ax.bar(plot_df1['Index'], plot_df['RMSE'], width, yerr=plot_df['STD'], label = 'NaNs in only one column')\n",
    "ax.bar(plot_df1['Index'] + width, plot_df1['RMSE'], width, yerr=plot_df1['STD'], label='NaNs in two columns', color ='purple')\n",
    "ax.set_xticks(plot_df1['Index'])\n",
    "ax.set_title('RMSE values of each iteration with Std as error whiskers (variable: it_seller_rating)')\n",
    "ax.set_ylabel('RMSE')\n",
    "ax.legend(bbox_to_anchor=(1.1, 0.97))\n",
    "plt.show()"
   ]
  }
 ],
 "metadata": {
  "kernelspec": {
   "display_name": "Python 3",
   "language": "python",
   "name": "python3"
  },
  "language_info": {
   "codemirror_mode": {
    "name": "ipython",
    "version": 3
   },
   "file_extension": ".py",
   "mimetype": "text/x-python",
   "name": "python",
   "nbconvert_exporter": "python",
   "pygments_lexer": "ipython3",
   "version": "3.9.1"
  }
 },
 "nbformat": 4,
 "nbformat_minor": 5
}
