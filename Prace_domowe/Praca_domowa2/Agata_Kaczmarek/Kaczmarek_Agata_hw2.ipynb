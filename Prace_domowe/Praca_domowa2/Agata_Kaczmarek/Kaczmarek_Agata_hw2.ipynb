{
 "cells": [
  {
   "cell_type": "markdown",
   "metadata": {},
   "source": [
    "# Zadanie domowe 2\n",
    "Agata Kaczmarek"
   ]
  },
  {
   "cell_type": "markdown",
   "metadata": {},
   "source": [
    "To zadanie składa się z dwóch części: kodowania zmiennych kategorycznych oraz uzupełniania braków. W pierwszej z nich porównam target encoding (dla *it_location*) oraz one-hot encoding. Następnie dla *main_category* zastosuję trzy różne metody encodingu - one-hot, count oraz binary. W drugiej części zadania przeanalizuję efekty uzupełnienia 10% danych z pomocą automatycznego narzędzia."
   ]
  },
  {
   "cell_type": "markdown",
   "metadata": {},
   "source": [
    "Wczytanie danych oraz bibliotek"
   ]
  },
  {
   "cell_type": "code",
   "execution_count": 88,
   "metadata": {},
   "outputs": [],
   "source": [
    "import pandas as pd\n",
    "import numpy as np\n",
    "import matplotlib.pyplot as plt\n",
    "import warnings\n",
    "import random\n",
    "warnings.filterwarnings('ignore')\n",
    "np.random.seed = 42\n",
    "\n",
    "from category_encoders import TargetEncoder\n",
    "from category_encoders import OneHotEncoder\n",
    "from category_encoders import CountEncoder\n",
    "from category_encoders import BinaryEncoder\n",
    "\n",
    "from sklearn.impute import KNNImputer\n",
    "from sklearn.metrics import mean_squared_error\n"
   ]
  },
  {
   "cell_type": "code",
   "execution_count": 89,
   "metadata": {},
   "outputs": [
    {
     "output_type": "execute_result",
     "data": {
      "text/plain": [
       "   lp                 date     item_id  \\\n",
       "0   0  2016-04-03 21:21:08  4753602474   \n",
       "1   1  2016-04-03 15:35:26  4773181874   \n",
       "2   2  2016-04-03 14:14:31  4781627074   \n",
       "3   3  2016-04-03 19:55:44  4783971474   \n",
       "4   4  2016-04-03 18:05:54  4787908274   \n",
       "\n",
       "                                          categories  pay_option_on_delivery  \\\n",
       "0  ['Komputery', 'Dyski i napędy', 'Nośniki', 'No...                       1   \n",
       "1  ['Odzież, Obuwie, Dodatki', 'Bielizna damska',...                       1   \n",
       "2  ['Dom i Ogród', 'Budownictwo i Akcesoria', 'Śc...                       1   \n",
       "3  ['Książki i Komiksy', 'Poradniki i albumy', 'Z...                       1   \n",
       "4  ['Odzież, Obuwie, Dodatki', 'Ślub i wesele', '...                       1   \n",
       "\n",
       "   pay_option_transfer         seller   price  it_is_allegro_standard  \\\n",
       "0                    1    radzioch666   59.99                       1   \n",
       "1                    1  InwestycjeNET    4.90                       1   \n",
       "2                    1    otostyl_com  109.90                       1   \n",
       "3                    1        Matfel1   18.50                       0   \n",
       "4                    1      PPHU_RICO   19.90                       1   \n",
       "\n",
       "   it_quantity  it_is_brand_zone  it_seller_rating          it_location  \\\n",
       "0          997                 0             50177             Warszawa   \n",
       "1         9288                 0             12428             Warszawa   \n",
       "2          895                 0              7389               Leszno   \n",
       "3          971                 0             15006  Wola Krzysztoporska   \n",
       "4          950                 0             32975            BIAŁYSTOK   \n",
       "\n",
       "             main_category  \n",
       "0                Komputery  \n",
       "1  Odzież, Obuwie, Dodatki  \n",
       "2              Dom i Ogród  \n",
       "3        Książki i Komiksy  \n",
       "4  Odzież, Obuwie, Dodatki  "
      ],
      "text/html": "<div>\n<style scoped>\n    .dataframe tbody tr th:only-of-type {\n        vertical-align: middle;\n    }\n\n    .dataframe tbody tr th {\n        vertical-align: top;\n    }\n\n    .dataframe thead th {\n        text-align: right;\n    }\n</style>\n<table border=\"1\" class=\"dataframe\">\n  <thead>\n    <tr style=\"text-align: right;\">\n      <th></th>\n      <th>lp</th>\n      <th>date</th>\n      <th>item_id</th>\n      <th>categories</th>\n      <th>pay_option_on_delivery</th>\n      <th>pay_option_transfer</th>\n      <th>seller</th>\n      <th>price</th>\n      <th>it_is_allegro_standard</th>\n      <th>it_quantity</th>\n      <th>it_is_brand_zone</th>\n      <th>it_seller_rating</th>\n      <th>it_location</th>\n      <th>main_category</th>\n    </tr>\n  </thead>\n  <tbody>\n    <tr>\n      <th>0</th>\n      <td>0</td>\n      <td>2016-04-03 21:21:08</td>\n      <td>4753602474</td>\n      <td>['Komputery', 'Dyski i napędy', 'Nośniki', 'No...</td>\n      <td>1</td>\n      <td>1</td>\n      <td>radzioch666</td>\n      <td>59.99</td>\n      <td>1</td>\n      <td>997</td>\n      <td>0</td>\n      <td>50177</td>\n      <td>Warszawa</td>\n      <td>Komputery</td>\n    </tr>\n    <tr>\n      <th>1</th>\n      <td>1</td>\n      <td>2016-04-03 15:35:26</td>\n      <td>4773181874</td>\n      <td>['Odzież, Obuwie, Dodatki', 'Bielizna damska',...</td>\n      <td>1</td>\n      <td>1</td>\n      <td>InwestycjeNET</td>\n      <td>4.90</td>\n      <td>1</td>\n      <td>9288</td>\n      <td>0</td>\n      <td>12428</td>\n      <td>Warszawa</td>\n      <td>Odzież, Obuwie, Dodatki</td>\n    </tr>\n    <tr>\n      <th>2</th>\n      <td>2</td>\n      <td>2016-04-03 14:14:31</td>\n      <td>4781627074</td>\n      <td>['Dom i Ogród', 'Budownictwo i Akcesoria', 'Śc...</td>\n      <td>1</td>\n      <td>1</td>\n      <td>otostyl_com</td>\n      <td>109.90</td>\n      <td>1</td>\n      <td>895</td>\n      <td>0</td>\n      <td>7389</td>\n      <td>Leszno</td>\n      <td>Dom i Ogród</td>\n    </tr>\n    <tr>\n      <th>3</th>\n      <td>3</td>\n      <td>2016-04-03 19:55:44</td>\n      <td>4783971474</td>\n      <td>['Książki i Komiksy', 'Poradniki i albumy', 'Z...</td>\n      <td>1</td>\n      <td>1</td>\n      <td>Matfel1</td>\n      <td>18.50</td>\n      <td>0</td>\n      <td>971</td>\n      <td>0</td>\n      <td>15006</td>\n      <td>Wola Krzysztoporska</td>\n      <td>Książki i Komiksy</td>\n    </tr>\n    <tr>\n      <th>4</th>\n      <td>4</td>\n      <td>2016-04-03 18:05:54</td>\n      <td>4787908274</td>\n      <td>['Odzież, Obuwie, Dodatki', 'Ślub i wesele', '...</td>\n      <td>1</td>\n      <td>1</td>\n      <td>PPHU_RICO</td>\n      <td>19.90</td>\n      <td>1</td>\n      <td>950</td>\n      <td>0</td>\n      <td>32975</td>\n      <td>BIAŁYSTOK</td>\n      <td>Odzież, Obuwie, Dodatki</td>\n    </tr>\n  </tbody>\n</table>\n</div>"
     },
     "metadata": {},
     "execution_count": 89
    }
   ],
   "source": [
    "allegro=pd.read_csv(\"https://www.dropbox.com/s/360xhh2d9lnaek3/allegro-api-transactions.csv?dl=1\")\n",
    "allegro.head()"
   ]
  },
  {
   "cell_type": "code",
   "execution_count": 90,
   "metadata": {},
   "outputs": [
    {
     "output_type": "stream",
     "name": "stdout",
     "text": [
      "<class 'pandas.core.frame.DataFrame'>\nRangeIndex: 420020 entries, 0 to 420019\nData columns (total 14 columns):\n #   Column                  Non-Null Count   Dtype  \n---  ------                  --------------   -----  \n 0   lp                      420020 non-null  int64  \n 1   date                    420020 non-null  object \n 2   item_id                 420020 non-null  int64  \n 3   categories              420020 non-null  object \n 4   pay_option_on_delivery  420020 non-null  int64  \n 5   pay_option_transfer     420020 non-null  int64  \n 6   seller                  420020 non-null  object \n 7   price                   420020 non-null  float64\n 8   it_is_allegro_standard  420020 non-null  int64  \n 9   it_quantity             420020 non-null  int64  \n 10  it_is_brand_zone        420020 non-null  int64  \n 11  it_seller_rating        420020 non-null  int64  \n 12  it_location             420020 non-null  object \n 13  main_category           420020 non-null  object \ndtypes: float64(1), int64(8), object(5)\nmemory usage: 36.9+ MB\n"
     ]
    }
   ],
   "source": [
    "allegro.info()"
   ]
  },
  {
   "cell_type": "markdown",
   "metadata": {},
   "source": [
    "Nazwy w kolumnach *it_location* oraz *main_category* są pisane literami różnych wielkości, więc zmieńmy je wszystkie na małe na początku."
   ]
  },
  {
   "cell_type": "code",
   "execution_count": 91,
   "metadata": {
    "scrolled": false
   },
   "outputs": [
    {
     "output_type": "execute_result",
     "data": {
      "text/plain": [
       "   lp                 date     item_id  \\\n",
       "0   0  2016-04-03 21:21:08  4753602474   \n",
       "1   1  2016-04-03 15:35:26  4773181874   \n",
       "2   2  2016-04-03 14:14:31  4781627074   \n",
       "3   3  2016-04-03 19:55:44  4783971474   \n",
       "4   4  2016-04-03 18:05:54  4787908274   \n",
       "\n",
       "                                          categories  pay_option_on_delivery  \\\n",
       "0  ['Komputery', 'Dyski i napędy', 'Nośniki', 'No...                       1   \n",
       "1  ['Odzież, Obuwie, Dodatki', 'Bielizna damska',...                       1   \n",
       "2  ['Dom i Ogród', 'Budownictwo i Akcesoria', 'Śc...                       1   \n",
       "3  ['Książki i Komiksy', 'Poradniki i albumy', 'Z...                       1   \n",
       "4  ['Odzież, Obuwie, Dodatki', 'Ślub i wesele', '...                       1   \n",
       "\n",
       "   pay_option_transfer         seller   price  it_is_allegro_standard  \\\n",
       "0                    1    radzioch666   59.99                       1   \n",
       "1                    1  InwestycjeNET    4.90                       1   \n",
       "2                    1    otostyl_com  109.90                       1   \n",
       "3                    1        Matfel1   18.50                       0   \n",
       "4                    1      PPHU_RICO   19.90                       1   \n",
       "\n",
       "   it_quantity  it_is_brand_zone  it_seller_rating          it_location  \\\n",
       "0          997                 0             50177             warszawa   \n",
       "1         9288                 0             12428             warszawa   \n",
       "2          895                 0              7389               leszno   \n",
       "3          971                 0             15006  wola krzysztoporska   \n",
       "4          950                 0             32975            białystok   \n",
       "\n",
       "             main_category  \n",
       "0                komputery  \n",
       "1  odzież, obuwie, dodatki  \n",
       "2              dom i ogród  \n",
       "3        książki i komiksy  \n",
       "4  odzież, obuwie, dodatki  "
      ],
      "text/html": "<div>\n<style scoped>\n    .dataframe tbody tr th:only-of-type {\n        vertical-align: middle;\n    }\n\n    .dataframe tbody tr th {\n        vertical-align: top;\n    }\n\n    .dataframe thead th {\n        text-align: right;\n    }\n</style>\n<table border=\"1\" class=\"dataframe\">\n  <thead>\n    <tr style=\"text-align: right;\">\n      <th></th>\n      <th>lp</th>\n      <th>date</th>\n      <th>item_id</th>\n      <th>categories</th>\n      <th>pay_option_on_delivery</th>\n      <th>pay_option_transfer</th>\n      <th>seller</th>\n      <th>price</th>\n      <th>it_is_allegro_standard</th>\n      <th>it_quantity</th>\n      <th>it_is_brand_zone</th>\n      <th>it_seller_rating</th>\n      <th>it_location</th>\n      <th>main_category</th>\n    </tr>\n  </thead>\n  <tbody>\n    <tr>\n      <th>0</th>\n      <td>0</td>\n      <td>2016-04-03 21:21:08</td>\n      <td>4753602474</td>\n      <td>['Komputery', 'Dyski i napędy', 'Nośniki', 'No...</td>\n      <td>1</td>\n      <td>1</td>\n      <td>radzioch666</td>\n      <td>59.99</td>\n      <td>1</td>\n      <td>997</td>\n      <td>0</td>\n      <td>50177</td>\n      <td>warszawa</td>\n      <td>komputery</td>\n    </tr>\n    <tr>\n      <th>1</th>\n      <td>1</td>\n      <td>2016-04-03 15:35:26</td>\n      <td>4773181874</td>\n      <td>['Odzież, Obuwie, Dodatki', 'Bielizna damska',...</td>\n      <td>1</td>\n      <td>1</td>\n      <td>InwestycjeNET</td>\n      <td>4.90</td>\n      <td>1</td>\n      <td>9288</td>\n      <td>0</td>\n      <td>12428</td>\n      <td>warszawa</td>\n      <td>odzież, obuwie, dodatki</td>\n    </tr>\n    <tr>\n      <th>2</th>\n      <td>2</td>\n      <td>2016-04-03 14:14:31</td>\n      <td>4781627074</td>\n      <td>['Dom i Ogród', 'Budownictwo i Akcesoria', 'Śc...</td>\n      <td>1</td>\n      <td>1</td>\n      <td>otostyl_com</td>\n      <td>109.90</td>\n      <td>1</td>\n      <td>895</td>\n      <td>0</td>\n      <td>7389</td>\n      <td>leszno</td>\n      <td>dom i ogród</td>\n    </tr>\n    <tr>\n      <th>3</th>\n      <td>3</td>\n      <td>2016-04-03 19:55:44</td>\n      <td>4783971474</td>\n      <td>['Książki i Komiksy', 'Poradniki i albumy', 'Z...</td>\n      <td>1</td>\n      <td>1</td>\n      <td>Matfel1</td>\n      <td>18.50</td>\n      <td>0</td>\n      <td>971</td>\n      <td>0</td>\n      <td>15006</td>\n      <td>wola krzysztoporska</td>\n      <td>książki i komiksy</td>\n    </tr>\n    <tr>\n      <th>4</th>\n      <td>4</td>\n      <td>2016-04-03 18:05:54</td>\n      <td>4787908274</td>\n      <td>['Odzież, Obuwie, Dodatki', 'Ślub i wesele', '...</td>\n      <td>1</td>\n      <td>1</td>\n      <td>PPHU_RICO</td>\n      <td>19.90</td>\n      <td>1</td>\n      <td>950</td>\n      <td>0</td>\n      <td>32975</td>\n      <td>białystok</td>\n      <td>odzież, obuwie, dodatki</td>\n    </tr>\n  </tbody>\n</table>\n</div>"
     },
     "metadata": {},
     "execution_count": 91
    }
   ],
   "source": [
    "allegro['it_location']=allegro['it_location'].str.lower()\n",
    "allegro['main_category']=allegro['main_category'].str.lower()\n",
    "allegro.head()"
   ]
  },
  {
   "cell_type": "markdown",
   "metadata": {},
   "source": [
    "Zanim zacznę zmieniać dane, to stworzę kopię dla każdego planowanego kodowania, by się nie psuły nawzajem."
   ]
  },
  {
   "cell_type": "code",
   "execution_count": 92,
   "metadata": {},
   "outputs": [],
   "source": [
    "allegro_target=allegro.copy()\n",
    "allegro_one_encoding=allegro.copy()\n",
    "allegro_count=allegro.copy()\n",
    "allegro_binary=allegro.copy()"
   ]
  },
  {
   "cell_type": "markdown",
   "metadata": {},
   "source": [
    "### 1.Kodowanie zmiennych"
   ]
  },
  {
   "cell_type": "markdown",
   "metadata": {},
   "source": [
    "Przyjrzyjmy się na początku kolumnie *it_location* bardziej szczegółowo. Jak widzimy poniżej zawiera ona 7903 różne wartości. W takim wypadku zastosowanie one-hot spowodowałoby dodanie nowych 7903 kolumn, co jest znaczną ilością, w szczególności że nasze początkowe dane mają tylko 14 kolumn. Zastosujmy w takim razie target encoding."
   ]
  },
  {
   "cell_type": "code",
   "execution_count": 93,
   "metadata": {},
   "outputs": [
    {
     "output_type": "execute_result",
     "data": {
      "text/plain": [
       "count       420020\n",
       "unique        7903\n",
       "top       warszawa\n",
       "freq         27042\n",
       "Name: it_location, dtype: object"
      ]
     },
     "metadata": {},
     "execution_count": 93
    }
   ],
   "source": [
    "allegro_target['it_location'].describe()"
   ]
  },
  {
   "source": [
    "Target encoding grupuje dane według kategorii a następnie przypisuje kategoriom średnią wartość. Taka wartość przypisywana jest wszystkim obserwacjom należącym do danej kategorii."
   ],
   "cell_type": "markdown",
   "metadata": {}
  },
  {
   "cell_type": "code",
   "execution_count": 94,
   "metadata": {},
   "outputs": [
    {
     "output_type": "execute_result",
     "data": {
      "text/plain": [
       "            lp                 date     item_id  \\\n",
       "0            0  2016-04-03 21:21:08  4753602474   \n",
       "1            1  2016-04-03 15:35:26  4773181874   \n",
       "2            2  2016-04-03 14:14:31  4781627074   \n",
       "3            3  2016-04-03 19:55:44  4783971474   \n",
       "4            4  2016-04-03 18:05:54  4787908274   \n",
       "...        ...                  ...         ...   \n",
       "420015  420015  2016-04-03 20:27:13  6099625607   \n",
       "420016  420016  2016-04-03 22:35:02  6099634607   \n",
       "420017  420017  2016-04-03 22:38:57  6099780407   \n",
       "420018  420018  2016-04-03 22:44:17  6099801007   \n",
       "420019  420019  2016-04-03 23:08:23  6099873207   \n",
       "\n",
       "                                               categories  \\\n",
       "0       ['Komputery', 'Dyski i napędy', 'Nośniki', 'No...   \n",
       "1       ['Odzież, Obuwie, Dodatki', 'Bielizna damska',...   \n",
       "2       ['Dom i Ogród', 'Budownictwo i Akcesoria', 'Śc...   \n",
       "3       ['Książki i Komiksy', 'Poradniki i albumy', 'Z...   \n",
       "4       ['Odzież, Obuwie, Dodatki', 'Ślub i wesele', '...   \n",
       "...                                                   ...   \n",
       "420015  ['RTV i AGD', 'Sprzęt audio dla domu', 'Odtwar...   \n",
       "420016      ['Uroda', 'Makijaż', 'Oczy', 'Tusze do rzęs']   \n",
       "420017  ['Odzież, Obuwie, Dodatki', 'Przebrania, kosti...   \n",
       "420018  ['Dla Dzieci', 'Rowery i pojazdy', 'Rowery bie...   \n",
       "420019  ['Motoryzacja', 'Części samochodowe', 'Koła, f...   \n",
       "\n",
       "        pay_option_on_delivery  pay_option_transfer           seller   price  \\\n",
       "0                            1                    1      radzioch666   59.99   \n",
       "1                            1                    1    InwestycjeNET    4.90   \n",
       "2                            1                    1      otostyl_com  109.90   \n",
       "3                            1                    1          Matfel1   18.50   \n",
       "4                            1                    1        PPHU_RICO   19.90   \n",
       "...                        ...                  ...              ...     ...   \n",
       "420015                       0                    0        iwona7012  180.00   \n",
       "420016                       1                    1  Dolce_Cosmetics   14.99   \n",
       "420017                       1                    1        pewex4all    5.99   \n",
       "420018                       1                    0         kostasia  200.00   \n",
       "420019                       0                    0        Malami172  500.00   \n",
       "\n",
       "        it_is_allegro_standard  it_quantity  it_is_brand_zone  \\\n",
       "0                            1          997                 0   \n",
       "1                            1         9288                 0   \n",
       "2                            1          895                 0   \n",
       "3                            0          971                 0   \n",
       "4                            1          950                 0   \n",
       "...                        ...          ...               ...   \n",
       "420015                       0            0                 0   \n",
       "420016                       1            2                 0   \n",
       "420017                       1          470                 0   \n",
       "420018                       0            0                 0   \n",
       "420019                       0            0                 0   \n",
       "\n",
       "        it_seller_rating          it_location            main_category  \\\n",
       "0                  50177             warszawa                komputery   \n",
       "1                  12428             warszawa  odzież, obuwie, dodatki   \n",
       "2                   7389               leszno              dom i ogród   \n",
       "3                  15006  wola krzysztoporska        książki i komiksy   \n",
       "4                  32975            białystok  odzież, obuwie, dodatki   \n",
       "...                  ...                  ...                      ...   \n",
       "420015               176              kraśnik                rtv i agd   \n",
       "420016             34851          dzierżoniów                    uroda   \n",
       "420017               983              supraśl  odzież, obuwie, dodatki   \n",
       "420018               163               poznań               dla dzieci   \n",
       "420019               265                pszów              motoryzacja   \n",
       "\n",
       "        it_location_encoded  \n",
       "0                 84.132898  \n",
       "1                 84.132898  \n",
       "2                 64.883187  \n",
       "3                 35.433365  \n",
       "4                 73.772916  \n",
       "...                     ...  \n",
       "420015            26.346402  \n",
       "420016            63.645927  \n",
       "420017            18.682800  \n",
       "420018           104.254805  \n",
       "420019            78.136792  \n",
       "\n",
       "[420020 rows x 15 columns]"
      ],
      "text/html": "<div>\n<style scoped>\n    .dataframe tbody tr th:only-of-type {\n        vertical-align: middle;\n    }\n\n    .dataframe tbody tr th {\n        vertical-align: top;\n    }\n\n    .dataframe thead th {\n        text-align: right;\n    }\n</style>\n<table border=\"1\" class=\"dataframe\">\n  <thead>\n    <tr style=\"text-align: right;\">\n      <th></th>\n      <th>lp</th>\n      <th>date</th>\n      <th>item_id</th>\n      <th>categories</th>\n      <th>pay_option_on_delivery</th>\n      <th>pay_option_transfer</th>\n      <th>seller</th>\n      <th>price</th>\n      <th>it_is_allegro_standard</th>\n      <th>it_quantity</th>\n      <th>it_is_brand_zone</th>\n      <th>it_seller_rating</th>\n      <th>it_location</th>\n      <th>main_category</th>\n      <th>it_location_encoded</th>\n    </tr>\n  </thead>\n  <tbody>\n    <tr>\n      <th>0</th>\n      <td>0</td>\n      <td>2016-04-03 21:21:08</td>\n      <td>4753602474</td>\n      <td>['Komputery', 'Dyski i napędy', 'Nośniki', 'No...</td>\n      <td>1</td>\n      <td>1</td>\n      <td>radzioch666</td>\n      <td>59.99</td>\n      <td>1</td>\n      <td>997</td>\n      <td>0</td>\n      <td>50177</td>\n      <td>warszawa</td>\n      <td>komputery</td>\n      <td>84.132898</td>\n    </tr>\n    <tr>\n      <th>1</th>\n      <td>1</td>\n      <td>2016-04-03 15:35:26</td>\n      <td>4773181874</td>\n      <td>['Odzież, Obuwie, Dodatki', 'Bielizna damska',...</td>\n      <td>1</td>\n      <td>1</td>\n      <td>InwestycjeNET</td>\n      <td>4.90</td>\n      <td>1</td>\n      <td>9288</td>\n      <td>0</td>\n      <td>12428</td>\n      <td>warszawa</td>\n      <td>odzież, obuwie, dodatki</td>\n      <td>84.132898</td>\n    </tr>\n    <tr>\n      <th>2</th>\n      <td>2</td>\n      <td>2016-04-03 14:14:31</td>\n      <td>4781627074</td>\n      <td>['Dom i Ogród', 'Budownictwo i Akcesoria', 'Śc...</td>\n      <td>1</td>\n      <td>1</td>\n      <td>otostyl_com</td>\n      <td>109.90</td>\n      <td>1</td>\n      <td>895</td>\n      <td>0</td>\n      <td>7389</td>\n      <td>leszno</td>\n      <td>dom i ogród</td>\n      <td>64.883187</td>\n    </tr>\n    <tr>\n      <th>3</th>\n      <td>3</td>\n      <td>2016-04-03 19:55:44</td>\n      <td>4783971474</td>\n      <td>['Książki i Komiksy', 'Poradniki i albumy', 'Z...</td>\n      <td>1</td>\n      <td>1</td>\n      <td>Matfel1</td>\n      <td>18.50</td>\n      <td>0</td>\n      <td>971</td>\n      <td>0</td>\n      <td>15006</td>\n      <td>wola krzysztoporska</td>\n      <td>książki i komiksy</td>\n      <td>35.433365</td>\n    </tr>\n    <tr>\n      <th>4</th>\n      <td>4</td>\n      <td>2016-04-03 18:05:54</td>\n      <td>4787908274</td>\n      <td>['Odzież, Obuwie, Dodatki', 'Ślub i wesele', '...</td>\n      <td>1</td>\n      <td>1</td>\n      <td>PPHU_RICO</td>\n      <td>19.90</td>\n      <td>1</td>\n      <td>950</td>\n      <td>0</td>\n      <td>32975</td>\n      <td>białystok</td>\n      <td>odzież, obuwie, dodatki</td>\n      <td>73.772916</td>\n    </tr>\n    <tr>\n      <th>...</th>\n      <td>...</td>\n      <td>...</td>\n      <td>...</td>\n      <td>...</td>\n      <td>...</td>\n      <td>...</td>\n      <td>...</td>\n      <td>...</td>\n      <td>...</td>\n      <td>...</td>\n      <td>...</td>\n      <td>...</td>\n      <td>...</td>\n      <td>...</td>\n      <td>...</td>\n    </tr>\n    <tr>\n      <th>420015</th>\n      <td>420015</td>\n      <td>2016-04-03 20:27:13</td>\n      <td>6099625607</td>\n      <td>['RTV i AGD', 'Sprzęt audio dla domu', 'Odtwar...</td>\n      <td>0</td>\n      <td>0</td>\n      <td>iwona7012</td>\n      <td>180.00</td>\n      <td>0</td>\n      <td>0</td>\n      <td>0</td>\n      <td>176</td>\n      <td>kraśnik</td>\n      <td>rtv i agd</td>\n      <td>26.346402</td>\n    </tr>\n    <tr>\n      <th>420016</th>\n      <td>420016</td>\n      <td>2016-04-03 22:35:02</td>\n      <td>6099634607</td>\n      <td>['Uroda', 'Makijaż', 'Oczy', 'Tusze do rzęs']</td>\n      <td>1</td>\n      <td>1</td>\n      <td>Dolce_Cosmetics</td>\n      <td>14.99</td>\n      <td>1</td>\n      <td>2</td>\n      <td>0</td>\n      <td>34851</td>\n      <td>dzierżoniów</td>\n      <td>uroda</td>\n      <td>63.645927</td>\n    </tr>\n    <tr>\n      <th>420017</th>\n      <td>420017</td>\n      <td>2016-04-03 22:38:57</td>\n      <td>6099780407</td>\n      <td>['Odzież, Obuwie, Dodatki', 'Przebrania, kosti...</td>\n      <td>1</td>\n      <td>1</td>\n      <td>pewex4all</td>\n      <td>5.99</td>\n      <td>1</td>\n      <td>470</td>\n      <td>0</td>\n      <td>983</td>\n      <td>supraśl</td>\n      <td>odzież, obuwie, dodatki</td>\n      <td>18.682800</td>\n    </tr>\n    <tr>\n      <th>420018</th>\n      <td>420018</td>\n      <td>2016-04-03 22:44:17</td>\n      <td>6099801007</td>\n      <td>['Dla Dzieci', 'Rowery i pojazdy', 'Rowery bie...</td>\n      <td>1</td>\n      <td>0</td>\n      <td>kostasia</td>\n      <td>200.00</td>\n      <td>0</td>\n      <td>0</td>\n      <td>0</td>\n      <td>163</td>\n      <td>poznań</td>\n      <td>dla dzieci</td>\n      <td>104.254805</td>\n    </tr>\n    <tr>\n      <th>420019</th>\n      <td>420019</td>\n      <td>2016-04-03 23:08:23</td>\n      <td>6099873207</td>\n      <td>['Motoryzacja', 'Części samochodowe', 'Koła, f...</td>\n      <td>0</td>\n      <td>0</td>\n      <td>Malami172</td>\n      <td>500.00</td>\n      <td>0</td>\n      <td>0</td>\n      <td>0</td>\n      <td>265</td>\n      <td>pszów</td>\n      <td>motoryzacja</td>\n      <td>78.136792</td>\n    </tr>\n  </tbody>\n</table>\n<p>420020 rows × 15 columns</p>\n</div>"
     },
     "metadata": {},
     "execution_count": 94
    }
   ],
   "source": [
    "encoder=TargetEncoder()\n",
    "allegro_target['it_location_encoded']=encoder.fit_transform(allegro_target['it_location'], allegro_target['price'])\n",
    "allegro_target"
   ]
  },
  {
   "source": [
    "Jak widać target encoding wymaga tylko jednej dodatkowej kolumny, więc dużo mniej niż one-hot. Jednak ten sposób jest bardziej podatny na przeuczenia, co więcej np w tym przypadku wcześniej nieporównywalne dane (nazwy miast) zamienione zostały na wartości numeryczne, które już łatwo porównywać, co może prowadzić do błędów."
   ],
   "cell_type": "markdown",
   "metadata": {}
  },
  {
   "source": [
    "#### Inne metody encodingu"
   ],
   "cell_type": "markdown",
   "metadata": {}
  },
  {
   "source": [
    "W tej części zadania będziemy używać kolumny *main_category*. Sprawdźmy czy jest ona może bardziej \"przyjazna\" dla one-hot. Jak widać ponieżej, tak jest, ma ona tylko 27 różnych wartości, czyli przybędzie nam tylko 27 nowych kolumn po zastosowaniu one-hot."
   ],
   "cell_type": "markdown",
   "metadata": {}
  },
  {
   "cell_type": "code",
   "execution_count": 95,
   "metadata": {},
   "outputs": [
    {
     "output_type": "execute_result",
     "data": {
      "text/plain": [
       "count          420020\n",
       "unique             27\n",
       "top       dom i ogród\n",
       "freq            91042\n",
       "Name: main_category, dtype: object"
      ]
     },
     "metadata": {},
     "execution_count": 95
    }
   ],
   "source": [
    "allegro_target['main_category'].describe()"
   ]
  },
  {
   "source": [
    "##### One-hot"
   ],
   "cell_type": "markdown",
   "metadata": {}
  },
  {
   "cell_type": "code",
   "execution_count": 96,
   "metadata": {},
   "outputs": [
    {
     "output_type": "execute_result",
     "data": {
      "text/plain": [
       "   main_category_komputery  main_category_odzież, obuwie, dodatki  \\\n",
       "0                        1                                      0   \n",
       "1                        0                                      1   \n",
       "2                        0                                      0   \n",
       "3                        0                                      0   \n",
       "4                        0                                      1   \n",
       "\n",
       "   main_category_dom i ogród  main_category_książki i komiksy  \\\n",
       "0                          0                                0   \n",
       "1                          0                                0   \n",
       "2                          1                                0   \n",
       "3                          0                                1   \n",
       "4                          0                                0   \n",
       "\n",
       "   main_category_biżuteria i zegarki  main_category_rtv i agd  \\\n",
       "0                                  0                        0   \n",
       "1                                  0                        0   \n",
       "2                                  0                        0   \n",
       "3                                  0                        0   \n",
       "4                                  0                        0   \n",
       "\n",
       "   main_category_motoryzacja  main_category_dla dzieci  main_category_uroda  \\\n",
       "0                          0                         0                    0   \n",
       "1                          0                         0                    0   \n",
       "2                          0                         0                    0   \n",
       "3                          0                         0                    0   \n",
       "4                          0                         0                    0   \n",
       "\n",
       "   main_category_telefony i akcesoria  ...  main_category_filmy  \\\n",
       "0                                   0  ...                    0   \n",
       "1                                   0  ...                    0   \n",
       "2                                   0  ...                    0   \n",
       "3                                   0  ...                    0   \n",
       "4                                   0  ...                    0   \n",
       "\n",
       "   main_category_fotografia  main_category_biuro i reklama  \\\n",
       "0                         0                              0   \n",
       "1                         0                              0   \n",
       "2                         0                              0   \n",
       "3                         0                              0   \n",
       "4                         0                              0   \n",
       "\n",
       "   main_category_instrumenty  main_category_muzyka  \\\n",
       "0                          0                     0   \n",
       "1                          0                     0   \n",
       "2                          0                     0   \n",
       "3                          0                     0   \n",
       "4                          0                     0   \n",
       "\n",
       "   main_category_konsole i automaty  \\\n",
       "0                                 0   \n",
       "1                                 0   \n",
       "2                                 0   \n",
       "3                                 0   \n",
       "4                                 0   \n",
       "\n",
       "   main_category_sprzęt estradowy, studyjny i dj-ski  \\\n",
       "0                                                  0   \n",
       "1                                                  0   \n",
       "2                                                  0   \n",
       "3                                                  0   \n",
       "4                                                  0   \n",
       "\n",
       "   main_category_antyki i sztuka  main_category_bilety  \\\n",
       "0                              0                     0   \n",
       "1                              0                     0   \n",
       "2                              0                     0   \n",
       "3                              0                     0   \n",
       "4                              0                     0   \n",
       "\n",
       "   main_category_nieruchomości  \n",
       "0                            0  \n",
       "1                            0  \n",
       "2                            0  \n",
       "3                            0  \n",
       "4                            0  \n",
       "\n",
       "[5 rows x 27 columns]"
      ],
      "text/html": "<div>\n<style scoped>\n    .dataframe tbody tr th:only-of-type {\n        vertical-align: middle;\n    }\n\n    .dataframe tbody tr th {\n        vertical-align: top;\n    }\n\n    .dataframe thead th {\n        text-align: right;\n    }\n</style>\n<table border=\"1\" class=\"dataframe\">\n  <thead>\n    <tr style=\"text-align: right;\">\n      <th></th>\n      <th>main_category_komputery</th>\n      <th>main_category_odzież, obuwie, dodatki</th>\n      <th>main_category_dom i ogród</th>\n      <th>main_category_książki i komiksy</th>\n      <th>main_category_biżuteria i zegarki</th>\n      <th>main_category_rtv i agd</th>\n      <th>main_category_motoryzacja</th>\n      <th>main_category_dla dzieci</th>\n      <th>main_category_uroda</th>\n      <th>main_category_telefony i akcesoria</th>\n      <th>...</th>\n      <th>main_category_filmy</th>\n      <th>main_category_fotografia</th>\n      <th>main_category_biuro i reklama</th>\n      <th>main_category_instrumenty</th>\n      <th>main_category_muzyka</th>\n      <th>main_category_konsole i automaty</th>\n      <th>main_category_sprzęt estradowy, studyjny i dj-ski</th>\n      <th>main_category_antyki i sztuka</th>\n      <th>main_category_bilety</th>\n      <th>main_category_nieruchomości</th>\n    </tr>\n  </thead>\n  <tbody>\n    <tr>\n      <th>0</th>\n      <td>1</td>\n      <td>0</td>\n      <td>0</td>\n      <td>0</td>\n      <td>0</td>\n      <td>0</td>\n      <td>0</td>\n      <td>0</td>\n      <td>0</td>\n      <td>0</td>\n      <td>...</td>\n      <td>0</td>\n      <td>0</td>\n      <td>0</td>\n      <td>0</td>\n      <td>0</td>\n      <td>0</td>\n      <td>0</td>\n      <td>0</td>\n      <td>0</td>\n      <td>0</td>\n    </tr>\n    <tr>\n      <th>1</th>\n      <td>0</td>\n      <td>1</td>\n      <td>0</td>\n      <td>0</td>\n      <td>0</td>\n      <td>0</td>\n      <td>0</td>\n      <td>0</td>\n      <td>0</td>\n      <td>0</td>\n      <td>...</td>\n      <td>0</td>\n      <td>0</td>\n      <td>0</td>\n      <td>0</td>\n      <td>0</td>\n      <td>0</td>\n      <td>0</td>\n      <td>0</td>\n      <td>0</td>\n      <td>0</td>\n    </tr>\n    <tr>\n      <th>2</th>\n      <td>0</td>\n      <td>0</td>\n      <td>1</td>\n      <td>0</td>\n      <td>0</td>\n      <td>0</td>\n      <td>0</td>\n      <td>0</td>\n      <td>0</td>\n      <td>0</td>\n      <td>...</td>\n      <td>0</td>\n      <td>0</td>\n      <td>0</td>\n      <td>0</td>\n      <td>0</td>\n      <td>0</td>\n      <td>0</td>\n      <td>0</td>\n      <td>0</td>\n      <td>0</td>\n    </tr>\n    <tr>\n      <th>3</th>\n      <td>0</td>\n      <td>0</td>\n      <td>0</td>\n      <td>1</td>\n      <td>0</td>\n      <td>0</td>\n      <td>0</td>\n      <td>0</td>\n      <td>0</td>\n      <td>0</td>\n      <td>...</td>\n      <td>0</td>\n      <td>0</td>\n      <td>0</td>\n      <td>0</td>\n      <td>0</td>\n      <td>0</td>\n      <td>0</td>\n      <td>0</td>\n      <td>0</td>\n      <td>0</td>\n    </tr>\n    <tr>\n      <th>4</th>\n      <td>0</td>\n      <td>1</td>\n      <td>0</td>\n      <td>0</td>\n      <td>0</td>\n      <td>0</td>\n      <td>0</td>\n      <td>0</td>\n      <td>0</td>\n      <td>0</td>\n      <td>...</td>\n      <td>0</td>\n      <td>0</td>\n      <td>0</td>\n      <td>0</td>\n      <td>0</td>\n      <td>0</td>\n      <td>0</td>\n      <td>0</td>\n      <td>0</td>\n      <td>0</td>\n    </tr>\n  </tbody>\n</table>\n<p>5 rows × 27 columns</p>\n</div>"
     },
     "metadata": {},
     "execution_count": 96
    }
   ],
   "source": [
    "one_hot_enc=OneHotEncoder(use_cat_names=True).fit_transform(allegro_one_encoding['main_category'])\n",
    "one_hot_enc.head()\n",
    "\n",
    "\n"
   ]
  },
  {
   "source": [
    "Jak widzimy powstało 27 nowych kolumn, w których występują wartości 0 lub 1. Ten encoding dobrze oddziela od siebie różne kategorie."
   ],
   "cell_type": "markdown",
   "metadata": {}
  },
  {
   "source": [
    "##### Count Encoder"
   ],
   "cell_type": "markdown",
   "metadata": {}
  },
  {
   "cell_type": "code",
   "execution_count": 97,
   "metadata": {},
   "outputs": [
    {
     "output_type": "execute_result",
     "data": {
      "text/plain": [
       "   main_category\n",
       "0          14491\n",
       "1          54257\n",
       "2          91042\n",
       "3          11572\n",
       "4          54257"
      ],
      "text/html": "<div>\n<style scoped>\n    .dataframe tbody tr th:only-of-type {\n        vertical-align: middle;\n    }\n\n    .dataframe tbody tr th {\n        vertical-align: top;\n    }\n\n    .dataframe thead th {\n        text-align: right;\n    }\n</style>\n<table border=\"1\" class=\"dataframe\">\n  <thead>\n    <tr style=\"text-align: right;\">\n      <th></th>\n      <th>main_category</th>\n    </tr>\n  </thead>\n  <tbody>\n    <tr>\n      <th>0</th>\n      <td>14491</td>\n    </tr>\n    <tr>\n      <th>1</th>\n      <td>54257</td>\n    </tr>\n    <tr>\n      <th>2</th>\n      <td>91042</td>\n    </tr>\n    <tr>\n      <th>3</th>\n      <td>11572</td>\n    </tr>\n    <tr>\n      <th>4</th>\n      <td>54257</td>\n    </tr>\n  </tbody>\n</table>\n</div>"
     },
     "metadata": {},
     "execution_count": 97
    }
   ],
   "source": [
    "count_enc=CountEncoder().fit_transform(allegro_count['main_category'])\n",
    "count_enc.head()"
   ]
  },
  {
   "source": [
    "Ten encoder zlicza ilość wystąpień elementu w kolumnie i w miejscu dla danej obserwacji wpisuje odpowiednią dla kategorii ilość."
   ],
   "cell_type": "markdown",
   "metadata": {}
  },
  {
   "source": [
    "##### Binary"
   ],
   "cell_type": "markdown",
   "metadata": {}
  },
  {
   "cell_type": "code",
   "execution_count": 98,
   "metadata": {},
   "outputs": [
    {
     "output_type": "execute_result",
     "data": {
      "text/plain": [
       "   main_category_0  main_category_1  main_category_2  main_category_3  \\\n",
       "0                0                0                0                0   \n",
       "1                0                0                0                0   \n",
       "2                0                0                0                0   \n",
       "3                0                0                0                1   \n",
       "4                0                0                0                0   \n",
       "\n",
       "   main_category_4  main_category_5  \n",
       "0                0                1  \n",
       "1                1                0  \n",
       "2                1                1  \n",
       "3                0                0  \n",
       "4                1                0  "
      ],
      "text/html": "<div>\n<style scoped>\n    .dataframe tbody tr th:only-of-type {\n        vertical-align: middle;\n    }\n\n    .dataframe tbody tr th {\n        vertical-align: top;\n    }\n\n    .dataframe thead th {\n        text-align: right;\n    }\n</style>\n<table border=\"1\" class=\"dataframe\">\n  <thead>\n    <tr style=\"text-align: right;\">\n      <th></th>\n      <th>main_category_0</th>\n      <th>main_category_1</th>\n      <th>main_category_2</th>\n      <th>main_category_3</th>\n      <th>main_category_4</th>\n      <th>main_category_5</th>\n    </tr>\n  </thead>\n  <tbody>\n    <tr>\n      <th>0</th>\n      <td>0</td>\n      <td>0</td>\n      <td>0</td>\n      <td>0</td>\n      <td>0</td>\n      <td>1</td>\n    </tr>\n    <tr>\n      <th>1</th>\n      <td>0</td>\n      <td>0</td>\n      <td>0</td>\n      <td>0</td>\n      <td>1</td>\n      <td>0</td>\n    </tr>\n    <tr>\n      <th>2</th>\n      <td>0</td>\n      <td>0</td>\n      <td>0</td>\n      <td>0</td>\n      <td>1</td>\n      <td>1</td>\n    </tr>\n    <tr>\n      <th>3</th>\n      <td>0</td>\n      <td>0</td>\n      <td>0</td>\n      <td>1</td>\n      <td>0</td>\n      <td>0</td>\n    </tr>\n    <tr>\n      <th>4</th>\n      <td>0</td>\n      <td>0</td>\n      <td>0</td>\n      <td>0</td>\n      <td>1</td>\n      <td>0</td>\n    </tr>\n  </tbody>\n</table>\n</div>"
     },
     "metadata": {},
     "execution_count": 98
    }
   ],
   "source": [
    "binary_enc=BinaryEncoder().fit_transform(allegro_binary['main_category'])\n",
    "binary_enc.head()"
   ]
  },
  {
   "source": [
    "Binary encoding również jest odpowiednie dla zmiennych kategorycznych, jest bardzo podobny do OneHot encoding, różnica jest to, że przechowuje categorie jako binarne bitstringi."
   ],
   "cell_type": "markdown",
   "metadata": {}
  },
  {
   "source": [
    "### 2. Uzupełnianie braków"
   ],
   "cell_type": "markdown",
   "metadata": {}
  },
  {
   "cell_type": "code",
   "execution_count": 99,
   "metadata": {},
   "outputs": [
    {
     "output_type": "execute_result",
     "data": {
      "text/plain": [
       "   lp                 date     item_id  \\\n",
       "0   0  2016-04-03 21:21:08  4753602474   \n",
       "1   1  2016-04-03 15:35:26  4773181874   \n",
       "2   2  2016-04-03 14:14:31  4781627074   \n",
       "3   3  2016-04-03 19:55:44  4783971474   \n",
       "4   4  2016-04-03 18:05:54  4787908274   \n",
       "\n",
       "                                          categories  pay_option_on_delivery  \\\n",
       "0  ['Komputery', 'Dyski i napędy', 'Nośniki', 'No...                       1   \n",
       "1  ['Odzież, Obuwie, Dodatki', 'Bielizna damska',...                       1   \n",
       "2  ['Dom i Ogród', 'Budownictwo i Akcesoria', 'Śc...                       1   \n",
       "3  ['Książki i Komiksy', 'Poradniki i albumy', 'Z...                       1   \n",
       "4  ['Odzież, Obuwie, Dodatki', 'Ślub i wesele', '...                       1   \n",
       "\n",
       "   pay_option_transfer         seller   price  it_is_allegro_standard  \\\n",
       "0                    1    radzioch666   59.99                       1   \n",
       "1                    1  InwestycjeNET    4.90                       1   \n",
       "2                    1    otostyl_com  109.90                       1   \n",
       "3                    1        Matfel1   18.50                       0   \n",
       "4                    1      PPHU_RICO   19.90                       1   \n",
       "\n",
       "   it_quantity  it_is_brand_zone  it_seller_rating          it_location  \\\n",
       "0          997                 0             50177             warszawa   \n",
       "1         9288                 0             12428             warszawa   \n",
       "2          895                 0              7389               leszno   \n",
       "3          971                 0             15006  wola krzysztoporska   \n",
       "4          950                 0             32975            białystok   \n",
       "\n",
       "             main_category  \n",
       "0                komputery  \n",
       "1  odzież, obuwie, dodatki  \n",
       "2              dom i ogród  \n",
       "3        książki i komiksy  \n",
       "4  odzież, obuwie, dodatki  "
      ],
      "text/html": "<div>\n<style scoped>\n    .dataframe tbody tr th:only-of-type {\n        vertical-align: middle;\n    }\n\n    .dataframe tbody tr th {\n        vertical-align: top;\n    }\n\n    .dataframe thead th {\n        text-align: right;\n    }\n</style>\n<table border=\"1\" class=\"dataframe\">\n  <thead>\n    <tr style=\"text-align: right;\">\n      <th></th>\n      <th>lp</th>\n      <th>date</th>\n      <th>item_id</th>\n      <th>categories</th>\n      <th>pay_option_on_delivery</th>\n      <th>pay_option_transfer</th>\n      <th>seller</th>\n      <th>price</th>\n      <th>it_is_allegro_standard</th>\n      <th>it_quantity</th>\n      <th>it_is_brand_zone</th>\n      <th>it_seller_rating</th>\n      <th>it_location</th>\n      <th>main_category</th>\n    </tr>\n  </thead>\n  <tbody>\n    <tr>\n      <th>0</th>\n      <td>0</td>\n      <td>2016-04-03 21:21:08</td>\n      <td>4753602474</td>\n      <td>['Komputery', 'Dyski i napędy', 'Nośniki', 'No...</td>\n      <td>1</td>\n      <td>1</td>\n      <td>radzioch666</td>\n      <td>59.99</td>\n      <td>1</td>\n      <td>997</td>\n      <td>0</td>\n      <td>50177</td>\n      <td>warszawa</td>\n      <td>komputery</td>\n    </tr>\n    <tr>\n      <th>1</th>\n      <td>1</td>\n      <td>2016-04-03 15:35:26</td>\n      <td>4773181874</td>\n      <td>['Odzież, Obuwie, Dodatki', 'Bielizna damska',...</td>\n      <td>1</td>\n      <td>1</td>\n      <td>InwestycjeNET</td>\n      <td>4.90</td>\n      <td>1</td>\n      <td>9288</td>\n      <td>0</td>\n      <td>12428</td>\n      <td>warszawa</td>\n      <td>odzież, obuwie, dodatki</td>\n    </tr>\n    <tr>\n      <th>2</th>\n      <td>2</td>\n      <td>2016-04-03 14:14:31</td>\n      <td>4781627074</td>\n      <td>['Dom i Ogród', 'Budownictwo i Akcesoria', 'Śc...</td>\n      <td>1</td>\n      <td>1</td>\n      <td>otostyl_com</td>\n      <td>109.90</td>\n      <td>1</td>\n      <td>895</td>\n      <td>0</td>\n      <td>7389</td>\n      <td>leszno</td>\n      <td>dom i ogród</td>\n    </tr>\n    <tr>\n      <th>3</th>\n      <td>3</td>\n      <td>2016-04-03 19:55:44</td>\n      <td>4783971474</td>\n      <td>['Książki i Komiksy', 'Poradniki i albumy', 'Z...</td>\n      <td>1</td>\n      <td>1</td>\n      <td>Matfel1</td>\n      <td>18.50</td>\n      <td>0</td>\n      <td>971</td>\n      <td>0</td>\n      <td>15006</td>\n      <td>wola krzysztoporska</td>\n      <td>książki i komiksy</td>\n    </tr>\n    <tr>\n      <th>4</th>\n      <td>4</td>\n      <td>2016-04-03 18:05:54</td>\n      <td>4787908274</td>\n      <td>['Odzież, Obuwie, Dodatki', 'Ślub i wesele', '...</td>\n      <td>1</td>\n      <td>1</td>\n      <td>PPHU_RICO</td>\n      <td>19.90</td>\n      <td>1</td>\n      <td>950</td>\n      <td>0</td>\n      <td>32975</td>\n      <td>białystok</td>\n      <td>odzież, obuwie, dodatki</td>\n    </tr>\n  </tbody>\n</table>\n</div>"
     },
     "metadata": {},
     "execution_count": 99
    }
   ],
   "source": [
    "allegro.head()"
   ]
  },
  {
   "source": [
    "Ograniczam zbiór danych, w szczególności jego rozmiar."
   ],
   "cell_type": "markdown",
   "metadata": {}
  },
  {
   "cell_type": "code",
   "execution_count": 100,
   "metadata": {},
   "outputs": [
    {
     "output_type": "execute_result",
     "data": {
      "text/plain": [
       "    price  it_seller_rating  it_quantity\n",
       "1    4.90             12428         9288\n",
       "2  109.90              7389          895\n",
       "3   18.50             15006          971\n",
       "4   19.90             32975          950\n",
       "5   10.99             39371          742"
      ],
      "text/html": "<div>\n<style scoped>\n    .dataframe tbody tr th:only-of-type {\n        vertical-align: middle;\n    }\n\n    .dataframe tbody tr th {\n        vertical-align: top;\n    }\n\n    .dataframe thead th {\n        text-align: right;\n    }\n</style>\n<table border=\"1\" class=\"dataframe\">\n  <thead>\n    <tr style=\"text-align: right;\">\n      <th></th>\n      <th>price</th>\n      <th>it_seller_rating</th>\n      <th>it_quantity</th>\n    </tr>\n  </thead>\n  <tbody>\n    <tr>\n      <th>1</th>\n      <td>4.90</td>\n      <td>12428</td>\n      <td>9288</td>\n    </tr>\n    <tr>\n      <th>2</th>\n      <td>109.90</td>\n      <td>7389</td>\n      <td>895</td>\n    </tr>\n    <tr>\n      <th>3</th>\n      <td>18.50</td>\n      <td>15006</td>\n      <td>971</td>\n    </tr>\n    <tr>\n      <th>4</th>\n      <td>19.90</td>\n      <td>32975</td>\n      <td>950</td>\n    </tr>\n    <tr>\n      <th>5</th>\n      <td>10.99</td>\n      <td>39371</td>\n      <td>742</td>\n    </tr>\n  </tbody>\n</table>\n</div>"
     },
     "metadata": {},
     "execution_count": 100
    }
   ],
   "source": [
    "allegro_cut=allegro[['price', 'it_seller_rating', 'it_quantity']].copy()\n",
    "allegro_cut=allegro_cut[1:2000]\n",
    "allegro_cut_1=allegro_cut.copy()\n",
    "allegro_cut.head()"
   ]
  },
  {
   "source": [
    "Usuńmy 10% obserwacji ze zmiennej it_seller_rating i uzupełnijmy je z użyciem narzędzia Nearest neighbors imputation."
   ],
   "cell_type": "markdown",
   "metadata": {}
  },
  {
   "cell_type": "code",
   "execution_count": 101,
   "metadata": {},
   "outputs": [
    {
     "output_type": "stream",
     "name": "stdout",
     "text": [
      "<class 'pandas.core.frame.DataFrame'>\nRangeIndex: 1999 entries, 1 to 1999\nData columns (total 3 columns):\n #   Column            Non-Null Count  Dtype  \n---  ------            --------------  -----  \n 0   price             1999 non-null   float64\n 1   it_seller_rating  1799 non-null   float64\n 2   it_quantity       1999 non-null   int64  \ndtypes: float64(2), int64(1)\nmemory usage: 46.9 KB\n"
     ]
    }
   ],
   "source": [
    "allegro_cut.loc[allegro_cut.sample(frac=0.1).index, 'it_seller_rating'] = np.nan\n",
    "allegro_cut.info()"
   ]
  },
  {
   "cell_type": "code",
   "execution_count": 102,
   "metadata": {},
   "outputs": [
    {
     "output_type": "execute_result",
     "data": {
      "text/plain": [
       "     price  it_seller_rating  it_quantity\n",
       "1     4.90           12428.0         9288\n",
       "2   109.90            7389.0          895\n",
       "3    18.50           15006.0          971\n",
       "4    19.90           32975.0          950\n",
       "5    10.99           39371.0          742\n",
       "6    10.99           39371.0          742\n",
       "7    28.99               NaN          886\n",
       "8    12.00            5403.0           49\n",
       "9    45.00           15561.0            4\n",
       "10    1.50            5430.0            0"
      ],
      "text/html": "<div>\n<style scoped>\n    .dataframe tbody tr th:only-of-type {\n        vertical-align: middle;\n    }\n\n    .dataframe tbody tr th {\n        vertical-align: top;\n    }\n\n    .dataframe thead th {\n        text-align: right;\n    }\n</style>\n<table border=\"1\" class=\"dataframe\">\n  <thead>\n    <tr style=\"text-align: right;\">\n      <th></th>\n      <th>price</th>\n      <th>it_seller_rating</th>\n      <th>it_quantity</th>\n    </tr>\n  </thead>\n  <tbody>\n    <tr>\n      <th>1</th>\n      <td>4.90</td>\n      <td>12428.0</td>\n      <td>9288</td>\n    </tr>\n    <tr>\n      <th>2</th>\n      <td>109.90</td>\n      <td>7389.0</td>\n      <td>895</td>\n    </tr>\n    <tr>\n      <th>3</th>\n      <td>18.50</td>\n      <td>15006.0</td>\n      <td>971</td>\n    </tr>\n    <tr>\n      <th>4</th>\n      <td>19.90</td>\n      <td>32975.0</td>\n      <td>950</td>\n    </tr>\n    <tr>\n      <th>5</th>\n      <td>10.99</td>\n      <td>39371.0</td>\n      <td>742</td>\n    </tr>\n    <tr>\n      <th>6</th>\n      <td>10.99</td>\n      <td>39371.0</td>\n      <td>742</td>\n    </tr>\n    <tr>\n      <th>7</th>\n      <td>28.99</td>\n      <td>NaN</td>\n      <td>886</td>\n    </tr>\n    <tr>\n      <th>8</th>\n      <td>12.00</td>\n      <td>5403.0</td>\n      <td>49</td>\n    </tr>\n    <tr>\n      <th>9</th>\n      <td>45.00</td>\n      <td>15561.0</td>\n      <td>4</td>\n    </tr>\n    <tr>\n      <th>10</th>\n      <td>1.50</td>\n      <td>5430.0</td>\n      <td>0</td>\n    </tr>\n  </tbody>\n</table>\n</div>"
     },
     "metadata": {},
     "execution_count": 102
    }
   ],
   "source": [
    "allegro_cut.head(10)"
   ]
  },
  {
   "cell_type": "code",
   "execution_count": 103,
   "metadata": {},
   "outputs": [
    {
     "output_type": "stream",
     "name": "stdout",
     "text": [
      "<class 'pandas.core.frame.DataFrame'>\nRangeIndex: 1999 entries, 0 to 1998\nData columns (total 3 columns):\n #   Column            Non-Null Count  Dtype  \n---  ------            --------------  -----  \n 0   price             1999 non-null   float64\n 1   it_seller_rating  1999 non-null   float64\n 2   it_quantity       1999 non-null   float64\ndtypes: float64(3)\nmemory usage: 46.9 KB\n"
     ]
    }
   ],
   "source": [
    "imputer=KNNImputer()\n",
    "allegro_imputed=pd.DataFrame(imputer.fit_transform(allegro_cut), columns=allegro_cut.columns)\n",
    "allegro_imputed.info()"
   ]
  },
  {
   "cell_type": "code",
   "execution_count": 104,
   "metadata": {},
   "outputs": [
    {
     "output_type": "execute_result",
     "data": {
      "text/plain": [
       "0       12428.0\n",
       "1        7389.0\n",
       "2       15006.0\n",
       "3       32975.0\n",
       "4       39371.0\n",
       "         ...   \n",
       "1994     2977.0\n",
       "1995      260.0\n",
       "1996      602.0\n",
       "1997      761.0\n",
       "1998     1050.0\n",
       "Name: it_seller_rating, Length: 1999, dtype: float64"
      ]
     },
     "metadata": {},
     "execution_count": 104
    }
   ],
   "source": [
    "allegro_imputed['it_seller_rating']"
   ]
  },
  {
   "cell_type": "code",
   "execution_count": 105,
   "metadata": {},
   "outputs": [],
   "source": [
    "error=np.sqrt(mean_squared_error(allegro_imputed[\"it_seller_rating\"], allegro_cut_1[\"it_seller_rating\"]))"
   ]
  },
  {
   "source": [
    "Analogiczny eksperyment powtórzony 10 razy."
   ],
   "cell_type": "markdown",
   "metadata": {}
  },
  {
   "cell_type": "code",
   "execution_count": 108,
   "metadata": {},
   "outputs": [
    {
     "output_type": "stream",
     "name": "stdout",
     "text": [
      "29994.39595584174\n",
      "29868.689418438877\n",
      "30967.092502083222\n",
      "31844.13294961197\n",
      "32222.307746994004\n",
      "33630.67834101953\n",
      "33789.9853195932\n",
      "34138.71604522884\n",
      "34656.03005916656\n",
      "35369.382736903004\n"
     ]
    }
   ],
   "source": [
    "rmse_error=[]\n",
    "for i in range (10):\n",
    "    allegro_cut.loc[allegro_cut_1.sample(frac=0.1).index, 'it_seller_rating'] = np.nan\n",
    "    imputer=KNNImputer(n_neighbors=4)\n",
    "    allegro_imputed=pd.DataFrame(imputer.fit_transform(allegro_cut), columns=allegro_cut.columns)\n",
    "    error=np.sqrt(mean_squared_error(allegro_imputed[\"it_seller_rating\"], allegro_cut_1[\"it_seller_rating\"]))\n",
    "    rmse_error.append(error)\n",
    "    print(error)"
   ]
  },
  {
   "cell_type": "code",
   "execution_count": 109,
   "metadata": {},
   "outputs": [
    {
     "output_type": "execute_result",
     "data": {
      "text/plain": [
       "1853.3531211608679"
      ]
     },
     "metadata": {},
     "execution_count": 109
    }
   ],
   "source": [
    "np.std(rmse_error)"
   ]
  },
  {
   "source": [
    "Teraz zrobię analogiczną analizę usuwając losowo 10% kolumny *it_seller_rating* oraz 10% kolumny *it_quantity*."
   ],
   "cell_type": "markdown",
   "metadata": {}
  },
  {
   "cell_type": "code",
   "execution_count": 111,
   "metadata": {},
   "outputs": [
    {
     "output_type": "stream",
     "name": "stdout",
     "text": [
      "RMSE it_seller_ranking  34072.669837839356\n",
      "RMSE it_quantity  6472.698835057497\n",
      "RMSE it_seller_ranking  34324.44910671805\n",
      "RMSE it_quantity  10293.18810272583\n",
      "RMSE it_seller_ranking  35980.664151889\n",
      "RMSE it_quantity  11396.847577027747\n",
      "RMSE it_seller_ranking  35651.85705186949\n",
      "RMSE it_quantity  13504.022175078617\n",
      "RMSE it_seller_ranking  36415.88444697841\n",
      "RMSE it_quantity  15141.610958655427\n",
      "RMSE it_seller_ranking  35778.31136772546\n",
      "RMSE it_quantity  16417.57840044147\n",
      "RMSE it_seller_ranking  36283.304076654225\n",
      "RMSE it_quantity  17427.350249477193\n",
      "RMSE it_seller_ranking  36301.119827700786\n",
      "RMSE it_quantity  18308.417395540422\n",
      "RMSE it_seller_ranking  37471.50724296685\n",
      "RMSE it_quantity  19189.97655597472\n",
      "RMSE it_seller_ranking  37325.999505415646\n",
      "RMSE it_quantity  20001.781757166646\n"
     ]
    }
   ],
   "source": [
    "rmse_seller_error=[]\n",
    "rmse_quantity_error=[]\n",
    "for i in range (10):\n",
    "    allegro_cut.loc[allegro_cut_1.sample(frac=0.1).index, 'it_seller_rating'] = np.nan\n",
    "    allegro_cut.loc[allegro_cut.sample(frac=0.1).index, 'it_quantity'] = np.nan\n",
    "    imputer=KNNImputer(n_neighbors=4)\n",
    "    allegro_imputed=pd.DataFrame(imputer.fit_transform(allegro_cut), columns=allegro_cut.columns)\n",
    "    error1=np.sqrt(mean_squared_error(allegro_imputed[\"it_seller_rating\"], allegro_cut_1[\"it_seller_rating\"]))\n",
    "    error2=np.sqrt(mean_squared_error(allegro_imputed[\"it_quantity\"], allegro_cut_1[\"it_quantity\"]))\n",
    "    rmse_seller_error.append(error1)\n",
    "    rmse_quantity_error.append(error2)\n",
    "    print(\"RMSE it_seller_ranking \", error1)\n",
    "    print(\"RMSE it_quantity \", error2)"
   ]
  },
  {
   "cell_type": "code",
   "execution_count": 113,
   "metadata": {},
   "outputs": [
    {
     "output_type": "stream",
     "name": "stdout",
     "text": [
      "1046.1718821040038\n4137.506437875874\n"
     ]
    }
   ],
   "source": [
    "print(np.std(rmse_seller_error))\n",
    "print(np.std(rmse_quantity_error))"
   ]
  },
  {
   "cell_type": "code",
   "execution_count": 116,
   "metadata": {},
   "outputs": [
    {
     "output_type": "execute_result",
     "data": {
      "text/plain": [
       "<matplotlib.legend.Legend at 0x4f9a1028>"
      ]
     },
     "metadata": {},
     "execution_count": 116
    },
    {
     "output_type": "display_data",
     "data": {
      "text/plain": "<Figure size 432x288 with 1 Axes>",
      "image/svg+xml": "<?xml version=\"1.0\" encoding=\"utf-8\" standalone=\"no\"?>\r\n<!DOCTYPE svg PUBLIC \"-//W3C//DTD SVG 1.1//EN\"\r\n  \"http://www.w3.org/Graphics/SVG/1.1/DTD/svg11.dtd\">\r\n<!-- Created with matplotlib (https://matplotlib.org/) -->\r\n<svg height=\"248.518125pt\" version=\"1.1\" viewBox=\"0 0 388.0125 248.518125\" width=\"388.0125pt\" xmlns=\"http://www.w3.org/2000/svg\" xmlns:xlink=\"http://www.w3.org/1999/xlink\">\r\n <metadata>\r\n  <rdf:RDF xmlns:cc=\"http://creativecommons.org/ns#\" xmlns:dc=\"http://purl.org/dc/elements/1.1/\" xmlns:rdf=\"http://www.w3.org/1999/02/22-rdf-syntax-ns#\">\r\n   <cc:Work>\r\n    <dc:type rdf:resource=\"http://purl.org/dc/dcmitype/StillImage\"/>\r\n    <dc:date>2021-03-26T13:46:13.771425</dc:date>\r\n    <dc:format>image/svg+xml</dc:format>\r\n    <dc:creator>\r\n     <cc:Agent>\r\n      <dc:title>Matplotlib v3.3.4, https://matplotlib.org/</dc:title>\r\n     </cc:Agent>\r\n    </dc:creator>\r\n   </cc:Work>\r\n  </rdf:RDF>\r\n </metadata>\r\n <defs>\r\n  <style type=\"text/css\">*{stroke-linecap:butt;stroke-linejoin:round;}</style>\r\n </defs>\r\n <g id=\"figure_1\">\r\n  <g id=\"patch_1\">\r\n   <path d=\"M 0 248.518125 \r\nL 388.0125 248.518125 \r\nL 388.0125 0 \r\nL 0 0 \r\nz\r\n\" style=\"fill:none;\"/>\r\n  </g>\r\n  <g id=\"axes_1\">\r\n   <g id=\"patch_2\">\r\n    <path d=\"M 46.0125 224.64 \r\nL 380.8125 224.64 \r\nL 380.8125 7.2 \r\nL 46.0125 7.2 \r\nz\r\n\" style=\"fill:#ffffff;\"/>\r\n   </g>\r\n   <g id=\"matplotlib.axis_1\">\r\n    <g id=\"xtick_1\">\r\n     <g id=\"line2d_1\">\r\n      <defs>\r\n       <path d=\"M 0 0 \r\nL 0 3.5 \r\n\" id=\"m94cf366879\" style=\"stroke:#000000;stroke-width:0.8;\"/>\r\n      </defs>\r\n      <g>\r\n       <use style=\"stroke:#000000;stroke-width:0.8;\" x=\"95.048864\" xlink:href=\"#m94cf366879\" y=\"224.64\"/>\r\n      </g>\r\n     </g>\r\n     <g id=\"text_1\">\r\n      <!-- 2 -->\r\n      <g transform=\"translate(91.867614 239.238437)scale(0.1 -0.1)\">\r\n       <defs>\r\n        <path d=\"M 19.1875 8.296875 \r\nL 53.609375 8.296875 \r\nL 53.609375 0 \r\nL 7.328125 0 \r\nL 7.328125 8.296875 \r\nQ 12.9375 14.109375 22.625 23.890625 \r\nQ 32.328125 33.6875 34.8125 36.53125 \r\nQ 39.546875 41.84375 41.421875 45.53125 \r\nQ 43.3125 49.21875 43.3125 52.78125 \r\nQ 43.3125 58.59375 39.234375 62.25 \r\nQ 35.15625 65.921875 28.609375 65.921875 \r\nQ 23.96875 65.921875 18.8125 64.3125 \r\nQ 13.671875 62.703125 7.8125 59.421875 \r\nL 7.8125 69.390625 \r\nQ 13.765625 71.78125 18.9375 73 \r\nQ 24.125 74.21875 28.421875 74.21875 \r\nQ 39.75 74.21875 46.484375 68.546875 \r\nQ 53.21875 62.890625 53.21875 53.421875 \r\nQ 53.21875 48.921875 51.53125 44.890625 \r\nQ 49.859375 40.875 45.40625 35.40625 \r\nQ 44.1875 33.984375 37.640625 27.21875 \r\nQ 31.109375 20.453125 19.1875 8.296875 \r\nz\r\n\" id=\"DejaVuSans-50\"/>\r\n       </defs>\r\n       <use xlink:href=\"#DejaVuSans-50\"/>\r\n      </g>\r\n     </g>\r\n    </g>\r\n    <g id=\"xtick_2\">\r\n     <g id=\"line2d_2\">\r\n      <g>\r\n       <use style=\"stroke:#000000;stroke-width:0.8;\" x=\"162.685227\" xlink:href=\"#m94cf366879\" y=\"224.64\"/>\r\n      </g>\r\n     </g>\r\n     <g id=\"text_2\">\r\n      <!-- 4 -->\r\n      <g transform=\"translate(159.503977 239.238437)scale(0.1 -0.1)\">\r\n       <defs>\r\n        <path d=\"M 37.796875 64.3125 \r\nL 12.890625 25.390625 \r\nL 37.796875 25.390625 \r\nz\r\nM 35.203125 72.90625 \r\nL 47.609375 72.90625 \r\nL 47.609375 25.390625 \r\nL 58.015625 25.390625 \r\nL 58.015625 17.1875 \r\nL 47.609375 17.1875 \r\nL 47.609375 0 \r\nL 37.796875 0 \r\nL 37.796875 17.1875 \r\nL 4.890625 17.1875 \r\nL 4.890625 26.703125 \r\nz\r\n\" id=\"DejaVuSans-52\"/>\r\n       </defs>\r\n       <use xlink:href=\"#DejaVuSans-52\"/>\r\n      </g>\r\n     </g>\r\n    </g>\r\n    <g id=\"xtick_3\">\r\n     <g id=\"line2d_3\">\r\n      <g>\r\n       <use style=\"stroke:#000000;stroke-width:0.8;\" x=\"230.321591\" xlink:href=\"#m94cf366879\" y=\"224.64\"/>\r\n      </g>\r\n     </g>\r\n     <g id=\"text_3\">\r\n      <!-- 6 -->\r\n      <g transform=\"translate(227.140341 239.238437)scale(0.1 -0.1)\">\r\n       <defs>\r\n        <path d=\"M 33.015625 40.375 \r\nQ 26.375 40.375 22.484375 35.828125 \r\nQ 18.609375 31.296875 18.609375 23.390625 \r\nQ 18.609375 15.53125 22.484375 10.953125 \r\nQ 26.375 6.390625 33.015625 6.390625 \r\nQ 39.65625 6.390625 43.53125 10.953125 \r\nQ 47.40625 15.53125 47.40625 23.390625 \r\nQ 47.40625 31.296875 43.53125 35.828125 \r\nQ 39.65625 40.375 33.015625 40.375 \r\nz\r\nM 52.59375 71.296875 \r\nL 52.59375 62.3125 \r\nQ 48.875 64.0625 45.09375 64.984375 \r\nQ 41.3125 65.921875 37.59375 65.921875 \r\nQ 27.828125 65.921875 22.671875 59.328125 \r\nQ 17.53125 52.734375 16.796875 39.40625 \r\nQ 19.671875 43.65625 24.015625 45.921875 \r\nQ 28.375 48.1875 33.59375 48.1875 \r\nQ 44.578125 48.1875 50.953125 41.515625 \r\nQ 57.328125 34.859375 57.328125 23.390625 \r\nQ 57.328125 12.15625 50.6875 5.359375 \r\nQ 44.046875 -1.421875 33.015625 -1.421875 \r\nQ 20.359375 -1.421875 13.671875 8.265625 \r\nQ 6.984375 17.96875 6.984375 36.375 \r\nQ 6.984375 53.65625 15.1875 63.9375 \r\nQ 23.390625 74.21875 37.203125 74.21875 \r\nQ 40.921875 74.21875 44.703125 73.484375 \r\nQ 48.484375 72.75 52.59375 71.296875 \r\nz\r\n\" id=\"DejaVuSans-54\"/>\r\n       </defs>\r\n       <use xlink:href=\"#DejaVuSans-54\"/>\r\n      </g>\r\n     </g>\r\n    </g>\r\n    <g id=\"xtick_4\">\r\n     <g id=\"line2d_4\">\r\n      <g>\r\n       <use style=\"stroke:#000000;stroke-width:0.8;\" x=\"297.957955\" xlink:href=\"#m94cf366879\" y=\"224.64\"/>\r\n      </g>\r\n     </g>\r\n     <g id=\"text_4\">\r\n      <!-- 8 -->\r\n      <g transform=\"translate(294.776705 239.238437)scale(0.1 -0.1)\">\r\n       <defs>\r\n        <path d=\"M 31.78125 34.625 \r\nQ 24.75 34.625 20.71875 30.859375 \r\nQ 16.703125 27.09375 16.703125 20.515625 \r\nQ 16.703125 13.921875 20.71875 10.15625 \r\nQ 24.75 6.390625 31.78125 6.390625 \r\nQ 38.8125 6.390625 42.859375 10.171875 \r\nQ 46.921875 13.96875 46.921875 20.515625 \r\nQ 46.921875 27.09375 42.890625 30.859375 \r\nQ 38.875 34.625 31.78125 34.625 \r\nz\r\nM 21.921875 38.8125 \r\nQ 15.578125 40.375 12.03125 44.71875 \r\nQ 8.5 49.078125 8.5 55.328125 \r\nQ 8.5 64.0625 14.71875 69.140625 \r\nQ 20.953125 74.21875 31.78125 74.21875 \r\nQ 42.671875 74.21875 48.875 69.140625 \r\nQ 55.078125 64.0625 55.078125 55.328125 \r\nQ 55.078125 49.078125 51.53125 44.71875 \r\nQ 48 40.375 41.703125 38.8125 \r\nQ 48.828125 37.15625 52.796875 32.3125 \r\nQ 56.78125 27.484375 56.78125 20.515625 \r\nQ 56.78125 9.90625 50.3125 4.234375 \r\nQ 43.84375 -1.421875 31.78125 -1.421875 \r\nQ 19.734375 -1.421875 13.25 4.234375 \r\nQ 6.78125 9.90625 6.78125 20.515625 \r\nQ 6.78125 27.484375 10.78125 32.3125 \r\nQ 14.796875 37.15625 21.921875 38.8125 \r\nz\r\nM 18.3125 54.390625 \r\nQ 18.3125 48.734375 21.84375 45.5625 \r\nQ 25.390625 42.390625 31.78125 42.390625 \r\nQ 38.140625 42.390625 41.71875 45.5625 \r\nQ 45.3125 48.734375 45.3125 54.390625 \r\nQ 45.3125 60.0625 41.71875 63.234375 \r\nQ 38.140625 66.40625 31.78125 66.40625 \r\nQ 25.390625 66.40625 21.84375 63.234375 \r\nQ 18.3125 60.0625 18.3125 54.390625 \r\nz\r\n\" id=\"DejaVuSans-56\"/>\r\n       </defs>\r\n       <use xlink:href=\"#DejaVuSans-56\"/>\r\n      </g>\r\n     </g>\r\n    </g>\r\n    <g id=\"xtick_5\">\r\n     <g id=\"line2d_5\">\r\n      <g>\r\n       <use style=\"stroke:#000000;stroke-width:0.8;\" x=\"365.594318\" xlink:href=\"#m94cf366879\" y=\"224.64\"/>\r\n      </g>\r\n     </g>\r\n     <g id=\"text_5\">\r\n      <!-- 10 -->\r\n      <g transform=\"translate(359.231818 239.238437)scale(0.1 -0.1)\">\r\n       <defs>\r\n        <path d=\"M 12.40625 8.296875 \r\nL 28.515625 8.296875 \r\nL 28.515625 63.921875 \r\nL 10.984375 60.40625 \r\nL 10.984375 69.390625 \r\nL 28.421875 72.90625 \r\nL 38.28125 72.90625 \r\nL 38.28125 8.296875 \r\nL 54.390625 8.296875 \r\nL 54.390625 0 \r\nL 12.40625 0 \r\nz\r\n\" id=\"DejaVuSans-49\"/>\r\n        <path d=\"M 31.78125 66.40625 \r\nQ 24.171875 66.40625 20.328125 58.90625 \r\nQ 16.5 51.421875 16.5 36.375 \r\nQ 16.5 21.390625 20.328125 13.890625 \r\nQ 24.171875 6.390625 31.78125 6.390625 \r\nQ 39.453125 6.390625 43.28125 13.890625 \r\nQ 47.125 21.390625 47.125 36.375 \r\nQ 47.125 51.421875 43.28125 58.90625 \r\nQ 39.453125 66.40625 31.78125 66.40625 \r\nz\r\nM 31.78125 74.21875 \r\nQ 44.046875 74.21875 50.515625 64.515625 \r\nQ 56.984375 54.828125 56.984375 36.375 \r\nQ 56.984375 17.96875 50.515625 8.265625 \r\nQ 44.046875 -1.421875 31.78125 -1.421875 \r\nQ 19.53125 -1.421875 13.0625 8.265625 \r\nQ 6.59375 17.96875 6.59375 36.375 \r\nQ 6.59375 54.828125 13.0625 64.515625 \r\nQ 19.53125 74.21875 31.78125 74.21875 \r\nz\r\n\" id=\"DejaVuSans-48\"/>\r\n       </defs>\r\n       <use xlink:href=\"#DejaVuSans-49\"/>\r\n       <use x=\"63.623047\" xlink:href=\"#DejaVuSans-48\"/>\r\n      </g>\r\n     </g>\r\n    </g>\r\n   </g>\r\n   <g id=\"matplotlib.axis_2\">\r\n    <g id=\"ytick_1\">\r\n     <g id=\"line2d_6\">\r\n      <defs>\r\n       <path d=\"M 0 0 \r\nL -3.5 0 \r\n\" id=\"mee3d12493c\" style=\"stroke:#000000;stroke-width:0.8;\"/>\r\n      </defs>\r\n      <g>\r\n       <use style=\"stroke:#000000;stroke-width:0.8;\" x=\"46.0125\" xlink:href=\"#mee3d12493c\" y=\"211.342298\"/>\r\n      </g>\r\n     </g>\r\n     <g id=\"text_6\">\r\n      <!-- 30000 -->\r\n      <g transform=\"translate(7.2 215.141517)scale(0.1 -0.1)\">\r\n       <defs>\r\n        <path d=\"M 40.578125 39.3125 \r\nQ 47.65625 37.796875 51.625 33 \r\nQ 55.609375 28.21875 55.609375 21.1875 \r\nQ 55.609375 10.40625 48.1875 4.484375 \r\nQ 40.765625 -1.421875 27.09375 -1.421875 \r\nQ 22.515625 -1.421875 17.65625 -0.515625 \r\nQ 12.796875 0.390625 7.625 2.203125 \r\nL 7.625 11.71875 \r\nQ 11.71875 9.328125 16.59375 8.109375 \r\nQ 21.484375 6.890625 26.8125 6.890625 \r\nQ 36.078125 6.890625 40.9375 10.546875 \r\nQ 45.796875 14.203125 45.796875 21.1875 \r\nQ 45.796875 27.640625 41.28125 31.265625 \r\nQ 36.765625 34.90625 28.71875 34.90625 \r\nL 20.21875 34.90625 \r\nL 20.21875 43.015625 \r\nL 29.109375 43.015625 \r\nQ 36.375 43.015625 40.234375 45.921875 \r\nQ 44.09375 48.828125 44.09375 54.296875 \r\nQ 44.09375 59.90625 40.109375 62.90625 \r\nQ 36.140625 65.921875 28.71875 65.921875 \r\nQ 24.65625 65.921875 20.015625 65.03125 \r\nQ 15.375 64.15625 9.8125 62.3125 \r\nL 9.8125 71.09375 \r\nQ 15.4375 72.65625 20.34375 73.4375 \r\nQ 25.25 74.21875 29.59375 74.21875 \r\nQ 40.828125 74.21875 47.359375 69.109375 \r\nQ 53.90625 64.015625 53.90625 55.328125 \r\nQ 53.90625 49.265625 50.4375 45.09375 \r\nQ 46.96875 40.921875 40.578125 39.3125 \r\nz\r\n\" id=\"DejaVuSans-51\"/>\r\n       </defs>\r\n       <use xlink:href=\"#DejaVuSans-51\"/>\r\n       <use x=\"63.623047\" xlink:href=\"#DejaVuSans-48\"/>\r\n       <use x=\"127.246094\" xlink:href=\"#DejaVuSans-48\"/>\r\n       <use x=\"190.869141\" xlink:href=\"#DejaVuSans-48\"/>\r\n       <use x=\"254.492188\" xlink:href=\"#DejaVuSans-48\"/>\r\n      </g>\r\n     </g>\r\n    </g>\r\n    <g id=\"ytick_2\">\r\n     <g id=\"line2d_7\">\r\n      <g>\r\n       <use style=\"stroke:#000000;stroke-width:0.8;\" x=\"46.0125\" xlink:href=\"#mee3d12493c\" y=\"185.342368\"/>\r\n      </g>\r\n     </g>\r\n     <g id=\"text_7\">\r\n      <!-- 31000 -->\r\n      <g transform=\"translate(7.2 189.141587)scale(0.1 -0.1)\">\r\n       <use xlink:href=\"#DejaVuSans-51\"/>\r\n       <use x=\"63.623047\" xlink:href=\"#DejaVuSans-49\"/>\r\n       <use x=\"127.246094\" xlink:href=\"#DejaVuSans-48\"/>\r\n       <use x=\"190.869141\" xlink:href=\"#DejaVuSans-48\"/>\r\n       <use x=\"254.492188\" xlink:href=\"#DejaVuSans-48\"/>\r\n      </g>\r\n     </g>\r\n    </g>\r\n    <g id=\"ytick_3\">\r\n     <g id=\"line2d_8\">\r\n      <g>\r\n       <use style=\"stroke:#000000;stroke-width:0.8;\" x=\"46.0125\" xlink:href=\"#mee3d12493c\" y=\"159.342439\"/>\r\n      </g>\r\n     </g>\r\n     <g id=\"text_8\">\r\n      <!-- 32000 -->\r\n      <g transform=\"translate(7.2 163.141658)scale(0.1 -0.1)\">\r\n       <use xlink:href=\"#DejaVuSans-51\"/>\r\n       <use x=\"63.623047\" xlink:href=\"#DejaVuSans-50\"/>\r\n       <use x=\"127.246094\" xlink:href=\"#DejaVuSans-48\"/>\r\n       <use x=\"190.869141\" xlink:href=\"#DejaVuSans-48\"/>\r\n       <use x=\"254.492188\" xlink:href=\"#DejaVuSans-48\"/>\r\n      </g>\r\n     </g>\r\n    </g>\r\n    <g id=\"ytick_4\">\r\n     <g id=\"line2d_9\">\r\n      <g>\r\n       <use style=\"stroke:#000000;stroke-width:0.8;\" x=\"46.0125\" xlink:href=\"#mee3d12493c\" y=\"133.342509\"/>\r\n      </g>\r\n     </g>\r\n     <g id=\"text_9\">\r\n      <!-- 33000 -->\r\n      <g transform=\"translate(7.2 137.141728)scale(0.1 -0.1)\">\r\n       <use xlink:href=\"#DejaVuSans-51\"/>\r\n       <use x=\"63.623047\" xlink:href=\"#DejaVuSans-51\"/>\r\n       <use x=\"127.246094\" xlink:href=\"#DejaVuSans-48\"/>\r\n       <use x=\"190.869141\" xlink:href=\"#DejaVuSans-48\"/>\r\n       <use x=\"254.492188\" xlink:href=\"#DejaVuSans-48\"/>\r\n      </g>\r\n     </g>\r\n    </g>\r\n    <g id=\"ytick_5\">\r\n     <g id=\"line2d_10\">\r\n      <g>\r\n       <use style=\"stroke:#000000;stroke-width:0.8;\" x=\"46.0125\" xlink:href=\"#mee3d12493c\" y=\"107.34258\"/>\r\n      </g>\r\n     </g>\r\n     <g id=\"text_10\">\r\n      <!-- 34000 -->\r\n      <g transform=\"translate(7.2 111.141799)scale(0.1 -0.1)\">\r\n       <use xlink:href=\"#DejaVuSans-51\"/>\r\n       <use x=\"63.623047\" xlink:href=\"#DejaVuSans-52\"/>\r\n       <use x=\"127.246094\" xlink:href=\"#DejaVuSans-48\"/>\r\n       <use x=\"190.869141\" xlink:href=\"#DejaVuSans-48\"/>\r\n       <use x=\"254.492188\" xlink:href=\"#DejaVuSans-48\"/>\r\n      </g>\r\n     </g>\r\n    </g>\r\n    <g id=\"ytick_6\">\r\n     <g id=\"line2d_11\">\r\n      <g>\r\n       <use style=\"stroke:#000000;stroke-width:0.8;\" x=\"46.0125\" xlink:href=\"#mee3d12493c\" y=\"81.34265\"/>\r\n      </g>\r\n     </g>\r\n     <g id=\"text_11\">\r\n      <!-- 35000 -->\r\n      <g transform=\"translate(7.2 85.141869)scale(0.1 -0.1)\">\r\n       <defs>\r\n        <path d=\"M 10.796875 72.90625 \r\nL 49.515625 72.90625 \r\nL 49.515625 64.59375 \r\nL 19.828125 64.59375 \r\nL 19.828125 46.734375 \r\nQ 21.96875 47.46875 24.109375 47.828125 \r\nQ 26.265625 48.1875 28.421875 48.1875 \r\nQ 40.625 48.1875 47.75 41.5 \r\nQ 54.890625 34.8125 54.890625 23.390625 \r\nQ 54.890625 11.625 47.5625 5.09375 \r\nQ 40.234375 -1.421875 26.90625 -1.421875 \r\nQ 22.3125 -1.421875 17.546875 -0.640625 \r\nQ 12.796875 0.140625 7.71875 1.703125 \r\nL 7.71875 11.625 \r\nQ 12.109375 9.234375 16.796875 8.0625 \r\nQ 21.484375 6.890625 26.703125 6.890625 \r\nQ 35.15625 6.890625 40.078125 11.328125 \r\nQ 45.015625 15.765625 45.015625 23.390625 \r\nQ 45.015625 31 40.078125 35.4375 \r\nQ 35.15625 39.890625 26.703125 39.890625 \r\nQ 22.75 39.890625 18.8125 39.015625 \r\nQ 14.890625 38.140625 10.796875 36.28125 \r\nz\r\n\" id=\"DejaVuSans-53\"/>\r\n       </defs>\r\n       <use xlink:href=\"#DejaVuSans-51\"/>\r\n       <use x=\"63.623047\" xlink:href=\"#DejaVuSans-53\"/>\r\n       <use x=\"127.246094\" xlink:href=\"#DejaVuSans-48\"/>\r\n       <use x=\"190.869141\" xlink:href=\"#DejaVuSans-48\"/>\r\n       <use x=\"254.492188\" xlink:href=\"#DejaVuSans-48\"/>\r\n      </g>\r\n     </g>\r\n    </g>\r\n    <g id=\"ytick_7\">\r\n     <g id=\"line2d_12\">\r\n      <g>\r\n       <use style=\"stroke:#000000;stroke-width:0.8;\" x=\"46.0125\" xlink:href=\"#mee3d12493c\" y=\"55.342721\"/>\r\n      </g>\r\n     </g>\r\n     <g id=\"text_12\">\r\n      <!-- 36000 -->\r\n      <g transform=\"translate(7.2 59.14194)scale(0.1 -0.1)\">\r\n       <use xlink:href=\"#DejaVuSans-51\"/>\r\n       <use x=\"63.623047\" xlink:href=\"#DejaVuSans-54\"/>\r\n       <use x=\"127.246094\" xlink:href=\"#DejaVuSans-48\"/>\r\n       <use x=\"190.869141\" xlink:href=\"#DejaVuSans-48\"/>\r\n       <use x=\"254.492188\" xlink:href=\"#DejaVuSans-48\"/>\r\n      </g>\r\n     </g>\r\n    </g>\r\n    <g id=\"ytick_8\">\r\n     <g id=\"line2d_13\">\r\n      <g>\r\n       <use style=\"stroke:#000000;stroke-width:0.8;\" x=\"46.0125\" xlink:href=\"#mee3d12493c\" y=\"29.342791\"/>\r\n      </g>\r\n     </g>\r\n     <g id=\"text_13\">\r\n      <!-- 37000 -->\r\n      <g transform=\"translate(7.2 33.14201)scale(0.1 -0.1)\">\r\n       <defs>\r\n        <path d=\"M 8.203125 72.90625 \r\nL 55.078125 72.90625 \r\nL 55.078125 68.703125 \r\nL 28.609375 0 \r\nL 18.3125 0 \r\nL 43.21875 64.59375 \r\nL 8.203125 64.59375 \r\nz\r\n\" id=\"DejaVuSans-55\"/>\r\n       </defs>\r\n       <use xlink:href=\"#DejaVuSans-51\"/>\r\n       <use x=\"63.623047\" xlink:href=\"#DejaVuSans-55\"/>\r\n       <use x=\"127.246094\" xlink:href=\"#DejaVuSans-48\"/>\r\n       <use x=\"190.869141\" xlink:href=\"#DejaVuSans-48\"/>\r\n       <use x=\"254.492188\" xlink:href=\"#DejaVuSans-48\"/>\r\n      </g>\r\n     </g>\r\n    </g>\r\n   </g>\r\n   <g id=\"line2d_14\">\r\n    <path clip-path=\"url(#pbfae16af92)\" d=\"M 61.230682 211.488003 \r\nL 95.048864 214.756364 \r\nL 128.867045 186.197961 \r\nL 162.685227 163.394971 \r\nL 196.503409 153.562453 \r\nL 230.321591 116.944917 \r\nL 264.139773 112.802947 \r\nL 297.957955 103.735972 \r\nL 331.776136 90.285845 \r\nL 365.594318 71.738725 \r\n\" style=\"fill:none;stroke:#1f77b4;stroke-linecap:square;stroke-width:1.5;\"/>\r\n   </g>\r\n   <g id=\"line2d_15\">\r\n    <path clip-path=\"url(#pbfae16af92)\" d=\"M 61.230682 105.453169 \r\nL 95.048864 98.906926 \r\nL 128.867045 55.845452 \r\nL 162.685227 64.394413 \r\nL 196.503409 44.529755 \r\nL 230.321591 61.10661 \r\nL 264.139773 47.976835 \r\nL 297.957955 47.513627 \r\nL 331.776136 17.083636 \r\nL 365.594318 20.866827 \r\n\" style=\"fill:none;stroke:#ff7f0e;stroke-linecap:square;stroke-width:1.5;\"/>\r\n   </g>\r\n   <g id=\"patch_3\">\r\n    <path d=\"M 46.0125 224.64 \r\nL 46.0125 7.2 \r\n\" style=\"fill:none;stroke:#000000;stroke-linecap:square;stroke-linejoin:miter;stroke-width:0.8;\"/>\r\n   </g>\r\n   <g id=\"patch_4\">\r\n    <path d=\"M 380.8125 224.64 \r\nL 380.8125 7.2 \r\n\" style=\"fill:none;stroke:#000000;stroke-linecap:square;stroke-linejoin:miter;stroke-width:0.8;\"/>\r\n   </g>\r\n   <g id=\"patch_5\">\r\n    <path d=\"M 46.0125 224.64 \r\nL 380.8125 224.64 \r\n\" style=\"fill:none;stroke:#000000;stroke-linecap:square;stroke-linejoin:miter;stroke-width:0.8;\"/>\r\n   </g>\r\n   <g id=\"patch_6\">\r\n    <path d=\"M 46.0125 7.2 \r\nL 380.8125 7.2 \r\n\" style=\"fill:none;stroke:#000000;stroke-linecap:square;stroke-linejoin:miter;stroke-width:0.8;\"/>\r\n   </g>\r\n   <g id=\"legend_1\">\r\n    <g id=\"patch_7\">\r\n     <path d=\"M 213.684375 219.64 \r\nL 373.8125 219.64 \r\nQ 375.8125 219.64 375.8125 217.64 \r\nL 375.8125 189.28375 \r\nQ 375.8125 187.28375 373.8125 187.28375 \r\nL 213.684375 187.28375 \r\nQ 211.684375 187.28375 211.684375 189.28375 \r\nL 211.684375 217.64 \r\nQ 211.684375 219.64 213.684375 219.64 \r\nz\r\n\" style=\"fill:#ffffff;opacity:0.8;stroke:#cccccc;stroke-linejoin:miter;\"/>\r\n    </g>\r\n    <g id=\"line2d_16\">\r\n     <path d=\"M 215.684375 195.382187 \r\nL 235.684375 195.382187 \r\n\" style=\"fill:none;stroke:#1f77b4;stroke-linecap:square;stroke-width:1.5;\"/>\r\n    </g>\r\n    <g id=\"line2d_17\"/>\r\n    <g id=\"text_14\">\r\n     <!-- Usunięcie jednej kolumny -->\r\n     <g transform=\"translate(243.684375 198.882187)scale(0.1 -0.1)\">\r\n      <defs>\r\n       <path d=\"M 8.6875 72.90625 \r\nL 18.609375 72.90625 \r\nL 18.609375 28.609375 \r\nQ 18.609375 16.890625 22.84375 11.734375 \r\nQ 27.09375 6.59375 36.625 6.59375 \r\nQ 46.09375 6.59375 50.34375 11.734375 \r\nQ 54.59375 16.890625 54.59375 28.609375 \r\nL 54.59375 72.90625 \r\nL 64.5 72.90625 \r\nL 64.5 27.390625 \r\nQ 64.5 13.140625 57.4375 5.859375 \r\nQ 50.390625 -1.421875 36.625 -1.421875 \r\nQ 22.796875 -1.421875 15.734375 5.859375 \r\nQ 8.6875 13.140625 8.6875 27.390625 \r\nz\r\n\" id=\"DejaVuSans-85\"/>\r\n       <path d=\"M 44.28125 53.078125 \r\nL 44.28125 44.578125 \r\nQ 40.484375 46.53125 36.375 47.5 \r\nQ 32.28125 48.484375 27.875 48.484375 \r\nQ 21.1875 48.484375 17.84375 46.4375 \r\nQ 14.5 44.390625 14.5 40.28125 \r\nQ 14.5 37.15625 16.890625 35.375 \r\nQ 19.28125 33.59375 26.515625 31.984375 \r\nL 29.59375 31.296875 \r\nQ 39.15625 29.25 43.1875 25.515625 \r\nQ 47.21875 21.78125 47.21875 15.09375 \r\nQ 47.21875 7.46875 41.1875 3.015625 \r\nQ 35.15625 -1.421875 24.609375 -1.421875 \r\nQ 20.21875 -1.421875 15.453125 -0.5625 \r\nQ 10.6875 0.296875 5.421875 2 \r\nL 5.421875 11.28125 \r\nQ 10.40625 8.6875 15.234375 7.390625 \r\nQ 20.0625 6.109375 24.8125 6.109375 \r\nQ 31.15625 6.109375 34.5625 8.28125 \r\nQ 37.984375 10.453125 37.984375 14.40625 \r\nQ 37.984375 18.0625 35.515625 20.015625 \r\nQ 33.0625 21.96875 24.703125 23.78125 \r\nL 21.578125 24.515625 \r\nQ 13.234375 26.265625 9.515625 29.90625 \r\nQ 5.8125 33.546875 5.8125 39.890625 \r\nQ 5.8125 47.609375 11.28125 51.796875 \r\nQ 16.75 56 26.8125 56 \r\nQ 31.78125 56 36.171875 55.265625 \r\nQ 40.578125 54.546875 44.28125 53.078125 \r\nz\r\n\" id=\"DejaVuSans-115\"/>\r\n       <path d=\"M 8.5 21.578125 \r\nL 8.5 54.6875 \r\nL 17.484375 54.6875 \r\nL 17.484375 21.921875 \r\nQ 17.484375 14.15625 20.5 10.265625 \r\nQ 23.53125 6.390625 29.59375 6.390625 \r\nQ 36.859375 6.390625 41.078125 11.03125 \r\nQ 45.3125 15.671875 45.3125 23.6875 \r\nL 45.3125 54.6875 \r\nL 54.296875 54.6875 \r\nL 54.296875 0 \r\nL 45.3125 0 \r\nL 45.3125 8.40625 \r\nQ 42.046875 3.421875 37.71875 1 \r\nQ 33.40625 -1.421875 27.6875 -1.421875 \r\nQ 18.265625 -1.421875 13.375 4.4375 \r\nQ 8.5 10.296875 8.5 21.578125 \r\nz\r\nM 31.109375 56 \r\nz\r\n\" id=\"DejaVuSans-117\"/>\r\n       <path d=\"M 54.890625 33.015625 \r\nL 54.890625 0 \r\nL 45.90625 0 \r\nL 45.90625 32.71875 \r\nQ 45.90625 40.484375 42.875 44.328125 \r\nQ 39.84375 48.1875 33.796875 48.1875 \r\nQ 26.515625 48.1875 22.3125 43.546875 \r\nQ 18.109375 38.921875 18.109375 30.90625 \r\nL 18.109375 0 \r\nL 9.078125 0 \r\nL 9.078125 54.6875 \r\nL 18.109375 54.6875 \r\nL 18.109375 46.1875 \r\nQ 21.34375 51.125 25.703125 53.5625 \r\nQ 30.078125 56 35.796875 56 \r\nQ 45.21875 56 50.046875 50.171875 \r\nQ 54.890625 44.34375 54.890625 33.015625 \r\nz\r\n\" id=\"DejaVuSans-110\"/>\r\n       <path d=\"M 9.421875 54.6875 \r\nL 18.40625 54.6875 \r\nL 18.40625 0 \r\nL 9.421875 0 \r\nz\r\nM 9.421875 75.984375 \r\nL 18.40625 75.984375 \r\nL 18.40625 64.59375 \r\nL 9.421875 64.59375 \r\nz\r\n\" id=\"DejaVuSans-105\"/>\r\n       <path d=\"M 56.203125 29.59375 \r\nL 56.203125 25.203125 \r\nL 14.890625 25.203125 \r\nQ 15.484375 15.921875 20.484375 11.0625 \r\nQ 25.484375 6.203125 34.421875 6.203125 \r\nQ 39.59375 6.203125 44.453125 7.46875 \r\nQ 49.3125 8.734375 54.109375 11.28125 \r\nL 54.109375 2.78125 \r\nQ 49.265625 0.734375 44.1875 -0.34375 \r\nQ 39.109375 -1.421875 33.890625 -1.421875 \r\nQ 20.796875 -1.421875 13.15625 6.1875 \r\nQ 5.515625 13.8125 5.515625 26.8125 \r\nQ 5.515625 40.234375 12.765625 48.109375 \r\nQ 20.015625 56 32.328125 56 \r\nQ 43.359375 56 49.78125 48.890625 \r\nQ 56.203125 41.796875 56.203125 29.59375 \r\nz\r\nM 47.21875 32.234375 \r\nQ 47.125 39.59375 43.09375 43.984375 \r\nQ 39.0625 48.390625 32.421875 48.390625 \r\nQ 24.90625 48.390625 20.390625 44.140625 \r\nQ 15.875 39.890625 15.1875 32.171875 \r\nz\r\nM 39.859375 0 \r\nL 45.671875 0 \r\nQ 43.46875 -2.984375 42.421875 -5.125 \r\nQ 41.375 -7.28125 41.375 -8.796875 \r\nQ 41.375 -11.03125 42.71875 -12.15625 \r\nQ 44.0625 -13.28125 46.703125 -13.28125 \r\nQ 48.265625 -13.28125 49.765625 -12.90625 \r\nQ 51.28125 -12.546875 52.796875 -11.8125 \r\nL 52.796875 -18.3125 \r\nQ 50.9375 -18.796875 49.28125 -19.03125 \r\nQ 47.625 -19.28125 46.15625 -19.28125 \r\nQ 40.203125 -19.28125 37.390625 -17.15625 \r\nQ 34.59375 -15.046875 34.59375 -10.5 \r\nQ 34.59375 -8.15625 35.875 -5.59375 \r\nQ 37.171875 -3.03125 39.859375 0 \r\nz\r\n\" id=\"DejaVuSans-281\"/>\r\n       <path d=\"M 48.78125 52.59375 \r\nL 48.78125 44.1875 \r\nQ 44.96875 46.296875 41.140625 47.34375 \r\nQ 37.3125 48.390625 33.40625 48.390625 \r\nQ 24.65625 48.390625 19.8125 42.84375 \r\nQ 14.984375 37.3125 14.984375 27.296875 \r\nQ 14.984375 17.28125 19.8125 11.734375 \r\nQ 24.65625 6.203125 33.40625 6.203125 \r\nQ 37.3125 6.203125 41.140625 7.25 \r\nQ 44.96875 8.296875 48.78125 10.40625 \r\nL 48.78125 2.09375 \r\nQ 45.015625 0.34375 40.984375 -0.53125 \r\nQ 36.96875 -1.421875 32.421875 -1.421875 \r\nQ 20.0625 -1.421875 12.78125 6.34375 \r\nQ 5.515625 14.109375 5.515625 27.296875 \r\nQ 5.515625 40.671875 12.859375 48.328125 \r\nQ 20.21875 56 33.015625 56 \r\nQ 37.15625 56 41.109375 55.140625 \r\nQ 45.0625 54.296875 48.78125 52.59375 \r\nz\r\n\" id=\"DejaVuSans-99\"/>\r\n       <path d=\"M 56.203125 29.59375 \r\nL 56.203125 25.203125 \r\nL 14.890625 25.203125 \r\nQ 15.484375 15.921875 20.484375 11.0625 \r\nQ 25.484375 6.203125 34.421875 6.203125 \r\nQ 39.59375 6.203125 44.453125 7.46875 \r\nQ 49.3125 8.734375 54.109375 11.28125 \r\nL 54.109375 2.78125 \r\nQ 49.265625 0.734375 44.1875 -0.34375 \r\nQ 39.109375 -1.421875 33.890625 -1.421875 \r\nQ 20.796875 -1.421875 13.15625 6.1875 \r\nQ 5.515625 13.8125 5.515625 26.8125 \r\nQ 5.515625 40.234375 12.765625 48.109375 \r\nQ 20.015625 56 32.328125 56 \r\nQ 43.359375 56 49.78125 48.890625 \r\nQ 56.203125 41.796875 56.203125 29.59375 \r\nz\r\nM 47.21875 32.234375 \r\nQ 47.125 39.59375 43.09375 43.984375 \r\nQ 39.0625 48.390625 32.421875 48.390625 \r\nQ 24.90625 48.390625 20.390625 44.140625 \r\nQ 15.875 39.890625 15.1875 32.171875 \r\nz\r\n\" id=\"DejaVuSans-101\"/>\r\n       <path id=\"DejaVuSans-32\"/>\r\n       <path d=\"M 9.421875 54.6875 \r\nL 18.40625 54.6875 \r\nL 18.40625 -0.984375 \r\nQ 18.40625 -11.421875 14.421875 -16.109375 \r\nQ 10.453125 -20.796875 1.609375 -20.796875 \r\nL -1.8125 -20.796875 \r\nL -1.8125 -13.1875 \r\nL 0.59375 -13.1875 \r\nQ 5.71875 -13.1875 7.5625 -10.8125 \r\nQ 9.421875 -8.453125 9.421875 -0.984375 \r\nz\r\nM 9.421875 75.984375 \r\nL 18.40625 75.984375 \r\nL 18.40625 64.59375 \r\nL 9.421875 64.59375 \r\nz\r\n\" id=\"DejaVuSans-106\"/>\r\n       <path d=\"M 45.40625 46.390625 \r\nL 45.40625 75.984375 \r\nL 54.390625 75.984375 \r\nL 54.390625 0 \r\nL 45.40625 0 \r\nL 45.40625 8.203125 \r\nQ 42.578125 3.328125 38.25 0.953125 \r\nQ 33.9375 -1.421875 27.875 -1.421875 \r\nQ 17.96875 -1.421875 11.734375 6.484375 \r\nQ 5.515625 14.40625 5.515625 27.296875 \r\nQ 5.515625 40.1875 11.734375 48.09375 \r\nQ 17.96875 56 27.875 56 \r\nQ 33.9375 56 38.25 53.625 \r\nQ 42.578125 51.265625 45.40625 46.390625 \r\nz\r\nM 14.796875 27.296875 \r\nQ 14.796875 17.390625 18.875 11.75 \r\nQ 22.953125 6.109375 30.078125 6.109375 \r\nQ 37.203125 6.109375 41.296875 11.75 \r\nQ 45.40625 17.390625 45.40625 27.296875 \r\nQ 45.40625 37.203125 41.296875 42.84375 \r\nQ 37.203125 48.484375 30.078125 48.484375 \r\nQ 22.953125 48.484375 18.875 42.84375 \r\nQ 14.796875 37.203125 14.796875 27.296875 \r\nz\r\n\" id=\"DejaVuSans-100\"/>\r\n       <path d=\"M 9.078125 75.984375 \r\nL 18.109375 75.984375 \r\nL 18.109375 31.109375 \r\nL 44.921875 54.6875 \r\nL 56.390625 54.6875 \r\nL 27.390625 29.109375 \r\nL 57.625 0 \r\nL 45.90625 0 \r\nL 18.109375 26.703125 \r\nL 18.109375 0 \r\nL 9.078125 0 \r\nz\r\n\" id=\"DejaVuSans-107\"/>\r\n       <path d=\"M 30.609375 48.390625 \r\nQ 23.390625 48.390625 19.1875 42.75 \r\nQ 14.984375 37.109375 14.984375 27.296875 \r\nQ 14.984375 17.484375 19.15625 11.84375 \r\nQ 23.34375 6.203125 30.609375 6.203125 \r\nQ 37.796875 6.203125 41.984375 11.859375 \r\nQ 46.1875 17.53125 46.1875 27.296875 \r\nQ 46.1875 37.015625 41.984375 42.703125 \r\nQ 37.796875 48.390625 30.609375 48.390625 \r\nz\r\nM 30.609375 56 \r\nQ 42.328125 56 49.015625 48.375 \r\nQ 55.71875 40.765625 55.71875 27.296875 \r\nQ 55.71875 13.875 49.015625 6.21875 \r\nQ 42.328125 -1.421875 30.609375 -1.421875 \r\nQ 18.84375 -1.421875 12.171875 6.21875 \r\nQ 5.515625 13.875 5.515625 27.296875 \r\nQ 5.515625 40.765625 12.171875 48.375 \r\nQ 18.84375 56 30.609375 56 \r\nz\r\n\" id=\"DejaVuSans-111\"/>\r\n       <path d=\"M 9.421875 75.984375 \r\nL 18.40625 75.984375 \r\nL 18.40625 0 \r\nL 9.421875 0 \r\nz\r\n\" id=\"DejaVuSans-108\"/>\r\n       <path d=\"M 52 44.1875 \r\nQ 55.375 50.25 60.0625 53.125 \r\nQ 64.75 56 71.09375 56 \r\nQ 79.640625 56 84.28125 50.015625 \r\nQ 88.921875 44.046875 88.921875 33.015625 \r\nL 88.921875 0 \r\nL 79.890625 0 \r\nL 79.890625 32.71875 \r\nQ 79.890625 40.578125 77.09375 44.375 \r\nQ 74.3125 48.1875 68.609375 48.1875 \r\nQ 61.625 48.1875 57.5625 43.546875 \r\nQ 53.515625 38.921875 53.515625 30.90625 \r\nL 53.515625 0 \r\nL 44.484375 0 \r\nL 44.484375 32.71875 \r\nQ 44.484375 40.625 41.703125 44.40625 \r\nQ 38.921875 48.1875 33.109375 48.1875 \r\nQ 26.21875 48.1875 22.15625 43.53125 \r\nQ 18.109375 38.875 18.109375 30.90625 \r\nL 18.109375 0 \r\nL 9.078125 0 \r\nL 9.078125 54.6875 \r\nL 18.109375 54.6875 \r\nL 18.109375 46.1875 \r\nQ 21.1875 51.21875 25.484375 53.609375 \r\nQ 29.78125 56 35.6875 56 \r\nQ 41.65625 56 45.828125 52.96875 \r\nQ 50 49.953125 52 44.1875 \r\nz\r\n\" id=\"DejaVuSans-109\"/>\r\n       <path d=\"M 32.171875 -5.078125 \r\nQ 28.375 -14.84375 24.75 -17.8125 \r\nQ 21.140625 -20.796875 15.09375 -20.796875 \r\nL 7.90625 -20.796875 \r\nL 7.90625 -13.28125 \r\nL 13.1875 -13.28125 \r\nQ 16.890625 -13.28125 18.9375 -11.515625 \r\nQ 21 -9.765625 23.484375 -3.21875 \r\nL 25.09375 0.875 \r\nL 2.984375 54.6875 \r\nL 12.5 54.6875 \r\nL 29.59375 11.921875 \r\nL 46.6875 54.6875 \r\nL 56.203125 54.6875 \r\nz\r\n\" id=\"DejaVuSans-121\"/>\r\n      </defs>\r\n      <use xlink:href=\"#DejaVuSans-85\"/>\r\n      <use x=\"73.193359\" xlink:href=\"#DejaVuSans-115\"/>\r\n      <use x=\"125.292969\" xlink:href=\"#DejaVuSans-117\"/>\r\n      <use x=\"188.671875\" xlink:href=\"#DejaVuSans-110\"/>\r\n      <use x=\"252.050781\" xlink:href=\"#DejaVuSans-105\"/>\r\n      <use x=\"279.833984\" xlink:href=\"#DejaVuSans-281\"/>\r\n      <use x=\"341.357422\" xlink:href=\"#DejaVuSans-99\"/>\r\n      <use x=\"396.337891\" xlink:href=\"#DejaVuSans-105\"/>\r\n      <use x=\"424.121094\" xlink:href=\"#DejaVuSans-101\"/>\r\n      <use x=\"485.644531\" xlink:href=\"#DejaVuSans-32\"/>\r\n      <use x=\"517.431641\" xlink:href=\"#DejaVuSans-106\"/>\r\n      <use x=\"545.214844\" xlink:href=\"#DejaVuSans-101\"/>\r\n      <use x=\"606.738281\" xlink:href=\"#DejaVuSans-100\"/>\r\n      <use x=\"670.214844\" xlink:href=\"#DejaVuSans-110\"/>\r\n      <use x=\"733.59375\" xlink:href=\"#DejaVuSans-101\"/>\r\n      <use x=\"795.117188\" xlink:href=\"#DejaVuSans-106\"/>\r\n      <use x=\"822.900391\" xlink:href=\"#DejaVuSans-32\"/>\r\n      <use x=\"854.6875\" xlink:href=\"#DejaVuSans-107\"/>\r\n      <use x=\"908.972656\" xlink:href=\"#DejaVuSans-111\"/>\r\n      <use x=\"970.154297\" xlink:href=\"#DejaVuSans-108\"/>\r\n      <use x=\"997.9375\" xlink:href=\"#DejaVuSans-117\"/>\r\n      <use x=\"1061.316406\" xlink:href=\"#DejaVuSans-109\"/>\r\n      <use x=\"1158.728516\" xlink:href=\"#DejaVuSans-110\"/>\r\n      <use x=\"1222.107422\" xlink:href=\"#DejaVuSans-121\"/>\r\n     </g>\r\n    </g>\r\n    <g id=\"line2d_18\">\r\n     <path d=\"M 215.684375 210.060312 \r\nL 235.684375 210.060312 \r\n\" style=\"fill:none;stroke:#ff7f0e;stroke-linecap:square;stroke-width:1.5;\"/>\r\n    </g>\r\n    <g id=\"line2d_19\"/>\r\n    <g id=\"text_15\">\r\n     <!-- Usunięcie obu -->\r\n     <g transform=\"translate(243.684375 213.560312)scale(0.1 -0.1)\">\r\n      <defs>\r\n       <path d=\"M 48.6875 27.296875 \r\nQ 48.6875 37.203125 44.609375 42.84375 \r\nQ 40.53125 48.484375 33.40625 48.484375 \r\nQ 26.265625 48.484375 22.1875 42.84375 \r\nQ 18.109375 37.203125 18.109375 27.296875 \r\nQ 18.109375 17.390625 22.1875 11.75 \r\nQ 26.265625 6.109375 33.40625 6.109375 \r\nQ 40.53125 6.109375 44.609375 11.75 \r\nQ 48.6875 17.390625 48.6875 27.296875 \r\nz\r\nM 18.109375 46.390625 \r\nQ 20.953125 51.265625 25.265625 53.625 \r\nQ 29.59375 56 35.59375 56 \r\nQ 45.5625 56 51.78125 48.09375 \r\nQ 58.015625 40.1875 58.015625 27.296875 \r\nQ 58.015625 14.40625 51.78125 6.484375 \r\nQ 45.5625 -1.421875 35.59375 -1.421875 \r\nQ 29.59375 -1.421875 25.265625 0.953125 \r\nQ 20.953125 3.328125 18.109375 8.203125 \r\nL 18.109375 0 \r\nL 9.078125 0 \r\nL 9.078125 75.984375 \r\nL 18.109375 75.984375 \r\nz\r\n\" id=\"DejaVuSans-98\"/>\r\n      </defs>\r\n      <use xlink:href=\"#DejaVuSans-85\"/>\r\n      <use x=\"73.193359\" xlink:href=\"#DejaVuSans-115\"/>\r\n      <use x=\"125.292969\" xlink:href=\"#DejaVuSans-117\"/>\r\n      <use x=\"188.671875\" xlink:href=\"#DejaVuSans-110\"/>\r\n      <use x=\"252.050781\" xlink:href=\"#DejaVuSans-105\"/>\r\n      <use x=\"279.833984\" xlink:href=\"#DejaVuSans-281\"/>\r\n      <use x=\"341.357422\" xlink:href=\"#DejaVuSans-99\"/>\r\n      <use x=\"396.337891\" xlink:href=\"#DejaVuSans-105\"/>\r\n      <use x=\"424.121094\" xlink:href=\"#DejaVuSans-101\"/>\r\n      <use x=\"485.644531\" xlink:href=\"#DejaVuSans-32\"/>\r\n      <use x=\"517.431641\" xlink:href=\"#DejaVuSans-111\"/>\r\n      <use x=\"578.613281\" xlink:href=\"#DejaVuSans-98\"/>\r\n      <use x=\"642.089844\" xlink:href=\"#DejaVuSans-117\"/>\r\n     </g>\r\n    </g>\r\n   </g>\r\n  </g>\r\n </g>\r\n <defs>\r\n  <clipPath id=\"pbfae16af92\">\r\n   <rect height=\"217.44\" width=\"334.8\" x=\"46.0125\" y=\"7.2\"/>\r\n  </clipPath>\r\n </defs>\r\n</svg>\r\n",
      "image/png": "[encoded data removed]"
     },
     "metadata": {
      "needs_background": "light"
     }
    }
   ],
   "source": [
    "plt.plot(range(1,11), rmse_error, range(1,11), rmse_seller_error)\n",
    "plt.legend(['Usunięcie jednej kolumny', 'Usunięcie obu'])"
   ]
  },
  {
   "source": [
    "#### Wnioski"
   ],
   "cell_type": "markdown",
   "metadata": {}
  },
  {
   "source": [
    "Jak widać z powyżeszego wykresu, błęd zwiększa się, co więcej jest znacznie większy gdy imputujemy dane z dwóch kolumn, a nie tylko z jednej."
   ],
   "cell_type": "markdown",
   "metadata": {}
  }
 ],
 "metadata": {
  "kernelspec": {
   "name": "python3",
   "display_name": "Python 3.8.5 32-bit",
   "metadata": {
    "interpreter": {
     "hash": "f983668aa469f4ec5122dbe0a413445e364eb31d7ca7e883ef822fcf7d84f1a8"
    }
   }
  },
  "language_info": {
   "codemirror_mode": {
    "name": "ipython",
    "version": 3
   },
   "file_extension": ".py",
   "mimetype": "text/x-python",
   "name": "python",
   "nbconvert_exporter": "python",
   "pygments_lexer": "ipython3",
   "version": "3.8.5-final"
  }
 },
 "nbformat": 4,
 "nbformat_minor": 2
}