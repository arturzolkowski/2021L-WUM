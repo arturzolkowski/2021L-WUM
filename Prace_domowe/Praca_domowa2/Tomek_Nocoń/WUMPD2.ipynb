{
 "cells": [
  {
   "cell_type": "markdown",
   "metadata": {},
   "source": [
    "\n",
    "  "
   ]
  },
  {
   "cell_type": "markdown",
   "metadata": {},
   "source": [
    "# Allegro"
   ]
  },
  {
   "cell_type": "code",
   "execution_count": 1,
   "metadata": {},
   "outputs": [],
   "source": [
    "import pandas as pd\n",
    "import category_encoders as ce\n",
    "import numpy as np\n",
    "import sklearn \n",
    "import random\n",
    "from sklearn.impute import KNNImputer\n",
    "from sklearn.metrics import mean_squared_error\n",
    "import matplotlib\n",
    "import seaborn as sns\n",
    "import warnings\n",
    "from statistics import stdev\n",
    "from matplotlib import pyplot as plt\n",
    "warnings.filterwarnings('ignore')"
   ]
  },
  {
   "cell_type": "code",
   "execution_count": 2,
   "metadata": {},
   "outputs": [],
   "source": [
    "allegro = pd.read_csv('allegro-api-transactions.csv')"
   ]
  },
  {
   "cell_type": "code",
   "execution_count": 3,
   "metadata": {},
   "outputs": [],
   "source": [
    "allegro_min = allegro[:10000]"
   ]
  },
  {
   "cell_type": "code",
   "execution_count": 4,
   "metadata": {},
   "outputs": [],
   "source": [
    "# wybieram dwie kolumny it_location oraz price\n",
    "location = allegro_min['it_location']\n",
    "price = allegro_min['price']"
   ]
  },
  {
   "cell_type": "markdown",
   "metadata": {},
   "source": [
    "# Target Encoding"
   ]
  },
  {
   "cell_type": "code",
   "execution_count": 5,
   "metadata": {},
   "outputs": [],
   "source": [
    "target_encoder = ce.TargetEncoder() #tworze obiekt TargetEncoder\n",
    "location_target = target_encoder.fit_transform(location, price) # wykonuje transformacje na kolumnie location\n",
    "                                                                # wzgldem kolumny price"
   ]
  },
  {
   "cell_type": "code",
   "execution_count": 6,
   "metadata": {},
   "outputs": [
    {
     "data": {
      "text/html": [
       "<div>\n",
       "<style scoped>\n",
       "    .dataframe tbody tr th:only-of-type {\n",
       "        vertical-align: middle;\n",
       "    }\n",
       "\n",
       "    .dataframe tbody tr th {\n",
       "        vertical-align: top;\n",
       "    }\n",
       "\n",
       "    .dataframe thead th {\n",
       "        text-align: right;\n",
       "    }\n",
       "</style>\n",
       "<table border=\"1\" class=\"dataframe\">\n",
       "  <thead>\n",
       "    <tr style=\"text-align: right;\">\n",
       "      <th></th>\n",
       "      <th>it_location</th>\n",
       "    </tr>\n",
       "  </thead>\n",
       "  <tbody>\n",
       "    <tr>\n",
       "      <th>0</th>\n",
       "      <td>60.738656</td>\n",
       "    </tr>\n",
       "    <tr>\n",
       "      <th>1</th>\n",
       "      <td>60.738656</td>\n",
       "    </tr>\n",
       "    <tr>\n",
       "      <th>2</th>\n",
       "      <td>127.729583</td>\n",
       "    </tr>\n",
       "    <tr>\n",
       "      <th>3</th>\n",
       "      <td>32.121760</td>\n",
       "    </tr>\n",
       "    <tr>\n",
       "      <th>4</th>\n",
       "      <td>106.193846</td>\n",
       "    </tr>\n",
       "    <tr>\n",
       "      <th>...</th>\n",
       "      <td>...</td>\n",
       "    </tr>\n",
       "    <tr>\n",
       "      <th>9995</th>\n",
       "      <td>46.781218</td>\n",
       "    </tr>\n",
       "    <tr>\n",
       "      <th>9996</th>\n",
       "      <td>57.636950</td>\n",
       "    </tr>\n",
       "    <tr>\n",
       "      <th>9997</th>\n",
       "      <td>57.636950</td>\n",
       "    </tr>\n",
       "    <tr>\n",
       "      <th>9998</th>\n",
       "      <td>57.636950</td>\n",
       "    </tr>\n",
       "    <tr>\n",
       "      <th>9999</th>\n",
       "      <td>57.636950</td>\n",
       "    </tr>\n",
       "  </tbody>\n",
       "</table>\n",
       "<p>10000 rows × 1 columns</p>\n",
       "</div>"
      ],
      "text/plain": [
       "      it_location\n",
       "0       60.738656\n",
       "1       60.738656\n",
       "2      127.729583\n",
       "3       32.121760\n",
       "4      106.193846\n",
       "...           ...\n",
       "9995    46.781218\n",
       "9996    57.636950\n",
       "9997    57.636950\n",
       "9998    57.636950\n",
       "9999    57.636950\n",
       "\n",
       "[10000 rows x 1 columns]"
      ]
     },
     "execution_count": 6,
     "metadata": {},
     "output_type": "execute_result"
    }
   ],
   "source": [
    "# wyniki\n",
    "location_target"
   ]
  },
  {
   "cell_type": "markdown",
   "metadata": {},
   "source": [
    "# One Hot Encoding"
   ]
  },
  {
   "cell_type": "code",
   "execution_count": null,
   "metadata": {},
   "outputs": [],
   "source": [
    "# metoda jest w bloku try, ponieważ duza liczba watosci sprawia to ze zostaje przepełniona pamiec przy uruchamianiu\n",
    "# kodu. Zaraz pokaze równiez liczbe różnych krekordów w koluminie location\n",
    "try:\n",
    "    one_hot_enconder = ce.OneHotEncoder()\n",
    "    location_one = one_hot_enconder.fit_transform(location)\n",
    "except MemoryError as e:\n",
    "    print(\"Za mało pamięci\", e)"
   ]
  },
  {
   "cell_type": "code",
   "execution_count": 7,
   "metadata": {},
   "outputs": [
    {
     "name": "stdout",
     "output_type": "stream",
     "text": [
      "Macierz utowrozna z one hot encoding miała by wymiary: 1882 x 420020, gdzie 0.9994686503719448% liczb to zera\n"
     ]
    }
   ],
   "source": [
    "l1 = len(pd.DataFrame(location)[\"it_location\"].value_counts()) #licze ile jest róznych rekordow\n",
    "l2 = allegro.shape[0]\n",
    "print(f\"Macierz utowrozna z one hot encoding miała by wymiary: {l1} x {l2}, gdzie {(l2*l1 - l2)/(l1*l2)}% liczb to zera\")"
   ]
  },
  {
   "cell_type": "markdown",
   "metadata": {},
   "source": [
    "# Wnioski\n",
    "## Target Encoding\n",
    "* Target Encoding jest szybkim sposobem na zmieniene daych kategorycznych na liczbowe\n",
    "* Dodatkowo nie daje dodatkowych wymiarów do danych\n",
    "* Wadą może być to ze taki sposób jest czuły na rozkład danych i ucząc model łatwo można uzyskać overfitting, ponieważ dane w zbiorze testowym moga miec inny rozkłąd niż w treningowym czy walidacyjnym\n",
    "\n",
    "## One Hot Encoding\n",
    "* W przypadku duzej liczby róznych danych jest malo wydajny.\n",
    "* Jest za to łatwijszy w zrozumieniu, bo od razu widać w jaki sposob odbywa sie kodowanie\n",
    "* Nie jest aż tak podatny na rozklad zbioru danych"
   ]
  },
  {
   "cell_type": "markdown",
   "metadata": {},
   "source": [
    "# Inne kodowania"
   ]
  },
  {
   "cell_type": "markdown",
   "metadata": {},
   "source": [
    "# Ordinal Encoding"
   ]
  },
  {
   "cell_type": "code",
   "execution_count": 8,
   "metadata": {},
   "outputs": [],
   "source": [
    "ordinal_encoder = ce.OrdinalEncoder()\n",
    "location_ordinal = ordinal_encoder.fit_transform(location, price)"
   ]
  },
  {
   "cell_type": "code",
   "execution_count": 9,
   "metadata": {},
   "outputs": [
    {
     "data": {
      "text/html": [
       "<div>\n",
       "<style scoped>\n",
       "    .dataframe tbody tr th:only-of-type {\n",
       "        vertical-align: middle;\n",
       "    }\n",
       "\n",
       "    .dataframe tbody tr th {\n",
       "        vertical-align: top;\n",
       "    }\n",
       "\n",
       "    .dataframe thead th {\n",
       "        text-align: right;\n",
       "    }\n",
       "</style>\n",
       "<table border=\"1\" class=\"dataframe\">\n",
       "  <thead>\n",
       "    <tr style=\"text-align: right;\">\n",
       "      <th></th>\n",
       "      <th>it_location</th>\n",
       "    </tr>\n",
       "  </thead>\n",
       "  <tbody>\n",
       "    <tr>\n",
       "      <th>0</th>\n",
       "      <td>1</td>\n",
       "    </tr>\n",
       "    <tr>\n",
       "      <th>1</th>\n",
       "      <td>1</td>\n",
       "    </tr>\n",
       "    <tr>\n",
       "      <th>2</th>\n",
       "      <td>2</td>\n",
       "    </tr>\n",
       "    <tr>\n",
       "      <th>3</th>\n",
       "      <td>3</td>\n",
       "    </tr>\n",
       "    <tr>\n",
       "      <th>4</th>\n",
       "      <td>4</td>\n",
       "    </tr>\n",
       "    <tr>\n",
       "      <th>...</th>\n",
       "      <td>...</td>\n",
       "    </tr>\n",
       "    <tr>\n",
       "      <th>9995</th>\n",
       "      <td>1882</td>\n",
       "    </tr>\n",
       "    <tr>\n",
       "      <th>9996</th>\n",
       "      <td>70</td>\n",
       "    </tr>\n",
       "    <tr>\n",
       "      <th>9997</th>\n",
       "      <td>70</td>\n",
       "    </tr>\n",
       "    <tr>\n",
       "      <th>9998</th>\n",
       "      <td>70</td>\n",
       "    </tr>\n",
       "    <tr>\n",
       "      <th>9999</th>\n",
       "      <td>70</td>\n",
       "    </tr>\n",
       "  </tbody>\n",
       "</table>\n",
       "<p>10000 rows × 1 columns</p>\n",
       "</div>"
      ],
      "text/plain": [
       "      it_location\n",
       "0               1\n",
       "1               1\n",
       "2               2\n",
       "3               3\n",
       "4               4\n",
       "...           ...\n",
       "9995         1882\n",
       "9996           70\n",
       "9997           70\n",
       "9998           70\n",
       "9999           70\n",
       "\n",
       "[10000 rows x 1 columns]"
      ]
     },
     "execution_count": 9,
     "metadata": {},
     "output_type": "execute_result"
    }
   ],
   "source": [
    "location_ordinal "
   ]
  },
  {
   "cell_type": "markdown",
   "metadata": {},
   "source": [
    "Jest to chyba najprostszy ze wszytkich sposobów. Metdoa ta patrzy ile jest rónych wyników i każdemu z nich daje liczbe. Mozna w niej ustalic priorytet, choć w tym przypadku nie jest to potrzebne np. Warszawa ma numer 1, ale nie stoi za tym żadna ważna iformacja. To stopniowanie moze być przydantne przy stopniowaniu np. cold - 1, warm - 2, hot - 3. Przy dużej liczbie róznych rekordów tak jak tutaj raczej malo przydatne."
   ]
  },
  {
   "cell_type": "markdown",
   "metadata": {},
   "source": [
    "# M-Estimate Encoding"
   ]
  },
  {
   "cell_type": "code",
   "execution_count": 10,
   "metadata": {},
   "outputs": [],
   "source": [
    "m_estimate_encoder = ce.MEstimateEncoder()\n",
    "location_m_estimate = m_estimate_encoder.fit_transform(location, price)"
   ]
  },
  {
   "cell_type": "code",
   "execution_count": 11,
   "metadata": {},
   "outputs": [
    {
     "data": {
      "text/html": [
       "<div>\n",
       "<style scoped>\n",
       "    .dataframe tbody tr th:only-of-type {\n",
       "        vertical-align: middle;\n",
       "    }\n",
       "\n",
       "    .dataframe tbody tr th {\n",
       "        vertical-align: top;\n",
       "    }\n",
       "\n",
       "    .dataframe thead th {\n",
       "        text-align: right;\n",
       "    }\n",
       "</style>\n",
       "<table border=\"1\" class=\"dataframe\">\n",
       "  <thead>\n",
       "    <tr style=\"text-align: right;\">\n",
       "      <th></th>\n",
       "      <th>it_location</th>\n",
       "    </tr>\n",
       "  </thead>\n",
       "  <tbody>\n",
       "    <tr>\n",
       "      <th>0</th>\n",
       "      <td>60.768113</td>\n",
       "    </tr>\n",
       "    <tr>\n",
       "      <th>1</th>\n",
       "      <td>60.768113</td>\n",
       "    </tr>\n",
       "    <tr>\n",
       "      <th>2</th>\n",
       "      <td>125.664992</td>\n",
       "    </tr>\n",
       "    <tr>\n",
       "      <th>3</th>\n",
       "      <td>38.782465</td>\n",
       "    </tr>\n",
       "    <tr>\n",
       "      <th>4</th>\n",
       "      <td>105.441870</td>\n",
       "    </tr>\n",
       "    <tr>\n",
       "      <th>...</th>\n",
       "      <td>...</td>\n",
       "    </tr>\n",
       "    <tr>\n",
       "      <th>9995</th>\n",
       "      <td>49.364930</td>\n",
       "    </tr>\n",
       "    <tr>\n",
       "      <th>9996</th>\n",
       "      <td>57.767076</td>\n",
       "    </tr>\n",
       "    <tr>\n",
       "      <th>9997</th>\n",
       "      <td>57.767076</td>\n",
       "    </tr>\n",
       "    <tr>\n",
       "      <th>9998</th>\n",
       "      <td>57.767076</td>\n",
       "    </tr>\n",
       "    <tr>\n",
       "      <th>9999</th>\n",
       "      <td>57.767076</td>\n",
       "    </tr>\n",
       "  </tbody>\n",
       "</table>\n",
       "<p>10000 rows × 1 columns</p>\n",
       "</div>"
      ],
      "text/plain": [
       "      it_location\n",
       "0       60.768113\n",
       "1       60.768113\n",
       "2      125.664992\n",
       "3       38.782465\n",
       "4      105.441870\n",
       "...           ...\n",
       "9995    49.364930\n",
       "9996    57.767076\n",
       "9997    57.767076\n",
       "9998    57.767076\n",
       "9999    57.767076\n",
       "\n",
       "[10000 rows x 1 columns]"
      ]
     },
     "execution_count": 11,
     "metadata": {},
     "output_type": "execute_result"
    }
   ],
   "source": [
    "location_m_estimate"
   ]
  },
  {
   "cell_type": "markdown",
   "metadata": {},
   "source": [
    "Jest to bardzo zblizona metoda do Target Enconding, tylko jest ona uproszczona. Ma ona jeden paramter podczas gdy Target Encoding ma dwa. Z tego powodu, że są to metody bardzo zbliżona ma ona wszytkie zalety Target Enconding. Sprawdznie na danych faktycznie pokazuje, że uzyskane wyniki są bardzo zbliżone"
   ]
  },
  {
   "cell_type": "markdown",
   "metadata": {},
   "source": [
    "# Uzupełnianie braków"
   ]
  },
  {
   "cell_type": "code",
   "execution_count": 12,
   "metadata": {},
   "outputs": [
    {
     "data": {
      "text/html": [
       "<div>\n",
       "<style scoped>\n",
       "    .dataframe tbody tr th:only-of-type {\n",
       "        vertical-align: middle;\n",
       "    }\n",
       "\n",
       "    .dataframe tbody tr th {\n",
       "        vertical-align: top;\n",
       "    }\n",
       "\n",
       "    .dataframe thead th {\n",
       "        text-align: right;\n",
       "    }\n",
       "</style>\n",
       "<table border=\"1\" class=\"dataframe\">\n",
       "  <thead>\n",
       "    <tr style=\"text-align: right;\">\n",
       "      <th></th>\n",
       "      <th>price</th>\n",
       "      <th>it_seller_rating</th>\n",
       "      <th>it_quantity</th>\n",
       "    </tr>\n",
       "  </thead>\n",
       "  <tbody>\n",
       "    <tr>\n",
       "      <th>0</th>\n",
       "      <td>59.99</td>\n",
       "      <td>50177</td>\n",
       "      <td>997</td>\n",
       "    </tr>\n",
       "    <tr>\n",
       "      <th>1</th>\n",
       "      <td>4.90</td>\n",
       "      <td>12428</td>\n",
       "      <td>9288</td>\n",
       "    </tr>\n",
       "    <tr>\n",
       "      <th>2</th>\n",
       "      <td>109.90</td>\n",
       "      <td>7389</td>\n",
       "      <td>895</td>\n",
       "    </tr>\n",
       "    <tr>\n",
       "      <th>3</th>\n",
       "      <td>18.50</td>\n",
       "      <td>15006</td>\n",
       "      <td>971</td>\n",
       "    </tr>\n",
       "    <tr>\n",
       "      <th>4</th>\n",
       "      <td>19.90</td>\n",
       "      <td>32975</td>\n",
       "      <td>950</td>\n",
       "    </tr>\n",
       "    <tr>\n",
       "      <th>...</th>\n",
       "      <td>...</td>\n",
       "      <td>...</td>\n",
       "      <td>...</td>\n",
       "    </tr>\n",
       "    <tr>\n",
       "      <th>420015</th>\n",
       "      <td>180.00</td>\n",
       "      <td>176</td>\n",
       "      <td>0</td>\n",
       "    </tr>\n",
       "    <tr>\n",
       "      <th>420016</th>\n",
       "      <td>14.99</td>\n",
       "      <td>34851</td>\n",
       "      <td>2</td>\n",
       "    </tr>\n",
       "    <tr>\n",
       "      <th>420017</th>\n",
       "      <td>5.99</td>\n",
       "      <td>983</td>\n",
       "      <td>470</td>\n",
       "    </tr>\n",
       "    <tr>\n",
       "      <th>420018</th>\n",
       "      <td>200.00</td>\n",
       "      <td>163</td>\n",
       "      <td>0</td>\n",
       "    </tr>\n",
       "    <tr>\n",
       "      <th>420019</th>\n",
       "      <td>500.00</td>\n",
       "      <td>265</td>\n",
       "      <td>0</td>\n",
       "    </tr>\n",
       "  </tbody>\n",
       "</table>\n",
       "<p>420020 rows × 3 columns</p>\n",
       "</div>"
      ],
      "text/plain": [
       "         price  it_seller_rating  it_quantity\n",
       "0        59.99             50177          997\n",
       "1         4.90             12428         9288\n",
       "2       109.90              7389          895\n",
       "3        18.50             15006          971\n",
       "4        19.90             32975          950\n",
       "...        ...               ...          ...\n",
       "420015  180.00               176            0\n",
       "420016   14.99             34851            2\n",
       "420017    5.99               983          470\n",
       "420018  200.00               163            0\n",
       "420019  500.00               265            0\n",
       "\n",
       "[420020 rows x 3 columns]"
      ]
     },
     "execution_count": 12,
     "metadata": {},
     "output_type": "execute_result"
    }
   ],
   "source": [
    "allegro_3 = allegro[[\"price\", \"it_seller_rating\", \"it_quantity\"]]\n",
    "allegro_3"
   ]
  },
  {
   "cell_type": "code",
   "execution_count": 14,
   "metadata": {},
   "outputs": [],
   "source": [
    "def experiment(n, per, lista, df_allegro, neigh, limit):\n",
    "    df = df_allegro[:limit]\n",
    "    stds = []\n",
    "    m = len(lista)\n",
    "    k = len(df[lista[0]])\n",
    "    colname = df.keys()\n",
    "    for i in range(n):\n",
    "        cpdf = df.copy(deep=True)\n",
    "        for j in range(m): # dla kazdej kolmny\n",
    "            idx = random.sample(list(range(k)), k//per) # wybieram pewene wiersze\n",
    "            cpdf.loc[idx, lista[j]] = np.nan # uzupełniam nanami\n",
    "        nearest_neigh = KNNImputer(n_neighbors = neigh,weights = 'uniform') # korszytam z merody nearest neighbours\n",
    "        transform = pd.DataFrame(nearest_neigh.fit_transform(cpdf))\n",
    "        transform.columns = colname\n",
    "        rmse = mean_squared_error(transform[lista], df[lista], squared = False) # obliczam rmse\n",
    "        stds.append(rmse)\n",
    "    return np.std(stds), stds"
   ]
  },
  {
   "cell_type": "code",
   "execution_count": 29,
   "metadata": {},
   "outputs": [],
   "source": [
    "# dla kolumny it_seller_rating liczymy odchylnie standardowe dla 5 najbliższych sasiadów, 10 powtórzeń,\n",
    "# zbioru allegro_3 z 1000 elemantami i usuwamy 10% zbioru\n",
    "std_num, stds = experiment(10, 10, [\"it_seller_rating\"], allegro_3, 5, 1000)"
   ]
  },
  {
   "cell_type": "code",
   "execution_count": 27,
   "metadata": {},
   "outputs": [
    {
     "data": {
      "text/plain": [
       "2013.3518517038353"
      ]
     },
     "execution_count": 27,
     "metadata": {},
     "output_type": "execute_result"
    }
   ],
   "source": [
    "std_num"
   ]
  },
  {
   "cell_type": "code",
   "execution_count": 28,
   "metadata": {},
   "outputs": [
    {
     "data": {
      "image/png": "[encoded data removed]",
      "text/plain": [
       "<Figure size 432x288 with 1 Axes>"
      ]
     },
     "metadata": {
      "needs_background": "light"
     },
     "output_type": "display_data"
    }
   ],
   "source": [
    "plt.boxplot(stds)\n",
    "plt.show()"
   ]
  },
  {
   "cell_type": "markdown",
   "metadata": {},
   "source": [
    "Widzimy ze odchylenie standardowe jest sotsunkowo duze. Mysle ze na podsatwie 2 kolumn price i it_quantity cieko jest precyzyjnie okreslić czy uzyskana wartosci jest satysfakcjonująca. Produkt moze kosztowac malo i byc popluarny, ale mozetez byc tani i cieszyc sie malym zaintersowniem. Taka sama sytuacja moze miec miejsce dla drogich rzeczy. Moga one byc one popularne lub nie. Stad wlasnie moga wynikac zaburzenia "
   ]
  },
  {
   "cell_type": "code",
   "execution_count": 30,
   "metadata": {},
   "outputs": [],
   "source": [
    "# dla kolumny it_seller_rating i it_quantity liczymy odchylnie standardowe dla 5 najbliższych sasiadów, 10 powtórzeń,\n",
    "# zbioru allegro_3 z 1000 elemantami i usuwamy 10% zbioru\n",
    "std_num, stds = experiment(10, 10, [\"it_seller_rating\",\"it_quantity\"], allegro_3, 5, 1000)"
   ]
  },
  {
   "cell_type": "code",
   "execution_count": 22,
   "metadata": {},
   "outputs": [
    {
     "data": {
      "text/plain": [
       "1410.3937319753193"
      ]
     },
     "execution_count": 22,
     "metadata": {},
     "output_type": "execute_result"
    }
   ],
   "source": [
    "std_num"
   ]
  },
  {
   "cell_type": "markdown",
   "metadata": {},
   "source": [
    "W tym przpadku jest podobnie. Wynik jest troche niższy. Być moze kolumna it_seller_rating jest bardziej wiarydna gdy brakujacym wynikiem jest it_quantity, jednak jest tez taka szansa ze w jedenym rekordzie będą braki w obydwu kolumnach. Wówczas szacowine brakujacych rekordów odbywa sie tylko i wyłącznie po kolumnie price. Wydaje mi się ze te braki pwonny być uzupelnianie na wikszej liczbie kolmun, żeby metoda nearest neighbours działała lepiej "
   ]
  },
  {
   "cell_type": "code",
   "execution_count": 24,
   "metadata": {},
   "outputs": [
    {
     "data": {
      "image/png": "[encoded data removed]",
      "text/plain": [
       "<Figure size 432x288 with 1 Axes>"
      ]
     },
     "metadata": {
      "needs_background": "light"
     },
     "output_type": "display_data"
    }
   ],
   "source": [
    "plt.boxplot(stds)\n",
    "plt.show()"
   ]
  },
  {
   "cell_type": "code",
   "execution_count": null,
   "metadata": {},
   "outputs": [],
   "source": []
  },
  {
   "cell_type": "code",
   "execution_count": null,
   "metadata": {},
   "outputs": [],
   "source": []
  },
  {
   "cell_type": "code",
   "execution_count": null,
   "metadata": {},
   "outputs": [],
   "source": []
  },
  {
   "cell_type": "code",
   "execution_count": null,
   "metadata": {},
   "outputs": [],
   "source": []
  },
  {
   "cell_type": "code",
   "execution_count": null,
   "metadata": {},
   "outputs": [],
   "source": []
  }
 ],
 "metadata": {
  "kernelspec": {
   "display_name": "Python 3",
   "language": "python",
   "name": "python3"
  },
  "language_info": {
   "codemirror_mode": {
    "name": "ipython",
    "version": 3
   },
   "file_extension": ".py",
   "mimetype": "text/x-python",
   "name": "python",
   "nbconvert_exporter": "python",
   "pygments_lexer": "ipython3",
   "version": "3.8.3"
  }
 },
 "nbformat": 4,
 "nbformat_minor": 4
}
