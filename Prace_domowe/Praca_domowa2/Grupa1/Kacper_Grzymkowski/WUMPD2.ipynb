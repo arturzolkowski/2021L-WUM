{
  "nbformat": 4,
  "nbformat_minor": 0,
  "metadata": {
    "colab": {
      "name": "WUMPD2.ipynb",
      "provenance": [],
      "collapsed_sections": [
        "LwJItJRfxyuW",
        "LSB5HoHvx4aF",
        "T1AkmKOdFiQS",
        "SuLCKKLCMb6u",
        "AYtNqsZOhEpW",
        "Nh3GO7MVaOF8"
      ],
      "toc_visible": true
    },
    "kernelspec": {
      "name": "python3",
      "display_name": "Python 3"
    }
  },
  "cells": [
    {
      "cell_type": "code",
      "metadata": {
        "colab": {
          "base_uri": "https://localhost:8080/"
        },
        "id": "nZ4f_7ONyoOZ",
        "outputId": "fb0bb2ec-bc0e-48e2-b06e-c227e31c85d6"
      },
      "source": [
        "!pip install category_encoders # instalacja, bo nie ma domyślnie"
      ],
      "execution_count": null,
      "outputs": [
        {
          "output_type": "stream",
          "text": [
            "Collecting category_encoders\n",
            "\u001b[?25l  Downloading https://files.pythonhosted.org/packages/44/57/fcef41c248701ee62e8325026b90c432adea35555cbc870aff9cfba23727/category_encoders-2.2.2-py2.py3-none-any.whl (80kB)\n",
            "\r\u001b[K     |████                            | 10kB 14.8MB/s eta 0:00:01\r\u001b[K     |████████▏                       | 20kB 19.6MB/s eta 0:00:01\r\u001b[K     |████████████▏                   | 30kB 13.5MB/s eta 0:00:01\r\u001b[K     |████████████████▎               | 40kB 9.7MB/s eta 0:00:01\r\u001b[K     |████████████████████▎           | 51kB 8.2MB/s eta 0:00:01\r\u001b[K     |████████████████████████▍       | 61kB 7.5MB/s eta 0:00:01\r\u001b[K     |████████████████████████████▍   | 71kB 8.2MB/s eta 0:00:01\r\u001b[K     |████████████████████████████████| 81kB 4.4MB/s \n",
            "\u001b[?25hRequirement already satisfied: scipy>=1.0.0 in /usr/local/lib/python3.7/dist-packages (from category_encoders) (1.4.1)\n",
            "Requirement already satisfied: scikit-learn>=0.20.0 in /usr/local/lib/python3.7/dist-packages (from category_encoders) (0.22.2.post1)\n",
            "Requirement already satisfied: numpy>=1.14.0 in /usr/local/lib/python3.7/dist-packages (from category_encoders) (1.19.5)\n",
            "Requirement already satisfied: pandas>=0.21.1 in /usr/local/lib/python3.7/dist-packages (from category_encoders) (1.1.5)\n",
            "Requirement already satisfied: patsy>=0.5.1 in /usr/local/lib/python3.7/dist-packages (from category_encoders) (0.5.1)\n",
            "Requirement already satisfied: statsmodels>=0.9.0 in /usr/local/lib/python3.7/dist-packages (from category_encoders) (0.10.2)\n",
            "Requirement already satisfied: joblib>=0.11 in /usr/local/lib/python3.7/dist-packages (from scikit-learn>=0.20.0->category_encoders) (1.0.1)\n",
            "Requirement already satisfied: pytz>=2017.2 in /usr/local/lib/python3.7/dist-packages (from pandas>=0.21.1->category_encoders) (2018.9)\n",
            "Requirement already satisfied: python-dateutil>=2.7.3 in /usr/local/lib/python3.7/dist-packages (from pandas>=0.21.1->category_encoders) (2.8.1)\n",
            "Requirement already satisfied: six in /usr/local/lib/python3.7/dist-packages (from patsy>=0.5.1->category_encoders) (1.15.0)\n",
            "Installing collected packages: category-encoders\n",
            "Successfully installed category-encoders-2.2.2\n"
          ],
          "name": "stdout"
        }
      ]
    },
    {
      "cell_type": "code",
      "metadata": {
        "id": "SKCVjUX4wXxQ"
      },
      "source": [
        "import pandas as pd\n",
        "import seaborn as sns\n",
        "import matplotlib.pyplot as plt\n",
        "import category_encoders as ce\n",
        "import numpy as np\n",
        "from sklearn.experimental import enable_iterative_imputer\n",
        "from sklearn.impute import IterativeImputer\n",
        "from sklearn.metrics import mean_squared_error\n"
      ],
      "execution_count": null,
      "outputs": []
    },
    {
      "cell_type": "code",
      "metadata": {
        "id": "8Kvw_fclwvfv"
      },
      "source": [
        "df_raw = pd.read_csv(\"https://www.dropbox.com/s/360xhh2d9lnaek3/allegro-api-transactions.csv?dl=1\")"
      ],
      "execution_count": null,
      "outputs": []
    },
    {
      "cell_type": "markdown",
      "metadata": {
        "id": "LwJItJRfxyuW"
      },
      "source": [
        "# Informacje o ramce danych"
      ]
    },
    {
      "cell_type": "code",
      "metadata": {
        "colab": {
          "base_uri": "https://localhost:8080/",
          "height": 983
        },
        "id": "hbfvLeKSw2g5",
        "outputId": "d92dc01e-1c10-441e-e2b4-45b96346a67e"
      },
      "source": [
        "df_raw"
      ],
      "execution_count": null,
      "outputs": [
        {
          "output_type": "execute_result",
          "data": {
            "text/html": [
              "<div>\n",
              "<style scoped>\n",
              "    .dataframe tbody tr th:only-of-type {\n",
              "        vertical-align: middle;\n",
              "    }\n",
              "\n",
              "    .dataframe tbody tr th {\n",
              "        vertical-align: top;\n",
              "    }\n",
              "\n",
              "    .dataframe thead th {\n",
              "        text-align: right;\n",
              "    }\n",
              "</style>\n",
              "<table border=\"1\" class=\"dataframe\">\n",
              "  <thead>\n",
              "    <tr style=\"text-align: right;\">\n",
              "      <th></th>\n",
              "      <th>lp</th>\n",
              "      <th>date</th>\n",
              "      <th>item_id</th>\n",
              "      <th>categories</th>\n",
              "      <th>pay_option_on_delivery</th>\n",
              "      <th>pay_option_transfer</th>\n",
              "      <th>seller</th>\n",
              "      <th>price</th>\n",
              "      <th>it_is_allegro_standard</th>\n",
              "      <th>it_quantity</th>\n",
              "      <th>it_is_brand_zone</th>\n",
              "      <th>it_seller_rating</th>\n",
              "      <th>it_location</th>\n",
              "      <th>main_category</th>\n",
              "    </tr>\n",
              "  </thead>\n",
              "  <tbody>\n",
              "    <tr>\n",
              "      <th>0</th>\n",
              "      <td>0</td>\n",
              "      <td>2016-04-03 21:21:08</td>\n",
              "      <td>4753602474</td>\n",
              "      <td>['Komputery', 'Dyski i napędy', 'Nośniki', 'No...</td>\n",
              "      <td>1</td>\n",
              "      <td>1</td>\n",
              "      <td>radzioch666</td>\n",
              "      <td>59.99</td>\n",
              "      <td>1</td>\n",
              "      <td>997</td>\n",
              "      <td>0</td>\n",
              "      <td>50177</td>\n",
              "      <td>Warszawa</td>\n",
              "      <td>Komputery</td>\n",
              "    </tr>\n",
              "    <tr>\n",
              "      <th>1</th>\n",
              "      <td>1</td>\n",
              "      <td>2016-04-03 15:35:26</td>\n",
              "      <td>4773181874</td>\n",
              "      <td>['Odzież, Obuwie, Dodatki', 'Bielizna damska',...</td>\n",
              "      <td>1</td>\n",
              "      <td>1</td>\n",
              "      <td>InwestycjeNET</td>\n",
              "      <td>4.90</td>\n",
              "      <td>1</td>\n",
              "      <td>9288</td>\n",
              "      <td>0</td>\n",
              "      <td>12428</td>\n",
              "      <td>Warszawa</td>\n",
              "      <td>Odzież, Obuwie, Dodatki</td>\n",
              "    </tr>\n",
              "    <tr>\n",
              "      <th>2</th>\n",
              "      <td>2</td>\n",
              "      <td>2016-04-03 14:14:31</td>\n",
              "      <td>4781627074</td>\n",
              "      <td>['Dom i Ogród', 'Budownictwo i Akcesoria', 'Śc...</td>\n",
              "      <td>1</td>\n",
              "      <td>1</td>\n",
              "      <td>otostyl_com</td>\n",
              "      <td>109.90</td>\n",
              "      <td>1</td>\n",
              "      <td>895</td>\n",
              "      <td>0</td>\n",
              "      <td>7389</td>\n",
              "      <td>Leszno</td>\n",
              "      <td>Dom i Ogród</td>\n",
              "    </tr>\n",
              "    <tr>\n",
              "      <th>3</th>\n",
              "      <td>3</td>\n",
              "      <td>2016-04-03 19:55:44</td>\n",
              "      <td>4783971474</td>\n",
              "      <td>['Książki i Komiksy', 'Poradniki i albumy', 'Z...</td>\n",
              "      <td>1</td>\n",
              "      <td>1</td>\n",
              "      <td>Matfel1</td>\n",
              "      <td>18.50</td>\n",
              "      <td>0</td>\n",
              "      <td>971</td>\n",
              "      <td>0</td>\n",
              "      <td>15006</td>\n",
              "      <td>Wola Krzysztoporska</td>\n",
              "      <td>Książki i Komiksy</td>\n",
              "    </tr>\n",
              "    <tr>\n",
              "      <th>4</th>\n",
              "      <td>4</td>\n",
              "      <td>2016-04-03 18:05:54</td>\n",
              "      <td>4787908274</td>\n",
              "      <td>['Odzież, Obuwie, Dodatki', 'Ślub i wesele', '...</td>\n",
              "      <td>1</td>\n",
              "      <td>1</td>\n",
              "      <td>PPHU_RICO</td>\n",
              "      <td>19.90</td>\n",
              "      <td>1</td>\n",
              "      <td>950</td>\n",
              "      <td>0</td>\n",
              "      <td>32975</td>\n",
              "      <td>BIAŁYSTOK</td>\n",
              "      <td>Odzież, Obuwie, Dodatki</td>\n",
              "    </tr>\n",
              "    <tr>\n",
              "      <th>...</th>\n",
              "      <td>...</td>\n",
              "      <td>...</td>\n",
              "      <td>...</td>\n",
              "      <td>...</td>\n",
              "      <td>...</td>\n",
              "      <td>...</td>\n",
              "      <td>...</td>\n",
              "      <td>...</td>\n",
              "      <td>...</td>\n",
              "      <td>...</td>\n",
              "      <td>...</td>\n",
              "      <td>...</td>\n",
              "      <td>...</td>\n",
              "      <td>...</td>\n",
              "    </tr>\n",
              "    <tr>\n",
              "      <th>420015</th>\n",
              "      <td>420015</td>\n",
              "      <td>2016-04-03 20:27:13</td>\n",
              "      <td>6099625607</td>\n",
              "      <td>['RTV i AGD', 'Sprzęt audio dla domu', 'Odtwar...</td>\n",
              "      <td>0</td>\n",
              "      <td>0</td>\n",
              "      <td>iwona7012</td>\n",
              "      <td>180.00</td>\n",
              "      <td>0</td>\n",
              "      <td>0</td>\n",
              "      <td>0</td>\n",
              "      <td>176</td>\n",
              "      <td>Kraśnik</td>\n",
              "      <td>RTV i AGD</td>\n",
              "    </tr>\n",
              "    <tr>\n",
              "      <th>420016</th>\n",
              "      <td>420016</td>\n",
              "      <td>2016-04-03 22:35:02</td>\n",
              "      <td>6099634607</td>\n",
              "      <td>['Uroda', 'Makijaż', 'Oczy', 'Tusze do rzęs']</td>\n",
              "      <td>1</td>\n",
              "      <td>1</td>\n",
              "      <td>Dolce_Cosmetics</td>\n",
              "      <td>14.99</td>\n",
              "      <td>1</td>\n",
              "      <td>2</td>\n",
              "      <td>0</td>\n",
              "      <td>34851</td>\n",
              "      <td>Dzierżoniów</td>\n",
              "      <td>Uroda</td>\n",
              "    </tr>\n",
              "    <tr>\n",
              "      <th>420017</th>\n",
              "      <td>420017</td>\n",
              "      <td>2016-04-03 22:38:57</td>\n",
              "      <td>6099780407</td>\n",
              "      <td>['Odzież, Obuwie, Dodatki', 'Przebrania, kosti...</td>\n",
              "      <td>1</td>\n",
              "      <td>1</td>\n",
              "      <td>pewex4all</td>\n",
              "      <td>5.99</td>\n",
              "      <td>1</td>\n",
              "      <td>470</td>\n",
              "      <td>0</td>\n",
              "      <td>983</td>\n",
              "      <td>Supraśl</td>\n",
              "      <td>Odzież, Obuwie, Dodatki</td>\n",
              "    </tr>\n",
              "    <tr>\n",
              "      <th>420018</th>\n",
              "      <td>420018</td>\n",
              "      <td>2016-04-03 22:44:17</td>\n",
              "      <td>6099801007</td>\n",
              "      <td>['Dla Dzieci', 'Rowery i pojazdy', 'Rowery bie...</td>\n",
              "      <td>1</td>\n",
              "      <td>0</td>\n",
              "      <td>kostasia</td>\n",
              "      <td>200.00</td>\n",
              "      <td>0</td>\n",
              "      <td>0</td>\n",
              "      <td>0</td>\n",
              "      <td>163</td>\n",
              "      <td>Poznań</td>\n",
              "      <td>Dla Dzieci</td>\n",
              "    </tr>\n",
              "    <tr>\n",
              "      <th>420019</th>\n",
              "      <td>420019</td>\n",
              "      <td>2016-04-03 23:08:23</td>\n",
              "      <td>6099873207</td>\n",
              "      <td>['Motoryzacja', 'Części samochodowe', 'Koła, f...</td>\n",
              "      <td>0</td>\n",
              "      <td>0</td>\n",
              "      <td>Malami172</td>\n",
              "      <td>500.00</td>\n",
              "      <td>0</td>\n",
              "      <td>0</td>\n",
              "      <td>0</td>\n",
              "      <td>265</td>\n",
              "      <td>Pszów</td>\n",
              "      <td>Motoryzacja</td>\n",
              "    </tr>\n",
              "  </tbody>\n",
              "</table>\n",
              "<p>420020 rows × 14 columns</p>\n",
              "</div>"
            ],
            "text/plain": [
              "            lp  ...            main_category\n",
              "0            0  ...                Komputery\n",
              "1            1  ...  Odzież, Obuwie, Dodatki\n",
              "2            2  ...              Dom i Ogród\n",
              "3            3  ...        Książki i Komiksy\n",
              "4            4  ...  Odzież, Obuwie, Dodatki\n",
              "...        ...  ...                      ...\n",
              "420015  420015  ...                RTV i AGD\n",
              "420016  420016  ...                    Uroda\n",
              "420017  420017  ...  Odzież, Obuwie, Dodatki\n",
              "420018  420018  ...               Dla Dzieci\n",
              "420019  420019  ...              Motoryzacja\n",
              "\n",
              "[420020 rows x 14 columns]"
            ]
          },
          "metadata": {
            "tags": []
          },
          "execution_count": 143
        }
      ]
    },
    {
      "cell_type": "code",
      "metadata": {
        "colab": {
          "base_uri": "https://localhost:8080/"
        },
        "id": "hycCZSsKxX7I",
        "outputId": "298eff6e-578d-48c0-e6f6-ec5ec4206881"
      },
      "source": [
        "df_raw.info()"
      ],
      "execution_count": null,
      "outputs": [
        {
          "output_type": "stream",
          "text": [
            "<class 'pandas.core.frame.DataFrame'>\n",
            "RangeIndex: 420020 entries, 0 to 420019\n",
            "Data columns (total 14 columns):\n",
            " #   Column                  Non-Null Count   Dtype  \n",
            "---  ------                  --------------   -----  \n",
            " 0   lp                      420020 non-null  int64  \n",
            " 1   date                    420020 non-null  object \n",
            " 2   item_id                 420020 non-null  int64  \n",
            " 3   categories              420020 non-null  object \n",
            " 4   pay_option_on_delivery  420020 non-null  int64  \n",
            " 5   pay_option_transfer     420020 non-null  int64  \n",
            " 6   seller                  420020 non-null  object \n",
            " 7   price                   420020 non-null  float64\n",
            " 8   it_is_allegro_standard  420020 non-null  int64  \n",
            " 9   it_quantity             420020 non-null  int64  \n",
            " 10  it_is_brand_zone        420020 non-null  int64  \n",
            " 11  it_seller_rating        420020 non-null  int64  \n",
            " 12  it_location             420020 non-null  object \n",
            " 13  main_category           420020 non-null  object \n",
            "dtypes: float64(1), int64(8), object(5)\n",
            "memory usage: 44.9+ MB\n"
          ],
          "name": "stdout"
        }
      ]
    },
    {
      "cell_type": "markdown",
      "metadata": {
        "id": "LSB5HoHvx4aF"
      },
      "source": [
        "# Zadanie 1a\n",
        "TargetEncoding zmiennej \"it_location\""
      ]
    },
    {
      "cell_type": "code",
      "metadata": {
        "colab": {
          "base_uri": "https://localhost:8080/"
        },
        "id": "0nz3VIBax7cE",
        "outputId": "395f7de1-8b4e-40f6-8a57-de5b06cbaa12"
      },
      "source": [
        "target_enc = ce.target_encoder.TargetEncoder(cols=[\"it_location\"])\n",
        "target_enc = target_enc.fit(df_raw, df_raw[\"price\"])\n",
        "df_loc_enc = target_enc.transform(df_raw)"
      ],
      "execution_count": null,
      "outputs": [
        {
          "output_type": "stream",
          "text": [
            "/usr/local/lib/python3.7/dist-packages/category_encoders/utils.py:21: FutureWarning: is_categorical is deprecated and will be removed in a future version.  Use is_categorical_dtype instead\n",
            "  elif pd.api.types.is_categorical(cols):\n"
          ],
          "name": "stderr"
        }
      ]
    },
    {
      "cell_type": "code",
      "metadata": {
        "colab": {
          "base_uri": "https://localhost:8080/",
          "height": 606
        },
        "id": "zaftzh13zMeA",
        "outputId": "36a9fd06-ff76-4461-b9ba-3e5f889bb076"
      },
      "source": [
        "plt.figure(figsize=(10,10))\n",
        "sns.regplot(data=df_loc_enc.sample(n=1000, random_state=33), x=\"it_location\", y=\"price\")\n",
        "plt.show()"
      ],
      "execution_count": null,
      "outputs": [
        {
          "output_type": "display_data",
          "data": {
            "image/png": "[encoded data removed]",
            "text/plain": [
              "<Figure size 720x720 with 1 Axes>"
            ]
          },
          "metadata": {
            "tags": [],
            "needs_background": "light"
          }
        }
      ]
    },
    {
      "cell_type": "markdown",
      "metadata": {
        "id": "l_lvPOgH7Q9G"
      },
      "source": [
        "Dużo odstające wartości, warto je usunąć do wizualizacji. Dodatkowo warto wziąć próbkę, 400 tysięcy to sporo kropek na wykresie."
      ]
    },
    {
      "cell_type": "code",
      "metadata": {
        "id": "gHp3857C4dcV"
      },
      "source": [
        "q_low_loc = df_loc_enc[\"it_location\"].quantile(0.05)\n",
        "q_high_loc = df_loc_enc[\"it_location\"].quantile(0.95)\n",
        "\n",
        "q_low_price = df_loc_enc[\"price\"].quantile(0.05)\n",
        "q_high_price = df_loc_enc[\"price\"].quantile(0.95)\n",
        "\n",
        "df_plot = df_loc_enc[(q_low_loc < df_loc_enc[\"it_location\"]) & (df_loc_enc[\"it_location\"] < q_high_loc) &\n",
        "                     (q_low_price < df_loc_enc[\"price\"]) & (df_loc_enc[\"price\"] < q_high_price)]\n",
        "\n",
        "df_plot = df_plot.sample(n=1000, random_state=44)"
      ],
      "execution_count": null,
      "outputs": []
    },
    {
      "cell_type": "code",
      "metadata": {
        "colab": {
          "base_uri": "https://localhost:8080/",
          "height": 606
        },
        "id": "CRoqlKe_4i-z",
        "outputId": "e899e9be-d71b-428c-8fff-2b2ebad5679a"
      },
      "source": [
        "plt.figure(figsize=(10,10))\n",
        "sns.regplot(data=df_plot, x=\"it_location\", y=\"price\")\n",
        "plt.show()"
      ],
      "execution_count": null,
      "outputs": [
        {
          "output_type": "display_data",
          "data": {
            "image/png": "[encoded data removed]",
            "text/plain": [
              "<Figure size 720x720 with 1 Axes>"
            ]
          },
          "metadata": {
            "tags": [],
            "needs_background": "light"
          }
        }
      ]
    },
    {
      "cell_type": "code",
      "metadata": {
        "colab": {
          "base_uri": "https://localhost:8080/",
          "height": 606
        },
        "id": "u_GoqZ7t0nW-",
        "outputId": "1a3fde41-78ce-451b-ecbb-ec286c5a56a5"
      },
      "source": [
        "plt.figure(figsize=(10,10))\n",
        "sns.swarmplot(data=df_plot, x=\"it_location\")\n",
        "plt.show()"
      ],
      "execution_count": null,
      "outputs": [
        {
          "output_type": "display_data",
          "data": {
            "image/png": "[encoded data removed]",
            "text/plain": [
              "<Figure size 720x720 with 1 Axes>"
            ]
          },
          "metadata": {
            "tags": [],
            "needs_background": "light"
          }
        }
      ]
    },
    {
      "cell_type": "markdown",
      "metadata": {
        "id": "GeGP45TW5Su_"
      },
      "source": [
        "Kodowanie kategorii sposobem TargetEncoding\n",
        "\n",
        "Plusy sposobu:\n",
        "\n",
        "* Ładnie pasuje do regresji - liczby rzeczywiste do liczb rzeczywistych\n",
        "* Dobry dla zmiennej o dużej liczbie unikatowych kategorii.\n",
        "* Prosty i lekki - tylko jedna liczba rzeczywista na wiersz. \n",
        "\n",
        "Minusy sposobu:\n",
        "\n",
        "* Tracimy informację o rozkładzie targetu względem zmiennych kateogrycznych. \n",
        "* W szczególności branie średniej może być czułe na wartości odstające.\n",
        "* Przy małej liczbie kategorii zbytnio spłaszcza dane.\n"
      ]
    },
    {
      "cell_type": "markdown",
      "metadata": {
        "id": "T1AkmKOdFiQS"
      },
      "source": [
        "# Zadanie 1b\n",
        "Encoding zmiennej \"main_category\" na 3 sposoby"
      ]
    },
    {
      "cell_type": "code",
      "metadata": {
        "colab": {
          "base_uri": "https://localhost:8080/",
          "height": 592
        },
        "id": "u077kMcsCa4i",
        "outputId": "a7bf6072-58f3-4ee9-ade8-c3ee250b3438"
      },
      "source": [
        "oh_encoder = ce.OneHotEncoder(cols=[\"main_category\"])\n",
        "df_oh = oh_encoder.fit_transform(df_raw)\n",
        "df_oh.insert(13, \"main_target\", df_raw.main_category)\n",
        "df_oh.iloc[:, 13:]"
      ],
      "execution_count": null,
      "outputs": [
        {
          "output_type": "stream",
          "text": [
            "/usr/local/lib/python3.7/dist-packages/category_encoders/utils.py:21: FutureWarning: is_categorical is deprecated and will be removed in a future version.  Use is_categorical_dtype instead\n",
            "  elif pd.api.types.is_categorical(cols):\n"
          ],
          "name": "stderr"
        },
        {
          "output_type": "execute_result",
          "data": {
            "text/html": [
              "<div>\n",
              "<style scoped>\n",
              "    .dataframe tbody tr th:only-of-type {\n",
              "        vertical-align: middle;\n",
              "    }\n",
              "\n",
              "    .dataframe tbody tr th {\n",
              "        vertical-align: top;\n",
              "    }\n",
              "\n",
              "    .dataframe thead th {\n",
              "        text-align: right;\n",
              "    }\n",
              "</style>\n",
              "<table border=\"1\" class=\"dataframe\">\n",
              "  <thead>\n",
              "    <tr style=\"text-align: right;\">\n",
              "      <th></th>\n",
              "      <th>main_target</th>\n",
              "      <th>main_category_1</th>\n",
              "      <th>main_category_2</th>\n",
              "      <th>main_category_3</th>\n",
              "      <th>main_category_4</th>\n",
              "      <th>main_category_5</th>\n",
              "      <th>main_category_6</th>\n",
              "      <th>main_category_7</th>\n",
              "      <th>main_category_8</th>\n",
              "      <th>main_category_9</th>\n",
              "      <th>main_category_10</th>\n",
              "      <th>main_category_11</th>\n",
              "      <th>main_category_12</th>\n",
              "      <th>main_category_13</th>\n",
              "      <th>main_category_14</th>\n",
              "      <th>main_category_15</th>\n",
              "      <th>main_category_16</th>\n",
              "      <th>main_category_17</th>\n",
              "      <th>main_category_18</th>\n",
              "      <th>main_category_19</th>\n",
              "      <th>main_category_20</th>\n",
              "      <th>main_category_21</th>\n",
              "      <th>main_category_22</th>\n",
              "      <th>main_category_23</th>\n",
              "      <th>main_category_24</th>\n",
              "      <th>main_category_25</th>\n",
              "      <th>main_category_26</th>\n",
              "      <th>main_category_27</th>\n",
              "    </tr>\n",
              "  </thead>\n",
              "  <tbody>\n",
              "    <tr>\n",
              "      <th>0</th>\n",
              "      <td>Komputery</td>\n",
              "      <td>1</td>\n",
              "      <td>0</td>\n",
              "      <td>0</td>\n",
              "      <td>0</td>\n",
              "      <td>0</td>\n",
              "      <td>0</td>\n",
              "      <td>0</td>\n",
              "      <td>0</td>\n",
              "      <td>0</td>\n",
              "      <td>0</td>\n",
              "      <td>0</td>\n",
              "      <td>0</td>\n",
              "      <td>0</td>\n",
              "      <td>0</td>\n",
              "      <td>0</td>\n",
              "      <td>0</td>\n",
              "      <td>0</td>\n",
              "      <td>0</td>\n",
              "      <td>0</td>\n",
              "      <td>0</td>\n",
              "      <td>0</td>\n",
              "      <td>0</td>\n",
              "      <td>0</td>\n",
              "      <td>0</td>\n",
              "      <td>0</td>\n",
              "      <td>0</td>\n",
              "      <td>0</td>\n",
              "    </tr>\n",
              "    <tr>\n",
              "      <th>1</th>\n",
              "      <td>Odzież, Obuwie, Dodatki</td>\n",
              "      <td>0</td>\n",
              "      <td>1</td>\n",
              "      <td>0</td>\n",
              "      <td>0</td>\n",
              "      <td>0</td>\n",
              "      <td>0</td>\n",
              "      <td>0</td>\n",
              "      <td>0</td>\n",
              "      <td>0</td>\n",
              "      <td>0</td>\n",
              "      <td>0</td>\n",
              "      <td>0</td>\n",
              "      <td>0</td>\n",
              "      <td>0</td>\n",
              "      <td>0</td>\n",
              "      <td>0</td>\n",
              "      <td>0</td>\n",
              "      <td>0</td>\n",
              "      <td>0</td>\n",
              "      <td>0</td>\n",
              "      <td>0</td>\n",
              "      <td>0</td>\n",
              "      <td>0</td>\n",
              "      <td>0</td>\n",
              "      <td>0</td>\n",
              "      <td>0</td>\n",
              "      <td>0</td>\n",
              "    </tr>\n",
              "    <tr>\n",
              "      <th>2</th>\n",
              "      <td>Dom i Ogród</td>\n",
              "      <td>0</td>\n",
              "      <td>0</td>\n",
              "      <td>1</td>\n",
              "      <td>0</td>\n",
              "      <td>0</td>\n",
              "      <td>0</td>\n",
              "      <td>0</td>\n",
              "      <td>0</td>\n",
              "      <td>0</td>\n",
              "      <td>0</td>\n",
              "      <td>0</td>\n",
              "      <td>0</td>\n",
              "      <td>0</td>\n",
              "      <td>0</td>\n",
              "      <td>0</td>\n",
              "      <td>0</td>\n",
              "      <td>0</td>\n",
              "      <td>0</td>\n",
              "      <td>0</td>\n",
              "      <td>0</td>\n",
              "      <td>0</td>\n",
              "      <td>0</td>\n",
              "      <td>0</td>\n",
              "      <td>0</td>\n",
              "      <td>0</td>\n",
              "      <td>0</td>\n",
              "      <td>0</td>\n",
              "    </tr>\n",
              "    <tr>\n",
              "      <th>3</th>\n",
              "      <td>Książki i Komiksy</td>\n",
              "      <td>0</td>\n",
              "      <td>0</td>\n",
              "      <td>0</td>\n",
              "      <td>1</td>\n",
              "      <td>0</td>\n",
              "      <td>0</td>\n",
              "      <td>0</td>\n",
              "      <td>0</td>\n",
              "      <td>0</td>\n",
              "      <td>0</td>\n",
              "      <td>0</td>\n",
              "      <td>0</td>\n",
              "      <td>0</td>\n",
              "      <td>0</td>\n",
              "      <td>0</td>\n",
              "      <td>0</td>\n",
              "      <td>0</td>\n",
              "      <td>0</td>\n",
              "      <td>0</td>\n",
              "      <td>0</td>\n",
              "      <td>0</td>\n",
              "      <td>0</td>\n",
              "      <td>0</td>\n",
              "      <td>0</td>\n",
              "      <td>0</td>\n",
              "      <td>0</td>\n",
              "      <td>0</td>\n",
              "    </tr>\n",
              "    <tr>\n",
              "      <th>4</th>\n",
              "      <td>Odzież, Obuwie, Dodatki</td>\n",
              "      <td>0</td>\n",
              "      <td>1</td>\n",
              "      <td>0</td>\n",
              "      <td>0</td>\n",
              "      <td>0</td>\n",
              "      <td>0</td>\n",
              "      <td>0</td>\n",
              "      <td>0</td>\n",
              "      <td>0</td>\n",
              "      <td>0</td>\n",
              "      <td>0</td>\n",
              "      <td>0</td>\n",
              "      <td>0</td>\n",
              "      <td>0</td>\n",
              "      <td>0</td>\n",
              "      <td>0</td>\n",
              "      <td>0</td>\n",
              "      <td>0</td>\n",
              "      <td>0</td>\n",
              "      <td>0</td>\n",
              "      <td>0</td>\n",
              "      <td>0</td>\n",
              "      <td>0</td>\n",
              "      <td>0</td>\n",
              "      <td>0</td>\n",
              "      <td>0</td>\n",
              "      <td>0</td>\n",
              "    </tr>\n",
              "    <tr>\n",
              "      <th>...</th>\n",
              "      <td>...</td>\n",
              "      <td>...</td>\n",
              "      <td>...</td>\n",
              "      <td>...</td>\n",
              "      <td>...</td>\n",
              "      <td>...</td>\n",
              "      <td>...</td>\n",
              "      <td>...</td>\n",
              "      <td>...</td>\n",
              "      <td>...</td>\n",
              "      <td>...</td>\n",
              "      <td>...</td>\n",
              "      <td>...</td>\n",
              "      <td>...</td>\n",
              "      <td>...</td>\n",
              "      <td>...</td>\n",
              "      <td>...</td>\n",
              "      <td>...</td>\n",
              "      <td>...</td>\n",
              "      <td>...</td>\n",
              "      <td>...</td>\n",
              "      <td>...</td>\n",
              "      <td>...</td>\n",
              "      <td>...</td>\n",
              "      <td>...</td>\n",
              "      <td>...</td>\n",
              "      <td>...</td>\n",
              "      <td>...</td>\n",
              "    </tr>\n",
              "    <tr>\n",
              "      <th>420015</th>\n",
              "      <td>RTV i AGD</td>\n",
              "      <td>0</td>\n",
              "      <td>0</td>\n",
              "      <td>0</td>\n",
              "      <td>0</td>\n",
              "      <td>0</td>\n",
              "      <td>1</td>\n",
              "      <td>0</td>\n",
              "      <td>0</td>\n",
              "      <td>0</td>\n",
              "      <td>0</td>\n",
              "      <td>0</td>\n",
              "      <td>0</td>\n",
              "      <td>0</td>\n",
              "      <td>0</td>\n",
              "      <td>0</td>\n",
              "      <td>0</td>\n",
              "      <td>0</td>\n",
              "      <td>0</td>\n",
              "      <td>0</td>\n",
              "      <td>0</td>\n",
              "      <td>0</td>\n",
              "      <td>0</td>\n",
              "      <td>0</td>\n",
              "      <td>0</td>\n",
              "      <td>0</td>\n",
              "      <td>0</td>\n",
              "      <td>0</td>\n",
              "    </tr>\n",
              "    <tr>\n",
              "      <th>420016</th>\n",
              "      <td>Uroda</td>\n",
              "      <td>0</td>\n",
              "      <td>0</td>\n",
              "      <td>0</td>\n",
              "      <td>0</td>\n",
              "      <td>0</td>\n",
              "      <td>0</td>\n",
              "      <td>0</td>\n",
              "      <td>0</td>\n",
              "      <td>1</td>\n",
              "      <td>0</td>\n",
              "      <td>0</td>\n",
              "      <td>0</td>\n",
              "      <td>0</td>\n",
              "      <td>0</td>\n",
              "      <td>0</td>\n",
              "      <td>0</td>\n",
              "      <td>0</td>\n",
              "      <td>0</td>\n",
              "      <td>0</td>\n",
              "      <td>0</td>\n",
              "      <td>0</td>\n",
              "      <td>0</td>\n",
              "      <td>0</td>\n",
              "      <td>0</td>\n",
              "      <td>0</td>\n",
              "      <td>0</td>\n",
              "      <td>0</td>\n",
              "    </tr>\n",
              "    <tr>\n",
              "      <th>420017</th>\n",
              "      <td>Odzież, Obuwie, Dodatki</td>\n",
              "      <td>0</td>\n",
              "      <td>1</td>\n",
              "      <td>0</td>\n",
              "      <td>0</td>\n",
              "      <td>0</td>\n",
              "      <td>0</td>\n",
              "      <td>0</td>\n",
              "      <td>0</td>\n",
              "      <td>0</td>\n",
              "      <td>0</td>\n",
              "      <td>0</td>\n",
              "      <td>0</td>\n",
              "      <td>0</td>\n",
              "      <td>0</td>\n",
              "      <td>0</td>\n",
              "      <td>0</td>\n",
              "      <td>0</td>\n",
              "      <td>0</td>\n",
              "      <td>0</td>\n",
              "      <td>0</td>\n",
              "      <td>0</td>\n",
              "      <td>0</td>\n",
              "      <td>0</td>\n",
              "      <td>0</td>\n",
              "      <td>0</td>\n",
              "      <td>0</td>\n",
              "      <td>0</td>\n",
              "    </tr>\n",
              "    <tr>\n",
              "      <th>420018</th>\n",
              "      <td>Dla Dzieci</td>\n",
              "      <td>0</td>\n",
              "      <td>0</td>\n",
              "      <td>0</td>\n",
              "      <td>0</td>\n",
              "      <td>0</td>\n",
              "      <td>0</td>\n",
              "      <td>0</td>\n",
              "      <td>1</td>\n",
              "      <td>0</td>\n",
              "      <td>0</td>\n",
              "      <td>0</td>\n",
              "      <td>0</td>\n",
              "      <td>0</td>\n",
              "      <td>0</td>\n",
              "      <td>0</td>\n",
              "      <td>0</td>\n",
              "      <td>0</td>\n",
              "      <td>0</td>\n",
              "      <td>0</td>\n",
              "      <td>0</td>\n",
              "      <td>0</td>\n",
              "      <td>0</td>\n",
              "      <td>0</td>\n",
              "      <td>0</td>\n",
              "      <td>0</td>\n",
              "      <td>0</td>\n",
              "      <td>0</td>\n",
              "    </tr>\n",
              "    <tr>\n",
              "      <th>420019</th>\n",
              "      <td>Motoryzacja</td>\n",
              "      <td>0</td>\n",
              "      <td>0</td>\n",
              "      <td>0</td>\n",
              "      <td>0</td>\n",
              "      <td>0</td>\n",
              "      <td>0</td>\n",
              "      <td>1</td>\n",
              "      <td>0</td>\n",
              "      <td>0</td>\n",
              "      <td>0</td>\n",
              "      <td>0</td>\n",
              "      <td>0</td>\n",
              "      <td>0</td>\n",
              "      <td>0</td>\n",
              "      <td>0</td>\n",
              "      <td>0</td>\n",
              "      <td>0</td>\n",
              "      <td>0</td>\n",
              "      <td>0</td>\n",
              "      <td>0</td>\n",
              "      <td>0</td>\n",
              "      <td>0</td>\n",
              "      <td>0</td>\n",
              "      <td>0</td>\n",
              "      <td>0</td>\n",
              "      <td>0</td>\n",
              "      <td>0</td>\n",
              "    </tr>\n",
              "  </tbody>\n",
              "</table>\n",
              "<p>420020 rows × 28 columns</p>\n",
              "</div>"
            ],
            "text/plain": [
              "                    main_target  ...  main_category_27\n",
              "0                     Komputery  ...                 0\n",
              "1       Odzież, Obuwie, Dodatki  ...                 0\n",
              "2                   Dom i Ogród  ...                 0\n",
              "3             Książki i Komiksy  ...                 0\n",
              "4       Odzież, Obuwie, Dodatki  ...                 0\n",
              "...                         ...  ...               ...\n",
              "420015                RTV i AGD  ...                 0\n",
              "420016                    Uroda  ...                 0\n",
              "420017  Odzież, Obuwie, Dodatki  ...                 0\n",
              "420018               Dla Dzieci  ...                 0\n",
              "420019              Motoryzacja  ...                 0\n",
              "\n",
              "[420020 rows x 28 columns]"
            ]
          },
          "metadata": {
            "tags": []
          },
          "execution_count": 150
        }
      ]
    },
    {
      "cell_type": "code",
      "metadata": {
        "colab": {
          "base_uri": "https://localhost:8080/",
          "height": 473
        },
        "id": "MyovsZhJEts0",
        "outputId": "20f71ec8-613c-4676-8f83-9f3df3e977d7"
      },
      "source": [
        "h_encoder = ce.HashingEncoder(cols=[\"main_category\"])\n",
        "#df_h = h_encoder.fit_transform(df_raw) # nie działa - zbyt długi czas wykonania\n",
        "df_h = h_encoder.fit_transform(df_raw.head(1000)) # biorę head dla tysiąca wierszy, aby zobaczyć jak wygląda\n",
        "df_h.insert(0, \"main_category\", df_raw.head(1000).main_category)\n",
        "df_h.iloc[:, :9]"
      ],
      "execution_count": null,
      "outputs": [
        {
          "output_type": "stream",
          "text": [
            "/usr/local/lib/python3.7/dist-packages/category_encoders/utils.py:21: FutureWarning: is_categorical is deprecated and will be removed in a future version.  Use is_categorical_dtype instead\n",
            "  elif pd.api.types.is_categorical(cols):\n"
          ],
          "name": "stderr"
        },
        {
          "output_type": "execute_result",
          "data": {
            "text/html": [
              "<div>\n",
              "<style scoped>\n",
              "    .dataframe tbody tr th:only-of-type {\n",
              "        vertical-align: middle;\n",
              "    }\n",
              "\n",
              "    .dataframe tbody tr th {\n",
              "        vertical-align: top;\n",
              "    }\n",
              "\n",
              "    .dataframe thead th {\n",
              "        text-align: right;\n",
              "    }\n",
              "</style>\n",
              "<table border=\"1\" class=\"dataframe\">\n",
              "  <thead>\n",
              "    <tr style=\"text-align: right;\">\n",
              "      <th></th>\n",
              "      <th>main_category</th>\n",
              "      <th>col_0</th>\n",
              "      <th>col_1</th>\n",
              "      <th>col_2</th>\n",
              "      <th>col_3</th>\n",
              "      <th>col_4</th>\n",
              "      <th>col_5</th>\n",
              "      <th>col_6</th>\n",
              "      <th>col_7</th>\n",
              "    </tr>\n",
              "  </thead>\n",
              "  <tbody>\n",
              "    <tr>\n",
              "      <th>0</th>\n",
              "      <td>Komputery</td>\n",
              "      <td>0</td>\n",
              "      <td>0</td>\n",
              "      <td>0</td>\n",
              "      <td>0</td>\n",
              "      <td>0</td>\n",
              "      <td>0</td>\n",
              "      <td>1</td>\n",
              "      <td>0</td>\n",
              "    </tr>\n",
              "    <tr>\n",
              "      <th>1</th>\n",
              "      <td>Odzież, Obuwie, Dodatki</td>\n",
              "      <td>0</td>\n",
              "      <td>0</td>\n",
              "      <td>1</td>\n",
              "      <td>0</td>\n",
              "      <td>0</td>\n",
              "      <td>0</td>\n",
              "      <td>0</td>\n",
              "      <td>0</td>\n",
              "    </tr>\n",
              "    <tr>\n",
              "      <th>2</th>\n",
              "      <td>Dom i Ogród</td>\n",
              "      <td>0</td>\n",
              "      <td>0</td>\n",
              "      <td>0</td>\n",
              "      <td>0</td>\n",
              "      <td>0</td>\n",
              "      <td>0</td>\n",
              "      <td>1</td>\n",
              "      <td>0</td>\n",
              "    </tr>\n",
              "    <tr>\n",
              "      <th>3</th>\n",
              "      <td>Książki i Komiksy</td>\n",
              "      <td>0</td>\n",
              "      <td>0</td>\n",
              "      <td>1</td>\n",
              "      <td>0</td>\n",
              "      <td>0</td>\n",
              "      <td>0</td>\n",
              "      <td>0</td>\n",
              "      <td>0</td>\n",
              "    </tr>\n",
              "    <tr>\n",
              "      <th>4</th>\n",
              "      <td>Odzież, Obuwie, Dodatki</td>\n",
              "      <td>0</td>\n",
              "      <td>0</td>\n",
              "      <td>1</td>\n",
              "      <td>0</td>\n",
              "      <td>0</td>\n",
              "      <td>0</td>\n",
              "      <td>0</td>\n",
              "      <td>0</td>\n",
              "    </tr>\n",
              "    <tr>\n",
              "      <th>...</th>\n",
              "      <td>...</td>\n",
              "      <td>...</td>\n",
              "      <td>...</td>\n",
              "      <td>...</td>\n",
              "      <td>...</td>\n",
              "      <td>...</td>\n",
              "      <td>...</td>\n",
              "      <td>...</td>\n",
              "      <td>...</td>\n",
              "    </tr>\n",
              "    <tr>\n",
              "      <th>995</th>\n",
              "      <td>Dom i Ogród</td>\n",
              "      <td>0</td>\n",
              "      <td>0</td>\n",
              "      <td>0</td>\n",
              "      <td>0</td>\n",
              "      <td>0</td>\n",
              "      <td>0</td>\n",
              "      <td>1</td>\n",
              "      <td>0</td>\n",
              "    </tr>\n",
              "    <tr>\n",
              "      <th>996</th>\n",
              "      <td>Odzież, Obuwie, Dodatki</td>\n",
              "      <td>0</td>\n",
              "      <td>0</td>\n",
              "      <td>1</td>\n",
              "      <td>0</td>\n",
              "      <td>0</td>\n",
              "      <td>0</td>\n",
              "      <td>0</td>\n",
              "      <td>0</td>\n",
              "    </tr>\n",
              "    <tr>\n",
              "      <th>997</th>\n",
              "      <td>Książki i Komiksy</td>\n",
              "      <td>0</td>\n",
              "      <td>0</td>\n",
              "      <td>1</td>\n",
              "      <td>0</td>\n",
              "      <td>0</td>\n",
              "      <td>0</td>\n",
              "      <td>0</td>\n",
              "      <td>0</td>\n",
              "    </tr>\n",
              "    <tr>\n",
              "      <th>998</th>\n",
              "      <td>Dom i Ogród</td>\n",
              "      <td>0</td>\n",
              "      <td>0</td>\n",
              "      <td>0</td>\n",
              "      <td>0</td>\n",
              "      <td>0</td>\n",
              "      <td>0</td>\n",
              "      <td>1</td>\n",
              "      <td>0</td>\n",
              "    </tr>\n",
              "    <tr>\n",
              "      <th>999</th>\n",
              "      <td>Sport i Turystyka</td>\n",
              "      <td>0</td>\n",
              "      <td>0</td>\n",
              "      <td>0</td>\n",
              "      <td>0</td>\n",
              "      <td>0</td>\n",
              "      <td>1</td>\n",
              "      <td>0</td>\n",
              "      <td>0</td>\n",
              "    </tr>\n",
              "  </tbody>\n",
              "</table>\n",
              "<p>1000 rows × 9 columns</p>\n",
              "</div>"
            ],
            "text/plain": [
              "               main_category  col_0  col_1  col_2  ...  col_4  col_5  col_6  col_7\n",
              "0                  Komputery      0      0      0  ...      0      0      1      0\n",
              "1    Odzież, Obuwie, Dodatki      0      0      1  ...      0      0      0      0\n",
              "2                Dom i Ogród      0      0      0  ...      0      0      1      0\n",
              "3          Książki i Komiksy      0      0      1  ...      0      0      0      0\n",
              "4    Odzież, Obuwie, Dodatki      0      0      1  ...      0      0      0      0\n",
              "..                       ...    ...    ...    ...  ...    ...    ...    ...    ...\n",
              "995              Dom i Ogród      0      0      0  ...      0      0      1      0\n",
              "996  Odzież, Obuwie, Dodatki      0      0      1  ...      0      0      0      0\n",
              "997        Książki i Komiksy      0      0      1  ...      0      0      0      0\n",
              "998              Dom i Ogród      0      0      0  ...      0      0      1      0\n",
              "999        Sport i Turystyka      0      0      0  ...      0      1      0      0\n",
              "\n",
              "[1000 rows x 9 columns]"
            ]
          },
          "metadata": {
            "tags": []
          },
          "execution_count": 151
        }
      ]
    },
    {
      "cell_type": "code",
      "metadata": {
        "colab": {
          "base_uri": "https://localhost:8080/",
          "height": 473
        },
        "id": "wgAddL3ZGY_C",
        "outputId": "9a0c3698-2a3d-477c-970a-b7e903638fb3"
      },
      "source": [
        "cb_encoder = ce.CatBoostEncoder(cols=[\"main_category\"])\n",
        "df_cb = cb_encoder.fit_transform(df_raw, df_raw[\"price\"])\n",
        "df_cb.insert(13, \"main_category_original\", df_raw.main_category)\n",
        "df_cb.iloc[:, -2:]"
      ],
      "execution_count": null,
      "outputs": [
        {
          "output_type": "stream",
          "text": [
            "/usr/local/lib/python3.7/dist-packages/category_encoders/utils.py:21: FutureWarning: is_categorical is deprecated and will be removed in a future version.  Use is_categorical_dtype instead\n",
            "  elif pd.api.types.is_categorical(cols):\n"
          ],
          "name": "stderr"
        },
        {
          "output_type": "execute_result",
          "data": {
            "text/html": [
              "<div>\n",
              "<style scoped>\n",
              "    .dataframe tbody tr th:only-of-type {\n",
              "        vertical-align: middle;\n",
              "    }\n",
              "\n",
              "    .dataframe tbody tr th {\n",
              "        vertical-align: top;\n",
              "    }\n",
              "\n",
              "    .dataframe thead th {\n",
              "        text-align: right;\n",
              "    }\n",
              "</style>\n",
              "<table border=\"1\" class=\"dataframe\">\n",
              "  <thead>\n",
              "    <tr style=\"text-align: right;\">\n",
              "      <th></th>\n",
              "      <th>main_category_original</th>\n",
              "      <th>main_category</th>\n",
              "    </tr>\n",
              "  </thead>\n",
              "  <tbody>\n",
              "    <tr>\n",
              "      <th>0</th>\n",
              "      <td>Komputery</td>\n",
              "      <td>76.811350</td>\n",
              "    </tr>\n",
              "    <tr>\n",
              "      <th>1</th>\n",
              "      <td>Odzież, Obuwie, Dodatki</td>\n",
              "      <td>76.811350</td>\n",
              "    </tr>\n",
              "    <tr>\n",
              "      <th>2</th>\n",
              "      <td>Dom i Ogród</td>\n",
              "      <td>76.811350</td>\n",
              "    </tr>\n",
              "    <tr>\n",
              "      <th>3</th>\n",
              "      <td>Książki i Komiksy</td>\n",
              "      <td>76.811350</td>\n",
              "    </tr>\n",
              "    <tr>\n",
              "      <th>4</th>\n",
              "      <td>Odzież, Obuwie, Dodatki</td>\n",
              "      <td>40.855675</td>\n",
              "    </tr>\n",
              "    <tr>\n",
              "      <th>...</th>\n",
              "      <td>...</td>\n",
              "      <td>...</td>\n",
              "    </tr>\n",
              "    <tr>\n",
              "      <th>420015</th>\n",
              "      <td>RTV i AGD</td>\n",
              "      <td>107.529199</td>\n",
              "    </tr>\n",
              "    <tr>\n",
              "      <th>420016</th>\n",
              "      <td>Uroda</td>\n",
              "      <td>28.130777</td>\n",
              "    </tr>\n",
              "    <tr>\n",
              "      <th>420017</th>\n",
              "      <td>Odzież, Obuwie, Dodatki</td>\n",
              "      <td>75.859354</td>\n",
              "    </tr>\n",
              "    <tr>\n",
              "      <th>420018</th>\n",
              "      <td>Dla Dzieci</td>\n",
              "      <td>71.203460</td>\n",
              "    </tr>\n",
              "    <tr>\n",
              "      <th>420019</th>\n",
              "      <td>Motoryzacja</td>\n",
              "      <td>134.417590</td>\n",
              "    </tr>\n",
              "  </tbody>\n",
              "</table>\n",
              "<p>420020 rows × 2 columns</p>\n",
              "</div>"
            ],
            "text/plain": [
              "         main_category_original  main_category\n",
              "0                     Komputery      76.811350\n",
              "1       Odzież, Obuwie, Dodatki      76.811350\n",
              "2                   Dom i Ogród      76.811350\n",
              "3             Książki i Komiksy      76.811350\n",
              "4       Odzież, Obuwie, Dodatki      40.855675\n",
              "...                         ...            ...\n",
              "420015                RTV i AGD     107.529199\n",
              "420016                    Uroda      28.130777\n",
              "420017  Odzież, Obuwie, Dodatki      75.859354\n",
              "420018               Dla Dzieci      71.203460\n",
              "420019              Motoryzacja     134.417590\n",
              "\n",
              "[420020 rows x 2 columns]"
            ]
          },
          "metadata": {
            "tags": []
          },
          "execution_count": 152
        }
      ]
    },
    {
      "cell_type": "markdown",
      "metadata": {
        "id": "PhXCek18MaKC"
      },
      "source": [
        "Metoda OneHot bardzo ładnie zadziałała. Koduje informacje w postaci n wierszy, przy którym dokładnie jeden jest równy 1 a pozostałe są równe 0 (dlatego ta metoda nazywa się One Hot)\n",
        "\n",
        "Metoda Hashing była niesamowicie powolna, być może coś nie tak robiłem. Koduje informacje o kategorii w postaci Hashcode 8-bitowego z własnością, że jeżeli a równa się b, to hash(a) równa się hash(b). Co oznacza, że mogą się pojawić kolizje hashów. Dokładnie to się wydarzyło tutaj, ponieważ kategoria \"Odzież, Obuwie, Dodatki\" ma taki sam hash co \"Książki i Komiksy\" \n",
        "\n",
        "Metody CatBoost nie rozumiem zbytnio, ale zadziałała podobnie do TargetEncoding. Z czego rozumiem z dokumentacji to działa na tej samej zasadzie, ale unika problemu przenikania zmiennej target to zbioru cech X. Jest rówinież czuła na permutację zmiennych."
      ]
    },
    {
      "cell_type": "markdown",
      "metadata": {
        "id": "SuLCKKLCMb6u"
      },
      "source": [
        "# Zadanie 2a\n",
        "Imputacja brakujących wartości i porównanie błędów."
      ]
    },
    {
      "cell_type": "code",
      "metadata": {
        "id": "UJme1HOWMdb5",
        "colab": {
          "base_uri": "https://localhost:8080/",
          "height": 419
        },
        "outputId": "bf507f5d-26e5-49ab-88d3-9254a0f89d70"
      },
      "source": [
        "df_removed = df_raw.copy()[[\"it_seller_rating\", \"price\", \"it_quantity\"]]\n",
        "df_removed.loc[df_removed.sample(frac=0.1, random_state=23).index, \"it_seller_rating\"] = np.nan\n",
        "df_removed"
      ],
      "execution_count": null,
      "outputs": [
        {
          "output_type": "execute_result",
          "data": {
            "text/html": [
              "<div>\n",
              "<style scoped>\n",
              "    .dataframe tbody tr th:only-of-type {\n",
              "        vertical-align: middle;\n",
              "    }\n",
              "\n",
              "    .dataframe tbody tr th {\n",
              "        vertical-align: top;\n",
              "    }\n",
              "\n",
              "    .dataframe thead th {\n",
              "        text-align: right;\n",
              "    }\n",
              "</style>\n",
              "<table border=\"1\" class=\"dataframe\">\n",
              "  <thead>\n",
              "    <tr style=\"text-align: right;\">\n",
              "      <th></th>\n",
              "      <th>it_seller_rating</th>\n",
              "      <th>price</th>\n",
              "      <th>it_quantity</th>\n",
              "    </tr>\n",
              "  </thead>\n",
              "  <tbody>\n",
              "    <tr>\n",
              "      <th>0</th>\n",
              "      <td>50177.0</td>\n",
              "      <td>59.99</td>\n",
              "      <td>997</td>\n",
              "    </tr>\n",
              "    <tr>\n",
              "      <th>1</th>\n",
              "      <td>NaN</td>\n",
              "      <td>4.90</td>\n",
              "      <td>9288</td>\n",
              "    </tr>\n",
              "    <tr>\n",
              "      <th>2</th>\n",
              "      <td>NaN</td>\n",
              "      <td>109.90</td>\n",
              "      <td>895</td>\n",
              "    </tr>\n",
              "    <tr>\n",
              "      <th>3</th>\n",
              "      <td>15006.0</td>\n",
              "      <td>18.50</td>\n",
              "      <td>971</td>\n",
              "    </tr>\n",
              "    <tr>\n",
              "      <th>4</th>\n",
              "      <td>32975.0</td>\n",
              "      <td>19.90</td>\n",
              "      <td>950</td>\n",
              "    </tr>\n",
              "    <tr>\n",
              "      <th>...</th>\n",
              "      <td>...</td>\n",
              "      <td>...</td>\n",
              "      <td>...</td>\n",
              "    </tr>\n",
              "    <tr>\n",
              "      <th>420015</th>\n",
              "      <td>176.0</td>\n",
              "      <td>180.00</td>\n",
              "      <td>0</td>\n",
              "    </tr>\n",
              "    <tr>\n",
              "      <th>420016</th>\n",
              "      <td>34851.0</td>\n",
              "      <td>14.99</td>\n",
              "      <td>2</td>\n",
              "    </tr>\n",
              "    <tr>\n",
              "      <th>420017</th>\n",
              "      <td>983.0</td>\n",
              "      <td>5.99</td>\n",
              "      <td>470</td>\n",
              "    </tr>\n",
              "    <tr>\n",
              "      <th>420018</th>\n",
              "      <td>163.0</td>\n",
              "      <td>200.00</td>\n",
              "      <td>0</td>\n",
              "    </tr>\n",
              "    <tr>\n",
              "      <th>420019</th>\n",
              "      <td>265.0</td>\n",
              "      <td>500.00</td>\n",
              "      <td>0</td>\n",
              "    </tr>\n",
              "  </tbody>\n",
              "</table>\n",
              "<p>420020 rows × 3 columns</p>\n",
              "</div>"
            ],
            "text/plain": [
              "        it_seller_rating   price  it_quantity\n",
              "0                50177.0   59.99          997\n",
              "1                    NaN    4.90         9288\n",
              "2                    NaN  109.90          895\n",
              "3                15006.0   18.50          971\n",
              "4                32975.0   19.90          950\n",
              "...                  ...     ...          ...\n",
              "420015             176.0  180.00            0\n",
              "420016           34851.0   14.99            2\n",
              "420017             983.0    5.99          470\n",
              "420018             163.0  200.00            0\n",
              "420019             265.0  500.00            0\n",
              "\n",
              "[420020 rows x 3 columns]"
            ]
          },
          "metadata": {
            "tags": []
          },
          "execution_count": 153
        }
      ]
    },
    {
      "cell_type": "code",
      "metadata": {
        "colab": {
          "base_uri": "https://localhost:8080/",
          "height": 419
        },
        "id": "ZF0M28bCNwov",
        "outputId": "7952276a-0cd3-42fc-f685-93224c09adc2"
      },
      "source": [
        "imputer = IterativeImputer(max_iter=10)\n",
        "df_imputed = pd.DataFrame(imputer.fit_transform(df_removed)).astype(\"int64\")\n",
        "df_imputed"
      ],
      "execution_count": null,
      "outputs": [
        {
          "output_type": "execute_result",
          "data": {
            "text/html": [
              "<div>\n",
              "<style scoped>\n",
              "    .dataframe tbody tr th:only-of-type {\n",
              "        vertical-align: middle;\n",
              "    }\n",
              "\n",
              "    .dataframe tbody tr th {\n",
              "        vertical-align: top;\n",
              "    }\n",
              "\n",
              "    .dataframe thead th {\n",
              "        text-align: right;\n",
              "    }\n",
              "</style>\n",
              "<table border=\"1\" class=\"dataframe\">\n",
              "  <thead>\n",
              "    <tr style=\"text-align: right;\">\n",
              "      <th></th>\n",
              "      <th>0</th>\n",
              "      <th>1</th>\n",
              "      <th>2</th>\n",
              "    </tr>\n",
              "  </thead>\n",
              "  <tbody>\n",
              "    <tr>\n",
              "      <th>0</th>\n",
              "      <td>50177</td>\n",
              "      <td>59</td>\n",
              "      <td>997</td>\n",
              "    </tr>\n",
              "    <tr>\n",
              "      <th>1</th>\n",
              "      <td>20669</td>\n",
              "      <td>4</td>\n",
              "      <td>9288</td>\n",
              "    </tr>\n",
              "    <tr>\n",
              "      <th>2</th>\n",
              "      <td>19959</td>\n",
              "      <td>109</td>\n",
              "      <td>895</td>\n",
              "    </tr>\n",
              "    <tr>\n",
              "      <th>3</th>\n",
              "      <td>15006</td>\n",
              "      <td>18</td>\n",
              "      <td>971</td>\n",
              "    </tr>\n",
              "    <tr>\n",
              "      <th>4</th>\n",
              "      <td>32975</td>\n",
              "      <td>19</td>\n",
              "      <td>950</td>\n",
              "    </tr>\n",
              "    <tr>\n",
              "      <th>...</th>\n",
              "      <td>...</td>\n",
              "      <td>...</td>\n",
              "      <td>...</td>\n",
              "    </tr>\n",
              "    <tr>\n",
              "      <th>420015</th>\n",
              "      <td>176</td>\n",
              "      <td>180</td>\n",
              "      <td>0</td>\n",
              "    </tr>\n",
              "    <tr>\n",
              "      <th>420016</th>\n",
              "      <td>34851</td>\n",
              "      <td>14</td>\n",
              "      <td>2</td>\n",
              "    </tr>\n",
              "    <tr>\n",
              "      <th>420017</th>\n",
              "      <td>983</td>\n",
              "      <td>5</td>\n",
              "      <td>470</td>\n",
              "    </tr>\n",
              "    <tr>\n",
              "      <th>420018</th>\n",
              "      <td>163</td>\n",
              "      <td>200</td>\n",
              "      <td>0</td>\n",
              "    </tr>\n",
              "    <tr>\n",
              "      <th>420019</th>\n",
              "      <td>265</td>\n",
              "      <td>500</td>\n",
              "      <td>0</td>\n",
              "    </tr>\n",
              "  </tbody>\n",
              "</table>\n",
              "<p>420020 rows × 3 columns</p>\n",
              "</div>"
            ],
            "text/plain": [
              "            0    1     2\n",
              "0       50177   59   997\n",
              "1       20669    4  9288\n",
              "2       19959  109   895\n",
              "3       15006   18   971\n",
              "4       32975   19   950\n",
              "...       ...  ...   ...\n",
              "420015    176  180     0\n",
              "420016  34851   14     2\n",
              "420017    983    5   470\n",
              "420018    163  200     0\n",
              "420019    265  500     0\n",
              "\n",
              "[420020 rows x 3 columns]"
            ]
          },
          "metadata": {
            "tags": []
          },
          "execution_count": 154
        }
      ]
    },
    {
      "cell_type": "code",
      "metadata": {
        "colab": {
          "base_uri": "https://localhost:8080/"
        },
        "id": "6lhfHTb4U0vu",
        "outputId": "8839573f-6d84-4d8c-a1df-3e12946fd152"
      },
      "source": [
        "mean_squared_error(df_raw.it_seller_rating, df_imputed.iloc[:, 0], squared=False)"
      ],
      "execution_count": null,
      "outputs": [
        {
          "output_type": "execute_result",
          "data": {
            "text/plain": [
              "11591.052762754742"
            ]
          },
          "metadata": {
            "tags": []
          },
          "execution_count": 155
        }
      ]
    },
    {
      "cell_type": "markdown",
      "metadata": {
        "id": "AYtNqsZOhEpW"
      },
      "source": [
        "# Zadanie 2b \n",
        "Błąd imputacji w pętli"
      ]
    },
    {
      "cell_type": "markdown",
      "metadata": {
        "id": "DpvIXYXUhiHW"
      },
      "source": [
        "Zwiększyłem liczbę wykonań pętli, bo wykonanie kodu nie zajmowało bardzo długo, a nie otrzymywałem stabilnych wyników."
      ]
    },
    {
      "cell_type": "code",
      "metadata": {
        "id": "AxDc6AQ7WXf0"
      },
      "source": [
        "ntimes = 25 # zamiast 10\n",
        "rmses = [0] * ntimes\n",
        "\n",
        "np.random.seed(44)\n",
        "random_states = np.random.randint(1, 100, size=(ntimes, 1))\n",
        "\n",
        "for i in range(ntimes):\n",
        "  df_removed_l = df_raw.copy()[[\"it_seller_rating\", \"price\", \"it_quantity\"]]\n",
        "\n",
        "  df_removed_l.loc[df_removed_l.sample(frac=0.1, random_state=random_states[i]).index,\n",
        "                   \"it_seller_rating\"] = np.nan\n",
        "  df_imputed_l = pd.DataFrame(imputer.fit_transform(df_removed_l)).astype(\"int64\")\n",
        "  rmses[i] = mean_squared_error(df_raw.it_seller_rating, df_imputed_l.iloc[:, 0], squared=False)"
      ],
      "execution_count": null,
      "outputs": []
    },
    {
      "cell_type": "code",
      "metadata": {
        "colab": {
          "base_uri": "https://localhost:8080/"
        },
        "id": "wM6jcTxNg8Dz",
        "outputId": "361df6d0-a5b4-4242-fc33-5e343dca2ae4"
      },
      "source": [
        "rmses"
      ],
      "execution_count": null,
      "outputs": [
        {
          "output_type": "execute_result",
          "data": {
            "text/plain": [
              "[11491.967614248271,\n",
              " 11537.51233428064,\n",
              " 11529.378702176953,\n",
              " 11704.75047486382,\n",
              " 11641.99625757887,\n",
              " 11367.194975723289,\n",
              " 11539.914835669768,\n",
              " 11641.99625757887,\n",
              " 11385.340370862226,\n",
              " 11596.124001472775,\n",
              " 11591.052762754742,\n",
              " 11569.969725954425,\n",
              " 11575.149617141931,\n",
              " 11595.817023099047,\n",
              " 11575.149617141931,\n",
              " 11623.99377665097,\n",
              " 11586.126868196916,\n",
              " 11507.798943725224,\n",
              " 11535.943204611423,\n",
              " 11582.27499178299,\n",
              " 11584.511034646112,\n",
              " 11557.611298441005,\n",
              " 11367.194975723289,\n",
              " 11372.782565357984,\n",
              " 11535.943204611423]"
            ]
          },
          "metadata": {
            "tags": []
          },
          "execution_count": 157
        }
      ]
    },
    {
      "cell_type": "code",
      "metadata": {
        "colab": {
          "base_uri": "https://localhost:8080/"
        },
        "id": "ZrljO_FhXKPT",
        "outputId": "5fa9a2a4-7c39-4e28-c5be-b2e785f3d188"
      },
      "source": [
        "np.std(rmses)"
      ],
      "execution_count": null,
      "outputs": [
        {
          "output_type": "execute_result",
          "data": {
            "text/plain": [
              "86.75749054477791"
            ]
          },
          "metadata": {
            "tags": []
          },
          "execution_count": 158
        }
      ]
    },
    {
      "cell_type": "code",
      "metadata": {
        "colab": {
          "base_uri": "https://localhost:8080/",
          "height": 279
        },
        "id": "Ua3Lfy7DX9A9",
        "outputId": "229b961d-2da2-446d-98c8-63adf965ab0e"
      },
      "source": [
        "sns.boxplot(data=pd.DataFrame({\"single remove RMSE\": rmses}), x=\"single remove RMSE\")\n",
        "plt.show()"
      ],
      "execution_count": null,
      "outputs": [
        {
          "output_type": "display_data",
          "data": {
            "image/png": "[encoded data removed]",
            "text/plain": [
              "<Figure size 432x288 with 1 Axes>"
            ]
          },
          "metadata": {
            "tags": [],
            "needs_background": "light"
          }
        }
      ]
    },
    {
      "cell_type": "markdown",
      "metadata": {
        "id": "Nh3GO7MVaOF8"
      },
      "source": [
        "# Zadanie 2c\n",
        "Imputacja dla dwóch zmiennych"
      ]
    },
    {
      "cell_type": "code",
      "metadata": {
        "id": "TRmToknQaQlp"
      },
      "source": [
        "ntimes = 25 # zamiast 10\n",
        "rmses_r = [0] * ntimes\n",
        "\n",
        "np.random.seed(44)\n",
        "random_states = np.random.randint(1, 100, size=(ntimes, 2))\n",
        "\n",
        "for i in range(ntimes):\n",
        "  df_removed_l = df_raw.copy()[[\"it_seller_rating\", \"price\", \"it_quantity\"]]\n",
        "\n",
        "  df_removed_l.loc[df_removed_l.sample(frac=0.1, random_state=random_states[i][0]).index,\n",
        "                   \"it_seller_rating\"] = np.nan\n",
        "\n",
        "  df_removed_l.loc[df_removed_l.sample(frac=0.1, random_state=random_states[i][1]).index,\n",
        "                   \"it_quantity\"] = np.nan\n",
        "\n",
        "  df_imputed_l = pd.DataFrame(imputer.fit_transform(df_removed_l)).astype(\"int64\")\n",
        "\n",
        "  rmses_r[i] = mean_squared_error(df_raw.it_seller_rating, df_imputed_l.iloc[:, 0], squared=False)"
      ],
      "execution_count": null,
      "outputs": []
    },
    {
      "cell_type": "code",
      "metadata": {
        "colab": {
          "base_uri": "https://localhost:8080/",
          "height": 265
        },
        "id": "kWBq3CZzejpG",
        "outputId": "bb8ce3e7-03f8-4116-e3ce-80409b72c9db"
      },
      "source": [
        "sns.boxplot(\n",
        "    data=pd.DataFrame({\n",
        "        \"single remove\": rmses,\n",
        "        \"double remove\": rmses_r\n",
        "    })\n",
        ")\n",
        "plt.show()"
      ],
      "execution_count": null,
      "outputs": [
        {
          "output_type": "display_data",
          "data": {
            "image/png": "[encoded data removed]",
            "text/plain": [
              "<Figure size 432x288 with 1 Axes>"
            ]
          },
          "metadata": {
            "tags": [],
            "needs_background": "light"
          }
        }
      ]
    },
    {
      "cell_type": "markdown",
      "metadata": {
        "id": "rwrCe-Dcih7A"
      },
      "source": [
        "Imputacja dwóch zmiennych nieznacznie zwiększyła błąd, ale znacznie zwiększyła rozrzut danych. Próbka tylko dziesięciu eksperymentów nie była wystarczająca do stwierdzenia tego, jak próbowałem różne ziarna to otrzymywałem sprzeczne ze sobą wyniki. Z tego powodu zdecydowałem się zwiększyć liczbę prób do 25, aby móc coś z tych wyników wyciągnąć.\n",
        "\n",
        "Próbowałem również KNNImputer, ale od razu miałem problemy z wydajnością, a więc zdecydowałem się użyć IterativeImputera."
      ]
    },
    {
      "cell_type": "code",
      "metadata": {
        "id": "hcp-kW-onu7t"
      },
      "source": [
        ""
      ],
      "execution_count": null,
      "outputs": []
    }
  ]
}