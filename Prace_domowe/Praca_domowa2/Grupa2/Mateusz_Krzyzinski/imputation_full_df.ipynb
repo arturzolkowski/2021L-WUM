{
 "cells": [
  {
   "cell_type": "code",
   "execution_count": 9,
   "metadata": {
    "id": "6aVK_1ECYcH4"
   },
   "outputs": [],
   "source": [
    "import pandas as pd\n",
    "import numpy as np\n",
    "from sklearn.metrics import mean_squared_error\n",
    "from sklearn.impute import SimpleImputer\n",
    "from sklearn.impute import KNNImputer"
   ]
  },
  {
   "cell_type": "code",
   "execution_count": 10,
   "metadata": {
    "id": "Tbn-u6eLYpP4"
   },
   "outputs": [],
   "source": [
    "df = pd.read_csv(\"https://www.dropbox.com/s/360xhh2d9lnaek3/allegro-api-transactions.csv?dl=1\")"
   ]
  },
  {
   "cell_type": "code",
   "execution_count": 11,
   "metadata": {
    "id": "lpDHLBB_Yw6L"
   },
   "outputs": [],
   "source": [
    "df_num = df[[\"price\", \"it_seller_rating\", \"it_quantity\"]]"
   ]
  },
  {
   "cell_type": "code",
   "execution_count": 12,
   "metadata": {
    "colab": {
     "base_uri": "https://localhost:8080/"
    },
    "id": "qrMGtqPxY68_",
    "outputId": "28feaa3f-0963-4bee-d038-d100aadffaf4"
   },
   "outputs": [
    {
     "name": "stderr",
     "output_type": "stream",
     "text": [
      "/usr/local/lib/python3.7/dist-packages/pandas/core/indexing.py:1763: SettingWithCopyWarning: \n",
      "A value is trying to be set on a copy of a slice from a DataFrame.\n",
      "Try using .loc[row_indexer,col_indexer] = value instead\n",
      "\n",
      "See the caveats in the documentation: https://pandas.pydata.org/pandas-docs/stable/user_guide/indexing.html#returning-a-view-versus-a-copy\n",
      "  isetter(loc, value)\n"
     ]
    }
   ],
   "source": [
    "index_del = df_num.sample(frac = 0.1, random_state = 42).index\n",
    "df_num.loc[index_del, \"it_seller_rating\"] = np.nan"
   ]
  },
  {
   "cell_type": "code",
   "execution_count": 13,
   "metadata": {
    "colab": {
     "base_uri": "https://localhost:8080/"
    },
    "id": "IQhGAGehY_58",
    "outputId": "4bc26952-7b72-4d86-84f0-ddd6e4ca13d3"
   },
   "outputs": [
    {
     "data": {
      "text/plain": [
       "0.1"
      ]
     },
     "execution_count": 13,
     "metadata": {
      "tags": []
     },
     "output_type": "execute_result"
    }
   ],
   "source": [
    "df_num[\"it_seller_rating\"].isnull().mean() "
   ]
  },
  {
   "cell_type": "code",
   "execution_count": 14,
   "metadata": {
    "id": "BVMNyJ1tZf17"
   },
   "outputs": [],
   "source": [
    "knn_imputer = KNNImputer(n_neighbors=10, weights=\"distance\")\n"
   ]
  },
  {
   "cell_type": "code",
   "execution_count": 15,
   "metadata": {
    "id": "dwWMGW7vZrZM"
   },
   "outputs": [],
   "source": [
    "imputed_val = knn_imputer.fit_transform(df_num)"
   ]
  },
  {
   "cell_type": "code",
   "execution_count": 16,
   "metadata": {
    "colab": {
     "base_uri": "https://localhost:8080/"
    },
    "id": "bbzTt07AZvYl",
    "outputId": "d5679169-f349-4171-b846-0eee1dedf9c3"
   },
   "outputs": [
    {
     "data": {
      "text/plain": [
       "array([[5.9990e+01, 5.0177e+04, 9.9700e+02],\n",
       "       [4.9000e+00, 1.2428e+04, 9.2880e+03],\n",
       "       [1.0990e+02, 7.3890e+03, 8.9500e+02],\n",
       "       ...,\n",
       "       [5.9900e+00, 9.8300e+02, 4.7000e+02],\n",
       "       [2.0000e+02, 1.6300e+02, 0.0000e+00],\n",
       "       [5.0000e+02, 2.6500e+02, 0.0000e+00]])"
      ]
     },
     "execution_count": 16,
     "metadata": {
      "tags": []
     },
     "output_type": "execute_result"
    }
   ],
   "source": [
    "imputed_val"
   ]
  },
  {
   "cell_type": "code",
   "execution_count": 18,
   "metadata": {
    "colab": {
     "base_uri": "https://localhost:8080/"
    },
    "id": "BNR5da3mjU5F",
    "outputId": "266ceb60-0f71-4876-ee99-fe815d79ec9b"
   },
   "outputs": [
    {
     "data": {
      "text/plain": [
       "10252.947972289467"
      ]
     },
     "execution_count": 18,
     "metadata": {
      "tags": []
     },
     "output_type": "execute_result"
    }
   ],
   "source": [
    "imputed_df = pd.DataFrame(imputed_val, columns = df_num.columns)\n",
    "np.sqrt(mean_squared_error(imputed_df[\"it_seller_rating\"], df[\"it_seller_rating\"]))"
   ]
  }
 ],
 "metadata": {
  "accelerator": "GPU",
  "colab": {
   "collapsed_sections": [],
   "name": "imputation_full_df.ipynb",
   "provenance": []
  },
  "kernelspec": {
   "display_name": "Python 3",
   "language": "python",
   "name": "python3"
  },
  "language_info": {
   "codemirror_mode": {
    "name": "ipython",
    "version": 3
   },
   "file_extension": ".py",
   "mimetype": "text/x-python",
   "name": "python",
   "nbconvert_exporter": "python",
   "pygments_lexer": "ipython3",
   "version": "3.7.3"
  }
 },
 "nbformat": 4,
 "nbformat_minor": 1
}
