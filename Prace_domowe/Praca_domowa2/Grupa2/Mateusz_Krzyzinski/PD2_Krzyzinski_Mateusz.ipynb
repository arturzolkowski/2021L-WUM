{
 "cells": [
  {
   "cell_type": "markdown",
   "metadata": {},
   "source": [
    "# Praca domowa 2 \n",
    "### Mateusz Krzyziński, grupa 2\n"
   ]
  },
  {
   "cell_type": "markdown",
   "metadata": {},
   "source": [
    "Zadanie to składa się z dwóch odrębnych części poświęconych zagadnieniom związanym z uczeniem maszynowym, w szczególności preprocessingiem:\n",
    "1. Kodowanie zmiennych kategorycznych\n",
    "2. Uzupełnianie braków w danych\n",
    "\n",
    "Wykorzystany zostanie zbiór danych [Allegro](https://www.dropbox.com/s/360xhh2d9lnaek3/allegro-api-transactions.csv?dl=1)."
   ]
  },
  {
   "cell_type": "markdown",
   "metadata": {},
   "source": [
    "#### Import pakietów"
   ]
  },
  {
   "cell_type": "code",
   "execution_count": 1,
   "metadata": {},
   "outputs": [],
   "source": [
    "import numpy as np\n",
    "import pandas as pd\n",
    "import matplotlib.pyplot as plt\n",
    "import seaborn as sns\n",
    "import warnings\n",
    "warnings.filterwarnings('ignore')"
   ]
  },
  {
   "cell_type": "markdown",
   "metadata": {},
   "source": [
    "#### Wczytanie danych"
   ]
  },
  {
   "cell_type": "code",
   "execution_count": 2,
   "metadata": {},
   "outputs": [],
   "source": [
    "df = pd.read_csv(\"https://www.dropbox.com/s/360xhh2d9lnaek3/allegro-api-transactions.csv?dl=1\")"
   ]
  },
  {
   "cell_type": "code",
   "execution_count": 3,
   "metadata": {
    "scrolled": false
   },
   "outputs": [
    {
     "data": {
      "text/html": [
       "<div>\n",
       "<style scoped>\n",
       "    .dataframe tbody tr th:only-of-type {\n",
       "        vertical-align: middle;\n",
       "    }\n",
       "\n",
       "    .dataframe tbody tr th {\n",
       "        vertical-align: top;\n",
       "    }\n",
       "\n",
       "    .dataframe thead th {\n",
       "        text-align: right;\n",
       "    }\n",
       "</style>\n",
       "<table border=\"1\" class=\"dataframe\">\n",
       "  <thead>\n",
       "    <tr style=\"text-align: right;\">\n",
       "      <th></th>\n",
       "      <th>lp</th>\n",
       "      <th>date</th>\n",
       "      <th>item_id</th>\n",
       "      <th>categories</th>\n",
       "      <th>pay_option_on_delivery</th>\n",
       "      <th>pay_option_transfer</th>\n",
       "      <th>seller</th>\n",
       "      <th>price</th>\n",
       "      <th>it_is_allegro_standard</th>\n",
       "      <th>it_quantity</th>\n",
       "      <th>it_is_brand_zone</th>\n",
       "      <th>it_seller_rating</th>\n",
       "      <th>it_location</th>\n",
       "      <th>main_category</th>\n",
       "    </tr>\n",
       "  </thead>\n",
       "  <tbody>\n",
       "    <tr>\n",
       "      <th>0</th>\n",
       "      <td>0</td>\n",
       "      <td>2016-04-03 21:21:08</td>\n",
       "      <td>4753602474</td>\n",
       "      <td>['Komputery', 'Dyski i napędy', 'Nośniki', 'No...</td>\n",
       "      <td>1</td>\n",
       "      <td>1</td>\n",
       "      <td>radzioch666</td>\n",
       "      <td>59.99</td>\n",
       "      <td>1</td>\n",
       "      <td>997</td>\n",
       "      <td>0</td>\n",
       "      <td>50177</td>\n",
       "      <td>Warszawa</td>\n",
       "      <td>Komputery</td>\n",
       "    </tr>\n",
       "    <tr>\n",
       "      <th>1</th>\n",
       "      <td>1</td>\n",
       "      <td>2016-04-03 15:35:26</td>\n",
       "      <td>4773181874</td>\n",
       "      <td>['Odzież, Obuwie, Dodatki', 'Bielizna damska',...</td>\n",
       "      <td>1</td>\n",
       "      <td>1</td>\n",
       "      <td>InwestycjeNET</td>\n",
       "      <td>4.90</td>\n",
       "      <td>1</td>\n",
       "      <td>9288</td>\n",
       "      <td>0</td>\n",
       "      <td>12428</td>\n",
       "      <td>Warszawa</td>\n",
       "      <td>Odzież, Obuwie, Dodatki</td>\n",
       "    </tr>\n",
       "    <tr>\n",
       "      <th>2</th>\n",
       "      <td>2</td>\n",
       "      <td>2016-04-03 14:14:31</td>\n",
       "      <td>4781627074</td>\n",
       "      <td>['Dom i Ogród', 'Budownictwo i Akcesoria', 'Śc...</td>\n",
       "      <td>1</td>\n",
       "      <td>1</td>\n",
       "      <td>otostyl_com</td>\n",
       "      <td>109.90</td>\n",
       "      <td>1</td>\n",
       "      <td>895</td>\n",
       "      <td>0</td>\n",
       "      <td>7389</td>\n",
       "      <td>Leszno</td>\n",
       "      <td>Dom i Ogród</td>\n",
       "    </tr>\n",
       "    <tr>\n",
       "      <th>3</th>\n",
       "      <td>3</td>\n",
       "      <td>2016-04-03 19:55:44</td>\n",
       "      <td>4783971474</td>\n",
       "      <td>['Książki i Komiksy', 'Poradniki i albumy', 'Z...</td>\n",
       "      <td>1</td>\n",
       "      <td>1</td>\n",
       "      <td>Matfel1</td>\n",
       "      <td>18.50</td>\n",
       "      <td>0</td>\n",
       "      <td>971</td>\n",
       "      <td>0</td>\n",
       "      <td>15006</td>\n",
       "      <td>Wola Krzysztoporska</td>\n",
       "      <td>Książki i Komiksy</td>\n",
       "    </tr>\n",
       "    <tr>\n",
       "      <th>4</th>\n",
       "      <td>4</td>\n",
       "      <td>2016-04-03 18:05:54</td>\n",
       "      <td>4787908274</td>\n",
       "      <td>['Odzież, Obuwie, Dodatki', 'Ślub i wesele', '...</td>\n",
       "      <td>1</td>\n",
       "      <td>1</td>\n",
       "      <td>PPHU_RICO</td>\n",
       "      <td>19.90</td>\n",
       "      <td>1</td>\n",
       "      <td>950</td>\n",
       "      <td>0</td>\n",
       "      <td>32975</td>\n",
       "      <td>BIAŁYSTOK</td>\n",
       "      <td>Odzież, Obuwie, Dodatki</td>\n",
       "    </tr>\n",
       "    <tr>\n",
       "      <th>5</th>\n",
       "      <td>5</td>\n",
       "      <td>2016-04-03 16:31:01</td>\n",
       "      <td>4790991674</td>\n",
       "      <td>['Odzież, Obuwie, Dodatki', 'Bielizna damska',...</td>\n",
       "      <td>1</td>\n",
       "      <td>1</td>\n",
       "      <td>Noemi-bielizna</td>\n",
       "      <td>10.99</td>\n",
       "      <td>1</td>\n",
       "      <td>742</td>\n",
       "      <td>0</td>\n",
       "      <td>39371</td>\n",
       "      <td>GĄBIN</td>\n",
       "      <td>Odzież, Obuwie, Dodatki</td>\n",
       "    </tr>\n",
       "    <tr>\n",
       "      <th>6</th>\n",
       "      <td>6</td>\n",
       "      <td>2016-04-03 17:56:11</td>\n",
       "      <td>4790991674</td>\n",
       "      <td>['Odzież, Obuwie, Dodatki', 'Bielizna damska',...</td>\n",
       "      <td>1</td>\n",
       "      <td>1</td>\n",
       "      <td>Noemi-bielizna</td>\n",
       "      <td>10.99</td>\n",
       "      <td>1</td>\n",
       "      <td>742</td>\n",
       "      <td>0</td>\n",
       "      <td>39371</td>\n",
       "      <td>GĄBIN</td>\n",
       "      <td>Odzież, Obuwie, Dodatki</td>\n",
       "    </tr>\n",
       "    <tr>\n",
       "      <th>7</th>\n",
       "      <td>7</td>\n",
       "      <td>2016-04-03 11:58:55</td>\n",
       "      <td>4824025074</td>\n",
       "      <td>['Biżuteria i Zegarki', 'Zegarki', 'Dziecięce']</td>\n",
       "      <td>1</td>\n",
       "      <td>1</td>\n",
       "      <td>handel_barbo</td>\n",
       "      <td>28.99</td>\n",
       "      <td>1</td>\n",
       "      <td>886</td>\n",
       "      <td>0</td>\n",
       "      <td>4287</td>\n",
       "      <td>Legionowo</td>\n",
       "      <td>Biżuteria i Zegarki</td>\n",
       "    </tr>\n",
       "    <tr>\n",
       "      <th>8</th>\n",
       "      <td>8</td>\n",
       "      <td>2016-04-03 18:18:37</td>\n",
       "      <td>4826332874</td>\n",
       "      <td>['RTV i AGD', 'AGD drobne', 'Higiena i pielęgn...</td>\n",
       "      <td>1</td>\n",
       "      <td>1</td>\n",
       "      <td>jupiter2009</td>\n",
       "      <td>12.00</td>\n",
       "      <td>0</td>\n",
       "      <td>49</td>\n",
       "      <td>0</td>\n",
       "      <td>5403</td>\n",
       "      <td>zachodniopomorskie</td>\n",
       "      <td>RTV i AGD</td>\n",
       "    </tr>\n",
       "    <tr>\n",
       "      <th>9</th>\n",
       "      <td>9</td>\n",
       "      <td>2016-04-03 22:56:56</td>\n",
       "      <td>4828603874</td>\n",
       "      <td>['RTV i AGD', 'Kamery', 'Zasilanie', 'Zasilacze']</td>\n",
       "      <td>1</td>\n",
       "      <td>1</td>\n",
       "      <td>e-trade-com-pl</td>\n",
       "      <td>45.00</td>\n",
       "      <td>1</td>\n",
       "      <td>4</td>\n",
       "      <td>0</td>\n",
       "      <td>15561</td>\n",
       "      <td>Warszawa</td>\n",
       "      <td>RTV i AGD</td>\n",
       "    </tr>\n",
       "  </tbody>\n",
       "</table>\n",
       "</div>"
      ],
      "text/plain": [
       "   lp                 date     item_id  \\\n",
       "0   0  2016-04-03 21:21:08  4753602474   \n",
       "1   1  2016-04-03 15:35:26  4773181874   \n",
       "2   2  2016-04-03 14:14:31  4781627074   \n",
       "3   3  2016-04-03 19:55:44  4783971474   \n",
       "4   4  2016-04-03 18:05:54  4787908274   \n",
       "5   5  2016-04-03 16:31:01  4790991674   \n",
       "6   6  2016-04-03 17:56:11  4790991674   \n",
       "7   7  2016-04-03 11:58:55  4824025074   \n",
       "8   8  2016-04-03 18:18:37  4826332874   \n",
       "9   9  2016-04-03 22:56:56  4828603874   \n",
       "\n",
       "                                          categories  pay_option_on_delivery  \\\n",
       "0  ['Komputery', 'Dyski i napędy', 'Nośniki', 'No...                       1   \n",
       "1  ['Odzież, Obuwie, Dodatki', 'Bielizna damska',...                       1   \n",
       "2  ['Dom i Ogród', 'Budownictwo i Akcesoria', 'Śc...                       1   \n",
       "3  ['Książki i Komiksy', 'Poradniki i albumy', 'Z...                       1   \n",
       "4  ['Odzież, Obuwie, Dodatki', 'Ślub i wesele', '...                       1   \n",
       "5  ['Odzież, Obuwie, Dodatki', 'Bielizna damska',...                       1   \n",
       "6  ['Odzież, Obuwie, Dodatki', 'Bielizna damska',...                       1   \n",
       "7    ['Biżuteria i Zegarki', 'Zegarki', 'Dziecięce']                       1   \n",
       "8  ['RTV i AGD', 'AGD drobne', 'Higiena i pielęgn...                       1   \n",
       "9  ['RTV i AGD', 'Kamery', 'Zasilanie', 'Zasilacze']                       1   \n",
       "\n",
       "   pay_option_transfer          seller   price  it_is_allegro_standard  \\\n",
       "0                    1     radzioch666   59.99                       1   \n",
       "1                    1   InwestycjeNET    4.90                       1   \n",
       "2                    1     otostyl_com  109.90                       1   \n",
       "3                    1         Matfel1   18.50                       0   \n",
       "4                    1       PPHU_RICO   19.90                       1   \n",
       "5                    1  Noemi-bielizna   10.99                       1   \n",
       "6                    1  Noemi-bielizna   10.99                       1   \n",
       "7                    1    handel_barbo   28.99                       1   \n",
       "8                    1     jupiter2009   12.00                       0   \n",
       "9                    1  e-trade-com-pl   45.00                       1   \n",
       "\n",
       "   it_quantity  it_is_brand_zone  it_seller_rating          it_location  \\\n",
       "0          997                 0             50177             Warszawa   \n",
       "1         9288                 0             12428             Warszawa   \n",
       "2          895                 0              7389               Leszno   \n",
       "3          971                 0             15006  Wola Krzysztoporska   \n",
       "4          950                 0             32975            BIAŁYSTOK   \n",
       "5          742                 0             39371                GĄBIN   \n",
       "6          742                 0             39371                GĄBIN   \n",
       "7          886                 0              4287            Legionowo   \n",
       "8           49                 0              5403   zachodniopomorskie   \n",
       "9            4                 0             15561             Warszawa   \n",
       "\n",
       "             main_category  \n",
       "0                Komputery  \n",
       "1  Odzież, Obuwie, Dodatki  \n",
       "2              Dom i Ogród  \n",
       "3        Książki i Komiksy  \n",
       "4  Odzież, Obuwie, Dodatki  \n",
       "5  Odzież, Obuwie, Dodatki  \n",
       "6  Odzież, Obuwie, Dodatki  \n",
       "7      Biżuteria i Zegarki  \n",
       "8                RTV i AGD  \n",
       "9                RTV i AGD  "
      ]
     },
     "execution_count": 3,
     "metadata": {},
     "output_type": "execute_result"
    }
   ],
   "source": [
    "df.head(10)"
   ]
  },
  {
   "cell_type": "markdown",
   "metadata": {},
   "source": [
    "### 1. Kodowanie zmiennych kategorycznych"
   ]
  },
  {
   "cell_type": "markdown",
   "metadata": {},
   "source": [
    "#### Target encoding \n",
    "Naszym pierwszym zadaniem w tej części będzie wykonać target encoding dla zmiennej `it_location`, gdzie targetem jest `price`. Przyjrzyjmy się najpierw kolumnie, którą będziemy kodować. "
   ]
  },
  {
   "cell_type": "code",
   "execution_count": 4,
   "metadata": {},
   "outputs": [
    {
     "data": {
      "text/plain": [
       "count       420020\n",
       "unique       10056\n",
       "top       Warszawa\n",
       "freq         23244\n",
       "Name: it_location, dtype: object"
      ]
     },
     "execution_count": 4,
     "metadata": {},
     "output_type": "execute_result"
    }
   ],
   "source": [
    "df[\"it_location\"].describe()"
   ]
  },
  {
   "cell_type": "markdown",
   "metadata": {},
   "source": [
    "Mamy aż 10 000 unikalnych wartości zmiennej lokalizacji, ale powyżej możemy zobaczyć, że nazwy miejscowośći są zapisane w różny sposób (od wielkiej litery, tylko wielkimi literami etc.) - lokalizacja była zapewne wpisywana przez sprzedawców, a nie wybierana z listy. \n",
    "\n",
    "W związku z tym jeszcze przed przystąpieniem do zadania, w celu ujednolicenia sposobu zapisu możemy zamienić je na małe litery."
   ]
  },
  {
   "cell_type": "code",
   "execution_count": 5,
   "metadata": {},
   "outputs": [],
   "source": [
    "df[\"it_location\"] = df[\"it_location\"].str.lower()"
   ]
  },
  {
   "cell_type": "code",
   "execution_count": 6,
   "metadata": {},
   "outputs": [
    {
     "data": {
      "text/plain": [
       "count       420020\n",
       "unique        7903\n",
       "top       warszawa\n",
       "freq         27042\n",
       "Name: it_location, dtype: object"
      ]
     },
     "execution_count": 6,
     "metadata": {},
     "output_type": "execute_result"
    }
   ],
   "source": [
    "df[\"it_location\"].describe()"
   ]
  },
  {
   "cell_type": "markdown",
   "metadata": {},
   "source": [
    "Teraz mamy już ponad 2000 mniej unikalnych wartości, jednak wciąż 7900 to bardzo dużo, jeśli mielibyśmy wykonywać one hot encoding. Taka liczba dodatkowych kolumn byłaby problematyczna. W związku z tym zdecydowanie zasadnym jest wypróbowanie target encodingu. "
   ]
  },
  {
   "cell_type": "code",
   "execution_count": 7,
   "metadata": {},
   "outputs": [],
   "source": [
    "from category_encoders import TargetEncoder"
   ]
  },
  {
   "cell_type": "code",
   "execution_count": 8,
   "metadata": {},
   "outputs": [],
   "source": [
    "# W zależności od tego, czy chcemy zmienić, czy dodać nową kolumnę i co chcemy osiągnąć, można postąpić różnie. \n",
    "# Ja chciałbym dodać wynik jako nową kolumnę do ramki, więc wykonuję jej kopię. \n",
    "df_te = df.copy()  \n",
    "\n",
    "target_encoder = TargetEncoder()\n",
    "df_te[\"it_location_targ_enc\"] = target_encoder.fit_transform(df_te[\"it_location\"], df_te[\"price\"])"
   ]
  },
  {
   "cell_type": "code",
   "execution_count": 9,
   "metadata": {},
   "outputs": [
    {
     "data": {
      "text/plain": [
       "count    420020.000000\n",
       "mean         75.707902\n",
       "std          85.588009\n",
       "min           1.001266\n",
       "25%          49.402415\n",
       "50%          68.376518\n",
       "75%          84.132898\n",
       "max       16016.652061\n",
       "Name: it_location_targ_enc, dtype: float64"
      ]
     },
     "execution_count": 9,
     "metadata": {},
     "output_type": "execute_result"
    }
   ],
   "source": [
    "df_te[\"it_location_targ_enc\"].describe()"
   ]
  },
  {
   "cell_type": "code",
   "execution_count": 10,
   "metadata": {},
   "outputs": [
    {
     "data": {
      "text/plain": [
       "84.132898     27042\n",
       "76.819205     16581\n",
       "58.276109     12433\n",
       "104.254805    11197\n",
       "68.376518     10992\n",
       "              ...  \n",
       "41.960801         2\n",
       "60.131262         2\n",
       "38.561378         2\n",
       "36.009984         2\n",
       "21.790895         2\n",
       "Name: it_location_targ_enc, Length: 5142, dtype: int64"
      ]
     },
     "execution_count": 10,
     "metadata": {},
     "output_type": "execute_result"
    }
   ],
   "source": [
    "df_te[\"it_location_targ_enc\"].value_counts()"
   ]
  },
  {
   "cell_type": "markdown",
   "metadata": {},
   "source": [
    "W ten sposób powstała nam jedna (tylko jedna!) kolumna odzwierciedlająca lokalizację w sposób liczbowy. \n",
    "\n",
    "Dokładniej - wartości w tej kolumnie są średnimi wartościami zmiennej celu dla danej wartości zmiennej kategorycznej. W ten sposób dane spłaszczyły się do 5142 różnych wartości, gdyż niektóre średnie w grupach mogą być takie same.\n",
    "\n",
    "- Zatem przewagą target encodingu nad one hot encodingiem jest to, że nie prowadzi do zwiększenia wymiarowości zbioru danych. \n",
    "\n",
    "Natomiast są też wady:\n",
    "- przede wszystkim zależność od zmiennej celu może prowadzić do przeuczania się modelu, co jest główną wadą w stosunku do one hot encodingu, który nie uwzględnia targetu, \n",
    "- tracimy informacje o poszczególnych kategoriach (są one niejako grupowane względem odpowiedniej średniej), \n",
    "- w kategoriach o małej liczności średnia jest słabym parametrem, to dla nich głównie zachodzić może overfitting.\n",
    "\n",
    "Odnośnie kategorii o małej liczności obserwacji opcją do rozważenia jest ustawienie odpowiednich parametrów TargetEncodera:\n",
    "- `drop_invariant = True` by wyrzucić kategorie o zerowej wariancji w średniej,\n",
    "- `min_samples_leaf`, by określić jaką minimalną liczność musi mieć kategoria."
   ]
  },
  {
   "cell_type": "markdown",
   "metadata": {},
   "source": [
    "<hr> \n",
    "\n",
    "#### Inne kodowania\n",
    "\n",
    "Drugim zadaniem w tej części będzie zastosowanie trzech metod encodingu dla kolumny `main_category`, gdzie mamy 27 unikalnych wartości. "
   ]
  },
  {
   "cell_type": "code",
   "execution_count": 11,
   "metadata": {},
   "outputs": [
    {
     "data": {
      "text/plain": [
       "Dom i Ogród                            91042\n",
       "Odzież, Obuwie, Dodatki                54257\n",
       "Motoryzacja                            45941\n",
       "Dla Dzieci                             42107\n",
       "Uroda                                  28096\n",
       "Sport i Turystyka                      27532\n",
       "RTV i AGD                              20341\n",
       "Telefony i Akcesoria                   19805\n",
       "Komputery                              14491\n",
       "Zdrowie                                13166\n",
       "Książki i Komiksy                      11572\n",
       "Delikatesy                              8074\n",
       "Gry                                     7150\n",
       "Rękodzieło                              6574\n",
       "Kolekcje                                6146\n",
       "Przemysł                                5959\n",
       "Biżuteria i Zegarki                     5808\n",
       "Biuro i Reklama                         3194\n",
       "Fotografia                              2381\n",
       "Muzyka                                  1961\n",
       "Antyki i Sztuka                         1214\n",
       "Konsole i automaty                      1053\n",
       "Filmy                                   1005\n",
       "Instrumenty                              617\n",
       "Sprzęt estradowy, studyjny i DJ-ski      413\n",
       "Bilety                                   119\n",
       "Nieruchomości                              2\n",
       "Name: main_category, dtype: int64"
      ]
     },
     "execution_count": 11,
     "metadata": {},
     "output_type": "execute_result"
    }
   ],
   "source": [
    "df[\"main_category\"].value_counts()"
   ]
  },
  {
   "cell_type": "markdown",
   "metadata": {},
   "source": [
    "**1. one hot encoding**"
   ]
  },
  {
   "cell_type": "code",
   "execution_count": 12,
   "metadata": {},
   "outputs": [],
   "source": [
    "from category_encoders import OneHotEncoder\n",
    "one_hot_encoder = OneHotEncoder(use_cat_names=True) \n",
    "ohe_result = one_hot_encoder.fit_transform(df[\"main_category\"])"
   ]
  },
  {
   "cell_type": "code",
   "execution_count": 13,
   "metadata": {},
   "outputs": [
    {
     "data": {
      "text/html": [
       "<div>\n",
       "<style scoped>\n",
       "    .dataframe tbody tr th:only-of-type {\n",
       "        vertical-align: middle;\n",
       "    }\n",
       "\n",
       "    .dataframe tbody tr th {\n",
       "        vertical-align: top;\n",
       "    }\n",
       "\n",
       "    .dataframe thead th {\n",
       "        text-align: right;\n",
       "    }\n",
       "</style>\n",
       "<table border=\"1\" class=\"dataframe\">\n",
       "  <thead>\n",
       "    <tr style=\"text-align: right;\">\n",
       "      <th></th>\n",
       "      <th>main_category_Komputery</th>\n",
       "      <th>main_category_Odzież, Obuwie, Dodatki</th>\n",
       "      <th>main_category_Dom i Ogród</th>\n",
       "      <th>main_category_Książki i Komiksy</th>\n",
       "      <th>main_category_Biżuteria i Zegarki</th>\n",
       "      <th>main_category_RTV i AGD</th>\n",
       "      <th>main_category_Motoryzacja</th>\n",
       "      <th>main_category_Dla Dzieci</th>\n",
       "      <th>main_category_Uroda</th>\n",
       "      <th>main_category_Telefony i Akcesoria</th>\n",
       "      <th>...</th>\n",
       "      <th>main_category_Filmy</th>\n",
       "      <th>main_category_Fotografia</th>\n",
       "      <th>main_category_Biuro i Reklama</th>\n",
       "      <th>main_category_Instrumenty</th>\n",
       "      <th>main_category_Muzyka</th>\n",
       "      <th>main_category_Konsole i automaty</th>\n",
       "      <th>main_category_Sprzęt estradowy, studyjny i DJ-ski</th>\n",
       "      <th>main_category_Antyki i Sztuka</th>\n",
       "      <th>main_category_Bilety</th>\n",
       "      <th>main_category_Nieruchomości</th>\n",
       "    </tr>\n",
       "  </thead>\n",
       "  <tbody>\n",
       "    <tr>\n",
       "      <th>0</th>\n",
       "      <td>1</td>\n",
       "      <td>0</td>\n",
       "      <td>0</td>\n",
       "      <td>0</td>\n",
       "      <td>0</td>\n",
       "      <td>0</td>\n",
       "      <td>0</td>\n",
       "      <td>0</td>\n",
       "      <td>0</td>\n",
       "      <td>0</td>\n",
       "      <td>...</td>\n",
       "      <td>0</td>\n",
       "      <td>0</td>\n",
       "      <td>0</td>\n",
       "      <td>0</td>\n",
       "      <td>0</td>\n",
       "      <td>0</td>\n",
       "      <td>0</td>\n",
       "      <td>0</td>\n",
       "      <td>0</td>\n",
       "      <td>0</td>\n",
       "    </tr>\n",
       "    <tr>\n",
       "      <th>1</th>\n",
       "      <td>0</td>\n",
       "      <td>1</td>\n",
       "      <td>0</td>\n",
       "      <td>0</td>\n",
       "      <td>0</td>\n",
       "      <td>0</td>\n",
       "      <td>0</td>\n",
       "      <td>0</td>\n",
       "      <td>0</td>\n",
       "      <td>0</td>\n",
       "      <td>...</td>\n",
       "      <td>0</td>\n",
       "      <td>0</td>\n",
       "      <td>0</td>\n",
       "      <td>0</td>\n",
       "      <td>0</td>\n",
       "      <td>0</td>\n",
       "      <td>0</td>\n",
       "      <td>0</td>\n",
       "      <td>0</td>\n",
       "      <td>0</td>\n",
       "    </tr>\n",
       "    <tr>\n",
       "      <th>2</th>\n",
       "      <td>0</td>\n",
       "      <td>0</td>\n",
       "      <td>1</td>\n",
       "      <td>0</td>\n",
       "      <td>0</td>\n",
       "      <td>0</td>\n",
       "      <td>0</td>\n",
       "      <td>0</td>\n",
       "      <td>0</td>\n",
       "      <td>0</td>\n",
       "      <td>...</td>\n",
       "      <td>0</td>\n",
       "      <td>0</td>\n",
       "      <td>0</td>\n",
       "      <td>0</td>\n",
       "      <td>0</td>\n",
       "      <td>0</td>\n",
       "      <td>0</td>\n",
       "      <td>0</td>\n",
       "      <td>0</td>\n",
       "      <td>0</td>\n",
       "    </tr>\n",
       "    <tr>\n",
       "      <th>3</th>\n",
       "      <td>0</td>\n",
       "      <td>0</td>\n",
       "      <td>0</td>\n",
       "      <td>1</td>\n",
       "      <td>0</td>\n",
       "      <td>0</td>\n",
       "      <td>0</td>\n",
       "      <td>0</td>\n",
       "      <td>0</td>\n",
       "      <td>0</td>\n",
       "      <td>...</td>\n",
       "      <td>0</td>\n",
       "      <td>0</td>\n",
       "      <td>0</td>\n",
       "      <td>0</td>\n",
       "      <td>0</td>\n",
       "      <td>0</td>\n",
       "      <td>0</td>\n",
       "      <td>0</td>\n",
       "      <td>0</td>\n",
       "      <td>0</td>\n",
       "    </tr>\n",
       "    <tr>\n",
       "      <th>4</th>\n",
       "      <td>0</td>\n",
       "      <td>1</td>\n",
       "      <td>0</td>\n",
       "      <td>0</td>\n",
       "      <td>0</td>\n",
       "      <td>0</td>\n",
       "      <td>0</td>\n",
       "      <td>0</td>\n",
       "      <td>0</td>\n",
       "      <td>0</td>\n",
       "      <td>...</td>\n",
       "      <td>0</td>\n",
       "      <td>0</td>\n",
       "      <td>0</td>\n",
       "      <td>0</td>\n",
       "      <td>0</td>\n",
       "      <td>0</td>\n",
       "      <td>0</td>\n",
       "      <td>0</td>\n",
       "      <td>0</td>\n",
       "      <td>0</td>\n",
       "    </tr>\n",
       "    <tr>\n",
       "      <th>...</th>\n",
       "      <td>...</td>\n",
       "      <td>...</td>\n",
       "      <td>...</td>\n",
       "      <td>...</td>\n",
       "      <td>...</td>\n",
       "      <td>...</td>\n",
       "      <td>...</td>\n",
       "      <td>...</td>\n",
       "      <td>...</td>\n",
       "      <td>...</td>\n",
       "      <td>...</td>\n",
       "      <td>...</td>\n",
       "      <td>...</td>\n",
       "      <td>...</td>\n",
       "      <td>...</td>\n",
       "      <td>...</td>\n",
       "      <td>...</td>\n",
       "      <td>...</td>\n",
       "      <td>...</td>\n",
       "      <td>...</td>\n",
       "      <td>...</td>\n",
       "    </tr>\n",
       "    <tr>\n",
       "      <th>420015</th>\n",
       "      <td>0</td>\n",
       "      <td>0</td>\n",
       "      <td>0</td>\n",
       "      <td>0</td>\n",
       "      <td>0</td>\n",
       "      <td>1</td>\n",
       "      <td>0</td>\n",
       "      <td>0</td>\n",
       "      <td>0</td>\n",
       "      <td>0</td>\n",
       "      <td>...</td>\n",
       "      <td>0</td>\n",
       "      <td>0</td>\n",
       "      <td>0</td>\n",
       "      <td>0</td>\n",
       "      <td>0</td>\n",
       "      <td>0</td>\n",
       "      <td>0</td>\n",
       "      <td>0</td>\n",
       "      <td>0</td>\n",
       "      <td>0</td>\n",
       "    </tr>\n",
       "    <tr>\n",
       "      <th>420016</th>\n",
       "      <td>0</td>\n",
       "      <td>0</td>\n",
       "      <td>0</td>\n",
       "      <td>0</td>\n",
       "      <td>0</td>\n",
       "      <td>0</td>\n",
       "      <td>0</td>\n",
       "      <td>0</td>\n",
       "      <td>1</td>\n",
       "      <td>0</td>\n",
       "      <td>...</td>\n",
       "      <td>0</td>\n",
       "      <td>0</td>\n",
       "      <td>0</td>\n",
       "      <td>0</td>\n",
       "      <td>0</td>\n",
       "      <td>0</td>\n",
       "      <td>0</td>\n",
       "      <td>0</td>\n",
       "      <td>0</td>\n",
       "      <td>0</td>\n",
       "    </tr>\n",
       "    <tr>\n",
       "      <th>420017</th>\n",
       "      <td>0</td>\n",
       "      <td>1</td>\n",
       "      <td>0</td>\n",
       "      <td>0</td>\n",
       "      <td>0</td>\n",
       "      <td>0</td>\n",
       "      <td>0</td>\n",
       "      <td>0</td>\n",
       "      <td>0</td>\n",
       "      <td>0</td>\n",
       "      <td>...</td>\n",
       "      <td>0</td>\n",
       "      <td>0</td>\n",
       "      <td>0</td>\n",
       "      <td>0</td>\n",
       "      <td>0</td>\n",
       "      <td>0</td>\n",
       "      <td>0</td>\n",
       "      <td>0</td>\n",
       "      <td>0</td>\n",
       "      <td>0</td>\n",
       "    </tr>\n",
       "    <tr>\n",
       "      <th>420018</th>\n",
       "      <td>0</td>\n",
       "      <td>0</td>\n",
       "      <td>0</td>\n",
       "      <td>0</td>\n",
       "      <td>0</td>\n",
       "      <td>0</td>\n",
       "      <td>0</td>\n",
       "      <td>1</td>\n",
       "      <td>0</td>\n",
       "      <td>0</td>\n",
       "      <td>...</td>\n",
       "      <td>0</td>\n",
       "      <td>0</td>\n",
       "      <td>0</td>\n",
       "      <td>0</td>\n",
       "      <td>0</td>\n",
       "      <td>0</td>\n",
       "      <td>0</td>\n",
       "      <td>0</td>\n",
       "      <td>0</td>\n",
       "      <td>0</td>\n",
       "    </tr>\n",
       "    <tr>\n",
       "      <th>420019</th>\n",
       "      <td>0</td>\n",
       "      <td>0</td>\n",
       "      <td>0</td>\n",
       "      <td>0</td>\n",
       "      <td>0</td>\n",
       "      <td>0</td>\n",
       "      <td>1</td>\n",
       "      <td>0</td>\n",
       "      <td>0</td>\n",
       "      <td>0</td>\n",
       "      <td>...</td>\n",
       "      <td>0</td>\n",
       "      <td>0</td>\n",
       "      <td>0</td>\n",
       "      <td>0</td>\n",
       "      <td>0</td>\n",
       "      <td>0</td>\n",
       "      <td>0</td>\n",
       "      <td>0</td>\n",
       "      <td>0</td>\n",
       "      <td>0</td>\n",
       "    </tr>\n",
       "  </tbody>\n",
       "</table>\n",
       "<p>420020 rows × 27 columns</p>\n",
       "</div>"
      ],
      "text/plain": [
       "        main_category_Komputery  main_category_Odzież, Obuwie, Dodatki  \\\n",
       "0                             1                                      0   \n",
       "1                             0                                      1   \n",
       "2                             0                                      0   \n",
       "3                             0                                      0   \n",
       "4                             0                                      1   \n",
       "...                         ...                                    ...   \n",
       "420015                        0                                      0   \n",
       "420016                        0                                      0   \n",
       "420017                        0                                      1   \n",
       "420018                        0                                      0   \n",
       "420019                        0                                      0   \n",
       "\n",
       "        main_category_Dom i Ogród  main_category_Książki i Komiksy  \\\n",
       "0                               0                                0   \n",
       "1                               0                                0   \n",
       "2                               1                                0   \n",
       "3                               0                                1   \n",
       "4                               0                                0   \n",
       "...                           ...                              ...   \n",
       "420015                          0                                0   \n",
       "420016                          0                                0   \n",
       "420017                          0                                0   \n",
       "420018                          0                                0   \n",
       "420019                          0                                0   \n",
       "\n",
       "        main_category_Biżuteria i Zegarki  main_category_RTV i AGD  \\\n",
       "0                                       0                        0   \n",
       "1                                       0                        0   \n",
       "2                                       0                        0   \n",
       "3                                       0                        0   \n",
       "4                                       0                        0   \n",
       "...                                   ...                      ...   \n",
       "420015                                  0                        1   \n",
       "420016                                  0                        0   \n",
       "420017                                  0                        0   \n",
       "420018                                  0                        0   \n",
       "420019                                  0                        0   \n",
       "\n",
       "        main_category_Motoryzacja  main_category_Dla Dzieci  \\\n",
       "0                               0                         0   \n",
       "1                               0                         0   \n",
       "2                               0                         0   \n",
       "3                               0                         0   \n",
       "4                               0                         0   \n",
       "...                           ...                       ...   \n",
       "420015                          0                         0   \n",
       "420016                          0                         0   \n",
       "420017                          0                         0   \n",
       "420018                          0                         1   \n",
       "420019                          1                         0   \n",
       "\n",
       "        main_category_Uroda  main_category_Telefony i Akcesoria  ...  \\\n",
       "0                         0                                   0  ...   \n",
       "1                         0                                   0  ...   \n",
       "2                         0                                   0  ...   \n",
       "3                         0                                   0  ...   \n",
       "4                         0                                   0  ...   \n",
       "...                     ...                                 ...  ...   \n",
       "420015                    0                                   0  ...   \n",
       "420016                    1                                   0  ...   \n",
       "420017                    0                                   0  ...   \n",
       "420018                    0                                   0  ...   \n",
       "420019                    0                                   0  ...   \n",
       "\n",
       "        main_category_Filmy  main_category_Fotografia  \\\n",
       "0                         0                         0   \n",
       "1                         0                         0   \n",
       "2                         0                         0   \n",
       "3                         0                         0   \n",
       "4                         0                         0   \n",
       "...                     ...                       ...   \n",
       "420015                    0                         0   \n",
       "420016                    0                         0   \n",
       "420017                    0                         0   \n",
       "420018                    0                         0   \n",
       "420019                    0                         0   \n",
       "\n",
       "        main_category_Biuro i Reklama  main_category_Instrumenty  \\\n",
       "0                                   0                          0   \n",
       "1                                   0                          0   \n",
       "2                                   0                          0   \n",
       "3                                   0                          0   \n",
       "4                                   0                          0   \n",
       "...                               ...                        ...   \n",
       "420015                              0                          0   \n",
       "420016                              0                          0   \n",
       "420017                              0                          0   \n",
       "420018                              0                          0   \n",
       "420019                              0                          0   \n",
       "\n",
       "        main_category_Muzyka  main_category_Konsole i automaty  \\\n",
       "0                          0                                 0   \n",
       "1                          0                                 0   \n",
       "2                          0                                 0   \n",
       "3                          0                                 0   \n",
       "4                          0                                 0   \n",
       "...                      ...                               ...   \n",
       "420015                     0                                 0   \n",
       "420016                     0                                 0   \n",
       "420017                     0                                 0   \n",
       "420018                     0                                 0   \n",
       "420019                     0                                 0   \n",
       "\n",
       "        main_category_Sprzęt estradowy, studyjny i DJ-ski  \\\n",
       "0                                                       0   \n",
       "1                                                       0   \n",
       "2                                                       0   \n",
       "3                                                       0   \n",
       "4                                                       0   \n",
       "...                                                   ...   \n",
       "420015                                                  0   \n",
       "420016                                                  0   \n",
       "420017                                                  0   \n",
       "420018                                                  0   \n",
       "420019                                                  0   \n",
       "\n",
       "        main_category_Antyki i Sztuka  main_category_Bilety  \\\n",
       "0                                   0                     0   \n",
       "1                                   0                     0   \n",
       "2                                   0                     0   \n",
       "3                                   0                     0   \n",
       "4                                   0                     0   \n",
       "...                               ...                   ...   \n",
       "420015                              0                     0   \n",
       "420016                              0                     0   \n",
       "420017                              0                     0   \n",
       "420018                              0                     0   \n",
       "420019                              0                     0   \n",
       "\n",
       "        main_category_Nieruchomości  \n",
       "0                                 0  \n",
       "1                                 0  \n",
       "2                                 0  \n",
       "3                                 0  \n",
       "4                                 0  \n",
       "...                             ...  \n",
       "420015                            0  \n",
       "420016                            0  \n",
       "420017                            0  \n",
       "420018                            0  \n",
       "420019                            0  \n",
       "\n",
       "[420020 rows x 27 columns]"
      ]
     },
     "execution_count": 13,
     "metadata": {},
     "output_type": "execute_result"
    }
   ],
   "source": [
    "ohe_result"
   ]
  },
  {
   "cell_type": "markdown",
   "metadata": {},
   "source": [
    "One hot encoding to metoda, w której dla każdej unikalnej wartości zmiennej tworzona jest oddzielna kolumna o wartościach binarnych, gdzie 1 oznacza, że dana obserwacja jest z właśnie tej kategorii.\n",
    "\n",
    "W tym wypadku otrzymujemy 27 kolumn, czyli dokładnie tyle, ile powinniśmy się spodziewać. Ta metoda zachowuje więc wszystkie informacje o zmiennej kategorycznej i nie opiera się o nic więcej, nic nie dodaje. "
   ]
  },
  {
   "cell_type": "markdown",
   "metadata": {},
   "source": [
    "**2. leave one out encoding**"
   ]
  },
  {
   "cell_type": "code",
   "execution_count": 14,
   "metadata": {},
   "outputs": [],
   "source": [
    "from category_encoders import LeaveOneOutEncoder\n",
    "leave_one_out_encoder = LeaveOneOutEncoder() \n",
    "loue_result = leave_one_out_encoder.fit_transform(df[\"main_category\"], df[\"price\"])"
   ]
  },
  {
   "cell_type": "code",
   "execution_count": 15,
   "metadata": {},
   "outputs": [
    {
     "data": {
      "text/html": [
       "<div>\n",
       "<style scoped>\n",
       "    .dataframe tbody tr th:only-of-type {\n",
       "        vertical-align: middle;\n",
       "    }\n",
       "\n",
       "    .dataframe tbody tr th {\n",
       "        vertical-align: top;\n",
       "    }\n",
       "\n",
       "    .dataframe thead th {\n",
       "        text-align: right;\n",
       "    }\n",
       "</style>\n",
       "<table border=\"1\" class=\"dataframe\">\n",
       "  <thead>\n",
       "    <tr style=\"text-align: right;\">\n",
       "      <th></th>\n",
       "      <th>main_category</th>\n",
       "    </tr>\n",
       "  </thead>\n",
       "  <tbody>\n",
       "    <tr>\n",
       "      <th>0</th>\n",
       "      <td>121.814331</td>\n",
       "    </tr>\n",
       "    <tr>\n",
       "      <th>1</th>\n",
       "      <td>75.859357</td>\n",
       "    </tr>\n",
       "    <tr>\n",
       "      <th>2</th>\n",
       "      <td>72.434342</td>\n",
       "    </tr>\n",
       "    <tr>\n",
       "      <th>3</th>\n",
       "      <td>25.028061</td>\n",
       "    </tr>\n",
       "    <tr>\n",
       "      <th>4</th>\n",
       "      <td>75.859080</td>\n",
       "    </tr>\n",
       "    <tr>\n",
       "      <th>...</th>\n",
       "      <td>...</td>\n",
       "    </tr>\n",
       "    <tr>\n",
       "      <th>420015</th>\n",
       "      <td>107.530709</td>\n",
       "    </tr>\n",
       "    <tr>\n",
       "      <th>420016</th>\n",
       "      <td>28.129044</td>\n",
       "    </tr>\n",
       "    <tr>\n",
       "      <th>420017</th>\n",
       "      <td>75.859337</td>\n",
       "    </tr>\n",
       "    <tr>\n",
       "      <th>420018</th>\n",
       "      <td>71.203327</td>\n",
       "    </tr>\n",
       "    <tr>\n",
       "      <th>420019</th>\n",
       "      <td>134.418844</td>\n",
       "    </tr>\n",
       "  </tbody>\n",
       "</table>\n",
       "<p>420020 rows × 1 columns</p>\n",
       "</div>"
      ],
      "text/plain": [
       "        main_category\n",
       "0          121.814331\n",
       "1           75.859357\n",
       "2           72.434342\n",
       "3           25.028061\n",
       "4           75.859080\n",
       "...               ...\n",
       "420015     107.530709\n",
       "420016      28.129044\n",
       "420017      75.859337\n",
       "420018      71.203327\n",
       "420019     134.418844\n",
       "\n",
       "[420020 rows x 1 columns]"
      ]
     },
     "execution_count": 15,
     "metadata": {},
     "output_type": "execute_result"
    }
   ],
   "source": [
    "loue_result"
   ]
  },
  {
   "cell_type": "markdown",
   "metadata": {},
   "source": [
    "Leave one out encoding jest bardzo podobny do wykonywanego wcześniej target encodingu. Różnica polega na tym, że przy wyliczaniu średniej dla konkretnej obserwacji nie uwzględnia się jej wartości targetu, co redukuje wpływ outlierów. \n",
    "\n",
    "Ponadto możliwe jest ustawienie parametru `sigma`, by dodać szum Gaussowski do obliczonych wartości, co zmniejsza możliwość overfittingu. \n",
    "\n",
    "Dla kolumny takiej jak `main_category` (27 unikalnych wartości) nie jest to optymalna strategia, ale byłoby to dobrą możliwością poprawy dla zastosowania target encodingu w poprzedniej części zadania."
   ]
  },
  {
   "cell_type": "markdown",
   "metadata": {},
   "source": [
    "**3. count encoding**"
   ]
  },
  {
   "cell_type": "code",
   "execution_count": 16,
   "metadata": {},
   "outputs": [],
   "source": [
    "from category_encoders import CountEncoder\n",
    "count_encoder = CountEncoder() \n",
    "ce_result = count_encoder.fit_transform(df[\"main_category\"])"
   ]
  },
  {
   "cell_type": "code",
   "execution_count": 17,
   "metadata": {},
   "outputs": [
    {
     "data": {
      "text/html": [
       "<div>\n",
       "<style scoped>\n",
       "    .dataframe tbody tr th:only-of-type {\n",
       "        vertical-align: middle;\n",
       "    }\n",
       "\n",
       "    .dataframe tbody tr th {\n",
       "        vertical-align: top;\n",
       "    }\n",
       "\n",
       "    .dataframe thead th {\n",
       "        text-align: right;\n",
       "    }\n",
       "</style>\n",
       "<table border=\"1\" class=\"dataframe\">\n",
       "  <thead>\n",
       "    <tr style=\"text-align: right;\">\n",
       "      <th></th>\n",
       "      <th>main_category</th>\n",
       "    </tr>\n",
       "  </thead>\n",
       "  <tbody>\n",
       "    <tr>\n",
       "      <th>0</th>\n",
       "      <td>14491</td>\n",
       "    </tr>\n",
       "    <tr>\n",
       "      <th>1</th>\n",
       "      <td>54257</td>\n",
       "    </tr>\n",
       "    <tr>\n",
       "      <th>2</th>\n",
       "      <td>91042</td>\n",
       "    </tr>\n",
       "    <tr>\n",
       "      <th>3</th>\n",
       "      <td>11572</td>\n",
       "    </tr>\n",
       "    <tr>\n",
       "      <th>4</th>\n",
       "      <td>54257</td>\n",
       "    </tr>\n",
       "    <tr>\n",
       "      <th>...</th>\n",
       "      <td>...</td>\n",
       "    </tr>\n",
       "    <tr>\n",
       "      <th>420015</th>\n",
       "      <td>20341</td>\n",
       "    </tr>\n",
       "    <tr>\n",
       "      <th>420016</th>\n",
       "      <td>28096</td>\n",
       "    </tr>\n",
       "    <tr>\n",
       "      <th>420017</th>\n",
       "      <td>54257</td>\n",
       "    </tr>\n",
       "    <tr>\n",
       "      <th>420018</th>\n",
       "      <td>42107</td>\n",
       "    </tr>\n",
       "    <tr>\n",
       "      <th>420019</th>\n",
       "      <td>45941</td>\n",
       "    </tr>\n",
       "  </tbody>\n",
       "</table>\n",
       "<p>420020 rows × 1 columns</p>\n",
       "</div>"
      ],
      "text/plain": [
       "        main_category\n",
       "0               14491\n",
       "1               54257\n",
       "2               91042\n",
       "3               11572\n",
       "4               54257\n",
       "...               ...\n",
       "420015          20341\n",
       "420016          28096\n",
       "420017          54257\n",
       "420018          42107\n",
       "420019          45941\n",
       "\n",
       "[420020 rows x 1 columns]"
      ]
     },
     "execution_count": 17,
     "metadata": {},
     "output_type": "execute_result"
    }
   ],
   "source": [
    "ce_result"
   ]
  },
  {
   "cell_type": "code",
   "execution_count": 18,
   "metadata": {},
   "outputs": [
    {
     "data": {
      "text/plain": [
       "main_category\n",
       "91042            91042\n",
       "54257            54257\n",
       "45941            45941\n",
       "42107            42107\n",
       "28096            28096\n",
       "27532            27532\n",
       "20341            20341\n",
       "19805            19805\n",
       "14491            14491\n",
       "13166            13166\n",
       "11572            11572\n",
       "8074              8074\n",
       "7150              7150\n",
       "6574              6574\n",
       "6146              6146\n",
       "5959              5959\n",
       "5808              5808\n",
       "3194              3194\n",
       "2381              2381\n",
       "1961              1961\n",
       "1214              1214\n",
       "1053              1053\n",
       "1005              1005\n",
       "617                617\n",
       "413                413\n",
       "119                119\n",
       "2                    2\n",
       "dtype: int64"
      ]
     },
     "execution_count": 18,
     "metadata": {},
     "output_type": "execute_result"
    }
   ],
   "source": [
    "ce_result.value_counts()"
   ]
  },
  {
   "cell_type": "markdown",
   "metadata": {},
   "source": [
    "Count Encoding jest metodą kodowania zmiennej kategorycznej, która polega na zastąpieniu nazwy kategorii przez liczbę jej wystąpień w zbiorze danych. Zakładane jest więc, że liczba obserwacji w danej kategorii niesie ze sobą pewną informację dla predykcji. \n",
    "\n",
    "Metoda umożliwia niezwiększanie liczby kolumn, przy jednoczesnej niezależności od targetu - brak overfittingu. Jednak tracimy informacje, jeśli są dwie kategorie o tej samej lub podobnej liczbie wystąpień (zostają one zamienione na tę samą/bliską liczbę)."
   ]
  },
  {
   "cell_type": "markdown",
   "metadata": {},
   "source": [
    "### 2. Uzupełnianie braków w danych"
   ]
  },
  {
   "cell_type": "markdown",
   "metadata": {},
   "source": [
    "W tej części pracy domowej cena przestaje być targetem, traktujemy ją jako zmienną objaśniającą, a zbiór ograniczamy do zmiennych numerycznych.\n",
    "Ponadto ograniczamy liczbę rekordów w celu poprawienia wydajności przeprowadzanych analiz. "
   ]
  },
  {
   "cell_type": "code",
   "execution_count": 19,
   "metadata": {},
   "outputs": [],
   "source": [
    "df_num = df[[\"price\", \"it_seller_rating\", \"it_quantity\"]]\n",
    "df_num_sample = df_num.sample(frac = 0.1, random_state = 42)"
   ]
  },
  {
   "cell_type": "markdown",
   "metadata": {},
   "source": [
    "Usuniemy 10% wartości zmiennej `it_seller_rating` z losowo wybranych obserwacji i uzupełnimy przy użyciu **k nearest neighbours imputera**, szukając dla danej obserwacji dziesięciu do niej podobnych i nadając im wagi w zależności od dystansu (podobieństwa). "
   ]
  },
  {
   "cell_type": "code",
   "execution_count": 20,
   "metadata": {},
   "outputs": [],
   "source": [
    "df_num_del = df_num_sample.copy()\n",
    "index_del = df_num_del.sample(frac = 0.1, random_state = 42).index\n",
    "df_num_del.loc[index_del, \"it_seller_rating\"] = np.nan"
   ]
  },
  {
   "cell_type": "code",
   "execution_count": 21,
   "metadata": {},
   "outputs": [
    {
     "data": {
      "text/plain": [
       "0.09999523832198466"
      ]
     },
     "execution_count": 21,
     "metadata": {},
     "output_type": "execute_result"
    }
   ],
   "source": [
    "df_num_del[\"it_seller_rating\"].isnull().mean()  # Sprawdzenie, czy usunięto 10%"
   ]
  },
  {
   "cell_type": "code",
   "execution_count": 22,
   "metadata": {},
   "outputs": [],
   "source": [
    "from sklearn.impute import KNNImputer\n",
    "knn_imputer = KNNImputer(n_neighbors=10, weights=\"distance\")"
   ]
  },
  {
   "cell_type": "code",
   "execution_count": 23,
   "metadata": {},
   "outputs": [],
   "source": [
    "imputed_df = pd.DataFrame(knn_imputer.fit_transform(df_num_del), columns = df_num_del.columns)"
   ]
  },
  {
   "cell_type": "code",
   "execution_count": 24,
   "metadata": {},
   "outputs": [
    {
     "data": {
      "text/plain": [
       "0.0"
      ]
     },
     "execution_count": 24,
     "metadata": {},
     "output_type": "execute_result"
    }
   ],
   "source": [
    "imputed_df[\"it_seller_rating\"].isnull().mean() # Rzeczywiście nie mamy już nulli w kolumnie"
   ]
  },
  {
   "cell_type": "code",
   "execution_count": 25,
   "metadata": {},
   "outputs": [],
   "source": [
    "from sklearn.metrics import mean_squared_error\n",
    "def rmse(x, y):\n",
    "    return np.sqrt(mean_squared_error(x, y))"
   ]
  },
  {
   "cell_type": "code",
   "execution_count": 26,
   "metadata": {},
   "outputs": [],
   "source": [
    "rmse_1 = rmse(imputed_df[\"it_seller_rating\"], df_num_sample[\"it_seller_rating\"])"
   ]
  },
  {
   "cell_type": "code",
   "execution_count": 27,
   "metadata": {},
   "outputs": [
    {
     "name": "stdout",
     "output_type": "stream",
     "text": [
      "RMSE dla imputowanej kolumny przy użyciu imputacji k nearest neighbours: 12048.3660.\n"
     ]
    }
   ],
   "source": [
    "print(f\"RMSE dla imputowanej kolumny przy użyciu imputacji k nearest neighbours: {rmse_1:.4f}.\")"
   ]
  },
  {
   "cell_type": "markdown",
   "metadata": {},
   "source": [
    "W celu odniesienia dla otrzymanego RMSE wykonamy prostą imputację średnią wartością. "
   ]
  },
  {
   "cell_type": "code",
   "execution_count": 28,
   "metadata": {},
   "outputs": [],
   "source": [
    "from sklearn.impute import SimpleImputer\n",
    "simple_imputer = SimpleImputer(missing_values=np.nan, strategy=\"mean\")\n",
    "imputed_df_2 = pd.DataFrame(simple_imputer.fit_transform(df_num_del), columns = df_num_del.columns)"
   ]
  },
  {
   "cell_type": "code",
   "execution_count": 29,
   "metadata": {},
   "outputs": [],
   "source": [
    "rmse_2 = rmse(imputed_df_2[\"it_seller_rating\"], df_num_sample[\"it_seller_rating\"])"
   ]
  },
  {
   "cell_type": "code",
   "execution_count": 30,
   "metadata": {},
   "outputs": [
    {
     "name": "stdout",
     "output_type": "stream",
     "text": [
      "RMSE dla imputowanej kolumny przy użyciu imputacji średnią: 11717.4400.\n"
     ]
    }
   ],
   "source": [
    "print(f\"RMSE dla imputowanej kolumny przy użyciu imputacji średnią: {rmse_2:.4f}.\")"
   ]
  },
  {
   "cell_type": "markdown",
   "metadata": {},
   "source": [
    "Okazuje się, że w tym przypadku imputacja przy użyciu średniej okazuje się być lepsza ze względu na miarę RMSE, co jest dość zaskakujące, gdyż imputacja KNN jest bardziej \"wyrafinowaną\" metodą. \n",
    "\n",
    "Żeby zobaczyć, jak duży wpływ na ten wynik ma losowość przy wyborze danych i wyborze usuwanych wartości, przeprowadzimy eksperyment. "
   ]
  },
  {
   "cell_type": "code",
   "execution_count": 32,
   "metadata": {},
   "outputs": [],
   "source": [
    "rmserrors = []\n",
    "rmserrors_simpleimputer = []\n",
    "for i in range(10):\n",
    "    # ramka nieruszona i ramka z usuniętymi losowo wartościami\n",
    "    df_sample = df_num.sample(frac = 0.1)\n",
    "    df_del = df_sample.copy()\n",
    "    index_del = df_del.sample(frac = 0.1).index\n",
    "    df_del.loc[index_del, \"it_seller_rating\"] = np.nan\n",
    "    \n",
    "    # imputacja i obliczenie RMSE\n",
    "    imputed_df = pd.DataFrame(knn_imputer.fit_transform(df_del), columns = df_del.columns)\n",
    "    imputed_df_2 = pd.DataFrame(simple_imputer.fit_transform(df_del), columns = df_del.columns)\n",
    "    \n",
    "    rmserrors += [rmse(imputed_df[\"it_seller_rating\"], df_sample[\"it_seller_rating\"])]\n",
    "    rmserrors_simpleimputer += [rmse(imputed_df_2[\"it_seller_rating\"], df_sample[\"it_seller_rating\"])]"
   ]
  },
  {
   "cell_type": "code",
   "execution_count": 33,
   "metadata": {},
   "outputs": [
    {
     "name": "stdout",
     "output_type": "stream",
     "text": [
      "RMSE dla imputacji KNN przy usunięciu zmiennych z jednej kolumny\n",
      "średni RMSE: 12054.6381 \n",
      "odchylenie standardowe: 299.5901\n"
     ]
    }
   ],
   "source": [
    "print(\"RMSE dla imputacji KNN przy usunięciu zmiennych z jednej kolumny\")\n",
    "print(f\"średni RMSE: {np.mean(rmserrors):.4f} \\nodchylenie standardowe: {np.std(rmserrors):.4f}\")"
   ]
  },
  {
   "cell_type": "code",
   "execution_count": 34,
   "metadata": {},
   "outputs": [
    {
     "name": "stdout",
     "output_type": "stream",
     "text": [
      "RMSE dla imputacji średnią przy usunięciu zmiennych z jednej kolumny\n",
      "średni RMSE: 11625.9772 \n",
      "odchylenie standardowe: 333.5328\n"
     ]
    }
   ],
   "source": [
    "print(\"RMSE dla imputacji średnią przy usunięciu zmiennych z jednej kolumny\")\n",
    "print(f\"średni RMSE: {np.mean(rmserrors_simpleimputer):.4f} \\nodchylenie standardowe: {np.std(rmserrors_simpleimputer):.4f}\")"
   ]
  },
  {
   "cell_type": "code",
   "execution_count": 36,
   "metadata": {},
   "outputs": [],
   "source": [
    "rmserrors_seller_rating = []\n",
    "rmserrors_quantity = []\n",
    "for i in range(10):\n",
    "    # ramka nieruszona i ramka z usuniętymi losowo wartościami\n",
    "    df_sample = df_num.sample(frac = 0.1)\n",
    "    df_del = df_sample.copy()\n",
    "    index_del_1 = df_del.sample(frac = 0.1).index\n",
    "    index_del_2 = df_del.sample(frac = 0.1).index\n",
    "    df_del.loc[index_del_1, \"it_seller_rating\"] = np.nan\n",
    "    df_del.loc[index_del_2, \"it_quantity\"] = np.nan\n",
    "    \n",
    "    # imputacja i obliczenie RMSE\n",
    "    imputed_df = pd.DataFrame(knn_imputer.fit_transform(df_del), columns = df_del.columns)\n",
    "    rmserrors_seller_rating += [rmse(imputed_df[\"it_seller_rating\"], df_sample[\"it_seller_rating\"])]\n",
    "    rmserrors_quantity += [rmse(imputed_df[\"it_quantity\"], df_sample[\"it_quantity\"])]"
   ]
  },
  {
   "cell_type": "code",
   "execution_count": 37,
   "metadata": {},
   "outputs": [
    {
     "name": "stdout",
     "output_type": "stream",
     "text": [
      "RMSE dla imputacji KNN przy usunięciu zmiennych z dwóch kolumn\n",
      "\n",
      "Dla kolumny `it_seller_rating`:\n",
      "średni RMSE: 12512.0611 \n",
      "odchylenie standardowe: 365.9507\n",
      "\n",
      "Dla kolumny `it_quantity`:\n",
      "średni RMSE: 8614.6770 \n",
      "odchylenie standardowe: 220.4295\n"
     ]
    }
   ],
   "source": [
    "print(\"RMSE dla imputacji KNN przy usunięciu zmiennych z dwóch kolumn\")\n",
    "print(\"\\nDla kolumny `it_seller_rating`:\")\n",
    "print(f\"średni RMSE: {np.mean(rmserrors_seller_rating):.4f} \\nodchylenie standardowe: {np.std(rmserrors_seller_rating):.4f}\")\n",
    "print(\"\\nDla kolumny `it_quantity`:\")\n",
    "print(f\"średni RMSE: {np.mean(rmserrors_quantity):.4f} \\nodchylenie standardowe: {np.std(rmserrors_quantity):.4f}\")"
   ]
  },
  {
   "cell_type": "code",
   "execution_count": 41,
   "metadata": {},
   "outputs": [
    {
     "data": {
      "image/png": "[encoded data removed]",
      "text/plain": [
       "<Figure size 576x576 with 1 Axes>"
      ]
     },
     "metadata": {
      "needs_background": "light"
     },
     "output_type": "display_data"
    }
   ],
   "source": [
    "plt.figure(figsize=(8, 8))\n",
    "sns.boxplot(data = [rmserrors, rmserrors_seller_rating], color = \"steelblue\")\n",
    "sns.swarmplot(data = [rmserrors, rmserrors_seller_rating], color = \"black\")\n",
    "plt.title(\"RMSE dla imputacji KNN kolumny itt_seller_rating \\nw zależności od lokalizacji braków danych\", size=14)\n",
    "plt.xticks([0, 1], [\"Braki danych w kolumnie \\nitt_seller_rating\", \"Braki danych w kolumnach \\nitt_seller_rating, it_quantity\"])\n",
    "plt.xlabel(\"Lokalizacja braków danych\")\n",
    "plt.ylabel(\"Wartość RMSE\")\n",
    "plt.show()"
   ]
  },
  {
   "cell_type": "markdown",
   "metadata": {},
   "source": [
    "**Wnioski:**\n",
    "- Prosta imputacja średnią okazała się być lepsza w przypadku, gdy brakowało wartości w jednej kolumnie.\n",
    "- Średnia jakość imputacji KNN spada - wielkość miary RMSE jest większa, jeśli braków danych jest więcej (np. występują one również w drugiej kolumnie).\n",
    "- Jednocześnie większe jest także odchylenie standardowe miary RMSE, a w niektórych sytuacjach błąd jest mniejszy niż w przypadku braków danych tylko w jednej kolumnie (zależy to również od wylosowonego zestawu).\n",
    "- Imputacja KNN okazuje się lepsza* w przypadku, gdy bierzemy pod uwagę więcej danych (obserwacji i cech). Jednak skorzystanie z tego algorytmu wymaga także większych zasobów wydajnościowych.\n",
    "\n",
    "\\* W notebooku `imputation_full_df.ipynb` prezentuję wynik po uwzględneniu wszystkich obserwacji. Wówczas RMSE wynosi 10252.94. "
   ]
  },
  {
   "cell_type": "code",
   "execution_count": null,
   "metadata": {},
   "outputs": [],
   "source": []
  }
 ],
 "metadata": {
  "kernelspec": {
   "display_name": "Python 3",
   "language": "python",
   "name": "python3"
  },
  "language_info": {
   "codemirror_mode": {
    "name": "ipython",
    "version": 3
   },
   "file_extension": ".py",
   "mimetype": "text/x-python",
   "name": "python",
   "nbconvert_exporter": "python",
   "pygments_lexer": "ipython3",
   "version": "3.7.3"
  }
 },
 "nbformat": 4,
 "nbformat_minor": 4
}
