{
 "cells": [
  {
   "cell_type": "markdown",
   "id": "found-victoria",
   "metadata": {},
   "source": [
    "# Maciej Gryszkiewicz\n",
    "## Praca Domowa nr 2"
   ]
  },
  {
   "cell_type": "code",
   "execution_count": 1,
   "id": "thirty-spain",
   "metadata": {},
   "outputs": [],
   "source": [
    "import pandas as pd\n",
    "import numpy as np\n",
    "import seaborn as sns\n",
    "import matplotlib.pyplot as plt\n",
    "import matplotlib\n",
    "import category_encoders as ce\n",
    "import random\n",
    "import warnings\n",
    "warnings.filterwarnings(\"ignore\")\n",
    "random.seed(42)"
   ]
  },
  {
   "cell_type": "code",
   "execution_count": 2,
   "id": "wireless-property",
   "metadata": {},
   "outputs": [],
   "source": [
    "transactions = pd.read_csv(\"allegro-api-transactions.csv\")"
   ]
  },
  {
   "cell_type": "code",
   "execution_count": 3,
   "id": "alpine-magnet",
   "metadata": {},
   "outputs": [
    {
     "data": {
      "text/html": [
       "<div>\n",
       "<style scoped>\n",
       "    .dataframe tbody tr th:only-of-type {\n",
       "        vertical-align: middle;\n",
       "    }\n",
       "\n",
       "    .dataframe tbody tr th {\n",
       "        vertical-align: top;\n",
       "    }\n",
       "\n",
       "    .dataframe thead th {\n",
       "        text-align: right;\n",
       "    }\n",
       "</style>\n",
       "<table border=\"1\" class=\"dataframe\">\n",
       "  <thead>\n",
       "    <tr style=\"text-align: right;\">\n",
       "      <th></th>\n",
       "      <th>lp</th>\n",
       "      <th>date</th>\n",
       "      <th>item_id</th>\n",
       "      <th>categories</th>\n",
       "      <th>pay_option_on_delivery</th>\n",
       "      <th>pay_option_transfer</th>\n",
       "      <th>seller</th>\n",
       "      <th>price</th>\n",
       "      <th>it_is_allegro_standard</th>\n",
       "      <th>it_quantity</th>\n",
       "      <th>it_is_brand_zone</th>\n",
       "      <th>it_seller_rating</th>\n",
       "      <th>it_location</th>\n",
       "      <th>main_category</th>\n",
       "    </tr>\n",
       "  </thead>\n",
       "  <tbody>\n",
       "    <tr>\n",
       "      <th>0</th>\n",
       "      <td>0</td>\n",
       "      <td>2016-04-03 21:21:08</td>\n",
       "      <td>4753602474</td>\n",
       "      <td>['Komputery', 'Dyski i napędy', 'Nośniki', 'No...</td>\n",
       "      <td>1</td>\n",
       "      <td>1</td>\n",
       "      <td>radzioch666</td>\n",
       "      <td>59.99</td>\n",
       "      <td>1</td>\n",
       "      <td>997</td>\n",
       "      <td>0</td>\n",
       "      <td>50177</td>\n",
       "      <td>Warszawa</td>\n",
       "      <td>Komputery</td>\n",
       "    </tr>\n",
       "    <tr>\n",
       "      <th>1</th>\n",
       "      <td>1</td>\n",
       "      <td>2016-04-03 15:35:26</td>\n",
       "      <td>4773181874</td>\n",
       "      <td>['Odzież, Obuwie, Dodatki', 'Bielizna damska',...</td>\n",
       "      <td>1</td>\n",
       "      <td>1</td>\n",
       "      <td>InwestycjeNET</td>\n",
       "      <td>4.90</td>\n",
       "      <td>1</td>\n",
       "      <td>9288</td>\n",
       "      <td>0</td>\n",
       "      <td>12428</td>\n",
       "      <td>Warszawa</td>\n",
       "      <td>Odzież, Obuwie, Dodatki</td>\n",
       "    </tr>\n",
       "    <tr>\n",
       "      <th>2</th>\n",
       "      <td>2</td>\n",
       "      <td>2016-04-03 14:14:31</td>\n",
       "      <td>4781627074</td>\n",
       "      <td>['Dom i Ogród', 'Budownictwo i Akcesoria', 'Śc...</td>\n",
       "      <td>1</td>\n",
       "      <td>1</td>\n",
       "      <td>otostyl_com</td>\n",
       "      <td>109.90</td>\n",
       "      <td>1</td>\n",
       "      <td>895</td>\n",
       "      <td>0</td>\n",
       "      <td>7389</td>\n",
       "      <td>Leszno</td>\n",
       "      <td>Dom i Ogród</td>\n",
       "    </tr>\n",
       "  </tbody>\n",
       "</table>\n",
       "</div>"
      ],
      "text/plain": [
       "   lp                 date     item_id  \\\n",
       "0   0  2016-04-03 21:21:08  4753602474   \n",
       "1   1  2016-04-03 15:35:26  4773181874   \n",
       "2   2  2016-04-03 14:14:31  4781627074   \n",
       "\n",
       "                                          categories  pay_option_on_delivery  \\\n",
       "0  ['Komputery', 'Dyski i napędy', 'Nośniki', 'No...                       1   \n",
       "1  ['Odzież, Obuwie, Dodatki', 'Bielizna damska',...                       1   \n",
       "2  ['Dom i Ogród', 'Budownictwo i Akcesoria', 'Śc...                       1   \n",
       "\n",
       "   pay_option_transfer         seller   price  it_is_allegro_standard  \\\n",
       "0                    1    radzioch666   59.99                       1   \n",
       "1                    1  InwestycjeNET    4.90                       1   \n",
       "2                    1    otostyl_com  109.90                       1   \n",
       "\n",
       "   it_quantity  it_is_brand_zone  it_seller_rating it_location  \\\n",
       "0          997                 0             50177    Warszawa   \n",
       "1         9288                 0             12428    Warszawa   \n",
       "2          895                 0              7389      Leszno   \n",
       "\n",
       "             main_category  \n",
       "0                Komputery  \n",
       "1  Odzież, Obuwie, Dodatki  \n",
       "2              Dom i Ogród  "
      ]
     },
     "execution_count": 3,
     "metadata": {},
     "output_type": "execute_result"
    }
   ],
   "source": [
    "transactions.head(3)"
   ]
  },
  {
   "cell_type": "code",
   "execution_count": 4,
   "id": "enormous-french",
   "metadata": {},
   "outputs": [
    {
     "name": "stdout",
     "output_type": "stream",
     "text": [
      "<class 'pandas.core.frame.DataFrame'>\n",
      "RangeIndex: 420020 entries, 0 to 420019\n",
      "Data columns (total 14 columns):\n",
      " #   Column                  Non-Null Count   Dtype  \n",
      "---  ------                  --------------   -----  \n",
      " 0   lp                      420020 non-null  int64  \n",
      " 1   date                    420020 non-null  object \n",
      " 2   item_id                 420020 non-null  int64  \n",
      " 3   categories              420020 non-null  object \n",
      " 4   pay_option_on_delivery  420020 non-null  int64  \n",
      " 5   pay_option_transfer     420020 non-null  int64  \n",
      " 6   seller                  420020 non-null  object \n",
      " 7   price                   420020 non-null  float64\n",
      " 8   it_is_allegro_standard  420020 non-null  int64  \n",
      " 9   it_quantity             420020 non-null  int64  \n",
      " 10  it_is_brand_zone        420020 non-null  int64  \n",
      " 11  it_seller_rating        420020 non-null  int64  \n",
      " 12  it_location             420020 non-null  object \n",
      " 13  main_category           420020 non-null  object \n",
      "dtypes: float64(1), int64(8), object(5)\n",
      "memory usage: 44.9+ MB\n"
     ]
    }
   ],
   "source": [
    "transactions.info()"
   ]
  },
  {
   "cell_type": "code",
   "execution_count": 5,
   "id": "passive-replication",
   "metadata": {},
   "outputs": [
    {
     "data": {
      "text/html": [
       "<div>\n",
       "<style scoped>\n",
       "    .dataframe tbody tr th:only-of-type {\n",
       "        vertical-align: middle;\n",
       "    }\n",
       "\n",
       "    .dataframe tbody tr th {\n",
       "        vertical-align: top;\n",
       "    }\n",
       "\n",
       "    .dataframe thead th {\n",
       "        text-align: right;\n",
       "    }\n",
       "</style>\n",
       "<table border=\"1\" class=\"dataframe\">\n",
       "  <thead>\n",
       "    <tr style=\"text-align: right;\">\n",
       "      <th></th>\n",
       "      <th>lp</th>\n",
       "      <th>item_id</th>\n",
       "      <th>pay_option_on_delivery</th>\n",
       "      <th>pay_option_transfer</th>\n",
       "      <th>price</th>\n",
       "      <th>it_is_allegro_standard</th>\n",
       "      <th>it_quantity</th>\n",
       "      <th>it_is_brand_zone</th>\n",
       "      <th>it_seller_rating</th>\n",
       "    </tr>\n",
       "  </thead>\n",
       "  <tbody>\n",
       "    <tr>\n",
       "      <th>count</th>\n",
       "      <td>420020.000000</td>\n",
       "      <td>4.200200e+05</td>\n",
       "      <td>420020.000000</td>\n",
       "      <td>420020.000000</td>\n",
       "      <td>420020.000000</td>\n",
       "      <td>420020.000000</td>\n",
       "      <td>420020.000000</td>\n",
       "      <td>420020.000000</td>\n",
       "      <td>420020.000000</td>\n",
       "    </tr>\n",
       "    <tr>\n",
       "      <th>mean</th>\n",
       "      <td>210009.500000</td>\n",
       "      <td>5.809067e+09</td>\n",
       "      <td>0.877972</td>\n",
       "      <td>0.812495</td>\n",
       "      <td>76.811350</td>\n",
       "      <td>0.583456</td>\n",
       "      <td>6748.274823</td>\n",
       "      <td>0.016694</td>\n",
       "      <td>20402.593496</td>\n",
       "    </tr>\n",
       "    <tr>\n",
       "      <th>std</th>\n",
       "      <td>121249.474369</td>\n",
       "      <td>3.387402e+08</td>\n",
       "      <td>0.327318</td>\n",
       "      <td>0.390317</td>\n",
       "      <td>390.326271</td>\n",
       "      <td>0.492987</td>\n",
       "      <td>23387.248064</td>\n",
       "      <td>0.128124</td>\n",
       "      <td>36682.898636</td>\n",
       "    </tr>\n",
       "    <tr>\n",
       "      <th>min</th>\n",
       "      <td>0.000000</td>\n",
       "      <td>4.179879e+09</td>\n",
       "      <td>0.000000</td>\n",
       "      <td>0.000000</td>\n",
       "      <td>0.000000</td>\n",
       "      <td>0.000000</td>\n",
       "      <td>0.000000</td>\n",
       "      <td>0.000000</td>\n",
       "      <td>-1.000000</td>\n",
       "    </tr>\n",
       "    <tr>\n",
       "      <th>25%</th>\n",
       "      <td>105004.750000</td>\n",
       "      <td>5.652990e+09</td>\n",
       "      <td>1.000000</td>\n",
       "      <td>1.000000</td>\n",
       "      <td>9.000000</td>\n",
       "      <td>0.000000</td>\n",
       "      <td>6.000000</td>\n",
       "      <td>0.000000</td>\n",
       "      <td>1581.000000</td>\n",
       "    </tr>\n",
       "    <tr>\n",
       "      <th>50%</th>\n",
       "      <td>210009.500000</td>\n",
       "      <td>5.968052e+09</td>\n",
       "      <td>1.000000</td>\n",
       "      <td>1.000000</td>\n",
       "      <td>24.990000</td>\n",
       "      <td>1.000000</td>\n",
       "      <td>95.000000</td>\n",
       "      <td>0.000000</td>\n",
       "      <td>6711.000000</td>\n",
       "    </tr>\n",
       "    <tr>\n",
       "      <th>75%</th>\n",
       "      <td>315014.250000</td>\n",
       "      <td>6.070760e+09</td>\n",
       "      <td>1.000000</td>\n",
       "      <td>1.000000</td>\n",
       "      <td>68.450000</td>\n",
       "      <td>1.000000</td>\n",
       "      <td>931.000000</td>\n",
       "      <td>0.000000</td>\n",
       "      <td>21007.000000</td>\n",
       "    </tr>\n",
       "    <tr>\n",
       "      <th>max</th>\n",
       "      <td>420019.000000</td>\n",
       "      <td>6.099927e+09</td>\n",
       "      <td>1.000000</td>\n",
       "      <td>1.000000</td>\n",
       "      <td>119000.000000</td>\n",
       "      <td>1.000000</td>\n",
       "      <td>99999.000000</td>\n",
       "      <td>1.000000</td>\n",
       "      <td>292074.000000</td>\n",
       "    </tr>\n",
       "  </tbody>\n",
       "</table>\n",
       "</div>"
      ],
      "text/plain": [
       "                  lp       item_id  pay_option_on_delivery  \\\n",
       "count  420020.000000  4.200200e+05           420020.000000   \n",
       "mean   210009.500000  5.809067e+09                0.877972   \n",
       "std    121249.474369  3.387402e+08                0.327318   \n",
       "min         0.000000  4.179879e+09                0.000000   \n",
       "25%    105004.750000  5.652990e+09                1.000000   \n",
       "50%    210009.500000  5.968052e+09                1.000000   \n",
       "75%    315014.250000  6.070760e+09                1.000000   \n",
       "max    420019.000000  6.099927e+09                1.000000   \n",
       "\n",
       "       pay_option_transfer          price  it_is_allegro_standard  \\\n",
       "count        420020.000000  420020.000000           420020.000000   \n",
       "mean              0.812495      76.811350                0.583456   \n",
       "std               0.390317     390.326271                0.492987   \n",
       "min               0.000000       0.000000                0.000000   \n",
       "25%               1.000000       9.000000                0.000000   \n",
       "50%               1.000000      24.990000                1.000000   \n",
       "75%               1.000000      68.450000                1.000000   \n",
       "max               1.000000  119000.000000                1.000000   \n",
       "\n",
       "         it_quantity  it_is_brand_zone  it_seller_rating  \n",
       "count  420020.000000     420020.000000     420020.000000  \n",
       "mean     6748.274823          0.016694      20402.593496  \n",
       "std     23387.248064          0.128124      36682.898636  \n",
       "min         0.000000          0.000000         -1.000000  \n",
       "25%         6.000000          0.000000       1581.000000  \n",
       "50%        95.000000          0.000000       6711.000000  \n",
       "75%       931.000000          0.000000      21007.000000  \n",
       "max     99999.000000          1.000000     292074.000000  "
      ]
     },
     "execution_count": 5,
     "metadata": {},
     "output_type": "execute_result"
    }
   ],
   "source": [
    "transactions.describe()"
   ]
  },
  {
   "cell_type": "markdown",
   "id": "growing-conclusion",
   "metadata": {},
   "source": [
    "# Podpunkt 1"
   ]
  },
  {
   "cell_type": "markdown",
   "id": "certain-result",
   "metadata": {},
   "source": [
    "Najpierw dzielimy nasz zbiór danych na zmienne objaśniające i zmienną celu."
   ]
  },
  {
   "cell_type": "code",
   "execution_count": 6,
   "id": "downtown-canada",
   "metadata": {},
   "outputs": [],
   "source": [
    "X = transactions.drop(\"price\", axis = 1)\n",
    "y = transactions[[\"price\"]]"
   ]
  },
  {
   "cell_type": "markdown",
   "id": "going-bachelor",
   "metadata": {},
   "source": [
    "Aby wykluczyć niespójne pisownie nazw miast, zamieniamy wszystkie litery na wielkie litery."
   ]
  },
  {
   "cell_type": "code",
   "execution_count": 7,
   "id": "young-measure",
   "metadata": {},
   "outputs": [
    {
     "data": {
      "text/html": [
       "<div>\n",
       "<style scoped>\n",
       "    .dataframe tbody tr th:only-of-type {\n",
       "        vertical-align: middle;\n",
       "    }\n",
       "\n",
       "    .dataframe tbody tr th {\n",
       "        vertical-align: top;\n",
       "    }\n",
       "\n",
       "    .dataframe thead th {\n",
       "        text-align: right;\n",
       "    }\n",
       "</style>\n",
       "<table border=\"1\" class=\"dataframe\">\n",
       "  <thead>\n",
       "    <tr style=\"text-align: right;\">\n",
       "      <th></th>\n",
       "      <th>it_location</th>\n",
       "    </tr>\n",
       "  </thead>\n",
       "  <tbody>\n",
       "    <tr>\n",
       "      <th>0</th>\n",
       "      <td>WARSZAWA</td>\n",
       "    </tr>\n",
       "    <tr>\n",
       "      <th>1</th>\n",
       "      <td>WARSZAWA</td>\n",
       "    </tr>\n",
       "    <tr>\n",
       "      <th>2</th>\n",
       "      <td>LESZNO</td>\n",
       "    </tr>\n",
       "    <tr>\n",
       "      <th>3</th>\n",
       "      <td>WOLA KRZYSZTOPORSKA</td>\n",
       "    </tr>\n",
       "    <tr>\n",
       "      <th>4</th>\n",
       "      <td>BIAŁYSTOK</td>\n",
       "    </tr>\n",
       "  </tbody>\n",
       "</table>\n",
       "</div>"
      ],
      "text/plain": [
       "           it_location\n",
       "0             WARSZAWA\n",
       "1             WARSZAWA\n",
       "2               LESZNO\n",
       "3  WOLA KRZYSZTOPORSKA\n",
       "4            BIAŁYSTOK"
      ]
     },
     "execution_count": 7,
     "metadata": {},
     "output_type": "execute_result"
    }
   ],
   "source": [
    "X[[\"it_location\"]] = X[[\"it_location\"]].apply(lambda x: x.astype(str).str.upper())\n",
    "X[[\"it_location\"]].head()"
   ]
  },
  {
   "cell_type": "markdown",
   "id": "checked-frequency",
   "metadata": {},
   "source": [
    "## TargetEncoding"
   ]
  },
  {
   "cell_type": "markdown",
   "id": "german-senator",
   "metadata": {},
   "source": [
    "Tworzymy encoder, dopasowywujemy go do naszych danych, a następnie encodujemy ramkę X."
   ]
  },
  {
   "cell_type": "code",
   "execution_count": 8,
   "id": "consolidated-zambia",
   "metadata": {},
   "outputs": [],
   "source": [
    "target_encoder = ce.TargetEncoder(cols = [\"it_location\"])\n",
    "target_encoder.fit(X, y)\n",
    "X_target_encoded = target_encoder.transform(X)"
   ]
  },
  {
   "cell_type": "code",
   "execution_count": 9,
   "id": "geological-insured",
   "metadata": {},
   "outputs": [
    {
     "data": {
      "text/html": [
       "<div>\n",
       "<style scoped>\n",
       "    .dataframe tbody tr th:only-of-type {\n",
       "        vertical-align: middle;\n",
       "    }\n",
       "\n",
       "    .dataframe tbody tr th {\n",
       "        vertical-align: top;\n",
       "    }\n",
       "\n",
       "    .dataframe thead th {\n",
       "        text-align: right;\n",
       "    }\n",
       "</style>\n",
       "<table border=\"1\" class=\"dataframe\">\n",
       "  <thead>\n",
       "    <tr style=\"text-align: right;\">\n",
       "      <th></th>\n",
       "      <th>lp</th>\n",
       "      <th>date</th>\n",
       "      <th>item_id</th>\n",
       "      <th>categories</th>\n",
       "      <th>pay_option_on_delivery</th>\n",
       "      <th>pay_option_transfer</th>\n",
       "      <th>seller</th>\n",
       "      <th>it_is_allegro_standard</th>\n",
       "      <th>it_quantity</th>\n",
       "      <th>it_is_brand_zone</th>\n",
       "      <th>it_seller_rating</th>\n",
       "      <th>it_location</th>\n",
       "      <th>main_category</th>\n",
       "    </tr>\n",
       "  </thead>\n",
       "  <tbody>\n",
       "    <tr>\n",
       "      <th>0</th>\n",
       "      <td>0</td>\n",
       "      <td>2016-04-03 21:21:08</td>\n",
       "      <td>4753602474</td>\n",
       "      <td>['Komputery', 'Dyski i napędy', 'Nośniki', 'No...</td>\n",
       "      <td>1</td>\n",
       "      <td>1</td>\n",
       "      <td>radzioch666</td>\n",
       "      <td>1</td>\n",
       "      <td>997</td>\n",
       "      <td>0</td>\n",
       "      <td>50177</td>\n",
       "      <td>84.132898</td>\n",
       "      <td>Komputery</td>\n",
       "    </tr>\n",
       "    <tr>\n",
       "      <th>1</th>\n",
       "      <td>1</td>\n",
       "      <td>2016-04-03 15:35:26</td>\n",
       "      <td>4773181874</td>\n",
       "      <td>['Odzież, Obuwie, Dodatki', 'Bielizna damska',...</td>\n",
       "      <td>1</td>\n",
       "      <td>1</td>\n",
       "      <td>InwestycjeNET</td>\n",
       "      <td>1</td>\n",
       "      <td>9288</td>\n",
       "      <td>0</td>\n",
       "      <td>12428</td>\n",
       "      <td>84.132898</td>\n",
       "      <td>Odzież, Obuwie, Dodatki</td>\n",
       "    </tr>\n",
       "    <tr>\n",
       "      <th>2</th>\n",
       "      <td>2</td>\n",
       "      <td>2016-04-03 14:14:31</td>\n",
       "      <td>4781627074</td>\n",
       "      <td>['Dom i Ogród', 'Budownictwo i Akcesoria', 'Śc...</td>\n",
       "      <td>1</td>\n",
       "      <td>1</td>\n",
       "      <td>otostyl_com</td>\n",
       "      <td>1</td>\n",
       "      <td>895</td>\n",
       "      <td>0</td>\n",
       "      <td>7389</td>\n",
       "      <td>64.883187</td>\n",
       "      <td>Dom i Ogród</td>\n",
       "    </tr>\n",
       "    <tr>\n",
       "      <th>3</th>\n",
       "      <td>3</td>\n",
       "      <td>2016-04-03 19:55:44</td>\n",
       "      <td>4783971474</td>\n",
       "      <td>['Książki i Komiksy', 'Poradniki i albumy', 'Z...</td>\n",
       "      <td>1</td>\n",
       "      <td>1</td>\n",
       "      <td>Matfel1</td>\n",
       "      <td>0</td>\n",
       "      <td>971</td>\n",
       "      <td>0</td>\n",
       "      <td>15006</td>\n",
       "      <td>35.433365</td>\n",
       "      <td>Książki i Komiksy</td>\n",
       "    </tr>\n",
       "    <tr>\n",
       "      <th>4</th>\n",
       "      <td>4</td>\n",
       "      <td>2016-04-03 18:05:54</td>\n",
       "      <td>4787908274</td>\n",
       "      <td>['Odzież, Obuwie, Dodatki', 'Ślub i wesele', '...</td>\n",
       "      <td>1</td>\n",
       "      <td>1</td>\n",
       "      <td>PPHU_RICO</td>\n",
       "      <td>1</td>\n",
       "      <td>950</td>\n",
       "      <td>0</td>\n",
       "      <td>32975</td>\n",
       "      <td>73.772916</td>\n",
       "      <td>Odzież, Obuwie, Dodatki</td>\n",
       "    </tr>\n",
       "  </tbody>\n",
       "</table>\n",
       "</div>"
      ],
      "text/plain": [
       "   lp                 date     item_id  \\\n",
       "0   0  2016-04-03 21:21:08  4753602474   \n",
       "1   1  2016-04-03 15:35:26  4773181874   \n",
       "2   2  2016-04-03 14:14:31  4781627074   \n",
       "3   3  2016-04-03 19:55:44  4783971474   \n",
       "4   4  2016-04-03 18:05:54  4787908274   \n",
       "\n",
       "                                          categories  pay_option_on_delivery  \\\n",
       "0  ['Komputery', 'Dyski i napędy', 'Nośniki', 'No...                       1   \n",
       "1  ['Odzież, Obuwie, Dodatki', 'Bielizna damska',...                       1   \n",
       "2  ['Dom i Ogród', 'Budownictwo i Akcesoria', 'Śc...                       1   \n",
       "3  ['Książki i Komiksy', 'Poradniki i albumy', 'Z...                       1   \n",
       "4  ['Odzież, Obuwie, Dodatki', 'Ślub i wesele', '...                       1   \n",
       "\n",
       "   pay_option_transfer         seller  it_is_allegro_standard  it_quantity  \\\n",
       "0                    1    radzioch666                       1          997   \n",
       "1                    1  InwestycjeNET                       1         9288   \n",
       "2                    1    otostyl_com                       1          895   \n",
       "3                    1        Matfel1                       0          971   \n",
       "4                    1      PPHU_RICO                       1          950   \n",
       "\n",
       "   it_is_brand_zone  it_seller_rating  it_location            main_category  \n",
       "0                 0             50177    84.132898                Komputery  \n",
       "1                 0             12428    84.132898  Odzież, Obuwie, Dodatki  \n",
       "2                 0              7389    64.883187              Dom i Ogród  \n",
       "3                 0             15006    35.433365        Książki i Komiksy  \n",
       "4                 0             32975    73.772916  Odzież, Obuwie, Dodatki  "
      ]
     },
     "execution_count": 9,
     "metadata": {},
     "output_type": "execute_result"
    }
   ],
   "source": [
    "X_target_encoded.head()"
   ]
  },
  {
   "cell_type": "markdown",
   "id": "tribal-declaration",
   "metadata": {},
   "source": [
    "TargetEncoding liczy średnią wartość zmiennej celu (w tym wypadku jest to cena) i zastępuje zmienna kategoryczną (tutaj it_location) średnią wyliczoną dla tej kategorii.\\\n",
    "Rozwiązanie sprawia to, że w dalszym ciągu mamy tylko jedną kolumnę określającą *it_location*, a więc ramka danych nie zostaje powiększona. Wadą tej metody jest to, że jej wynik zależny jest od rozkładu zmiennej celu. Można sobie wyobrazić również sytuację, w której dwie różne kategorię mają te samą średnią zmiennej celu (a więc dla modelu staną się one nierozróżnialne). Jest to przypadek mało prawdopodbny, ale możliwy."
   ]
  },
  {
   "cell_type": "markdown",
   "id": "heavy-machinery",
   "metadata": {},
   "source": [
    "## Metoda nr 1 - OneHotEncoding"
   ]
  },
  {
   "cell_type": "code",
   "execution_count": 10,
   "id": "fixed-stroke",
   "metadata": {},
   "outputs": [
    {
     "data": {
      "text/html": [
       "<div>\n",
       "<style scoped>\n",
       "    .dataframe tbody tr th:only-of-type {\n",
       "        vertical-align: middle;\n",
       "    }\n",
       "\n",
       "    .dataframe tbody tr th {\n",
       "        vertical-align: top;\n",
       "    }\n",
       "\n",
       "    .dataframe thead th {\n",
       "        text-align: right;\n",
       "    }\n",
       "</style>\n",
       "<table border=\"1\" class=\"dataframe\">\n",
       "  <thead>\n",
       "    <tr style=\"text-align: right;\">\n",
       "      <th></th>\n",
       "      <th>lp</th>\n",
       "      <th>date</th>\n",
       "      <th>item_id</th>\n",
       "      <th>categories</th>\n",
       "      <th>pay_option_on_delivery</th>\n",
       "      <th>pay_option_transfer</th>\n",
       "      <th>seller</th>\n",
       "      <th>it_is_allegro_standard</th>\n",
       "      <th>it_quantity</th>\n",
       "      <th>it_is_brand_zone</th>\n",
       "      <th>...</th>\n",
       "      <th>main_category_18</th>\n",
       "      <th>main_category_19</th>\n",
       "      <th>main_category_20</th>\n",
       "      <th>main_category_21</th>\n",
       "      <th>main_category_22</th>\n",
       "      <th>main_category_23</th>\n",
       "      <th>main_category_24</th>\n",
       "      <th>main_category_25</th>\n",
       "      <th>main_category_26</th>\n",
       "      <th>main_category_27</th>\n",
       "    </tr>\n",
       "  </thead>\n",
       "  <tbody>\n",
       "    <tr>\n",
       "      <th>0</th>\n",
       "      <td>0</td>\n",
       "      <td>2016-04-03 21:21:08</td>\n",
       "      <td>4753602474</td>\n",
       "      <td>['Komputery', 'Dyski i napędy', 'Nośniki', 'No...</td>\n",
       "      <td>1</td>\n",
       "      <td>1</td>\n",
       "      <td>radzioch666</td>\n",
       "      <td>1</td>\n",
       "      <td>997</td>\n",
       "      <td>0</td>\n",
       "      <td>...</td>\n",
       "      <td>0</td>\n",
       "      <td>0</td>\n",
       "      <td>0</td>\n",
       "      <td>0</td>\n",
       "      <td>0</td>\n",
       "      <td>0</td>\n",
       "      <td>0</td>\n",
       "      <td>0</td>\n",
       "      <td>0</td>\n",
       "      <td>0</td>\n",
       "    </tr>\n",
       "    <tr>\n",
       "      <th>1</th>\n",
       "      <td>1</td>\n",
       "      <td>2016-04-03 15:35:26</td>\n",
       "      <td>4773181874</td>\n",
       "      <td>['Odzież, Obuwie, Dodatki', 'Bielizna damska',...</td>\n",
       "      <td>1</td>\n",
       "      <td>1</td>\n",
       "      <td>InwestycjeNET</td>\n",
       "      <td>1</td>\n",
       "      <td>9288</td>\n",
       "      <td>0</td>\n",
       "      <td>...</td>\n",
       "      <td>0</td>\n",
       "      <td>0</td>\n",
       "      <td>0</td>\n",
       "      <td>0</td>\n",
       "      <td>0</td>\n",
       "      <td>0</td>\n",
       "      <td>0</td>\n",
       "      <td>0</td>\n",
       "      <td>0</td>\n",
       "      <td>0</td>\n",
       "    </tr>\n",
       "    <tr>\n",
       "      <th>2</th>\n",
       "      <td>2</td>\n",
       "      <td>2016-04-03 14:14:31</td>\n",
       "      <td>4781627074</td>\n",
       "      <td>['Dom i Ogród', 'Budownictwo i Akcesoria', 'Śc...</td>\n",
       "      <td>1</td>\n",
       "      <td>1</td>\n",
       "      <td>otostyl_com</td>\n",
       "      <td>1</td>\n",
       "      <td>895</td>\n",
       "      <td>0</td>\n",
       "      <td>...</td>\n",
       "      <td>0</td>\n",
       "      <td>0</td>\n",
       "      <td>0</td>\n",
       "      <td>0</td>\n",
       "      <td>0</td>\n",
       "      <td>0</td>\n",
       "      <td>0</td>\n",
       "      <td>0</td>\n",
       "      <td>0</td>\n",
       "      <td>0</td>\n",
       "    </tr>\n",
       "    <tr>\n",
       "      <th>3</th>\n",
       "      <td>3</td>\n",
       "      <td>2016-04-03 19:55:44</td>\n",
       "      <td>4783971474</td>\n",
       "      <td>['Książki i Komiksy', 'Poradniki i albumy', 'Z...</td>\n",
       "      <td>1</td>\n",
       "      <td>1</td>\n",
       "      <td>Matfel1</td>\n",
       "      <td>0</td>\n",
       "      <td>971</td>\n",
       "      <td>0</td>\n",
       "      <td>...</td>\n",
       "      <td>0</td>\n",
       "      <td>0</td>\n",
       "      <td>0</td>\n",
       "      <td>0</td>\n",
       "      <td>0</td>\n",
       "      <td>0</td>\n",
       "      <td>0</td>\n",
       "      <td>0</td>\n",
       "      <td>0</td>\n",
       "      <td>0</td>\n",
       "    </tr>\n",
       "    <tr>\n",
       "      <th>4</th>\n",
       "      <td>4</td>\n",
       "      <td>2016-04-03 18:05:54</td>\n",
       "      <td>4787908274</td>\n",
       "      <td>['Odzież, Obuwie, Dodatki', 'Ślub i wesele', '...</td>\n",
       "      <td>1</td>\n",
       "      <td>1</td>\n",
       "      <td>PPHU_RICO</td>\n",
       "      <td>1</td>\n",
       "      <td>950</td>\n",
       "      <td>0</td>\n",
       "      <td>...</td>\n",
       "      <td>0</td>\n",
       "      <td>0</td>\n",
       "      <td>0</td>\n",
       "      <td>0</td>\n",
       "      <td>0</td>\n",
       "      <td>0</td>\n",
       "      <td>0</td>\n",
       "      <td>0</td>\n",
       "      <td>0</td>\n",
       "      <td>0</td>\n",
       "    </tr>\n",
       "  </tbody>\n",
       "</table>\n",
       "<p>5 rows × 39 columns</p>\n",
       "</div>"
      ],
      "text/plain": [
       "   lp                 date     item_id  \\\n",
       "0   0  2016-04-03 21:21:08  4753602474   \n",
       "1   1  2016-04-03 15:35:26  4773181874   \n",
       "2   2  2016-04-03 14:14:31  4781627074   \n",
       "3   3  2016-04-03 19:55:44  4783971474   \n",
       "4   4  2016-04-03 18:05:54  4787908274   \n",
       "\n",
       "                                          categories  pay_option_on_delivery  \\\n",
       "0  ['Komputery', 'Dyski i napędy', 'Nośniki', 'No...                       1   \n",
       "1  ['Odzież, Obuwie, Dodatki', 'Bielizna damska',...                       1   \n",
       "2  ['Dom i Ogród', 'Budownictwo i Akcesoria', 'Śc...                       1   \n",
       "3  ['Książki i Komiksy', 'Poradniki i albumy', 'Z...                       1   \n",
       "4  ['Odzież, Obuwie, Dodatki', 'Ślub i wesele', '...                       1   \n",
       "\n",
       "   pay_option_transfer         seller  it_is_allegro_standard  it_quantity  \\\n",
       "0                    1    radzioch666                       1          997   \n",
       "1                    1  InwestycjeNET                       1         9288   \n",
       "2                    1    otostyl_com                       1          895   \n",
       "3                    1        Matfel1                       0          971   \n",
       "4                    1      PPHU_RICO                       1          950   \n",
       "\n",
       "   it_is_brand_zone  ...  main_category_18 main_category_19  main_category_20  \\\n",
       "0                 0  ...                 0                0                 0   \n",
       "1                 0  ...                 0                0                 0   \n",
       "2                 0  ...                 0                0                 0   \n",
       "3                 0  ...                 0                0                 0   \n",
       "4                 0  ...                 0                0                 0   \n",
       "\n",
       "   main_category_21  main_category_22  main_category_23  main_category_24  \\\n",
       "0                 0                 0                 0                 0   \n",
       "1                 0                 0                 0                 0   \n",
       "2                 0                 0                 0                 0   \n",
       "3                 0                 0                 0                 0   \n",
       "4                 0                 0                 0                 0   \n",
       "\n",
       "   main_category_25  main_category_26  main_category_27  \n",
       "0                 0                 0                 0  \n",
       "1                 0                 0                 0  \n",
       "2                 0                 0                 0  \n",
       "3                 0                 0                 0  \n",
       "4                 0                 0                 0  \n",
       "\n",
       "[5 rows x 39 columns]"
      ]
     },
     "execution_count": 10,
     "metadata": {},
     "output_type": "execute_result"
    }
   ],
   "source": [
    "one_hot_encoder = ce.OneHotEncoder(cols=[\"main_category\"])\n",
    "one_hot_encoder.fit(X, y)\n",
    "X_one_hot_encoded = one_hot_encoder.transform(X)\n",
    "X_one_hot_encoded.head()"
   ]
  },
  {
   "cell_type": "markdown",
   "id": "sacred-procedure",
   "metadata": {},
   "source": [
    "Jak widać OneHotEncoder dodał nam do ramki danych 28 kolumn. Rozwiązanie to zwiększa znacząco naszą ramkę danych, zwłaszcza w przypadku bardziej zróżnicowanych zmiennych kategorycznych. Dla przykładu, jeśli próbowalibyśmy zakodować kolumnę *it_location* za pomocą OneHotEncoding nasza ramka danych zostałaby poszerzona o ponad 700 nowych kolumn. Dużą zaletą tego rozwiązania jest to, że kodowanie OneHot w żaden sposób nie zmienia znaczenia kodowanych danych. W dalszym ciągu pokazują one przynależność do określonej kategorii jednak jest to teraz zrozumiałe również dla komputera."
   ]
  },
  {
   "cell_type": "markdown",
   "id": "treated-strip",
   "metadata": {},
   "source": [
    "## Metoda nr 2 - HashingEncoding"
   ]
  },
  {
   "cell_type": "code",
   "execution_count": 11,
   "id": "undefined-negotiation",
   "metadata": {
    "scrolled": false
   },
   "outputs": [
    {
     "data": {
      "text/html": [
       "<div>\n",
       "<style scoped>\n",
       "    .dataframe tbody tr th:only-of-type {\n",
       "        vertical-align: middle;\n",
       "    }\n",
       "\n",
       "    .dataframe tbody tr th {\n",
       "        vertical-align: top;\n",
       "    }\n",
       "\n",
       "    .dataframe thead th {\n",
       "        text-align: right;\n",
       "    }\n",
       "</style>\n",
       "<table border=\"1\" class=\"dataframe\">\n",
       "  <thead>\n",
       "    <tr style=\"text-align: right;\">\n",
       "      <th></th>\n",
       "      <th>lp</th>\n",
       "      <th>date</th>\n",
       "      <th>item_id</th>\n",
       "      <th>categories</th>\n",
       "      <th>pay_option_on_delivery</th>\n",
       "      <th>pay_option_transfer</th>\n",
       "      <th>seller</th>\n",
       "      <th>it_is_allegro_standard</th>\n",
       "      <th>it_quantity</th>\n",
       "      <th>it_is_brand_zone</th>\n",
       "      <th>it_seller_rating</th>\n",
       "      <th>it_location</th>\n",
       "      <th>main_category_0</th>\n",
       "      <th>main_category_1</th>\n",
       "      <th>main_category_2</th>\n",
       "      <th>main_category_3</th>\n",
       "      <th>main_category_4</th>\n",
       "      <th>main_category_5</th>\n",
       "    </tr>\n",
       "  </thead>\n",
       "  <tbody>\n",
       "    <tr>\n",
       "      <th>0</th>\n",
       "      <td>0</td>\n",
       "      <td>2016-04-03 21:21:08</td>\n",
       "      <td>4753602474</td>\n",
       "      <td>['Komputery', 'Dyski i napędy', 'Nośniki', 'No...</td>\n",
       "      <td>1</td>\n",
       "      <td>1</td>\n",
       "      <td>radzioch666</td>\n",
       "      <td>1</td>\n",
       "      <td>997</td>\n",
       "      <td>0</td>\n",
       "      <td>50177</td>\n",
       "      <td>WARSZAWA</td>\n",
       "      <td>0</td>\n",
       "      <td>0</td>\n",
       "      <td>0</td>\n",
       "      <td>0</td>\n",
       "      <td>0</td>\n",
       "      <td>1</td>\n",
       "    </tr>\n",
       "    <tr>\n",
       "      <th>1</th>\n",
       "      <td>1</td>\n",
       "      <td>2016-04-03 15:35:26</td>\n",
       "      <td>4773181874</td>\n",
       "      <td>['Odzież, Obuwie, Dodatki', 'Bielizna damska',...</td>\n",
       "      <td>1</td>\n",
       "      <td>1</td>\n",
       "      <td>InwestycjeNET</td>\n",
       "      <td>1</td>\n",
       "      <td>9288</td>\n",
       "      <td>0</td>\n",
       "      <td>12428</td>\n",
       "      <td>WARSZAWA</td>\n",
       "      <td>0</td>\n",
       "      <td>0</td>\n",
       "      <td>0</td>\n",
       "      <td>0</td>\n",
       "      <td>1</td>\n",
       "      <td>0</td>\n",
       "    </tr>\n",
       "    <tr>\n",
       "      <th>2</th>\n",
       "      <td>2</td>\n",
       "      <td>2016-04-03 14:14:31</td>\n",
       "      <td>4781627074</td>\n",
       "      <td>['Dom i Ogród', 'Budownictwo i Akcesoria', 'Śc...</td>\n",
       "      <td>1</td>\n",
       "      <td>1</td>\n",
       "      <td>otostyl_com</td>\n",
       "      <td>1</td>\n",
       "      <td>895</td>\n",
       "      <td>0</td>\n",
       "      <td>7389</td>\n",
       "      <td>LESZNO</td>\n",
       "      <td>0</td>\n",
       "      <td>0</td>\n",
       "      <td>0</td>\n",
       "      <td>0</td>\n",
       "      <td>1</td>\n",
       "      <td>1</td>\n",
       "    </tr>\n",
       "    <tr>\n",
       "      <th>3</th>\n",
       "      <td>3</td>\n",
       "      <td>2016-04-03 19:55:44</td>\n",
       "      <td>4783971474</td>\n",
       "      <td>['Książki i Komiksy', 'Poradniki i albumy', 'Z...</td>\n",
       "      <td>1</td>\n",
       "      <td>1</td>\n",
       "      <td>Matfel1</td>\n",
       "      <td>0</td>\n",
       "      <td>971</td>\n",
       "      <td>0</td>\n",
       "      <td>15006</td>\n",
       "      <td>WOLA KRZYSZTOPORSKA</td>\n",
       "      <td>0</td>\n",
       "      <td>0</td>\n",
       "      <td>0</td>\n",
       "      <td>1</td>\n",
       "      <td>0</td>\n",
       "      <td>0</td>\n",
       "    </tr>\n",
       "    <tr>\n",
       "      <th>4</th>\n",
       "      <td>4</td>\n",
       "      <td>2016-04-03 18:05:54</td>\n",
       "      <td>4787908274</td>\n",
       "      <td>['Odzież, Obuwie, Dodatki', 'Ślub i wesele', '...</td>\n",
       "      <td>1</td>\n",
       "      <td>1</td>\n",
       "      <td>PPHU_RICO</td>\n",
       "      <td>1</td>\n",
       "      <td>950</td>\n",
       "      <td>0</td>\n",
       "      <td>32975</td>\n",
       "      <td>BIAŁYSTOK</td>\n",
       "      <td>0</td>\n",
       "      <td>0</td>\n",
       "      <td>0</td>\n",
       "      <td>0</td>\n",
       "      <td>1</td>\n",
       "      <td>0</td>\n",
       "    </tr>\n",
       "  </tbody>\n",
       "</table>\n",
       "</div>"
      ],
      "text/plain": [
       "   lp                 date     item_id  \\\n",
       "0   0  2016-04-03 21:21:08  4753602474   \n",
       "1   1  2016-04-03 15:35:26  4773181874   \n",
       "2   2  2016-04-03 14:14:31  4781627074   \n",
       "3   3  2016-04-03 19:55:44  4783971474   \n",
       "4   4  2016-04-03 18:05:54  4787908274   \n",
       "\n",
       "                                          categories  pay_option_on_delivery  \\\n",
       "0  ['Komputery', 'Dyski i napędy', 'Nośniki', 'No...                       1   \n",
       "1  ['Odzież, Obuwie, Dodatki', 'Bielizna damska',...                       1   \n",
       "2  ['Dom i Ogród', 'Budownictwo i Akcesoria', 'Śc...                       1   \n",
       "3  ['Książki i Komiksy', 'Poradniki i albumy', 'Z...                       1   \n",
       "4  ['Odzież, Obuwie, Dodatki', 'Ślub i wesele', '...                       1   \n",
       "\n",
       "   pay_option_transfer         seller  it_is_allegro_standard  it_quantity  \\\n",
       "0                    1    radzioch666                       1          997   \n",
       "1                    1  InwestycjeNET                       1         9288   \n",
       "2                    1    otostyl_com                       1          895   \n",
       "3                    1        Matfel1                       0          971   \n",
       "4                    1      PPHU_RICO                       1          950   \n",
       "\n",
       "   it_is_brand_zone  it_seller_rating          it_location  main_category_0  \\\n",
       "0                 0             50177             WARSZAWA                0   \n",
       "1                 0             12428             WARSZAWA                0   \n",
       "2                 0              7389               LESZNO                0   \n",
       "3                 0             15006  WOLA KRZYSZTOPORSKA                0   \n",
       "4                 0             32975            BIAŁYSTOK                0   \n",
       "\n",
       "   main_category_1  main_category_2  main_category_3  main_category_4  \\\n",
       "0                0                0                0                0   \n",
       "1                0                0                0                1   \n",
       "2                0                0                0                1   \n",
       "3                0                0                1                0   \n",
       "4                0                0                0                1   \n",
       "\n",
       "   main_category_5  \n",
       "0                1  \n",
       "1                0  \n",
       "2                1  \n",
       "3                0  \n",
       "4                0  "
      ]
     },
     "execution_count": 11,
     "metadata": {},
     "output_type": "execute_result"
    }
   ],
   "source": [
    "binary_encoder = ce.BinaryEncoder(cols=[\"main_category\"])\n",
    "binary_encoder.fit(X, y)\n",
    "X_binary_encoded = binary_encoder.transform(X)\n",
    "X_binary_encoded.head()"
   ]
  },
  {
   "cell_type": "markdown",
   "id": "expanded-crazy",
   "metadata": {},
   "source": [
    "BinaryEncoding działa w bardzo podobny sposób co OneHotEncoding, jednak zamiast pojedyńczych jedynek korzysta on z kombinacji 0 i 1. Sprawia to, że ilość niezbędnych dodatkowych kolumn staję się dużo mniejsza. Niestety w dużym stopniu utrudnia to interpretację ramki danych przez człowieka (a przynajmniej na pierwszy rzut oka). "
   ]
  },
  {
   "cell_type": "markdown",
   "id": "together-converter",
   "metadata": {},
   "source": [
    "## Metoda nr 3 - CountEncoding"
   ]
  },
  {
   "cell_type": "code",
   "execution_count": 12,
   "id": "recorded-christian",
   "metadata": {},
   "outputs": [
    {
     "data": {
      "text/html": [
       "<div>\n",
       "<style scoped>\n",
       "    .dataframe tbody tr th:only-of-type {\n",
       "        vertical-align: middle;\n",
       "    }\n",
       "\n",
       "    .dataframe tbody tr th {\n",
       "        vertical-align: top;\n",
       "    }\n",
       "\n",
       "    .dataframe thead th {\n",
       "        text-align: right;\n",
       "    }\n",
       "</style>\n",
       "<table border=\"1\" class=\"dataframe\">\n",
       "  <thead>\n",
       "    <tr style=\"text-align: right;\">\n",
       "      <th></th>\n",
       "      <th>lp</th>\n",
       "      <th>date</th>\n",
       "      <th>item_id</th>\n",
       "      <th>categories</th>\n",
       "      <th>pay_option_on_delivery</th>\n",
       "      <th>pay_option_transfer</th>\n",
       "      <th>seller</th>\n",
       "      <th>it_is_allegro_standard</th>\n",
       "      <th>it_quantity</th>\n",
       "      <th>it_is_brand_zone</th>\n",
       "      <th>it_seller_rating</th>\n",
       "      <th>it_location</th>\n",
       "      <th>main_category</th>\n",
       "    </tr>\n",
       "  </thead>\n",
       "  <tbody>\n",
       "    <tr>\n",
       "      <th>0</th>\n",
       "      <td>0</td>\n",
       "      <td>2016-04-03 21:21:08</td>\n",
       "      <td>4753602474</td>\n",
       "      <td>['Komputery', 'Dyski i napędy', 'Nośniki', 'No...</td>\n",
       "      <td>1</td>\n",
       "      <td>1</td>\n",
       "      <td>radzioch666</td>\n",
       "      <td>1</td>\n",
       "      <td>997</td>\n",
       "      <td>0</td>\n",
       "      <td>50177</td>\n",
       "      <td>WARSZAWA</td>\n",
       "      <td>14491</td>\n",
       "    </tr>\n",
       "    <tr>\n",
       "      <th>1</th>\n",
       "      <td>1</td>\n",
       "      <td>2016-04-03 15:35:26</td>\n",
       "      <td>4773181874</td>\n",
       "      <td>['Odzież, Obuwie, Dodatki', 'Bielizna damska',...</td>\n",
       "      <td>1</td>\n",
       "      <td>1</td>\n",
       "      <td>InwestycjeNET</td>\n",
       "      <td>1</td>\n",
       "      <td>9288</td>\n",
       "      <td>0</td>\n",
       "      <td>12428</td>\n",
       "      <td>WARSZAWA</td>\n",
       "      <td>54257</td>\n",
       "    </tr>\n",
       "    <tr>\n",
       "      <th>2</th>\n",
       "      <td>2</td>\n",
       "      <td>2016-04-03 14:14:31</td>\n",
       "      <td>4781627074</td>\n",
       "      <td>['Dom i Ogród', 'Budownictwo i Akcesoria', 'Śc...</td>\n",
       "      <td>1</td>\n",
       "      <td>1</td>\n",
       "      <td>otostyl_com</td>\n",
       "      <td>1</td>\n",
       "      <td>895</td>\n",
       "      <td>0</td>\n",
       "      <td>7389</td>\n",
       "      <td>LESZNO</td>\n",
       "      <td>91042</td>\n",
       "    </tr>\n",
       "    <tr>\n",
       "      <th>3</th>\n",
       "      <td>3</td>\n",
       "      <td>2016-04-03 19:55:44</td>\n",
       "      <td>4783971474</td>\n",
       "      <td>['Książki i Komiksy', 'Poradniki i albumy', 'Z...</td>\n",
       "      <td>1</td>\n",
       "      <td>1</td>\n",
       "      <td>Matfel1</td>\n",
       "      <td>0</td>\n",
       "      <td>971</td>\n",
       "      <td>0</td>\n",
       "      <td>15006</td>\n",
       "      <td>WOLA KRZYSZTOPORSKA</td>\n",
       "      <td>11572</td>\n",
       "    </tr>\n",
       "    <tr>\n",
       "      <th>4</th>\n",
       "      <td>4</td>\n",
       "      <td>2016-04-03 18:05:54</td>\n",
       "      <td>4787908274</td>\n",
       "      <td>['Odzież, Obuwie, Dodatki', 'Ślub i wesele', '...</td>\n",
       "      <td>1</td>\n",
       "      <td>1</td>\n",
       "      <td>PPHU_RICO</td>\n",
       "      <td>1</td>\n",
       "      <td>950</td>\n",
       "      <td>0</td>\n",
       "      <td>32975</td>\n",
       "      <td>BIAŁYSTOK</td>\n",
       "      <td>54257</td>\n",
       "    </tr>\n",
       "  </tbody>\n",
       "</table>\n",
       "</div>"
      ],
      "text/plain": [
       "   lp                 date     item_id  \\\n",
       "0   0  2016-04-03 21:21:08  4753602474   \n",
       "1   1  2016-04-03 15:35:26  4773181874   \n",
       "2   2  2016-04-03 14:14:31  4781627074   \n",
       "3   3  2016-04-03 19:55:44  4783971474   \n",
       "4   4  2016-04-03 18:05:54  4787908274   \n",
       "\n",
       "                                          categories  pay_option_on_delivery  \\\n",
       "0  ['Komputery', 'Dyski i napędy', 'Nośniki', 'No...                       1   \n",
       "1  ['Odzież, Obuwie, Dodatki', 'Bielizna damska',...                       1   \n",
       "2  ['Dom i Ogród', 'Budownictwo i Akcesoria', 'Śc...                       1   \n",
       "3  ['Książki i Komiksy', 'Poradniki i albumy', 'Z...                       1   \n",
       "4  ['Odzież, Obuwie, Dodatki', 'Ślub i wesele', '...                       1   \n",
       "\n",
       "   pay_option_transfer         seller  it_is_allegro_standard  it_quantity  \\\n",
       "0                    1    radzioch666                       1          997   \n",
       "1                    1  InwestycjeNET                       1         9288   \n",
       "2                    1    otostyl_com                       1          895   \n",
       "3                    1        Matfel1                       0          971   \n",
       "4                    1      PPHU_RICO                       1          950   \n",
       "\n",
       "   it_is_brand_zone  it_seller_rating          it_location  main_category  \n",
       "0                 0             50177             WARSZAWA          14491  \n",
       "1                 0             12428             WARSZAWA          54257  \n",
       "2                 0              7389               LESZNO          91042  \n",
       "3                 0             15006  WOLA KRZYSZTOPORSKA          11572  \n",
       "4                 0             32975            BIAŁYSTOK          54257  "
      ]
     },
     "execution_count": 12,
     "metadata": {},
     "output_type": "execute_result"
    }
   ],
   "source": [
    "count_encoder = ce.CountEncoder(cols=[\"main_category\"])\n",
    "count_encoder.fit(X, y)\n",
    "X_count_encoded = count_encoder.transform(X)\n",
    "X_count_encoded.head()"
   ]
  },
  {
   "cell_type": "markdown",
   "id": "intimate-provider",
   "metadata": {},
   "source": [
    "CountEncoder liczy ilość wystąpień danej kategorii i podmienia zmienną kategoryczną na uzyskaną liczbę. W tym kodowaniu również może wystąpić przypadek, że dwie kategorie staną się nie do rozróżnienia (będą miały taką samą ilość wystąpień) i w ten sposób stracimy cenne informacje. Zaletą jest banalna implementacja i wymaganie tylko jednej kolumny na zakodowane informacje."
   ]
  },
  {
   "cell_type": "markdown",
   "id": "representative-fellowship",
   "metadata": {},
   "source": [
    "# Podpunkt 2"
   ]
  },
  {
   "cell_type": "code",
   "execution_count": 13,
   "id": "devoted-hypothetical",
   "metadata": {},
   "outputs": [],
   "source": [
    "from sklearn.impute import KNNImputer\n",
    "from sklearn.metrics import mean_squared_error\n",
    "# weźmy 10.000 losowych rekordów dla lepszej wydajności\n",
    "X_true = transactions[[\"price\", \"it_seller_rating\", \"it_quantity\"]].sample(n=10000)"
   ]
  },
  {
   "cell_type": "markdown",
   "id": "honey-determination",
   "metadata": {},
   "source": [
    "#### Wariant 1 - 10% danych z kolumny 'it_seller_rating' zamieniamy na wartości NaN"
   ]
  },
  {
   "cell_type": "code",
   "execution_count": 14,
   "id": "positive-cradle",
   "metadata": {
    "scrolled": false
   },
   "outputs": [],
   "source": [
    "mse_list = []\n",
    "for i in range(10):\n",
    "    # wybieramy losowo 10% rekordów, z których usuniemy dane\n",
    "    X_sample = X_true.sample(frac=0.1) \n",
    "    # zostępujemy 'it_seller_rating' w losowo wybranych rekordach wartością NaN\n",
    "    X_sample[[\"it_seller_rating\"]] = np.nan\n",
    "    # 'doklejamy' zmienione rekordy do reszty danych\n",
    "    X_partial = pd.concat([X_true, X_sample])\n",
    "    # usuwamy duplikaty zachowując ostatni rekord (w ten sposób zachowamy tylko rekordy zmienione)\n",
    "    X_partial = X_partial.loc[~X_partial.index.duplicated(keep='last')]\n",
    "    X_partial = X_partial.sort_index()\n",
    "\n",
    "    imputer = KNNImputer(n_neighbors=2, weights=\"uniform\")\n",
    "    X_pred = imputer.fit_transform(X_partial)\n",
    "\n",
    "    X_pred = pd.DataFrame(X_pred, columns=[\"price\", \"it_seller_rating\", \"it_quantity\"])\n",
    "    \n",
    "    mse_list.append(mean_squared_error(X_true[\"it_seller_rating\"], X_pred[\"it_seller_rating\"], squared=False).round(2))\n",
    "\n",
    "RMSE = pd.DataFrame(mse_list, columns=[\"it_seller_rating\"])"
   ]
  },
  {
   "cell_type": "markdown",
   "id": "numeric-ghost",
   "metadata": {},
   "source": [
    "RMSE w tym przypadku prezentują się następująco:"
   ]
  },
  {
   "cell_type": "code",
   "execution_count": 15,
   "id": "small-excitement",
   "metadata": {
    "scrolled": true
   },
   "outputs": [
    {
     "data": {
      "text/html": [
       "<div>\n",
       "<style scoped>\n",
       "    .dataframe tbody tr th:only-of-type {\n",
       "        vertical-align: middle;\n",
       "    }\n",
       "\n",
       "    .dataframe tbody tr th {\n",
       "        vertical-align: top;\n",
       "    }\n",
       "\n",
       "    .dataframe thead th {\n",
       "        text-align: right;\n",
       "    }\n",
       "</style>\n",
       "<table border=\"1\" class=\"dataframe\">\n",
       "  <thead>\n",
       "    <tr style=\"text-align: right;\">\n",
       "      <th></th>\n",
       "      <th>it_seller_rating</th>\n",
       "    </tr>\n",
       "  </thead>\n",
       "  <tbody>\n",
       "    <tr>\n",
       "      <th>0</th>\n",
       "      <td>51380.57</td>\n",
       "    </tr>\n",
       "    <tr>\n",
       "      <th>1</th>\n",
       "      <td>51645.59</td>\n",
       "    </tr>\n",
       "    <tr>\n",
       "      <th>2</th>\n",
       "      <td>51667.85</td>\n",
       "    </tr>\n",
       "    <tr>\n",
       "      <th>3</th>\n",
       "      <td>51553.27</td>\n",
       "    </tr>\n",
       "    <tr>\n",
       "      <th>4</th>\n",
       "      <td>51768.49</td>\n",
       "    </tr>\n",
       "    <tr>\n",
       "      <th>5</th>\n",
       "      <td>51626.60</td>\n",
       "    </tr>\n",
       "    <tr>\n",
       "      <th>6</th>\n",
       "      <td>51725.60</td>\n",
       "    </tr>\n",
       "    <tr>\n",
       "      <th>7</th>\n",
       "      <td>51468.10</td>\n",
       "    </tr>\n",
       "    <tr>\n",
       "      <th>8</th>\n",
       "      <td>51771.29</td>\n",
       "    </tr>\n",
       "    <tr>\n",
       "      <th>9</th>\n",
       "      <td>51697.90</td>\n",
       "    </tr>\n",
       "  </tbody>\n",
       "</table>\n",
       "</div>"
      ],
      "text/plain": [
       "   it_seller_rating\n",
       "0          51380.57\n",
       "1          51645.59\n",
       "2          51667.85\n",
       "3          51553.27\n",
       "4          51768.49\n",
       "5          51626.60\n",
       "6          51725.60\n",
       "7          51468.10\n",
       "8          51771.29\n",
       "9          51697.90"
      ]
     },
     "execution_count": 15,
     "metadata": {},
     "output_type": "execute_result"
    }
   ],
   "source": [
    "RMSE"
   ]
  },
  {
   "cell_type": "markdown",
   "id": "rolled-movie",
   "metadata": {},
   "source": [
    "A odchylenie standardowe z tych danych to:"
   ]
  },
  {
   "cell_type": "code",
   "execution_count": 16,
   "id": "reasonable-seeking",
   "metadata": {
    "scrolled": true
   },
   "outputs": [
    {
     "data": {
      "text/plain": [
       "it_seller_rating    122.02\n",
       "dtype: float64"
      ]
     },
     "execution_count": 16,
     "metadata": {},
     "output_type": "execute_result"
    }
   ],
   "source": [
    "np.std(RMSE).round(2)"
   ]
  },
  {
   "cell_type": "markdown",
   "id": "amazing-lease",
   "metadata": {},
   "source": [
    "Wykresy prezentujące RMSE dla zmiennej \"it_seller_rating\""
   ]
  },
  {
   "cell_type": "code",
   "execution_count": 17,
   "id": "functional-buffalo",
   "metadata": {
    "scrolled": true
   },
   "outputs": [
    {
     "data": {
      "image/png": "[encoded data removed]",
      "text/plain": [
       "<Figure size 432x288 with 1 Axes>"
      ]
     },
     "metadata": {
      "needs_background": "light"
     },
     "output_type": "display_data"
    }
   ],
   "source": [
    "sns.barplot(data=RMSE, x=RMSE.index+1, y=RMSE[\"it_seller_rating\"], color = \"salmon\", saturation=0.5);"
   ]
  },
  {
   "cell_type": "code",
   "execution_count": 18,
   "id": "handmade-arlington",
   "metadata": {},
   "outputs": [
    {
     "data": {
      "image/png": "[encoded data removed]",
      "text/plain": [
       "<Figure size 432x288 with 1 Axes>"
      ]
     },
     "metadata": {
      "needs_background": "light"
     },
     "output_type": "display_data"
    }
   ],
   "source": [
    "sns.boxplot(data=RMSE, color = \"salmon\", saturation=0.5);"
   ]
  },
  {
   "cell_type": "markdown",
   "id": "racial-sunday",
   "metadata": {},
   "source": [
    "#### Wariant 2 - 10% danych z kolumn 'it_seller_rating' i 'it_quantity' zamieniamy na wartości NaN"
   ]
  },
  {
   "cell_type": "code",
   "execution_count": 19,
   "id": "distant-breeding",
   "metadata": {},
   "outputs": [],
   "source": [
    "mse_list = []\n",
    "for i in range(10):\n",
    "    # wybieramy losowo 10% rekordów, z których usuniemy dane\n",
    "    X_sample = X_true.sample(frac=0.1) \n",
    "    # zostępujemy 'it_seller_rating' w losowo wybranych rekordach wartością NaN\n",
    "    X_sample[[\"it_seller_rating\", \"it_quantity\"]] = np.nan\n",
    "    # 'doklejamy' zmienione rekordy do reszty danych\n",
    "    X_partial = pd.concat([X_true, X_sample])\n",
    "    # usuwamy duplikaty zachowując ostatni rekord (w ten sposób zachowamy tylko rekordy zmienione)\n",
    "    X_partial = X_partial.loc[~X_partial.index.duplicated(keep='last')]\n",
    "    X_partial = X_partial.sort_index()\n",
    "\n",
    "    imputer = KNNImputer(n_neighbors=2, weights=\"uniform\")\n",
    "    X_pred = imputer.fit_transform(X_partial)\n",
    "\n",
    "    X_pred = pd.DataFrame(X_pred, columns=[\"price\", \"it_seller_rating\", \"it_quantity\"])\n",
    "\n",
    "    # mse_list.append(mean_squared_error(X_true[[\"it_seller_rating\", \"it_quantity\"]], X_pred[[\"it_seller_rating\", \"it_quantity\"]], squared=False).round(2))\n",
    "    mse_list.append(mean_squared_error(X_true[[\"it_seller_rating\", \"it_quantity\"]], X_pred[[\"it_seller_rating\", \"it_quantity\"]], squared=False, multioutput='raw_values').round(2))\n",
    "\n",
    "RMSE1 = pd.DataFrame(mse_list, columns=[\"it_seller_rating\", \"it_quantity\"])"
   ]
  },
  {
   "cell_type": "markdown",
   "id": "occupied-battlefield",
   "metadata": {},
   "source": [
    "RMSE w tym przypadku prezentują się następująco:"
   ]
  },
  {
   "cell_type": "code",
   "execution_count": 20,
   "id": "possible-gnome",
   "metadata": {
    "scrolled": true
   },
   "outputs": [
    {
     "data": {
      "text/html": [
       "<div>\n",
       "<style scoped>\n",
       "    .dataframe tbody tr th:only-of-type {\n",
       "        vertical-align: middle;\n",
       "    }\n",
       "\n",
       "    .dataframe tbody tr th {\n",
       "        vertical-align: top;\n",
       "    }\n",
       "\n",
       "    .dataframe thead th {\n",
       "        text-align: right;\n",
       "    }\n",
       "</style>\n",
       "<table border=\"1\" class=\"dataframe\">\n",
       "  <thead>\n",
       "    <tr style=\"text-align: right;\">\n",
       "      <th></th>\n",
       "      <th>it_seller_rating</th>\n",
       "      <th>it_quantity</th>\n",
       "    </tr>\n",
       "  </thead>\n",
       "  <tbody>\n",
       "    <tr>\n",
       "      <th>0</th>\n",
       "      <td>51569.44</td>\n",
       "      <td>32580.81</td>\n",
       "    </tr>\n",
       "    <tr>\n",
       "      <th>1</th>\n",
       "      <td>51666.79</td>\n",
       "      <td>32556.69</td>\n",
       "    </tr>\n",
       "    <tr>\n",
       "      <th>2</th>\n",
       "      <td>51714.51</td>\n",
       "      <td>32547.89</td>\n",
       "    </tr>\n",
       "    <tr>\n",
       "      <th>3</th>\n",
       "      <td>51556.63</td>\n",
       "      <td>32713.43</td>\n",
       "    </tr>\n",
       "    <tr>\n",
       "      <th>4</th>\n",
       "      <td>51950.98</td>\n",
       "      <td>32732.51</td>\n",
       "    </tr>\n",
       "    <tr>\n",
       "      <th>5</th>\n",
       "      <td>51874.89</td>\n",
       "      <td>32691.26</td>\n",
       "    </tr>\n",
       "    <tr>\n",
       "      <th>6</th>\n",
       "      <td>51267.73</td>\n",
       "      <td>32521.44</td>\n",
       "    </tr>\n",
       "    <tr>\n",
       "      <th>7</th>\n",
       "      <td>51696.42</td>\n",
       "      <td>32420.00</td>\n",
       "    </tr>\n",
       "    <tr>\n",
       "      <th>8</th>\n",
       "      <td>51910.94</td>\n",
       "      <td>32710.19</td>\n",
       "    </tr>\n",
       "    <tr>\n",
       "      <th>9</th>\n",
       "      <td>51253.59</td>\n",
       "      <td>32557.72</td>\n",
       "    </tr>\n",
       "  </tbody>\n",
       "</table>\n",
       "</div>"
      ],
      "text/plain": [
       "   it_seller_rating  it_quantity\n",
       "0          51569.44     32580.81\n",
       "1          51666.79     32556.69\n",
       "2          51714.51     32547.89\n",
       "3          51556.63     32713.43\n",
       "4          51950.98     32732.51\n",
       "5          51874.89     32691.26\n",
       "6          51267.73     32521.44\n",
       "7          51696.42     32420.00\n",
       "8          51910.94     32710.19\n",
       "9          51253.59     32557.72"
      ]
     },
     "execution_count": 20,
     "metadata": {},
     "output_type": "execute_result"
    }
   ],
   "source": [
    "RMSE1"
   ]
  },
  {
   "cell_type": "markdown",
   "id": "olive-survival",
   "metadata": {},
   "source": [
    "A odchylenie standardowe z tych danych to:"
   ]
  },
  {
   "cell_type": "code",
   "execution_count": 21,
   "id": "closed-bristol",
   "metadata": {
    "scrolled": true
   },
   "outputs": [
    {
     "data": {
      "text/plain": [
       "it_seller_rating    231.124754\n",
       "it_quantity          98.036834\n",
       "dtype: float64"
      ]
     },
     "execution_count": 21,
     "metadata": {},
     "output_type": "execute_result"
    }
   ],
   "source": [
    "np.std(RMSE1)"
   ]
  },
  {
   "cell_type": "markdown",
   "id": "urban-advertising",
   "metadata": {},
   "source": [
    "Wykresy prezentujące RMSE dla zmiennej \"it_seller_rating\""
   ]
  },
  {
   "cell_type": "code",
   "execution_count": 22,
   "id": "rough-circuit",
   "metadata": {
    "scrolled": true
   },
   "outputs": [
    {
     "data": {
      "image/png": "[encoded data removed]",
      "text/plain": [
       "<Figure size 432x288 with 1 Axes>"
      ]
     },
     "metadata": {
      "needs_background": "light"
     },
     "output_type": "display_data"
    }
   ],
   "source": [
    "sns.barplot(data=RMSE1, x=RMSE1.index+1, y=RMSE1[\"it_seller_rating\"], color = \"salmon\", saturation=0.5);"
   ]
  },
  {
   "cell_type": "code",
   "execution_count": 23,
   "id": "spectacular-snake",
   "metadata": {
    "scrolled": true
   },
   "outputs": [
    {
     "data": {
      "image/png": "[encoded data removed]",
      "text/plain": [
       "<Figure size 432x288 with 1 Axes>"
      ]
     },
     "metadata": {
      "needs_background": "light"
     },
     "output_type": "display_data"
    }
   ],
   "source": [
    "sns.boxplot(data=RMSE1[[\"it_seller_rating\"]], color = \"salmon\", saturation=0.5);"
   ]
  },
  {
   "cell_type": "markdown",
   "id": "attractive-heaven",
   "metadata": {},
   "source": [
    "Wykresy prezentujące RMSE dla zmiennej \"it_quantity\""
   ]
  },
  {
   "cell_type": "code",
   "execution_count": 24,
   "id": "third-excellence",
   "metadata": {
    "scrolled": true
   },
   "outputs": [
    {
     "data": {
      "image/png": "[encoded data removed]",
      "text/plain": [
       "<Figure size 432x288 with 1 Axes>"
      ]
     },
     "metadata": {
      "needs_background": "light"
     },
     "output_type": "display_data"
    }
   ],
   "source": [
    "sns.barplot(data=RMSE1, x=RMSE1.index+1, y=RMSE1[\"it_quantity\"], color = \"blue\", saturation=0.5);"
   ]
  },
  {
   "cell_type": "code",
   "execution_count": 25,
   "id": "moderate-absence",
   "metadata": {
    "scrolled": true
   },
   "outputs": [
    {
     "data": {
      "image/png": "[encoded data removed]",
      "text/plain": [
       "<Figure size 432x288 with 1 Axes>"
      ]
     },
     "metadata": {
      "needs_background": "light"
     },
     "output_type": "display_data"
    }
   ],
   "source": [
    "sns.boxplot(data=RMSE1[[\"it_quantity\"]], color = \"blue\", saturation=0.5);"
   ]
  },
  {
   "cell_type": "markdown",
   "id": "recognized-token",
   "metadata": {},
   "source": [
    "Jak widać, RMSE pomiędzy obserwacjami rózni się znikomo, odchylenia standardowe są pomijalne biorąc pod uwagę średnią wielkości RMSE.\\\n",
    "Jeśli chodzi o samą wielkość RMSE wydaje się ona dość istotna patrząc na to, że mediana *it_quantity* to 95, średnia 6748, a mediana *it_seller_rating* to 6711, średnia 20402. Wynika to prawdopodbnie z dużej róźnorodności danych i ich nieuporządkowania.\n"
   ]
  }
 ],
 "metadata": {
  "kernelspec": {
   "display_name": "Python 3",
   "language": "python",
   "name": "python3"
  },
  "language_info": {
   "codemirror_mode": {
    "name": "ipython",
    "version": 3
   },
   "file_extension": ".py",
   "mimetype": "text/x-python",
   "name": "python",
   "nbconvert_exporter": "python",
   "pygments_lexer": "ipython3",
   "version": "3.8.8"
  }
 },
 "nbformat": 4,
 "nbformat_minor": 5
}
