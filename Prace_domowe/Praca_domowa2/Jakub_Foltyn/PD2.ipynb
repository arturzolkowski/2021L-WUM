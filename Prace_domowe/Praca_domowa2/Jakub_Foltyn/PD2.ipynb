{
 "cells": [
  {
   "cell_type": "code",
   "execution_count": 21,
   "metadata": {
    "executionInfo": {
     "elapsed": 1675,
     "status": "ok",
     "timestamp": 1616607811158,
     "user": {
      "displayName": "Jakub Fołtyn",
      "photoUrl": "",
      "userId": "00481263433529862161"
     },
     "user_tz": -60
    },
    "id": "a6AhQI-17FAh"
   },
   "outputs": [],
   "source": [
    "import pandas as pd\n",
    "import numpy as np\n",
    "import seaborn as sns\n",
    "from matplotlib import pyplot as plt\n",
    "import matplotlib\n",
    "import random\n",
    "from sklearn.impute import KNNImputer\n",
    "from sklearn.metrics import mean_squared_error\n"
   ]
  },
  {
   "cell_type": "markdown",
   "metadata": {
    "id": "Ow9JvNOxUv38"
   },
   "source": [
    "# Wczytanie danych"
   ]
  },
  {
   "cell_type": "code",
   "execution_count": 22,
   "metadata": {
    "executionInfo": {
     "elapsed": 3634,
     "status": "ok",
     "timestamp": 1616607815373,
     "user": {
      "displayName": "Jakub Fołtyn",
      "photoUrl": "",
      "userId": "00481263433529862161"
     },
     "user_tz": -60
    },
    "id": "D34tQKfO7Xsu"
   },
   "outputs": [],
   "source": [
    "allegro_df = pd.read_csv(\"https://www.dropbox.com/s/360xhh2d9lnaek3/allegro-api-transactions.csv?dl=1\")"
   ]
  },
  {
   "cell_type": "code",
   "execution_count": 3,
   "metadata": {
    "colab": {
     "base_uri": "https://localhost:8080/",
     "height": 534
    },
    "executionInfo": {
     "elapsed": 8766,
     "status": "ok",
     "timestamp": 1616587856115,
     "user": {
      "displayName": "Jakub Fołtyn",
      "photoUrl": "",
      "userId": "00481263433529862161"
     },
     "user_tz": -60
    },
    "id": "PcdjgXBs7gV3",
    "outputId": "2bde988b-9aa6-4b5b-9217-504fbc2c56a3"
   },
   "outputs": [
    {
     "data": {
      "text/html": [
       "<div>\n",
       "<style scoped>\n",
       "    .dataframe tbody tr th:only-of-type {\n",
       "        vertical-align: middle;\n",
       "    }\n",
       "\n",
       "    .dataframe tbody tr th {\n",
       "        vertical-align: top;\n",
       "    }\n",
       "\n",
       "    .dataframe thead th {\n",
       "        text-align: right;\n",
       "    }\n",
       "</style>\n",
       "<table border=\"1\" class=\"dataframe\">\n",
       "  <thead>\n",
       "    <tr style=\"text-align: right;\">\n",
       "      <th></th>\n",
       "      <th>lp</th>\n",
       "      <th>date</th>\n",
       "      <th>item_id</th>\n",
       "      <th>categories</th>\n",
       "      <th>pay_option_on_delivery</th>\n",
       "      <th>pay_option_transfer</th>\n",
       "      <th>seller</th>\n",
       "      <th>price</th>\n",
       "      <th>it_is_allegro_standard</th>\n",
       "      <th>it_quantity</th>\n",
       "      <th>it_is_brand_zone</th>\n",
       "      <th>it_seller_rating</th>\n",
       "      <th>it_location</th>\n",
       "      <th>main_category</th>\n",
       "    </tr>\n",
       "  </thead>\n",
       "  <tbody>\n",
       "    <tr>\n",
       "      <th>0</th>\n",
       "      <td>0</td>\n",
       "      <td>2016-04-03 21:21:08</td>\n",
       "      <td>4753602474</td>\n",
       "      <td>['Komputery', 'Dyski i napędy', 'Nośniki', 'No...</td>\n",
       "      <td>1</td>\n",
       "      <td>1</td>\n",
       "      <td>radzioch666</td>\n",
       "      <td>59.99</td>\n",
       "      <td>1</td>\n",
       "      <td>997</td>\n",
       "      <td>0</td>\n",
       "      <td>50177</td>\n",
       "      <td>Warszawa</td>\n",
       "      <td>Komputery</td>\n",
       "    </tr>\n",
       "    <tr>\n",
       "      <th>1</th>\n",
       "      <td>1</td>\n",
       "      <td>2016-04-03 15:35:26</td>\n",
       "      <td>4773181874</td>\n",
       "      <td>['Odzież, Obuwie, Dodatki', 'Bielizna damska',...</td>\n",
       "      <td>1</td>\n",
       "      <td>1</td>\n",
       "      <td>InwestycjeNET</td>\n",
       "      <td>4.90</td>\n",
       "      <td>1</td>\n",
       "      <td>9288</td>\n",
       "      <td>0</td>\n",
       "      <td>12428</td>\n",
       "      <td>Warszawa</td>\n",
       "      <td>Odzież, Obuwie, Dodatki</td>\n",
       "    </tr>\n",
       "    <tr>\n",
       "      <th>2</th>\n",
       "      <td>2</td>\n",
       "      <td>2016-04-03 14:14:31</td>\n",
       "      <td>4781627074</td>\n",
       "      <td>['Dom i Ogród', 'Budownictwo i Akcesoria', 'Śc...</td>\n",
       "      <td>1</td>\n",
       "      <td>1</td>\n",
       "      <td>otostyl_com</td>\n",
       "      <td>109.90</td>\n",
       "      <td>1</td>\n",
       "      <td>895</td>\n",
       "      <td>0</td>\n",
       "      <td>7389</td>\n",
       "      <td>Leszno</td>\n",
       "      <td>Dom i Ogród</td>\n",
       "    </tr>\n",
       "    <tr>\n",
       "      <th>3</th>\n",
       "      <td>3</td>\n",
       "      <td>2016-04-03 19:55:44</td>\n",
       "      <td>4783971474</td>\n",
       "      <td>['Książki i Komiksy', 'Poradniki i albumy', 'Z...</td>\n",
       "      <td>1</td>\n",
       "      <td>1</td>\n",
       "      <td>Matfel1</td>\n",
       "      <td>18.50</td>\n",
       "      <td>0</td>\n",
       "      <td>971</td>\n",
       "      <td>0</td>\n",
       "      <td>15006</td>\n",
       "      <td>Wola Krzysztoporska</td>\n",
       "      <td>Książki i Komiksy</td>\n",
       "    </tr>\n",
       "    <tr>\n",
       "      <th>4</th>\n",
       "      <td>4</td>\n",
       "      <td>2016-04-03 18:05:54</td>\n",
       "      <td>4787908274</td>\n",
       "      <td>['Odzież, Obuwie, Dodatki', 'Ślub i wesele', '...</td>\n",
       "      <td>1</td>\n",
       "      <td>1</td>\n",
       "      <td>PPHU_RICO</td>\n",
       "      <td>19.90</td>\n",
       "      <td>1</td>\n",
       "      <td>950</td>\n",
       "      <td>0</td>\n",
       "      <td>32975</td>\n",
       "      <td>BIAŁYSTOK</td>\n",
       "      <td>Odzież, Obuwie, Dodatki</td>\n",
       "    </tr>\n",
       "  </tbody>\n",
       "</table>\n",
       "</div>"
      ],
      "text/plain": [
       "   lp                 date  ...          it_location            main_category\n",
       "0   0  2016-04-03 21:21:08  ...             Warszawa                Komputery\n",
       "1   1  2016-04-03 15:35:26  ...             Warszawa  Odzież, Obuwie, Dodatki\n",
       "2   2  2016-04-03 14:14:31  ...               Leszno              Dom i Ogród\n",
       "3   3  2016-04-03 19:55:44  ...  Wola Krzysztoporska        Książki i Komiksy\n",
       "4   4  2016-04-03 18:05:54  ...            BIAŁYSTOK  Odzież, Obuwie, Dodatki\n",
       "\n",
       "[5 rows x 14 columns]"
      ]
     },
     "execution_count": 3,
     "metadata": {
      "tags": []
     },
     "output_type": "execute_result"
    }
   ],
   "source": [
    "allegro_df.head()"
   ]
  },
  {
   "cell_type": "code",
   "execution_count": 4,
   "metadata": {
    "colab": {
     "base_uri": "https://localhost:8080/"
    },
    "executionInfo": {
     "elapsed": 8761,
     "status": "ok",
     "timestamp": 1616587856116,
     "user": {
      "displayName": "Jakub Fołtyn",
      "photoUrl": "",
      "userId": "00481263433529862161"
     },
     "user_tz": -60
    },
    "id": "jK9ojOMn7lx7",
    "outputId": "864c192a-4bf3-4f92-818d-c4809077d44b"
   },
   "outputs": [
    {
     "name": "stdout",
     "output_type": "stream",
     "text": [
      "<class 'pandas.core.frame.DataFrame'>\n",
      "RangeIndex: 420020 entries, 0 to 420019\n",
      "Data columns (total 14 columns):\n",
      " #   Column                  Non-Null Count   Dtype  \n",
      "---  ------                  --------------   -----  \n",
      " 0   lp                      420020 non-null  int64  \n",
      " 1   date                    420020 non-null  object \n",
      " 2   item_id                 420020 non-null  int64  \n",
      " 3   categories              420020 non-null  object \n",
      " 4   pay_option_on_delivery  420020 non-null  int64  \n",
      " 5   pay_option_transfer     420020 non-null  int64  \n",
      " 6   seller                  420020 non-null  object \n",
      " 7   price                   420020 non-null  float64\n",
      " 8   it_is_allegro_standard  420020 non-null  int64  \n",
      " 9   it_quantity             420020 non-null  int64  \n",
      " 10  it_is_brand_zone        420020 non-null  int64  \n",
      " 11  it_seller_rating        420020 non-null  int64  \n",
      " 12  it_location             420020 non-null  object \n",
      " 13  main_category           420020 non-null  object \n",
      "dtypes: float64(1), int64(8), object(5)\n",
      "memory usage: 44.9+ MB\n"
     ]
    }
   ],
   "source": [
    "allegro_df.info()"
   ]
  },
  {
   "cell_type": "code",
   "execution_count": 5,
   "metadata": {
    "colab": {
     "base_uri": "https://localhost:8080/"
    },
    "executionInfo": {
     "elapsed": 9622,
     "status": "ok",
     "timestamp": 1616587856983,
     "user": {
      "displayName": "Jakub Fołtyn",
      "photoUrl": "",
      "userId": "00481263433529862161"
     },
     "user_tz": -60
    },
    "id": "bq0VPCaj7obs",
    "outputId": "76887462-3f33-4835-cc43-2cd5ec08f690"
   },
   "outputs": [
    {
     "data": {
      "text/plain": [
       "(245063, 14)"
      ]
     },
     "execution_count": 5,
     "metadata": {
      "tags": []
     },
     "output_type": "execute_result"
    }
   ],
   "source": [
    "allegro_df[allegro_df['it_is_allegro_standard'] == 1].shape"
   ]
  },
  {
   "cell_type": "markdown",
   "metadata": {
    "id": "rpeG4-bx2nQE"
   },
   "source": [
    "# Pierwsza część"
   ]
  },
  {
   "cell_type": "code",
   "execution_count": 5,
   "metadata": {
    "colab": {
     "base_uri": "https://localhost:8080/"
    },
    "executionInfo": {
     "elapsed": 551,
     "status": "ok",
     "timestamp": 1616607818901,
     "user": {
      "displayName": "Jakub Fołtyn",
      "photoUrl": "",
      "userId": "00481263433529862161"
     },
     "user_tz": -60
    },
    "id": "m_ySqPp52wcd",
    "outputId": "66402ef3-ca29-4028-eef0-346032066177"
   },
   "outputs": [
    {
     "data": {
      "text/plain": [
       "Warszawa                23244\n",
       "Kraków                  15135\n",
       "Łódź                    10935\n",
       "Poznań                  10610\n",
       "Wrocław                  8646\n",
       "                        ...  \n",
       "wiechlice, szprotawa        1\n",
       "Borzymie                    1\n",
       "SĘKOWA                      1\n",
       "puszczykowo                 1\n",
       "Ruda slaska                 1\n",
       "Name: it_location, Length: 10056, dtype: int64"
      ]
     },
     "execution_count": 5,
     "metadata": {
      "tags": []
     },
     "output_type": "execute_result"
    }
   ],
   "source": [
    "allegro_df['it_location'].value_counts()"
   ]
  },
  {
   "cell_type": "code",
   "execution_count": 10,
   "metadata": {
    "colab": {
     "base_uri": "https://localhost:8080/",
     "height": 534
    },
    "executionInfo": {
     "elapsed": 743,
     "status": "ok",
     "timestamp": 1616609605997,
     "user": {
      "displayName": "Jakub Fołtyn",
      "photoUrl": "",
      "userId": "00481263433529862161"
     },
     "user_tz": -60
    },
    "id": "aCHzGg3WZ4s2",
    "outputId": "ac78b5a1-d5ae-44fc-cf37-b05fb933f577"
   },
   "outputs": [
    {
     "data": {
      "text/html": [
       "<div>\n",
       "<style scoped>\n",
       "    .dataframe tbody tr th:only-of-type {\n",
       "        vertical-align: middle;\n",
       "    }\n",
       "\n",
       "    .dataframe tbody tr th {\n",
       "        vertical-align: top;\n",
       "    }\n",
       "\n",
       "    .dataframe thead th {\n",
       "        text-align: right;\n",
       "    }\n",
       "</style>\n",
       "<table border=\"1\" class=\"dataframe\">\n",
       "  <thead>\n",
       "    <tr style=\"text-align: right;\">\n",
       "      <th></th>\n",
       "      <th>lp</th>\n",
       "      <th>date</th>\n",
       "      <th>item_id</th>\n",
       "      <th>categories</th>\n",
       "      <th>pay_option_on_delivery</th>\n",
       "      <th>pay_option_transfer</th>\n",
       "      <th>seller</th>\n",
       "      <th>price</th>\n",
       "      <th>it_is_allegro_standard</th>\n",
       "      <th>it_quantity</th>\n",
       "      <th>it_is_brand_zone</th>\n",
       "      <th>it_seller_rating</th>\n",
       "      <th>it_location</th>\n",
       "      <th>main_category</th>\n",
       "    </tr>\n",
       "  </thead>\n",
       "  <tbody>\n",
       "    <tr>\n",
       "      <th>0</th>\n",
       "      <td>0</td>\n",
       "      <td>2016-04-03 21:21:08</td>\n",
       "      <td>4753602474</td>\n",
       "      <td>['Komputery', 'Dyski i napędy', 'Nośniki', 'No...</td>\n",
       "      <td>1</td>\n",
       "      <td>1</td>\n",
       "      <td>radzioch666</td>\n",
       "      <td>59.99</td>\n",
       "      <td>1</td>\n",
       "      <td>997</td>\n",
       "      <td>0</td>\n",
       "      <td>50177</td>\n",
       "      <td>85.423398</td>\n",
       "      <td>Komputery</td>\n",
       "    </tr>\n",
       "    <tr>\n",
       "      <th>1</th>\n",
       "      <td>1</td>\n",
       "      <td>2016-04-03 15:35:26</td>\n",
       "      <td>4773181874</td>\n",
       "      <td>['Odzież, Obuwie, Dodatki', 'Bielizna damska',...</td>\n",
       "      <td>1</td>\n",
       "      <td>1</td>\n",
       "      <td>InwestycjeNET</td>\n",
       "      <td>4.90</td>\n",
       "      <td>1</td>\n",
       "      <td>9288</td>\n",
       "      <td>0</td>\n",
       "      <td>12428</td>\n",
       "      <td>85.423398</td>\n",
       "      <td>Odzież, Obuwie, Dodatki</td>\n",
       "    </tr>\n",
       "    <tr>\n",
       "      <th>2</th>\n",
       "      <td>2</td>\n",
       "      <td>2016-04-03 14:14:31</td>\n",
       "      <td>4781627074</td>\n",
       "      <td>['Dom i Ogród', 'Budownictwo i Akcesoria', 'Śc...</td>\n",
       "      <td>1</td>\n",
       "      <td>1</td>\n",
       "      <td>otostyl_com</td>\n",
       "      <td>109.90</td>\n",
       "      <td>1</td>\n",
       "      <td>895</td>\n",
       "      <td>0</td>\n",
       "      <td>7389</td>\n",
       "      <td>61.990914</td>\n",
       "      <td>Dom i Ogród</td>\n",
       "    </tr>\n",
       "    <tr>\n",
       "      <th>3</th>\n",
       "      <td>3</td>\n",
       "      <td>2016-04-03 19:55:44</td>\n",
       "      <td>4783971474</td>\n",
       "      <td>['Książki i Komiksy', 'Poradniki i albumy', 'Z...</td>\n",
       "      <td>1</td>\n",
       "      <td>1</td>\n",
       "      <td>Matfel1</td>\n",
       "      <td>18.50</td>\n",
       "      <td>0</td>\n",
       "      <td>971</td>\n",
       "      <td>0</td>\n",
       "      <td>15006</td>\n",
       "      <td>35.433365</td>\n",
       "      <td>Książki i Komiksy</td>\n",
       "    </tr>\n",
       "    <tr>\n",
       "      <th>4</th>\n",
       "      <td>4</td>\n",
       "      <td>2016-04-03 18:05:54</td>\n",
       "      <td>4787908274</td>\n",
       "      <td>['Odzież, Obuwie, Dodatki', 'Ślub i wesele', '...</td>\n",
       "      <td>1</td>\n",
       "      <td>1</td>\n",
       "      <td>PPHU_RICO</td>\n",
       "      <td>19.90</td>\n",
       "      <td>1</td>\n",
       "      <td>950</td>\n",
       "      <td>0</td>\n",
       "      <td>32975</td>\n",
       "      <td>117.191956</td>\n",
       "      <td>Odzież, Obuwie, Dodatki</td>\n",
       "    </tr>\n",
       "  </tbody>\n",
       "</table>\n",
       "</div>"
      ],
      "text/plain": [
       "   lp                 date  ...  it_location            main_category\n",
       "0   0  2016-04-03 21:21:08  ...    85.423398                Komputery\n",
       "1   1  2016-04-03 15:35:26  ...    85.423398  Odzież, Obuwie, Dodatki\n",
       "2   2  2016-04-03 14:14:31  ...    61.990914              Dom i Ogród\n",
       "3   3  2016-04-03 19:55:44  ...    35.433365        Książki i Komiksy\n",
       "4   4  2016-04-03 18:05:54  ...   117.191956  Odzież, Obuwie, Dodatki\n",
       "\n",
       "[5 rows x 14 columns]"
      ]
     },
     "execution_count": 10,
     "metadata": {
      "tags": []
     },
     "output_type": "execute_result"
    }
   ],
   "source": [
    "#Target encoding\n",
    "means = allegro_df.groupby('it_location')['price'].mean()\n",
    "target_encoded = allegro_df.copy()\n",
    "target_encoded['it_location'] = allegro_df['it_location'].map(means)\n",
    "target_encoded.head()"
   ]
  },
  {
   "cell_type": "markdown",
   "metadata": {
    "id": "TRd_DrsXddCa"
   },
   "source": [
    "Jak widać przypisaliśmy średnie wartości kolumny target (dla nas price) do poszczególnych kategorii z it_location. Takie działanie może nam bardzo dopomóc w późniejszej fazie uczenia- modele lepiej bowiem radzą sobie z wartościami liczbowymi, a średnia powinna teoretycznie najpiej \"umiejscawiać\" kodowane kategorie w \"świecie\" naszych przewidywań.\n",
    "\n",
    "One-hot encoding nienajlepiej sprawdza się w sytuacjach, gdy kodowanych kategorii jest bardzo dużo- tak jak w powyższej sytuacji (choć, oczywiście, można ich liczbę zredukować np. pomijając wielkość liter i polskie znaki w nazwach miejscowości oraz tworząc kategorię 'Other').\n",
    "\n",
    "Należy też pamiętać, że średnia nie sprawdza się najlepiej, gdy mamy wiele wartości odstających, lub gdy po prostu wartości, z której jest ona liczona jest bardzo mało (w value counts powyżej widać, że jest bardzo dużo kategorii z pojedynczymi wystąpieniami- w ich przypadkach średnia może doprowadzać np. do przeuczenia."
   ]
  },
  {
   "cell_type": "code",
   "execution_count": 11,
   "metadata": {
    "colab": {
     "base_uri": "https://localhost:8080/"
    },
    "executionInfo": {
     "elapsed": 641,
     "status": "ok",
     "timestamp": 1616610519366,
     "user": {
      "displayName": "Jakub Fołtyn",
      "photoUrl": "",
      "userId": "00481263433529862161"
     },
     "user_tz": -60
    },
    "id": "v0wGPFI0fnRt",
    "outputId": "fedc3b3b-e825-4a6c-f081-dbb20b76399f"
   },
   "outputs": [
    {
     "data": {
      "text/plain": [
       "Dom i Ogród                            91042\n",
       "Odzież, Obuwie, Dodatki                54257\n",
       "Motoryzacja                            45941\n",
       "Dla Dzieci                             42107\n",
       "Uroda                                  28096\n",
       "Sport i Turystyka                      27532\n",
       "RTV i AGD                              20341\n",
       "Telefony i Akcesoria                   19805\n",
       "Komputery                              14491\n",
       "Zdrowie                                13166\n",
       "Książki i Komiksy                      11572\n",
       "Delikatesy                              8074\n",
       "Gry                                     7150\n",
       "Rękodzieło                              6574\n",
       "Kolekcje                                6146\n",
       "Przemysł                                5959\n",
       "Biżuteria i Zegarki                     5808\n",
       "Biuro i Reklama                         3194\n",
       "Fotografia                              2381\n",
       "Muzyka                                  1961\n",
       "Antyki i Sztuka                         1214\n",
       "Konsole i automaty                      1053\n",
       "Filmy                                   1005\n",
       "Instrumenty                              617\n",
       "Sprzęt estradowy, studyjny i DJ-ski      413\n",
       "Bilety                                   119\n",
       "Nieruchomości                              2\n",
       "Name: main_category, dtype: int64"
      ]
     },
     "execution_count": 11,
     "metadata": {
      "tags": []
     },
     "output_type": "execute_result"
    }
   ],
   "source": [
    "allegro_df['main_category'].value_counts()"
   ]
  },
  {
   "cell_type": "code",
   "execution_count": 23,
   "metadata": {
    "colab": {
     "base_uri": "https://localhost:8080/"
    },
    "executionInfo": {
     "elapsed": 533,
     "status": "ok",
     "timestamp": 1616612529076,
     "user": {
      "displayName": "Jakub Fołtyn",
      "photoUrl": "",
      "userId": "00481263433529862161"
     },
     "user_tz": -60
    },
    "id": "i97xfzLffxhS",
    "outputId": "cc40e2ce-b7ed-4641-f65b-d93a654e1e70"
   },
   "outputs": [
    {
     "name": "stdout",
     "output_type": "stream",
     "text": [
      "0                  Komputery\n",
      "1    Odzież, Obuwie, Dodatki\n",
      "2                Dom i Ogród\n",
      "3          Książki i Komiksy\n",
      "4    Odzież, Obuwie, Dodatki\n",
      "5    Odzież, Obuwie, Dodatki\n",
      "6    Odzież, Obuwie, Dodatki\n",
      "7        Biżuteria i Zegarki\n",
      "8                  RTV i AGD\n",
      "9                  RTV i AGD\n",
      "Name: main_category, dtype: object\n"
     ]
    }
   ],
   "source": [
    "#Wyodrebniam kolumne, którą bedziemy kodować\n",
    "categories = allegro_df['main_category'].copy()\n",
    "print(categories[:10])"
   ]
  },
  {
   "cell_type": "code",
   "execution_count": 18,
   "metadata": {
    "colab": {
     "base_uri": "https://localhost:8080/"
    },
    "executionInfo": {
     "elapsed": 535,
     "status": "ok",
     "timestamp": 1616611397493,
     "user": {
      "displayName": "Jakub Fołtyn",
      "photoUrl": "",
      "userId": "00481263433529862161"
     },
     "user_tz": -60
    },
    "id": "7KtDfQg_ho0D",
    "outputId": "b69483a9-e69e-4e6e-933e-dceb923708d7"
   },
   "outputs": [
    {
     "name": "stdout",
     "output_type": "stream",
     "text": [
      "[[0. 0. 0. 0. 0. 0. 0. 0. 0. 0. 0. 0. 1. 0. 0. 0. 0. 0. 0. 0. 0. 0. 0. 0.\n",
      "  0. 0. 0.]\n",
      " [0. 0. 0. 0. 0. 0. 0. 0. 0. 0. 0. 0. 0. 0. 0. 0. 0. 0. 1. 0. 0. 0. 0. 0.\n",
      "  0. 0. 0.]\n",
      " [0. 0. 0. 0. 0. 0. 1. 0. 0. 0. 0. 0. 0. 0. 0. 0. 0. 0. 0. 0. 0. 0. 0. 0.\n",
      "  0. 0. 0.]\n",
      " [0. 0. 0. 0. 0. 0. 0. 0. 0. 0. 0. 0. 0. 0. 1. 0. 0. 0. 0. 0. 0. 0. 0. 0.\n",
      "  0. 0. 0.]\n",
      " [0. 0. 0. 0. 0. 0. 0. 0. 0. 0. 0. 0. 0. 0. 0. 0. 0. 0. 1. 0. 0. 0. 0. 0.\n",
      "  0. 0. 0.]\n",
      " [0. 0. 0. 0. 0. 0. 0. 0. 0. 0. 0. 0. 0. 0. 0. 0. 0. 0. 1. 0. 0. 0. 0. 0.\n",
      "  0. 0. 0.]\n",
      " [0. 0. 0. 0. 0. 0. 0. 0. 0. 0. 0. 0. 0. 0. 0. 0. 0. 0. 1. 0. 0. 0. 0. 0.\n",
      "  0. 0. 0.]\n",
      " [0. 0. 0. 1. 0. 0. 0. 0. 0. 0. 0. 0. 0. 0. 0. 0. 0. 0. 0. 0. 0. 0. 0. 0.\n",
      "  0. 0. 0.]\n",
      " [0. 0. 0. 0. 0. 0. 0. 0. 0. 0. 0. 0. 0. 0. 0. 0. 0. 0. 0. 0. 1. 0. 0. 0.\n",
      "  0. 0. 0.]\n",
      " [0. 0. 0. 0. 0. 0. 0. 0. 0. 0. 0. 0. 0. 0. 0. 0. 0. 0. 0. 0. 1. 0. 0. 0.\n",
      "  0. 0. 0.]]\n"
     ]
    }
   ],
   "source": [
    "#One hot encoding\n",
    "from sklearn.preprocessing import OneHotEncoder\n",
    "onehot = OneHotEncoder(sparse = False)\n",
    "onehot_encoded = onehot.fit_transform(categories.to_numpy().reshape((len(categories),1)))\n",
    "print(onehot_encoded[:10])"
   ]
  },
  {
   "cell_type": "code",
   "execution_count": 24,
   "metadata": {
    "colab": {
     "base_uri": "https://localhost:8080/"
    },
    "executionInfo": {
     "elapsed": 508,
     "status": "ok",
     "timestamp": 1616612667696,
     "user": {
      "displayName": "Jakub Fołtyn",
      "photoUrl": "",
      "userId": "00481263433529862161"
     },
     "user_tz": -60
    },
    "id": "cDzRG11PnsYl",
    "outputId": "a48a5fdc-2907-45b5-dbb7-3e8cce30c411"
   },
   "outputs": [
    {
     "name": "stdout",
     "output_type": "stream",
     "text": [
      "[12 18  6 14 18 18 18  3 20 20]\n"
     ]
    }
   ],
   "source": [
    "#Label encoding\n",
    "from sklearn.preprocessing import LabelEncoder\n",
    "label = LabelEncoder()\n",
    "label_encoded = label.fit_transform(categories)\n",
    "print(label_encoded[:10])"
   ]
  },
  {
   "cell_type": "code",
   "execution_count": 25,
   "metadata": {},
   "outputs": [
    {
     "name": "stdout",
     "output_type": "stream",
     "text": [
      "   main_category\n",
      "0          14491\n",
      "1          54257\n",
      "2          91042\n",
      "3          11572\n",
      "4          54257\n",
      "5          54257\n",
      "6          54257\n",
      "7           5808\n",
      "8          20341\n",
      "9          20341\n"
     ]
    }
   ],
   "source": [
    "#Count encoding\n",
    "import category_encoders as ce\n",
    "count_encoder = ce.CountEncoder()\n",
    "count_encoded = count_encoder.fit_transform(categories)\n",
    "print(count_encoded[:10])"
   ]
  },
  {
   "cell_type": "markdown",
   "metadata": {},
   "source": [
    "### Wyjaśnienia:\n",
    "Count Encoder- po prostu przypisuje każdej wartości w kolumnie liczbę jej wystąpień\n",
    "Label Encoder- porządkuje wartości (alfabetycznie), a potem przypisuje kazdej numer\n",
    "One Hot Encoder- tutaj przypisuje każdej wartości jej \"kolumnę w tabeli\" (reprezentowaną jako \"1\" na odpowiednim miejscu)"
   ]
  },
  {
   "cell_type": "code",
   "execution_count": 41,
   "metadata": {},
   "outputs": [
    {
     "data": {
      "image/png": "[encoded data removed]",
      "text/plain": [
       "<Figure size 648x432 with 1 Axes>"
      ]
     },
     "metadata": {
      "needs_background": "light"
     },
     "output_type": "display_data"
    }
   ],
   "source": [
    "sns.histplot(label_encoded)\n",
    "matplotlib.rcParams['figure.figsize'] = [9,6]\n",
    "matplotlib.rcParams.update({'font.size': 10})\n",
    "plt.title(\"Label Encoding\")\n",
    "plt.show()\n"
   ]
  },
  {
   "cell_type": "code",
   "execution_count": 44,
   "metadata": {},
   "outputs": [
    {
     "data": {
      "image/png": "[encoded data removed]",
      "text/plain": [
       "<Figure size 648x432 with 1 Axes>"
      ]
     },
     "metadata": {
      "needs_background": "light"
     },
     "output_type": "display_data"
    }
   ],
   "source": [
    "sns.histplot(count_encoded, legend = False)\n",
    "matplotlib.rcParams['figure.figsize'] = [9,6]\n",
    "matplotlib.rcParams.update({'font.size': 10})\n",
    "plt.title(\"Count Encoding\")\n",
    "plt.show()\n",
    "#Poza drobną anomalią- jest symetryczny"
   ]
  },
  {
   "cell_type": "markdown",
   "metadata": {
    "id": "LPS10pS22s4u"
   },
   "source": [
    "# Druga część"
   ]
  },
  {
   "cell_type": "code",
   "execution_count": 6,
   "metadata": {
    "executionInfo": {
     "elapsed": 9620,
     "status": "ok",
     "timestamp": 1616587856985,
     "user": {
      "displayName": "Jakub Fołtyn",
      "photoUrl": "",
      "userId": "00481263433529862161"
     },
     "user_tz": -60
    },
    "id": "hCkUHvUj2vsN"
   },
   "outputs": [],
   "source": [
    "smaller_df = allegro_df.loc[range(0,10000),[\"price\", \"it_seller_rating\", \"it_quantity\"]]"
   ]
  },
  {
   "cell_type": "code",
   "execution_count": 7,
   "metadata": {
    "executionInfo": {
     "elapsed": 9619,
     "status": "ok",
     "timestamp": 1616587856986,
     "user": {
      "displayName": "Jakub Fołtyn",
      "photoUrl": "",
      "userId": "00481263433529862161"
     },
     "user_tz": -60
    },
    "id": "7F00SqjT565u"
   },
   "outputs": [],
   "source": [
    "rmse_single_column = []\n",
    "rmse_two_columns = []\n",
    "inputer = KNNImputer(n_neighbors = 10, weights = \"uniform\")\n",
    "length = smaller_df.shape[0]\n",
    "first_test = smaller_df.copy()\n",
    "second_test = smaller_df.copy()\n"
   ]
  },
  {
   "cell_type": "code",
   "execution_count": 8,
   "metadata": {
    "executionInfo": {
     "elapsed": 28860,
     "status": "ok",
     "timestamp": 1616587876229,
     "user": {
      "displayName": "Jakub Fołtyn",
      "photoUrl": "",
      "userId": "00481263433529862161"
     },
     "user_tz": -60
    },
    "id": "a4XjZ9XPCTYX"
   },
   "outputs": [],
   "source": [
    "for i in range(0,10):\n",
    "  #Wprowadzam 3 różne zestawy indeksów\n",
    "  random_indexes_1 = random.sample(range(0, length), length//10)\n",
    "  random_indexes_2 = random.sample(range(0, length), length//10)\n",
    "  random_indexes_3 = random.sample(range(0, length), length//10)\n",
    "  #Po kolei zamieniamy wartości w poszczególnych kolumnach na wartości NaN\n",
    "  first_test.loc[random_indexes_1,\"it_seller_rating\"] = np.nan\n",
    "  second_test.loc[random_indexes_2,\"it_seller_rating\"] = np.nan\n",
    "  second_test.loc[random_indexes_3,\"it_quantity\"] = np.nan\n",
    "  #Ponownie uzupełniamy ramki, dla pewności zaokrąglamy też wyniki\n",
    "  first_test = pd.DataFrame(data = inputer.fit_transform(first_test).round(), columns = [\"price\", \"it_seller_rating\", \"it_quantity\"]) \n",
    "  second_test = pd.DataFrame(data = inputer.fit_transform(second_test).round(), columns = [\"price\", \"it_seller_rating\", \"it_quantity\"]) \n",
    "  #Wyliczamy błędy średniokwadratowe poszczególnych ramek\n",
    "  rmse_single_column.append(mean_squared_error(smaller_df, first_test))\n",
    "  rmse_two_columns.append(mean_squared_error(smaller_df, second_test))\n",
    "  #Przywracamy ramki do stanu pierwotnego dla kolejnej iteracji\n",
    "  first_test = smaller_df.copy()\n",
    "  second_test = smaller_df.copy()\n",
    "  \n",
    "\n"
   ]
  },
  {
   "cell_type": "code",
   "execution_count": 9,
   "metadata": {
    "colab": {
     "base_uri": "https://localhost:8080/"
    },
    "executionInfo": {
     "elapsed": 28857,
     "status": "ok",
     "timestamp": 1616587876232,
     "user": {
      "displayName": "Jakub Fołtyn",
      "photoUrl": "",
      "userId": "00481263433529862161"
     },
     "user_tz": -60
    },
    "id": "RrSMZ-yEUuWj",
    "outputId": "de4aa532-46cb-49f6-be1c-52a803f3e520"
   },
   "outputs": [
    {
     "name": "stdout",
     "output_type": "stream",
     "text": [
      "[36131726.31005501, 36213526.05508834, 38362479.618555, 34754199.53918834, 29297470.11875501, 39779803.54015501, 35515736.51538834, 42911954.830055006, 39637756.751821674, 39658547.502955005]\n",
      "[45057442.458721675, 54918875.70332167, 59367641.143355004, 56733971.55282167, 54019775.388555, 54126756.10232168, 53687151.36228833, 49720001.501755, 57853487.47055501, 46935928.156355]\n"
     ]
    }
   ],
   "source": [
    "print(rmse_single_column)\n",
    "print(rmse_two_columns)"
   ]
  },
  {
   "cell_type": "code",
   "execution_count": 10,
   "metadata": {
    "executionInfo": {
     "elapsed": 28855,
     "status": "ok",
     "timestamp": 1616587876232,
     "user": {
      "displayName": "Jakub Fołtyn",
      "photoUrl": "",
      "userId": "00481263433529862161"
     },
     "user_tz": -60
    },
    "id": "smA4L4T7Wllz"
   },
   "outputs": [],
   "source": [
    "#Jak widać, błędy te są dość poważne- ponadto wzrastaja one w przypadku uzupełniania obydwu kolumn."
   ]
  },
  {
   "cell_type": "code",
   "execution_count": 11,
   "metadata": {
    "colab": {
     "base_uri": "https://localhost:8080/"
    },
    "executionInfo": {
     "elapsed": 28850,
     "status": "ok",
     "timestamp": 1616587876233,
     "user": {
      "displayName": "Jakub Fołtyn",
      "photoUrl": "",
      "userId": "00481263433529862161"
     },
     "user_tz": -60
    },
    "id": "OhYj5VcrYOx7",
    "outputId": "84f5f2b6-8959-490f-8703-23b0125758b2"
   },
   "outputs": [
    {
     "name": "stdout",
     "output_type": "stream",
     "text": [
      "3549596.6096784123\n",
      "4410657.079942005\n"
     ]
    }
   ],
   "source": [
    "print(np.std(rmse_single_column))\n",
    "print(np.std(rmse_two_columns))\n",
    "#Podobnie jak odchylenie standardowe"
   ]
  },
  {
   "cell_type": "code",
   "execution_count": 12,
   "metadata": {
    "executionInfo": {
     "elapsed": 28848,
     "status": "ok",
     "timestamp": 1616587876234,
     "user": {
      "displayName": "Jakub Fołtyn",
      "photoUrl": "",
      "userId": "00481263433529862161"
     },
     "user_tz": -60
    },
    "id": "5oAugjHOYO6G"
   },
   "outputs": [],
   "source": [
    "error_df = pd.DataFrame({'trial':range(0,10),'one_column':rmse_single_column, 'two_columns':rmse_two_columns})\n",
    "melted_data = error_df.melt(id_vars = 'trial')\n"
   ]
  },
  {
   "cell_type": "code",
   "execution_count": 13,
   "metadata": {
    "colab": {
     "base_uri": "https://localhost:8080/",
     "height": 513
    },
    "executionInfo": {
     "elapsed": 29133,
     "status": "ok",
     "timestamp": 1616587876526,
     "user": {
      "displayName": "Jakub Fołtyn",
      "photoUrl": "",
      "userId": "00481263433529862161"
     },
     "user_tz": -60
    },
    "id": "4waoZibvf27r",
    "outputId": "f8e276ba-f113-46d3-a253-784a351958c3"
   },
   "outputs": [
    {
     "data": {
      "image/png": "[encoded data removed]",
      "text/plain": [
       "<Figure size 1296x576 with 1 Axes>"
      ]
     },
     "metadata": {
      "needs_background": "light",
      "tags": []
     },
     "output_type": "display_data"
    }
   ],
   "source": [
    "fig, ax = plt.subplots()\n",
    "sns.barplot(x = 'trial', y = 'value', hue = 'variable', data = melted_data)\n",
    "fig.set_size_inches(18,8)\n",
    "plt.title(\"Errors compared\")\n",
    "plt.show()\n",
    "matplotlib.rcParams.update({'font.size': 15})\n"
   ]
  },
  {
   "cell_type": "markdown",
   "metadata": {
    "id": "ZvtY5kSyZ95v"
   },
   "source": [
    "### Wnioski\n",
    "Jak widać, narzedzia do automatycznej imputacji brakujących wartości są dalekie od ideału. Można się było tego spodziewać- zadanie to nie należy do prostych. Przed podjęciem decyzji, co zrobić z brakującymi wartościami należy się więc zastanowić- czy wystarczy je usunąć? Czy jestem w stanie zastąpić je ręcznie? Jeśli nie, to który sposób imputacji wybrać? Od odpowiedzi na te pytania zależeć może m.in. wiarygodność wyników."
   ]
  }
 ],
 "metadata": {
  "colab": {
   "authorship_tag": "ABX9TyNRDhkiKggLoSX/jDTmBvOb",
   "collapsed_sections": [],
   "name": "PD2.ipynb",
   "provenance": []
  },
  "kernelspec": {
   "display_name": "Python 3",
   "language": "python",
   "name": "python3"
  },
  "language_info": {
   "codemirror_mode": {
    "name": "ipython",
    "version": 3
   },
   "file_extension": ".py",
   "mimetype": "text/x-python",
   "name": "python",
   "nbconvert_exporter": "python",
   "pygments_lexer": "ipython3",
   "version": "3.8.5"
  }
 },
 "nbformat": 4,
 "nbformat_minor": 1
}
