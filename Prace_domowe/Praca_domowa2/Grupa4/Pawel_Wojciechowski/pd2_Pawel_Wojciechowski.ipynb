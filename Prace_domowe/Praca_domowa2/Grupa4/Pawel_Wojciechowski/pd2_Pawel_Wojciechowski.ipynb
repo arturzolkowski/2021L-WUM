{
 "cells": [
  {
   "cell_type": "code",
   "execution_count": 1,
   "id": "certified-religious",
   "metadata": {},
   "outputs": [],
   "source": [
    "import pandas as pd\n",
    "import numpy as np\n",
    "import matplotlib.pyplot as plt\n",
    "import seaborn as sns\n",
    "import warnings\n",
    "warnings.filterwarnings('ignore')"
   ]
  },
  {
   "cell_type": "code",
   "execution_count": 2,
   "id": "constitutional-digit",
   "metadata": {},
   "outputs": [],
   "source": [
    "raw = pd.read_csv('allegro-api-transactions.csv')"
   ]
  },
  {
   "cell_type": "markdown",
   "id": "equipped-cedar",
   "metadata": {},
   "source": [
    "# Praca domowa 2\n"
   ]
  },
  {
   "cell_type": "code",
   "execution_count": 3,
   "id": "pleasant-edwards",
   "metadata": {},
   "outputs": [
    {
     "data": {
      "text/html": [
       "<div>\n",
       "<style scoped>\n",
       "    .dataframe tbody tr th:only-of-type {\n",
       "        vertical-align: middle;\n",
       "    }\n",
       "\n",
       "    .dataframe tbody tr th {\n",
       "        vertical-align: top;\n",
       "    }\n",
       "\n",
       "    .dataframe thead th {\n",
       "        text-align: right;\n",
       "    }\n",
       "</style>\n",
       "<table border=\"1\" class=\"dataframe\">\n",
       "  <thead>\n",
       "    <tr style=\"text-align: right;\">\n",
       "      <th></th>\n",
       "      <th>lp</th>\n",
       "      <th>date</th>\n",
       "      <th>item_id</th>\n",
       "      <th>categories</th>\n",
       "      <th>pay_option_on_delivery</th>\n",
       "      <th>pay_option_transfer</th>\n",
       "      <th>seller</th>\n",
       "      <th>price</th>\n",
       "      <th>it_is_allegro_standard</th>\n",
       "      <th>it_quantity</th>\n",
       "      <th>it_is_brand_zone</th>\n",
       "      <th>it_seller_rating</th>\n",
       "      <th>it_location</th>\n",
       "      <th>main_category</th>\n",
       "    </tr>\n",
       "  </thead>\n",
       "  <tbody>\n",
       "    <tr>\n",
       "      <th>0</th>\n",
       "      <td>0</td>\n",
       "      <td>2016-04-03 21:21:08</td>\n",
       "      <td>4753602474</td>\n",
       "      <td>['Komputery', 'Dyski i napędy', 'Nośniki', 'No...</td>\n",
       "      <td>1</td>\n",
       "      <td>1</td>\n",
       "      <td>radzioch666</td>\n",
       "      <td>59.99</td>\n",
       "      <td>1</td>\n",
       "      <td>997</td>\n",
       "      <td>0</td>\n",
       "      <td>50177</td>\n",
       "      <td>Warszawa</td>\n",
       "      <td>Komputery</td>\n",
       "    </tr>\n",
       "    <tr>\n",
       "      <th>1</th>\n",
       "      <td>1</td>\n",
       "      <td>2016-04-03 15:35:26</td>\n",
       "      <td>4773181874</td>\n",
       "      <td>['Odzież, Obuwie, Dodatki', 'Bielizna damska',...</td>\n",
       "      <td>1</td>\n",
       "      <td>1</td>\n",
       "      <td>InwestycjeNET</td>\n",
       "      <td>4.90</td>\n",
       "      <td>1</td>\n",
       "      <td>9288</td>\n",
       "      <td>0</td>\n",
       "      <td>12428</td>\n",
       "      <td>Warszawa</td>\n",
       "      <td>Odzież, Obuwie, Dodatki</td>\n",
       "    </tr>\n",
       "    <tr>\n",
       "      <th>2</th>\n",
       "      <td>2</td>\n",
       "      <td>2016-04-03 14:14:31</td>\n",
       "      <td>4781627074</td>\n",
       "      <td>['Dom i Ogród', 'Budownictwo i Akcesoria', 'Śc...</td>\n",
       "      <td>1</td>\n",
       "      <td>1</td>\n",
       "      <td>otostyl_com</td>\n",
       "      <td>109.90</td>\n",
       "      <td>1</td>\n",
       "      <td>895</td>\n",
       "      <td>0</td>\n",
       "      <td>7389</td>\n",
       "      <td>Leszno</td>\n",
       "      <td>Dom i Ogród</td>\n",
       "    </tr>\n",
       "    <tr>\n",
       "      <th>3</th>\n",
       "      <td>3</td>\n",
       "      <td>2016-04-03 19:55:44</td>\n",
       "      <td>4783971474</td>\n",
       "      <td>['Książki i Komiksy', 'Poradniki i albumy', 'Z...</td>\n",
       "      <td>1</td>\n",
       "      <td>1</td>\n",
       "      <td>Matfel1</td>\n",
       "      <td>18.50</td>\n",
       "      <td>0</td>\n",
       "      <td>971</td>\n",
       "      <td>0</td>\n",
       "      <td>15006</td>\n",
       "      <td>Wola Krzysztoporska</td>\n",
       "      <td>Książki i Komiksy</td>\n",
       "    </tr>\n",
       "    <tr>\n",
       "      <th>4</th>\n",
       "      <td>4</td>\n",
       "      <td>2016-04-03 18:05:54</td>\n",
       "      <td>4787908274</td>\n",
       "      <td>['Odzież, Obuwie, Dodatki', 'Ślub i wesele', '...</td>\n",
       "      <td>1</td>\n",
       "      <td>1</td>\n",
       "      <td>PPHU_RICO</td>\n",
       "      <td>19.90</td>\n",
       "      <td>1</td>\n",
       "      <td>950</td>\n",
       "      <td>0</td>\n",
       "      <td>32975</td>\n",
       "      <td>BIAŁYSTOK</td>\n",
       "      <td>Odzież, Obuwie, Dodatki</td>\n",
       "    </tr>\n",
       "  </tbody>\n",
       "</table>\n",
       "</div>"
      ],
      "text/plain": [
       "   lp                 date     item_id  \\\n",
       "0   0  2016-04-03 21:21:08  4753602474   \n",
       "1   1  2016-04-03 15:35:26  4773181874   \n",
       "2   2  2016-04-03 14:14:31  4781627074   \n",
       "3   3  2016-04-03 19:55:44  4783971474   \n",
       "4   4  2016-04-03 18:05:54  4787908274   \n",
       "\n",
       "                                          categories  pay_option_on_delivery  \\\n",
       "0  ['Komputery', 'Dyski i napędy', 'Nośniki', 'No...                       1   \n",
       "1  ['Odzież, Obuwie, Dodatki', 'Bielizna damska',...                       1   \n",
       "2  ['Dom i Ogród', 'Budownictwo i Akcesoria', 'Śc...                       1   \n",
       "3  ['Książki i Komiksy', 'Poradniki i albumy', 'Z...                       1   \n",
       "4  ['Odzież, Obuwie, Dodatki', 'Ślub i wesele', '...                       1   \n",
       "\n",
       "   pay_option_transfer         seller   price  it_is_allegro_standard  \\\n",
       "0                    1    radzioch666   59.99                       1   \n",
       "1                    1  InwestycjeNET    4.90                       1   \n",
       "2                    1    otostyl_com  109.90                       1   \n",
       "3                    1        Matfel1   18.50                       0   \n",
       "4                    1      PPHU_RICO   19.90                       1   \n",
       "\n",
       "   it_quantity  it_is_brand_zone  it_seller_rating          it_location  \\\n",
       "0          997                 0             50177             Warszawa   \n",
       "1         9288                 0             12428             Warszawa   \n",
       "2          895                 0              7389               Leszno   \n",
       "3          971                 0             15006  Wola Krzysztoporska   \n",
       "4          950                 0             32975            BIAŁYSTOK   \n",
       "\n",
       "             main_category  \n",
       "0                Komputery  \n",
       "1  Odzież, Obuwie, Dodatki  \n",
       "2              Dom i Ogród  \n",
       "3        Książki i Komiksy  \n",
       "4  Odzież, Obuwie, Dodatki  "
      ]
     },
     "execution_count": 3,
     "metadata": {},
     "output_type": "execute_result"
    }
   ],
   "source": [
    "raw.head()"
   ]
  },
  {
   "cell_type": "code",
   "execution_count": 4,
   "id": "black-skating",
   "metadata": {},
   "outputs": [
    {
     "name": "stdout",
     "output_type": "stream",
     "text": [
      "<class 'pandas.core.frame.DataFrame'>\n",
      "RangeIndex: 420020 entries, 0 to 420019\n",
      "Data columns (total 14 columns):\n",
      " #   Column                  Non-Null Count   Dtype  \n",
      "---  ------                  --------------   -----  \n",
      " 0   lp                      420020 non-null  int64  \n",
      " 1   date                    420020 non-null  object \n",
      " 2   item_id                 420020 non-null  int64  \n",
      " 3   categories              420020 non-null  object \n",
      " 4   pay_option_on_delivery  420020 non-null  int64  \n",
      " 5   pay_option_transfer     420020 non-null  int64  \n",
      " 6   seller                  420020 non-null  object \n",
      " 7   price                   420020 non-null  float64\n",
      " 8   it_is_allegro_standard  420020 non-null  int64  \n",
      " 9   it_quantity             420020 non-null  int64  \n",
      " 10  it_is_brand_zone        420020 non-null  int64  \n",
      " 11  it_seller_rating        420020 non-null  int64  \n",
      " 12  it_location             420020 non-null  object \n",
      " 13  main_category           420020 non-null  object \n",
      "dtypes: float64(1), int64(8), object(5)\n",
      "memory usage: 44.9+ MB\n"
     ]
    }
   ],
   "source": [
    "raw.info()"
   ]
  },
  {
   "cell_type": "markdown",
   "id": "subtle-rogers",
   "metadata": {},
   "source": [
    "# Target encoding"
   ]
  },
  {
   "cell_type": "markdown",
   "id": "sharing-being",
   "metadata": {},
   "source": [
    "Target encoding jest jednym ze sposobów kodowania danych kategorycznych. Etykietę każdej kategorii, podmienia się na średnią wartość docelowej cechy w obrębie danej kategorii. Dzięki temu dane kategoryczne są w formie pojedycznych wartości liczbowych, które dodatkowo mówią coś o naszej cesze co do której planujemy dokonywać predykcji."
   ]
  },
  {
   "cell_type": "code",
   "execution_count": 5,
   "id": "assumed-cleveland",
   "metadata": {},
   "outputs": [
    {
     "data": {
      "text/plain": [
       "0          85.423398\n",
       "1          85.423398\n",
       "2          61.990914\n",
       "3          35.433365\n",
       "4         117.191956\n",
       "             ...    \n",
       "420015     24.306929\n",
       "420016     66.785334\n",
       "420017     18.682800\n",
       "420018    106.203076\n",
       "420019     78.136792\n",
       "Name: it_location, Length: 420020, dtype: float64"
      ]
     },
     "execution_count": 5,
     "metadata": {},
     "output_type": "execute_result"
    }
   ],
   "source": [
    "# implementacja w pandasie\n",
    "cat_means = dict(raw.groupby('it_location')['price'].mean())\n",
    "x = raw['it_location'].map(cat_means)\n",
    "x"
   ]
  },
  {
   "cell_type": "code",
   "execution_count": 6,
   "id": "meaning-wright",
   "metadata": {},
   "outputs": [
    {
     "data": {
      "text/plain": [
       "0          85.423398\n",
       "1          85.423398\n",
       "2          61.990914\n",
       "3          35.433365\n",
       "4         117.191956\n",
       "             ...    \n",
       "420015     24.306929\n",
       "420016     66.785334\n",
       "420017     18.682800\n",
       "420018    106.203076\n",
       "420019     78.136792\n",
       "Name: it_location, Length: 420020, dtype: float64"
      ]
     },
     "execution_count": 6,
     "metadata": {},
     "output_type": "execute_result"
    }
   ],
   "source": [
    "# implementacja z biblioteki category_encoders\n",
    "import category_encoders as ce\n",
    "target_encoder = ce.TargetEncoder(cols=['it_location'])\n",
    "df = target_encoder.fit_transform(raw, raw['price'])\n",
    "df['it_location']"
   ]
  },
  {
   "cell_type": "code",
   "execution_count": 7,
   "id": "aggregate-round",
   "metadata": {},
   "outputs": [
    {
     "data": {
      "text/plain": [
       "10056"
      ]
     },
     "execution_count": 7,
     "metadata": {},
     "output_type": "execute_result"
    }
   ],
   "source": [
    "# liczba kategorii `it_location`\n",
    "len(raw['it_location'].value_counts())"
   ]
  },
  {
   "cell_type": "markdown",
   "id": "south-narrow",
   "metadata": {},
   "source": [
    "One Hot Encoding koduje dane kategoryczne do wektorów o długości równej liczbie kategorii. W przypadku bardzo rozdrobnionych cech kategorycznych, gdzie jest bardzo dużo rożnych kategorii, target encoding jest lepszym rozwiązaniem. Nie zwiększa on drastycznie wymiarowości danych (co jest niepożądane w przypdaku budowania modeli) oraz pojedynczy wektor powinien zajmować mniej miejsca niż ogromna macierz (aczkolwiek takie macierze są przechowywane w [obiektach](https://docs.scipy.org/doc/scipy/reference/sparse.html#sparse-matrix-classes), które są zoptymalizowane do przechowywania macierzy rzadkich).\n",
    "\n",
    "One Hot Encoding stworzyłby w tym przypadku macierz o wymiarach 420,020 x 10,056 co jest zbyt dużym rozmiarem do dalszej analizy i wykorzystania informacji o kategoriach.\n",
    "\n",
    "Target encoding, może jednak prowadzić do overfittingu, ponieważ taka transformacja jest ściśle powiązana z wartościami cechy docelowej, które znajdują się w zestawie treningowym."
   ]
  },
  {
   "cell_type": "markdown",
   "id": "turkish-sheep",
   "metadata": {},
   "source": [
    "# OneHot/Leave One Out/CatBoost\n",
    "Poniżej są przykłady zastowania 3 różnych enkoderów danych kategorycznych z biblioteki `category_encoders`\n",
    "## One Hot Encoder"
   ]
  },
  {
   "cell_type": "code",
   "execution_count": 8,
   "id": "harmful-primary",
   "metadata": {},
   "outputs": [],
   "source": [
    "# onehot\n",
    "onehot = ce.OneHotEncoder(cols=['main_category'])\n",
    "onehot_result = onehot.fit_transform(raw)"
   ]
  },
  {
   "cell_type": "code",
   "execution_count": 9,
   "id": "competent-understanding",
   "metadata": {},
   "outputs": [
    {
     "name": "stdout",
     "output_type": "stream",
     "text": [
      "<class 'pandas.core.frame.DataFrame'>\n",
      "RangeIndex: 420020 entries, 0 to 420019\n",
      "Data columns (total 40 columns):\n",
      " #   Column                  Non-Null Count   Dtype  \n",
      "---  ------                  --------------   -----  \n",
      " 0   lp                      420020 non-null  int64  \n",
      " 1   date                    420020 non-null  object \n",
      " 2   item_id                 420020 non-null  int64  \n",
      " 3   categories              420020 non-null  object \n",
      " 4   pay_option_on_delivery  420020 non-null  int64  \n",
      " 5   pay_option_transfer     420020 non-null  int64  \n",
      " 6   seller                  420020 non-null  object \n",
      " 7   price                   420020 non-null  float64\n",
      " 8   it_is_allegro_standard  420020 non-null  int64  \n",
      " 9   it_quantity             420020 non-null  int64  \n",
      " 10  it_is_brand_zone        420020 non-null  int64  \n",
      " 11  it_seller_rating        420020 non-null  int64  \n",
      " 12  it_location             420020 non-null  object \n",
      " 13  main_category_1         420020 non-null  int64  \n",
      " 14  main_category_2         420020 non-null  int64  \n",
      " 15  main_category_3         420020 non-null  int64  \n",
      " 16  main_category_4         420020 non-null  int64  \n",
      " 17  main_category_5         420020 non-null  int64  \n",
      " 18  main_category_6         420020 non-null  int64  \n",
      " 19  main_category_7         420020 non-null  int64  \n",
      " 20  main_category_8         420020 non-null  int64  \n",
      " 21  main_category_9         420020 non-null  int64  \n",
      " 22  main_category_10        420020 non-null  int64  \n",
      " 23  main_category_11        420020 non-null  int64  \n",
      " 24  main_category_12        420020 non-null  int64  \n",
      " 25  main_category_13        420020 non-null  int64  \n",
      " 26  main_category_14        420020 non-null  int64  \n",
      " 27  main_category_15        420020 non-null  int64  \n",
      " 28  main_category_16        420020 non-null  int64  \n",
      " 29  main_category_17        420020 non-null  int64  \n",
      " 30  main_category_18        420020 non-null  int64  \n",
      " 31  main_category_19        420020 non-null  int64  \n",
      " 32  main_category_20        420020 non-null  int64  \n",
      " 33  main_category_21        420020 non-null  int64  \n",
      " 34  main_category_22        420020 non-null  int64  \n",
      " 35  main_category_23        420020 non-null  int64  \n",
      " 36  main_category_24        420020 non-null  int64  \n",
      " 37  main_category_25        420020 non-null  int64  \n",
      " 38  main_category_26        420020 non-null  int64  \n",
      " 39  main_category_27        420020 non-null  int64  \n",
      "dtypes: float64(1), int64(35), object(4)\n",
      "memory usage: 128.2+ MB\n"
     ]
    }
   ],
   "source": [
    "onehot_result.info()"
   ]
  },
  {
   "cell_type": "markdown",
   "id": "similar-conspiracy",
   "metadata": {},
   "source": [
    "Po zastosowaniu OneHotEncoder, ramka danych urosła nam o **27 nowych kolumn**, jedna na każdą z kategorii które się znajdowały w kolumnie `main_category`."
   ]
  },
  {
   "cell_type": "markdown",
   "id": "metallic-infrastructure",
   "metadata": {},
   "source": [
    "## Leave One Out Encoder\n",
    "Leave One Out Encoder działa podobnie jak Target Encoder, z tą różnicą że podczas liczenia średniej, **pomijana jest wartość `target` kodowanej właśnie próbki.** Ma to na celu zmniejszenie zaburzenia średniej przez elementy odstające."
   ]
  },
  {
   "cell_type": "code",
   "execution_count": 10,
   "id": "burning-sender",
   "metadata": {},
   "outputs": [
    {
     "data": {
      "text/plain": [
       "0         121.814331\n",
       "1          75.859357\n",
       "2          72.434342\n",
       "3          25.028061\n",
       "4          75.859080\n",
       "             ...    \n",
       "420015    107.530709\n",
       "420016     28.129044\n",
       "420017     75.859337\n",
       "420018     71.203327\n",
       "420019    134.418844\n",
       "Name: main_category, Length: 420020, dtype: float64"
      ]
     },
     "execution_count": 10,
     "metadata": {},
     "output_type": "execute_result"
    }
   ],
   "source": [
    "loo_encoder = ce.LeaveOneOutEncoder(cols=['main_category'])\n",
    "loo_result = loo_encoder.fit_transform(raw, raw['price'])\n",
    "loo_result['main_category']"
   ]
  },
  {
   "cell_type": "markdown",
   "id": "reserved-twins",
   "metadata": {},
   "source": [
    "Kolumna `main_category` zawiera teraz **pojedyncze wartości liczbowe.**"
   ]
  },
  {
   "cell_type": "markdown",
   "id": "comic-malaysia",
   "metadata": {},
   "source": [
    "## CatBoost Encoder\n",
    "CatBoost Encoder jest rozwinięciem Leave One Out Encoder, tylko zamiast liczyć średnią ze wszystkich pozostałych próbek z danej kategorii, algorytm wylicza średnią na podstawię tylko tych próbek, które wcześniej napotkał. Enkoder przebiega więc po rzędach po kolei od góry do dołu. W celu zapobiegnięciu overfittingowi, w oryginalnej implementacji przeprowadzanych jest kilka takich przebiegów, które są poprzeplatane z losowymi permutacjami rzędów i wyciągana jest średnia dla każdej próbki. \n",
    "\n",
    "Jednak w [implementacji](https://contrib.scikit-learn.org/category_encoders/catboost.html) z biblioteki `category_encoders` enkoder przeprowadza tylko jeden przebieg, dlatego ważne jest ręczne przelosowanie kolejności próbek przed dopasowaniem enkodera (zwłaszcza w przypadkach gdy rzędy w ramce danych są posortowane wg. kolumny celu)."
   ]
  },
  {
   "cell_type": "code",
   "execution_count": 11,
   "id": "understood-ocean",
   "metadata": {},
   "outputs": [
    {
     "data": {
      "text/plain": [
       "260049     76.811350\n",
       "182844     76.811350\n",
       "86575      76.811350\n",
       "128318     44.405675\n",
       "380978     76.811350\n",
       "             ...    \n",
       "203626     72.435384\n",
       "371275     72.435400\n",
       "182811     25.032084\n",
       "160381     71.207524\n",
       "412282    107.536923\n",
       "Name: main_category, Length: 420020, dtype: float64"
      ]
     },
     "execution_count": 11,
     "metadata": {},
     "output_type": "execute_result"
    }
   ],
   "source": [
    "df = raw.sample(frac=1)\n",
    "catboost = ce.CatBoostEncoder(cols=['main_category'])\n",
    "catboost_result = catboost.fit_transform(df, df['price'])\n",
    "catboost_result['main_category']"
   ]
  },
  {
   "cell_type": "code",
   "execution_count": 12,
   "id": "hindu-document",
   "metadata": {},
   "outputs": [
    {
     "data": {
      "text/html": [
       "<div>\n",
       "<style scoped>\n",
       "    .dataframe tbody tr th:only-of-type {\n",
       "        vertical-align: middle;\n",
       "    }\n",
       "\n",
       "    .dataframe tbody tr th {\n",
       "        vertical-align: top;\n",
       "    }\n",
       "\n",
       "    .dataframe thead th {\n",
       "        text-align: right;\n",
       "    }\n",
       "</style>\n",
       "<table border=\"1\" class=\"dataframe\">\n",
       "  <thead>\n",
       "    <tr style=\"text-align: right;\">\n",
       "      <th></th>\n",
       "      <th>lp</th>\n",
       "      <th>date</th>\n",
       "      <th>item_id</th>\n",
       "      <th>categories</th>\n",
       "      <th>pay_option_on_delivery</th>\n",
       "      <th>pay_option_transfer</th>\n",
       "      <th>seller</th>\n",
       "      <th>price</th>\n",
       "      <th>it_is_allegro_standard</th>\n",
       "      <th>it_quantity</th>\n",
       "      <th>it_is_brand_zone</th>\n",
       "      <th>it_seller_rating</th>\n",
       "      <th>it_location</th>\n",
       "      <th>main_category</th>\n",
       "    </tr>\n",
       "  </thead>\n",
       "  <tbody>\n",
       "    <tr>\n",
       "      <th>260049</th>\n",
       "      <td>260049</td>\n",
       "      <td>2016-04-03 22:33:58</td>\n",
       "      <td>6092412333</td>\n",
       "      <td>['Dla Dzieci', 'Akcesoria dla dzieci', 'Krzese...</td>\n",
       "      <td>1</td>\n",
       "      <td>1</td>\n",
       "      <td>GambiShop</td>\n",
       "      <td>189.0</td>\n",
       "      <td>1</td>\n",
       "      <td>84</td>\n",
       "      <td>0</td>\n",
       "      <td>4000</td>\n",
       "      <td>Lębork</td>\n",
       "      <td>76.81135</td>\n",
       "    </tr>\n",
       "    <tr>\n",
       "      <th>182844</th>\n",
       "      <td>182844</td>\n",
       "      <td>2016-04-03 12:39:21</td>\n",
       "      <td>6090900154</td>\n",
       "      <td>['Odzież, Obuwie, Dodatki', 'Obuwie', 'Damskie...</td>\n",
       "      <td>0</td>\n",
       "      <td>0</td>\n",
       "      <td>ojanuszczak</td>\n",
       "      <td>0.0</td>\n",
       "      <td>0</td>\n",
       "      <td>0</td>\n",
       "      <td>0</td>\n",
       "      <td>12</td>\n",
       "      <td>Puławy</td>\n",
       "      <td>76.81135</td>\n",
       "    </tr>\n",
       "  </tbody>\n",
       "</table>\n",
       "</div>"
      ],
      "text/plain": [
       "            lp                 date     item_id  \\\n",
       "260049  260049  2016-04-03 22:33:58  6092412333   \n",
       "182844  182844  2016-04-03 12:39:21  6090900154   \n",
       "\n",
       "                                               categories  \\\n",
       "260049  ['Dla Dzieci', 'Akcesoria dla dzieci', 'Krzese...   \n",
       "182844  ['Odzież, Obuwie, Dodatki', 'Obuwie', 'Damskie...   \n",
       "\n",
       "        pay_option_on_delivery  pay_option_transfer       seller  price  \\\n",
       "260049                       1                    1    GambiShop  189.0   \n",
       "182844                       0                    0  ojanuszczak    0.0   \n",
       "\n",
       "        it_is_allegro_standard  it_quantity  it_is_brand_zone  \\\n",
       "260049                       1           84                 0   \n",
       "182844                       0            0                 0   \n",
       "\n",
       "        it_seller_rating it_location  main_category  \n",
       "260049              4000      Lębork       76.81135  \n",
       "182844                12      Puławy       76.81135  "
      ]
     },
     "execution_count": 12,
     "metadata": {},
     "output_type": "execute_result"
    }
   ],
   "source": [
    "catboost_result.head(2)"
   ]
  },
  {
   "cell_type": "markdown",
   "id": "regional-template",
   "metadata": {},
   "source": [
    "# Uzupełnianie brakujących danych"
   ]
  },
  {
   "cell_type": "markdown",
   "id": "bound-oregon",
   "metadata": {},
   "source": [
    "Teraz ograniczmy się tylko do kolumn numerycznych i na potrzeby krótszego czasu obliczeń, zmniejszmy rozmiar zbioru danych do 10,000. Sprawdźmy jeden ze sposobów uzupełniania brakujących danych za pomocą algorytmu k-NN. Algorytm ten uzupełnia dane na podstawie k innych najbliższych (ze względu na pozostałe cechy) rekordów, które posiadają brakujące cechy.\n",
    "\n",
    "Jako test działania algorytmu powtórzmy 10 razy poniższe czynności:\n",
    "* Usuńmy wartość `it_seller_raitng` z losowo wybranych 10% rekordów.\n",
    "* Przeprowadźmy imputację i porównajmy wyniki do właściwych usuniętych wartości za pomocą RSME."
   ]
  },
  {
   "cell_type": "code",
   "execution_count": 26,
   "id": "iraqi-output",
   "metadata": {},
   "outputs": [],
   "source": [
    "raw_num = raw[['it_seller_rating', 'it_quantity', 'price']].sample(n=10000).reset_index(drop=True)"
   ]
  },
  {
   "cell_type": "code",
   "execution_count": 27,
   "id": "prescribed-involvement",
   "metadata": {},
   "outputs": [],
   "source": [
    "from sklearn.impute import KNNImputer\n",
    "from sklearn.metrics import mean_squared_error\n",
    "\n",
    "\n",
    "\n",
    "def random_remove_values(df, col, rate):\n",
    "    indices_of_vals_to_remove = np.random.choice(df.index.values, size=int(len(df) * rate))\n",
    "    output_df = df.copy()\n",
    "    output_df.loc[indices_of_vals_to_remove, col] = np.nan\n",
    "    return output_df, indices_of_vals_to_remove\n",
    "\n",
    "# imputacja jest wykonywana i mierzona na pierwszej kolumnie w `columns`\n",
    "def imputation_score(df_input, imputer, columns, rates):\n",
    "    assert len(columns) == len(rates)\n",
    "    df = df_input.copy()\n",
    "    indices_of_removed_vals = []\n",
    "\n",
    "    for i in range(len(columns)):\n",
    "        df, indices = random_remove_values(df, columns[i], rates[i])\n",
    "        indices_of_removed_vals.append(indices)\n",
    "\n",
    "    imputer_result = imputer.fit_transform(df)\n",
    "    imputer_result_df = pd.DataFrame(imputer_result, columns=df.columns)\n",
    "\n",
    "    return mean_squared_error(df_input.loc[indices_of_removed_vals[0], columns[0]],\n",
    "                              imputer_result_df.loc[indices_of_removed_vals[0], columns[0]],\n",
    "                              squared=False)"
   ]
  },
  {
   "cell_type": "code",
   "execution_count": 28,
   "id": "chemical-addiction",
   "metadata": {},
   "outputs": [
    {
     "data": {
      "text/plain": [
       "1855.8802903932465"
      ]
     },
     "execution_count": 28,
     "metadata": {},
     "output_type": "execute_result"
    }
   ],
   "source": [
    "scores_1 = np.array([])\n",
    "for i in range(10):\n",
    "    scores_1 = np.append(scores_1, imputation_score(raw_num, KNNImputer(n_neighbors=3),\n",
    "                                                ['it_seller_rating'], [0.1]))\n",
    "scores_1.std()    "
   ]
  },
  {
   "cell_type": "markdown",
   "id": "sudden-jackson",
   "metadata": {},
   "source": [
    "Odchylenie standardowe wyników 10 testów wynosi **1856**, na poniższym wykresie widać że większość testów osiągała bląd RSME między 37,000 a 44,000."
   ]
  },
  {
   "cell_type": "code",
   "execution_count": 29,
   "id": "essential-marking",
   "metadata": {},
   "outputs": [
    {
     "data": {
      "image/png": "[encoded data removed]",
      "text/plain": [
       "<Figure size 864x432 with 1 Axes>"
      ]
     },
     "metadata": {
      "needs_background": "light"
     },
     "output_type": "display_data"
    }
   ],
   "source": [
    "fig, ax = plt.subplots(figsize=(12,6))\n",
    "ax.boxplot(scores_1, vert=False)\n",
    "plt.xlabel('RSME imputacji')\n",
    "plt.show()"
   ]
  },
  {
   "cell_type": "markdown",
   "id": "broadband-distributor",
   "metadata": {},
   "source": [
    "Aby mięć pojęcie czy są to duże błedy w porównaniu do imputowanych wartości, spójrzmy na rozkład zmiennej `it_seller_rating`. Rozkład jest silnie skośny i większość obserwacji ma wartość mniej niż 40,000, więc w większości przypadków błąd jest większy niż wartość większości próbek. Jest to słaby wynik."
   ]
  },
  {
   "cell_type": "code",
   "execution_count": 30,
   "id": "radio-universe",
   "metadata": {},
   "outputs": [
    {
     "data": {
      "image/png": "[encoded data removed]",
      "text/plain": [
       "<Figure size 864x432 with 1 Axes>"
      ]
     },
     "metadata": {
      "needs_background": "light"
     },
     "output_type": "display_data"
    }
   ],
   "source": [
    "fig, ax = plt.subplots(figsize=(12,6))\n",
    "sns.histplot(raw_num.loc[raw_num['it_seller_rating'] > 1000,'it_seller_rating'])\n",
    "plt.show()"
   ]
  },
  {
   "cell_type": "markdown",
   "id": "dramatic-organizer",
   "metadata": {},
   "source": [
    "Teraz przeprowadźmy podobny test imputowania wartości `it_seller_rating`, tym razem dodatkowo usuwając wartości kolumny `it_quantity` niezależnie 10% wylosowanym obserwacjom."
   ]
  },
  {
   "cell_type": "code",
   "execution_count": 31,
   "id": "intermediate-anchor",
   "metadata": {},
   "outputs": [
    {
     "data": {
      "text/plain": [
       "1182.2299361846312"
      ]
     },
     "execution_count": 31,
     "metadata": {},
     "output_type": "execute_result"
    }
   ],
   "source": [
    "scores_2 = np.array([])\n",
    "for i in range(10):\n",
    "    scores_2 = np.append(scores_2, imputation_score(raw_num, KNNImputer(n_neighbors=3),\n",
    "                                                ['it_seller_rating', 'it_quantity'], [0.1, 0.1]))\n",
    "scores_2.std()"
   ]
  },
  {
   "cell_type": "code",
   "execution_count": 32,
   "id": "blank-pontiac",
   "metadata": {},
   "outputs": [
    {
     "data": {
      "image/png": "[encoded data removed]",
      "text/plain": [
       "<Figure size 792x432 with 1 Axes>"
      ]
     },
     "metadata": {
      "needs_background": "light"
     },
     "output_type": "display_data"
    }
   ],
   "source": [
    "fig, ax = plt.subplots(figsize=(11,6))\n",
    "bp = ax.boxplot([scores_1, scores_2], labels=['usunięta jedna zmienna','usunięte dwie zmienne'], vert=False)\n",
    "plt.xlabel('RSME')\n",
    "plt.show()"
   ]
  },
  {
   "cell_type": "markdown",
   "id": "unable-basic",
   "metadata": {},
   "source": [
    "Tym razem wartości błędów RSME są większe oraz ich odchylenie standardowe jest mniejsze. Więc tak jak można było się spodziewać, przy brakujących dwóch zmiennych algorytm gorzej sobie poradził z imputacją brakujących wartości. W tym przypadku wartości błędów są zbyt duże by był sens korzystać z tego imputera. Z drugiej strony trudno się dziwić. Wydedukowanie oceny sprzedawcy na podstawie ocen sprzedawców \"najbliższych\" ofert, gdzie ta \"bliskość\" jest definiowana tylko na podstawie liczby wystawionych sztuk na sprzedaż i ich cenie, wydaje się być niemożliwym zadaniem.\n",
    "\n",
    "Imputer k-NN posiada parametr `k` (domyślnie ustawiony na 5), opowiadający liczbie najbiższych sąsiadów, których bierze pod uwagę podczas imputacji. Sprawdźmy jak jego wartość wpływa na wiekość błędu. Zmieńmy też liczbę powtórzeń testów na większą niż 10, być może wyniki będą miały mniejszy rozstrzał."
   ]
  },
  {
   "cell_type": "code",
   "execution_count": 33,
   "id": "numerical-belarus",
   "metadata": {},
   "outputs": [],
   "source": [
    "row_list = []\n",
    "\n",
    "for k in range(2, 9):\n",
    "    for j in range(50):\n",
    "        row_list.append({'k':k, 'removed_vars':1,\n",
    "                         'RSME': imputation_score(raw_num, KNNImputer(n_neighbors=k), ['it_seller_rating'], [0.1])})\n",
    "        \n",
    "for k in range(2, 9):\n",
    "    for j in range(50):\n",
    "        row_list.append({'k':k, 'removed_vars':2,\n",
    "                         'RSME': imputation_score(raw_num, KNNImputer(n_neighbors=k), ['it_seller_rating', 'it_quantity'], [0.1, 0.1])})\n",
    "results = pd.DataFrame(row_list)"
   ]
  },
  {
   "cell_type": "code",
   "execution_count": 34,
   "id": "previous-sharing",
   "metadata": {},
   "outputs": [
    {
     "data": {
      "text/plain": [
       "<AxesSubplot:xlabel='k', ylabel='RSME'>"
      ]
     },
     "execution_count": 34,
     "metadata": {},
     "output_type": "execute_result"
    },
    {
     "data": {
      "image/png": "[encoded data removed]",
      "text/plain": [
       "<Figure size 936x576 with 1 Axes>"
      ]
     },
     "metadata": {
      "needs_background": "light"
     },
     "output_type": "display_data"
    }
   ],
   "source": [
    "fig, ax = plt.subplots(figsize=(13,8))\n",
    "sns.boxplot(data=results, x='k', y='RSME', hue='removed_vars')"
   ]
  },
  {
   "cell_type": "markdown",
   "id": "played-facing",
   "metadata": {},
   "source": [
    "Jak widać na wykresie, większa wartość `k`, sprawia że błędy imputera są mniejsze. Aczkolwiek zwiększanie `k` powyżej 6 nie daje już znacząco lepszych rezultatów. Również tutaj, w przypadku parametru `k<=6` , błędy w testeach gdzie usnięto wartości z dwóch kolumn były większe. W przypadku największych wartości `k=7` i `k=8` różnica ta się zaciera. Co ciekawe, zwiększenie liczby testów o danych parametrach z 10 do 50, nie zmniejszyło odchyleń standardowych. Wręcz przeciwnie, każde z nich było większe od poprzednich eksperymentów, które polegały na dziesięciu powtórzeniach."
   ]
  },
  {
   "cell_type": "code",
   "execution_count": 36,
   "id": "coated-relations",
   "metadata": {},
   "outputs": [
    {
     "data": {
      "text/plain": [
       "k  removed_vars\n",
       "2  1               2609.119932\n",
       "   2               2488.027237\n",
       "3  1               1904.853180\n",
       "   2               2761.746565\n",
       "4  1               2394.531000\n",
       "   2               2060.542873\n",
       "5  1               2377.714547\n",
       "   2               1912.111424\n",
       "6  1               2350.495825\n",
       "   2               2227.412034\n",
       "7  1               2214.844634\n",
       "   2               2196.696500\n",
       "8  1               2206.794986\n",
       "   2               2501.446357\n",
       "Name: RSME, dtype: float64"
      ]
     },
     "execution_count": 36,
     "metadata": {},
     "output_type": "execute_result"
    }
   ],
   "source": [
    "results.groupby(['k', 'removed_vars'])['RSME'].std()"
   ]
  }
 ],
 "metadata": {
  "kernelspec": {
   "display_name": "Python 3",
   "language": "python",
   "name": "python3"
  },
  "language_info": {
   "codemirror_mode": {
    "name": "ipython",
    "version": 3
   },
   "file_extension": ".py",
   "mimetype": "text/x-python",
   "name": "python",
   "nbconvert_exporter": "python",
   "pygments_lexer": "ipython3",
   "version": "3.8.2"
  }
 },
 "nbformat": 4,
 "nbformat_minor": 5
}
