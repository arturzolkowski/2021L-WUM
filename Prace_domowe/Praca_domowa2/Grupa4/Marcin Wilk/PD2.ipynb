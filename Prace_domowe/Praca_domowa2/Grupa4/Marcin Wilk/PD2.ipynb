{
 "cells": [
  {
   "cell_type": "markdown",
   "metadata": {},
   "source": [
    "# Praca domowa 2 Marcin Wilk#"
   ]
  },
  {
   "cell_type": "code",
   "execution_count": 1,
   "metadata": {},
   "outputs": [],
   "source": [
    "import pandas as pd\n",
    "import numpy as np \n",
    "import seaborn as sns\n",
    "import matplotlib as mpl\n",
    "from matplotlib import pyplot as plt\n",
    "from sklearn.impute import KNNImputer"
   ]
  },
  {
   "cell_type": "code",
   "execution_count": 2,
   "metadata": {},
   "outputs": [],
   "source": [
    "df=pd.read_csv(\"C:\\\\Users\\\\Lenovo\\\\Desktop\\\\Wstęp do uczenia maszynowego\\\\Dane\\\\allegro-api-transactions.csv\")"
   ]
  },
  {
   "cell_type": "code",
   "execution_count": 3,
   "metadata": {},
   "outputs": [
    {
     "data": {
      "text/html": [
       "<div>\n",
       "<style scoped>\n",
       "    .dataframe tbody tr th:only-of-type {\n",
       "        vertical-align: middle;\n",
       "    }\n",
       "\n",
       "    .dataframe tbody tr th {\n",
       "        vertical-align: top;\n",
       "    }\n",
       "\n",
       "    .dataframe thead th {\n",
       "        text-align: right;\n",
       "    }\n",
       "</style>\n",
       "<table border=\"1\" class=\"dataframe\">\n",
       "  <thead>\n",
       "    <tr style=\"text-align: right;\">\n",
       "      <th></th>\n",
       "      <th>lp</th>\n",
       "      <th>date</th>\n",
       "      <th>item_id</th>\n",
       "      <th>categories</th>\n",
       "      <th>pay_option_on_delivery</th>\n",
       "      <th>pay_option_transfer</th>\n",
       "      <th>seller</th>\n",
       "      <th>price</th>\n",
       "      <th>it_is_allegro_standard</th>\n",
       "      <th>it_quantity</th>\n",
       "      <th>it_is_brand_zone</th>\n",
       "      <th>it_seller_rating</th>\n",
       "      <th>it_location</th>\n",
       "      <th>main_category</th>\n",
       "    </tr>\n",
       "  </thead>\n",
       "  <tbody>\n",
       "    <tr>\n",
       "      <th>0</th>\n",
       "      <td>0</td>\n",
       "      <td>2016-04-03 21:21:08</td>\n",
       "      <td>4753602474</td>\n",
       "      <td>['Komputery', 'Dyski i napędy', 'Nośniki', 'No...</td>\n",
       "      <td>1</td>\n",
       "      <td>1</td>\n",
       "      <td>radzioch666</td>\n",
       "      <td>59.99</td>\n",
       "      <td>1</td>\n",
       "      <td>997</td>\n",
       "      <td>0</td>\n",
       "      <td>50177</td>\n",
       "      <td>Warszawa</td>\n",
       "      <td>Komputery</td>\n",
       "    </tr>\n",
       "    <tr>\n",
       "      <th>1</th>\n",
       "      <td>1</td>\n",
       "      <td>2016-04-03 15:35:26</td>\n",
       "      <td>4773181874</td>\n",
       "      <td>['Odzież, Obuwie, Dodatki', 'Bielizna damska',...</td>\n",
       "      <td>1</td>\n",
       "      <td>1</td>\n",
       "      <td>InwestycjeNET</td>\n",
       "      <td>4.90</td>\n",
       "      <td>1</td>\n",
       "      <td>9288</td>\n",
       "      <td>0</td>\n",
       "      <td>12428</td>\n",
       "      <td>Warszawa</td>\n",
       "      <td>Odzież, Obuwie, Dodatki</td>\n",
       "    </tr>\n",
       "    <tr>\n",
       "      <th>2</th>\n",
       "      <td>2</td>\n",
       "      <td>2016-04-03 14:14:31</td>\n",
       "      <td>4781627074</td>\n",
       "      <td>['Dom i Ogród', 'Budownictwo i Akcesoria', 'Śc...</td>\n",
       "      <td>1</td>\n",
       "      <td>1</td>\n",
       "      <td>otostyl_com</td>\n",
       "      <td>109.90</td>\n",
       "      <td>1</td>\n",
       "      <td>895</td>\n",
       "      <td>0</td>\n",
       "      <td>7389</td>\n",
       "      <td>Leszno</td>\n",
       "      <td>Dom i Ogród</td>\n",
       "    </tr>\n",
       "    <tr>\n",
       "      <th>3</th>\n",
       "      <td>3</td>\n",
       "      <td>2016-04-03 19:55:44</td>\n",
       "      <td>4783971474</td>\n",
       "      <td>['Książki i Komiksy', 'Poradniki i albumy', 'Z...</td>\n",
       "      <td>1</td>\n",
       "      <td>1</td>\n",
       "      <td>Matfel1</td>\n",
       "      <td>18.50</td>\n",
       "      <td>0</td>\n",
       "      <td>971</td>\n",
       "      <td>0</td>\n",
       "      <td>15006</td>\n",
       "      <td>Wola Krzysztoporska</td>\n",
       "      <td>Książki i Komiksy</td>\n",
       "    </tr>\n",
       "    <tr>\n",
       "      <th>4</th>\n",
       "      <td>4</td>\n",
       "      <td>2016-04-03 18:05:54</td>\n",
       "      <td>4787908274</td>\n",
       "      <td>['Odzież, Obuwie, Dodatki', 'Ślub i wesele', '...</td>\n",
       "      <td>1</td>\n",
       "      <td>1</td>\n",
       "      <td>PPHU_RICO</td>\n",
       "      <td>19.90</td>\n",
       "      <td>1</td>\n",
       "      <td>950</td>\n",
       "      <td>0</td>\n",
       "      <td>32975</td>\n",
       "      <td>BIAŁYSTOK</td>\n",
       "      <td>Odzież, Obuwie, Dodatki</td>\n",
       "    </tr>\n",
       "  </tbody>\n",
       "</table>\n",
       "</div>"
      ],
      "text/plain": [
       "   lp                 date     item_id  \\\n",
       "0   0  2016-04-03 21:21:08  4753602474   \n",
       "1   1  2016-04-03 15:35:26  4773181874   \n",
       "2   2  2016-04-03 14:14:31  4781627074   \n",
       "3   3  2016-04-03 19:55:44  4783971474   \n",
       "4   4  2016-04-03 18:05:54  4787908274   \n",
       "\n",
       "                                          categories  pay_option_on_delivery  \\\n",
       "0  ['Komputery', 'Dyski i napędy', 'Nośniki', 'No...                       1   \n",
       "1  ['Odzież, Obuwie, Dodatki', 'Bielizna damska',...                       1   \n",
       "2  ['Dom i Ogród', 'Budownictwo i Akcesoria', 'Śc...                       1   \n",
       "3  ['Książki i Komiksy', 'Poradniki i albumy', 'Z...                       1   \n",
       "4  ['Odzież, Obuwie, Dodatki', 'Ślub i wesele', '...                       1   \n",
       "\n",
       "   pay_option_transfer         seller   price  it_is_allegro_standard  \\\n",
       "0                    1    radzioch666   59.99                       1   \n",
       "1                    1  InwestycjeNET    4.90                       1   \n",
       "2                    1    otostyl_com  109.90                       1   \n",
       "3                    1        Matfel1   18.50                       0   \n",
       "4                    1      PPHU_RICO   19.90                       1   \n",
       "\n",
       "   it_quantity  it_is_brand_zone  it_seller_rating          it_location  \\\n",
       "0          997                 0             50177             Warszawa   \n",
       "1         9288                 0             12428             Warszawa   \n",
       "2          895                 0              7389               Leszno   \n",
       "3          971                 0             15006  Wola Krzysztoporska   \n",
       "4          950                 0             32975            BIAŁYSTOK   \n",
       "\n",
       "             main_category  \n",
       "0                Komputery  \n",
       "1  Odzież, Obuwie, Dodatki  \n",
       "2              Dom i Ogród  \n",
       "3        Książki i Komiksy  \n",
       "4  Odzież, Obuwie, Dodatki  "
      ]
     },
     "execution_count": 3,
     "metadata": {},
     "output_type": "execute_result"
    }
   ],
   "source": [
    "df.head()"
   ]
  },
  {
   "cell_type": "code",
   "execution_count": 4,
   "metadata": {},
   "outputs": [
    {
     "name": "stdout",
     "output_type": "stream",
     "text": [
      "<class 'pandas.core.frame.DataFrame'>\n",
      "RangeIndex: 420020 entries, 0 to 420019\n",
      "Data columns (total 14 columns):\n",
      " #   Column                  Non-Null Count   Dtype  \n",
      "---  ------                  --------------   -----  \n",
      " 0   lp                      420020 non-null  int64  \n",
      " 1   date                    420020 non-null  object \n",
      " 2   item_id                 420020 non-null  int64  \n",
      " 3   categories              420020 non-null  object \n",
      " 4   pay_option_on_delivery  420020 non-null  int64  \n",
      " 5   pay_option_transfer     420020 non-null  int64  \n",
      " 6   seller                  420020 non-null  object \n",
      " 7   price                   420020 non-null  float64\n",
      " 8   it_is_allegro_standard  420020 non-null  int64  \n",
      " 9   it_quantity             420020 non-null  int64  \n",
      " 10  it_is_brand_zone        420020 non-null  int64  \n",
      " 11  it_seller_rating        420020 non-null  int64  \n",
      " 12  it_location             420020 non-null  object \n",
      " 13  main_category           420020 non-null  object \n",
      "dtypes: float64(1), int64(8), object(5)\n",
      "memory usage: 44.9+ MB\n"
     ]
    }
   ],
   "source": [
    "df.info()"
   ]
  },
  {
   "cell_type": "markdown",
   "metadata": {},
   "source": [
    "## 1. Kodowanie zmiennych kategorycznych"
   ]
  },
  {
   "cell_type": "code",
   "execution_count": 5,
   "metadata": {},
   "outputs": [],
   "source": [
    "import category_encoders as ce"
   ]
  },
  {
   "cell_type": "markdown",
   "metadata": {},
   "source": [
    "### Target encoder"
   ]
  },
  {
   "cell_type": "markdown",
   "metadata": {},
   "source": [
    "Jako że target encoding jest mocno zależny od rozkładu zmiennej target, sprawdźmy czy nasza zmienna **price** nie posiada jakiegoś \"patologicznego\" rozkładu."
   ]
  },
  {
   "cell_type": "code",
   "execution_count": 6,
   "metadata": {},
   "outputs": [
    {
     "data": {
      "text/plain": [
       "<matplotlib.axes._subplots.AxesSubplot at 0x28e80d9c280>"
      ]
     },
     "execution_count": 6,
     "metadata": {},
     "output_type": "execute_result"
    },
    {
     "data": {
      "image/png": "[encoded data removed]",
      "text/plain": [
       "<Figure size 432x288 with 1 Axes>"
      ]
     },
     "metadata": {
      "needs_background": "light"
     },
     "output_type": "display_data"
    }
   ],
   "source": [
    "(df[\"price\"])[df[\"price\"]<1000].hist(bins=100)"
   ]
  },
  {
   "cell_type": "markdown",
   "metadata": {},
   "source": [
    "Rozkład wydaje się być ciągły, przypomina wykładniczy."
   ]
  },
  {
   "cell_type": "code",
   "execution_count": 7,
   "metadata": {},
   "outputs": [
    {
     "data": {
      "text/plain": [
       "Warszawa                          23244\n",
       "Kraków                            15135\n",
       "Łódź                              10935\n",
       "Poznań                            10610\n",
       "Wrocław                            8646\n",
       "                                  ...  \n",
       "Aschering                             1\n",
       "KRAKÓW                                1\n",
       "Szczecin Sopot Poznań Katowice        1\n",
       "kluszkowce                            1\n",
       "Jezowe                                1\n",
       "Name: it_location, Length: 10056, dtype: int64"
      ]
     },
     "execution_count": 7,
     "metadata": {},
     "output_type": "execute_result"
    }
   ],
   "source": [
    "df[\"it_location\"].value_counts()"
   ]
  },
  {
   "cell_type": "markdown",
   "metadata": {},
   "source": [
    "Jak widzimy mamy bardzo wiele kategorii w naszej zmiennej **it_location**. Możliwe jednak, że niektóre miasta zostały napisane z małych liter albo w dziwnych formatach. Z tego powodu spróbujemy połączyć je w szersze klasy tak by miasta zapisane np. w postaciach Warszawa warszawa Warszawa-Mokotów były traktowane po prostu jako jedno miejsce - warszawa."
   ]
  },
  {
   "cell_type": "code",
   "execution_count": 8,
   "metadata": {},
   "outputs": [],
   "source": [
    "df[\"it_location\"]=df[\"it_location\"].apply(lambda x: x.lower())"
   ]
  },
  {
   "cell_type": "code",
   "execution_count": 9,
   "metadata": {},
   "outputs": [
    {
     "data": {
      "text/plain": [
       "warszawa                       27042\n",
       "kraków                         16581\n",
       "łódź                           12433\n",
       "poznań                         11197\n",
       "internet                       10992\n",
       "                               ...  \n",
       "nowa wieś komorów                  1\n",
       "stargard wrocław warszawa          1\n",
       "przemyśl - orły -  jarosław        1\n",
       "kokotów                            1\n",
       "pisarzowice/wrocław                1\n",
       "Name: it_location, Length: 7903, dtype: int64"
      ]
     },
     "execution_count": 9,
     "metadata": {},
     "output_type": "execute_result"
    }
   ],
   "source": [
    "lokacje=df[\"it_location\"].value_counts()\n",
    "lokacje"
   ]
  },
  {
   "cell_type": "markdown",
   "metadata": {},
   "source": [
    "Widzimy, że prosty zabieg zapisu całej nazwy z małych liter zmniejszył nam liczbę różnych miejsc aż o ponad 2 tysiące. "
   ]
  },
  {
   "cell_type": "markdown",
   "metadata": {},
   "source": [
    "One-hot encoding wyprodukowałby nam w tym przypadku prawie 8000 nowych kolumn, co jest oczywiście bardzo niepożądane, więc tutaj przewagę ma target encoding. Spróbujemy zatem target encodingu przyjmując jako target zmienną price."
   ]
  },
  {
   "cell_type": "code",
   "execution_count": 10,
   "metadata": {},
   "outputs": [],
   "source": [
    "encoder = ce.TargetEncoder()\n",
    "df[\"it_location_encoded\"] = encoder.fit_transform(df[\"it_location\"], df[\"price\"])"
   ]
  },
  {
   "cell_type": "code",
   "execution_count": 11,
   "metadata": {},
   "outputs": [
    {
     "data": {
      "text/html": [
       "<div>\n",
       "<style scoped>\n",
       "    .dataframe tbody tr th:only-of-type {\n",
       "        vertical-align: middle;\n",
       "    }\n",
       "\n",
       "    .dataframe tbody tr th {\n",
       "        vertical-align: top;\n",
       "    }\n",
       "\n",
       "    .dataframe thead th {\n",
       "        text-align: right;\n",
       "    }\n",
       "</style>\n",
       "<table border=\"1\" class=\"dataframe\">\n",
       "  <thead>\n",
       "    <tr style=\"text-align: right;\">\n",
       "      <th></th>\n",
       "      <th>it_location</th>\n",
       "      <th>it_location_encoded</th>\n",
       "    </tr>\n",
       "  </thead>\n",
       "  <tbody>\n",
       "    <tr>\n",
       "      <th>0</th>\n",
       "      <td>warszawa</td>\n",
       "      <td>84.132898</td>\n",
       "    </tr>\n",
       "    <tr>\n",
       "      <th>1</th>\n",
       "      <td>warszawa</td>\n",
       "      <td>84.132898</td>\n",
       "    </tr>\n",
       "    <tr>\n",
       "      <th>2</th>\n",
       "      <td>leszno</td>\n",
       "      <td>64.883187</td>\n",
       "    </tr>\n",
       "    <tr>\n",
       "      <th>3</th>\n",
       "      <td>wola krzysztoporska</td>\n",
       "      <td>35.433365</td>\n",
       "    </tr>\n",
       "    <tr>\n",
       "      <th>4</th>\n",
       "      <td>białystok</td>\n",
       "      <td>73.772916</td>\n",
       "    </tr>\n",
       "    <tr>\n",
       "      <th>...</th>\n",
       "      <td>...</td>\n",
       "      <td>...</td>\n",
       "    </tr>\n",
       "    <tr>\n",
       "      <th>420015</th>\n",
       "      <td>kraśnik</td>\n",
       "      <td>26.346402</td>\n",
       "    </tr>\n",
       "    <tr>\n",
       "      <th>420016</th>\n",
       "      <td>dzierżoniów</td>\n",
       "      <td>63.645927</td>\n",
       "    </tr>\n",
       "    <tr>\n",
       "      <th>420017</th>\n",
       "      <td>supraśl</td>\n",
       "      <td>18.682800</td>\n",
       "    </tr>\n",
       "    <tr>\n",
       "      <th>420018</th>\n",
       "      <td>poznań</td>\n",
       "      <td>104.254805</td>\n",
       "    </tr>\n",
       "    <tr>\n",
       "      <th>420019</th>\n",
       "      <td>pszów</td>\n",
       "      <td>78.136792</td>\n",
       "    </tr>\n",
       "  </tbody>\n",
       "</table>\n",
       "<p>420020 rows × 2 columns</p>\n",
       "</div>"
      ],
      "text/plain": [
       "                it_location  it_location_encoded\n",
       "0                  warszawa            84.132898\n",
       "1                  warszawa            84.132898\n",
       "2                    leszno            64.883187\n",
       "3       wola krzysztoporska            35.433365\n",
       "4                 białystok            73.772916\n",
       "...                     ...                  ...\n",
       "420015              kraśnik            26.346402\n",
       "420016          dzierżoniów            63.645927\n",
       "420017              supraśl            18.682800\n",
       "420018               poznań           104.254805\n",
       "420019                pszów            78.136792\n",
       "\n",
       "[420020 rows x 2 columns]"
      ]
     },
     "execution_count": 11,
     "metadata": {},
     "output_type": "execute_result"
    }
   ],
   "source": [
    "df[[\"it_location\",\"it_location_encoded\"]]"
   ]
  },
  {
   "cell_type": "code",
   "execution_count": 12,
   "metadata": {},
   "outputs": [
    {
     "data": {
      "text/plain": [
       "84.132898     27042\n",
       "76.819205     16581\n",
       "58.276109     12433\n",
       "104.254805    11197\n",
       "68.376518     10992\n",
       "              ...  \n",
       "22.105250         2\n",
       "34.913396         2\n",
       "129.581827        2\n",
       "26.396564         2\n",
       "174.180055        2\n",
       "Name: it_location_encoded, Length: 5142, dtype: int64"
      ]
     },
     "execution_count": 12,
     "metadata": {},
     "output_type": "execute_result"
    }
   ],
   "source": [
    "df[\"it_location_encoded\"].value_counts()"
   ]
  },
  {
   "cell_type": "markdown",
   "metadata": {},
   "source": [
    "Porównując to z poprzednią tabelką value_counts można zauważyć, że znacznie zmiejszyła nam się liczba różnych wartości w porównaniu do stanu sprzed kodowania. Jest prawie 3000 różnych wartości mniej, co oznacza, że niektóre klasy zostały połączone i zakodowane jako jedna, co sprawia, że teraz osobne kategorie są z punktu widzenia algorytmu nierozróżnialne, w przeciwieństwie do one-hot encoding, gdzie zawsze nasze kodowanie będzie bijekcją. Jest to niewątpliwie minusem target encodingu, gdyż możemy przez to przeoczyć jakąś ważną informację. Stało się tak na przykład z wszystkimi klasami o liczności 1, co pokazuje, że lepiej sprawdziłby się chyba dla klas o większych licznościach, gdzie lepiej moglibyśmy estymować prawdopodobieństwa w grupach. Jednak target encoding wyprodukuje nam zawsze tylko jedną kolumnę, co sprawia, że nie przybywa nam danych w naszym zbiorze. "
   ]
  },
  {
   "cell_type": "markdown",
   "metadata": {},
   "source": [
    "### One-hot encoder\n"
   ]
  },
  {
   "cell_type": "code",
   "execution_count": 45,
   "metadata": {},
   "outputs": [
    {
     "data": {
      "text/plain": [
       "Dom i Ogród                            91042\n",
       "Odzież, Obuwie, Dodatki                54257\n",
       "Motoryzacja                            45941\n",
       "Dla Dzieci                             42107\n",
       "Uroda                                  28096\n",
       "Sport i Turystyka                      27532\n",
       "RTV i AGD                              20341\n",
       "Telefony i Akcesoria                   19805\n",
       "Komputery                              14491\n",
       "Zdrowie                                13166\n",
       "Książki i Komiksy                      11572\n",
       "Delikatesy                              8074\n",
       "Gry                                     7150\n",
       "Rękodzieło                              6574\n",
       "Kolekcje                                6146\n",
       "Przemysł                                5959\n",
       "Biżuteria i Zegarki                     5808\n",
       "Biuro i Reklama                         3194\n",
       "Fotografia                              2381\n",
       "Muzyka                                  1961\n",
       "Antyki i Sztuka                         1214\n",
       "Konsole i automaty                      1053\n",
       "Filmy                                   1005\n",
       "Instrumenty                              617\n",
       "Sprzęt estradowy, studyjny i DJ-ski      413\n",
       "Bilety                                   119\n",
       "Nieruchomości                              2\n",
       "Name: main_category, dtype: int64"
      ]
     },
     "execution_count": 45,
     "metadata": {},
     "output_type": "execute_result"
    }
   ],
   "source": [
    "df[\"main_category\"].value_counts()"
   ]
  },
  {
   "cell_type": "markdown",
   "metadata": {},
   "source": [
    "Widzimy, że tutaj liczba kategorii nie jest aż taka ogromna, stąd możemy zastosować one-hot encoding."
   ]
  },
  {
   "cell_type": "code",
   "execution_count": 46,
   "metadata": {},
   "outputs": [
    {
     "data": {
      "text/html": [
       "<div>\n",
       "<style scoped>\n",
       "    .dataframe tbody tr th:only-of-type {\n",
       "        vertical-align: middle;\n",
       "    }\n",
       "\n",
       "    .dataframe tbody tr th {\n",
       "        vertical-align: top;\n",
       "    }\n",
       "\n",
       "    .dataframe thead th {\n",
       "        text-align: right;\n",
       "    }\n",
       "</style>\n",
       "<table border=\"1\" class=\"dataframe\">\n",
       "  <thead>\n",
       "    <tr style=\"text-align: right;\">\n",
       "      <th></th>\n",
       "      <th>main_category_1</th>\n",
       "      <th>main_category_2</th>\n",
       "      <th>main_category_3</th>\n",
       "      <th>main_category_4</th>\n",
       "      <th>main_category_5</th>\n",
       "      <th>main_category_6</th>\n",
       "      <th>main_category_7</th>\n",
       "      <th>main_category_8</th>\n",
       "      <th>main_category_9</th>\n",
       "      <th>main_category_10</th>\n",
       "      <th>...</th>\n",
       "      <th>main_category_18</th>\n",
       "      <th>main_category_19</th>\n",
       "      <th>main_category_20</th>\n",
       "      <th>main_category_21</th>\n",
       "      <th>main_category_22</th>\n",
       "      <th>main_category_23</th>\n",
       "      <th>main_category_24</th>\n",
       "      <th>main_category_25</th>\n",
       "      <th>main_category_26</th>\n",
       "      <th>main_category_27</th>\n",
       "    </tr>\n",
       "  </thead>\n",
       "  <tbody>\n",
       "    <tr>\n",
       "      <th>0</th>\n",
       "      <td>1</td>\n",
       "      <td>0</td>\n",
       "      <td>0</td>\n",
       "      <td>0</td>\n",
       "      <td>0</td>\n",
       "      <td>0</td>\n",
       "      <td>0</td>\n",
       "      <td>0</td>\n",
       "      <td>0</td>\n",
       "      <td>0</td>\n",
       "      <td>...</td>\n",
       "      <td>0</td>\n",
       "      <td>0</td>\n",
       "      <td>0</td>\n",
       "      <td>0</td>\n",
       "      <td>0</td>\n",
       "      <td>0</td>\n",
       "      <td>0</td>\n",
       "      <td>0</td>\n",
       "      <td>0</td>\n",
       "      <td>0</td>\n",
       "    </tr>\n",
       "    <tr>\n",
       "      <th>1</th>\n",
       "      <td>0</td>\n",
       "      <td>1</td>\n",
       "      <td>0</td>\n",
       "      <td>0</td>\n",
       "      <td>0</td>\n",
       "      <td>0</td>\n",
       "      <td>0</td>\n",
       "      <td>0</td>\n",
       "      <td>0</td>\n",
       "      <td>0</td>\n",
       "      <td>...</td>\n",
       "      <td>0</td>\n",
       "      <td>0</td>\n",
       "      <td>0</td>\n",
       "      <td>0</td>\n",
       "      <td>0</td>\n",
       "      <td>0</td>\n",
       "      <td>0</td>\n",
       "      <td>0</td>\n",
       "      <td>0</td>\n",
       "      <td>0</td>\n",
       "    </tr>\n",
       "    <tr>\n",
       "      <th>2</th>\n",
       "      <td>0</td>\n",
       "      <td>0</td>\n",
       "      <td>1</td>\n",
       "      <td>0</td>\n",
       "      <td>0</td>\n",
       "      <td>0</td>\n",
       "      <td>0</td>\n",
       "      <td>0</td>\n",
       "      <td>0</td>\n",
       "      <td>0</td>\n",
       "      <td>...</td>\n",
       "      <td>0</td>\n",
       "      <td>0</td>\n",
       "      <td>0</td>\n",
       "      <td>0</td>\n",
       "      <td>0</td>\n",
       "      <td>0</td>\n",
       "      <td>0</td>\n",
       "      <td>0</td>\n",
       "      <td>0</td>\n",
       "      <td>0</td>\n",
       "    </tr>\n",
       "    <tr>\n",
       "      <th>3</th>\n",
       "      <td>0</td>\n",
       "      <td>0</td>\n",
       "      <td>0</td>\n",
       "      <td>1</td>\n",
       "      <td>0</td>\n",
       "      <td>0</td>\n",
       "      <td>0</td>\n",
       "      <td>0</td>\n",
       "      <td>0</td>\n",
       "      <td>0</td>\n",
       "      <td>...</td>\n",
       "      <td>0</td>\n",
       "      <td>0</td>\n",
       "      <td>0</td>\n",
       "      <td>0</td>\n",
       "      <td>0</td>\n",
       "      <td>0</td>\n",
       "      <td>0</td>\n",
       "      <td>0</td>\n",
       "      <td>0</td>\n",
       "      <td>0</td>\n",
       "    </tr>\n",
       "    <tr>\n",
       "      <th>4</th>\n",
       "      <td>0</td>\n",
       "      <td>1</td>\n",
       "      <td>0</td>\n",
       "      <td>0</td>\n",
       "      <td>0</td>\n",
       "      <td>0</td>\n",
       "      <td>0</td>\n",
       "      <td>0</td>\n",
       "      <td>0</td>\n",
       "      <td>0</td>\n",
       "      <td>...</td>\n",
       "      <td>0</td>\n",
       "      <td>0</td>\n",
       "      <td>0</td>\n",
       "      <td>0</td>\n",
       "      <td>0</td>\n",
       "      <td>0</td>\n",
       "      <td>0</td>\n",
       "      <td>0</td>\n",
       "      <td>0</td>\n",
       "      <td>0</td>\n",
       "    </tr>\n",
       "    <tr>\n",
       "      <th>...</th>\n",
       "      <td>...</td>\n",
       "      <td>...</td>\n",
       "      <td>...</td>\n",
       "      <td>...</td>\n",
       "      <td>...</td>\n",
       "      <td>...</td>\n",
       "      <td>...</td>\n",
       "      <td>...</td>\n",
       "      <td>...</td>\n",
       "      <td>...</td>\n",
       "      <td>...</td>\n",
       "      <td>...</td>\n",
       "      <td>...</td>\n",
       "      <td>...</td>\n",
       "      <td>...</td>\n",
       "      <td>...</td>\n",
       "      <td>...</td>\n",
       "      <td>...</td>\n",
       "      <td>...</td>\n",
       "      <td>...</td>\n",
       "      <td>...</td>\n",
       "    </tr>\n",
       "    <tr>\n",
       "      <th>420015</th>\n",
       "      <td>0</td>\n",
       "      <td>0</td>\n",
       "      <td>0</td>\n",
       "      <td>0</td>\n",
       "      <td>0</td>\n",
       "      <td>1</td>\n",
       "      <td>0</td>\n",
       "      <td>0</td>\n",
       "      <td>0</td>\n",
       "      <td>0</td>\n",
       "      <td>...</td>\n",
       "      <td>0</td>\n",
       "      <td>0</td>\n",
       "      <td>0</td>\n",
       "      <td>0</td>\n",
       "      <td>0</td>\n",
       "      <td>0</td>\n",
       "      <td>0</td>\n",
       "      <td>0</td>\n",
       "      <td>0</td>\n",
       "      <td>0</td>\n",
       "    </tr>\n",
       "    <tr>\n",
       "      <th>420016</th>\n",
       "      <td>0</td>\n",
       "      <td>0</td>\n",
       "      <td>0</td>\n",
       "      <td>0</td>\n",
       "      <td>0</td>\n",
       "      <td>0</td>\n",
       "      <td>0</td>\n",
       "      <td>0</td>\n",
       "      <td>1</td>\n",
       "      <td>0</td>\n",
       "      <td>...</td>\n",
       "      <td>0</td>\n",
       "      <td>0</td>\n",
       "      <td>0</td>\n",
       "      <td>0</td>\n",
       "      <td>0</td>\n",
       "      <td>0</td>\n",
       "      <td>0</td>\n",
       "      <td>0</td>\n",
       "      <td>0</td>\n",
       "      <td>0</td>\n",
       "    </tr>\n",
       "    <tr>\n",
       "      <th>420017</th>\n",
       "      <td>0</td>\n",
       "      <td>1</td>\n",
       "      <td>0</td>\n",
       "      <td>0</td>\n",
       "      <td>0</td>\n",
       "      <td>0</td>\n",
       "      <td>0</td>\n",
       "      <td>0</td>\n",
       "      <td>0</td>\n",
       "      <td>0</td>\n",
       "      <td>...</td>\n",
       "      <td>0</td>\n",
       "      <td>0</td>\n",
       "      <td>0</td>\n",
       "      <td>0</td>\n",
       "      <td>0</td>\n",
       "      <td>0</td>\n",
       "      <td>0</td>\n",
       "      <td>0</td>\n",
       "      <td>0</td>\n",
       "      <td>0</td>\n",
       "    </tr>\n",
       "    <tr>\n",
       "      <th>420018</th>\n",
       "      <td>0</td>\n",
       "      <td>0</td>\n",
       "      <td>0</td>\n",
       "      <td>0</td>\n",
       "      <td>0</td>\n",
       "      <td>0</td>\n",
       "      <td>0</td>\n",
       "      <td>1</td>\n",
       "      <td>0</td>\n",
       "      <td>0</td>\n",
       "      <td>...</td>\n",
       "      <td>0</td>\n",
       "      <td>0</td>\n",
       "      <td>0</td>\n",
       "      <td>0</td>\n",
       "      <td>0</td>\n",
       "      <td>0</td>\n",
       "      <td>0</td>\n",
       "      <td>0</td>\n",
       "      <td>0</td>\n",
       "      <td>0</td>\n",
       "    </tr>\n",
       "    <tr>\n",
       "      <th>420019</th>\n",
       "      <td>0</td>\n",
       "      <td>0</td>\n",
       "      <td>0</td>\n",
       "      <td>0</td>\n",
       "      <td>0</td>\n",
       "      <td>0</td>\n",
       "      <td>1</td>\n",
       "      <td>0</td>\n",
       "      <td>0</td>\n",
       "      <td>0</td>\n",
       "      <td>...</td>\n",
       "      <td>0</td>\n",
       "      <td>0</td>\n",
       "      <td>0</td>\n",
       "      <td>0</td>\n",
       "      <td>0</td>\n",
       "      <td>0</td>\n",
       "      <td>0</td>\n",
       "      <td>0</td>\n",
       "      <td>0</td>\n",
       "      <td>0</td>\n",
       "    </tr>\n",
       "  </tbody>\n",
       "</table>\n",
       "<p>420020 rows × 27 columns</p>\n",
       "</div>"
      ],
      "text/plain": [
       "        main_category_1  main_category_2  main_category_3  main_category_4  \\\n",
       "0                     1                0                0                0   \n",
       "1                     0                1                0                0   \n",
       "2                     0                0                1                0   \n",
       "3                     0                0                0                1   \n",
       "4                     0                1                0                0   \n",
       "...                 ...              ...              ...              ...   \n",
       "420015                0                0                0                0   \n",
       "420016                0                0                0                0   \n",
       "420017                0                1                0                0   \n",
       "420018                0                0                0                0   \n",
       "420019                0                0                0                0   \n",
       "\n",
       "        main_category_5  main_category_6  main_category_7  main_category_8  \\\n",
       "0                     0                0                0                0   \n",
       "1                     0                0                0                0   \n",
       "2                     0                0                0                0   \n",
       "3                     0                0                0                0   \n",
       "4                     0                0                0                0   \n",
       "...                 ...              ...              ...              ...   \n",
       "420015                0                1                0                0   \n",
       "420016                0                0                0                0   \n",
       "420017                0                0                0                0   \n",
       "420018                0                0                0                1   \n",
       "420019                0                0                1                0   \n",
       "\n",
       "        main_category_9  main_category_10  ...  main_category_18  \\\n",
       "0                     0                 0  ...                 0   \n",
       "1                     0                 0  ...                 0   \n",
       "2                     0                 0  ...                 0   \n",
       "3                     0                 0  ...                 0   \n",
       "4                     0                 0  ...                 0   \n",
       "...                 ...               ...  ...               ...   \n",
       "420015                0                 0  ...                 0   \n",
       "420016                1                 0  ...                 0   \n",
       "420017                0                 0  ...                 0   \n",
       "420018                0                 0  ...                 0   \n",
       "420019                0                 0  ...                 0   \n",
       "\n",
       "        main_category_19  main_category_20  main_category_21  \\\n",
       "0                      0                 0                 0   \n",
       "1                      0                 0                 0   \n",
       "2                      0                 0                 0   \n",
       "3                      0                 0                 0   \n",
       "4                      0                 0                 0   \n",
       "...                  ...               ...               ...   \n",
       "420015                 0                 0                 0   \n",
       "420016                 0                 0                 0   \n",
       "420017                 0                 0                 0   \n",
       "420018                 0                 0                 0   \n",
       "420019                 0                 0                 0   \n",
       "\n",
       "        main_category_22  main_category_23  main_category_24  \\\n",
       "0                      0                 0                 0   \n",
       "1                      0                 0                 0   \n",
       "2                      0                 0                 0   \n",
       "3                      0                 0                 0   \n",
       "4                      0                 0                 0   \n",
       "...                  ...               ...               ...   \n",
       "420015                 0                 0                 0   \n",
       "420016                 0                 0                 0   \n",
       "420017                 0                 0                 0   \n",
       "420018                 0                 0                 0   \n",
       "420019                 0                 0                 0   \n",
       "\n",
       "        main_category_25  main_category_26  main_category_27  \n",
       "0                      0                 0                 0  \n",
       "1                      0                 0                 0  \n",
       "2                      0                 0                 0  \n",
       "3                      0                 0                 0  \n",
       "4                      0                 0                 0  \n",
       "...                  ...               ...               ...  \n",
       "420015                 0                 0                 0  \n",
       "420016                 0                 0                 0  \n",
       "420017                 0                 0                 0  \n",
       "420018                 0                 0                 0  \n",
       "420019                 0                 0                 0  \n",
       "\n",
       "[420020 rows x 27 columns]"
      ]
     },
     "execution_count": 46,
     "metadata": {},
     "output_type": "execute_result"
    }
   ],
   "source": [
    "encoder = ce.OneHotEncoder()\n",
    "encoder.fit_transform(X=df[\"main_category\"])"
   ]
  },
  {
   "cell_type": "markdown",
   "metadata": {},
   "source": [
    "Kodowaie tylu kategorii nie trwało wcale tak długo, lecz możemy mieć i tak problemy przy przetwarzaniu tylu dodatkowych kolumn."
   ]
  },
  {
   "cell_type": "markdown",
   "metadata": {},
   "source": [
    "### Generalized Linear Mixed Model Encoder"
   ]
  },
  {
   "cell_type": "markdown",
   "metadata": {},
   "source": [
    "Jest to encoder podobny do target encodera, gdyż również potrzebuje on dodatkowej zmiennej poza kodowaną na podstawie której bedzie mógł zakodować **main_category**. Działa on w ten sposób, że dla każdej kategorii liczy on regularyzowaną różnicę średniej zmiennej targetowanej na tym poziomie od średniej globalnej, a następnie koduje te kategorię jako różnicę. Zaletą tego encodingu wydaje się być solidna podstawa teoretyczna oparta na uogólnionych modelach liniowych, dzięki czemu mamy większą kontrolę nad tym jak zostaną zakodowane nasze zmienne, przykładowo nasze liczby kodujące będą z rozsądnego zakresu. Jako target zastosujemy tutaj również zmienną **price**."
   ]
  },
  {
   "cell_type": "code",
   "execution_count": 13,
   "metadata": {},
   "outputs": [],
   "source": [
    "encoder = ce.GLMMEncoder()\n",
    "df[\"main_category_GLMM\"] = encoder.fit_transform(X=df[\"main_category\"],y=df[\"price\"])"
   ]
  },
  {
   "cell_type": "code",
   "execution_count": 14,
   "metadata": {},
   "outputs": [
    {
     "data": {
      "text/plain": [
       "-2.134077     91042\n",
       " 1.285284     54257\n",
       " 59.747451    45941\n",
       "-3.357745     42107\n",
       "-46.304636    28096\n",
       " 20.548373    27532\n",
       " 32.828761    20341\n",
       " 6.764244     19805\n",
       " 46.968712    14491\n",
       "-31.661761    13166\n",
       "-49.188465    11572\n",
       "-54.748067     8074\n",
       "-33.201435     7150\n",
       "-66.407798     6574\n",
       "-29.307974     6146\n",
       " 4.239813      5959\n",
       "-19.189969     5808\n",
       "-40.007215     3194\n",
       " 64.154684     2381\n",
       "-36.117471     1961\n",
       " 31.520961     1214\n",
       " 67.815489     1053\n",
       "-38.126565     1005\n",
       " 59.993116      617\n",
       " 48.589430      413\n",
       " 7.018303       119\n",
       "-1.721442         2\n",
       "Name: main_category_GLMM, dtype: int64"
      ]
     },
     "execution_count": 14,
     "metadata": {},
     "output_type": "execute_result"
    }
   ],
   "source": [
    "df[\"main_category_GLMM\"].value_counts()"
   ]
  },
  {
   "cell_type": "markdown",
   "metadata": {},
   "source": [
    "Kodowanie zajęło chwilę dłużej niż one-hot, ale jak widzimy otrzymaliśmy tylko jedną nową kolumnę. Przeglądając powyższą tabelkę i porównując liczności zakodowanych kategorii widzimy, że jest to kodowanie bijekcyjne."
   ]
  },
  {
   "cell_type": "markdown",
   "metadata": {},
   "source": [
    "### Count Encoder"
   ]
  },
  {
   "cell_type": "markdown",
   "metadata": {},
   "source": [
    "Jest to bardzo prosty sposób kodowania, polega na przypisaniu każdej klasie jej liczności w naszym zbiorze. Patrząc na value_counts zmiennej **main_category** widzimy, że kodowanie to zadziała bez żadnego problemu, wszystkie klasy mają różne liczności. Problemy mogą pojawić się gdy kilka kategorii ma te same liczności, gdyż wtedy zostaną zakodowane jako jedna oraz gdy niektóre kategorie mają przeważające liczności nad pozostałymi, może to powodować problemy np. w clusteringu, gdyż zmienna zakodowana przez swoje duże wartości może przeważać swoim wpływem nad innymi ważnymi zmiennymi."
   ]
  },
  {
   "cell_type": "code",
   "execution_count": 20,
   "metadata": {},
   "outputs": [
    {
     "data": {
      "text/plain": [
       "0         14491\n",
       "1         54257\n",
       "2         91042\n",
       "3         11572\n",
       "4         54257\n",
       "          ...  \n",
       "420015    20341\n",
       "420016    28096\n",
       "420017    54257\n",
       "420018    42107\n",
       "420019    45941\n",
       "Name: main_category_count, Length: 420020, dtype: int64"
      ]
     },
     "execution_count": 20,
     "metadata": {},
     "output_type": "execute_result"
    }
   ],
   "source": [
    "encoder = ce.CountEncoder()\n",
    "df[\"main_category_count\"] = encoder.fit_transform(X=df[\"main_category\"])\n",
    "df[\"main_category_count\"]"
   ]
  },
  {
   "cell_type": "markdown",
   "metadata": {},
   "source": [
    "## Uzupełnianie braków"
   ]
  },
  {
   "cell_type": "markdown",
   "metadata": {},
   "source": [
    "Ograniczę liczbe rekordów, gdyż w innym przypadku będzie się to następne 2 lata liczyć."
   ]
  },
  {
   "cell_type": "code",
   "execution_count": 21,
   "metadata": {},
   "outputs": [],
   "source": [
    "import random\n",
    "ind = random.sample(range(420020),50000)"
   ]
  },
  {
   "cell_type": "code",
   "execution_count": 22,
   "metadata": {},
   "outputs": [],
   "source": [
    "df=df.iloc[ind,:].reset_index(drop=True)"
   ]
  },
  {
   "cell_type": "code",
   "execution_count": 23,
   "metadata": {},
   "outputs": [],
   "source": [
    "import warnings\n",
    "warnings.filterwarnings('ignore')"
   ]
  },
  {
   "cell_type": "code",
   "execution_count": 24,
   "metadata": {},
   "outputs": [
    {
     "data": {
      "text/html": [
       "<div>\n",
       "<style scoped>\n",
       "    .dataframe tbody tr th:only-of-type {\n",
       "        vertical-align: middle;\n",
       "    }\n",
       "\n",
       "    .dataframe tbody tr th {\n",
       "        vertical-align: top;\n",
       "    }\n",
       "\n",
       "    .dataframe thead th {\n",
       "        text-align: right;\n",
       "    }\n",
       "</style>\n",
       "<table border=\"1\" class=\"dataframe\">\n",
       "  <thead>\n",
       "    <tr style=\"text-align: right;\">\n",
       "      <th></th>\n",
       "      <th>it_seller_rating</th>\n",
       "      <th>price</th>\n",
       "      <th>it_quantity</th>\n",
       "    </tr>\n",
       "  </thead>\n",
       "  <tbody>\n",
       "    <tr>\n",
       "      <th>count</th>\n",
       "      <td>50000.000000</td>\n",
       "      <td>50000.000000</td>\n",
       "      <td>50000.000000</td>\n",
       "    </tr>\n",
       "    <tr>\n",
       "      <th>mean</th>\n",
       "      <td>20740.865880</td>\n",
       "      <td>76.050551</td>\n",
       "      <td>6788.914320</td>\n",
       "    </tr>\n",
       "    <tr>\n",
       "      <th>std</th>\n",
       "      <td>37329.868334</td>\n",
       "      <td>282.510044</td>\n",
       "      <td>23462.448546</td>\n",
       "    </tr>\n",
       "    <tr>\n",
       "      <th>min</th>\n",
       "      <td>-1.000000</td>\n",
       "      <td>0.000000</td>\n",
       "      <td>0.000000</td>\n",
       "    </tr>\n",
       "    <tr>\n",
       "      <th>25%</th>\n",
       "      <td>1594.000000</td>\n",
       "      <td>9.000000</td>\n",
       "      <td>6.000000</td>\n",
       "    </tr>\n",
       "    <tr>\n",
       "      <th>50%</th>\n",
       "      <td>6859.000000</td>\n",
       "      <td>24.990000</td>\n",
       "      <td>95.000000</td>\n",
       "    </tr>\n",
       "    <tr>\n",
       "      <th>75%</th>\n",
       "      <td>21480.000000</td>\n",
       "      <td>68.000000</td>\n",
       "      <td>932.000000</td>\n",
       "    </tr>\n",
       "    <tr>\n",
       "      <th>max</th>\n",
       "      <td>292074.000000</td>\n",
       "      <td>34000.000000</td>\n",
       "      <td>99999.000000</td>\n",
       "    </tr>\n",
       "  </tbody>\n",
       "</table>\n",
       "</div>"
      ],
      "text/plain": [
       "       it_seller_rating         price   it_quantity\n",
       "count      50000.000000  50000.000000  50000.000000\n",
       "mean       20740.865880     76.050551   6788.914320\n",
       "std        37329.868334    282.510044  23462.448546\n",
       "min           -1.000000      0.000000      0.000000\n",
       "25%         1594.000000      9.000000      6.000000\n",
       "50%         6859.000000     24.990000     95.000000\n",
       "75%        21480.000000     68.000000    932.000000\n",
       "max       292074.000000  34000.000000  99999.000000"
      ]
     },
     "execution_count": 24,
     "metadata": {},
     "output_type": "execute_result"
    }
   ],
   "source": [
    "df[[\"it_seller_rating\",\"price\",\"it_quantity\"]].describe()"
   ]
  },
  {
   "cell_type": "markdown",
   "metadata": {},
   "source": [
    "### Usunięcie it_seller_rating"
   ]
  },
  {
   "cell_type": "code",
   "execution_count": 25,
   "metadata": {},
   "outputs": [],
   "source": [
    "RMSE1 = [0] * 10\n",
    "for i in range(10):\n",
    "    nan_ind = random.sample(range(50000),5000)\n",
    "    df1 = df[[\"it_seller_rating\",\"price\",\"it_quantity\"]]\n",
    "    df1.iloc[nan_ind,0]= float(\"NaN\")\n",
    "    imputer = KNNImputer(n_neighbors=5, weights= \"distance\")\n",
    "    df2 = imputer.fit_transform(df1)\n",
    "    RMSE1[i] = np.sqrt(np.mean((((df[\"it_seller_rating\"])-pd.Series(df2[:,0]))[nan_ind])**2))"
   ]
  },
  {
   "cell_type": "code",
   "execution_count": 26,
   "metadata": {},
   "outputs": [
    {
     "data": {
      "text/plain": [
       "[40784.81787144339,\n",
       " 40597.84653760836,\n",
       " 38883.76412690263,\n",
       " 40543.28707528459,\n",
       " 39319.61501907311,\n",
       " 40542.06177049551,\n",
       " 40139.74284310851,\n",
       " 40550.55544929234,\n",
       " 38404.68996372573,\n",
       " 39368.76629720655]"
      ]
     },
     "execution_count": 26,
     "metadata": {},
     "output_type": "execute_result"
    }
   ],
   "source": [
    "RMSE1"
   ]
  },
  {
   "cell_type": "code",
   "execution_count": 27,
   "metadata": {},
   "outputs": [
    {
     "data": {
      "text/plain": [
       "803.9011142524716"
      ]
     },
     "execution_count": 27,
     "metadata": {},
     "output_type": "execute_result"
    }
   ],
   "source": [
    "np.std(RMSE1)"
   ]
  },
  {
   "cell_type": "code",
   "execution_count": 28,
   "metadata": {},
   "outputs": [
    {
     "data": {
      "image/png": "[encoded data removed]",
      "text/plain": [
       "<Figure size 432x288 with 1 Axes>"
      ]
     },
     "metadata": {
      "needs_background": "light"
     },
     "output_type": "display_data"
    }
   ],
   "source": [
    "sns.boxplot(RMSE1)\n",
    "plt.show()"
   ]
  },
  {
   "cell_type": "markdown",
   "metadata": {},
   "source": [
    "Wnioski z analizy imputacji:\n",
    "+ Wartości imputowane różnią się bardzo dużo od wartości oryginalnych, RMSE jest bardzo wysokie.\n",
    "+ Odchylenie standardowe błędu RMSE jest całkiem duże, lecz w porównaniu do jego wartości oraz na przykład odchyleń zmiennych **it_seller_rating** oraz **it_quantity** jest ono całkiem znośne. Możemy zatem przypuszczać, że imputacja ta działa podobnie jakościowo dla każdego podzbioru danych.\n",
    "+ Duże wartości RMSE mogą jednak wynikać również z tego, że nasze wejściowe zmienne mają bardzo wysokie wartości, możliwe, że przydałaby się pewna standaryzacja/skalowanie przed imputacją."
   ]
  },
  {
   "cell_type": "markdown",
   "metadata": {},
   "source": [
    "### Usunięcie it_seller_rating oraz it_quantity"
   ]
  },
  {
   "cell_type": "code",
   "execution_count": 29,
   "metadata": {},
   "outputs": [],
   "source": [
    "RMSE2 = [0] * 10\n",
    "RMSE3 = [0] * 10\n",
    "for i in range(10):\n",
    "    nan_ind1 = random.sample(range(50000),5000)\n",
    "    nan_ind2 = random.sample(range(50000),5000)\n",
    "    df3 = df[[\"it_seller_rating\",\"price\",\"it_quantity\"]]\n",
    "    df3.iloc[nan_ind1,0]= float(\"NaN\")\n",
    "    df3.iloc[nan_ind2,2]= float(\"NaN\")\n",
    "    imputer = KNNImputer(n_neighbors=5, weights= \"distance\")\n",
    "    df4 = imputer.fit_transform(df3)\n",
    "    RMSE2[i] = np.sqrt(np.mean(((df[\"it_seller_rating\"]-pd.Series(df4[:,0]))[nan_ind1])**2))\n",
    "    RMSE3[i] = np.sqrt(np.mean(((df[\"it_quantity\"]-pd.Series(df4[:,2]))[nan_ind2])**2))"
   ]
  },
  {
   "cell_type": "code",
   "execution_count": 30,
   "metadata": {},
   "outputs": [
    {
     "data": {
      "text/plain": [
       "[40119.696943692834,\n",
       " 40252.43065577767,\n",
       " 40784.70725056786,\n",
       " 42947.70486942379,\n",
       " 42088.81556855198,\n",
       " 40881.18887215665,\n",
       " 41030.212943583494,\n",
       " 39743.71495995418,\n",
       " 41304.94600666953,\n",
       " 40322.53680068105]"
      ]
     },
     "execution_count": 30,
     "metadata": {},
     "output_type": "execute_result"
    }
   ],
   "source": [
    "RMSE2"
   ]
  },
  {
   "cell_type": "code",
   "execution_count": 31,
   "metadata": {},
   "outputs": [
    {
     "data": {
      "text/plain": [
       "920.7054412580552"
      ]
     },
     "execution_count": 31,
     "metadata": {},
     "output_type": "execute_result"
    }
   ],
   "source": [
    "np.std(RMSE2)"
   ]
  },
  {
   "cell_type": "code",
   "execution_count": 32,
   "metadata": {},
   "outputs": [
    {
     "data": {
      "text/plain": [
       "[28610.955616215266,\n",
       " 28407.813371477907,\n",
       " 28961.741844984615,\n",
       " 28857.670553250377,\n",
       " 27337.220952276217,\n",
       " 29409.154159118327,\n",
       " 28116.648025687897,\n",
       " 28452.35623245282,\n",
       " 27729.176671160614,\n",
       " 28679.123824599264]"
      ]
     },
     "execution_count": 32,
     "metadata": {},
     "output_type": "execute_result"
    }
   ],
   "source": [
    "RMSE3"
   ]
  },
  {
   "cell_type": "code",
   "execution_count": 33,
   "metadata": {},
   "outputs": [
    {
     "data": {
      "text/plain": [
       "574.1816555313312"
      ]
     },
     "execution_count": 33,
     "metadata": {},
     "output_type": "execute_result"
    }
   ],
   "source": [
    "np.std(RMSE3)"
   ]
  },
  {
   "cell_type": "code",
   "execution_count": 34,
   "metadata": {
    "scrolled": true
   },
   "outputs": [
    {
     "data": {
      "image/png": "[encoded data removed]",
      "text/plain": [
       "<Figure size 432x288 with 1 Axes>"
      ]
     },
     "metadata": {
      "needs_background": "light"
     },
     "output_type": "display_data"
    }
   ],
   "source": [
    "sns.boxplot(data=pd.DataFrame({\"RMSE_it_seller_rating\":RMSE2,\"RMSE_it_quantity\":RMSE3}),orient=\"h\")\n",
    "plt.show()"
   ]
  },
  {
   "cell_type": "markdown",
   "metadata": {},
   "source": [
    "Wnioski z analizy imputacji:\n",
    "+ Wartości imputowane kolejny raz różnią się bardzo dużo od wartości oryginalnych, RMSE jest bardzo wysokie dla obu zmiennych.\n",
    "+ RMSE dla zmiennej **it_seller_rating** jest przeciętnie ciut większe niż w poprzednim przypadku, co jest całkiem zrozumiałe, gdyż tutaj mieliśmy braki również w innej kolumnie, co wpływa na działanie naszego algorytmu.\n",
    "+ RMSE dla zmiennej **it_quantity** jest średnio prawie półtora raza mniejsze od RMSE **it_seller_rating**, jednak zmienna ta ma nominalnie większe wartości i odchylenie, stąd jej RMSE mogło wyjść sporo większe.\n",
    "+ Odchylenia standardowe błędów RMSE są znowu całkiem spore, dla **it_seller_rating** jest wieksze niż w poprzednim przypadku. Dla **it_quantity** jest ono podobnego rzędu co w poprzednim przypadku. Można to wytłumaczyć tym, że przy większej ilości braków danych nasz algorytm imputuje wartości w sposób bardziej losowy, zależny od tego jakie dane akurat w danej iteracji usunęliśmy.\n",
    "+ Rozkłady odchyleń obu RMSE są tym razem nieco skośne w stosunku do rozkładu normalnego.\n",
    "+ Duże wartości RMSE mogą ponownie wynikać z tego, że nasze wejściowe zmienne mają bardzo wysokie wartości, możliwe, że przydałaby się pewna standaryzacja/skalowanie przed imputacją."
   ]
  }
 ],
 "metadata": {
  "kernelspec": {
   "display_name": "Python 3",
   "language": "python",
   "name": "python3"
  },
  "language_info": {
   "codemirror_mode": {
    "name": "ipython",
    "version": 3
   },
   "file_extension": ".py",
   "mimetype": "text/x-python",
   "name": "python",
   "nbconvert_exporter": "python",
   "pygments_lexer": "ipython3",
   "version": "3.8.3"
  }
 },
 "nbformat": 4,
 "nbformat_minor": 4
}
