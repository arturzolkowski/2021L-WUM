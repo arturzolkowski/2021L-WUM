{
 "cells": [
  {
   "cell_type": "markdown",
   "id": "b4513ccd",
   "metadata": {},
   "source": [
    "# Praca domowa 7"
   ]
  },
  {
   "cell_type": "code",
   "execution_count": 1,
   "id": "bbf3fe9e",
   "metadata": {},
   "outputs": [],
   "source": [
    "import pandas as pd\n",
    "import numpy as np\n",
    "import matplotlib.pyplot as plt\n",
    "import seaborn as sns\n",
    "\n",
    "from sklearn.mixture import GaussianMixture as GMM\n",
    "from sklearn.metrics import classification_report"
   ]
  },
  {
   "cell_type": "code",
   "execution_count": 2,
   "id": "0fb2f01d",
   "metadata": {},
   "outputs": [],
   "source": [
    "train = pd.read_csv(\"train.csv\")\n",
    "val = pd.read_csv(\"val.csv\")\n",
    "test = pd.read_csv(\"test.csv\")"
   ]
  },
  {
   "cell_type": "code",
   "execution_count": 3,
   "id": "2bccea60",
   "metadata": {},
   "outputs": [
    {
     "data": {
      "text/html": [
       "<div>\n",
       "<style scoped>\n",
       "    .dataframe tbody tr th:only-of-type {\n",
       "        vertical-align: middle;\n",
       "    }\n",
       "\n",
       "    .dataframe tbody tr th {\n",
       "        vertical-align: top;\n",
       "    }\n",
       "\n",
       "    .dataframe thead th {\n",
       "        text-align: right;\n",
       "    }\n",
       "</style>\n",
       "<table border=\"1\" class=\"dataframe\">\n",
       "  <thead>\n",
       "    <tr style=\"text-align: right;\">\n",
       "      <th></th>\n",
       "      <th>Alcohol</th>\n",
       "      <th>Malic acid</th>\n",
       "      <th>Ash</th>\n",
       "      <th>Alcalinity of ash</th>\n",
       "      <th>Magnesium</th>\n",
       "      <th>Total phenols</th>\n",
       "      <th>Flavanoids</th>\n",
       "      <th>Nonflavanoid phenols</th>\n",
       "      <th>Proanthocyanins</th>\n",
       "      <th>Color intensity</th>\n",
       "      <th>Hue</th>\n",
       "      <th>OD280/OD315 of diluted wines</th>\n",
       "      <th>Proline</th>\n",
       "    </tr>\n",
       "  </thead>\n",
       "  <tbody>\n",
       "    <tr>\n",
       "      <th>0</th>\n",
       "      <td>12.72</td>\n",
       "      <td>1.75</td>\n",
       "      <td>2.28</td>\n",
       "      <td>22.5</td>\n",
       "      <td>84</td>\n",
       "      <td>1.38</td>\n",
       "      <td>1.76</td>\n",
       "      <td>0.48</td>\n",
       "      <td>1.63</td>\n",
       "      <td>3.30</td>\n",
       "      <td>0.88</td>\n",
       "      <td>2.42</td>\n",
       "      <td>488</td>\n",
       "    </tr>\n",
       "    <tr>\n",
       "      <th>1</th>\n",
       "      <td>13.23</td>\n",
       "      <td>3.30</td>\n",
       "      <td>2.28</td>\n",
       "      <td>18.5</td>\n",
       "      <td>98</td>\n",
       "      <td>1.80</td>\n",
       "      <td>0.83</td>\n",
       "      <td>0.61</td>\n",
       "      <td>1.87</td>\n",
       "      <td>10.52</td>\n",
       "      <td>0.56</td>\n",
       "      <td>1.51</td>\n",
       "      <td>675</td>\n",
       "    </tr>\n",
       "    <tr>\n",
       "      <th>2</th>\n",
       "      <td>12.58</td>\n",
       "      <td>1.29</td>\n",
       "      <td>2.10</td>\n",
       "      <td>20.0</td>\n",
       "      <td>103</td>\n",
       "      <td>1.48</td>\n",
       "      <td>0.58</td>\n",
       "      <td>0.53</td>\n",
       "      <td>1.40</td>\n",
       "      <td>7.60</td>\n",
       "      <td>0.58</td>\n",
       "      <td>1.55</td>\n",
       "      <td>640</td>\n",
       "    </tr>\n",
       "    <tr>\n",
       "      <th>3</th>\n",
       "      <td>12.37</td>\n",
       "      <td>1.17</td>\n",
       "      <td>1.92</td>\n",
       "      <td>19.6</td>\n",
       "      <td>78</td>\n",
       "      <td>2.11</td>\n",
       "      <td>2.00</td>\n",
       "      <td>0.27</td>\n",
       "      <td>1.04</td>\n",
       "      <td>4.68</td>\n",
       "      <td>1.12</td>\n",
       "      <td>3.48</td>\n",
       "      <td>510</td>\n",
       "    </tr>\n",
       "    <tr>\n",
       "      <th>4</th>\n",
       "      <td>13.84</td>\n",
       "      <td>4.12</td>\n",
       "      <td>2.38</td>\n",
       "      <td>19.5</td>\n",
       "      <td>89</td>\n",
       "      <td>1.80</td>\n",
       "      <td>0.83</td>\n",
       "      <td>0.48</td>\n",
       "      <td>1.56</td>\n",
       "      <td>9.01</td>\n",
       "      <td>0.57</td>\n",
       "      <td>1.64</td>\n",
       "      <td>480</td>\n",
       "    </tr>\n",
       "  </tbody>\n",
       "</table>\n",
       "</div>"
      ],
      "text/plain": [
       "   Alcohol  Malic acid   Ash  Alcalinity of ash  Magnesium  Total phenols  \\\n",
       "0    12.72        1.75  2.28               22.5         84           1.38   \n",
       "1    13.23        3.30  2.28               18.5         98           1.80   \n",
       "2    12.58        1.29  2.10               20.0        103           1.48   \n",
       "3    12.37        1.17  1.92               19.6         78           2.11   \n",
       "4    13.84        4.12  2.38               19.5         89           1.80   \n",
       "\n",
       "   Flavanoids  Nonflavanoid phenols  Proanthocyanins  Color intensity   Hue  \\\n",
       "0        1.76                  0.48             1.63             3.30  0.88   \n",
       "1        0.83                  0.61             1.87            10.52  0.56   \n",
       "2        0.58                  0.53             1.40             7.60  0.58   \n",
       "3        2.00                  0.27             1.04             4.68  1.12   \n",
       "4        0.83                  0.48             1.56             9.01  0.57   \n",
       "\n",
       "   OD280/OD315 of diluted wines  Proline  \n",
       "0                          2.42      488  \n",
       "1                          1.51      675  \n",
       "2                          1.55      640  \n",
       "3                          3.48      510  \n",
       "4                          1.64      480  "
      ]
     },
     "execution_count": 3,
     "metadata": {},
     "output_type": "execute_result"
    }
   ],
   "source": [
    "train.head()"
   ]
  },
  {
   "cell_type": "code",
   "execution_count": 4,
   "id": "40c80e29",
   "metadata": {},
   "outputs": [
    {
     "data": {
      "text/html": [
       "<div>\n",
       "<style scoped>\n",
       "    .dataframe tbody tr th:only-of-type {\n",
       "        vertical-align: middle;\n",
       "    }\n",
       "\n",
       "    .dataframe tbody tr th {\n",
       "        vertical-align: top;\n",
       "    }\n",
       "\n",
       "    .dataframe thead th {\n",
       "        text-align: right;\n",
       "    }\n",
       "</style>\n",
       "<table border=\"1\" class=\"dataframe\">\n",
       "  <thead>\n",
       "    <tr style=\"text-align: right;\">\n",
       "      <th></th>\n",
       "      <th>class</th>\n",
       "      <th>Alcohol</th>\n",
       "      <th>Malic acid</th>\n",
       "      <th>Ash</th>\n",
       "      <th>Alcalinity of ash</th>\n",
       "      <th>Magnesium</th>\n",
       "      <th>Total phenols</th>\n",
       "      <th>Flavanoids</th>\n",
       "      <th>Nonflavanoid phenols</th>\n",
       "      <th>Proanthocyanins</th>\n",
       "      <th>Color intensity</th>\n",
       "      <th>Hue</th>\n",
       "      <th>OD280/OD315 of diluted wines</th>\n",
       "      <th>Proline</th>\n",
       "    </tr>\n",
       "  </thead>\n",
       "  <tbody>\n",
       "    <tr>\n",
       "      <th>0</th>\n",
       "      <td>0</td>\n",
       "      <td>13.34</td>\n",
       "      <td>0.94</td>\n",
       "      <td>2.36</td>\n",
       "      <td>17.0</td>\n",
       "      <td>110</td>\n",
       "      <td>2.53</td>\n",
       "      <td>1.30</td>\n",
       "      <td>0.55</td>\n",
       "      <td>0.42</td>\n",
       "      <td>3.17</td>\n",
       "      <td>1.02</td>\n",
       "      <td>1.93</td>\n",
       "      <td>750</td>\n",
       "    </tr>\n",
       "    <tr>\n",
       "      <th>1</th>\n",
       "      <td>0</td>\n",
       "      <td>12.00</td>\n",
       "      <td>0.92</td>\n",
       "      <td>2.00</td>\n",
       "      <td>19.0</td>\n",
       "      <td>86</td>\n",
       "      <td>2.42</td>\n",
       "      <td>2.26</td>\n",
       "      <td>0.30</td>\n",
       "      <td>1.43</td>\n",
       "      <td>2.50</td>\n",
       "      <td>1.38</td>\n",
       "      <td>3.12</td>\n",
       "      <td>278</td>\n",
       "    </tr>\n",
       "    <tr>\n",
       "      <th>2</th>\n",
       "      <td>0</td>\n",
       "      <td>11.84</td>\n",
       "      <td>0.89</td>\n",
       "      <td>2.58</td>\n",
       "      <td>18.0</td>\n",
       "      <td>94</td>\n",
       "      <td>2.20</td>\n",
       "      <td>2.21</td>\n",
       "      <td>0.22</td>\n",
       "      <td>2.35</td>\n",
       "      <td>3.05</td>\n",
       "      <td>0.79</td>\n",
       "      <td>3.08</td>\n",
       "      <td>520</td>\n",
       "    </tr>\n",
       "    <tr>\n",
       "      <th>3</th>\n",
       "      <td>0</td>\n",
       "      <td>12.47</td>\n",
       "      <td>1.52</td>\n",
       "      <td>2.20</td>\n",
       "      <td>19.0</td>\n",
       "      <td>162</td>\n",
       "      <td>2.50</td>\n",
       "      <td>2.27</td>\n",
       "      <td>0.32</td>\n",
       "      <td>3.28</td>\n",
       "      <td>2.60</td>\n",
       "      <td>1.16</td>\n",
       "      <td>2.63</td>\n",
       "      <td>937</td>\n",
       "    </tr>\n",
       "    <tr>\n",
       "      <th>4</th>\n",
       "      <td>0</td>\n",
       "      <td>11.81</td>\n",
       "      <td>2.12</td>\n",
       "      <td>2.74</td>\n",
       "      <td>21.5</td>\n",
       "      <td>134</td>\n",
       "      <td>1.60</td>\n",
       "      <td>0.99</td>\n",
       "      <td>0.14</td>\n",
       "      <td>1.56</td>\n",
       "      <td>2.50</td>\n",
       "      <td>0.95</td>\n",
       "      <td>2.26</td>\n",
       "      <td>625</td>\n",
       "    </tr>\n",
       "  </tbody>\n",
       "</table>\n",
       "</div>"
      ],
      "text/plain": [
       "   class  Alcohol  Malic acid   Ash  Alcalinity of ash  Magnesium  \\\n",
       "0      0    13.34        0.94  2.36               17.0        110   \n",
       "1      0    12.00        0.92  2.00               19.0         86   \n",
       "2      0    11.84        0.89  2.58               18.0         94   \n",
       "3      0    12.47        1.52  2.20               19.0        162   \n",
       "4      0    11.81        2.12  2.74               21.5        134   \n",
       "\n",
       "   Total phenols  Flavanoids  Nonflavanoid phenols  Proanthocyanins  \\\n",
       "0           2.53        1.30                  0.55             0.42   \n",
       "1           2.42        2.26                  0.30             1.43   \n",
       "2           2.20        2.21                  0.22             2.35   \n",
       "3           2.50        2.27                  0.32             3.28   \n",
       "4           1.60        0.99                  0.14             1.56   \n",
       "\n",
       "   Color intensity   Hue  OD280/OD315 of diluted wines  Proline  \n",
       "0             3.17  1.02                          1.93      750  \n",
       "1             2.50  1.38                          3.12      278  \n",
       "2             3.05  0.79                          3.08      520  \n",
       "3             2.60  1.16                          2.63      937  \n",
       "4             2.50  0.95                          2.26      625  "
      ]
     },
     "execution_count": 4,
     "metadata": {},
     "output_type": "execute_result"
    }
   ],
   "source": [
    "test.head()"
   ]
  },
  {
   "cell_type": "code",
   "execution_count": 5,
   "id": "e219d137",
   "metadata": {},
   "outputs": [
    {
     "data": {
      "text/html": [
       "<div>\n",
       "<style scoped>\n",
       "    .dataframe tbody tr th:only-of-type {\n",
       "        vertical-align: middle;\n",
       "    }\n",
       "\n",
       "    .dataframe tbody tr th {\n",
       "        vertical-align: top;\n",
       "    }\n",
       "\n",
       "    .dataframe thead th {\n",
       "        text-align: right;\n",
       "    }\n",
       "</style>\n",
       "<table border=\"1\" class=\"dataframe\">\n",
       "  <thead>\n",
       "    <tr style=\"text-align: right;\">\n",
       "      <th></th>\n",
       "      <th>Alcohol</th>\n",
       "      <th>Malic acid</th>\n",
       "      <th>Ash</th>\n",
       "      <th>Alcalinity of ash</th>\n",
       "      <th>Magnesium</th>\n",
       "      <th>Total phenols</th>\n",
       "      <th>Flavanoids</th>\n",
       "      <th>Nonflavanoid phenols</th>\n",
       "      <th>Proanthocyanins</th>\n",
       "      <th>Color intensity</th>\n",
       "      <th>Hue</th>\n",
       "      <th>OD280/OD315 of diluted wines</th>\n",
       "      <th>Proline</th>\n",
       "    </tr>\n",
       "  </thead>\n",
       "  <tbody>\n",
       "    <tr>\n",
       "      <th>0</th>\n",
       "      <td>13.86</td>\n",
       "      <td>1.51</td>\n",
       "      <td>2.67</td>\n",
       "      <td>25.0</td>\n",
       "      <td>86</td>\n",
       "      <td>2.95</td>\n",
       "      <td>2.86</td>\n",
       "      <td>0.21</td>\n",
       "      <td>1.87</td>\n",
       "      <td>3.38</td>\n",
       "      <td>1.36</td>\n",
       "      <td>3.16</td>\n",
       "      <td>410</td>\n",
       "    </tr>\n",
       "    <tr>\n",
       "      <th>1</th>\n",
       "      <td>13.40</td>\n",
       "      <td>3.91</td>\n",
       "      <td>2.48</td>\n",
       "      <td>23.0</td>\n",
       "      <td>102</td>\n",
       "      <td>1.80</td>\n",
       "      <td>0.75</td>\n",
       "      <td>0.43</td>\n",
       "      <td>1.41</td>\n",
       "      <td>7.30</td>\n",
       "      <td>0.70</td>\n",
       "      <td>1.56</td>\n",
       "      <td>750</td>\n",
       "    </tr>\n",
       "    <tr>\n",
       "      <th>2</th>\n",
       "      <td>12.82</td>\n",
       "      <td>3.37</td>\n",
       "      <td>2.30</td>\n",
       "      <td>19.5</td>\n",
       "      <td>88</td>\n",
       "      <td>1.48</td>\n",
       "      <td>0.66</td>\n",
       "      <td>0.40</td>\n",
       "      <td>0.97</td>\n",
       "      <td>10.26</td>\n",
       "      <td>0.72</td>\n",
       "      <td>1.75</td>\n",
       "      <td>685</td>\n",
       "    </tr>\n",
       "    <tr>\n",
       "      <th>3</th>\n",
       "      <td>12.37</td>\n",
       "      <td>1.07</td>\n",
       "      <td>2.10</td>\n",
       "      <td>18.5</td>\n",
       "      <td>88</td>\n",
       "      <td>3.52</td>\n",
       "      <td>3.75</td>\n",
       "      <td>0.24</td>\n",
       "      <td>1.95</td>\n",
       "      <td>4.50</td>\n",
       "      <td>1.04</td>\n",
       "      <td>2.77</td>\n",
       "      <td>660</td>\n",
       "    </tr>\n",
       "    <tr>\n",
       "      <th>4</th>\n",
       "      <td>13.50</td>\n",
       "      <td>1.81</td>\n",
       "      <td>2.61</td>\n",
       "      <td>20.0</td>\n",
       "      <td>96</td>\n",
       "      <td>2.53</td>\n",
       "      <td>2.61</td>\n",
       "      <td>0.28</td>\n",
       "      <td>1.66</td>\n",
       "      <td>3.52</td>\n",
       "      <td>1.12</td>\n",
       "      <td>3.82</td>\n",
       "      <td>845</td>\n",
       "    </tr>\n",
       "  </tbody>\n",
       "</table>\n",
       "</div>"
      ],
      "text/plain": [
       "   Alcohol  Malic acid   Ash  Alcalinity of ash  Magnesium  Total phenols  \\\n",
       "0    13.86        1.51  2.67               25.0         86           2.95   \n",
       "1    13.40        3.91  2.48               23.0        102           1.80   \n",
       "2    12.82        3.37  2.30               19.5         88           1.48   \n",
       "3    12.37        1.07  2.10               18.5         88           3.52   \n",
       "4    13.50        1.81  2.61               20.0         96           2.53   \n",
       "\n",
       "   Flavanoids  Nonflavanoid phenols  Proanthocyanins  Color intensity   Hue  \\\n",
       "0        2.86                  0.21             1.87             3.38  1.36   \n",
       "1        0.75                  0.43             1.41             7.30  0.70   \n",
       "2        0.66                  0.40             0.97            10.26  0.72   \n",
       "3        3.75                  0.24             1.95             4.50  1.04   \n",
       "4        2.61                  0.28             1.66             3.52  1.12   \n",
       "\n",
       "   OD280/OD315 of diluted wines  Proline  \n",
       "0                          3.16      410  \n",
       "1                          1.56      750  \n",
       "2                          1.75      685  \n",
       "3                          2.77      660  \n",
       "4                          3.82      845  "
      ]
     },
     "execution_count": 5,
     "metadata": {},
     "output_type": "execute_result"
    }
   ],
   "source": [
    "val.head()"
   ]
  },
  {
   "cell_type": "markdown",
   "id": "5407a1da",
   "metadata": {},
   "source": [
    "## Train "
   ]
  },
  {
   "cell_type": "code",
   "execution_count": 6,
   "id": "84ccb03c",
   "metadata": {},
   "outputs": [],
   "source": [
    "gmm = GMM(n_components = 1, covariance_type = 'full')\n",
    "gmm.fit(train);"
   ]
  },
  {
   "cell_type": "markdown",
   "id": "fc007868",
   "metadata": {},
   "source": [
    "## Histogram dla zbioru treningowego"
   ]
  },
  {
   "cell_type": "code",
   "execution_count": 7,
   "id": "2d4a5e97",
   "metadata": {},
   "outputs": [
    {
     "data": {
      "image/png": "[encoded data removed]",
      "text/plain": [
       "<Figure size 432x288 with 1 Axes>"
      ]
     },
     "metadata": {
      "needs_background": "light"
     },
     "output_type": "display_data"
    }
   ],
   "source": [
    "t_train = gmm.score_samples(train)\n",
    "sns.histplot(t_train, binwidth = 1)\n",
    "plt.title('Zbiór treningowy')\n",
    "\n",
    "plt.show()"
   ]
  },
  {
   "cell_type": "code",
   "execution_count": 8,
   "id": "4ff22c58",
   "metadata": {},
   "outputs": [
    {
     "data": {
      "image/png": "[encoded data removed]",
      "text/plain": [
       "<Figure size 432x288 with 1 Axes>"
      ]
     },
     "metadata": {
      "needs_background": "light"
     },
     "output_type": "display_data"
    }
   ],
   "source": [
    "ax = sns.histplot(t_train, binwidth = 1)\n",
    "ax.set(xlim = (-55, -10))\n",
    "plt.title('Zbiór treningowy')\n",
    "\n",
    "plt.show()"
   ]
  },
  {
   "cell_type": "code",
   "execution_count": 9,
   "id": "3d244a7f",
   "metadata": {},
   "outputs": [
    {
     "name": "stdout",
     "output_type": "stream",
     "text": [
      "Wartość minimalna:  -35.632145622230794\n",
      "Wartość maksymalna: -13.158134748744567\n",
      "Wartość średnia:    -18.04442804949664\n"
     ]
    }
   ],
   "source": [
    "print(f\"Wartość minimalna:  {np.min(t_train)}\")\n",
    "print(f\"Wartość maksymalna: {np.max(t_train)}\")\n",
    "print(f\"Wartość średnia:    {np.mean(t_train)}\")"
   ]
  },
  {
   "cell_type": "markdown",
   "id": "270ca84b",
   "metadata": {},
   "source": [
    "## Histogram dla zbioru walidacyjnrgo"
   ]
  },
  {
   "cell_type": "code",
   "execution_count": 10,
   "id": "901e4a8e",
   "metadata": {},
   "outputs": [
    {
     "data": {
      "image/png": "[encoded data removed]",
      "text/plain": [
       "<Figure size 432x288 with 1 Axes>"
      ]
     },
     "metadata": {
      "needs_background": "light"
     },
     "output_type": "display_data"
    }
   ],
   "source": [
    "t_val = gmm.score_samples(val)\n",
    "\n",
    "sns.histplot(t_val, binwidth = 1)\n",
    "plt.title('Zbiór walidacyjny')\n",
    "\n",
    "plt.show()"
   ]
  },
  {
   "cell_type": "code",
   "execution_count": 11,
   "id": "898220de",
   "metadata": {},
   "outputs": [
    {
     "data": {
      "image/png": "[encoded data removed]",
      "text/plain": [
       "<Figure size 432x288 with 1 Axes>"
      ]
     },
     "metadata": {
      "needs_background": "light"
     },
     "output_type": "display_data"
    }
   ],
   "source": [
    "ax = sns.histplot(t_val, binwidth = 1)\n",
    "ax.set(xlim = (-55, -10))\n",
    "plt.title('Zbiór walidacyjny')\n",
    "\n",
    "plt.show()"
   ]
  },
  {
   "cell_type": "code",
   "execution_count": 12,
   "id": "b1344f2f",
   "metadata": {},
   "outputs": [
    {
     "name": "stdout",
     "output_type": "stream",
     "text": [
      "Wartość minimalna:  -50.96461189450416\n",
      "Wartość maksymalna: -13.656306062919116\n",
      "Wartość średnia:    -24.154141474064236\n"
     ]
    }
   ],
   "source": [
    "print(f\"Wartość minimalna:  {np.min(t_val)}\")\n",
    "print(f\"Wartość maksymalna: {np.max(t_val)}\")\n",
    "print(f\"Wartość średnia:    {np.mean(t_val)}\")"
   ]
  },
  {
   "cell_type": "markdown",
   "id": "11effc67",
   "metadata": {},
   "source": [
    "## Threshold"
   ]
  },
  {
   "cell_type": "markdown",
   "id": "70dea16d",
   "metadata": {},
   "source": [
    "Na podstawie zbioru treningowego rozsądnym punktem odcięcia wydaje się $-25$, jednak w zbiorze walidacyjnym wartość średnia wynosi około $-24$ i wartości są bardziej przesunięte w lewą stronę.\n",
    "\n",
    "Zatem na punkt odcięcia przyjmę wartość $-30$."
   ]
  },
  {
   "cell_type": "code",
   "execution_count": 13,
   "id": "344d38c1",
   "metadata": {},
   "outputs": [],
   "source": [
    "threshold = -30"
   ]
  },
  {
   "cell_type": "code",
   "execution_count": 14,
   "id": "7c350f4d",
   "metadata": {},
   "outputs": [
    {
     "name": "stdout",
     "output_type": "stream",
     "text": [
      "Liczba outlierów w zbiorze treningowym:  3\n",
      "Liczba outlierów w zbiorze walidacyjnym: 3\n"
     ]
    }
   ],
   "source": [
    "print(f\"Liczba outlierów w zbiorze treningowym:  {np.sum(t_train < threshold)}\")\n",
    "print(f\"Liczba outlierów w zbiorze walidacyjnym: {np.sum(t_train < threshold)}\")"
   ]
  },
  {
   "cell_type": "markdown",
   "id": "b8d9a814",
   "metadata": {},
   "source": [
    "## Zbiór testowy"
   ]
  },
  {
   "cell_type": "code",
   "execution_count": 15,
   "id": "d2180242",
   "metadata": {},
   "outputs": [],
   "source": [
    "t_test = gmm.score_samples(test.iloc[:, 1:])"
   ]
  },
  {
   "cell_type": "code",
   "execution_count": 16,
   "id": "5ce96c51",
   "metadata": {},
   "outputs": [
    {
     "data": {
      "image/png": "[encoded data removed]",
      "text/plain": [
       "<Figure size 432x288 with 1 Axes>"
      ]
     },
     "metadata": {
      "needs_background": "light"
     },
     "output_type": "display_data"
    }
   ],
   "source": [
    "sns.histplot(t_test, binwidth = 1)\n",
    "plt.title('Zbiór testowy')\n",
    "\n",
    "plt.show()"
   ]
  },
  {
   "cell_type": "code",
   "execution_count": 17,
   "id": "4f88a86d",
   "metadata": {},
   "outputs": [],
   "source": [
    "results_test = (t_test < threshold).astype(int)"
   ]
  },
  {
   "cell_type": "code",
   "execution_count": 18,
   "id": "262f3a00",
   "metadata": {},
   "outputs": [
    {
     "name": "stdout",
     "output_type": "stream",
     "text": [
      "Liczba wykrytych outlierów:           6\n",
      "Liczba outlierów w zbiorze testowym:  5\n"
     ]
    }
   ],
   "source": [
    "print(f\"Liczba wykrytych outlierów:           {sum(results_test)}\")\n",
    "print(f\"Liczba outlierów w zbiorze testowym:  {sum(test['class'])}\")"
   ]
  },
  {
   "cell_type": "markdown",
   "id": "d8886329",
   "metadata": {},
   "source": [
    "Czyli mamy o jeden outlier za dużo\n",
    "\n",
    "Sprawdźmy wartości metryk:"
   ]
  },
  {
   "cell_type": "code",
   "execution_count": 19,
   "id": "6400bf06",
   "metadata": {},
   "outputs": [
    {
     "name": "stdout",
     "output_type": "stream",
     "text": [
      "              precision    recall  f1-score   support\n",
      "\n",
      "           0       1.00      0.92      0.96        12\n",
      "           1       0.83      1.00      0.91         5\n",
      "\n",
      "    accuracy                           0.94        17\n",
      "   macro avg       0.92      0.96      0.93        17\n",
      "weighted avg       0.95      0.94      0.94        17\n",
      "\n"
     ]
    }
   ],
   "source": [
    "print(classification_report(test['class'], results_test))"
   ]
  },
  {
   "cell_type": "markdown",
   "id": "03036e54",
   "metadata": {},
   "source": [
    "Wyniki są bardzo dobre, a metryka recall osiągnęła nawet wartość $1$."
   ]
  },
  {
   "cell_type": "markdown",
   "id": "53c2b44e",
   "metadata": {},
   "source": [
    "Podsumowując, wykorzystanie GMM do wykrywania próbek odstających ma sens."
   ]
  }
 ],
 "metadata": {
  "kernelspec": {
   "display_name": "Python 3",
   "language": "python",
   "name": "python3"
  },
  "language_info": {
   "codemirror_mode": {
    "name": "ipython",
    "version": 3
   },
   "file_extension": ".py",
   "mimetype": "text/x-python",
   "name": "python",
   "nbconvert_exporter": "python",
   "pygments_lexer": "ipython3",
   "version": "3.7.10"
  }
 },
 "nbformat": 4,
 "nbformat_minor": 5
}
