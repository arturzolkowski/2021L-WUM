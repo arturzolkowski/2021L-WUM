{
 "cells": [
  {
   "cell_type": "markdown",
   "metadata": {
    "id": "xg6CMYp-wn3k"
   },
   "source": [
    "# Wczytanie potrzebnych bibliotek\n"
   ]
  },
  {
   "cell_type": "code",
   "execution_count": 1,
   "metadata": {
    "executionInfo": {
     "elapsed": 1763,
     "status": "ok",
     "timestamp": 1615472718273,
     "user": {
      "displayName": "Maciek Ch",
      "photoUrl": "https://lh3.googleusercontent.com/a-/AOh14GiiLVBLm__D3Uax25QVaV9ykubLgY3nyiM22hLLag=s64",
      "userId": "16397894531026429115"
     },
     "user_tz": -60
    },
    "id": "0KsKzU_gv0Oz"
   },
   "outputs": [],
   "source": [
    "import pandas as pd\n",
    "import numpy as np\n",
    "import seaborn as sns\n",
    "import matplotlib.pyplot as plt\n",
    "import matplotlib\n",
    "import requests"
   ]
  },
  {
   "cell_type": "markdown",
   "metadata": {
    "id": "WCJxJFiWygn3"
   },
   "source": [
    "# Wczytanie danych z naszego API oraz konwersja na PandasDataFrame"
   ]
  },
  {
   "cell_type": "code",
   "execution_count": 2,
   "metadata": {
    "executionInfo": {
     "elapsed": 2205,
     "status": "ok",
     "timestamp": 1615472718721,
     "user": {
      "displayName": "Maciek Ch",
      "photoUrl": "https://lh3.googleusercontent.com/a-/AOh14GiiLVBLm__D3Uax25QVaV9ykubLgY3nyiM22hLLag=s64",
      "userId": "16397894531026429115"
     },
     "user_tz": -60
    },
    "id": "aR8GCDNGwuSw"
   },
   "outputs": [],
   "source": [
    "df=requests.get(\"https://api.apispreadsheets.com/api/dataset/forest-fires/\").json()\n",
    "from pandas import json_normalize \n",
    "df = json_normalize(df, 'data')\n"
   ]
  },
  {
   "cell_type": "markdown",
   "metadata": {
    "id": "XMK8Z85oysAX"
   },
   "source": [
    "# Sprawdźmy z jakich kolumn składa się nasz DataFrame"
   ]
  },
  {
   "cell_type": "code",
   "execution_count": 3,
   "metadata": {
    "colab": {
     "base_uri": "https://localhost:8080/",
     "height": 173
    },
    "executionInfo": {
     "elapsed": 1029,
     "status": "ok",
     "timestamp": 1615472723610,
     "user": {
      "displayName": "Maciek Ch",
      "photoUrl": "https://lh3.googleusercontent.com/a-/AOh14GiiLVBLm__D3Uax25QVaV9ykubLgY3nyiM22hLLag=s64",
      "userId": "16397894531026429115"
     },
     "user_tz": -60
    },
    "id": "hxMl52dCyOFc",
    "outputId": "6e80253c-a10c-4c55-d408-2078eb77594c"
   },
   "outputs": [
    {
     "data": {
      "text/html": [
       "<div>\n",
       "<style scoped>\n",
       "    .dataframe tbody tr th:only-of-type {\n",
       "        vertical-align: middle;\n",
       "    }\n",
       "\n",
       "    .dataframe tbody tr th {\n",
       "        vertical-align: top;\n",
       "    }\n",
       "\n",
       "    .dataframe thead th {\n",
       "        text-align: right;\n",
       "    }\n",
       "</style>\n",
       "<table border=\"1\" class=\"dataframe\">\n",
       "  <thead>\n",
       "    <tr style=\"text-align: right;\">\n",
       "      <th></th>\n",
       "      <th>X</th>\n",
       "      <th>Y</th>\n",
       "      <th>month</th>\n",
       "      <th>day</th>\n",
       "      <th>FFMC</th>\n",
       "      <th>DMC</th>\n",
       "      <th>DC</th>\n",
       "      <th>ISI</th>\n",
       "      <th>temp</th>\n",
       "      <th>RH</th>\n",
       "      <th>wind</th>\n",
       "      <th>rain</th>\n",
       "      <th>area</th>\n",
       "    </tr>\n",
       "  </thead>\n",
       "  <tbody>\n",
       "    <tr>\n",
       "      <th>0</th>\n",
       "      <td>7</td>\n",
       "      <td>5</td>\n",
       "      <td>mar</td>\n",
       "      <td>fri</td>\n",
       "      <td>86.2</td>\n",
       "      <td>26.2</td>\n",
       "      <td>94.3</td>\n",
       "      <td>5.1</td>\n",
       "      <td>8.2</td>\n",
       "      <td>51.0</td>\n",
       "      <td>6.7</td>\n",
       "      <td>0.0</td>\n",
       "      <td>0.0</td>\n",
       "    </tr>\n",
       "    <tr>\n",
       "      <th>1</th>\n",
       "      <td>7</td>\n",
       "      <td>4</td>\n",
       "      <td>oct</td>\n",
       "      <td>tue</td>\n",
       "      <td>90.6</td>\n",
       "      <td>35.4</td>\n",
       "      <td>669.1</td>\n",
       "      <td>6.7</td>\n",
       "      <td>18.0</td>\n",
       "      <td>33.0</td>\n",
       "      <td>0.9</td>\n",
       "      <td>0.0</td>\n",
       "      <td>0.0</td>\n",
       "    </tr>\n",
       "    <tr>\n",
       "      <th>2</th>\n",
       "      <td>7</td>\n",
       "      <td>4</td>\n",
       "      <td>oct</td>\n",
       "      <td>sat</td>\n",
       "      <td>90.6</td>\n",
       "      <td>43.7</td>\n",
       "      <td>686.9</td>\n",
       "      <td>6.7</td>\n",
       "      <td>14.6</td>\n",
       "      <td>33.0</td>\n",
       "      <td>1.3</td>\n",
       "      <td>0.0</td>\n",
       "      <td>0.0</td>\n",
       "    </tr>\n",
       "    <tr>\n",
       "      <th>3</th>\n",
       "      <td>8</td>\n",
       "      <td>6</td>\n",
       "      <td>mar</td>\n",
       "      <td>fri</td>\n",
       "      <td>91.7</td>\n",
       "      <td>33.3</td>\n",
       "      <td>77.5</td>\n",
       "      <td>9.0</td>\n",
       "      <td>8.3</td>\n",
       "      <td>97.0</td>\n",
       "      <td>4.0</td>\n",
       "      <td>0.2</td>\n",
       "      <td>0.0</td>\n",
       "    </tr>\n",
       "  </tbody>\n",
       "</table>\n",
       "</div>"
      ],
      "text/plain": [
       "   X  Y month  day  FFMC   DMC     DC  ISI  temp    RH  wind  rain  area\n",
       "0  7  5   mar  fri  86.2  26.2   94.3  5.1   8.2  51.0   6.7   0.0   0.0\n",
       "1  7  4   oct  tue  90.6  35.4  669.1  6.7  18.0  33.0   0.9   0.0   0.0\n",
       "2  7  4   oct  sat  90.6  43.7  686.9  6.7  14.6  33.0   1.3   0.0   0.0\n",
       "3  8  6   mar  fri  91.7  33.3   77.5  9.0   8.3  97.0   4.0   0.2   0.0"
      ]
     },
     "execution_count": 3,
     "metadata": {},
     "output_type": "execute_result"
    }
   ],
   "source": [
    "df.head(4)"
   ]
  },
  {
   "cell_type": "code",
   "execution_count": 4,
   "metadata": {
    "colab": {
     "base_uri": "https://localhost:8080/"
    },
    "executionInfo": {
     "elapsed": 983,
     "status": "ok",
     "timestamp": 1615472725292,
     "user": {
      "displayName": "Maciek Ch",
      "photoUrl": "https://lh3.googleusercontent.com/a-/AOh14GiiLVBLm__D3Uax25QVaV9ykubLgY3nyiM22hLLag=s64",
      "userId": "16397894531026429115"
     },
     "user_tz": -60
    },
    "id": "tB7LpFk117-6",
    "outputId": "2bad573b-c739-41bf-891c-51741e3ffa98"
   },
   "outputs": [
    {
     "name": "stdout",
     "output_type": "stream",
     "text": [
      "<class 'pandas.core.frame.DataFrame'>\n",
      "RangeIndex: 517 entries, 0 to 516\n",
      "Data columns (total 13 columns):\n",
      " #   Column  Non-Null Count  Dtype  \n",
      "---  ------  --------------  -----  \n",
      " 0   X       517 non-null    int64  \n",
      " 1   Y       517 non-null    int64  \n",
      " 2   month   517 non-null    object \n",
      " 3   day     517 non-null    object \n",
      " 4   FFMC    517 non-null    float64\n",
      " 5   DMC     517 non-null    float64\n",
      " 6   DC      517 non-null    float64\n",
      " 7   ISI     517 non-null    float64\n",
      " 8   temp    517 non-null    float64\n",
      " 9   RH      517 non-null    float64\n",
      " 10  wind    517 non-null    float64\n",
      " 11  rain    517 non-null    float64\n",
      " 12  area    517 non-null    float64\n",
      "dtypes: float64(9), int64(2), object(2)\n",
      "memory usage: 52.6+ KB\n"
     ]
    }
   ],
   "source": [
    "df.info()"
   ]
  },
  {
   "cell_type": "markdown",
   "metadata": {
    "id": "m0L7SaxA1-IO"
   },
   "source": [
    "Jak możemy zauważyć, wszystkie nasze kolumny składają się z wartości nie wybrakowanych (non-null) oraz każda z kolumn ma ujednolicony typ danych "
   ]
  },
  {
   "cell_type": "markdown",
   "metadata": {
    "id": "ZXRKVyFi2iOn"
   },
   "source": [
    "# Sprawdzenie rozkładów poszczególnych wartości w kolumnach"
   ]
  },
  {
   "cell_type": "code",
   "execution_count": 5,
   "metadata": {
    "colab": {
     "base_uri": "https://localhost:8080/",
     "height": 297
    },
    "executionInfo": {
     "elapsed": 1635,
     "status": "ok",
     "timestamp": 1615472728208,
     "user": {
      "displayName": "Maciek Ch",
      "photoUrl": "https://lh3.googleusercontent.com/a-/AOh14GiiLVBLm__D3Uax25QVaV9ykubLgY3nyiM22hLLag=s64",
      "userId": "16397894531026429115"
     },
     "user_tz": -60
    },
    "id": "CIQyJhGv2MlO",
    "outputId": "4c389212-73ad-452c-c6bf-53d383e3929f"
   },
   "outputs": [
    {
     "data": {
      "text/html": [
       "<div>\n",
       "<style scoped>\n",
       "    .dataframe tbody tr th:only-of-type {\n",
       "        vertical-align: middle;\n",
       "    }\n",
       "\n",
       "    .dataframe tbody tr th {\n",
       "        vertical-align: top;\n",
       "    }\n",
       "\n",
       "    .dataframe thead th {\n",
       "        text-align: right;\n",
       "    }\n",
       "</style>\n",
       "<table border=\"1\" class=\"dataframe\">\n",
       "  <thead>\n",
       "    <tr style=\"text-align: right;\">\n",
       "      <th></th>\n",
       "      <th>X</th>\n",
       "      <th>Y</th>\n",
       "      <th>FFMC</th>\n",
       "      <th>DMC</th>\n",
       "      <th>DC</th>\n",
       "      <th>ISI</th>\n",
       "      <th>temp</th>\n",
       "      <th>RH</th>\n",
       "      <th>wind</th>\n",
       "      <th>rain</th>\n",
       "      <th>area</th>\n",
       "    </tr>\n",
       "  </thead>\n",
       "  <tbody>\n",
       "    <tr>\n",
       "      <th>count</th>\n",
       "      <td>517.000000</td>\n",
       "      <td>517.000000</td>\n",
       "      <td>517.000000</td>\n",
       "      <td>517.000000</td>\n",
       "      <td>517.000000</td>\n",
       "      <td>517.000000</td>\n",
       "      <td>517.000000</td>\n",
       "      <td>517.000000</td>\n",
       "      <td>517.000000</td>\n",
       "      <td>517.000000</td>\n",
       "      <td>517.000000</td>\n",
       "    </tr>\n",
       "    <tr>\n",
       "      <th>mean</th>\n",
       "      <td>4.669246</td>\n",
       "      <td>4.299807</td>\n",
       "      <td>90.644681</td>\n",
       "      <td>110.872340</td>\n",
       "      <td>547.940039</td>\n",
       "      <td>9.021663</td>\n",
       "      <td>18.889168</td>\n",
       "      <td>44.288201</td>\n",
       "      <td>4.017602</td>\n",
       "      <td>0.021663</td>\n",
       "      <td>12.847292</td>\n",
       "    </tr>\n",
       "    <tr>\n",
       "      <th>std</th>\n",
       "      <td>2.313778</td>\n",
       "      <td>1.229900</td>\n",
       "      <td>5.520111</td>\n",
       "      <td>64.046482</td>\n",
       "      <td>248.066192</td>\n",
       "      <td>4.559477</td>\n",
       "      <td>5.806625</td>\n",
       "      <td>16.317469</td>\n",
       "      <td>1.791653</td>\n",
       "      <td>0.295959</td>\n",
       "      <td>63.655818</td>\n",
       "    </tr>\n",
       "    <tr>\n",
       "      <th>min</th>\n",
       "      <td>1.000000</td>\n",
       "      <td>2.000000</td>\n",
       "      <td>18.700000</td>\n",
       "      <td>1.100000</td>\n",
       "      <td>7.900000</td>\n",
       "      <td>0.000000</td>\n",
       "      <td>2.200000</td>\n",
       "      <td>15.000000</td>\n",
       "      <td>0.400000</td>\n",
       "      <td>0.000000</td>\n",
       "      <td>0.000000</td>\n",
       "    </tr>\n",
       "    <tr>\n",
       "      <th>25%</th>\n",
       "      <td>3.000000</td>\n",
       "      <td>4.000000</td>\n",
       "      <td>90.200000</td>\n",
       "      <td>68.600000</td>\n",
       "      <td>437.700000</td>\n",
       "      <td>6.500000</td>\n",
       "      <td>15.500000</td>\n",
       "      <td>33.000000</td>\n",
       "      <td>2.700000</td>\n",
       "      <td>0.000000</td>\n",
       "      <td>0.000000</td>\n",
       "    </tr>\n",
       "    <tr>\n",
       "      <th>50%</th>\n",
       "      <td>4.000000</td>\n",
       "      <td>4.000000</td>\n",
       "      <td>91.600000</td>\n",
       "      <td>108.300000</td>\n",
       "      <td>664.200000</td>\n",
       "      <td>8.400000</td>\n",
       "      <td>19.300000</td>\n",
       "      <td>42.000000</td>\n",
       "      <td>4.000000</td>\n",
       "      <td>0.000000</td>\n",
       "      <td>0.520000</td>\n",
       "    </tr>\n",
       "    <tr>\n",
       "      <th>75%</th>\n",
       "      <td>7.000000</td>\n",
       "      <td>5.000000</td>\n",
       "      <td>92.900000</td>\n",
       "      <td>142.400000</td>\n",
       "      <td>713.900000</td>\n",
       "      <td>10.800000</td>\n",
       "      <td>22.800000</td>\n",
       "      <td>53.000000</td>\n",
       "      <td>4.900000</td>\n",
       "      <td>0.000000</td>\n",
       "      <td>6.570000</td>\n",
       "    </tr>\n",
       "    <tr>\n",
       "      <th>max</th>\n",
       "      <td>9.000000</td>\n",
       "      <td>9.000000</td>\n",
       "      <td>96.200000</td>\n",
       "      <td>291.300000</td>\n",
       "      <td>860.600000</td>\n",
       "      <td>56.100000</td>\n",
       "      <td>33.300000</td>\n",
       "      <td>100.000000</td>\n",
       "      <td>9.400000</td>\n",
       "      <td>6.400000</td>\n",
       "      <td>1090.840000</td>\n",
       "    </tr>\n",
       "  </tbody>\n",
       "</table>\n",
       "</div>"
      ],
      "text/plain": [
       "                X           Y        FFMC         DMC          DC         ISI  \\\n",
       "count  517.000000  517.000000  517.000000  517.000000  517.000000  517.000000   \n",
       "mean     4.669246    4.299807   90.644681  110.872340  547.940039    9.021663   \n",
       "std      2.313778    1.229900    5.520111   64.046482  248.066192    4.559477   \n",
       "min      1.000000    2.000000   18.700000    1.100000    7.900000    0.000000   \n",
       "25%      3.000000    4.000000   90.200000   68.600000  437.700000    6.500000   \n",
       "50%      4.000000    4.000000   91.600000  108.300000  664.200000    8.400000   \n",
       "75%      7.000000    5.000000   92.900000  142.400000  713.900000   10.800000   \n",
       "max      9.000000    9.000000   96.200000  291.300000  860.600000   56.100000   \n",
       "\n",
       "             temp          RH        wind        rain         area  \n",
       "count  517.000000  517.000000  517.000000  517.000000   517.000000  \n",
       "mean    18.889168   44.288201    4.017602    0.021663    12.847292  \n",
       "std      5.806625   16.317469    1.791653    0.295959    63.655818  \n",
       "min      2.200000   15.000000    0.400000    0.000000     0.000000  \n",
       "25%     15.500000   33.000000    2.700000    0.000000     0.000000  \n",
       "50%     19.300000   42.000000    4.000000    0.000000     0.520000  \n",
       "75%     22.800000   53.000000    4.900000    0.000000     6.570000  \n",
       "max     33.300000  100.000000    9.400000    6.400000  1090.840000  "
      ]
     },
     "execution_count": 5,
     "metadata": {},
     "output_type": "execute_result"
    }
   ],
   "source": [
    "df.describe()"
   ]
  },
  {
   "cell_type": "code",
   "execution_count": 6,
   "metadata": {
    "id": "lTdVV6XT2h1f"
   },
   "outputs": [
    {
     "data": {
      "image/png": "[encoded data removed]",
      "text/plain": [
       "<Figure size 1296x864 with 12 Axes>"
      ]
     },
     "metadata": {
      "needs_background": "light"
     },
     "output_type": "display_data"
    }
   ],
   "source": [
    "df.hist(figsize=(18, 12), bins=30)\n",
    "plt.show()"
   ]
  },
  {
   "cell_type": "code",
   "execution_count": 7,
   "metadata": {
    "id": "lRmC7aXt3yPD"
   },
   "outputs": [
    {
     "data": {
      "image/png": "[encoded data removed]",
      "text/plain": [
       "<Figure size 432x288 with 1 Axes>"
      ]
     },
     "metadata": {
      "needs_background": "light"
     },
     "output_type": "display_data"
    }
   ],
   "source": [
    "plt.plot(df['area'], 'o')\n",
    "plt.title('Powierzchnia która spłonęła w kolejnych wystąpieniach')\n",
    "plt.xlabel('wystąpienia')\n",
    "plt.ylabel('area')\n",
    "plt.show()"
   ]
  },
  {
   "cell_type": "code",
   "execution_count": 8,
   "metadata": {
    "id": "RPG3REYH5NJK"
   },
   "outputs": [
    {
     "data": {
      "image/png": "[encoded data removed]",
      "text/plain": [
       "<Figure size 432x288 with 1 Axes>"
      ]
     },
     "metadata": {
      "needs_background": "light"
     },
     "output_type": "display_data"
    }
   ],
   "source": [
    "plt.plot(df['rain'], 'o')\n",
    "plt.title('Powierzchnia która spłonęła w kolejnych wystąpieniach')\n",
    "plt.xlabel('wystąpienia')\n",
    "plt.ylabel('area')\n",
    "plt.show()"
   ]
  },
  {
   "cell_type": "code",
   "execution_count": 9,
   "metadata": {
    "id": "D_r77mrS7a3L"
   },
   "outputs": [
    {
     "data": {
      "text/plain": [
       "Text(0.5, 1.0, 'Area')"
      ]
     },
     "execution_count": 9,
     "metadata": {},
     "output_type": "execute_result"
    },
    {
     "data": {
      "image/png": "[encoded data removed]",
      "text/plain": [
       "<Figure size 432x288 with 1 Axes>"
      ]
     },
     "metadata": {
      "needs_background": "light"
     },
     "output_type": "display_data"
    }
   ],
   "source": [
    "box = sns.boxplot(df['area'])\n",
    "box.set_title('Area')"
   ]
  },
  {
   "cell_type": "markdown",
   "metadata": {
    "id": "jEiqjUum4C_V"
   },
   "source": [
    "Z naszych wizualizacji możemy zauważyć między innymi to, że:\n",
    "* znacząca część lasów nie płonęła\n",
    "* w lasach z naszej bazy danych rzadko kiedy padał deszcz\n"
   ]
  },
  {
   "cell_type": "markdown",
   "metadata": {
    "id": "DTxk6k5uAZhq"
   },
   "source": [
    "Zauważmy, że posiadamy koordynaty naszych lasów. Sprawdźmy więc, czy w naszych danych nie znajdziemy miejsca, w którym pożary lasów występują znacząco częściej niż w pozostałych"
   ]
  },
  {
   "cell_type": "code",
   "execution_count": 10,
   "metadata": {
    "colab": {
     "base_uri": "https://localhost:8080/",
     "height": 464
    },
    "executionInfo": {
     "elapsed": 1056,
     "status": "ok",
     "timestamp": 1615472730508,
     "user": {
      "displayName": "Maciek Ch",
      "photoUrl": "https://lh3.googleusercontent.com/a-/AOh14GiiLVBLm__D3Uax25QVaV9ykubLgY3nyiM22hLLag=s64",
      "userId": "16397894531026429115"
     },
     "user_tz": -60
    },
    "id": "5Jynxnm4AuaS",
    "outputId": "a9634b65-0c44-4652-b564-94abdbcf120b"
   },
   "outputs": [
    {
     "data": {
      "image/png": "[encoded data removed]",
      "text/plain": [
       "<Figure size 504x504 with 2 Axes>"
      ]
     },
     "metadata": {
      "needs_background": "light"
     },
     "output_type": "display_data"
    }
   ],
   "source": [
    "df_region_mean = df.groupby([\"X\",\"Y\"])\n",
    "df_region_mean = df_region_mean.mean().reset_index()\n",
    "df_coordinate = df_region_mean.pivot(\"X\", \"Y\", \"area\")\n",
    "plt.figure(figsize=(7, 7))\n",
    "sns.heatmap(df_coordinate, cmap=\"Reds\", annot=True, fmt=\".0f\")\n",
    "plt.title(\"Średnia powierzchnia części lasu o koordynatach X i Y która spłonęła\")\n",
    "plt.show()\n",
    "\n"
   ]
  },
  {
   "cell_type": "markdown",
   "metadata": {
    "id": "BK3sWutOFxiE"
   },
   "source": [
    "Jak możemy zauważyć, Region X=8 Y=8 charakteryzuje się tym, że średni spalony obszar jest bardzo duży"
   ]
  },
  {
   "cell_type": "code",
   "execution_count": 11,
   "metadata": {
    "colab": {
     "base_uri": "https://localhost:8080/",
     "height": 462
    },
    "executionInfo": {
     "elapsed": 909,
     "status": "ok",
     "timestamp": 1615472741313,
     "user": {
      "displayName": "Maciek Ch",
      "photoUrl": "https://lh3.googleusercontent.com/a-/AOh14GiiLVBLm__D3Uax25QVaV9ykubLgY3nyiM22hLLag=s64",
      "userId": "16397894531026429115"
     },
     "user_tz": -60
    },
    "id": "wEnkilUQHqn6",
    "outputId": "8edc4f80-3445-401b-e2ba-5c0798586498"
   },
   "outputs": [
    {
     "data": {
      "image/png": "[encoded data removed]",
      "text/plain": [
       "<Figure size 504x504 with 2 Axes>"
      ]
     },
     "metadata": {
      "needs_background": "light"
     },
     "output_type": "display_data"
    }
   ],
   "source": [
    "df_region_count = df.groupby([\"X\",\"Y\"]).count().reset_index()\n",
    "df_region_count\n",
    "df_region_count = df_region_count.pivot(\"X\", \"Y\", \"area\")\n",
    "plt.figure(figsize=(7, 7))\n",
    "sns.heatmap(df_region_count, cmap=\"Reds\", annot=True, fmt=\".0f\")\n",
    "plt.title(\"Liczba rekordów dla danego regionu\")\n",
    "plt.show()"
   ]
  },
  {
   "cell_type": "code",
   "execution_count": 12,
   "metadata": {
    "colab": {
     "base_uri": "https://localhost:8080/",
     "height": 80
    },
    "executionInfo": {
     "elapsed": 568,
     "status": "ok",
     "timestamp": 1615472744419,
     "user": {
      "displayName": "Maciek Ch",
      "photoUrl": "https://lh3.googleusercontent.com/a-/AOh14GiiLVBLm__D3Uax25QVaV9ykubLgY3nyiM22hLLag=s64",
      "userId": "16397894531026429115"
     },
     "user_tz": -60
    },
    "id": "Cx856NGPKfR8",
    "outputId": "063dd7df-44e7-42e2-acb8-b8e8eaa63053"
   },
   "outputs": [
    {
     "data": {
      "text/html": [
       "<div>\n",
       "<style scoped>\n",
       "    .dataframe tbody tr th:only-of-type {\n",
       "        vertical-align: middle;\n",
       "    }\n",
       "\n",
       "    .dataframe tbody tr th {\n",
       "        vertical-align: top;\n",
       "    }\n",
       "\n",
       "    .dataframe thead th {\n",
       "        text-align: right;\n",
       "    }\n",
       "</style>\n",
       "<table border=\"1\" class=\"dataframe\">\n",
       "  <thead>\n",
       "    <tr style=\"text-align: right;\">\n",
       "      <th></th>\n",
       "      <th>X</th>\n",
       "      <th>Y</th>\n",
       "      <th>month</th>\n",
       "      <th>day</th>\n",
       "      <th>FFMC</th>\n",
       "      <th>DMC</th>\n",
       "      <th>DC</th>\n",
       "      <th>ISI</th>\n",
       "      <th>temp</th>\n",
       "      <th>RH</th>\n",
       "      <th>wind</th>\n",
       "      <th>rain</th>\n",
       "      <th>area</th>\n",
       "    </tr>\n",
       "  </thead>\n",
       "  <tbody>\n",
       "    <tr>\n",
       "      <th>420</th>\n",
       "      <td>8</td>\n",
       "      <td>8</td>\n",
       "      <td>aug</td>\n",
       "      <td>wed</td>\n",
       "      <td>91.7</td>\n",
       "      <td>191.4</td>\n",
       "      <td>635.9</td>\n",
       "      <td>7.8</td>\n",
       "      <td>26.2</td>\n",
       "      <td>36.0</td>\n",
       "      <td>4.5</td>\n",
       "      <td>0.0</td>\n",
       "      <td>185.76</td>\n",
       "    </tr>\n",
       "  </tbody>\n",
       "</table>\n",
       "</div>"
      ],
      "text/plain": [
       "     X  Y month  day  FFMC    DMC     DC  ISI  temp    RH  wind  rain    area\n",
       "420  8  8   aug  wed  91.7  191.4  635.9  7.8  26.2  36.0   4.5   0.0  185.76"
      ]
     },
     "execution_count": 12,
     "metadata": {},
     "output_type": "execute_result"
    }
   ],
   "source": [
    "df_88 = df[(df[\"X\"] == 8) & (df[\"Y\"] == 8)]\n",
    "df_88"
   ]
  },
  {
   "cell_type": "markdown",
   "metadata": {
    "id": "LEzCFePTJWNh"
   },
   "source": [
    "Zauważmy także, że dla danego regionu wykonano tylko jeden pomiar. Może to na przykład oznaczać, że dany region spłonął w większości/całości, więc dalsze pomiary nie mają dla niego już sensu"
   ]
  },
  {
   "cell_type": "markdown",
   "metadata": {
    "id": "amKgOzRS7J8l"
   },
   "source": [
    "# Sprawdźmy zależności pomiędzy interesującą nas wartością area - części lasu która spłonęła, a pozostałymi zmiennymi."
   ]
  },
  {
   "cell_type": "code",
   "execution_count": 13,
   "metadata": {
    "colab": {
     "base_uri": "https://localhost:8080/",
     "height": 869
    },
    "executionInfo": {
     "elapsed": 5941,
     "status": "ok",
     "timestamp": 1615472758561,
     "user": {
      "displayName": "Maciek Ch",
      "photoUrl": "https://lh3.googleusercontent.com/a-/AOh14GiiLVBLm__D3Uax25QVaV9ykubLgY3nyiM22hLLag=s64",
      "userId": "16397894531026429115"
     },
     "user_tz": -60
    },
    "id": "xUxogh1I7Bgb",
    "outputId": "9c4b4e47-2617-42cf-e880-755bc73efadd"
   },
   "outputs": [
    {
     "data": {
      "image/png": "[encoded data removed]",
      "text/plain": [
       "<Figure size 1152x288 with 4 Axes>"
      ]
     },
     "metadata": {
      "needs_background": "light"
     },
     "output_type": "display_data"
    },
    {
     "data": {
      "image/png": "[encoded data removed]",
      "text/plain": [
       "<Figure size 1152x288 with 4 Axes>"
      ]
     },
     "metadata": {
      "needs_background": "light"
     },
     "output_type": "display_data"
    },
    {
     "data": {
      "image/png": "[encoded data removed]",
      "text/plain": [
       "<Figure size 576x288 with 2 Axes>"
      ]
     },
     "metadata": {
      "needs_background": "light"
     },
     "output_type": "display_data"
    }
   ],
   "source": [
    "cols = df.columns[0:12]\n",
    "cols\n",
    "sns.pairplot(df, x_vars=cols[0:4], y_vars =\"area\", height = 4, aspect = 1)\n",
    "sns.pairplot(df, x_vars=cols[5:9], y_vars =\"area\", height = 4, aspect = 1)\n",
    "sns.pairplot(df, x_vars=cols[10:12], y_vars =\"area\", height = 4, aspect = 1)\n",
    "plt.tight_layout()"
   ]
  },
  {
   "cell_type": "markdown",
   "metadata": {
    "id": "zAtowM0RKziw"
   },
   "source": [
    "### Zauważmy, że nie tylko w regionie X=8 oraz Y=8 wystąpił bardzo duży pożar.  Sprawdźmy więc pozostałe miejsca, w których wystąpiły duże pożary (przyjmijmy górne 5%)"
   ]
  },
  {
   "cell_type": "code",
   "execution_count": 14,
   "metadata": {
    "colab": {
     "base_uri": "https://localhost:8080/",
     "height": 855
    },
    "executionInfo": {
     "elapsed": 578,
     "status": "ok",
     "timestamp": 1615472761110,
     "user": {
      "displayName": "Maciek Ch",
      "photoUrl": "https://lh3.googleusercontent.com/a-/AOh14GiiLVBLm__D3Uax25QVaV9ykubLgY3nyiM22hLLag=s64",
      "userId": "16397894531026429115"
     },
     "user_tz": -60
    },
    "id": "FOVkqk3J_ngR",
    "outputId": "ae1f99d7-ce1c-47ce-bf49-172542199a8c"
   },
   "outputs": [
    {
     "data": {
      "text/html": [
       "<div>\n",
       "<style scoped>\n",
       "    .dataframe tbody tr th:only-of-type {\n",
       "        vertical-align: middle;\n",
       "    }\n",
       "\n",
       "    .dataframe tbody tr th {\n",
       "        vertical-align: top;\n",
       "    }\n",
       "\n",
       "    .dataframe thead th {\n",
       "        text-align: right;\n",
       "    }\n",
       "</style>\n",
       "<table border=\"1\" class=\"dataframe\">\n",
       "  <thead>\n",
       "    <tr style=\"text-align: right;\">\n",
       "      <th></th>\n",
       "      <th>X</th>\n",
       "      <th>Y</th>\n",
       "      <th>month</th>\n",
       "      <th>day</th>\n",
       "      <th>FFMC</th>\n",
       "      <th>DMC</th>\n",
       "      <th>DC</th>\n",
       "      <th>ISI</th>\n",
       "      <th>temp</th>\n",
       "      <th>RH</th>\n",
       "      <th>wind</th>\n",
       "      <th>rain</th>\n",
       "      <th>area</th>\n",
       "    </tr>\n",
       "  </thead>\n",
       "  <tbody>\n",
       "    <tr>\n",
       "      <th>226</th>\n",
       "      <td>7</td>\n",
       "      <td>5</td>\n",
       "      <td>oct</td>\n",
       "      <td>mon</td>\n",
       "      <td>91.7</td>\n",
       "      <td>48.5</td>\n",
       "      <td>696.1</td>\n",
       "      <td>11.1</td>\n",
       "      <td>16.1</td>\n",
       "      <td>44.0</td>\n",
       "      <td>4.0</td>\n",
       "      <td>0.0</td>\n",
       "      <td>49.37</td>\n",
       "    </tr>\n",
       "    <tr>\n",
       "      <th>227</th>\n",
       "      <td>8</td>\n",
       "      <td>6</td>\n",
       "      <td>aug</td>\n",
       "      <td>sat</td>\n",
       "      <td>92.2</td>\n",
       "      <td>81.8</td>\n",
       "      <td>480.8</td>\n",
       "      <td>11.9</td>\n",
       "      <td>20.1</td>\n",
       "      <td>34.0</td>\n",
       "      <td>4.5</td>\n",
       "      <td>0.0</td>\n",
       "      <td>58.30</td>\n",
       "    </tr>\n",
       "    <tr>\n",
       "      <th>228</th>\n",
       "      <td>4</td>\n",
       "      <td>6</td>\n",
       "      <td>sep</td>\n",
       "      <td>sun</td>\n",
       "      <td>93.5</td>\n",
       "      <td>149.3</td>\n",
       "      <td>728.6</td>\n",
       "      <td>8.1</td>\n",
       "      <td>28.3</td>\n",
       "      <td>26.0</td>\n",
       "      <td>3.1</td>\n",
       "      <td>0.0</td>\n",
       "      <td>64.10</td>\n",
       "    </tr>\n",
       "    <tr>\n",
       "      <th>229</th>\n",
       "      <td>8</td>\n",
       "      <td>6</td>\n",
       "      <td>aug</td>\n",
       "      <td>sat</td>\n",
       "      <td>92.2</td>\n",
       "      <td>81.8</td>\n",
       "      <td>480.8</td>\n",
       "      <td>11.9</td>\n",
       "      <td>16.4</td>\n",
       "      <td>43.0</td>\n",
       "      <td>4.0</td>\n",
       "      <td>0.0</td>\n",
       "      <td>71.30</td>\n",
       "    </tr>\n",
       "    <tr>\n",
       "      <th>230</th>\n",
       "      <td>4</td>\n",
       "      <td>4</td>\n",
       "      <td>sep</td>\n",
       "      <td>wed</td>\n",
       "      <td>92.9</td>\n",
       "      <td>133.3</td>\n",
       "      <td>699.6</td>\n",
       "      <td>9.2</td>\n",
       "      <td>26.4</td>\n",
       "      <td>21.0</td>\n",
       "      <td>4.5</td>\n",
       "      <td>0.0</td>\n",
       "      <td>88.49</td>\n",
       "    </tr>\n",
       "    <tr>\n",
       "      <th>231</th>\n",
       "      <td>1</td>\n",
       "      <td>5</td>\n",
       "      <td>sep</td>\n",
       "      <td>sun</td>\n",
       "      <td>93.5</td>\n",
       "      <td>149.3</td>\n",
       "      <td>728.6</td>\n",
       "      <td>8.1</td>\n",
       "      <td>27.8</td>\n",
       "      <td>27.0</td>\n",
       "      <td>3.1</td>\n",
       "      <td>0.0</td>\n",
       "      <td>95.18</td>\n",
       "    </tr>\n",
       "    <tr>\n",
       "      <th>232</th>\n",
       "      <td>6</td>\n",
       "      <td>4</td>\n",
       "      <td>sep</td>\n",
       "      <td>tue</td>\n",
       "      <td>91.0</td>\n",
       "      <td>129.5</td>\n",
       "      <td>692.6</td>\n",
       "      <td>7.0</td>\n",
       "      <td>18.7</td>\n",
       "      <td>43.0</td>\n",
       "      <td>2.7</td>\n",
       "      <td>0.0</td>\n",
       "      <td>103.39</td>\n",
       "    </tr>\n",
       "    <tr>\n",
       "      <th>233</th>\n",
       "      <td>9</td>\n",
       "      <td>4</td>\n",
       "      <td>sep</td>\n",
       "      <td>tue</td>\n",
       "      <td>84.4</td>\n",
       "      <td>73.4</td>\n",
       "      <td>671.9</td>\n",
       "      <td>3.2</td>\n",
       "      <td>24.3</td>\n",
       "      <td>36.0</td>\n",
       "      <td>3.1</td>\n",
       "      <td>0.0</td>\n",
       "      <td>105.66</td>\n",
       "    </tr>\n",
       "    <tr>\n",
       "      <th>234</th>\n",
       "      <td>4</td>\n",
       "      <td>5</td>\n",
       "      <td>sep</td>\n",
       "      <td>sat</td>\n",
       "      <td>92.5</td>\n",
       "      <td>121.1</td>\n",
       "      <td>674.4</td>\n",
       "      <td>8.6</td>\n",
       "      <td>17.7</td>\n",
       "      <td>25.0</td>\n",
       "      <td>3.1</td>\n",
       "      <td>0.0</td>\n",
       "      <td>154.88</td>\n",
       "    </tr>\n",
       "    <tr>\n",
       "      <th>235</th>\n",
       "      <td>8</td>\n",
       "      <td>6</td>\n",
       "      <td>aug</td>\n",
       "      <td>sun</td>\n",
       "      <td>91.4</td>\n",
       "      <td>142.4</td>\n",
       "      <td>601.4</td>\n",
       "      <td>10.6</td>\n",
       "      <td>19.6</td>\n",
       "      <td>41.0</td>\n",
       "      <td>5.8</td>\n",
       "      <td>0.0</td>\n",
       "      <td>196.48</td>\n",
       "    </tr>\n",
       "    <tr>\n",
       "      <th>236</th>\n",
       "      <td>2</td>\n",
       "      <td>2</td>\n",
       "      <td>sep</td>\n",
       "      <td>sat</td>\n",
       "      <td>92.5</td>\n",
       "      <td>121.1</td>\n",
       "      <td>674.4</td>\n",
       "      <td>8.6</td>\n",
       "      <td>18.2</td>\n",
       "      <td>46.0</td>\n",
       "      <td>1.8</td>\n",
       "      <td>0.0</td>\n",
       "      <td>200.94</td>\n",
       "    </tr>\n",
       "    <tr>\n",
       "      <th>237</th>\n",
       "      <td>1</td>\n",
       "      <td>2</td>\n",
       "      <td>sep</td>\n",
       "      <td>tue</td>\n",
       "      <td>91.0</td>\n",
       "      <td>129.5</td>\n",
       "      <td>692.6</td>\n",
       "      <td>7.0</td>\n",
       "      <td>18.8</td>\n",
       "      <td>40.0</td>\n",
       "      <td>2.2</td>\n",
       "      <td>0.0</td>\n",
       "      <td>212.88</td>\n",
       "    </tr>\n",
       "    <tr>\n",
       "      <th>238</th>\n",
       "      <td>6</td>\n",
       "      <td>5</td>\n",
       "      <td>sep</td>\n",
       "      <td>sat</td>\n",
       "      <td>92.5</td>\n",
       "      <td>121.1</td>\n",
       "      <td>674.4</td>\n",
       "      <td>8.6</td>\n",
       "      <td>25.1</td>\n",
       "      <td>27.0</td>\n",
       "      <td>4.0</td>\n",
       "      <td>0.0</td>\n",
       "      <td>1090.84</td>\n",
       "    </tr>\n",
       "    <tr>\n",
       "      <th>293</th>\n",
       "      <td>7</td>\n",
       "      <td>6</td>\n",
       "      <td>jul</td>\n",
       "      <td>tue</td>\n",
       "      <td>93.1</td>\n",
       "      <td>180.4</td>\n",
       "      <td>430.8</td>\n",
       "      <td>11.0</td>\n",
       "      <td>26.9</td>\n",
       "      <td>28.0</td>\n",
       "      <td>5.4</td>\n",
       "      <td>0.0</td>\n",
       "      <td>86.45</td>\n",
       "    </tr>\n",
       "    <tr>\n",
       "      <th>337</th>\n",
       "      <td>6</td>\n",
       "      <td>3</td>\n",
       "      <td>sep</td>\n",
       "      <td>mon</td>\n",
       "      <td>91.6</td>\n",
       "      <td>108.4</td>\n",
       "      <td>764.0</td>\n",
       "      <td>6.2</td>\n",
       "      <td>23.0</td>\n",
       "      <td>34.0</td>\n",
       "      <td>2.2</td>\n",
       "      <td>0.0</td>\n",
       "      <td>56.04</td>\n",
       "    </tr>\n",
       "    <tr>\n",
       "      <th>377</th>\n",
       "      <td>2</td>\n",
       "      <td>2</td>\n",
       "      <td>aug</td>\n",
       "      <td>sat</td>\n",
       "      <td>93.7</td>\n",
       "      <td>231.1</td>\n",
       "      <td>715.1</td>\n",
       "      <td>8.4</td>\n",
       "      <td>21.9</td>\n",
       "      <td>42.0</td>\n",
       "      <td>2.2</td>\n",
       "      <td>0.0</td>\n",
       "      <td>174.63</td>\n",
       "    </tr>\n",
       "    <tr>\n",
       "      <th>392</th>\n",
       "      <td>1</td>\n",
       "      <td>3</td>\n",
       "      <td>sep</td>\n",
       "      <td>sun</td>\n",
       "      <td>91.0</td>\n",
       "      <td>276.3</td>\n",
       "      <td>825.1</td>\n",
       "      <td>7.1</td>\n",
       "      <td>21.9</td>\n",
       "      <td>43.0</td>\n",
       "      <td>4.0</td>\n",
       "      <td>0.0</td>\n",
       "      <td>70.76</td>\n",
       "    </tr>\n",
       "    <tr>\n",
       "      <th>395</th>\n",
       "      <td>4</td>\n",
       "      <td>5</td>\n",
       "      <td>feb</td>\n",
       "      <td>sun</td>\n",
       "      <td>85.0</td>\n",
       "      <td>9.0</td>\n",
       "      <td>56.9</td>\n",
       "      <td>3.5</td>\n",
       "      <td>10.1</td>\n",
       "      <td>62.0</td>\n",
       "      <td>1.8</td>\n",
       "      <td>0.0</td>\n",
       "      <td>51.78</td>\n",
       "    </tr>\n",
       "    <tr>\n",
       "      <th>415</th>\n",
       "      <td>8</td>\n",
       "      <td>6</td>\n",
       "      <td>aug</td>\n",
       "      <td>thu</td>\n",
       "      <td>94.8</td>\n",
       "      <td>222.4</td>\n",
       "      <td>698.6</td>\n",
       "      <td>13.9</td>\n",
       "      <td>27.5</td>\n",
       "      <td>27.0</td>\n",
       "      <td>4.9</td>\n",
       "      <td>0.0</td>\n",
       "      <td>746.28</td>\n",
       "    </tr>\n",
       "    <tr>\n",
       "      <th>420</th>\n",
       "      <td>8</td>\n",
       "      <td>8</td>\n",
       "      <td>aug</td>\n",
       "      <td>wed</td>\n",
       "      <td>91.7</td>\n",
       "      <td>191.4</td>\n",
       "      <td>635.9</td>\n",
       "      <td>7.8</td>\n",
       "      <td>26.2</td>\n",
       "      <td>36.0</td>\n",
       "      <td>4.5</td>\n",
       "      <td>0.0</td>\n",
       "      <td>185.76</td>\n",
       "    </tr>\n",
       "    <tr>\n",
       "      <th>457</th>\n",
       "      <td>1</td>\n",
       "      <td>4</td>\n",
       "      <td>aug</td>\n",
       "      <td>wed</td>\n",
       "      <td>91.7</td>\n",
       "      <td>191.4</td>\n",
       "      <td>635.9</td>\n",
       "      <td>7.8</td>\n",
       "      <td>19.9</td>\n",
       "      <td>50.0</td>\n",
       "      <td>4.0</td>\n",
       "      <td>0.0</td>\n",
       "      <td>82.75</td>\n",
       "    </tr>\n",
       "    <tr>\n",
       "      <th>469</th>\n",
       "      <td>6</td>\n",
       "      <td>3</td>\n",
       "      <td>apr</td>\n",
       "      <td>sun</td>\n",
       "      <td>91.0</td>\n",
       "      <td>14.6</td>\n",
       "      <td>25.6</td>\n",
       "      <td>12.3</td>\n",
       "      <td>13.7</td>\n",
       "      <td>33.0</td>\n",
       "      <td>9.4</td>\n",
       "      <td>0.0</td>\n",
       "      <td>61.13</td>\n",
       "    </tr>\n",
       "    <tr>\n",
       "      <th>473</th>\n",
       "      <td>9</td>\n",
       "      <td>4</td>\n",
       "      <td>jun</td>\n",
       "      <td>sat</td>\n",
       "      <td>90.5</td>\n",
       "      <td>61.1</td>\n",
       "      <td>252.6</td>\n",
       "      <td>9.4</td>\n",
       "      <td>24.5</td>\n",
       "      <td>50.0</td>\n",
       "      <td>3.1</td>\n",
       "      <td>0.0</td>\n",
       "      <td>70.32</td>\n",
       "    </tr>\n",
       "    <tr>\n",
       "      <th>479</th>\n",
       "      <td>7</td>\n",
       "      <td>4</td>\n",
       "      <td>jul</td>\n",
       "      <td>mon</td>\n",
       "      <td>89.2</td>\n",
       "      <td>103.9</td>\n",
       "      <td>431.6</td>\n",
       "      <td>6.4</td>\n",
       "      <td>22.6</td>\n",
       "      <td>57.0</td>\n",
       "      <td>4.9</td>\n",
       "      <td>0.0</td>\n",
       "      <td>278.53</td>\n",
       "    </tr>\n",
       "    <tr>\n",
       "      <th>504</th>\n",
       "      <td>4</td>\n",
       "      <td>3</td>\n",
       "      <td>aug</td>\n",
       "      <td>wed</td>\n",
       "      <td>94.5</td>\n",
       "      <td>139.4</td>\n",
       "      <td>689.1</td>\n",
       "      <td>20.0</td>\n",
       "      <td>28.9</td>\n",
       "      <td>29.0</td>\n",
       "      <td>4.9</td>\n",
       "      <td>0.0</td>\n",
       "      <td>49.59</td>\n",
       "    </tr>\n",
       "    <tr>\n",
       "      <th>513</th>\n",
       "      <td>2</td>\n",
       "      <td>4</td>\n",
       "      <td>aug</td>\n",
       "      <td>sun</td>\n",
       "      <td>81.6</td>\n",
       "      <td>56.7</td>\n",
       "      <td>665.6</td>\n",
       "      <td>1.9</td>\n",
       "      <td>21.9</td>\n",
       "      <td>71.0</td>\n",
       "      <td>5.8</td>\n",
       "      <td>0.0</td>\n",
       "      <td>54.29</td>\n",
       "    </tr>\n",
       "  </tbody>\n",
       "</table>\n",
       "</div>"
      ],
      "text/plain": [
       "     X  Y month  day  FFMC    DMC     DC   ISI  temp    RH  wind  rain  \\\n",
       "226  7  5   oct  mon  91.7   48.5  696.1  11.1  16.1  44.0   4.0   0.0   \n",
       "227  8  6   aug  sat  92.2   81.8  480.8  11.9  20.1  34.0   4.5   0.0   \n",
       "228  4  6   sep  sun  93.5  149.3  728.6   8.1  28.3  26.0   3.1   0.0   \n",
       "229  8  6   aug  sat  92.2   81.8  480.8  11.9  16.4  43.0   4.0   0.0   \n",
       "230  4  4   sep  wed  92.9  133.3  699.6   9.2  26.4  21.0   4.5   0.0   \n",
       "231  1  5   sep  sun  93.5  149.3  728.6   8.1  27.8  27.0   3.1   0.0   \n",
       "232  6  4   sep  tue  91.0  129.5  692.6   7.0  18.7  43.0   2.7   0.0   \n",
       "233  9  4   sep  tue  84.4   73.4  671.9   3.2  24.3  36.0   3.1   0.0   \n",
       "234  4  5   sep  sat  92.5  121.1  674.4   8.6  17.7  25.0   3.1   0.0   \n",
       "235  8  6   aug  sun  91.4  142.4  601.4  10.6  19.6  41.0   5.8   0.0   \n",
       "236  2  2   sep  sat  92.5  121.1  674.4   8.6  18.2  46.0   1.8   0.0   \n",
       "237  1  2   sep  tue  91.0  129.5  692.6   7.0  18.8  40.0   2.2   0.0   \n",
       "238  6  5   sep  sat  92.5  121.1  674.4   8.6  25.1  27.0   4.0   0.0   \n",
       "293  7  6   jul  tue  93.1  180.4  430.8  11.0  26.9  28.0   5.4   0.0   \n",
       "337  6  3   sep  mon  91.6  108.4  764.0   6.2  23.0  34.0   2.2   0.0   \n",
       "377  2  2   aug  sat  93.7  231.1  715.1   8.4  21.9  42.0   2.2   0.0   \n",
       "392  1  3   sep  sun  91.0  276.3  825.1   7.1  21.9  43.0   4.0   0.0   \n",
       "395  4  5   feb  sun  85.0    9.0   56.9   3.5  10.1  62.0   1.8   0.0   \n",
       "415  8  6   aug  thu  94.8  222.4  698.6  13.9  27.5  27.0   4.9   0.0   \n",
       "420  8  8   aug  wed  91.7  191.4  635.9   7.8  26.2  36.0   4.5   0.0   \n",
       "457  1  4   aug  wed  91.7  191.4  635.9   7.8  19.9  50.0   4.0   0.0   \n",
       "469  6  3   apr  sun  91.0   14.6   25.6  12.3  13.7  33.0   9.4   0.0   \n",
       "473  9  4   jun  sat  90.5   61.1  252.6   9.4  24.5  50.0   3.1   0.0   \n",
       "479  7  4   jul  mon  89.2  103.9  431.6   6.4  22.6  57.0   4.9   0.0   \n",
       "504  4  3   aug  wed  94.5  139.4  689.1  20.0  28.9  29.0   4.9   0.0   \n",
       "513  2  4   aug  sun  81.6   56.7  665.6   1.9  21.9  71.0   5.8   0.0   \n",
       "\n",
       "        area  \n",
       "226    49.37  \n",
       "227    58.30  \n",
       "228    64.10  \n",
       "229    71.30  \n",
       "230    88.49  \n",
       "231    95.18  \n",
       "232   103.39  \n",
       "233   105.66  \n",
       "234   154.88  \n",
       "235   196.48  \n",
       "236   200.94  \n",
       "237   212.88  \n",
       "238  1090.84  \n",
       "293    86.45  \n",
       "337    56.04  \n",
       "377   174.63  \n",
       "392    70.76  \n",
       "395    51.78  \n",
       "415   746.28  \n",
       "420   185.76  \n",
       "457    82.75  \n",
       "469    61.13  \n",
       "473    70.32  \n",
       "479   278.53  \n",
       "504    49.59  \n",
       "513    54.29  "
      ]
     },
     "execution_count": 14,
     "metadata": {},
     "output_type": "execute_result"
    }
   ],
   "source": [
    "quantile = df.area.quantile(.95)\n",
    "df_burned_areas = df[df[\"area\"] > quantile]\n",
    "df_burned_areas"
   ]
  },
  {
   "cell_type": "code",
   "execution_count": 15,
   "metadata": {
    "colab": {
     "base_uri": "https://localhost:8080/",
     "height": 869
    },
    "executionInfo": {
     "elapsed": 5359,
     "status": "ok",
     "timestamp": 1615472768714,
     "user": {
      "displayName": "Maciek Ch",
      "photoUrl": "https://lh3.googleusercontent.com/a-/AOh14GiiLVBLm__D3Uax25QVaV9ykubLgY3nyiM22hLLag=s64",
      "userId": "16397894531026429115"
     },
     "user_tz": -60
    },
    "id": "bsNBSVUoLvLQ",
    "outputId": "cdf04d88-c184-4e51-e6fb-f650294eba24"
   },
   "outputs": [
    {
     "data": {
      "image/png": "[encoded data removed]",
      "text/plain": [
       "<Figure size 1152x288 with 4 Axes>"
      ]
     },
     "metadata": {
      "needs_background": "light"
     },
     "output_type": "display_data"
    },
    {
     "data": {
      "image/png": "[encoded data removed]",
      "text/plain": [
       "<Figure size 1152x288 with 4 Axes>"
      ]
     },
     "metadata": {
      "needs_background": "light"
     },
     "output_type": "display_data"
    },
    {
     "data": {
      "image/png": "[encoded data removed]",
      "text/plain": [
       "<Figure size 576x288 with 2 Axes>"
      ]
     },
     "metadata": {
      "needs_background": "light"
     },
     "output_type": "display_data"
    }
   ],
   "source": [
    "sns.pairplot(df_burned_areas, x_vars=cols[0:4], y_vars =\"area\", height = 4, aspect = 1)\n",
    "sns.pairplot(df_burned_areas, x_vars=cols[5:9], y_vars =\"area\", height = 4, aspect = 1)\n",
    "sns.pairplot(df_burned_areas, x_vars=cols[10:12], y_vars =\"area\", height = 4, aspect = 1)\n",
    "plt.tight_layout()"
   ]
  },
  {
   "cell_type": "code",
   "execution_count": 16,
   "metadata": {
    "colab": {
     "base_uri": "https://localhost:8080/",
     "height": 266
    },
    "executionInfo": {
     "elapsed": 712,
     "status": "ok",
     "timestamp": 1615472771411,
     "user": {
      "displayName": "Maciek Ch",
      "photoUrl": "https://lh3.googleusercontent.com/a-/AOh14GiiLVBLm__D3Uax25QVaV9ykubLgY3nyiM22hLLag=s64",
      "userId": "16397894531026429115"
     },
     "user_tz": -60
    },
    "id": "RPXVsUidRNjK",
    "outputId": "f0995cc7-d7d1-4346-e0c9-aa936c317194"
   },
   "outputs": [
    {
     "data": {
      "text/html": [
       "<div>\n",
       "<style scoped>\n",
       "    .dataframe tbody tr th:only-of-type {\n",
       "        vertical-align: middle;\n",
       "    }\n",
       "\n",
       "    .dataframe tbody tr th {\n",
       "        vertical-align: top;\n",
       "    }\n",
       "\n",
       "    .dataframe thead th {\n",
       "        text-align: right;\n",
       "    }\n",
       "</style>\n",
       "<table border=\"1\" class=\"dataframe\">\n",
       "  <thead>\n",
       "    <tr style=\"text-align: right;\">\n",
       "      <th></th>\n",
       "      <th>month</th>\n",
       "      <th>X</th>\n",
       "    </tr>\n",
       "  </thead>\n",
       "  <tbody>\n",
       "    <tr>\n",
       "      <th>0</th>\n",
       "      <td>apr</td>\n",
       "      <td>1</td>\n",
       "    </tr>\n",
       "    <tr>\n",
       "      <th>1</th>\n",
       "      <td>aug</td>\n",
       "      <td>9</td>\n",
       "    </tr>\n",
       "    <tr>\n",
       "      <th>2</th>\n",
       "      <td>feb</td>\n",
       "      <td>1</td>\n",
       "    </tr>\n",
       "    <tr>\n",
       "      <th>3</th>\n",
       "      <td>jul</td>\n",
       "      <td>2</td>\n",
       "    </tr>\n",
       "    <tr>\n",
       "      <th>4</th>\n",
       "      <td>jun</td>\n",
       "      <td>1</td>\n",
       "    </tr>\n",
       "    <tr>\n",
       "      <th>5</th>\n",
       "      <td>oct</td>\n",
       "      <td>1</td>\n",
       "    </tr>\n",
       "    <tr>\n",
       "      <th>6</th>\n",
       "      <td>sep</td>\n",
       "      <td>11</td>\n",
       "    </tr>\n",
       "  </tbody>\n",
       "</table>\n",
       "</div>"
      ],
      "text/plain": [
       "  month   X\n",
       "0   apr   1\n",
       "1   aug   9\n",
       "2   feb   1\n",
       "3   jul   2\n",
       "4   jun   1\n",
       "5   oct   1\n",
       "6   sep  11"
      ]
     },
     "execution_count": 16,
     "metadata": {},
     "output_type": "execute_result"
    }
   ],
   "source": [
    "df_burned_areas_count = df_burned_areas.groupby(\"month\").count().reset_index()\n",
    "df_burned_areas_count = df_burned_areas_count[[\"month\", \"X\"]]\n",
    "months = [\"feb\",\"apr\", \"jun\", \"jul\", \"aug\", \"sep\", \"oct\"]\n",
    "df_burned_areas_count"
   ]
  },
  {
   "cell_type": "code",
   "execution_count": 17,
   "metadata": {
    "colab": {
     "base_uri": "https://localhost:8080/",
     "height": 300
    },
    "executionInfo": {
     "elapsed": 646,
     "status": "ok",
     "timestamp": 1615472773706,
     "user": {
      "displayName": "Maciek Ch",
      "photoUrl": "https://lh3.googleusercontent.com/a-/AOh14GiiLVBLm__D3Uax25QVaV9ykubLgY3nyiM22hLLag=s64",
      "userId": "16397894531026429115"
     },
     "user_tz": -60
    },
    "id": "-rN2HL6-VGHf",
    "outputId": "3f1c8158-981f-4aa9-e651-437726ba9723"
   },
   "outputs": [
    {
     "data": {
      "text/plain": [
       "<matplotlib.axes._subplots.AxesSubplot at 0x217fa74abb0>"
      ]
     },
     "execution_count": 17,
     "metadata": {},
     "output_type": "execute_result"
    },
    {
     "data": {
      "image/png": "[encoded data removed]",
      "text/plain": [
       "<Figure size 432x288 with 1 Axes>"
      ]
     },
     "metadata": {
      "needs_background": "light"
     },
     "output_type": "display_data"
    }
   ],
   "source": [
    "df_burned_areas_count[\"ind\"] = ['b', 'e', 'a', 'd', 'c','g', 'f']\n",
    "df_burned_areas_count = df_burned_areas_count.set_index(\"ind\")\n",
    "df_burned_areas_count.sort_index(inplace = True)  \n",
    "sns.pointplot(x=df_burned_areas_count.month, y=df_burned_areas_count.X)"
   ]
  },
  {
   "cell_type": "markdown",
   "metadata": {
    "id": "l8EGMWMrL7Dv"
   },
   "source": [
    "Dzięki naszym zależnością możemy zauważyć, że:\n",
    "* większość dużych pożarów wystąpiła latem (Montesinho park leży w Portugalii, https://ibb.co/TmXD932)\n",
    "* w dniu pożaru nie padał deszcz"
   ]
  },
  {
   "cell_type": "markdown",
   "metadata": {
    "id": "27M0hlKtYGRD"
   },
   "source": [
    "Sprawdźmy, jak z eksploracją danych radzi sobie pandas profiling"
   ]
  },
  {
   "cell_type": "code",
   "execution_count": null,
   "metadata": {},
   "outputs": [],
   "source": [
    "conda install -c conda-forge pandas-profiling"
   ]
  },
  {
   "cell_type": "code",
   "execution_count": 19,
   "metadata": {
    "colab": {
     "background_save": true,
     "base_uri": "https://localhost:8080/",
     "height": 49
    },
    "id": "K5hwaEzpYiUH"
   },
   "outputs": [
    {
     "data": {
      "application/vnd.jupyter.widget-view+json": {
       "model_id": "be0f627808554861ad51fc6de0a6b534",
       "version_major": 2,
       "version_minor": 0
      },
      "text/plain": [
       "Summarize dataset:   0%|          | 0/26 [00:00<?, ?it/s]"
      ]
     },
     "metadata": {},
     "output_type": "display_data"
    },
    {
     "data": {
      "application/vnd.jupyter.widget-view+json": {
       "model_id": "d80465ca21b9407e8c99e150ba98e31a",
       "version_major": 2,
       "version_minor": 0
      },
      "text/plain": [
       "Generate report structure:   0%|          | 0/1 [00:00<?, ?it/s]"
      ]
     },
     "metadata": {},
     "output_type": "display_data"
    },
    {
     "data": {
      "application/vnd.jupyter.widget-view+json": {
       "model_id": "c6ba8d68cbbc4905ae174aa68a13d3c0",
       "version_major": 2,
       "version_minor": 0
      },
      "text/plain": [
       "Render HTML:   0%|          | 0/1 [00:00<?, ?it/s]"
      ]
     },
     "metadata": {},
     "output_type": "display_data"
    },
    {
     "data": {
      "application/vnd.jupyter.widget-view+json": {
       "model_id": "5b9badf114f040b28672c2cfc11807c3",
       "version_major": 2,
       "version_minor": 0
      },
      "text/plain": [
       "Export report to file:   0%|          | 0/1 [00:00<?, ?it/s]"
      ]
     },
     "metadata": {},
     "output_type": "display_data"
    }
   ],
   "source": [
    "from pandas_profiling import ProfileReport\n",
    "profile = ProfileReport(df)\n",
    "#profile.to_file(output_file = \"report.html\")\n",
    "profile.to_file(\"output.html\")"
   ]
  },
  {
   "cell_type": "markdown",
   "metadata": {
    "id": "CuykeVsFbIrt"
   },
   "source": [
    "Zdecydowanym ograniczeniem narzędzia jest fakt, że produkcja takiego raportu zajęła na moim komputerze średnio 30 sekund. Zauważmy, że nasze dane zawierają tylko 517 obserwacji. Mimo wszystko narzędzie w bardzo prosty sposób pozwala nam zeksplorować nasze dane i z pewnością warto z niego skorzystać w przypadku posiadania niewielkiego zbioru danych"
   ]
  }
 ],
 "metadata": {
  "colab": {
   "authorship_tag": "ABX9TyM2z75hS4UI7XPMtUGfF6eJ",
   "mount_file_id": "1LEeJmpPaCt0DqQY3M0q-_bkus_2CVHcE",
   "name": "PD1_Maciej_Chylak.ipynb",
   "version": ""
  },
  "kernelspec": {
   "display_name": "Python 3",
   "language": "python",
   "name": "python3"
  },
  "language_info": {
   "codemirror_mode": {
    "name": "ipython",
    "version": 3
   },
   "file_extension": ".py",
   "mimetype": "text/x-python",
   "name": "python",
   "nbconvert_exporter": "python",
   "pygments_lexer": "ipython3",
   "version": "3.8.3"
  },
  "widgets": {
   "application/vnd.jupyter.widget-state+json": {
    "3250825ef94d4c49855713cf1fc6e891": {
     "model_module": "@jupyter-widgets/base",
     "model_name": "LayoutModel",
     "state": {
      "_model_module": "@jupyter-widgets/base",
      "_model_module_version": "1.2.0",
      "_model_name": "LayoutModel",
      "_view_count": null,
      "_view_module": "@jupyter-widgets/base",
      "_view_module_version": "1.2.0",
      "_view_name": "LayoutView",
      "align_content": null,
      "align_items": null,
      "align_self": null,
      "border": null,
      "bottom": null,
      "display": null,
      "flex": null,
      "flex_flow": null,
      "grid_area": null,
      "grid_auto_columns": null,
      "grid_auto_flow": null,
      "grid_auto_rows": null,
      "grid_column": null,
      "grid_gap": null,
      "grid_row": null,
      "grid_template_areas": null,
      "grid_template_columns": null,
      "grid_template_rows": null,
      "height": null,
      "justify_content": null,
      "justify_items": null,
      "left": null,
      "margin": null,
      "max_height": null,
      "max_width": null,
      "min_height": null,
      "min_width": null,
      "object_fit": null,
      "object_position": null,
      "order": null,
      "overflow": null,
      "overflow_x": null,
      "overflow_y": null,
      "padding": null,
      "right": null,
      "top": null,
      "visibility": null,
      "width": null
     }
    },
    "3e46f5ea9853465899567108198ccfb7": {
     "model_module": "@jupyter-widgets/controls",
     "model_name": "DescriptionStyleModel",
     "state": {
      "_model_module": "@jupyter-widgets/controls",
      "_model_module_version": "1.5.0",
      "_model_name": "DescriptionStyleModel",
      "_view_count": null,
      "_view_module": "@jupyter-widgets/base",
      "_view_module_version": "1.2.0",
      "_view_name": "StyleView",
      "description_width": ""
     }
    },
    "43fdf05fa1cb4912b338eaac5c025ade": {
     "model_module": "@jupyter-widgets/controls",
     "model_name": "FloatProgressModel",
     "state": {
      "_dom_classes": [],
      "_model_module": "@jupyter-widgets/controls",
      "_model_module_version": "1.5.0",
      "_model_name": "FloatProgressModel",
      "_view_count": null,
      "_view_module": "@jupyter-widgets/controls",
      "_view_module_version": "1.5.0",
      "_view_name": "ProgressView",
      "bar_style": "",
      "description": "",
      "description_tooltip": null,
      "layout": "IPY_MODEL_3250825ef94d4c49855713cf1fc6e891",
      "max": 25,
      "min": 0,
      "orientation": "horizontal",
      "style": "IPY_MODEL_a33898ef21e5473a9413b3e56e7ca024",
      "value": 20
     }
    },
    "7ac291d9ac1a471da85bc36f5877efc2": {
     "model_module": "@jupyter-widgets/controls",
     "model_name": "HBoxModel",
     "state": {
      "_dom_classes": [],
      "_model_module": "@jupyter-widgets/controls",
      "_model_module_version": "1.5.0",
      "_model_name": "HBoxModel",
      "_view_count": null,
      "_view_module": "@jupyter-widgets/controls",
      "_view_module_version": "1.5.0",
      "_view_name": "HBoxView",
      "box_style": "",
      "children": [
       "IPY_MODEL_f3dfce293dfd440ba6d20f5237c3c256",
       "IPY_MODEL_43fdf05fa1cb4912b338eaac5c025ade",
       "IPY_MODEL_970aa5edd5614c758f4c5cf52bbb94d6"
      ],
      "layout": "IPY_MODEL_81fed39ff90b43dfb96a6ab89da560ee"
     }
    },
    "81fed39ff90b43dfb96a6ab89da560ee": {
     "model_module": "@jupyter-widgets/base",
     "model_name": "LayoutModel",
     "state": {
      "_model_module": "@jupyter-widgets/base",
      "_model_module_version": "1.2.0",
      "_model_name": "LayoutModel",
      "_view_count": null,
      "_view_module": "@jupyter-widgets/base",
      "_view_module_version": "1.2.0",
      "_view_name": "LayoutView",
      "align_content": null,
      "align_items": null,
      "align_self": null,
      "border": null,
      "bottom": null,
      "display": null,
      "flex": null,
      "flex_flow": null,
      "grid_area": null,
      "grid_auto_columns": null,
      "grid_auto_flow": null,
      "grid_auto_rows": null,
      "grid_column": null,
      "grid_gap": null,
      "grid_row": null,
      "grid_template_areas": null,
      "grid_template_columns": null,
      "grid_template_rows": null,
      "height": null,
      "justify_content": null,
      "justify_items": null,
      "left": null,
      "margin": null,
      "max_height": null,
      "max_width": null,
      "min_height": null,
      "min_width": null,
      "object_fit": null,
      "object_position": null,
      "order": null,
      "overflow": null,
      "overflow_x": null,
      "overflow_y": null,
      "padding": null,
      "right": null,
      "top": null,
      "visibility": null,
      "width": null
     }
    },
    "970aa5edd5614c758f4c5cf52bbb94d6": {
     "model_module": "@jupyter-widgets/controls",
     "model_name": "HTMLModel",
     "state": {
      "_dom_classes": [],
      "_model_module": "@jupyter-widgets/controls",
      "_model_module_version": "1.5.0",
      "_model_name": "HTMLModel",
      "_view_count": null,
      "_view_module": "@jupyter-widgets/controls",
      "_view_module_version": "1.5.0",
      "_view_name": "HTMLView",
      "description": "",
      "description_tooltip": null,
      "layout": "IPY_MODEL_c809ac4c14c748b59904a9fcda9bb74a",
      "placeholder": "​",
      "style": "IPY_MODEL_aa1f75540c4c4119b95dfaac815e448c",
      "value": " 20/25 [00:04&lt;00:00, 24.03it/s, Get scatter matrix]"
     }
    },
    "a33898ef21e5473a9413b3e56e7ca024": {
     "model_module": "@jupyter-widgets/controls",
     "model_name": "ProgressStyleModel",
     "state": {
      "_model_module": "@jupyter-widgets/controls",
      "_model_module_version": "1.5.0",
      "_model_name": "ProgressStyleModel",
      "_view_count": null,
      "_view_module": "@jupyter-widgets/base",
      "_view_module_version": "1.2.0",
      "_view_name": "StyleView",
      "bar_color": null,
      "description_width": ""
     }
    },
    "aa1f75540c4c4119b95dfaac815e448c": {
     "model_module": "@jupyter-widgets/controls",
     "model_name": "DescriptionStyleModel",
     "state": {
      "_model_module": "@jupyter-widgets/controls",
      "_model_module_version": "1.5.0",
      "_model_name": "DescriptionStyleModel",
      "_view_count": null,
      "_view_module": "@jupyter-widgets/base",
      "_view_module_version": "1.2.0",
      "_view_name": "StyleView",
      "description_width": ""
     }
    },
    "c809ac4c14c748b59904a9fcda9bb74a": {
     "model_module": "@jupyter-widgets/base",
     "model_name": "LayoutModel",
     "state": {
      "_model_module": "@jupyter-widgets/base",
      "_model_module_version": "1.2.0",
      "_model_name": "LayoutModel",
      "_view_count": null,
      "_view_module": "@jupyter-widgets/base",
      "_view_module_version": "1.2.0",
      "_view_name": "LayoutView",
      "align_content": null,
      "align_items": null,
      "align_self": null,
      "border": null,
      "bottom": null,
      "display": null,
      "flex": null,
      "flex_flow": null,
      "grid_area": null,
      "grid_auto_columns": null,
      "grid_auto_flow": null,
      "grid_auto_rows": null,
      "grid_column": null,
      "grid_gap": null,
      "grid_row": null,
      "grid_template_areas": null,
      "grid_template_columns": null,
      "grid_template_rows": null,
      "height": null,
      "justify_content": null,
      "justify_items": null,
      "left": null,
      "margin": null,
      "max_height": null,
      "max_width": null,
      "min_height": null,
      "min_width": null,
      "object_fit": null,
      "object_position": null,
      "order": null,
      "overflow": null,
      "overflow_x": null,
      "overflow_y": null,
      "padding": null,
      "right": null,
      "top": null,
      "visibility": null,
      "width": null
     }
    },
    "ee19c6ab97584964951fb29a9904c7e0": {
     "model_module": "@jupyter-widgets/base",
     "model_name": "LayoutModel",
     "state": {
      "_model_module": "@jupyter-widgets/base",
      "_model_module_version": "1.2.0",
      "_model_name": "LayoutModel",
      "_view_count": null,
      "_view_module": "@jupyter-widgets/base",
      "_view_module_version": "1.2.0",
      "_view_name": "LayoutView",
      "align_content": null,
      "align_items": null,
      "align_self": null,
      "border": null,
      "bottom": null,
      "display": null,
      "flex": null,
      "flex_flow": null,
      "grid_area": null,
      "grid_auto_columns": null,
      "grid_auto_flow": null,
      "grid_auto_rows": null,
      "grid_column": null,
      "grid_gap": null,
      "grid_row": null,
      "grid_template_areas": null,
      "grid_template_columns": null,
      "grid_template_rows": null,
      "height": null,
      "justify_content": null,
      "justify_items": null,
      "left": null,
      "margin": null,
      "max_height": null,
      "max_width": null,
      "min_height": null,
      "min_width": null,
      "object_fit": null,
      "object_position": null,
      "order": null,
      "overflow": null,
      "overflow_x": null,
      "overflow_y": null,
      "padding": null,
      "right": null,
      "top": null,
      "visibility": null,
      "width": null
     }
    },
    "f3dfce293dfd440ba6d20f5237c3c256": {
     "model_module": "@jupyter-widgets/controls",
     "model_name": "HTMLModel",
     "state": {
      "_dom_classes": [],
      "_model_module": "@jupyter-widgets/controls",
      "_model_module_version": "1.5.0",
      "_model_name": "HTMLModel",
      "_view_count": null,
      "_view_module": "@jupyter-widgets/controls",
      "_view_module_version": "1.5.0",
      "_view_name": "HTMLView",
      "description": "",
      "description_tooltip": null,
      "layout": "IPY_MODEL_ee19c6ab97584964951fb29a9904c7e0",
      "placeholder": "​",
      "style": "IPY_MODEL_3e46f5ea9853465899567108198ccfb7",
      "value": "Summarize dataset:  80%"
     }
    }
   }
  }
 },
 "nbformat": 4,
 "nbformat_minor": 1
}
