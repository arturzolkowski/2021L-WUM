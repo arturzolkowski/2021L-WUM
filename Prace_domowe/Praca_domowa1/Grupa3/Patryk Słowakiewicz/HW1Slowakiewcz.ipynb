{
 "cells": [
  {
   "cell_type": "markdown",
   "metadata": {},
   "source": [
    "# HW 1 - Patryk Słowakiewcz"
   ]
  },
  {
   "cell_type": "code",
   "execution_count": null,
   "metadata": {},
   "outputs": [],
   "source": [
    "import pandas as pd\n",
    "import numpy as np\n",
    "from matplotlib import pyplot as plt\n",
    "from matplotlib import axes as ax\n",
    "import seaborn as sns\n",
    "from scipy import stats\n",
    "import datetime\n",
    "import plotly.graph_objs as go\n",
    "import plotly.express as px\n",
    "import pandas_profiling"
   ]
  },
  {
   "cell_type": "markdown",
   "metadata": {},
   "source": [
    "## Wczytanie i wstępna eksploracja"
   ]
  },
  {
   "cell_type": "code",
   "execution_count": null,
   "metadata": {},
   "outputs": [],
   "source": [
    "df = pd.read_csv(\"forest_fires_dataset.csv\")"
   ]
  },
  {
   "cell_type": "code",
   "execution_count": null,
   "metadata": {},
   "outputs": [],
   "source": [
    "df.head(10)"
   ]
  },
  {
   "cell_type": "code",
   "execution_count": null,
   "metadata": {},
   "outputs": [],
   "source": [
    "#sprawdzam braki w danych\n",
    "df.info()"
   ]
  },
  {
   "cell_type": "code",
   "execution_count": null,
   "metadata": {},
   "outputs": [],
   "source": [
    "# zamieniamy dni i miesiące na liczby\n",
    "\n",
    "#from sklearn.preprocessing import LabelEncoder\n",
    "#le = LabelEncoder()\n",
    "#df['month_int'] = le.fit_transform(df['month']) + 1\n",
    "#df['day_int'] = le.fit_transform(df['day']) + 1\n",
    "\n",
    "# ale to niestety nie działa bo są nie pokolei"
   ]
  },
  {
   "cell_type": "markdown",
   "metadata": {},
   "source": [
    "## Zmiana dni i miesięcy na liczby"
   ]
  },
  {
   "cell_type": "code",
   "execution_count": null,
   "metadata": {},
   "outputs": [],
   "source": [
    "def day_change(weekday):\n",
    "    if weekday == 'mon':\n",
    "        return 1\n",
    "    if weekday == 'tue':\n",
    "        return 2\n",
    "    if weekday == 'wed':\n",
    "        return 3\n",
    "    if weekday == 'thu':\n",
    "        return 4\n",
    "    if weekday == 'fri':\n",
    "        return 5\n",
    "    if weekday == 'sat':\n",
    "        return 6\n",
    "    if weekday == 'sun':\n",
    "        return 7"
   ]
  },
  {
   "cell_type": "code",
   "execution_count": null,
   "metadata": {},
   "outputs": [],
   "source": [
    "m_list = [datetime.datetime.strptime(i, '%b') for i in df['month']]\n",
    "df['month_int'] = [i.month for i in m_list]\n",
    "df['day_int'] = [day_change(i) for i in df['day']]"
   ]
  },
  {
   "cell_type": "code",
   "execution_count": null,
   "metadata": {},
   "outputs": [],
   "source": [
    "df.describe()"
   ]
  },
  {
   "cell_type": "markdown",
   "metadata": {},
   "source": [
    "## Badanie targetu (area)"
   ]
  },
  {
   "cell_type": "code",
   "execution_count": null,
   "metadata": {},
   "outputs": [],
   "source": [
    "#Spardzam rozkład naszego y którym jest 'area'\n",
    "sns.boxplot(df['area'])\n",
    "# widzimy bardzo duże odstępstwa od mediany na prawo (jest to spowodowane dużą ilością zartości 0 i bliskich)"
   ]
  },
  {
   "cell_type": "code",
   "execution_count": null,
   "metadata": {},
   "outputs": [],
   "source": [
    "# po usunięciu wartości 0 i zastosowaniu skali logarytmicznej otrzymujemy rozkład bliski rozkładowi normalnemu\n",
    "cdf2 = np.isclose(df['area'], 0)\n",
    "cdf = np.logical_not(cdf2)\n",
    "sns.distplot(np.log(df[cdf]['area']))"
   ]
  },
  {
   "cell_type": "code",
   "execution_count": null,
   "metadata": {},
   "outputs": [],
   "source": [
    "#dodajemy kolumnę z wartościamu log(df('area')) aby łatwiej ją było analizować ( dla 0 jest None)\n",
    "l = [np.log(i) if i != 0 else None for i in df['area']]\n",
    "df['area_log'] = l"
   ]
  },
  {
   "cell_type": "markdown",
   "metadata": {},
   "source": [
    "### Histogramy dla każdej zmiennej przy czym bierzemy obserwacje jedynie dla przypadków pożarów.\n",
    "\n",
    "Widzimy z poniższych wykresów, że ['DC', 'DMC', 'FFMC', 'ISI', 'RH', 'temp', 'wind'], mogą być w pewien sposób zależne co wynika również ze strony kanadyjskiego leśnictwa poniważ wskażniki te są wyliczane na podstawie warunków atmosferycznych (https://cwfis.cfs.nrcan.gc.ca/background/summary/fwi). "
   ]
  },
  {
   "cell_type": "code",
   "execution_count": null,
   "metadata": {},
   "outputs": [],
   "source": [
    "df[cdf].hist(bins= 20,figsize=(18,12))\n",
    "plt.show()"
   ]
  },
  {
   "cell_type": "markdown",
   "metadata": {},
   "source": [
    "### Pairplot\n",
    "Sprawdzamy możliwe korelacje pomiędzy wielkością pożarów a innymi zmiennymi.\n",
    "\n",
    "Nie widać, żadnych liniowych zależności ale można wyciągnąć wnioski, że pożary pojawiają się kiedy ilość opdaów jest zerowa co jest dość intuicyjne."
   ]
  },
  {
   "cell_type": "code",
   "execution_count": null,
   "metadata": {},
   "outputs": [],
   "source": [
    "sns.pairplot(df[cdf], y_vars=\"area_log\", x_vars=df.columns.values[4:8])\n",
    "sns.pairplot(df[cdf], y_vars=\"area_log\", x_vars=df.columns.values[8:12])\n",
    "sns.pairplot(df[cdf], y_vars=\"area_log\", x_vars=df.columns.values[13:15])\n",
    "\n",
    "plt.show()"
   ]
  },
  {
   "cell_type": "markdown",
   "metadata": {},
   "source": [
    "### Heatmapa korelacji\n",
    "\n",
    "Widzimy, że podane w ramce wskaźniki są ze sobą trochę skorelowane (w szczególności DC oraz DMC) ciekawa jest również wysoka korelacja DC z miesiącami pomimo, że data nie ma bezpośredniego wpływu na wyliczenia DC"
   ]
  },
  {
   "cell_type": "code",
   "execution_count": null,
   "metadata": {},
   "outputs": [],
   "source": [
    "plt.figure(figsize=(12,8))\n",
    "sns.heatmap(df.corr(), annot=True)\n",
    "\n",
    "plt.show()"
   ]
  },
  {
   "cell_type": "markdown",
   "metadata": {},
   "source": [
    "### Umiejscownie pożarów\n",
    "Sprawdzimy jak rozkładaja się średnia pożarów z zależności od zmiennych X oraz Y"
   ]
  },
  {
   "cell_type": "code",
   "execution_count": null,
   "metadata": {},
   "outputs": [],
   "source": [
    "# \n",
    "fire_matrix = np.zeros((10,11))\n",
    "for i in range(1,len(df)):\n",
    "    k = df['area'][i]\n",
    "    if k != 0:\n",
    "        k = np.log(k)\n",
    "    fire_matrix[df.iloc[i, 1], df.iloc[i, 0]] += k"
   ]
  },
  {
   "cell_type": "code",
   "execution_count": null,
   "metadata": {},
   "outputs": [],
   "source": [
    "freq_matrix = np.zeros((10,11))\n",
    "for i in range(1,len(df)):\n",
    "    k = df['area'][i]\n",
    "    if k != 0:\n",
    "        freq_matrix[df.iloc[i, 1], df.iloc[i, 0]] += 1"
   ]
  },
  {
   "cell_type": "code",
   "execution_count": null,
   "metadata": {},
   "outputs": [],
   "source": [
    "sns.heatmap((fire_matrix/freq_matrix), cmap='hot_r')"
   ]
  },
  {
   "cell_type": "markdown",
   "metadata": {},
   "source": [
    "Widać pewną reguralność wzdłuż na powyższej 'mapie'. Pożary rozkładają się wzdłuż Y = 4"
   ]
  },
  {
   "cell_type": "markdown",
   "metadata": {},
   "source": [
    "## Rozkład średniej temperatury według miesięcy wraz z odchyleniem standardowm. Poniżej widać, wzrost w miesiądach letnich co jest spodziewaną zależnością"
   ]
  },
  {
   "cell_type": "code",
   "execution_count": null,
   "metadata": {},
   "outputs": [],
   "source": [
    "months = df.groupby(['month_int']).mean()\n",
    "months_std =  df.groupby(['month_int']).std()\n",
    "months_std.loc[11] = 0\n",
    "months_max =  df.groupby(['month_int']).max()\n",
    "months_min =  df.groupby(['month_int']).min()"
   ]
  },
  {
   "cell_type": "code",
   "execution_count": null,
   "metadata": {},
   "outputs": [],
   "source": [
    "x = months.index\n",
    "y = months['temp']\n",
    "y_upper = y + months_std['temp']\n",
    "y_lower = y - months_std['temp']\n",
    "\n",
    "plt.figure(figsize=(12,8))\n",
    "plt.plot(x, y)\n",
    "plt.fill_between(x, y_upper, y_lower, alpha = 0.1)\n",
    "plt.title(\"Mean temp with std\")\n",
    "plt.xlabel(\"Months\")\n",
    "plt.ylabel('Temperature')\n",
    "plt.show()"
   ]
  },
  {
   "cell_type": "code",
   "execution_count": null,
   "metadata": {},
   "outputs": [],
   "source": [
    "what = 'DMC'\n",
    "x = months.index\n",
    "y = months[what]\n",
    "y_upper = y + months_std[what]\n",
    "y_lower = y - months_std[what]\n",
    "\n",
    "plt.figure(figsize=(12,8))\n",
    "plt.plot(x, y)\n",
    "plt.fill_between(x, y_upper, y_lower, alpha = 0.1)\n",
    "\n",
    "plt.show()"
   ]
  },
  {
   "cell_type": "markdown",
   "metadata": {},
   "source": [
    "Badając te dwie zmienne można zauważyć, że obie rosną w okresie letnim. Warto zatem zbadać jak inne zmienne zachowują się na przestrzenii roku"
   ]
  },
  {
   "cell_type": "markdown",
   "metadata": {},
   "source": [
    "## Pairploty ze zwzględu na miesiące"
   ]
  },
  {
   "cell_type": "code",
   "execution_count": null,
   "metadata": {},
   "outputs": [],
   "source": [
    "sns.pairplot(df, y_vars=[\"month_int\"], x_vars=df.columns.values[4:8])\n",
    "sns.pairplot(df, y_vars='month_int', x_vars=df.columns.values[8:12])\n",
    "sns.pairplot(df, y_vars='month_int', x_vars=df.columns.values[[12,15]])\n"
   ]
  },
  {
   "cell_type": "markdown",
   "metadata": {},
   "source": [
    "Na powyższych wykresach widać jak zmienne DMC oraz temp zwiększają wartość w okresie letnim ale to już zaobserwowaliśmy na wcześniejszych wykresach. Ale dzięki tym pairplotom widzimy, że również DC oraz ISI są mocno zależne od miesiąca."
   ]
  },
  {
   "cell_type": "markdown",
   "metadata": {},
   "source": [
    "## Python-profilig\n",
    "Jest to dobre i wygodne narzędzie do szybkiej eksploracji danych dzięki któremu możemy zbadać rozkłady poszczególnych zmiennych. Dzięki heatmapie korelacji można też zauważyć które zmienne warto odrzucić. \n",
    "Wadami które mogą sprawiać problemy to brak możliwości wyboru jak gęste mają być histogramy pownieważ w pewnych przypadkach uniemożliwia to dopasowanie odpowiedniego rozkładu. Badane są wszystkie dane więc ręcznie trzeba wykonywać pewne przekształcenia np. zmienna 'area' jest mocno skoncentrowana przy 0 więc bez przeksztalceń nie możliwe jest zaobserwowanie jej właściwego rozkładu.\n",
    "Tak samo korelacja wyłapuje jedynie liniowe zależności, więc jeżeli chcemy badać bardziej złożone zależności trzeba to robić ręcznie.\n"
   ]
  },
  {
   "cell_type": "code",
   "execution_count": null,
   "metadata": {},
   "outputs": [],
   "source": [
    "df.profile_report()"
   ]
  }
 ],
 "metadata": {
  "kernelspec": {
   "display_name": "Python 3",
   "language": "python",
   "name": "python3"
  },
  "language_info": {
   "codemirror_mode": {
    "name": "ipython",
    "version": 3
   },
   "file_extension": ".py",
   "mimetype": "text/x-python",
   "name": "python",
   "nbconvert_exporter": "python",
   "pygments_lexer": "ipython3",
   "version": "3.8.3"
  }
 },
 "nbformat": 4,
 "nbformat_minor": 4
}
