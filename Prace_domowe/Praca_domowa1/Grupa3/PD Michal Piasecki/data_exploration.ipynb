{
 "cells": [
  {
   "cell_type": "code",
   "execution_count": null,
   "metadata": {},
   "outputs": [],
   "source": [
    "# Libraries\n",
    "import pandas as pd\n",
    "import numpy as np\n",
    "import matplotlib.pyplot as plt\n",
    "import seaborn as sns\n",
    "import pandas_profiling\n",
    "import nbstripout\n",
    "np.random.seed(15)"
   ]
  },
  {
   "cell_type": "code",
   "execution_count": null,
   "metadata": {},
   "outputs": [],
   "source": [
    "# Loading data\n",
    "data = pd.read_csv(\"forest_fires_dataset.csv\")\n",
    "attributes = pd.read_csv(\"attributes_forest_fires.csv\")"
   ]
  },
  {
   "cell_type": "code",
   "execution_count": null,
   "metadata": {},
   "outputs": [],
   "source": [
    "attributes"
   ]
  },
  {
   "cell_type": "markdown",
   "metadata": {},
   "source": [
    "As we do not have many features in our dataset I decided to understand ambiguous ones before ongoing analysis.\n",
    "\n",
    "\n",
    "<b>FFMC</b>, The Fine Fuel Moisture Code represents fuel moisture of forest litter fuels under the shade of a forest canopy. It is intended to represent moisture conditions for shaded litter fuels, the equivalent of 16-hour timelag. It ranges from 0-101. \n",
    "\n",
    "<b>DMC</b>, The Duff Moisture Code represents fuel moisture of decomposed organic material underneath the litter. System designers suggest that it is represents moisture conditions for the equivalent of 15-day (or 360 hr) timelag fuels. It is unitless and open ended. It may provide insight to live fuel moisture stress.\n",
    "\n",
    "<b>DC</b>, The Drought Code  much like the Keetch-Byrum Drought Index, represents drying deep into the soil. It approximates moisture conditions for the equivalent of 53-day (1272 hour) timelag fuels. It is unitless, with a maximum value of 1000. Extreme drought conditions have produced DC values near 800.\n",
    "\n",
    "<b>ISI</b>,The Initial Spread Index  is analogous to the NFDRS Spread Component (SC). It integrates fuel moisture for fine dead fuels and surface windspeed to estimate a spread potential. ISI is a key input for fire behavior predictions in the FBP system. It is unitless and open ended. \n",
    "\n",
    "<b> Bigger values of indices means that forest is dryer </b>"
   ]
  },
  {
   "cell_type": "markdown",
   "metadata": {},
   "source": [
    "Let's take a first look what we have in our dataset"
   ]
  },
  {
   "cell_type": "code",
   "execution_count": null,
   "metadata": {},
   "outputs": [],
   "source": [
    "data.shape"
   ]
  },
  {
   "cell_type": "code",
   "execution_count": null,
   "metadata": {},
   "outputs": [],
   "source": [
    "data.info()\n",
    "data.columns"
   ]
  },
  {
   "cell_type": "code",
   "execution_count": null,
   "metadata": {
    "scrolled": true
   },
   "outputs": [],
   "source": [
    "data.describe()"
   ]
  },
  {
   "cell_type": "code",
   "execution_count": null,
   "metadata": {},
   "outputs": [],
   "source": [
    "data[\"area\"].value_counts()"
   ]
  },
  {
   "cell_type": "code",
   "execution_count": null,
   "metadata": {},
   "outputs": [],
   "source": [
    "data[\"rain\"].value_counts()"
   ]
  },
  {
   "cell_type": "markdown",
   "metadata": {},
   "source": [
    "<b>Observations: </b>\n",
    "\n",
    "We don't have any missing values, so we don't have to bother with any missing value treatment :)\n",
    "\n",
    "Month and days columns are represented as strings. It shall be changed for numerical values.\n",
    "\n",
    "99 percent of 'rain' values are 0 . it could be hard to imagine fire when it rains\n",
    "\n",
    "Half of observations depict situation when there was no fire in a forest. (I don't know if I should throw them away or what to do with them )\n",
    "\n",
    "Let's analyse only these situations where there was a fire (area > 0)\n"
   ]
  },
  {
   "cell_type": "code",
   "execution_count": null,
   "metadata": {},
   "outputs": [],
   "source": [
    "fires = data[data.area > 0]"
   ]
  },
  {
   "cell_type": "code",
   "execution_count": null,
   "metadata": {},
   "outputs": [],
   "source": [
    "sns.boxplot(data = fires, x = \"area\")"
   ]
  },
  {
   "cell_type": "markdown",
   "metadata": {},
   "source": [
    "Let's get rid of outliers "
   ]
  },
  {
   "cell_type": "code",
   "execution_count": null,
   "metadata": {},
   "outputs": [],
   "source": [
    "fires_without_outliers = fires[fires.area < 600]"
   ]
  },
  {
   "cell_type": "code",
   "execution_count": null,
   "metadata": {
    "scrolled": true
   },
   "outputs": [],
   "source": [
    "fires_without_outliers.hist(bins = 40,figsize=(20,15))"
   ]
  },
  {
   "cell_type": "markdown",
   "metadata": {},
   "source": [
    "When we get to the north part of Park, there are no fires. \n",
    "Higher indices implies higher amount of fires.\n",
    "We can see that that most of forest fires were really small."
   ]
  },
  {
   "cell_type": "code",
   "execution_count": null,
   "metadata": {},
   "outputs": [],
   "source": [
    "months = [\"jan\",\"feb\",\"mar\",\"apr\",\"may\",\"jun\",\"jul\",\"aug\",\"sep\",\"oct\",\"nov\",\"dec\"]\n",
    "sns.countplot(data = fires, x = \"month\", order = months )\n"
   ]
  },
  {
   "cell_type": "markdown",
   "metadata": {},
   "source": [
    "We can see that almost all fires happen in August or September"
   ]
  },
  {
   "cell_type": "code",
   "execution_count": null,
   "metadata": {},
   "outputs": [],
   "source": [
    "by_months = data.groupby(\"month\").sum()\n",
    "by_months = by_months.reset_index()\n",
    "by_months = by_months[[\"month\",\"area\"]]\n",
    "sns.barplot(data=by_months, x = \"month\", y = \"area\", order = months)"
   ]
  },
  {
   "cell_type": "markdown",
   "metadata": {},
   "source": [
    "Also the are burnt by fires is the biggest in those months. "
   ]
  },
  {
   "cell_type": "code",
   "execution_count": null,
   "metadata": {},
   "outputs": [],
   "source": [
    "days = ['mon', 'tue', 'wed', 'thu', 'fri', 'sat', 'sun']\n",
    "sns.countplot(data = data, x = \"day\", order = days )"
   ]
  },
  {
   "cell_type": "markdown",
   "metadata": {},
   "source": [
    "\n",
    "Day of the week seems not to be relevant, although on Sunday there was the highest amount of forest fires."
   ]
  },
  {
   "cell_type": "code",
   "execution_count": null,
   "metadata": {},
   "outputs": [],
   "source": [
    "by_days = data.groupby(\"day\").sum()\n",
    "by_days = by_days.reset_index()\n",
    "by_days = by_days[[\"day\",\"area\"]]\n",
    "sns.barplot(data=by_days, x = \"day\", y = \"area\", order = days)"
   ]
  },
  {
   "cell_type": "markdown",
   "metadata": {},
   "source": [
    "But we can see that the biggest area was burnt on Saturday! but it might be due to our outliars. How does it look without them?"
   ]
  },
  {
   "cell_type": "code",
   "execution_count": null,
   "metadata": {},
   "outputs": [],
   "source": [
    "by_days_without_outliers = fires_without_outliers.groupby(\"day\").sum()\n",
    "by_days_without_outliers = by_days_without_outliers.reset_index()\n",
    "by_days_without_outliers = by_days_without_outliers[[\"day\",\"area\"]]\n",
    "sns.barplot(data=by_days_without_outliers, x = \"day\", y = \"area\", order = days)"
   ]
  },
  {
   "cell_type": "markdown",
   "metadata": {},
   "source": [
    "Now it looks a bit different. The biggest burnt area was still on Saturday, but the difference is not so massive. "
   ]
  },
  {
   "cell_type": "code",
   "execution_count": null,
   "metadata": {},
   "outputs": [],
   "source": [
    "sns.pairplot(fires_without_outliers, y_vars = \"area\", x_vars = data.columns.values[:5])\n",
    "sns.pairplot(fires_without_outliers, y_vars = \"area\", x_vars = data.columns.values[5:10])\n",
    "sns.pairplot(fires_without_outliers, y_vars = \"area\", x_vars = data.columns.values[10:11])"
   ]
  },
  {
   "cell_type": "code",
   "execution_count": null,
   "metadata": {},
   "outputs": [],
   "source": [
    "sns.heatmap(data.corr())"
   ]
  },
  {
   "cell_type": "markdown",
   "metadata": {},
   "source": [
    "It doesn't give us much information as we cannot see any correlation between area variable and other variables"
   ]
  },
  {
   "cell_type": "code",
   "execution_count": null,
   "metadata": {},
   "outputs": [],
   "source": [
    "pandas_profiling.ProfileReport(data)\n"
   ]
  },
  {
   "cell_type": "markdown",
   "metadata": {},
   "source": [
    "It doesn't give us a possibility to somehow correlate categorical variables with continuous ones."
   ]
  }
 ],
 "metadata": {
  "kernelspec": {
   "display_name": "Python 3",
   "language": "python",
   "name": "python3"
  },
  "language_info": {
   "codemirror_mode": {
    "name": "ipython",
    "version": 3
   },
   "file_extension": ".py",
   "mimetype": "text/x-python",
   "name": "python",
   "nbconvert_exporter": "python",
   "pygments_lexer": "ipython3",
   "version": "3.7.7"
  }
 },
 "nbformat": 4,
 "nbformat_minor": 4
}
