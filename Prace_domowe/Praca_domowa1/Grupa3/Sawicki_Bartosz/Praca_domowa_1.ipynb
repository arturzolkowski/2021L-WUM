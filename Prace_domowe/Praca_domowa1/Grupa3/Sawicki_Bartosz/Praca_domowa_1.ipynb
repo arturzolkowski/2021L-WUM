{
 "cells": [
  {
   "cell_type": "markdown",
   "id": "electrical-pension",
   "metadata": {},
   "source": [
    "# Praca domowa nr 1 - WUM2021L\n",
    "### Autor: Bartosz Sawicki"
   ]
  },
  {
   "cell_type": "code",
   "execution_count": null,
   "id": "expected-ocean",
   "metadata": {},
   "outputs": [],
   "source": [
    "import pandas as pd\n",
    "import numpy as np\n",
    "import requests\n",
    "import seaborn as sns\n",
    "\n",
    "from matplotlib import pyplot as plt\n",
    "from scipy import stats\n",
    "from pandas_profiling import ProfileReport"
   ]
  },
  {
   "cell_type": "markdown",
   "id": "bulgarian-smooth",
   "metadata": {},
   "source": [
    "## Pobranie danych"
   ]
  },
  {
   "cell_type": "code",
   "execution_count": null,
   "id": "disabled-receipt",
   "metadata": {},
   "outputs": [],
   "source": [
    "url = 'https://api.apispreadsheets.com/api/dataset/forest-fires/'\n",
    "r = requests.get(url)\n",
    "data = r.json()\n",
    "\n",
    "df = pd.DataFrame.from_dict(data['data'], orient='columns')"
   ]
  },
  {
   "cell_type": "markdown",
   "id": "standing-artwork",
   "metadata": {},
   "source": [
    "## Ogólne informacje o zbiorze"
   ]
  },
  {
   "cell_type": "code",
   "execution_count": null,
   "id": "wired-gravity",
   "metadata": {},
   "outputs": [],
   "source": [
    "df.head()"
   ]
  },
  {
   "cell_type": "code",
   "execution_count": null,
   "id": "amateur-howard",
   "metadata": {},
   "outputs": [],
   "source": [
    "df.info()"
   ]
  },
  {
   "cell_type": "code",
   "execution_count": null,
   "id": "annoying-money",
   "metadata": {},
   "outputs": [],
   "source": [
    "df.describe()"
   ]
  },
  {
   "cell_type": "markdown",
   "id": "noted-universe",
   "metadata": {},
   "source": [
    " ### Co oznaczają skróty `FFMC`, `DMC`, `DC`, `ISI`?\n",
    " \n",
    " W skrócie: wskaźniki systemu __FWI__ (Fire Weather Index)\n",
    " \n",
    " - `FFMC` - The __Fine Fuel Moisture Code__ represents fuel moisture of forest litter fuels under the shade of a forest canopy. It is intended to represent moisture conditions for shaded litter fuels, the equivalent of 16-hour timelag. It ranges from 0-101. Subtracting the FFMC value from 100 can provide an estimate for the equivalent (approximately 10h) fuel moisture content, most accurate when FFMC values are roughly above 80.\n",
    " \n",
    "- `DMC` - The __Duff Moisture Code__ represents fuel moisture of decomposed organic material underneath the litter. System designers suggest that it is represents moisture conditions for the equivalent of 15-day (or 360 hr) timelag fuels. It is unitless and open ended. It may provide insight to live fuel moisture stress.\n",
    "\n",
    "- `DC` - The __Drought Code__, much like the Keetch-Byrum Drought Index, represents drying deep into the soil. It approximates moisture conditions for the equivalent of 53-day (1272 hour) timelag fuels. It is unitless, with a maximum value of 1000. Extreme drought conditions have produced DC values near 800.\n",
    "\n",
    "- `ISI` - The __Initial Spread Index__ integrates fuel moisture for fine dead fuels and surface windspeed to estimate a spread potential. ISI is a key input for fire behavior predictions in the FBP system. It is unitless and open ended."
   ]
  },
  {
   "cell_type": "code",
   "execution_count": null,
   "id": "behavioral-massage",
   "metadata": {},
   "outputs": [],
   "source": [
    "df.columns"
   ]
  },
  {
   "cell_type": "markdown",
   "id": "thick-fundamentals",
   "metadata": {},
   "source": [
    "## Analiza zmiennej objaśnianej - `area`\n",
    "\n"
   ]
  },
  {
   "cell_type": "code",
   "execution_count": null,
   "id": "technical-oracle",
   "metadata": {},
   "outputs": [],
   "source": [
    "df['area'].describe()"
   ]
  },
  {
   "cell_type": "code",
   "execution_count": null,
   "id": "integral-annotation",
   "metadata": {},
   "outputs": [],
   "source": [
    "sns.histplot(df['area'], bins=round(1+3.322*np.log(df['area'].shape[0])), kde=True)\n",
    "plt.show()"
   ]
  },
  {
   "cell_type": "markdown",
   "id": "explicit-affiliation",
   "metadata": {},
   "source": [
    "Większość obserwacji jest bliska 0. Rozkład prawostronny."
   ]
  },
  {
   "cell_type": "code",
   "execution_count": null,
   "id": "least-tournament",
   "metadata": {},
   "outputs": [],
   "source": [
    "print(\"Skośność: %f\" % df['area'].skew())\n",
    "print(\"Kurtoza: %f\" % df['area'].kurt())"
   ]
  },
  {
   "cell_type": "markdown",
   "id": "attempted-stylus",
   "metadata": {},
   "source": [
    "Potwierdza to obserwacje o prawostronnym i stromym rozkładzie.\n",
    "\n",
    "### Transformacja `area`"
   ]
  },
  {
   "cell_type": "markdown",
   "id": "handmade-practitioner",
   "metadata": {},
   "source": [
    "Na stronie [zbioru danych](https://apispreadsheets.com/datasets/129) zasugerowano aby przetransformować zmienną logarytmem. Sprawdźmy. Zastosujemy x -> log(x+1) aby uniknąć problemów z nieskończonością."
   ]
  },
  {
   "cell_type": "code",
   "execution_count": null,
   "id": "assigned-anchor",
   "metadata": {},
   "outputs": [],
   "source": [
    "sns.histplot(df['area'].apply(lambda x: np.log(x+1)), bins=round(1+3.322*np.log(df['area'].shape[0])), kde=True)\n",
    "plt.show()"
   ]
  },
  {
   "cell_type": "markdown",
   "id": "electrical-length",
   "metadata": {},
   "source": [
    "Dodajmy tak przetransformowaną zmienną do zbioru danych. Sprawdzimy jak wygląda na wykresach zestawiona z innymi cechami."
   ]
  },
  {
   "cell_type": "code",
   "execution_count": null,
   "id": "everyday-folder",
   "metadata": {},
   "outputs": [],
   "source": [
    "df['log_area'] = df['area'].apply(lambda x: np.log(x+1))\n",
    "df.head()"
   ]
  },
  {
   "cell_type": "markdown",
   "id": "circular-designation",
   "metadata": {},
   "source": [
    "Zobaczmy jak wyglądają dodatnie wartości `area`"
   ]
  },
  {
   "cell_type": "code",
   "execution_count": null,
   "id": "absolute-geometry",
   "metadata": {},
   "outputs": [],
   "source": [
    "len(df[df['area']>0])"
   ]
  },
  {
   "cell_type": "code",
   "execution_count": null,
   "id": "rubber-trust",
   "metadata": {},
   "outputs": [],
   "source": [
    "sns.histplot(df.loc[df['area']>0, 'area'], bins=round(1+3.322*np.log(df[df['area']>0].shape[0])), kde=True)\n",
    "plt.show()"
   ]
  },
  {
   "cell_type": "markdown",
   "id": "seeing-wisdom",
   "metadata": {},
   "source": [
    "Teraz możemy zastosować zwykły logarytm."
   ]
  },
  {
   "cell_type": "code",
   "execution_count": null,
   "id": "eleven-federal",
   "metadata": {},
   "outputs": [],
   "source": [
    "sns.histplot(df.loc[df['area']>0, 'area'].apply(np.log), bins=round(1+3.322*np.log(df[df['area']>0].shape[0])), kde=True)\n",
    "plt.show()"
   ]
  },
  {
   "cell_type": "markdown",
   "id": "respective-personality",
   "metadata": {},
   "source": [
    "Rozkład bardziej przypomina rozkład normalny. Można rozważyć podzielenie zadania na 2 części. Najpierw klasyfikujemy czy pożar wybuchnie (`area` > 0), a później przybliżamy log(`area`) jakimś modelem."
   ]
  },
  {
   "cell_type": "markdown",
   "id": "marked-venture",
   "metadata": {},
   "source": [
    "## Utworzenie kolumn numerycznych kodujących dni tygodnia i miesiące\n",
    "\n",
    "Dzięki temu będziemy mogli wyliczyć miary statystyczne i zobczyć histogramy.\n",
    "\n",
    "- dni tygodnia: 1=poniedziałek, ... , 7=niedziela\n",
    "- miesiące: 1=styczeń, ... , 12=grudzień"
   ]
  },
  {
   "cell_type": "code",
   "execution_count": null,
   "id": "concrete-screening",
   "metadata": {},
   "outputs": [],
   "source": [
    "df['month_num'] = pd.to_datetime(df.month, format='%b').dt.month\n",
    "weekdays = {'mon':1, 'tue':2, 'wed':3, 'thu':4, 'fri':5, 'sat':6, 'sun':7}\n",
    "df['day_num'] = df['day'].map(weekdays)\n",
    "df.head()"
   ]
  },
  {
   "cell_type": "markdown",
   "id": "referenced-combining",
   "metadata": {},
   "source": [
    "## Histogramy zmiennych"
   ]
  },
  {
   "cell_type": "code",
   "execution_count": null,
   "id": "external-tuesday",
   "metadata": {},
   "outputs": [],
   "source": [
    "df.hist(bins = 40, figsize = (18,12))\n",
    "plt.show()"
   ]
  },
  {
   "cell_type": "markdown",
   "id": "still-aspect",
   "metadata": {},
   "source": [
    "- `rain` bardzo dużo obserwacji ma wartość bliską 0. Może warto usunąć tę kolumnę."
   ]
  },
  {
   "cell_type": "markdown",
   "id": "practical-champion",
   "metadata": {},
   "source": [
    "## Korelacje cech"
   ]
  },
  {
   "cell_type": "code",
   "execution_count": null,
   "id": "printable-winter",
   "metadata": {},
   "outputs": [],
   "source": [
    "corr = df.drop(['month_num', 'day_num'], axis = 1).corr()\n",
    "_, __ = plt.subplots(figsize=(12,9))\n",
    "sns.heatmap(corr, vmin=-1,annot=True)\n",
    "plt.show()"
   ]
  },
  {
   "cell_type": "markdown",
   "id": "reasonable-afternoon",
   "metadata": {},
   "source": [
    "- `temp` odwrotnie skorelowany z `RH`. Im cieplej tym względna wilgotność niższa."
   ]
  },
  {
   "cell_type": "code",
   "execution_count": null,
   "id": "corrected-thanksgiving",
   "metadata": {},
   "outputs": [],
   "source": [
    "sns.scatterplot(x = df['temp'], y = df['RH'])\n",
    "plt.show()"
   ]
  },
  {
   "cell_type": "markdown",
   "id": "improved-chapel",
   "metadata": {},
   "source": [
    "- wzajemnie skorelowane `ISI`, `temp`, `FFMC`, `DMC`, `DC`."
   ]
  },
  {
   "cell_type": "code",
   "execution_count": null,
   "id": "whole-retention",
   "metadata": {},
   "outputs": [],
   "source": [
    "cols = ['ISI', 'temp', 'FFMC', 'DMC', 'DC']\n",
    "sns.pairplot(df[cols])\n",
    "plt.show()"
   ]
  },
  {
   "cell_type": "markdown",
   "id": "placed-invitation",
   "metadata": {},
   "source": [
    "## Współrzędne geograficzne\n",
    "\n"
   ]
  },
  {
   "cell_type": "markdown",
   "id": "pleasant-leader",
   "metadata": {},
   "source": [
    "Mapa przedstawiająca podział parku na sektory"
   ]
  },
  {
   "cell_type": "code",
   "execution_count": null,
   "id": "ongoing-headquarters",
   "metadata": {},
   "outputs": [],
   "source": [
    "import matplotlib.image as mpimg\n",
    "image = mpimg.imread(\"images/download.jpeg\")\n",
    "plt.imshow(image)\n",
    "plt.show()"
   ]
  },
  {
   "cell_type": "code",
   "execution_count": null,
   "id": "quiet-shelf",
   "metadata": {
    "scrolled": false
   },
   "outputs": [],
   "source": [
    "def create_heatmap(agg_fun):\n",
    "    geo_df = df.loc[:,['X','Y','area']].groupby(['X', 'Y'], as_index = False).agg(agg_fun)\n",
    "    geo_df_pivot = geo_df.pivot(index = 'X', columns = 'Y', values = 'area')\n",
    "    geo_df_pivot[geo_df_pivot.isna()] = 0\n",
    "    sns.heatmap(geo_df_pivot, cmap = 'YlOrRd').set_title(agg_fun + ' of areas by coordinates')\n",
    "    plt.show()\n",
    "\n",
    "create_heatmap('sum')\n",
    "create_heatmap('count')\n",
    "create_heatmap('mean')\n",
    "create_heatmap('std')"
   ]
  },
  {
   "cell_type": "markdown",
   "id": "precious-ferry",
   "metadata": {},
   "source": [
    "Widać, że największe i najczęstsze pożary są w prostokątnym pasie leżącym wzdłuż przekątnej terenu. Stąd też współczynnik korelacji `X` i `Y` to 0.54. Największa średnia powierzchnia pożaru jest w prostokącie (8,8), gdzie odnotowano mniej niż 10 pożarów. Odchylenie standardowe spalonej powierzchni w tym rejonie też jest niewielkie. Sugeruje to, że było tam kilka dużych pożarów."
   ]
  },
  {
   "cell_type": "markdown",
   "id": "going-authentication",
   "metadata": {},
   "source": [
    "## Dane w czasie"
   ]
  },
  {
   "attachments": {},
   "cell_type": "markdown",
   "id": "pointed-realtor",
   "metadata": {},
   "source": [
    "`DC` opisuje poziom suszy. Logiczne jest, że wraz z nadejściem lata ten wskażnik rośnie<br/>"
   ]
  },
  {
   "cell_type": "code",
   "execution_count": null,
   "id": "interested-listing",
   "metadata": {},
   "outputs": [],
   "source": [
    "import matplotlib.image as mpimg\n",
    "image = mpimg.imread(\"images/437-cffdrs-fuel-moisture-codes-graph.png\")\n",
    "plt.imshow(image)\n",
    "plt.show()"
   ]
  },
  {
   "cell_type": "code",
   "execution_count": null,
   "id": "animal-program",
   "metadata": {},
   "outputs": [],
   "source": [
    "sns.scatterplot(x = df['month_num'], y = df['DC'])\n",
    "plt.show()"
   ]
  },
  {
   "cell_type": "code",
   "execution_count": null,
   "id": "civic-entry",
   "metadata": {},
   "outputs": [],
   "source": [
    "month_df = df.loc[:,['month_num', 'month', 'area']].groupby(['month_num', 'month']).agg([np.sum, np.size, np.mean]).reset_index()\n",
    "month_df.loc[:,'area']\n",
    "\n",
    "f, (ax1, ax2, ax3) = plt.subplots(3, 1, figsize=(12, 20))\n",
    "\n",
    "sns.barplot(x = month_df['month'], y = month_df.loc[:,'area']['sum'], ax = ax1)\n",
    "ax1.title.set_text('Sum of areas by month')\n",
    "ax2.set_ylabel('sum of areas')\n",
    "\n",
    "sns.barplot(x = month_df['month'], y = month_df.loc[:,'area']['size'], ax = ax2)\n",
    "ax2.title.set_text('Number of fires by month')\n",
    "ax2.set_ylabel('number')\n",
    "\n",
    "sns.barplot(x = month_df['month'], y = month_df.loc[:,'area']['mean'], ax = ax3)\n",
    "ax3.title.set_text('Mean of fire areas by month')\n",
    "ax3.set_ylabel('mean of areas')\n",
    "\n",
    "plt.show()"
   ]
  },
  {
   "cell_type": "markdown",
   "id": "hydraulic-latter",
   "metadata": {},
   "source": [
    "Nie jest zaskoczeniem, że późnym latem pożarów jest najwięcej i suma spalonych obszarów jest największa. Warto zauważyć, że średnia powierzchnia pożaru nie zależy aż tak bardzo od pory roku."
   ]
  },
  {
   "cell_type": "code",
   "execution_count": null,
   "id": "bacterial-tiffany",
   "metadata": {},
   "outputs": [],
   "source": [
    "weekday_df = df.loc[:,['day_num', 'day', 'area']].groupby(['day_num', 'day']).agg([np.sum, np.size, np.mean]).reset_index()\n",
    "weekday_df.loc[:,'area']\n",
    "\n",
    "f, (ax1, ax2, ax3) = plt.subplots(3, 1, figsize=(12, 20))\n",
    "\n",
    "sns.barplot(x = weekday_df['day'], y = weekday_df.loc[:,'area']['sum'], ax = ax1)\n",
    "ax1.title.set_text('Sum of areas by day')\n",
    "ax2.set_ylabel('sum of areas')\n",
    "\n",
    "sns.barplot(x = weekday_df['day'], y = weekday_df.loc[:,'area']['size'], ax = ax2)\n",
    "ax2.title.set_text('Number of fires by day')\n",
    "ax2.set_ylabel('number')\n",
    "\n",
    "\n",
    "sns.barplot(x = weekday_df['day'], y = weekday_df.loc[:,'area']['mean'], ax = ax3)\n",
    "ax3.title.set_text('Mean of fire areas by day')\n",
    "ax3.set_ylabel('mean')\n",
    "\n",
    "plt.show()"
   ]
  },
  {
   "cell_type": "markdown",
   "id": "adjacent-shame",
   "metadata": {},
   "source": [
    "Najwięcej pożarów wybucha w okolicach weekendów. Może to wynikać ze wzmożonej obecności turystów w dni wolne."
   ]
  },
  {
   "cell_type": "markdown",
   "id": "touched-confirmation",
   "metadata": {},
   "source": [
    "## Narzędzie do automatycznej eksploracji - pandas profiler"
   ]
  },
  {
   "cell_type": "code",
   "execution_count": null,
   "id": "delayed-receptor",
   "metadata": {},
   "outputs": [],
   "source": [
    "profile = ProfileReport(df, title='Pandas Profiling Report', explorative=True)"
   ]
  },
  {
   "cell_type": "code",
   "execution_count": null,
   "id": "immune-price",
   "metadata": {},
   "outputs": [],
   "source": [
    "profile.to_notebook_iframe()"
   ]
  },
  {
   "cell_type": "markdown",
   "id": "gothic-asbestos",
   "metadata": {},
   "source": [
    "### Wnioski z raportu\n",
    "\n",
    "- są 4 zdublowane obserwacje. Prawdopodobnie jest to wynik błędu i lepiej je usunąć.\n",
    "\n",
    "### Opinia o narzędziu\n",
    "\n",
    "- automatyzuje wstępny etap eksploracji\n",
    "- wyłapuje anomalia w danych, takie jak dużo zerowych wartości, duplikaty\n",
    "- po przeczytaniu raportu można zyskać intuicję co do dalszej analizy\n",
    "- profiler nie zrobi za nas bardziej zaawansowanych wykresów i podsumowań"
   ]
  }
 ],
 "metadata": {
  "kernelspec": {
   "display_name": "Python 3",
   "language": "python",
   "name": "python3"
  },
  "language_info": {
   "codemirror_mode": {
    "name": "ipython",
    "version": 3
   },
   "file_extension": ".py",
   "mimetype": "text/x-python",
   "name": "python",
   "nbconvert_exporter": "python",
   "pygments_lexer": "ipython3",
   "version": "3.8.5"
  }
 },
 "nbformat": 4,
 "nbformat_minor": 5
}
