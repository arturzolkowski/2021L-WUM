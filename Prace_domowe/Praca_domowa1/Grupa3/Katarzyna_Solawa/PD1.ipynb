{
 "cells": [
  {
   "cell_type": "code",
   "execution_count": null,
   "id": "photographic-efficiency",
   "metadata": {},
   "outputs": [],
   "source": [
    "import pandas as pd\n",
    "import numpy as np\n",
    "import sklearn \n",
    "from sklearn.datasets import load_boston\n",
    "import seaborn as sns\n",
    "import matplotlib.pyplot as plt\n",
    "import matplotlib\n",
    "import warnings\n",
    "from pandas_profiling import ProfileReport\n",
    "\n",
    "warnings.filterwarnings('ignore')\n",
    "np.random.seed(23)"
   ]
  },
  {
   "cell_type": "code",
   "execution_count": null,
   "id": "graphic-aruba",
   "metadata": {},
   "outputs": [],
   "source": [
    "pd1_df = pd.read_csv('forest_fires_dataset.csv')\n",
    "pd1_df.info()\n",
    "#The Fine Fuel Moisture Code (FFMC)\n",
    "#The Duff Moisture Code (DMC)\n",
    "#The Drought Code (DC)\n",
    "#The Initial Spread Index (ISI)\n",
    "#relative humidity RH"
   ]
  },
  {
   "cell_type": "code",
   "execution_count": null,
   "id": "radio-analyst",
   "metadata": {},
   "outputs": [],
   "source": [
    "pd1_df.describe()"
   ]
  },
  {
   "cell_type": "code",
   "execution_count": null,
   "id": "subjective-penny",
   "metadata": {},
   "outputs": [],
   "source": [
    "pd1_df['area'].sort_values().tail(10)"
   ]
  },
  {
   "cell_type": "markdown",
   "id": "executed-triple",
   "metadata": {},
   "source": [
    "# 2 największe wyniki, które widocznie różnią się od pozostałych"
   ]
  },
  {
   "cell_type": "code",
   "execution_count": null,
   "id": "musical-insider",
   "metadata": {},
   "outputs": [],
   "source": [
    "fire_df = pd1_df[pd1_df['area']<700]\n",
    "fire_df.area.size"
   ]
  },
  {
   "cell_type": "markdown",
   "id": "unlikely-picture",
   "metadata": {},
   "source": [
    "# Sprawdzmy ile jest przykładów kiedy area=0"
   ]
  },
  {
   "cell_type": "code",
   "execution_count": null,
   "id": "elder-bobby",
   "metadata": {},
   "outputs": [],
   "source": [
    "fire_df[fire_df['area'] == 0].area.size"
   ]
  },
  {
   "cell_type": "markdown",
   "id": "defined-purpose",
   "metadata": {},
   "source": [
    "## 247/515,prawię połowa"
   ]
  },
  {
   "cell_type": "code",
   "execution_count": null,
   "id": "veterinary-conviction",
   "metadata": {},
   "outputs": [],
   "source": [
    "burned_df = fire_df[fire_df['area']!= 0]\n",
    "safe_df = fire_df[fire_df['area']== 0]"
   ]
  },
  {
   "cell_type": "markdown",
   "id": "recovered-education",
   "metadata": {},
   "source": [
    "# Sprawdzmy ile jest wierszy dla których rain=0?"
   ]
  },
  {
   "cell_type": "code",
   "execution_count": null,
   "id": "eastern-stack",
   "metadata": {},
   "outputs": [],
   "source": [
    "norain_df = fire_df[fire_df['rain'] == 0]\n",
    "norain_df.area.size"
   ]
  },
  {
   "cell_type": "markdown",
   "id": "sought-motion",
   "metadata": {},
   "source": [
    "## 507 z 515, ta zmienna jest prawię zawszę stała "
   ]
  },
  {
   "cell_type": "code",
   "execution_count": null,
   "id": "integrated-embassy",
   "metadata": {},
   "outputs": [],
   "source": [
    "fire_df.hist(bins = 40, figsize=(18, 12))\n",
    "plt.show()"
   ]
  },
  {
   "cell_type": "code",
   "execution_count": null,
   "id": "large-implementation",
   "metadata": {},
   "outputs": [],
   "source": [
    "sns.pairplot(fire_df, y_vars=\"area\", x_vars=fire_df.columns.values[:4], diag_kind=None)\n",
    "sns.pairplot(fire_df, y_vars=\"area\", x_vars=fire_df.columns.values[5:9], diag_kind=None)\n",
    "sns.pairplot(fire_df, y_vars=\"area\", x_vars=fire_df.columns.values[10:], diag_kind=None)\n",
    "\n",
    "plt.show()"
   ]
  },
  {
   "cell_type": "code",
   "execution_count": null,
   "id": "matched-vocabulary",
   "metadata": {},
   "outputs": [],
   "source": [
    "fire_df['month'].hist(figsize=(18, 12))\n",
    "# najwięcej przypadków w sep i aug"
   ]
  },
  {
   "cell_type": "code",
   "execution_count": null,
   "id": "fantastic-haiti",
   "metadata": {},
   "outputs": [],
   "source": [
    "data = pd.concat([fire_df['area'], fire_df['month']], axis=1)\n",
    "f, ax = plt.subplots(figsize=(8, 6))\n",
    "fig = sns.boxplot(x=\"month\", y=\"area\", data=data)"
   ]
  },
  {
   "cell_type": "markdown",
   "id": "olive-plant",
   "metadata": {},
   "source": [
    "# Tak jak się można domyślać w mesiącach letnich oprócz \"mało\" powierzchniowych pożarów występują także pożary o większej powierzchni"
   ]
  },
  {
   "cell_type": "code",
   "execution_count": null,
   "id": "bottom-bidding",
   "metadata": {},
   "outputs": [],
   "source": [
    "fire_df['day'].hist()"
   ]
  },
  {
   "cell_type": "code",
   "execution_count": null,
   "id": "amber-disability",
   "metadata": {},
   "outputs": [],
   "source": [
    "data = pd.concat([fire_df['area'], fire_df['day']], axis=1)\n",
    "f, ax = plt.subplots(figsize=(8, 6))\n",
    "fig = sns.boxplot(x=\"day\", y=\"area\", data=data)"
   ]
  },
  {
   "cell_type": "code",
   "execution_count": null,
   "id": "binary-bicycle",
   "metadata": {},
   "outputs": [],
   "source": [
    "corrmat = burned_df.corr()\n",
    "f, ax = plt.subplots(figsize=(12, 9))\n",
    "sns.heatmap(corrmat, vmax=.8, square=True);"
   ]
  },
  {
   "cell_type": "markdown",
   "id": "animal-birmingham",
   "metadata": {},
   "source": [
    "# Możemy zaóważyć korelację pomiędzy:\n",
    "- X i Y\n",
    "- FFMC i ISI\n",
    "- DC i DMC"
   ]
  },
  {
   "cell_type": "code",
   "execution_count": null,
   "id": "aboriginal-florist",
   "metadata": {},
   "outputs": [],
   "source": [
    "sns.set()\n",
    "cols = ['FFMC', 'ISI', 'DMC', 'DC', 'temp']\n",
    "sns.pairplot(fire_df[cols], height = 2.5)\n",
    "plt.show();"
   ]
  },
  {
   "cell_type": "code",
   "execution_count": null,
   "id": "offensive-popularity",
   "metadata": {},
   "outputs": [],
   "source": [
    "prof = ProfileReport(pd1_df)\n",
    "prof.to_file(output_file='output.html')"
   ]
  },
  {
   "cell_type": "markdown",
   "id": "confidential-operation",
   "metadata": {},
   "source": [
    "# Użycie pandas profiling pozwala na łatwę uzyskanie wstępnej eksploracji danych. Z raportu dowiedzieliśmy się o 4 duplikatach w danych oraz dużym procencie wartości zerowych dla kolumn area i rain. Ograniczaniem jest np. brak sprawdzania danych po usunięciu odstających wyników."
   ]
  }
 ],
 "metadata": {
  "kernelspec": {
   "display_name": "Python 3",
   "language": "python",
   "name": "python3"
  },
  "language_info": {
   "codemirror_mode": {
    "name": "ipython",
    "version": 3
   },
   "file_extension": ".py",
   "mimetype": "text/x-python",
   "name": "python",
   "nbconvert_exporter": "python",
   "pygments_lexer": "ipython3",
   "version": "3.8.3"
  }
 },
 "nbformat": 4,
 "nbformat_minor": 5
}
