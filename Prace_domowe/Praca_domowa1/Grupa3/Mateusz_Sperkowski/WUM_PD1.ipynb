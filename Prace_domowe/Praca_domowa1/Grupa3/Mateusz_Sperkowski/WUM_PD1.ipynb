{
 "cells": [
  {
   "cell_type": "markdown",
   "id": "limiting-invitation",
   "metadata": {},
   "source": [
    "## Zbiór danych"
   ]
  },
  {
   "cell_type": "markdown",
   "id": "joined-retailer",
   "metadata": {},
   "source": [
    "Dane pochodzą ze zbioru: https://www.apispreadsheets.com/datasets/129.\n",
    "\n",
    "Przedstawiają one informacje meteorologiczne dotyczące pożarów lasu w 'Parque Natural de Montesinho' w Portugali."
   ]
  },
  {
   "cell_type": "markdown",
   "id": "healthy-personality",
   "metadata": {},
   "source": [
    "## Preprocessing"
   ]
  },
  {
   "cell_type": "code",
   "execution_count": null,
   "id": "oriented-viking",
   "metadata": {},
   "outputs": [],
   "source": [
    "import pandas as pd\n",
    "import matplotlib.pyplot as plt\n",
    "import seaborn as sns\n",
    "import numpy as np\n",
    "from pandas_profiling import ProfileReport"
   ]
  },
  {
   "cell_type": "code",
   "execution_count": null,
   "id": "acknowledged-chapel",
   "metadata": {},
   "outputs": [],
   "source": [
    "month_order = ['jan', 'feb', 'mar', 'apr', 'may', 'jun', 'jul', 'aug', 'sep', 'oct', 'nov', 'dec']\n",
    "day_order = ['mon', 'tue', 'wed', 'thu', 'fri', 'sat', 'sun']\n",
    "fires_data = pd.read_csv(\"forest_fires_dataset.csv\")\n",
    "fires_data['area_log'] = fires_data['area'].apply(np.log1p)\n",
    "fires_data.columns"
   ]
  },
  {
   "cell_type": "markdown",
   "id": "independent-adolescent",
   "metadata": {},
   "source": [
    "## Eksploracyjna Analiza Danych"
   ]
  },
  {
   "cell_type": "code",
   "execution_count": null,
   "id": "seeing-athletics",
   "metadata": {},
   "outputs": [],
   "source": [
    "fires_data.head()"
   ]
  },
  {
   "cell_type": "code",
   "execution_count": null,
   "id": "bearing-distributor",
   "metadata": {},
   "outputs": [],
   "source": [
    "fires_data.info()"
   ]
  },
  {
   "cell_type": "code",
   "execution_count": null,
   "id": "equipped-berry",
   "metadata": {},
   "outputs": [],
   "source": [
    "fires_data.describe()"
   ]
  },
  {
   "cell_type": "code",
   "execution_count": null,
   "id": "pediatric-sunday",
   "metadata": {},
   "outputs": [],
   "source": [
    "temp_data = fires_data.drop([\"X\", \"Y\", \"area\"], axis=1)\n",
    "corre = temp_data.corr()\n",
    "f, ax = plt.subplots(figsize=(12, 9))\n",
    "sns.heatmap(corre, annot=True, square=True, fmt='.3f')\n",
    "plt.title(\"Correlation heatmap of the data set\")\n",
    "plt.show()"
   ]
  },
  {
   "cell_type": "code",
   "execution_count": null,
   "id": "satisfied-manitoba",
   "metadata": {},
   "outputs": [],
   "source": [
    "sns.histplot(data=fires_data, x=\"area_log\")\n",
    "plt.title(\"Countplot of area in logarithmic scale\")\n",
    "plt.xlabel(\"Area (log(x+1) scale)\")\n",
    "plt.show()"
   ]
  },
  {
   "cell_type": "markdown",
   "id": "imposed-compiler",
   "metadata": {},
   "source": [
    "Zauważmy bardzo dużo wartości w pobliżu 0, postanowiłem sprawdzić ile ich jest równe 0."
   ]
  },
  {
   "cell_type": "code",
   "execution_count": null,
   "id": "cloudy-accreditation",
   "metadata": {},
   "outputs": [],
   "source": [
    "z = len(fires_data.loc[fires_data[\"area\"] == 0])/len(fires_data[\"area\"])\n",
    "print(f\"Area is equal to 0 in {z*100:.2f}% of rows\")"
   ]
  },
  {
   "cell_type": "markdown",
   "id": "digital-skating",
   "metadata": {},
   "source": [
    "Okazuje się że jest to prawie 50% danych. Pytanie czy dane te reprezentują brak pożaru, czy o powierzchni na tyle małej że nie została zmierzona. Jednak w pierwszym przypadku spodziewałbym się danych dość równo rozłożonych przez miesiące. Niestety nie jest to opisane na stronie zbioru danych. Szukając w internecie znalazłem dane że dla małych pożarów powierzchnia została ustalona na 0."
   ]
  },
  {
   "cell_type": "code",
   "execution_count": null,
   "id": "preliminary-arena",
   "metadata": {},
   "outputs": [],
   "source": [
    "fig, (ax1, ax2) = plt.subplots(2, 1, figsize=(18, 9))\n",
    "sns.countplot(data = fires_data, x = \"month\", order = month_order, ax=ax1, color = \"tab:blue\")\n",
    "sns.barplot(x=\"month\", y=\"area_log\", order=month_order, data=fires_data, estimator=sum, ax=ax2, color = \"tab:blue\")\n",
    "plt.suptitle(\"Count and sum of forest fires area per month\", y=0.92)\n",
    "ax1.set_xlabel(\"Month\")\n",
    "ax1.set_ylabel(\"Count of occurences\")\n",
    "ax2.set_xlabel(\"Month\")\n",
    "ax2.set_ylabel(\"Sum of area (log(x+1) scale)\")\n",
    "plt.show()"
   ]
  },
  {
   "cell_type": "code",
   "execution_count": null,
   "id": "swedish-principal",
   "metadata": {},
   "outputs": [],
   "source": [
    "fig, (ax1, ax2) = plt.subplots(2, 1, figsize=(18, 9))\n",
    "plt.suptitle(\"Boxplots of area and temperature for the records\", y=0.92)\n",
    "sns.boxplot(x='month', y=\"area_log\", data=fires_data, order=month_order, ax=ax1, color = \"tab:blue\")\n",
    "sns.boxplot(x='month', y=\"temp\", data=fires_data, order=month_order, ax=ax2, color = \"tab:blue\")\n",
    "ax1.set_ylabel(\"Area in logarithmic scale\")\n",
    "ax2.set_ylabel(\"Temperature in Celsius\")\n",
    "plt.show()"
   ]
  },
  {
   "cell_type": "markdown",
   "id": "progressive-halifax",
   "metadata": {},
   "source": [
    "Wygląda na to że istnieje powiązanie między temperaturą danego dnia a powierzchnią pożaru, jednak wydaje się być mniejsza niż bym się spodziewał."
   ]
  },
  {
   "cell_type": "code",
   "execution_count": null,
   "id": "continent-spray",
   "metadata": {},
   "outputs": [],
   "source": [
    "hue_var = \"month\"\n",
    "y_variable = \"area_log\"\n",
    "temp_data = fires_data.drop([\"X\", \"Y\", \"area\", \"day\"], axis = 1)\n",
    "fst = sns.pairplot(temp_data, y_vars=y_variable, x_vars=temp_data.columns.values[:3], hue = hue_var, plot_kws={'alpha': 0.5}, height = 4)\n",
    "scd = sns.pairplot(temp_data, y_vars=y_variable, x_vars=temp_data.columns.values[3:6], hue = hue_var, plot_kws={'alpha': 0.5}, height = 4)\n",
    "trd = sns.pairplot(temp_data, y_vars=y_variable, x_vars=temp_data.columns.values[6:9], hue = hue_var, plot_kws={'alpha': 0.5}, height = 4)\n",
    "fst.fig.suptitle(\"Distributions of variables in comparison with area and the months\", y=1.0)\n",
    "plt.show()"
   ]
  },
  {
   "cell_type": "markdown",
   "id": "known-functionality",
   "metadata": {},
   "source": [
    "Jedyny klarowny rozdział miesięcy jest w wykresie area_log/DC. Według https://www.nwcg.gov/publications/pms437/cffdrs/fire-weather-index-system, DC to \"The Drought Code\" który wyznaczony jest na podstawie wysuszania się głębokich warstw gleby. Sensowne wydaje się powiązanie tego z miesiącami oraz z większymi pożarami."
   ]
  },
  {
   "cell_type": "code",
   "execution_count": null,
   "id": "alpine-fruit",
   "metadata": {},
   "outputs": [],
   "source": [
    "fig, (ax1, ax2, ax3) = plt.subplots(3, 1, figsize=(18, 9), sharex=True)\n",
    "sns.countplot(data = fires_data, x = \"day\", order = day_order, ax=ax1, color = \"tab:blue\")\n",
    "sns.barplot(x=\"day\", y=\"area\", order=day_order, data=fires_data, estimator=sum, ax=ax2, color = \"tab:blue\")\n",
    "sns.barplot(x=\"day\", y=\"area_log\", order=day_order, data=fires_data, estimator=sum, ax=ax3, color = \"tab:blue\")\n",
    "ax1.tick_params(\n",
    "    axis='x',         \n",
    "    which='both',      \n",
    "    bottom=False,      \n",
    "    labelbottom=False)\n",
    "ax2.tick_params(\n",
    "    axis='x',         \n",
    "    which='both',      \n",
    "    bottom=False,      \n",
    "    labelbottom=False)\n",
    "ax1.set(xlabel='')\n",
    "ax2.set(xlabel='')\n",
    "plt.suptitle(\"Count and sum of area and area in log(x+1) scale, by the day of the week\", y = 0.92)\n",
    "plt.show()"
   ]
  },
  {
   "cell_type": "markdown",
   "id": "hollywood-disney",
   "metadata": {},
   "source": [
    "W weekend zdarza się najwięcej pożarów, tak samo pokrywają one największą powierzchnię. Zapewne związane jest to z uczęszczaniem społeczeństwa w wycieczkach do parku, które z oczywistych powodów wydarzają się w weekendy."
   ]
  },
  {
   "cell_type": "code",
   "execution_count": null,
   "id": "automotive-excellence",
   "metadata": {},
   "outputs": [],
   "source": [
    "fig, ax = plt.subplots(1, 1, figsize=(15, 10))\n",
    "sns.kdeplot(data = fires_data, x = \"X\", y = \"Y\", color=\"black\", fill = True, cbar = True, ax = ax)\n",
    "ax.invert_yaxis()\n",
    "plt.title(\"Occurences of forest fires in the park area\")\n",
    "ticks = [1,2,3,4,5,6,7,8,9]\n",
    "plt.xticks(ticks)\n",
    "plt.yticks(ticks)\n",
    "plt.show()"
   ]
  },
  {
   "cell_type": "code",
   "execution_count": null,
   "id": "biblical-lobby",
   "metadata": {},
   "outputs": [],
   "source": [
    "fig, ax = plt.subplots(1, 1, figsize=(15, 10))\n",
    "sns.kdeplot(data = fires_data, x = \"X\", y = \"Y\", color=\"black\", fill = True, weights = \"area\", cbar = True, ax = ax)\n",
    "ax.invert_yaxis()\n",
    "plt.title(\"Distribution of forests\")\n",
    "ticks = [1,2,3,4,5,6,7,8,9]\n",
    "plt.xticks(ticks)\n",
    "plt.yticks(ticks)\n",
    "plt.show()"
   ]
  },
  {
   "cell_type": "markdown",
   "id": "intensive-indication",
   "metadata": {},
   "source": [
    "Mając te dwa wykresy oraz mape parku możemy sprawdzić które obszary doświadczają najwięcej i największe pożary. Mogą to być obszary najczęściej uczęszczane przez ludzi, najdalsze od zbiorników wodnych, itd. Brakuje nam danych by to dokładniej określić."
   ]
  },
  {
   "cell_type": "markdown",
   "id": "first-blend",
   "metadata": {},
   "source": [
    "## Mapa Parku"
   ]
  },
  {
   "cell_type": "markdown",
   "id": "classified-powder",
   "metadata": {},
   "source": [
    "Konwertowanie do pdf'a niestety usuwa mapę."
   ]
  },
  {
   "cell_type": "markdown",
   "id": "celtic-aurora",
   "metadata": {},
   "source": [
    "<img src=\"https://d3i71xaburhd42.cloudfront.net/0f529dc2b2b2bad22394454d4cba79e2c319f0b0/4-Figure2-1.png\" width=\"700\">"
   ]
  },
  {
   "cell_type": "markdown",
   "id": "subsequent-match",
   "metadata": {},
   "source": [
    "## Pandas-Profiling"
   ]
  },
  {
   "cell_type": "code",
   "execution_count": null,
   "id": "confirmed-bundle",
   "metadata": {},
   "outputs": [],
   "source": [
    "profile = ProfileReport(fires_data, title='Pandas Profiling Report', explorative=True)"
   ]
  },
  {
   "cell_type": "code",
   "execution_count": null,
   "id": "known-occasions",
   "metadata": {},
   "outputs": [],
   "source": [
    "profile.to_notebook_iframe()"
   ]
  },
  {
   "cell_type": "markdown",
   "id": "controversial-zimbabwe",
   "metadata": {},
   "source": [
    "Narzędzia automatycznej eksploracji danych mogą być użyteczne, jednak jako dodatek lub wstęp do porządnej analizy danych. Oczywiście wszystko w nich wykonuje się automatycznie, więc nie ma miejsca na skupianie się na odpowiednich zmiennych, wiedzy o danej dziedzinie która jest znacząca dla analizy, itd. Może przyspieszyć prostą lecz żmudną część robienia histogramów, .info/.describe."
   ]
  }
 ],
 "metadata": {
  "kernelspec": {
   "display_name": "WUM_python",
   "language": "python",
   "name": "wum_python"
  },
  "language_info": {
   "codemirror_mode": {
    "name": "ipython",
    "version": 3
   },
   "file_extension": ".py",
   "mimetype": "text/x-python",
   "name": "python",
   "nbconvert_exporter": "python",
   "pygments_lexer": "ipython3",
   "version": "3.9.1"
  }
 },
 "nbformat": 4,
 "nbformat_minor": 5
}
