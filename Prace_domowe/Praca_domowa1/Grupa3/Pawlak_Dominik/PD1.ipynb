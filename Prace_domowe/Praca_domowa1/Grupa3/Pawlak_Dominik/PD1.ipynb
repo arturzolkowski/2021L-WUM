{
 "cells": [
  {
   "cell_type": "markdown",
   "id": "transparent-strengthening",
   "metadata": {},
   "source": [
    "Dominik Pawlak\n",
    "Wstęp do Uczenia Maszynowego\n",
    "Praca Domowa 1"
   ]
  },
  {
   "cell_type": "markdown",
   "id": "bizarre-court",
   "metadata": {},
   "source": [
    "# Wczytanie bibliotek, zbioru danych i ich opisu "
   ]
  },
  {
   "cell_type": "code",
   "execution_count": null,
   "id": "honest-manner",
   "metadata": {},
   "outputs": [],
   "source": [
    "import pandas as pd\n",
    "import numpy as np\n",
    "import seaborn as sns\n",
    "import matplotlib.pyplot as plt\n",
    "import matplotlib"
   ]
  },
  {
   "cell_type": "code",
   "execution_count": null,
   "id": "careful-sense",
   "metadata": {},
   "outputs": [],
   "source": [
    "data = pd.read_csv('forest_fires_dataset.csv')\n",
    "data.head()"
   ]
  },
  {
   "cell_type": "code",
   "execution_count": null,
   "id": "early-swaziland",
   "metadata": {},
   "outputs": [],
   "source": [
    "desc = pd.read_csv('attributes_forest_fires.csv')\n",
    "desc"
   ]
  },
  {
   "cell_type": "markdown",
   "id": "designing-playing",
   "metadata": {},
   "source": [
    "# Wstępna eksploracja zbioru danych"
   ]
  },
  {
   "cell_type": "code",
   "execution_count": null,
   "id": "statistical-excitement",
   "metadata": {
    "scrolled": true
   },
   "outputs": [],
   "source": [
    "data.info()"
   ]
  },
  {
   "cell_type": "code",
   "execution_count": null,
   "id": "ahead-province",
   "metadata": {},
   "outputs": [],
   "source": [
    "data.describe()"
   ]
  },
  {
   "cell_type": "markdown",
   "id": "speaking-surprise",
   "metadata": {},
   "source": [
    "Wniosek: mamy dane kompletne, bez żadnych braków. W dwóch kolumnach mamy dane kategoryczne, oznaczające miesiące i dni tygodnia. Zamieńmy je na numer miesiąca / tygodnia, a następnie stwórzmy macierz korelacji dla zadanej ramki danych."
   ]
  },
  {
   "cell_type": "code",
   "execution_count": null,
   "id": "blessed-galaxy",
   "metadata": {},
   "outputs": [],
   "source": [
    "days = data['day']\n",
    "mon = data['month']\n",
    "\n",
    "for i in range(len(data)):\n",
    "    if data.iloc[i, 3]=='mon': data.iloc[i, 3]=1;\n",
    "    elif data.iloc[i, 3]=='tue': data.iloc[i, 3]=2;\n",
    "    elif data.iloc[i, 3]=='wed': data.iloc[i, 3]=3;\n",
    "    elif data.iloc[i, 3]=='thu': data.iloc[i, 3]=4;\n",
    "    elif data.iloc[i, 3]=='fri': data.iloc[i, 3]=5;\n",
    "    elif data.iloc[i, 3]=='sat': data.iloc[i, 3]=6;\n",
    "    elif data.iloc[i, 3]=='sun': data.iloc[i, 3]=7;\n",
    "    if data.iloc[i, 2]=='jan': data.iloc[i, 2]=1;\n",
    "    elif data.iloc[i, 2]=='feb': data.iloc[i, 2]=2;\n",
    "    elif data.iloc[i, 2]=='mar': data.iloc[i, 2]=3;\n",
    "    elif data.iloc[i, 2]=='apr': data.iloc[i, 2]=4;\n",
    "    elif data.iloc[i, 2]=='may': data.iloc[i, 2]=5;\n",
    "    elif data.iloc[i, 2]=='jun': data.iloc[i, 2]=6;\n",
    "    elif data.iloc[i, 2]=='jul': data.iloc[i, 2]=7;\n",
    "    elif data.iloc[i, 2]=='aug': data.iloc[i, 2]=8;\n",
    "    elif data.iloc[i, 2]=='sep': data.iloc[i, 2]=9;\n",
    "    elif data.iloc[i, 2]=='oct': data.iloc[i, 2]=10;\n",
    "    elif data.iloc[i, 2]=='nov': data.iloc[i, 2]=11;\n",
    "    elif data.iloc[i, 2]=='dec': data.iloc[i, 2]=12;"
   ]
  },
  {
   "cell_type": "code",
   "execution_count": null,
   "id": "equivalent-hydrogen",
   "metadata": {},
   "outputs": [],
   "source": [
    "corr = data.corr()\n",
    "f, ax = plt.subplots(figsize=(10, 8))\n",
    "ax = sns.heatmap(corr, \n",
    "            xticklabels=corr.columns.values,\n",
    "            yticklabels=corr.columns.values,\n",
    "           annot = True)"
   ]
  },
  {
   "cell_type": "markdown",
   "id": "present-medicine",
   "metadata": {},
   "source": [
    "Widzimy, że poszczególne kolumny danych są ze sobą słabo skorelowane, bowiem największy współczynnik korelacji między dwiema kolumnami wynosi tylko 0.68."
   ]
  },
  {
   "cell_type": "markdown",
   "id": "governing-information",
   "metadata": {},
   "source": [
    "Sprawdźmy jak poszczególne zmienne są skorelowane ze zmienną wynikową. W analizie zdecydowałem się pominąć kolumny położenia i daty."
   ]
  },
  {
   "cell_type": "code",
   "execution_count": null,
   "id": "criminal-montana",
   "metadata": {},
   "outputs": [],
   "source": [
    "sns.pairplot(data, y_vars=\"area\", x_vars=data.columns.values[4:9])\n",
    "sns.pairplot(data, y_vars=\"area\", x_vars=data.columns.values[9:])\n",
    "\n",
    "plt.show()"
   ]
  },
  {
   "cell_type": "markdown",
   "id": "grave-marine",
   "metadata": {},
   "source": [
    "Dla kolumn z datą stwórzmy histogramy."
   ]
  },
  {
   "cell_type": "code",
   "execution_count": null,
   "id": "suffering-transmission",
   "metadata": {
    "scrolled": true
   },
   "outputs": [],
   "source": [
    "data['month'].hist(bins = 40, figsize=(9, 6))\n",
    "plt.ylabel('Number of fires')\n",
    "plt.xlabel('Month');\n",
    "plt.xticks(range(1, 13))\n",
    "plt.show()\n",
    "\n",
    "data['day'].hist(bins = 40, figsize=(9, 6))\n",
    "plt.ylabel('Number of fires')\n",
    "plt.xlabel('Day of week');\n",
    "plt.xticks(range(1, 8))\n",
    "plt.show()"
   ]
  },
  {
   "cell_type": "markdown",
   "id": "imposed-greeting",
   "metadata": {},
   "source": [
    "Widzimy, że najwięcej pożarów występuje w sierpniu i wrześniu. Natomiast wśród dni tygodnia, żaden dzień się nie wyróżnia."
   ]
  },
  {
   "cell_type": "code",
   "execution_count": null,
   "id": "expanded-ferry",
   "metadata": {},
   "outputs": [],
   "source": [
    "df_months = data.loc[:, ['month', 'area']].groupby('month').mean()\n",
    "\n",
    "plt.bar(range(1, 13), df_months['area'])\n",
    "plt.xticks(range(1,13))\n",
    "plt.ylabel('Average area of fire')\n",
    "plt.xlabel('Month');\n",
    "plt.show()"
   ]
  },
  {
   "cell_type": "markdown",
   "id": "purple-processor",
   "metadata": {},
   "source": [
    "Wykres średniego rozmiaru pożaru w poszczególnych miesiącach pokazuje, że największe pożary są maju, na tym wykresie nie jest zauważalny żaden znany rozkład. Ciekawe również są \"0\" w styczniu i listopadzie."
   ]
  },
  {
   "cell_type": "markdown",
   "id": "expensive-ebony",
   "metadata": {},
   "source": [
    "# Zmienna area\n",
    "Przyjrzyjmy się bliżej najważniejszej zmiennej w naszej ramce"
   ]
  },
  {
   "cell_type": "code",
   "execution_count": null,
   "id": "direct-glossary",
   "metadata": {},
   "outputs": [],
   "source": [
    "print(data['area'].describe())\n",
    "\n",
    "plot_dens=sns.distplot(np.log1p(data['area']))\n",
    "plot_dens.set_title('Rozkład zmiennej area')\n",
    "plt.show()"
   ]
  },
  {
   "cell_type": "markdown",
   "id": "patient-freeware",
   "metadata": {},
   "source": [
    "Przedstawiony histogram jest\"mało przyjemny\". Zgodnie z radą autorów ramki, zlogarytmujmy jego osie."
   ]
  },
  {
   "cell_type": "code",
   "execution_count": null,
   "id": "plastic-seeker",
   "metadata": {},
   "outputs": [],
   "source": [
    "area = data['area']\n",
    "arealog = np.log(area+1)\n",
    "data['arealog'] = arealog\n",
    "\n",
    "plot_dens=sns.distplot(data['arealog'])\n",
    "plot_dens.set_title('Rozkład zmiennej area')\n",
    "plt.show()"
   ]
  },
  {
   "cell_type": "markdown",
   "id": "previous-strength",
   "metadata": {},
   "source": [
    "# Korelacje poszczególnych zmiennych ze zmienną area\n",
    "W poniższych testach wykorzystamy jedynie rekordy, w których zmienna *area* jest różna od 0"
   ]
  },
  {
   "cell_type": "code",
   "execution_count": null,
   "id": "clinical-coffee",
   "metadata": {},
   "outputs": [],
   "source": [
    "data0 = data.query(\"area != 0\")\n",
    "var = 'FFMC'\n",
    "plot_1 = pd.concat([data0['area'], data0[var]], axis=1)\n",
    "data0.plot.scatter(x=var, y='area', ylim=(0,1100));"
   ]
  },
  {
   "cell_type": "code",
   "execution_count": null,
   "id": "essential-former",
   "metadata": {},
   "outputs": [],
   "source": [
    "var = 'DMC'\n",
    "plot_1 = pd.concat([data0['area'], data0[var]], axis=1)\n",
    "data0.plot.scatter(x=var, y='area', ylim=(0,1100));"
   ]
  },
  {
   "cell_type": "code",
   "execution_count": null,
   "id": "modular-chemical",
   "metadata": {},
   "outputs": [],
   "source": [
    "var = 'DC'\n",
    "plot_1 = pd.concat([data0['DC'], data0[var]], axis=1)\n",
    "data0.plot.scatter(x=var, y='area', ylim=(0,1100));"
   ]
  },
  {
   "cell_type": "code",
   "execution_count": null,
   "id": "sacred-notebook",
   "metadata": {},
   "outputs": [],
   "source": [
    "var = 'ISI'\n",
    "plot_1 = pd.concat([data0['ISI'], data0[var]], axis=1)\n",
    "data0.plot.scatter(x=var, y='area', ylim=(0,1100));"
   ]
  },
  {
   "cell_type": "markdown",
   "id": "genuine-business",
   "metadata": {},
   "source": [
    "Niestety na powyższych wykresach nie widać na pierwszy rzut oka żadnej korelacji ani znanego rozkładu statystycznego. Sprawdźmy jeszcze czynniki atmosferyczne."
   ]
  },
  {
   "cell_type": "code",
   "execution_count": null,
   "id": "confused-place",
   "metadata": {},
   "outputs": [],
   "source": [
    "var = 'temp'\n",
    "plot_1 = pd.concat([data0['temp'], data0[var]], axis=1)\n",
    "data0.plot.scatter(x=var, y='area', ylim=(0,1100));"
   ]
  },
  {
   "cell_type": "code",
   "execution_count": null,
   "id": "optimum-dominican",
   "metadata": {},
   "outputs": [],
   "source": [
    "var = 'RH'\n",
    "plot_1 = pd.concat([data0['RH'], data0[var]], axis=1)\n",
    "data0.plot.scatter(x=var, y='area', ylim=(0,1100));"
   ]
  },
  {
   "cell_type": "code",
   "execution_count": null,
   "id": "necessary-china",
   "metadata": {},
   "outputs": [],
   "source": [
    "var = 'wind'\n",
    "plot_1 = pd.concat([data0['wind'], data0[var]], axis=1)\n",
    "data0.plot.scatter(x=var, y='area', ylim=(0,1100));"
   ]
  },
  {
   "cell_type": "code",
   "execution_count": null,
   "id": "leading-negative",
   "metadata": {},
   "outputs": [],
   "source": [
    "var = 'rain'\n",
    "plot_1 = pd.concat([data0['rain'], data0[var]], axis=1)\n",
    "data0.plot.scatter(x=var, y='area', ylim=(0,1100));"
   ]
  },
  {
   "cell_type": "markdown",
   "id": "thick-tradition",
   "metadata": {},
   "source": [
    "Wnioski z powyższych wykresów. Czynniki sprzyjające dużym pożarom:\n",
    "    -wysoka temperatura\n",
    "    -niska wilgotność\n",
    "    -średni wiatr, o wartości około 4-6 km/h\n",
    "    -brak opadów"
   ]
  },
  {
   "cell_type": "markdown",
   "id": "heated-compilation",
   "metadata": {},
   "source": [
    "Poniżej uproszczona mapka parku pokazująca rozmieszczenie i rozmiar pożaru"
   ]
  },
  {
   "cell_type": "code",
   "execution_count": null,
   "id": "premier-italian",
   "metadata": {},
   "outputs": [],
   "source": [
    "df_map = data0.loc[:, ['X', 'Y', 'area']].groupby(by = ['X', 'Y']).count().reset_index()\n",
    "plot_1 = plt.scatter(x = df_map['X'], y = df_map['Y'], s = df_map['area'])\n",
    "plt.show()"
   ]
  },
  {
   "cell_type": "markdown",
   "id": "cosmetic-binding",
   "metadata": {},
   "source": [
    "Na \"mapce\" widzimy, że najwięcej pożarów wybuchło w środkowej części parku."
   ]
  }
 ],
 "metadata": {
  "kernelspec": {
   "display_name": "Python 3",
   "language": "python",
   "name": "python3"
  },
  "language_info": {
   "codemirror_mode": {
    "name": "ipython",
    "version": 3
   },
   "file_extension": ".py",
   "mimetype": "text/x-python",
   "name": "python",
   "nbconvert_exporter": "python",
   "pygments_lexer": "ipython3",
   "version": "3.7.4"
  }
 },
 "nbformat": 4,
 "nbformat_minor": 5
}
