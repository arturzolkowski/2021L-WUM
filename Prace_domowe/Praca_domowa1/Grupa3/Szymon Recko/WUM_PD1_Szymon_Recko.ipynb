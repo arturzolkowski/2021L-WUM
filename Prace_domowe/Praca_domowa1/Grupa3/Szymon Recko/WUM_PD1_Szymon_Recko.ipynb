{
 "cells": [
  {
   "cell_type": "code",
   "execution_count": null,
   "metadata": {},
   "outputs": [],
   "source": [
    "import pandas as pd\n",
    "import numpy as np\n",
    "import csv\n",
    "from matplotlib import pyplot as plt\n",
    "import seaborn as sns\n",
    "from scipy import stats\n",
    "from pandas_profiling import ProfileReport\n",
    "import warnings\n",
    "warnings.filterwarnings('ignore')"
   ]
  },
  {
   "cell_type": "code",
   "execution_count": null,
   "metadata": {},
   "outputs": [],
   "source": [
    "forest_fires_df=pd.read_csv(\"forest_fires_dataset.csv\")\n",
    "cols=['FFMC', 'DMC', 'DC', 'ISI', 'temp', 'RH',\n",
    "       'wind', 'rain', 'area']"
   ]
  },
  {
   "cell_type": "code",
   "execution_count": null,
   "metadata": {},
   "outputs": [],
   "source": [
    "forest_fires_df.info()"
   ]
  },
  {
   "cell_type": "markdown",
   "metadata": {},
   "source": [
    "Widzimy, że dane nie są wybrakowane, czyli nie mamy żadnych null'i."
   ]
  },
  {
   "cell_type": "code",
   "execution_count": null,
   "metadata": {},
   "outputs": [],
   "source": [
    "forest_fires_df['area'].describe()"
   ]
  },
  {
   "cell_type": "markdown",
   "metadata": {},
   "source": [
    "Eksploracje zaczynamy od sprawdzenia informacji na temat 'area' czyli targetu, który chcielibyśmy modelować. Od razu widać, że większośc danych znajduje się w bliskiej odległości 0."
   ]
  },
  {
   "cell_type": "code",
   "execution_count": null,
   "metadata": {},
   "outputs": [],
   "source": [
    "sns.distplot(forest_fires_df['area'])\n",
    "print(\"Skośność: %f\" % forest_fires_df['area'].skew())\n",
    "print(\"Kurtoza: %f\" % forest_fires_df['area'].kurt())"
   ]
  },
  {
   "cell_type": "markdown",
   "metadata": {},
   "source": [
    "Wykres, jak można się było spodziewać jest bardzo specyficzny."
   ]
  },
  {
   "cell_type": "code",
   "execution_count": null,
   "metadata": {
    "scrolled": false
   },
   "outputs": [],
   "source": [
    "forest_fires_df['arealog'] = forest_fires_df['area'].map(lambda x: np.log(x+1))\n",
    "fig, (ax1,ax2)=plt.subplots(1,2,figsize=(16, 8))\n",
    "forest_fires_df['arealog'].plot.hist(ax=ax1)\n",
    "sns.distplot(forest_fires_df['arealog'],ax=ax2,hist=False)\n",
    "print(\"Skośność: %f\" % forest_fires_df['arealog'].skew())\n",
    "print(\"Kurtoza: %f\" % forest_fires_df['arealog'].kurt())"
   ]
  },
  {
   "cell_type": "markdown",
   "metadata": {},
   "source": [
    "Autorzy danych zasugerowali użycie log(x) na 'area', co wydaje się bardzo dobrym pomysłem do analizy tej danej."
   ]
  },
  {
   "cell_type": "code",
   "execution_count": null,
   "metadata": {},
   "outputs": [],
   "source": [
    "f, axs = plt.subplots(1,2,figsize=(14, 6))\n",
    "ax=sns.boxplot(x='month', y=\"arealog\", data=forest_fires_df,ax=axs[0],order=['jan','feb','mar','apr','may','jun','jul','aug','sep','oct','nov','dec'])\n",
    "plt.setp(ax.get_xticklabels(), rotation=45)\n",
    "ax2=sns.boxplot(x='day', y=\"arealog\", data=forest_fires_df,ax=axs[1],order=['mon','tue','wed','thu','fri','sat','sun'])"
   ]
  },
  {
   "cell_type": "code",
   "execution_count": null,
   "metadata": {},
   "outputs": [],
   "source": [
    "f, axs = plt.subplots(2,1,figsize=(14, 6))\n",
    "list_ordering = ['jan','feb','mar','apr','may','jun','jul','aug','sep','oct','nov','dec'] \n",
    "forest_fires_df['month'] = pd.Categorical(forest_fires_df[\"month\"], categories=list_ordering) \n",
    "sns.lineplot(x='month', y=\"arealog\", data=forest_fires_df,ax=axs[0])\n",
    "\n",
    "list_ordering = ['mon','tue','wed','thu','fri','sat','sun']\n",
    "forest_fires_df['day'] = pd.Categorical(forest_fires_df[\"day\"], categories=list_ordering) \n",
    "sns.lineplot(x='day', y=\"arealog\", data=forest_fires_df,ax=axs[1])"
   ]
  },
  {
   "cell_type": "markdown",
   "metadata": {},
   "source": [
    "Z boxplotów i lineplotów zrobionych na zmiennnych kategorycznych (miesiąc, dzień) nie widać jasnej zależności. Warto zauważyć relatywnie duży rozrzut w maju."
   ]
  },
  {
   "cell_type": "markdown",
   "metadata": {},
   "source": [
    "Warto jednak przyjżeć się jak rozkładają się cechy ciągłe, ponieważ już w tym miejscu może być widoczna jakaś zależność."
   ]
  },
  {
   "cell_type": "code",
   "execution_count": null,
   "metadata": {
    "scrolled": false
   },
   "outputs": [],
   "source": [
    "forest_fires_df.hist(figsize=(18, 12))\n",
    "plt.show()"
   ]
  },
  {
   "cell_type": "markdown",
   "metadata": {},
   "source": [
    "Na pierwszy rzut oka można zacząć już coś podejrzewać, ale trzeba oczywiście to dokładnie zbadać i do tego posłuży nam heatmapa."
   ]
  },
  {
   "cell_type": "code",
   "execution_count": null,
   "metadata": {},
   "outputs": [],
   "source": [
    "corrmat=forest_fires_df[['FFMC', 'DMC', 'DC', 'ISI', 'temp', 'RH','wind', 'rain', 'area','arealog']].corr()\n",
    "k = 10\n",
    "cols = corrmat.nlargest(k, 'arealog')['arealog'].index\n",
    "cm = np.corrcoef(forest_fires_df[cols].values.T)\n",
    "sns.set(font_scale=1.9)\n",
    "f, ax = plt.subplots(figsize=(12, 9))\n",
    "hm = sns.heatmap(cm, cbar=True, annot=True, square=True, fmt='.2f', annot_kws={'size': 20}, yticklabels=cols.values, xticklabels=cols.values)\n",
    "plt.show()"
   ]
  },
  {
   "cell_type": "markdown",
   "metadata": {},
   "source": [
    "Pierwsza rzecz, którą widzimy to to, że ani 'area', ani 'arealog' nie jest wyraźnie mocniej skorelowana z którąkolwiek  z innych cech. Druga rzecz jest taka, że na heatmapie z naniesionymi wartościami korelacji, można już bardziej zdecydowanie wskazać cechy na które trzeba zwrócić uwagę. "
   ]
  },
  {
   "cell_type": "code",
   "execution_count": null,
   "metadata": {},
   "outputs": [],
   "source": [
    "sns.set()\n",
    "cols=['FFMC', 'DMC', 'DC', 'ISI', 'temp', 'RH',\n",
    "       'wind', 'rain']\n",
    "sns.pairplot(forest_fires_df[cols])\n",
    "plt.show();"
   ]
  },
  {
   "cell_type": "markdown",
   "metadata": {},
   "source": [
    "Wiedząc już gdzie występują zależności możemy teraz spróbować znaleźć ich 'kształt' np. punkty na wykresie DC i DMC wyglądają jakby były skupione wokół jakiejś prostej, wykres FFMC i ISI wygląda podobnie do log(x)."
   ]
  },
  {
   "cell_type": "code",
   "execution_count": null,
   "metadata": {
    "scrolled": false
   },
   "outputs": [],
   "source": [
    "ProfileReport(forest_fires_df)"
   ]
  },
  {
   "cell_type": "markdown",
   "metadata": {},
   "source": [
    "Takie narzędzie wydaje się bardzo przydatne w podstawowej analizie, ale na pewno nie jest wystarczające. Normalnie zobaczylibyśmy więcej wykresów takich jak boxploty i barploty. Podejrzewam również, że przy dużych zbiorach danych tworzenie takiego raportu może zająć znaczącą ilość czasu."
   ]
  }
 ],
 "metadata": {
  "kernelspec": {
   "display_name": "Python 3",
   "language": "python",
   "name": "python3"
  },
  "language_info": {
   "codemirror_mode": {
    "name": "ipython",
    "version": 3
   },
   "file_extension": ".py",
   "mimetype": "text/x-python",
   "name": "python",
   "nbconvert_exporter": "python",
   "pygments_lexer": "ipython3",
   "version": "3.8.5"
  }
 },
 "nbformat": 4,
 "nbformat_minor": 4
}
