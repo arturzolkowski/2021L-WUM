{
 "cells": [
  {
   "cell_type": "markdown",
   "id": "ordered-texture",
   "metadata": {},
   "source": [
    "# Praca domowa 1\n",
    "## Bartosz Siński "
   ]
  },
  {
   "cell_type": "code",
   "execution_count": null,
   "id": "featured-subject",
   "metadata": {},
   "outputs": [],
   "source": [
    "import pandas as pd\n",
    "import numpy as np\n",
    "import seaborn as sns\n",
    "from matplotlib import pyplot as plt\n",
    "from pandas_profiling import ProfileReport\n",
    "import datetime as dt\n",
    "from datetime import datetime  "
   ]
  },
  {
   "cell_type": "code",
   "execution_count": null,
   "id": "seeing-commercial",
   "metadata": {},
   "outputs": [],
   "source": [
    "fires_df = pd.read_csv(\"./src/forest_fires_dataset.csv\")"
   ]
  },
  {
   "cell_type": "code",
   "execution_count": null,
   "id": "operational-cedar",
   "metadata": {},
   "outputs": [],
   "source": [
    "fires_df.head()"
   ]
  },
  {
   "cell_type": "code",
   "execution_count": null,
   "id": "challenging-government",
   "metadata": {
    "scrolled": true
   },
   "outputs": [],
   "source": [
    "fires_df.info()"
   ]
  },
  {
   "cell_type": "code",
   "execution_count": null,
   "id": "persistent-prototype",
   "metadata": {
    "scrolled": true
   },
   "outputs": [],
   "source": [
    "fires_df.describe()"
   ]
  },
  {
   "cell_type": "code",
   "execution_count": null,
   "id": "damaged-feeding",
   "metadata": {
    "scrolled": true
   },
   "outputs": [],
   "source": [
    "fires_df.isnull().sum()"
   ]
  },
  {
   "cell_type": "markdown",
   "id": "optical-romantic",
   "metadata": {},
   "source": [
    "Po wstępnym przejrzeniu naszych danych widzimy, że raczej będzie problemu z brakujacymi danymi. Jednak już teraz widać, że rozkład wartości przy niektórych atrybutach będzie daleki od normalnego. "
   ]
  },
  {
   "cell_type": "code",
   "execution_count": null,
   "id": "knowing-manchester",
   "metadata": {
    "scrolled": false
   },
   "outputs": [],
   "source": [
    "fires_subset1 = fires_df[['RH','FFMC','DMC','DC','ISI','temp','wind','rain','area']]\n",
    "corrmat = fires_subset1.corr()\n",
    "f, ax = plt.subplots(figsize=(12, 9))\n",
    "sns.heatmap(corrmat, vmax=.8, square=True);"
   ]
  },
  {
   "cell_type": "markdown",
   "id": "comparable-technical",
   "metadata": {},
   "source": [
    "Widzimy, że najlepsze korelacje zachodzą pomiędzy poszczególnymi wyznacznikami wiglotności lasu: \n",
    "* FFMC - wilgotność ściółki\n",
    "* DMC - wilgotnośc wartwy pod ściółką\n",
    "* DC - wilgotnośc gleby\n",
    "\n",
    "Nie jest to zbytnio odkrywcze jednak dobrze widac także zależnośći pomiędzy wspomnianymi wcześniej wyznacznikami, a temperaturą danego dnia i ryzykiem rozprzestrzenienia się pożaru. Przyjrzymy się bliżej temu jaśniejszemu kwadratowi."
   ]
  },
  {
   "cell_type": "code",
   "execution_count": null,
   "id": "trying-brother",
   "metadata": {
    "scrolled": true
   },
   "outputs": [],
   "source": [
    "fires_subset = fires_df[['FFMC','DMC','DC','ISI','temp']]\n",
    "cm = np.corrcoef(fires_subset.values.T)\n",
    "sns.set(font_scale=1.25)\n",
    "hm = sns.heatmap(cm, cbar=True, annot=True, square=True, fmt='.2f', annot_kws={'size': 10}, yticklabels=fires_subset.columns, xticklabels=fires_subset.columns)\n",
    "plt.show()"
   ]
  },
  {
   "cell_type": "markdown",
   "id": "together-connection",
   "metadata": {},
   "source": [
    "Zmiennymi najbardziej skorelowanymi są DC i DMC. Najgorzej skorelowana z resztą wydaje się być zmienna ISI jednak wyjątkiem jest FFMC, która ma z ISI ma współczynnik korelacji 0.53. "
   ]
  },
  {
   "cell_type": "code",
   "execution_count": null,
   "id": "every-validity",
   "metadata": {
    "scrolled": false
   },
   "outputs": [],
   "source": [
    "sns.set()\n",
    "sns.pairplot(fires_subset, height = 5)\n",
    "plt.show();"
   ]
  },
  {
   "cell_type": "markdown",
   "id": "stainless-integral",
   "metadata": {},
   "source": [
    "Widzimy, że dla FFMC i ISI istineją rekordy o wartościach mocno odstających"
   ]
  },
  {
   "cell_type": "code",
   "execution_count": null,
   "id": "subjective-anchor",
   "metadata": {},
   "outputs": [],
   "source": [
    "isi_max = fires_subset.loc[fires_subset['ISI']==fires_subset['ISI'].max()]\n",
    "isi_max"
   ]
  },
  {
   "cell_type": "code",
   "execution_count": null,
   "id": "advanced-plenty",
   "metadata": {},
   "outputs": [],
   "source": [
    "ffmc_min = fires_subset.loc[fires_subset['FFMC']==fires_subset['FFMC'].min()]\n",
    "ffmc_min"
   ]
  },
  {
   "cell_type": "markdown",
   "id": "compatible-worcester",
   "metadata": {},
   "source": [
    "W większości przypadku nie podążają one z pożądanymi przez nas trendami więc usuńmy je i zobaczmy czy zależności będą wyglądać inaczej."
   ]
  },
  {
   "cell_type": "code",
   "execution_count": null,
   "id": "imperial-indication",
   "metadata": {},
   "outputs": [],
   "source": [
    "fires_subset = fires_subset.loc[(fires_subset['ISI']!=fires_subset['ISI'].max()) & (fires_subset['FFMC']!=fires_subset['FFMC'].min())]\n",
    "sns.set()\n",
    "sns.pairplot(fires_subset, height = 5)\n",
    "plt.show();"
   ]
  },
  {
   "cell_type": "markdown",
   "id": "adjustable-milwaukee",
   "metadata": {},
   "source": [
    "Najbliżej rozkładu rozmalnego wydają się być wartośći temp i ISI. Potwierdzają się także nasze przewidywania, że najlepsze zależności widać pomiędzy DMC i DC. Przyjrzyjmy się teraz histogramom ICI i temp."
   ]
  },
  {
   "cell_type": "code",
   "execution_count": null,
   "id": "widespread-scroll",
   "metadata": {
    "scrolled": false
   },
   "outputs": [],
   "source": [
    "sns.displot(fires_subset, x=\"ISI\",kde=True)"
   ]
  },
  {
   "cell_type": "markdown",
   "id": "regulated-insurance",
   "metadata": {},
   "source": [
    "Widzimy, że rozkład jest leptokurtyczny i prawoskośny. "
   ]
  },
  {
   "cell_type": "code",
   "execution_count": null,
   "id": "equipped-creation",
   "metadata": {},
   "outputs": [],
   "source": [
    "sns.displot(fires_subset, x=\"temp\",kde=True)"
   ]
  },
  {
   "cell_type": "markdown",
   "id": "reliable-spain",
   "metadata": {},
   "source": [
    "Widzimy, że rozkład jest leptokurtyczny i lewośkośny. Jednak jest on najblizszy rozkładowani normalnemu z badanych przez nas zmiennych. Dodatkowo poza badanym przez nas podbiorem danych sprawdzimy zależności pomiędzy wiatrem, a współczynnikiem ISI oznaczającym ryzyko rozprzestrzeniania się, które uważamy, że pomimo niskiego współczynnika korelacji powinny być od siebie zależne."
   ]
  },
  {
   "cell_type": "code",
   "execution_count": null,
   "id": "timely-expansion",
   "metadata": {
    "scrolled": true
   },
   "outputs": [],
   "source": [
    "sns.scatterplot(data = fires_df,x=\"wind\",y=\"ISI\")"
   ]
  },
  {
   "cell_type": "markdown",
   "id": "fancy-edmonton",
   "metadata": {},
   "source": [
    "Niestety nasze założenie się nie sprawdziło i żadnej zależności nie widać. Sprawdźmy jak pomiędzy miesiącami zmieniała się pogoda (temperatura, deszcz, wiatr) i czy wpływało to na obszar spalonego lasu."
   ]
  },
  {
   "cell_type": "code",
   "execution_count": null,
   "id": "suffering-astronomy",
   "metadata": {
    "scrolled": false
   },
   "outputs": [],
   "source": [
    "fires_df_grouped = fires_df[['month','rain','area','wind','temp']].groupby('month')\n",
    "fires_df_grouped = fires_df_grouped.mean()\n",
    "fires_df_grouped = fires_df_grouped.reset_index()\n",
    "fires_df_grouped['month'] = pd.to_datetime(fires_df_grouped['month'],format=\"%b\")\n",
    "fires_df_grouped = fires_df_grouped.sort_values(by='month') \n",
    "fires_df_grouped['rain'] = fires_df_grouped['rain'].div(fires_df_grouped['rain'].iloc[2])\n",
    "fires_df_grouped['temp'] = fires_df_grouped['temp'].div(fires_df_grouped['temp'].iloc[0])\n",
    "fires_df_grouped['wind'] = fires_df_grouped['wind'].div(fires_df_grouped['wind'].iloc[0])\n",
    "fires_df_grouped['area'] = fires_df_grouped['area'].div(fires_df_grouped['area'].iloc[1])\n",
    "fires_df_long = pd.melt(fires_df_grouped,id_vars =['month'],value_vars=['rain','area','wind','temp'])\n",
    "fires_df_long['month'] = fires_df_long['month'].dt.strftime('%b')\n",
    "sns.relplot(data=fires_df_long,kind=\"line\",x=\"month\",y='value',hue=\"variable\")"
   ]
  },
  {
   "cell_type": "markdown",
   "id": "gross-impossible",
   "metadata": {},
   "source": [
    "Powyższy wykres przedstawia jak zmieniały się poszczególne wskaźniki pogodowe w danych miesiącach. Miedzy innymi widać, że w sierpniu gdy padało najwięcej deszczu, zmniejszył sie obszar spalonego lasu. Teraz sprawdźmy gdzie spłoneło go najwięcej."
   ]
  },
  {
   "cell_type": "code",
   "execution_count": null,
   "id": "authorized-insulin",
   "metadata": {
    "scrolled": false
   },
   "outputs": [],
   "source": [
    "fires_area = fires_df[[\"X\", \"Y\", \"area\"]]\n",
    "fires_area = fires_area.groupby([\"X\",\"Y\"])\n",
    "fires_area = fires_area.sum()\n",
    "fires_area = fires_area.reset_index()\n",
    "fires_area= fires_area.pivot(\"X\",\"Y\",\"area\")\n",
    "fires_area= fires_area.sort_index(ascending=False)\n",
    "sns.heatmap(fires_area)"
   ]
  },
  {
   "cell_type": "markdown",
   "id": "coupled-animal",
   "metadata": {},
   "source": [
    "X i Y to koordynaty, więc widzimy, że najwięcej pożarów było  w centrum parku. Teraz do eksploracji skorzystamy z pandas profiling:"
   ]
  },
  {
   "cell_type": "code",
   "execution_count": null,
   "id": "southern-transaction",
   "metadata": {},
   "outputs": [],
   "source": [
    "profile = ProfileReport(fires_df, title='Fires Data Exploration')\n",
    "profile"
   ]
  },
  {
   "cell_type": "markdown",
   "id": "controlled-bankruptcy",
   "metadata": {},
   "source": [
    "Narzędzie pandas-profiling bardzo ułatwiwa eksploracje danych. Największą jego zaletą jest interaktywne szukanie zależności pomiędzy zmiennymi oraz podsumowania wraz ze szczegółami dla każdej zmiennej. Bardzo przyspieszyło to analize naszego zbioru danych. Do ograniczeń należy między innymi brak możliwości porównywania między sobą zmodyfikowanych zbiorów danych na przykład zbioru oryginalnego ze zbiorem z usuniętymi obserwacjami odstającymi. "
   ]
  }
 ],
 "metadata": {
  "kernelspec": {
   "display_name": "Python 3",
   "language": "python",
   "name": "python3"
  },
  "language_info": {
   "codemirror_mode": {
    "name": "ipython",
    "version": 3
   },
   "file_extension": ".py",
   "mimetype": "text/x-python",
   "name": "python",
   "nbconvert_exporter": "python",
   "pygments_lexer": "ipython3",
   "version": "3.8.8"
  }
 },
 "nbformat": 4,
 "nbformat_minor": 5
}
