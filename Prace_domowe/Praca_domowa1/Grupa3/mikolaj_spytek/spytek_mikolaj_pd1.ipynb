{
 "cells": [
  {
   "cell_type": "code",
   "execution_count": null,
   "id": "designing-friday",
   "metadata": {},
   "outputs": [],
   "source": [
    "import pandas as pd\n",
    "import numpy as np\n",
    "import matplotlib.pyplot as plt\n",
    "import seaborn as sns\n",
    "from pandas_profiling import ProfileReport\n",
    "sns.set()"
   ]
  },
  {
   "cell_type": "markdown",
   "id": "committed-submission",
   "metadata": {},
   "source": [
    "# Praca domowa 1\n",
    "\n",
    "Eksploracja zbioru danych dotyczącego pożarów lasów w północno-wschodnej Portugalii. O parku można poczytać sobie [tutaj](https://amontesinho.pt/en/the-region/montesinho-natural-park/), jest też [mapka](https://www.montesinho.com/files/mapamontesinho.pdf), o której mowa w opisie kolumn na stronie, z której pobraliśmy dataset."
   ]
  },
  {
   "cell_type": "code",
   "execution_count": null,
   "id": "minor-yugoslavia",
   "metadata": {},
   "outputs": [],
   "source": [
    "#wczytanie danych do ramki\n",
    "fires_df = pd.read_csv(\"https://lovespreadsheet-tutorials.s3.amazonaws.com/APIDatasets/forest_fires_dataset.csv\")\n",
    "\n",
    "#informacje o kolumnach\n",
    "fires_df.info()"
   ]
  },
  {
   "cell_type": "markdown",
   "id": "several-draft",
   "metadata": {},
   "source": [
    "Zmienną wyjaśnianą w tym przypadku jest `area`, czyli 12-sta kolumna ramki, a pozostałe kolumny to zmienne wyjaśniające.\n",
    "\n",
    "Zauważamy też od razu, że wszystkie pola w ramce danych są niepuste, więc nie musimy martwić się ani zajmować wypełnianiem braków.\n",
    "\n",
    "Warto sprawdzić co poszczególne zmienne określają. W szczególności te, które nazwane są tylko tajemniczym skrótem. Informacje o systemie Fire Weather Index, zaczerpnąłem ze strony [https://cwfis.cfs.nrcan.gc.ca/background/summary/fwi](https://cwfis.cfs.nrcan.gc.ca/background/summary/fwi). Mimo, że jest to strona organizacji kanadyjskiej, a mamy analizować dane dotyczące Portugalii, to sam system FWI jest światowym standardem, więc opisy poszczególnych wskaźników powinny być spójne. Na tej stronie były opisane w sposób najbardziej przystępny.\n",
    "\n",
    "Mamy więc:\n",
    "\n",
    "- `X`, `Y` (zmienne kategoryczne) - są to współrzędne obszaru w parku Montesinho, określają więc o której części analizowanego obszaru mamy dane w tym rekordzie. Obie zmenne to liczby naturalne do 9;\n",
    "- `month` (zmienna kategoryczna) - słowna nazwa miesiąca;\n",
    "- `day` (zmienna kategoryczna) - słowna nazwa dnia tygodnia;\n",
    "- `FFMC` (zmienna numeryczna) - skrót rozwija się do Fine Fuel Moisture Code, jest to wskaźnik, który określa wilgotność ściółki w lesie. Im wyższa jego wartość, tym bardziej mokra ściółka, z czego możemy wnioskować, że być może tym mniejsze ryzyko pożaru;\n",
    "- `DMC` (zmienna numeryczna) - ten skrót rozwija się do Duff Moisture Code. Wskaźnik ten określa wilgotność warstw organicznych średniej głębokości, bierze więc pod uwagę dłuższy trend w suchości podłoża. Aby głębsze warstwy wyschły, brak opadów musi być ciągły. Tak jak z poprzednim wskaźnikiem większe wartości oznaczają większą wilgotność podłoża;\n",
    "- `DC` (zmienna numeryczna) - ten wskaźnik, którego pełna nazwa to Drought Code, jest bardzo podobny do poprzednich dwóch. Określa on jednak wilgotność w głębokich warstwach podłoża. Może więc być używany jako indykator wilgotności na poziomie pór roku, a nie poszczególnych dni, czy tygodni. Podobnie do poprzednich dwóch zmiennych, wyższe wartości oznaczają większą wilgotność podłoża;\n",
    "- `ISI` (zmienna numeryczna) - ostatni ze wskaźników pochodzących z systemu FWI. Ta zmienna (Initial Spread Index) jest liczbą określającą jak szybko pożar będzie się prawdopodobnie rozprzestrzeniał, określoną na podstawie warunków atmosferycznych. Im wyższe wartości, tym ogień prawdopodobnie będzie się szybciej rozszerzał;\n",
    "- `temp` (zmienna numeryczna) - temperatura w stopniach Celsiusza;\n",
    "- `RH` (zmienna numeryczna) - względna wilgotnośc powietrza w %;\n",
    "- `wind` (zmienna numeryczna) - prędkość wiatru w km/h;\n",
    "- `rain` (zmienna numeryczna) - ilość opadów w mm/m$^2$.\n",
    "\n",
    "Natomiast zmienna wyjaśniana `area` to obszar spalonego lasu w hektarach.\n",
    "\n",
    "Z opisu wyznaczania wskaźników z systemu FWI dowiadujemy się jeszcze, że większość z nich, jako składową zawiera w sobie, temperaturę, względną wilgotność, prędkość wiatru i poziom opadów. Ponieważ jednak mamy też te dane w ramce, przy dalszej analizie trzeba wziąć pod uwagę fakt, że są one zależne, nawet jeśli nie będzie to prosta liniowa, czy kwadratowa zależność, którą możemy zobaczyć na wykresie.\n",
    "\n",
    "Na podstawie tego krótkiego rozeznania możemy dojść też do wniosku, że z pierwszych trzech wskaźników z FWI, to prawdopodobnie ten pierwszy, czyli FFMC, będzie najlepiej nam określał ryzyko pożaru, gdyż to wierzchnia warstwa ściółki jest narażona na zaprószenie ognia."
   ]
  },
  {
   "cell_type": "markdown",
   "id": "stopped-sandwich",
   "metadata": {},
   "source": [
    "**W tym miejscu warto wspomnieć, że wszystko, czego dokonuję poniżej raczej powinno być robione już po podziale zbioru, wyłącznie na zbiorze treningowym, a nie na całym datasecie. Jednak jako, że nic na ten temat nie było wspomniane w opisie pracy domowej, oraz nie omawialiśmy jeszcze metod podziału zbioru, zaznaczam tu tylko, że traktuję cały zbiór jako zbiór treningowy, zakładając, że mamy gdzieś odłożony już zbiór testowy.**"
   ]
  },
  {
   "cell_type": "code",
   "execution_count": null,
   "id": "responsible-video",
   "metadata": {},
   "outputs": [],
   "source": [
    "#podstawowe wartości opisujące poszczególne zmienne\n",
    "fires_df.describe()"
   ]
  },
  {
   "cell_type": "markdown",
   "id": "controversial-feature",
   "metadata": {},
   "source": [
    "Zarówno z powyższej tabelki, jak i z opisu zbioru danych wynika, że nasza zmienna wyjaśniana jest bardzo skośna w kierunku zera. Gdybyśmy więc mieli trenować jakiś model, to prawdopodobnie łatwiej by było przewidzieć $\\log(\\mathrm{area})$, niż samo $\\mathrm{area}$. Pokazują to następujące histogramy:"
   ]
  },
  {
   "cell_type": "code",
   "execution_count": null,
   "id": "anonymous-shooting",
   "metadata": {},
   "outputs": [],
   "source": [
    "fig, (ax1, ax2) = plt.subplots(1,2, figsize=(15,5))\n",
    "ax1.hist(fires_df['area'])\n",
    "ax1.set_title(\"Histogram zmiennej `area`\")\n",
    "ax2.hist(np.log1p(fires_df['area']))\n",
    "ax2.set_title(\"Histogram logarytmu zmiennej `area`\")\n",
    "plt.show()"
   ]
  },
  {
   "cell_type": "code",
   "execution_count": null,
   "id": "scenic-observer",
   "metadata": {
    "scrolled": false
   },
   "outputs": [],
   "source": [
    "#popatrzmy na heatmapę korelacji poszczególnych zmiennych\n",
    "plt.figure(figsize=(10,10))\n",
    "sns.heatmap(fires_df.corr(), square=True, annot=True, fmt=\".2f\")\n",
    "plt.show()"
   ]
  },
  {
   "cell_type": "markdown",
   "id": "elder-skill",
   "metadata": {},
   "source": [
    "Wyraźnie widać, że wsystkie wskaźniki pochodzące z systemu FWI są ze sobą dość znacząco skorelowane, więc do modelu prawdopodobnie powinniśmy wybrać tylko jeden z nich, są one dodatkowo skorelowane z temperaturą, więc jeśli zdecydujemy się wziąć któryś z tych wskaźników, to prawdopodobnie nie powinniśmy brać kolumny z temperaturą.\n",
    "\n",
    "Poza nimi, na pierwszy rzut oka wyróżniają się jeszcze dość silne korelacje: wilgotności wzgldnej z FFMC, oraz wilgotności względnej z temperaturą. To też trzeba mieć na uwadze wybierając kolumny do trenowania."
   ]
  },
  {
   "cell_type": "markdown",
   "id": "pleased-dragon",
   "metadata": {},
   "source": [
    "Oprócz takiej prostej heatmapy, warto poszukać bardziej skomplikowanych zależności. Przecież korelacja Pearsona nie powie nam nic, jeśli zmienne pozostaną powiązane np. kwadratowo, czy logarytmicznie."
   ]
  },
  {
   "cell_type": "code",
   "execution_count": null,
   "id": "historic-geology",
   "metadata": {},
   "outputs": [],
   "source": [
    "# zobaczmy, jak zmienne wyjaśniające są ze sobą powiązane\n",
    "# sns.pairplot(fires_df.drop('area', axis=1))  # nie pokazuję tego wykresu bo następny jest podobny\n",
    "\n",
    "# Przede wszystkim z tych wykresów widzimy, że współrzędne `X` i `Y` nie mówią nam nic, ponieważ wyglądają na zupełnie \n",
    "# losowo rozrzucone jeśli mamy kilka rekordów na temat tego samego obszaru, to są nałożone na siebie\n",
    "# Aby nie utrudniały więc dalszej analizy, zróbmny taki sam wykres tylko bez tych zmiennych.\n",
    "sns.pairplot(fires_df.drop(['area', \"X\", \"Y\"], axis=1))\n",
    "plt.show()"
   ]
  },
  {
   "cell_type": "markdown",
   "id": "indoor-token",
   "metadata": {},
   "source": [
    "Jest już lepiej, łatwiej się przyglądać zależnościom. Przeszkadza jeszcze tylko jedna rzecz. W szczególności w czwartym i ostatnim wierszu widzimy pojedynczą obserwację odstającą, o kilka rzędów wielkości od pozostałych. Przez nią zaburzona jest skala wykresu i nie do końca możemy dobrze ocenić korelację. Wiec na potrzeby tej analizy, ukryjemy je, aby łatwiej było przyglądać się wykresom."
   ]
  },
  {
   "cell_type": "code",
   "execution_count": null,
   "id": "efficient-exemption",
   "metadata": {},
   "outputs": [],
   "source": [
    "dropped_columns = fires_df.drop(['area', \"X\", \"Y\"], axis=1)\n",
    "hidden_outliers = dropped_columns.loc[(dropped_columns['rain']<=6) & (dropped_columns['ISI']<40)]\n",
    "\n",
    "sns.pairplot(hidden_outliers)\n",
    "plt.show()"
   ]
  },
  {
   "cell_type": "markdown",
   "id": "advance-optimum",
   "metadata": {},
   "source": [
    "Z tych wykresów widzimy, że zmienne nie są ze sobą skorelowane w jakiś bardziej skomplikowany sposób, ale potwierdzają się też nasze przypuszczenia, które wysnuliśmy na podstawie korelacji Pearsona. Widzimy, że bardzo mocno powiązane są ze sobą współczynniki z FWI. Widzimy też, że ten, który na początku wydawał się nam najodpowiedniejszy (FFMC) do modelowania spalonej powierzchni jest silnie i prawie liniowo skorelowany z **prawie wszystkimi** innymi zmiennymi wyjaśniającymi, co jest dość problematyczne - jeśli weźmiemy do trenowania tę kolumnę, to nie powinniśmy brać innych z nią zależnych, czyli prawie żadnych. A trenowanie modelu na jednej zmiennej wydaje się być jednak trochę komiczne i niepraktyczne.\n",
    "\n",
    "Możemy spróbować kilku wykresom przyjrzeć się bliżej. Pokażę tu dwa wykresy zmiennych o dużej korelacji:"
   ]
  },
  {
   "cell_type": "code",
   "execution_count": null,
   "id": "sudden-football",
   "metadata": {},
   "outputs": [],
   "source": [
    "fig, (ax1, ax2) = plt.subplots(1,2, figsize=(16,8))\n",
    "sns.scatterplot(data=fires_df, x=\"temp\", y=\"FFMC\", ax=ax1)\n",
    "sns.scatterplot(data=fires_df, x=\"RH\", y=\"temp\", ax=ax2)\n",
    "plt.show()"
   ]
  },
  {
   "cell_type": "markdown",
   "id": "olympic-palace",
   "metadata": {},
   "source": [
    "Warto też popatrzeć na informację jak przedstawiało się rozmieszczenie pożarów - informacja, której na powyższych wykresach nie moglibyśmy zobaczyć:"
   ]
  },
  {
   "cell_type": "code",
   "execution_count": null,
   "id": "reported-aurora",
   "metadata": {},
   "outputs": [],
   "source": [
    "plt.figure(figsize=(10,8))\n",
    "sns.scatterplot(data=fires_df, x=\"X\", y=\"Y\", size=\"area\", sizes=(20, 2000), legend=None, alpha=0.5)\n",
    "plt.show()"
   ]
  },
  {
   "cell_type": "markdown",
   "id": "parallel-refund",
   "metadata": {},
   "source": [
    "Widzimy, że bardzo ścicłych zależności nie ma, lecz niektóre obszary płoną częściej, możemy użyć tych zmiennych do naszego modelu.\n",
    "\n",
    "Kolejnym krokiem byłoby więc sprawdzenie, jak zmienne wyjaśniające są powiązane ze zmienną wyjaśnianą, ale popatrzymy na logarytm powierzchni, tak jak zasugerował autor zbioru danych. Jeśli tego nie zrobimy, to prawie nic nie zauważymy. Sporzymy na scatterploty, a dla zmiennych kategorycznych dodatkowo na boxploty:"
   ]
  },
  {
   "cell_type": "code",
   "execution_count": null,
   "id": "weighted-august",
   "metadata": {},
   "outputs": [],
   "source": [
    "fires_df[\"logarea\"] = np.log1p(fires_df[\"area\"])\n",
    "sns.pairplot(fires_df, y_vars=\"logarea\", x_vars=fires_df.columns.values[:7])\n",
    "sns.pairplot(fires_df, y_vars=\"logarea\", x_vars=fires_df.columns.values[7:])\n",
    "\n",
    "plt.show()"
   ]
  },
  {
   "cell_type": "code",
   "execution_count": null,
   "id": "mineral-reminder",
   "metadata": {},
   "outputs": [],
   "source": [
    "fig, axes = plt.subplots(2,2, figsize=(15,15))\n",
    "sns.boxplot(data=fires_df, x=\"month\", y=\"logarea\", ax = axes[0,0], order=['jan', 'feb', 'mar', 'apr', 'may','jun','jul','aug','sep','oct','nov','dec'])\n",
    "sns.boxplot(data=fires_df, x=\"day\", y=\"logarea\", ax= axes[0,1], order=['mon','tue', 'wed', 'thu', 'fri', 'sat', 'sun'])\n",
    "sns.boxplot(data=fires_df, x=\"X\", y=\"logarea\", ax= axes[1,0])\n",
    "sns.boxplot(data=fires_df, x=\"Y\", y=\"logarea\", ax= axes[1,1])\n",
    "\n",
    "plt.show()"
   ]
  },
  {
   "cell_type": "markdown",
   "id": "voluntary-mechanics",
   "metadata": {},
   "source": [
    "Niestety widzimy, że z danych nie wynika nic oczywistego. Na pewno żadna ze zmiennych wyjaśniających nie ma prostej zależności ze zmienną wyjaśnianą. \n",
    "Możemy metodą eliminacji odrzucać poszczególne zmienne. \n",
    "- `X`, `Y`, oraz `day` wydają się być równomiernie rozłożone więc pewnie nie dadzą nam dobrej predykcji. Z nich rezygnujemy.\n",
    "- `rain` również wydaje się nic nie mówić o powierzchni spalonego lasu. Większość danych w tej kolumnie to zera, albo wartości bardzo bliskie\n",
    "\n",
    "Nie nasuwa nam się jasny podzbiór zmiennych, których powinniśmy użyć do uczenia modelu. Możemy jednak spróbować kilku różnych i popatrzeć na wyniki.  Moje propozycje to:\n",
    "\n",
    "- Zestaw I: `month`, `temp`, `RH`, `wind`.\n",
    "- Zestaw II: `X`, `Y`, `month`, `DC`, `ISI`.\n",
    "- Zestaw III: `X`, `Y`, `wind`, `DMC`, `temp`.\n"
   ]
  },
  {
   "cell_type": "markdown",
   "id": "chinese-image",
   "metadata": {},
   "source": [
    "## Pakiet do automatycznej eksploracji\n",
    "\n",
    "Użyję pakietu `pandas_profiling`, do przeprowadzenia automatycznej eksploracji. Można przewidywać, że część pracy, którą wykonaliśy ręcznie będzie zrobiona szybciej, i mniejszym kosztem, lecz pewnie będą jakieś wady tego podejścia."
   ]
  },
  {
   "cell_type": "code",
   "execution_count": null,
   "id": "worth-engineering",
   "metadata": {},
   "outputs": [],
   "source": [
    "profile = ProfileReport(fires_df, title=\"Pandas Profiling Report\")\n",
    "# polecenie do wyświelenia raportu w jupyterze\n",
    "profile.to_notebook_iframe()"
   ]
  },
  {
   "cell_type": "code",
   "execution_count": null,
   "id": "monthly-tribune",
   "metadata": {},
   "outputs": [],
   "source": [
    "# ponieważ oddajemy pracę domową w .pdf, to załączę dodatkowy plik z raportem \n",
    "profile.to_file(\"pandas_profiling_report.html\")"
   ]
  },
  {
   "cell_type": "markdown",
   "id": "optimum-hardware",
   "metadata": {},
   "source": [
    "Dostajemy HTMLowy, interaktywny container w którym możemy sobie większość z ręcznie wygenerowanych danych wyklikać. Niestety przy zapisie do pdf'a nie generuje się on, więc pokrótcę opiszę, co możemy tam znaleźć. \n",
    "\n",
    "W raporcie dostajemy między innymi:\n",
    "- rozkłady i charakterystyki wszystkich zmiennych,\n",
    "- możliwość stworzenia scatterplotów opisujących pary zmiennych,\n",
    "- heatmapę korelacji,\n",
    "- informacje o zduplikowanych wierszach.\n",
    "\n",
    "Posiadanie takiego narzędzia jest wygodne - to, co wcześniej wykonaliśmy za pomocą kilkunastu linii kodu, możemy dzięki tej bibliotece otrzymać, pisząc tylko jedną linię.\n",
    "\n",
    "Jednak ma to pewne ograniczenia, co widać już na przykładzie czynności, które wcześniej wykonaliśmy ręcznie:\n",
    "\n",
    "- przede wszystkim próbowaliśmy modelować logartym z naszej zmiennej wyjaśnianej, co w łatwy sposób można było podmienić. Jednak kiedy korzystamy z takiej biblioteki, tracimy taką możliwość.\n",
    "- przy oglądaniu scatterplotów zauważyliśmy, że jeden punkt 'psuł' nam skalę i nie można było zauważyć ogólnego trendu. Kiedy wszystko robimy ręcznie, łatwo jest go tymczasowo 'ukryć'.\n",
    "- dla zmiennych kategorycznych scatterploty mają mało sensu, przynajmniej w formie domyślnej, generowanej przez matplotliba, czy seaborna - punkty nakładają się na siebie i nie widać, gdzie jest ich najwięcej - nie możemy poznać ich rozkładu. Do tego celu lepiej sprawdzają się boxploty.\n"
   ]
  },
  {
   "cell_type": "markdown",
   "id": "thrown-camera",
   "metadata": {},
   "source": [
    "## Podsumowanie\n",
    "\n",
    "Patrząc na wszystko co wykonaliśmy możemy dojść do następujących wniosków.\n",
    "\n",
    "- Ten zbiór danych jest dość trudny - ciężko jednoznacznie wybrać cechy do uczenia modelu.\n",
    "\n",
    "- Zmienne z systemu FWI są ze sobą mocno powiązane.\n",
    "\n",
    "- Pierwsze intuicje i przeczucia bywają błędne. Ilość deszczu oraz temeratura mają mniejszy wpływ na pożary niż mogłoby się wydawać.\n",
    "\n",
    "- Narzędzia automatyczne są fajne, ale nie można ich w prosty sposób dostosować do konkretnej potrzeby.\n",
    "\n",
    "*Mikołaj Spytek, 08.03.2021*"
   ]
  }
 ],
 "metadata": {
  "kernelspec": {
   "display_name": "Python 3",
   "language": "python",
   "name": "python3"
  },
  "language_info": {
   "codemirror_mode": {
    "name": "ipython",
    "version": 3
   },
   "file_extension": ".py",
   "mimetype": "text/x-python",
   "name": "python",
   "nbconvert_exporter": "python",
   "pygments_lexer": "ipython3",
   "version": "3.8.7"
  }
 },
 "nbformat": 4,
 "nbformat_minor": 5
}
