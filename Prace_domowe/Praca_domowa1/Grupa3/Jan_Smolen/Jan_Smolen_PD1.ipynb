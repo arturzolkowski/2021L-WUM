{
 "cells": [
  {
   "cell_type": "markdown",
   "metadata": {},
   "source": [
    "# Praca domowa nr 1\n",
    "## Jan Smoleń, 08-03-2021\n",
    "Tematem poniższej pracy jest eksploracja zbioru danych dotyczącego pożarów lasów w parku Montesinho w północno-wschodnim rejonie Portugalii."
   ]
  },
  {
   "cell_type": "code",
   "execution_count": null,
   "metadata": {},
   "outputs": [],
   "source": [
    "import pandas as pd \n",
    "import numpy as np\n",
    "from matplotlib import pyplot as plt\n",
    "import seaborn as sns\n",
    "import pandas_profiling"
   ]
  },
  {
   "cell_type": "code",
   "execution_count": null,
   "metadata": {},
   "outputs": [],
   "source": [
    "df = pd.read_csv(\"forest_fires_dataset.csv\")\n",
    "df.head()"
   ]
  },
  {
   "cell_type": "code",
   "execution_count": null,
   "metadata": {},
   "outputs": [],
   "source": [
    "df.describe()"
   ]
  },
  {
   "cell_type": "markdown",
   "metadata": {},
   "source": [
    "##  Kolumny\n",
    "**X** - Współrzędne przestrzenne osi X na mapie parku Montesinho: od 1 do 9. </p> \n",
    "**Y** - Współrzędne przestrzenne osi Y na mapie parku Montesinho: od 2 do 9.</p>  \n",
    "**month** - miesiąc </p>  \n",
    "**day** - dzień tygodnia </p>  \n",
    "**FFMC** - reprezentuje suchość paliwa ze najmniejszej ściółki leśnej w cieniu okapu lasu. Przyjmuje wartości od 0-101.</p>  \n",
    "**DMC** - reprezentuje suchość paliwa rozłożonego materiału organicznego pod ściółką, do głębokośći 10cm. Przyjmuje dowolne dodatnie wartości. </p>  \n",
    "**DC** - reprezentuje suchość dużego materiału organicznego na głębokości większej niż 10 cm. Przyjmuje wartości od 0 do 1000. </p>   \n",
    "**ISI** - \n",
    "Szacuje potencjał rozprzestrzeniania się ognia, wynika z FFMC oraz prędkości wiatru. Przyjmuje dowolne dodatnie wartości. </p>   \n",
    "**temp** - temperatura w stopniach Celsjusza </p>   \n",
    "**RH** - względna wilgotność w procentach</p>   \n",
    "**wind** - prędkość wiatru w km/h.</p>   \n",
    "**rain** - opady deszczu w mm/m2.</p>   \n",
    "**area** - spalony obszar lasu w hektarach.</p>   "
   ]
  },
  {
   "cell_type": "markdown",
   "metadata": {},
   "source": [
    "Użyjemy teraz narzędzia do automatycznej eksploracji danych pandas-profiling żeby poznać trochę bardziej szczegółowe informacje na temat naszych danych."
   ]
  },
  {
   "cell_type": "code",
   "execution_count": null,
   "metadata": {},
   "outputs": [],
   "source": [
    "df.profile_report()"
   ]
  },
  {
   "cell_type": "markdown",
   "metadata": {},
   "source": [
    "## Wnioski/pytania\n",
    "1. Nie występuje problem braku danych </p>  \n",
    "2. Co oznacza, że spalony obszar wynosi zero? Czy to, że pożar się nie rozprzestrzenił czy może to, że nie pożar nie wystąpił wcale? Jeżeli ta druga opcja, to co to decyduje o wpisaniu danego dnia i obszaru do danych? Może pomiary były wykonywane częściej podczas okresów bardziej podatnych na pożary? Wydaje mi się to nie bez znaczenia w kontekście wykorzystania tych danych do przewidywania zmiennej celu.   </p>    \n",
    "3. Można się pozbyć zduplikowanych rzędów, ponieważ odzwierciedlają wyniki tych samych pomiarów. </p> \n",
    "4. Duża ilość zer w kolumnach area i rain powoduje, że przygotowane przez narządzie wykresy z tymi danymi są mało czytelne. </p>\n",
    "5. Główne ograniczenia tego narzędzia do automatyzowania eksploracji: dłuższy czas generowania, dużo nieinteresujących nas informacji, mało czytelne wykresy.  "
   ]
  },
  {
   "cell_type": "markdown",
   "metadata": {},
   "source": [
    "Usuniemy zduplikowane rzędy i przygotujemy wygodniejszą wersję heatmapy korelacji"
   ]
  },
  {
   "cell_type": "code",
   "execution_count": null,
   "metadata": {},
   "outputs": [],
   "source": [
    "df_reduced=df.drop_duplicates()\n",
    "sns.heatmap(df_reduced.corr(), annot=True, annot_kws={'size': 9}, fmt='.2f')"
   ]
  },
  {
   "cell_type": "markdown",
   "metadata": {},
   "source": [
    "Zgodnie z oczekiwaniami, wskaźniki oznaczające suchosć ściółki na różnych poziomach są dość mocno skorelowane zarówno między sobą, jak i z temperaturą. Po zrobieniu researchu okazuje się także, że wzór na ISI zależy jedynie od wartości FFMC i prędkości wiatru - może należałoby usunąć te kolumnę? "
   ]
  },
  {
   "cell_type": "markdown",
   "metadata": {},
   "source": [
    "Spójrzmy teraz na rozkłady zmiennych objaśniających."
   ]
  },
  {
   "cell_type": "code",
   "execution_count": null,
   "metadata": {},
   "outputs": [],
   "source": [
    "df_reduced.drop([\"area\"], axis=1).hist(bins = 40, figsize=(18, 12))\n",
    "plt.show()"
   ]
  },
  {
   "cell_type": "markdown",
   "metadata": {},
   "source": [
    "Widzimy że zmienne temp, ISI, RH i wind mają rozkłady przypominające rozkłady normalne. W zmiennej rain dominują wartości zerowe.  Uwagę zwracają pojedyncze wartość ISI i FFMC, która zdecydowanie odstają od reszty. Spójrzmy na wykres punktowy tych dwóch zmiennych i zmiennej celu area."
   ]
  },
  {
   "cell_type": "code",
   "execution_count": null,
   "metadata": {},
   "outputs": [],
   "source": [
    "plt.scatter(df_reduced[\"ISI\"], df_reduced[\"area\"])"
   ]
  },
  {
   "cell_type": "code",
   "execution_count": null,
   "metadata": {},
   "outputs": [],
   "source": [
    "plt.scatter(df_reduced[\"FFMC\"], df_reduced[\"area\"])"
   ]
  },
  {
   "cell_type": "markdown",
   "metadata": {},
   "source": [
    "Ponieważ te dwa pomiary znacząco odstają od reszty i nie wpisują się szczególnie w jakiś widoczny trend, usuniemy je z naszych danych. Możemy też się upewnić, że nie należą do tego samego rzędu - tak nie jest. "
   ]
  },
  {
   "cell_type": "code",
   "execution_count": null,
   "metadata": {},
   "outputs": [],
   "source": [
    "df_reduced=df_reduced.drop([df_reduced[\"ISI\"].idxmax()])\n",
    "df_reduced=df_reduced.drop([df_reduced[\"FFMC\"].idxmin()])"
   ]
  },
  {
   "cell_type": "markdown",
   "metadata": {},
   "source": [
    "Przyjrzymy sie jeszcze trochę dokładniej rozkładowi zmiennej celu area."
   ]
  },
  {
   "cell_type": "code",
   "execution_count": null,
   "metadata": {},
   "outputs": [],
   "source": [
    "sns.displot(df_reduced[\"area\"], bins=40)"
   ]
  },
  {
   "cell_type": "markdown",
   "metadata": {},
   "source": [
    "Spójrzmy jeszcze, jak rozkładają się wielkości spalonego obszaru w sytuacji, w której wiemy już, że pożar w ogóle wystąpił/rozprzestrzenił się."
   ]
  },
  {
   "cell_type": "code",
   "execution_count": null,
   "metadata": {},
   "outputs": [],
   "source": [
    "df_drop0=df_reduced[df_reduced['area']!=0]\n",
    "sns.displot(df_drop0[\"area\"], bins=40)"
   ]
  },
  {
   "cell_type": "markdown",
   "metadata": {},
   "source": [
    "Zatem widzimy, że w przeważającej liczbie pomiarów pożar albo nie występuje wcale, albo występuje na małym obszarze. Rozkład jest bardzo przekrzywiony w lewo, być może na dalszym etapie do jego modelowania przydatna byłaby transformacja logarytmiczna. Dwie wartości bardzo odstają od reszty, ale moim zdaniem świadczą raczej o pożarach, które wymknęły się spod kontroli niż o błędach w pomiarze, więc je pozostawmy."
   ]
  },
  {
   "cell_type": "markdown",
   "metadata": {},
   "source": [
    "Biorąc pod uwagę, że wartości X i Y oznaczają położenie na mapie parku i raczej należałoby je rozpatrywać razem, spróbujemy odtworzyć te mapę i pokazać na niej sumę spalonego obszaru w danych sektorach. Dzięki temu też zobaczymy, jakie obszary w ogóle występują w parku."
   ]
  },
  {
   "cell_type": "code",
   "execution_count": null,
   "metadata": {},
   "outputs": [],
   "source": [
    "mapa=df_reduced.groupby([\"X\", \"Y\"]).agg({'area':'sum'}).reset_index()\n",
    "mapa = mapa.pivot(index='Y', columns='X', values='area')\n",
    "mapa=mapa.iloc[::-1]\n",
    "sns.heatmap(mapa, annot=True, annot_kws={'size': 9}, fmt='.1f')"
   ]
  },
  {
   "cell_type": "markdown",
   "metadata": {},
   "source": [
    "Teraz zbadamy ilość spalonego obszaru w poszczególnych miesiącach i dniach tygodnia. Ze względu na bardzo liczne zera występujące w kolumnie area oraz nieznany nam sposób wyboru dni i obszarów zawartych w danych, posłużymy się wykresami słupkowymi pokazyjącymi łączną sumę spalonych obszarów."
   ]
  },
  {
   "cell_type": "code",
   "execution_count": null,
   "metadata": {},
   "outputs": [],
   "source": [
    "tmp_month=df_reduced.groupby([\"month\"]).agg({'area':'sum'}).reset_index()\n",
    "months = [\"Jan\", \"Feb\", \"Mar\", \"Apr\", \"May\", \"Jun\", \n",
    "          \"Jul\", \"Aug\", \"Sep\", \"Oct\", \"Nov\", \"Dec\"]\n",
    "tmp_month[\"month\"]=tmp_month[\"month\"].str.capitalize()\n",
    "tmp_month['month'] = pd.Categorical(tmp_month['month'], categories=months, ordered=True)\n",
    "tmp_month = tmp_month.sort_values(by=\"month\")\n",
    "fig = plt.figure()\n",
    "ax = fig.add_axes([0,0,1,1])\n",
    "ax.bar(tmp_month[\"month\"], tmp_month[\"area\"])\n"
   ]
  },
  {
   "cell_type": "code",
   "execution_count": null,
   "metadata": {},
   "outputs": [],
   "source": [
    "tmp_day=df_reduced.groupby([\"day\"]).agg({'area':'sum'}).reset_index()\n",
    "days=[\"Mon\", \"Tue\", \"Wed\", \"Thu\", \"Fri\", \"Sat\", \"Sun\"]\n",
    "tmp_day[\"day\"]=tmp_day[\"day\"].str.capitalize()\n",
    "tmp_day['day'] = pd.Categorical(tmp_day['day'], categories=days, ordered=True)\n",
    "tmp_day = tmp_day.sort_values(by=\"day\")\n",
    "fig = plt.figure()\n",
    "ax = fig.add_axes([0,0,1,1])\n",
    "ax.bar(tmp_day[\"day\"], tmp_day[\"area\"])"
   ]
  },
  {
   "cell_type": "markdown",
   "metadata": {},
   "source": [
    "Jak widzimy, znacznie więcej powierzchni uległo pożarom w sierpniu i wrześniu niż w innych miesiącach. Co ciekawe, sobota wyróżnia się od pozostałych dni tygonia - być może zwiększona liczba spacerowiczów ma wpływ na więcej pożarów."
   ]
  }
 ],
 "metadata": {
  "kernelspec": {
   "display_name": "Python 3",
   "language": "python",
   "name": "python3"
  },
  "language_info": {
   "codemirror_mode": {
    "name": "ipython",
    "version": 3
   },
   "file_extension": ".py",
   "mimetype": "text/x-python",
   "name": "python",
   "nbconvert_exporter": "python",
   "pygments_lexer": "ipython3",
   "version": "3.8.5"
  }
 },
 "nbformat": 4,
 "nbformat_minor": 4
}
