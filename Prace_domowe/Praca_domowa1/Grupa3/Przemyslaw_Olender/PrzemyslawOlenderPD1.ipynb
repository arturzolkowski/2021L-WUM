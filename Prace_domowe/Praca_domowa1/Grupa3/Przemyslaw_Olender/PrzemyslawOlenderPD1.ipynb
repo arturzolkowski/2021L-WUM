{
 "cells": [
  {
   "cell_type": "markdown",
   "id": "declared-compilation",
   "metadata": {},
   "source": [
    "# Praca domowa 1\n",
    "\n",
    "### Przemysław Olender"
   ]
  },
  {
   "cell_type": "code",
   "execution_count": null,
   "id": "mighty-roads",
   "metadata": {},
   "outputs": [],
   "source": [
    "import numpy as np\n",
    "import matplotlib.pyplot as plt\n",
    "import pandas as pd\n",
    "import seaborn as sns"
   ]
  },
  {
   "cell_type": "code",
   "execution_count": null,
   "id": "associate-federal",
   "metadata": {},
   "outputs": [],
   "source": [
    "fires = pd.read_csv('forest_fires_dataset.csv')\n",
    "\n",
    "fires.head()"
   ]
  },
  {
   "cell_type": "markdown",
   "id": "norman-tiffany",
   "metadata": {},
   "source": [
    "Analizujemy zbiór danych o pożarach w północnej Portugalii. Według opisu autora cała ramka służy po przewidywania powierzchni pożary za pomocą pozostałych zminnych, są to:\n",
    "\n",
    " X - x-owa współrzedna wewnątrz parku\n",
    " \n",
    " Y - y-owa współrzędna wewnątrz parku\n",
    "\n",
    "month - miesiąc\n",
    "\n",
    "day - dzień tygodnia\n",
    "\n",
    "FFMC - wskaźnik wilgotności paliw* ze ściółki leśnej\n",
    "\n",
    "DMC - wskaźnik wilgotności paliw* znajdujących się poniżej ściółki leśnej\n",
    "\n",
    "DC - wskaźnik wilgotności paliw* wgłąb gleby\n",
    "\n",
    "ISI - wskażnik łączocy wilgotność martwych paliw* i prędkości wiatru, pomaga w oszacowaniu prędkości roznoszenia sie pożaru\n",
    "\n",
    "temp - temperatura w stopniach celsiujsza\n",
    "\n",
    "RH - względna wilgotność powietrza wyrażona w %\n",
    "\n",
    "wind - prędkość wiatru w km/godzinę\n",
    "\n",
    "rain - wielkość opadów w mm/$m^2$\n",
    "\n",
    "area - spalona powierzchnia w hektarach\n",
    "\n",
    "FFMc, DMC, DC, ISI to indeks z międzynaroowego systemu FWI (Fire Weather Index) określającego zagrożenie pożarowe (informazje ze strony https://www.nwcg.gov/publications/pms437/cffdrs/fire-weather-index-system). \n",
    "\n",
    "\\* - paliwo oznacza materiał podatny na spalenie, w tym przyapdku rośliny\n",
    "\n",
    "Źródło danych: https://www.apispreadsheets.com/datasets/129\n"
   ]
  },
  {
   "cell_type": "code",
   "execution_count": null,
   "id": "meaningful-sequence",
   "metadata": {},
   "outputs": [],
   "source": [
    "fires.info()"
   ]
  },
  {
   "cell_type": "markdown",
   "id": "innocent-onion",
   "metadata": {},
   "source": [
    "W danych nie ma żadnych braków, nie będziemy musieli się poźniej martwić wypełniem dziur."
   ]
  },
  {
   "cell_type": "code",
   "execution_count": null,
   "id": "painful-scholarship",
   "metadata": {},
   "outputs": [],
   "source": [
    "fires.describe()"
   ]
  },
  {
   "cell_type": "code",
   "execution_count": null,
   "id": "copyrighted-brand",
   "metadata": {},
   "outputs": [],
   "source": [
    "fires.hist(bins = 20, figsize=(18, 12))\n",
    "\n",
    "plt.show()"
   ]
  },
  {
   "cell_type": "markdown",
   "id": "funded-approval",
   "metadata": {},
   "source": [
    "Jak widać na wykresach, temperatura ma rozkład bliski normalnemu, wskaźniki FWI i RH mają rozkłady skośne.\n",
    "Prawie wszytskie wartości w kolumnie area są badrzo bliskie zero, użyjmy więc skali logarytmicznej, żeby lepiej przyjrzeć się wykresowi."
   ]
  },
  {
   "cell_type": "code",
   "execution_count": null,
   "id": "suffering-farmer",
   "metadata": {},
   "outputs": [],
   "source": [
    "sns.displot(np.log1p(fires['area']))\n",
    "plt.show()"
   ]
  },
  {
   "cell_type": "markdown",
   "id": "olympic-trouble",
   "metadata": {},
   "source": [
    "Sprawdżmy ile wartości jest równych 0:"
   ]
  },
  {
   "cell_type": "code",
   "execution_count": null,
   "id": "cathedral-affiliate",
   "metadata": {},
   "outputs": [],
   "source": [
    "sum(fires['area'] == 0)"
   ]
  },
  {
   "cell_type": "markdown",
   "id": "rocky-circular",
   "metadata": {},
   "source": [
    "Aż 247 z 517 wartości w kolumnie area to 0, może  to oznaczać błąd w danych lub to, że większość pożarów w zaookrągleniu nie stawiło nawet jednego hektara lasu."
   ]
  },
  {
   "cell_type": "markdown",
   "id": "distinct-photographer",
   "metadata": {},
   "source": [
    "Sprawdźmy jakie korelacje zachodzą miedzy danymi:"
   ]
  },
  {
   "cell_type": "code",
   "execution_count": null,
   "id": "answering-reality",
   "metadata": {},
   "outputs": [],
   "source": [
    "fig, ax = plt.subplots(figsize=(10, 10))\n",
    "sns.heatmap(fires.corr(), annot=True, square=True)\n",
    "#fig = plt.figure(fizsize= (10, 10))\n",
    "plt.show()"
   ]
  },
  {
   "cell_type": "markdown",
   "id": "vanilla-theta",
   "metadata": {},
   "source": [
    "Największe korelacje zachodzą między wskaźnikami FWI i temperaturę, nie jest to duże zaskoczenie, ponieważ im wyższa temperatura tym rośliny są suchsze. Podobnej korelacji można było sie spodziewać między wielkościa opadów (kolumna rain) a wkaźnikamim jednak jak widzieliśmy wcześniej opady prawie nie występują w badanym czasie. Sprawdźmy jak wyglądają scatterploty dla tych zmiennych:"
   ]
  },
  {
   "cell_type": "code",
   "execution_count": null,
   "id": "accurate-registrar",
   "metadata": {},
   "outputs": [],
   "source": [
    "cols = ['FFMC', 'DMC', 'DC', 'ISI', 'temp']\n",
    "\n",
    "sns.pairplot(fires, y_vars=fires[cols], x_vars=fires[cols])\n",
    "plt.show()"
   ]
  },
  {
   "cell_type": "code",
   "execution_count": null,
   "id": "extensive-thong",
   "metadata": {},
   "outputs": [],
   "source": [
    "sns.pairplot?"
   ]
  },
  {
   "cell_type": "markdown",
   "id": "crazy-empire",
   "metadata": {},
   "source": [
    "Na wykresach ze zminnymi ISI i FFMC można zauważyć odstające wartość, usuńmy je, żeby nie zaburzały wykresów."
   ]
  },
  {
   "cell_type": "code",
   "execution_count": null,
   "id": "ultimate-anniversary",
   "metadata": {},
   "outputs": [],
   "source": [
    "tmp = fires[fires['ISI'] < 50 ]\n",
    "tmp = tmp[tmp['FFMC'] > 60]\n",
    "\n",
    "\n",
    "sns.pairplot(tmp, y_vars=fires[cols], x_vars=fires[cols])\n",
    "plt.show()"
   ]
  },
  {
   "cell_type": "markdown",
   "id": "following-bridges",
   "metadata": {},
   "source": [
    "Przyjzyjmy się jeszcze zależnościom zmiennej area od innych zmiennych numerycznych, użyjemu loarytmicznego przekształcenia powirzchni.:"
   ]
  },
  {
   "cell_type": "code",
   "execution_count": null,
   "id": "olympic-hayes",
   "metadata": {},
   "outputs": [],
   "source": [
    "fires_log = fires\n",
    "fires_log['area'] = np.log1p(fires['area'])\n",
    "\n",
    "sns.pairplot(fires_log, y_vars=\"area\", x_vars=fires.columns.values)\n",
    "plt.show()"
   ]
  },
  {
   "cell_type": "markdown",
   "id": "normal-detective",
   "metadata": {},
   "source": [
    "Sprawdźmy jak pożary o danej powierzchni rozkładaja się w poszczególnych dniach tygodnia i miesiącach.  Zoabczmy też, ile pożarów występuje w danych dnia i miesiącach."
   ]
  },
  {
   "cell_type": "code",
   "execution_count": null,
   "id": "standard-electricity",
   "metadata": {},
   "outputs": [],
   "source": [
    "day_order = ['mon', 'tue', 'wed', 'thu', 'fri', 'sat', 'sun']\n",
    "month_order = ['jan', 'feb', 'mar', 'apr', 'may', 'jun', 'jul', 'aug', 'sep', 'oct', 'nov', 'dec']\n",
    "\n",
    "\n",
    "fig, ((ax1, ax2), (ax3, ax4)) = plt.subplots(2, 2, figsize=(13, 10))\n",
    "sns.countplot(data=fires, x='day', order = day_order, color = 'dodgerblue', ax = ax1)\n",
    "sns.boxplot(data=fires_log, x='day', y = 'area', order = day_order, color = 'dodgerblue', ax = ax2)\n",
    "sns.countplot(data=fires, x='month', order = month_order, color = 'dodgerblue', ax = ax3)\n",
    "sns.boxplot(data=fires_log, x='month', y= 'area', order = month_order, color = 'dodgerblue', ax = ax4)\n",
    "\n",
    "ax1.set_title('Liczba pożarów w poszczególne dni tygodnia')\n",
    "ax2.set_title('Rozkład powierzchni pożarów w poszczególne dni tygodnia')\n",
    "ax3.set_title('Liczba pożarów w poszczególnych miesiącach')\n",
    "ax4.set_title('Rozkład powierzchni pożarów w poszczególnych miesiącach')\n",
    "\n",
    "plt.show()"
   ]
  },
  {
   "cell_type": "markdown",
   "id": "decimal-berry",
   "metadata": {},
   "source": [
    "Liczba pożarów jest największa w weekeny, może się to wiązać z działalnością człowieka i większą liczbą odwiedzających park w weekend.\n",
    "\n",
    "Jeśli chodzi o rozłożenie pożarów w ciągu roku, to w lipicu i sierpieniu liczba pożarów znacznie większa niż w pozostałych miesiącach. Sprawdźmy jak wygląda rozłożenie temperatury i wilgotności w ciągu roku, żeby ocenić powiązanie tych cech z liczbą pożarów.\n",
    "\n",
    "Jenak i w ciągu poszczególnych dni jak i miesięcy powierzchnia pożarów utrzymuje się na podobnym poziomie."
   ]
  },
  {
   "cell_type": "code",
   "execution_count": null,
   "id": "mental-appendix",
   "metadata": {},
   "outputs": [],
   "source": [
    "fig, ((ax1, ax2), (ax3, ax4)) = plt.subplots(2, 2, figsize=(13, 10))\n",
    "sns.boxplot(data = fires, x = 'month', y = 'temp', order = month_order, ax = ax1, color = 'white')\n",
    "sns.boxplot(data = fires, x = 'month', y = 'RH', order = month_order, ax = ax2, color = 'white')\n",
    "sns.boxplot(data = fires, x = 'month', y = 'wind', order = month_order, ax = ax3, color = 'white')\n",
    "sns.boxplot(data = fires, x = 'month', y = 'rain', order = month_order, ax = ax4, color = 'white')\n",
    "\n",
    "ax1.set_title('Rozkład temperatury w ciągu roku')\n",
    "ax2.set_title('Rozkład wilgotności w ciągu roku')\n",
    "ax3.set_title('Rozkład prędkości wiatru w ciągu roku')\n",
    "ax4.set_title('Rozkład opadów wiatru w ciągu roku')\n",
    "plt.show()"
   ]
  },
  {
   "cell_type": "markdown",
   "id": "devoted-anger",
   "metadata": {},
   "source": [
    "Jak widać temperatura w lipcu i sierpniu jest najwyższa w ciągu rokum jednak nie jest dużo większa niż w czerwcu i wrześniu. Wilgotność również znacząco nie odstaje od innych miesięcy letnich.\n",
    "\n",
    "Widać korelację dużej prekości wiatru w grudniu i dużej powierzchni strawionej pożarem (z poprzedniego wykresu), nawet przy małej liczbie pożarów (mimo, że pożarów było mało to każdy był stosunkowo duży).\n",
    "\n",
    "Sprawdźmy jeszcze rozłożenie wskaźników FWI w ciągu roku."
   ]
  },
  {
   "cell_type": "code",
   "execution_count": null,
   "id": "metallic-interest",
   "metadata": {},
   "outputs": [],
   "source": [
    "fig, ((ax1, ax2), (ax3, ax4)) = plt.subplots(2, 2, figsize=(13, 10))\n",
    "sns.boxplot(data = fires, x = 'month', y = 'FFMC', order = month_order, ax = ax1, color = 'white')\n",
    "sns.boxplot(data = fires, x = 'month', y = 'DMC', order = month_order, ax = ax2, color = 'white')\n",
    "sns.boxplot(data = fires, x = 'month', y = 'DC', order = month_order, ax = ax3, color = 'white')\n",
    "sns.boxplot(data = fires, x = 'month', y = 'ISI', order = month_order, ax = ax4, color = 'white')\n",
    "\n",
    "ax1.set_title('Rozkład wskaźnika FFMC w ciągu roku')\n",
    "ax2.set_title('Rozkład wskaźnika DMC w ciągu roku')\n",
    "ax3.set_title('Rozkład wskaźnika DC w ciągu roku')\n",
    "ax4.set_title('Rozkład wskaźnika ISI w ciągu roku')\n",
    "\n",
    "plt.show()"
   ]
  }
 ],
 "metadata": {
  "kernelspec": {
   "display_name": "Python 3",
   "language": "python",
   "name": "python3"
  },
  "language_info": {
   "codemirror_mode": {
    "name": "ipython",
    "version": 3
   },
   "file_extension": ".py",
   "mimetype": "text/x-python",
   "name": "python",
   "nbconvert_exporter": "python",
   "pygments_lexer": "ipython3",
   "version": "3.8.2"
  }
 },
 "nbformat": 4,
 "nbformat_minor": 5
}
