{
 "metadata": {
  "language_info": {
   "codemirror_mode": {
    "name": "ipython",
    "version": 3
   },
   "file_extension": ".py",
   "mimetype": "text/x-python",
   "name": "python",
   "nbconvert_exporter": "python",
   "pygments_lexer": "ipython3",
   "version": "3.6.13"
  },
  "orig_nbformat": 2,
  "kernelspec": {
   "name": "python3613jvsc74a57bd08173540fe7aa72c8fdfae97a1f2bbf96d841f09672df01ac26c8430125560343",
   "display_name": "Python 3.6.13 64-bit ('main': conda)"
  }
 },
 "nbformat": 4,
 "nbformat_minor": 2,
 "cells": [
  {
   "source": [
    "### Homework 4\n",
    "Michał Komorowski"
   ],
   "cell_type": "markdown",
   "metadata": {}
  },
  {
   "cell_type": "code",
   "execution_count": 1,
   "metadata": {},
   "outputs": [],
   "source": [
    "import dalex as dx\n",
    "import pandas as pd\n",
    "import numpy as np\n",
    "import xgboost as xgb\n",
    "\n",
    "from math import sqrt\n",
    "\n",
    "from sklearn.svm import SVR\n",
    "\n",
    "from sklearn.preprocessing import StandardScaler, OneHotEncoder, MinMaxScaler\n",
    "from sklearn.pipeline import Pipeline\n",
    "from sklearn.compose import ColumnTransformer\n",
    "from category_encoders import TargetEncoder\n",
    "from sklearn.linear_model import LinearRegression, Lasso, ElasticNet\n",
    "\n",
    "from sklearn.model_selection import train_test_split, GridSearchCV, RandomizedSearchCV\n",
    "from sklearn.metrics import mean_squared_error as mse, r2_score\n",
    "\n",
    "import warnings\n",
    "warnings.filterwarnings('ignore')"
   ]
  },
  {
   "cell_type": "code",
   "execution_count": 2,
   "metadata": {},
   "outputs": [],
   "source": [
    "apartments = dx.datasets.load_apartments()"
   ]
  },
  {
   "cell_type": "code",
   "execution_count": 3,
   "metadata": {},
   "outputs": [
    {
     "output_type": "execute_result",
     "data": {
      "text/plain": [
       "   m2_price  construction_year  surface  floor  no_rooms     district\n",
       "1      5897               1953       25      3         1  Srodmiescie\n",
       "2      1818               1992      143      9         5      Bielany\n",
       "3      3643               1937       56      1         2        Praga\n",
       "4      3517               1995       93      7         3       Ochota\n",
       "5      3013               1992      144      6         5      Mokotow"
      ],
      "text/html": "<div>\n<style scoped>\n    .dataframe tbody tr th:only-of-type {\n        vertical-align: middle;\n    }\n\n    .dataframe tbody tr th {\n        vertical-align: top;\n    }\n\n    .dataframe thead th {\n        text-align: right;\n    }\n</style>\n<table border=\"1\" class=\"dataframe\">\n  <thead>\n    <tr style=\"text-align: right;\">\n      <th></th>\n      <th>m2_price</th>\n      <th>construction_year</th>\n      <th>surface</th>\n      <th>floor</th>\n      <th>no_rooms</th>\n      <th>district</th>\n    </tr>\n  </thead>\n  <tbody>\n    <tr>\n      <th>1</th>\n      <td>5897</td>\n      <td>1953</td>\n      <td>25</td>\n      <td>3</td>\n      <td>1</td>\n      <td>Srodmiescie</td>\n    </tr>\n    <tr>\n      <th>2</th>\n      <td>1818</td>\n      <td>1992</td>\n      <td>143</td>\n      <td>9</td>\n      <td>5</td>\n      <td>Bielany</td>\n    </tr>\n    <tr>\n      <th>3</th>\n      <td>3643</td>\n      <td>1937</td>\n      <td>56</td>\n      <td>1</td>\n      <td>2</td>\n      <td>Praga</td>\n    </tr>\n    <tr>\n      <th>4</th>\n      <td>3517</td>\n      <td>1995</td>\n      <td>93</td>\n      <td>7</td>\n      <td>3</td>\n      <td>Ochota</td>\n    </tr>\n    <tr>\n      <th>5</th>\n      <td>3013</td>\n      <td>1992</td>\n      <td>144</td>\n      <td>6</td>\n      <td>5</td>\n      <td>Mokotow</td>\n    </tr>\n  </tbody>\n</table>\n</div>"
     },
     "metadata": {},
     "execution_count": 3
    }
   ],
   "source": [
    "apartments.head()"
   ]
  },
  {
   "cell_type": "code",
   "execution_count": 4,
   "metadata": {},
   "outputs": [
    {
     "output_type": "stream",
     "name": "stdout",
     "text": [
      "<class 'pandas.core.frame.DataFrame'>\nInt64Index: 1000 entries, 1 to 1000\nData columns (total 6 columns):\n #   Column             Non-Null Count  Dtype \n---  ------             --------------  ----- \n 0   m2_price           1000 non-null   int64 \n 1   construction_year  1000 non-null   int64 \n 2   surface            1000 non-null   int64 \n 3   floor              1000 non-null   int64 \n 4   no_rooms           1000 non-null   int64 \n 5   district           1000 non-null   object\ndtypes: int64(5), object(1)\nmemory usage: 54.7+ KB\n"
     ]
    }
   ],
   "source": [
    "apartments.info()"
   ]
  },
  {
   "cell_type": "code",
   "execution_count": 5,
   "metadata": {},
   "outputs": [],
   "source": [
    "X = apartments.loc[:, apartments.columns != \"m2_price\"]\n",
    "y = apartments[\"m2_price\"]"
   ]
  },
  {
   "cell_type": "code",
   "execution_count": 6,
   "metadata": {},
   "outputs": [],
   "source": [
    "X_train, X_test, y_train, y_test = train_test_split(X, y, test_size=0.33, random_state=0)"
   ]
  },
  {
   "source": [
    "#### With scaling"
   ],
   "cell_type": "markdown",
   "metadata": {}
  },
  {
   "cell_type": "code",
   "execution_count": 7,
   "metadata": {},
   "outputs": [],
   "source": [
    "num_features = ['construction_year', 'surface', 'floor', 'no_rooms']\n",
    "cat_features = ['district']\n",
    "\n",
    "preprocessor = ColumnTransformer(\n",
    "    transformers=[\n",
    "        ('num', MinMaxScaler(), num_features),\n",
    "        ('cat', OneHotEncoder(), cat_features)\n",
    "    ]\n",
    ")\n",
    "\n",
    "clf = Pipeline([\n",
    "    ('preprocessor', preprocessor),\n",
    "    ('clf', SVR())\n",
    "])"
   ]
  },
  {
   "cell_type": "code",
   "execution_count": 8,
   "metadata": {},
   "outputs": [
    {
     "output_type": "execute_result",
     "data": {
      "text/plain": [
       "Pipeline(steps=[('preprocessor',\n",
       "                 ColumnTransformer(transformers=[('num', MinMaxScaler(),\n",
       "                                                  ['construction_year',\n",
       "                                                   'surface', 'floor',\n",
       "                                                   'no_rooms']),\n",
       "                                                 ('cat', OneHotEncoder(),\n",
       "                                                  ['district'])])),\n",
       "                ('clf', SVR())])"
      ]
     },
     "metadata": {},
     "execution_count": 8
    }
   ],
   "source": [
    "clf.fit(X_train, y_train)"
   ]
  },
  {
   "cell_type": "code",
   "execution_count": 9,
   "metadata": {},
   "outputs": [
    {
     "output_type": "stream",
     "name": "stdout",
     "text": [
      "Preparation of a new explainer is initiated\n\n  -> data              : 330 rows 5 cols\n  -> target variable   : Parameter 'y' was a pandas.Series. Converted to a numpy.ndarray.\n  -> target variable   : 330 values\n  -> model_class       : sklearn.svm._classes.SVR (default)\n  -> label             : Not specified, model's class short name will be used. (default)\n  -> predict function  : <function yhat_default at 0x000002819C56D488> will be used (default)\n  -> predict function  : Accepts only pandas.DataFrame, numpy.ndarray causes problems.\n  -> predicted values  : min = 3.34e+03, mean = 3.38e+03, max = 3.43e+03\n  -> model type        : regression will be used (default)\n  -> residual function : difference between y and yhat (default)\n  -> residuals         : min = -1.74e+03, mean = 1.4e+02, max = 3.17e+03\n  -> model_info        : package sklearn\n\nA new explainer has been created!\n"
     ]
    },
    {
     "output_type": "execute_result",
     "data": {
      "text/plain": [
       "               mse        rmse        r2        mae         mad\n",
       "SVR  868730.092788  932.056915  0.021402  725.87637  620.488866"
      ],
      "text/html": "<div>\n<style scoped>\n    .dataframe tbody tr th:only-of-type {\n        vertical-align: middle;\n    }\n\n    .dataframe tbody tr th {\n        vertical-align: top;\n    }\n\n    .dataframe thead th {\n        text-align: right;\n    }\n</style>\n<table border=\"1\" class=\"dataframe\">\n  <thead>\n    <tr style=\"text-align: right;\">\n      <th></th>\n      <th>mse</th>\n      <th>rmse</th>\n      <th>r2</th>\n      <th>mae</th>\n      <th>mad</th>\n    </tr>\n  </thead>\n  <tbody>\n    <tr>\n      <th>SVR</th>\n      <td>868730.092788</td>\n      <td>932.056915</td>\n      <td>0.021402</td>\n      <td>725.87637</td>\n      <td>620.488866</td>\n    </tr>\n  </tbody>\n</table>\n</div>"
     },
     "metadata": {},
     "execution_count": 9
    }
   ],
   "source": [
    "exp = dx.Explainer(clf, X_test, y_test)\n",
    "mp = exp.model_performance(model_type = 'regression')\n",
    "\n",
    "mp.result"
   ]
  },
  {
   "cell_type": "code",
   "execution_count": 10,
   "metadata": {},
   "outputs": [],
   "source": [
    "clf = Pipeline([\n",
    "    ('preprocessor', preprocessor),\n",
    "    ('clf', SVR())\n",
    "])\n",
    "\n",
    "params = {\n",
    "    'clf__kernel': ['linear', 'poly', 'rbf', 'sigmoid'],\n",
    "    'clf__gamma': ['scale', 'auto'],\n",
    "    'clf__degree': list(range(1, 5)),  # ignored if kernel != 'poly'\n",
    "    'clf__C': [10**i for i in range(-2, 6)]\n",
    "}\n",
    "\n",
    "gs = RandomizedSearchCV(clf, params, n_iter=40, cv=5)"
   ]
  },
  {
   "cell_type": "code",
   "execution_count": 11,
   "metadata": {
    "tags": []
   },
   "outputs": [
    {
     "output_type": "execute_result",
     "data": {
      "text/plain": [
       "RandomizedSearchCV(cv=5,\n",
       "                   estimator=Pipeline(steps=[('preprocessor',\n",
       "                                              ColumnTransformer(transformers=[('num',\n",
       "                                                                               MinMaxScaler(),\n",
       "                                                                               ['construction_year',\n",
       "                                                                                'surface',\n",
       "                                                                                'floor',\n",
       "                                                                                'no_rooms']),\n",
       "                                                                              ('cat',\n",
       "                                                                               OneHotEncoder(),\n",
       "                                                                               ['district'])])),\n",
       "                                             ('clf', SVR())]),\n",
       "                   n_iter=40,\n",
       "                   param_distributions={'clf__C': [0.01, 0.1, 1, 10, 100, 1000,\n",
       "                                                   10000, 100000],\n",
       "                                        'clf__degree': [1, 2, 3, 4],\n",
       "                                        'clf__gamma': ['scale', 'auto'],\n",
       "                                        'clf__kernel': ['linear', 'poly', 'rbf',\n",
       "                                                        'sigmoid']})"
      ]
     },
     "metadata": {},
     "execution_count": 11
    }
   ],
   "source": [
    "gs.fit(X_train, y_train)"
   ]
  },
  {
   "cell_type": "code",
   "execution_count": 12,
   "metadata": {},
   "outputs": [
    {
     "output_type": "execute_result",
     "data": {
      "text/plain": [
       "{'clf__kernel': 'poly',\n",
       " 'clf__gamma': 'scale',\n",
       " 'clf__degree': 2,\n",
       " 'clf__C': 10000}"
      ]
     },
     "metadata": {},
     "execution_count": 12
    }
   ],
   "source": [
    "gs.best_params_"
   ]
  },
  {
   "cell_type": "code",
   "execution_count": 13,
   "metadata": {},
   "outputs": [
    {
     "output_type": "stream",
     "name": "stdout",
     "text": [
      "Preparation of a new explainer is initiated\n\n  -> data              : 330 rows 5 cols\n  -> target variable   : Parameter 'y' was a pandas.Series. Converted to a numpy.ndarray.\n  -> target variable   : 330 values\n  -> model_class       : sklearn.svm._classes.SVR (default)\n  -> label             : Not specified, model's class short name will be used. (default)\n  -> predict function  : <function yhat_default at 0x000002819C56D488> will be used (default)\n  -> predict function  : Accepts only pandas.DataFrame, numpy.ndarray causes problems.\n  -> predicted values  : min = 1.71e+03, mean = 3.51e+03, max = 6.38e+03\n  -> model type        : regression will be used (default)\n  -> residual function : difference between y and yhat (default)\n  -> residuals         : min = -3.6e+02, mean = 7.54, max = 4.9e+02\n  -> model_info        : package sklearn\n\nA new explainer has been created!\n"
     ]
    },
    {
     "output_type": "execute_result",
     "data": {
      "text/plain": [
       "              mse        rmse       r2         mae      mad\n",
       "SVR  25016.293541  158.165399  0.97182  123.319991  91.1975"
      ],
      "text/html": "<div>\n<style scoped>\n    .dataframe tbody tr th:only-of-type {\n        vertical-align: middle;\n    }\n\n    .dataframe tbody tr th {\n        vertical-align: top;\n    }\n\n    .dataframe thead th {\n        text-align: right;\n    }\n</style>\n<table border=\"1\" class=\"dataframe\">\n  <thead>\n    <tr style=\"text-align: right;\">\n      <th></th>\n      <th>mse</th>\n      <th>rmse</th>\n      <th>r2</th>\n      <th>mae</th>\n      <th>mad</th>\n    </tr>\n  </thead>\n  <tbody>\n    <tr>\n      <th>SVR</th>\n      <td>25016.293541</td>\n      <td>158.165399</td>\n      <td>0.97182</td>\n      <td>123.319991</td>\n      <td>91.1975</td>\n    </tr>\n  </tbody>\n</table>\n</div>"
     },
     "metadata": {},
     "execution_count": 13
    }
   ],
   "source": [
    "exp = dx.Explainer(gs.best_estimator_, X_test, y_test)\n",
    "mp_tuned = exp.model_performance(model_type = 'regression')\n",
    "\n",
    "mp_tuned.result"
   ]
  },
  {
   "source": [
    "#### Without scaling"
   ],
   "cell_type": "markdown",
   "metadata": {}
  },
  {
   "cell_type": "code",
   "execution_count": 14,
   "metadata": {},
   "outputs": [],
   "source": [
    "preprocessor = ColumnTransformer(\n",
    "    transformers=[\n",
    "        ('cat', OneHotEncoder(), cat_features)\n",
    "    ]\n",
    ")\n",
    "\n",
    "clf_noscale = Pipeline([\n",
    "    ('preprocessor', preprocessor),\n",
    "    ('clf', SVR())\n",
    "])"
   ]
  },
  {
   "cell_type": "code",
   "execution_count": 15,
   "metadata": {},
   "outputs": [
    {
     "output_type": "execute_result",
     "data": {
      "text/plain": [
       "Pipeline(steps=[('preprocessor',\n",
       "                 ColumnTransformer(transformers=[('cat', OneHotEncoder(),\n",
       "                                                  ['district'])])),\n",
       "                ('clf', SVR())])"
      ]
     },
     "metadata": {},
     "execution_count": 15
    }
   ],
   "source": [
    "clf_noscale.fit(X_train, y_train)"
   ]
  },
  {
   "cell_type": "code",
   "execution_count": 16,
   "metadata": {},
   "outputs": [
    {
     "output_type": "stream",
     "name": "stdout",
     "text": [
      "Preparation of a new explainer is initiated\n\n  -> data              : 330 rows 5 cols\n  -> target variable   : Parameter 'y' was a pandas.Series. Converted to a numpy.ndarray.\n  -> target variable   : 330 values\n  -> model_class       : sklearn.svm._classes.SVR (default)\n  -> label             : Not specified, model's class short name will be used. (default)\n  -> predict function  : <function yhat_default at 0x000002819C56D488> will be used (default)\n  -> predict function  : Accepts only pandas.DataFrame, numpy.ndarray causes problems.\n  -> predicted values  : min = 3.37e+03, mean = 3.4e+03, max = 3.46e+03\n  -> model type        : regression will be used (default)\n  -> residual function : difference between y and yhat (default)\n  -> residuals         : min = -1.77e+03, mean = 1.17e+02, max = 3.14e+03\n  -> model_info        : package sklearn\n\nA new explainer has been created!\n"
     ]
    },
    {
     "output_type": "execute_result",
     "data": {
      "text/plain": [
       "               mse        rmse        r2         mae         mad\n",
       "SVR  859540.423062  927.114029  0.031754  724.008214  636.913593"
      ],
      "text/html": "<div>\n<style scoped>\n    .dataframe tbody tr th:only-of-type {\n        vertical-align: middle;\n    }\n\n    .dataframe tbody tr th {\n        vertical-align: top;\n    }\n\n    .dataframe thead th {\n        text-align: right;\n    }\n</style>\n<table border=\"1\" class=\"dataframe\">\n  <thead>\n    <tr style=\"text-align: right;\">\n      <th></th>\n      <th>mse</th>\n      <th>rmse</th>\n      <th>r2</th>\n      <th>mae</th>\n      <th>mad</th>\n    </tr>\n  </thead>\n  <tbody>\n    <tr>\n      <th>SVR</th>\n      <td>859540.423062</td>\n      <td>927.114029</td>\n      <td>0.031754</td>\n      <td>724.008214</td>\n      <td>636.913593</td>\n    </tr>\n  </tbody>\n</table>\n</div>"
     },
     "metadata": {},
     "execution_count": 16
    }
   ],
   "source": [
    "exp = dx.Explainer(clf_noscale, X_test, y_test)\n",
    "mp_noscale_base = exp.model_performance(model_type = 'regression')\n",
    "\n",
    "mp_noscale_base.result"
   ]
  },
  {
   "cell_type": "code",
   "execution_count": 17,
   "metadata": {},
   "outputs": [],
   "source": [
    "clf_noscale = Pipeline([\n",
    "    ('preprocessor', preprocessor),\n",
    "    ('clf', SVR())\n",
    "])\n",
    "\n",
    "params = {\n",
    "    'clf__kernel': ['linear', 'poly', 'rbf', 'sigmoid'],\n",
    "    'clf__gamma': ['scale', 'auto'],\n",
    "    'clf__degree': list(range(1, 5)),  # ignored if kernel != 'poly'\n",
    "    'clf__C': [10**i for i in range(-2, 6)]\n",
    "}\n",
    "\n",
    "gs = RandomizedSearchCV(clf_noscale, params, n_iter=100, cv=5)"
   ]
  },
  {
   "cell_type": "code",
   "execution_count": 18,
   "metadata": {},
   "outputs": [
    {
     "output_type": "execute_result",
     "data": {
      "text/plain": [
       "RandomizedSearchCV(cv=5,\n",
       "                   estimator=Pipeline(steps=[('preprocessor',\n",
       "                                              ColumnTransformer(transformers=[('cat',\n",
       "                                                                               OneHotEncoder(),\n",
       "                                                                               ['district'])])),\n",
       "                                             ('clf', SVR())]),\n",
       "                   n_iter=100,\n",
       "                   param_distributions={'clf__C': [0.01, 0.1, 1, 10, 100, 1000,\n",
       "                                                   10000, 100000],\n",
       "                                        'clf__degree': [1, 2, 3, 4],\n",
       "                                        'clf__gamma': ['scale', 'auto'],\n",
       "                                        'clf__kernel': ['linear', 'poly', 'rbf',\n",
       "                                                        'sigmoid']})"
      ]
     },
     "metadata": {},
     "execution_count": 18
    }
   ],
   "source": [
    "gs.fit(X_train, y_train)"
   ]
  },
  {
   "cell_type": "code",
   "execution_count": 19,
   "metadata": {},
   "outputs": [
    {
     "output_type": "execute_result",
     "data": {
      "text/plain": [
       "{'clf__kernel': 'poly', 'clf__gamma': 'scale', 'clf__degree': 3, 'clf__C': 100}"
      ]
     },
     "metadata": {},
     "execution_count": 19
    }
   ],
   "source": [
    "gs.best_params_"
   ]
  },
  {
   "cell_type": "code",
   "execution_count": 20,
   "metadata": {},
   "outputs": [
    {
     "output_type": "stream",
     "name": "stdout",
     "text": [
      "Preparation of a new explainer is initiated\n\n  -> data              : 330 rows 5 cols\n  -> target variable   : Parameter 'y' was a pandas.Series. Converted to a numpy.ndarray.\n  -> target variable   : 330 values\n  -> model_class       : sklearn.svm._classes.SVR (default)\n  -> label             : Not specified, model's class short name will be used. (default)\n  -> predict function  : <function yhat_default at 0x000002819C56D488> will be used (default)\n  -> predict function  : Accepts only pandas.DataFrame, numpy.ndarray causes problems.\n  -> predicted values  : min = 3e+03, mean = 3.51e+03, max = 5.07e+03\n  -> model type        : regression will be used (default)\n  -> residual function : difference between y and yhat (default)\n  -> residuals         : min = -1.5e+03, mean = 11.7, max = 1.58e+03\n  -> model_info        : package sklearn\n\nA new explainer has been created!\n"
     ]
    },
    {
     "output_type": "execute_result",
     "data": {
      "text/plain": [
       "               mse        rmse        r2         mae         mad\n",
       "SVR  400626.257917  632.950439  0.548707  514.807103  444.126758"
      ],
      "text/html": "<div>\n<style scoped>\n    .dataframe tbody tr th:only-of-type {\n        vertical-align: middle;\n    }\n\n    .dataframe tbody tr th {\n        vertical-align: top;\n    }\n\n    .dataframe thead th {\n        text-align: right;\n    }\n</style>\n<table border=\"1\" class=\"dataframe\">\n  <thead>\n    <tr style=\"text-align: right;\">\n      <th></th>\n      <th>mse</th>\n      <th>rmse</th>\n      <th>r2</th>\n      <th>mae</th>\n      <th>mad</th>\n    </tr>\n  </thead>\n  <tbody>\n    <tr>\n      <th>SVR</th>\n      <td>400626.257917</td>\n      <td>632.950439</td>\n      <td>0.548707</td>\n      <td>514.807103</td>\n      <td>444.126758</td>\n    </tr>\n  </tbody>\n</table>\n</div>"
     },
     "metadata": {},
     "execution_count": 20
    }
   ],
   "source": [
    "exp = dx.Explainer(gs.best_estimator_, X_test, y_test)\n",
    "mp_noscale_tuned = exp.model_performance(model_type = 'regression')\n",
    "\n",
    "mp_noscale_tuned.result"
   ]
  },
  {
   "source": [
    "### Conclusion"
   ],
   "cell_type": "markdown",
   "metadata": {}
  },
  {
   "cell_type": "code",
   "execution_count": 21,
   "metadata": {},
   "outputs": [
    {
     "output_type": "stream",
     "name": "stdout",
     "text": [
      "Model with scaling data\n"
     ]
    },
    {
     "output_type": "display_data",
     "data": {
      "text/plain": "              mse        rmse       r2         mae      mad\nSVR  25016.293541  158.165399  0.97182  123.319991  91.1975",
      "text/html": "<div>\n<style scoped>\n    .dataframe tbody tr th:only-of-type {\n        vertical-align: middle;\n    }\n\n    .dataframe tbody tr th {\n        vertical-align: top;\n    }\n\n    .dataframe thead th {\n        text-align: right;\n    }\n</style>\n<table border=\"1\" class=\"dataframe\">\n  <thead>\n    <tr style=\"text-align: right;\">\n      <th></th>\n      <th>mse</th>\n      <th>rmse</th>\n      <th>r2</th>\n      <th>mae</th>\n      <th>mad</th>\n    </tr>\n  </thead>\n  <tbody>\n    <tr>\n      <th>SVR</th>\n      <td>25016.293541</td>\n      <td>158.165399</td>\n      <td>0.97182</td>\n      <td>123.319991</td>\n      <td>91.1975</td>\n    </tr>\n  </tbody>\n</table>\n</div>"
     },
     "metadata": {}
    },
    {
     "output_type": "stream",
     "name": "stdout",
     "text": [
      "\n\nModel without scaling data\n"
     ]
    },
    {
     "output_type": "display_data",
     "data": {
      "text/plain": "               mse        rmse        r2         mae         mad\nSVR  400626.257917  632.950439  0.548707  514.807103  444.126758",
      "text/html": "<div>\n<style scoped>\n    .dataframe tbody tr th:only-of-type {\n        vertical-align: middle;\n    }\n\n    .dataframe tbody tr th {\n        vertical-align: top;\n    }\n\n    .dataframe thead th {\n        text-align: right;\n    }\n</style>\n<table border=\"1\" class=\"dataframe\">\n  <thead>\n    <tr style=\"text-align: right;\">\n      <th></th>\n      <th>mse</th>\n      <th>rmse</th>\n      <th>r2</th>\n      <th>mae</th>\n      <th>mad</th>\n    </tr>\n  </thead>\n  <tbody>\n    <tr>\n      <th>SVR</th>\n      <td>400626.257917</td>\n      <td>632.950439</td>\n      <td>0.548707</td>\n      <td>514.807103</td>\n      <td>444.126758</td>\n    </tr>\n  </tbody>\n</table>\n</div>"
     },
     "metadata": {}
    }
   ],
   "source": [
    "print(\"Model with scaling data\")\n",
    "display(mp_tuned.result)\n",
    "print(\"\\n\")\n",
    "print(\"Model without scaling data\")\n",
    "display(mp_noscale_tuned.result)\n"
   ]
  },
  {
   "source": [
    "After tuning both models, there is a big difference in results. <br /> In conlusion, when using SVM algorithm the data should be scaled."
   ],
   "cell_type": "markdown",
   "metadata": {}
  },
  {
   "source": [
    "## Concrete Strength dataset"
   ],
   "cell_type": "markdown",
   "metadata": {}
  },
  {
   "cell_type": "code",
   "execution_count": 22,
   "metadata": {},
   "outputs": [
    {
     "output_type": "execute_result",
     "data": {
      "text/plain": [
       "   cement   slag  flyash  water  superplasticizer  coarseaggregate  \\\n",
       "0   540.0    0.0     0.0  162.0               2.5           1040.0   \n",
       "1   540.0    0.0     0.0  162.0               2.5           1055.0   \n",
       "2   332.5  142.5     0.0  228.0               0.0            932.0   \n",
       "3   332.5  142.5     0.0  228.0               0.0            932.0   \n",
       "4   198.6  132.4     0.0  192.0               0.0            978.4   \n",
       "\n",
       "   fineaggregate  age  csMPa  \n",
       "0          676.0   28  79.99  \n",
       "1          676.0   28  61.89  \n",
       "2          594.0  270  40.27  \n",
       "3          594.0  365  41.05  \n",
       "4          825.5  360  44.30  "
      ],
      "text/html": "<div>\n<style scoped>\n    .dataframe tbody tr th:only-of-type {\n        vertical-align: middle;\n    }\n\n    .dataframe tbody tr th {\n        vertical-align: top;\n    }\n\n    .dataframe thead th {\n        text-align: right;\n    }\n</style>\n<table border=\"1\" class=\"dataframe\">\n  <thead>\n    <tr style=\"text-align: right;\">\n      <th></th>\n      <th>cement</th>\n      <th>slag</th>\n      <th>flyash</th>\n      <th>water</th>\n      <th>superplasticizer</th>\n      <th>coarseaggregate</th>\n      <th>fineaggregate</th>\n      <th>age</th>\n      <th>csMPa</th>\n    </tr>\n  </thead>\n  <tbody>\n    <tr>\n      <th>0</th>\n      <td>540.0</td>\n      <td>0.0</td>\n      <td>0.0</td>\n      <td>162.0</td>\n      <td>2.5</td>\n      <td>1040.0</td>\n      <td>676.0</td>\n      <td>28</td>\n      <td>79.99</td>\n    </tr>\n    <tr>\n      <th>1</th>\n      <td>540.0</td>\n      <td>0.0</td>\n      <td>0.0</td>\n      <td>162.0</td>\n      <td>2.5</td>\n      <td>1055.0</td>\n      <td>676.0</td>\n      <td>28</td>\n      <td>61.89</td>\n    </tr>\n    <tr>\n      <th>2</th>\n      <td>332.5</td>\n      <td>142.5</td>\n      <td>0.0</td>\n      <td>228.0</td>\n      <td>0.0</td>\n      <td>932.0</td>\n      <td>594.0</td>\n      <td>270</td>\n      <td>40.27</td>\n    </tr>\n    <tr>\n      <th>3</th>\n      <td>332.5</td>\n      <td>142.5</td>\n      <td>0.0</td>\n      <td>228.0</td>\n      <td>0.0</td>\n      <td>932.0</td>\n      <td>594.0</td>\n      <td>365</td>\n      <td>41.05</td>\n    </tr>\n    <tr>\n      <th>4</th>\n      <td>198.6</td>\n      <td>132.4</td>\n      <td>0.0</td>\n      <td>192.0</td>\n      <td>0.0</td>\n      <td>978.4</td>\n      <td>825.5</td>\n      <td>360</td>\n      <td>44.30</td>\n    </tr>\n  </tbody>\n</table>\n</div>"
     },
     "metadata": {},
     "execution_count": 22
    }
   ],
   "source": [
    "df = pd.read_csv(\"Concrete_Data_Yeh.csv\")\n",
    "\n",
    "df.head()"
   ]
  },
  {
   "cell_type": "code",
   "execution_count": 23,
   "metadata": {},
   "outputs": [
    {
     "output_type": "execute_result",
     "data": {
      "text/plain": [
       "(1030, 9)"
      ]
     },
     "metadata": {},
     "execution_count": 23
    }
   ],
   "source": [
    "df.shape"
   ]
  },
  {
   "cell_type": "code",
   "execution_count": 24,
   "metadata": {},
   "outputs": [
    {
     "output_type": "stream",
     "name": "stdout",
     "text": [
      "<class 'pandas.core.frame.DataFrame'>\nRangeIndex: 1030 entries, 0 to 1029\nData columns (total 9 columns):\n #   Column            Non-Null Count  Dtype  \n---  ------            --------------  -----  \n 0   cement            1030 non-null   float64\n 1   slag              1030 non-null   float64\n 2   flyash            1030 non-null   float64\n 3   water             1030 non-null   float64\n 4   superplasticizer  1030 non-null   float64\n 5   coarseaggregate   1030 non-null   float64\n 6   fineaggregate     1030 non-null   float64\n 7   age               1030 non-null   int64  \n 8   csMPa             1030 non-null   float64\ndtypes: float64(8), int64(1)\nmemory usage: 72.5 KB\n"
     ]
    }
   ],
   "source": [
    "df.info()"
   ]
  },
  {
   "cell_type": "code",
   "execution_count": 25,
   "metadata": {},
   "outputs": [],
   "source": [
    "X = df.loc[:, df.columns != \"csMPa\"]\n",
    "y = df[\"csMPa\"]"
   ]
  },
  {
   "cell_type": "code",
   "execution_count": 26,
   "metadata": {},
   "outputs": [],
   "source": [
    "X_train, X_test, y_train, y_test = train_test_split(X, y, test_size=0.33, random_state=0)"
   ]
  },
  {
   "source": [
    "#### With scaling"
   ],
   "cell_type": "markdown",
   "metadata": {}
  },
  {
   "cell_type": "code",
   "execution_count": 27,
   "metadata": {},
   "outputs": [],
   "source": [
    "num_features = list(X.columns)\n",
    "\n",
    "preprocessor = ColumnTransformer(\n",
    "    transformers=[\n",
    "        ('num', MinMaxScaler(), num_features)\n",
    "    ]\n",
    ")\n",
    "\n",
    "clf = Pipeline([\n",
    "    ('preprocessor', preprocessor),\n",
    "    ('clf', SVR())\n",
    "])"
   ]
  },
  {
   "cell_type": "code",
   "execution_count": 28,
   "metadata": {},
   "outputs": [
    {
     "output_type": "execute_result",
     "data": {
      "text/plain": [
       "Pipeline(steps=[('preprocessor',\n",
       "                 ColumnTransformer(transformers=[('num', MinMaxScaler(),\n",
       "                                                  ['cement', 'slag', 'flyash',\n",
       "                                                   'water', 'superplasticizer',\n",
       "                                                   'coarseaggregate',\n",
       "                                                   'fineaggregate', 'age'])])),\n",
       "                ('clf', SVR())])"
      ]
     },
     "metadata": {},
     "execution_count": 28
    }
   ],
   "source": [
    "clf.fit(X_train, y_train)"
   ]
  },
  {
   "cell_type": "code",
   "execution_count": 29,
   "metadata": {},
   "outputs": [
    {
     "output_type": "stream",
     "name": "stdout",
     "text": [
      "Preparation of a new explainer is initiated\n\n  -> data              : 340 rows 8 cols\n  -> target variable   : Parameter 'y' was a pandas.Series. Converted to a numpy.ndarray.\n  -> target variable   : 340 values\n  -> model_class       : sklearn.svm._classes.SVR (default)\n  -> label             : Not specified, model's class short name will be used. (default)\n  -> predict function  : <function yhat_default at 0x000002819C56D488> will be used (default)\n  -> predict function  : Accepts only pandas.DataFrame, numpy.ndarray causes problems.\n  -> predicted values  : min = 16.2, mean = 34.9, max = 58.5\n  -> model type        : regression will be used (default)\n  -> residual function : difference between y and yhat (default)\n  -> residuals         : min = -27.0, mean = 0.855, max = 31.7\n  -> model_info        : package sklearn\n\nA new explainer has been created!\n"
     ]
    },
    {
     "output_type": "execute_result",
     "data": {
      "text/plain": [
       "            mse       rmse        r2      mae       mad\n",
       "SVR  103.347055  10.165975  0.598675  8.18407  6.780102"
      ],
      "text/html": "<div>\n<style scoped>\n    .dataframe tbody tr th:only-of-type {\n        vertical-align: middle;\n    }\n\n    .dataframe tbody tr th {\n        vertical-align: top;\n    }\n\n    .dataframe thead th {\n        text-align: right;\n    }\n</style>\n<table border=\"1\" class=\"dataframe\">\n  <thead>\n    <tr style=\"text-align: right;\">\n      <th></th>\n      <th>mse</th>\n      <th>rmse</th>\n      <th>r2</th>\n      <th>mae</th>\n      <th>mad</th>\n    </tr>\n  </thead>\n  <tbody>\n    <tr>\n      <th>SVR</th>\n      <td>103.347055</td>\n      <td>10.165975</td>\n      <td>0.598675</td>\n      <td>8.18407</td>\n      <td>6.780102</td>\n    </tr>\n  </tbody>\n</table>\n</div>"
     },
     "metadata": {},
     "execution_count": 29
    }
   ],
   "source": [
    "exp = dx.Explainer(clf, X_test, y_test)\n",
    "\n",
    "mp_base = exp.model_performance(model_type = 'regression')\n",
    "mp_base.result"
   ]
  },
  {
   "cell_type": "code",
   "execution_count": 30,
   "metadata": {},
   "outputs": [],
   "source": [
    "clf = Pipeline([\n",
    "    ('preprocessor', preprocessor),\n",
    "    ('clf', SVR(max_iter=1000))\n",
    "])\n",
    "\n",
    "params = {\n",
    "    'clf__kernel': ['linear', 'poly', 'rbf', 'sigmoid'],\n",
    "    'clf__gamma': ['scale', 'auto'],\n",
    "    'clf__degree': list(range(1, 5)),  # ignored if kernel != 'poly'\n",
    "    'clf__C': [10**i for i in range(-2, 6)]\n",
    "}\n",
    "\n",
    "gs = RandomizedSearchCV(clf, params, n_iter=50, cv=5)"
   ]
  },
  {
   "cell_type": "code",
   "execution_count": 31,
   "metadata": {},
   "outputs": [
    {
     "output_type": "execute_result",
     "data": {
      "text/plain": [
       "RandomizedSearchCV(cv=5,\n",
       "                   estimator=Pipeline(steps=[('preprocessor',\n",
       "                                              ColumnTransformer(transformers=[('num',\n",
       "                                                                               MinMaxScaler(),\n",
       "                                                                               ['cement',\n",
       "                                                                                'slag',\n",
       "                                                                                'flyash',\n",
       "                                                                                'water',\n",
       "                                                                                'superplasticizer',\n",
       "                                                                                'coarseaggregate',\n",
       "                                                                                'fineaggregate',\n",
       "                                                                                'age'])])),\n",
       "                                             ('clf', SVR(max_iter=1000))]),\n",
       "                   n_iter=50,\n",
       "                   param_distributions={'clf__C': [0.01, 0.1, 1, 10, 100, 1000,\n",
       "                                                   10000, 100000],\n",
       "                                        'clf__degree': [1, 2, 3, 4],\n",
       "                                        'clf__gamma': ['scale', 'auto'],\n",
       "                                        'clf__kernel': ['linear', 'poly', 'rbf',\n",
       "                                                        'sigmoid']})"
      ]
     },
     "metadata": {},
     "execution_count": 31
    }
   ],
   "source": [
    "gs.fit(X_train, y_train)"
   ]
  },
  {
   "cell_type": "code",
   "execution_count": 32,
   "metadata": {},
   "outputs": [
    {
     "output_type": "execute_result",
     "data": {
      "text/plain": [
       "{'clf__kernel': 'poly',\n",
       " 'clf__gamma': 'auto',\n",
       " 'clf__degree': 4,\n",
       " 'clf__C': 100000}"
      ]
     },
     "metadata": {},
     "execution_count": 32
    }
   ],
   "source": [
    "gs.best_params_"
   ]
  },
  {
   "cell_type": "code",
   "execution_count": 33,
   "metadata": {},
   "outputs": [
    {
     "output_type": "stream",
     "name": "stdout",
     "text": [
      "Preparation of a new explainer is initiated\n\n  -> data              : 340 rows 8 cols\n  -> target variable   : Parameter 'y' was a pandas.Series. Converted to a numpy.ndarray.\n  -> target variable   : 340 values\n  -> model_class       : sklearn.svm._classes.SVR (default)\n  -> label             : Not specified, model's class short name will be used. (default)\n  -> predict function  : <function yhat_default at 0x000002819C56D488> will be used (default)\n  -> predict function  : Accepts only pandas.DataFrame, numpy.ndarray causes problems.\n  -> predicted values  : min = -0.0676, mean = 34.5, max = 88.7\n  -> model type        : regression will be used (default)\n  -> residual function : difference between y and yhat (default)\n  -> residuals         : min = -21.8, mean = 1.26, max = 33.4\n  -> model_info        : package sklearn\n\nA new explainer has been created!\n"
     ]
    },
    {
     "output_type": "execute_result",
     "data": {
      "text/plain": [
       "           mse      rmse        r2       mae       mad\n",
       "SVR  53.012413  7.280962  0.794138  5.420213  4.184453"
      ],
      "text/html": "<div>\n<style scoped>\n    .dataframe tbody tr th:only-of-type {\n        vertical-align: middle;\n    }\n\n    .dataframe tbody tr th {\n        vertical-align: top;\n    }\n\n    .dataframe thead th {\n        text-align: right;\n    }\n</style>\n<table border=\"1\" class=\"dataframe\">\n  <thead>\n    <tr style=\"text-align: right;\">\n      <th></th>\n      <th>mse</th>\n      <th>rmse</th>\n      <th>r2</th>\n      <th>mae</th>\n      <th>mad</th>\n    </tr>\n  </thead>\n  <tbody>\n    <tr>\n      <th>SVR</th>\n      <td>53.012413</td>\n      <td>7.280962</td>\n      <td>0.794138</td>\n      <td>5.420213</td>\n      <td>4.184453</td>\n    </tr>\n  </tbody>\n</table>\n</div>"
     },
     "metadata": {},
     "execution_count": 33
    }
   ],
   "source": [
    "exp = dx.Explainer(gs.best_estimator_, X_test, y_test)\n",
    "mp_tuned = exp.model_performance(model_type = 'regression')\n",
    "mp_tuned.result"
   ]
  },
  {
   "source": [
    "#### Without scaling"
   ],
   "cell_type": "markdown",
   "metadata": {}
  },
  {
   "cell_type": "code",
   "execution_count": 34,
   "metadata": {},
   "outputs": [
    {
     "output_type": "execute_result",
     "data": {
      "text/plain": [
       "SVR()"
      ]
     },
     "metadata": {},
     "execution_count": 34
    }
   ],
   "source": [
    "clf_noscale = SVR()\n",
    "\n",
    "clf_noscale.fit(X_train, y_train)"
   ]
  },
  {
   "cell_type": "code",
   "execution_count": 35,
   "metadata": {},
   "outputs": [
    {
     "output_type": "stream",
     "name": "stdout",
     "text": [
      "Preparation of a new explainer is initiated\n\n  -> data              : 340 rows 8 cols\n  -> target variable   : Parameter 'y' was a pandas.Series. Converted to a numpy.ndarray.\n  -> target variable   : 340 values\n  -> model_class       : sklearn.svm._classes.SVR (default)\n  -> label             : Not specified, model's class short name will be used. (default)\n  -> predict function  : <function yhat_default at 0x000002819C56D488> will be used (default)\n  -> predict function  : Accepts pandas.DataFrame and numpy.ndarray.\n  -> predicted values  : min = 27.9, mean = 34.0, max = 42.7\n  -> model type        : regression will be used (default)\n  -> residual function : difference between y and yhat (default)\n  -> residuals         : min = -26.2, mean = 1.8, max = 42.5\n  -> model_info        : package sklearn\n\nA new explainer has been created!\n"
     ]
    },
    {
     "output_type": "execute_result",
     "data": {
      "text/plain": [
       "            mse       rmse        r2        mae       mad\n",
       "SVR  199.650601  14.129777  0.224702  11.307331  9.898856"
      ],
      "text/html": "<div>\n<style scoped>\n    .dataframe tbody tr th:only-of-type {\n        vertical-align: middle;\n    }\n\n    .dataframe tbody tr th {\n        vertical-align: top;\n    }\n\n    .dataframe thead th {\n        text-align: right;\n    }\n</style>\n<table border=\"1\" class=\"dataframe\">\n  <thead>\n    <tr style=\"text-align: right;\">\n      <th></th>\n      <th>mse</th>\n      <th>rmse</th>\n      <th>r2</th>\n      <th>mae</th>\n      <th>mad</th>\n    </tr>\n  </thead>\n  <tbody>\n    <tr>\n      <th>SVR</th>\n      <td>199.650601</td>\n      <td>14.129777</td>\n      <td>0.224702</td>\n      <td>11.307331</td>\n      <td>9.898856</td>\n    </tr>\n  </tbody>\n</table>\n</div>"
     },
     "metadata": {},
     "execution_count": 35
    }
   ],
   "source": [
    "exp = dx.Explainer(clf_noscale, X_test, y_test)\n",
    "mp_noscale_base = exp.model_performance(model_type = 'regression')\n",
    "mp_noscale_base.result"
   ]
  },
  {
   "cell_type": "code",
   "execution_count": 36,
   "metadata": {},
   "outputs": [],
   "source": [
    "clf = SVR(max_iter=1000)  # Had to limit the number of iterations as it would not converge in a sensible time.\n",
    "\n",
    "params = {\n",
    "    'kernel': ['linear', 'poly', 'rbf', 'sigmoid'],\n",
    "    'gamma': ['scale', 'auto'],\n",
    "    'degree': list(range(1, 5)),  # ignored if kernel != 'poly'\n",
    "    'C': [10**i for i in range(-2, 6)]\n",
    "}\n",
    "\n",
    "gs = RandomizedSearchCV(clf, params, n_iter=50, cv=5)"
   ]
  },
  {
   "cell_type": "code",
   "execution_count": 37,
   "metadata": {},
   "outputs": [
    {
     "output_type": "execute_result",
     "data": {
      "text/plain": [
       "RandomizedSearchCV(cv=5, estimator=SVR(max_iter=1000), n_iter=50,\n",
       "                   param_distributions={'C': [0.01, 0.1, 1, 10, 100, 1000,\n",
       "                                              10000, 100000],\n",
       "                                        'degree': [1, 2, 3, 4],\n",
       "                                        'gamma': ['scale', 'auto'],\n",
       "                                        'kernel': ['linear', 'poly', 'rbf',\n",
       "                                                   'sigmoid']})"
      ]
     },
     "metadata": {},
     "execution_count": 37
    }
   ],
   "source": [
    "gs.fit(X_train, y_train)"
   ]
  },
  {
   "cell_type": "code",
   "execution_count": 38,
   "metadata": {},
   "outputs": [
    {
     "output_type": "execute_result",
     "data": {
      "text/plain": [
       "{'kernel': 'rbf', 'gamma': 'scale', 'degree': 4, 'C': 100}"
      ]
     },
     "metadata": {},
     "execution_count": 38
    }
   ],
   "source": [
    "gs.best_params_"
   ]
  },
  {
   "cell_type": "code",
   "execution_count": 39,
   "metadata": {},
   "outputs": [
    {
     "output_type": "stream",
     "name": "stdout",
     "text": [
      "Preparation of a new explainer is initiated\n\n  -> data              : 340 rows 8 cols\n  -> target variable   : Parameter 'y' was a pandas.Series. Converted to a numpy.ndarray.\n  -> target variable   : 340 values\n  -> model_class       : sklearn.svm._classes.SVR (default)\n  -> label             : Not specified, model's class short name will be used. (default)\n  -> predict function  : <function yhat_default at 0x000002819C56D488> will be used (default)\n  -> predict function  : Accepts pandas.DataFrame and numpy.ndarray.\n  -> predicted values  : min = 7.48, mean = 35.4, max = 74.8\n  -> model type        : regression will be used (default)\n  -> residual function : difference between y and yhat (default)\n  -> residuals         : min = -27.3, mean = 0.408, max = 25.3\n  -> model_info        : package sklearn\n\nA new explainer has been created!\n"
     ]
    },
    {
     "output_type": "execute_result",
     "data": {
      "text/plain": [
       "           mse      rmse        r2      mae       mad\n",
       "SVR  68.929421  8.302374  0.732328  6.29009  4.675846"
      ],
      "text/html": "<div>\n<style scoped>\n    .dataframe tbody tr th:only-of-type {\n        vertical-align: middle;\n    }\n\n    .dataframe tbody tr th {\n        vertical-align: top;\n    }\n\n    .dataframe thead th {\n        text-align: right;\n    }\n</style>\n<table border=\"1\" class=\"dataframe\">\n  <thead>\n    <tr style=\"text-align: right;\">\n      <th></th>\n      <th>mse</th>\n      <th>rmse</th>\n      <th>r2</th>\n      <th>mae</th>\n      <th>mad</th>\n    </tr>\n  </thead>\n  <tbody>\n    <tr>\n      <th>SVR</th>\n      <td>68.929421</td>\n      <td>8.302374</td>\n      <td>0.732328</td>\n      <td>6.29009</td>\n      <td>4.675846</td>\n    </tr>\n  </tbody>\n</table>\n</div>"
     },
     "metadata": {},
     "execution_count": 39
    }
   ],
   "source": [
    "exp = dx.Explainer(gs.best_estimator_, X_test, y_test)\n",
    "\n",
    "mp_noscale_tuned = exp.model_performance(model_type = 'regression')\n",
    "mp_noscale_tuned.result"
   ]
  },
  {
   "source": [
    "#### Conclusion"
   ],
   "cell_type": "markdown",
   "metadata": {}
  },
  {
   "cell_type": "code",
   "execution_count": 40,
   "metadata": {},
   "outputs": [
    {
     "output_type": "stream",
     "name": "stdout",
     "text": [
      "Model with scaling data\n"
     ]
    },
    {
     "output_type": "display_data",
     "data": {
      "text/plain": "           mse      rmse        r2       mae       mad\nSVR  53.012413  7.280962  0.794138  5.420213  4.184453",
      "text/html": "<div>\n<style scoped>\n    .dataframe tbody tr th:only-of-type {\n        vertical-align: middle;\n    }\n\n    .dataframe tbody tr th {\n        vertical-align: top;\n    }\n\n    .dataframe thead th {\n        text-align: right;\n    }\n</style>\n<table border=\"1\" class=\"dataframe\">\n  <thead>\n    <tr style=\"text-align: right;\">\n      <th></th>\n      <th>mse</th>\n      <th>rmse</th>\n      <th>r2</th>\n      <th>mae</th>\n      <th>mad</th>\n    </tr>\n  </thead>\n  <tbody>\n    <tr>\n      <th>SVR</th>\n      <td>53.012413</td>\n      <td>7.280962</td>\n      <td>0.794138</td>\n      <td>5.420213</td>\n      <td>4.184453</td>\n    </tr>\n  </tbody>\n</table>\n</div>"
     },
     "metadata": {}
    },
    {
     "output_type": "stream",
     "name": "stdout",
     "text": [
      "\n\nModel without scaling data\n"
     ]
    },
    {
     "output_type": "display_data",
     "data": {
      "text/plain": "           mse      rmse        r2      mae       mad\nSVR  68.929421  8.302374  0.732328  6.29009  4.675846",
      "text/html": "<div>\n<style scoped>\n    .dataframe tbody tr th:only-of-type {\n        vertical-align: middle;\n    }\n\n    .dataframe tbody tr th {\n        vertical-align: top;\n    }\n\n    .dataframe thead th {\n        text-align: right;\n    }\n</style>\n<table border=\"1\" class=\"dataframe\">\n  <thead>\n    <tr style=\"text-align: right;\">\n      <th></th>\n      <th>mse</th>\n      <th>rmse</th>\n      <th>r2</th>\n      <th>mae</th>\n      <th>mad</th>\n    </tr>\n  </thead>\n  <tbody>\n    <tr>\n      <th>SVR</th>\n      <td>68.929421</td>\n      <td>8.302374</td>\n      <td>0.732328</td>\n      <td>6.29009</td>\n      <td>4.675846</td>\n    </tr>\n  </tbody>\n</table>\n</div>"
     },
     "metadata": {}
    }
   ],
   "source": [
    "print(\"Model with scaling data\")\n",
    "display(mp_tuned.result)\n",
    "print(\"\\n\")\n",
    "print(\"Model without scaling data\")\n",
    "display(mp_noscale_tuned.result)\n"
   ]
  },
  {
   "source": [
    "Again, the model without scaled data did worse, although the difference is not as big as in the apartments dataset, but it is important to note, that without setting `max_iter` parameter in the unscaled data model, it takes really long time to converge. Therefore, for this dataset the conclusion is again that if using SVM algorithm, the data should be scaled beforehand."
   ],
   "cell_type": "markdown",
   "metadata": {}
  },
  {
   "source": [
    "### Extra task"
   ],
   "cell_type": "markdown",
   "metadata": {}
  },
  {
   "cell_type": "code",
   "execution_count": 41,
   "metadata": {},
   "outputs": [
    {
     "output_type": "execute_result",
     "data": {
      "text/plain": [
       "                                               categories   price  \\\n",
       "0       ['Komputery', 'Dyski i napędy', 'Nośniki', 'No...   59.99   \n",
       "1       ['Odzież, Obuwie, Dodatki', 'Bielizna damska',...    4.90   \n",
       "2       ['Dom i Ogród', 'Budownictwo i Akcesoria', 'Śc...  109.90   \n",
       "3       ['Książki i Komiksy', 'Poradniki i albumy', 'Z...   18.50   \n",
       "4       ['Odzież, Obuwie, Dodatki', 'Ślub i wesele', '...   19.90   \n",
       "...                                                   ...     ...   \n",
       "420015  ['RTV i AGD', 'Sprzęt audio dla domu', 'Odtwar...  180.00   \n",
       "420016      ['Uroda', 'Makijaż', 'Oczy', 'Tusze do rzęs']   14.99   \n",
       "420017  ['Odzież, Obuwie, Dodatki', 'Przebrania, kosti...    5.99   \n",
       "420018  ['Dla Dzieci', 'Rowery i pojazdy', 'Rowery bie...  200.00   \n",
       "420019  ['Motoryzacja', 'Części samochodowe', 'Koła, f...  500.00   \n",
       "\n",
       "                it_location            main_category  \n",
       "0                  Warszawa                Komputery  \n",
       "1                  Warszawa  Odzież, Obuwie, Dodatki  \n",
       "2                    Leszno              Dom i Ogród  \n",
       "3       Wola Krzysztoporska        Książki i Komiksy  \n",
       "4                 BIAŁYSTOK  Odzież, Obuwie, Dodatki  \n",
       "...                     ...                      ...  \n",
       "420015              Kraśnik                RTV i AGD  \n",
       "420016          Dzierżoniów                    Uroda  \n",
       "420017              Supraśl  Odzież, Obuwie, Dodatki  \n",
       "420018               Poznań               Dla Dzieci  \n",
       "420019                Pszów              Motoryzacja  \n",
       "\n",
       "[420020 rows x 4 columns]"
      ],
      "text/html": "<div>\n<style scoped>\n    .dataframe tbody tr th:only-of-type {\n        vertical-align: middle;\n    }\n\n    .dataframe tbody tr th {\n        vertical-align: top;\n    }\n\n    .dataframe thead th {\n        text-align: right;\n    }\n</style>\n<table border=\"1\" class=\"dataframe\">\n  <thead>\n    <tr style=\"text-align: right;\">\n      <th></th>\n      <th>categories</th>\n      <th>price</th>\n      <th>it_location</th>\n      <th>main_category</th>\n    </tr>\n  </thead>\n  <tbody>\n    <tr>\n      <th>0</th>\n      <td>['Komputery', 'Dyski i napędy', 'Nośniki', 'No...</td>\n      <td>59.99</td>\n      <td>Warszawa</td>\n      <td>Komputery</td>\n    </tr>\n    <tr>\n      <th>1</th>\n      <td>['Odzież, Obuwie, Dodatki', 'Bielizna damska',...</td>\n      <td>4.90</td>\n      <td>Warszawa</td>\n      <td>Odzież, Obuwie, Dodatki</td>\n    </tr>\n    <tr>\n      <th>2</th>\n      <td>['Dom i Ogród', 'Budownictwo i Akcesoria', 'Śc...</td>\n      <td>109.90</td>\n      <td>Leszno</td>\n      <td>Dom i Ogród</td>\n    </tr>\n    <tr>\n      <th>3</th>\n      <td>['Książki i Komiksy', 'Poradniki i albumy', 'Z...</td>\n      <td>18.50</td>\n      <td>Wola Krzysztoporska</td>\n      <td>Książki i Komiksy</td>\n    </tr>\n    <tr>\n      <th>4</th>\n      <td>['Odzież, Obuwie, Dodatki', 'Ślub i wesele', '...</td>\n      <td>19.90</td>\n      <td>BIAŁYSTOK</td>\n      <td>Odzież, Obuwie, Dodatki</td>\n    </tr>\n    <tr>\n      <th>...</th>\n      <td>...</td>\n      <td>...</td>\n      <td>...</td>\n      <td>...</td>\n    </tr>\n    <tr>\n      <th>420015</th>\n      <td>['RTV i AGD', 'Sprzęt audio dla domu', 'Odtwar...</td>\n      <td>180.00</td>\n      <td>Kraśnik</td>\n      <td>RTV i AGD</td>\n    </tr>\n    <tr>\n      <th>420016</th>\n      <td>['Uroda', 'Makijaż', 'Oczy', 'Tusze do rzęs']</td>\n      <td>14.99</td>\n      <td>Dzierżoniów</td>\n      <td>Uroda</td>\n    </tr>\n    <tr>\n      <th>420017</th>\n      <td>['Odzież, Obuwie, Dodatki', 'Przebrania, kosti...</td>\n      <td>5.99</td>\n      <td>Supraśl</td>\n      <td>Odzież, Obuwie, Dodatki</td>\n    </tr>\n    <tr>\n      <th>420018</th>\n      <td>['Dla Dzieci', 'Rowery i pojazdy', 'Rowery bie...</td>\n      <td>200.00</td>\n      <td>Poznań</td>\n      <td>Dla Dzieci</td>\n    </tr>\n    <tr>\n      <th>420019</th>\n      <td>['Motoryzacja', 'Części samochodowe', 'Koła, f...</td>\n      <td>500.00</td>\n      <td>Pszów</td>\n      <td>Motoryzacja</td>\n    </tr>\n  </tbody>\n</table>\n<p>420020 rows × 4 columns</p>\n</div>"
     },
     "metadata": {},
     "execution_count": 41
    }
   ],
   "source": [
    "df = pd.read_csv('allegro-api-transactions.csv', usecols=['main_category', 'categories', 'it_location', 'price'])\n",
    "\n",
    "df"
   ]
  },
  {
   "source": [
    "As in homework 2, the `it_location` feature could be a bit normalized by either changing values to all uppercase or lowercase. There are also some locations which are not just city names, but for this task I am not going to preprocess that."
   ],
   "cell_type": "markdown",
   "metadata": {}
  },
  {
   "cell_type": "code",
   "execution_count": 42,
   "metadata": {},
   "outputs": [
    {
     "output_type": "execute_result",
     "data": {
      "text/plain": [
       "Warszawa     23244\n",
       "Kraków       15135\n",
       "Łódź         10935\n",
       "Poznań       10610\n",
       "Wrocław       8646\n",
       "             ...  \n",
       "FB               1\n",
       "Luban            1\n",
       "Kępno            1\n",
       "GROTKI           1\n",
       "Bieńkówka        1\n",
       "Name: it_location, Length: 10056, dtype: int64"
      ]
     },
     "metadata": {},
     "execution_count": 42
    }
   ],
   "source": [
    "df.it_location.value_counts()"
   ]
  },
  {
   "cell_type": "code",
   "execution_count": 43,
   "metadata": {},
   "outputs": [],
   "source": [
    "df.it_location = df.it_location.str.lower()"
   ]
  },
  {
   "cell_type": "code",
   "execution_count": 44,
   "metadata": {},
   "outputs": [
    {
     "output_type": "execute_result",
     "data": {
      "text/plain": [
       "warszawa                            27042\n",
       "kraków                              16581\n",
       "łódź                                12433\n",
       "poznań                              11197\n",
       "internet                            10992\n",
       "                                    ...  \n",
       "kotowa wola                             1\n",
       "wielkopolska przeźmierowo poznań        1\n",
       "jarosław (munina)                       1\n",
       "nowy jasiniec                           1\n",
       "chruszczobród                           1\n",
       "Name: it_location, Length: 7903, dtype: int64"
      ]
     },
     "metadata": {},
     "execution_count": 44
    }
   ],
   "source": [
    "df.it_location.value_counts()"
   ]
  },
  {
   "cell_type": "code",
   "execution_count": 45,
   "metadata": {},
   "outputs": [],
   "source": [
    "X = df.loc[:, df.columns != \"price\"]\n",
    "y = df.price"
   ]
  },
  {
   "cell_type": "code",
   "execution_count": 46,
   "metadata": {},
   "outputs": [],
   "source": [
    "X_train, X_test, y_train, y_test = train_test_split(X, y, test_size=0.33, random_state=0)"
   ]
  },
  {
   "source": [
    "The `smoothing` parameter in `TargetEncoder` is used to balance out the value counts."
   ],
   "cell_type": "markdown",
   "metadata": {}
  },
  {
   "cell_type": "code",
   "execution_count": 47,
   "metadata": {},
   "outputs": [
    {
     "output_type": "stream",
     "name": "stdout",
     "text": [
      "RMSE: 359.54602952317157\nR2: 0.09272522764147972\n"
     ]
    }
   ],
   "source": [
    "preprocessor = ColumnTransformer(\n",
    "    transformers=[\n",
    "        ('cat', TargetEncoder(smoothing=0.5), list(X.columns))\n",
    "    ]\n",
    ")\n",
    "\n",
    "clf_lr = Pipeline([\n",
    "    ('preprocessor', preprocessor),\n",
    "    ('clf', LinearRegression(n_jobs=-1))\n",
    "])\n",
    "\n",
    "clf_lr.fit(X_train, y_train)\n",
    "\n",
    "y_pred = clf_lr.predict(X_test)\n",
    "\n",
    "print(f\"RMSE: {sqrt(mse(y_test, y_pred))}\")\n",
    "print(f\"R2: {r2_score(y_test, y_pred)}\")"
   ]
  },
  {
   "source": [
    "Lasso uses L1 regularization. The `alpha` parameter controls it, the default is `1.0` and when it's zero then it's same as Linear Regression."
   ],
   "cell_type": "markdown",
   "metadata": {}
  },
  {
   "cell_type": "code",
   "execution_count": 48,
   "metadata": {},
   "outputs": [
    {
     "output_type": "stream",
     "name": "stdout",
     "text": [
      "RMSE: 359.545250409118\nR2: 0.09272915965408246\n"
     ]
    }
   ],
   "source": [
    "clf_lasso = Pipeline([\n",
    "    ('preprocessor', preprocessor),\n",
    "    ('clf', Lasso())\n",
    "])\n",
    "\n",
    "clf_lasso.fit(X_train, y_train)\n",
    "\n",
    "y_pred = clf_lasso.predict(X_test)\n",
    "\n",
    "print(f\"RMSE: {sqrt(mse(y_test, y_pred))}\")\n",
    "print(f\"R2: {r2_score(y_test, y_pred)}\")"
   ]
  },
  {
   "source": [
    "ElasticNet uses both L1 and L2 regularization. "
   ],
   "cell_type": "markdown",
   "metadata": {}
  },
  {
   "cell_type": "code",
   "execution_count": 49,
   "metadata": {},
   "outputs": [
    {
     "output_type": "stream",
     "name": "stdout",
     "text": [
      "RMSE: 359.54516188394405\nR2: 0.09272960642009609\n"
     ]
    }
   ],
   "source": [
    "clf_en = Pipeline([\n",
    "    ('preprocessor', preprocessor),\n",
    "    ('clf', ElasticNet())\n",
    "])\n",
    "\n",
    "clf_en.fit(X_train, y_train)\n",
    "\n",
    "y_pred = clf_en.predict(X_test)\n",
    "\n",
    "print(f\"RMSE: {sqrt(mse(y_test, y_pred))}\")\n",
    "print(f\"R2: {r2_score(y_test, y_pred)}\")"
   ]
  },
  {
   "cell_type": "code",
   "execution_count": 51,
   "metadata": {},
   "outputs": [
    {
     "output_type": "stream",
     "name": "stdout",
     "text": [
      "RMSE: 356.641915767781\nR2: 0.10732245832547005\n"
     ]
    }
   ],
   "source": [
    "clf_xgb = Pipeline([\n",
    "    ('preprocessor', preprocessor),\n",
    "    ('clf', xgb.XGBRegressor(max_depth=3))\n",
    "])\n",
    "\n",
    "clf_xgb.fit(X_train, y_train)\n",
    "\n",
    "y_pred = clf_xgb.predict(X_test)\n",
    "\n",
    "print(f\"RMSE: {sqrt(mse(y_test, y_pred))}\")\n",
    "print(f\"R2: {r2_score(y_test, y_pred)}\")"
   ]
  },
  {
   "source": [
    "The XgBoost regressor did the best in terms of RMSE and R2 metrics, but the data is poorly preprocessed and also tuning hyperparameters so other models could be good too."
   ],
   "cell_type": "markdown",
   "metadata": {}
  }
 ]
}