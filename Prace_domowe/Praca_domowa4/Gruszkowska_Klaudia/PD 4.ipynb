{
 "cells": [
  {
   "cell_type": "markdown",
   "metadata": {},
   "source": [
    "# Praca domowa 4\n",
    "Klaudia Gruszkowska"
   ]
  },
  {
   "cell_type": "code",
   "execution_count": 44,
   "metadata": {},
   "outputs": [],
   "source": [
    "#wczytanie pakietów\n",
    "import pandas as pd\n",
    "import matplotlib.pyplot as plt"
   ]
  },
  {
   "cell_type": "markdown",
   "metadata": {},
   "source": [
    "## Zbiory danych"
   ]
  },
  {
   "cell_type": "markdown",
   "metadata": {},
   "source": [
    "### Apartments"
   ]
  },
  {
   "cell_type": "code",
   "execution_count": 45,
   "metadata": {},
   "outputs": [],
   "source": [
    "apartments  = pd.read_csv(\"apartments.csv\")"
   ]
  },
  {
   "cell_type": "code",
   "execution_count": 46,
   "metadata": {},
   "outputs": [
    {
     "data": {
      "text/html": [
       "<div>\n",
       "<style scoped>\n",
       "    .dataframe tbody tr th:only-of-type {\n",
       "        vertical-align: middle;\n",
       "    }\n",
       "\n",
       "    .dataframe tbody tr th {\n",
       "        vertical-align: top;\n",
       "    }\n",
       "\n",
       "    .dataframe thead th {\n",
       "        text-align: right;\n",
       "    }\n",
       "</style>\n",
       "<table border=\"1\" class=\"dataframe\">\n",
       "  <thead>\n",
       "    <tr style=\"text-align: right;\">\n",
       "      <th></th>\n",
       "      <th>m2.price</th>\n",
       "      <th>construction.year</th>\n",
       "      <th>surface</th>\n",
       "      <th>floor</th>\n",
       "      <th>no.rooms</th>\n",
       "      <th>district</th>\n",
       "    </tr>\n",
       "  </thead>\n",
       "  <tbody>\n",
       "    <tr>\n",
       "      <th>0</th>\n",
       "      <td>5897</td>\n",
       "      <td>1953</td>\n",
       "      <td>25</td>\n",
       "      <td>3</td>\n",
       "      <td>1</td>\n",
       "      <td>Srodmiescie</td>\n",
       "    </tr>\n",
       "    <tr>\n",
       "      <th>1</th>\n",
       "      <td>1818</td>\n",
       "      <td>1992</td>\n",
       "      <td>143</td>\n",
       "      <td>9</td>\n",
       "      <td>5</td>\n",
       "      <td>Bielany</td>\n",
       "    </tr>\n",
       "    <tr>\n",
       "      <th>2</th>\n",
       "      <td>3643</td>\n",
       "      <td>1937</td>\n",
       "      <td>56</td>\n",
       "      <td>1</td>\n",
       "      <td>2</td>\n",
       "      <td>Praga</td>\n",
       "    </tr>\n",
       "    <tr>\n",
       "      <th>3</th>\n",
       "      <td>3517</td>\n",
       "      <td>1995</td>\n",
       "      <td>93</td>\n",
       "      <td>7</td>\n",
       "      <td>3</td>\n",
       "      <td>Ochota</td>\n",
       "    </tr>\n",
       "    <tr>\n",
       "      <th>4</th>\n",
       "      <td>3013</td>\n",
       "      <td>1992</td>\n",
       "      <td>144</td>\n",
       "      <td>6</td>\n",
       "      <td>5</td>\n",
       "      <td>Mokotow</td>\n",
       "    </tr>\n",
       "    <tr>\n",
       "      <th>...</th>\n",
       "      <td>...</td>\n",
       "      <td>...</td>\n",
       "      <td>...</td>\n",
       "      <td>...</td>\n",
       "      <td>...</td>\n",
       "      <td>...</td>\n",
       "    </tr>\n",
       "    <tr>\n",
       "      <th>995</th>\n",
       "      <td>6355</td>\n",
       "      <td>1921</td>\n",
       "      <td>44</td>\n",
       "      <td>2</td>\n",
       "      <td>2</td>\n",
       "      <td>Srodmiescie</td>\n",
       "    </tr>\n",
       "    <tr>\n",
       "      <th>996</th>\n",
       "      <td>3422</td>\n",
       "      <td>1921</td>\n",
       "      <td>48</td>\n",
       "      <td>10</td>\n",
       "      <td>2</td>\n",
       "      <td>Bemowo</td>\n",
       "    </tr>\n",
       "    <tr>\n",
       "      <th>997</th>\n",
       "      <td>3098</td>\n",
       "      <td>1980</td>\n",
       "      <td>85</td>\n",
       "      <td>3</td>\n",
       "      <td>3</td>\n",
       "      <td>Bemowo</td>\n",
       "    </tr>\n",
       "    <tr>\n",
       "      <th>998</th>\n",
       "      <td>4192</td>\n",
       "      <td>1942</td>\n",
       "      <td>36</td>\n",
       "      <td>7</td>\n",
       "      <td>1</td>\n",
       "      <td>Zoliborz</td>\n",
       "    </tr>\n",
       "    <tr>\n",
       "      <th>999</th>\n",
       "      <td>3327</td>\n",
       "      <td>1992</td>\n",
       "      <td>112</td>\n",
       "      <td>6</td>\n",
       "      <td>5</td>\n",
       "      <td>Mokotow</td>\n",
       "    </tr>\n",
       "  </tbody>\n",
       "</table>\n",
       "<p>1000 rows × 6 columns</p>\n",
       "</div>"
      ],
      "text/plain": [
       "     m2.price  construction.year  surface  floor  no.rooms     district\n",
       "0        5897               1953       25      3         1  Srodmiescie\n",
       "1        1818               1992      143      9         5      Bielany\n",
       "2        3643               1937       56      1         2        Praga\n",
       "3        3517               1995       93      7         3       Ochota\n",
       "4        3013               1992      144      6         5      Mokotow\n",
       "..        ...                ...      ...    ...       ...          ...\n",
       "995      6355               1921       44      2         2  Srodmiescie\n",
       "996      3422               1921       48     10         2       Bemowo\n",
       "997      3098               1980       85      3         3       Bemowo\n",
       "998      4192               1942       36      7         1     Zoliborz\n",
       "999      3327               1992      112      6         5      Mokotow\n",
       "\n",
       "[1000 rows x 6 columns]"
      ]
     },
     "execution_count": 46,
     "metadata": {},
     "output_type": "execute_result"
    }
   ],
   "source": [
    "apartments"
   ]
  },
  {
   "cell_type": "markdown",
   "metadata": {},
   "source": [
    "Omawiany zbiór składa się z 5 zmiennych numerycznych i jedej (\"district'), która jest zmienną kategoryczną. W tym zadaniu chcemy otrzymać predykcję zmiennej m2.price czyli ceny za mektr kwadratowy powieszchni mieszkania w Warszawie. Jest to więc zadanie regresji."
   ]
  },
  {
   "cell_type": "code",
   "execution_count": 47,
   "metadata": {},
   "outputs": [
    {
     "data": {
      "image/png": "[encoded data removed]",
      "text/plain": [
       "<Figure size 432x288 with 1 Axes>"
      ]
     },
     "metadata": {
      "needs_background": "light"
     },
     "output_type": "display_data"
    }
   ],
   "source": [
    "m2_price=apartments['m2.price']\n",
    "m2_price.hist()\n",
    "plt.title(\"m2.price\")\n",
    "plt.show()"
   ]
  },
  {
   "cell_type": "markdown",
   "metadata": {},
   "source": [
    "Zmienna celu  jest trochę pochylona w kierunku mniejszych wartości."
   ]
  },
  {
   "cell_type": "code",
   "execution_count": 48,
   "metadata": {},
   "outputs": [
    {
     "data": {
      "text/plain": [
       "Mokotow        107\n",
       "Wola           106\n",
       "Ursus          105\n",
       "Ursynow        103\n",
       "Srodmiescie    100\n",
       "Bemowo          98\n",
       "Zoliborz        97\n",
       "Ochota          96\n",
       "Bielany         96\n",
       "Praga           92\n",
       "Name: district, dtype: int64"
      ]
     },
     "execution_count": 48,
     "metadata": {},
     "output_type": "execute_result"
    }
   ],
   "source": [
    "apartments['district'].value_counts()"
   ]
  },
  {
   "cell_type": "markdown",
   "metadata": {},
   "source": [
    "Powyżej wypisana jest ilość obserwacji dla poszczególnych wartości zmiennej kategorycznej ('district'). Widać, że dane są zbalansowane a samych wartości nie jest dużo (10) dlatego będziemy mogli wykorzystać później one-hot encoding."
   ]
  },
  {
   "cell_type": "code",
   "execution_count": 49,
   "metadata": {},
   "outputs": [
    {
     "data": {
      "image/png": "[encoded data removed]",
      "text/plain": [
       "<Figure size 720x720 with 6 Axes>"
      ]
     },
     "metadata": {
      "needs_background": "light"
     },
     "output_type": "display_data"
    }
   ],
   "source": [
    "apartments.hist(figsize = (10,10),bins = 20)\n",
    "plt.show()"
   ]
  },
  {
   "cell_type": "markdown",
   "metadata": {},
   "source": [
    "Poza zmienną celu (co opisane wyżej) wszystkie zmienne numeryczne mają rozkłady dalekie od rozkładu normalnego. "
   ]
  },
  {
   "cell_type": "code",
   "execution_count": 50,
   "metadata": {},
   "outputs": [
    {
     "name": "stderr",
     "output_type": "stream",
     "text": [
      "C:\\Users\\klgru\\Anaconda3\\lib\\site-packages\\category_encoders\\utils.py:21: FutureWarning: is_categorical is deprecated and will be removed in a future version.  Use is_categorical_dtype instead\n",
      "  elif pd.api.types.is_categorical(cols):\n"
     ]
    }
   ],
   "source": [
    "from category_encoders import OneHotEncoder\n",
    "encoder=OneHotEncoder(cols=['district'])\n",
    "apartments=encoder.fit_transform(apartments)"
   ]
  },
  {
   "cell_type": "markdown",
   "metadata": {},
   "source": [
    "### California Housing Prices"
   ]
  },
  {
   "cell_type": "code",
   "execution_count": 51,
   "metadata": {},
   "outputs": [],
   "source": [
    "housing  = pd.read_csv(\"h.csv\")\n",
    "housing = housing.iloc[0:1000]"
   ]
  },
  {
   "cell_type": "code",
   "execution_count": 52,
   "metadata": {},
   "outputs": [
    {
     "data": {
      "text/html": [
       "<div>\n",
       "<style scoped>\n",
       "    .dataframe tbody tr th:only-of-type {\n",
       "        vertical-align: middle;\n",
       "    }\n",
       "\n",
       "    .dataframe tbody tr th {\n",
       "        vertical-align: top;\n",
       "    }\n",
       "\n",
       "    .dataframe thead th {\n",
       "        text-align: right;\n",
       "    }\n",
       "</style>\n",
       "<table border=\"1\" class=\"dataframe\">\n",
       "  <thead>\n",
       "    <tr style=\"text-align: right;\">\n",
       "      <th></th>\n",
       "      <th>longitude</th>\n",
       "      <th>latitude</th>\n",
       "      <th>housing_median_age</th>\n",
       "      <th>total_rooms</th>\n",
       "      <th>total_bedrooms</th>\n",
       "      <th>population</th>\n",
       "      <th>households</th>\n",
       "      <th>median_income</th>\n",
       "      <th>median_house_value</th>\n",
       "      <th>ocean_proximity</th>\n",
       "    </tr>\n",
       "  </thead>\n",
       "  <tbody>\n",
       "    <tr>\n",
       "      <th>0</th>\n",
       "      <td>-122.23</td>\n",
       "      <td>37.88</td>\n",
       "      <td>41.0</td>\n",
       "      <td>880.0</td>\n",
       "      <td>129.0</td>\n",
       "      <td>322.0</td>\n",
       "      <td>126.0</td>\n",
       "      <td>8.3252</td>\n",
       "      <td>452600.0</td>\n",
       "      <td>NEAR BAY</td>\n",
       "    </tr>\n",
       "    <tr>\n",
       "      <th>1</th>\n",
       "      <td>-122.22</td>\n",
       "      <td>37.86</td>\n",
       "      <td>21.0</td>\n",
       "      <td>7099.0</td>\n",
       "      <td>1106.0</td>\n",
       "      <td>2401.0</td>\n",
       "      <td>1138.0</td>\n",
       "      <td>8.3014</td>\n",
       "      <td>358500.0</td>\n",
       "      <td>NEAR BAY</td>\n",
       "    </tr>\n",
       "    <tr>\n",
       "      <th>2</th>\n",
       "      <td>-122.24</td>\n",
       "      <td>37.85</td>\n",
       "      <td>52.0</td>\n",
       "      <td>1467.0</td>\n",
       "      <td>190.0</td>\n",
       "      <td>496.0</td>\n",
       "      <td>177.0</td>\n",
       "      <td>7.2574</td>\n",
       "      <td>352100.0</td>\n",
       "      <td>NEAR BAY</td>\n",
       "    </tr>\n",
       "    <tr>\n",
       "      <th>3</th>\n",
       "      <td>-122.25</td>\n",
       "      <td>37.85</td>\n",
       "      <td>52.0</td>\n",
       "      <td>1274.0</td>\n",
       "      <td>235.0</td>\n",
       "      <td>558.0</td>\n",
       "      <td>219.0</td>\n",
       "      <td>5.6431</td>\n",
       "      <td>341300.0</td>\n",
       "      <td>NEAR BAY</td>\n",
       "    </tr>\n",
       "    <tr>\n",
       "      <th>4</th>\n",
       "      <td>-122.25</td>\n",
       "      <td>37.85</td>\n",
       "      <td>52.0</td>\n",
       "      <td>1627.0</td>\n",
       "      <td>280.0</td>\n",
       "      <td>565.0</td>\n",
       "      <td>259.0</td>\n",
       "      <td>3.8462</td>\n",
       "      <td>342200.0</td>\n",
       "      <td>NEAR BAY</td>\n",
       "    </tr>\n",
       "  </tbody>\n",
       "</table>\n",
       "</div>"
      ],
      "text/plain": [
       "   longitude  latitude  housing_median_age  total_rooms  total_bedrooms  \\\n",
       "0    -122.23     37.88                41.0        880.0           129.0   \n",
       "1    -122.22     37.86                21.0       7099.0          1106.0   \n",
       "2    -122.24     37.85                52.0       1467.0           190.0   \n",
       "3    -122.25     37.85                52.0       1274.0           235.0   \n",
       "4    -122.25     37.85                52.0       1627.0           280.0   \n",
       "\n",
       "   population  households  median_income  median_house_value ocean_proximity  \n",
       "0       322.0       126.0         8.3252            452600.0        NEAR BAY  \n",
       "1      2401.0      1138.0         8.3014            358500.0        NEAR BAY  \n",
       "2       496.0       177.0         7.2574            352100.0        NEAR BAY  \n",
       "3       558.0       219.0         5.6431            341300.0        NEAR BAY  \n",
       "4       565.0       259.0         3.8462            342200.0        NEAR BAY  "
      ]
     },
     "execution_count": 52,
     "metadata": {},
     "output_type": "execute_result"
    }
   ],
   "source": [
    "housing.head()"
   ]
  },
  {
   "cell_type": "markdown",
   "metadata": {},
   "source": [
    "Zbiór jest zbiorem utworzonym z danych ze spisu powszechnego w 1990 w Californi i dotyczy ceny damów w dzielnicy. Zmienne dotyczą położenia i cech samej dzielnicy.\n",
    "\n",
    "Na tym zbiorze danych zadanie polega na predykcji zmiennej median_house_value czyli mediany wartości domu."
   ]
  },
  {
   "cell_type": "code",
   "execution_count": 53,
   "metadata": {},
   "outputs": [
    {
     "data": {
      "image/png": "[encoded data removed]",
      "text/plain": [
       "<Figure size 720x720 with 9 Axes>"
      ]
     },
     "metadata": {
      "needs_background": "light"
     },
     "output_type": "display_data"
    }
   ],
   "source": [
    "housing.hist(figsize = (10,10),bins = 20)\n",
    "plt.show()"
   ]
  },
  {
   "cell_type": "markdown",
   "metadata": {},
   "source": [
    "Nasza zmienna celu czyli median_haouse_value została ucięta do wartości 500000 dlatego jej rozkład ma pik w tym miejscu."
   ]
  },
  {
   "cell_type": "code",
   "execution_count": 54,
   "metadata": {},
   "outputs": [
    {
     "name": "stdout",
     "output_type": "stream",
     "text": [
      "<class 'pandas.core.frame.DataFrame'>\n",
      "RangeIndex: 1000 entries, 0 to 999\n",
      "Data columns (total 10 columns):\n",
      " #   Column              Non-Null Count  Dtype  \n",
      "---  ------              --------------  -----  \n",
      " 0   longitude           1000 non-null   float64\n",
      " 1   latitude            1000 non-null   float64\n",
      " 2   housing_median_age  1000 non-null   float64\n",
      " 3   total_rooms         1000 non-null   float64\n",
      " 4   total_bedrooms      994 non-null    float64\n",
      " 5   population          1000 non-null   float64\n",
      " 6   households          1000 non-null   float64\n",
      " 7   median_income       1000 non-null   float64\n",
      " 8   median_house_value  1000 non-null   float64\n",
      " 9   ocean_proximity     1000 non-null   object \n",
      "dtypes: float64(9), object(1)\n",
      "memory usage: 78.2+ KB\n"
     ]
    }
   ],
   "source": [
    "housing.info()"
   ]
  },
  {
   "cell_type": "markdown",
   "metadata": {},
   "source": [
    "Tylko zmienna total_bedrooms posiada braki. Uzupełnijmy je medianą z tej zmiennej ponieważ średnia byłaby zależna mocno od outlierów."
   ]
  },
  {
   "cell_type": "code",
   "execution_count": 55,
   "metadata": {},
   "outputs": [
    {
     "name": "stdout",
     "output_type": "stream",
     "text": [
      "<class 'pandas.core.frame.DataFrame'>\n",
      "RangeIndex: 1000 entries, 0 to 999\n",
      "Data columns (total 10 columns):\n",
      " #   Column              Non-Null Count  Dtype  \n",
      "---  ------              --------------  -----  \n",
      " 0   longitude           1000 non-null   float64\n",
      " 1   latitude            1000 non-null   float64\n",
      " 2   housing_median_age  1000 non-null   float64\n",
      " 3   total_rooms         1000 non-null   float64\n",
      " 4   total_bedrooms      1000 non-null   float64\n",
      " 5   population          1000 non-null   float64\n",
      " 6   households          1000 non-null   float64\n",
      " 7   median_income       1000 non-null   float64\n",
      " 8   median_house_value  1000 non-null   float64\n",
      " 9   ocean_proximity     1000 non-null   object \n",
      "dtypes: float64(9), object(1)\n",
      "memory usage: 78.2+ KB\n"
     ]
    }
   ],
   "source": [
    "import statistics\n",
    "housing['total_bedrooms']=housing['total_bedrooms'].fillna(statistics.median(housing['total_bedrooms']))\n",
    "housing.info()"
   ]
  },
  {
   "cell_type": "code",
   "execution_count": 56,
   "metadata": {},
   "outputs": [
    {
     "name": "stderr",
     "output_type": "stream",
     "text": [
      "C:\\Users\\klgru\\Anaconda3\\lib\\site-packages\\category_encoders\\utils.py:21: FutureWarning: is_categorical is deprecated and will be removed in a future version.  Use is_categorical_dtype instead\n",
      "  elif pd.api.types.is_categorical(cols):\n"
     ]
    }
   ],
   "source": [
    "from category_encoders import OneHotEncoder\n",
    "encoder=OneHotEncoder(cols=['ocean_proximity'])\n",
    "housing=encoder.fit_transform(housing)"
   ]
  },
  {
   "cell_type": "markdown",
   "metadata": {},
   "source": [
    "## Skalowanie zmiennych"
   ]
  },
  {
   "cell_type": "code",
   "execution_count": 57,
   "metadata": {},
   "outputs": [],
   "source": [
    "from sklearn.preprocessing import StandardScaler\n",
    "scaler = StandardScaler() "
   ]
  },
  {
   "cell_type": "code",
   "execution_count": 62,
   "metadata": {},
   "outputs": [],
   "source": [
    "import numpy as np\n",
    "from sklearn.model_selection import train_test_split\n",
    "y = np.array(apartments['m2.price'])\n",
    "X = apartments.drop(['m2.price'],axis=1)\n",
    "\n",
    "X_train, X_val, y_train, y_val = train_test_split(X, y, test_size=0.3)\n",
    "X_val, X_test, y_val, y_test = train_test_split(X_val, y_val, test_size=0.3)\n"
   ]
  },
  {
   "cell_type": "code",
   "execution_count": 63,
   "metadata": {},
   "outputs": [
    {
     "name": "stdout",
     "output_type": "stream",
     "text": [
      "Dane bez skalowania\n",
      "Wartość MSE (train):  911.4355168381151\n",
      "Wartość MSE (test):  957.1122021293028\n"
     ]
    }
   ],
   "source": [
    "from sklearn.svm import SVR\n",
    "from sklearn.metrics import mean_squared_error\n",
    "model_svr = SVR()\n",
    "model_svr.fit(X_train,y_train)\n",
    "print(\"Dane bez skalowania\")\n",
    "print(\"Wartość MSE (train): \",mean_squared_error(y_train,model_svr.predict(X_train),squared=False))\n",
    "print(\"Wartość MSE (test): \",mean_squared_error(y_test,model_svr.predict(X_test),squared=False))"
   ]
  },
  {
   "cell_type": "code",
   "execution_count": 64,
   "metadata": {},
   "outputs": [],
   "source": [
    "from sklearn.pipeline import make_pipeline\n",
    "pipeline = make_pipeline(scaler,SVR())"
   ]
  },
  {
   "cell_type": "code",
   "execution_count": 65,
   "metadata": {},
   "outputs": [
    {
     "name": "stdout",
     "output_type": "stream",
     "text": [
      "Dane z skalowaniem\n",
      "Wartość MSE (train):  890.0117979866849\n",
      "Wartość MSE (test):  934.97032396136\n"
     ]
    }
   ],
   "source": [
    "pipeline.fit(X_train,y_train)\n",
    "print(\"Dane z skalowaniem\")\n",
    "print(\"Wartość MSE (train): \",mean_squared_error(y_train,pipeline.predict(X_train),squared=False))\n",
    "print(\"Wartość MSE (test): \",mean_squared_error(y_test,pipeline.predict(X_test),squared=False))"
   ]
  },
  {
   "cell_type": "markdown",
   "metadata": {},
   "source": [
    "Na danych apartments skalowanie poprawiło wynik, czyli zmniejszyło średnią wartość błędu średniokwadratowego dla danych. Poprawiło wyniki i dla danych testowych i treningowych."
   ]
  },
  {
   "cell_type": "markdown",
   "metadata": {},
   "source": [
    "### California Housing Prices"
   ]
  },
  {
   "cell_type": "code",
   "execution_count": 74,
   "metadata": {},
   "outputs": [],
   "source": [
    "y_1 = np.array(housing['median_house_value'])\n",
    "X_1 = housing.drop(['median_house_value'],axis=1)\n",
    "\n",
    "X_train_1, X_val_1, y_train_1, y_val_1 = train_test_split(X_1, y_1, test_size=0.3)\n",
    "X_val_1, X_test_1, y_val_1, y_test_1 = train_test_split(X_val_1, y_val_1, test_size=0.3)"
   ]
  },
  {
   "cell_type": "code",
   "execution_count": 75,
   "metadata": {},
   "outputs": [
    {
     "name": "stdout",
     "output_type": "stream",
     "text": [
      "Dane bez skalowania\n",
      "Wartość MSE (train):  88175.78542588312\n",
      "Wartość MSE (test):  89361.91934593623\n"
     ]
    }
   ],
   "source": [
    "model_svr_1 = SVR()\n",
    "model_svr_1.fit(X_train_1,y_train_1)\n",
    "print(\"Dane bez skalowania\")\n",
    "print(\"Wartość MSE (train): \",mean_squared_error(y_train_1,model_svr_1.predict(X_train_1),squared=False))\n",
    "print(\"Wartość MSE (test): \",mean_squared_error(y_test_1,model_svr_1.predict(X_test_1),squared=False))"
   ]
  },
  {
   "cell_type": "code",
   "execution_count": 76,
   "metadata": {},
   "outputs": [],
   "source": [
    "pipeline_1 = make_pipeline(scaler,SVR())"
   ]
  },
  {
   "cell_type": "code",
   "execution_count": 77,
   "metadata": {},
   "outputs": [
    {
     "name": "stdout",
     "output_type": "stream",
     "text": [
      "Dane z skalowaniem\n",
      "Wartość MSE (train):  88160.53894408891\n",
      "Wartość MSE (test):  89342.52248730666\n"
     ]
    }
   ],
   "source": [
    "pipeline_1.fit(X_train_1,y_train_1)\n",
    "print(\"Dane z skalowaniem\")\n",
    "print(\"Wartość MSE (train): \",mean_squared_error(y_train_1,pipeline_1.predict(X_train_1),squared=False))\n",
    "print(\"Wartość MSE (test): \",mean_squared_error(y_test_1,pipeline_1.predict(X_test_1),squared=False))"
   ]
  },
  {
   "cell_type": "markdown",
   "metadata": {},
   "source": [
    "W tym wypadku skalowanie również poprawiło wyniki, choć poprawa ta nie jest zbyt duża."
   ]
  },
  {
   "cell_type": "markdown",
   "metadata": {},
   "source": [
    "## Random Search"
   ]
  },
  {
   "cell_type": "code",
   "execution_count": 78,
   "metadata": {},
   "outputs": [
    {
     "data": {
      "text/plain": [
       "dict_keys(['memory', 'steps', 'verbose', 'standardscaler', 'svr', 'standardscaler__copy', 'standardscaler__with_mean', 'standardscaler__with_std', 'svr__C', 'svr__cache_size', 'svr__coef0', 'svr__degree', 'svr__epsilon', 'svr__gamma', 'svr__kernel', 'svr__max_iter', 'svr__shrinking', 'svr__tol', 'svr__verbose'])"
      ]
     },
     "execution_count": 78,
     "metadata": {},
     "output_type": "execute_result"
    }
   ],
   "source": [
    "pipeline.get_params().keys()"
   ]
  },
  {
   "cell_type": "code",
   "execution_count": 79,
   "metadata": {},
   "outputs": [
    {
     "name": "stdout",
     "output_type": "stream",
     "text": [
      "Najlepsze wyniki: {'gamma': 'auto', 'degree': 5, 'C': 961}\n"
     ]
    }
   ],
   "source": [
    "from sklearn.model_selection import RandomizedSearchCV\n",
    "space = dict()\n",
    "space['C'] = np.arange(1,1000,1)\n",
    "space['gamma'] = ['scale', 'auto']\n",
    "space['degree'] = np.arange(1,10,1)\n",
    "\n",
    "search = RandomizedSearchCV(model_svr, space, n_iter=100, scoring='neg_mean_squared_error', n_jobs=-1, random_state=1)\n",
    "result = search.fit(X_train, y_train)\n",
    "print('Najlepsze wyniki: %s' % result.best_params_)\n"
   ]
  },
  {
   "cell_type": "code",
   "execution_count": 80,
   "metadata": {},
   "outputs": [
    {
     "name": "stdout",
     "output_type": "stream",
     "text": [
      "Dane z skalowaniem\n",
      "Wartość MSE (train):  140.75658172380446\n",
      "Wartość MSE (test):  206.42609808142035\n"
     ]
    }
   ],
   "source": [
    "model = SVR(gamma='auto',degree = 5,C=961)\n",
    "pipeline_best = make_pipeline(scaler,model)\n",
    "pipeline_best.fit(X_train,y_train)\n",
    "print(\"Dane z skalowaniem\")\n",
    "print(\"Wartość MSE (train): \",mean_squared_error(y_train,pipeline_best.predict(X_train),squared=False))\n",
    "print(\"Wartość MSE (test): \",mean_squared_error(y_test,pipeline_best.predict(X_test),squared=False))"
   ]
  },
  {
   "cell_type": "markdown",
   "metadata": {},
   "source": [
    "Wyniki są zdecydowanie lepsze, strojenie hiperparametrów poprawiło znacząco model."
   ]
  },
  {
   "cell_type": "code",
   "execution_count": 81,
   "metadata": {},
   "outputs": [
    {
     "name": "stdout",
     "output_type": "stream",
     "text": [
      "Najlepsze wyniki: {'gamma': 'scale', 'degree': 4, 'C': 908}\n"
     ]
    }
   ],
   "source": [
    "search = RandomizedSearchCV(SVR(), space, n_iter=10, scoring='neg_mean_squared_error', n_jobs=-1, random_state=1)\n",
    "result = search.fit(X_train_1, y_train_1)\n",
    "print('Najlepsze wyniki: %s' % result.best_params_)\n"
   ]
  },
  {
   "cell_type": "code",
   "execution_count": 82,
   "metadata": {},
   "outputs": [
    {
     "name": "stdout",
     "output_type": "stream",
     "text": [
      "Dane z skalowaniem\n",
      "Wartość MSE (train):  70988.24285606043\n",
      "Wartość MSE (test):  70448.11857965936\n"
     ]
    }
   ],
   "source": [
    "model = SVR(gamma='scale',degree = 4,C=908)\n",
    "pipeline_best_1 = make_pipeline(scaler,model)\n",
    "pipeline_best_1.fit(X_train_1,y_train_1)\n",
    "print(\"Dane z skalowaniem\")\n",
    "print(\"Wartość MSE (train): \",mean_squared_error(y_train_1,pipeline_best_1.predict(X_train_1),squared=False))\n",
    "print(\"Wartość MSE (test): \",mean_squared_error(y_test_1,pipeline_best_1.predict(X_test_1),squared=False))"
   ]
  },
  {
   "cell_type": "markdown",
   "metadata": {},
   "source": [
    "W tym przypadku strojenie poprwiło wyniki ale nie tak znacząco jak przy danych apartments."
   ]
  },
  {
   "cell_type": "markdown",
   "metadata": {},
   "source": [
    "## Zadanie bonusowe"
   ]
  },
  {
   "cell_type": "code",
   "execution_count": 20,
   "metadata": {},
   "outputs": [
    {
     "data": {
      "text/html": [
       "<div>\n",
       "<style scoped>\n",
       "    .dataframe tbody tr th:only-of-type {\n",
       "        vertical-align: middle;\n",
       "    }\n",
       "\n",
       "    .dataframe tbody tr th {\n",
       "        vertical-align: top;\n",
       "    }\n",
       "\n",
       "    .dataframe thead th {\n",
       "        text-align: right;\n",
       "    }\n",
       "</style>\n",
       "<table border=\"1\" class=\"dataframe\">\n",
       "  <thead>\n",
       "    <tr style=\"text-align: right;\">\n",
       "      <th></th>\n",
       "      <th>lp</th>\n",
       "      <th>date</th>\n",
       "      <th>item_id</th>\n",
       "      <th>categories</th>\n",
       "      <th>pay_option_on_delivery</th>\n",
       "      <th>pay_option_transfer</th>\n",
       "      <th>seller</th>\n",
       "      <th>price</th>\n",
       "      <th>it_is_allegro_standard</th>\n",
       "      <th>it_quantity</th>\n",
       "      <th>it_is_brand_zone</th>\n",
       "      <th>it_seller_rating</th>\n",
       "      <th>it_location</th>\n",
       "      <th>main_category</th>\n",
       "    </tr>\n",
       "  </thead>\n",
       "  <tbody>\n",
       "    <tr>\n",
       "      <th>0</th>\n",
       "      <td>0</td>\n",
       "      <td>2016-04-03 21:21:08</td>\n",
       "      <td>4753602474</td>\n",
       "      <td>['Komputery', 'Dyski i napędy', 'Nośniki', 'No...</td>\n",
       "      <td>1</td>\n",
       "      <td>1</td>\n",
       "      <td>radzioch666</td>\n",
       "      <td>59.99</td>\n",
       "      <td>1</td>\n",
       "      <td>997</td>\n",
       "      <td>0</td>\n",
       "      <td>50177</td>\n",
       "      <td>Warszawa</td>\n",
       "      <td>Komputery</td>\n",
       "    </tr>\n",
       "    <tr>\n",
       "      <th>1</th>\n",
       "      <td>1</td>\n",
       "      <td>2016-04-03 15:35:26</td>\n",
       "      <td>4773181874</td>\n",
       "      <td>['Odzież, Obuwie, Dodatki', 'Bielizna damska',...</td>\n",
       "      <td>1</td>\n",
       "      <td>1</td>\n",
       "      <td>InwestycjeNET</td>\n",
       "      <td>4.90</td>\n",
       "      <td>1</td>\n",
       "      <td>9288</td>\n",
       "      <td>0</td>\n",
       "      <td>12428</td>\n",
       "      <td>Warszawa</td>\n",
       "      <td>Odzież, Obuwie, Dodatki</td>\n",
       "    </tr>\n",
       "    <tr>\n",
       "      <th>2</th>\n",
       "      <td>2</td>\n",
       "      <td>2016-04-03 14:14:31</td>\n",
       "      <td>4781627074</td>\n",
       "      <td>['Dom i Ogród', 'Budownictwo i Akcesoria', 'Śc...</td>\n",
       "      <td>1</td>\n",
       "      <td>1</td>\n",
       "      <td>otostyl_com</td>\n",
       "      <td>109.90</td>\n",
       "      <td>1</td>\n",
       "      <td>895</td>\n",
       "      <td>0</td>\n",
       "      <td>7389</td>\n",
       "      <td>Leszno</td>\n",
       "      <td>Dom i Ogród</td>\n",
       "    </tr>\n",
       "    <tr>\n",
       "      <th>3</th>\n",
       "      <td>3</td>\n",
       "      <td>2016-04-03 19:55:44</td>\n",
       "      <td>4783971474</td>\n",
       "      <td>['Książki i Komiksy', 'Poradniki i albumy', 'Z...</td>\n",
       "      <td>1</td>\n",
       "      <td>1</td>\n",
       "      <td>Matfel1</td>\n",
       "      <td>18.50</td>\n",
       "      <td>0</td>\n",
       "      <td>971</td>\n",
       "      <td>0</td>\n",
       "      <td>15006</td>\n",
       "      <td>Wola Krzysztoporska</td>\n",
       "      <td>Książki i Komiksy</td>\n",
       "    </tr>\n",
       "    <tr>\n",
       "      <th>4</th>\n",
       "      <td>4</td>\n",
       "      <td>2016-04-03 18:05:54</td>\n",
       "      <td>4787908274</td>\n",
       "      <td>['Odzież, Obuwie, Dodatki', 'Ślub i wesele', '...</td>\n",
       "      <td>1</td>\n",
       "      <td>1</td>\n",
       "      <td>PPHU_RICO</td>\n",
       "      <td>19.90</td>\n",
       "      <td>1</td>\n",
       "      <td>950</td>\n",
       "      <td>0</td>\n",
       "      <td>32975</td>\n",
       "      <td>BIAŁYSTOK</td>\n",
       "      <td>Odzież, Obuwie, Dodatki</td>\n",
       "    </tr>\n",
       "  </tbody>\n",
       "</table>\n",
       "</div>"
      ],
      "text/plain": [
       "   lp                 date     item_id  \\\n",
       "0   0  2016-04-03 21:21:08  4753602474   \n",
       "1   1  2016-04-03 15:35:26  4773181874   \n",
       "2   2  2016-04-03 14:14:31  4781627074   \n",
       "3   3  2016-04-03 19:55:44  4783971474   \n",
       "4   4  2016-04-03 18:05:54  4787908274   \n",
       "\n",
       "                                          categories  pay_option_on_delivery  \\\n",
       "0  ['Komputery', 'Dyski i napędy', 'Nośniki', 'No...                       1   \n",
       "1  ['Odzież, Obuwie, Dodatki', 'Bielizna damska',...                       1   \n",
       "2  ['Dom i Ogród', 'Budownictwo i Akcesoria', 'Śc...                       1   \n",
       "3  ['Książki i Komiksy', 'Poradniki i albumy', 'Z...                       1   \n",
       "4  ['Odzież, Obuwie, Dodatki', 'Ślub i wesele', '...                       1   \n",
       "\n",
       "   pay_option_transfer         seller   price  it_is_allegro_standard  \\\n",
       "0                    1    radzioch666   59.99                       1   \n",
       "1                    1  InwestycjeNET    4.90                       1   \n",
       "2                    1    otostyl_com  109.90                       1   \n",
       "3                    1        Matfel1   18.50                       0   \n",
       "4                    1      PPHU_RICO   19.90                       1   \n",
       "\n",
       "   it_quantity  it_is_brand_zone  it_seller_rating          it_location  \\\n",
       "0          997                 0             50177             Warszawa   \n",
       "1         9288                 0             12428             Warszawa   \n",
       "2          895                 0              7389               Leszno   \n",
       "3          971                 0             15006  Wola Krzysztoporska   \n",
       "4          950                 0             32975            BIAŁYSTOK   \n",
       "\n",
       "             main_category  \n",
       "0                Komputery  \n",
       "1  Odzież, Obuwie, Dodatki  \n",
       "2              Dom i Ogród  \n",
       "3        Książki i Komiksy  \n",
       "4  Odzież, Obuwie, Dodatki  "
      ]
     },
     "execution_count": 20,
     "metadata": {},
     "output_type": "execute_result"
    }
   ],
   "source": [
    "allegro = pd.read_csv('allegro-api-transactions.csv')\n",
    "allegro.head()"
   ]
  },
  {
   "cell_type": "code",
   "execution_count": 21,
   "metadata": {},
   "outputs": [
    {
     "data": {
      "text/html": [
       "<div>\n",
       "<style scoped>\n",
       "    .dataframe tbody tr th:only-of-type {\n",
       "        vertical-align: middle;\n",
       "    }\n",
       "\n",
       "    .dataframe tbody tr th {\n",
       "        vertical-align: top;\n",
       "    }\n",
       "\n",
       "    .dataframe thead th {\n",
       "        text-align: right;\n",
       "    }\n",
       "</style>\n",
       "<table border=\"1\" class=\"dataframe\">\n",
       "  <thead>\n",
       "    <tr style=\"text-align: right;\">\n",
       "      <th></th>\n",
       "      <th>price</th>\n",
       "      <th>it_location</th>\n",
       "      <th>main_category</th>\n",
       "      <th>categories</th>\n",
       "    </tr>\n",
       "  </thead>\n",
       "  <tbody>\n",
       "    <tr>\n",
       "      <th>0</th>\n",
       "      <td>59.99</td>\n",
       "      <td>Warszawa</td>\n",
       "      <td>Komputery</td>\n",
       "      <td>['Komputery', 'Dyski i napędy', 'Nośniki', 'No...</td>\n",
       "    </tr>\n",
       "    <tr>\n",
       "      <th>1</th>\n",
       "      <td>4.90</td>\n",
       "      <td>Warszawa</td>\n",
       "      <td>Odzież, Obuwie, Dodatki</td>\n",
       "      <td>['Odzież, Obuwie, Dodatki', 'Bielizna damska',...</td>\n",
       "    </tr>\n",
       "    <tr>\n",
       "      <th>2</th>\n",
       "      <td>109.90</td>\n",
       "      <td>Leszno</td>\n",
       "      <td>Dom i Ogród</td>\n",
       "      <td>['Dom i Ogród', 'Budownictwo i Akcesoria', 'Śc...</td>\n",
       "    </tr>\n",
       "    <tr>\n",
       "      <th>3</th>\n",
       "      <td>18.50</td>\n",
       "      <td>Wola Krzysztoporska</td>\n",
       "      <td>Książki i Komiksy</td>\n",
       "      <td>['Książki i Komiksy', 'Poradniki i albumy', 'Z...</td>\n",
       "    </tr>\n",
       "    <tr>\n",
       "      <th>4</th>\n",
       "      <td>19.90</td>\n",
       "      <td>BIAŁYSTOK</td>\n",
       "      <td>Odzież, Obuwie, Dodatki</td>\n",
       "      <td>['Odzież, Obuwie, Dodatki', 'Ślub i wesele', '...</td>\n",
       "    </tr>\n",
       "  </tbody>\n",
       "</table>\n",
       "</div>"
      ],
      "text/plain": [
       "    price          it_location            main_category  \\\n",
       "0   59.99             Warszawa                Komputery   \n",
       "1    4.90             Warszawa  Odzież, Obuwie, Dodatki   \n",
       "2  109.90               Leszno              Dom i Ogród   \n",
       "3   18.50  Wola Krzysztoporska        Książki i Komiksy   \n",
       "4   19.90            BIAŁYSTOK  Odzież, Obuwie, Dodatki   \n",
       "\n",
       "                                          categories  \n",
       "0  ['Komputery', 'Dyski i napędy', 'Nośniki', 'No...  \n",
       "1  ['Odzież, Obuwie, Dodatki', 'Bielizna damska',...  \n",
       "2  ['Dom i Ogród', 'Budownictwo i Akcesoria', 'Śc...  \n",
       "3  ['Książki i Komiksy', 'Poradniki i albumy', 'Z...  \n",
       "4  ['Odzież, Obuwie, Dodatki', 'Ślub i wesele', '...  "
      ]
     },
     "execution_count": 21,
     "metadata": {},
     "output_type": "execute_result"
    }
   ],
   "source": [
    "allegro_df = allegro[['price','it_location','main_category','categories']]\n",
    "allegro_df.head()"
   ]
  },
  {
   "cell_type": "code",
   "execution_count": 22,
   "metadata": {},
   "outputs": [
    {
     "data": {
      "text/plain": [
       "Warszawa                              23244\n",
       "Kraków                                15135\n",
       "Łódź                                  10935\n",
       "Poznań                                10610\n",
       "Wrocław                                8646\n",
       "                                      ...  \n",
       "Pruszcz GD Cieplewo Rusocin Łęgowo        1\n",
       "Śmieszkowo                                1\n",
       "KOSAKOWO                                  1\n",
       "OCHODZE                                   1\n",
       "CHODECZ                                   1\n",
       "Name: it_location, Length: 10056, dtype: int64"
      ]
     },
     "execution_count": 22,
     "metadata": {},
     "output_type": "execute_result"
    }
   ],
   "source": [
    "allegro_df['it_location'].value_counts()"
   ]
  },
  {
   "cell_type": "code",
   "execution_count": 23,
   "metadata": {},
   "outputs": [
    {
     "name": "stderr",
     "output_type": "stream",
     "text": [
      "C:\\Users\\klgru\\Anaconda3\\lib\\site-packages\\pandas\\core\\frame.py:3191: SettingWithCopyWarning: \n",
      "A value is trying to be set on a copy of a slice from a DataFrame.\n",
      "Try using .loc[row_indexer,col_indexer] = value instead\n",
      "\n",
      "See the caveats in the documentation: https://pandas.pydata.org/pandas-docs/stable/user_guide/indexing.html#returning-a-view-versus-a-copy\n",
      "  self[k1] = value[k2]\n"
     ]
    },
    {
     "data": {
      "text/html": [
       "<div>\n",
       "<style scoped>\n",
       "    .dataframe tbody tr th:only-of-type {\n",
       "        vertical-align: middle;\n",
       "    }\n",
       "\n",
       "    .dataframe tbody tr th {\n",
       "        vertical-align: top;\n",
       "    }\n",
       "\n",
       "    .dataframe thead th {\n",
       "        text-align: right;\n",
       "    }\n",
       "</style>\n",
       "<table border=\"1\" class=\"dataframe\">\n",
       "  <thead>\n",
       "    <tr style=\"text-align: right;\">\n",
       "      <th></th>\n",
       "      <th>it_location</th>\n",
       "    </tr>\n",
       "  </thead>\n",
       "  <tbody>\n",
       "    <tr>\n",
       "      <th>0</th>\n",
       "      <td>warszawa</td>\n",
       "    </tr>\n",
       "    <tr>\n",
       "      <th>1</th>\n",
       "      <td>warszawa</td>\n",
       "    </tr>\n",
       "    <tr>\n",
       "      <th>2</th>\n",
       "      <td>leszno</td>\n",
       "    </tr>\n",
       "    <tr>\n",
       "      <th>3</th>\n",
       "      <td>wola krzysztoporska</td>\n",
       "    </tr>\n",
       "    <tr>\n",
       "      <th>4</th>\n",
       "      <td>białystok</td>\n",
       "    </tr>\n",
       "  </tbody>\n",
       "</table>\n",
       "</div>"
      ],
      "text/plain": [
       "           it_location\n",
       "0             warszawa\n",
       "1             warszawa\n",
       "2               leszno\n",
       "3  wola krzysztoporska\n",
       "4            białystok"
      ]
     },
     "execution_count": 23,
     "metadata": {},
     "output_type": "execute_result"
    }
   ],
   "source": [
    "allegro_df[[\"it_location\"]] = allegro_df[[\"it_location\"]].apply(lambda x: x.astype(str).str.lower())\n",
    "allegro_df[[\"it_location\"]].head()"
   ]
  },
  {
   "cell_type": "code",
   "execution_count": 24,
   "metadata": {},
   "outputs": [
    {
     "data": {
      "text/plain": [
       "warszawa                          27042\n",
       "kraków                            16581\n",
       "łódź                              12433\n",
       "poznań                            11197\n",
       "internet                          10992\n",
       "                                  ...  \n",
       "tęgoborze                             1\n",
       "izabelin-laski                        1\n",
       "warszawa ul targowa66 pasaż 32        1\n",
       "kapino                                1\n",
       "przecław k/szczecina                  1\n",
       "Name: it_location, Length: 7903, dtype: int64"
      ]
     },
     "execution_count": 24,
     "metadata": {},
     "output_type": "execute_result"
    }
   ],
   "source": [
    "allegro_df['it_location'].value_counts()"
   ]
  },
  {
   "cell_type": "markdown",
   "metadata": {},
   "source": [
    "Zmiejszenie wszystkich liter na małe spowodowało, że unikalne wartości zmiennej it_location zmnieszyły się o około 2 tys."
   ]
  },
  {
   "cell_type": "code",
   "execution_count": 43,
   "metadata": {},
   "outputs": [
    {
     "data": {
      "text/plain": [
       "Dom i Ogród                            91042\n",
       "Odzież, Obuwie, Dodatki                54257\n",
       "Motoryzacja                            45941\n",
       "Dla Dzieci                             42107\n",
       "Uroda                                  28096\n",
       "Sport i Turystyka                      27532\n",
       "RTV i AGD                              20341\n",
       "Telefony i Akcesoria                   19805\n",
       "Komputery                              14491\n",
       "Zdrowie                                13166\n",
       "Książki i Komiksy                      11572\n",
       "Delikatesy                              8074\n",
       "Gry                                     7150\n",
       "Rękodzieło                              6574\n",
       "Kolekcje                                6146\n",
       "Przemysł                                5959\n",
       "Biżuteria i Zegarki                     5808\n",
       "Biuro i Reklama                         3194\n",
       "Fotografia                              2381\n",
       "Muzyka                                  1961\n",
       "Antyki i Sztuka                         1214\n",
       "Konsole i automaty                      1053\n",
       "Filmy                                   1005\n",
       "Instrumenty                              617\n",
       "Sprzęt estradowy, studyjny i DJ-ski      413\n",
       "Bilety                                   119\n",
       "Nieruchomości                              2\n",
       "Name: main_category, dtype: int64"
      ]
     },
     "execution_count": 43,
     "metadata": {},
     "output_type": "execute_result"
    }
   ],
   "source": [
    "allegro_df['main_category'].value_counts()"
   ]
  },
  {
   "cell_type": "code",
   "execution_count": 25,
   "metadata": {},
   "outputs": [],
   "source": [
    "import numpy as np\n",
    "from sklearn.model_selection import train_test_split\n",
    "y = np.array(allegro_df['price'])\n",
    "X = allegro_df.drop(['price'],axis=1)\n",
    "\n",
    "X_train, X_val, y_train, y_val = train_test_split(X, y, test_size=0.3)\n",
    "X_val, X_test, y_val, y_test = train_test_split(X_val, y_val, test_size=0.3)"
   ]
  },
  {
   "cell_type": "code",
   "execution_count": 26,
   "metadata": {},
   "outputs": [],
   "source": [
    "from category_encoders import TargetEncoder\n",
    "encoder_1=TargetEncoder()\n",
    "encoder_2= TargetEncoder(smoothing = 100)\n",
    "encoder_3 = TargetEncoder(smoothing = 10000)"
   ]
  },
  {
   "cell_type": "markdown",
   "metadata": {},
   "source": [
    "### Model liniowy"
   ]
  },
  {
   "cell_type": "code",
   "execution_count": 30,
   "metadata": {},
   "outputs": [
    {
     "name": "stderr",
     "output_type": "stream",
     "text": [
      "C:\\Users\\klgru\\Anaconda3\\lib\\site-packages\\category_encoders\\utils.py:21: FutureWarning: is_categorical is deprecated and will be removed in a future version.  Use is_categorical_dtype instead\n",
      "  elif pd.api.types.is_categorical(cols):\n",
      "C:\\Users\\klgru\\Anaconda3\\lib\\site-packages\\category_encoders\\utils.py:21: FutureWarning: is_categorical is deprecated and will be removed in a future version.  Use is_categorical_dtype instead\n",
      "  elif pd.api.types.is_categorical(cols):\n",
      "C:\\Users\\klgru\\Anaconda3\\lib\\site-packages\\category_encoders\\utils.py:21: FutureWarning: is_categorical is deprecated and will be removed in a future version.  Use is_categorical_dtype instead\n",
      "  elif pd.api.types.is_categorical(cols):\n"
     ]
    },
    {
     "name": "stdout",
     "output_type": "stream",
     "text": [
      "Smoothing domyślny\n",
      "Wartość MSE (train):  362.1488797661817\n",
      "Wartość MSE (test):  238.1647486858921\n",
      "Wartość R2 (train):  0.07162507700367193\n",
      "Wartość R2 (test):  -0.058483668992814763\n",
      "Smoothing = 100\n",
      "Wartość MSE (train):  337.09060037974615\n",
      "Wartość MSE (test):  202.9952844060955\n",
      "Wartość R2 (train):  0.19565494942109551\n",
      "Wartość R2 (test):  0.23104469308457032\n",
      "Smoothing = 10000\n",
      "Wartość MSE (train):  327.656329542003\n",
      "Wartość MSE (test):  188.31707769986585\n",
      "Wartość R2 (train):  0.24004787723135634\n",
      "Wartość R2 (test):  0.3382276582258713\n"
     ]
    }
   ],
   "source": [
    "from sklearn import  linear_model\n",
    "from sklearn.metrics import r2_score\n",
    "from sklearn.pipeline import make_pipeline\n",
    "from sklearn.metrics import mean_squared_error\n",
    "\n",
    "regr = linear_model.LinearRegression()\n",
    "\n",
    "pipeline_1 = make_pipeline(encoder_1,regr)\n",
    "pipeline_2 = make_pipeline(encoder_2,regr)\n",
    "pipeline_3 = make_pipeline(encoder_3,regr)\n",
    "\n",
    "pipeline_1.fit(X_train, y_train)\n",
    "pipeline_2.fit(X_train,y_train)\n",
    "pipeline_3.fit(X_train,y_train)\n",
    "\n",
    "y_pred_1 = pipeline_1.predict(X_train)\n",
    "y_pred_test_1 = pipeline_1.predict(X_test)\n",
    "print(\"Smoothing domyślny\")\n",
    "print(\"Wartość MSE (train): \",mean_squared_error(y_train,y_pred_1,squared=False))\n",
    "print(\"Wartość MSE (test): \",mean_squared_error(y_test,y_pred_test_1,squared=False))\n",
    "print(\"Wartość R2 (train): \",r2_score(y_train,y_pred_1))\n",
    "print(\"Wartość R2 (test): \",r2_score(y_test,y_pred_test_1))\n",
    "\n",
    "y_pred_2 = pipeline_2.predict(X_train)\n",
    "y_pred_test_2 = pipeline_2.predict(X_test)\n",
    "print(\"Smoothing = 100\")\n",
    "print(\"Wartość MSE (train): \",mean_squared_error(y_train,y_pred_2,squared=False))\n",
    "print(\"Wartość MSE (test): \",mean_squared_error(y_test,y_pred_test_2,squared=False))\n",
    "print(\"Wartość R2 (train): \",r2_score(y_train,y_pred_2))\n",
    "print(\"Wartość R2 (test): \",r2_score(y_test,y_pred_test_2))\n",
    "\n",
    "y_pred_3 = pipeline_3.predict(X_train)\n",
    "y_pred_test_3 = pipeline_3.predict(X_test)\n",
    "print(\"Smoothing = 10000\")\n",
    "print(\"Wartość MSE (train): \",mean_squared_error(y_train,y_pred_3,squared=False))\n",
    "print(\"Wartość MSE (test): \",mean_squared_error(y_test,y_pred_test_3,squared=False))\n",
    "print(\"Wartość R2 (train): \",r2_score(y_train,y_pred_3))\n",
    "print(\"Wartość R2 (test): \",r2_score(y_test,y_pred_test_3))"
   ]
  },
  {
   "cell_type": "markdown",
   "metadata": {},
   "source": [
    "Przetestowałam kilka wartości dla parametru smoothing. Najlepsze wyniki otrzymujemy dla największej podanej przez mnie wartości tego parametru. \n",
    "\n",
    "Target encoding korzysta z metody, w której uśrednia się wartość celu dla danej kategorii. (Grupuje się kategorie i liczy średnią dla zmiennej celu)\n",
    "\n",
    "\n",
    "Parametr smoothing czyli wygładzanie addytywne polega na tym aby przy małej liczności próbki nie kierować sie średnią lokalną, która jest bardzo podatna na wartości odstające, tylko średnią globalną która jest bardziej \"wygładzona\". W tym parametrze ustawiamy ile wartości jest potrzebnych aby przejść na korzystanie z średniej lokalnej.(Poniżej tej wartości korzystamy z średniej globalnej, powyżej z średniej lokalnej. Jest to ważne w naszym zbiorze ponieważ w naszych danych mamy dużo kategorii o małej liczności."
   ]
  },
  {
   "cell_type": "markdown",
   "metadata": {},
   "source": [
    "### Regularyzacja\n",
    "\n",
    "Metody Ridge i Lasso są to techniki, które powinny zapobiegac przeuczaniu się modelu."
   ]
  },
  {
   "cell_type": "code",
   "execution_count": 36,
   "metadata": {},
   "outputs": [
    {
     "name": "stderr",
     "output_type": "stream",
     "text": [
      "C:\\Users\\klgru\\Anaconda3\\lib\\site-packages\\category_encoders\\utils.py:21: FutureWarning: is_categorical is deprecated and will be removed in a future version.  Use is_categorical_dtype instead\n",
      "  elif pd.api.types.is_categorical(cols):\n"
     ]
    },
    {
     "name": "stdout",
     "output_type": "stream",
     "text": [
      "Wartość MSE (train):  329.8534971763815\n",
      "Wartość MSE (test):  189.3486780912227\n",
      "Wartość R2 (train):  0.2298216709382238\n",
      "Wartość R2 (test):  0.33095742562406016\n"
     ]
    }
   ],
   "source": [
    "from sklearn.linear_model import Ridge\n",
    "ridge = clf = Ridge()\n",
    "pipeline_ridge = make_pipeline(encoder,ridge)\n",
    "pipeline_ridge.fit(X_train, y_train)\n",
    "y_pred_ridge = pipeline_ridge.predict(X_train)\n",
    "y_pred_test_ridge = pipeline_ridge.predict(X_test)\n",
    "\n",
    "print(\"Wartość MSE (train): \",mean_squared_error(y_train,y_pred_ridge,squared=False))\n",
    "print(\"Wartość MSE (test): \",mean_squared_error(y_test,y_pred_test_ridge,squared=False))\n",
    "print(\"Wartość R2 (train): \",r2_score(y_train,y_pred_ridge))\n",
    "print(\"Wartość R2 (test): \",r2_score(y_test,y_pred_test_ridge))"
   ]
  },
  {
   "cell_type": "markdown",
   "metadata": {},
   "source": [
    "Ridge jest to model regresji liniowej, który korzysta z funkcji straty najmniejszych kwadrwatów z regularyzacją za pomocą normy I2. Ze strony https://towardsdatascience.com/ridge-and-lasso-regression-a-complete-guide-with-python-scikit-learn-e20e34bcbf0b z której korzystam do nauki LAsso i Ridge pochodzą poniższe wzory."
   ]
  },
  {
   "cell_type": "markdown",
   "metadata": {},
   "source": [
    "W Ridge korzystamy z kwadratów współczynników."
   ]
  },
  {
   "attachments": {
    "ridge.png": {
     "image/png": "[encoded data removed]"
    }
   },
   "cell_type": "markdown",
   "metadata": {},
   "source": [
    "![ridge.png](attachment:ridge.png)"
   ]
  },
  {
   "cell_type": "code",
   "execution_count": 41,
   "metadata": {},
   "outputs": [
    {
     "name": "stderr",
     "output_type": "stream",
     "text": [
      "C:\\Users\\klgru\\Anaconda3\\lib\\site-packages\\category_encoders\\utils.py:21: FutureWarning: is_categorical is deprecated and will be removed in a future version.  Use is_categorical_dtype instead\n",
      "  elif pd.api.types.is_categorical(cols):\n"
     ]
    },
    {
     "name": "stdout",
     "output_type": "stream",
     "text": [
      "Wartość MSE (train):  329.85349719280526\n",
      "Wartość MSE (test):  189.34858862358524\n",
      "Wartość R2 (train):  0.22982167086152783\n",
      "Wartość R2 (test):  0.3309580578718788\n"
     ]
    }
   ],
   "source": [
    "from sklearn import linear_model\n",
    "lasso = linear_model.Lasso(alpha=0.1)\n",
    "pipeline_lasso = make_pipeline(encoder,lasso)\n",
    "pipeline_lasso.fit(X_train,y_train)\n",
    "y_pred_lasso = pipeline_lasso.predict(X_train)\n",
    "y_pred_test_lasso = pipeline_lasso.predict(X_test)\n",
    "\n",
    "print(\"Wartość MSE (train): \",mean_squared_error(y_train,y_pred_lasso,squared=False))\n",
    "print(\"Wartość MSE (test): \",mean_squared_error(y_test,y_pred_test_lasso,squared=False))\n",
    "print(\"Wartość R2 (train): \",r2_score(y_train,y_pred_lasso))\n",
    "print(\"Wartość R2 (test): \",r2_score(y_test,y_pred_test_lasso))"
   ]
  },
  {
   "cell_type": "markdown",
   "metadata": {},
   "source": [
    "Lasso w odróżnieniu od Ridge korzysta z normy I1."
   ]
  },
  {
   "cell_type": "markdown",
   "metadata": {},
   "source": [
    "Czyli zamiast kwadratów współczynników korzystamy z wartości bezwzględnej."
   ]
  },
  {
   "attachments": {
    "lasso.png": {
     "image/png": "[encoded data removed]"
    }
   },
   "cell_type": "markdown",
   "metadata": {},
   "source": [
    "![lasso.png](attachment:lasso.png)"
   ]
  },
  {
   "cell_type": "markdown",
   "metadata": {},
   "source": [
    "Ridge i Lasso mają do siebie bardzo zbliżone wyniki. Można nawet powiedzieć, że z dokładnością do części tysięcznych są takie same."
   ]
  },
  {
   "cell_type": "markdown",
   "metadata": {},
   "source": [
    "### Inny model regresyjny"
   ]
  },
  {
   "cell_type": "code",
   "execution_count": 35,
   "metadata": {},
   "outputs": [
    {
     "name": "stderr",
     "output_type": "stream",
     "text": [
      "C:\\Users\\klgru\\Anaconda3\\lib\\site-packages\\category_encoders\\utils.py:21: FutureWarning: is_categorical is deprecated and will be removed in a future version.  Use is_categorical_dtype instead\n",
      "  elif pd.api.types.is_categorical(cols):\n"
     ]
    },
    {
     "name": "stdout",
     "output_type": "stream",
     "text": [
      "Wartość MSE (train):  253.94125369770606\n",
      "Wartość MSE (test):  296.0385546395782\n",
      "Wartość R2 (train):  0.5435264399255517\n",
      "Wartość R2 (test):  -0.6354066154649098\n"
     ]
    }
   ],
   "source": [
    "from sklearn.ensemble import RandomForestRegressor\n",
    "\n",
    "rf = RandomForestRegressor()\n",
    "pipeline_4 = make_pipeline(encoder,rf)\n",
    "pipeline_4.fit(X_train,y_train)\n",
    "\n",
    "y_pred_4 = pipeline_4.predict(X_train)\n",
    "y_pred_test_4 = pipeline_4.predict(X_test)\n",
    "print(\"Wartość MSE (train): \",mean_squared_error(y_train,y_pred_4,squared=False))\n",
    "print(\"Wartość MSE (test): \",mean_squared_error(y_test,y_pred_test_4,squared=False))\n",
    "print(\"Wartość R2 (train): \",r2_score(y_train,y_pred_4))\n",
    "print(\"Wartość R2 (test): \",r2_score(y_test,y_pred_test_4))"
   ]
  },
  {
   "cell_type": "markdown",
   "metadata": {},
   "source": [
    "Las losowy  bez strojenia parametrów daje bardzo dobre wyniki, lepsze od modelu liniowego."
   ]
  }
 ],
 "metadata": {
  "kernelspec": {
   "display_name": "Python 3",
   "language": "python",
   "name": "python3"
  },
  "language_info": {
   "codemirror_mode": {
    "name": "ipython",
    "version": 3
   },
   "file_extension": ".py",
   "mimetype": "text/x-python",
   "name": "python",
   "nbconvert_exporter": "python",
   "pygments_lexer": "ipython3",
   "version": "3.7.3"
  }
 },
 "nbformat": 4,
 "nbformat_minor": 2
}
