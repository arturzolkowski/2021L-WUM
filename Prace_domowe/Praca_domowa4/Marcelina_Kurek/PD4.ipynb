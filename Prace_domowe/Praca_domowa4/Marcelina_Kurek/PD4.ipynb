{
 "cells": [
  {
   "cell_type": "markdown",
   "id": "floating-honor",
   "metadata": {},
   "source": [
    "# Praca domowa 4"
   ]
  },
  {
   "cell_type": "code",
   "execution_count": 1,
   "id": "serial-investing",
   "metadata": {},
   "outputs": [],
   "source": [
    "import pandas as pd\n",
    "import numpy as np\n",
    "import seaborn as sns\n",
    "import matplotlib.pyplot as plt\n",
    "import matplotlib\n",
    "import math\n",
    "\n",
    "import dalex as dx\n",
    "import category_encoders as ce\n",
    "from sklearn.preprocessing import OneHotEncoder\n",
    "import sklearn\n",
    "import warnings\n",
    "warnings.filterwarnings('ignore')"
   ]
  },
  {
   "cell_type": "code",
   "execution_count": 2,
   "id": "fitted-variation",
   "metadata": {
    "scrolled": true
   },
   "outputs": [],
   "source": [
    "apartments = dx.datasets.load_apartments()"
   ]
  },
  {
   "cell_type": "code",
   "execution_count": 3,
   "id": "common-grill",
   "metadata": {
    "scrolled": true
   },
   "outputs": [
    {
     "name": "stdout",
     "output_type": "stream",
     "text": [
      "<class 'pandas.core.frame.DataFrame'>\n",
      "Int64Index: 1000 entries, 1 to 1000\n",
      "Data columns (total 6 columns):\n",
      " #   Column             Non-Null Count  Dtype \n",
      "---  ------             --------------  ----- \n",
      " 0   m2_price           1000 non-null   int64 \n",
      " 1   construction_year  1000 non-null   int64 \n",
      " 2   surface            1000 non-null   int64 \n",
      " 3   floor              1000 non-null   int64 \n",
      " 4   no_rooms           1000 non-null   int64 \n",
      " 5   district           1000 non-null   object\n",
      "dtypes: int64(5), object(1)\n",
      "memory usage: 54.7+ KB\n"
     ]
    }
   ],
   "source": [
    "apartments.info()"
   ]
  },
  {
   "cell_type": "code",
   "execution_count": 4,
   "id": "specified-mainland",
   "metadata": {},
   "outputs": [
    {
     "data": {
      "text/plain": [
       "Mokotow        107\n",
       "Wola           106\n",
       "Ursus          105\n",
       "Ursynow        103\n",
       "Srodmiescie    100\n",
       "Bemowo          98\n",
       "Zoliborz        97\n",
       "Bielany         96\n",
       "Ochota          96\n",
       "Praga           92\n",
       "Name: district, dtype: int64"
      ]
     },
     "execution_count": 4,
     "metadata": {},
     "output_type": "execute_result"
    }
   ],
   "source": [
    "apartments.district.value_counts() # 10 kolumn"
   ]
  },
  {
   "cell_type": "markdown",
   "id": "developing-lending",
   "metadata": {},
   "source": [
    "#### Transformacja kolumny `district` przy użyciu Target Encoder"
   ]
  },
  {
   "cell_type": "code",
   "execution_count": 5,
   "id": "hundred-generator",
   "metadata": {},
   "outputs": [
    {
     "data": {
      "text/html": [
       "<div>\n",
       "<style scoped>\n",
       "    .dataframe tbody tr th:only-of-type {\n",
       "        vertical-align: middle;\n",
       "    }\n",
       "\n",
       "    .dataframe tbody tr th {\n",
       "        vertical-align: top;\n",
       "    }\n",
       "\n",
       "    .dataframe thead th {\n",
       "        text-align: right;\n",
       "    }\n",
       "</style>\n",
       "<table border=\"1\" class=\"dataframe\">\n",
       "  <thead>\n",
       "    <tr style=\"text-align: right;\">\n",
       "      <th></th>\n",
       "      <th>construction_year</th>\n",
       "      <th>surface</th>\n",
       "      <th>floor</th>\n",
       "      <th>no_rooms</th>\n",
       "      <th>district</th>\n",
       "    </tr>\n",
       "  </thead>\n",
       "  <tbody>\n",
       "    <tr>\n",
       "      <th>1</th>\n",
       "      <td>1953</td>\n",
       "      <td>25</td>\n",
       "      <td>3</td>\n",
       "      <td>1</td>\n",
       "      <td>5182.750000</td>\n",
       "    </tr>\n",
       "    <tr>\n",
       "      <th>2</th>\n",
       "      <td>1992</td>\n",
       "      <td>143</td>\n",
       "      <td>9</td>\n",
       "      <td>5</td>\n",
       "      <td>2985.739583</td>\n",
       "    </tr>\n",
       "    <tr>\n",
       "      <th>3</th>\n",
       "      <td>1937</td>\n",
       "      <td>56</td>\n",
       "      <td>1</td>\n",
       "      <td>2</td>\n",
       "      <td>2994.804348</td>\n",
       "    </tr>\n",
       "    <tr>\n",
       "      <th>4</th>\n",
       "      <td>1995</td>\n",
       "      <td>93</td>\n",
       "      <td>7</td>\n",
       "      <td>3</td>\n",
       "      <td>3956.291667</td>\n",
       "    </tr>\n",
       "    <tr>\n",
       "      <th>5</th>\n",
       "      <td>1992</td>\n",
       "      <td>144</td>\n",
       "      <td>6</td>\n",
       "      <td>5</td>\n",
       "      <td>3855.457944</td>\n",
       "    </tr>\n",
       "    <tr>\n",
       "      <th>...</th>\n",
       "      <td>...</td>\n",
       "      <td>...</td>\n",
       "      <td>...</td>\n",
       "      <td>...</td>\n",
       "      <td>...</td>\n",
       "    </tr>\n",
       "    <tr>\n",
       "      <th>996</th>\n",
       "      <td>1921</td>\n",
       "      <td>44</td>\n",
       "      <td>2</td>\n",
       "      <td>2</td>\n",
       "      <td>5182.750000</td>\n",
       "    </tr>\n",
       "    <tr>\n",
       "      <th>997</th>\n",
       "      <td>1921</td>\n",
       "      <td>48</td>\n",
       "      <td>10</td>\n",
       "      <td>2</td>\n",
       "      <td>3048.459184</td>\n",
       "    </tr>\n",
       "    <tr>\n",
       "      <th>998</th>\n",
       "      <td>1980</td>\n",
       "      <td>85</td>\n",
       "      <td>3</td>\n",
       "      <td>3</td>\n",
       "      <td>3048.459184</td>\n",
       "    </tr>\n",
       "    <tr>\n",
       "      <th>999</th>\n",
       "      <td>1942</td>\n",
       "      <td>36</td>\n",
       "      <td>7</td>\n",
       "      <td>1</td>\n",
       "      <td>3797.948454</td>\n",
       "    </tr>\n",
       "    <tr>\n",
       "      <th>1000</th>\n",
       "      <td>1992</td>\n",
       "      <td>112</td>\n",
       "      <td>6</td>\n",
       "      <td>5</td>\n",
       "      <td>3855.457944</td>\n",
       "    </tr>\n",
       "  </tbody>\n",
       "</table>\n",
       "<p>1000 rows × 5 columns</p>\n",
       "</div>"
      ],
      "text/plain": [
       "      construction_year  surface  floor  no_rooms     district\n",
       "1                  1953       25      3         1  5182.750000\n",
       "2                  1992      143      9         5  2985.739583\n",
       "3                  1937       56      1         2  2994.804348\n",
       "4                  1995       93      7         3  3956.291667\n",
       "5                  1992      144      6         5  3855.457944\n",
       "...                 ...      ...    ...       ...          ...\n",
       "996                1921       44      2         2  5182.750000\n",
       "997                1921       48     10         2  3048.459184\n",
       "998                1980       85      3         3  3048.459184\n",
       "999                1942       36      7         1  3797.948454\n",
       "1000               1992      112      6         5  3855.457944\n",
       "\n",
       "[1000 rows x 5 columns]"
      ]
     },
     "execution_count": 5,
     "metadata": {},
     "output_type": "execute_result"
    }
   ],
   "source": [
    "X = apartments.loc[:, apartments.columns != \"m2_price\"]\n",
    "y = apartments.m2_price\n",
    "\n",
    "from category_encoders import TargetEncoder\n",
    "\n",
    "tge = TargetEncoder()\n",
    "X['district'] = tge.fit_transform(X['district'], y)\n",
    "X"
   ]
  },
  {
   "cell_type": "code",
   "execution_count": 6,
   "id": "republican-badge",
   "metadata": {},
   "outputs": [],
   "source": [
    "from sklearn.model_selection import cross_val_score, cross_validate"
   ]
  },
  {
   "cell_type": "markdown",
   "id": "departmental-national",
   "metadata": {},
   "source": [
    "### Model performance przy braku skalowania zmiennych"
   ]
  },
  {
   "cell_type": "code",
   "execution_count": 15,
   "id": "gentle-hebrew",
   "metadata": {},
   "outputs": [],
   "source": [
    "from sklearn.model_selection import train_test_split\n",
    "\n",
    "X_train, X_test, y_train, y_test = train_test_split(X, y, test_size = 0.25, random_state = 45)"
   ]
  },
  {
   "cell_type": "markdown",
   "id": "protective-medicine",
   "metadata": {},
   "source": [
    "Zastosowanie kroswalidacji"
   ]
  },
  {
   "cell_type": "code",
   "execution_count": 92,
   "id": "controlling-input",
   "metadata": {},
   "outputs": [
    {
     "name": "stdout",
     "output_type": "stream",
     "text": [
      "SVC RMSE: -6352.3857\n",
      "SVC R2: -0.0305\n"
     ]
    }
   ],
   "source": [
    "svm_base = SVC(verbose = False)\n",
    "res = cross_validate(svm_base, X_train, y_train, cv=3, scoring=['neg_mean_squared_error', 'r2'])\n",
    "print(\"SVC\", 'RMSE: {0:0.4f}'. format(np.mean(res['test_neg_mean_squared_error'])))\n",
    "print(\"SVC\", 'R2: {0:0.4f}'. format(np.mean(res['test_r2'])))"
   ]
  },
  {
   "cell_type": "code",
   "execution_count": 17,
   "id": "prescription-colleague",
   "metadata": {},
   "outputs": [
    {
     "name": "stdout",
     "output_type": "stream",
     "text": [
      "713048.776\n",
      "0.15633550700141008\n"
     ]
    }
   ],
   "source": [
    "svm_base1 = SVC(verbose = False) \n",
    "svm_base1.fit(X_train, y_train)\n",
    "y_hat = svm_base1.predict(X_test)\n",
    "print(mean_squared_error(y_test, y_hat))\n",
    "print(r2_score(y_test, y_hat))"
   ]
  },
  {
   "cell_type": "markdown",
   "id": "entertaining-january",
   "metadata": {},
   "source": [
    "## Skalowanie zmiennych"
   ]
  },
  {
   "cell_type": "code",
   "execution_count": 18,
   "id": "particular-cargo",
   "metadata": {},
   "outputs": [],
   "source": [
    "from sklearn.pipeline import make_pipeline\n",
    "from sklearn.preprocessing import MinMaxScaler\n",
    "from sklearn.svm import SVC, SVR\n",
    "\n",
    "from sklearn.preprocessing import MinMaxScaler\n",
    "from sklearn.metrics import mean_squared_error, r2_score\n",
    "\n",
    "\n",
    "scaler = MinMaxScaler()\n",
    "X1 = scaler.fit_transform(X)"
   ]
  },
  {
   "cell_type": "code",
   "execution_count": 19,
   "id": "polyphonic-spokesman",
   "metadata": {},
   "outputs": [],
   "source": [
    "from sklearn.model_selection import train_test_split\n",
    "\n",
    "X1_train, X1_test, y_train, y_test = train_test_split(X1, y, test_size = 0.25, random_state = 45)"
   ]
  },
  {
   "cell_type": "code",
   "execution_count": 20,
   "id": "rocky-technology",
   "metadata": {},
   "outputs": [
    {
     "name": "stdout",
     "output_type": "stream",
     "text": [
      "SVC RMSE: -428321.6040\n",
      "SVC R2: 0.4677\n"
     ]
    }
   ],
   "source": [
    "svm_base = SVC(verbose = False)\n",
    "res = cross_validate(svm_base, X_train, y_train, cv=3, scoring=['neg_mean_squared_error', 'r2'])\n",
    "print(\"SVC\", 'RMSE: {0:0.4f}'. format(np.mean(res['test_neg_mean_squared_error'])))\n",
    "print(\"SVC\", 'R2: {0:0.4f}'. format(np.mean(res['test_r2'])))"
   ]
  },
  {
   "cell_type": "code",
   "execution_count": 59,
   "id": "involved-source",
   "metadata": {},
   "outputs": [
    {
     "name": "stdout",
     "output_type": "stream",
     "text": [
      "242591.544\n",
      "0.7129707267395897\n"
     ]
    }
   ],
   "source": [
    "svm_base2 = SVC(verbose = False)\n",
    "svm_base2.fit(X1_train, y_train)\n",
    "y_hat = svm_base2.predict(X1_test)\n",
    "mse_base = mean_squared_error(y_test, y_hat)\n",
    "print(mean_squared_error(y_test, y_hat))\n",
    "print(r2_score(y_test, y_hat))"
   ]
  },
  {
   "cell_type": "code",
   "execution_count": 75,
   "id": "plain-green",
   "metadata": {},
   "outputs": [
    {
     "data": {
      "text/plain": [
       "dict_keys(['explained_variance', 'r2', 'max_error', 'neg_median_absolute_error', 'neg_mean_absolute_error', 'neg_mean_absolute_percentage_error', 'neg_mean_squared_error', 'neg_mean_squared_log_error', 'neg_root_mean_squared_error', 'neg_mean_poisson_deviance', 'neg_mean_gamma_deviance', 'accuracy', 'top_k_accuracy', 'roc_auc', 'roc_auc_ovr', 'roc_auc_ovo', 'roc_auc_ovr_weighted', 'roc_auc_ovo_weighted', 'balanced_accuracy', 'average_precision', 'neg_log_loss', 'neg_brier_score', 'adjusted_rand_score', 'rand_score', 'homogeneity_score', 'completeness_score', 'v_measure_score', 'mutual_info_score', 'adjusted_mutual_info_score', 'normalized_mutual_info_score', 'fowlkes_mallows_score', 'precision', 'precision_macro', 'precision_micro', 'precision_samples', 'precision_weighted', 'recall', 'recall_macro', 'recall_micro', 'recall_samples', 'recall_weighted', 'f1', 'f1_macro', 'f1_micro', 'f1_samples', 'f1_weighted', 'jaccard', 'jaccard_macro', 'jaccard_micro', 'jaccard_samples', 'jaccard_weighted'])"
      ]
     },
     "execution_count": 75,
     "metadata": {},
     "output_type": "execute_result"
    }
   ],
   "source": [
    "sklearn.metrics.SCORERS.keys()"
   ]
  },
  {
   "cell_type": "markdown",
   "id": "expected-rotation",
   "metadata": {},
   "source": [
    "### Wnioski: \n",
    "- Skalowanie zmiennych zmniejszyło wartość błędu RMSE o ponad 25% w przypadku kroswalidacji na zbiorze treningowym\n",
    "- W przypadku skalowania zmiennych przy braku kroswalidacji wartość błędu RMSE zmniejszyła się trzykrotnie"
   ]
  },
  {
   "cell_type": "markdown",
   "id": "explicit-mercury",
   "metadata": {},
   "source": [
    "# Randomized Search\n",
    "Początkowe ustawienia parametrów:\n",
    "- C - z rozkładu jednostajnego na przedziale [0, 5]\n",
    "- gamma: ['scale', 'auto']\n",
    "- degree: [2, 3, 4,5,6]"
   ]
  },
  {
   "cell_type": "code",
   "execution_count": 27,
   "id": "comparable-uruguay",
   "metadata": {},
   "outputs": [],
   "source": [
    "from sklearn.model_selection import RandomizedSearchCV\n",
    "from scipy.stats import uniform\n",
    "\n",
    "distributions = dict(C=uniform(loc=0, scale=5), gamma = ['scale', 'auto'], degree = [2, 3, 4,5,6])\n",
    "clf = RandomizedSearchCV(svm_base, param_distributions = distributions, random_state=0, cv=3, n_iter = 20)\n",
    "search = clf.fit(X1_train, y_train)"
   ]
  },
  {
   "cell_type": "code",
   "execution_count": 28,
   "id": "streaming-reward",
   "metadata": {
    "scrolled": true
   },
   "outputs": [
    {
     "name": "stdout",
     "output_type": "stream",
     "text": [
      "{'C': 2.7440675196366238, 'degree': 2, 'gamma': 'auto'}\n",
      "{'C': 4.289728088113784, 'degree': 3, 'gamma': 'auto'}\n",
      "{'C': 3.2294705653332807, 'degree': 6, 'gamma': 'auto'}\n",
      "{'C': 4.4588650039103985, 'degree': 2, 'gamma': 'scale'}\n",
      "{'C': 1.9172075941288886, 'degree': 2, 'gamma': 'auto'}\n"
     ]
    }
   ],
   "source": [
    "search_res = pd.DataFrame(search.cv_results_)\n",
    "\n",
    "# Top 5\n",
    "for i in range(5):\n",
    "    print(search_res.iloc[i, 7])"
   ]
  },
  {
   "cell_type": "markdown",
   "id": "quick-bacteria",
   "metadata": {},
   "source": [
    "### Random search  v2\n",
    "z zawężonym przedziałem wartości C: [2, 4.5]  \n",
    "oraz stopniem wielomianu z przedziału [2, 3, 4]"
   ]
  },
  {
   "cell_type": "code",
   "execution_count": 75,
   "id": "unexpected-bride",
   "metadata": {},
   "outputs": [],
   "source": [
    "distributions = dict(C=uniform(loc=2, scale=2.5), gamma = ['scale', 'auto'], degree = [2, 3, 4]) \n",
    "clf = RandomizedSearchCV(svm_base, param_distributions = distributions, random_state=0, cv=3, n_iter = 20)\n",
    "search = clf.fit(X1_train, y_train)"
   ]
  },
  {
   "cell_type": "code",
   "execution_count": 31,
   "id": "daily-visit",
   "metadata": {},
   "outputs": [
    {
     "name": "stdout",
     "output_type": "stream",
     "text": [
      "{'C': 3.372033759818312, 'degree': 3, 'gamma': 'scale'}\n",
      "{'C': 3.5069084401791097, 'degree': 3, 'gamma': 'auto'}\n",
      "{'C': 3.6147352826666403, 'degree': 2, 'gamma': 'auto'}\n",
      "{'C': 4.229432501955199, 'degree': 2, 'gamma': 'scale'}\n",
      "{'C': 2.9586037970644443, 'degree': 4, 'gamma': 'auto'}\n"
     ]
    }
   ],
   "source": [
    "search_res2 = pd.DataFrame(search.cv_results_)\n",
    "\n",
    "# Top 5 hiperparametrów najlepszych wyników\n",
    "for i in range(5):\n",
    "    print(search_res2.iloc[i, 7])"
   ]
  },
  {
   "cell_type": "markdown",
   "id": "visible-update",
   "metadata": {},
   "source": [
    "### Porównanie błędu RMSE 3 najlepszych wyników oraz bazowego klasyfikatora"
   ]
  },
  {
   "cell_type": "code",
   "execution_count": 66,
   "id": "copyrighted-affect",
   "metadata": {},
   "outputs": [],
   "source": [
    "svm_top1 = SVC(C = 3.37, degree = 3, gamma = 'scale')\n",
    "svm_top2 = SVC(C = 3.50, degree = 3, gamma = 'auto')\n",
    "svm_top_search_1 = SVC(C = 2.74, degree = 2, gamma = 'auto')"
   ]
  },
  {
   "cell_type": "code",
   "execution_count": 67,
   "id": "architectural-share",
   "metadata": {},
   "outputs": [
    {
     "name": "stdout",
     "output_type": "stream",
     "text": [
      "RMSE: 520770.364\n"
     ]
    }
   ],
   "source": [
    "svm_top_search_1.fit(X1_train, y_train)\n",
    "y_hat = svm_top_search_1.predict(X1_test)\n",
    "mse_top_search_1 = mean_squared_error(y_test, y_hat)\n",
    "print(\"RMSE:\", mean_squared_error(y_test, y_hat))"
   ]
  },
  {
   "cell_type": "code",
   "execution_count": 61,
   "id": "south-organ",
   "metadata": {},
   "outputs": [
    {
     "name": "stdout",
     "output_type": "stream",
     "text": [
      "RMSE: 94571.604\n"
     ]
    }
   ],
   "source": [
    "svm_top1.fit(X1_train, y_train)\n",
    "y_hat = svm_top1.predict(X1_test)\n",
    "mse_top1 = mean_squared_error(y_test, y_hat)\n",
    "print(\"RMSE:\", mean_squared_error(y_test, y_hat))"
   ]
  },
  {
   "cell_type": "code",
   "execution_count": 62,
   "id": "concerned-parameter",
   "metadata": {},
   "outputs": [
    {
     "name": "stdout",
     "output_type": "stream",
     "text": [
      "RMSE: 357699.868\n"
     ]
    }
   ],
   "source": [
    "svm_top2.fit(X1_train, y_train)\n",
    "y_hat = svm_top2.predict(X1_test)\n",
    "mse_top2 = mean_squared_error(y_test, y_hat)\n",
    "print(\"RMSE:\", mean_squared_error(y_test, y_hat))"
   ]
  },
  {
   "cell_type": "markdown",
   "id": "biological-fossil",
   "metadata": {},
   "source": [
    "### Podsumowanie"
   ]
  },
  {
   "cell_type": "code",
   "execution_count": 72,
   "id": "editorial-success",
   "metadata": {},
   "outputs": [
    {
     "data": {
      "text/html": [
       "<div>\n",
       "<style scoped>\n",
       "    .dataframe tbody tr th:only-of-type {\n",
       "        vertical-align: middle;\n",
       "    }\n",
       "\n",
       "    .dataframe tbody tr th {\n",
       "        vertical-align: top;\n",
       "    }\n",
       "\n",
       "    .dataframe thead th {\n",
       "        text-align: right;\n",
       "    }\n",
       "</style>\n",
       "<table border=\"1\" class=\"dataframe\">\n",
       "  <thead>\n",
       "    <tr style=\"text-align: right;\">\n",
       "      <th></th>\n",
       "      <th>Classif</th>\n",
       "      <th>RMSE</th>\n",
       "    </tr>\n",
       "  </thead>\n",
       "  <tbody>\n",
       "    <tr>\n",
       "      <th>0</th>\n",
       "      <td>SVC top1</td>\n",
       "      <td>94571.604</td>\n",
       "    </tr>\n",
       "    <tr>\n",
       "      <th>1</th>\n",
       "      <td>SVC top2</td>\n",
       "      <td>357699.868</td>\n",
       "    </tr>\n",
       "    <tr>\n",
       "      <th>2</th>\n",
       "      <td>SVM top search1</td>\n",
       "      <td>520770.364</td>\n",
       "    </tr>\n",
       "    <tr>\n",
       "      <th>3</th>\n",
       "      <td>SVC Base</td>\n",
       "      <td>242591.544</td>\n",
       "    </tr>\n",
       "  </tbody>\n",
       "</table>\n",
       "</div>"
      ],
      "text/plain": [
       "           Classif        RMSE\n",
       "0         SVC top1   94571.604\n",
       "1         SVC top2  357699.868\n",
       "2  SVM top search1  520770.364\n",
       "3         SVC Base  242591.544"
      ]
     },
     "execution_count": 72,
     "metadata": {},
     "output_type": "execute_result"
    }
   ],
   "source": [
    "res_tab = pd.DataFrame()\n",
    "res_tab[\"Classif\"] = ['SVC top1', 'SVC top2','SVM top search1', 'SVC Base']\n",
    "res_tab['RMSE'] = [mse_top1, mse_top2, mse_top_search_1, mse_base]\n",
    "res_tab"
   ]
  },
  {
   "cell_type": "markdown",
   "id": "cultural-length",
   "metadata": {},
   "source": [
    "Najlepszy klasyfikator ma parametry: \n",
    "- `C`: 3.37\n",
    "- `degree`: 3\n",
    "- `gamma`: scale\n",
    "\n",
    "Wartość błędu RMSE dla najlepszego klasyfikatora po podwójnym wyszukiwaniu metodą Randomized Search zmniejszyła się ponad 2.5 raza.\n",
    "Z kolei dla kolejnych klasyfikatorów wartość błędu RMSE zwiększyła się w stosunku do bazowego klasyfikatora.\n"
   ]
  },
  {
   "cell_type": "markdown",
   "id": "fluid-bahrain",
   "metadata": {},
   "source": [
    "## Support Vector Machine - `Diabetes`"
   ]
  },
  {
   "cell_type": "markdown",
   "id": "conditional-transparency",
   "metadata": {},
   "source": [
    "Poniżej wykorzystano ramkę danych `Diabetes` z pakietu Scikit Learn"
   ]
  },
  {
   "cell_type": "code",
   "execution_count": 76,
   "id": "future-fault",
   "metadata": {},
   "outputs": [],
   "source": [
    "from sklearn import datasets"
   ]
  },
  {
   "cell_type": "code",
   "execution_count": 77,
   "id": "related-pursuit",
   "metadata": {},
   "outputs": [
    {
     "name": "stdout",
     "output_type": "stream",
     "text": [
      ".. _diabetes_dataset:\n",
      "\n",
      "Diabetes dataset\n",
      "----------------\n",
      "\n",
      "Ten baseline variables, age, sex, body mass index, average blood\n",
      "pressure, and six blood serum measurements were obtained for each of n =\n",
      "442 diabetes patients, as well as the response of interest, a\n",
      "quantitative measure of disease progression one year after baseline.\n",
      "\n",
      "**Data Set Characteristics:**\n",
      "\n",
      "  :Number of Instances: 442\n",
      "\n",
      "  :Number of Attributes: First 10 columns are numeric predictive values\n",
      "\n",
      "  :Target: Column 11 is a quantitative measure of disease progression one year after baseline\n",
      "\n",
      "  :Attribute Information:\n",
      "      - age     age in years\n",
      "      - sex\n",
      "      - bmi     body mass index\n",
      "      - bp      average blood pressure\n",
      "      - s1      tc, T-Cells (a type of white blood cells)\n",
      "      - s2      ldl, low-density lipoproteins\n",
      "      - s3      hdl, high-density lipoproteins\n",
      "      - s4      tch, thyroid stimulating hormone\n",
      "      - s5      ltg, lamotrigine\n",
      "      - s6      glu, blood sugar level\n",
      "\n",
      "Note: Each of these 10 feature variables have been mean centered and scaled by the standard deviation times `n_samples` (i.e. the sum of squares of each column totals 1).\n",
      "\n",
      "Source URL:\n",
      "https://www4.stat.ncsu.edu/~boos/var.select/diabetes.html\n",
      "\n",
      "For more information see:\n",
      "Bradley Efron, Trevor Hastie, Iain Johnstone and Robert Tibshirani (2004) \"Least Angle Regression,\" Annals of Statistics (with discussion), 407-499.\n",
      "(https://web.stanford.edu/~hastie/Papers/LARS/LeastAngle_2002.pdf)\n"
     ]
    }
   ],
   "source": [
    "print(datasets.load_diabetes().DESCR)"
   ]
  },
  {
   "cell_type": "code",
   "execution_count": 78,
   "id": "numerical-decrease",
   "metadata": {},
   "outputs": [],
   "source": [
    "y = datasets.load_diabetes().target\n",
    "X = datasets.load_diabetes().data"
   ]
  },
  {
   "cell_type": "code",
   "execution_count": 79,
   "id": "peaceful-subscription",
   "metadata": {},
   "outputs": [],
   "source": [
    "from sklearn.model_selection import train_test_split\n",
    "\n",
    "X_train, X_test, y_train, y_test = train_test_split(X, y, test_size = 0.25, random_state = 45)"
   ]
  },
  {
   "cell_type": "markdown",
   "id": "rough-hudson",
   "metadata": {},
   "source": [
    "### Wyniki klasyfikacji dla bazowego klasyfikatora"
   ]
  },
  {
   "cell_type": "code",
   "execution_count": 86,
   "id": "mathematical-motivation",
   "metadata": {},
   "outputs": [
    {
     "name": "stdout",
     "output_type": "stream",
     "text": [
      "RMSE 4679.036036036036\n"
     ]
    }
   ],
   "source": [
    "svm_base3 = SVC()\n",
    "svm_base3.fit(X_train, y_train)\n",
    "y_hat = svm_base3.predict(X_test)\n",
    "mse_diab_base = mean_squared_error(y_test, y_hat)\n",
    "print('RMSE', mean_squared_error(y_test, y_hat))"
   ]
  },
  {
   "cell_type": "markdown",
   "id": "western-level",
   "metadata": {},
   "source": [
    "## Randomized Search\n",
    "Skorzystamy z wcześniej wykorzystanego modelu `svm_base`"
   ]
  },
  {
   "cell_type": "code",
   "execution_count": 81,
   "id": "weekly-convenience",
   "metadata": {},
   "outputs": [],
   "source": [
    "distributions = dict(C=uniform(loc=0, scale=10), gamma = ['scale', 'auto'], degree = [2, 3, 4,5,6])\n",
    "clf = RandomizedSearchCV(svm_base, param_distributions = distributions, random_state=0, cv=3, n_iter = 20)\n",
    "search = clf.fit(X_train, y_train)"
   ]
  },
  {
   "cell_type": "code",
   "execution_count": 82,
   "id": "chemical-oriental",
   "metadata": {},
   "outputs": [
    {
     "name": "stdout",
     "output_type": "stream",
     "text": [
      "{'C': 5.4881350392732475, 'degree': 2, 'gamma': 'auto'}\n",
      "{'C': 8.579456176227568, 'degree': 3, 'gamma': 'auto'}\n",
      "{'C': 6.458941130666561, 'degree': 6, 'gamma': 'auto'}\n",
      "{'C': 8.917730007820797, 'degree': 2, 'gamma': 'scale'}\n",
      "{'C': 3.8344151882577773, 'degree': 2, 'gamma': 'auto'}\n"
     ]
    }
   ],
   "source": [
    "search_res = pd.DataFrame(search.cv_results_)\n",
    "\n",
    "# Top 5\n",
    "for i in range(5):\n",
    "    print(search_res.iloc[i, 7])"
   ]
  },
  {
   "cell_type": "markdown",
   "id": "constitutional-logic",
   "metadata": {},
   "source": [
    "### Randomized Search v2\n",
    "- C: 4-8\n",
    "- degree: [2, 3, 4]\n",
    "- gamma: ['auto', 'scale']"
   ]
  },
  {
   "cell_type": "code",
   "execution_count": 83,
   "id": "oriental-humanity",
   "metadata": {},
   "outputs": [],
   "source": [
    "distributions = dict(C=uniform(loc=4, scale=4), gamma = ['scale', 'auto'], degree = [2, 3, 4]) \n",
    "clf = RandomizedSearchCV(svm_base, param_distributions = distributions, random_state=0, cv=3, n_iter = 30)\n",
    "search = clf.fit(X_train, y_train)"
   ]
  },
  {
   "cell_type": "code",
   "execution_count": 84,
   "id": "representative-suspect",
   "metadata": {},
   "outputs": [
    {
     "name": "stdout",
     "output_type": "stream",
     "text": [
      "{'C': 5.4881350392732475, 'degree': 2, 'gamma': 'auto'}\n",
      "{'C': 8.579456176227568, 'degree': 3, 'gamma': 'auto'}\n",
      "{'C': 6.458941130666561, 'degree': 6, 'gamma': 'auto'}\n",
      "{'C': 8.917730007820797, 'degree': 2, 'gamma': 'scale'}\n",
      "{'C': 3.8344151882577773, 'degree': 2, 'gamma': 'auto'}\n"
     ]
    }
   ],
   "source": [
    "search_res2 = pd.DataFrame(search.cv_results_)\n",
    "\n",
    "# Top 5\n",
    "for i in range(5):\n",
    "    print(search_res.iloc[i, 7])"
   ]
  },
  {
   "cell_type": "code",
   "execution_count": 89,
   "id": "pacific-bracket",
   "metadata": {},
   "outputs": [],
   "source": [
    "svm_top1 = SVC(C = 5.49, degree = 2, gamma = 'auto') \n",
    "svm_top2 = SVC(C = 8.57, degree = 3, gamma = 'auto')"
   ]
  },
  {
   "cell_type": "code",
   "execution_count": 90,
   "id": "criminal-water",
   "metadata": {},
   "outputs": [
    {
     "name": "stdout",
     "output_type": "stream",
     "text": [
      "RMSE 8984.162162162162\n"
     ]
    }
   ],
   "source": [
    "svm_top1.fit(X_train, y_train)\n",
    "y_hat = svm_top1.predict(X_test)\n",
    "print('RMSE', mean_squared_error(y_test, y_hat))"
   ]
  },
  {
   "cell_type": "code",
   "execution_count": 91,
   "id": "architectural-clone",
   "metadata": {},
   "outputs": [
    {
     "name": "stdout",
     "output_type": "stream",
     "text": [
      "RMSE 8984.162162162162\n"
     ]
    }
   ],
   "source": [
    "svm_top2.fit(X_train, y_train)\n",
    "y_hat = svm_top2.predict(X_test)\n",
    "print('RMSE', mean_squared_error(y_test, y_hat))"
   ]
  },
  {
   "cell_type": "markdown",
   "id": "casual-craps",
   "metadata": {},
   "source": [
    "Dla przeprowadzonego Randomized Search wyniki klasyfikacji nie poprawiły się."
   ]
  }
 ],
 "metadata": {
  "kernelspec": {
   "display_name": "Python 3",
   "language": "python",
   "name": "python3"
  },
  "language_info": {
   "codemirror_mode": {
    "name": "ipython",
    "version": 3
   },
   "file_extension": ".py",
   "mimetype": "text/x-python",
   "name": "python",
   "nbconvert_exporter": "python",
   "pygments_lexer": "ipython3",
   "version": "3.8.6"
  }
 },
 "nbformat": 4,
 "nbformat_minor": 5
}
