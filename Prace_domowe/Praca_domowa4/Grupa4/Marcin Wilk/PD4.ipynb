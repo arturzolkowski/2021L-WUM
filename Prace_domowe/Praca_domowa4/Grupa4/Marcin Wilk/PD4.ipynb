{
 "cells": [
  {
   "cell_type": "markdown",
   "metadata": {},
   "source": [
    "# Praca domowa 4 Marcin Wilk"
   ]
  },
  {
   "cell_type": "code",
   "execution_count": 139,
   "metadata": {},
   "outputs": [],
   "source": [
    "import pandas as pd\n",
    "import numpy as np\n",
    "from sklearn.svm import SVC\n",
    "from sklearn.svm import SVR\n",
    "from sklearn.preprocessing import StandardScaler\n",
    "import category_encoders as ce\n",
    "from sklearn.pipeline import make_pipeline\n",
    "from sklearn.model_selection import train_test_split\n",
    "from sklearn.model_selection import cross_val_score\n",
    "import seaborn as sns\n",
    "import matplotlib as mpl\n",
    "from matplotlib import pyplot as plt\n",
    "from sklearn.model_selection import RandomizedSearchCV\n",
    "from sklearn.model_selection import GridSearchCV\n",
    "from scipy.stats import poisson,expon\n",
    "from sklearn.metrics import accuracy_score"
   ]
  },
  {
   "cell_type": "markdown",
   "metadata": {},
   "source": [
    "## Zbiór danych apartments z R-owego pakietu DALEX"
   ]
  },
  {
   "cell_type": "markdown",
   "metadata": {},
   "source": [
    "Pierwszym zbiorem danych, który będziemy rozważać będzie zbiór danych o cenach za metr kwadratowy poszczególnych mieszkań w zależności od czasu budowy, powierzchni, piętra, liczby pokoi oraz dzielnicy. Naszym zadaniem będzie więc regresja i prognoza zmiennej m2.price."
   ]
  },
  {
   "cell_type": "code",
   "execution_count": 140,
   "metadata": {},
   "outputs": [],
   "source": [
    "apartments = pd.read_csv(\"C:\\\\Users\\\\Lenovo\\\\Desktop\\\\Wstęp do uczenia maszynowego\\\\Laby\\\\apartments.csv\")"
   ]
  },
  {
   "cell_type": "code",
   "execution_count": 141,
   "metadata": {
    "scrolled": true
   },
   "outputs": [
    {
     "data": {
      "text/html": [
       "<div>\n",
       "<style scoped>\n",
       "    .dataframe tbody tr th:only-of-type {\n",
       "        vertical-align: middle;\n",
       "    }\n",
       "\n",
       "    .dataframe tbody tr th {\n",
       "        vertical-align: top;\n",
       "    }\n",
       "\n",
       "    .dataframe thead th {\n",
       "        text-align: right;\n",
       "    }\n",
       "</style>\n",
       "<table border=\"1\" class=\"dataframe\">\n",
       "  <thead>\n",
       "    <tr style=\"text-align: right;\">\n",
       "      <th></th>\n",
       "      <th>Unnamed: 0</th>\n",
       "      <th>m2.price</th>\n",
       "      <th>construction.year</th>\n",
       "      <th>surface</th>\n",
       "      <th>floor</th>\n",
       "      <th>no.rooms</th>\n",
       "      <th>district</th>\n",
       "    </tr>\n",
       "  </thead>\n",
       "  <tbody>\n",
       "    <tr>\n",
       "      <th>0</th>\n",
       "      <td>1</td>\n",
       "      <td>5897</td>\n",
       "      <td>1953</td>\n",
       "      <td>25</td>\n",
       "      <td>3</td>\n",
       "      <td>1</td>\n",
       "      <td>Srodmiescie</td>\n",
       "    </tr>\n",
       "    <tr>\n",
       "      <th>1</th>\n",
       "      <td>2</td>\n",
       "      <td>1818</td>\n",
       "      <td>1992</td>\n",
       "      <td>143</td>\n",
       "      <td>9</td>\n",
       "      <td>5</td>\n",
       "      <td>Bielany</td>\n",
       "    </tr>\n",
       "    <tr>\n",
       "      <th>2</th>\n",
       "      <td>3</td>\n",
       "      <td>3643</td>\n",
       "      <td>1937</td>\n",
       "      <td>56</td>\n",
       "      <td>1</td>\n",
       "      <td>2</td>\n",
       "      <td>Praga</td>\n",
       "    </tr>\n",
       "    <tr>\n",
       "      <th>3</th>\n",
       "      <td>4</td>\n",
       "      <td>3517</td>\n",
       "      <td>1995</td>\n",
       "      <td>93</td>\n",
       "      <td>7</td>\n",
       "      <td>3</td>\n",
       "      <td>Ochota</td>\n",
       "    </tr>\n",
       "    <tr>\n",
       "      <th>4</th>\n",
       "      <td>5</td>\n",
       "      <td>3013</td>\n",
       "      <td>1992</td>\n",
       "      <td>144</td>\n",
       "      <td>6</td>\n",
       "      <td>5</td>\n",
       "      <td>Mokotow</td>\n",
       "    </tr>\n",
       "    <tr>\n",
       "      <th>5</th>\n",
       "      <td>6</td>\n",
       "      <td>5795</td>\n",
       "      <td>1926</td>\n",
       "      <td>61</td>\n",
       "      <td>6</td>\n",
       "      <td>2</td>\n",
       "      <td>Srodmiescie</td>\n",
       "    </tr>\n",
       "    <tr>\n",
       "      <th>6</th>\n",
       "      <td>7</td>\n",
       "      <td>2983</td>\n",
       "      <td>1970</td>\n",
       "      <td>127</td>\n",
       "      <td>8</td>\n",
       "      <td>5</td>\n",
       "      <td>Mokotow</td>\n",
       "    </tr>\n",
       "    <tr>\n",
       "      <th>7</th>\n",
       "      <td>8</td>\n",
       "      <td>2346</td>\n",
       "      <td>1985</td>\n",
       "      <td>105</td>\n",
       "      <td>8</td>\n",
       "      <td>4</td>\n",
       "      <td>Ursus</td>\n",
       "    </tr>\n",
       "    <tr>\n",
       "      <th>8</th>\n",
       "      <td>9</td>\n",
       "      <td>4745</td>\n",
       "      <td>1928</td>\n",
       "      <td>145</td>\n",
       "      <td>6</td>\n",
       "      <td>6</td>\n",
       "      <td>Srodmiescie</td>\n",
       "    </tr>\n",
       "    <tr>\n",
       "      <th>9</th>\n",
       "      <td>10</td>\n",
       "      <td>4284</td>\n",
       "      <td>1949</td>\n",
       "      <td>112</td>\n",
       "      <td>9</td>\n",
       "      <td>4</td>\n",
       "      <td>Srodmiescie</td>\n",
       "    </tr>\n",
       "  </tbody>\n",
       "</table>\n",
       "</div>"
      ],
      "text/plain": [
       "   Unnamed: 0  m2.price  construction.year  surface  floor  no.rooms  \\\n",
       "0           1      5897               1953       25      3         1   \n",
       "1           2      1818               1992      143      9         5   \n",
       "2           3      3643               1937       56      1         2   \n",
       "3           4      3517               1995       93      7         3   \n",
       "4           5      3013               1992      144      6         5   \n",
       "5           6      5795               1926       61      6         2   \n",
       "6           7      2983               1970      127      8         5   \n",
       "7           8      2346               1985      105      8         4   \n",
       "8           9      4745               1928      145      6         6   \n",
       "9          10      4284               1949      112      9         4   \n",
       "\n",
       "      district  \n",
       "0  Srodmiescie  \n",
       "1      Bielany  \n",
       "2        Praga  \n",
       "3       Ochota  \n",
       "4      Mokotow  \n",
       "5  Srodmiescie  \n",
       "6      Mokotow  \n",
       "7        Ursus  \n",
       "8  Srodmiescie  \n",
       "9  Srodmiescie  "
      ]
     },
     "execution_count": 141,
     "metadata": {},
     "output_type": "execute_result"
    }
   ],
   "source": [
    "apartments.head(10)"
   ]
  },
  {
   "cell_type": "markdown",
   "metadata": {},
   "source": [
    "Pierwsza ze zmiennych jest po prostu numeracją obserwacji, więc od razu ją wyrzucamy."
   ]
  },
  {
   "cell_type": "code",
   "execution_count": 142,
   "metadata": {},
   "outputs": [],
   "source": [
    "apartments = apartments.iloc[:,1:]"
   ]
  },
  {
   "cell_type": "code",
   "execution_count": 143,
   "metadata": {
    "scrolled": true
   },
   "outputs": [
    {
     "name": "stdout",
     "output_type": "stream",
     "text": [
      "<class 'pandas.core.frame.DataFrame'>\n",
      "RangeIndex: 1000 entries, 0 to 999\n",
      "Data columns (total 6 columns):\n",
      " #   Column             Non-Null Count  Dtype \n",
      "---  ------             --------------  ----- \n",
      " 0   m2.price           1000 non-null   int64 \n",
      " 1   construction.year  1000 non-null   int64 \n",
      " 2   surface            1000 non-null   int64 \n",
      " 3   floor              1000 non-null   int64 \n",
      " 4   no.rooms           1000 non-null   int64 \n",
      " 5   district           1000 non-null   object\n",
      "dtypes: int64(5), object(1)\n",
      "memory usage: 47.0+ KB\n"
     ]
    }
   ],
   "source": [
    "apartments.info()"
   ]
  },
  {
   "cell_type": "code",
   "execution_count": 144,
   "metadata": {},
   "outputs": [
    {
     "data": {
      "text/plain": [
       "Mokotow        107\n",
       "Wola           106\n",
       "Ursus          105\n",
       "Ursynow        103\n",
       "Srodmiescie    100\n",
       "Bemowo          98\n",
       "Zoliborz        97\n",
       "Bielany         96\n",
       "Ochota          96\n",
       "Praga           92\n",
       "Name: district, dtype: int64"
      ]
     },
     "execution_count": 144,
     "metadata": {},
     "output_type": "execute_result"
    }
   ],
   "source": [
    "apartments[\"district\"].value_counts()"
   ]
  },
  {
   "cell_type": "markdown",
   "metadata": {},
   "source": [
    "Pierwszym problemem, który napotykamy jest zmienna kategoryczna district. Musimy użyć jakiegoś encodera by zamienić ją na zmienną numeryczną. Użyjemy do tego Generalized Linear Mixed Model Encoder, który dobrze sprawdził się w jednej z poprzednich prac domowych."
   ]
  },
  {
   "cell_type": "code",
   "execution_count": 145,
   "metadata": {},
   "outputs": [],
   "source": [
    "encoder = ce.GLMMEncoder()\n",
    "apartments[\"district\"] = encoder.fit_transform(X=apartments[\"district\"],y=apartments[\"m2.price\"])"
   ]
  },
  {
   "cell_type": "code",
   "execution_count": 146,
   "metadata": {},
   "outputs": [
    {
     "data": {
      "text/html": [
       "<div>\n",
       "<style scoped>\n",
       "    .dataframe tbody tr th:only-of-type {\n",
       "        vertical-align: middle;\n",
       "    }\n",
       "\n",
       "    .dataframe tbody tr th {\n",
       "        vertical-align: top;\n",
       "    }\n",
       "\n",
       "    .dataframe thead th {\n",
       "        text-align: right;\n",
       "    }\n",
       "</style>\n",
       "<table border=\"1\" class=\"dataframe\">\n",
       "  <thead>\n",
       "    <tr style=\"text-align: right;\">\n",
       "      <th></th>\n",
       "      <th>m2.price</th>\n",
       "      <th>construction.year</th>\n",
       "      <th>surface</th>\n",
       "      <th>floor</th>\n",
       "      <th>no.rooms</th>\n",
       "      <th>district</th>\n",
       "    </tr>\n",
       "  </thead>\n",
       "  <tbody>\n",
       "    <tr>\n",
       "      <th>count</th>\n",
       "      <td>1000.000000</td>\n",
       "      <td>1000.000000</td>\n",
       "      <td>1000.000000</td>\n",
       "      <td>1000.000000</td>\n",
       "      <td>1000.000000</td>\n",
       "      <td>1000.000000</td>\n",
       "    </tr>\n",
       "    <tr>\n",
       "      <th>mean</th>\n",
       "      <td>3487.019000</td>\n",
       "      <td>1964.823000</td>\n",
       "      <td>85.590000</td>\n",
       "      <td>5.623000</td>\n",
       "      <td>3.360000</td>\n",
       "      <td>-0.039059</td>\n",
       "    </tr>\n",
       "    <tr>\n",
       "      <th>std</th>\n",
       "      <td>906.691651</td>\n",
       "      <td>25.831511</td>\n",
       "      <td>37.874799</td>\n",
       "      <td>2.899876</td>\n",
       "      <td>1.381415</td>\n",
       "      <td>679.749417</td>\n",
       "    </tr>\n",
       "    <tr>\n",
       "      <th>min</th>\n",
       "      <td>1607.000000</td>\n",
       "      <td>1920.000000</td>\n",
       "      <td>20.000000</td>\n",
       "      <td>1.000000</td>\n",
       "      <td>1.000000</td>\n",
       "      <td>-515.342877</td>\n",
       "    </tr>\n",
       "    <tr>\n",
       "      <th>25%</th>\n",
       "      <td>2857.000000</td>\n",
       "      <td>1943.000000</td>\n",
       "      <td>53.000000</td>\n",
       "      <td>3.000000</td>\n",
       "      <td>2.000000</td>\n",
       "      <td>-488.587014</td>\n",
       "    </tr>\n",
       "    <tr>\n",
       "      <th>50%</th>\n",
       "      <td>3386.000000</td>\n",
       "      <td>1965.000000</td>\n",
       "      <td>85.500000</td>\n",
       "      <td>6.000000</td>\n",
       "      <td>3.000000</td>\n",
       "      <td>-413.964588</td>\n",
       "    </tr>\n",
       "    <tr>\n",
       "      <th>75%</th>\n",
       "      <td>4018.250000</td>\n",
       "      <td>1988.000000</td>\n",
       "      <td>118.000000</td>\n",
       "      <td>8.000000</td>\n",
       "      <td>4.000000</td>\n",
       "      <td>366.037975</td>\n",
       "    </tr>\n",
       "    <tr>\n",
       "      <th>max</th>\n",
       "      <td>6595.000000</td>\n",
       "      <td>2010.000000</td>\n",
       "      <td>150.000000</td>\n",
       "      <td>10.000000</td>\n",
       "      <td>6.000000</td>\n",
       "      <td>1684.064618</td>\n",
       "    </tr>\n",
       "  </tbody>\n",
       "</table>\n",
       "</div>"
      ],
      "text/plain": [
       "          m2.price  construction.year      surface        floor     no.rooms  \\\n",
       "count  1000.000000        1000.000000  1000.000000  1000.000000  1000.000000   \n",
       "mean   3487.019000        1964.823000    85.590000     5.623000     3.360000   \n",
       "std     906.691651          25.831511    37.874799     2.899876     1.381415   \n",
       "min    1607.000000        1920.000000    20.000000     1.000000     1.000000   \n",
       "25%    2857.000000        1943.000000    53.000000     3.000000     2.000000   \n",
       "50%    3386.000000        1965.000000    85.500000     6.000000     3.000000   \n",
       "75%    4018.250000        1988.000000   118.000000     8.000000     4.000000   \n",
       "max    6595.000000        2010.000000   150.000000    10.000000     6.000000   \n",
       "\n",
       "          district  \n",
       "count  1000.000000  \n",
       "mean     -0.039059  \n",
       "std     679.749417  \n",
       "min    -515.342877  \n",
       "25%    -488.587014  \n",
       "50%    -413.964588  \n",
       "75%     366.037975  \n",
       "max    1684.064618  "
      ]
     },
     "execution_count": 146,
     "metadata": {},
     "output_type": "execute_result"
    }
   ],
   "source": [
    "apartments.describe()"
   ]
  },
  {
   "cell_type": "markdown",
   "metadata": {},
   "source": [
    "Widzimy, że dane nie mają podobnych rzędów wielkości, ich skala może stanowić więc problem dla algorytmu. Z tego powodu rozważymy 2 rodzaje regresji, jeden ze standaryzacją zmiennych, drugi bez."
   ]
  },
  {
   "cell_type": "code",
   "execution_count": 171,
   "metadata": {},
   "outputs": [],
   "source": [
    "y=apartments[\"m2.price\"]\n",
    "X=apartments.iloc[:,1:]"
   ]
  },
  {
   "cell_type": "code",
   "execution_count": 148,
   "metadata": {},
   "outputs": [],
   "source": [
    "svr_raw = SVR()\n",
    "svr_scaled = make_pipeline(StandardScaler(), SVR())"
   ]
  },
  {
   "cell_type": "markdown",
   "metadata": {},
   "source": [
    "Dokładność obu tych modeli porównamy za pomocą kroswalidacji oraz miary RMSE. Użyjemy do tego modeli z domyślnymi hiperparametrami. Będziemy je potem stroić tylko dla jednego z tych modeli."
   ]
  },
  {
   "cell_type": "code",
   "execution_count": 149,
   "metadata": {},
   "outputs": [],
   "source": [
    "def RMSE(estimator, X, y):\n",
    "    estimator.fit(X, y)\n",
    "    y_hat=estimator.predict(X)\n",
    "    return np.sqrt(np.mean((y-y_hat)**2))"
   ]
  },
  {
   "cell_type": "code",
   "execution_count": 150,
   "metadata": {},
   "outputs": [],
   "source": [
    "raw_score=cross_val_score(svr_raw,X,y,cv=10,scoring=RMSE)\n",
    "scaled_score=cross_val_score(svr_scaled,X,y,cv=10,scoring=RMSE)"
   ]
  },
  {
   "cell_type": "markdown",
   "metadata": {},
   "source": [
    "Zobaczmy na boxplotach jak prezentują się wartości RMSE."
   ]
  },
  {
   "cell_type": "code",
   "execution_count": 151,
   "metadata": {
    "scrolled": true
   },
   "outputs": [
    {
     "data": {
      "image/png": "[encoded data removed]",
      "text/plain": [
       "<Figure size 432x288 with 1 Axes>"
      ]
     },
     "metadata": {
      "needs_background": "light"
     },
     "output_type": "display_data"
    }
   ],
   "source": [
    "apartments_rmse=pd.melt(pd.DataFrame({\"raw\":raw_score,\"scaled\":scaled_score }))\n",
    "apartments_rmse[\"zbiór danych\"]=apartments_rmse[\"variable\"]\n",
    "apartments_rmse[\"RMSE\"]=apartments_rmse[\"value\"]\n",
    "sns.boxplot(x=\"zbiór danych\", y=\"RMSE\", data=apartments_rmse)\n",
    "plt.show()"
   ]
  },
  {
   "cell_type": "markdown",
   "metadata": {},
   "source": [
    "Zobaczmy jakie wartości miały poszczególne iteracje kroswalidacji."
   ]
  },
  {
   "cell_type": "code",
   "execution_count": 152,
   "metadata": {},
   "outputs": [
    {
     "data": {
      "text/html": [
       "<div>\n",
       "<style scoped>\n",
       "    .dataframe tbody tr th:only-of-type {\n",
       "        vertical-align: middle;\n",
       "    }\n",
       "\n",
       "    .dataframe tbody tr th {\n",
       "        vertical-align: top;\n",
       "    }\n",
       "\n",
       "    .dataframe thead th {\n",
       "        text-align: right;\n",
       "    }\n",
       "</style>\n",
       "<table border=\"1\" class=\"dataframe\">\n",
       "  <thead>\n",
       "    <tr style=\"text-align: right;\">\n",
       "      <th></th>\n",
       "      <th>raw</th>\n",
       "      <th>scaled</th>\n",
       "    </tr>\n",
       "  </thead>\n",
       "  <tbody>\n",
       "    <tr>\n",
       "      <th>0</th>\n",
       "      <td>861.119311</td>\n",
       "      <td>858.570931</td>\n",
       "    </tr>\n",
       "    <tr>\n",
       "      <th>1</th>\n",
       "      <td>785.415169</td>\n",
       "      <td>783.342162</td>\n",
       "    </tr>\n",
       "    <tr>\n",
       "      <th>2</th>\n",
       "      <td>990.807683</td>\n",
       "      <td>989.990671</td>\n",
       "    </tr>\n",
       "    <tr>\n",
       "      <th>3</th>\n",
       "      <td>980.576528</td>\n",
       "      <td>981.239144</td>\n",
       "    </tr>\n",
       "    <tr>\n",
       "      <th>4</th>\n",
       "      <td>865.705852</td>\n",
       "      <td>865.791052</td>\n",
       "    </tr>\n",
       "    <tr>\n",
       "      <th>5</th>\n",
       "      <td>895.263576</td>\n",
       "      <td>895.911754</td>\n",
       "    </tr>\n",
       "    <tr>\n",
       "      <th>6</th>\n",
       "      <td>883.660744</td>\n",
       "      <td>883.368203</td>\n",
       "    </tr>\n",
       "    <tr>\n",
       "      <th>7</th>\n",
       "      <td>926.278501</td>\n",
       "      <td>929.513307</td>\n",
       "    </tr>\n",
       "    <tr>\n",
       "      <th>8</th>\n",
       "      <td>841.831792</td>\n",
       "      <td>841.430151</td>\n",
       "    </tr>\n",
       "    <tr>\n",
       "      <th>9</th>\n",
       "      <td>967.917231</td>\n",
       "      <td>972.007987</td>\n",
       "    </tr>\n",
       "  </tbody>\n",
       "</table>\n",
       "</div>"
      ],
      "text/plain": [
       "          raw      scaled\n",
       "0  861.119311  858.570931\n",
       "1  785.415169  783.342162\n",
       "2  990.807683  989.990671\n",
       "3  980.576528  981.239144\n",
       "4  865.705852  865.791052\n",
       "5  895.263576  895.911754\n",
       "6  883.660744  883.368203\n",
       "7  926.278501  929.513307\n",
       "8  841.831792  841.430151\n",
       "9  967.917231  972.007987"
      ]
     },
     "execution_count": 152,
     "metadata": {},
     "output_type": "execute_result"
    }
   ],
   "source": [
    "pd.DataFrame({\"raw\":raw_score,\"scaled\":scaled_score })"
   ]
  },
  {
   "cell_type": "markdown",
   "metadata": {},
   "source": [
    "O dziwo standaryzacja nie miała prawie w ogóle wpływu na wyniki regresji i błąd dopasowania. Mimo tego że SVM jest czuły na skalę, to w tym przypadku oba modele spisują się bardzo podobnie. Spróbujmy teraz dostroić hiperparametry w modelu standaryzowanym i porównać go z modelem niestrojonym."
   ]
  },
  {
   "cell_type": "code",
   "execution_count": 172,
   "metadata": {},
   "outputs": [],
   "source": [
    "degree=[1,2,3]\n",
    "kernel=[\"rbf\",\"poly\"]\n",
    "gamma=[\"auto\",\"scale\"]\n",
    "C=expon(1)\n",
    "param_grid = dict(svr__degree=degree,svr__gamma=gamma, svr__C=C,svr__kernel=kernel)"
   ]
  },
  {
   "cell_type": "code",
   "execution_count": 173,
   "metadata": {},
   "outputs": [],
   "source": [
    "X_train, X_test, y_train, y_test =train_test_split(X, y, test_size=0.2)"
   ]
  },
  {
   "cell_type": "code",
   "execution_count": 175,
   "metadata": {},
   "outputs": [
    {
     "name": "stdout",
     "output_type": "stream",
     "text": [
      "Best: 889.462418 using {'svr__C': 1.0117832346223192, 'svr__degree': 2, 'svr__gamma': 'scale', 'svr__kernel': 'poly'}\n"
     ]
    }
   ],
   "source": [
    "random = RandomizedSearchCV(estimator=svr_scaled, param_distributions=param_grid, cv = 10, n_jobs=-1, random_state=0,scoring=RMSE,n_iter=100)\n",
    "\n",
    "random_result = random.fit(X_train, y_train)\n",
    "\n",
    "print(\"Best: %f using %s\" % (random_result.best_score_, random_result.best_params_))"
   ]
  },
  {
   "cell_type": "markdown",
   "metadata": {},
   "source": [
    "Jak widzimy najlepsze RMSE na zbiorze testowym wynosi około 889, bardzo podobnie jak w przypadku wszystkich wyników kroswalidacji. Parametr C odpowiedzialny za karę nie różni się zbytnio od domyślnego, równego 1. Co ciekawe strojenie wybrało zupełnie inne jądro od domyślnego gaussowskiego, optymalnym jest jądro wielomianowe o maksymalnym stopniu 2."
   ]
  },
  {
   "cell_type": "markdown",
   "metadata": {},
   "source": [
    "## Zbiór danych urine"
   ]
  },
  {
   "cell_type": "markdown",
   "metadata": {},
   "source": [
    "Drugim z rozważanych zbiorów danych będzie zbiór urine. Naszym celem bedzie prognozowanie obecności kryształów (zmienna presence o wartościach yes/no). Sześcioma zmiennymi objaśniającymi są właściwości fizykochemiczne moczu, będące wszystkie zmiennymi numerycznymi. Naszym zadaniem nie będzie więc regresja, a klasyfikacja."
   ]
  },
  {
   "cell_type": "code",
   "execution_count": 156,
   "metadata": {},
   "outputs": [],
   "source": [
    "urine=pd.read_table(\"C:\\\\Users\\\\Lenovo\\\\Desktop\\\\Wstęp do uczenia maszynowego\\\\Laby\\\\urine.txt\",sep=\" \")"
   ]
  },
  {
   "cell_type": "code",
   "execution_count": 157,
   "metadata": {},
   "outputs": [
    {
     "data": {
      "text/html": [
       "<div>\n",
       "<style scoped>\n",
       "    .dataframe tbody tr th:only-of-type {\n",
       "        vertical-align: middle;\n",
       "    }\n",
       "\n",
       "    .dataframe tbody tr th {\n",
       "        vertical-align: top;\n",
       "    }\n",
       "\n",
       "    .dataframe thead th {\n",
       "        text-align: right;\n",
       "    }\n",
       "</style>\n",
       "<table border=\"1\" class=\"dataframe\">\n",
       "  <thead>\n",
       "    <tr style=\"text-align: right;\">\n",
       "      <th></th>\n",
       "      <th>presence</th>\n",
       "      <th>sg</th>\n",
       "      <th>ph</th>\n",
       "      <th>mosm</th>\n",
       "      <th>mmho</th>\n",
       "      <th>urea</th>\n",
       "      <th>calcium</th>\n",
       "    </tr>\n",
       "  </thead>\n",
       "  <tbody>\n",
       "    <tr>\n",
       "      <th>0</th>\n",
       "      <td>no</td>\n",
       "      <td>1.017</td>\n",
       "      <td>5.74</td>\n",
       "      <td>577</td>\n",
       "      <td>20.0</td>\n",
       "      <td>296</td>\n",
       "      <td>4.49</td>\n",
       "    </tr>\n",
       "    <tr>\n",
       "      <th>1</th>\n",
       "      <td>no</td>\n",
       "      <td>1.008</td>\n",
       "      <td>7.20</td>\n",
       "      <td>321</td>\n",
       "      <td>14.9</td>\n",
       "      <td>101</td>\n",
       "      <td>2.36</td>\n",
       "    </tr>\n",
       "    <tr>\n",
       "      <th>2</th>\n",
       "      <td>no</td>\n",
       "      <td>1.011</td>\n",
       "      <td>5.51</td>\n",
       "      <td>408</td>\n",
       "      <td>12.6</td>\n",
       "      <td>224</td>\n",
       "      <td>2.15</td>\n",
       "    </tr>\n",
       "    <tr>\n",
       "      <th>3</th>\n",
       "      <td>no</td>\n",
       "      <td>1.005</td>\n",
       "      <td>6.52</td>\n",
       "      <td>187</td>\n",
       "      <td>7.5</td>\n",
       "      <td>91</td>\n",
       "      <td>1.16</td>\n",
       "    </tr>\n",
       "    <tr>\n",
       "      <th>4</th>\n",
       "      <td>no</td>\n",
       "      <td>1.020</td>\n",
       "      <td>5.27</td>\n",
       "      <td>668</td>\n",
       "      <td>25.3</td>\n",
       "      <td>252</td>\n",
       "      <td>3.34</td>\n",
       "    </tr>\n",
       "    <tr>\n",
       "      <th>5</th>\n",
       "      <td>no</td>\n",
       "      <td>1.012</td>\n",
       "      <td>5.62</td>\n",
       "      <td>461</td>\n",
       "      <td>17.4</td>\n",
       "      <td>195</td>\n",
       "      <td>1.40</td>\n",
       "    </tr>\n",
       "    <tr>\n",
       "      <th>6</th>\n",
       "      <td>no</td>\n",
       "      <td>1.029</td>\n",
       "      <td>5.67</td>\n",
       "      <td>1107</td>\n",
       "      <td>35.9</td>\n",
       "      <td>550</td>\n",
       "      <td>8.48</td>\n",
       "    </tr>\n",
       "    <tr>\n",
       "      <th>7</th>\n",
       "      <td>no</td>\n",
       "      <td>1.015</td>\n",
       "      <td>5.41</td>\n",
       "      <td>543</td>\n",
       "      <td>21.9</td>\n",
       "      <td>170</td>\n",
       "      <td>1.16</td>\n",
       "    </tr>\n",
       "    <tr>\n",
       "      <th>8</th>\n",
       "      <td>no</td>\n",
       "      <td>1.021</td>\n",
       "      <td>6.13</td>\n",
       "      <td>779</td>\n",
       "      <td>25.7</td>\n",
       "      <td>382</td>\n",
       "      <td>2.21</td>\n",
       "    </tr>\n",
       "    <tr>\n",
       "      <th>9</th>\n",
       "      <td>no</td>\n",
       "      <td>1.011</td>\n",
       "      <td>6.19</td>\n",
       "      <td>345</td>\n",
       "      <td>11.5</td>\n",
       "      <td>152</td>\n",
       "      <td>1.93</td>\n",
       "    </tr>\n",
       "  </tbody>\n",
       "</table>\n",
       "</div>"
      ],
      "text/plain": [
       "  presence     sg    ph  mosm  mmho  urea  calcium\n",
       "0       no  1.017  5.74   577  20.0   296     4.49\n",
       "1       no  1.008  7.20   321  14.9   101     2.36\n",
       "2       no  1.011  5.51   408  12.6   224     2.15\n",
       "3       no  1.005  6.52   187   7.5    91     1.16\n",
       "4       no  1.020  5.27   668  25.3   252     3.34\n",
       "5       no  1.012  5.62   461  17.4   195     1.40\n",
       "6       no  1.029  5.67  1107  35.9   550     8.48\n",
       "7       no  1.015  5.41   543  21.9   170     1.16\n",
       "8       no  1.021  6.13   779  25.7   382     2.21\n",
       "9       no  1.011  6.19   345  11.5   152     1.93"
      ]
     },
     "execution_count": 157,
     "metadata": {},
     "output_type": "execute_result"
    }
   ],
   "source": [
    "urine.head(10)"
   ]
  },
  {
   "cell_type": "code",
   "execution_count": 158,
   "metadata": {},
   "outputs": [
    {
     "name": "stdout",
     "output_type": "stream",
     "text": [
      "<class 'pandas.core.frame.DataFrame'>\n",
      "RangeIndex: 77 entries, 0 to 76\n",
      "Data columns (total 7 columns):\n",
      " #   Column    Non-Null Count  Dtype  \n",
      "---  ------    --------------  -----  \n",
      " 0   presence  77 non-null     object \n",
      " 1   sg        77 non-null     float64\n",
      " 2   ph        77 non-null     float64\n",
      " 3   mosm      77 non-null     int64  \n",
      " 4   mmho      77 non-null     float64\n",
      " 5   urea      77 non-null     int64  \n",
      " 6   calcium   77 non-null     float64\n",
      "dtypes: float64(4), int64(2), object(1)\n",
      "memory usage: 4.3+ KB\n"
     ]
    }
   ],
   "source": [
    "urine.info()"
   ]
  },
  {
   "cell_type": "markdown",
   "metadata": {},
   "source": [
    "Ramka nie ma braków danych oraz wszystkie zmienne objaśniające są numeryczne. Przekodujemy jedynie zmienną presence w sposób: yes->1 no->0."
   ]
  },
  {
   "cell_type": "code",
   "execution_count": 159,
   "metadata": {},
   "outputs": [],
   "source": [
    "urine[\"presence\"]=(urine[\"presence\"]==\"yes\").apply(int)"
   ]
  },
  {
   "cell_type": "code",
   "execution_count": 160,
   "metadata": {},
   "outputs": [
    {
     "data": {
      "text/plain": [
       "0    44\n",
       "1    33\n",
       "Name: presence, dtype: int64"
      ]
     },
     "execution_count": 160,
     "metadata": {},
     "output_type": "execute_result"
    }
   ],
   "source": [
    "urine[\"presence\"].value_counts()"
   ]
  },
  {
   "cell_type": "markdown",
   "metadata": {},
   "source": [
    "Klasy przekonwertowały się poprawnie, są w miarę równoliczne, zatem accuracy powinno być dobrą miarą dopasowania modelu. Podobnie jak w poprzednim przykładzie utworzymy 2 modele, jeden ze standaryzacją, drugi bez, następnie porównamy je za pomocą kroswalidacji."
   ]
  },
  {
   "cell_type": "code",
   "execution_count": 161,
   "metadata": {},
   "outputs": [
    {
     "data": {
      "text/html": [
       "<div>\n",
       "<style scoped>\n",
       "    .dataframe tbody tr th:only-of-type {\n",
       "        vertical-align: middle;\n",
       "    }\n",
       "\n",
       "    .dataframe tbody tr th {\n",
       "        vertical-align: top;\n",
       "    }\n",
       "\n",
       "    .dataframe thead th {\n",
       "        text-align: right;\n",
       "    }\n",
       "</style>\n",
       "<table border=\"1\" class=\"dataframe\">\n",
       "  <thead>\n",
       "    <tr style=\"text-align: right;\">\n",
       "      <th></th>\n",
       "      <th>presence</th>\n",
       "      <th>sg</th>\n",
       "      <th>ph</th>\n",
       "      <th>mosm</th>\n",
       "      <th>mmho</th>\n",
       "      <th>urea</th>\n",
       "      <th>calcium</th>\n",
       "    </tr>\n",
       "  </thead>\n",
       "  <tbody>\n",
       "    <tr>\n",
       "      <th>count</th>\n",
       "      <td>77.000000</td>\n",
       "      <td>77.000000</td>\n",
       "      <td>77.000000</td>\n",
       "      <td>77.000000</td>\n",
       "      <td>77.000000</td>\n",
       "      <td>77.000000</td>\n",
       "      <td>77.000000</td>\n",
       "    </tr>\n",
       "    <tr>\n",
       "      <th>mean</th>\n",
       "      <td>0.428571</td>\n",
       "      <td>1.018026</td>\n",
       "      <td>6.040649</td>\n",
       "      <td>613.610390</td>\n",
       "      <td>20.905195</td>\n",
       "      <td>262.402597</td>\n",
       "      <td>4.160390</td>\n",
       "    </tr>\n",
       "    <tr>\n",
       "      <th>std</th>\n",
       "      <td>0.498117</td>\n",
       "      <td>0.007313</td>\n",
       "      <td>0.722068</td>\n",
       "      <td>239.473719</td>\n",
       "      <td>8.004142</td>\n",
       "      <td>130.486363</td>\n",
       "      <td>3.296907</td>\n",
       "    </tr>\n",
       "    <tr>\n",
       "      <th>min</th>\n",
       "      <td>0.000000</td>\n",
       "      <td>1.005000</td>\n",
       "      <td>4.760000</td>\n",
       "      <td>187.000000</td>\n",
       "      <td>5.100000</td>\n",
       "      <td>10.000000</td>\n",
       "      <td>0.170000</td>\n",
       "    </tr>\n",
       "    <tr>\n",
       "      <th>25%</th>\n",
       "      <td>0.000000</td>\n",
       "      <td>1.012000</td>\n",
       "      <td>5.530000</td>\n",
       "      <td>410.000000</td>\n",
       "      <td>14.300000</td>\n",
       "      <td>159.000000</td>\n",
       "      <td>1.450000</td>\n",
       "    </tr>\n",
       "    <tr>\n",
       "      <th>50%</th>\n",
       "      <td>0.000000</td>\n",
       "      <td>1.018000</td>\n",
       "      <td>5.940000</td>\n",
       "      <td>594.000000</td>\n",
       "      <td>21.400000</td>\n",
       "      <td>255.000000</td>\n",
       "      <td>3.160000</td>\n",
       "    </tr>\n",
       "    <tr>\n",
       "      <th>75%</th>\n",
       "      <td>1.000000</td>\n",
       "      <td>1.024000</td>\n",
       "      <td>6.400000</td>\n",
       "      <td>803.000000</td>\n",
       "      <td>27.000000</td>\n",
       "      <td>362.000000</td>\n",
       "      <td>6.190000</td>\n",
       "    </tr>\n",
       "    <tr>\n",
       "      <th>max</th>\n",
       "      <td>1.000000</td>\n",
       "      <td>1.040000</td>\n",
       "      <td>7.940000</td>\n",
       "      <td>1236.000000</td>\n",
       "      <td>38.000000</td>\n",
       "      <td>620.000000</td>\n",
       "      <td>14.340000</td>\n",
       "    </tr>\n",
       "  </tbody>\n",
       "</table>\n",
       "</div>"
      ],
      "text/plain": [
       "        presence         sg         ph         mosm       mmho        urea  \\\n",
       "count  77.000000  77.000000  77.000000    77.000000  77.000000   77.000000   \n",
       "mean    0.428571   1.018026   6.040649   613.610390  20.905195  262.402597   \n",
       "std     0.498117   0.007313   0.722068   239.473719   8.004142  130.486363   \n",
       "min     0.000000   1.005000   4.760000   187.000000   5.100000   10.000000   \n",
       "25%     0.000000   1.012000   5.530000   410.000000  14.300000  159.000000   \n",
       "50%     0.000000   1.018000   5.940000   594.000000  21.400000  255.000000   \n",
       "75%     1.000000   1.024000   6.400000   803.000000  27.000000  362.000000   \n",
       "max     1.000000   1.040000   7.940000  1236.000000  38.000000  620.000000   \n",
       "\n",
       "         calcium  \n",
       "count  77.000000  \n",
       "mean    4.160390  \n",
       "std     3.296907  \n",
       "min     0.170000  \n",
       "25%     1.450000  \n",
       "50%     3.160000  \n",
       "75%     6.190000  \n",
       "max    14.340000  "
      ]
     },
     "execution_count": 161,
     "metadata": {},
     "output_type": "execute_result"
    }
   ],
   "source": [
    "urine.describe()"
   ]
  },
  {
   "cell_type": "markdown",
   "metadata": {},
   "source": [
    "Tutaj również mamy problem niewyskalowanych zmiennych. W poprzednim przykładzie nie wpłynęło to zbytnio na poprawność regresji, lobaczymy jak będzie w przypadku klasyfikacji binarnej."
   ]
  },
  {
   "cell_type": "code",
   "execution_count": 184,
   "metadata": {},
   "outputs": [],
   "source": [
    "y=urine[\"presence\"]\n",
    "X=urine.iloc[:,1:]"
   ]
  },
  {
   "cell_type": "code",
   "execution_count": 163,
   "metadata": {},
   "outputs": [],
   "source": [
    "svc_raw = SVC()\n",
    "svc_scaled = make_pipeline(StandardScaler(), SVC())"
   ]
  },
  {
   "cell_type": "code",
   "execution_count": 164,
   "metadata": {},
   "outputs": [],
   "source": [
    "raw_score=cross_val_score(svc_raw,X,y,cv=10)\n",
    "scaled_score=cross_val_score(svc_scaled,X,y,cv=10)"
   ]
  },
  {
   "cell_type": "markdown",
   "metadata": {},
   "source": [
    "Zobaczmy jak wyniki klasyfikacji prezentują się na boxplotach."
   ]
  },
  {
   "cell_type": "code",
   "execution_count": 165,
   "metadata": {},
   "outputs": [
    {
     "data": {
      "image/png": "[encoded data removed]",
      "text/plain": [
       "<Figure size 432x288 with 1 Axes>"
      ]
     },
     "metadata": {
      "needs_background": "light"
     },
     "output_type": "display_data"
    }
   ],
   "source": [
    "urine_acc=pd.melt(pd.DataFrame({\"raw\":raw_score,\"scaled\":scaled_score }))\n",
    "urine_acc[\"zbiór danych\"]=urine_acc[\"variable\"]\n",
    "urine_acc[\"Accuracy\"]=urine_acc[\"value\"]\n",
    "sns.boxplot(x=\"zbiór danych\", y=\"Accuracy\", data=urine_acc)\n",
    "plt.show()"
   ]
  },
  {
   "cell_type": "markdown",
   "metadata": {},
   "source": [
    "Widzimy wyraźnie, że w tym przypadku standaryzacja zmiennych bardzo pomogła w prognozowaniu obecności kryształów. Oba boxploty są rozłączne, dokładność dla danych standaryzowanych jest istotnie większa od tych bez niej. Jest to rezultat, którego spodziewaliśmy się właśnie po SVM-ie, który jest wrażliwy na skalę danych. Spróbujmy jeszcze dopasować lepsze hiperparametry dla zbioru standaryzowanego. "
   ]
  },
  {
   "cell_type": "code",
   "execution_count": 166,
   "metadata": {},
   "outputs": [],
   "source": [
    "degree=[1,2,3]\n",
    "kernel=[\"rbf\",\"poly\"]\n",
    "gamma=[\"auto\",\"scale\"]\n",
    "C=expon(1)\n",
    "param_grid = dict(svr__degree=degree,svr__gamma=gamma, svr__C=C,svr__kernel=kernel)"
   ]
  },
  {
   "cell_type": "code",
   "execution_count": 186,
   "metadata": {},
   "outputs": [],
   "source": [
    "X_train, X_test, y_train, y_test =train_test_split(X, y, test_size=0.2)"
   ]
  },
  {
   "cell_type": "code",
   "execution_count": 187,
   "metadata": {},
   "outputs": [
    {
     "name": "stdout",
     "output_type": "stream",
     "text": [
      "Best: 0.769309 using {'svr__C': 1.1258744118305428, 'svr__degree': 1, 'svr__gamma': 'scale', 'svr__kernel': 'poly'}\n"
     ]
    }
   ],
   "source": [
    "random = RandomizedSearchCV(estimator=svr_scaled, param_distributions=param_grid, cv = 5, n_jobs=-1, random_state=0,n_iter=100)\n",
    "\n",
    "random_result = random.fit(X_train, y_train)\n",
    "\n",
    "print(\"Best: %f using %s\" % (1-random_result.best_score_, random_result.best_params_))"
   ]
  },
  {
   "cell_type": "markdown",
   "metadata": {},
   "source": [
    "Widzimy tutaj, że strojenie hiperparametrów niewiele poprawia nam dokładność. Penalizacja parametrem C została w okolicy wartości domyślnej. Lepszym jądrem od gaussowskiego okazało się ponownie wielomianowe, tym razem jednak z niższym maksymalnym stopniem równym 1."
   ]
  }
 ],
 "metadata": {
  "kernelspec": {
   "display_name": "Python 3",
   "language": "python",
   "name": "python3"
  },
  "language_info": {
   "codemirror_mode": {
    "name": "ipython",
    "version": 3
   },
   "file_extension": ".py",
   "mimetype": "text/x-python",
   "name": "python",
   "nbconvert_exporter": "python",
   "pygments_lexer": "ipython3",
   "version": "3.8.3"
  }
 },
 "nbformat": 4,
 "nbformat_minor": 4
}
