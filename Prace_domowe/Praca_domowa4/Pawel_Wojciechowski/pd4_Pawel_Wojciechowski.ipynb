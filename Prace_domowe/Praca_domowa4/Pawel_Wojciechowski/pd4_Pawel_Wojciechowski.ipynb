{
 "cells": [
  {
   "cell_type": "code",
   "execution_count": 95,
   "id": "usual-tooth",
   "metadata": {},
   "outputs": [],
   "source": [
    "import pandas as pd\n",
    "import numpy as np\n",
    "import matplotlib.pyplot as plt"
   ]
  },
  {
   "cell_type": "markdown",
   "id": "coastal-canal",
   "metadata": {},
   "source": [
    "# Praca domowa 4 - SVM\n",
    "\n",
    "## Zbiór danych apartments\n",
    "Zbiór apartments z pakietu DALEX zawiera dane dotyczące mieszkań. Ramka danych posiada 5 kolumn numerycznych i 1 kategoryczną. Naszym celem jest regresja ceny mieszkania za metr kwadratowy `m2_price`."
   ]
  },
  {
   "cell_type": "code",
   "execution_count": 3,
   "id": "generic-tournament",
   "metadata": {},
   "outputs": [
    {
     "data": {
      "text/html": [
       "<div>\n",
       "<style scoped>\n",
       "    .dataframe tbody tr th:only-of-type {\n",
       "        vertical-align: middle;\n",
       "    }\n",
       "\n",
       "    .dataframe tbody tr th {\n",
       "        vertical-align: top;\n",
       "    }\n",
       "\n",
       "    .dataframe thead th {\n",
       "        text-align: right;\n",
       "    }\n",
       "</style>\n",
       "<table border=\"1\" class=\"dataframe\">\n",
       "  <thead>\n",
       "    <tr style=\"text-align: right;\">\n",
       "      <th></th>\n",
       "      <th>m2_price</th>\n",
       "      <th>construction_year</th>\n",
       "      <th>surface</th>\n",
       "      <th>floor</th>\n",
       "      <th>no_rooms</th>\n",
       "      <th>district</th>\n",
       "    </tr>\n",
       "  </thead>\n",
       "  <tbody>\n",
       "    <tr>\n",
       "      <th>1</th>\n",
       "      <td>5897</td>\n",
       "      <td>1953</td>\n",
       "      <td>25</td>\n",
       "      <td>3</td>\n",
       "      <td>1</td>\n",
       "      <td>Srodmiescie</td>\n",
       "    </tr>\n",
       "    <tr>\n",
       "      <th>2</th>\n",
       "      <td>1818</td>\n",
       "      <td>1992</td>\n",
       "      <td>143</td>\n",
       "      <td>9</td>\n",
       "      <td>5</td>\n",
       "      <td>Bielany</td>\n",
       "    </tr>\n",
       "    <tr>\n",
       "      <th>3</th>\n",
       "      <td>3643</td>\n",
       "      <td>1937</td>\n",
       "      <td>56</td>\n",
       "      <td>1</td>\n",
       "      <td>2</td>\n",
       "      <td>Praga</td>\n",
       "    </tr>\n",
       "  </tbody>\n",
       "</table>\n",
       "</div>"
      ],
      "text/plain": [
       "   m2_price  construction_year  surface  floor  no_rooms     district\n",
       "1      5897               1953       25      3         1  Srodmiescie\n",
       "2      1818               1992      143      9         5      Bielany\n",
       "3      3643               1937       56      1         2        Praga"
      ]
     },
     "execution_count": 3,
     "metadata": {},
     "output_type": "execute_result"
    }
   ],
   "source": [
    "from dalex.datasets import load_apartments\n",
    "apts_df = load_apartments()\n",
    "apts_df.head(3)"
   ]
  },
  {
   "cell_type": "code",
   "execution_count": 4,
   "id": "pointed-passport",
   "metadata": {},
   "outputs": [
    {
     "name": "stdout",
     "output_type": "stream",
     "text": [
      "<class 'pandas.core.frame.DataFrame'>\n",
      "Int64Index: 1000 entries, 1 to 1000\n",
      "Data columns (total 6 columns):\n",
      " #   Column             Non-Null Count  Dtype \n",
      "---  ------             --------------  ----- \n",
      " 0   m2_price           1000 non-null   int64 \n",
      " 1   construction_year  1000 non-null   int64 \n",
      " 2   surface            1000 non-null   int64 \n",
      " 3   floor              1000 non-null   int64 \n",
      " 4   no_rooms           1000 non-null   int64 \n",
      " 5   district           1000 non-null   object\n",
      "dtypes: int64(5), object(1)\n",
      "memory usage: 54.7+ KB\n"
     ]
    }
   ],
   "source": [
    "apts_df.info()"
   ]
  },
  {
   "cell_type": "markdown",
   "id": "reasonable-macintosh",
   "metadata": {},
   "source": [
    "W zbiorze danych nie brakuje żadnych wartości. Zmienne mają wartości różnego rzędu i tylko zmienna objaśniana `m2_price` posiada rozkład zbliżony do normalnego, dlatego potrzebne będzie skalowanie wartości kolumn."
   ]
  },
  {
   "cell_type": "code",
   "execution_count": 118,
   "id": "adapted-tract",
   "metadata": {},
   "outputs": [
    {
     "data": {
      "image/png": "[encoded data removed]",
      "text/plain": [
       "<Figure size 720x576 with 6 Axes>"
      ]
     },
     "metadata": {
      "needs_background": "light"
     },
     "output_type": "display_data"
    }
   ],
   "source": [
    "apts_df.hist(figsize=(10,8), bins=40)\n",
    "plt.show()"
   ]
  },
  {
   "cell_type": "markdown",
   "id": "federal-salem",
   "metadata": {},
   "source": [
    "## Zbiór danych breast cancer z sklearn"
   ]
  },
  {
   "cell_type": "markdown",
   "id": "specialized-pennsylvania",
   "metadata": {},
   "source": [
    "Kolejny zbiór danych zawiera informacje o przypadkach raka piersi. Ramka danych zawiera 30 kolumn numerycznych. Celem jest klasyfikacja próbki czy jest to nowotwór złośliwy."
   ]
  },
  {
   "cell_type": "code",
   "execution_count": 7,
   "id": "experimental-carpet",
   "metadata": {},
   "outputs": [],
   "source": [
    "from sklearn.datasets import load_breast_cancer\n",
    "cancer_data = load_breast_cancer(as_frame=True)\n",
    "cancer_df = cancer_data['data']\n",
    "cancer_target = cancer_data['target']"
   ]
  },
  {
   "cell_type": "code",
   "execution_count": 8,
   "id": "sound-bacteria",
   "metadata": {},
   "outputs": [
    {
     "name": "stdout",
     "output_type": "stream",
     "text": [
      "<class 'pandas.core.frame.DataFrame'>\n",
      "RangeIndex: 569 entries, 0 to 568\n",
      "Data columns (total 30 columns):\n",
      " #   Column                   Non-Null Count  Dtype  \n",
      "---  ------                   --------------  -----  \n",
      " 0   mean radius              569 non-null    float64\n",
      " 1   mean texture             569 non-null    float64\n",
      " 2   mean perimeter           569 non-null    float64\n",
      " 3   mean area                569 non-null    float64\n",
      " 4   mean smoothness          569 non-null    float64\n",
      " 5   mean compactness         569 non-null    float64\n",
      " 6   mean concavity           569 non-null    float64\n",
      " 7   mean concave points      569 non-null    float64\n",
      " 8   mean symmetry            569 non-null    float64\n",
      " 9   mean fractal dimension   569 non-null    float64\n",
      " 10  radius error             569 non-null    float64\n",
      " 11  texture error            569 non-null    float64\n",
      " 12  perimeter error          569 non-null    float64\n",
      " 13  area error               569 non-null    float64\n",
      " 14  smoothness error         569 non-null    float64\n",
      " 15  compactness error        569 non-null    float64\n",
      " 16  concavity error          569 non-null    float64\n",
      " 17  concave points error     569 non-null    float64\n",
      " 18  symmetry error           569 non-null    float64\n",
      " 19  fractal dimension error  569 non-null    float64\n",
      " 20  worst radius             569 non-null    float64\n",
      " 21  worst texture            569 non-null    float64\n",
      " 22  worst perimeter          569 non-null    float64\n",
      " 23  worst area               569 non-null    float64\n",
      " 24  worst smoothness         569 non-null    float64\n",
      " 25  worst compactness        569 non-null    float64\n",
      " 26  worst concavity          569 non-null    float64\n",
      " 27  worst concave points     569 non-null    float64\n",
      " 28  worst symmetry           569 non-null    float64\n",
      " 29  worst fractal dimension  569 non-null    float64\n",
      "dtypes: float64(30)\n",
      "memory usage: 133.5 KB\n"
     ]
    }
   ],
   "source": [
    "cancer_df.info()"
   ]
  },
  {
   "cell_type": "code",
   "execution_count": 9,
   "id": "experimental-sweet",
   "metadata": {},
   "outputs": [
    {
     "data": {
      "text/html": [
       "<div>\n",
       "<style scoped>\n",
       "    .dataframe tbody tr th:only-of-type {\n",
       "        vertical-align: middle;\n",
       "    }\n",
       "\n",
       "    .dataframe tbody tr th {\n",
       "        vertical-align: top;\n",
       "    }\n",
       "\n",
       "    .dataframe thead th {\n",
       "        text-align: right;\n",
       "    }\n",
       "</style>\n",
       "<table border=\"1\" class=\"dataframe\">\n",
       "  <thead>\n",
       "    <tr style=\"text-align: right;\">\n",
       "      <th></th>\n",
       "      <th>mean radius</th>\n",
       "      <th>mean texture</th>\n",
       "      <th>mean perimeter</th>\n",
       "      <th>mean area</th>\n",
       "      <th>mean smoothness</th>\n",
       "      <th>mean compactness</th>\n",
       "      <th>mean concavity</th>\n",
       "      <th>mean concave points</th>\n",
       "      <th>mean symmetry</th>\n",
       "      <th>mean fractal dimension</th>\n",
       "      <th>...</th>\n",
       "      <th>worst radius</th>\n",
       "      <th>worst texture</th>\n",
       "      <th>worst perimeter</th>\n",
       "      <th>worst area</th>\n",
       "      <th>worst smoothness</th>\n",
       "      <th>worst compactness</th>\n",
       "      <th>worst concavity</th>\n",
       "      <th>worst concave points</th>\n",
       "      <th>worst symmetry</th>\n",
       "      <th>worst fractal dimension</th>\n",
       "    </tr>\n",
       "  </thead>\n",
       "  <tbody>\n",
       "    <tr>\n",
       "      <th>0</th>\n",
       "      <td>17.99</td>\n",
       "      <td>10.38</td>\n",
       "      <td>122.80</td>\n",
       "      <td>1001.0</td>\n",
       "      <td>0.11840</td>\n",
       "      <td>0.27760</td>\n",
       "      <td>0.3001</td>\n",
       "      <td>0.14710</td>\n",
       "      <td>0.2419</td>\n",
       "      <td>0.07871</td>\n",
       "      <td>...</td>\n",
       "      <td>25.38</td>\n",
       "      <td>17.33</td>\n",
       "      <td>184.60</td>\n",
       "      <td>2019.0</td>\n",
       "      <td>0.1622</td>\n",
       "      <td>0.6656</td>\n",
       "      <td>0.7119</td>\n",
       "      <td>0.2654</td>\n",
       "      <td>0.4601</td>\n",
       "      <td>0.11890</td>\n",
       "    </tr>\n",
       "    <tr>\n",
       "      <th>1</th>\n",
       "      <td>20.57</td>\n",
       "      <td>17.77</td>\n",
       "      <td>132.90</td>\n",
       "      <td>1326.0</td>\n",
       "      <td>0.08474</td>\n",
       "      <td>0.07864</td>\n",
       "      <td>0.0869</td>\n",
       "      <td>0.07017</td>\n",
       "      <td>0.1812</td>\n",
       "      <td>0.05667</td>\n",
       "      <td>...</td>\n",
       "      <td>24.99</td>\n",
       "      <td>23.41</td>\n",
       "      <td>158.80</td>\n",
       "      <td>1956.0</td>\n",
       "      <td>0.1238</td>\n",
       "      <td>0.1866</td>\n",
       "      <td>0.2416</td>\n",
       "      <td>0.1860</td>\n",
       "      <td>0.2750</td>\n",
       "      <td>0.08902</td>\n",
       "    </tr>\n",
       "    <tr>\n",
       "      <th>2</th>\n",
       "      <td>19.69</td>\n",
       "      <td>21.25</td>\n",
       "      <td>130.00</td>\n",
       "      <td>1203.0</td>\n",
       "      <td>0.10960</td>\n",
       "      <td>0.15990</td>\n",
       "      <td>0.1974</td>\n",
       "      <td>0.12790</td>\n",
       "      <td>0.2069</td>\n",
       "      <td>0.05999</td>\n",
       "      <td>...</td>\n",
       "      <td>23.57</td>\n",
       "      <td>25.53</td>\n",
       "      <td>152.50</td>\n",
       "      <td>1709.0</td>\n",
       "      <td>0.1444</td>\n",
       "      <td>0.4245</td>\n",
       "      <td>0.4504</td>\n",
       "      <td>0.2430</td>\n",
       "      <td>0.3613</td>\n",
       "      <td>0.08758</td>\n",
       "    </tr>\n",
       "    <tr>\n",
       "      <th>3</th>\n",
       "      <td>11.42</td>\n",
       "      <td>20.38</td>\n",
       "      <td>77.58</td>\n",
       "      <td>386.1</td>\n",
       "      <td>0.14250</td>\n",
       "      <td>0.28390</td>\n",
       "      <td>0.2414</td>\n",
       "      <td>0.10520</td>\n",
       "      <td>0.2597</td>\n",
       "      <td>0.09744</td>\n",
       "      <td>...</td>\n",
       "      <td>14.91</td>\n",
       "      <td>26.50</td>\n",
       "      <td>98.87</td>\n",
       "      <td>567.7</td>\n",
       "      <td>0.2098</td>\n",
       "      <td>0.8663</td>\n",
       "      <td>0.6869</td>\n",
       "      <td>0.2575</td>\n",
       "      <td>0.6638</td>\n",
       "      <td>0.17300</td>\n",
       "    </tr>\n",
       "    <tr>\n",
       "      <th>4</th>\n",
       "      <td>20.29</td>\n",
       "      <td>14.34</td>\n",
       "      <td>135.10</td>\n",
       "      <td>1297.0</td>\n",
       "      <td>0.10030</td>\n",
       "      <td>0.13280</td>\n",
       "      <td>0.1980</td>\n",
       "      <td>0.10430</td>\n",
       "      <td>0.1809</td>\n",
       "      <td>0.05883</td>\n",
       "      <td>...</td>\n",
       "      <td>22.54</td>\n",
       "      <td>16.67</td>\n",
       "      <td>152.20</td>\n",
       "      <td>1575.0</td>\n",
       "      <td>0.1374</td>\n",
       "      <td>0.2050</td>\n",
       "      <td>0.4000</td>\n",
       "      <td>0.1625</td>\n",
       "      <td>0.2364</td>\n",
       "      <td>0.07678</td>\n",
       "    </tr>\n",
       "  </tbody>\n",
       "</table>\n",
       "<p>5 rows × 30 columns</p>\n",
       "</div>"
      ],
      "text/plain": [
       "   mean radius  mean texture  mean perimeter  mean area  mean smoothness  \\\n",
       "0        17.99         10.38          122.80     1001.0          0.11840   \n",
       "1        20.57         17.77          132.90     1326.0          0.08474   \n",
       "2        19.69         21.25          130.00     1203.0          0.10960   \n",
       "3        11.42         20.38           77.58      386.1          0.14250   \n",
       "4        20.29         14.34          135.10     1297.0          0.10030   \n",
       "\n",
       "   mean compactness  mean concavity  mean concave points  mean symmetry  \\\n",
       "0           0.27760          0.3001              0.14710         0.2419   \n",
       "1           0.07864          0.0869              0.07017         0.1812   \n",
       "2           0.15990          0.1974              0.12790         0.2069   \n",
       "3           0.28390          0.2414              0.10520         0.2597   \n",
       "4           0.13280          0.1980              0.10430         0.1809   \n",
       "\n",
       "   mean fractal dimension  ...  worst radius  worst texture  worst perimeter  \\\n",
       "0                 0.07871  ...         25.38          17.33           184.60   \n",
       "1                 0.05667  ...         24.99          23.41           158.80   \n",
       "2                 0.05999  ...         23.57          25.53           152.50   \n",
       "3                 0.09744  ...         14.91          26.50            98.87   \n",
       "4                 0.05883  ...         22.54          16.67           152.20   \n",
       "\n",
       "   worst area  worst smoothness  worst compactness  worst concavity  \\\n",
       "0      2019.0            0.1622             0.6656           0.7119   \n",
       "1      1956.0            0.1238             0.1866           0.2416   \n",
       "2      1709.0            0.1444             0.4245           0.4504   \n",
       "3       567.7            0.2098             0.8663           0.6869   \n",
       "4      1575.0            0.1374             0.2050           0.4000   \n",
       "\n",
       "   worst concave points  worst symmetry  worst fractal dimension  \n",
       "0                0.2654          0.4601                  0.11890  \n",
       "1                0.1860          0.2750                  0.08902  \n",
       "2                0.2430          0.3613                  0.08758  \n",
       "3                0.2575          0.6638                  0.17300  \n",
       "4                0.1625          0.2364                  0.07678  \n",
       "\n",
       "[5 rows x 30 columns]"
      ]
     },
     "execution_count": 9,
     "metadata": {},
     "output_type": "execute_result"
    }
   ],
   "source": [
    "cancer_df.head()"
   ]
  },
  {
   "cell_type": "markdown",
   "id": "dated-nutrition",
   "metadata": {},
   "source": [
    "W zbiorze danych nie brakuje żadnych wartości. Kolumny są różnego rzędu (np. `smothness error` ma wartości w przedziale [0, 0.03], a `worst area` [0, 4000]) i wiele z nich są silnie skośne. Również tutaj potrzebne będzie skalowanie danych."
   ]
  },
  {
   "cell_type": "code",
   "execution_count": 10,
   "id": "oriental-suspect",
   "metadata": {},
   "outputs": [
    {
     "data": {
      "image/png": "[encoded data removed]",
      "text/plain": [
       "<Figure size 1008x1008 with 30 Axes>"
      ]
     },
     "metadata": {
      "needs_background": "light"
     },
     "output_type": "display_data"
    }
   ],
   "source": [
    "cancer_df.hist(figsize=(14,14), bins=40)\n",
    "plt.show()"
   ]
  },
  {
   "cell_type": "markdown",
   "id": "neural-album",
   "metadata": {},
   "source": [
    "Liczebność klas jest całkiem zbalansowana."
   ]
  },
  {
   "cell_type": "code",
   "execution_count": 11,
   "id": "joined-cloud",
   "metadata": {},
   "outputs": [
    {
     "data": {
      "text/plain": [
       "1    357\n",
       "0    212\n",
       "Name: target, dtype: int64"
      ]
     },
     "execution_count": 11,
     "metadata": {},
     "output_type": "execute_result"
    }
   ],
   "source": [
    "cancer_target.value_counts()"
   ]
  },
  {
   "cell_type": "markdown",
   "id": "massive-intervention",
   "metadata": {},
   "source": [
    "## Preprocessing\n",
    "Dzielimy oba zbiory danych na podzbiory treningowe i testowe. Aby zbadać wpływ skalowania danych na SVM, stworzymy dwie wersje pipeline'ów, ze skalowaniem za pomocą `StandardScaler` oraz bez. Konieczne jeszcze będzie zakodowanie dzielnic ze zbioru apartments za pomocą OneHotEncoding."
   ]
  },
  {
   "cell_type": "code",
   "execution_count": 12,
   "id": "competent-fiction",
   "metadata": {},
   "outputs": [],
   "source": [
    "from sklearn.model_selection import train_test_split\n",
    "x_apts_train, x_apts_test, y_apts_train, y_apts_test = train_test_split(\n",
    "    apts_df.drop(columns=['m2_price']), apts_df['m2_price'], test_size=0.2, random_state=42)\n",
    "\n",
    "x_cancer_train, x_cancer_test, y_cancer_train, y_cancer_test = train_test_split(\n",
    "    cancer_df, cancer_target, test_size=0.2, random_state=42)"
   ]
  },
  {
   "cell_type": "code",
   "execution_count": 13,
   "id": "straight-substitute",
   "metadata": {},
   "outputs": [],
   "source": [
    "# apartments\n",
    "from sklearn.preprocessing import StandardScaler\n",
    "from sklearn.preprocessing import OneHotEncoder\n",
    "from sklearn.compose import ColumnTransformer\n",
    "\n",
    "preprocessing_apts = ColumnTransformer([('onehot', OneHotEncoder(), ['district'])], remainder='passthrough')\n",
    "\n",
    "preprocessing_apts_scaled = ColumnTransformer([('onehot', OneHotEncoder(), ['district'])], remainder=StandardScaler())"
   ]
  },
  {
   "cell_type": "code",
   "execution_count": 14,
   "id": "heated-devices",
   "metadata": {},
   "outputs": [],
   "source": [
    "# breast cancer\n",
    "\n",
    "# W danych breast cancer sa tylko dane numeryczne, wiec w przypadku wersji bez skalowania\n",
    "#  nie potrzeba tworzyc pipeline'nu z preprocessingiem\n",
    "\n",
    "preprocessing_cancer_scaled = StandardScaler()"
   ]
  },
  {
   "cell_type": "markdown",
   "id": "elect-atlantic",
   "metadata": {},
   "source": [
    "## Wpływ skalowania - zbiór apartments\n",
    "Sprawdźmy teraz działanie modelu regersji w zależności czy korzysta z danych przeskalowanych lub nieprzeskalowanych."
   ]
  },
  {
   "cell_type": "code",
   "execution_count": 51,
   "id": "silent-conservation",
   "metadata": {},
   "outputs": [
    {
     "name": "stdout",
     "output_type": "stream",
     "text": [
      "Unscaled data - train score:  898.5448498842396\n",
      "Unscaled data - test score:  973.966883319658\n"
     ]
    }
   ],
   "source": [
    "from sklearn.svm import SVR\n",
    "from sklearn.pipeline import make_pipeline\n",
    "from sklearn.metrics import mean_squared_error\n",
    "\n",
    "apts_model = make_pipeline(preprocessing_apts, SVR())\n",
    "apts_model.fit(x_apts_train, y_apts_train)\n",
    "print('Unscaled data - train score: ', mean_squared_error(y_apts_train, apts_model.predict(x_apts_train), squared=False))\n",
    "print('Unscaled data - test score: ', mean_squared_error(y_apts_test, apts_model.predict(x_apts_test), squared=False))"
   ]
  },
  {
   "cell_type": "code",
   "execution_count": 52,
   "id": "suitable-hughes",
   "metadata": {},
   "outputs": [
    {
     "name": "stdout",
     "output_type": "stream",
     "text": [
      "Scaled data - train score:  874.5345230482917\n",
      "Scaled data - test score:  953.3722122304314\n"
     ]
    }
   ],
   "source": [
    "apts_model_scaled = make_pipeline(preprocessing_apts_scaled, SVR())\n",
    "apts_model_scaled.fit(x_apts_train, y_apts_train)\n",
    "print('Scaled data - train score: ', mean_squared_error(y_apts_train, apts_model_scaled.predict(x_apts_train), squared=False))\n",
    "print('Scaled data - test score: ', mean_squared_error(y_apts_test, apts_model_scaled.predict(x_apts_test), squared=False))"
   ]
  },
  {
   "cell_type": "markdown",
   "id": "armed-camcorder",
   "metadata": {},
   "source": [
    "Model ze skalowaniem danych poradził sobie nieco lepiej. Różnica pomiędzy wynikiem na zbiorze testowym i treningowym pozostała mniej więcej taka sama, co wskazuje że skalowanie nie wpłynęło na zjawisko przeuczenia/niedouczenia. Porównując powyższe błędy do wartości jakie są osiągane przez zmienną objaśnianą, można stwierdzić że różnice pomiędzy modelami są nieznaczne."
   ]
  },
  {
   "cell_type": "code",
   "execution_count": 54,
   "id": "chronic-banking",
   "metadata": {},
   "outputs": [
    {
     "data": {
      "image/png": "[encoded data removed]",
      "text/plain": [
       "<Figure size 432x288 with 1 Axes>"
      ]
     },
     "metadata": {
      "needs_background": "light"
     },
     "output_type": "display_data"
    }
   ],
   "source": [
    "apts_df.m2_price.hist()\n",
    "plt.title('Histogram zmiennej objaśnianej m2_price')\n",
    "plt.show()"
   ]
  },
  {
   "cell_type": "markdown",
   "id": "acknowledged-tutorial",
   "metadata": {},
   "source": [
    "## Wpływ skalowania - zbiór breast cancer\n",
    "Analogiczny test przeprowadźmy dla klasyfikacji zbioru breast cancer. Dla porównania działania wykorzystamy trzy metryki, dokładność, czułość i metrykę F1, która jest średnią harmoniczną precyzji i czułości. Będzięmy mierzyć wyniki również dla zbioru treningowego aby zbadać występowanie overfittingu."
   ]
  },
  {
   "cell_type": "code",
   "execution_count": 126,
   "id": "opposed-lingerie",
   "metadata": {},
   "outputs": [],
   "source": [
    "from sklearn.metrics import f1_score\n",
    "from sklearn.svm import SVC\n",
    "\n",
    "cancer_model = SVC()\n",
    "cancer_model.fit(x_cancer_train, y_cancer_train)\n",
    "\n",
    "\n",
    "results = []\n",
    "\n",
    "results.append({'data':'unscaled', 'dataset':'train', 'metric':'acc',\n",
    "           'value': accuracy_score(y_cancer_train, cancer_model.predict(x_cancer_train))})\n",
    "\n",
    "results.append({'data':'unscaled', 'dataset':'test', 'metric':'acc',\n",
    "           'value': accuracy_score(y_cancer_test, cancer_model.predict(x_cancer_test))})\n",
    "\n",
    "results.append({'data':'unscaled', 'dataset':'train', 'metric':'f1',\n",
    "           'value': f1_score(y_cancer_train, cancer_model.predict(x_cancer_train))})\n",
    "\n",
    "results.append({'data':'unscaled', 'dataset':'test', 'metric':'f1',\n",
    "           'value': f1_score(y_cancer_test, cancer_model.predict(x_cancer_test))})\n",
    "\n",
    "results.append({'data':'unscaled', 'dataset':'train', 'metric':'recall',\n",
    "           'value': recall_score(y_cancer_train, cancer_model.predict(x_cancer_train))})\n",
    "\n",
    "results.append({'data':'unscaled', 'dataset':'test', 'metric':'recall',\n",
    "           'value': recall_score(y_cancer_test, cancer_model.predict(x_cancer_test))})\n",
    "\n"
   ]
  },
  {
   "cell_type": "code",
   "execution_count": 127,
   "id": "alike-hollow",
   "metadata": {},
   "outputs": [
    {
     "data": {
      "text/html": [
       "<style  type=\"text/css\" >\n",
       "#T_78b25_row0_col0,#T_78b25_row11_col0{\n",
       "            background-color:  #1865ac;\n",
       "            color:  #f1f1f1;\n",
       "        }#T_78b25_row1_col0{\n",
       "            background-color:  #9ac8e0;\n",
       "            color:  #000000;\n",
       "        }#T_78b25_row2_col0{\n",
       "            background-color:  #08519c;\n",
       "            color:  #f1f1f1;\n",
       "        }#T_78b25_row3_col0{\n",
       "            background-color:  #f7fbff;\n",
       "            color:  #000000;\n",
       "        }#T_78b25_row4_col0{\n",
       "            background-color:  #0f5aa3;\n",
       "            color:  #f1f1f1;\n",
       "        }#T_78b25_row5_col0{\n",
       "            background-color:  #63a8d3;\n",
       "            color:  #000000;\n",
       "        }#T_78b25_row6_col0{\n",
       "            background-color:  #084a91;\n",
       "            color:  #f1f1f1;\n",
       "        }#T_78b25_row7_col0{\n",
       "            background-color:  #c7dcef;\n",
       "            color:  #000000;\n",
       "        }#T_78b25_row8_col0,#T_78b25_row9_col0,#T_78b25_row10_col0{\n",
       "            background-color:  #08306b;\n",
       "            color:  #f1f1f1;\n",
       "        }</style><table id=\"T_78b25_\" ><thead>    <tr>        <th class=\"blank\" ></th>        <th class=\"blank\" ></th>        <th class=\"blank level0\" ></th>        <th class=\"col_heading level0 col0\" >value</th>    </tr>    <tr>        <th class=\"index_name level0\" >metric</th>        <th class=\"index_name level1\" >dataset</th>        <th class=\"index_name level2\" >data</th>        <th class=\"blank\" ></th>    </tr></thead><tbody>\n",
       "                <tr>\n",
       "                        <th id=\"T_78b25_level0_row0\" class=\"row_heading level0 row0\" rowspan=\"4\">acc</th>\n",
       "                        <th id=\"T_78b25_level1_row0\" class=\"row_heading level1 row0\" rowspan=\"2\">test</th>\n",
       "                        <th id=\"T_78b25_level2_row0\" class=\"row_heading level2 row0\" >scaled</th>\n",
       "                        <td id=\"T_78b25_row0_col0\" class=\"data row0 col0\" >0.982456</td>\n",
       "            </tr>\n",
       "            <tr>\n",
       "                                        <th id=\"T_78b25_level2_row1\" class=\"row_heading level2 row1\" >unscaled</th>\n",
       "                        <td id=\"T_78b25_row1_col0\" class=\"data row1 col0\" >0.947368</td>\n",
       "            </tr>\n",
       "            <tr>\n",
       "                                <th id=\"T_78b25_level1_row2\" class=\"row_heading level1 row2\" rowspan=\"2\">train</th>\n",
       "                        <th id=\"T_78b25_level2_row2\" class=\"row_heading level2 row2\" >scaled</th>\n",
       "                        <td id=\"T_78b25_row2_col0\" class=\"data row2 col0\" >0.989011</td>\n",
       "            </tr>\n",
       "            <tr>\n",
       "                                        <th id=\"T_78b25_level2_row3\" class=\"row_heading level2 row3\" >unscaled</th>\n",
       "                        <td id=\"T_78b25_row3_col0\" class=\"data row3 col0\" >0.914286</td>\n",
       "            </tr>\n",
       "            <tr>\n",
       "                        <th id=\"T_78b25_level0_row4\" class=\"row_heading level0 row4\" rowspan=\"4\">f1</th>\n",
       "                        <th id=\"T_78b25_level1_row4\" class=\"row_heading level1 row4\" rowspan=\"2\">test</th>\n",
       "                        <th id=\"T_78b25_level2_row4\" class=\"row_heading level2 row4\" >scaled</th>\n",
       "                        <td id=\"T_78b25_row4_col0\" class=\"data row4 col0\" >0.986111</td>\n",
       "            </tr>\n",
       "            <tr>\n",
       "                                        <th id=\"T_78b25_level2_row5\" class=\"row_heading level2 row5\" >unscaled</th>\n",
       "                        <td id=\"T_78b25_row5_col0\" class=\"data row5 col0\" >0.959459</td>\n",
       "            </tr>\n",
       "            <tr>\n",
       "                                <th id=\"T_78b25_level1_row6\" class=\"row_heading level1 row6\" rowspan=\"2\">train</th>\n",
       "                        <th id=\"T_78b25_level2_row6\" class=\"row_heading level2 row6\" >scaled</th>\n",
       "                        <td id=\"T_78b25_row6_col0\" class=\"data row6 col0\" >0.991334</td>\n",
       "            </tr>\n",
       "            <tr>\n",
       "                                        <th id=\"T_78b25_level2_row7\" class=\"row_heading level2 row7\" >unscaled</th>\n",
       "                        <td id=\"T_78b25_row7_col0\" class=\"data row7 col0\" >0.935108</td>\n",
       "            </tr>\n",
       "            <tr>\n",
       "                        <th id=\"T_78b25_level0_row8\" class=\"row_heading level0 row8\" rowspan=\"4\">recall</th>\n",
       "                        <th id=\"T_78b25_level1_row8\" class=\"row_heading level1 row8\" rowspan=\"2\">test</th>\n",
       "                        <th id=\"T_78b25_level2_row8\" class=\"row_heading level2 row8\" >scaled</th>\n",
       "                        <td id=\"T_78b25_row8_col0\" class=\"data row8 col0\" >1.000000</td>\n",
       "            </tr>\n",
       "            <tr>\n",
       "                                        <th id=\"T_78b25_level2_row9\" class=\"row_heading level2 row9\" >unscaled</th>\n",
       "                        <td id=\"T_78b25_row9_col0\" class=\"data row9 col0\" >1.000000</td>\n",
       "            </tr>\n",
       "            <tr>\n",
       "                                <th id=\"T_78b25_level1_row10\" class=\"row_heading level1 row10\" rowspan=\"2\">train</th>\n",
       "                        <th id=\"T_78b25_level2_row10\" class=\"row_heading level2 row10\" >scaled</th>\n",
       "                        <td id=\"T_78b25_row10_col0\" class=\"data row10 col0\" >1.000000</td>\n",
       "            </tr>\n",
       "            <tr>\n",
       "                                        <th id=\"T_78b25_level2_row11\" class=\"row_heading level2 row11\" >unscaled</th>\n",
       "                        <td id=\"T_78b25_row11_col0\" class=\"data row11 col0\" >0.982517</td>\n",
       "            </tr>\n",
       "    </tbody></table>"
      ],
      "text/plain": [
       "<pandas.io.formats.style.Styler at 0x129eab340>"
      ]
     },
     "execution_count": 127,
     "metadata": {},
     "output_type": "execute_result"
    }
   ],
   "source": [
    "cancer_model_scaled = make_pipeline(preprocessing_cancer_scaled, SVC())\n",
    "cancer_model_scaled.fit(x_cancer_train, y_cancer_train)\n",
    "\n",
    "results.append({'data':'scaled', 'dataset':'train', 'metric':'acc',\n",
    "           'value': accuracy_score(y_cancer_train, cancer_model_scaled.predict(x_cancer_train))})\n",
    "\n",
    "results.append({'data':'scaled', 'dataset':'test', 'metric':'acc',\n",
    "           'value': accuracy_score(y_cancer_test, cancer_model_scaled.predict(x_cancer_test))})\n",
    "\n",
    "results.append({'data':'scaled', 'dataset':'train', 'metric':'f1',\n",
    "           'value': f1_score(y_cancer_train, cancer_model_scaled.predict(x_cancer_train))})\n",
    "\n",
    "results.append({'data':'scaled', 'dataset':'test', 'metric':'f1',\n",
    "           'value': f1_score(y_cancer_test, cancer_model_scaled.predict(x_cancer_test))})\n",
    "\n",
    "results.append({'data':'scaled', 'dataset':'train', 'metric':'recall',\n",
    "           'value': recall_score(y_cancer_train, cancer_model_scaled.predict(x_cancer_train))})\n",
    "\n",
    "results.append({'data':'scaled', 'dataset':'test', 'metric':'recall',\n",
    "           'value': recall_score(y_cancer_test, cancer_model_scaled.predict(x_cancer_test))})\n",
    "\n",
    "all_results_df = pd.DataFrame(results).set_index(['metric', 'dataset', 'data']).sort_index(level=0)\n",
    "all_results_df.style.background_gradient(cmap='Blues')"
   ]
  },
  {
   "cell_type": "markdown",
   "id": "secondary-vertex",
   "metadata": {},
   "source": [
    "Jak można było się spodziewać, skalowanie poprawiło wyniki dla każdej metryki dla każdego zbioru. Największa poprawa wyniku zbioru testowego jest dla metryki dokładności. Jest tu poprawa o 3.5 p.p. W przypadku danych przeskalowanych i nieprzeskalowanych overfitting nie występuje. Co ciekawe dla danych nieprzeskalowanych model uzyskiwał lepszą czułość dla zbioru testowego niż treningowego."
   ]
  },
  {
   "cell_type": "markdown",
   "id": "searching-tract",
   "metadata": {},
   "source": [
    "## RandomSearch - apartments\n",
    "Poszukajmy teraz najlepszych hiperparametrów dla zagadnienia regresji z danymi apartments przy użyciu `RandomizedSearchCV`. Modele SVM korzystają z różnego rodzaju jąder, między innymi z RBF i wielomianowych. Każde z nich posiada własny parametr, odpowiednio `gamma` i `poly`. Aby niepotrzebnie nie marnować czasu na iteracje parametru `gamma` w przypadku gdy wybrane jest jądro `poly`, rozdzielimy przeszukiwania na te jądrem `rbf` i `poly`.\n",
    "\n",
    "#### Jądro RBF"
   ]
  },
  {
   "cell_type": "code",
   "execution_count": 119,
   "id": "brazilian-welcome",
   "metadata": {},
   "outputs": [
    {
     "name": "stdout",
     "output_type": "stream",
     "text": [
      "Fitting 4 folds for each of 80 candidates, totalling 320 fits\n"
     ]
    },
    {
     "name": "stderr",
     "output_type": "stream",
     "text": [
      "[Parallel(n_jobs=-1)]: Using backend LokyBackend with 4 concurrent workers.\n",
      "[Parallel(n_jobs=-1)]: Done  24 tasks      | elapsed:    3.0s\n",
      "[Parallel(n_jobs=-1)]: Done 320 out of 320 | elapsed:    6.9s finished\n"
     ]
    }
   ],
   "source": [
    "from sklearn.model_selection import RandomizedSearchCV\n",
    "import scipy.stats as stats\n",
    "\n",
    "param_dist = {'svr__C': stats.loguniform(0.0001, 1000),\n",
    "              'svr__gamma': ['scale', 'auto', 0.001, 1],\n",
    "              'svr__kernel':['rbf']}\n",
    "\n",
    "apts_model_scaled = make_pipeline(preprocessing_apts_scaled, SVR())\n",
    "\n",
    "search = RandomizedSearchCV(apts_model_scaled, param_dist,\n",
    "                            cv=4, scoring ='neg_root_mean_squared_error', n_iter= 80, n_jobs=-1, verbose=3)\n",
    "search.fit(x_apts_train, y_apts_train)\n",
    "model_apts_rbf = search.best_estimator_\n"
   ]
  },
  {
   "cell_type": "code",
   "execution_count": 120,
   "id": "helpful-county",
   "metadata": {},
   "outputs": [
    {
     "name": "stdout",
     "output_type": "stream",
     "text": [
      "Best hyperparameters rbf:  {'svr__C': 679.8915832908714, 'svr__gamma': 'auto', 'svr__kernel': 'rbf'}\n",
      "Train rbf score:  156.6930492475548\n",
      "Test rbf score:  174.89137675031031\n"
     ]
    }
   ],
   "source": [
    "print('Best hyperparameters rbf: ', search.best_params_)\n",
    "print('Train rbf score: ', mean_squared_error(y_apts_train, model_apts_rbf.predict(x_apts_train), squared=False))\n",
    "print('Test rbf score: ', mean_squared_error(y_apts_test, model_apts_rbf.predict(x_apts_test), squared=False))"
   ]
  },
  {
   "cell_type": "markdown",
   "id": "expected-region",
   "metadata": {},
   "source": [
    "#### Jądro wielomianowe"
   ]
  },
  {
   "cell_type": "code",
   "execution_count": 121,
   "id": "reasonable-marketplace",
   "metadata": {},
   "outputs": [
    {
     "name": "stderr",
     "output_type": "stream",
     "text": [
      "[Parallel(n_jobs=-1)]: Using backend LokyBackend with 4 concurrent workers.\n"
     ]
    },
    {
     "name": "stdout",
     "output_type": "stream",
     "text": [
      "Fitting 4 folds for each of 80 candidates, totalling 320 fits\n"
     ]
    },
    {
     "name": "stderr",
     "output_type": "stream",
     "text": [
      "[Parallel(n_jobs=-1)]: Done  56 tasks      | elapsed:    0.9s\n",
      "[Parallel(n_jobs=-1)]: Done 313 out of 320 | elapsed:    4.3s remaining:    0.1s\n",
      "[Parallel(n_jobs=-1)]: Done 320 out of 320 | elapsed:    4.4s finished\n"
     ]
    }
   ],
   "source": [
    "param_dist = {'svr__C': stats.loguniform(0.0001, 1000),\n",
    "              'svr__degree': stats.randint(2, 10),\n",
    "              'svr__kernel':['poly']}\n",
    "\n",
    "apts_model_scaled = make_pipeline(preprocessing_apts_scaled, SVR())\n",
    "\n",
    "search = RandomizedSearchCV(apts_model_scaled, param_dist,\n",
    "                            cv=4, scoring ='neg_root_mean_squared_error', n_iter= 80, n_jobs=-1, verbose=3)\n",
    "search.fit(x_apts_train, y_apts_train)\n",
    "model_apts_poly = search.best_estimator_"
   ]
  },
  {
   "cell_type": "code",
   "execution_count": 122,
   "id": "matched-archive",
   "metadata": {},
   "outputs": [
    {
     "name": "stdout",
     "output_type": "stream",
     "text": [
      "Best hyperparameters poly:  {'svr__C': 293.85392496847686, 'svr__degree': 2, 'svr__kernel': 'poly'}\n",
      "Train poly score:  294.55274311370266\n",
      "Test poly score:  350.7930992568271\n"
     ]
    }
   ],
   "source": [
    "print('Best hyperparameters poly: ', search.best_params_)\n",
    "print('Train poly score: ', mean_squared_error(y_apts_train, model_apts_poly.predict(x_apts_train), squared=False))\n",
    "print('Test poly score: ', mean_squared_error(y_apts_test, model_apts_poly.predict(x_apts_test), squared=False))"
   ]
  },
  {
   "cell_type": "markdown",
   "id": "attended-consensus",
   "metadata": {},
   "source": [
    "Najlepszy się okazał model z jądrem RBF o parametrach `C`=679.89 i `gamma`='auto' (co wg. dokumnetacji oznacza wartość 1/liczba_kolumn). Błąd dla zbioru testowego wynosi 174.9 i jest ponad 5 razy mniejszy niż modelu SVR z domyślnymi parametrami. Mała różnica w wyniku pomiędzy zbiorem treningowym i testowym wskazuje na dobrą generalizację."
   ]
  },
  {
   "cell_type": "code",
   "execution_count": 124,
   "id": "entertaining-secret",
   "metadata": {},
   "outputs": [],
   "source": [
    "model_apts = model_apts_rbf"
   ]
  },
  {
   "cell_type": "markdown",
   "id": "inappropriate-native",
   "metadata": {},
   "source": [
    "## RandomSearch - breast cancer"
   ]
  },
  {
   "cell_type": "markdown",
   "id": "through-pleasure",
   "metadata": {},
   "source": [
    "Analogicznie postępujemy przy zadaniu klasyfikacji. Przy dobieraniu modelu i hiperparametrów będziemy korzystać z metryki F1."
   ]
  },
  {
   "cell_type": "markdown",
   "id": "geographic-patio",
   "metadata": {},
   "source": [
    "#### Jądro RBF"
   ]
  },
  {
   "cell_type": "code",
   "execution_count": 35,
   "id": "clear-chocolate",
   "metadata": {},
   "outputs": [
    {
     "name": "stdout",
     "output_type": "stream",
     "text": [
      "Fitting 4 folds for each of 40 candidates, totalling 160 fits\n"
     ]
    },
    {
     "name": "stderr",
     "output_type": "stream",
     "text": [
      "[Parallel(n_jobs=-1)]: Using backend LokyBackend with 4 concurrent workers.\n",
      "[Parallel(n_jobs=-1)]: Done  56 tasks      | elapsed:    0.6s\n",
      "[Parallel(n_jobs=-1)]: Done 160 out of 160 | elapsed:    1.3s finished\n"
     ]
    }
   ],
   "source": [
    "param_dist = {'svc__C': stats.loguniform(0.0001, 1000),\n",
    "              'svc__gamma': ['scale', 'auto', 0.001, 1],\n",
    "              'svc__kernel':['rbf']}\n",
    "\n",
    "cancer_model_scaled = make_pipeline(preprocessing_cancer_scaled, SVC())\n",
    "\n",
    "search = RandomizedSearchCV(cancer_model_scaled, param_dist,\n",
    "                            cv=4, scoring ='f1', n_iter= 80, n_jobs=-1, verbose=3)\n",
    "search.fit(x_cancer_train, y_cancer_train)\n",
    "model_cancer_rbf = search.best_estimator_"
   ]
  },
  {
   "cell_type": "code",
   "execution_count": 37,
   "id": "later-meeting",
   "metadata": {},
   "outputs": [
    {
     "name": "stdout",
     "output_type": "stream",
     "text": [
      "Best hyperparameters rbf:  {'svc__C': 3.0200173164153066, 'svc__gamma': 'auto', 'svc__kernel': 'rbf'}\n",
      "Train rbf F1 score:  0.994782608695652\n",
      "Test rbf F1 score:  0.9861111111111112\n"
     ]
    }
   ],
   "source": [
    "print('Best hyperparameters rbf: ', search.best_params_)\n",
    "print('Train rbf F1 score: ', f1_score(y_cancer_train, model_cancer_rbf.predict(x_cancer_train)))\n",
    "print('Test rbf F1 score: ', f1_score(y_cancer_test, model_cancer_rbf.predict(x_cancer_test)))"
   ]
  },
  {
   "cell_type": "markdown",
   "id": "banner-foster",
   "metadata": {},
   "source": [
    "#### Jądro wielomianowe"
   ]
  },
  {
   "cell_type": "code",
   "execution_count": 39,
   "id": "applied-expression",
   "metadata": {},
   "outputs": [
    {
     "name": "stdout",
     "output_type": "stream",
     "text": [
      "Fitting 4 folds for each of 40 candidates, totalling 160 fits\n"
     ]
    },
    {
     "name": "stderr",
     "output_type": "stream",
     "text": [
      "[Parallel(n_jobs=-1)]: Using backend LokyBackend with 4 concurrent workers.\n",
      "[Parallel(n_jobs=-1)]: Done  56 tasks      | elapsed:    0.5s\n",
      "[Parallel(n_jobs=-1)]: Done 160 out of 160 | elapsed:    1.1s finished\n"
     ]
    }
   ],
   "source": [
    "param_dist = {'svc__C': stats.loguniform(0.0001, 1000),\n",
    "              'svc__degree': stats.randint(2, 10),\n",
    "              'svc__kernel':['poly']}\n",
    "\n",
    "cancer_model_scaled = make_pipeline(preprocessing_cancer_scaled, SVC())\n",
    "\n",
    "search = RandomizedSearchCV(cancer_model_scaled, param_dist,\n",
    "                            cv=4, scoring ='f1', n_iter= 80, n_jobs=-1, verbose=3)\n",
    "search.fit(x_cancer_train, y_cancer_train)\n",
    "model_cancer_poly = search.best_estimator_"
   ]
  },
  {
   "cell_type": "code",
   "execution_count": 40,
   "id": "relative-seating",
   "metadata": {},
   "outputs": [
    {
     "name": "stdout",
     "output_type": "stream",
     "text": [
      "Best hyperparameters poly:  {'svc__C': 32.51390464428388, 'svc__degree': 3, 'svc__kernel': 'poly'}\n",
      "Train poly F1 score:  0.9913344887348353\n",
      "Test poly F1 score:  0.9583333333333334\n"
     ]
    }
   ],
   "source": [
    "print('Best hyperparameters poly: ', search.best_params_)\n",
    "print('Train poly F1 score: ', f1_score(y_cancer_train, model_cancer_poly.predict(x_cancer_train)))\n",
    "print('Test poly F1 score: ', f1_score(y_cancer_test, model_cancer_poly.predict(x_cancer_test)))"
   ]
  },
  {
   "cell_type": "markdown",
   "id": "proper-corrections",
   "metadata": {},
   "source": [
    "W przypadku naszego zadania klasyfikacji, tutaj również lepiej zadziałał model z jądrem RBF. Najlepsze znalezione parametry to `C`=3.02 i `gamma`='auto'. Ponadto model ten ma mniejszą różnicę w wyniku (niecały 1%). Jadnakże wynik dla zbioru testowego jest identyczny z wynikiem modelu z domyślnymi parametrami (F1 = 0.98611), więc w tym przypadku domyślne parametry były bliskie optymalnym."
   ]
  },
  {
   "cell_type": "code",
   "execution_count": 125,
   "id": "according-livestock",
   "metadata": {},
   "outputs": [],
   "source": [
    "model_cancer = model_cancer_rbf"
   ]
  }
 ],
 "metadata": {
  "kernelspec": {
   "display_name": "Python 3",
   "language": "python",
   "name": "python3"
  },
  "language_info": {
   "codemirror_mode": {
    "name": "ipython",
    "version": 3
   },
   "file_extension": ".py",
   "mimetype": "text/x-python",
   "name": "python",
   "nbconvert_exporter": "python",
   "pygments_lexer": "ipython3",
   "version": "3.8.2"
  }
 },
 "nbformat": 4,
 "nbformat_minor": 5
}
