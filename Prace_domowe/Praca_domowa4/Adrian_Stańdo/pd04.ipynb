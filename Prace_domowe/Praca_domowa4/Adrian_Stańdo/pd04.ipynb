{
 "cells": [
  {
   "cell_type": "markdown",
   "id": "39858d17",
   "metadata": {},
   "source": [
    "# Praca domowa 4"
   ]
  },
  {
   "cell_type": "code",
   "execution_count": 1,
   "id": "35c9ddca",
   "metadata": {},
   "outputs": [],
   "source": [
    "import pandas as pd\n",
    "import numpy as np\n",
    "import matplotlib.pyplot as plt\n",
    "import seaborn as sns\n",
    "\n",
    "import warnings\n",
    "warnings.filterwarnings('ignore')"
   ]
  },
  {
   "cell_type": "markdown",
   "id": "44b9aa8d",
   "metadata": {},
   "source": [
    "### Wczytanie danych i krótkie EDA"
   ]
  },
  {
   "cell_type": "markdown",
   "id": "a7c0c37c",
   "metadata": {},
   "source": [
    "Zbiór danych **apartaments**"
   ]
  },
  {
   "cell_type": "code",
   "execution_count": 2,
   "id": "fdabe2ab",
   "metadata": {},
   "outputs": [
    {
     "data": {
      "text/html": [
       "<div>\n",
       "<style scoped>\n",
       "    .dataframe tbody tr th:only-of-type {\n",
       "        vertical-align: middle;\n",
       "    }\n",
       "\n",
       "    .dataframe tbody tr th {\n",
       "        vertical-align: top;\n",
       "    }\n",
       "\n",
       "    .dataframe thead th {\n",
       "        text-align: right;\n",
       "    }\n",
       "</style>\n",
       "<table border=\"1\" class=\"dataframe\">\n",
       "  <thead>\n",
       "    <tr style=\"text-align: right;\">\n",
       "      <th></th>\n",
       "      <th>m2_price</th>\n",
       "      <th>construction_year</th>\n",
       "      <th>surface</th>\n",
       "      <th>floor</th>\n",
       "      <th>no_rooms</th>\n",
       "      <th>district</th>\n",
       "    </tr>\n",
       "  </thead>\n",
       "  <tbody>\n",
       "    <tr>\n",
       "      <th>1</th>\n",
       "      <td>5897</td>\n",
       "      <td>1953</td>\n",
       "      <td>25</td>\n",
       "      <td>3</td>\n",
       "      <td>1</td>\n",
       "      <td>Srodmiescie</td>\n",
       "    </tr>\n",
       "    <tr>\n",
       "      <th>2</th>\n",
       "      <td>1818</td>\n",
       "      <td>1992</td>\n",
       "      <td>143</td>\n",
       "      <td>9</td>\n",
       "      <td>5</td>\n",
       "      <td>Bielany</td>\n",
       "    </tr>\n",
       "    <tr>\n",
       "      <th>3</th>\n",
       "      <td>3643</td>\n",
       "      <td>1937</td>\n",
       "      <td>56</td>\n",
       "      <td>1</td>\n",
       "      <td>2</td>\n",
       "      <td>Praga</td>\n",
       "    </tr>\n",
       "    <tr>\n",
       "      <th>4</th>\n",
       "      <td>3517</td>\n",
       "      <td>1995</td>\n",
       "      <td>93</td>\n",
       "      <td>7</td>\n",
       "      <td>3</td>\n",
       "      <td>Ochota</td>\n",
       "    </tr>\n",
       "    <tr>\n",
       "      <th>5</th>\n",
       "      <td>3013</td>\n",
       "      <td>1992</td>\n",
       "      <td>144</td>\n",
       "      <td>6</td>\n",
       "      <td>5</td>\n",
       "      <td>Mokotow</td>\n",
       "    </tr>\n",
       "  </tbody>\n",
       "</table>\n",
       "</div>"
      ],
      "text/plain": [
       "   m2_price  construction_year  surface  floor  no_rooms     district\n",
       "1      5897               1953       25      3         1  Srodmiescie\n",
       "2      1818               1992      143      9         5      Bielany\n",
       "3      3643               1937       56      1         2        Praga\n",
       "4      3517               1995       93      7         3       Ochota\n",
       "5      3013               1992      144      6         5      Mokotow"
      ]
     },
     "execution_count": 2,
     "metadata": {},
     "output_type": "execute_result"
    }
   ],
   "source": [
    "from dalex.datasets import load_apartments\n",
    "aparts = load_apartments()\n",
    "aparts.head()"
   ]
  },
  {
   "cell_type": "code",
   "execution_count": 3,
   "id": "d0686573",
   "metadata": {},
   "outputs": [
    {
     "data": {
      "text/html": [
       "<div>\n",
       "<style scoped>\n",
       "    .dataframe tbody tr th:only-of-type {\n",
       "        vertical-align: middle;\n",
       "    }\n",
       "\n",
       "    .dataframe tbody tr th {\n",
       "        vertical-align: top;\n",
       "    }\n",
       "\n",
       "    .dataframe thead th {\n",
       "        text-align: right;\n",
       "    }\n",
       "</style>\n",
       "<table border=\"1\" class=\"dataframe\">\n",
       "  <thead>\n",
       "    <tr style=\"text-align: right;\">\n",
       "      <th></th>\n",
       "      <th>m2_price</th>\n",
       "      <th>construction_year</th>\n",
       "      <th>surface</th>\n",
       "      <th>floor</th>\n",
       "      <th>no_rooms</th>\n",
       "    </tr>\n",
       "  </thead>\n",
       "  <tbody>\n",
       "    <tr>\n",
       "      <th>count</th>\n",
       "      <td>1000.000000</td>\n",
       "      <td>1000.000000</td>\n",
       "      <td>1000.000000</td>\n",
       "      <td>1000.000000</td>\n",
       "      <td>1000.000000</td>\n",
       "    </tr>\n",
       "    <tr>\n",
       "      <th>mean</th>\n",
       "      <td>3487.019000</td>\n",
       "      <td>1964.823000</td>\n",
       "      <td>85.590000</td>\n",
       "      <td>5.623000</td>\n",
       "      <td>3.360000</td>\n",
       "    </tr>\n",
       "    <tr>\n",
       "      <th>std</th>\n",
       "      <td>906.691651</td>\n",
       "      <td>25.831511</td>\n",
       "      <td>37.874799</td>\n",
       "      <td>2.899876</td>\n",
       "      <td>1.381415</td>\n",
       "    </tr>\n",
       "    <tr>\n",
       "      <th>min</th>\n",
       "      <td>1607.000000</td>\n",
       "      <td>1920.000000</td>\n",
       "      <td>20.000000</td>\n",
       "      <td>1.000000</td>\n",
       "      <td>1.000000</td>\n",
       "    </tr>\n",
       "    <tr>\n",
       "      <th>25%</th>\n",
       "      <td>2857.000000</td>\n",
       "      <td>1943.000000</td>\n",
       "      <td>53.000000</td>\n",
       "      <td>3.000000</td>\n",
       "      <td>2.000000</td>\n",
       "    </tr>\n",
       "    <tr>\n",
       "      <th>50%</th>\n",
       "      <td>3386.000000</td>\n",
       "      <td>1965.000000</td>\n",
       "      <td>85.500000</td>\n",
       "      <td>6.000000</td>\n",
       "      <td>3.000000</td>\n",
       "    </tr>\n",
       "    <tr>\n",
       "      <th>75%</th>\n",
       "      <td>4018.250000</td>\n",
       "      <td>1988.000000</td>\n",
       "      <td>118.000000</td>\n",
       "      <td>8.000000</td>\n",
       "      <td>4.000000</td>\n",
       "    </tr>\n",
       "    <tr>\n",
       "      <th>max</th>\n",
       "      <td>6595.000000</td>\n",
       "      <td>2010.000000</td>\n",
       "      <td>150.000000</td>\n",
       "      <td>10.000000</td>\n",
       "      <td>6.000000</td>\n",
       "    </tr>\n",
       "  </tbody>\n",
       "</table>\n",
       "</div>"
      ],
      "text/plain": [
       "          m2_price  construction_year      surface        floor     no_rooms\n",
       "count  1000.000000        1000.000000  1000.000000  1000.000000  1000.000000\n",
       "mean   3487.019000        1964.823000    85.590000     5.623000     3.360000\n",
       "std     906.691651          25.831511    37.874799     2.899876     1.381415\n",
       "min    1607.000000        1920.000000    20.000000     1.000000     1.000000\n",
       "25%    2857.000000        1943.000000    53.000000     3.000000     2.000000\n",
       "50%    3386.000000        1965.000000    85.500000     6.000000     3.000000\n",
       "75%    4018.250000        1988.000000   118.000000     8.000000     4.000000\n",
       "max    6595.000000        2010.000000   150.000000    10.000000     6.000000"
      ]
     },
     "execution_count": 3,
     "metadata": {},
     "output_type": "execute_result"
    }
   ],
   "source": [
    "aparts.describe()"
   ]
  },
  {
   "cell_type": "code",
   "execution_count": 4,
   "id": "577b28dc",
   "metadata": {},
   "outputs": [
    {
     "name": "stdout",
     "output_type": "stream",
     "text": [
      "<class 'pandas.core.frame.DataFrame'>\n",
      "Int64Index: 1000 entries, 1 to 1000\n",
      "Data columns (total 6 columns):\n",
      " #   Column             Non-Null Count  Dtype \n",
      "---  ------             --------------  ----- \n",
      " 0   m2_price           1000 non-null   int64 \n",
      " 1   construction_year  1000 non-null   int64 \n",
      " 2   surface            1000 non-null   int64 \n",
      " 3   floor              1000 non-null   int64 \n",
      " 4   no_rooms           1000 non-null   int64 \n",
      " 5   district           1000 non-null   object\n",
      "dtypes: int64(5), object(1)\n",
      "memory usage: 54.7+ KB\n"
     ]
    }
   ],
   "source": [
    "aparts.info()"
   ]
  },
  {
   "cell_type": "code",
   "execution_count": 5,
   "id": "e5c1c220",
   "metadata": {},
   "outputs": [
    {
     "data": {
      "image/png": "[encoded data removed]",
      "text/plain": [
       "<Figure size 576x576 with 6 Axes>"
      ]
     },
     "metadata": {
      "needs_background": "light"
     },
     "output_type": "display_data"
    }
   ],
   "source": [
    "aparts.hist(figsize=(8, 8), bins=40)\n",
    "plt.show()"
   ]
  },
  {
   "cell_type": "code",
   "execution_count": 6,
   "id": "7e411c2b",
   "metadata": {},
   "outputs": [],
   "source": [
    "aparts_X = aparts.drop('m2_price', axis = 1)\n",
    "aparts_y = aparts.m2_price"
   ]
  },
  {
   "cell_type": "markdown",
   "id": "c0863a45",
   "metadata": {},
   "source": [
    "Zbiór danych **wine recognition**"
   ]
  },
  {
   "cell_type": "code",
   "execution_count": 7,
   "id": "e5ce0d31",
   "metadata": {},
   "outputs": [],
   "source": [
    "from sklearn.datasets import load_wine\n",
    "wine = load_wine(as_frame=True)\n",
    "wine_X = wine['data']\n",
    "wine_y = wine['target']"
   ]
  },
  {
   "cell_type": "code",
   "execution_count": 8,
   "id": "eeb8626c",
   "metadata": {},
   "outputs": [
    {
     "data": {
      "text/html": [
       "<div>\n",
       "<style scoped>\n",
       "    .dataframe tbody tr th:only-of-type {\n",
       "        vertical-align: middle;\n",
       "    }\n",
       "\n",
       "    .dataframe tbody tr th {\n",
       "        vertical-align: top;\n",
       "    }\n",
       "\n",
       "    .dataframe thead th {\n",
       "        text-align: right;\n",
       "    }\n",
       "</style>\n",
       "<table border=\"1\" class=\"dataframe\">\n",
       "  <thead>\n",
       "    <tr style=\"text-align: right;\">\n",
       "      <th></th>\n",
       "      <th>alcohol</th>\n",
       "      <th>malic_acid</th>\n",
       "      <th>ash</th>\n",
       "      <th>alcalinity_of_ash</th>\n",
       "      <th>magnesium</th>\n",
       "      <th>total_phenols</th>\n",
       "      <th>flavanoids</th>\n",
       "      <th>nonflavanoid_phenols</th>\n",
       "      <th>proanthocyanins</th>\n",
       "      <th>color_intensity</th>\n",
       "      <th>hue</th>\n",
       "      <th>od280/od315_of_diluted_wines</th>\n",
       "      <th>proline</th>\n",
       "    </tr>\n",
       "  </thead>\n",
       "  <tbody>\n",
       "    <tr>\n",
       "      <th>count</th>\n",
       "      <td>178.000000</td>\n",
       "      <td>178.000000</td>\n",
       "      <td>178.000000</td>\n",
       "      <td>178.000000</td>\n",
       "      <td>178.000000</td>\n",
       "      <td>178.000000</td>\n",
       "      <td>178.000000</td>\n",
       "      <td>178.000000</td>\n",
       "      <td>178.000000</td>\n",
       "      <td>178.000000</td>\n",
       "      <td>178.000000</td>\n",
       "      <td>178.000000</td>\n",
       "      <td>178.000000</td>\n",
       "    </tr>\n",
       "    <tr>\n",
       "      <th>mean</th>\n",
       "      <td>13.000618</td>\n",
       "      <td>2.336348</td>\n",
       "      <td>2.366517</td>\n",
       "      <td>19.494944</td>\n",
       "      <td>99.741573</td>\n",
       "      <td>2.295112</td>\n",
       "      <td>2.029270</td>\n",
       "      <td>0.361854</td>\n",
       "      <td>1.590899</td>\n",
       "      <td>5.058090</td>\n",
       "      <td>0.957449</td>\n",
       "      <td>2.611685</td>\n",
       "      <td>746.893258</td>\n",
       "    </tr>\n",
       "    <tr>\n",
       "      <th>std</th>\n",
       "      <td>0.811827</td>\n",
       "      <td>1.117146</td>\n",
       "      <td>0.274344</td>\n",
       "      <td>3.339564</td>\n",
       "      <td>14.282484</td>\n",
       "      <td>0.625851</td>\n",
       "      <td>0.998859</td>\n",
       "      <td>0.124453</td>\n",
       "      <td>0.572359</td>\n",
       "      <td>2.318286</td>\n",
       "      <td>0.228572</td>\n",
       "      <td>0.709990</td>\n",
       "      <td>314.907474</td>\n",
       "    </tr>\n",
       "    <tr>\n",
       "      <th>min</th>\n",
       "      <td>11.030000</td>\n",
       "      <td>0.740000</td>\n",
       "      <td>1.360000</td>\n",
       "      <td>10.600000</td>\n",
       "      <td>70.000000</td>\n",
       "      <td>0.980000</td>\n",
       "      <td>0.340000</td>\n",
       "      <td>0.130000</td>\n",
       "      <td>0.410000</td>\n",
       "      <td>1.280000</td>\n",
       "      <td>0.480000</td>\n",
       "      <td>1.270000</td>\n",
       "      <td>278.000000</td>\n",
       "    </tr>\n",
       "    <tr>\n",
       "      <th>25%</th>\n",
       "      <td>12.362500</td>\n",
       "      <td>1.602500</td>\n",
       "      <td>2.210000</td>\n",
       "      <td>17.200000</td>\n",
       "      <td>88.000000</td>\n",
       "      <td>1.742500</td>\n",
       "      <td>1.205000</td>\n",
       "      <td>0.270000</td>\n",
       "      <td>1.250000</td>\n",
       "      <td>3.220000</td>\n",
       "      <td>0.782500</td>\n",
       "      <td>1.937500</td>\n",
       "      <td>500.500000</td>\n",
       "    </tr>\n",
       "    <tr>\n",
       "      <th>50%</th>\n",
       "      <td>13.050000</td>\n",
       "      <td>1.865000</td>\n",
       "      <td>2.360000</td>\n",
       "      <td>19.500000</td>\n",
       "      <td>98.000000</td>\n",
       "      <td>2.355000</td>\n",
       "      <td>2.135000</td>\n",
       "      <td>0.340000</td>\n",
       "      <td>1.555000</td>\n",
       "      <td>4.690000</td>\n",
       "      <td>0.965000</td>\n",
       "      <td>2.780000</td>\n",
       "      <td>673.500000</td>\n",
       "    </tr>\n",
       "    <tr>\n",
       "      <th>75%</th>\n",
       "      <td>13.677500</td>\n",
       "      <td>3.082500</td>\n",
       "      <td>2.557500</td>\n",
       "      <td>21.500000</td>\n",
       "      <td>107.000000</td>\n",
       "      <td>2.800000</td>\n",
       "      <td>2.875000</td>\n",
       "      <td>0.437500</td>\n",
       "      <td>1.950000</td>\n",
       "      <td>6.200000</td>\n",
       "      <td>1.120000</td>\n",
       "      <td>3.170000</td>\n",
       "      <td>985.000000</td>\n",
       "    </tr>\n",
       "    <tr>\n",
       "      <th>max</th>\n",
       "      <td>14.830000</td>\n",
       "      <td>5.800000</td>\n",
       "      <td>3.230000</td>\n",
       "      <td>30.000000</td>\n",
       "      <td>162.000000</td>\n",
       "      <td>3.880000</td>\n",
       "      <td>5.080000</td>\n",
       "      <td>0.660000</td>\n",
       "      <td>3.580000</td>\n",
       "      <td>13.000000</td>\n",
       "      <td>1.710000</td>\n",
       "      <td>4.000000</td>\n",
       "      <td>1680.000000</td>\n",
       "    </tr>\n",
       "  </tbody>\n",
       "</table>\n",
       "</div>"
      ],
      "text/plain": [
       "          alcohol  malic_acid         ash  alcalinity_of_ash   magnesium  \\\n",
       "count  178.000000  178.000000  178.000000         178.000000  178.000000   \n",
       "mean    13.000618    2.336348    2.366517          19.494944   99.741573   \n",
       "std      0.811827    1.117146    0.274344           3.339564   14.282484   \n",
       "min     11.030000    0.740000    1.360000          10.600000   70.000000   \n",
       "25%     12.362500    1.602500    2.210000          17.200000   88.000000   \n",
       "50%     13.050000    1.865000    2.360000          19.500000   98.000000   \n",
       "75%     13.677500    3.082500    2.557500          21.500000  107.000000   \n",
       "max     14.830000    5.800000    3.230000          30.000000  162.000000   \n",
       "\n",
       "       total_phenols  flavanoids  nonflavanoid_phenols  proanthocyanins  \\\n",
       "count     178.000000  178.000000            178.000000       178.000000   \n",
       "mean        2.295112    2.029270              0.361854         1.590899   \n",
       "std         0.625851    0.998859              0.124453         0.572359   \n",
       "min         0.980000    0.340000              0.130000         0.410000   \n",
       "25%         1.742500    1.205000              0.270000         1.250000   \n",
       "50%         2.355000    2.135000              0.340000         1.555000   \n",
       "75%         2.800000    2.875000              0.437500         1.950000   \n",
       "max         3.880000    5.080000              0.660000         3.580000   \n",
       "\n",
       "       color_intensity         hue  od280/od315_of_diluted_wines      proline  \n",
       "count       178.000000  178.000000                    178.000000   178.000000  \n",
       "mean          5.058090    0.957449                      2.611685   746.893258  \n",
       "std           2.318286    0.228572                      0.709990   314.907474  \n",
       "min           1.280000    0.480000                      1.270000   278.000000  \n",
       "25%           3.220000    0.782500                      1.937500   500.500000  \n",
       "50%           4.690000    0.965000                      2.780000   673.500000  \n",
       "75%           6.200000    1.120000                      3.170000   985.000000  \n",
       "max          13.000000    1.710000                      4.000000  1680.000000  "
      ]
     },
     "execution_count": 8,
     "metadata": {},
     "output_type": "execute_result"
    }
   ],
   "source": [
    "wine_X.describe()"
   ]
  },
  {
   "cell_type": "code",
   "execution_count": 9,
   "id": "4c2b80c4",
   "metadata": {},
   "outputs": [
    {
     "name": "stdout",
     "output_type": "stream",
     "text": [
      "<class 'pandas.core.frame.DataFrame'>\n",
      "RangeIndex: 178 entries, 0 to 177\n",
      "Data columns (total 13 columns):\n",
      " #   Column                        Non-Null Count  Dtype  \n",
      "---  ------                        --------------  -----  \n",
      " 0   alcohol                       178 non-null    float64\n",
      " 1   malic_acid                    178 non-null    float64\n",
      " 2   ash                           178 non-null    float64\n",
      " 3   alcalinity_of_ash             178 non-null    float64\n",
      " 4   magnesium                     178 non-null    float64\n",
      " 5   total_phenols                 178 non-null    float64\n",
      " 6   flavanoids                    178 non-null    float64\n",
      " 7   nonflavanoid_phenols          178 non-null    float64\n",
      " 8   proanthocyanins               178 non-null    float64\n",
      " 9   color_intensity               178 non-null    float64\n",
      " 10  hue                           178 non-null    float64\n",
      " 11  od280/od315_of_diluted_wines  178 non-null    float64\n",
      " 12  proline                       178 non-null    float64\n",
      "dtypes: float64(13)\n",
      "memory usage: 18.2 KB\n"
     ]
    }
   ],
   "source": [
    "wine_X.info()"
   ]
  },
  {
   "cell_type": "code",
   "execution_count": 10,
   "id": "4a6b4795",
   "metadata": {},
   "outputs": [
    {
     "data": {
      "image/png": "[encoded data removed]",
      "text/plain": [
       "<Figure size 1008x1008 with 16 Axes>"
      ]
     },
     "metadata": {
      "needs_background": "light"
     },
     "output_type": "display_data"
    }
   ],
   "source": [
    "wine_X.hist(figsize=(14,14), bins=30)\n",
    "plt.show()"
   ]
  },
  {
   "cell_type": "markdown",
   "id": "f0573574",
   "metadata": {},
   "source": [
    "### Preprocessing"
   ]
  },
  {
   "cell_type": "code",
   "execution_count": 11,
   "id": "16bfaa4f",
   "metadata": {},
   "outputs": [],
   "source": [
    "from sklearn.model_selection import train_test_split\n",
    "\n",
    "aparts_X_train, aparts_X_test, aparts_y_train, aparts_y_test = train_test_split(aparts_X, aparts_y, random_state = 123)\n",
    "wine_X_train, wine_X_test, wine_y_train, wine_y_test = train_test_split(wine_X, wine_y, random_state = 123, stratify = wine_y)"
   ]
  },
  {
   "cell_type": "code",
   "execution_count": 12,
   "id": "c7227708",
   "metadata": {},
   "outputs": [],
   "source": [
    "from sklearn.preprocessing import StandardScaler\n",
    "from sklearn.preprocessing import OneHotEncoder\n",
    "from sklearn.compose import ColumnTransformer\n",
    "\n",
    "preprocessing_aparts_with_scalling = ColumnTransformer([('onehot', OneHotEncoder(), ['district'])], remainder = StandardScaler())\n",
    "preprocessing_aparts = ColumnTransformer([('onehot', OneHotEncoder(), ['district'])], remainder = 'passthrough')\n",
    "\n",
    "preprocessing_wine_with_scalling = ColumnTransformer([('scaler', StandardScaler(), wine_X_train.columns)])\n",
    "preprocessing_wine = ColumnTransformer([], remainder = 'passthrough')"
   ]
  },
  {
   "cell_type": "markdown",
   "id": "a565ec23",
   "metadata": {},
   "source": [
    "### Models"
   ]
  },
  {
   "cell_type": "code",
   "execution_count": 13,
   "id": "e38a63a0",
   "metadata": {},
   "outputs": [],
   "source": [
    "from sklearn.svm import SVC\n",
    "from sklearn.svm import SVR\n",
    "from sklearn.pipeline import Pipeline\n",
    "\n",
    "aparts_scalling = Pipeline([\n",
    "    ('preprocess', preprocessing_aparts_with_scalling),\n",
    "    ('model', SVR())])\n",
    "\n",
    "aparts_no_scalling = Pipeline([\n",
    "    ('preprocess', preprocessing_aparts),\n",
    "    ('model', SVR())])\n",
    "\n",
    "wine_scalling = Pipeline([\n",
    "    ('preprocess', preprocessing_wine_with_scalling),\n",
    "    ('model', SVC(probability = True, random_state = 123))])\n",
    "\n",
    "wine_no_scalling = Pipeline([\n",
    "    ('preprocess', preprocessing_wine),\n",
    "    ('model', SVC(probability = True, random_state = 123))])"
   ]
  },
  {
   "cell_type": "code",
   "execution_count": 14,
   "id": "1341dd1f",
   "metadata": {},
   "outputs": [
    {
     "name": "stdout",
     "output_type": "stream",
     "text": [
      "Finished!\n"
     ]
    }
   ],
   "source": [
    "aparts_scalling.fit(aparts_X_train, aparts_y_train)\n",
    "aparts_no_scalling.fit(aparts_X_train, aparts_y_train)\n",
    "\n",
    "wine_scalling.fit(wine_X_train, wine_y_train)\n",
    "wine_no_scalling.fit(wine_X_train, wine_y_train)\n",
    "\n",
    "print(\"Finished!\")"
   ]
  },
  {
   "cell_type": "markdown",
   "id": "fdcca0fc",
   "metadata": {},
   "source": [
    "### Results"
   ]
  },
  {
   "cell_type": "code",
   "execution_count": 15,
   "id": "7a807201",
   "metadata": {},
   "outputs": [],
   "source": [
    "def print_results(clf_scaled, clf_not_scaled, \n",
    "                  X_train, X_test, y_train, y_test,\n",
    "                  dataset_name, predict_proba, metric_func, **kwargs):\n",
    "    \n",
    "    if predict_proba:\n",
    "        y_pred_train_scaled = clf_scaled.predict_proba(X_train)\n",
    "        y_pred_train_not_scaled = clf_not_scaled.predict_proba(X_train)\n",
    "        y_pred_test_scaled = clf_scaled.predict_proba(X_test)\n",
    "        y_pred_test_not_scaled = clf_not_scaled.predict_proba(X_test)\n",
    "    else:\n",
    "        y_pred_train_scaled = clf_scaled.predict(X_train)\n",
    "        y_pred_train_not_scaled = clf_not_scaled.predict(X_train)\n",
    "        y_pred_test_scaled = clf_scaled.predict(X_test)\n",
    "        y_pred_test_not_scaled = clf_not_scaled.predict(X_test)\n",
    "    \n",
    "    print(\"Metryka: \" + metric_func.__name__)\n",
    "    print(\"Dataset: \" + dataset_name)\n",
    "    print(\"Not scaled:\")\n",
    "    print(f\"    train score: {metric_func(y_train, y_pred_train_not_scaled, **kwargs)}\")\n",
    "    print(f\"    test score:  {metric_func(y_test, y_pred_test_not_scaled, **kwargs)}\")\n",
    "    print(\"Scaled:\")\n",
    "    print(f\"    train score: {metric_func(y_train, y_pred_train_scaled, **kwargs)}\")\n",
    "    print(f\"    test score:  {metric_func(y_test, y_pred_test_scaled, **kwargs)}\") "
   ]
  },
  {
   "cell_type": "code",
   "execution_count": 16,
   "id": "ec4ea0ca",
   "metadata": {},
   "outputs": [],
   "source": [
    "def print_results_aparts(metric_func, **kwargs):\n",
    "    print_results(aparts_scalling, aparts_no_scalling, aparts_X_train, aparts_X_test, aparts_y_train, aparts_y_test,\n",
    "             'aparts', False, metric_func, **kwargs)\n",
    "\n",
    "def print_results_wine(metric_func, predict_proba, **kwargs):\n",
    "    print_results(wine_scalling, wine_no_scalling, wine_X_train, wine_X_test, wine_y_train, wine_y_test,\n",
    "             'wine', predict_proba, metric_func, **kwargs)"
   ]
  },
  {
   "cell_type": "markdown",
   "id": "ef2785da",
   "metadata": {},
   "source": [
    "#### Apartaments"
   ]
  },
  {
   "cell_type": "code",
   "execution_count": 17,
   "id": "ffa22a0b",
   "metadata": {},
   "outputs": [
    {
     "name": "stdout",
     "output_type": "stream",
     "text": [
      "Metryka: mean_squared_error\n",
      "Dataset: aparts\n",
      "Not scaled:\n",
      "    train score: 913.3779805746185\n",
      "    test score:  904.3218443134921\n",
      "Scaled:\n",
      "    train score: 892.3816244515872\n",
      "    test score:  881.3495036958496\n"
     ]
    }
   ],
   "source": [
    "from sklearn.metrics import mean_squared_error as mse\n",
    "\n",
    "print_results_aparts(mse, squared = False)"
   ]
  },
  {
   "cell_type": "markdown",
   "id": "a3464e0e",
   "metadata": {},
   "source": [
    "Zmiana nie jest zbyt duża - różnica wynosi około $2-3\\%$. Jednakże, poprawienie wyniku, to zawsze poprawienie wyniku, co jest zawsze mile widziane :)"
   ]
  },
  {
   "cell_type": "markdown",
   "id": "ab3f89a2",
   "metadata": {},
   "source": [
    "#### Wine"
   ]
  },
  {
   "cell_type": "code",
   "execution_count": 18,
   "id": "349690b4",
   "metadata": {},
   "outputs": [
    {
     "name": "stdout",
     "output_type": "stream",
     "text": [
      "Metryka: roc_auc_score\n",
      "Dataset: wine\n",
      "Not scaled:\n",
      "    train score: 0.882184712725622\n",
      "    test score:  0.9138209253024069\n",
      "Scaled:\n",
      "    train score: 1.0\n",
      "    test score:  1.0\n"
     ]
    }
   ],
   "source": [
    "from sklearn.metrics import roc_auc_score\n",
    "\n",
    "print_results_wine(roc_auc_score, True, multi_class = 'ovr')"
   ]
  },
  {
   "cell_type": "code",
   "execution_count": 19,
   "id": "d8a6b6a1",
   "metadata": {},
   "outputs": [
    {
     "name": "stdout",
     "output_type": "stream",
     "text": [
      "Metryka: f1_score\n",
      "Dataset: wine\n",
      "Not scaled:\n",
      "    train score: 0.6081471348229215\n",
      "    test score:  0.6696705922512374\n",
      "Scaled:\n",
      "    train score: 1.0\n",
      "    test score:  0.9764982373678026\n"
     ]
    }
   ],
   "source": [
    "from sklearn.metrics import f1_score\n",
    "\n",
    "print_results_wine(f1_score, False, average = 'macro')"
   ]
  },
  {
   "cell_type": "markdown",
   "id": "471d38e7",
   "metadata": {},
   "source": [
    "Na tym zbiorze danych widać znaczącą poprawę wyników dzięki skalowaniu.\n",
    "\n",
    "Bez skalowania miara ROC AUC dała na zbiorze testowym wynik około $0.91$, natomiast miara F1 około $0.67$. \n",
    "\n",
    "W tym samym czasie, dane przeskalowane dały wynik (w wymienionych metrykach) $1$ lub bardzo blisko jedynki.\n",
    "\n",
    "Zatem faktycznie, w przypadku korzystania z modelu SVM, skalowanie danych jest bardzo ważne."
   ]
  },
  {
   "cell_type": "markdown",
   "id": "728eb0b2",
   "metadata": {},
   "source": [
    "### Random Search\n",
    "\n",
    "Parametry na podstawie artykułu https://jmlr.org/papers/volume20/18-444/18-444.pdf (Table 1)"
   ]
  },
  {
   "cell_type": "code",
   "execution_count": 20,
   "id": "ad08e8ee",
   "metadata": {},
   "outputs": [],
   "source": [
    "params_grid = {\n",
    "    'model__C' : 2 ** np.linspace(-10, 10, num = 20),\n",
    "    'model__gamma' : 2 ** np.linspace(-10, 10, num = 20),\n",
    "    'model__degree' : list(range(2, 5 + 1)),\n",
    "    'model__kernel': ['rbf']\n",
    "}"
   ]
  },
  {
   "cell_type": "code",
   "execution_count": 21,
   "id": "51a8cc34",
   "metadata": {},
   "outputs": [
    {
     "name": "stdout",
     "output_type": "stream",
     "text": [
      "Fitting 3 folds for each of 200 candidates, totalling 600 fits\n",
      "Fitting 3 folds for each of 200 candidates, totalling 600 fits\n",
      "Fitting 3 folds for each of 200 candidates, totalling 600 fits\n",
      "Fitting 3 folds for each of 200 candidates, totalling 600 fits\n",
      "Finished!\n"
     ]
    }
   ],
   "source": [
    "from sklearn.model_selection import RandomizedSearchCV\n",
    "\n",
    "aparts_search_scalling = RandomizedSearchCV(aparts_scalling, param_distributions = params_grid, cv = 3,\n",
    "                                  scoring ='neg_root_mean_squared_error', n_iter = 200, n_jobs = -1, verbose = 2, random_state = 123)\n",
    "\n",
    "aparts_search_no_scalling = RandomizedSearchCV(aparts_no_scalling, param_distributions = params_grid, cv = 3,\n",
    "                                  scoring ='neg_root_mean_squared_error', n_iter = 200, n_jobs = -1, verbose = 2, random_state = 123)\n",
    "\n",
    "wine_search_scalling = RandomizedSearchCV(wine_scalling, param_distributions = params_grid, cv = 3,\n",
    "                                  scoring ='f1_macro', n_iter = 200, n_jobs = -1, verbose = 2, random_state = 123)\n",
    "                                               \n",
    "wine_search_no_scalling = RandomizedSearchCV(wine_no_scalling, param_distributions = params_grid, cv = 3,\n",
    "                                  scoring ='f1_macro', n_iter = 200, n_jobs = -1, verbose = 2, random_state = 123)\n",
    "\n",
    "aparts_search_scalling.fit(aparts_X_train, aparts_y_train)\n",
    "aparts_search_no_scalling.fit(aparts_X_train, aparts_y_train)\n",
    "                                               \n",
    "wine_search_scalling.fit(wine_X_train, wine_y_train)\n",
    "wine_search_no_scalling.fit(wine_X_train, wine_y_train)\n",
    "\n",
    "print(\"Finished!\")"
   ]
  },
  {
   "cell_type": "markdown",
   "id": "cc33741f",
   "metadata": {},
   "source": [
    "### Tunning results"
   ]
  },
  {
   "cell_type": "code",
   "execution_count": 22,
   "id": "600aef8f",
   "metadata": {},
   "outputs": [
    {
     "name": "stdout",
     "output_type": "stream",
     "text": [
      "Default hyperparameters for aparts scaled:     {'kernel': 'rbf', 'gamma': 'scale', 'degree': 3, 'C': 1.0}\n",
      "Default hyperparameters for aparts not scaled: {'kernel': 'rbf', 'gamma': 'scale', 'degree': 3, 'C': 1.0}\n",
      "\n",
      "Default hyperparameters for wine scaled:       {'kernel': 'rbf', 'gamma': 'scale', 'degree': 3, 'C': 1.0}\n",
      "Default hyperparameters for wine not scaled:   {'kernel': 'rbf', 'gamma': 'scale', 'degree': 3, 'C': 1.0}\n"
     ]
    }
   ],
   "source": [
    "def select_params_to_print(dictionary):\n",
    "    d_out = {}\n",
    "    params = ['kernel', 'gamma', 'degree', 'C']\n",
    "    for p in params:\n",
    "        d_out[p] = dictionary.get(p)\n",
    "    return d_out\n",
    "\n",
    "print(f\"Default hyperparameters for aparts scaled:     {select_params_to_print(aparts_scalling.steps[1][1].get_params())}\")\n",
    "print(f\"Default hyperparameters for aparts not scaled: {select_params_to_print(aparts_no_scalling.steps[1][1].get_params())}\")\n",
    "print(\"\")\n",
    "print(f\"Default hyperparameters for wine scaled:       {select_params_to_print(wine_scalling.steps[1][1].get_params())}\")\n",
    "print(f\"Default hyperparameters for wine not scaled:   {select_params_to_print(wine_no_scalling.steps[1][1].get_params())}\")"
   ]
  },
  {
   "cell_type": "code",
   "execution_count": 23,
   "id": "d9c25eeb",
   "metadata": {},
   "outputs": [],
   "source": [
    "def print_results_aparts_tunned(metric_func, **kwargs):\n",
    "    print_results(aparts_search_scalling.best_estimator_, aparts_search_no_scalling.best_estimator_, aparts_X_train, aparts_X_test, aparts_y_train, aparts_y_test,\n",
    "             'aparts', False, metric_func, **kwargs)\n",
    "\n",
    "def print_results_wine_tunned(metric_func, predict_proba, **kwargs):\n",
    "    print_results(wine_search_scalling.best_estimator_, wine_search_no_scalling.best_estimator_, wine_X_train, wine_X_test, wine_y_train, wine_y_test,\n",
    "             'wine', predict_proba, metric_func, **kwargs)"
   ]
  },
  {
   "cell_type": "markdown",
   "id": "e87cccfe",
   "metadata": {},
   "source": [
    "#### Apartaments"
   ]
  },
  {
   "cell_type": "code",
   "execution_count": 24,
   "id": "c6728986",
   "metadata": {},
   "outputs": [
    {
     "name": "stdout",
     "output_type": "stream",
     "text": [
      "Best params for aparts not scaled: {'model__kernel': 'rbf', 'model__gamma': 0.0020256934461839685, 'model__degree': 2, 'model__C': 1024.0}\n",
      "Best params for aparts scaled:     {'model__kernel': 'rbf', 'model__gamma': 0.07779328684150147, 'model__degree': 5, 'model__C': 493.658110946557}\n"
     ]
    }
   ],
   "source": [
    "print(f\"Best params for aparts not scaled: {aparts_search_no_scalling.best_params_}\")\n",
    "print(f\"Best params for aparts scaled:     {aparts_search_scalling.best_params_}\")"
   ]
  },
  {
   "cell_type": "code",
   "execution_count": 25,
   "id": "f118fd47",
   "metadata": {},
   "outputs": [
    {
     "name": "stdout",
     "output_type": "stream",
     "text": [
      "Metryka: mean_squared_error\n",
      "Dataset: aparts\n",
      "Not scaled:\n",
      "    train score: 682.8727207672699\n",
      "    test score:  710.0423232129689\n",
      "Scaled:\n",
      "    train score: 169.14285474177484\n",
      "    test score:  168.67407374811353\n"
     ]
    }
   ],
   "source": [
    "print_results_aparts_tunned(mse, squared = False)"
   ]
  },
  {
   "cell_type": "markdown",
   "id": "d9a19647",
   "metadata": {},
   "source": [
    "#### Wine"
   ]
  },
  {
   "cell_type": "code",
   "execution_count": 26,
   "id": "9bfda477",
   "metadata": {},
   "outputs": [
    {
     "name": "stdout",
     "output_type": "stream",
     "text": [
      "Best params for wine not scaled:   {'model__kernel': 'rbf', 'model__gamma': 0.0009765625, 'model__degree': 2, 'model__C': 12.854579625070118}\n",
      "Best params for wine scaled:       {'model__kernel': 'rbf', 'model__gamma': 0.03750320998681571, 'model__degree': 5, 'model__C': 0.6943255713073277}\n"
     ]
    }
   ],
   "source": [
    "print(f\"Best params for wine not scaled:   {wine_search_no_scalling.best_params_}\")\n",
    "print(f\"Best params for wine scaled:       {wine_search_scalling.best_params_}\")"
   ]
  },
  {
   "cell_type": "code",
   "execution_count": 27,
   "id": "3e13441e",
   "metadata": {},
   "outputs": [
    {
     "name": "stdout",
     "output_type": "stream",
     "text": [
      "Metryka: roc_auc_score\n",
      "Dataset: wine\n",
      "Not scaled:\n",
      "    train score: 0.9996181748759069\n",
      "    test score:  0.9363761067464772\n",
      "Scaled:\n",
      "    train score: 1.0\n",
      "    test score:  1.0\n"
     ]
    }
   ],
   "source": [
    "print_results_wine_tunned(roc_auc_score, True, multi_class = 'ovr')"
   ]
  },
  {
   "cell_type": "code",
   "execution_count": 28,
   "id": "86492497",
   "metadata": {},
   "outputs": [
    {
     "name": "stdout",
     "output_type": "stream",
     "text": [
      "Metryka: f1_score\n",
      "Dataset: wine\n",
      "Not scaled:\n",
      "    train score: 0.9916023723298167\n",
      "    test score:  0.8220491904585341\n",
      "Scaled:\n",
      "    train score: 1.0\n",
      "    test score:  1.0\n"
     ]
    }
   ],
   "source": [
    "print_results_wine_tunned(f1_score, False, average = 'macro')"
   ]
  },
  {
   "cell_type": "markdown",
   "id": "ea7bb0a9",
   "metadata": {},
   "source": [
    "### Podsumowanie\n",
    "\n",
    "Tunningowanie hiperparametrów odniosło dobry efekt.\n",
    "\n",
    "W przypadku zbioru **aparts** błąd średniokwadratowy na przeskalowanych danych spadł z około $880$ do $160$ na zbiorze testowym. Modele na nieprzeskalowanych danych również polepszyły swój wynik, jednak nie tak bardzo (z około $900$ na $710$).\n",
    "\n",
    "W przypadku zbioru **wine** wynik uzyskany na domyślnych parametrach na przeskalowanych danych był bardzo zadowlający: miara ROC AUC dała wynik $1$, natomiast F1 około $0.98$. Po tunningowaniu, model końcowy osiagnął jeszcze lepszy wynik: w przypadku obu miar był to wynik $1.0$. W przypadku tego zbioru optymalizacja w Random Searchu odbywała się według miary F1, ponieważ ROC AUC już wcześniej osiągnął najwyższą możliwą wartość, czyli $1.0$.\n",
    "\n",
    "Po tunningowaniu poprawiły się również parametry modeli działających na nieprzeskalowanych danych **wine**. Jednakże, w tym przypadku mogło dojść do overfittingu: wynik na zbiorze testowym ma prawie najwyższą możliwą wartość (około $0.99$), natomiast wynik na zbiorze testowym jest znacznie niższy."
   ]
  }
 ],
 "metadata": {
  "kernelspec": {
   "display_name": "Python 3",
   "language": "python",
   "name": "python3"
  },
  "language_info": {
   "codemirror_mode": {
    "name": "ipython",
    "version": 3
   },
   "file_extension": ".py",
   "mimetype": "text/x-python",
   "name": "python",
   "nbconvert_exporter": "python",
   "pygments_lexer": "ipython3",
   "version": "3.7.10"
  }
 },
 "nbformat": 4,
 "nbformat_minor": 5
}
