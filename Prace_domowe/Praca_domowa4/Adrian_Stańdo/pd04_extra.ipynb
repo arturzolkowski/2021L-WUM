{
 "cells": [
  {
   "cell_type": "markdown",
   "id": "1e05afe4",
   "metadata": {},
   "source": [
    "# Praca domowa 4 - zadanie dodatkowe\n",
    "\n",
    "### Wczytanie danych"
   ]
  },
  {
   "cell_type": "code",
   "execution_count": 1,
   "id": "898439ca",
   "metadata": {},
   "outputs": [],
   "source": [
    "import pandas as pd\n",
    "import numpy as np\n",
    "\n",
    "import warnings\n",
    "warnings.filterwarnings('ignore')"
   ]
  },
  {
   "cell_type": "code",
   "execution_count": 2,
   "id": "52f68bab",
   "metadata": {},
   "outputs": [],
   "source": [
    "df = pd.read_csv(\"allegro-api-transactions.csv\")\n",
    "df = df[['main_category', 'categories', 'it_location', 'price']]"
   ]
  },
  {
   "cell_type": "code",
   "execution_count": 3,
   "id": "fef2566e",
   "metadata": {},
   "outputs": [],
   "source": [
    "X = df.drop('price', axis = 1)\n",
    "y = df.price"
   ]
  },
  {
   "cell_type": "code",
   "execution_count": 4,
   "id": "79f93807",
   "metadata": {},
   "outputs": [
    {
     "data": {
      "text/plain": [
       "main_category       27\n",
       "categories        9020\n",
       "it_location      10056\n",
       "dtype: int64"
      ]
     },
     "execution_count": 4,
     "metadata": {},
     "output_type": "execute_result"
    }
   ],
   "source": [
    "X.nunique()"
   ]
  },
  {
   "cell_type": "code",
   "execution_count": 5,
   "id": "185c4ecd",
   "metadata": {},
   "outputs": [
    {
     "data": {
      "text/plain": [
       "(420020, 3)"
      ]
     },
     "execution_count": 5,
     "metadata": {},
     "output_type": "execute_result"
    }
   ],
   "source": [
    "X.shape"
   ]
  },
  {
   "cell_type": "code",
   "execution_count": 6,
   "id": "62fca91d",
   "metadata": {},
   "outputs": [
    {
     "data": {
      "text/html": [
       "<div>\n",
       "<style scoped>\n",
       "    .dataframe tbody tr th:only-of-type {\n",
       "        vertical-align: middle;\n",
       "    }\n",
       "\n",
       "    .dataframe tbody tr th {\n",
       "        vertical-align: top;\n",
       "    }\n",
       "\n",
       "    .dataframe thead th {\n",
       "        text-align: right;\n",
       "    }\n",
       "</style>\n",
       "<table border=\"1\" class=\"dataframe\">\n",
       "  <thead>\n",
       "    <tr style=\"text-align: right;\">\n",
       "      <th></th>\n",
       "      <th>main_category</th>\n",
       "      <th>categories</th>\n",
       "      <th>it_location</th>\n",
       "    </tr>\n",
       "  </thead>\n",
       "  <tbody>\n",
       "    <tr>\n",
       "      <th>0</th>\n",
       "      <td>Komputery</td>\n",
       "      <td>['Komputery', 'Dyski i napędy', 'Nośniki', 'No...</td>\n",
       "      <td>Warszawa</td>\n",
       "    </tr>\n",
       "    <tr>\n",
       "      <th>1</th>\n",
       "      <td>Odzież, Obuwie, Dodatki</td>\n",
       "      <td>['Odzież, Obuwie, Dodatki', 'Bielizna damska',...</td>\n",
       "      <td>Warszawa</td>\n",
       "    </tr>\n",
       "    <tr>\n",
       "      <th>2</th>\n",
       "      <td>Dom i Ogród</td>\n",
       "      <td>['Dom i Ogród', 'Budownictwo i Akcesoria', 'Śc...</td>\n",
       "      <td>Leszno</td>\n",
       "    </tr>\n",
       "    <tr>\n",
       "      <th>3</th>\n",
       "      <td>Książki i Komiksy</td>\n",
       "      <td>['Książki i Komiksy', 'Poradniki i albumy', 'Z...</td>\n",
       "      <td>Wola Krzysztoporska</td>\n",
       "    </tr>\n",
       "    <tr>\n",
       "      <th>4</th>\n",
       "      <td>Odzież, Obuwie, Dodatki</td>\n",
       "      <td>['Odzież, Obuwie, Dodatki', 'Ślub i wesele', '...</td>\n",
       "      <td>BIAŁYSTOK</td>\n",
       "    </tr>\n",
       "  </tbody>\n",
       "</table>\n",
       "</div>"
      ],
      "text/plain": [
       "             main_category                                         categories  \\\n",
       "0                Komputery  ['Komputery', 'Dyski i napędy', 'Nośniki', 'No...   \n",
       "1  Odzież, Obuwie, Dodatki  ['Odzież, Obuwie, Dodatki', 'Bielizna damska',...   \n",
       "2              Dom i Ogród  ['Dom i Ogród', 'Budownictwo i Akcesoria', 'Śc...   \n",
       "3        Książki i Komiksy  ['Książki i Komiksy', 'Poradniki i albumy', 'Z...   \n",
       "4  Odzież, Obuwie, Dodatki  ['Odzież, Obuwie, Dodatki', 'Ślub i wesele', '...   \n",
       "\n",
       "           it_location  \n",
       "0             Warszawa  \n",
       "1             Warszawa  \n",
       "2               Leszno  \n",
       "3  Wola Krzysztoporska  \n",
       "4            BIAŁYSTOK  "
      ]
     },
     "execution_count": 6,
     "metadata": {},
     "output_type": "execute_result"
    }
   ],
   "source": [
    "X.head()"
   ]
  },
  {
   "cell_type": "code",
   "execution_count": 7,
   "id": "8858d1a2",
   "metadata": {},
   "outputs": [],
   "source": [
    "X['it_location'] = X['it_location'].apply(lambda x: x.lower())"
   ]
  },
  {
   "cell_type": "code",
   "execution_count": 8,
   "id": "0efc2372",
   "metadata": {},
   "outputs": [
    {
     "data": {
      "text/plain": [
       "main_category      27\n",
       "categories       9020\n",
       "it_location      7903\n",
       "dtype: int64"
      ]
     },
     "execution_count": 8,
     "metadata": {},
     "output_type": "execute_result"
    }
   ],
   "source": [
    "X.nunique()"
   ]
  },
  {
   "cell_type": "code",
   "execution_count": 9,
   "id": "b5d724ee",
   "metadata": {},
   "outputs": [
    {
     "data": {
      "text/html": [
       "<div>\n",
       "<style scoped>\n",
       "    .dataframe tbody tr th:only-of-type {\n",
       "        vertical-align: middle;\n",
       "    }\n",
       "\n",
       "    .dataframe tbody tr th {\n",
       "        vertical-align: top;\n",
       "    }\n",
       "\n",
       "    .dataframe thead th {\n",
       "        text-align: right;\n",
       "    }\n",
       "</style>\n",
       "<table border=\"1\" class=\"dataframe\">\n",
       "  <thead>\n",
       "    <tr style=\"text-align: right;\">\n",
       "      <th></th>\n",
       "      <th>main_category</th>\n",
       "      <th>categories</th>\n",
       "      <th>it_location</th>\n",
       "    </tr>\n",
       "  </thead>\n",
       "  <tbody>\n",
       "    <tr>\n",
       "      <th>0</th>\n",
       "      <td>Komputery</td>\n",
       "      <td>['Komputery', 'Dyski i napędy', 'Nośniki', 'No...</td>\n",
       "      <td>warszawa</td>\n",
       "    </tr>\n",
       "    <tr>\n",
       "      <th>1</th>\n",
       "      <td>Odzież, Obuwie, Dodatki</td>\n",
       "      <td>['Odzież, Obuwie, Dodatki', 'Bielizna damska',...</td>\n",
       "      <td>warszawa</td>\n",
       "    </tr>\n",
       "    <tr>\n",
       "      <th>2</th>\n",
       "      <td>Dom i Ogród</td>\n",
       "      <td>['Dom i Ogród', 'Budownictwo i Akcesoria', 'Śc...</td>\n",
       "      <td>leszno</td>\n",
       "    </tr>\n",
       "    <tr>\n",
       "      <th>3</th>\n",
       "      <td>Książki i Komiksy</td>\n",
       "      <td>['Książki i Komiksy', 'Poradniki i albumy', 'Z...</td>\n",
       "      <td>wola krzysztoporska</td>\n",
       "    </tr>\n",
       "    <tr>\n",
       "      <th>4</th>\n",
       "      <td>Odzież, Obuwie, Dodatki</td>\n",
       "      <td>['Odzież, Obuwie, Dodatki', 'Ślub i wesele', '...</td>\n",
       "      <td>białystok</td>\n",
       "    </tr>\n",
       "  </tbody>\n",
       "</table>\n",
       "</div>"
      ],
      "text/plain": [
       "             main_category                                         categories  \\\n",
       "0                Komputery  ['Komputery', 'Dyski i napędy', 'Nośniki', 'No...   \n",
       "1  Odzież, Obuwie, Dodatki  ['Odzież, Obuwie, Dodatki', 'Bielizna damska',...   \n",
       "2              Dom i Ogród  ['Dom i Ogród', 'Budownictwo i Akcesoria', 'Śc...   \n",
       "3        Książki i Komiksy  ['Książki i Komiksy', 'Poradniki i albumy', 'Z...   \n",
       "4  Odzież, Obuwie, Dodatki  ['Odzież, Obuwie, Dodatki', 'Ślub i wesele', '...   \n",
       "\n",
       "           it_location  \n",
       "0             warszawa  \n",
       "1             warszawa  \n",
       "2               leszno  \n",
       "3  wola krzysztoporska  \n",
       "4            białystok  "
      ]
     },
     "execution_count": 9,
     "metadata": {},
     "output_type": "execute_result"
    }
   ],
   "source": [
    "X.head()"
   ]
  },
  {
   "cell_type": "code",
   "execution_count": 10,
   "id": "f1ef4d67",
   "metadata": {},
   "outputs": [],
   "source": [
    "from sklearn.model_selection import train_test_split\n",
    "X_train, X_test, y_train, y_test = train_test_split(X, y, random_state = 123)"
   ]
  },
  {
   "cell_type": "markdown",
   "id": "73caa111",
   "metadata": {},
   "source": [
    "### Target encoding\n",
    "\n",
    "Jednym z parametrów target encodingu jest smoothing. \n",
    "\n",
    "Pomaga on zapobiec przeuczeniu, jest on użyteczny w następującym przypadku: mamy kategorię, która przykładowo pojawia się tylko dwukrotnie w całym zbiorze. Opieranie predykcji na średniej z tych dwóch wyników jest bardziej narażone na overfitting niż w przypadku, gdy dla danej kategorii mamy 1000 obserwacji. Dlatego używa się wspomnianego parametru smoothing: w wyliczanej średniej uwzględniana jest wtedy średnia całego zbioru. Wartość tego parametru to waga, jaką przypisuje się  ogólnej średniej."
   ]
  },
  {
   "cell_type": "markdown",
   "id": "2664061e",
   "metadata": {},
   "source": [
    "#### LinearRegression"
   ]
  },
  {
   "cell_type": "code",
   "execution_count": 11,
   "id": "432b95d0",
   "metadata": {},
   "outputs": [],
   "source": [
    "from sklearn.pipeline import Pipeline\n",
    "from sklearn.linear_model import LinearRegression\n",
    "import category_encoders as ce\n",
    "\n",
    "pipe1 = Pipeline([\n",
    "    ('target_encoding', ce.TargetEncoder(smoothing = 20)),\n",
    "    ('model', LinearRegression())\n",
    "])"
   ]
  },
  {
   "cell_type": "code",
   "execution_count": 12,
   "id": "21d94591",
   "metadata": {},
   "outputs": [
    {
     "name": "stdout",
     "output_type": "stream",
     "text": [
      "Finished!\n"
     ]
    }
   ],
   "source": [
    "pipe1.fit(X_train, y_train)\n",
    "print(\"Finished!\")"
   ]
  },
  {
   "cell_type": "code",
   "execution_count": 13,
   "id": "e1cf92d1",
   "metadata": {},
   "outputs": [
    {
     "data": {
      "text/plain": [
       "540.1465349761147"
      ]
     },
     "execution_count": 13,
     "metadata": {},
     "output_type": "execute_result"
    }
   ],
   "source": [
    "from sklearn.metrics import mean_squared_error as rmse\n",
    "\n",
    "rmse(y_test, pipe1.predict(X_test), squared = False)"
   ]
  },
  {
   "cell_type": "code",
   "execution_count": 14,
   "id": "47e12892",
   "metadata": {},
   "outputs": [
    {
     "name": "stdout",
     "output_type": "stream",
     "text": [
      "Wspołczynniki modelu: [0.01023362 1.18312479 0.40704812]\n"
     ]
    }
   ],
   "source": [
    "print(f\"Wspołczynniki modelu: {pipe1.steps[1][1].coef_}\")"
   ]
  },
  {
   "cell_type": "markdown",
   "id": "7308ce43",
   "metadata": {},
   "source": [
    "### Regularyzacja\n",
    "\n",
    "Do regularyzacji zastosuję dwa modele liniowe: **Lasso** i **Ridge**. Obie metody dbają o to, by normy wartości współczynników były mniejsze: w ich funkcji straty normy wyznaczanonych współczynników są fragmentem sumy. W przypadku **Ridge** norma występuje w kwadracie, natomiast w przypadku **Lasso** jest to po prostu norma. Każda z tych wartości jest mnożona przez perparametr **alpha**, który jest hiperparametrem modelu."
   ]
  },
  {
   "cell_type": "markdown",
   "id": "53e6e160",
   "metadata": {},
   "source": [
    "#### Lasso"
   ]
  },
  {
   "cell_type": "code",
   "execution_count": 15,
   "id": "e17fea41",
   "metadata": {},
   "outputs": [],
   "source": [
    "from sklearn.linear_model import Lasso\n",
    "\n",
    "pipe2 = Pipeline([\n",
    "    ('target_encoding', ce.TargetEncoder(smoothing = 20)),\n",
    "    ('model', Lasso(alpha = 20))\n",
    "])"
   ]
  },
  {
   "cell_type": "code",
   "execution_count": 16,
   "id": "5abe2503",
   "metadata": {},
   "outputs": [
    {
     "name": "stdout",
     "output_type": "stream",
     "text": [
      "Finished!\n"
     ]
    }
   ],
   "source": [
    "pipe2.fit(X_train, y_train)\n",
    "print(\"Finished!\")"
   ]
  },
  {
   "cell_type": "code",
   "execution_count": 17,
   "id": "a607306d",
   "metadata": {},
   "outputs": [
    {
     "data": {
      "text/plain": [
       "540.1485431661094"
      ]
     },
     "execution_count": 17,
     "metadata": {},
     "output_type": "execute_result"
    }
   ],
   "source": [
    "rmse(y_test, pipe2.predict(X_test), squared = False)"
   ]
  },
  {
   "cell_type": "code",
   "execution_count": 18,
   "id": "9cc1af06",
   "metadata": {},
   "outputs": [
    {
     "name": "stdout",
     "output_type": "stream",
     "text": [
      "Wspołczynniki modelu: [0.         1.18319441 0.40078774]\n"
     ]
    }
   ],
   "source": [
    "print(f\"Wspołczynniki modelu: {pipe2.steps[1][1].coef_}\")"
   ]
  },
  {
   "cell_type": "markdown",
   "id": "c7f9db54",
   "metadata": {},
   "source": [
    "#### Ridge"
   ]
  },
  {
   "cell_type": "code",
   "execution_count": 19,
   "id": "ad710555",
   "metadata": {},
   "outputs": [],
   "source": [
    "from sklearn.linear_model import Ridge\n",
    "\n",
    "pipe3 = Pipeline([\n",
    "    ('target_encoding', ce.TargetEncoder(smoothing = 20)),\n",
    "    ('model', Ridge(alpha = 20))\n",
    "])"
   ]
  },
  {
   "cell_type": "code",
   "execution_count": 20,
   "id": "45a25767",
   "metadata": {},
   "outputs": [
    {
     "name": "stdout",
     "output_type": "stream",
     "text": [
      "Finished!\n"
     ]
    }
   ],
   "source": [
    "pipe3.fit(X_train, y_train)\n",
    "print(\"Finished!\")"
   ]
  },
  {
   "cell_type": "code",
   "execution_count": 21,
   "id": "d8e6a689",
   "metadata": {},
   "outputs": [
    {
     "data": {
      "text/plain": [
       "540.1465349655437"
      ]
     },
     "execution_count": 21,
     "metadata": {},
     "output_type": "execute_result"
    }
   ],
   "source": [
    "rmse(y_test, pipe3.predict(X_test), squared = False)"
   ]
  },
  {
   "cell_type": "code",
   "execution_count": 22,
   "id": "58e2dd29",
   "metadata": {},
   "outputs": [
    {
     "name": "stdout",
     "output_type": "stream",
     "text": [
      "Wspołczynniki modelu: [0.01023362 1.18312479 0.40704811]\n"
     ]
    }
   ],
   "source": [
    "print(f\"Wspołczynniki modelu: {pipe3.steps[1][1].coef_}\")"
   ]
  },
  {
   "cell_type": "markdown",
   "id": "29401115",
   "metadata": {},
   "source": [
    "Zauważmy, że **Lasso** wyzerował pierwszą kolumnę. Wydaje się to logiczne, że ta kolumna ma najmniejsze znaczenie. Wskazuje ona główną kategorię, która musi już być w pewien sposób zakodowana przez kolumnę categories (kolumna categories, która zawiera więcej niż jedną kategorię, dokładniej wskazuje rodzaj produktu niż tylko jedna, główna kategoria).\n",
    "\n",
    "Wszystkie trzy modele wymienione wyżej osiągnęły bardzo podobny błąd RMSE. Współczynniki **Ridge** oraz zwyczajnej **regresji liniowej** są również bardzo podobne (prawie identyczne). Wartości współczynników **Lasso** również są podobne, z tą różnicą (co wcześniej napisałem), że jedna kolumna została wyzerowana."
   ]
  },
  {
   "cell_type": "markdown",
   "id": "c525a462",
   "metadata": {},
   "source": [
    "### Random Forest Regressor"
   ]
  },
  {
   "cell_type": "code",
   "execution_count": 23,
   "id": "7c8c188e",
   "metadata": {},
   "outputs": [],
   "source": [
    "from sklearn.ensemble import RandomForestRegressor\n",
    "\n",
    "pipe4 = Pipeline([\n",
    "    ('target_encoding', ce.TargetEncoder(smoothing = 20)),\n",
    "    ('model', RandomForestRegressor(n_jobs = -1, random_state = 123))\n",
    "])"
   ]
  },
  {
   "cell_type": "code",
   "execution_count": 24,
   "id": "10c402b7",
   "metadata": {},
   "outputs": [
    {
     "name": "stdout",
     "output_type": "stream",
     "text": [
      "Finished!\n"
     ]
    }
   ],
   "source": [
    "pipe4.fit(X_train, y_train)\n",
    "print(\"Finished!\")"
   ]
  },
  {
   "cell_type": "code",
   "execution_count": 25,
   "id": "dfc97b82",
   "metadata": {},
   "outputs": [
    {
     "data": {
      "text/plain": [
       "516.1378548895078"
      ]
     },
     "execution_count": 25,
     "metadata": {},
     "output_type": "execute_result"
    }
   ],
   "source": [
    "rmse(y_test, pipe4.predict(X_test), squared = False)"
   ]
  },
  {
   "cell_type": "markdown",
   "id": "fd7dfc5d",
   "metadata": {},
   "source": [
    "### XGBoost Regressor"
   ]
  },
  {
   "cell_type": "code",
   "execution_count": 26,
   "id": "b3441129",
   "metadata": {},
   "outputs": [],
   "source": [
    "import xgboost as xgb\n",
    "\n",
    "pipe5 = Pipeline([\n",
    "    ('target_encoding', ce.TargetEncoder(smoothing = 20)),\n",
    "    ('model', xgb.XGBRegressor(n_jobs = -1, random_state = 123))\n",
    "])"
   ]
  },
  {
   "cell_type": "code",
   "execution_count": 27,
   "id": "d26a5080",
   "metadata": {},
   "outputs": [
    {
     "name": "stdout",
     "output_type": "stream",
     "text": [
      "Finished!\n"
     ]
    }
   ],
   "source": [
    "pipe5.fit(X_train, y_train)\n",
    "print(\"Finished!\")"
   ]
  },
  {
   "cell_type": "code",
   "execution_count": 28,
   "id": "7cbb480c",
   "metadata": {},
   "outputs": [
    {
     "data": {
      "text/plain": [
       "504.0022544433332"
      ]
     },
     "execution_count": 28,
     "metadata": {},
     "output_type": "execute_result"
    }
   ],
   "source": [
    "rmse(y_test, pipe5.predict(X_test), squared = False)"
   ]
  },
  {
   "cell_type": "markdown",
   "id": "d62a6987",
   "metadata": {},
   "source": [
    "Zanim przejdę do wyboru najlepszego modelu, sprawdzę jeszcze jak wszystkie cztery modele radzą sobie bez pierwszej kolumny (którą **Lasso** wyzerowało)."
   ]
  },
  {
   "cell_type": "code",
   "execution_count": 29,
   "id": "036fb4b9",
   "metadata": {},
   "outputs": [],
   "source": [
    "from sklearn.compose import ColumnTransformer\n",
    "\n",
    "selector = Pipeline([\n",
    "    (\"selector\", ColumnTransformer([(\"selector\", \"passthrough\", ['categories', 'it_location'])], remainder = \"drop\"))\n",
    "])"
   ]
  },
  {
   "cell_type": "markdown",
   "id": "c7206864",
   "metadata": {},
   "source": [
    "#### Linear Regression"
   ]
  },
  {
   "cell_type": "code",
   "execution_count": 30,
   "id": "c1170e13",
   "metadata": {},
   "outputs": [
    {
     "name": "stdout",
     "output_type": "stream",
     "text": [
      "RMSE: 540.1503657822451\n",
      "Wspołczynniki modelu: [1.18359003 0.40730326]\n"
     ]
    }
   ],
   "source": [
    "pipe1a = Pipeline([\n",
    "    ('target_encoding', ce.TargetEncoder(smoothing = 20)),\n",
    "    ('selector', selector),\n",
    "    ('model', LinearRegression())\n",
    "])\n",
    "\n",
    "pipe1a.fit(X_train, y_train)\n",
    "\n",
    "print(f\"RMSE: {rmse(y_test, pipe1a.predict(X_test), squared = False)}\")\n",
    "print(f\"Wspołczynniki modelu: {pipe1a.steps[2][1].coef_}\")"
   ]
  },
  {
   "cell_type": "markdown",
   "id": "83cc5bef",
   "metadata": {},
   "source": [
    "#### Lasso"
   ]
  },
  {
   "cell_type": "code",
   "execution_count": 31,
   "id": "32c5ac33",
   "metadata": {},
   "outputs": [
    {
     "name": "stdout",
     "output_type": "stream",
     "text": [
      "RMSE: 540.1485374359431\n",
      "Wspołczynniki modelu: [1.18319133 0.40078997]\n"
     ]
    }
   ],
   "source": [
    "pipe2a = Pipeline([\n",
    "    ('target_encoding', ce.TargetEncoder(smoothing = 20)),\n",
    "    ('selector', selector),\n",
    "    ('model', Lasso(alpha = 20))\n",
    "])\n",
    "\n",
    "pipe2a.fit(X_train, y_train)\n",
    "\n",
    "print(f\"RMSE: {rmse(y_test, pipe2a.predict(X_test), squared = False)}\")\n",
    "print(f\"Wspołczynniki modelu: {pipe2a.steps[2][1].coef_}\")"
   ]
  },
  {
   "cell_type": "markdown",
   "id": "e9773ec0",
   "metadata": {},
   "source": [
    "#### Ridge"
   ]
  },
  {
   "cell_type": "code",
   "execution_count": 32,
   "id": "9a94b910",
   "metadata": {},
   "outputs": [
    {
     "name": "stdout",
     "output_type": "stream",
     "text": [
      "RMSE: 540.150365773021\n",
      "Wspołczynniki modelu: [1.18359003 0.40730326]\n"
     ]
    }
   ],
   "source": [
    "pipe3a = Pipeline([\n",
    "    ('target_encoding', ce.TargetEncoder(smoothing = 20)),\n",
    "    ('selector', selector),\n",
    "    ('model', Ridge(alpha = 20))\n",
    "])\n",
    "\n",
    "pipe3a.fit(X_train, y_train)\n",
    "\n",
    "print(f\"RMSE: {rmse(y_test, pipe3a.predict(X_test), squared = False)}\")\n",
    "print(f\"Wspołczynniki modelu: {pipe3a.steps[2][1].coef_}\")"
   ]
  },
  {
   "cell_type": "markdown",
   "id": "f5fa66a2",
   "metadata": {},
   "source": [
    "#### Random Forest Regressor"
   ]
  },
  {
   "cell_type": "code",
   "execution_count": 33,
   "id": "2f7a6265",
   "metadata": {},
   "outputs": [
    {
     "name": "stdout",
     "output_type": "stream",
     "text": [
      "RMSE: 535.1622701904357\n"
     ]
    }
   ],
   "source": [
    "pipe4a = Pipeline([\n",
    "    ('target_encoding', ce.TargetEncoder(smoothing = 20)),\n",
    "    ('selector', selector),\n",
    "    ('model', RandomForestRegressor(n_jobs = -1, random_state = 123))\n",
    "])\n",
    "\n",
    "pipe4a.fit(X_train, y_train)\n",
    "\n",
    "print(f\"RMSE: {rmse(y_test, pipe4a.predict(X_test), squared = False)}\")"
   ]
  },
  {
   "cell_type": "markdown",
   "id": "6ce466f1",
   "metadata": {},
   "source": [
    "#### XGBoost Regressor"
   ]
  },
  {
   "cell_type": "code",
   "execution_count": 34,
   "id": "92c62df0",
   "metadata": {},
   "outputs": [
    {
     "name": "stdout",
     "output_type": "stream",
     "text": [
      "RMSE: 528.0085955968258\n"
     ]
    }
   ],
   "source": [
    "pipe5a = Pipeline([\n",
    "    ('target_encoding', ce.TargetEncoder(smoothing = 20)),\n",
    "    ('selector', selector),\n",
    "    ('model', xgb.XGBRegressor(n_jobs = -1, random_state = 123))\n",
    "])\n",
    "\n",
    "pipe5a.fit(X_train, y_train)\n",
    "\n",
    "print(f\"RMSE: {rmse(y_test, pipe5a.predict(X_test), squared = False)}\")"
   ]
  },
  {
   "cell_type": "markdown",
   "id": "a712d5b7",
   "metadata": {},
   "source": [
    "### Wybranie najlepszego modelu\n",
    "\n",
    "W tym celu skorzystam z dwóch miar: RMSE oraz R2."
   ]
  },
  {
   "cell_type": "code",
   "execution_count": 35,
   "id": "f6abd594",
   "metadata": {},
   "outputs": [],
   "source": [
    "from sklearn.metrics import r2_score as r2\n",
    "from sklearn.metrics import mean_squared_error as rmse"
   ]
  },
  {
   "cell_type": "code",
   "execution_count": 36,
   "id": "060a3a1e",
   "metadata": {},
   "outputs": [],
   "source": [
    "def append_result(df, name, clf, X_test, y_test):\n",
    "    df = df.append({\n",
    "        'model' : name,\n",
    "        'rmse' : rmse(y_test, clf.predict(X_test), squared = False),\n",
    "        'r2' : r2(y_test, clf.predict(X_test))\n",
    "    }, ignore_index = True)\n",
    "    return df"
   ]
  },
  {
   "cell_type": "code",
   "execution_count": 37,
   "id": "a5af7250",
   "metadata": {},
   "outputs": [],
   "source": [
    "results = pd.DataFrame(columns = ['model', 'rmse', 'r2'])"
   ]
  },
  {
   "cell_type": "code",
   "execution_count": 38,
   "id": "17a1aac9",
   "metadata": {},
   "outputs": [],
   "source": [
    "results = append_result(results, 'LinearRegression', pipe1, X_test, y_test)\n",
    "results = append_result(results, 'Lasso', pipe2, X_test, y_test)\n",
    "results = append_result(results, 'Ridge', pipe3, X_test, y_test)\n",
    "results = append_result(results, 'RandomForestRegressor', pipe4, X_test, y_test)\n",
    "results = append_result(results, 'XGBoostRegressor', pipe5, X_test, y_test)\n",
    "\n",
    "results = append_result(results, 'LinearRegression_two_columns', pipe1a, X_test, y_test)\n",
    "results = append_result(results, 'Lasso_two_columns', pipe2a, X_test, y_test)\n",
    "results = append_result(results, 'Ridge_two_columns', pipe3a, X_test, y_test)\n",
    "results = append_result(results, 'RandomForestRegressor_two_columns', pipe4a, X_test, y_test)\n",
    "results = append_result(results, 'XGBoostRegressor_two_columns', pipe5a, X_test, y_test)"
   ]
  },
  {
   "cell_type": "code",
   "execution_count": 40,
   "id": "3cb3d940",
   "metadata": {},
   "outputs": [
    {
     "data": {
      "text/html": [
       "<div>\n",
       "<style scoped>\n",
       "    .dataframe tbody tr th:only-of-type {\n",
       "        vertical-align: middle;\n",
       "    }\n",
       "\n",
       "    .dataframe tbody tr th {\n",
       "        vertical-align: top;\n",
       "    }\n",
       "\n",
       "    .dataframe thead th {\n",
       "        text-align: right;\n",
       "    }\n",
       "</style>\n",
       "<table border=\"1\" class=\"dataframe\">\n",
       "  <thead>\n",
       "    <tr style=\"text-align: right;\">\n",
       "      <th></th>\n",
       "      <th>model</th>\n",
       "      <th>rmse</th>\n",
       "      <th>r2</th>\n",
       "    </tr>\n",
       "  </thead>\n",
       "  <tbody>\n",
       "    <tr>\n",
       "      <th>4</th>\n",
       "      <td>XGBoostRegressor</td>\n",
       "      <td>504.002254</td>\n",
       "      <td>0.184753</td>\n",
       "    </tr>\n",
       "    <tr>\n",
       "      <th>3</th>\n",
       "      <td>RandomForestRegressor</td>\n",
       "      <td>516.137855</td>\n",
       "      <td>0.145021</td>\n",
       "    </tr>\n",
       "    <tr>\n",
       "      <th>9</th>\n",
       "      <td>XGBoostRegressor_two_columns</td>\n",
       "      <td>528.008596</td>\n",
       "      <td>0.105241</td>\n",
       "    </tr>\n",
       "    <tr>\n",
       "      <th>8</th>\n",
       "      <td>RandomForestRegressor_two_columns</td>\n",
       "      <td>535.162270</td>\n",
       "      <td>0.080831</td>\n",
       "    </tr>\n",
       "    <tr>\n",
       "      <th>2</th>\n",
       "      <td>Ridge</td>\n",
       "      <td>540.146535</td>\n",
       "      <td>0.063630</td>\n",
       "    </tr>\n",
       "    <tr>\n",
       "      <th>0</th>\n",
       "      <td>LinearRegression</td>\n",
       "      <td>540.146535</td>\n",
       "      <td>0.063630</td>\n",
       "    </tr>\n",
       "    <tr>\n",
       "      <th>6</th>\n",
       "      <td>Lasso_two_columns</td>\n",
       "      <td>540.148537</td>\n",
       "      <td>0.063623</td>\n",
       "    </tr>\n",
       "    <tr>\n",
       "      <th>1</th>\n",
       "      <td>Lasso</td>\n",
       "      <td>540.148543</td>\n",
       "      <td>0.063623</td>\n",
       "    </tr>\n",
       "    <tr>\n",
       "      <th>7</th>\n",
       "      <td>Ridge_two_columns</td>\n",
       "      <td>540.150366</td>\n",
       "      <td>0.063617</td>\n",
       "    </tr>\n",
       "    <tr>\n",
       "      <th>5</th>\n",
       "      <td>LinearRegression_two_columns</td>\n",
       "      <td>540.150366</td>\n",
       "      <td>0.063617</td>\n",
       "    </tr>\n",
       "  </tbody>\n",
       "</table>\n",
       "</div>"
      ],
      "text/plain": [
       "                               model        rmse        r2\n",
       "4                   XGBoostRegressor  504.002254  0.184753\n",
       "3              RandomForestRegressor  516.137855  0.145021\n",
       "9       XGBoostRegressor_two_columns  528.008596  0.105241\n",
       "8  RandomForestRegressor_two_columns  535.162270  0.080831\n",
       "2                              Ridge  540.146535  0.063630\n",
       "0                   LinearRegression  540.146535  0.063630\n",
       "6                  Lasso_two_columns  540.148537  0.063623\n",
       "1                              Lasso  540.148543  0.063623\n",
       "7                  Ridge_two_columns  540.150366  0.063617\n",
       "5       LinearRegression_two_columns  540.150366  0.063617"
      ]
     },
     "execution_count": 40,
     "metadata": {},
     "output_type": "execute_result"
    }
   ],
   "source": [
    "results.sort_values(by = 'rmse')"
   ]
  },
  {
   "cell_type": "markdown",
   "id": "39f769ca",
   "metadata": {},
   "source": [
    "Spośród wytrenowanych modeli najlepszym okazał się **XGBoostRegressor**, który korzysta ze wszystkich trzech kolumn Jego błąd RMSE jest najmniejszy, a wartość R2 największa spośród tych modeli. \n",
    "\n",
    "Należy zaznaczyć, że hiperparametry modeli nie były tunningowane. Możliwe, że po tunningu modele osiagnęłyby lepsze wyniki."
   ]
  }
 ],
 "metadata": {
  "kernelspec": {
   "display_name": "Python 3",
   "language": "python",
   "name": "python3"
  },
  "language_info": {
   "codemirror_mode": {
    "name": "ipython",
    "version": 3
   },
   "file_extension": ".py",
   "mimetype": "text/x-python",
   "name": "python",
   "nbconvert_exporter": "python",
   "pygments_lexer": "ipython3",
   "version": "3.7.10"
  }
 },
 "nbformat": 4,
 "nbformat_minor": 5
}
