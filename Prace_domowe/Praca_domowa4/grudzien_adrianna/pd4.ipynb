{
 "cells": [
  {
   "cell_type": "markdown",
   "id": "younger-living",
   "metadata": {},
   "source": [
    "# Praca domowa nr 4\n",
    "Adrianna Grudzień\\\n",
    "24.04.2021 r.\n",
    "\n",
    "W ramach pracy domowej z przedmiotu Wstęp do uczenia maszynowego wykorzystałam algorytm Support Vector Machine (**SVM**). W tym celu wykorzystałam dwa różne zbiory danych.\n",
    "\n",
    "Zbiór danych **apartments** z pakietu dalex dotyczy cen mieszkać w Warszawie.\n",
    "\n",
    "Zbiór danych **australia.csv** zawiera codzienne obserwacje pogody z wielu australijskich stacji pogodowych.\n",
    "Dane pochodzą z https://www.kaggle.com/jsphyg/weather-dataset-rattle-package. Zmienną docelową jest to, czy jutro deszcz będzie padał, czy też nie."
   ]
  },
  {
   "cell_type": "code",
   "execution_count": 2,
   "id": "corresponding-forge",
   "metadata": {},
   "outputs": [],
   "source": [
    "import pandas as pd\n",
    "import numpy as np\n",
    "import matplotlib.pyplot as plt\n",
    "import warnings\n",
    "warnings.filterwarnings('ignore')\n",
    "np.random.seed = 42\n",
    "from sklearn.metrics import mean_squared_error, accuracy_score, precision_score, recall_score, confusion_matrix, classification_report"
   ]
  },
  {
   "cell_type": "markdown",
   "id": "viral-deputy",
   "metadata": {},
   "source": [
    "# Zbiór `apartments` z pakietu dalex"
   ]
  },
  {
   "cell_type": "markdown",
   "id": "dependent-paintball",
   "metadata": {},
   "source": [
    "### Wczytanie ramki danych"
   ]
  },
  {
   "cell_type": "code",
   "execution_count": 3,
   "id": "considered-monkey",
   "metadata": {},
   "outputs": [
    {
     "data": {
      "text/html": [
       "<div>\n",
       "<style scoped>\n",
       "    .dataframe tbody tr th:only-of-type {\n",
       "        vertical-align: middle;\n",
       "    }\n",
       "\n",
       "    .dataframe tbody tr th {\n",
       "        vertical-align: top;\n",
       "    }\n",
       "\n",
       "    .dataframe thead th {\n",
       "        text-align: right;\n",
       "    }\n",
       "</style>\n",
       "<table border=\"1\" class=\"dataframe\">\n",
       "  <thead>\n",
       "    <tr style=\"text-align: right;\">\n",
       "      <th></th>\n",
       "      <th>m2_price</th>\n",
       "      <th>construction_year</th>\n",
       "      <th>surface</th>\n",
       "      <th>floor</th>\n",
       "      <th>no_rooms</th>\n",
       "      <th>district</th>\n",
       "    </tr>\n",
       "  </thead>\n",
       "  <tbody>\n",
       "    <tr>\n",
       "      <th>1</th>\n",
       "      <td>5897</td>\n",
       "      <td>1953</td>\n",
       "      <td>25</td>\n",
       "      <td>3</td>\n",
       "      <td>1</td>\n",
       "      <td>Srodmiescie</td>\n",
       "    </tr>\n",
       "    <tr>\n",
       "      <th>2</th>\n",
       "      <td>1818</td>\n",
       "      <td>1992</td>\n",
       "      <td>143</td>\n",
       "      <td>9</td>\n",
       "      <td>5</td>\n",
       "      <td>Bielany</td>\n",
       "    </tr>\n",
       "    <tr>\n",
       "      <th>3</th>\n",
       "      <td>3643</td>\n",
       "      <td>1937</td>\n",
       "      <td>56</td>\n",
       "      <td>1</td>\n",
       "      <td>2</td>\n",
       "      <td>Praga</td>\n",
       "    </tr>\n",
       "    <tr>\n",
       "      <th>4</th>\n",
       "      <td>3517</td>\n",
       "      <td>1995</td>\n",
       "      <td>93</td>\n",
       "      <td>7</td>\n",
       "      <td>3</td>\n",
       "      <td>Ochota</td>\n",
       "    </tr>\n",
       "    <tr>\n",
       "      <th>5</th>\n",
       "      <td>3013</td>\n",
       "      <td>1992</td>\n",
       "      <td>144</td>\n",
       "      <td>6</td>\n",
       "      <td>5</td>\n",
       "      <td>Mokotow</td>\n",
       "    </tr>\n",
       "  </tbody>\n",
       "</table>\n",
       "</div>"
      ],
      "text/plain": [
       "   m2_price  construction_year  surface  floor  no_rooms     district\n",
       "1      5897               1953       25      3         1  Srodmiescie\n",
       "2      1818               1992      143      9         5      Bielany\n",
       "3      3643               1937       56      1         2        Praga\n",
       "4      3517               1995       93      7         3       Ochota\n",
       "5      3013               1992      144      6         5      Mokotow"
      ]
     },
     "execution_count": 3,
     "metadata": {},
     "output_type": "execute_result"
    }
   ],
   "source": [
    "import dalex as dx\n",
    "df = dx.datasets.load_apartments()\n",
    "df.head() # trzeba zrobić kodowanie zmiennej district"
   ]
  },
  {
   "cell_type": "code",
   "execution_count": 4,
   "id": "rapid-information",
   "metadata": {},
   "outputs": [
    {
     "name": "stdout",
     "output_type": "stream",
     "text": [
      "<class 'pandas.core.frame.DataFrame'>\n",
      "Int64Index: 1000 entries, 1 to 1000\n",
      "Data columns (total 6 columns):\n",
      " #   Column             Non-Null Count  Dtype \n",
      "---  ------             --------------  ----- \n",
      " 0   m2_price           1000 non-null   int64 \n",
      " 1   construction_year  1000 non-null   int64 \n",
      " 2   surface            1000 non-null   int64 \n",
      " 3   floor              1000 non-null   int64 \n",
      " 4   no_rooms           1000 non-null   int64 \n",
      " 5   district           1000 non-null   object\n",
      "dtypes: int64(5), object(1)\n",
      "memory usage: 54.7+ KB\n"
     ]
    }
   ],
   "source": [
    "df.info() # brak nuli"
   ]
  },
  {
   "cell_type": "code",
   "execution_count": 28,
   "id": "pregnant-mexican",
   "metadata": {},
   "outputs": [
    {
     "data": {
      "image/png": "[encoded data removed]",
      "text/plain": [
       "<Figure size 648x576 with 6 Axes>"
      ]
     },
     "metadata": {
      "needs_background": "light"
     },
     "output_type": "display_data"
    }
   ],
   "source": [
    "df.hist(figsize=(9,8), bins=40) # to nie jest w sumie takie potrzebne\n",
    "plt.show()"
   ]
  },
  {
   "cell_type": "markdown",
   "id": "diverse-immune",
   "metadata": {},
   "source": [
    "### Kodowanie zmiennej `district`"
   ]
  },
  {
   "cell_type": "code",
   "execution_count": 5,
   "id": "white-broad",
   "metadata": {},
   "outputs": [
    {
     "data": {
      "text/html": [
       "<div>\n",
       "<style scoped>\n",
       "    .dataframe tbody tr th:only-of-type {\n",
       "        vertical-align: middle;\n",
       "    }\n",
       "\n",
       "    .dataframe tbody tr th {\n",
       "        vertical-align: top;\n",
       "    }\n",
       "\n",
       "    .dataframe thead th {\n",
       "        text-align: right;\n",
       "    }\n",
       "</style>\n",
       "<table border=\"1\" class=\"dataframe\">\n",
       "  <thead>\n",
       "    <tr style=\"text-align: right;\">\n",
       "      <th></th>\n",
       "      <th>m2_price</th>\n",
       "      <th>construction_year</th>\n",
       "      <th>surface</th>\n",
       "      <th>floor</th>\n",
       "      <th>no_rooms</th>\n",
       "      <th>district_Srodmiescie</th>\n",
       "      <th>district_Bielany</th>\n",
       "      <th>district_Praga</th>\n",
       "      <th>district_Ochota</th>\n",
       "      <th>district_Mokotow</th>\n",
       "      <th>district_Ursus</th>\n",
       "      <th>district_Zoliborz</th>\n",
       "      <th>district_Wola</th>\n",
       "      <th>district_Bemowo</th>\n",
       "      <th>district_Ursynow</th>\n",
       "    </tr>\n",
       "  </thead>\n",
       "  <tbody>\n",
       "    <tr>\n",
       "      <th>1</th>\n",
       "      <td>5897</td>\n",
       "      <td>1953</td>\n",
       "      <td>25</td>\n",
       "      <td>3</td>\n",
       "      <td>1</td>\n",
       "      <td>1</td>\n",
       "      <td>0</td>\n",
       "      <td>0</td>\n",
       "      <td>0</td>\n",
       "      <td>0</td>\n",
       "      <td>0</td>\n",
       "      <td>0</td>\n",
       "      <td>0</td>\n",
       "      <td>0</td>\n",
       "      <td>0</td>\n",
       "    </tr>\n",
       "    <tr>\n",
       "      <th>2</th>\n",
       "      <td>1818</td>\n",
       "      <td>1992</td>\n",
       "      <td>143</td>\n",
       "      <td>9</td>\n",
       "      <td>5</td>\n",
       "      <td>0</td>\n",
       "      <td>1</td>\n",
       "      <td>0</td>\n",
       "      <td>0</td>\n",
       "      <td>0</td>\n",
       "      <td>0</td>\n",
       "      <td>0</td>\n",
       "      <td>0</td>\n",
       "      <td>0</td>\n",
       "      <td>0</td>\n",
       "    </tr>\n",
       "    <tr>\n",
       "      <th>3</th>\n",
       "      <td>3643</td>\n",
       "      <td>1937</td>\n",
       "      <td>56</td>\n",
       "      <td>1</td>\n",
       "      <td>2</td>\n",
       "      <td>0</td>\n",
       "      <td>0</td>\n",
       "      <td>1</td>\n",
       "      <td>0</td>\n",
       "      <td>0</td>\n",
       "      <td>0</td>\n",
       "      <td>0</td>\n",
       "      <td>0</td>\n",
       "      <td>0</td>\n",
       "      <td>0</td>\n",
       "    </tr>\n",
       "  </tbody>\n",
       "</table>\n",
       "</div>"
      ],
      "text/plain": [
       "   m2_price  construction_year  surface  floor  no_rooms  \\\n",
       "1      5897               1953       25      3         1   \n",
       "2      1818               1992      143      9         5   \n",
       "3      3643               1937       56      1         2   \n",
       "\n",
       "   district_Srodmiescie  district_Bielany  district_Praga  district_Ochota  \\\n",
       "1                     1                 0               0                0   \n",
       "2                     0                 1               0                0   \n",
       "3                     0                 0               1                0   \n",
       "\n",
       "   district_Mokotow  district_Ursus  district_Zoliborz  district_Wola  \\\n",
       "1                 0               0                  0              0   \n",
       "2                 0               0                  0              0   \n",
       "3                 0               0                  0              0   \n",
       "\n",
       "   district_Bemowo  district_Ursynow  \n",
       "1                0                 0  \n",
       "2                0                 0  \n",
       "3                0                 0  "
      ]
     },
     "execution_count": 5,
     "metadata": {},
     "output_type": "execute_result"
    }
   ],
   "source": [
    "# kodujemy zmienną district\n",
    "from category_encoders import OneHotEncoder\n",
    "\n",
    "encoder = OneHotEncoder(cols=['district'], use_cat_names=True).fit_transform(df['district'])\n",
    "df = pd.concat([df.drop(['district'],axis=1),encoder], axis=1) # podmieniamy district na zakodowaną district\n",
    "df.head(3)"
   ]
  },
  {
   "cell_type": "code",
   "execution_count": 6,
   "id": "economic-suggestion",
   "metadata": {},
   "outputs": [
    {
     "name": "stdout",
     "output_type": "stream",
     "text": [
      "Minimalna cena w zbiorze: 1607 zł\n",
      "Mediana cen: 3386.0 zł\n",
      "Maksymalna cena w zbiorze: 6595 zł\n"
     ]
    }
   ],
   "source": [
    "print('Minimalna cena w zbiorze:',df['m2_price'].min(), 'zł')\n",
    "print('Mediana cen:',df['m2_price'].median(), 'zł')\n",
    "print('Maksymalna cena w zbiorze:',df['m2_price'].max(), 'zł')"
   ]
  },
  {
   "cell_type": "markdown",
   "id": "numerical-fraction",
   "metadata": {},
   "source": [
    "### Podział zbioru\n",
    "\n",
    "Naszą zmienną docelową będzie cena mieszkania w Warszawie `m2_price`."
   ]
  },
  {
   "cell_type": "code",
   "execution_count": 9,
   "id": "supposed-guest",
   "metadata": {},
   "outputs": [],
   "source": [
    "from sklearn.model_selection import train_test_split\n",
    "\n",
    "y = df['m2_price']\n",
    "X = df.drop(['m2_price'],axis=1)\n",
    "\n",
    "X_train, X_test, y_train, y_test = train_test_split(X, y, test_size=0.25, random_state=42)"
   ]
  },
  {
   "cell_type": "markdown",
   "id": "palestinian-authority",
   "metadata": {},
   "source": [
    "### Model SVM"
   ]
  },
  {
   "cell_type": "code",
   "execution_count": 10,
   "id": "median-vector",
   "metadata": {},
   "outputs": [],
   "source": [
    "from sklearn.svm import SVR"
   ]
  },
  {
   "cell_type": "code",
   "execution_count": 11,
   "id": "dense-knight",
   "metadata": {},
   "outputs": [
    {
     "name": "stdout",
     "output_type": "stream",
     "text": [
      "RMSE: 917.6207825964947\n"
     ]
    }
   ],
   "source": [
    "# utworzenie modelu:\n",
    "svr = SVR()\n",
    "# trening:\n",
    "svr.fit(X_train, y_train)\n",
    "\n",
    "y_pred = svr.predict(X_test)\n",
    "\n",
    "print('RMSE:', mean_squared_error(y_test, y_pred, squared=False)) # beznadziejny wynik"
   ]
  },
  {
   "cell_type": "markdown",
   "id": "upset-ultimate",
   "metadata": {},
   "source": [
    "RMSE równy 918 to bardzo duży błąd w stosunku do rzędu wielkości cen mieszkań, których mediana wynosi 3386 zł."
   ]
  },
  {
   "cell_type": "markdown",
   "id": "right-marathon",
   "metadata": {},
   "source": [
    "### Skalowanie danych\n",
    "\n",
    "Do skalowania używam StandardScaler."
   ]
  },
  {
   "cell_type": "code",
   "execution_count": 7,
   "id": "skilled-parliament",
   "metadata": {},
   "outputs": [],
   "source": [
    "from sklearn.preprocessing import StandardScaler\n",
    "from sklearn.pipeline import make_pipeline"
   ]
  },
  {
   "cell_type": "code",
   "execution_count": 13,
   "id": "round-textbook",
   "metadata": {},
   "outputs": [
    {
     "name": "stdout",
     "output_type": "stream",
     "text": [
      "RMSE: 895.1461436202234\n"
     ]
    }
   ],
   "source": [
    "svr_scaled = make_pipeline(StandardScaler(), SVR())\n",
    "\n",
    "svr_scaled.fit(X_train, y_train)\n",
    "y_pred = svr_scaled.predict(X_test)\n",
    "\n",
    "print('RMSE:', mean_squared_error(y_test, y_pred, squared=False)) # beznadziejny wynik"
   ]
  },
  {
   "cell_type": "markdown",
   "id": "global-responsibility",
   "metadata": {},
   "source": [
    "Dla przypomnienia, bez skalowania RMSE wynosił 918. Tutaj jest to 895 - błąd się zmniejszył. Wniosek jest taki, że w tym przypadku skalowanie ulepszyło model."
   ]
  },
  {
   "cell_type": "markdown",
   "id": "confused-short",
   "metadata": {},
   "source": [
    "### Optymalizacja parametrów\n",
    "\n",
    "Korzystając z RandomSearchCV, przeprowadzam optymalizację hiperparametrów:\n",
    "- cost,\n",
    "- gamma,\n",
    "- degree"
   ]
  },
  {
   "cell_type": "code",
   "execution_count": 14,
   "id": "registered-adaptation",
   "metadata": {},
   "outputs": [],
   "source": [
    "from sklearn.model_selection import RandomizedSearchCV"
   ]
  },
  {
   "cell_type": "code",
   "execution_count": 15,
   "id": "romance-solid",
   "metadata": {},
   "outputs": [
    {
     "data": {
      "text/plain": [
       "RandomizedSearchCV(estimator=Pipeline(steps=[('standardscaler',\n",
       "                                              StandardScaler()),\n",
       "                                             ('svr', SVR())]),\n",
       "                   n_iter=30, n_jobs=-1,\n",
       "                   param_distributions={'svr__C': [0.01, 0.1, 1, 10, 100],\n",
       "                                        'svr__degree': [1, 2, 3, 4, 5],\n",
       "                                        'svr__gamma': ['auto', 'scale', 0.01,\n",
       "                                                       0.1, 1, 10, 100]},\n",
       "                   scoring='neg_root_mean_squared_error')"
      ]
     },
     "execution_count": 15,
     "metadata": {},
     "output_type": "execute_result"
    }
   ],
   "source": [
    "param_svr = {\n",
    "    'svr__C': [0.01, 0.1, 1, 10, 100],\n",
    "    'svr__gamma': ['auto', 'scale', 0.01, 0.1, 1, 10, 100],\n",
    "    'svr__degree': [1, 2, 3, 4, 5]\n",
    "}\n",
    "\n",
    "svr_randomized = RandomizedSearchCV(estimator=svr_scaled, param_distributions=param_svr,\n",
    "                              n_iter=30, scoring='neg_root_mean_squared_error', n_jobs=-1)\n",
    "svr_randomized.fit(X_train, y_train)"
   ]
  },
  {
   "cell_type": "markdown",
   "id": "greek-powell",
   "metadata": {},
   "source": [
    "### Najlepsze parametry"
   ]
  },
  {
   "cell_type": "code",
   "execution_count": 16,
   "id": "religious-express",
   "metadata": {},
   "outputs": [
    {
     "data": {
      "text/plain": [
       "Pipeline(steps=[('standardscaler', StandardScaler()),\n",
       "                ('svr', SVR(C=100, degree=5, gamma='auto'))])"
      ]
     },
     "execution_count": 16,
     "metadata": {},
     "output_type": "execute_result"
    }
   ],
   "source": [
    "svr_randomized.best_estimator_"
   ]
  },
  {
   "cell_type": "markdown",
   "id": "capable-roads",
   "metadata": {},
   "source": [
    "Sprawdźmy, czy podane parametry rzeczywiście są lepsze."
   ]
  },
  {
   "cell_type": "code",
   "execution_count": 17,
   "id": "cathedral-railway",
   "metadata": {},
   "outputs": [
    {
     "name": "stdout",
     "output_type": "stream",
     "text": [
      "RMSE: 275.85986963351706\n"
     ]
    }
   ],
   "source": [
    "svr_optimized = make_pipeline(StandardScaler(), SVR(gamma='auto', C=100, degree=5))\n",
    "svr_optimized.fit(X_train, y_train)\n",
    "\n",
    "y_pred = svr_optimized.predict(X_test)\n",
    "    \n",
    "print('RMSE:', mean_squared_error(y_test, y_pred, squared=False))"
   ]
  },
  {
   "cell_type": "markdown",
   "id": "revised-butler",
   "metadata": {},
   "source": [
    "Niesamowite. Z błędu wielkości 918 udało nam się spaść do RMSE = 276."
   ]
  },
  {
   "cell_type": "markdown",
   "id": "hourly-effect",
   "metadata": {},
   "source": [
    "### Podsumowanie\n",
    "\n",
    "Dla porównania spójrzmy na wszystkie otrzymane wyniki:\n",
    "\n",
    "```R\n",
    "RMSE:\n",
    "ot tak 918\n",
    "po skalowaniu 895\n",
    "po optymalizacji 276\n",
    "```"
   ]
  },
  {
   "cell_type": "markdown",
   "id": "appropriate-actress",
   "metadata": {},
   "source": [
    "# Zbiór `australia.csv`\n",
    "\n",
    "To samo robimy dla tego zbioru danych. Tym razem jednak traktujemy to jako klasyfikację, a nie regresję liniową. Będziemy porównywać accuracy, a nie RMSE."
   ]
  },
  {
   "cell_type": "markdown",
   "id": "identified-cigarette",
   "metadata": {},
   "source": [
    "### Wczytanie ramki danych"
   ]
  },
  {
   "cell_type": "code",
   "execution_count": 3,
   "id": "treated-stretch",
   "metadata": {},
   "outputs": [
    {
     "data": {
      "text/html": [
       "<div>\n",
       "<style scoped>\n",
       "    .dataframe tbody tr th:only-of-type {\n",
       "        vertical-align: middle;\n",
       "    }\n",
       "\n",
       "    .dataframe tbody tr th {\n",
       "        vertical-align: top;\n",
       "    }\n",
       "\n",
       "    .dataframe thead th {\n",
       "        text-align: right;\n",
       "    }\n",
       "</style>\n",
       "<table border=\"1\" class=\"dataframe\">\n",
       "  <thead>\n",
       "    <tr style=\"text-align: right;\">\n",
       "      <th></th>\n",
       "      <th>MinTemp</th>\n",
       "      <th>MaxTemp</th>\n",
       "      <th>Rainfall</th>\n",
       "      <th>Evaporation</th>\n",
       "      <th>Sunshine</th>\n",
       "      <th>WindGustSpeed</th>\n",
       "      <th>WindSpeed9am</th>\n",
       "      <th>WindSpeed3pm</th>\n",
       "      <th>Humidity9am</th>\n",
       "      <th>Humidity3pm</th>\n",
       "      <th>Pressure9am</th>\n",
       "      <th>Pressure3pm</th>\n",
       "      <th>Cloud9am</th>\n",
       "      <th>Cloud3pm</th>\n",
       "      <th>Temp9am</th>\n",
       "      <th>Temp3pm</th>\n",
       "      <th>RainToday</th>\n",
       "      <th>RainTomorrow</th>\n",
       "    </tr>\n",
       "  </thead>\n",
       "  <tbody>\n",
       "    <tr>\n",
       "      <th>0</th>\n",
       "      <td>17.9</td>\n",
       "      <td>35.2</td>\n",
       "      <td>0.0</td>\n",
       "      <td>12.0</td>\n",
       "      <td>12.3</td>\n",
       "      <td>48.0</td>\n",
       "      <td>6.0</td>\n",
       "      <td>20.0</td>\n",
       "      <td>20.0</td>\n",
       "      <td>13.0</td>\n",
       "      <td>1006.3</td>\n",
       "      <td>1004.4</td>\n",
       "      <td>2.0</td>\n",
       "      <td>5.0</td>\n",
       "      <td>26.6</td>\n",
       "      <td>33.4</td>\n",
       "      <td>0</td>\n",
       "      <td>0</td>\n",
       "    </tr>\n",
       "    <tr>\n",
       "      <th>1</th>\n",
       "      <td>18.4</td>\n",
       "      <td>28.9</td>\n",
       "      <td>0.0</td>\n",
       "      <td>14.8</td>\n",
       "      <td>13.0</td>\n",
       "      <td>37.0</td>\n",
       "      <td>19.0</td>\n",
       "      <td>19.0</td>\n",
       "      <td>30.0</td>\n",
       "      <td>8.0</td>\n",
       "      <td>1012.9</td>\n",
       "      <td>1012.1</td>\n",
       "      <td>1.0</td>\n",
       "      <td>1.0</td>\n",
       "      <td>20.3</td>\n",
       "      <td>27.0</td>\n",
       "      <td>0</td>\n",
       "      <td>0</td>\n",
       "    </tr>\n",
       "    <tr>\n",
       "      <th>2</th>\n",
       "      <td>19.4</td>\n",
       "      <td>37.6</td>\n",
       "      <td>0.0</td>\n",
       "      <td>10.8</td>\n",
       "      <td>10.6</td>\n",
       "      <td>46.0</td>\n",
       "      <td>30.0</td>\n",
       "      <td>15.0</td>\n",
       "      <td>42.0</td>\n",
       "      <td>22.0</td>\n",
       "      <td>1012.3</td>\n",
       "      <td>1009.2</td>\n",
       "      <td>1.0</td>\n",
       "      <td>6.0</td>\n",
       "      <td>28.7</td>\n",
       "      <td>34.9</td>\n",
       "      <td>0</td>\n",
       "      <td>0</td>\n",
       "    </tr>\n",
       "    <tr>\n",
       "      <th>3</th>\n",
       "      <td>21.9</td>\n",
       "      <td>38.4</td>\n",
       "      <td>0.0</td>\n",
       "      <td>11.4</td>\n",
       "      <td>12.2</td>\n",
       "      <td>31.0</td>\n",
       "      <td>6.0</td>\n",
       "      <td>6.0</td>\n",
       "      <td>37.0</td>\n",
       "      <td>22.0</td>\n",
       "      <td>1012.7</td>\n",
       "      <td>1009.1</td>\n",
       "      <td>1.0</td>\n",
       "      <td>5.0</td>\n",
       "      <td>29.1</td>\n",
       "      <td>35.6</td>\n",
       "      <td>0</td>\n",
       "      <td>0</td>\n",
       "    </tr>\n",
       "    <tr>\n",
       "      <th>4</th>\n",
       "      <td>24.2</td>\n",
       "      <td>41.0</td>\n",
       "      <td>0.0</td>\n",
       "      <td>11.2</td>\n",
       "      <td>8.4</td>\n",
       "      <td>35.0</td>\n",
       "      <td>17.0</td>\n",
       "      <td>13.0</td>\n",
       "      <td>19.0</td>\n",
       "      <td>15.0</td>\n",
       "      <td>1010.7</td>\n",
       "      <td>1007.4</td>\n",
       "      <td>1.0</td>\n",
       "      <td>6.0</td>\n",
       "      <td>33.6</td>\n",
       "      <td>37.6</td>\n",
       "      <td>0</td>\n",
       "      <td>0</td>\n",
       "    </tr>\n",
       "  </tbody>\n",
       "</table>\n",
       "</div>"
      ],
      "text/plain": [
       "   MinTemp  MaxTemp  Rainfall  Evaporation  Sunshine  WindGustSpeed  \\\n",
       "0     17.9     35.2       0.0         12.0      12.3           48.0   \n",
       "1     18.4     28.9       0.0         14.8      13.0           37.0   \n",
       "2     19.4     37.6       0.0         10.8      10.6           46.0   \n",
       "3     21.9     38.4       0.0         11.4      12.2           31.0   \n",
       "4     24.2     41.0       0.0         11.2       8.4           35.0   \n",
       "\n",
       "   WindSpeed9am  WindSpeed3pm  Humidity9am  Humidity3pm  Pressure9am  \\\n",
       "0           6.0          20.0         20.0         13.0       1006.3   \n",
       "1          19.0          19.0         30.0          8.0       1012.9   \n",
       "2          30.0          15.0         42.0         22.0       1012.3   \n",
       "3           6.0           6.0         37.0         22.0       1012.7   \n",
       "4          17.0          13.0         19.0         15.0       1010.7   \n",
       "\n",
       "   Pressure3pm  Cloud9am  Cloud3pm  Temp9am  Temp3pm  RainToday  RainTomorrow  \n",
       "0       1004.4       2.0       5.0     26.6     33.4          0             0  \n",
       "1       1012.1       1.0       1.0     20.3     27.0          0             0  \n",
       "2       1009.2       1.0       6.0     28.7     34.9          0             0  \n",
       "3       1009.1       1.0       5.0     29.1     35.6          0             0  \n",
       "4       1007.4       1.0       6.0     33.6     37.6          0             0  "
      ]
     },
     "execution_count": 3,
     "metadata": {},
     "output_type": "execute_result"
    }
   ],
   "source": [
    "df = pd.read_csv('australia.csv')\n",
    "df.head()"
   ]
  },
  {
   "cell_type": "code",
   "execution_count": 24,
   "id": "approximate-smith",
   "metadata": {},
   "outputs": [
    {
     "name": "stdout",
     "output_type": "stream",
     "text": [
      "<class 'pandas.core.frame.DataFrame'>\n",
      "RangeIndex: 56420 entries, 0 to 56419\n",
      "Data columns (total 18 columns):\n",
      " #   Column         Non-Null Count  Dtype  \n",
      "---  ------         --------------  -----  \n",
      " 0   MinTemp        56420 non-null  float64\n",
      " 1   MaxTemp        56420 non-null  float64\n",
      " 2   Rainfall       56420 non-null  float64\n",
      " 3   Evaporation    56420 non-null  float64\n",
      " 4   Sunshine       56420 non-null  float64\n",
      " 5   WindGustSpeed  56420 non-null  float64\n",
      " 6   WindSpeed9am   56420 non-null  float64\n",
      " 7   WindSpeed3pm   56420 non-null  float64\n",
      " 8   Humidity9am    56420 non-null  float64\n",
      " 9   Humidity3pm    56420 non-null  float64\n",
      " 10  Pressure9am    56420 non-null  float64\n",
      " 11  Pressure3pm    56420 non-null  float64\n",
      " 12  Cloud9am       56420 non-null  float64\n",
      " 13  Cloud3pm       56420 non-null  float64\n",
      " 14  Temp9am        56420 non-null  float64\n",
      " 15  Temp3pm        56420 non-null  float64\n",
      " 16  RainToday      56420 non-null  int64  \n",
      " 17  RainTomorrow   56420 non-null  int64  \n",
      "dtypes: float64(16), int64(2)\n",
      "memory usage: 7.7 MB\n"
     ]
    }
   ],
   "source": [
    "df.info() # wszystko jest numeryczne i brak nuli - świetnie"
   ]
  },
  {
   "cell_type": "markdown",
   "id": "exact-buffer",
   "metadata": {},
   "source": [
    "### Podział zbioru\n",
    "\n",
    "Naszą zmienną docelową będzie to, czy jutro spadnie deszcze, czy nie - `RainTomorrow`."
   ]
  },
  {
   "cell_type": "code",
   "execution_count": 4,
   "id": "visible-arcade",
   "metadata": {},
   "outputs": [],
   "source": [
    "from sklearn.model_selection import train_test_split\n",
    "\n",
    "y = df['RainTomorrow']\n",
    "X = df.drop(['RainTomorrow'],axis=1)\n",
    "\n",
    "X_train, X_test, y_train, y_test = train_test_split(X, y, test_size=0.25, random_state=42)"
   ]
  },
  {
   "cell_type": "markdown",
   "id": "pretty-painting",
   "metadata": {},
   "source": [
    "### Model SVM"
   ]
  },
  {
   "cell_type": "code",
   "execution_count": 5,
   "id": "accepted-sharing",
   "metadata": {},
   "outputs": [],
   "source": [
    "from sklearn.svm import SVC"
   ]
  },
  {
   "cell_type": "code",
   "execution_count": 41,
   "id": "clinical-holly",
   "metadata": {},
   "outputs": [
    {
     "name": "stdout",
     "output_type": "stream",
     "text": [
      "Accuracy: 0.8415455512229706\n"
     ]
    }
   ],
   "source": [
    "# utworzenie modelu\n",
    "svc = SVC()\n",
    "# trening\n",
    "svc.fit(X_train, y_train)\n",
    "\n",
    "y_pred = svc.predict(X_test)\n",
    "\n",
    "print('Accuracy:', accuracy_score(y_test, y_pred))"
   ]
  },
  {
   "cell_type": "markdown",
   "id": "executed-darkness",
   "metadata": {},
   "source": [
    "Można powiedzieć, że wynik jest całkiem niezły."
   ]
  },
  {
   "cell_type": "code",
   "execution_count": 42,
   "id": "raised-sunday",
   "metadata": {},
   "outputs": [
    {
     "name": "stdout",
     "output_type": "stream",
     "text": [
      "              precision    recall  f1-score   support\n",
      "\n",
      "           0       0.84      0.98      0.91     10979\n",
      "           1       0.83      0.36      0.50      3126\n",
      "\n",
      "    accuracy                           0.84     14105\n",
      "   macro avg       0.84      0.67      0.70     14105\n",
      "weighted avg       0.84      0.84      0.82     14105\n",
      "\n"
     ]
    }
   ],
   "source": [
    "print(classification_report(y_test, y_pred))"
   ]
  },
  {
   "cell_type": "markdown",
   "id": "peaceful-poker",
   "metadata": {},
   "source": [
    "Jak widać, model lepiej przewiduje brak deszczu niż deszcz, choć różnica jest nieznaczna."
   ]
  },
  {
   "cell_type": "markdown",
   "id": "convertible-flashing",
   "metadata": {},
   "source": [
    "### Skalowanie danych\n",
    "\n",
    "Do skalowania używam StandardScaler."
   ]
  },
  {
   "cell_type": "code",
   "execution_count": 8,
   "id": "distant-editor",
   "metadata": {},
   "outputs": [],
   "source": [
    "from sklearn.preprocessing import StandardScaler\n",
    "from sklearn.pipeline import make_pipeline"
   ]
  },
  {
   "cell_type": "code",
   "execution_count": 9,
   "id": "powerful-briefing",
   "metadata": {},
   "outputs": [
    {
     "name": "stdout",
     "output_type": "stream",
     "text": [
      "Accuracy: 0.8562211981566821\n"
     ]
    }
   ],
   "source": [
    "svc_scaled = make_pipeline(StandardScaler(), SVC())\n",
    "\n",
    "svc_scaled.fit(X_train, y_train)\n",
    "y_pred = svc_scaled.predict(X_test)\n",
    "\n",
    "print('Accuracy:', accuracy_score(y_test, y_pred))"
   ]
  },
  {
   "cell_type": "markdown",
   "id": "nutritional-zimbabwe",
   "metadata": {},
   "source": [
    "Po przeskalowaniu otrzymaliśmy minimalnie lepszy wynik - z 84.2% do 85.6%."
   ]
  },
  {
   "cell_type": "markdown",
   "id": "unnecessary-underwear",
   "metadata": {},
   "source": [
    "### Optymalizacja parametrów\n",
    "\n",
    "Korzystając z RandomSearchCV, przeprowadzam optymalizację hiperparametrów:\n",
    "- cost,\n",
    "- gamma,\n",
    "- degree"
   ]
  },
  {
   "cell_type": "code",
   "execution_count": 11,
   "id": "unlikely-garage",
   "metadata": {},
   "outputs": [],
   "source": [
    "from sklearn.model_selection import RandomizedSearchCV"
   ]
  },
  {
   "cell_type": "code",
   "execution_count": 12,
   "id": "provincial-contest",
   "metadata": {},
   "outputs": [
    {
     "data": {
      "text/plain": [
       "RandomizedSearchCV(estimator=Pipeline(steps=[('standardscaler',\n",
       "                                              StandardScaler()),\n",
       "                                             ('svc', SVC())]),\n",
       "                   n_iter=15, n_jobs=-1,\n",
       "                   param_distributions={'svc__C': [0.01, 0.1, 1, 10, 100],\n",
       "                                        'svc__degree': [1, 2, 3, 4, 5],\n",
       "                                        'svc__gamma': ['auto', 'scale', 0.01,\n",
       "                                                       0.1, 1, 10, 100]},\n",
       "                   scoring='accuracy')"
      ]
     },
     "execution_count": 12,
     "metadata": {},
     "output_type": "execute_result"
    }
   ],
   "source": [
    "param_svc = {\n",
    "    'svc__C': [0.01, 0.1, 1, 10, 100],\n",
    "    'svc__gamma': ['auto', 'scale', 0.01, 0.1, 1, 10, 100],\n",
    "    'svc__degree': [1, 2, 3, 4, 5]\n",
    "}\n",
    "\n",
    "svc_randomized = RandomizedSearchCV(estimator=svc_scaled, param_distributions=param_svc,\n",
    "                              n_iter=15, scoring='accuracy', n_jobs=-1)\n",
    "svc_randomized.fit(X_train, y_train)"
   ]
  },
  {
   "cell_type": "markdown",
   "id": "expired-reviewer",
   "metadata": {},
   "source": [
    "### Najlepsze parametry"
   ]
  },
  {
   "cell_type": "code",
   "execution_count": 13,
   "id": "confident-director",
   "metadata": {},
   "outputs": [
    {
     "data": {
      "text/plain": [
       "Pipeline(steps=[('standardscaler', StandardScaler()),\n",
       "                ('svc', SVC(C=10, degree=2, gamma='auto'))])"
      ]
     },
     "execution_count": 13,
     "metadata": {},
     "output_type": "execute_result"
    }
   ],
   "source": [
    "svc_randomized.best_estimator_"
   ]
  },
  {
   "cell_type": "markdown",
   "id": "prescribed-stroke",
   "metadata": {},
   "source": [
    "Sprawdźmy, czy podane parametry rzeczywiście są lepsze."
   ]
  },
  {
   "cell_type": "code",
   "execution_count": 15,
   "id": "plain-arabic",
   "metadata": {},
   "outputs": [
    {
     "name": "stdout",
     "output_type": "stream",
     "text": [
      "Accuracy: 0.8596951435661113\n"
     ]
    }
   ],
   "source": [
    "svc_optimized = make_pipeline(StandardScaler(), SVC(random_state=1,gamma='auto', C=10, degree=2))\n",
    "svc_optimized.fit(X_train, y_train)\n",
    "\n",
    "y_pred = svc_optimized.predict(X_test)\n",
    "    \n",
    "print('Accuracy:', accuracy_score(y_test, y_pred))"
   ]
  },
  {
   "cell_type": "markdown",
   "id": "silver-egypt",
   "metadata": {},
   "source": [
    "### Podsumowanie\n",
    "\n",
    "Dla porównania spójrzmy na wszystkie otrzymane wyniki:\n",
    "\n",
    "```R\n",
    "Accuracy:\n",
    "ot tak 84.2%\n",
    "po skalowaniu 85.6%\n",
    "po optymalizacji 86.0%\n",
    "```\n",
    "Jak widzimy, najlepsza trafność cechuje model zoptymalizowany, choć różnica jest niewielka.\n",
    "\n",
    "**Ogólne podsumowanie:** Zalinkowany artykuł (http://pyml.sourceforge.net/doc/howto.pdf) słusznie zwraca uwagę na skalowanie danych - w przypadku obu zbiorów danych skalowanie zwiększyło dokładność przewidywania wartości.\n",
    "\n",
    "A już w ogóle najlepiej jest optymalizować parametry - wyniki są jeszcze dokładniejsze."
   ]
  }
 ],
 "metadata": {
  "kernelspec": {
   "display_name": "Python 3",
   "language": "python",
   "name": "python3"
  },
  "language_info": {
   "codemirror_mode": {
    "name": "ipython",
    "version": 3
   },
   "file_extension": ".py",
   "mimetype": "text/x-python",
   "name": "python",
   "nbconvert_exporter": "python",
   "pygments_lexer": "ipython3",
   "version": "3.7.6"
  }
 },
 "nbformat": 4,
 "nbformat_minor": 5
}
