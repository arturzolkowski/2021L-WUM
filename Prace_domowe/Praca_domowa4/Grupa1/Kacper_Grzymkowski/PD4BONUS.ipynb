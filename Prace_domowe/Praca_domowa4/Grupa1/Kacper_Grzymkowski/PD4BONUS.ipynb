{
 "cells": [
  {
   "cell_type": "code",
   "execution_count": 1,
   "id": "direct-courtesy",
   "metadata": {},
   "outputs": [],
   "source": [
    "import pandas as pd\n",
    "import numpy as np\n",
    "\n",
    "import matplotlib.pyplot as plt\n",
    "import seaborn as sns"
   ]
  },
  {
   "cell_type": "code",
   "execution_count": 2,
   "id": "willing-request",
   "metadata": {},
   "outputs": [],
   "source": [
    "df_raw = pd.read_csv(\"https://www.dropbox.com/s/360xhh2d9lnaek3/allegro-api-transactions.csv?dl=1\")"
   ]
  },
  {
   "cell_type": "code",
   "execution_count": 3,
   "id": "vocational-correction",
   "metadata": {},
   "outputs": [
    {
     "data": {
      "text/html": [
       "<div>\n",
       "<style scoped>\n",
       "    .dataframe tbody tr th:only-of-type {\n",
       "        vertical-align: middle;\n",
       "    }\n",
       "\n",
       "    .dataframe tbody tr th {\n",
       "        vertical-align: top;\n",
       "    }\n",
       "\n",
       "    .dataframe thead th {\n",
       "        text-align: right;\n",
       "    }\n",
       "</style>\n",
       "<table border=\"1\" class=\"dataframe\">\n",
       "  <thead>\n",
       "    <tr style=\"text-align: right;\">\n",
       "      <th></th>\n",
       "      <th>main_category</th>\n",
       "      <th>categories</th>\n",
       "      <th>it_location</th>\n",
       "      <th>price</th>\n",
       "    </tr>\n",
       "  </thead>\n",
       "  <tbody>\n",
       "    <tr>\n",
       "      <th>0</th>\n",
       "      <td>Komputery</td>\n",
       "      <td>['Komputery', 'Dyski i napędy', 'Nośniki', 'No...</td>\n",
       "      <td>Warszawa</td>\n",
       "      <td>59.99</td>\n",
       "    </tr>\n",
       "    <tr>\n",
       "      <th>1</th>\n",
       "      <td>Odzież, Obuwie, Dodatki</td>\n",
       "      <td>['Odzież, Obuwie, Dodatki', 'Bielizna damska',...</td>\n",
       "      <td>Warszawa</td>\n",
       "      <td>4.90</td>\n",
       "    </tr>\n",
       "    <tr>\n",
       "      <th>2</th>\n",
       "      <td>Dom i Ogród</td>\n",
       "      <td>['Dom i Ogród', 'Budownictwo i Akcesoria', 'Śc...</td>\n",
       "      <td>Leszno</td>\n",
       "      <td>109.90</td>\n",
       "    </tr>\n",
       "    <tr>\n",
       "      <th>3</th>\n",
       "      <td>Książki i Komiksy</td>\n",
       "      <td>['Książki i Komiksy', 'Poradniki i albumy', 'Z...</td>\n",
       "      <td>Wola Krzysztoporska</td>\n",
       "      <td>18.50</td>\n",
       "    </tr>\n",
       "    <tr>\n",
       "      <th>4</th>\n",
       "      <td>Odzież, Obuwie, Dodatki</td>\n",
       "      <td>['Odzież, Obuwie, Dodatki', 'Ślub i wesele', '...</td>\n",
       "      <td>BIAŁYSTOK</td>\n",
       "      <td>19.90</td>\n",
       "    </tr>\n",
       "    <tr>\n",
       "      <th>...</th>\n",
       "      <td>...</td>\n",
       "      <td>...</td>\n",
       "      <td>...</td>\n",
       "      <td>...</td>\n",
       "    </tr>\n",
       "    <tr>\n",
       "      <th>420015</th>\n",
       "      <td>RTV i AGD</td>\n",
       "      <td>['RTV i AGD', 'Sprzęt audio dla domu', 'Odtwar...</td>\n",
       "      <td>Kraśnik</td>\n",
       "      <td>180.00</td>\n",
       "    </tr>\n",
       "    <tr>\n",
       "      <th>420016</th>\n",
       "      <td>Uroda</td>\n",
       "      <td>['Uroda', 'Makijaż', 'Oczy', 'Tusze do rzęs']</td>\n",
       "      <td>Dzierżoniów</td>\n",
       "      <td>14.99</td>\n",
       "    </tr>\n",
       "    <tr>\n",
       "      <th>420017</th>\n",
       "      <td>Odzież, Obuwie, Dodatki</td>\n",
       "      <td>['Odzież, Obuwie, Dodatki', 'Przebrania, kosti...</td>\n",
       "      <td>Supraśl</td>\n",
       "      <td>5.99</td>\n",
       "    </tr>\n",
       "    <tr>\n",
       "      <th>420018</th>\n",
       "      <td>Dla Dzieci</td>\n",
       "      <td>['Dla Dzieci', 'Rowery i pojazdy', 'Rowery bie...</td>\n",
       "      <td>Poznań</td>\n",
       "      <td>200.00</td>\n",
       "    </tr>\n",
       "    <tr>\n",
       "      <th>420019</th>\n",
       "      <td>Motoryzacja</td>\n",
       "      <td>['Motoryzacja', 'Części samochodowe', 'Koła, f...</td>\n",
       "      <td>Pszów</td>\n",
       "      <td>500.00</td>\n",
       "    </tr>\n",
       "  </tbody>\n",
       "</table>\n",
       "<p>420020 rows × 4 columns</p>\n",
       "</div>"
      ],
      "text/plain": [
       "                  main_category  \\\n",
       "0                     Komputery   \n",
       "1       Odzież, Obuwie, Dodatki   \n",
       "2                   Dom i Ogród   \n",
       "3             Książki i Komiksy   \n",
       "4       Odzież, Obuwie, Dodatki   \n",
       "...                         ...   \n",
       "420015                RTV i AGD   \n",
       "420016                    Uroda   \n",
       "420017  Odzież, Obuwie, Dodatki   \n",
       "420018               Dla Dzieci   \n",
       "420019              Motoryzacja   \n",
       "\n",
       "                                               categories  \\\n",
       "0       ['Komputery', 'Dyski i napędy', 'Nośniki', 'No...   \n",
       "1       ['Odzież, Obuwie, Dodatki', 'Bielizna damska',...   \n",
       "2       ['Dom i Ogród', 'Budownictwo i Akcesoria', 'Śc...   \n",
       "3       ['Książki i Komiksy', 'Poradniki i albumy', 'Z...   \n",
       "4       ['Odzież, Obuwie, Dodatki', 'Ślub i wesele', '...   \n",
       "...                                                   ...   \n",
       "420015  ['RTV i AGD', 'Sprzęt audio dla domu', 'Odtwar...   \n",
       "420016      ['Uroda', 'Makijaż', 'Oczy', 'Tusze do rzęs']   \n",
       "420017  ['Odzież, Obuwie, Dodatki', 'Przebrania, kosti...   \n",
       "420018  ['Dla Dzieci', 'Rowery i pojazdy', 'Rowery bie...   \n",
       "420019  ['Motoryzacja', 'Części samochodowe', 'Koła, f...   \n",
       "\n",
       "                it_location   price  \n",
       "0                  Warszawa   59.99  \n",
       "1                  Warszawa    4.90  \n",
       "2                    Leszno  109.90  \n",
       "3       Wola Krzysztoporska   18.50  \n",
       "4                 BIAŁYSTOK   19.90  \n",
       "...                     ...     ...  \n",
       "420015              Kraśnik  180.00  \n",
       "420016          Dzierżoniów   14.99  \n",
       "420017              Supraśl    5.99  \n",
       "420018               Poznań  200.00  \n",
       "420019                Pszów  500.00  \n",
       "\n",
       "[420020 rows x 4 columns]"
      ]
     },
     "execution_count": 3,
     "metadata": {},
     "output_type": "execute_result"
    }
   ],
   "source": [
    "df = df_raw[[\"main_category\", \"categories\", \"it_location\", \"price\"]].copy()\n",
    "df # ograniczamy się do tego podzbioru"
   ]
  },
  {
   "cell_type": "code",
   "execution_count": 4,
   "id": "alive-tanzania",
   "metadata": {},
   "outputs": [
    {
     "name": "stdout",
     "output_type": "stream",
     "text": [
      "<class 'pandas.core.frame.DataFrame'>\n",
      "RangeIndex: 420020 entries, 0 to 420019\n",
      "Data columns (total 4 columns):\n",
      " #   Column         Non-Null Count   Dtype  \n",
      "---  ------         --------------   -----  \n",
      " 0   main_category  420020 non-null  object \n",
      " 1   categories     420020 non-null  object \n",
      " 2   it_location    420020 non-null  object \n",
      " 3   price          420020 non-null  float64\n",
      "dtypes: float64(1), object(3)\n",
      "memory usage: 12.8+ MB\n"
     ]
    }
   ],
   "source": [
    "df.info()"
   ]
  },
  {
   "cell_type": "markdown",
   "id": "absolute-minneapolis",
   "metadata": {},
   "source": [
    "# Preprocessing"
   ]
  },
  {
   "cell_type": "markdown",
   "id": "centered-mentor",
   "metadata": {},
   "source": [
    "## Czyszczenie"
   ]
  },
  {
   "cell_type": "code",
   "execution_count": 5,
   "id": "elect-trinidad",
   "metadata": {},
   "outputs": [],
   "source": [
    "df[\"it_location\"] = df[\"it_location\"].apply(lambda x: x.lower())"
   ]
  },
  {
   "cell_type": "code",
   "execution_count": 6,
   "id": "chronic-crossing",
   "metadata": {},
   "outputs": [
    {
     "data": {
      "text/plain": [
       "6761"
      ]
     },
     "execution_count": 6,
     "metadata": {},
     "output_type": "execute_result"
    }
   ],
   "source": [
    "minor_cats: {str:int} = {}\n",
    "\n",
    "def extract(data: str):\n",
    "    cats = eval(data) # próbowałem jsonem, nie dało się w łatwy sposób\n",
    "    for cat in cats:\n",
    "        if cat in minor_cats:\n",
    "            minor_cats[cat] +=1\n",
    "        else:\n",
    "            minor_cats[cat] = 1\n",
    "\n",
    "df[\"categories\"].apply(extract)\n",
    "len(minor_cats.keys())"
   ]
  },
  {
   "cell_type": "code",
   "execution_count": 7,
   "id": "complete-inflation",
   "metadata": {},
   "outputs": [
    {
     "name": "stdout",
     "output_type": "stream",
     "text": [
      "Dom i Ogród 91042\n",
      "Odzież, Obuwie, Dodatki 54257\n",
      "Pozostałe 47724\n",
      "Motoryzacja 45945\n",
      "Dla Dzieci 42107\n",
      "Ogród 37009\n",
      "Uroda 28096\n",
      "Sport i Turystyka 27532\n",
      "Obuwie 23951\n",
      "RTV i AGD 20341\n",
      "Części samochodowe 20325\n",
      "Wyposażenie 20305\n",
      "Rośliny 19896\n",
      "Telefony i Akcesoria 19805\n",
      "Akcesoria GSM 15602\n",
      "Komputery 14571\n",
      "Odzież damska 13499\n",
      "Zdrowie 13166\n",
      "Sportowe 12142\n",
      "Damskie 12058\n",
      "Książki i Komiksy 11572\n",
      "Budownictwo i Akcesoria 10362\n",
      "Odzież 10163\n",
      "Części motocyklowe 10098\n",
      "Kosmetyki pielęgnacyjne 9938\n"
     ]
    }
   ],
   "source": [
    "aaa = list(minor_cats.values())\n",
    "aaa.sort(reverse=True)\n",
    "aaa = aaa[:25] # 25 najliczniejszych\n",
    "\n",
    "for el in aaa: \n",
    "    for k, v in minor_cats.items():\n",
    "        if el == v:\n",
    "            print(k, v)"
   ]
  },
  {
   "cell_type": "markdown",
   "id": "particular-adoption",
   "metadata": {},
   "source": [
    "Wypadałoby to posprzątać, żeby mieć kodowanie OneHot dla każdej (lub wybranych) z pomniejszej kategorii, a dopiero później skorzystać z TargetEncoding. (przynajmniej tak mi się wydaje, że byłoby najlepiej)\n",
    "\n",
    "To chyba wykracza poza zakres zadania.\n",
    "Zwłaszcza, że otrzymana macierz byłaby wielka i pewnie wypadałoby skorzystać z jakiejś macierzy rzadkiej."
   ]
  },
  {
   "cell_type": "markdown",
   "id": "judicial-demographic",
   "metadata": {},
   "source": [
    "## Kodowanie"
   ]
  },
  {
   "cell_type": "code",
   "execution_count": 8,
   "id": "confidential-trustee",
   "metadata": {},
   "outputs": [],
   "source": [
    "from category_encoders.target_encoder import TargetEncoder"
   ]
  },
  {
   "cell_type": "code",
   "execution_count": 9,
   "id": "lasting-accident",
   "metadata": {},
   "outputs": [],
   "source": [
    "import warnings\n",
    "warnings.filterwarnings(\"ignore\", category=FutureWarning)  # pandas coś deprecatowało, a ja mam stare biblioteki"
   ]
  },
  {
   "cell_type": "code",
   "execution_count": 10,
   "id": "appropriate-martin",
   "metadata": {},
   "outputs": [],
   "source": [
    "def lazy_train_test_split(df_, seed=1382, size=0.2):\n",
    "    from sklearn.model_selection import train_test_split\n",
    "    \n",
    "    return train_test_split(df_.iloc[:, :-1], df_.iloc[:, -1], random_state=seed, test_size=size)"
   ]
  },
  {
   "cell_type": "code",
   "execution_count": 11,
   "id": "relative-alexandria",
   "metadata": {},
   "outputs": [
    {
     "data": {
      "text/html": [
       "<div>\n",
       "<style scoped>\n",
       "    .dataframe tbody tr th:only-of-type {\n",
       "        vertical-align: middle;\n",
       "    }\n",
       "\n",
       "    .dataframe tbody tr th {\n",
       "        vertical-align: top;\n",
       "    }\n",
       "\n",
       "    .dataframe thead th {\n",
       "        text-align: right;\n",
       "    }\n",
       "</style>\n",
       "<table border=\"1\" class=\"dataframe\">\n",
       "  <thead>\n",
       "    <tr style=\"text-align: right;\">\n",
       "      <th></th>\n",
       "      <th>main_category</th>\n",
       "      <th>categories</th>\n",
       "      <th>it_location</th>\n",
       "    </tr>\n",
       "  </thead>\n",
       "  <tbody>\n",
       "    <tr>\n",
       "      <th>205117</th>\n",
       "      <td>Sport i Turystyka</td>\n",
       "      <td>['Sport i Turystyka', 'Kolekcje', 'Naklejki (v...</td>\n",
       "      <td>sosnowiec</td>\n",
       "    </tr>\n",
       "    <tr>\n",
       "      <th>153506</th>\n",
       "      <td>Telefony i Akcesoria</td>\n",
       "      <td>['Telefony i Akcesoria', 'Telefony komórkowe',...</td>\n",
       "      <td>tychy</td>\n",
       "    </tr>\n",
       "    <tr>\n",
       "      <th>30705</th>\n",
       "      <td>Dom i Ogród</td>\n",
       "      <td>['Dom i Ogród', 'Ogród', 'Rośliny', 'Drzewa i ...</td>\n",
       "      <td>tarnowskie góry</td>\n",
       "    </tr>\n",
       "    <tr>\n",
       "      <th>303895</th>\n",
       "      <td>Dom i Ogród</td>\n",
       "      <td>['Dom i Ogród', 'Ogród', 'Rośliny', 'Nasiona',...</td>\n",
       "      <td>pabianice</td>\n",
       "    </tr>\n",
       "    <tr>\n",
       "      <th>148332</th>\n",
       "      <td>Telefony i Akcesoria</td>\n",
       "      <td>['Telefony i Akcesoria', 'Akcesoria GSM', 'Pok...</td>\n",
       "      <td>koszalin</td>\n",
       "    </tr>\n",
       "    <tr>\n",
       "      <th>...</th>\n",
       "      <td>...</td>\n",
       "      <td>...</td>\n",
       "      <td>...</td>\n",
       "    </tr>\n",
       "    <tr>\n",
       "      <th>253006</th>\n",
       "      <td>Komputery</td>\n",
       "      <td>['Komputery', 'Urządzenia wskazujące', 'Pady, ...</td>\n",
       "      <td>tarnowskie góry</td>\n",
       "    </tr>\n",
       "    <tr>\n",
       "      <th>136648</th>\n",
       "      <td>RTV i AGD</td>\n",
       "      <td>['RTV i AGD', 'Zasilanie', 'Baterie specjalist...</td>\n",
       "      <td>bydgoszcz</td>\n",
       "    </tr>\n",
       "    <tr>\n",
       "      <th>393030</th>\n",
       "      <td>Odzież, Obuwie, Dodatki</td>\n",
       "      <td>['Odzież, Obuwie, Dodatki', 'Odzież damska', '...</td>\n",
       "      <td>warszawa</td>\n",
       "    </tr>\n",
       "    <tr>\n",
       "      <th>417179</th>\n",
       "      <td>Odzież, Obuwie, Dodatki</td>\n",
       "      <td>['Odzież, Obuwie, Dodatki', 'Obuwie', 'Męskie'...</td>\n",
       "      <td>swidnik</td>\n",
       "    </tr>\n",
       "    <tr>\n",
       "      <th>138716</th>\n",
       "      <td>Dom i Ogród</td>\n",
       "      <td>['Dom i Ogród', 'Zwierzęta', 'Akwarystyka', 'F...</td>\n",
       "      <td>warszawa</td>\n",
       "    </tr>\n",
       "  </tbody>\n",
       "</table>\n",
       "<p>336016 rows × 3 columns</p>\n",
       "</div>"
      ],
      "text/plain": [
       "                  main_category  \\\n",
       "205117        Sport i Turystyka   \n",
       "153506     Telefony i Akcesoria   \n",
       "30705               Dom i Ogród   \n",
       "303895              Dom i Ogród   \n",
       "148332     Telefony i Akcesoria   \n",
       "...                         ...   \n",
       "253006                Komputery   \n",
       "136648                RTV i AGD   \n",
       "393030  Odzież, Obuwie, Dodatki   \n",
       "417179  Odzież, Obuwie, Dodatki   \n",
       "138716              Dom i Ogród   \n",
       "\n",
       "                                               categories      it_location  \n",
       "205117  ['Sport i Turystyka', 'Kolekcje', 'Naklejki (v...        sosnowiec  \n",
       "153506  ['Telefony i Akcesoria', 'Telefony komórkowe',...            tychy  \n",
       "30705   ['Dom i Ogród', 'Ogród', 'Rośliny', 'Drzewa i ...  tarnowskie góry  \n",
       "303895  ['Dom i Ogród', 'Ogród', 'Rośliny', 'Nasiona',...        pabianice  \n",
       "148332  ['Telefony i Akcesoria', 'Akcesoria GSM', 'Pok...         koszalin  \n",
       "...                                                   ...              ...  \n",
       "253006  ['Komputery', 'Urządzenia wskazujące', 'Pady, ...  tarnowskie góry  \n",
       "136648  ['RTV i AGD', 'Zasilanie', 'Baterie specjalist...        bydgoszcz  \n",
       "393030  ['Odzież, Obuwie, Dodatki', 'Odzież damska', '...         warszawa  \n",
       "417179  ['Odzież, Obuwie, Dodatki', 'Obuwie', 'Męskie'...          swidnik  \n",
       "138716  ['Dom i Ogród', 'Zwierzęta', 'Akwarystyka', 'F...         warszawa  \n",
       "\n",
       "[336016 rows x 3 columns]"
      ]
     },
     "execution_count": 11,
     "metadata": {},
     "output_type": "execute_result"
    }
   ],
   "source": [
    "X_train, X_test, y_train, y_test = lazy_train_test_split(df)\n",
    "X_train"
   ]
  },
  {
   "cell_type": "code",
   "execution_count": 12,
   "id": "fresh-calvin",
   "metadata": {},
   "outputs": [
    {
     "data": {
      "text/html": [
       "<div>\n",
       "<style scoped>\n",
       "    .dataframe tbody tr th:only-of-type {\n",
       "        vertical-align: middle;\n",
       "    }\n",
       "\n",
       "    .dataframe tbody tr th {\n",
       "        vertical-align: top;\n",
       "    }\n",
       "\n",
       "    .dataframe thead th {\n",
       "        text-align: right;\n",
       "    }\n",
       "</style>\n",
       "<table border=\"1\" class=\"dataframe\">\n",
       "  <thead>\n",
       "    <tr style=\"text-align: right;\">\n",
       "      <th></th>\n",
       "      <th>main_category</th>\n",
       "      <th>categories</th>\n",
       "      <th>it_location</th>\n",
       "    </tr>\n",
       "  </thead>\n",
       "  <tbody>\n",
       "    <tr>\n",
       "      <th>380433</th>\n",
       "      <td>72.146263</td>\n",
       "      <td>5.156760</td>\n",
       "      <td>4.296046</td>\n",
       "    </tr>\n",
       "    <tr>\n",
       "      <th>140381</th>\n",
       "      <td>42.257332</td>\n",
       "      <td>21.098974</td>\n",
       "      <td>89.134020</td>\n",
       "    </tr>\n",
       "    <tr>\n",
       "      <th>48754</th>\n",
       "      <td>72.146263</td>\n",
       "      <td>35.510822</td>\n",
       "      <td>88.532352</td>\n",
       "    </tr>\n",
       "    <tr>\n",
       "      <th>332384</th>\n",
       "      <td>122.591535</td>\n",
       "      <td>36.032143</td>\n",
       "      <td>54.005581</td>\n",
       "    </tr>\n",
       "    <tr>\n",
       "      <th>327511</th>\n",
       "      <td>77.172536</td>\n",
       "      <td>32.222653</td>\n",
       "      <td>78.651054</td>\n",
       "    </tr>\n",
       "  </tbody>\n",
       "</table>\n",
       "</div>"
      ],
      "text/plain": [
       "        main_category  categories  it_location\n",
       "380433      72.146263    5.156760     4.296046\n",
       "140381      42.257332   21.098974    89.134020\n",
       "48754       72.146263   35.510822    88.532352\n",
       "332384     122.591535   36.032143    54.005581\n",
       "327511      77.172536   32.222653    78.651054"
      ]
     },
     "execution_count": 12,
     "metadata": {},
     "output_type": "execute_result"
    }
   ],
   "source": [
    "te1_test= TargetEncoder()\n",
    "te1_test.fit_transform(X_test, y_test).head()"
   ]
  },
  {
   "cell_type": "code",
   "execution_count": 14,
   "id": "committed-albert",
   "metadata": {},
   "outputs": [
    {
     "data": {
      "text/html": [
       "<div>\n",
       "<style scoped>\n",
       "    .dataframe tbody tr th:only-of-type {\n",
       "        vertical-align: middle;\n",
       "    }\n",
       "\n",
       "    .dataframe tbody tr th {\n",
       "        vertical-align: top;\n",
       "    }\n",
       "\n",
       "    .dataframe thead th {\n",
       "        text-align: right;\n",
       "    }\n",
       "</style>\n",
       "<table border=\"1\" class=\"dataframe\">\n",
       "  <thead>\n",
       "    <tr style=\"text-align: right;\">\n",
       "      <th></th>\n",
       "      <th>main_category</th>\n",
       "      <th>categories</th>\n",
       "      <th>it_location</th>\n",
       "    </tr>\n",
       "  </thead>\n",
       "  <tbody>\n",
       "    <tr>\n",
       "      <th>380433</th>\n",
       "      <td>74.269836</td>\n",
       "      <td>40.784944</td>\n",
       "      <td>40.357086</td>\n",
       "    </tr>\n",
       "    <tr>\n",
       "      <th>140381</th>\n",
       "      <td>59.332717</td>\n",
       "      <td>48.765076</td>\n",
       "      <td>82.783445</td>\n",
       "    </tr>\n",
       "    <tr>\n",
       "      <th>48754</th>\n",
       "      <td>74.269836</td>\n",
       "      <td>55.970789</td>\n",
       "      <td>82.498828</td>\n",
       "    </tr>\n",
       "    <tr>\n",
       "      <th>332384</th>\n",
       "      <td>99.545855</td>\n",
       "      <td>56.231631</td>\n",
       "      <td>65.217223</td>\n",
       "    </tr>\n",
       "    <tr>\n",
       "      <th>327511</th>\n",
       "      <td>76.803128</td>\n",
       "      <td>54.324744</td>\n",
       "      <td>77.541846</td>\n",
       "    </tr>\n",
       "  </tbody>\n",
       "</table>\n",
       "</div>"
      ],
      "text/plain": [
       "        main_category  categories  it_location\n",
       "380433      74.269836   40.784944    40.357086\n",
       "140381      59.332717   48.765076    82.783445\n",
       "48754       74.269836   55.970789    82.498828\n",
       "332384      99.545855   56.231631    65.217223\n",
       "327511      76.803128   54.324744    77.541846"
      ]
     },
     "execution_count": 14,
     "metadata": {},
     "output_type": "execute_result"
    }
   ],
   "source": [
    "te3_test= TargetEncoder(smoothing=1000000)\n",
    "te3_test.fit_transform(X_test, y_test).head()"
   ]
  },
  {
   "cell_type": "code",
   "execution_count": 15,
   "id": "critical-mills",
   "metadata": {},
   "outputs": [
    {
     "data": {
      "text/plain": [
       "76.43222941764678"
      ]
     },
     "execution_count": 15,
     "metadata": {},
     "output_type": "execute_result"
    }
   ],
   "source": [
    "y_test.mean()"
   ]
  },
  {
   "cell_type": "markdown",
   "id": "passing-vocabulary",
   "metadata": {},
   "source": [
    "Parametr `smoothing` kontroluje \"wygładzanie\" średniej po kategoriach poprzez branie pod uwagę średniej z całego `y`.\n",
    "Większy parametr powoduje, że wszystkie zakodowane kategorie są bliższe ogólnej średniej, przez co unikamy overfittingu.\n",
    "Ma to duży wpływ na kategorie o małych licznościach, które mogą być anomalią.\n",
    "\n",
    "W naszym zbiorze cecha `categories` może być podatna na overfitting z tego powodu, więc skorzystam z `smoothing=100_000`."
   ]
  },
  {
   "cell_type": "code",
   "execution_count": 48,
   "id": "mexican-ability",
   "metadata": {},
   "outputs": [],
   "source": [
    "# dzielę na nowo\n",
    "GLOBAL_SETS = lazy_train_test_split(df)\n",
    "X_train, X_test, y_train, y_test = GLOBAL_SETS\n",
    "\n",
    "smoothing = 1e5\n",
    "\n",
    "te_train = TargetEncoder(smoothing=smoothing)\n",
    "X_train_te = te_train.fit_transform(X_train, y_train)\n",
    "\n",
    "te_test = TargetEncoder(smoothing=smoothing)\n",
    "X_test_te = te_test.fit_transform(X_test, y_test)\n",
    "\n",
    "GLOBAL_SETS_ENC = (X_train_te, X_test_te, y_train, y_test)"
   ]
  },
  {
   "cell_type": "markdown",
   "id": "broad-sleeve",
   "metadata": {},
   "source": [
    "# Modele\n",
    "## Regresja liniowa"
   ]
  },
  {
   "cell_type": "code",
   "execution_count": 49,
   "id": "attempted-fusion",
   "metadata": {},
   "outputs": [],
   "source": [
    "from sklearn.linear_model import LinearRegression\n",
    "\n",
    "lr = LinearRegression()\n",
    "lr = lr.fit(X_train_te, y_train)"
   ]
  },
  {
   "cell_type": "code",
   "execution_count": 69,
   "id": "limited-burns",
   "metadata": {},
   "outputs": [
    {
     "name": "stdout",
     "output_type": "stream",
     "text": [
      "R2: 0.1719\n",
      "RMSE: 308.8626\n"
     ]
    }
   ],
   "source": [
    "def print_reg_scores(model, sets=GLOBAL_SETS_ENC, ret=False, print_results=True):\n",
    "    from sklearn.metrics import r2_score, mean_squared_error\n",
    "    \n",
    "    X_train_, X_test_, y_train_, y_test_  = sets\n",
    "    \n",
    "    r2 = r2_score(y_test_, model.predict(X_test_))\n",
    "    rmse = mean_squared_error(y_test_, model.predict(X_test_), squared=False)\n",
    "    if print_results:\n",
    "        print(f\"R2: {r2:.4f}\")\n",
    "        print(f\"RMSE: {rmse:.4f}\")\n",
    "    \n",
    "    if ret:\n",
    "        return r2, rmse\n",
    "print_reg_scores(lr)"
   ]
  },
  {
   "cell_type": "markdown",
   "id": "dental-welsh",
   "metadata": {},
   "source": [
    "## Więcej modeli\n",
    "Wytrenuję kilka modeli na różnych danych z preprocessingu ze zmienionym parametrem `smoothing`, oraz porównam LinearRegression, RidgeRegression i LassoRegression."
   ]
  },
  {
   "cell_type": "code",
   "execution_count": 85,
   "id": "yellow-potato",
   "metadata": {},
   "outputs": [],
   "source": [
    "def test_smoothing(smoothing_value, ret=False, model_constructor=None, sets=GLOBAL_SETS, print_results=True):\n",
    "    XTRAIN, XTEST, y_train_, y_test_ = sets\n",
    "\n",
    "    te_train_ = TargetEncoder(smoothing=smoothing_value)\n",
    "    XTRAIN2 = te_train_.fit_transform(XTRAIN, y_train_)\n",
    "\n",
    "    te_test_ = TargetEncoder(smoothing=smoothing_value)\n",
    "    XTEST2 = te_test_.fit_transform(XTEST, y_test_)\n",
    "    \n",
    "    local_model = model_constructor()\n",
    "    local_model = local_model.fit(XTRAIN2, y_train_)\n",
    "    #print(local_model)\n",
    "\n",
    "    if print_results:\n",
    "        print(f\"Smoothing value = {smoothing_value:.0e}\")\n",
    "    t = print_reg_scores(local_model, ret=ret, sets=(XTRAIN2, XTEST2, y_train_, y_test_), print_results=print_results)\n",
    "    if print_results:\n",
    "        print(\"\")\n",
    "    if ret:\n",
    "        return t\n",
    "\n",
    "def rate_regressor(model, values = [1e-2, 1e-1, 1e1, 1e2, 1e3, 1e4], print_results=True):\n",
    "    r2_list = []\n",
    "    rmse_list = []\n",
    "    print(model)\n",
    "    for i in values:\n",
    "        r2, rmse = test_smoothing(i, ret=True, model_constructor=model, print_results=print_results)\n",
    "        r2_list.append(r2)\n",
    "        rmse_list.append(rmse)\n",
    "    return pd.DataFrame({\"smoothing\": list(map(lambda x: f\"{x:.1e}\", values)), \"r2_score\": r2_list, \"rms_error\": rmse_list})"
   ]
  },
  {
   "cell_type": "code",
   "execution_count": 86,
   "id": "physical-investment",
   "metadata": {},
   "outputs": [
    {
     "name": "stdout",
     "output_type": "stream",
     "text": [
      "<class 'sklearn.linear_model._base.LinearRegression'>\n",
      "Smoothing value = 1e-02\n",
      "R2: 0.1719\n",
      "RMSE: 308.8590\n",
      "\n",
      "Smoothing value = 1e-01\n",
      "R2: 0.1719\n",
      "RMSE: 308.8591\n",
      "\n",
      "Smoothing value = 1e+01\n",
      "R2: 0.1574\n",
      "RMSE: 311.5570\n",
      "\n",
      "Smoothing value = 1e+02\n",
      "R2: 0.1603\n",
      "RMSE: 311.0082\n",
      "\n",
      "Smoothing value = 1e+03\n",
      "R2: 0.1709\n",
      "RMSE: 309.0446\n",
      "\n",
      "Smoothing value = 1e+04\n",
      "R2: 0.1719\n",
      "RMSE: 308.8568\n",
      "\n"
     ]
    }
   ],
   "source": [
    "lr_results = rate_regressor(LinearRegression)"
   ]
  },
  {
   "cell_type": "code",
   "execution_count": 77,
   "id": "heavy-proof",
   "metadata": {},
   "outputs": [
    {
     "data": {
      "image/png": "[encoded data removed]",
      "text/plain": [
       "<Figure size 432x288 with 1 Axes>"
      ]
     },
     "metadata": {
      "needs_background": "light"
     },
     "output_type": "display_data"
    },
    {
     "data": {
      "image/png": "[encoded data removed]",
      "text/plain": [
       "<Figure size 432x288 with 1 Axes>"
      ]
     },
     "metadata": {
      "needs_background": "light"
     },
     "output_type": "display_data"
    }
   ],
   "source": [
    "sns.barplot(data=lr_results, x=\"smoothing\", y=\"r2_score\", color=\"C0\")\n",
    "plt.title(\"Linear regression R2 scores and RMS errors for different smoothings\")\n",
    "plt.show()\n",
    "sns.barplot(data=lr_results, x=\"smoothing\", y=\"rms_error\", color=\"C0\")\n",
    "plt.show()"
   ]
  },
  {
   "cell_type": "code",
   "execution_count": 78,
   "id": "republican-nebraska",
   "metadata": {},
   "outputs": [
    {
     "name": "stdout",
     "output_type": "stream",
     "text": [
      "<class 'sklearn.linear_model._ridge.Ridge'>\n"
     ]
    }
   ],
   "source": [
    "from sklearn.linear_model import Ridge\n",
    "\n",
    "rr_results = rate_regressor(Ridge, print_results=False)"
   ]
  },
  {
   "cell_type": "code",
   "execution_count": 81,
   "id": "static-diesel",
   "metadata": {},
   "outputs": [
    {
     "name": "stdout",
     "output_type": "stream",
     "text": [
      "<class 'sklearn.linear_model._coordinate_descent.Lasso'>\n"
     ]
    }
   ],
   "source": [
    "from sklearn.linear_model import Lasso\n",
    "\n",
    "la_results = rate_regressor(Lasso, print_results=False)"
   ]
  },
  {
   "cell_type": "code",
   "execution_count": 80,
   "id": "listed-motivation",
   "metadata": {},
   "outputs": [
    {
     "data": {
      "image/png": "[encoded data removed]",
      "text/plain": [
       "<Figure size 432x288 with 1 Axes>"
      ]
     },
     "metadata": {
      "needs_background": "light"
     },
     "output_type": "display_data"
    },
    {
     "data": {
      "image/png": "[encoded data removed]",
      "text/plain": [
       "<Figure size 432x288 with 1 Axes>"
      ]
     },
     "metadata": {
      "needs_background": "light"
     },
     "output_type": "display_data"
    }
   ],
   "source": [
    "lr_results[\"model\"] = \"Linear regresssion\"\n",
    "rr_results[\"model\"] = \"Ridge regression\"\n",
    "la_results[\"model\"] = \"Lasso regression\"\n",
    "\n",
    "all_results = lr_results.append(rr_results)\n",
    "all_results = all_results.append(la_results)\n",
    "\n",
    "sns.barplot(data=all_results, x=\"smoothing\", y=\"r2_score\", hue=\"model\")\n",
    "plt.legend(loc=3)\n",
    "plt.show()\n",
    "sns.barplot(data=all_results, x=\"smoothing\", y=\"rms_error\", hue=\"model\")\n",
    "plt.legend(loc=3)\n",
    "\n",
    "plt.show()"
   ]
  },
  {
   "cell_type": "markdown",
   "id": "indonesian-religious",
   "metadata": {},
   "source": [
    "Nie ma różnicy, być może coś popsułem..."
   ]
  },
  {
   "cell_type": "code",
   "execution_count": 82,
   "id": "eastern-prison",
   "metadata": {},
   "outputs": [
    {
     "data": {
      "text/html": [
       "<div>\n",
       "<style scoped>\n",
       "    .dataframe tbody tr th:only-of-type {\n",
       "        vertical-align: middle;\n",
       "    }\n",
       "\n",
       "    .dataframe tbody tr th {\n",
       "        vertical-align: top;\n",
       "    }\n",
       "\n",
       "    .dataframe thead th {\n",
       "        text-align: right;\n",
       "    }\n",
       "</style>\n",
       "<table border=\"1\" class=\"dataframe\">\n",
       "  <thead>\n",
       "    <tr style=\"text-align: right;\">\n",
       "      <th></th>\n",
       "      <th>smoothing</th>\n",
       "      <th>r2_score</th>\n",
       "      <th>rms_error</th>\n",
       "      <th>model</th>\n",
       "    </tr>\n",
       "  </thead>\n",
       "  <tbody>\n",
       "    <tr>\n",
       "      <th>5</th>\n",
       "      <td>1.0e+03</td>\n",
       "      <td>0.170914</td>\n",
       "      <td>309.044556</td>\n",
       "      <td>Linear regresssion</td>\n",
       "    </tr>\n",
       "    <tr>\n",
       "      <th>5</th>\n",
       "      <td>1.0e+03</td>\n",
       "      <td>0.170914</td>\n",
       "      <td>309.044556</td>\n",
       "      <td>Ridge regression</td>\n",
       "    </tr>\n",
       "    <tr>\n",
       "      <th>5</th>\n",
       "      <td>1.0e+03</td>\n",
       "      <td>0.170918</td>\n",
       "      <td>309.043711</td>\n",
       "      <td>Lasso regression</td>\n",
       "    </tr>\n",
       "  </tbody>\n",
       "</table>\n",
       "</div>"
      ],
      "text/plain": [
       "  smoothing  r2_score   rms_error               model\n",
       "5   1.0e+03  0.170914  309.044556  Linear regresssion\n",
       "5   1.0e+03  0.170914  309.044556    Ridge regression\n",
       "5   1.0e+03  0.170918  309.043711    Lasso regression"
      ]
     },
     "execution_count": 82,
     "metadata": {},
     "output_type": "execute_result"
    }
   ],
   "source": [
    "all_results[all_results[\"smoothing\"] == \"1.0e+03\"]"
   ]
  },
  {
   "cell_type": "markdown",
   "id": "dried-memphis",
   "metadata": {},
   "source": [
    "# Drzewo time\n",
    "Jeszcze nie korzystałem z drzew do regresji i jestem ciekawy jak wyglądają wyniki."
   ]
  },
  {
   "cell_type": "code",
   "execution_count": 61,
   "id": "exciting-rebel",
   "metadata": {},
   "outputs": [],
   "source": [
    "from sklearn.tree import DecisionTreeRegressor\n",
    "\n",
    "dtr = DecisionTreeRegressor()\n",
    "dtr = dtr.fit(X_train_te, y_train)"
   ]
  },
  {
   "cell_type": "code",
   "execution_count": 62,
   "id": "nutritional-romance",
   "metadata": {},
   "outputs": [
    {
     "name": "stdout",
     "output_type": "stream",
     "text": [
      "R2: 0.0252\n",
      "RMSE: 335.1068\n"
     ]
    }
   ],
   "source": [
    "print_reg_scores(dtr)"
   ]
  },
  {
   "cell_type": "markdown",
   "id": "difficult-adventure",
   "metadata": {},
   "source": [
    "No wybitne nie jest, ale bardzo się przeuczyło."
   ]
  },
  {
   "cell_type": "code",
   "execution_count": 63,
   "id": "meaning-finger",
   "metadata": {},
   "outputs": [
    {
     "data": {
      "text/plain": [
       "51"
      ]
     },
     "execution_count": 63,
     "metadata": {},
     "output_type": "execute_result"
    }
   ],
   "source": [
    "dtr.get_depth()"
   ]
  },
  {
   "cell_type": "code",
   "execution_count": 64,
   "id": "hundred-popularity",
   "metadata": {},
   "outputs": [
    {
     "data": {
      "text/plain": [
       "GridSearchCV(cv=5, estimator=DecisionTreeRegressor(),\n",
       "             param_grid={'max_depth': [1, 2, 3, 4, 5, 6, 7, 8, 9, 10, 11, 12,\n",
       "                                       13, 14, 15, 16, 17, 18, 19]})"
      ]
     },
     "execution_count": 64,
     "metadata": {},
     "output_type": "execute_result"
    }
   ],
   "source": [
    "from sklearn.model_selection import GridSearchCV\n",
    "\n",
    "gsdtr = GridSearchCV(\n",
    "    estimator=DecisionTreeRegressor(),\n",
    "    param_grid={\n",
    "        \"max_depth\": [i for i in range(1, 20)]\n",
    "    },\n",
    "    cv=5\n",
    ")\n",
    "\n",
    "gsdtr.fit(X_train_te, y_train)"
   ]
  },
  {
   "cell_type": "code",
   "execution_count": 65,
   "id": "enormous-reaction",
   "metadata": {},
   "outputs": [
    {
     "data": {
      "text/plain": [
       "DecisionTreeRegressor(max_depth=2)"
      ]
     },
     "execution_count": 65,
     "metadata": {},
     "output_type": "execute_result"
    }
   ],
   "source": [
    "gsdtr.best_estimator_"
   ]
  },
  {
   "cell_type": "code",
   "execution_count": 66,
   "id": "therapeutic-vacation",
   "metadata": {},
   "outputs": [
    {
     "name": "stdout",
     "output_type": "stream",
     "text": [
      "R2: 0.0948\n",
      "RMSE: 322.9205\n"
     ]
    }
   ],
   "source": [
    "print_reg_scores(gsdtr.best_estimator_)"
   ]
  },
  {
   "cell_type": "markdown",
   "id": "biblical-reaction",
   "metadata": {},
   "source": [
    "Chyba to nie jest najlepsze podejście dla zadań regresji."
   ]
  },
  {
   "cell_type": "code",
   "execution_count": null,
   "id": "blank-championship",
   "metadata": {},
   "outputs": [],
   "source": []
  }
 ],
 "metadata": {
  "kernelspec": {
   "display_name": "Python 3",
   "language": "python",
   "name": "python3"
  },
  "language_info": {
   "codemirror_mode": {
    "name": "ipython",
    "version": 3
   },
   "file_extension": ".py",
   "mimetype": "text/x-python",
   "name": "python",
   "nbconvert_exporter": "python",
   "pygments_lexer": "ipython3",
   "version": "3.8.6"
  }
 },
 "nbformat": 4,
 "nbformat_minor": 5
}
