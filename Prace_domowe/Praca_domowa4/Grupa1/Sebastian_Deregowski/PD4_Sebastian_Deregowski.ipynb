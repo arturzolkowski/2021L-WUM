{
 "cells": [
  {
   "cell_type": "markdown",
   "metadata": {},
   "source": [
    "# Praca domowa 4\n",
    "### Sebastian Deręgowski"
   ]
  },
  {
   "cell_type": "code",
   "execution_count": 1,
   "metadata": {},
   "outputs": [],
   "source": [
    "import warnings\n",
    "warnings.filterwarnings('ignore')\n",
    "import dalex as dx\n",
    "import pandas as pd\n",
    "import numpy as np\n",
    "from dalex.datasets import load_apartments"
   ]
  },
  {
   "cell_type": "markdown",
   "metadata": {},
   "source": [
    "Przyjrzyjmy się bliżej naszemu pierwszemu zbiorowi:"
   ]
  },
  {
   "cell_type": "code",
   "execution_count": 2,
   "metadata": {
    "scrolled": true
   },
   "outputs": [
    {
     "data": {
      "text/html": [
       "<div>\n",
       "<style scoped>\n",
       "    .dataframe tbody tr th:only-of-type {\n",
       "        vertical-align: middle;\n",
       "    }\n",
       "\n",
       "    .dataframe tbody tr th {\n",
       "        vertical-align: top;\n",
       "    }\n",
       "\n",
       "    .dataframe thead th {\n",
       "        text-align: right;\n",
       "    }\n",
       "</style>\n",
       "<table border=\"1\" class=\"dataframe\">\n",
       "  <thead>\n",
       "    <tr style=\"text-align: right;\">\n",
       "      <th></th>\n",
       "      <th>m2_price</th>\n",
       "      <th>construction_year</th>\n",
       "      <th>surface</th>\n",
       "      <th>floor</th>\n",
       "      <th>no_rooms</th>\n",
       "      <th>district</th>\n",
       "    </tr>\n",
       "  </thead>\n",
       "  <tbody>\n",
       "    <tr>\n",
       "      <th>1</th>\n",
       "      <td>5897</td>\n",
       "      <td>1953</td>\n",
       "      <td>25</td>\n",
       "      <td>3</td>\n",
       "      <td>1</td>\n",
       "      <td>Srodmiescie</td>\n",
       "    </tr>\n",
       "    <tr>\n",
       "      <th>2</th>\n",
       "      <td>1818</td>\n",
       "      <td>1992</td>\n",
       "      <td>143</td>\n",
       "      <td>9</td>\n",
       "      <td>5</td>\n",
       "      <td>Bielany</td>\n",
       "    </tr>\n",
       "    <tr>\n",
       "      <th>3</th>\n",
       "      <td>3643</td>\n",
       "      <td>1937</td>\n",
       "      <td>56</td>\n",
       "      <td>1</td>\n",
       "      <td>2</td>\n",
       "      <td>Praga</td>\n",
       "    </tr>\n",
       "    <tr>\n",
       "      <th>4</th>\n",
       "      <td>3517</td>\n",
       "      <td>1995</td>\n",
       "      <td>93</td>\n",
       "      <td>7</td>\n",
       "      <td>3</td>\n",
       "      <td>Ochota</td>\n",
       "    </tr>\n",
       "    <tr>\n",
       "      <th>5</th>\n",
       "      <td>3013</td>\n",
       "      <td>1992</td>\n",
       "      <td>144</td>\n",
       "      <td>6</td>\n",
       "      <td>5</td>\n",
       "      <td>Mokotow</td>\n",
       "    </tr>\n",
       "  </tbody>\n",
       "</table>\n",
       "</div>"
      ],
      "text/plain": [
       "   m2_price  construction_year  surface  floor  no_rooms     district\n",
       "1      5897               1953       25      3         1  Srodmiescie\n",
       "2      1818               1992      143      9         5      Bielany\n",
       "3      3643               1937       56      1         2        Praga\n",
       "4      3517               1995       93      7         3       Ochota\n",
       "5      3013               1992      144      6         5      Mokotow"
      ]
     },
     "execution_count": 2,
     "metadata": {},
     "output_type": "execute_result"
    }
   ],
   "source": [
    "apartments = load_apartments()\n",
    "apartments.head()"
   ]
  },
  {
   "cell_type": "code",
   "execution_count": 3,
   "metadata": {
    "scrolled": false
   },
   "outputs": [
    {
     "name": "stdout",
     "output_type": "stream",
     "text": [
      "<class 'pandas.core.frame.DataFrame'>\n",
      "Int64Index: 1000 entries, 1 to 1000\n",
      "Data columns (total 6 columns):\n",
      " #   Column             Non-Null Count  Dtype \n",
      "---  ------             --------------  ----- \n",
      " 0   m2_price           1000 non-null   int64 \n",
      " 1   construction_year  1000 non-null   int64 \n",
      " 2   surface            1000 non-null   int64 \n",
      " 3   floor              1000 non-null   int64 \n",
      " 4   no_rooms           1000 non-null   int64 \n",
      " 5   district           1000 non-null   object\n",
      "dtypes: int64(5), object(1)\n",
      "memory usage: 54.7+ KB\n"
     ]
    }
   ],
   "source": [
    "apartments.info()"
   ]
  },
  {
   "cell_type": "markdown",
   "metadata": {},
   "source": [
    "Wszystkie wartości są nie-nullowe, jedna zmienna jest kategoryczna. Sprawdźmy ile różnych wartości przyjmuje:"
   ]
  },
  {
   "cell_type": "code",
   "execution_count": 4,
   "metadata": {},
   "outputs": [
    {
     "data": {
      "text/plain": [
       "Mokotow        107\n",
       "Wola           106\n",
       "Ursus          105\n",
       "Ursynow        103\n",
       "Srodmiescie    100\n",
       "Bemowo          98\n",
       "Zoliborz        97\n",
       "Ochota          96\n",
       "Bielany         96\n",
       "Praga           92\n",
       "Name: district, dtype: int64"
      ]
     },
     "execution_count": 4,
     "metadata": {},
     "output_type": "execute_result"
    }
   ],
   "source": [
    "apartments.district.value_counts()"
   ]
  },
  {
   "cell_type": "markdown",
   "metadata": {},
   "source": [
    "Jest ich 10 i liczebność każdej z nich jest podobna, więc opłaca się zrobić OneHotEncoding."
   ]
  },
  {
   "cell_type": "code",
   "execution_count": 5,
   "metadata": {},
   "outputs": [
    {
     "data": {
      "text/html": [
       "<div>\n",
       "<style scoped>\n",
       "    .dataframe tbody tr th:only-of-type {\n",
       "        vertical-align: middle;\n",
       "    }\n",
       "\n",
       "    .dataframe tbody tr th {\n",
       "        vertical-align: top;\n",
       "    }\n",
       "\n",
       "    .dataframe thead th {\n",
       "        text-align: right;\n",
       "    }\n",
       "</style>\n",
       "<table border=\"1\" class=\"dataframe\">\n",
       "  <thead>\n",
       "    <tr style=\"text-align: right;\">\n",
       "      <th></th>\n",
       "      <th>m2_price</th>\n",
       "      <th>construction_year</th>\n",
       "      <th>surface</th>\n",
       "      <th>floor</th>\n",
       "      <th>no_rooms</th>\n",
       "      <th>district_Bemowo</th>\n",
       "      <th>district_Bielany</th>\n",
       "      <th>district_Mokotow</th>\n",
       "      <th>district_Ochota</th>\n",
       "      <th>district_Praga</th>\n",
       "      <th>district_Srodmiescie</th>\n",
       "      <th>district_Ursus</th>\n",
       "      <th>district_Ursynow</th>\n",
       "      <th>district_Wola</th>\n",
       "      <th>district_Zoliborz</th>\n",
       "    </tr>\n",
       "  </thead>\n",
       "  <tbody>\n",
       "    <tr>\n",
       "      <th>1</th>\n",
       "      <td>5897</td>\n",
       "      <td>1953</td>\n",
       "      <td>25</td>\n",
       "      <td>3</td>\n",
       "      <td>1</td>\n",
       "      <td>0</td>\n",
       "      <td>0</td>\n",
       "      <td>0</td>\n",
       "      <td>0</td>\n",
       "      <td>0</td>\n",
       "      <td>1</td>\n",
       "      <td>0</td>\n",
       "      <td>0</td>\n",
       "      <td>0</td>\n",
       "      <td>0</td>\n",
       "    </tr>\n",
       "    <tr>\n",
       "      <th>2</th>\n",
       "      <td>1818</td>\n",
       "      <td>1992</td>\n",
       "      <td>143</td>\n",
       "      <td>9</td>\n",
       "      <td>5</td>\n",
       "      <td>0</td>\n",
       "      <td>1</td>\n",
       "      <td>0</td>\n",
       "      <td>0</td>\n",
       "      <td>0</td>\n",
       "      <td>0</td>\n",
       "      <td>0</td>\n",
       "      <td>0</td>\n",
       "      <td>0</td>\n",
       "      <td>0</td>\n",
       "    </tr>\n",
       "    <tr>\n",
       "      <th>3</th>\n",
       "      <td>3643</td>\n",
       "      <td>1937</td>\n",
       "      <td>56</td>\n",
       "      <td>1</td>\n",
       "      <td>2</td>\n",
       "      <td>0</td>\n",
       "      <td>0</td>\n",
       "      <td>0</td>\n",
       "      <td>0</td>\n",
       "      <td>1</td>\n",
       "      <td>0</td>\n",
       "      <td>0</td>\n",
       "      <td>0</td>\n",
       "      <td>0</td>\n",
       "      <td>0</td>\n",
       "    </tr>\n",
       "    <tr>\n",
       "      <th>4</th>\n",
       "      <td>3517</td>\n",
       "      <td>1995</td>\n",
       "      <td>93</td>\n",
       "      <td>7</td>\n",
       "      <td>3</td>\n",
       "      <td>0</td>\n",
       "      <td>0</td>\n",
       "      <td>0</td>\n",
       "      <td>1</td>\n",
       "      <td>0</td>\n",
       "      <td>0</td>\n",
       "      <td>0</td>\n",
       "      <td>0</td>\n",
       "      <td>0</td>\n",
       "      <td>0</td>\n",
       "    </tr>\n",
       "    <tr>\n",
       "      <th>5</th>\n",
       "      <td>3013</td>\n",
       "      <td>1992</td>\n",
       "      <td>144</td>\n",
       "      <td>6</td>\n",
       "      <td>5</td>\n",
       "      <td>0</td>\n",
       "      <td>0</td>\n",
       "      <td>1</td>\n",
       "      <td>0</td>\n",
       "      <td>0</td>\n",
       "      <td>0</td>\n",
       "      <td>0</td>\n",
       "      <td>0</td>\n",
       "      <td>0</td>\n",
       "      <td>0</td>\n",
       "    </tr>\n",
       "  </tbody>\n",
       "</table>\n",
       "</div>"
      ],
      "text/plain": [
       "   m2_price  construction_year  surface  floor  no_rooms  district_Bemowo  \\\n",
       "1      5897               1953       25      3         1                0   \n",
       "2      1818               1992      143      9         5                0   \n",
       "3      3643               1937       56      1         2                0   \n",
       "4      3517               1995       93      7         3                0   \n",
       "5      3013               1992      144      6         5                0   \n",
       "\n",
       "   district_Bielany  district_Mokotow  district_Ochota  district_Praga  \\\n",
       "1                 0                 0                0               0   \n",
       "2                 1                 0                0               0   \n",
       "3                 0                 0                0               1   \n",
       "4                 0                 0                1               0   \n",
       "5                 0                 1                0               0   \n",
       "\n",
       "   district_Srodmiescie  district_Ursus  district_Ursynow  district_Wola  \\\n",
       "1                     1               0                 0              0   \n",
       "2                     0               0                 0              0   \n",
       "3                     0               0                 0              0   \n",
       "4                     0               0                 0              0   \n",
       "5                     0               0                 0              0   \n",
       "\n",
       "   district_Zoliborz  \n",
       "1                  0  \n",
       "2                  0  \n",
       "3                  0  \n",
       "4                  0  \n",
       "5                  0  "
      ]
     },
     "execution_count": 5,
     "metadata": {},
     "output_type": "execute_result"
    }
   ],
   "source": [
    "apartments = pd.get_dummies(apartments,['district'])\n",
    "apartments.head()"
   ]
  },
  {
   "cell_type": "markdown",
   "metadata": {},
   "source": [
    "Dokonajmy teraz podziału na zbiór treningowy i testowy:"
   ]
  },
  {
   "cell_type": "code",
   "execution_count": 6,
   "metadata": {},
   "outputs": [],
   "source": [
    "from sklearn.model_selection import train_test_split\n",
    "Xa_train, Xa_test, ya_train, ya_test = train_test_split(\n",
    "    apartments.drop('m2_price',axis=1), apartments['m2_price'], test_size=0.25, random_state=42)"
   ]
  },
  {
   "cell_type": "markdown",
   "metadata": {},
   "source": [
    "Jako drugi zbiór wybrałem zbiór danych nt. nieruchomości w Kalifornii z roku 1990, gdzie również zmienną celu jest wartość, tym razem całego mieszkania, a nie m^2."
   ]
  },
  {
   "cell_type": "code",
   "execution_count": 7,
   "metadata": {},
   "outputs": [
    {
     "data": {
      "text/html": [
       "<div>\n",
       "<style scoped>\n",
       "    .dataframe tbody tr th:only-of-type {\n",
       "        vertical-align: middle;\n",
       "    }\n",
       "\n",
       "    .dataframe tbody tr th {\n",
       "        vertical-align: top;\n",
       "    }\n",
       "\n",
       "    .dataframe thead th {\n",
       "        text-align: right;\n",
       "    }\n",
       "</style>\n",
       "<table border=\"1\" class=\"dataframe\">\n",
       "  <thead>\n",
       "    <tr style=\"text-align: right;\">\n",
       "      <th></th>\n",
       "      <th>longitude</th>\n",
       "      <th>latitude</th>\n",
       "      <th>housing_median_age</th>\n",
       "      <th>total_bedrooms</th>\n",
       "      <th>population</th>\n",
       "      <th>households</th>\n",
       "      <th>median_income</th>\n",
       "      <th>median_house_value</th>\n",
       "      <th>&lt;1H OCEAN</th>\n",
       "      <th>INLAND</th>\n",
       "      <th>NEAR BAY</th>\n",
       "      <th>NEAR OCEAN</th>\n",
       "      <th>rooms_per_household</th>\n",
       "    </tr>\n",
       "  </thead>\n",
       "  <tbody>\n",
       "    <tr>\n",
       "      <th>0</th>\n",
       "      <td>-122.23</td>\n",
       "      <td>37.88</td>\n",
       "      <td>41.0</td>\n",
       "      <td>129.0</td>\n",
       "      <td>322.0</td>\n",
       "      <td>126.0</td>\n",
       "      <td>8.3252</td>\n",
       "      <td>452600.0</td>\n",
       "      <td>0.0</td>\n",
       "      <td>0.0</td>\n",
       "      <td>1.0</td>\n",
       "      <td>0.0</td>\n",
       "      <td>6.984127</td>\n",
       "    </tr>\n",
       "    <tr>\n",
       "      <th>1</th>\n",
       "      <td>-122.22</td>\n",
       "      <td>37.86</td>\n",
       "      <td>21.0</td>\n",
       "      <td>1106.0</td>\n",
       "      <td>2401.0</td>\n",
       "      <td>1138.0</td>\n",
       "      <td>8.3014</td>\n",
       "      <td>358500.0</td>\n",
       "      <td>0.0</td>\n",
       "      <td>0.0</td>\n",
       "      <td>1.0</td>\n",
       "      <td>0.0</td>\n",
       "      <td>6.238137</td>\n",
       "    </tr>\n",
       "    <tr>\n",
       "      <th>2</th>\n",
       "      <td>-122.24</td>\n",
       "      <td>37.85</td>\n",
       "      <td>52.0</td>\n",
       "      <td>190.0</td>\n",
       "      <td>496.0</td>\n",
       "      <td>177.0</td>\n",
       "      <td>7.2574</td>\n",
       "      <td>352100.0</td>\n",
       "      <td>0.0</td>\n",
       "      <td>0.0</td>\n",
       "      <td>1.0</td>\n",
       "      <td>0.0</td>\n",
       "      <td>8.288136</td>\n",
       "    </tr>\n",
       "    <tr>\n",
       "      <th>3</th>\n",
       "      <td>-122.25</td>\n",
       "      <td>37.85</td>\n",
       "      <td>52.0</td>\n",
       "      <td>235.0</td>\n",
       "      <td>558.0</td>\n",
       "      <td>219.0</td>\n",
       "      <td>5.6431</td>\n",
       "      <td>341300.0</td>\n",
       "      <td>0.0</td>\n",
       "      <td>0.0</td>\n",
       "      <td>1.0</td>\n",
       "      <td>0.0</td>\n",
       "      <td>5.817352</td>\n",
       "    </tr>\n",
       "    <tr>\n",
       "      <th>4</th>\n",
       "      <td>-122.25</td>\n",
       "      <td>37.85</td>\n",
       "      <td>52.0</td>\n",
       "      <td>280.0</td>\n",
       "      <td>565.0</td>\n",
       "      <td>259.0</td>\n",
       "      <td>3.8462</td>\n",
       "      <td>342200.0</td>\n",
       "      <td>0.0</td>\n",
       "      <td>0.0</td>\n",
       "      <td>1.0</td>\n",
       "      <td>0.0</td>\n",
       "      <td>6.281853</td>\n",
       "    </tr>\n",
       "  </tbody>\n",
       "</table>\n",
       "</div>"
      ],
      "text/plain": [
       "   longitude  latitude  housing_median_age  total_bedrooms  population  \\\n",
       "0    -122.23     37.88                41.0           129.0       322.0   \n",
       "1    -122.22     37.86                21.0          1106.0      2401.0   \n",
       "2    -122.24     37.85                52.0           190.0       496.0   \n",
       "3    -122.25     37.85                52.0           235.0       558.0   \n",
       "4    -122.25     37.85                52.0           280.0       565.0   \n",
       "\n",
       "   households  median_income  median_house_value  <1H OCEAN  INLAND  NEAR BAY  \\\n",
       "0       126.0         8.3252            452600.0        0.0     0.0       1.0   \n",
       "1      1138.0         8.3014            358500.0        0.0     0.0       1.0   \n",
       "2       177.0         7.2574            352100.0        0.0     0.0       1.0   \n",
       "3       219.0         5.6431            341300.0        0.0     0.0       1.0   \n",
       "4       259.0         3.8462            342200.0        0.0     0.0       1.0   \n",
       "\n",
       "   NEAR OCEAN  rooms_per_household  \n",
       "0         0.0             6.984127  \n",
       "1         0.0             6.238137  \n",
       "2         0.0             8.288136  \n",
       "3         0.0             5.817352  \n",
       "4         0.0             6.281853  "
      ]
     },
     "execution_count": 7,
     "metadata": {},
     "output_type": "execute_result"
    }
   ],
   "source": [
    "housing = pd.read_csv(\"housing.csv\")\n",
    "housing.head()"
   ]
  },
  {
   "cell_type": "markdown",
   "metadata": {},
   "source": [
    "Zajmuję się tym zbiorem danych na zajęciach z Warsztatów Badawczych, więc powyższa ramka danych jest już po preprocessingu (m.in. dokonano OneHotEncodingu i usunięto kilka outlierów)."
   ]
  },
  {
   "cell_type": "code",
   "execution_count": 8,
   "metadata": {},
   "outputs": [],
   "source": [
    "Xh_train, Xh_test, yh_train, yh_test = train_test_split(\n",
    "    housing.drop('median_house_value',axis=1), housing['median_house_value'], test_size=0.25, random_state=42)"
   ]
  },
  {
   "cell_type": "markdown",
   "metadata": {},
   "source": [
    "Pora na dopasowanie Support Vector Machine (w tym przypadku SVR, ponieważ jest to zadanie regresji):"
   ]
  },
  {
   "cell_type": "code",
   "execution_count": 9,
   "metadata": {},
   "outputs": [
    {
     "name": "stdout",
     "output_type": "stream",
     "text": [
      "Apartments:\n",
      "MSE (test): 917.6207825964947\n",
      "MSE (train): 911.0643578066882\n",
      "\n",
      "Housing:\n",
      "MSE (test): 98135.813719618\n",
      "MSE (train): 98958.94331600117\n"
     ]
    }
   ],
   "source": [
    "from sklearn.svm import SVR\n",
    "from sklearn.metrics import mean_squared_error as rmse\n",
    "apartments_svr = SVR()\n",
    "apartments_svr.fit(Xa_train,ya_train)\n",
    "\n",
    "housing_svr = SVR()\n",
    "housing_svr.fit(Xh_train,yh_train)\n",
    "\n",
    "ya_hat = apartments_svr.predict(Xa_test)\n",
    "yh_hat = housing_svr.predict(Xh_test)\n",
    "\n",
    "print(\"Apartments:\")\n",
    "print(f\"MSE (test): {rmse(ya_test,ya_hat,squared=False)}\")\n",
    "print(f\"MSE (train): {rmse(ya_train,apartments_svr.predict(Xa_train),squared=False)}\")\n",
    "print()\n",
    "print(\"Housing:\")\n",
    "print(f\"MSE (test): {rmse(yh_test,yh_hat,squared=False)}\")\n",
    "print(f\"MSE (train): {rmse(yh_train,housing_svr.predict(Xh_train),squared=False)}\")"
   ]
  },
  {
   "cell_type": "markdown",
   "metadata": {},
   "source": [
    "Co ciekawe, dla zbioru `housing` MSE na zbiorze testowym jest mniejsze niż na zbiorze treningowym."
   ]
  },
  {
   "cell_type": "markdown",
   "metadata": {},
   "source": [
    "Teraz przekonajmy się jak skalowanie zmiennych wpłynie na wyniki. W tym celu zastosujmy MinMaxScaler dla wszystkich zmiennych poza zmienną celu w obu ramkach danych."
   ]
  },
  {
   "cell_type": "code",
   "execution_count": 10,
   "metadata": {},
   "outputs": [],
   "source": [
    "from sklearn.preprocessing import MinMaxScaler\n",
    "scaler = MinMaxScaler()\n",
    "\n",
    "apartments_dropped = apartments.drop('m2_price', axis = 1)\n",
    "apartments_columns = apartments_dropped.columns\n",
    "apartments_dropped = scaler.fit_transform(apartments_dropped)\n",
    "apartments_dropped = pd.DataFrame(apartments_dropped, columns = apartments_columns).reset_index()\n",
    "apartments_m2price = apartments['m2_price'].reset_index()\n",
    "apartments_m2price = apartments_m2price.drop('index',axis=1)\n",
    "apartments_scaled = pd.concat([apartments_dropped, apartments_m2price], axis = 1)\n",
    "apartments_scaled = apartments_scaled.drop('index',axis=1)\n",
    "\n",
    "scaler = MinMaxScaler()\n",
    "\n",
    "housing_dropped = housing.drop('median_house_value', axis = 1)\n",
    "housing_columns = housing_dropped.columns\n",
    "housing_dropped = scaler.fit_transform(housing_dropped)\n",
    "housing_dropped = pd.DataFrame(housing_dropped, columns = housing_columns)\n",
    "housing_scaled = pd.concat([housing_dropped, housing['median_house_value']], axis = 1)"
   ]
  },
  {
   "cell_type": "markdown",
   "metadata": {},
   "source": [
    "W przypadku ramki `apartments` psuło nam się indeksowanie (raz zaczynało od zera, raz od jedynki), więc należało to poprawić."
   ]
  },
  {
   "cell_type": "markdown",
   "metadata": {},
   "source": [
    "Teraz powtórzmy dzielenie na zbiór testowy i treningowy i obliczmy MSE:"
   ]
  },
  {
   "cell_type": "code",
   "execution_count": 11,
   "metadata": {},
   "outputs": [],
   "source": [
    "Xas_train, Xas_test, yas_train, yas_test = train_test_split(\n",
    "    apartments_scaled.drop('m2_price',axis=1), apartments_scaled['m2_price'], test_size=0.25, random_state=42)\n",
    "\n",
    "Xhs_train, Xhs_test, yhs_train, yhs_test = train_test_split(\n",
    "    housing_scaled.drop('median_house_value',axis=1), housing_scaled['median_house_value'], test_size=0.25, random_state=42)"
   ]
  },
  {
   "cell_type": "code",
   "execution_count": 12,
   "metadata": {
    "scrolled": true
   },
   "outputs": [
    {
     "name": "stdout",
     "output_type": "stream",
     "text": [
      "Apartments scaled:\n",
      "MSE (test): 894.3203586358629\n",
      "MSE (train): 887.7116567070697\n",
      "\n",
      "Housing scaled:\n",
      "MSE (test): 97473.19169810312\n",
      "MSE (train): 98326.84316353663\n"
     ]
    }
   ],
   "source": [
    "apartments_scaled_svr = SVR()\n",
    "apartments_scaled_svr.fit(Xas_train,yas_train)\n",
    "\n",
    "housing_scaled_svr = SVR()\n",
    "housing_scaled_svr.fit(Xhs_train,yhs_train)\n",
    "\n",
    "yas_hat = apartments_scaled_svr.predict(Xas_test)\n",
    "yhs_hat = housing_scaled_svr.predict(Xhs_test)\n",
    "\n",
    "print(\"Apartments scaled:\")\n",
    "print(f\"MSE (test): {rmse(yas_test,yas_hat,squared=False)}\")\n",
    "print(f\"MSE (train): {rmse(yas_train,apartments_scaled_svr.predict(Xas_train),squared=False)}\")\n",
    "print()\n",
    "print(\"Housing scaled:\")\n",
    "print(f\"MSE (test): {rmse(yhs_test,yhs_hat,squared=False)}\")\n",
    "print(f\"MSE (train): {rmse(yhs_train,housing_scaled_svr.predict(Xhs_train),squared=False)}\")"
   ]
  },
  {
   "cell_type": "markdown",
   "metadata": {},
   "source": [
    "W przypadku obu ramek danych MSE zarówno zbiorów testowych, jak i treningowych zmniejszyły się, co potwierdza, że opłaca się dokonywać skalowania."
   ]
  },
  {
   "cell_type": "markdown",
   "metadata": {},
   "source": [
    "Na sam koniec zajmijmy się strojeniem parametrów `cost`, `gamma` i `degree`. Wykonamy go jedynie dla zbioru `apartments`, ponieważ zbiór `housing` jest o wiele większy (1000 obserwacji a blisko 20 tysięcy), a co za tym idzie strojenie zajmuje o wiele więcej czasu (po 40 minutach brak rezultatów)."
   ]
  },
  {
   "cell_type": "code",
   "execution_count": 13,
   "metadata": {},
   "outputs": [
    {
     "name": "stdout",
     "output_type": "stream",
     "text": [
      "Apartments best parameters: {'gamma': 'scale', 'degree': 3, 'C': 2520.01}\n"
     ]
    }
   ],
   "source": [
    "from sklearn.model_selection import RandomizedSearchCV\n",
    "params = {\n",
    "         'C' : np.arange(0.01,10000.01,10),\n",
    "         'gamma' : ['scale', 'auto'],\n",
    "         'degree' : np.arange(1,10,2),\n",
    "         }\n",
    "apartments_rscv = RandomizedSearchCV(estimator=SVR(), param_distributions=params, n_iter= 100, n_jobs=-1)\n",
    "apartments_rscv.fit(Xas_train, yas_train)\n",
    "print(f\"Apartments best parameters: {apartments_rscv.best_params_}\")"
   ]
  },
  {
   "cell_type": "markdown",
   "metadata": {},
   "source": [
    "Spróbujmy zastosować powyższe parametry również dla zbioru `housing`. Sprawdźmy czy (a jeśli tak, to o ile) polepszyło się nasze MSE w obu przypadkach:"
   ]
  },
  {
   "cell_type": "code",
   "execution_count": 15,
   "metadata": {},
   "outputs": [
    {
     "name": "stdout",
     "output_type": "stream",
     "text": [
      "Apartments scaled+hipertuned:\n",
      "MSE (test): 156.5535367279769\n",
      "MSE (train): 133.85098275157912\n",
      "\n",
      "Housing scaled+hipertuned:\n",
      "MSE (test): 64735.9556997163\n",
      "MSE (train): 65281.487469411964\n"
     ]
    }
   ],
   "source": [
    "apartments_best = apartments_rscv.best_estimator_\n",
    "housing_best = SVR(gamma='scale',degree=3,C=2520.01)\n",
    "housing_best.fit(Xhs_train,yhs_train)\n",
    "\n",
    "print(\"Apartments scaled+hipertuned:\")\n",
    "print(f\"MSE (test): {rmse(yas_test,apartments_best.predict(Xas_test),squared=False)}\")\n",
    "print(f\"MSE (train): {rmse(yas_train,apartments_best.predict(Xas_train),squared=False)}\")\n",
    "print()\n",
    "print(\"Housing scaled+hipertuned:\")\n",
    "print(f\"MSE (test): {rmse(yhs_test,housing_best.predict(Xhs_test),squared=False)}\")\n",
    "print(f\"MSE (train): {rmse(yhs_train,housing_best.predict(Xhs_train),squared=False)}\")"
   ]
  },
  {
   "cell_type": "markdown",
   "metadata": {},
   "source": [
    "Jak widzimy we wszystkich MSE jest najmniejsze spośród wszystkich dotychczasowych prób (i to znacznie), co podkreśla zarówno wagę strojenia parametrów, jak i skalowania."
   ]
  }
 ],
 "metadata": {
  "kernelspec": {
   "display_name": "Python 3",
   "language": "python",
   "name": "python3"
  },
  "language_info": {
   "codemirror_mode": {
    "name": "ipython",
    "version": 3
   },
   "file_extension": ".py",
   "mimetype": "text/x-python",
   "name": "python",
   "nbconvert_exporter": "python",
   "pygments_lexer": "ipython3",
   "version": "3.7.3"
  }
 },
 "nbformat": 4,
 "nbformat_minor": 2
}
