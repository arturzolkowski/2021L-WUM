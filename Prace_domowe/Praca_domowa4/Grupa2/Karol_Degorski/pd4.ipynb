{
 "cells": [
  {
   "cell_type": "markdown",
   "metadata": {},
   "source": [
    "# Praca domowa 4\n",
    "## Karol Degórski"
   ]
  },
  {
   "cell_type": "markdown",
   "metadata": {},
   "source": [
    "## Algorytm Support Vector Machine"
   ]
  },
  {
   "cell_type": "markdown",
   "metadata": {},
   "source": [
    "## Import potrzebnych pakietów"
   ]
  },
  {
   "cell_type": "code",
   "execution_count": 1,
   "metadata": {},
   "outputs": [],
   "source": [
    "import pandas as pd\n",
    "import numpy as np\n",
    "\n",
    "pd.options.display.max_columns = None\n",
    "pd.set_option('max_colwidth', None)\n",
    "\n",
    "import dalex as dx\n",
    "\n",
    "import random\n",
    "random.seed(44)\n",
    "\n",
    "import warnings\n",
    "warnings.filterwarnings('ignore')\n",
    "\n",
    "from matplotlib import pyplot as plt\n",
    "import seaborn as sns"
   ]
  },
  {
   "cell_type": "markdown",
   "metadata": {},
   "source": [
    "## Wczytanie danych apartments i wine"
   ]
  },
  {
   "cell_type": "markdown",
   "metadata": {},
   "source": [
    "### Apartments"
   ]
  },
  {
   "cell_type": "markdown",
   "metadata": {},
   "source": [
    "Zbiór apartments pochodzi z pakietu dalex i dotyczny przewidywania ceny mieszkań za metr kwadratowy mieszkania, w zależności od podstawowych danych"
   ]
  },
  {
   "cell_type": "code",
   "execution_count": 2,
   "metadata": {},
   "outputs": [
    {
     "data": {
      "text/html": [
       "<div>\n",
       "<style scoped>\n",
       "    .dataframe tbody tr th:only-of-type {\n",
       "        vertical-align: middle;\n",
       "    }\n",
       "\n",
       "    .dataframe tbody tr th {\n",
       "        vertical-align: top;\n",
       "    }\n",
       "\n",
       "    .dataframe thead th {\n",
       "        text-align: right;\n",
       "    }\n",
       "</style>\n",
       "<table border=\"1\" class=\"dataframe\">\n",
       "  <thead>\n",
       "    <tr style=\"text-align: right;\">\n",
       "      <th></th>\n",
       "      <th>m2_price</th>\n",
       "      <th>construction_year</th>\n",
       "      <th>surface</th>\n",
       "      <th>floor</th>\n",
       "      <th>no_rooms</th>\n",
       "      <th>district</th>\n",
       "    </tr>\n",
       "  </thead>\n",
       "  <tbody>\n",
       "    <tr>\n",
       "      <th>1</th>\n",
       "      <td>5897</td>\n",
       "      <td>1953</td>\n",
       "      <td>25</td>\n",
       "      <td>3</td>\n",
       "      <td>1</td>\n",
       "      <td>Srodmiescie</td>\n",
       "    </tr>\n",
       "    <tr>\n",
       "      <th>2</th>\n",
       "      <td>1818</td>\n",
       "      <td>1992</td>\n",
       "      <td>143</td>\n",
       "      <td>9</td>\n",
       "      <td>5</td>\n",
       "      <td>Bielany</td>\n",
       "    </tr>\n",
       "    <tr>\n",
       "      <th>3</th>\n",
       "      <td>3643</td>\n",
       "      <td>1937</td>\n",
       "      <td>56</td>\n",
       "      <td>1</td>\n",
       "      <td>2</td>\n",
       "      <td>Praga</td>\n",
       "    </tr>\n",
       "    <tr>\n",
       "      <th>4</th>\n",
       "      <td>3517</td>\n",
       "      <td>1995</td>\n",
       "      <td>93</td>\n",
       "      <td>7</td>\n",
       "      <td>3</td>\n",
       "      <td>Ochota</td>\n",
       "    </tr>\n",
       "    <tr>\n",
       "      <th>5</th>\n",
       "      <td>3013</td>\n",
       "      <td>1992</td>\n",
       "      <td>144</td>\n",
       "      <td>6</td>\n",
       "      <td>5</td>\n",
       "      <td>Mokotow</td>\n",
       "    </tr>\n",
       "    <tr>\n",
       "      <th>...</th>\n",
       "      <td>...</td>\n",
       "      <td>...</td>\n",
       "      <td>...</td>\n",
       "      <td>...</td>\n",
       "      <td>...</td>\n",
       "      <td>...</td>\n",
       "    </tr>\n",
       "    <tr>\n",
       "      <th>996</th>\n",
       "      <td>6355</td>\n",
       "      <td>1921</td>\n",
       "      <td>44</td>\n",
       "      <td>2</td>\n",
       "      <td>2</td>\n",
       "      <td>Srodmiescie</td>\n",
       "    </tr>\n",
       "    <tr>\n",
       "      <th>997</th>\n",
       "      <td>3422</td>\n",
       "      <td>1921</td>\n",
       "      <td>48</td>\n",
       "      <td>10</td>\n",
       "      <td>2</td>\n",
       "      <td>Bemowo</td>\n",
       "    </tr>\n",
       "    <tr>\n",
       "      <th>998</th>\n",
       "      <td>3098</td>\n",
       "      <td>1980</td>\n",
       "      <td>85</td>\n",
       "      <td>3</td>\n",
       "      <td>3</td>\n",
       "      <td>Bemowo</td>\n",
       "    </tr>\n",
       "    <tr>\n",
       "      <th>999</th>\n",
       "      <td>4192</td>\n",
       "      <td>1942</td>\n",
       "      <td>36</td>\n",
       "      <td>7</td>\n",
       "      <td>1</td>\n",
       "      <td>Zoliborz</td>\n",
       "    </tr>\n",
       "    <tr>\n",
       "      <th>1000</th>\n",
       "      <td>3327</td>\n",
       "      <td>1992</td>\n",
       "      <td>112</td>\n",
       "      <td>6</td>\n",
       "      <td>5</td>\n",
       "      <td>Mokotow</td>\n",
       "    </tr>\n",
       "  </tbody>\n",
       "</table>\n",
       "<p>1000 rows × 6 columns</p>\n",
       "</div>"
      ],
      "text/plain": [
       "      m2_price  construction_year  surface  floor  no_rooms     district\n",
       "1         5897               1953       25      3         1  Srodmiescie\n",
       "2         1818               1992      143      9         5      Bielany\n",
       "3         3643               1937       56      1         2        Praga\n",
       "4         3517               1995       93      7         3       Ochota\n",
       "5         3013               1992      144      6         5      Mokotow\n",
       "...        ...                ...      ...    ...       ...          ...\n",
       "996       6355               1921       44      2         2  Srodmiescie\n",
       "997       3422               1921       48     10         2       Bemowo\n",
       "998       3098               1980       85      3         3       Bemowo\n",
       "999       4192               1942       36      7         1     Zoliborz\n",
       "1000      3327               1992      112      6         5      Mokotow\n",
       "\n",
       "[1000 rows x 6 columns]"
      ]
     },
     "execution_count": 2,
     "metadata": {},
     "output_type": "execute_result"
    }
   ],
   "source": [
    "apartments = dx.datasets.load_apartments()\n",
    "apartments"
   ]
  },
  {
   "cell_type": "code",
   "execution_count": 3,
   "metadata": {},
   "outputs": [
    {
     "name": "stdout",
     "output_type": "stream",
     "text": [
      "<class 'pandas.core.frame.DataFrame'>\n",
      "Int64Index: 1000 entries, 1 to 1000\n",
      "Data columns (total 6 columns):\n",
      " #   Column             Non-Null Count  Dtype \n",
      "---  ------             --------------  ----- \n",
      " 0   m2_price           1000 non-null   int64 \n",
      " 1   construction_year  1000 non-null   int64 \n",
      " 2   surface            1000 non-null   int64 \n",
      " 3   floor              1000 non-null   int64 \n",
      " 4   no_rooms           1000 non-null   int64 \n",
      " 5   district           1000 non-null   object\n",
      "dtypes: int64(5), object(1)\n",
      "memory usage: 54.7+ KB\n"
     ]
    }
   ],
   "source": [
    "apartments.info()"
   ]
  },
  {
   "cell_type": "markdown",
   "metadata": {},
   "source": [
    "Widzimy że zbiór ten ma wszystkie wartości liczbowe oprócz zmiennej district (jest ona typu object - nazwa dzielnicy). Zmienna celu m2_price też jest liczbowa\\\n",
    "Nie ma żadnych braków danych"
   ]
  },
  {
   "cell_type": "markdown",
   "metadata": {},
   "source": [
    "### Wine"
   ]
  },
  {
   "cell_type": "markdown",
   "metadata": {},
   "source": [
    "Zbiór Wine pochodzi ze strony https://www.apispreadsheets.com/datasets/117 i dotczy przewidywania typu wina w zależności od składu chemicznego"
   ]
  },
  {
   "cell_type": "code",
   "execution_count": 4,
   "metadata": {},
   "outputs": [
    {
     "data": {
      "text/html": [
       "<div>\n",
       "<style scoped>\n",
       "    .dataframe tbody tr th:only-of-type {\n",
       "        vertical-align: middle;\n",
       "    }\n",
       "\n",
       "    .dataframe tbody tr th {\n",
       "        vertical-align: top;\n",
       "    }\n",
       "\n",
       "    .dataframe thead th {\n",
       "        text-align: right;\n",
       "    }\n",
       "</style>\n",
       "<table border=\"1\" class=\"dataframe\">\n",
       "  <thead>\n",
       "    <tr style=\"text-align: right;\">\n",
       "      <th></th>\n",
       "      <th>Alcohol</th>\n",
       "      <th>Malic acid</th>\n",
       "      <th>Ash</th>\n",
       "      <th>Alcalinity of ash</th>\n",
       "      <th>Magnesium</th>\n",
       "      <th>Total phenols</th>\n",
       "      <th>Flavanoids</th>\n",
       "      <th>Nonflavanoid phenols</th>\n",
       "      <th>Proanthocyanins</th>\n",
       "      <th>Color intensity</th>\n",
       "      <th>Hue</th>\n",
       "      <th>OD280/OD315 of diluted wines</th>\n",
       "      <th>Proline</th>\n",
       "      <th>Wine Type</th>\n",
       "    </tr>\n",
       "  </thead>\n",
       "  <tbody>\n",
       "    <tr>\n",
       "      <th>0</th>\n",
       "      <td>14.23</td>\n",
       "      <td>1.71</td>\n",
       "      <td>2.43</td>\n",
       "      <td>15.6</td>\n",
       "      <td>127.0</td>\n",
       "      <td>2.80</td>\n",
       "      <td>3.06</td>\n",
       "      <td>0.28</td>\n",
       "      <td>2.29</td>\n",
       "      <td>5.64</td>\n",
       "      <td>1.04</td>\n",
       "      <td>3.92</td>\n",
       "      <td>1065.0</td>\n",
       "      <td>One</td>\n",
       "    </tr>\n",
       "    <tr>\n",
       "      <th>1</th>\n",
       "      <td>13.20</td>\n",
       "      <td>1.78</td>\n",
       "      <td>2.14</td>\n",
       "      <td>11.2</td>\n",
       "      <td>100.0</td>\n",
       "      <td>2.65</td>\n",
       "      <td>2.76</td>\n",
       "      <td>0.26</td>\n",
       "      <td>1.28</td>\n",
       "      <td>4.38</td>\n",
       "      <td>1.05</td>\n",
       "      <td>3.40</td>\n",
       "      <td>1050.0</td>\n",
       "      <td>One</td>\n",
       "    </tr>\n",
       "    <tr>\n",
       "      <th>2</th>\n",
       "      <td>13.16</td>\n",
       "      <td>2.36</td>\n",
       "      <td>2.67</td>\n",
       "      <td>18.6</td>\n",
       "      <td>101.0</td>\n",
       "      <td>2.80</td>\n",
       "      <td>3.24</td>\n",
       "      <td>0.30</td>\n",
       "      <td>2.81</td>\n",
       "      <td>5.68</td>\n",
       "      <td>1.03</td>\n",
       "      <td>3.17</td>\n",
       "      <td>1185.0</td>\n",
       "      <td>One</td>\n",
       "    </tr>\n",
       "    <tr>\n",
       "      <th>3</th>\n",
       "      <td>14.37</td>\n",
       "      <td>1.95</td>\n",
       "      <td>2.50</td>\n",
       "      <td>16.8</td>\n",
       "      <td>113.0</td>\n",
       "      <td>3.85</td>\n",
       "      <td>3.49</td>\n",
       "      <td>0.24</td>\n",
       "      <td>2.18</td>\n",
       "      <td>7.80</td>\n",
       "      <td>0.86</td>\n",
       "      <td>3.45</td>\n",
       "      <td>1480.0</td>\n",
       "      <td>One</td>\n",
       "    </tr>\n",
       "    <tr>\n",
       "      <th>4</th>\n",
       "      <td>13.24</td>\n",
       "      <td>2.59</td>\n",
       "      <td>2.87</td>\n",
       "      <td>21.0</td>\n",
       "      <td>118.0</td>\n",
       "      <td>2.80</td>\n",
       "      <td>2.69</td>\n",
       "      <td>0.39</td>\n",
       "      <td>1.82</td>\n",
       "      <td>4.32</td>\n",
       "      <td>1.04</td>\n",
       "      <td>2.93</td>\n",
       "      <td>735.0</td>\n",
       "      <td>One</td>\n",
       "    </tr>\n",
       "    <tr>\n",
       "      <th>...</th>\n",
       "      <td>...</td>\n",
       "      <td>...</td>\n",
       "      <td>...</td>\n",
       "      <td>...</td>\n",
       "      <td>...</td>\n",
       "      <td>...</td>\n",
       "      <td>...</td>\n",
       "      <td>...</td>\n",
       "      <td>...</td>\n",
       "      <td>...</td>\n",
       "      <td>...</td>\n",
       "      <td>...</td>\n",
       "      <td>...</td>\n",
       "      <td>...</td>\n",
       "    </tr>\n",
       "    <tr>\n",
       "      <th>173</th>\n",
       "      <td>13.71</td>\n",
       "      <td>5.65</td>\n",
       "      <td>2.45</td>\n",
       "      <td>20.5</td>\n",
       "      <td>95.0</td>\n",
       "      <td>1.68</td>\n",
       "      <td>0.61</td>\n",
       "      <td>0.52</td>\n",
       "      <td>1.06</td>\n",
       "      <td>7.70</td>\n",
       "      <td>0.64</td>\n",
       "      <td>1.74</td>\n",
       "      <td>740.0</td>\n",
       "      <td>Three</td>\n",
       "    </tr>\n",
       "    <tr>\n",
       "      <th>174</th>\n",
       "      <td>13.40</td>\n",
       "      <td>3.91</td>\n",
       "      <td>2.48</td>\n",
       "      <td>23.0</td>\n",
       "      <td>102.0</td>\n",
       "      <td>1.80</td>\n",
       "      <td>0.75</td>\n",
       "      <td>0.43</td>\n",
       "      <td>1.41</td>\n",
       "      <td>7.30</td>\n",
       "      <td>0.70</td>\n",
       "      <td>1.56</td>\n",
       "      <td>750.0</td>\n",
       "      <td>Three</td>\n",
       "    </tr>\n",
       "    <tr>\n",
       "      <th>175</th>\n",
       "      <td>13.27</td>\n",
       "      <td>4.28</td>\n",
       "      <td>2.26</td>\n",
       "      <td>20.0</td>\n",
       "      <td>120.0</td>\n",
       "      <td>1.59</td>\n",
       "      <td>0.69</td>\n",
       "      <td>0.43</td>\n",
       "      <td>1.35</td>\n",
       "      <td>10.20</td>\n",
       "      <td>0.59</td>\n",
       "      <td>1.56</td>\n",
       "      <td>835.0</td>\n",
       "      <td>Three</td>\n",
       "    </tr>\n",
       "    <tr>\n",
       "      <th>176</th>\n",
       "      <td>13.17</td>\n",
       "      <td>2.59</td>\n",
       "      <td>2.37</td>\n",
       "      <td>20.0</td>\n",
       "      <td>120.0</td>\n",
       "      <td>1.65</td>\n",
       "      <td>0.68</td>\n",
       "      <td>0.53</td>\n",
       "      <td>1.46</td>\n",
       "      <td>9.30</td>\n",
       "      <td>0.60</td>\n",
       "      <td>1.62</td>\n",
       "      <td>840.0</td>\n",
       "      <td>Three</td>\n",
       "    </tr>\n",
       "    <tr>\n",
       "      <th>177</th>\n",
       "      <td>14.13</td>\n",
       "      <td>4.10</td>\n",
       "      <td>2.74</td>\n",
       "      <td>24.5</td>\n",
       "      <td>96.0</td>\n",
       "      <td>2.05</td>\n",
       "      <td>0.76</td>\n",
       "      <td>0.56</td>\n",
       "      <td>1.35</td>\n",
       "      <td>9.20</td>\n",
       "      <td>0.61</td>\n",
       "      <td>1.60</td>\n",
       "      <td>560.0</td>\n",
       "      <td>Three</td>\n",
       "    </tr>\n",
       "  </tbody>\n",
       "</table>\n",
       "<p>178 rows × 14 columns</p>\n",
       "</div>"
      ],
      "text/plain": [
       "     Alcohol  Malic acid   Ash  Alcalinity of ash  Magnesium  Total phenols  \\\n",
       "0      14.23        1.71  2.43               15.6      127.0           2.80   \n",
       "1      13.20        1.78  2.14               11.2      100.0           2.65   \n",
       "2      13.16        2.36  2.67               18.6      101.0           2.80   \n",
       "3      14.37        1.95  2.50               16.8      113.0           3.85   \n",
       "4      13.24        2.59  2.87               21.0      118.0           2.80   \n",
       "..       ...         ...   ...                ...        ...            ...   \n",
       "173    13.71        5.65  2.45               20.5       95.0           1.68   \n",
       "174    13.40        3.91  2.48               23.0      102.0           1.80   \n",
       "175    13.27        4.28  2.26               20.0      120.0           1.59   \n",
       "176    13.17        2.59  2.37               20.0      120.0           1.65   \n",
       "177    14.13        4.10  2.74               24.5       96.0           2.05   \n",
       "\n",
       "     Flavanoids  Nonflavanoid phenols  Proanthocyanins  Color intensity   Hue  \\\n",
       "0          3.06                  0.28             2.29             5.64  1.04   \n",
       "1          2.76                  0.26             1.28             4.38  1.05   \n",
       "2          3.24                  0.30             2.81             5.68  1.03   \n",
       "3          3.49                  0.24             2.18             7.80  0.86   \n",
       "4          2.69                  0.39             1.82             4.32  1.04   \n",
       "..          ...                   ...              ...              ...   ...   \n",
       "173        0.61                  0.52             1.06             7.70  0.64   \n",
       "174        0.75                  0.43             1.41             7.30  0.70   \n",
       "175        0.69                  0.43             1.35            10.20  0.59   \n",
       "176        0.68                  0.53             1.46             9.30  0.60   \n",
       "177        0.76                  0.56             1.35             9.20  0.61   \n",
       "\n",
       "     OD280/OD315 of diluted wines  Proline Wine Type  \n",
       "0                            3.92   1065.0       One  \n",
       "1                            3.40   1050.0       One  \n",
       "2                            3.17   1185.0       One  \n",
       "3                            3.45   1480.0       One  \n",
       "4                            2.93    735.0       One  \n",
       "..                            ...      ...       ...  \n",
       "173                          1.74    740.0     Three  \n",
       "174                          1.56    750.0     Three  \n",
       "175                          1.56    835.0     Three  \n",
       "176                          1.62    840.0     Three  \n",
       "177                          1.60    560.0     Three  \n",
       "\n",
       "[178 rows x 14 columns]"
      ]
     },
     "execution_count": 4,
     "metadata": {},
     "output_type": "execute_result"
    }
   ],
   "source": [
    "wine = pd.read_csv('wine_dataset.csv')\n",
    "wine"
   ]
  },
  {
   "cell_type": "code",
   "execution_count": 5,
   "metadata": {},
   "outputs": [
    {
     "name": "stdout",
     "output_type": "stream",
     "text": [
      "<class 'pandas.core.frame.DataFrame'>\n",
      "RangeIndex: 178 entries, 0 to 177\n",
      "Data columns (total 14 columns):\n",
      " #   Column                        Non-Null Count  Dtype  \n",
      "---  ------                        --------------  -----  \n",
      " 0   Alcohol                       178 non-null    float64\n",
      " 1   Malic acid                    178 non-null    float64\n",
      " 2   Ash                           178 non-null    float64\n",
      " 3   Alcalinity of ash             178 non-null    float64\n",
      " 4   Magnesium                     178 non-null    float64\n",
      " 5   Total phenols                 178 non-null    float64\n",
      " 6   Flavanoids                    178 non-null    float64\n",
      " 7   Nonflavanoid phenols          178 non-null    float64\n",
      " 8   Proanthocyanins               178 non-null    float64\n",
      " 9   Color intensity               178 non-null    float64\n",
      " 10  Hue                           178 non-null    float64\n",
      " 11  OD280/OD315 of diluted wines  178 non-null    float64\n",
      " 12  Proline                       178 non-null    float64\n",
      " 13  Wine Type                     178 non-null    object \n",
      "dtypes: float64(13), object(1)\n",
      "memory usage: 19.6+ KB\n"
     ]
    }
   ],
   "source": [
    "wine.info()"
   ]
  },
  {
   "cell_type": "markdown",
   "metadata": {},
   "source": [
    "Widzimy że zbiór ten ma wszystkie wartości liczbowe, oprócz zmiennej celu (jest ona typu object - nazwa kategorii).\\\n",
    "Nie ma żadnych braków danych"
   ]
  },
  {
   "cell_type": "markdown",
   "metadata": {},
   "source": [
    "## Kodowanie zmiennej kategorycznej"
   ]
  },
  {
   "cell_type": "markdown",
   "metadata": {},
   "source": [
    "W celu kodowania zmiennej kategorycznej, jaką jest district w zbiorze apartments użyję OneHotEncoding"
   ]
  },
  {
   "cell_type": "code",
   "execution_count": 6,
   "metadata": {},
   "outputs": [],
   "source": [
    "import category_encoders as ce"
   ]
  },
  {
   "cell_type": "code",
   "execution_count": 7,
   "metadata": {},
   "outputs": [
    {
     "data": {
      "text/html": [
       "<div>\n",
       "<style scoped>\n",
       "    .dataframe tbody tr th:only-of-type {\n",
       "        vertical-align: middle;\n",
       "    }\n",
       "\n",
       "    .dataframe tbody tr th {\n",
       "        vertical-align: top;\n",
       "    }\n",
       "\n",
       "    .dataframe thead th {\n",
       "        text-align: right;\n",
       "    }\n",
       "</style>\n",
       "<table border=\"1\" class=\"dataframe\">\n",
       "  <thead>\n",
       "    <tr style=\"text-align: right;\">\n",
       "      <th></th>\n",
       "      <th>m2_price</th>\n",
       "      <th>construction_year</th>\n",
       "      <th>surface</th>\n",
       "      <th>floor</th>\n",
       "      <th>no_rooms</th>\n",
       "      <th>district_1</th>\n",
       "      <th>district_2</th>\n",
       "      <th>district_3</th>\n",
       "      <th>district_4</th>\n",
       "      <th>district_5</th>\n",
       "      <th>district_6</th>\n",
       "      <th>district_7</th>\n",
       "      <th>district_8</th>\n",
       "      <th>district_9</th>\n",
       "      <th>district_10</th>\n",
       "    </tr>\n",
       "  </thead>\n",
       "  <tbody>\n",
       "    <tr>\n",
       "      <th>1</th>\n",
       "      <td>5897</td>\n",
       "      <td>1953</td>\n",
       "      <td>25</td>\n",
       "      <td>3</td>\n",
       "      <td>1</td>\n",
       "      <td>1</td>\n",
       "      <td>0</td>\n",
       "      <td>0</td>\n",
       "      <td>0</td>\n",
       "      <td>0</td>\n",
       "      <td>0</td>\n",
       "      <td>0</td>\n",
       "      <td>0</td>\n",
       "      <td>0</td>\n",
       "      <td>0</td>\n",
       "    </tr>\n",
       "    <tr>\n",
       "      <th>2</th>\n",
       "      <td>1818</td>\n",
       "      <td>1992</td>\n",
       "      <td>143</td>\n",
       "      <td>9</td>\n",
       "      <td>5</td>\n",
       "      <td>0</td>\n",
       "      <td>1</td>\n",
       "      <td>0</td>\n",
       "      <td>0</td>\n",
       "      <td>0</td>\n",
       "      <td>0</td>\n",
       "      <td>0</td>\n",
       "      <td>0</td>\n",
       "      <td>0</td>\n",
       "      <td>0</td>\n",
       "    </tr>\n",
       "    <tr>\n",
       "      <th>3</th>\n",
       "      <td>3643</td>\n",
       "      <td>1937</td>\n",
       "      <td>56</td>\n",
       "      <td>1</td>\n",
       "      <td>2</td>\n",
       "      <td>0</td>\n",
       "      <td>0</td>\n",
       "      <td>1</td>\n",
       "      <td>0</td>\n",
       "      <td>0</td>\n",
       "      <td>0</td>\n",
       "      <td>0</td>\n",
       "      <td>0</td>\n",
       "      <td>0</td>\n",
       "      <td>0</td>\n",
       "    </tr>\n",
       "    <tr>\n",
       "      <th>4</th>\n",
       "      <td>3517</td>\n",
       "      <td>1995</td>\n",
       "      <td>93</td>\n",
       "      <td>7</td>\n",
       "      <td>3</td>\n",
       "      <td>0</td>\n",
       "      <td>0</td>\n",
       "      <td>0</td>\n",
       "      <td>1</td>\n",
       "      <td>0</td>\n",
       "      <td>0</td>\n",
       "      <td>0</td>\n",
       "      <td>0</td>\n",
       "      <td>0</td>\n",
       "      <td>0</td>\n",
       "    </tr>\n",
       "    <tr>\n",
       "      <th>5</th>\n",
       "      <td>3013</td>\n",
       "      <td>1992</td>\n",
       "      <td>144</td>\n",
       "      <td>6</td>\n",
       "      <td>5</td>\n",
       "      <td>0</td>\n",
       "      <td>0</td>\n",
       "      <td>0</td>\n",
       "      <td>0</td>\n",
       "      <td>1</td>\n",
       "      <td>0</td>\n",
       "      <td>0</td>\n",
       "      <td>0</td>\n",
       "      <td>0</td>\n",
       "      <td>0</td>\n",
       "    </tr>\n",
       "    <tr>\n",
       "      <th>...</th>\n",
       "      <td>...</td>\n",
       "      <td>...</td>\n",
       "      <td>...</td>\n",
       "      <td>...</td>\n",
       "      <td>...</td>\n",
       "      <td>...</td>\n",
       "      <td>...</td>\n",
       "      <td>...</td>\n",
       "      <td>...</td>\n",
       "      <td>...</td>\n",
       "      <td>...</td>\n",
       "      <td>...</td>\n",
       "      <td>...</td>\n",
       "      <td>...</td>\n",
       "      <td>...</td>\n",
       "    </tr>\n",
       "    <tr>\n",
       "      <th>996</th>\n",
       "      <td>6355</td>\n",
       "      <td>1921</td>\n",
       "      <td>44</td>\n",
       "      <td>2</td>\n",
       "      <td>2</td>\n",
       "      <td>1</td>\n",
       "      <td>0</td>\n",
       "      <td>0</td>\n",
       "      <td>0</td>\n",
       "      <td>0</td>\n",
       "      <td>0</td>\n",
       "      <td>0</td>\n",
       "      <td>0</td>\n",
       "      <td>0</td>\n",
       "      <td>0</td>\n",
       "    </tr>\n",
       "    <tr>\n",
       "      <th>997</th>\n",
       "      <td>3422</td>\n",
       "      <td>1921</td>\n",
       "      <td>48</td>\n",
       "      <td>10</td>\n",
       "      <td>2</td>\n",
       "      <td>0</td>\n",
       "      <td>0</td>\n",
       "      <td>0</td>\n",
       "      <td>0</td>\n",
       "      <td>0</td>\n",
       "      <td>0</td>\n",
       "      <td>0</td>\n",
       "      <td>0</td>\n",
       "      <td>1</td>\n",
       "      <td>0</td>\n",
       "    </tr>\n",
       "    <tr>\n",
       "      <th>998</th>\n",
       "      <td>3098</td>\n",
       "      <td>1980</td>\n",
       "      <td>85</td>\n",
       "      <td>3</td>\n",
       "      <td>3</td>\n",
       "      <td>0</td>\n",
       "      <td>0</td>\n",
       "      <td>0</td>\n",
       "      <td>0</td>\n",
       "      <td>0</td>\n",
       "      <td>0</td>\n",
       "      <td>0</td>\n",
       "      <td>0</td>\n",
       "      <td>1</td>\n",
       "      <td>0</td>\n",
       "    </tr>\n",
       "    <tr>\n",
       "      <th>999</th>\n",
       "      <td>4192</td>\n",
       "      <td>1942</td>\n",
       "      <td>36</td>\n",
       "      <td>7</td>\n",
       "      <td>1</td>\n",
       "      <td>0</td>\n",
       "      <td>0</td>\n",
       "      <td>0</td>\n",
       "      <td>0</td>\n",
       "      <td>0</td>\n",
       "      <td>0</td>\n",
       "      <td>1</td>\n",
       "      <td>0</td>\n",
       "      <td>0</td>\n",
       "      <td>0</td>\n",
       "    </tr>\n",
       "    <tr>\n",
       "      <th>1000</th>\n",
       "      <td>3327</td>\n",
       "      <td>1992</td>\n",
       "      <td>112</td>\n",
       "      <td>6</td>\n",
       "      <td>5</td>\n",
       "      <td>0</td>\n",
       "      <td>0</td>\n",
       "      <td>0</td>\n",
       "      <td>0</td>\n",
       "      <td>1</td>\n",
       "      <td>0</td>\n",
       "      <td>0</td>\n",
       "      <td>0</td>\n",
       "      <td>0</td>\n",
       "      <td>0</td>\n",
       "    </tr>\n",
       "  </tbody>\n",
       "</table>\n",
       "<p>1000 rows × 15 columns</p>\n",
       "</div>"
      ],
      "text/plain": [
       "      m2_price  construction_year  surface  floor  no_rooms  district_1  \\\n",
       "1         5897               1953       25      3         1           1   \n",
       "2         1818               1992      143      9         5           0   \n",
       "3         3643               1937       56      1         2           0   \n",
       "4         3517               1995       93      7         3           0   \n",
       "5         3013               1992      144      6         5           0   \n",
       "...        ...                ...      ...    ...       ...         ...   \n",
       "996       6355               1921       44      2         2           1   \n",
       "997       3422               1921       48     10         2           0   \n",
       "998       3098               1980       85      3         3           0   \n",
       "999       4192               1942       36      7         1           0   \n",
       "1000      3327               1992      112      6         5           0   \n",
       "\n",
       "      district_2  district_3  district_4  district_5  district_6  district_7  \\\n",
       "1              0           0           0           0           0           0   \n",
       "2              1           0           0           0           0           0   \n",
       "3              0           1           0           0           0           0   \n",
       "4              0           0           1           0           0           0   \n",
       "5              0           0           0           1           0           0   \n",
       "...          ...         ...         ...         ...         ...         ...   \n",
       "996            0           0           0           0           0           0   \n",
       "997            0           0           0           0           0           0   \n",
       "998            0           0           0           0           0           0   \n",
       "999            0           0           0           0           0           1   \n",
       "1000           0           0           0           1           0           0   \n",
       "\n",
       "      district_8  district_9  district_10  \n",
       "1              0           0            0  \n",
       "2              0           0            0  \n",
       "3              0           0            0  \n",
       "4              0           0            0  \n",
       "5              0           0            0  \n",
       "...          ...         ...          ...  \n",
       "996            0           0            0  \n",
       "997            0           1            0  \n",
       "998            0           1            0  \n",
       "999            0           0            0  \n",
       "1000           0           0            0  \n",
       "\n",
       "[1000 rows x 15 columns]"
      ]
     },
     "execution_count": 7,
     "metadata": {},
     "output_type": "execute_result"
    }
   ],
   "source": [
    "oh = ce.OneHotEncoder()\n",
    "enc_oh = oh.fit_transform(apartments['district'])\n",
    "apartments = apartments.join(enc_oh)  \n",
    "apartments = apartments.drop('district', axis = 1)\n",
    "apartments"
   ]
  },
  {
   "cell_type": "markdown",
   "metadata": {},
   "source": [
    "## Podział danych na zbiór treningowy i testowy"
   ]
  },
  {
   "cell_type": "markdown",
   "metadata": {},
   "source": [
    "Zmienną celu w zbiorze danych apartments jest m2_price, określająca, cenę za metr kwadratowy mieszkania"
   ]
  },
  {
   "cell_type": "code",
   "execution_count": 8,
   "metadata": {},
   "outputs": [],
   "source": [
    "X_apartments = apartments.drop('m2_price', axis = 1)\n",
    "y_apartments = apartments.m2_price"
   ]
  },
  {
   "cell_type": "markdown",
   "metadata": {},
   "source": [
    "Zmienną celu w zbiorze danych wine jest Wine Type określająca typ wina"
   ]
  },
  {
   "cell_type": "code",
   "execution_count": 9,
   "metadata": {},
   "outputs": [],
   "source": [
    "X_wine = wine.drop('Wine Type', axis = 1)\n",
    "y_wine = wine['Wine Type']"
   ]
  },
  {
   "cell_type": "markdown",
   "metadata": {},
   "source": [
    "Dokonujemy podziału na zbiór testowy i treningowy (zbiór testowy będzie stanowił 30% całego zbioru)"
   ]
  },
  {
   "cell_type": "code",
   "execution_count": 10,
   "metadata": {},
   "outputs": [],
   "source": [
    "from sklearn.model_selection import train_test_split"
   ]
  },
  {
   "cell_type": "code",
   "execution_count": 11,
   "metadata": {},
   "outputs": [],
   "source": [
    "X_apartments_train, X_apartments_test, y_apartments_train, y_apartments_test = train_test_split(\n",
    "    X_apartments, y_apartments, test_size=0.3, random_state=42)"
   ]
  },
  {
   "cell_type": "code",
   "execution_count": 12,
   "metadata": {},
   "outputs": [],
   "source": [
    "X_wine_train, X_wine_test, y_wine_train, y_wine_test = train_test_split(\n",
    "    X_wine, y_wine, test_size=0.3, random_state=42)"
   ]
  },
  {
   "cell_type": "markdown",
   "metadata": {},
   "source": [
    "Importujemy również classification report"
   ]
  },
  {
   "cell_type": "code",
   "execution_count": 13,
   "metadata": {},
   "outputs": [],
   "source": [
    "from sklearn.metrics import classification_report"
   ]
  },
  {
   "cell_type": "markdown",
   "metadata": {},
   "source": [
    "Ponadto importuję RMSE, które będzie metryką dla oceny działania modelu dla zbioru apartments"
   ]
  },
  {
   "cell_type": "code",
   "execution_count": 14,
   "metadata": {},
   "outputs": [],
   "source": [
    "from sklearn.metrics import mean_squared_error"
   ]
  },
  {
   "cell_type": "markdown",
   "metadata": {},
   "source": [
    "## SVM"
   ]
  },
  {
   "cell_type": "code",
   "execution_count": 15,
   "metadata": {},
   "outputs": [],
   "source": [
    "from sklearn.svm import SVC\n",
    "from sklearn.svm import SVR"
   ]
  },
  {
   "cell_type": "code",
   "execution_count": 16,
   "metadata": {},
   "outputs": [],
   "source": [
    "svm = SVC(random_state=1)\n",
    "svr = SVR()"
   ]
  },
  {
   "cell_type": "markdown",
   "metadata": {},
   "source": [
    "### Apartments"
   ]
  },
  {
   "cell_type": "code",
   "execution_count": 17,
   "metadata": {},
   "outputs": [
    {
     "name": "stdout",
     "output_type": "stream",
     "text": [
      "RMSE:  921.4746771019635\n"
     ]
    }
   ],
   "source": [
    "svr.fit(X_apartments_train, y_apartments_train)\n",
    "y_apartments_hat = svr.predict(X_apartments_test)\n",
    "apartments_score = mean_squared_error(y_apartments_test, y_apartments_hat, squared = False)\n",
    "print('RMSE: ', apartments_score)"
   ]
  },
  {
   "cell_type": "markdown",
   "metadata": {},
   "source": [
    "Niestety model słabo przewiduje cenę mieszkania dla tego zbioru danych - RMSE 921,47"
   ]
  },
  {
   "cell_type": "markdown",
   "metadata": {},
   "source": [
    "### Wine"
   ]
  },
  {
   "cell_type": "code",
   "execution_count": 18,
   "metadata": {},
   "outputs": [
    {
     "name": "stdout",
     "output_type": "stream",
     "text": [
      "accuracy:  0.7592592592592593\n"
     ]
    }
   ],
   "source": [
    "svm.fit(X_wine_train, y_wine_train)\n",
    "y_wine_hat = svm.predict(X_wine_test)\n",
    "wine_score = svm.score(X_wine_test, y_wine_test)\n",
    "print('accuracy: ', wine_score)"
   ]
  },
  {
   "cell_type": "code",
   "execution_count": 19,
   "metadata": {},
   "outputs": [
    {
     "name": "stdout",
     "output_type": "stream",
     "text": [
      "              precision    recall  f1-score   support\n",
      "\n",
      "         One       1.00      1.00      1.00        19\n",
      "       Three       0.60      0.21      0.32        14\n",
      "         Two       0.63      0.90      0.75        21\n",
      "\n",
      "    accuracy                           0.76        54\n",
      "   macro avg       0.74      0.71      0.69        54\n",
      "weighted avg       0.75      0.76      0.72        54\n",
      "\n"
     ]
    }
   ],
   "source": [
    "print(classification_report(y_wine_test, y_wine_hat))"
   ]
  },
  {
   "cell_type": "markdown",
   "metadata": {},
   "source": [
    "W tym przypadku mamy już całkiem niezłe predykcje klas - accuracy 0,76"
   ]
  },
  {
   "cell_type": "markdown",
   "metadata": {},
   "source": [
    "## SVM z przeskalowanymi danymi"
   ]
  },
  {
   "cell_type": "code",
   "execution_count": 20,
   "metadata": {},
   "outputs": [],
   "source": [
    "from sklearn.preprocessing import StandardScaler\n",
    "from sklearn.pipeline import make_pipeline"
   ]
  },
  {
   "cell_type": "code",
   "execution_count": 21,
   "metadata": {},
   "outputs": [],
   "source": [
    "svm_scaled = make_pipeline(StandardScaler(), SVC(random_state=1))\n",
    "svr_scaled = make_pipeline(StandardScaler(), SVR())"
   ]
  },
  {
   "cell_type": "markdown",
   "metadata": {},
   "source": [
    "### Apartments"
   ]
  },
  {
   "cell_type": "code",
   "execution_count": 22,
   "metadata": {},
   "outputs": [
    {
     "name": "stdout",
     "output_type": "stream",
     "text": [
      "RMSE:  901.248013638077\n"
     ]
    }
   ],
   "source": [
    "svr_scaled.fit(X_apartments_train, y_apartments_train)\n",
    "y_apartments_hat_scaled = svr_scaled.predict(X_apartments_test)\n",
    "apartments_score_scaled = mean_squared_error(y_apartments_test, y_apartments_hat_scaled, squared = False)\n",
    "print('RMSE: ', apartments_score_scaled)\n"
   ]
  },
  {
   "cell_type": "markdown",
   "metadata": {},
   "source": [
    "Widzimy, że po przeskalowaniu danych StandardScalerem wartość miara RMSE zmalała z 921,47, do 901.25. Model poprawił się"
   ]
  },
  {
   "cell_type": "markdown",
   "metadata": {},
   "source": [
    "### Wine"
   ]
  },
  {
   "cell_type": "code",
   "execution_count": 23,
   "metadata": {},
   "outputs": [
    {
     "name": "stdout",
     "output_type": "stream",
     "text": [
      "accuracy:  0.9814814814814815\n"
     ]
    }
   ],
   "source": [
    "svm_scaled.fit(X_wine_train, y_wine_train)\n",
    "y_wine_hat_scaled = svm_scaled.predict(X_wine_test)\n",
    "wine_score_scaled = svm_scaled.score(X_wine_test, y_wine_test)\n",
    "print('accuracy: ', wine_score_scaled)"
   ]
  },
  {
   "cell_type": "code",
   "execution_count": 24,
   "metadata": {},
   "outputs": [
    {
     "name": "stdout",
     "output_type": "stream",
     "text": [
      "              precision    recall  f1-score   support\n",
      "\n",
      "         One       1.00      1.00      1.00        19\n",
      "       Three       1.00      0.93      0.96        14\n",
      "         Two       0.95      1.00      0.98        21\n",
      "\n",
      "    accuracy                           0.98        54\n",
      "   macro avg       0.98      0.98      0.98        54\n",
      "weighted avg       0.98      0.98      0.98        54\n",
      "\n"
     ]
    }
   ],
   "source": [
    "print(classification_report(y_wine_test, y_wine_hat_scaled))"
   ]
  },
  {
   "cell_type": "markdown",
   "metadata": {},
   "source": [
    "Również w tym przypadku możemy zauważyć, że miara accurancy wzrosła z 0.76, do 0.98."
   ]
  },
  {
   "cell_type": "markdown",
   "metadata": {},
   "source": [
    "### Podsumowanie skalowania"
   ]
  },
  {
   "cell_type": "code",
   "execution_count": 25,
   "metadata": {},
   "outputs": [
    {
     "data": {
      "image/png": "[encoded data removed]",
      "text/plain": [
       "<Figure size 432x288 with 1 Axes>"
      ]
     },
     "metadata": {
      "needs_background": "light"
     },
     "output_type": "display_data"
    }
   ],
   "source": [
    "x1 = ['Apartments', 'Apartments scaled']\n",
    "y1 = [apartments_score, apartments_score_scaled]\n",
    "\n",
    "df1 = pd.DataFrame({'Model i dataset': x1,\n",
    "                  'RMSE': y1})\n",
    "\n",
    "fig, ax = plt.subplots()\n",
    "sns.barplot(data = df1, x = 'Model i dataset', y = 'RMSE', dodge=False, color = 'yellow')\n",
    "ax.set_title('Wartość miary RMSE w zależności od skalowania')\n",
    "plt.show()"
   ]
  },
  {
   "cell_type": "code",
   "execution_count": 26,
   "metadata": {},
   "outputs": [
    {
     "data": {
      "image/png": "[encoded data removed]",
      "text/plain": [
       "<Figure size 432x288 with 1 Axes>"
      ]
     },
     "metadata": {
      "needs_background": "light"
     },
     "output_type": "display_data"
    }
   ],
   "source": [
    "x2 = ['Wine', 'Wine scaled']\n",
    "y2 = [wine_score, wine_score_scaled]\n",
    "df2 = pd.DataFrame({'Model i dataset': x2,\n",
    "                  'Accurancy': y2})\n",
    "\n",
    "fig, ax = plt.subplots()\n",
    "sns.barplot(data = df2, x = 'Model i dataset', y = 'Accurancy', dodge=False, color = 'yellow')\n",
    "ax.set_title('Wartość miary Accurancy w zależności od skalowania')\n",
    "plt.show()"
   ]
  },
  {
   "cell_type": "markdown",
   "metadata": {},
   "source": [
    "Podsumowując po przeskalowaniu danych dla zbioru apartments poprawiła się wartość miary RMSE, natomiast dla zbioru Wine poprawiła się miara accurancy i inne miary zawarte w classification report, co oznacza że artykuł słusznie zaleca skalowanie danych do modelu SVM."
   ]
  },
  {
   "cell_type": "markdown",
   "metadata": {},
   "source": [
    "## Optymalizacja hiperparametrów"
   ]
  },
  {
   "cell_type": "markdown",
   "metadata": {},
   "source": [
    "Hiperparametry będę optymalizował dla zbiorów przeskalowanych StandardScalerem"
   ]
  },
  {
   "cell_type": "code",
   "execution_count": 27,
   "metadata": {},
   "outputs": [],
   "source": [
    "from sklearn.model_selection import RandomizedSearchCV"
   ]
  },
  {
   "cell_type": "markdown",
   "metadata": {},
   "source": [
    "### Apartments"
   ]
  },
  {
   "cell_type": "code",
   "execution_count": 28,
   "metadata": {},
   "outputs": [],
   "source": [
    "svm_scaled = make_pipeline(StandardScaler(), SVC(random_state=1))\n",
    "svr_scaled = make_pipeline(StandardScaler(), SVR())"
   ]
  },
  {
   "cell_type": "code",
   "execution_count": 29,
   "metadata": {},
   "outputs": [],
   "source": [
    "parameters = {\n",
    "    'svr__C': [1e-6, 0.1,1, 10, 100],\n",
    "    'svr__gamma': ['auto', 'scale', 1e-6, 1, 0.1 ,0.01 , 0.001],\n",
    "    'svr__kernel': ['linear', 'sigmoid', 'rbf']\n",
    "}"
   ]
  },
  {
   "cell_type": "code",
   "execution_count": 30,
   "metadata": {},
   "outputs": [],
   "source": [
    "svr_apartments_rand = RandomizedSearchCV(estimator=svr_scaled, param_distributions=parameters, n_iter=30, scoring='neg_root_mean_squared_error')"
   ]
  },
  {
   "cell_type": "code",
   "execution_count": 31,
   "metadata": {},
   "outputs": [
    {
     "data": {
      "text/plain": [
       "RandomizedSearchCV(estimator=Pipeline(steps=[('standardscaler',\n",
       "                                              StandardScaler()),\n",
       "                                             ('svr', SVR())]),\n",
       "                   n_iter=30,\n",
       "                   param_distributions={'svr__C': [1e-06, 0.1, 1, 10, 100],\n",
       "                                        'svr__gamma': ['auto', 'scale', 1e-06,\n",
       "                                                       1, 0.1, 0.01, 0.001],\n",
       "                                        'svr__kernel': ['linear', 'sigmoid',\n",
       "                                                        'rbf']},\n",
       "                   scoring='neg_root_mean_squared_error')"
      ]
     },
     "execution_count": 31,
     "metadata": {},
     "output_type": "execute_result"
    }
   ],
   "source": [
    "svr_apartments_rand.fit(X_apartments_train, y_apartments_train)"
   ]
  },
  {
   "cell_type": "code",
   "execution_count": 32,
   "metadata": {
    "scrolled": true
   },
   "outputs": [
    {
     "data": {
      "text/html": [
       "<div>\n",
       "<style scoped>\n",
       "    .dataframe tbody tr th:only-of-type {\n",
       "        vertical-align: middle;\n",
       "    }\n",
       "\n",
       "    .dataframe tbody tr th {\n",
       "        vertical-align: top;\n",
       "    }\n",
       "\n",
       "    .dataframe thead th {\n",
       "        text-align: right;\n",
       "    }\n",
       "</style>\n",
       "<table border=\"1\" class=\"dataframe\">\n",
       "  <thead>\n",
       "    <tr style=\"text-align: right;\">\n",
       "      <th></th>\n",
       "      <th>params</th>\n",
       "      <th>mean_test_score</th>\n",
       "    </tr>\n",
       "  </thead>\n",
       "  <tbody>\n",
       "    <tr>\n",
       "      <th>13</th>\n",
       "      <td>{'svr__kernel': 'rbf', 'svr__gamma': 'auto', 'svr__C': 100}</td>\n",
       "      <td>-311.865649</td>\n",
       "    </tr>\n",
       "    <tr>\n",
       "      <th>7</th>\n",
       "      <td>{'svr__kernel': 'rbf', 'svr__gamma': 'scale', 'svr__C': 100}</td>\n",
       "      <td>-311.865649</td>\n",
       "    </tr>\n",
       "    <tr>\n",
       "      <th>2</th>\n",
       "      <td>{'svr__kernel': 'sigmoid', 'svr__gamma': 'scale', 'svr__C': 100}</td>\n",
       "      <td>-339.966003</td>\n",
       "    </tr>\n",
       "    <tr>\n",
       "      <th>3</th>\n",
       "      <td>{'svr__kernel': 'linear', 'svr__gamma': 0.1, 'svr__C': 100}</td>\n",
       "      <td>-341.620372</td>\n",
       "    </tr>\n",
       "    <tr>\n",
       "      <th>5</th>\n",
       "      <td>{'svr__kernel': 'linear', 'svr__gamma': 1, 'svr__C': 100}</td>\n",
       "      <td>-341.620372</td>\n",
       "    </tr>\n",
       "  </tbody>\n",
       "</table>\n",
       "</div>"
      ],
      "text/plain": [
       "                                                              params  \\\n",
       "13       {'svr__kernel': 'rbf', 'svr__gamma': 'auto', 'svr__C': 100}   \n",
       "7       {'svr__kernel': 'rbf', 'svr__gamma': 'scale', 'svr__C': 100}   \n",
       "2   {'svr__kernel': 'sigmoid', 'svr__gamma': 'scale', 'svr__C': 100}   \n",
       "3        {'svr__kernel': 'linear', 'svr__gamma': 0.1, 'svr__C': 100}   \n",
       "5          {'svr__kernel': 'linear', 'svr__gamma': 1, 'svr__C': 100}   \n",
       "\n",
       "    mean_test_score  \n",
       "13      -311.865649  \n",
       "7       -311.865649  \n",
       "2       -339.966003  \n",
       "3       -341.620372  \n",
       "5       -341.620372  "
      ]
     },
     "execution_count": 32,
     "metadata": {},
     "output_type": "execute_result"
    }
   ],
   "source": [
    "pd.DataFrame(svr_apartments_rand.cv_results_)[['params', 'mean_test_score']].sort_values('mean_test_score', ascending=False).head()"
   ]
  },
  {
   "cell_type": "markdown",
   "metadata": {},
   "source": [
    "Optymalny model dla powyższych kerneli"
   ]
  },
  {
   "cell_type": "code",
   "execution_count": 33,
   "metadata": {},
   "outputs": [
    {
     "name": "stdout",
     "output_type": "stream",
     "text": [
      "RMSE:  276.72224657261427\n"
     ]
    }
   ],
   "source": [
    "svr_apartments_optimized = make_pipeline(StandardScaler(), SVR(kernel='rbf', gamma='auto', C=100))\n",
    "svr_apartments_optimized.fit(X_apartments_train, y_apartments_train)\n",
    "y_apartments_hat = svr_apartments_optimized.predict(X_apartments_test)\n",
    "apartments_score_optimized = mean_squared_error(y_apartments_test, y_apartments_hat, squared = False)\n",
    "print('RMSE: ', apartments_score_optimized)"
   ]
  },
  {
   "cell_type": "markdown",
   "metadata": {},
   "source": [
    "Dla kernel poly"
   ]
  },
  {
   "cell_type": "code",
   "execution_count": 34,
   "metadata": {},
   "outputs": [],
   "source": [
    "svr_poly = make_pipeline(StandardScaler(), SVR(kernel='poly'))"
   ]
  },
  {
   "cell_type": "code",
   "execution_count": 35,
   "metadata": {},
   "outputs": [],
   "source": [
    "parameters_poly = {\n",
    "    'svr__C': [0.1,1, 10, 100],\n",
    "    'svr__gamma': ['auto', 'scale', 1, 0.1 ,0.01 , 0.001],\n",
    "    'svr__degree': [1, 2, 3, 4, 5, 6, 8]\n",
    "    \n",
    "}"
   ]
  },
  {
   "cell_type": "code",
   "execution_count": 36,
   "metadata": {},
   "outputs": [
    {
     "data": {
      "text/plain": [
       "RandomizedSearchCV(estimator=Pipeline(steps=[('standardscaler',\n",
       "                                              StandardScaler()),\n",
       "                                             ('svr', SVR(kernel='poly'))]),\n",
       "                   n_iter=15, n_jobs=-1,\n",
       "                   param_distributions={'svr__C': [0.1, 1, 10, 100],\n",
       "                                        'svr__degree': [1, 2, 3, 4, 5, 6, 8],\n",
       "                                        'svr__gamma': ['auto', 'scale', 1, 0.1,\n",
       "                                                       0.01, 0.001]},\n",
       "                   random_state=1, scoring='neg_root_mean_squared_error')"
      ]
     },
     "execution_count": 36,
     "metadata": {},
     "output_type": "execute_result"
    }
   ],
   "source": [
    "svr_apartments_rand_poly = RandomizedSearchCV(svr_poly, parameters_poly, n_iter=15, scoring='neg_root_mean_squared_error', n_jobs = -1, random_state=1)\n",
    "svr_apartments_rand_poly.fit(X_apartments_train, y_apartments_train)"
   ]
  },
  {
   "cell_type": "code",
   "execution_count": 37,
   "metadata": {},
   "outputs": [
    {
     "data": {
      "text/html": [
       "<div>\n",
       "<style scoped>\n",
       "    .dataframe tbody tr th:only-of-type {\n",
       "        vertical-align: middle;\n",
       "    }\n",
       "\n",
       "    .dataframe tbody tr th {\n",
       "        vertical-align: top;\n",
       "    }\n",
       "\n",
       "    .dataframe thead th {\n",
       "        text-align: right;\n",
       "    }\n",
       "</style>\n",
       "<table border=\"1\" class=\"dataframe\">\n",
       "  <thead>\n",
       "    <tr style=\"text-align: right;\">\n",
       "      <th></th>\n",
       "      <th>params</th>\n",
       "      <th>mean_test_score</th>\n",
       "    </tr>\n",
       "  </thead>\n",
       "  <tbody>\n",
       "    <tr>\n",
       "      <th>10</th>\n",
       "      <td>{'svr__gamma': 0.1, 'svr__degree': 8, 'svr__C': 100}</td>\n",
       "      <td>-231.412222</td>\n",
       "    </tr>\n",
       "    <tr>\n",
       "      <th>9</th>\n",
       "      <td>{'svr__gamma': 1, 'svr__degree': 3, 'svr__C': 0.1}</td>\n",
       "      <td>-332.988047</td>\n",
       "    </tr>\n",
       "    <tr>\n",
       "      <th>11</th>\n",
       "      <td>{'svr__gamma': 0.1, 'svr__degree': 4, 'svr__C': 10}</td>\n",
       "      <td>-560.760846</td>\n",
       "    </tr>\n",
       "    <tr>\n",
       "      <th>13</th>\n",
       "      <td>{'svr__gamma': 1, 'svr__degree': 8, 'svr__C': 10}</td>\n",
       "      <td>-563.038401</td>\n",
       "    </tr>\n",
       "    <tr>\n",
       "      <th>8</th>\n",
       "      <td>{'svr__gamma': 'auto', 'svr__degree': 1, 'svr__C': 10}</td>\n",
       "      <td>-617.847941</td>\n",
       "    </tr>\n",
       "  </tbody>\n",
       "</table>\n",
       "</div>"
      ],
      "text/plain": [
       "                                                    params  mean_test_score\n",
       "10    {'svr__gamma': 0.1, 'svr__degree': 8, 'svr__C': 100}      -231.412222\n",
       "9       {'svr__gamma': 1, 'svr__degree': 3, 'svr__C': 0.1}      -332.988047\n",
       "11     {'svr__gamma': 0.1, 'svr__degree': 4, 'svr__C': 10}      -560.760846\n",
       "13       {'svr__gamma': 1, 'svr__degree': 8, 'svr__C': 10}      -563.038401\n",
       "8   {'svr__gamma': 'auto', 'svr__degree': 1, 'svr__C': 10}      -617.847941"
      ]
     },
     "execution_count": 37,
     "metadata": {},
     "output_type": "execute_result"
    }
   ],
   "source": [
    "pd.DataFrame(svr_apartments_rand_poly.cv_results_)[['params', 'mean_test_score']].sort_values('mean_test_score', ascending=False).head()"
   ]
  },
  {
   "cell_type": "code",
   "execution_count": 38,
   "metadata": {},
   "outputs": [
    {
     "name": "stdout",
     "output_type": "stream",
     "text": [
      "RMSE:  213.50814137730077\n"
     ]
    }
   ],
   "source": [
    "svr_apartments_poly_optimized = make_pipeline(StandardScaler(), SVR(kernel='poly', gamma=0.1, degree=8, C=100))\n",
    "svr_apartments_poly_optimized.fit(X_apartments_train, y_apartments_train)\n",
    "y_apartments_hat = svr_apartments_poly_optimized.predict(X_apartments_test)\n",
    "apartments_score_poly_optimized = mean_squared_error(y_apartments_test, y_apartments_hat, squared = False)\n",
    "print('RMSE: ', apartments_score_poly_optimized)"
   ]
  },
  {
   "cell_type": "markdown",
   "metadata": {},
   "source": [
    "Znaleziony model w drugim Random search'u jest lepszy od tego pierwszego, zatem wybieram drugi jako optymalny"
   ]
  },
  {
   "cell_type": "code",
   "execution_count": 39,
   "metadata": {},
   "outputs": [],
   "source": [
    "apartments_score_optimized = apartments_score_poly_optimized"
   ]
  },
  {
   "cell_type": "markdown",
   "metadata": {},
   "source": [
    "### Wine"
   ]
  },
  {
   "cell_type": "code",
   "execution_count": 40,
   "metadata": {},
   "outputs": [],
   "source": [
    "svm_scaled = make_pipeline(StandardScaler(), SVC(random_state=1))"
   ]
  },
  {
   "cell_type": "code",
   "execution_count": 41,
   "metadata": {},
   "outputs": [],
   "source": [
    "parameters = {\n",
    "    'svc__C': [1, 2, 3, 4, 5, 6, 7, 8, 9, 10],\n",
    "    'svc__gamma': ['auto', 'scale'],\n",
    "    'svc__kernel': ['linear', 'sigmoid', 'rbf']\n",
    "}"
   ]
  },
  {
   "cell_type": "code",
   "execution_count": 42,
   "metadata": {},
   "outputs": [
    {
     "data": {
      "text/plain": [
       "RandomizedSearchCV(estimator=Pipeline(steps=[('standardscaler',\n",
       "                                              StandardScaler()),\n",
       "                                             ('svc', SVC(random_state=1))]),\n",
       "                   n_iter=20,\n",
       "                   param_distributions={'svc__C': [1, 2, 3, 4, 5, 6, 7, 8, 9,\n",
       "                                                   10],\n",
       "                                        'svc__gamma': ['auto', 'scale'],\n",
       "                                        'svc__kernel': ['linear', 'sigmoid',\n",
       "                                                        'rbf']},\n",
       "                   random_state=1)"
      ]
     },
     "execution_count": 42,
     "metadata": {},
     "output_type": "execute_result"
    }
   ],
   "source": [
    "svm_wine_rand = RandomizedSearchCV(svm_scaled, parameters, n_iter=20, random_state=1)\n",
    "svm_wine_rand.fit(X_wine_train, y_wine_train)"
   ]
  },
  {
   "cell_type": "code",
   "execution_count": 43,
   "metadata": {
    "scrolled": true
   },
   "outputs": [
    {
     "data": {
      "text/html": [
       "<div>\n",
       "<style scoped>\n",
       "    .dataframe tbody tr th:only-of-type {\n",
       "        vertical-align: middle;\n",
       "    }\n",
       "\n",
       "    .dataframe tbody tr th {\n",
       "        vertical-align: top;\n",
       "    }\n",
       "\n",
       "    .dataframe thead th {\n",
       "        text-align: right;\n",
       "    }\n",
       "</style>\n",
       "<table border=\"1\" class=\"dataframe\">\n",
       "  <thead>\n",
       "    <tr style=\"text-align: right;\">\n",
       "      <th></th>\n",
       "      <th>params</th>\n",
       "      <th>mean_test_score</th>\n",
       "    </tr>\n",
       "  </thead>\n",
       "  <tbody>\n",
       "    <tr>\n",
       "      <th>0</th>\n",
       "      <td>{'svc__kernel': 'linear', 'svc__gamma': 'scale', 'svc__C': 7}</td>\n",
       "      <td>0.984</td>\n",
       "    </tr>\n",
       "    <tr>\n",
       "      <th>6</th>\n",
       "      <td>{'svc__kernel': 'linear', 'svc__gamma': 'scale', 'svc__C': 6}</td>\n",
       "      <td>0.984</td>\n",
       "    </tr>\n",
       "    <tr>\n",
       "      <th>16</th>\n",
       "      <td>{'svc__kernel': 'linear', 'svc__gamma': 'scale', 'svc__C': 4}</td>\n",
       "      <td>0.984</td>\n",
       "    </tr>\n",
       "    <tr>\n",
       "      <th>15</th>\n",
       "      <td>{'svc__kernel': 'linear', 'svc__gamma': 'auto', 'svc__C': 7}</td>\n",
       "      <td>0.984</td>\n",
       "    </tr>\n",
       "    <tr>\n",
       "      <th>13</th>\n",
       "      <td>{'svc__kernel': 'linear', 'svc__gamma': 'scale', 'svc__C': 1}</td>\n",
       "      <td>0.984</td>\n",
       "    </tr>\n",
       "  </tbody>\n",
       "</table>\n",
       "</div>"
      ],
      "text/plain": [
       "                                                           params  \\\n",
       "0   {'svc__kernel': 'linear', 'svc__gamma': 'scale', 'svc__C': 7}   \n",
       "6   {'svc__kernel': 'linear', 'svc__gamma': 'scale', 'svc__C': 6}   \n",
       "16  {'svc__kernel': 'linear', 'svc__gamma': 'scale', 'svc__C': 4}   \n",
       "15   {'svc__kernel': 'linear', 'svc__gamma': 'auto', 'svc__C': 7}   \n",
       "13  {'svc__kernel': 'linear', 'svc__gamma': 'scale', 'svc__C': 1}   \n",
       "\n",
       "    mean_test_score  \n",
       "0             0.984  \n",
       "6             0.984  \n",
       "16            0.984  \n",
       "15            0.984  \n",
       "13            0.984  "
      ]
     },
     "execution_count": 43,
     "metadata": {},
     "output_type": "execute_result"
    }
   ],
   "source": [
    "pd.DataFrame(svm_wine_rand.cv_results_)[['params', 'mean_test_score']].sort_values('mean_test_score', ascending=False).head()"
   ]
  },
  {
   "cell_type": "markdown",
   "metadata": {},
   "source": [
    "Optymalny model dla powyższych kerneli"
   ]
  },
  {
   "cell_type": "code",
   "execution_count": 44,
   "metadata": {},
   "outputs": [
    {
     "name": "stdout",
     "output_type": "stream",
     "text": [
      "accuracy:  0.9814814814814815\n"
     ]
    }
   ],
   "source": [
    "svm_wine_optimized = svm_scaled = make_pipeline(StandardScaler(), SVC(random_state=1, kernel='linear', gamma='scale', C=7))\n",
    "svm_wine_optimized.fit(X_wine_train, y_wine_train)\n",
    "y_wine_hat = svm_wine_optimized.predict(X_wine_test)\n",
    "wine_score_optimized = svm_wine_optimized.score(X_wine_test, y_wine_test)\n",
    "print('accuracy: ', wine_score_optimized)"
   ]
  },
  {
   "cell_type": "code",
   "execution_count": 45,
   "metadata": {},
   "outputs": [
    {
     "name": "stdout",
     "output_type": "stream",
     "text": [
      "              precision    recall  f1-score   support\n",
      "\n",
      "         One       1.00      1.00      1.00        19\n",
      "       Three       0.93      1.00      0.97        14\n",
      "         Two       1.00      0.95      0.98        21\n",
      "\n",
      "    accuracy                           0.98        54\n",
      "   macro avg       0.98      0.98      0.98        54\n",
      "weighted avg       0.98      0.98      0.98        54\n",
      "\n"
     ]
    }
   ],
   "source": [
    "print(classification_report(y_wine_test, y_wine_hat))"
   ]
  },
  {
   "cell_type": "markdown",
   "metadata": {},
   "source": [
    "Dla kernel poly"
   ]
  },
  {
   "cell_type": "code",
   "execution_count": 46,
   "metadata": {},
   "outputs": [],
   "source": [
    "svm_poly = make_pipeline(StandardScaler(), SVC(kernel='poly', random_state=1))"
   ]
  },
  {
   "cell_type": "code",
   "execution_count": 47,
   "metadata": {},
   "outputs": [],
   "source": [
    "parameters_poly = {\n",
    "    'svc__C': [1, 2, 3, 4, 5, 6, 7, 8],\n",
    "    'svc__gamma': ['auto', 'scale'],\n",
    "    'svc__degree': [1, 2, 3, 4, 5, 6, 8]\n",
    "    \n",
    "}"
   ]
  },
  {
   "cell_type": "code",
   "execution_count": 48,
   "metadata": {},
   "outputs": [
    {
     "data": {
      "text/plain": [
       "RandomizedSearchCV(estimator=Pipeline(steps=[('standardscaler',\n",
       "                                              StandardScaler()),\n",
       "                                             ('svc',\n",
       "                                              SVC(kernel='poly',\n",
       "                                                  random_state=1))]),\n",
       "                   n_iter=15, n_jobs=-1,\n",
       "                   param_distributions={'svc__C': [1, 2, 3, 4, 5, 6, 7, 8],\n",
       "                                        'svc__degree': [1, 2, 3, 4, 5, 6, 8],\n",
       "                                        'svc__gamma': ['auto', 'scale']},\n",
       "                   random_state=1)"
      ]
     },
     "execution_count": 48,
     "metadata": {},
     "output_type": "execute_result"
    }
   ],
   "source": [
    "svm_wine_rand_poly = RandomizedSearchCV(svm_poly, parameters_poly, n_iter=15, n_jobs = -1, random_state=1)\n",
    "svm_wine_rand_poly.fit(X_wine_train, y_wine_train)"
   ]
  },
  {
   "cell_type": "code",
   "execution_count": 49,
   "metadata": {},
   "outputs": [
    {
     "data": {
      "text/html": [
       "<div>\n",
       "<style scoped>\n",
       "    .dataframe tbody tr th:only-of-type {\n",
       "        vertical-align: middle;\n",
       "    }\n",
       "\n",
       "    .dataframe tbody tr th {\n",
       "        vertical-align: top;\n",
       "    }\n",
       "\n",
       "    .dataframe thead th {\n",
       "        text-align: right;\n",
       "    }\n",
       "</style>\n",
       "<table border=\"1\" class=\"dataframe\">\n",
       "  <thead>\n",
       "    <tr style=\"text-align: right;\">\n",
       "      <th></th>\n",
       "      <th>params</th>\n",
       "      <th>mean_test_score</th>\n",
       "    </tr>\n",
       "  </thead>\n",
       "  <tbody>\n",
       "    <tr>\n",
       "      <th>2</th>\n",
       "      <td>{'svc__gamma': 'auto', 'svc__degree': 1, 'svc__C': 5}</td>\n",
       "      <td>0.984000</td>\n",
       "    </tr>\n",
       "    <tr>\n",
       "      <th>6</th>\n",
       "      <td>{'svc__gamma': 'scale', 'svc__degree': 1, 'svc__C': 8}</td>\n",
       "      <td>0.984000</td>\n",
       "    </tr>\n",
       "    <tr>\n",
       "      <th>5</th>\n",
       "      <td>{'svc__gamma': 'scale', 'svc__degree': 3, 'svc__C': 8}</td>\n",
       "      <td>0.943333</td>\n",
       "    </tr>\n",
       "    <tr>\n",
       "      <th>12</th>\n",
       "      <td>{'svc__gamma': 'auto', 'svc__degree': 2, 'svc__C': 1}</td>\n",
       "      <td>0.919000</td>\n",
       "    </tr>\n",
       "    <tr>\n",
       "      <th>1</th>\n",
       "      <td>{'svc__gamma': 'auto', 'svc__degree': 2, 'svc__C': 4}</td>\n",
       "      <td>0.894667</td>\n",
       "    </tr>\n",
       "  </tbody>\n",
       "</table>\n",
       "</div>"
      ],
      "text/plain": [
       "                                                    params  mean_test_score\n",
       "2    {'svc__gamma': 'auto', 'svc__degree': 1, 'svc__C': 5}         0.984000\n",
       "6   {'svc__gamma': 'scale', 'svc__degree': 1, 'svc__C': 8}         0.984000\n",
       "5   {'svc__gamma': 'scale', 'svc__degree': 3, 'svc__C': 8}         0.943333\n",
       "12   {'svc__gamma': 'auto', 'svc__degree': 2, 'svc__C': 1}         0.919000\n",
       "1    {'svc__gamma': 'auto', 'svc__degree': 2, 'svc__C': 4}         0.894667"
      ]
     },
     "execution_count": 49,
     "metadata": {},
     "output_type": "execute_result"
    }
   ],
   "source": [
    "pd.DataFrame(svm_wine_rand_poly.cv_results_)[['params', 'mean_test_score']].sort_values('mean_test_score', ascending=False).head()"
   ]
  },
  {
   "cell_type": "code",
   "execution_count": 50,
   "metadata": {},
   "outputs": [
    {
     "name": "stdout",
     "output_type": "stream",
     "text": [
      "accuracy:  0.9814814814814815\n"
     ]
    }
   ],
   "source": [
    "svm_wine_poly_optimized = make_pipeline(StandardScaler(), SVC(kernel='poly', gamma='auto', degree=1, C=5, random_state=1))\n",
    "svm_wine_poly_optimized.fit(X_wine_train, y_wine_train)\n",
    "y_wine_hat = svm_wine_poly_optimized.predict(X_wine_test)\n",
    "wine_score_poly_optimized = svm_wine_poly_optimized.score(X_wine_test, y_wine_test)\n",
    "print('accuracy: ', wine_score_poly_optimized)"
   ]
  },
  {
   "cell_type": "code",
   "execution_count": 51,
   "metadata": {},
   "outputs": [
    {
     "name": "stdout",
     "output_type": "stream",
     "text": [
      "              precision    recall  f1-score   support\n",
      "\n",
      "         One       1.00      1.00      1.00        19\n",
      "       Three       0.93      1.00      0.97        14\n",
      "         Two       1.00      0.95      0.98        21\n",
      "\n",
      "    accuracy                           0.98        54\n",
      "   macro avg       0.98      0.98      0.98        54\n",
      "weighted avg       0.98      0.98      0.98        54\n",
      "\n"
     ]
    }
   ],
   "source": [
    "print(classification_report(y_wine_test, y_wine_hat))"
   ]
  },
  {
   "cell_type": "markdown",
   "metadata": {},
   "source": [
    "Znalezione modele mają takie same miary accuracy i inne miary, zatem jako optymalny mogę wybrać pierwszy z nich"
   ]
  },
  {
   "cell_type": "code",
   "execution_count": 52,
   "metadata": {},
   "outputs": [],
   "source": [
    "wine_score_optimized = wine_score_optimized"
   ]
  },
  {
   "cell_type": "markdown",
   "metadata": {},
   "source": [
    "## Podsumowanie po doborze hiperparametrów"
   ]
  },
  {
   "cell_type": "code",
   "execution_count": 53,
   "metadata": {},
   "outputs": [
    {
     "data": {
      "image/png": "[encoded data removed]",
      "text/plain": [
       "<Figure size 432x288 with 1 Axes>"
      ]
     },
     "metadata": {
      "needs_background": "light"
     },
     "output_type": "display_data"
    }
   ],
   "source": [
    "x1 = ['Apartments', 'Apartments scaled', 'Apartments scaled and optimized']\n",
    "y1 = [apartments_score, apartments_score_scaled, apartments_score_optimized]\n",
    "\n",
    "df1 = pd.DataFrame({'Model i dataset': x1,\n",
    "                  'RMSE': y1})\n",
    "\n",
    "fig, ax = plt.subplots()\n",
    "sns.barplot(data = df1, x = 'Model i dataset', y = 'RMSE', dodge=False, color = 'yellow')\n",
    "ax.set_title('Wartość miary RMSE w zależności od skalowania i doboru hiperparametrów')\n",
    "plt.xticks(rotation=70)\n",
    "plt.show()"
   ]
  },
  {
   "cell_type": "code",
   "execution_count": 54,
   "metadata": {},
   "outputs": [
    {
     "data": {
      "image/png": "[encoded data removed]",
      "text/plain": [
       "<Figure size 432x288 with 1 Axes>"
      ]
     },
     "metadata": {
      "needs_background": "light"
     },
     "output_type": "display_data"
    }
   ],
   "source": [
    "x2 = ['Wine', 'Wine scaled', 'Wine scaled  and optimized']\n",
    "y2 = [wine_score, wine_score_scaled, wine_score_optimized]\n",
    "df2 = pd.DataFrame({'Model i dataset': x2,\n",
    "                  'Accurancy': y2})\n",
    "\n",
    "fig, ax = plt.subplots()\n",
    "sns.barplot(data = df2, x = 'Model i dataset', y = 'Accurancy', dodge=False, color = 'yellow')\n",
    "ax.set_title('Wartość miary RMSE w zależności od skalowania i doboru hiperparametrów')\n",
    "plt.xticks(rotation=70)\n",
    "plt.show()"
   ]
  },
  {
   "cell_type": "markdown",
   "metadata": {},
   "source": [
    "Jak widzimy wybór hiperparametrów znacząco przyczynił się do poprawienia predykcji dla zbioru apartments. Natomiast skalowanie danych przyczyniło się do dokładniejszych predykcji na obydwu zbiorach"
   ]
  },
  {
   "cell_type": "markdown",
   "metadata": {},
   "source": [
    "# Zadanie bonusowe"
   ]
  },
  {
   "cell_type": "markdown",
   "metadata": {},
   "source": [
    "## Wczytanie danych dotyczących transakcji w serwisie Allgero"
   ]
  },
  {
   "cell_type": "code",
   "execution_count": 55,
   "metadata": {},
   "outputs": [
    {
     "data": {
      "text/html": [
       "<div>\n",
       "<style scoped>\n",
       "    .dataframe tbody tr th:only-of-type {\n",
       "        vertical-align: middle;\n",
       "    }\n",
       "\n",
       "    .dataframe tbody tr th {\n",
       "        vertical-align: top;\n",
       "    }\n",
       "\n",
       "    .dataframe thead th {\n",
       "        text-align: right;\n",
       "    }\n",
       "</style>\n",
       "<table border=\"1\" class=\"dataframe\">\n",
       "  <thead>\n",
       "    <tr style=\"text-align: right;\">\n",
       "      <th></th>\n",
       "      <th>lp</th>\n",
       "      <th>date</th>\n",
       "      <th>item_id</th>\n",
       "      <th>categories</th>\n",
       "      <th>pay_option_on_delivery</th>\n",
       "      <th>pay_option_transfer</th>\n",
       "      <th>seller</th>\n",
       "      <th>price</th>\n",
       "      <th>it_is_allegro_standard</th>\n",
       "      <th>it_quantity</th>\n",
       "      <th>it_is_brand_zone</th>\n",
       "      <th>it_seller_rating</th>\n",
       "      <th>it_location</th>\n",
       "      <th>main_category</th>\n",
       "    </tr>\n",
       "  </thead>\n",
       "  <tbody>\n",
       "    <tr>\n",
       "      <th>0</th>\n",
       "      <td>0</td>\n",
       "      <td>2016-04-03 21:21:08</td>\n",
       "      <td>4753602474</td>\n",
       "      <td>['Komputery', 'Dyski i napędy', 'Nośniki', 'Nośniki DVD-R/RW', '30-50 szt. DVD-R/RW']</td>\n",
       "      <td>1</td>\n",
       "      <td>1</td>\n",
       "      <td>radzioch666</td>\n",
       "      <td>59.99</td>\n",
       "      <td>1</td>\n",
       "      <td>997</td>\n",
       "      <td>0</td>\n",
       "      <td>50177</td>\n",
       "      <td>Warszawa</td>\n",
       "      <td>Komputery</td>\n",
       "    </tr>\n",
       "    <tr>\n",
       "      <th>1</th>\n",
       "      <td>1</td>\n",
       "      <td>2016-04-03 15:35:26</td>\n",
       "      <td>4773181874</td>\n",
       "      <td>['Odzież, Obuwie, Dodatki', 'Bielizna damska', 'Majtki']</td>\n",
       "      <td>1</td>\n",
       "      <td>1</td>\n",
       "      <td>InwestycjeNET</td>\n",
       "      <td>4.90</td>\n",
       "      <td>1</td>\n",
       "      <td>9288</td>\n",
       "      <td>0</td>\n",
       "      <td>12428</td>\n",
       "      <td>Warszawa</td>\n",
       "      <td>Odzież, Obuwie, Dodatki</td>\n",
       "    </tr>\n",
       "    <tr>\n",
       "      <th>2</th>\n",
       "      <td>2</td>\n",
       "      <td>2016-04-03 14:14:31</td>\n",
       "      <td>4781627074</td>\n",
       "      <td>['Dom i Ogród', 'Budownictwo i Akcesoria', 'Ściany i elewacje', 'Tapety', 'Fototapety']</td>\n",
       "      <td>1</td>\n",
       "      <td>1</td>\n",
       "      <td>otostyl_com</td>\n",
       "      <td>109.90</td>\n",
       "      <td>1</td>\n",
       "      <td>895</td>\n",
       "      <td>0</td>\n",
       "      <td>7389</td>\n",
       "      <td>Leszno</td>\n",
       "      <td>Dom i Ogród</td>\n",
       "    </tr>\n",
       "    <tr>\n",
       "      <th>3</th>\n",
       "      <td>3</td>\n",
       "      <td>2016-04-03 19:55:44</td>\n",
       "      <td>4783971474</td>\n",
       "      <td>['Książki i Komiksy', 'Poradniki i albumy', 'Zdrowie, pierwsza pomoc', 'Diety, zdrowy styl życia']</td>\n",
       "      <td>1</td>\n",
       "      <td>1</td>\n",
       "      <td>Matfel1</td>\n",
       "      <td>18.50</td>\n",
       "      <td>0</td>\n",
       "      <td>971</td>\n",
       "      <td>0</td>\n",
       "      <td>15006</td>\n",
       "      <td>Wola Krzysztoporska</td>\n",
       "      <td>Książki i Komiksy</td>\n",
       "    </tr>\n",
       "    <tr>\n",
       "      <th>4</th>\n",
       "      <td>4</td>\n",
       "      <td>2016-04-03 18:05:54</td>\n",
       "      <td>4787908274</td>\n",
       "      <td>['Odzież, Obuwie, Dodatki', 'Ślub i wesele', 'Galanteria papiernicza', 'Pozostałe']</td>\n",
       "      <td>1</td>\n",
       "      <td>1</td>\n",
       "      <td>PPHU_RICO</td>\n",
       "      <td>19.90</td>\n",
       "      <td>1</td>\n",
       "      <td>950</td>\n",
       "      <td>0</td>\n",
       "      <td>32975</td>\n",
       "      <td>BIAŁYSTOK</td>\n",
       "      <td>Odzież, Obuwie, Dodatki</td>\n",
       "    </tr>\n",
       "    <tr>\n",
       "      <th>...</th>\n",
       "      <td>...</td>\n",
       "      <td>...</td>\n",
       "      <td>...</td>\n",
       "      <td>...</td>\n",
       "      <td>...</td>\n",
       "      <td>...</td>\n",
       "      <td>...</td>\n",
       "      <td>...</td>\n",
       "      <td>...</td>\n",
       "      <td>...</td>\n",
       "      <td>...</td>\n",
       "      <td>...</td>\n",
       "      <td>...</td>\n",
       "      <td>...</td>\n",
       "    </tr>\n",
       "    <tr>\n",
       "      <th>420015</th>\n",
       "      <td>420015</td>\n",
       "      <td>2016-04-03 20:27:13</td>\n",
       "      <td>6099625607</td>\n",
       "      <td>['RTV i AGD', 'Sprzęt audio dla domu', 'Odtwarzacze CD i MD', 'Jednopłytowe', 'Marantz']</td>\n",
       "      <td>0</td>\n",
       "      <td>0</td>\n",
       "      <td>iwona7012</td>\n",
       "      <td>180.00</td>\n",
       "      <td>0</td>\n",
       "      <td>0</td>\n",
       "      <td>0</td>\n",
       "      <td>176</td>\n",
       "      <td>Kraśnik</td>\n",
       "      <td>RTV i AGD</td>\n",
       "    </tr>\n",
       "    <tr>\n",
       "      <th>420016</th>\n",
       "      <td>420016</td>\n",
       "      <td>2016-04-03 22:35:02</td>\n",
       "      <td>6099634607</td>\n",
       "      <td>['Uroda', 'Makijaż', 'Oczy', 'Tusze do rzęs']</td>\n",
       "      <td>1</td>\n",
       "      <td>1</td>\n",
       "      <td>Dolce_Cosmetics</td>\n",
       "      <td>14.99</td>\n",
       "      <td>1</td>\n",
       "      <td>2</td>\n",
       "      <td>0</td>\n",
       "      <td>34851</td>\n",
       "      <td>Dzierżoniów</td>\n",
       "      <td>Uroda</td>\n",
       "    </tr>\n",
       "    <tr>\n",
       "      <th>420017</th>\n",
       "      <td>420017</td>\n",
       "      <td>2016-04-03 22:38:57</td>\n",
       "      <td>6099780407</td>\n",
       "      <td>['Odzież, Obuwie, Dodatki', 'Przebrania, kostiumy, maski', 'Akcesoria i gadżety']</td>\n",
       "      <td>1</td>\n",
       "      <td>1</td>\n",
       "      <td>pewex4all</td>\n",
       "      <td>5.99</td>\n",
       "      <td>1</td>\n",
       "      <td>470</td>\n",
       "      <td>0</td>\n",
       "      <td>983</td>\n",
       "      <td>Supraśl</td>\n",
       "      <td>Odzież, Obuwie, Dodatki</td>\n",
       "    </tr>\n",
       "    <tr>\n",
       "      <th>420018</th>\n",
       "      <td>420018</td>\n",
       "      <td>2016-04-03 22:44:17</td>\n",
       "      <td>6099801007</td>\n",
       "      <td>['Dla Dzieci', 'Rowery i pojazdy', 'Rowery biegowe']</td>\n",
       "      <td>1</td>\n",
       "      <td>0</td>\n",
       "      <td>kostasia</td>\n",
       "      <td>200.00</td>\n",
       "      <td>0</td>\n",
       "      <td>0</td>\n",
       "      <td>0</td>\n",
       "      <td>163</td>\n",
       "      <td>Poznań</td>\n",
       "      <td>Dla Dzieci</td>\n",
       "    </tr>\n",
       "    <tr>\n",
       "      <th>420019</th>\n",
       "      <td>420019</td>\n",
       "      <td>2016-04-03 23:08:23</td>\n",
       "      <td>6099873207</td>\n",
       "      <td>['Motoryzacja', 'Części samochodowe', 'Koła, felgi', 'Felgi', 'Aluminiowe']</td>\n",
       "      <td>0</td>\n",
       "      <td>0</td>\n",
       "      <td>Malami172</td>\n",
       "      <td>500.00</td>\n",
       "      <td>0</td>\n",
       "      <td>0</td>\n",
       "      <td>0</td>\n",
       "      <td>265</td>\n",
       "      <td>Pszów</td>\n",
       "      <td>Motoryzacja</td>\n",
       "    </tr>\n",
       "  </tbody>\n",
       "</table>\n",
       "<p>420020 rows × 14 columns</p>\n",
       "</div>"
      ],
      "text/plain": [
       "            lp                 date     item_id  \\\n",
       "0            0  2016-04-03 21:21:08  4753602474   \n",
       "1            1  2016-04-03 15:35:26  4773181874   \n",
       "2            2  2016-04-03 14:14:31  4781627074   \n",
       "3            3  2016-04-03 19:55:44  4783971474   \n",
       "4            4  2016-04-03 18:05:54  4787908274   \n",
       "...        ...                  ...         ...   \n",
       "420015  420015  2016-04-03 20:27:13  6099625607   \n",
       "420016  420016  2016-04-03 22:35:02  6099634607   \n",
       "420017  420017  2016-04-03 22:38:57  6099780407   \n",
       "420018  420018  2016-04-03 22:44:17  6099801007   \n",
       "420019  420019  2016-04-03 23:08:23  6099873207   \n",
       "\n",
       "                                                                                                categories  \\\n",
       "0                    ['Komputery', 'Dyski i napędy', 'Nośniki', 'Nośniki DVD-R/RW', '30-50 szt. DVD-R/RW']   \n",
       "1                                                 ['Odzież, Obuwie, Dodatki', 'Bielizna damska', 'Majtki']   \n",
       "2                  ['Dom i Ogród', 'Budownictwo i Akcesoria', 'Ściany i elewacje', 'Tapety', 'Fototapety']   \n",
       "3       ['Książki i Komiksy', 'Poradniki i albumy', 'Zdrowie, pierwsza pomoc', 'Diety, zdrowy styl życia']   \n",
       "4                      ['Odzież, Obuwie, Dodatki', 'Ślub i wesele', 'Galanteria papiernicza', 'Pozostałe']   \n",
       "...                                                                                                    ...   \n",
       "420015            ['RTV i AGD', 'Sprzęt audio dla domu', 'Odtwarzacze CD i MD', 'Jednopłytowe', 'Marantz']   \n",
       "420016                                                       ['Uroda', 'Makijaż', 'Oczy', 'Tusze do rzęs']   \n",
       "420017                   ['Odzież, Obuwie, Dodatki', 'Przebrania, kostiumy, maski', 'Akcesoria i gadżety']   \n",
       "420018                                                ['Dla Dzieci', 'Rowery i pojazdy', 'Rowery biegowe']   \n",
       "420019                         ['Motoryzacja', 'Części samochodowe', 'Koła, felgi', 'Felgi', 'Aluminiowe']   \n",
       "\n",
       "        pay_option_on_delivery  pay_option_transfer           seller   price  \\\n",
       "0                            1                    1      radzioch666   59.99   \n",
       "1                            1                    1    InwestycjeNET    4.90   \n",
       "2                            1                    1      otostyl_com  109.90   \n",
       "3                            1                    1          Matfel1   18.50   \n",
       "4                            1                    1        PPHU_RICO   19.90   \n",
       "...                        ...                  ...              ...     ...   \n",
       "420015                       0                    0        iwona7012  180.00   \n",
       "420016                       1                    1  Dolce_Cosmetics   14.99   \n",
       "420017                       1                    1        pewex4all    5.99   \n",
       "420018                       1                    0         kostasia  200.00   \n",
       "420019                       0                    0        Malami172  500.00   \n",
       "\n",
       "        it_is_allegro_standard  it_quantity  it_is_brand_zone  \\\n",
       "0                            1          997                 0   \n",
       "1                            1         9288                 0   \n",
       "2                            1          895                 0   \n",
       "3                            0          971                 0   \n",
       "4                            1          950                 0   \n",
       "...                        ...          ...               ...   \n",
       "420015                       0            0                 0   \n",
       "420016                       1            2                 0   \n",
       "420017                       1          470                 0   \n",
       "420018                       0            0                 0   \n",
       "420019                       0            0                 0   \n",
       "\n",
       "        it_seller_rating          it_location            main_category  \n",
       "0                  50177             Warszawa                Komputery  \n",
       "1                  12428             Warszawa  Odzież, Obuwie, Dodatki  \n",
       "2                   7389               Leszno              Dom i Ogród  \n",
       "3                  15006  Wola Krzysztoporska        Książki i Komiksy  \n",
       "4                  32975            BIAŁYSTOK  Odzież, Obuwie, Dodatki  \n",
       "...                  ...                  ...                      ...  \n",
       "420015               176              Kraśnik                RTV i AGD  \n",
       "420016             34851          Dzierżoniów                    Uroda  \n",
       "420017               983              Supraśl  Odzież, Obuwie, Dodatki  \n",
       "420018               163               Poznań               Dla Dzieci  \n",
       "420019               265                Pszów              Motoryzacja  \n",
       "\n",
       "[420020 rows x 14 columns]"
      ]
     },
     "execution_count": 55,
     "metadata": {},
     "output_type": "execute_result"
    }
   ],
   "source": [
    "allegro_df = pd.read_csv('allegro-api-transactions.csv')\n",
    "allegro_df"
   ]
  },
  {
   "cell_type": "code",
   "execution_count": 56,
   "metadata": {},
   "outputs": [
    {
     "name": "stdout",
     "output_type": "stream",
     "text": [
      "<class 'pandas.core.frame.DataFrame'>\n",
      "RangeIndex: 420020 entries, 0 to 420019\n",
      "Data columns (total 14 columns):\n",
      " #   Column                  Non-Null Count   Dtype  \n",
      "---  ------                  --------------   -----  \n",
      " 0   lp                      420020 non-null  int64  \n",
      " 1   date                    420020 non-null  object \n",
      " 2   item_id                 420020 non-null  int64  \n",
      " 3   categories              420020 non-null  object \n",
      " 4   pay_option_on_delivery  420020 non-null  int64  \n",
      " 5   pay_option_transfer     420020 non-null  int64  \n",
      " 6   seller                  420020 non-null  object \n",
      " 7   price                   420020 non-null  float64\n",
      " 8   it_is_allegro_standard  420020 non-null  int64  \n",
      " 9   it_quantity             420020 non-null  int64  \n",
      " 10  it_is_brand_zone        420020 non-null  int64  \n",
      " 11  it_seller_rating        420020 non-null  int64  \n",
      " 12  it_location             420020 non-null  object \n",
      " 13  main_category           420020 non-null  object \n",
      "dtypes: float64(1), int64(8), object(5)\n",
      "memory usage: 44.9+ MB\n"
     ]
    }
   ],
   "source": [
    "allegro_df.info()"
   ]
  },
  {
   "cell_type": "markdown",
   "metadata": {},
   "source": [
    "Nie mamy żadnych braków danych, a kolumny: main_category, categories i it_location, które mamy użyć w predykcji są typu object. \\\n",
    "Zmienna celu price jest typu liczbowego"
   ]
  },
  {
   "cell_type": "code",
   "execution_count": 57,
   "metadata": {},
   "outputs": [
    {
     "data": {
      "text/html": [
       "<div>\n",
       "<style scoped>\n",
       "    .dataframe tbody tr th:only-of-type {\n",
       "        vertical-align: middle;\n",
       "    }\n",
       "\n",
       "    .dataframe tbody tr th {\n",
       "        vertical-align: top;\n",
       "    }\n",
       "\n",
       "    .dataframe thead th {\n",
       "        text-align: right;\n",
       "    }\n",
       "</style>\n",
       "<table border=\"1\" class=\"dataframe\">\n",
       "  <thead>\n",
       "    <tr style=\"text-align: right;\">\n",
       "      <th></th>\n",
       "      <th>main_category</th>\n",
       "      <th>categories</th>\n",
       "      <th>it_location</th>\n",
       "      <th>price</th>\n",
       "    </tr>\n",
       "  </thead>\n",
       "  <tbody>\n",
       "    <tr>\n",
       "      <th>0</th>\n",
       "      <td>Komputery</td>\n",
       "      <td>['Komputery', 'Dyski i napędy', 'Nośniki', 'Nośniki DVD-R/RW', '30-50 szt. DVD-R/RW']</td>\n",
       "      <td>Warszawa</td>\n",
       "      <td>59.99</td>\n",
       "    </tr>\n",
       "    <tr>\n",
       "      <th>1</th>\n",
       "      <td>Odzież, Obuwie, Dodatki</td>\n",
       "      <td>['Odzież, Obuwie, Dodatki', 'Bielizna damska', 'Majtki']</td>\n",
       "      <td>Warszawa</td>\n",
       "      <td>4.90</td>\n",
       "    </tr>\n",
       "    <tr>\n",
       "      <th>2</th>\n",
       "      <td>Dom i Ogród</td>\n",
       "      <td>['Dom i Ogród', 'Budownictwo i Akcesoria', 'Ściany i elewacje', 'Tapety', 'Fototapety']</td>\n",
       "      <td>Leszno</td>\n",
       "      <td>109.90</td>\n",
       "    </tr>\n",
       "    <tr>\n",
       "      <th>3</th>\n",
       "      <td>Książki i Komiksy</td>\n",
       "      <td>['Książki i Komiksy', 'Poradniki i albumy', 'Zdrowie, pierwsza pomoc', 'Diety, zdrowy styl życia']</td>\n",
       "      <td>Wola Krzysztoporska</td>\n",
       "      <td>18.50</td>\n",
       "    </tr>\n",
       "    <tr>\n",
       "      <th>4</th>\n",
       "      <td>Odzież, Obuwie, Dodatki</td>\n",
       "      <td>['Odzież, Obuwie, Dodatki', 'Ślub i wesele', 'Galanteria papiernicza', 'Pozostałe']</td>\n",
       "      <td>BIAŁYSTOK</td>\n",
       "      <td>19.90</td>\n",
       "    </tr>\n",
       "    <tr>\n",
       "      <th>...</th>\n",
       "      <td>...</td>\n",
       "      <td>...</td>\n",
       "      <td>...</td>\n",
       "      <td>...</td>\n",
       "    </tr>\n",
       "    <tr>\n",
       "      <th>420015</th>\n",
       "      <td>RTV i AGD</td>\n",
       "      <td>['RTV i AGD', 'Sprzęt audio dla domu', 'Odtwarzacze CD i MD', 'Jednopłytowe', 'Marantz']</td>\n",
       "      <td>Kraśnik</td>\n",
       "      <td>180.00</td>\n",
       "    </tr>\n",
       "    <tr>\n",
       "      <th>420016</th>\n",
       "      <td>Uroda</td>\n",
       "      <td>['Uroda', 'Makijaż', 'Oczy', 'Tusze do rzęs']</td>\n",
       "      <td>Dzierżoniów</td>\n",
       "      <td>14.99</td>\n",
       "    </tr>\n",
       "    <tr>\n",
       "      <th>420017</th>\n",
       "      <td>Odzież, Obuwie, Dodatki</td>\n",
       "      <td>['Odzież, Obuwie, Dodatki', 'Przebrania, kostiumy, maski', 'Akcesoria i gadżety']</td>\n",
       "      <td>Supraśl</td>\n",
       "      <td>5.99</td>\n",
       "    </tr>\n",
       "    <tr>\n",
       "      <th>420018</th>\n",
       "      <td>Dla Dzieci</td>\n",
       "      <td>['Dla Dzieci', 'Rowery i pojazdy', 'Rowery biegowe']</td>\n",
       "      <td>Poznań</td>\n",
       "      <td>200.00</td>\n",
       "    </tr>\n",
       "    <tr>\n",
       "      <th>420019</th>\n",
       "      <td>Motoryzacja</td>\n",
       "      <td>['Motoryzacja', 'Części samochodowe', 'Koła, felgi', 'Felgi', 'Aluminiowe']</td>\n",
       "      <td>Pszów</td>\n",
       "      <td>500.00</td>\n",
       "    </tr>\n",
       "  </tbody>\n",
       "</table>\n",
       "<p>420020 rows × 4 columns</p>\n",
       "</div>"
      ],
      "text/plain": [
       "                  main_category  \\\n",
       "0                     Komputery   \n",
       "1       Odzież, Obuwie, Dodatki   \n",
       "2                   Dom i Ogród   \n",
       "3             Książki i Komiksy   \n",
       "4       Odzież, Obuwie, Dodatki   \n",
       "...                         ...   \n",
       "420015                RTV i AGD   \n",
       "420016                    Uroda   \n",
       "420017  Odzież, Obuwie, Dodatki   \n",
       "420018               Dla Dzieci   \n",
       "420019              Motoryzacja   \n",
       "\n",
       "                                                                                                categories  \\\n",
       "0                    ['Komputery', 'Dyski i napędy', 'Nośniki', 'Nośniki DVD-R/RW', '30-50 szt. DVD-R/RW']   \n",
       "1                                                 ['Odzież, Obuwie, Dodatki', 'Bielizna damska', 'Majtki']   \n",
       "2                  ['Dom i Ogród', 'Budownictwo i Akcesoria', 'Ściany i elewacje', 'Tapety', 'Fototapety']   \n",
       "3       ['Książki i Komiksy', 'Poradniki i albumy', 'Zdrowie, pierwsza pomoc', 'Diety, zdrowy styl życia']   \n",
       "4                      ['Odzież, Obuwie, Dodatki', 'Ślub i wesele', 'Galanteria papiernicza', 'Pozostałe']   \n",
       "...                                                                                                    ...   \n",
       "420015            ['RTV i AGD', 'Sprzęt audio dla domu', 'Odtwarzacze CD i MD', 'Jednopłytowe', 'Marantz']   \n",
       "420016                                                       ['Uroda', 'Makijaż', 'Oczy', 'Tusze do rzęs']   \n",
       "420017                   ['Odzież, Obuwie, Dodatki', 'Przebrania, kostiumy, maski', 'Akcesoria i gadżety']   \n",
       "420018                                                ['Dla Dzieci', 'Rowery i pojazdy', 'Rowery biegowe']   \n",
       "420019                         ['Motoryzacja', 'Części samochodowe', 'Koła, felgi', 'Felgi', 'Aluminiowe']   \n",
       "\n",
       "                it_location   price  \n",
       "0                  Warszawa   59.99  \n",
       "1                  Warszawa    4.90  \n",
       "2                    Leszno  109.90  \n",
       "3       Wola Krzysztoporska   18.50  \n",
       "4                 BIAŁYSTOK   19.90  \n",
       "...                     ...     ...  \n",
       "420015              Kraśnik  180.00  \n",
       "420016          Dzierżoniów   14.99  \n",
       "420017              Supraśl    5.99  \n",
       "420018               Poznań  200.00  \n",
       "420019                Pszów  500.00  \n",
       "\n",
       "[420020 rows x 4 columns]"
      ]
     },
     "execution_count": 57,
     "metadata": {},
     "output_type": "execute_result"
    }
   ],
   "source": [
    "allegro_df = allegro_df[['main_category', 'categories', 'it_location', 'price']]\n",
    "allegro_df"
   ]
  },
  {
   "cell_type": "markdown",
   "metadata": {},
   "source": [
    "### Target Encoding"
   ]
  },
  {
   "cell_type": "code",
   "execution_count": 58,
   "metadata": {},
   "outputs": [],
   "source": [
    "import category_encoders as ce"
   ]
  },
  {
   "cell_type": "markdown",
   "metadata": {},
   "source": [
    "Za pomocą parametru smoothing  możemy zmieniać regularyzację. Jego wyższa wartość oznacza silniejszą regularyzację. Po przetestowaniu wybrałem wartość 0.01 dla parametru smoothing jako optymalną "
   ]
  },
  {
   "cell_type": "code",
   "execution_count": 59,
   "metadata": {},
   "outputs": [
    {
     "data": {
      "text/html": [
       "<div>\n",
       "<style scoped>\n",
       "    .dataframe tbody tr th:only-of-type {\n",
       "        vertical-align: middle;\n",
       "    }\n",
       "\n",
       "    .dataframe tbody tr th {\n",
       "        vertical-align: top;\n",
       "    }\n",
       "\n",
       "    .dataframe thead th {\n",
       "        text-align: right;\n",
       "    }\n",
       "</style>\n",
       "<table border=\"1\" class=\"dataframe\">\n",
       "  <thead>\n",
       "    <tr style=\"text-align: right;\">\n",
       "      <th></th>\n",
       "      <th>price</th>\n",
       "      <th>it_location</th>\n",
       "      <th>categories</th>\n",
       "      <th>main_category</th>\n",
       "    </tr>\n",
       "  </thead>\n",
       "  <tbody>\n",
       "    <tr>\n",
       "      <th>0</th>\n",
       "      <td>59.99</td>\n",
       "      <td>85.423398</td>\n",
       "      <td>61.839091</td>\n",
       "      <td>121.810064</td>\n",
       "    </tr>\n",
       "    <tr>\n",
       "      <th>1</th>\n",
       "      <td>4.90</td>\n",
       "      <td>85.423398</td>\n",
       "      <td>12.375798</td>\n",
       "      <td>75.858049</td>\n",
       "    </tr>\n",
       "    <tr>\n",
       "      <th>2</th>\n",
       "      <td>109.90</td>\n",
       "      <td>61.990914</td>\n",
       "      <td>105.272597</td>\n",
       "      <td>72.434754</td>\n",
       "    </tr>\n",
       "    <tr>\n",
       "      <th>3</th>\n",
       "      <td>18.50</td>\n",
       "      <td>35.433365</td>\n",
       "      <td>24.072564</td>\n",
       "      <td>25.027497</td>\n",
       "    </tr>\n",
       "    <tr>\n",
       "      <th>4</th>\n",
       "      <td>19.90</td>\n",
       "      <td>117.191956</td>\n",
       "      <td>17.102344</td>\n",
       "      <td>75.858049</td>\n",
       "    </tr>\n",
       "    <tr>\n",
       "      <th>...</th>\n",
       "      <td>...</td>\n",
       "      <td>...</td>\n",
       "      <td>...</td>\n",
       "      <td>...</td>\n",
       "    </tr>\n",
       "    <tr>\n",
       "      <th>420015</th>\n",
       "      <td>180.00</td>\n",
       "      <td>24.306929</td>\n",
       "      <td>76.811350</td>\n",
       "      <td>107.534272</td>\n",
       "    </tr>\n",
       "    <tr>\n",
       "      <th>420016</th>\n",
       "      <td>14.99</td>\n",
       "      <td>66.785334</td>\n",
       "      <td>23.312063</td>\n",
       "      <td>28.128577</td>\n",
       "    </tr>\n",
       "    <tr>\n",
       "      <th>420017</th>\n",
       "      <td>5.99</td>\n",
       "      <td>18.682800</td>\n",
       "      <td>9.630092</td>\n",
       "      <td>75.858049</td>\n",
       "    </tr>\n",
       "    <tr>\n",
       "      <th>420018</th>\n",
       "      <td>200.00</td>\n",
       "      <td>106.203076</td>\n",
       "      <td>134.824626</td>\n",
       "      <td>71.206386</td>\n",
       "    </tr>\n",
       "    <tr>\n",
       "      <th>420019</th>\n",
       "      <td>500.00</td>\n",
       "      <td>78.136792</td>\n",
       "      <td>965.619857</td>\n",
       "      <td>134.426801</td>\n",
       "    </tr>\n",
       "  </tbody>\n",
       "</table>\n",
       "<p>420020 rows × 4 columns</p>\n",
       "</div>"
      ],
      "text/plain": [
       "         price  it_location  categories  main_category\n",
       "0        59.99    85.423398   61.839091     121.810064\n",
       "1         4.90    85.423398   12.375798      75.858049\n",
       "2       109.90    61.990914  105.272597      72.434754\n",
       "3        18.50    35.433365   24.072564      25.027497\n",
       "4        19.90   117.191956   17.102344      75.858049\n",
       "...        ...          ...         ...            ...\n",
       "420015  180.00    24.306929   76.811350     107.534272\n",
       "420016   14.99    66.785334   23.312063      28.128577\n",
       "420017    5.99    18.682800    9.630092      75.858049\n",
       "420018  200.00   106.203076  134.824626      71.206386\n",
       "420019  500.00    78.136792  965.619857     134.426801\n",
       "\n",
       "[420020 rows x 4 columns]"
      ]
     },
     "execution_count": 59,
     "metadata": {},
     "output_type": "execute_result"
    }
   ],
   "source": [
    "te_it = ce.TargetEncoder(smoothing=0.01)\n",
    "te_cat = ce.TargetEncoder(smoothing=0.01)\n",
    "te_mc = ce.TargetEncoder(smoothing=0.01)\n",
    "\n",
    "enc_te_it = te_it.fit_transform(allegro_df['it_location'], allegro_df['price'])\n",
    "allegro_df = allegro_df.drop(columns = 'it_location') \n",
    "allegro_df['it_location'] = enc_te_it\n",
    "\n",
    "enc_te_cat = te_cat.fit_transform(allegro_df['categories'], allegro_df['price'])\n",
    "allegro_df = allegro_df.drop(columns = 'categories') \n",
    "allegro_df['categories'] = enc_te_cat\n",
    "\n",
    "enc_te_mc = te_mc.fit_transform(allegro_df['main_category'], allegro_df['price'])\n",
    "allegro_df = allegro_df.drop(columns = 'main_category') \n",
    "allegro_df['main_category'] = enc_te_mc\n",
    "\n",
    "\n",
    "allegro_df"
   ]
  },
  {
   "cell_type": "markdown",
   "metadata": {},
   "source": [
    "## Podział na zbiór treningowy i testowy"
   ]
  },
  {
   "cell_type": "code",
   "execution_count": 60,
   "metadata": {},
   "outputs": [],
   "source": [
    "X_allegro = allegro_df.drop('price', axis = 1)\n",
    "y_allegro = allegro_df[['price']]"
   ]
  },
  {
   "cell_type": "markdown",
   "metadata": {},
   "source": [
    "Dzielimy zbiór danych na treningowy i testowy (zbiór testowy będzie stanowił 10% całości)"
   ]
  },
  {
   "cell_type": "code",
   "execution_count": 61,
   "metadata": {},
   "outputs": [],
   "source": [
    "X_allegro_train, X_allegro_test, y_allegro_train, y_allegro_test = train_test_split(\n",
    "    X_allegro, y_allegro, test_size=0.1, random_state=42)"
   ]
  },
  {
   "cell_type": "markdown",
   "metadata": {},
   "source": [
    "## Wybór metryki"
   ]
  },
  {
   "cell_type": "markdown",
   "metadata": {},
   "source": [
    "W naszym zadaniu zastosujemy miarę RMSE, czyli pierwiastek z błędu średniokwadratowego oraz miarę R2, czyli współczynnik determinacji"
   ]
  },
  {
   "cell_type": "code",
   "execution_count": 62,
   "metadata": {},
   "outputs": [],
   "source": [
    "from sklearn.metrics import mean_squared_error\n",
    "from sklearn.metrics import r2_score"
   ]
  },
  {
   "cell_type": "markdown",
   "metadata": {},
   "source": [
    "## Regresja liniowa"
   ]
  },
  {
   "cell_type": "code",
   "execution_count": 63,
   "metadata": {},
   "outputs": [],
   "source": [
    "from sklearn.linear_model import LinearRegression"
   ]
  },
  {
   "cell_type": "code",
   "execution_count": 64,
   "metadata": {},
   "outputs": [],
   "source": [
    "lr = LinearRegression()"
   ]
  },
  {
   "cell_type": "code",
   "execution_count": 65,
   "metadata": {},
   "outputs": [
    {
     "name": "stdout",
     "output_type": "stream",
     "text": [
      "RMSE:  130.0650261472237\n",
      "R2:  0.6174658380587821\n"
     ]
    }
   ],
   "source": [
    "lr.fit(X_allegro_train, y_allegro_train)\n",
    "y_allegro_hat = lr.predict(X_allegro_test)\n",
    "lr_rmse = mean_squared_error(y_allegro_test, y_allegro_hat, squared = False)\n",
    "lr_r2_score = r2_score(y_allegro_test, y_allegro_hat)\n",
    "print('RMSE: ', lr_rmse)\n",
    "print('R2: ', lr_r2_score)"
   ]
  },
  {
   "cell_type": "markdown",
   "metadata": {},
   "source": [
    "Niestety na razie wyniki nie są satysfakckcjonujące"
   ]
  },
  {
   "cell_type": "markdown",
   "metadata": {},
   "source": [
    "## Regularyzacja"
   ]
  },
  {
   "cell_type": "markdown",
   "metadata": {},
   "source": [
    "### Regularyzacja Ridge"
   ]
  },
  {
   "cell_type": "markdown",
   "metadata": {},
   "source": [
    "Regularyzacja Ridge pozwala nam na kontrolowanie okresu kary. Im damy wyższe wartości alfa, tym większa kara i tym samym zmniejsza się wielkość współczynników. "
   ]
  },
  {
   "cell_type": "code",
   "execution_count": 66,
   "metadata": {},
   "outputs": [
    {
     "name": "stdout",
     "output_type": "stream",
     "text": [
      "RMSE:  146.56235250271044\n",
      "R2:  0.5142710204972776\n"
     ]
    }
   ],
   "source": [
    "from sklearn.linear_model import Ridge\n",
    "\n",
    "rr = Ridge(normalize=True)\n",
    "rr.fit(X_allegro_train, y_allegro_train)\n",
    "y_allegro_hat = rr.predict(X_allegro_test)\n",
    "rr_rmse = mean_squared_error(y_allegro_test, y_allegro_hat, squared = False)\n",
    "rr_r2_score = r2_score(y_allegro_test, y_allegro_hat)\n",
    "print('RMSE: ', rr_rmse)\n",
    "print('R2: ', rr_r2_score)"
   ]
  },
  {
   "cell_type": "markdown",
   "metadata": {},
   "source": [
    "Niestety predykcja się pogorszyła"
   ]
  },
  {
   "cell_type": "markdown",
   "metadata": {},
   "source": [
    "Sprawdźmy inne wartości parametru alfa"
   ]
  },
  {
   "cell_type": "code",
   "execution_count": 67,
   "metadata": {},
   "outputs": [],
   "source": [
    "parameters = {\n",
    "    'alpha': np.logspace(-4, 1, 150)\n",
    "}"
   ]
  },
  {
   "cell_type": "code",
   "execution_count": 68,
   "metadata": {},
   "outputs": [
    {
     "data": {
      "text/plain": [
       "GridSearchCV(cv=3, estimator=Ridge(normalize=True), n_jobs=-1,\n",
       "             param_grid={'alpha': array([1.00000000e-04, 1.08033152e-04, 1.16711619e-04, 1.26087241e-04,\n",
       "       1.36216020e-04, 1.47158460e-04, 1.58979923e-04, 1.71751022e-04,\n",
       "       1.85548042e-04, 2.00453398e-04, 2.16556124e-04, 2.33952406e-04,\n",
       "       2.52746159e-04, 2.73049642e-04, 2.94984134e-04, 3.18680658e-04,\n",
       "       3.44280759e-04, 3.719373...\n",
       "       1.97379486e+00, 2.13235280e+00, 2.30364794e+00, 2.48870348e+00,\n",
       "       2.68862481e+00, 2.90460612e+00, 3.13793754e+00, 3.39001283e+00,\n",
       "       3.66233771e+00, 3.95653887e+00, 4.27437364e+00, 4.61774057e+00,\n",
       "       4.98869069e+00, 5.38943979e+00, 5.82238167e+00, 6.29010244e+00,\n",
       "       6.79539592e+00, 7.34128040e+00, 7.93101660e+00, 8.56812721e+00,\n",
       "       9.25641789e+00, 1.00000000e+01])},\n",
       "             scoring='neg_root_mean_squared_error')"
      ]
     },
     "execution_count": 68,
     "metadata": {},
     "output_type": "execute_result"
    }
   ],
   "source": [
    "from sklearn.model_selection import GridSearchCV\n",
    "rr_grid = GridSearchCV(rr, parameters, cv=3, n_jobs = -1, scoring='neg_root_mean_squared_error')\n",
    "rr_grid.fit(X_allegro_train, y_allegro_train)"
   ]
  },
  {
   "cell_type": "code",
   "execution_count": 69,
   "metadata": {},
   "outputs": [
    {
     "data": {
      "text/html": [
       "<div>\n",
       "<style scoped>\n",
       "    .dataframe tbody tr th:only-of-type {\n",
       "        vertical-align: middle;\n",
       "    }\n",
       "\n",
       "    .dataframe tbody tr th {\n",
       "        vertical-align: top;\n",
       "    }\n",
       "\n",
       "    .dataframe thead th {\n",
       "        text-align: right;\n",
       "    }\n",
       "</style>\n",
       "<table border=\"1\" class=\"dataframe\">\n",
       "  <thead>\n",
       "    <tr style=\"text-align: right;\">\n",
       "      <th></th>\n",
       "      <th>params</th>\n",
       "      <th>mean_test_score</th>\n",
       "    </tr>\n",
       "  </thead>\n",
       "  <tbody>\n",
       "    <tr>\n",
       "      <th>69</th>\n",
       "      <td>{'alpha': 0.02067455838273131}</td>\n",
       "      <td>-315.058958</td>\n",
       "    </tr>\n",
       "    <tr>\n",
       "      <th>70</th>\n",
       "      <td>{'alpha': 0.022335377063851233}</td>\n",
       "      <td>-315.059081</td>\n",
       "    </tr>\n",
       "    <tr>\n",
       "      <th>68</th>\n",
       "      <td>{'alpha': 0.019137235207582544}</td>\n",
       "      <td>-315.059201</td>\n",
       "    </tr>\n",
       "    <tr>\n",
       "      <th>71</th>\n",
       "      <td>{'alpha': 0.024129611832536098}</td>\n",
       "      <td>-315.059658</td>\n",
       "    </tr>\n",
       "    <tr>\n",
       "      <th>67</th>\n",
       "      <td>{'alpha': 0.017714224633510856}</td>\n",
       "      <td>-315.059734</td>\n",
       "    </tr>\n",
       "  </tbody>\n",
       "</table>\n",
       "</div>"
      ],
      "text/plain": [
       "                             params  mean_test_score\n",
       "69   {'alpha': 0.02067455838273131}      -315.058958\n",
       "70  {'alpha': 0.022335377063851233}      -315.059081\n",
       "68  {'alpha': 0.019137235207582544}      -315.059201\n",
       "71  {'alpha': 0.024129611832536098}      -315.059658\n",
       "67  {'alpha': 0.017714224633510856}      -315.059734"
      ]
     },
     "execution_count": 69,
     "metadata": {},
     "output_type": "execute_result"
    }
   ],
   "source": [
    "pd.DataFrame(rr_grid.cv_results_)[['params', 'mean_test_score']].sort_values('mean_test_score', ascending=False).head()"
   ]
  },
  {
   "cell_type": "code",
   "execution_count": 70,
   "metadata": {},
   "outputs": [
    {
     "name": "stdout",
     "output_type": "stream",
     "text": [
      "RMSE:  129.69210342203323\n",
      "R2:  0.6196562988617904\n"
     ]
    }
   ],
   "source": [
    "rr = Ridge(alpha = 0.02067455838273131, normalize=True)\n",
    "rr.fit(X_allegro_train, y_allegro_train)\n",
    "y_allegro_hat = rr.predict(X_allegro_test)\n",
    "rr_rmse_optimized = mean_squared_error(y_allegro_test, y_allegro_hat, squared = False)\n",
    "rr_r2_score_optimized = r2_score(y_allegro_test, y_allegro_hat)\n",
    "print('RMSE: ', rr_rmse_optimized)\n",
    "print('R2: ', rr_r2_score_optimized)"
   ]
  },
  {
   "cell_type": "markdown",
   "metadata": {},
   "source": [
    "Wyniki okazują się być lepsze niż gdy nie wybieraliśmy alfy oraz lepsze od podstawowej regresji liniowej"
   ]
  },
  {
   "cell_type": "markdown",
   "metadata": {},
   "source": [
    "### Regularyzacja Lasso"
   ]
  },
  {
   "cell_type": "markdown",
   "metadata": {},
   "source": [
    "Regularyzacja Lasso jest dosyć podobna do regularyzacji Ridge. Lasso pozostawia najbardziej istotne zmienne (czyli takie, które najlepiej oddają zmienność zmiennej celu), a odrzuca te wspóliniowe."
   ]
  },
  {
   "cell_type": "code",
   "execution_count": 71,
   "metadata": {},
   "outputs": [
    {
     "name": "stdout",
     "output_type": "stream",
     "text": [
      "RMSE:  210.3168221653928\n",
      "R2:  -0.00022379611273315447\n"
     ]
    }
   ],
   "source": [
    "from sklearn.linear_model import Lasso\n",
    "\n",
    "lassr = Lasso(normalize=True)\n",
    "lassr.fit(X_allegro_train, y_allegro_train)\n",
    "y_allegro_hat = lassr.predict(X_allegro_test)\n",
    "lassr_rmse = mean_squared_error(y_allegro_test, y_allegro_hat, squared = False)\n",
    "lassr_r2_score = r2_score(y_allegro_test, y_allegro_hat)\n",
    "print('RMSE: ', lassr_rmse)\n",
    "print('R2: ', lassr_r2_score)"
   ]
  },
  {
   "cell_type": "markdown",
   "metadata": {},
   "source": [
    "Predykcja znacząco się pogorszyła w stosunku do wszystkich poprzednich modeli"
   ]
  },
  {
   "cell_type": "code",
   "execution_count": 72,
   "metadata": {},
   "outputs": [],
   "source": [
    "parameters = {\n",
    "    'alpha': np.logspace(-4, 1, 150)\n",
    "}"
   ]
  },
  {
   "cell_type": "code",
   "execution_count": 73,
   "metadata": {},
   "outputs": [
    {
     "data": {
      "text/plain": [
       "RandomizedSearchCV(cv=3, estimator=Lasso(normalize=True), n_iter=50, n_jobs=-1,\n",
       "                   param_distributions={'alpha': array([1.00000000e-04, 1.08033152e-04, 1.16711619e-04, 1.26087241e-04,\n",
       "       1.36216020e-04, 1.47158460e-04, 1.58979923e-04, 1.71751022e-04,\n",
       "       1.85548042e-04, 2.00453398e-04, 2.16556124e-04, 2.33952406e-04,\n",
       "       2.52746159e-04, 2.73049642e-04, 2.94984134e-04, 3.18680658e-0...\n",
       "       1.97379486e+00, 2.13235280e+00, 2.30364794e+00, 2.48870348e+00,\n",
       "       2.68862481e+00, 2.90460612e+00, 3.13793754e+00, 3.39001283e+00,\n",
       "       3.66233771e+00, 3.95653887e+00, 4.27437364e+00, 4.61774057e+00,\n",
       "       4.98869069e+00, 5.38943979e+00, 5.82238167e+00, 6.29010244e+00,\n",
       "       6.79539592e+00, 7.34128040e+00, 7.93101660e+00, 8.56812721e+00,\n",
       "       9.25641789e+00, 1.00000000e+01])},\n",
       "                   random_state=1, scoring='neg_root_mean_squared_error')"
      ]
     },
     "execution_count": 73,
     "metadata": {},
     "output_type": "execute_result"
    }
   ],
   "source": [
    "lassr_rand = RandomizedSearchCV(lassr, parameters, cv=3, n_iter=50, n_jobs = -1, random_state=1, scoring='neg_root_mean_squared_error')\n",
    "lassr_rand.fit(X_allegro_train, y_allegro_train)"
   ]
  },
  {
   "cell_type": "code",
   "execution_count": 74,
   "metadata": {},
   "outputs": [
    {
     "data": {
      "text/html": [
       "<div>\n",
       "<style scoped>\n",
       "    .dataframe tbody tr th:only-of-type {\n",
       "        vertical-align: middle;\n",
       "    }\n",
       "\n",
       "    .dataframe tbody tr th {\n",
       "        vertical-align: top;\n",
       "    }\n",
       "\n",
       "    .dataframe thead th {\n",
       "        text-align: right;\n",
       "    }\n",
       "</style>\n",
       "<table border=\"1\" class=\"dataframe\">\n",
       "  <thead>\n",
       "    <tr style=\"text-align: right;\">\n",
       "      <th></th>\n",
       "      <th>params</th>\n",
       "      <th>mean_test_score</th>\n",
       "    </tr>\n",
       "  </thead>\n",
       "  <tbody>\n",
       "    <tr>\n",
       "      <th>13</th>\n",
       "      <td>{'alpha': 0.005145284530985853}</td>\n",
       "      <td>-315.059781</td>\n",
       "    </tr>\n",
       "    <tr>\n",
       "      <th>36</th>\n",
       "      <td>{'alpha': 0.006005144883981762}</td>\n",
       "      <td>-315.060777</td>\n",
       "    </tr>\n",
       "    <tr>\n",
       "      <th>35</th>\n",
       "      <td>{'alpha': 0.0040807337044121515}</td>\n",
       "      <td>-315.061242</td>\n",
       "    </tr>\n",
       "    <tr>\n",
       "      <th>38</th>\n",
       "      <td>{'alpha': 0.006487547294786289}</td>\n",
       "      <td>-315.061894</td>\n",
       "    </tr>\n",
       "    <tr>\n",
       "      <th>48</th>\n",
       "      <td>{'alpha': 0.0032364366763473562}</td>\n",
       "      <td>-315.064654</td>\n",
       "    </tr>\n",
       "  </tbody>\n",
       "</table>\n",
       "</div>"
      ],
      "text/plain": [
       "                              params  mean_test_score\n",
       "13   {'alpha': 0.005145284530985853}      -315.059781\n",
       "36   {'alpha': 0.006005144883981762}      -315.060777\n",
       "35  {'alpha': 0.0040807337044121515}      -315.061242\n",
       "38   {'alpha': 0.006487547294786289}      -315.061894\n",
       "48  {'alpha': 0.0032364366763473562}      -315.064654"
      ]
     },
     "execution_count": 74,
     "metadata": {},
     "output_type": "execute_result"
    }
   ],
   "source": [
    "pd.DataFrame(lassr_rand.cv_results_)[['params', 'mean_test_score']].sort_values('mean_test_score', ascending=False).head()"
   ]
  },
  {
   "cell_type": "code",
   "execution_count": 75,
   "metadata": {},
   "outputs": [
    {
     "name": "stdout",
     "output_type": "stream",
     "text": [
      "RMSE:  129.4279082814269\n",
      "R2:  0.6212043130623146\n"
     ]
    }
   ],
   "source": [
    "lassr = Lasso(alpha=0.005145284530985853, normalize=True)\n",
    "lassr.fit(X_allegro_train, y_allegro_train)\n",
    "y_allegro_hat = lassr.predict(X_allegro_test)\n",
    "lassr_rmse_optimized = mean_squared_error(y_allegro_test, y_allegro_hat, squared = False)\n",
    "lassr_r2_score_optimized = r2_score(y_allegro_test, y_allegro_hat)\n",
    "print('RMSE: ', lassr_rmse_optimized)\n",
    "print('R2: ', lassr_r2_score_optimized)"
   ]
  },
  {
   "cell_type": "markdown",
   "metadata": {},
   "source": [
    "Dzięki doborowi alfa uzyskaliśmy najlepszy jak dotąd model"
   ]
  },
  {
   "cell_type": "markdown",
   "metadata": {},
   "source": [
    "### BayesianRidge"
   ]
  },
  {
   "cell_type": "markdown",
   "metadata": {},
   "source": [
    "Wykorzystam model regresji liniowej Bayesa"
   ]
  },
  {
   "cell_type": "code",
   "execution_count": 76,
   "metadata": {},
   "outputs": [
    {
     "name": "stdout",
     "output_type": "stream",
     "text": [
      "RMSE:  130.06418116574585\n",
      "R2:  0.6174708083915625\n"
     ]
    }
   ],
   "source": [
    "from sklearn.linear_model import BayesianRidge\n",
    "br = BayesianRidge()\n",
    "br.fit(X_allegro_train, y_allegro_train)\n",
    "y_allegro_hat = br.predict(X_allegro_test)\n",
    "br_rmse = mean_squared_error(y_allegro_test, y_allegro_hat, squared = False)\n",
    "br_r2_score = r2_score(y_allegro_test, y_allegro_hat)\n",
    "print('RMSE: ', br_rmse)\n",
    "print('R2: ', br_r2_score)"
   ]
  },
  {
   "cell_type": "markdown",
   "metadata": {},
   "source": [
    "Jak widzimy model ten poradził sobie nieznacznie lepiej od podstawowej regresji liniowej"
   ]
  },
  {
   "cell_type": "markdown",
   "metadata": {},
   "source": [
    "## Podsumowanie"
   ]
  },
  {
   "cell_type": "code",
   "execution_count": 77,
   "metadata": {},
   "outputs": [
    {
     "data": {
      "text/html": [
       "<div>\n",
       "<style scoped>\n",
       "    .dataframe tbody tr th:only-of-type {\n",
       "        vertical-align: middle;\n",
       "    }\n",
       "\n",
       "    .dataframe tbody tr th {\n",
       "        vertical-align: top;\n",
       "    }\n",
       "\n",
       "    .dataframe thead th {\n",
       "        text-align: right;\n",
       "    }\n",
       "</style>\n",
       "<table border=\"1\" class=\"dataframe\">\n",
       "  <thead>\n",
       "    <tr style=\"text-align: right;\">\n",
       "      <th></th>\n",
       "      <th>Model</th>\n",
       "      <th>RMSE</th>\n",
       "      <th>R2</th>\n",
       "    </tr>\n",
       "  </thead>\n",
       "  <tbody>\n",
       "    <tr>\n",
       "      <th>0</th>\n",
       "      <td>Regresja liniowa</td>\n",
       "      <td>130.065026</td>\n",
       "      <td>0.617466</td>\n",
       "    </tr>\n",
       "    <tr>\n",
       "      <th>1</th>\n",
       "      <td>Regularyzacja Ridge</td>\n",
       "      <td>146.562353</td>\n",
       "      <td>0.514271</td>\n",
       "    </tr>\n",
       "    <tr>\n",
       "      <th>2</th>\n",
       "      <td>Regularyzacja Ridge zoptymalizowana</td>\n",
       "      <td>129.692103</td>\n",
       "      <td>0.619656</td>\n",
       "    </tr>\n",
       "    <tr>\n",
       "      <th>3</th>\n",
       "      <td>Regularyzacja Lasso</td>\n",
       "      <td>210.316822</td>\n",
       "      <td>-0.000224</td>\n",
       "    </tr>\n",
       "    <tr>\n",
       "      <th>4</th>\n",
       "      <td>Regularyzacja Lasso zoptymalizowana</td>\n",
       "      <td>129.427908</td>\n",
       "      <td>0.621204</td>\n",
       "    </tr>\n",
       "    <tr>\n",
       "      <th>5</th>\n",
       "      <td>BayesianRidge</td>\n",
       "      <td>130.064181</td>\n",
       "      <td>0.617471</td>\n",
       "    </tr>\n",
       "  </tbody>\n",
       "</table>\n",
       "</div>"
      ],
      "text/plain": [
       "                                 Model        RMSE        R2\n",
       "0                     Regresja liniowa  130.065026  0.617466\n",
       "1                  Regularyzacja Ridge  146.562353  0.514271\n",
       "2  Regularyzacja Ridge zoptymalizowana  129.692103  0.619656\n",
       "3                  Regularyzacja Lasso  210.316822 -0.000224\n",
       "4  Regularyzacja Lasso zoptymalizowana  129.427908  0.621204\n",
       "5                        BayesianRidge  130.064181  0.617471"
      ]
     },
     "execution_count": 77,
     "metadata": {},
     "output_type": "execute_result"
    }
   ],
   "source": [
    "x = ['Regresja liniowa', 'Regularyzacja Ridge', 'Regularyzacja Ridge zoptymalizowana', 'Regularyzacja Lasso',\n",
    "    'Regularyzacja Lasso zoptymalizowana', 'BayesianRidge']\n",
    "rmse = [lr_rmse, rr_rmse, rr_rmse_optimized, lassr_rmse, lassr_rmse_optimized, br_rmse]\n",
    "r2 = [lr_r2_score, rr_r2_score, rr_r2_score_optimized, lassr_r2_score, lassr_r2_score_optimized, br_r2_score]\n",
    "\n",
    "df = pd.DataFrame({'Model': x,\n",
    "                  'RMSE': rmse, \n",
    "                  'R2': r2})\n",
    "df"
   ]
  },
  {
   "cell_type": "markdown",
   "metadata": {},
   "source": [
    "Podsumowujac najepiej poradziła sobie regularyzacja Lasso po doborze parametru alfa"
   ]
  }
 ],
 "metadata": {
  "kernelspec": {
   "display_name": "Python 3",
   "language": "python",
   "name": "python3"
  },
  "language_info": {
   "codemirror_mode": {
    "name": "ipython",
    "version": 3
   },
   "file_extension": ".py",
   "mimetype": "text/x-python",
   "name": "python",
   "nbconvert_exporter": "python",
   "pygments_lexer": "ipython3",
   "version": "3.7.4"
  }
 },
 "nbformat": 4,
 "nbformat_minor": 2
}
