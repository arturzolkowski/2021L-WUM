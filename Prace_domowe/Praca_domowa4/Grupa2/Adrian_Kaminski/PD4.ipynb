{
 "cells": [
  {
   "cell_type": "markdown",
   "id": "suffering-stylus",
   "metadata": {},
   "source": [
    "# Adrian Kamiński\n",
    "## Praca domowa 4"
   ]
  },
  {
   "cell_type": "code",
   "execution_count": 1,
   "id": "comprehensive-glance",
   "metadata": {},
   "outputs": [],
   "source": [
    "import pandas as pd\n",
    "import numpy as np"
   ]
  },
  {
   "cell_type": "markdown",
   "id": "postal-scholarship",
   "metadata": {},
   "source": [
    "### Zbiór danych `apartments`"
   ]
  },
  {
   "cell_type": "code",
   "execution_count": 2,
   "id": "beginning-validation",
   "metadata": {
    "scrolled": true
   },
   "outputs": [],
   "source": [
    "from dalex.datasets import load_apartments\n",
    "\n",
    "apartments = load_apartments()\n",
    "apartments_df = apartments.drop('m2_price', axis = 1)\n",
    "apartments_target = apartments.m2_price"
   ]
  },
  {
   "cell_type": "code",
   "execution_count": 3,
   "id": "brilliant-phoenix",
   "metadata": {},
   "outputs": [
    {
     "data": {
      "text/html": [
       "<div>\n",
       "<style scoped>\n",
       "    .dataframe tbody tr th:only-of-type {\n",
       "        vertical-align: middle;\n",
       "    }\n",
       "\n",
       "    .dataframe tbody tr th {\n",
       "        vertical-align: top;\n",
       "    }\n",
       "\n",
       "    .dataframe thead th {\n",
       "        text-align: right;\n",
       "    }\n",
       "</style>\n",
       "<table border=\"1\" class=\"dataframe\">\n",
       "  <thead>\n",
       "    <tr style=\"text-align: right;\">\n",
       "      <th></th>\n",
       "      <th>construction_year</th>\n",
       "      <th>surface</th>\n",
       "      <th>floor</th>\n",
       "      <th>no_rooms</th>\n",
       "      <th>district</th>\n",
       "    </tr>\n",
       "  </thead>\n",
       "  <tbody>\n",
       "    <tr>\n",
       "      <th>1</th>\n",
       "      <td>1953</td>\n",
       "      <td>25</td>\n",
       "      <td>3</td>\n",
       "      <td>1</td>\n",
       "      <td>Srodmiescie</td>\n",
       "    </tr>\n",
       "    <tr>\n",
       "      <th>2</th>\n",
       "      <td>1992</td>\n",
       "      <td>143</td>\n",
       "      <td>9</td>\n",
       "      <td>5</td>\n",
       "      <td>Bielany</td>\n",
       "    </tr>\n",
       "    <tr>\n",
       "      <th>3</th>\n",
       "      <td>1937</td>\n",
       "      <td>56</td>\n",
       "      <td>1</td>\n",
       "      <td>2</td>\n",
       "      <td>Praga</td>\n",
       "    </tr>\n",
       "    <tr>\n",
       "      <th>4</th>\n",
       "      <td>1995</td>\n",
       "      <td>93</td>\n",
       "      <td>7</td>\n",
       "      <td>3</td>\n",
       "      <td>Ochota</td>\n",
       "    </tr>\n",
       "    <tr>\n",
       "      <th>5</th>\n",
       "      <td>1992</td>\n",
       "      <td>144</td>\n",
       "      <td>6</td>\n",
       "      <td>5</td>\n",
       "      <td>Mokotow</td>\n",
       "    </tr>\n",
       "    <tr>\n",
       "      <th>...</th>\n",
       "      <td>...</td>\n",
       "      <td>...</td>\n",
       "      <td>...</td>\n",
       "      <td>...</td>\n",
       "      <td>...</td>\n",
       "    </tr>\n",
       "    <tr>\n",
       "      <th>996</th>\n",
       "      <td>1921</td>\n",
       "      <td>44</td>\n",
       "      <td>2</td>\n",
       "      <td>2</td>\n",
       "      <td>Srodmiescie</td>\n",
       "    </tr>\n",
       "    <tr>\n",
       "      <th>997</th>\n",
       "      <td>1921</td>\n",
       "      <td>48</td>\n",
       "      <td>10</td>\n",
       "      <td>2</td>\n",
       "      <td>Bemowo</td>\n",
       "    </tr>\n",
       "    <tr>\n",
       "      <th>998</th>\n",
       "      <td>1980</td>\n",
       "      <td>85</td>\n",
       "      <td>3</td>\n",
       "      <td>3</td>\n",
       "      <td>Bemowo</td>\n",
       "    </tr>\n",
       "    <tr>\n",
       "      <th>999</th>\n",
       "      <td>1942</td>\n",
       "      <td>36</td>\n",
       "      <td>7</td>\n",
       "      <td>1</td>\n",
       "      <td>Zoliborz</td>\n",
       "    </tr>\n",
       "    <tr>\n",
       "      <th>1000</th>\n",
       "      <td>1992</td>\n",
       "      <td>112</td>\n",
       "      <td>6</td>\n",
       "      <td>5</td>\n",
       "      <td>Mokotow</td>\n",
       "    </tr>\n",
       "  </tbody>\n",
       "</table>\n",
       "<p>1000 rows × 5 columns</p>\n",
       "</div>"
      ],
      "text/plain": [
       "      construction_year  surface  floor  no_rooms     district\n",
       "1                  1953       25      3         1  Srodmiescie\n",
       "2                  1992      143      9         5      Bielany\n",
       "3                  1937       56      1         2        Praga\n",
       "4                  1995       93      7         3       Ochota\n",
       "5                  1992      144      6         5      Mokotow\n",
       "...                 ...      ...    ...       ...          ...\n",
       "996                1921       44      2         2  Srodmiescie\n",
       "997                1921       48     10         2       Bemowo\n",
       "998                1980       85      3         3       Bemowo\n",
       "999                1942       36      7         1     Zoliborz\n",
       "1000               1992      112      6         5      Mokotow\n",
       "\n",
       "[1000 rows x 5 columns]"
      ]
     },
     "execution_count": 3,
     "metadata": {},
     "output_type": "execute_result"
    }
   ],
   "source": [
    "apartments_df"
   ]
  },
  {
   "cell_type": "code",
   "execution_count": 4,
   "id": "neutral-illustration",
   "metadata": {},
   "outputs": [
    {
     "name": "stdout",
     "output_type": "stream",
     "text": [
      "<class 'pandas.core.frame.DataFrame'>\n",
      "Int64Index: 1000 entries, 1 to 1000\n",
      "Data columns (total 5 columns):\n",
      " #   Column             Non-Null Count  Dtype \n",
      "---  ------             --------------  ----- \n",
      " 0   construction_year  1000 non-null   int64 \n",
      " 1   surface            1000 non-null   int64 \n",
      " 2   floor              1000 non-null   int64 \n",
      " 3   no_rooms           1000 non-null   int64 \n",
      " 4   district           1000 non-null   object\n",
      "dtypes: int64(4), object(1)\n",
      "memory usage: 46.9+ KB\n"
     ]
    }
   ],
   "source": [
    "apartments_df.info()"
   ]
  },
  {
   "cell_type": "markdown",
   "id": "expressed-diamond",
   "metadata": {},
   "source": [
    "Nie występują braki danych, mamy jednak jedną kolumnę zawierającą stringi"
   ]
  },
  {
   "cell_type": "code",
   "execution_count": 5,
   "id": "demonstrated-horse",
   "metadata": {},
   "outputs": [
    {
     "data": {
      "text/html": [
       "<div>\n",
       "<style scoped>\n",
       "    .dataframe tbody tr th:only-of-type {\n",
       "        vertical-align: middle;\n",
       "    }\n",
       "\n",
       "    .dataframe tbody tr th {\n",
       "        vertical-align: top;\n",
       "    }\n",
       "\n",
       "    .dataframe thead th {\n",
       "        text-align: right;\n",
       "    }\n",
       "</style>\n",
       "<table border=\"1\" class=\"dataframe\">\n",
       "  <thead>\n",
       "    <tr style=\"text-align: right;\">\n",
       "      <th></th>\n",
       "      <th>construction_year</th>\n",
       "      <th>surface</th>\n",
       "      <th>floor</th>\n",
       "      <th>no_rooms</th>\n",
       "    </tr>\n",
       "  </thead>\n",
       "  <tbody>\n",
       "    <tr>\n",
       "      <th>count</th>\n",
       "      <td>1000.000000</td>\n",
       "      <td>1000.000000</td>\n",
       "      <td>1000.000000</td>\n",
       "      <td>1000.000000</td>\n",
       "    </tr>\n",
       "    <tr>\n",
       "      <th>mean</th>\n",
       "      <td>1964.823000</td>\n",
       "      <td>85.590000</td>\n",
       "      <td>5.623000</td>\n",
       "      <td>3.360000</td>\n",
       "    </tr>\n",
       "    <tr>\n",
       "      <th>std</th>\n",
       "      <td>25.831511</td>\n",
       "      <td>37.874799</td>\n",
       "      <td>2.899876</td>\n",
       "      <td>1.381415</td>\n",
       "    </tr>\n",
       "    <tr>\n",
       "      <th>min</th>\n",
       "      <td>1920.000000</td>\n",
       "      <td>20.000000</td>\n",
       "      <td>1.000000</td>\n",
       "      <td>1.000000</td>\n",
       "    </tr>\n",
       "    <tr>\n",
       "      <th>25%</th>\n",
       "      <td>1943.000000</td>\n",
       "      <td>53.000000</td>\n",
       "      <td>3.000000</td>\n",
       "      <td>2.000000</td>\n",
       "    </tr>\n",
       "    <tr>\n",
       "      <th>50%</th>\n",
       "      <td>1965.000000</td>\n",
       "      <td>85.500000</td>\n",
       "      <td>6.000000</td>\n",
       "      <td>3.000000</td>\n",
       "    </tr>\n",
       "    <tr>\n",
       "      <th>75%</th>\n",
       "      <td>1988.000000</td>\n",
       "      <td>118.000000</td>\n",
       "      <td>8.000000</td>\n",
       "      <td>4.000000</td>\n",
       "    </tr>\n",
       "    <tr>\n",
       "      <th>max</th>\n",
       "      <td>2010.000000</td>\n",
       "      <td>150.000000</td>\n",
       "      <td>10.000000</td>\n",
       "      <td>6.000000</td>\n",
       "    </tr>\n",
       "  </tbody>\n",
       "</table>\n",
       "</div>"
      ],
      "text/plain": [
       "       construction_year      surface        floor     no_rooms\n",
       "count        1000.000000  1000.000000  1000.000000  1000.000000\n",
       "mean         1964.823000    85.590000     5.623000     3.360000\n",
       "std            25.831511    37.874799     2.899876     1.381415\n",
       "min          1920.000000    20.000000     1.000000     1.000000\n",
       "25%          1943.000000    53.000000     3.000000     2.000000\n",
       "50%          1965.000000    85.500000     6.000000     3.000000\n",
       "75%          1988.000000   118.000000     8.000000     4.000000\n",
       "max          2010.000000   150.000000    10.000000     6.000000"
      ]
     },
     "execution_count": 5,
     "metadata": {},
     "output_type": "execute_result"
    }
   ],
   "source": [
    "apartments_df.describe()"
   ]
  },
  {
   "cell_type": "markdown",
   "id": "waiting-relative",
   "metadata": {},
   "source": [
    "Dane nie są przeskalowane"
   ]
  },
  {
   "cell_type": "code",
   "execution_count": 6,
   "id": "corporate-norman",
   "metadata": {},
   "outputs": [
    {
     "data": {
      "text/plain": [
       "Mokotow        107\n",
       "Wola           106\n",
       "Ursus          105\n",
       "Ursynow        103\n",
       "Srodmiescie    100\n",
       "Bemowo          98\n",
       "Zoliborz        97\n",
       "Bielany         96\n",
       "Ochota          96\n",
       "Praga           92\n",
       "Name: district, dtype: int64"
      ]
     },
     "execution_count": 6,
     "metadata": {},
     "output_type": "execute_result"
    }
   ],
   "source": [
    "apartments.district.value_counts()"
   ]
  },
  {
   "cell_type": "markdown",
   "id": "specific-breach",
   "metadata": {},
   "source": [
    "Zmienna `district` zawiera 10 unikalnych stringów. Przekodujemy ją *OneHotEncoderem*"
   ]
  },
  {
   "cell_type": "code",
   "execution_count": 7,
   "id": "herbal-dayton",
   "metadata": {},
   "outputs": [
    {
     "data": {
      "text/plain": [
       "<AxesSubplot:>"
      ]
     },
     "execution_count": 7,
     "metadata": {},
     "output_type": "execute_result"
    },
    {
     "data": {
      "image/png": "[encoded data removed]",
      "text/plain": [
       "<Figure size 432x288 with 1 Axes>"
      ]
     },
     "metadata": {
      "needs_background": "light"
     },
     "output_type": "display_data"
    }
   ],
   "source": [
    "apartments_target.hist()"
   ]
  },
  {
   "cell_type": "markdown",
   "id": "western-particle",
   "metadata": {},
   "source": [
    "Zmienna celu ma rozkład przypominający rozkład normalny. Problem regresji."
   ]
  },
  {
   "cell_type": "markdown",
   "id": "communist-upset",
   "metadata": {},
   "source": [
    "### Zbiór danych `digits`"
   ]
  },
  {
   "cell_type": "code",
   "execution_count": 8,
   "id": "ahead-lighter",
   "metadata": {},
   "outputs": [],
   "source": [
    "from sklearn.datasets import load_digits\n",
    "\n",
    "digits = load_digits(as_frame=True)\n",
    "digits_df = digits['data']\n",
    "digits_target = digits['target']"
   ]
  },
  {
   "cell_type": "code",
   "execution_count": 9,
   "id": "cosmetic-spouse",
   "metadata": {
    "scrolled": false
   },
   "outputs": [
    {
     "data": {
      "text/html": [
       "<div>\n",
       "<style scoped>\n",
       "    .dataframe tbody tr th:only-of-type {\n",
       "        vertical-align: middle;\n",
       "    }\n",
       "\n",
       "    .dataframe tbody tr th {\n",
       "        vertical-align: top;\n",
       "    }\n",
       "\n",
       "    .dataframe thead th {\n",
       "        text-align: right;\n",
       "    }\n",
       "</style>\n",
       "<table border=\"1\" class=\"dataframe\">\n",
       "  <thead>\n",
       "    <tr style=\"text-align: right;\">\n",
       "      <th></th>\n",
       "      <th>pixel_0_0</th>\n",
       "      <th>pixel_0_1</th>\n",
       "      <th>pixel_0_2</th>\n",
       "      <th>pixel_0_3</th>\n",
       "      <th>pixel_0_4</th>\n",
       "      <th>pixel_0_5</th>\n",
       "      <th>pixel_0_6</th>\n",
       "      <th>pixel_0_7</th>\n",
       "      <th>pixel_1_0</th>\n",
       "      <th>pixel_1_1</th>\n",
       "      <th>...</th>\n",
       "      <th>pixel_6_6</th>\n",
       "      <th>pixel_6_7</th>\n",
       "      <th>pixel_7_0</th>\n",
       "      <th>pixel_7_1</th>\n",
       "      <th>pixel_7_2</th>\n",
       "      <th>pixel_7_3</th>\n",
       "      <th>pixel_7_4</th>\n",
       "      <th>pixel_7_5</th>\n",
       "      <th>pixel_7_6</th>\n",
       "      <th>pixel_7_7</th>\n",
       "    </tr>\n",
       "  </thead>\n",
       "  <tbody>\n",
       "    <tr>\n",
       "      <th>0</th>\n",
       "      <td>0.0</td>\n",
       "      <td>0.0</td>\n",
       "      <td>5.0</td>\n",
       "      <td>13.0</td>\n",
       "      <td>9.0</td>\n",
       "      <td>1.0</td>\n",
       "      <td>0.0</td>\n",
       "      <td>0.0</td>\n",
       "      <td>0.0</td>\n",
       "      <td>0.0</td>\n",
       "      <td>...</td>\n",
       "      <td>0.0</td>\n",
       "      <td>0.0</td>\n",
       "      <td>0.0</td>\n",
       "      <td>0.0</td>\n",
       "      <td>6.0</td>\n",
       "      <td>13.0</td>\n",
       "      <td>10.0</td>\n",
       "      <td>0.0</td>\n",
       "      <td>0.0</td>\n",
       "      <td>0.0</td>\n",
       "    </tr>\n",
       "    <tr>\n",
       "      <th>1</th>\n",
       "      <td>0.0</td>\n",
       "      <td>0.0</td>\n",
       "      <td>0.0</td>\n",
       "      <td>12.0</td>\n",
       "      <td>13.0</td>\n",
       "      <td>5.0</td>\n",
       "      <td>0.0</td>\n",
       "      <td>0.0</td>\n",
       "      <td>0.0</td>\n",
       "      <td>0.0</td>\n",
       "      <td>...</td>\n",
       "      <td>0.0</td>\n",
       "      <td>0.0</td>\n",
       "      <td>0.0</td>\n",
       "      <td>0.0</td>\n",
       "      <td>0.0</td>\n",
       "      <td>11.0</td>\n",
       "      <td>16.0</td>\n",
       "      <td>10.0</td>\n",
       "      <td>0.0</td>\n",
       "      <td>0.0</td>\n",
       "    </tr>\n",
       "    <tr>\n",
       "      <th>2</th>\n",
       "      <td>0.0</td>\n",
       "      <td>0.0</td>\n",
       "      <td>0.0</td>\n",
       "      <td>4.0</td>\n",
       "      <td>15.0</td>\n",
       "      <td>12.0</td>\n",
       "      <td>0.0</td>\n",
       "      <td>0.0</td>\n",
       "      <td>0.0</td>\n",
       "      <td>0.0</td>\n",
       "      <td>...</td>\n",
       "      <td>5.0</td>\n",
       "      <td>0.0</td>\n",
       "      <td>0.0</td>\n",
       "      <td>0.0</td>\n",
       "      <td>0.0</td>\n",
       "      <td>3.0</td>\n",
       "      <td>11.0</td>\n",
       "      <td>16.0</td>\n",
       "      <td>9.0</td>\n",
       "      <td>0.0</td>\n",
       "    </tr>\n",
       "    <tr>\n",
       "      <th>3</th>\n",
       "      <td>0.0</td>\n",
       "      <td>0.0</td>\n",
       "      <td>7.0</td>\n",
       "      <td>15.0</td>\n",
       "      <td>13.0</td>\n",
       "      <td>1.0</td>\n",
       "      <td>0.0</td>\n",
       "      <td>0.0</td>\n",
       "      <td>0.0</td>\n",
       "      <td>8.0</td>\n",
       "      <td>...</td>\n",
       "      <td>9.0</td>\n",
       "      <td>0.0</td>\n",
       "      <td>0.0</td>\n",
       "      <td>0.0</td>\n",
       "      <td>7.0</td>\n",
       "      <td>13.0</td>\n",
       "      <td>13.0</td>\n",
       "      <td>9.0</td>\n",
       "      <td>0.0</td>\n",
       "      <td>0.0</td>\n",
       "    </tr>\n",
       "    <tr>\n",
       "      <th>4</th>\n",
       "      <td>0.0</td>\n",
       "      <td>0.0</td>\n",
       "      <td>0.0</td>\n",
       "      <td>1.0</td>\n",
       "      <td>11.0</td>\n",
       "      <td>0.0</td>\n",
       "      <td>0.0</td>\n",
       "      <td>0.0</td>\n",
       "      <td>0.0</td>\n",
       "      <td>0.0</td>\n",
       "      <td>...</td>\n",
       "      <td>0.0</td>\n",
       "      <td>0.0</td>\n",
       "      <td>0.0</td>\n",
       "      <td>0.0</td>\n",
       "      <td>0.0</td>\n",
       "      <td>2.0</td>\n",
       "      <td>16.0</td>\n",
       "      <td>4.0</td>\n",
       "      <td>0.0</td>\n",
       "      <td>0.0</td>\n",
       "    </tr>\n",
       "    <tr>\n",
       "      <th>...</th>\n",
       "      <td>...</td>\n",
       "      <td>...</td>\n",
       "      <td>...</td>\n",
       "      <td>...</td>\n",
       "      <td>...</td>\n",
       "      <td>...</td>\n",
       "      <td>...</td>\n",
       "      <td>...</td>\n",
       "      <td>...</td>\n",
       "      <td>...</td>\n",
       "      <td>...</td>\n",
       "      <td>...</td>\n",
       "      <td>...</td>\n",
       "      <td>...</td>\n",
       "      <td>...</td>\n",
       "      <td>...</td>\n",
       "      <td>...</td>\n",
       "      <td>...</td>\n",
       "      <td>...</td>\n",
       "      <td>...</td>\n",
       "      <td>...</td>\n",
       "    </tr>\n",
       "    <tr>\n",
       "      <th>1792</th>\n",
       "      <td>0.0</td>\n",
       "      <td>0.0</td>\n",
       "      <td>4.0</td>\n",
       "      <td>10.0</td>\n",
       "      <td>13.0</td>\n",
       "      <td>6.0</td>\n",
       "      <td>0.0</td>\n",
       "      <td>0.0</td>\n",
       "      <td>0.0</td>\n",
       "      <td>1.0</td>\n",
       "      <td>...</td>\n",
       "      <td>4.0</td>\n",
       "      <td>0.0</td>\n",
       "      <td>0.0</td>\n",
       "      <td>0.0</td>\n",
       "      <td>2.0</td>\n",
       "      <td>14.0</td>\n",
       "      <td>15.0</td>\n",
       "      <td>9.0</td>\n",
       "      <td>0.0</td>\n",
       "      <td>0.0</td>\n",
       "    </tr>\n",
       "    <tr>\n",
       "      <th>1793</th>\n",
       "      <td>0.0</td>\n",
       "      <td>0.0</td>\n",
       "      <td>6.0</td>\n",
       "      <td>16.0</td>\n",
       "      <td>13.0</td>\n",
       "      <td>11.0</td>\n",
       "      <td>1.0</td>\n",
       "      <td>0.0</td>\n",
       "      <td>0.0</td>\n",
       "      <td>0.0</td>\n",
       "      <td>...</td>\n",
       "      <td>1.0</td>\n",
       "      <td>0.0</td>\n",
       "      <td>0.0</td>\n",
       "      <td>0.0</td>\n",
       "      <td>6.0</td>\n",
       "      <td>16.0</td>\n",
       "      <td>14.0</td>\n",
       "      <td>6.0</td>\n",
       "      <td>0.0</td>\n",
       "      <td>0.0</td>\n",
       "    </tr>\n",
       "    <tr>\n",
       "      <th>1794</th>\n",
       "      <td>0.0</td>\n",
       "      <td>0.0</td>\n",
       "      <td>1.0</td>\n",
       "      <td>11.0</td>\n",
       "      <td>15.0</td>\n",
       "      <td>1.0</td>\n",
       "      <td>0.0</td>\n",
       "      <td>0.0</td>\n",
       "      <td>0.0</td>\n",
       "      <td>0.0</td>\n",
       "      <td>...</td>\n",
       "      <td>0.0</td>\n",
       "      <td>0.0</td>\n",
       "      <td>0.0</td>\n",
       "      <td>0.0</td>\n",
       "      <td>2.0</td>\n",
       "      <td>9.0</td>\n",
       "      <td>13.0</td>\n",
       "      <td>6.0</td>\n",
       "      <td>0.0</td>\n",
       "      <td>0.0</td>\n",
       "    </tr>\n",
       "    <tr>\n",
       "      <th>1795</th>\n",
       "      <td>0.0</td>\n",
       "      <td>0.0</td>\n",
       "      <td>2.0</td>\n",
       "      <td>10.0</td>\n",
       "      <td>7.0</td>\n",
       "      <td>0.0</td>\n",
       "      <td>0.0</td>\n",
       "      <td>0.0</td>\n",
       "      <td>0.0</td>\n",
       "      <td>0.0</td>\n",
       "      <td>...</td>\n",
       "      <td>2.0</td>\n",
       "      <td>0.0</td>\n",
       "      <td>0.0</td>\n",
       "      <td>0.0</td>\n",
       "      <td>5.0</td>\n",
       "      <td>12.0</td>\n",
       "      <td>16.0</td>\n",
       "      <td>12.0</td>\n",
       "      <td>0.0</td>\n",
       "      <td>0.0</td>\n",
       "    </tr>\n",
       "    <tr>\n",
       "      <th>1796</th>\n",
       "      <td>0.0</td>\n",
       "      <td>0.0</td>\n",
       "      <td>10.0</td>\n",
       "      <td>14.0</td>\n",
       "      <td>8.0</td>\n",
       "      <td>1.0</td>\n",
       "      <td>0.0</td>\n",
       "      <td>0.0</td>\n",
       "      <td>0.0</td>\n",
       "      <td>2.0</td>\n",
       "      <td>...</td>\n",
       "      <td>8.0</td>\n",
       "      <td>0.0</td>\n",
       "      <td>0.0</td>\n",
       "      <td>1.0</td>\n",
       "      <td>8.0</td>\n",
       "      <td>12.0</td>\n",
       "      <td>14.0</td>\n",
       "      <td>12.0</td>\n",
       "      <td>1.0</td>\n",
       "      <td>0.0</td>\n",
       "    </tr>\n",
       "  </tbody>\n",
       "</table>\n",
       "<p>1797 rows × 64 columns</p>\n",
       "</div>"
      ],
      "text/plain": [
       "      pixel_0_0  pixel_0_1  pixel_0_2  pixel_0_3  pixel_0_4  pixel_0_5  \\\n",
       "0           0.0        0.0        5.0       13.0        9.0        1.0   \n",
       "1           0.0        0.0        0.0       12.0       13.0        5.0   \n",
       "2           0.0        0.0        0.0        4.0       15.0       12.0   \n",
       "3           0.0        0.0        7.0       15.0       13.0        1.0   \n",
       "4           0.0        0.0        0.0        1.0       11.0        0.0   \n",
       "...         ...        ...        ...        ...        ...        ...   \n",
       "1792        0.0        0.0        4.0       10.0       13.0        6.0   \n",
       "1793        0.0        0.0        6.0       16.0       13.0       11.0   \n",
       "1794        0.0        0.0        1.0       11.0       15.0        1.0   \n",
       "1795        0.0        0.0        2.0       10.0        7.0        0.0   \n",
       "1796        0.0        0.0       10.0       14.0        8.0        1.0   \n",
       "\n",
       "      pixel_0_6  pixel_0_7  pixel_1_0  pixel_1_1  ...  pixel_6_6  pixel_6_7  \\\n",
       "0           0.0        0.0        0.0        0.0  ...        0.0        0.0   \n",
       "1           0.0        0.0        0.0        0.0  ...        0.0        0.0   \n",
       "2           0.0        0.0        0.0        0.0  ...        5.0        0.0   \n",
       "3           0.0        0.0        0.0        8.0  ...        9.0        0.0   \n",
       "4           0.0        0.0        0.0        0.0  ...        0.0        0.0   \n",
       "...         ...        ...        ...        ...  ...        ...        ...   \n",
       "1792        0.0        0.0        0.0        1.0  ...        4.0        0.0   \n",
       "1793        1.0        0.0        0.0        0.0  ...        1.0        0.0   \n",
       "1794        0.0        0.0        0.0        0.0  ...        0.0        0.0   \n",
       "1795        0.0        0.0        0.0        0.0  ...        2.0        0.0   \n",
       "1796        0.0        0.0        0.0        2.0  ...        8.0        0.0   \n",
       "\n",
       "      pixel_7_0  pixel_7_1  pixel_7_2  pixel_7_3  pixel_7_4  pixel_7_5  \\\n",
       "0           0.0        0.0        6.0       13.0       10.0        0.0   \n",
       "1           0.0        0.0        0.0       11.0       16.0       10.0   \n",
       "2           0.0        0.0        0.0        3.0       11.0       16.0   \n",
       "3           0.0        0.0        7.0       13.0       13.0        9.0   \n",
       "4           0.0        0.0        0.0        2.0       16.0        4.0   \n",
       "...         ...        ...        ...        ...        ...        ...   \n",
       "1792        0.0        0.0        2.0       14.0       15.0        9.0   \n",
       "1793        0.0        0.0        6.0       16.0       14.0        6.0   \n",
       "1794        0.0        0.0        2.0        9.0       13.0        6.0   \n",
       "1795        0.0        0.0        5.0       12.0       16.0       12.0   \n",
       "1796        0.0        1.0        8.0       12.0       14.0       12.0   \n",
       "\n",
       "      pixel_7_6  pixel_7_7  \n",
       "0           0.0        0.0  \n",
       "1           0.0        0.0  \n",
       "2           9.0        0.0  \n",
       "3           0.0        0.0  \n",
       "4           0.0        0.0  \n",
       "...         ...        ...  \n",
       "1792        0.0        0.0  \n",
       "1793        0.0        0.0  \n",
       "1794        0.0        0.0  \n",
       "1795        0.0        0.0  \n",
       "1796        1.0        0.0  \n",
       "\n",
       "[1797 rows x 64 columns]"
      ]
     },
     "execution_count": 9,
     "metadata": {},
     "output_type": "execute_result"
    }
   ],
   "source": [
    "digits_df"
   ]
  },
  {
   "cell_type": "code",
   "execution_count": 10,
   "id": "organized-skating",
   "metadata": {
    "scrolled": true
   },
   "outputs": [
    {
     "name": "stdout",
     "output_type": "stream",
     "text": [
      "<class 'pandas.core.frame.DataFrame'>\n",
      "RangeIndex: 1797 entries, 0 to 1796\n",
      "Data columns (total 64 columns):\n",
      " #   Column     Non-Null Count  Dtype  \n",
      "---  ------     --------------  -----  \n",
      " 0   pixel_0_0  1797 non-null   float64\n",
      " 1   pixel_0_1  1797 non-null   float64\n",
      " 2   pixel_0_2  1797 non-null   float64\n",
      " 3   pixel_0_3  1797 non-null   float64\n",
      " 4   pixel_0_4  1797 non-null   float64\n",
      " 5   pixel_0_5  1797 non-null   float64\n",
      " 6   pixel_0_6  1797 non-null   float64\n",
      " 7   pixel_0_7  1797 non-null   float64\n",
      " 8   pixel_1_0  1797 non-null   float64\n",
      " 9   pixel_1_1  1797 non-null   float64\n",
      " 10  pixel_1_2  1797 non-null   float64\n",
      " 11  pixel_1_3  1797 non-null   float64\n",
      " 12  pixel_1_4  1797 non-null   float64\n",
      " 13  pixel_1_5  1797 non-null   float64\n",
      " 14  pixel_1_6  1797 non-null   float64\n",
      " 15  pixel_1_7  1797 non-null   float64\n",
      " 16  pixel_2_0  1797 non-null   float64\n",
      " 17  pixel_2_1  1797 non-null   float64\n",
      " 18  pixel_2_2  1797 non-null   float64\n",
      " 19  pixel_2_3  1797 non-null   float64\n",
      " 20  pixel_2_4  1797 non-null   float64\n",
      " 21  pixel_2_5  1797 non-null   float64\n",
      " 22  pixel_2_6  1797 non-null   float64\n",
      " 23  pixel_2_7  1797 non-null   float64\n",
      " 24  pixel_3_0  1797 non-null   float64\n",
      " 25  pixel_3_1  1797 non-null   float64\n",
      " 26  pixel_3_2  1797 non-null   float64\n",
      " 27  pixel_3_3  1797 non-null   float64\n",
      " 28  pixel_3_4  1797 non-null   float64\n",
      " 29  pixel_3_5  1797 non-null   float64\n",
      " 30  pixel_3_6  1797 non-null   float64\n",
      " 31  pixel_3_7  1797 non-null   float64\n",
      " 32  pixel_4_0  1797 non-null   float64\n",
      " 33  pixel_4_1  1797 non-null   float64\n",
      " 34  pixel_4_2  1797 non-null   float64\n",
      " 35  pixel_4_3  1797 non-null   float64\n",
      " 36  pixel_4_4  1797 non-null   float64\n",
      " 37  pixel_4_5  1797 non-null   float64\n",
      " 38  pixel_4_6  1797 non-null   float64\n",
      " 39  pixel_4_7  1797 non-null   float64\n",
      " 40  pixel_5_0  1797 non-null   float64\n",
      " 41  pixel_5_1  1797 non-null   float64\n",
      " 42  pixel_5_2  1797 non-null   float64\n",
      " 43  pixel_5_3  1797 non-null   float64\n",
      " 44  pixel_5_4  1797 non-null   float64\n",
      " 45  pixel_5_5  1797 non-null   float64\n",
      " 46  pixel_5_6  1797 non-null   float64\n",
      " 47  pixel_5_7  1797 non-null   float64\n",
      " 48  pixel_6_0  1797 non-null   float64\n",
      " 49  pixel_6_1  1797 non-null   float64\n",
      " 50  pixel_6_2  1797 non-null   float64\n",
      " 51  pixel_6_3  1797 non-null   float64\n",
      " 52  pixel_6_4  1797 non-null   float64\n",
      " 53  pixel_6_5  1797 non-null   float64\n",
      " 54  pixel_6_6  1797 non-null   float64\n",
      " 55  pixel_6_7  1797 non-null   float64\n",
      " 56  pixel_7_0  1797 non-null   float64\n",
      " 57  pixel_7_1  1797 non-null   float64\n",
      " 58  pixel_7_2  1797 non-null   float64\n",
      " 59  pixel_7_3  1797 non-null   float64\n",
      " 60  pixel_7_4  1797 non-null   float64\n",
      " 61  pixel_7_5  1797 non-null   float64\n",
      " 62  pixel_7_6  1797 non-null   float64\n",
      " 63  pixel_7_7  1797 non-null   float64\n",
      "dtypes: float64(64)\n",
      "memory usage: 898.6 KB\n"
     ]
    }
   ],
   "source": [
    "digits_df.info()"
   ]
  },
  {
   "cell_type": "markdown",
   "id": "international-career",
   "metadata": {},
   "source": [
    "Nie występują braki danych oraz wszystkie kolumny są floatami"
   ]
  },
  {
   "cell_type": "code",
   "execution_count": 11,
   "id": "broad-instrumentation",
   "metadata": {
    "scrolled": true
   },
   "outputs": [
    {
     "data": {
      "text/html": [
       "<div>\n",
       "<style scoped>\n",
       "    .dataframe tbody tr th:only-of-type {\n",
       "        vertical-align: middle;\n",
       "    }\n",
       "\n",
       "    .dataframe tbody tr th {\n",
       "        vertical-align: top;\n",
       "    }\n",
       "\n",
       "    .dataframe thead th {\n",
       "        text-align: right;\n",
       "    }\n",
       "</style>\n",
       "<table border=\"1\" class=\"dataframe\">\n",
       "  <thead>\n",
       "    <tr style=\"text-align: right;\">\n",
       "      <th></th>\n",
       "      <th>pixel_0_0</th>\n",
       "      <th>pixel_0_1</th>\n",
       "      <th>pixel_0_2</th>\n",
       "      <th>pixel_0_3</th>\n",
       "      <th>pixel_0_4</th>\n",
       "      <th>pixel_0_5</th>\n",
       "      <th>pixel_0_6</th>\n",
       "      <th>pixel_0_7</th>\n",
       "      <th>pixel_1_0</th>\n",
       "      <th>pixel_1_1</th>\n",
       "      <th>...</th>\n",
       "      <th>pixel_6_6</th>\n",
       "      <th>pixel_6_7</th>\n",
       "      <th>pixel_7_0</th>\n",
       "      <th>pixel_7_1</th>\n",
       "      <th>pixel_7_2</th>\n",
       "      <th>pixel_7_3</th>\n",
       "      <th>pixel_7_4</th>\n",
       "      <th>pixel_7_5</th>\n",
       "      <th>pixel_7_6</th>\n",
       "      <th>pixel_7_7</th>\n",
       "    </tr>\n",
       "  </thead>\n",
       "  <tbody>\n",
       "    <tr>\n",
       "      <th>count</th>\n",
       "      <td>1797.0</td>\n",
       "      <td>1797.000000</td>\n",
       "      <td>1797.000000</td>\n",
       "      <td>1797.000000</td>\n",
       "      <td>1797.000000</td>\n",
       "      <td>1797.000000</td>\n",
       "      <td>1797.000000</td>\n",
       "      <td>1797.000000</td>\n",
       "      <td>1797.000000</td>\n",
       "      <td>1797.000000</td>\n",
       "      <td>...</td>\n",
       "      <td>1797.000000</td>\n",
       "      <td>1797.000000</td>\n",
       "      <td>1797.000000</td>\n",
       "      <td>1797.000000</td>\n",
       "      <td>1797.000000</td>\n",
       "      <td>1797.000000</td>\n",
       "      <td>1797.000000</td>\n",
       "      <td>1797.000000</td>\n",
       "      <td>1797.000000</td>\n",
       "      <td>1797.000000</td>\n",
       "    </tr>\n",
       "    <tr>\n",
       "      <th>mean</th>\n",
       "      <td>0.0</td>\n",
       "      <td>0.303840</td>\n",
       "      <td>5.204786</td>\n",
       "      <td>11.835838</td>\n",
       "      <td>11.848080</td>\n",
       "      <td>5.781859</td>\n",
       "      <td>1.362270</td>\n",
       "      <td>0.129661</td>\n",
       "      <td>0.005565</td>\n",
       "      <td>1.993879</td>\n",
       "      <td>...</td>\n",
       "      <td>3.725097</td>\n",
       "      <td>0.206455</td>\n",
       "      <td>0.000556</td>\n",
       "      <td>0.279354</td>\n",
       "      <td>5.557596</td>\n",
       "      <td>12.089037</td>\n",
       "      <td>11.809126</td>\n",
       "      <td>6.764051</td>\n",
       "      <td>2.067891</td>\n",
       "      <td>0.364496</td>\n",
       "    </tr>\n",
       "    <tr>\n",
       "      <th>std</th>\n",
       "      <td>0.0</td>\n",
       "      <td>0.907192</td>\n",
       "      <td>4.754826</td>\n",
       "      <td>4.248842</td>\n",
       "      <td>4.287388</td>\n",
       "      <td>5.666418</td>\n",
       "      <td>3.325775</td>\n",
       "      <td>1.037383</td>\n",
       "      <td>0.094222</td>\n",
       "      <td>3.196160</td>\n",
       "      <td>...</td>\n",
       "      <td>4.919406</td>\n",
       "      <td>0.984401</td>\n",
       "      <td>0.023590</td>\n",
       "      <td>0.934302</td>\n",
       "      <td>5.103019</td>\n",
       "      <td>4.374694</td>\n",
       "      <td>4.933947</td>\n",
       "      <td>5.900623</td>\n",
       "      <td>4.090548</td>\n",
       "      <td>1.860122</td>\n",
       "    </tr>\n",
       "    <tr>\n",
       "      <th>min</th>\n",
       "      <td>0.0</td>\n",
       "      <td>0.000000</td>\n",
       "      <td>0.000000</td>\n",
       "      <td>0.000000</td>\n",
       "      <td>0.000000</td>\n",
       "      <td>0.000000</td>\n",
       "      <td>0.000000</td>\n",
       "      <td>0.000000</td>\n",
       "      <td>0.000000</td>\n",
       "      <td>0.000000</td>\n",
       "      <td>...</td>\n",
       "      <td>0.000000</td>\n",
       "      <td>0.000000</td>\n",
       "      <td>0.000000</td>\n",
       "      <td>0.000000</td>\n",
       "      <td>0.000000</td>\n",
       "      <td>0.000000</td>\n",
       "      <td>0.000000</td>\n",
       "      <td>0.000000</td>\n",
       "      <td>0.000000</td>\n",
       "      <td>0.000000</td>\n",
       "    </tr>\n",
       "    <tr>\n",
       "      <th>25%</th>\n",
       "      <td>0.0</td>\n",
       "      <td>0.000000</td>\n",
       "      <td>1.000000</td>\n",
       "      <td>10.000000</td>\n",
       "      <td>10.000000</td>\n",
       "      <td>0.000000</td>\n",
       "      <td>0.000000</td>\n",
       "      <td>0.000000</td>\n",
       "      <td>0.000000</td>\n",
       "      <td>0.000000</td>\n",
       "      <td>...</td>\n",
       "      <td>0.000000</td>\n",
       "      <td>0.000000</td>\n",
       "      <td>0.000000</td>\n",
       "      <td>0.000000</td>\n",
       "      <td>1.000000</td>\n",
       "      <td>11.000000</td>\n",
       "      <td>10.000000</td>\n",
       "      <td>0.000000</td>\n",
       "      <td>0.000000</td>\n",
       "      <td>0.000000</td>\n",
       "    </tr>\n",
       "    <tr>\n",
       "      <th>50%</th>\n",
       "      <td>0.0</td>\n",
       "      <td>0.000000</td>\n",
       "      <td>4.000000</td>\n",
       "      <td>13.000000</td>\n",
       "      <td>13.000000</td>\n",
       "      <td>4.000000</td>\n",
       "      <td>0.000000</td>\n",
       "      <td>0.000000</td>\n",
       "      <td>0.000000</td>\n",
       "      <td>0.000000</td>\n",
       "      <td>...</td>\n",
       "      <td>1.000000</td>\n",
       "      <td>0.000000</td>\n",
       "      <td>0.000000</td>\n",
       "      <td>0.000000</td>\n",
       "      <td>4.000000</td>\n",
       "      <td>13.000000</td>\n",
       "      <td>14.000000</td>\n",
       "      <td>6.000000</td>\n",
       "      <td>0.000000</td>\n",
       "      <td>0.000000</td>\n",
       "    </tr>\n",
       "    <tr>\n",
       "      <th>75%</th>\n",
       "      <td>0.0</td>\n",
       "      <td>0.000000</td>\n",
       "      <td>9.000000</td>\n",
       "      <td>15.000000</td>\n",
       "      <td>15.000000</td>\n",
       "      <td>11.000000</td>\n",
       "      <td>0.000000</td>\n",
       "      <td>0.000000</td>\n",
       "      <td>0.000000</td>\n",
       "      <td>3.000000</td>\n",
       "      <td>...</td>\n",
       "      <td>7.000000</td>\n",
       "      <td>0.000000</td>\n",
       "      <td>0.000000</td>\n",
       "      <td>0.000000</td>\n",
       "      <td>10.000000</td>\n",
       "      <td>16.000000</td>\n",
       "      <td>16.000000</td>\n",
       "      <td>12.000000</td>\n",
       "      <td>2.000000</td>\n",
       "      <td>0.000000</td>\n",
       "    </tr>\n",
       "    <tr>\n",
       "      <th>max</th>\n",
       "      <td>0.0</td>\n",
       "      <td>8.000000</td>\n",
       "      <td>16.000000</td>\n",
       "      <td>16.000000</td>\n",
       "      <td>16.000000</td>\n",
       "      <td>16.000000</td>\n",
       "      <td>16.000000</td>\n",
       "      <td>15.000000</td>\n",
       "      <td>2.000000</td>\n",
       "      <td>16.000000</td>\n",
       "      <td>...</td>\n",
       "      <td>16.000000</td>\n",
       "      <td>13.000000</td>\n",
       "      <td>1.000000</td>\n",
       "      <td>9.000000</td>\n",
       "      <td>16.000000</td>\n",
       "      <td>16.000000</td>\n",
       "      <td>16.000000</td>\n",
       "      <td>16.000000</td>\n",
       "      <td>16.000000</td>\n",
       "      <td>16.000000</td>\n",
       "    </tr>\n",
       "  </tbody>\n",
       "</table>\n",
       "<p>8 rows × 64 columns</p>\n",
       "</div>"
      ],
      "text/plain": [
       "       pixel_0_0    pixel_0_1    pixel_0_2    pixel_0_3    pixel_0_4  \\\n",
       "count     1797.0  1797.000000  1797.000000  1797.000000  1797.000000   \n",
       "mean         0.0     0.303840     5.204786    11.835838    11.848080   \n",
       "std          0.0     0.907192     4.754826     4.248842     4.287388   \n",
       "min          0.0     0.000000     0.000000     0.000000     0.000000   \n",
       "25%          0.0     0.000000     1.000000    10.000000    10.000000   \n",
       "50%          0.0     0.000000     4.000000    13.000000    13.000000   \n",
       "75%          0.0     0.000000     9.000000    15.000000    15.000000   \n",
       "max          0.0     8.000000    16.000000    16.000000    16.000000   \n",
       "\n",
       "         pixel_0_5    pixel_0_6    pixel_0_7    pixel_1_0    pixel_1_1  ...  \\\n",
       "count  1797.000000  1797.000000  1797.000000  1797.000000  1797.000000  ...   \n",
       "mean      5.781859     1.362270     0.129661     0.005565     1.993879  ...   \n",
       "std       5.666418     3.325775     1.037383     0.094222     3.196160  ...   \n",
       "min       0.000000     0.000000     0.000000     0.000000     0.000000  ...   \n",
       "25%       0.000000     0.000000     0.000000     0.000000     0.000000  ...   \n",
       "50%       4.000000     0.000000     0.000000     0.000000     0.000000  ...   \n",
       "75%      11.000000     0.000000     0.000000     0.000000     3.000000  ...   \n",
       "max      16.000000    16.000000    15.000000     2.000000    16.000000  ...   \n",
       "\n",
       "         pixel_6_6    pixel_6_7    pixel_7_0    pixel_7_1    pixel_7_2  \\\n",
       "count  1797.000000  1797.000000  1797.000000  1797.000000  1797.000000   \n",
       "mean      3.725097     0.206455     0.000556     0.279354     5.557596   \n",
       "std       4.919406     0.984401     0.023590     0.934302     5.103019   \n",
       "min       0.000000     0.000000     0.000000     0.000000     0.000000   \n",
       "25%       0.000000     0.000000     0.000000     0.000000     1.000000   \n",
       "50%       1.000000     0.000000     0.000000     0.000000     4.000000   \n",
       "75%       7.000000     0.000000     0.000000     0.000000    10.000000   \n",
       "max      16.000000    13.000000     1.000000     9.000000    16.000000   \n",
       "\n",
       "         pixel_7_3    pixel_7_4    pixel_7_5    pixel_7_6    pixel_7_7  \n",
       "count  1797.000000  1797.000000  1797.000000  1797.000000  1797.000000  \n",
       "mean     12.089037    11.809126     6.764051     2.067891     0.364496  \n",
       "std       4.374694     4.933947     5.900623     4.090548     1.860122  \n",
       "min       0.000000     0.000000     0.000000     0.000000     0.000000  \n",
       "25%      11.000000    10.000000     0.000000     0.000000     0.000000  \n",
       "50%      13.000000    14.000000     6.000000     0.000000     0.000000  \n",
       "75%      16.000000    16.000000    12.000000     2.000000     0.000000  \n",
       "max      16.000000    16.000000    16.000000    16.000000    16.000000  \n",
       "\n",
       "[8 rows x 64 columns]"
      ]
     },
     "execution_count": 11,
     "metadata": {},
     "output_type": "execute_result"
    }
   ],
   "source": [
    "digits_df.describe()"
   ]
  },
  {
   "cell_type": "markdown",
   "id": "revised-turning",
   "metadata": {},
   "source": [
    "Wielkości nie są ustandaryzowane - mamy kolumny z średnią >10 i takie o średnie ~ 0. Niestety po standaryzacji wiekości te nie zmienią się diametralnie."
   ]
  },
  {
   "cell_type": "code",
   "execution_count": 12,
   "id": "distant-radical",
   "metadata": {
    "scrolled": true
   },
   "outputs": [
    {
     "data": {
      "text/plain": [
       "<AxesSubplot:>"
      ]
     },
     "execution_count": 12,
     "metadata": {},
     "output_type": "execute_result"
    },
    {
     "data": {
      "image/png": "[encoded data removed]",
      "text/plain": [
       "<Figure size 432x288 with 1 Axes>"
      ]
     },
     "metadata": {
      "needs_background": "light"
     },
     "output_type": "display_data"
    }
   ],
   "source": [
    "digits_target.hist()"
   ]
  },
  {
   "cell_type": "markdown",
   "id": "cutting-camel",
   "metadata": {},
   "source": [
    "Zmienna celu jest dyskretna jest ona zbalansowana. Problem klasyfikacji."
   ]
  },
  {
   "cell_type": "markdown",
   "id": "central-tiger",
   "metadata": {},
   "source": [
    "### Przygotowanie danych"
   ]
  },
  {
   "cell_type": "code",
   "execution_count": 13,
   "id": "constitutional-italic",
   "metadata": {},
   "outputs": [],
   "source": [
    "from sklearn.preprocessing import StandardScaler, OneHotEncoder\n",
    "from sklearn.compose import make_column_transformer\n",
    "from sklearn.pipeline import make_pipeline"
   ]
  },
  {
   "cell_type": "code",
   "execution_count": 14,
   "id": "relevant-classic",
   "metadata": {},
   "outputs": [],
   "source": [
    "preprocess_apartments = make_column_transformer(\n",
    "    (OneHotEncoder(), ['district']), remainder='passthrough')"
   ]
  },
  {
   "cell_type": "code",
   "execution_count": 15,
   "id": "freelance-russell",
   "metadata": {},
   "outputs": [],
   "source": [
    "preprocess_apartments_scaled = make_column_transformer(\n",
    "    (OneHotEncoder(), ['district']), remainder=StandardScaler())"
   ]
  },
  {
   "cell_type": "code",
   "execution_count": 16,
   "id": "raised-distance",
   "metadata": {},
   "outputs": [],
   "source": [
    "preprocess_digits_scaled = StandardScaler()"
   ]
  },
  {
   "cell_type": "code",
   "execution_count": 17,
   "id": "certain-contribution",
   "metadata": {},
   "outputs": [],
   "source": [
    "from sklearn.model_selection import train_test_split\n",
    "\n",
    "X_apartments_train, X_apartments_test, y_apartments_train, y_apartments_test = train_test_split(\n",
    "    apartments_df, apartments_target, test_size=0.3, random_state=42)\n",
    "\n",
    "X_digits_train, X_digits_test, y_digits_train, y_digits_test = train_test_split(\n",
    "    digits_df, digits_target, test_size=0.3, random_state=42)"
   ]
  },
  {
   "cell_type": "markdown",
   "id": "favorite-schema",
   "metadata": {},
   "source": [
    "### Trenowanie modeli"
   ]
  },
  {
   "cell_type": "code",
   "execution_count": 18,
   "id": "lucky-queens",
   "metadata": {},
   "outputs": [],
   "source": [
    "from sklearn.svm import SVR\n",
    "from sklearn.svm import SVC"
   ]
  },
  {
   "cell_type": "code",
   "execution_count": 19,
   "id": "amateur-visiting",
   "metadata": {
    "scrolled": true
   },
   "outputs": [
    {
     "data": {
      "text/plain": [
       "Pipeline(steps=[('standardscaler', StandardScaler()), ('svc', SVC())])"
      ]
     },
     "execution_count": 19,
     "metadata": {},
     "output_type": "execute_result"
    }
   ],
   "source": [
    "apartments_model = make_pipeline(preprocess_apartments, SVR())\n",
    "apartments_model.fit(X_apartments_train, y_apartments_train)\n",
    "\n",
    "apartments_model_scaled = make_pipeline(preprocess_apartments_scaled, SVR())\n",
    "apartments_model_scaled.fit(X_apartments_train, y_apartments_train)\n",
    "\n",
    "\n",
    "digits_model = SVC()\n",
    "digits_model.fit(X_digits_train, y_digits_train)\n",
    "\n",
    "digits_model_scaled = make_pipeline(preprocess_digits_scaled, SVC())\n",
    "digits_model_scaled.fit(X_digits_train, y_digits_train)"
   ]
  },
  {
   "cell_type": "markdown",
   "id": "certain-symbol",
   "metadata": {},
   "source": [
    "### Wpływ skalowania"
   ]
  },
  {
   "cell_type": "markdown",
   "id": "russian-entrepreneur",
   "metadata": {},
   "source": [
    "#### Zbiór `apartments`"
   ]
  },
  {
   "cell_type": "markdown",
   "id": "settled-storm",
   "metadata": {},
   "source": [
    "Wybór metryki - rmse"
   ]
  },
  {
   "cell_type": "code",
   "execution_count": 20,
   "id": "united-auction",
   "metadata": {},
   "outputs": [],
   "source": [
    "from sklearn.metrics import mean_squared_error as mse"
   ]
  },
  {
   "cell_type": "code",
   "execution_count": 21,
   "id": "suspected-preview",
   "metadata": {},
   "outputs": [],
   "source": [
    "def get_rmse(model, model_scaled, y_true, X_test):\n",
    "    model_not_scaled_rsme = mse(y_true, model.predict(X_test), squared=False)\n",
    "    model_scaled_rsme = mse(y_true, model_scaled.predict(X_test), squared=False)\n",
    "    return model_not_scaled_rsme, model_scaled_rsme"
   ]
  },
  {
   "cell_type": "code",
   "execution_count": 22,
   "id": "narrative-extraction",
   "metadata": {},
   "outputs": [],
   "source": [
    "aparts_not_scaled_rsme, aparts_scaled_rsme = get_rmse(apartments_model,\n",
    "                                                      apartments_model_scaled,\n",
    "                                                      y_apartments_test,\n",
    "                                                      X_apartments_test)"
   ]
  },
  {
   "cell_type": "code",
   "execution_count": 23,
   "id": "congressional-complex",
   "metadata": {},
   "outputs": [
    {
     "name": "stdout",
     "output_type": "stream",
     "text": [
      "RMSE on apartments dataset: \n",
      "\n",
      "Not scaled:  921.4746771019635\n",
      "Scaled:      900.1320222577652\n"
     ]
    }
   ],
   "source": [
    "print('RMSE on apartments dataset: \\n')\n",
    "print(\"Not scaled: \", aparts_not_scaled_rsme)\n",
    "print(\"Scaled:     \", aparts_scaled_rsme)"
   ]
  },
  {
   "cell_type": "markdown",
   "id": "saving-dividend",
   "metadata": {},
   "source": [
    "Widzimy poprawę jednak nie jest ona znacząca (błąd względny wynosi ok 2%), jednak poprawa to zawsze poprawa."
   ]
  },
  {
   "cell_type": "markdown",
   "id": "entertaining-conditioning",
   "metadata": {},
   "source": [
    "#### Zbiór `digits`"
   ]
  },
  {
   "cell_type": "markdown",
   "id": "military-classic",
   "metadata": {},
   "source": [
    "Wybór metryki - f1 z typem uśredniania *macro* (zbalansowana zmienna celu)"
   ]
  },
  {
   "cell_type": "code",
   "execution_count": 24,
   "id": "classical-repeat",
   "metadata": {},
   "outputs": [],
   "source": [
    "from sklearn.metrics import accuracy_score\n",
    "from sklearn.metrics import f1_score"
   ]
  },
  {
   "cell_type": "code",
   "execution_count": 25,
   "id": "living-lyric",
   "metadata": {},
   "outputs": [],
   "source": [
    "def get_f1(model, model_scaled, y_true, X_test):\n",
    "    model_not_scaled_f1 = f1_score(y_true, model.predict(X_test), average = 'macro')\n",
    "    model_scaled_f1 = f1_score(y_true, model_scaled.predict(X_test), average = 'macro')\n",
    "    return model_not_scaled_f1, model_scaled_f1"
   ]
  },
  {
   "cell_type": "code",
   "execution_count": 26,
   "id": "earlier-librarian",
   "metadata": {},
   "outputs": [],
   "source": [
    "digits_not_scaled_f1, digits_scaled_f1 = get_f1(digits_model,\n",
    "                                                digits_model_scaled,\n",
    "                                                y_digits_test,\n",
    "                                                X_digits_test)"
   ]
  },
  {
   "cell_type": "code",
   "execution_count": 27,
   "id": "latin-salem",
   "metadata": {},
   "outputs": [
    {
     "name": "stdout",
     "output_type": "stream",
     "text": [
      "F1 macro on digits dataset: \n",
      "\n",
      "Not scaled:  0.9869102479765148\n",
      "Scaled:      0.9790292278260022\n"
     ]
    }
   ],
   "source": [
    "print('F1 macro on digits dataset: \\n')\n",
    "print(\"Not scaled: \", digits_not_scaled_f1)\n",
    "print(\"Scaled:     \", digits_scaled_f1)"
   ]
  },
  {
   "cell_type": "markdown",
   "id": "wrong-scottish",
   "metadata": {},
   "source": [
    "Widzmy, że skalowanie nie pomogło w przypadku tego zbioru danych, może to jednak wynikać z tego iż dane są podane w pikselach więc są z podobnego zakresu."
   ]
  },
  {
   "cell_type": "markdown",
   "id": "happy-travel",
   "metadata": {},
   "source": [
    "### Optymalizacja hiperparametrów"
   ]
  },
  {
   "cell_type": "markdown",
   "id": "several-kazakhstan",
   "metadata": {},
   "source": [
    "Korzystając `RandomSearchCV` optymalizujemy hiperparametry:\n",
    "- cost,\n",
    "- gamma,\n",
    "- degree\n",
    "\n",
    "Z artykułu [Tunability: Importance of Hyperparameters of Machine Learning Algorithms](https://jmlr.org/papers/volume20/18-444/18-444.pdf) wybieramy zakresy z których wybierać poszczególne hiperparametry."
   ]
  },
  {
   "cell_type": "code",
   "execution_count": 28,
   "id": "unexpected-tomato",
   "metadata": {},
   "outputs": [],
   "source": [
    "from sklearn.model_selection import RandomizedSearchCV"
   ]
  },
  {
   "cell_type": "code",
   "execution_count": 29,
   "id": "million-equipment",
   "metadata": {},
   "outputs": [],
   "source": [
    "params_svr = {\n",
    "    'svr__C':2 ** np.linspace(-10, 10, 10),\n",
    "    'svr__gamma':2 ** np.linspace(-10, 10, 10),\n",
    "    'svr__degree': [2, 3, 4, 5]\n",
    "}\n",
    "params_svc = {\n",
    "    'svc__C':2 ** np.linspace(-10, 10, 10),\n",
    "    'svc__gamma':2 ** np.linspace(-10, 10, 10),\n",
    "    'svc__degree': [2, 3, 4, 5]\n",
    "}"
   ]
  },
  {
   "cell_type": "markdown",
   "id": "complimentary-camping",
   "metadata": {},
   "source": [
    "#### Apartments"
   ]
  },
  {
   "cell_type": "code",
   "execution_count": 30,
   "id": "executed-liberal",
   "metadata": {
    "scrolled": true
   },
   "outputs": [],
   "source": [
    "apartments_model = make_pipeline(preprocess_apartments, SVR())\n",
    "\n",
    "random_cv = RandomizedSearchCV(apartments_model, params_svr,\n",
    "                               scoring ='neg_root_mean_squared_error', n_iter= 50, n_jobs=-1)\n",
    "\n",
    "random_cv.fit(X_apartments_train, y_apartments_train)\n",
    "\n",
    "apartments_model_best = random_cv.best_estimator_\n",
    "apartments_model_best_params = random_cv.best_params_"
   ]
  },
  {
   "cell_type": "code",
   "execution_count": 31,
   "id": "incident-johns",
   "metadata": {},
   "outputs": [],
   "source": [
    "apartments_model_scaled = make_pipeline(preprocess_apartments_scaled, SVR())\n",
    "\n",
    "random_cv = RandomizedSearchCV(apartments_model_scaled, params_svr,\n",
    "                               scoring ='neg_root_mean_squared_error', n_iter= 50, n_jobs=-1)\n",
    "\n",
    "random_cv.fit(X_apartments_train, y_apartments_train)\n",
    "\n",
    "apartments_model_scaled_best = random_cv.best_estimator_\n",
    "apartments_model_scaled_best_params = random_cv.best_params_"
   ]
  },
  {
   "cell_type": "code",
   "execution_count": 32,
   "id": "advisory-adrian",
   "metadata": {},
   "outputs": [],
   "source": [
    "aparts_not_scaled_best_rsme, aparts_scaled_best_rsme = get_rmse(apartments_model_best,\n",
    "                                                                apartments_model_scaled_best,\n",
    "                                                                y_apartments_test,\n",
    "                                                                X_apartments_test)"
   ]
  },
  {
   "cell_type": "markdown",
   "id": "still-scout",
   "metadata": {},
   "source": [
    "Najlepsze hiperparametry:"
   ]
  },
  {
   "cell_type": "code",
   "execution_count": 33,
   "id": "destroyed-fluid",
   "metadata": {},
   "outputs": [
    {
     "name": "stdout",
     "output_type": "stream",
     "text": [
      "Not scaled:  {'svr__gamma': 0.0009765625, 'svr__degree': 2, 'svr__C': 1024.0}\n",
      "Scaled:      {'svr__gamma': 0.09921256574801249, 'svr__degree': 2, 'svr__C': 1024.0}\n"
     ]
    }
   ],
   "source": [
    "print('Not scaled: ', apartments_model_best_params)\n",
    "print(\"Scaled:     \", apartments_model_scaled_best_params)"
   ]
  },
  {
   "cell_type": "code",
   "execution_count": 34,
   "id": "raised-strap",
   "metadata": {},
   "outputs": [
    {
     "name": "stdout",
     "output_type": "stream",
     "text": [
      "RMSE on apartments dataset: \n",
      "\n",
      "Not scaled:  921.4746771019635\n",
      "Scaled:      900.1320222577652\n",
      "\n",
      "On tunned models\n",
      "Not scaled:  794.1942751776642   -127.28040192429933\n",
      "Scaled:      167.83678167272456  -732.2952405850407\n"
     ]
    }
   ],
   "source": [
    "print('RMSE on apartments dataset: \\n')\n",
    "print(\"Not scaled: \", aparts_not_scaled_rsme)\n",
    "print(\"Scaled:     \", aparts_scaled_rsme)\n",
    "\n",
    "print('\\nOn tunned models')\n",
    "print(\"Not scaled: \", aparts_not_scaled_best_rsme, \" \", aparts_not_scaled_best_rsme-aparts_not_scaled_rsme)\n",
    "print(\"Scaled:     \", aparts_scaled_best_rsme, \"\",aparts_scaled_best_rsme-aparts_scaled_rsme)"
   ]
  },
  {
   "cell_type": "markdown",
   "id": "moved-irrigation",
   "metadata": {},
   "source": [
    "Po wyborze hiperparametrów widzimy ok. 10% spadek przy RMSE przy modelu nie przeskalowany zbiorze co nas zadawala, jednak RMSE na zbiorze przeskalowanym z wyborem najlepszych hiperparametów zmiejszył się o ponad 80% i dał bardzo zadawalający wynik."
   ]
  },
  {
   "cell_type": "markdown",
   "id": "allied-start",
   "metadata": {},
   "source": [
    "#### Digits"
   ]
  },
  {
   "cell_type": "code",
   "execution_count": 35,
   "id": "entertaining-dating",
   "metadata": {},
   "outputs": [],
   "source": [
    "digits_model = make_pipeline(SVC())\n",
    "\n",
    "random_cv = RandomizedSearchCV(digits_model, params_svc,\n",
    "                               scoring ='f1_macro', n_iter= 50, n_jobs=-1)\n",
    "\n",
    "random_cv.fit(X_digits_train, y_digits_train)\n",
    "\n",
    "digits_model_best = random_cv.best_estimator_\n",
    "digits_model_best_params = random_cv.best_params_"
   ]
  },
  {
   "cell_type": "code",
   "execution_count": 36,
   "id": "metropolitan-summit",
   "metadata": {},
   "outputs": [],
   "source": [
    "digits_model_scaled = make_pipeline(preprocess_digits_scaled, SVC())\n",
    "\n",
    "random_cv = RandomizedSearchCV(digits_model_scaled, params_svc,\n",
    "                               scoring ='f1_macro', n_iter= 50, n_jobs=-1)\n",
    "\n",
    "random_cv.fit(X_digits_train, y_digits_train)\n",
    "\n",
    "digits_model_scaled_best = random_cv.best_estimator_\n",
    "digits_model_scaled_best_params = random_cv.best_params_"
   ]
  },
  {
   "cell_type": "code",
   "execution_count": 37,
   "id": "verified-share",
   "metadata": {},
   "outputs": [],
   "source": [
    "digits_not_scaled_best_f1, digits_scaled_best_f1 = get_f1(digits_model_best,\n",
    "                                                          digits_model_scaled_best,\n",
    "                                                          y_digits_test,\n",
    "                                                          X_digits_test)"
   ]
  },
  {
   "cell_type": "markdown",
   "id": "eleven-latvia",
   "metadata": {},
   "source": [
    "Najlepsze hiperparametry:"
   ]
  },
  {
   "cell_type": "code",
   "execution_count": 38,
   "id": "formed-compatibility",
   "metadata": {},
   "outputs": [
    {
     "name": "stdout",
     "output_type": "stream",
     "text": [
      "Not scaled:  {'svc__gamma': 0.0009765625, 'svc__degree': 2, 'svc__C': 219.45445961038678}\n",
      "Scaled:      {'svc__gamma': 0.004556754060844206, 'svc__degree': 3, 'svc__C': 1024.0}\n"
     ]
    }
   ],
   "source": [
    "print('Not scaled: ', digits_model_best_params)\n",
    "print(\"Scaled:     \", digits_model_scaled_best_params)"
   ]
  },
  {
   "cell_type": "code",
   "execution_count": 39,
   "id": "affected-european",
   "metadata": {},
   "outputs": [
    {
     "name": "stdout",
     "output_type": "stream",
     "text": [
      "F1 macro on digits dataset: \n",
      "\n",
      "Not scaled:  0.9869102479765148\n",
      "Scaled:      0.9790292278260022\n",
      "\n",
      "On tunned models\n",
      "Not scaled:  0.9909126723133541  + 0.004002424336839283\n",
      "Scaled:      0.9851805093467233  + 0.006151281520721086\n"
     ]
    }
   ],
   "source": [
    "print('F1 macro on digits dataset: \\n')\n",
    "print(\"Not scaled: \", digits_not_scaled_f1)\n",
    "print(\"Scaled:     \", digits_scaled_f1)\n",
    "\n",
    "print('\\nOn tunned models')\n",
    "print(\"Not scaled: \", digits_not_scaled_best_f1, \" +\", digits_not_scaled_best_f1 - digits_not_scaled_f1)\n",
    "print(\"Scaled:     \", digits_scaled_best_f1, \" +\", digits_scaled_best_f1 - digits_scaled_f1)"
   ]
  },
  {
   "cell_type": "markdown",
   "id": "difficult-induction",
   "metadata": {},
   "source": [
    "Model już poprzednio osiągał bardzo wysoki wynik, dlatego po dobraniu hiperparametrów wynik ten zmienił się tylko o części tysięczne ale znowu widzimy większą poprawę na zbiorze przeskalowanym jednak wynik ten wciąż jest mniejszy niż na zbiorze oryginalnym"
   ]
  },
  {
   "cell_type": "code",
   "execution_count": null,
   "id": "dimensional-irrigation",
   "metadata": {},
   "outputs": [],
   "source": []
  }
 ],
 "metadata": {
  "kernelspec": {
   "display_name": "Python 3",
   "language": "python",
   "name": "python3"
  },
  "language_info": {
   "codemirror_mode": {
    "name": "ipython",
    "version": 3
   },
   "file_extension": ".py",
   "mimetype": "text/x-python",
   "name": "python",
   "nbconvert_exporter": "python",
   "pygments_lexer": "ipython3",
   "version": "3.7.3"
  }
 },
 "nbformat": 4,
 "nbformat_minor": 5
}
