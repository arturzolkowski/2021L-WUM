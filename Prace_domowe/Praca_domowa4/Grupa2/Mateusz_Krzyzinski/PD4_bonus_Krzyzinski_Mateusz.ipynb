{
 "cells": [
  {
   "cell_type": "markdown",
   "metadata": {},
   "source": [
    "# Zadanie bonusowe do PD4\n",
    "### Mateusz Krzyziński, grupa 2\n"
   ]
  },
  {
   "cell_type": "markdown",
   "metadata": {},
   "source": [
    "W tym zadaniu po raz kolejny wykrozystamy zbiór danych z PD2 (doyczący sprzedawanych na Allegro produktów). Będziemy uczyć modele regresji do prognozowania zmiennej price na podstawie zmiennych objaśniających: main_category, categories i it_location.\n",
    "\n",
    "W zakres zadania wchodzą:\n",
    "- zastosowanie target encodingu (należy przemyśleć parametr smoothing i wyjaśnić dlaczego jest on ważny)\n",
    "- nauczenie modelu liniowego do przewidywania ceny produktu\n",
    "- zastosowanie co najmniej dwóch wariantów regularyzacji i przeanalizowanie ich wpływu na jakość predykcji \n",
    "- nauczenie innego modelu regresyjnego\n",
    "- wykorzystanie miary RMSE i R2 do wybrania najlepszego wariantu modelu\n"
   ]
  },
  {
   "cell_type": "markdown",
   "metadata": {},
   "source": [
    "#### Import pakietów"
   ]
  },
  {
   "cell_type": "code",
   "execution_count": 3,
   "metadata": {},
   "outputs": [],
   "source": [
    "import numpy as np\n",
    "import pandas as pd\n",
    "import matplotlib.pyplot as plt\n",
    "import seaborn as sns\n",
    "import warnings\n",
    "warnings.filterwarnings('ignore')"
   ]
  },
  {
   "cell_type": "markdown",
   "metadata": {},
   "source": [
    "#### Wczytanie danych"
   ]
  },
  {
   "cell_type": "code",
   "execution_count": 4,
   "metadata": {},
   "outputs": [],
   "source": [
    "df = pd.read_csv(\"https://www.dropbox.com/s/360xhh2d9lnaek3/allegro-api-transactions.csv?dl=1\")"
   ]
  },
  {
   "cell_type": "code",
   "execution_count": 5,
   "metadata": {
    "scrolled": false
   },
   "outputs": [],
   "source": [
    "# ograniczamy ramkę do interesujących nas zmiennych\n",
    "df = df[['main_category', 'categories', 'it_location', 'price']]"
   ]
  },
  {
   "cell_type": "code",
   "execution_count": 7,
   "metadata": {},
   "outputs": [
    {
     "data": {
      "text/html": [
       "<div>\n",
       "<style scoped>\n",
       "    .dataframe tbody tr th:only-of-type {\n",
       "        vertical-align: middle;\n",
       "    }\n",
       "\n",
       "    .dataframe tbody tr th {\n",
       "        vertical-align: top;\n",
       "    }\n",
       "\n",
       "    .dataframe thead th {\n",
       "        text-align: right;\n",
       "    }\n",
       "</style>\n",
       "<table border=\"1\" class=\"dataframe\">\n",
       "  <thead>\n",
       "    <tr style=\"text-align: right;\">\n",
       "      <th></th>\n",
       "      <th>main_category</th>\n",
       "      <th>categories</th>\n",
       "      <th>it_location</th>\n",
       "      <th>price</th>\n",
       "    </tr>\n",
       "  </thead>\n",
       "  <tbody>\n",
       "    <tr>\n",
       "      <th>0</th>\n",
       "      <td>Komputery</td>\n",
       "      <td>['Komputery', 'Dyski i napędy', 'Nośniki', 'No...</td>\n",
       "      <td>Warszawa</td>\n",
       "      <td>59.99</td>\n",
       "    </tr>\n",
       "    <tr>\n",
       "      <th>1</th>\n",
       "      <td>Odzież, Obuwie, Dodatki</td>\n",
       "      <td>['Odzież, Obuwie, Dodatki', 'Bielizna damska',...</td>\n",
       "      <td>Warszawa</td>\n",
       "      <td>4.90</td>\n",
       "    </tr>\n",
       "    <tr>\n",
       "      <th>2</th>\n",
       "      <td>Dom i Ogród</td>\n",
       "      <td>['Dom i Ogród', 'Budownictwo i Akcesoria', 'Śc...</td>\n",
       "      <td>Leszno</td>\n",
       "      <td>109.90</td>\n",
       "    </tr>\n",
       "    <tr>\n",
       "      <th>3</th>\n",
       "      <td>Książki i Komiksy</td>\n",
       "      <td>['Książki i Komiksy', 'Poradniki i albumy', 'Z...</td>\n",
       "      <td>Wola Krzysztoporska</td>\n",
       "      <td>18.50</td>\n",
       "    </tr>\n",
       "    <tr>\n",
       "      <th>4</th>\n",
       "      <td>Odzież, Obuwie, Dodatki</td>\n",
       "      <td>['Odzież, Obuwie, Dodatki', 'Ślub i wesele', '...</td>\n",
       "      <td>BIAŁYSTOK</td>\n",
       "      <td>19.90</td>\n",
       "    </tr>\n",
       "    <tr>\n",
       "      <th>...</th>\n",
       "      <td>...</td>\n",
       "      <td>...</td>\n",
       "      <td>...</td>\n",
       "      <td>...</td>\n",
       "    </tr>\n",
       "    <tr>\n",
       "      <th>420015</th>\n",
       "      <td>RTV i AGD</td>\n",
       "      <td>['RTV i AGD', 'Sprzęt audio dla domu', 'Odtwar...</td>\n",
       "      <td>Kraśnik</td>\n",
       "      <td>180.00</td>\n",
       "    </tr>\n",
       "    <tr>\n",
       "      <th>420016</th>\n",
       "      <td>Uroda</td>\n",
       "      <td>['Uroda', 'Makijaż', 'Oczy', 'Tusze do rzęs']</td>\n",
       "      <td>Dzierżoniów</td>\n",
       "      <td>14.99</td>\n",
       "    </tr>\n",
       "    <tr>\n",
       "      <th>420017</th>\n",
       "      <td>Odzież, Obuwie, Dodatki</td>\n",
       "      <td>['Odzież, Obuwie, Dodatki', 'Przebrania, kosti...</td>\n",
       "      <td>Supraśl</td>\n",
       "      <td>5.99</td>\n",
       "    </tr>\n",
       "    <tr>\n",
       "      <th>420018</th>\n",
       "      <td>Dla Dzieci</td>\n",
       "      <td>['Dla Dzieci', 'Rowery i pojazdy', 'Rowery bie...</td>\n",
       "      <td>Poznań</td>\n",
       "      <td>200.00</td>\n",
       "    </tr>\n",
       "    <tr>\n",
       "      <th>420019</th>\n",
       "      <td>Motoryzacja</td>\n",
       "      <td>['Motoryzacja', 'Części samochodowe', 'Koła, f...</td>\n",
       "      <td>Pszów</td>\n",
       "      <td>500.00</td>\n",
       "    </tr>\n",
       "  </tbody>\n",
       "</table>\n",
       "<p>420020 rows × 4 columns</p>\n",
       "</div>"
      ],
      "text/plain": [
       "                  main_category  \\\n",
       "0                     Komputery   \n",
       "1       Odzież, Obuwie, Dodatki   \n",
       "2                   Dom i Ogród   \n",
       "3             Książki i Komiksy   \n",
       "4       Odzież, Obuwie, Dodatki   \n",
       "...                         ...   \n",
       "420015                RTV i AGD   \n",
       "420016                    Uroda   \n",
       "420017  Odzież, Obuwie, Dodatki   \n",
       "420018               Dla Dzieci   \n",
       "420019              Motoryzacja   \n",
       "\n",
       "                                               categories  \\\n",
       "0       ['Komputery', 'Dyski i napędy', 'Nośniki', 'No...   \n",
       "1       ['Odzież, Obuwie, Dodatki', 'Bielizna damska',...   \n",
       "2       ['Dom i Ogród', 'Budownictwo i Akcesoria', 'Śc...   \n",
       "3       ['Książki i Komiksy', 'Poradniki i albumy', 'Z...   \n",
       "4       ['Odzież, Obuwie, Dodatki', 'Ślub i wesele', '...   \n",
       "...                                                   ...   \n",
       "420015  ['RTV i AGD', 'Sprzęt audio dla domu', 'Odtwar...   \n",
       "420016      ['Uroda', 'Makijaż', 'Oczy', 'Tusze do rzęs']   \n",
       "420017  ['Odzież, Obuwie, Dodatki', 'Przebrania, kosti...   \n",
       "420018  ['Dla Dzieci', 'Rowery i pojazdy', 'Rowery bie...   \n",
       "420019  ['Motoryzacja', 'Części samochodowe', 'Koła, f...   \n",
       "\n",
       "                it_location   price  \n",
       "0                  Warszawa   59.99  \n",
       "1                  Warszawa    4.90  \n",
       "2                    Leszno  109.90  \n",
       "3       Wola Krzysztoporska   18.50  \n",
       "4                 BIAŁYSTOK   19.90  \n",
       "...                     ...     ...  \n",
       "420015              Kraśnik  180.00  \n",
       "420016          Dzierżoniów   14.99  \n",
       "420017              Supraśl    5.99  \n",
       "420018               Poznań  200.00  \n",
       "420019                Pszów  500.00  \n",
       "\n",
       "[420020 rows x 4 columns]"
      ]
     },
     "execution_count": 7,
     "metadata": {},
     "output_type": "execute_result"
    }
   ],
   "source": [
    "df"
   ]
  },
  {
   "cell_type": "code",
   "execution_count": 15,
   "metadata": {},
   "outputs": [
    {
     "name": "stdout",
     "output_type": "stream",
     "text": [
      "<class 'pandas.core.frame.DataFrame'>\n",
      "RangeIndex: 420020 entries, 0 to 420019\n",
      "Data columns (total 4 columns):\n",
      " #   Column         Non-Null Count   Dtype  \n",
      "---  ------         --------------   -----  \n",
      " 0   main_category  420020 non-null  object \n",
      " 1   categories     420020 non-null  object \n",
      " 2   it_location    420020 non-null  object \n",
      " 3   price          420020 non-null  float64\n",
      "dtypes: float64(1), object(3)\n",
      "memory usage: 12.8+ MB\n"
     ]
    }
   ],
   "source": [
    "df.info() #nie ma braków danych"
   ]
  },
  {
   "cell_type": "markdown",
   "metadata": {},
   "source": [
    "Zmienne, na podstawie których będziemy przewidywać cenę są zmiennymi kategorycznymi, w związku z tym będziemy je musieli zakodować w sposób numeryczny. Wykorzystamy do tego target encoding, wymagany w poleceniu zadania. "
   ]
  },
  {
   "cell_type": "markdown",
   "metadata": {},
   "source": [
    "### Target encoding "
   ]
  },
  {
   "cell_type": "markdown",
   "metadata": {},
   "source": [
    "Zanim wykonamy encoding przyjrzyjmy się najpierw kolumnom, które będziemy kodować. "
   ]
  },
  {
   "cell_type": "code",
   "execution_count": 10,
   "metadata": {},
   "outputs": [
    {
     "data": {
      "text/html": [
       "<div>\n",
       "<style scoped>\n",
       "    .dataframe tbody tr th:only-of-type {\n",
       "        vertical-align: middle;\n",
       "    }\n",
       "\n",
       "    .dataframe tbody tr th {\n",
       "        vertical-align: top;\n",
       "    }\n",
       "\n",
       "    .dataframe thead th {\n",
       "        text-align: right;\n",
       "    }\n",
       "</style>\n",
       "<table border=\"1\" class=\"dataframe\">\n",
       "  <thead>\n",
       "    <tr style=\"text-align: right;\">\n",
       "      <th></th>\n",
       "      <th>main_category</th>\n",
       "      <th>categories</th>\n",
       "      <th>it_location</th>\n",
       "    </tr>\n",
       "  </thead>\n",
       "  <tbody>\n",
       "    <tr>\n",
       "      <th>count</th>\n",
       "      <td>420020</td>\n",
       "      <td>420020</td>\n",
       "      <td>420020</td>\n",
       "    </tr>\n",
       "    <tr>\n",
       "      <th>unique</th>\n",
       "      <td>27</td>\n",
       "      <td>9020</td>\n",
       "      <td>10056</td>\n",
       "    </tr>\n",
       "    <tr>\n",
       "      <th>top</th>\n",
       "      <td>Dom i Ogród</td>\n",
       "      <td>['Dom i Ogród', 'Ogród', 'Rośliny', 'Rośliny o...</td>\n",
       "      <td>Warszawa</td>\n",
       "    </tr>\n",
       "    <tr>\n",
       "      <th>freq</th>\n",
       "      <td>91042</td>\n",
       "      <td>3753</td>\n",
       "      <td>23244</td>\n",
       "    </tr>\n",
       "  </tbody>\n",
       "</table>\n",
       "</div>"
      ],
      "text/plain": [
       "       main_category                                         categories  \\\n",
       "count         420020                                             420020   \n",
       "unique            27                                               9020   \n",
       "top      Dom i Ogród  ['Dom i Ogród', 'Ogród', 'Rośliny', 'Rośliny o...   \n",
       "freq           91042                                               3753   \n",
       "\n",
       "       it_location  \n",
       "count       420020  \n",
       "unique       10056  \n",
       "top       Warszawa  \n",
       "freq         23244  "
      ]
     },
     "execution_count": 10,
     "metadata": {},
     "output_type": "execute_result"
    }
   ],
   "source": [
    "df[['main_category', 'categories', 'it_location']].describe()"
   ]
  },
  {
   "cell_type": "markdown",
   "metadata": {},
   "source": [
    "W kolumnach categories i it_location mamy odpowiednio około 9 i 10 tysięcy unikalnych wartości. Zatem rzeczywiście target encoding jest odpowiednim rozwiązaniem (stosując np. one hot encoding stworzylibyśmy za dużo nowych kolumn). \n",
    "\n",
    "Na podstawie wiedzy z zadania PD2 wiemy, że możemy ograniczyć liczbę unikalnych wartości w kolumnie it_location. Nazwy miejscowości są zapisane bowiem w różny sposób (od wielkiej litery, tylko wielkimi literami etc.) - lokalizacja była zapewne wpisywana przez sprzedawców, a nie wybierana z listy. W związku z tym w celu ujednolicenia sposobu zapisu możemy zamienić wszystko na małe litery."
   ]
  },
  {
   "cell_type": "code",
   "execution_count": 6,
   "metadata": {},
   "outputs": [],
   "source": [
    "df[\"it_location\"] = df[\"it_location\"].str.lower()"
   ]
  },
  {
   "cell_type": "code",
   "execution_count": 7,
   "metadata": {},
   "outputs": [
    {
     "data": {
      "text/plain": [
       "count       420020\n",
       "unique        7903\n",
       "top       warszawa\n",
       "freq         27042\n",
       "Name: it_location, dtype: object"
      ]
     },
     "execution_count": 7,
     "metadata": {},
     "output_type": "execute_result"
    }
   ],
   "source": [
    "df[\"it_location\"].describe()"
   ]
  },
  {
   "cell_type": "markdown",
   "metadata": {},
   "source": [
    "Teraz mamy już ponad 2000 mniej unikalnych wartości i nie tworzymy sztucznych podziałów."
   ]
  },
  {
   "cell_type": "markdown",
   "metadata": {},
   "source": [
    "Chcąc przeprowadzić target encoding, musimy mieć na uwadze, że taki sposób kodowania zmiennych kategorycznych ma swoje wady: \n",
    "- zależność od zmiennej celu może prowadzić do przeuczania się modelu,\n",
    "- tracimy informacje o poszczególnych kategoriach (są one niejako grupowane względem odpowiedniej średniej), \n",
    "- w kategoriach o małej liczności średnia jest słabym parametrem i łatwo doprowadzić do overfittingu. \n",
    "\n",
    "W tym przypadku mamy wiele unikalnych wartości zmiennej kategorycznej i część z nich ma małą liczność. W takim wypadku skorzystanie ze zwykłej średniej z targetu może nie odzwierciedlać dobrze sytuacji. Na zbiorze testowym wynik będzie dobry, ale na testowym model nie poradzi sobie zbyt dobrze.\n",
    "\n",
    "Dlatego należy zastosować smoothing - wygładzanie. Gdy próbka jest zbyt mała, nie bierzemy jej średniej wprost, tylko wartość estymujemy z wykorzystaniem średniej globalnej, z całego zbioru. W ten sposób etykieta przyporządkowana obserwacjom z danej grupy jest obliczana na podstawie wzoru:\n",
    "$$ S_i = \\lambda(n_i) \\cdot \\mu_i + (1 - \\lambda(n_i)) \\cdot \\mu_X,$$ \n",
    "gdzie:\n",
    "- $n_i$ oznacza ilość obserwacji w $i$-tej grupie, \n",
    "- $\\mu_i$ - średnią z targetu dla obserwacji w $i$-tej grupie,  \n",
    "- $\\mu_X$ - średnią z targetu dla wszystkich obserwacji ze zbioru, \n",
    "- $\\lambda(n_i)$ jest rosnącą funkcją wielkości próbki $n_i$ o wartościach z zakresu $[0, 1]$.\n",
    "\n",
    "W implementacji TargetEncoder w pakiecie category_encoders funkcja lamda jest zdefiniowana jako: \n",
    "$$ \\lambda(n) = \\frac{1}{1 + exp(\\frac{-(n-k)}{f}) }  ,$$\n",
    "gdzie:\n",
    "- $n$ to wielkość próbki w danej grupie, \n",
    "- $k$ to parametr min_samples_leaf - minimalną liczbę obserwacji w grupie, żeby wziąć ją pod uwagę,\n",
    "- $f$ to parametr smoothing. \n",
    "\n",
    "Zatem i większy parametr smoothing, tym większa regularyzacja - mniejsze znaczenie ma średnia z targetu dla samej kategorii. \n",
    "\n",
    "\n",
    "\n",
    "\n",
    "Źródło: https://www.researchgate.net/publication/220520258_A_Preprocessing_Scheme_for_High-Cardinality_Categorical_Attributes_in_Classification_and_Prediction_Problems"
   ]
  },
  {
   "cell_type": "markdown",
   "metadata": {},
   "source": [
    "Spójrzmy jeszcze na to, jak wyglądają kolumny, które chcemy kodować w ten sposób. "
   ]
  },
  {
   "cell_type": "code",
   "execution_count": 9,
   "metadata": {},
   "outputs": [
    {
     "data": {
      "text/plain": [
       "Dom i Ogród                            91042\n",
       "Odzież, Obuwie, Dodatki                54257\n",
       "Motoryzacja                            45941\n",
       "Dla Dzieci                             42107\n",
       "Uroda                                  28096\n",
       "Sport i Turystyka                      27532\n",
       "RTV i AGD                              20341\n",
       "Telefony i Akcesoria                   19805\n",
       "Komputery                              14491\n",
       "Zdrowie                                13166\n",
       "Książki i Komiksy                      11572\n",
       "Delikatesy                              8074\n",
       "Gry                                     7150\n",
       "Rękodzieło                              6574\n",
       "Kolekcje                                6146\n",
       "Przemysł                                5959\n",
       "Biżuteria i Zegarki                     5808\n",
       "Biuro i Reklama                         3194\n",
       "Fotografia                              2381\n",
       "Muzyka                                  1961\n",
       "Antyki i Sztuka                         1214\n",
       "Konsole i automaty                      1053\n",
       "Filmy                                   1005\n",
       "Instrumenty                              617\n",
       "Sprzęt estradowy, studyjny i DJ-ski      413\n",
       "Bilety                                   119\n",
       "Nieruchomości                              2\n",
       "Name: main_category, dtype: int64"
      ]
     },
     "execution_count": 9,
     "metadata": {},
     "output_type": "execute_result"
    }
   ],
   "source": [
    "df['main_category'].value_counts()"
   ]
  },
  {
   "cell_type": "code",
   "execution_count": 12,
   "metadata": {},
   "outputs": [
    {
     "data": {
      "text/plain": [
       "['Dom i Ogród', 'Ogród', 'Rośliny', 'Rośliny owocowe']                                 3753\n",
       "['Dom i Ogród', 'Ogród', 'Rośliny', 'Drzewa i krzewy liściaste']                       2914\n",
       "['Dom i Ogród', 'Ogród', 'Rośliny', 'Bulwy, cebulki, kłącza']                          2693\n",
       "['Odzież, Obuwie, Dodatki', 'Odzież damska', 'Sukienki']                               2485\n",
       "['Motoryzacja', 'Opony', 'Opony samochodowe', 'Letnie']                                2473\n",
       "                                                                                       ... \n",
       "['Konsole i automaty', 'Nintendo (SNES i NES)', 'NES']                                    1\n",
       "['Kolekcje', 'Numizmatyka', 'Ameryka Pn. i Pd.', 'USA', 'obiegowe', 'do 1945 roku']       1\n",
       "['Kolekcje', 'Pieniądz papierowy', 'Afryka', 'Erytrea']                                   1\n",
       "['RTV i AGD', 'Sprzęt car audio', 'Radioodtwarzacze', 'CD', 'Fabryczne', 'BMW']           1\n",
       "['Komputery', 'Podzespoły bazowe', 'Płyty główne', 'Socket FM2']                          1\n",
       "Name: categories, Length: 9020, dtype: int64"
      ]
     },
     "execution_count": 12,
     "metadata": {},
     "output_type": "execute_result"
    }
   ],
   "source": [
    "df['categories'].value_counts() #widzimy, że nie trzeba ich rozdzielać, ciąg kategorii jednoznacznie ją definiuje \n",
    "#to zmienna z największą liczbą podgrup, w tym wiele z pojedynczą obserwacją"
   ]
  },
  {
   "cell_type": "code",
   "execution_count": 13,
   "metadata": {},
   "outputs": [
    {
     "data": {
      "text/plain": [
       "warszawa                             27042\n",
       "kraków                               16581\n",
       "łódź                                 12433\n",
       "poznań                               11197\n",
       "internet                             10992\n",
       "                                     ...  \n",
       "głogów małopolski, rudna mała 160        1\n",
       "jegłownik                                1\n",
       "gdów/kraków                              1\n",
       "gorzów okolice                           1\n",
       "wrocław, kazanów gm. strzelin            1\n",
       "Name: it_location, Length: 7903, dtype: int64"
      ]
     },
     "execution_count": 13,
     "metadata": {},
     "output_type": "execute_result"
    }
   ],
   "source": [
    "df['it_location'].value_counts()"
   ]
  },
  {
   "cell_type": "markdown",
   "metadata": {},
   "source": [
    "## Modelowanie"
   ]
  },
  {
   "cell_type": "code",
   "execution_count": 124,
   "metadata": {},
   "outputs": [],
   "source": [
    "from category_encoders import TargetEncoder\n",
    "from sklearn.pipeline import Pipeline\n",
    "from sklearn.compose import ColumnTransformer\n",
    "from sklearn.model_selection import train_test_split, GridSearchCV, RandomizedSearchCV\n",
    "from sklearn.linear_model import LinearRegression, Ridge, Lasso\n",
    "from sklearn.metrics import mean_squared_error, r2_score"
   ]
  },
  {
   "cell_type": "markdown",
   "metadata": {},
   "source": [
    "### Regresja liniowa"
   ]
  },
  {
   "cell_type": "code",
   "execution_count": 112,
   "metadata": {},
   "outputs": [],
   "source": [
    "X = df.drop(\"price\", axis=1)\n",
    "y = df[\"price\"]"
   ]
  },
  {
   "cell_type": "code",
   "execution_count": 114,
   "metadata": {},
   "outputs": [],
   "source": [
    "X_train, X_test, y_train, y_test = train_test_split(X, y, test_size=0.1, random_state=42)"
   ]
  },
  {
   "cell_type": "code",
   "execution_count": 120,
   "metadata": {
    "scrolled": true
   },
   "outputs": [
    {
     "name": "stdout",
     "output_type": "stream",
     "text": [
      "Fitting 3 folds for each of 18 candidates, totalling 54 fits\n",
      "[CV] encoder__min_samples_leaf=1, encoder__smoothing=0.01 ............\n"
     ]
    },
    {
     "name": "stderr",
     "output_type": "stream",
     "text": [
      "[Parallel(n_jobs=1)]: Using backend SequentialBackend with 1 concurrent workers.\n"
     ]
    },
    {
     "name": "stdout",
     "output_type": "stream",
     "text": [
      "[CV]  encoder__min_samples_leaf=1, encoder__smoothing=0.01, neg_root_mean_squared_error=-516.221, r2=0.058, total=   1.7s\n",
      "[CV] encoder__min_samples_leaf=1, encoder__smoothing=0.01 ............\n"
     ]
    },
    {
     "name": "stderr",
     "output_type": "stream",
     "text": [
      "[Parallel(n_jobs=1)]: Done   1 out of   1 | elapsed:    1.7s remaining:    0.0s\n"
     ]
    },
    {
     "name": "stdout",
     "output_type": "stream",
     "text": [
      "[CV]  encoder__min_samples_leaf=1, encoder__smoothing=0.01, neg_root_mean_squared_error=-348.576, r2=0.116, total=   1.6s\n",
      "[CV] encoder__min_samples_leaf=1, encoder__smoothing=0.01 ............\n"
     ]
    },
    {
     "name": "stderr",
     "output_type": "stream",
     "text": [
      "[Parallel(n_jobs=1)]: Done   2 out of   2 | elapsed:    3.3s remaining:    0.0s\n"
     ]
    },
    {
     "name": "stdout",
     "output_type": "stream",
     "text": [
      "[CV]  encoder__min_samples_leaf=1, encoder__smoothing=0.01, neg_root_mean_squared_error=-243.179, r2=0.187, total=   1.6s\n",
      "[CV] encoder__min_samples_leaf=1, encoder__smoothing=0.1 .............\n",
      "[CV]  encoder__min_samples_leaf=1, encoder__smoothing=0.1, neg_root_mean_squared_error=-516.221, r2=0.058, total=   1.7s\n",
      "[CV] encoder__min_samples_leaf=1, encoder__smoothing=0.1 .............\n",
      "[CV]  encoder__min_samples_leaf=1, encoder__smoothing=0.1, neg_root_mean_squared_error=-348.576, r2=0.116, total=   1.8s\n",
      "[CV] encoder__min_samples_leaf=1, encoder__smoothing=0.1 .............\n",
      "[CV]  encoder__min_samples_leaf=1, encoder__smoothing=0.1, neg_root_mean_squared_error=-243.179, r2=0.187, total=   1.7s\n",
      "[CV] encoder__min_samples_leaf=1, encoder__smoothing=1.0 .............\n",
      "[CV]  encoder__min_samples_leaf=1, encoder__smoothing=1.0, neg_root_mean_squared_error=-516.983, r2=0.055, total=   1.6s\n",
      "[CV] encoder__min_samples_leaf=1, encoder__smoothing=1.0 .............\n",
      "[CV]  encoder__min_samples_leaf=1, encoder__smoothing=1.0, neg_root_mean_squared_error=-348.664, r2=0.115, total=   2.0s\n",
      "[CV] encoder__min_samples_leaf=1, encoder__smoothing=1.0 .............\n",
      "[CV]  encoder__min_samples_leaf=1, encoder__smoothing=1.0, neg_root_mean_squared_error=-243.181, r2=0.187, total=   1.9s\n",
      "[CV] encoder__min_samples_leaf=1, encoder__smoothing=10.0 ............\n",
      "[CV]  encoder__min_samples_leaf=1, encoder__smoothing=10.0, neg_root_mean_squared_error=-518.001, r2=0.052, total=   1.4s\n",
      "[CV] encoder__min_samples_leaf=1, encoder__smoothing=10.0 ............\n",
      "[CV]  encoder__min_samples_leaf=1, encoder__smoothing=10.0, neg_root_mean_squared_error=-349.417, r2=0.112, total=   1.6s\n",
      "[CV] encoder__min_samples_leaf=1, encoder__smoothing=10.0 ............\n",
      "[CV]  encoder__min_samples_leaf=1, encoder__smoothing=10.0, neg_root_mean_squared_error=-243.516, r2=0.185, total=   1.4s\n",
      "[CV] encoder__min_samples_leaf=1, encoder__smoothing=100.0 ...........\n",
      "[CV]  encoder__min_samples_leaf=1, encoder__smoothing=100.0, neg_root_mean_squared_error=-517.828, r2=0.052, total=   2.0s\n",
      "[CV] encoder__min_samples_leaf=1, encoder__smoothing=100.0 ...........\n",
      "[CV]  encoder__min_samples_leaf=1, encoder__smoothing=100.0, neg_root_mean_squared_error=-350.192, r2=0.108, total=   1.6s\n",
      "[CV] encoder__min_samples_leaf=1, encoder__smoothing=100.0 ...........\n",
      "[CV]  encoder__min_samples_leaf=1, encoder__smoothing=100.0, neg_root_mean_squared_error=-244.381, r2=0.179, total=   2.0s\n",
      "[CV] encoder__min_samples_leaf=1, encoder__smoothing=1000.0 ..........\n",
      "[CV]  encoder__min_samples_leaf=1, encoder__smoothing=1000.0, neg_root_mean_squared_error=-516.762, r2=0.056, total=   1.7s\n",
      "[CV] encoder__min_samples_leaf=1, encoder__smoothing=1000.0 ..........\n",
      "[CV]  encoder__min_samples_leaf=1, encoder__smoothing=1000.0, neg_root_mean_squared_error=-349.339, r2=0.112, total=   1.7s\n",
      "[CV] encoder__min_samples_leaf=1, encoder__smoothing=1000.0 ..........\n",
      "[CV]  encoder__min_samples_leaf=1, encoder__smoothing=1000.0, neg_root_mean_squared_error=-243.788, r2=0.183, total=   2.0s\n",
      "[CV] encoder__min_samples_leaf=2, encoder__smoothing=0.01 ............\n",
      "[CV]  encoder__min_samples_leaf=2, encoder__smoothing=0.01, neg_root_mean_squared_error=-518.191, r2=0.051, total=   2.1s\n",
      "[CV] encoder__min_samples_leaf=2, encoder__smoothing=0.01 ............\n",
      "[CV]  encoder__min_samples_leaf=2, encoder__smoothing=0.01, neg_root_mean_squared_error=-348.533, r2=0.116, total=   2.0s\n",
      "[CV] encoder__min_samples_leaf=2, encoder__smoothing=0.01 ............\n",
      "[CV]  encoder__min_samples_leaf=2, encoder__smoothing=0.01, neg_root_mean_squared_error=-245.096, r2=0.174, total=   2.0s\n",
      "[CV] encoder__min_samples_leaf=2, encoder__smoothing=0.1 .............\n",
      "[CV]  encoder__min_samples_leaf=2, encoder__smoothing=0.1, neg_root_mean_squared_error=-518.191, r2=0.051, total=   1.7s\n",
      "[CV] encoder__min_samples_leaf=2, encoder__smoothing=0.1 .............\n",
      "[CV]  encoder__min_samples_leaf=2, encoder__smoothing=0.1, neg_root_mean_squared_error=-348.533, r2=0.116, total=   1.6s\n",
      "[CV] encoder__min_samples_leaf=2, encoder__smoothing=0.1 .............\n",
      "[CV]  encoder__min_samples_leaf=2, encoder__smoothing=0.1, neg_root_mean_squared_error=-245.096, r2=0.174, total=   2.2s\n",
      "[CV] encoder__min_samples_leaf=2, encoder__smoothing=1.0 .............\n",
      "[CV]  encoder__min_samples_leaf=2, encoder__smoothing=1.0, neg_root_mean_squared_error=-518.112, r2=0.051, total=   1.6s\n",
      "[CV] encoder__min_samples_leaf=2, encoder__smoothing=1.0 .............\n",
      "[CV]  encoder__min_samples_leaf=2, encoder__smoothing=1.0, neg_root_mean_squared_error=-348.871, r2=0.114, total=   1.7s\n",
      "[CV] encoder__min_samples_leaf=2, encoder__smoothing=1.0 .............\n",
      "[CV]  encoder__min_samples_leaf=2, encoder__smoothing=1.0, neg_root_mean_squared_error=-244.119, r2=0.181, total=   1.7s\n",
      "[CV] encoder__min_samples_leaf=2, encoder__smoothing=10.0 ............\n",
      "[CV]  encoder__min_samples_leaf=2, encoder__smoothing=10.0, neg_root_mean_squared_error=-518.170, r2=0.051, total=   1.8s\n",
      "[CV] encoder__min_samples_leaf=2, encoder__smoothing=10.0 ............\n",
      "[CV]  encoder__min_samples_leaf=2, encoder__smoothing=10.0, neg_root_mean_squared_error=-349.493, r2=0.111, total=   1.5s\n",
      "[CV] encoder__min_samples_leaf=2, encoder__smoothing=10.0 ............\n",
      "[CV]  encoder__min_samples_leaf=2, encoder__smoothing=10.0, neg_root_mean_squared_error=-243.669, r2=0.184, total=   1.5s\n",
      "[CV] encoder__min_samples_leaf=2, encoder__smoothing=100.0 ...........\n",
      "[CV]  encoder__min_samples_leaf=2, encoder__smoothing=100.0, neg_root_mean_squared_error=-517.850, r2=0.052, total=   2.0s\n",
      "[CV] encoder__min_samples_leaf=2, encoder__smoothing=100.0 ...........\n",
      "[CV]  encoder__min_samples_leaf=2, encoder__smoothing=100.0, neg_root_mean_squared_error=-350.213, r2=0.107, total=   2.2s\n",
      "[CV] encoder__min_samples_leaf=2, encoder__smoothing=100.0 ...........\n",
      "[CV]  encoder__min_samples_leaf=2, encoder__smoothing=100.0, neg_root_mean_squared_error=-244.414, r2=0.179, total=   2.2s\n",
      "[CV] encoder__min_samples_leaf=2, encoder__smoothing=1000.0 ..........\n",
      "[CV]  encoder__min_samples_leaf=2, encoder__smoothing=1000.0, neg_root_mean_squared_error=-516.763, r2=0.056, total=   2.0s\n",
      "[CV] encoder__min_samples_leaf=2, encoder__smoothing=1000.0 ..........\n",
      "[CV]  encoder__min_samples_leaf=2, encoder__smoothing=1000.0, neg_root_mean_squared_error=-349.340, r2=0.112, total=   1.5s\n",
      "[CV] encoder__min_samples_leaf=2, encoder__smoothing=1000.0 ..........\n",
      "[CV]  encoder__min_samples_leaf=2, encoder__smoothing=1000.0, neg_root_mean_squared_error=-243.790, r2=0.183, total=   1.4s\n",
      "[CV] encoder__min_samples_leaf=3, encoder__smoothing=0.01 ............\n",
      "[CV]  encoder__min_samples_leaf=3, encoder__smoothing=0.01, neg_root_mean_squared_error=-516.834, r2=0.056, total=   2.0s\n",
      "[CV] encoder__min_samples_leaf=3, encoder__smoothing=0.01 ............\n",
      "[CV]  encoder__min_samples_leaf=3, encoder__smoothing=0.01, neg_root_mean_squared_error=-348.892, r2=0.114, total=   2.0s\n",
      "[CV] encoder__min_samples_leaf=3, encoder__smoothing=0.01 ............\n",
      "[CV]  encoder__min_samples_leaf=3, encoder__smoothing=0.01, neg_root_mean_squared_error=-239.748, r2=0.210, total=   1.9s\n",
      "[CV] encoder__min_samples_leaf=3, encoder__smoothing=0.1 .............\n",
      "[CV]  encoder__min_samples_leaf=3, encoder__smoothing=0.1, neg_root_mean_squared_error=-516.834, r2=0.056, total=   1.6s\n",
      "[CV] encoder__min_samples_leaf=3, encoder__smoothing=0.1 .............\n",
      "[CV]  encoder__min_samples_leaf=3, encoder__smoothing=0.1, neg_root_mean_squared_error=-348.892, r2=0.114, total=   1.5s\n",
      "[CV] encoder__min_samples_leaf=3, encoder__smoothing=0.1 .............\n",
      "[CV]  encoder__min_samples_leaf=3, encoder__smoothing=0.1, neg_root_mean_squared_error=-239.747, r2=0.210, total=   1.4s\n",
      "[CV] encoder__min_samples_leaf=3, encoder__smoothing=1.0 .............\n",
      "[CV]  encoder__min_samples_leaf=3, encoder__smoothing=1.0, neg_root_mean_squared_error=-518.283, r2=0.051, total=   1.6s\n",
      "[CV] encoder__min_samples_leaf=3, encoder__smoothing=1.0 .............\n",
      "[CV]  encoder__min_samples_leaf=3, encoder__smoothing=1.0, neg_root_mean_squared_error=-349.243, r2=0.112, total=   2.2s\n",
      "[CV] encoder__min_samples_leaf=3, encoder__smoothing=1.0 .............\n",
      "[CV]  encoder__min_samples_leaf=3, encoder__smoothing=1.0, neg_root_mean_squared_error=-242.630, r2=0.191, total=   1.4s\n",
      "[CV] encoder__min_samples_leaf=3, encoder__smoothing=10.0 ............\n"
     ]
    },
    {
     "name": "stdout",
     "output_type": "stream",
     "text": [
      "[CV]  encoder__min_samples_leaf=3, encoder__smoothing=10.0, neg_root_mean_squared_error=-518.341, r2=0.050, total=   1.6s\n",
      "[CV] encoder__min_samples_leaf=3, encoder__smoothing=10.0 ............\n",
      "[CV]  encoder__min_samples_leaf=3, encoder__smoothing=10.0, neg_root_mean_squared_error=-349.572, r2=0.111, total=   1.8s\n",
      "[CV] encoder__min_samples_leaf=3, encoder__smoothing=10.0 ............\n",
      "[CV]  encoder__min_samples_leaf=3, encoder__smoothing=10.0, neg_root_mean_squared_error=-243.824, r2=0.183, total=   1.7s\n",
      "[CV] encoder__min_samples_leaf=3, encoder__smoothing=100.0 ...........\n",
      "[CV]  encoder__min_samples_leaf=3, encoder__smoothing=100.0, neg_root_mean_squared_error=-517.872, r2=0.052, total=   2.4s\n",
      "[CV] encoder__min_samples_leaf=3, encoder__smoothing=100.0 ...........\n",
      "[CV]  encoder__min_samples_leaf=3, encoder__smoothing=100.0, neg_root_mean_squared_error=-350.234, r2=0.107, total=   2.0s\n",
      "[CV] encoder__min_samples_leaf=3, encoder__smoothing=100.0 ...........\n",
      "[CV]  encoder__min_samples_leaf=3, encoder__smoothing=100.0, neg_root_mean_squared_error=-244.447, r2=0.178, total=   1.9s\n",
      "[CV] encoder__min_samples_leaf=3, encoder__smoothing=1000.0 ..........\n",
      "[CV]  encoder__min_samples_leaf=3, encoder__smoothing=1000.0, neg_root_mean_squared_error=-516.763, r2=0.056, total=   1.7s\n",
      "[CV] encoder__min_samples_leaf=3, encoder__smoothing=1000.0 ..........\n",
      "[CV]  encoder__min_samples_leaf=3, encoder__smoothing=1000.0, neg_root_mean_squared_error=-349.341, r2=0.112, total=   1.4s\n",
      "[CV] encoder__min_samples_leaf=3, encoder__smoothing=1000.0 ..........\n",
      "[CV]  encoder__min_samples_leaf=3, encoder__smoothing=1000.0, neg_root_mean_squared_error=-243.791, r2=0.183, total=   1.4s\n"
     ]
    },
    {
     "name": "stderr",
     "output_type": "stream",
     "text": [
      "[Parallel(n_jobs=1)]: Done  54 out of  54 | elapsed:  1.6min finished\n"
     ]
    },
    {
     "data": {
      "text/plain": [
       "GridSearchCV(cv=3, error_score=nan,\n",
       "             estimator=Pipeline(memory=None,\n",
       "                                steps=[('encoder',\n",
       "                                        TargetEncoder(cols=None,\n",
       "                                                      drop_invariant=False,\n",
       "                                                      handle_missing='value',\n",
       "                                                      handle_unknown='value',\n",
       "                                                      min_samples_leaf=1,\n",
       "                                                      return_df=True,\n",
       "                                                      smoothing=1.0,\n",
       "                                                      verbose=0)),\n",
       "                                       ('LinReg',\n",
       "                                        LinearRegression(copy_X=True,\n",
       "                                                         fit_intercept=True,\n",
       "                                                         n_jobs=None,\n",
       "                                                         normalize=False))],\n",
       "                                verbose=False),\n",
       "             iid='deprecated', n_jobs=None,\n",
       "             param_grid={'encoder__min_samples_leaf': [1, 2, 3],\n",
       "                         'encoder__smoothing': [0.01, 0.1, 1.0, 10.0, 100.0,\n",
       "                                                1000.0]},\n",
       "             pre_dispatch='2*n_jobs', refit='neg_root_mean_squared_error',\n",
       "             return_train_score=False,\n",
       "             scoring=['neg_root_mean_squared_error', 'r2'], verbose=3)"
      ]
     },
     "execution_count": 120,
     "metadata": {},
     "output_type": "execute_result"
    }
   ],
   "source": [
    "lr = Pipeline(steps=[('encoder', TargetEncoder()),  \n",
    "                     ('LinReg', LinearRegression())])  \n",
    "\n",
    "param_grid = {'encoder__smoothing': [0.01, 0.1, 1., 10., 100., 1000.],\n",
    "              'encoder__min_samples_leaf': [1, 2, 3]}\n",
    "\n",
    "\n",
    "lr_tuned = GridSearchCV(lr, param_grid,\n",
    "                          cv = 3, \n",
    "                          scoring = ['neg_root_mean_squared_error', 'r2'], \n",
    "                          refit = 'neg_root_mean_squared_error',\n",
    "                          verbose = 3)\n",
    "\n",
    "lr_tuned.fit(X_train, y_train)"
   ]
  },
  {
   "cell_type": "code",
   "execution_count": 133,
   "metadata": {},
   "outputs": [
    {
     "data": {
      "text/plain": [
       "-368.4911705309187"
      ]
     },
     "execution_count": 133,
     "metadata": {},
     "output_type": "execute_result"
    }
   ],
   "source": [
    "lr_tuned.best_score_"
   ]
  },
  {
   "cell_type": "code",
   "execution_count": 150,
   "metadata": {},
   "outputs": [
    {
     "data": {
      "text/plain": [
       "{'encoder__min_samples_leaf': 3, 'encoder__smoothing': 0.1}"
      ]
     },
     "execution_count": 150,
     "metadata": {},
     "output_type": "execute_result"
    }
   ],
   "source": [
    "lr_tuned.best_params_"
   ]
  },
  {
   "cell_type": "code",
   "execution_count": 122,
   "metadata": {},
   "outputs": [
    {
     "name": "stdout",
     "output_type": "stream",
     "text": [
      "RMSE: 171.0608\n",
      "R^2 score: 0.3383\n"
     ]
    }
   ],
   "source": [
    "y_hat_lr_tuned = lr_tuned.predict(X_test)\n",
    "print(f\"\"\"RMSE: {mean_squared_error(y_test, y_hat_lr_tuned, squared=False):.4f}\n",
    "R^2 score: {r2_score(y_test, y_hat_lr_tuned):.4f}\"\"\")"
   ]
  },
  {
   "cell_type": "markdown",
   "metadata": {},
   "source": [
    "### Ridge \n",
    "Regresja z regularyzacją L2 (do funkcji straty dodawany jest składnik ograniczający wartość wag $\\lambda||w||^2$, gdzie $||w||^2$ to suma kwadratów współczynników i $\\lambda$ jest parametrem). "
   ]
  },
  {
   "cell_type": "code",
   "execution_count": 128,
   "metadata": {},
   "outputs": [
    {
     "name": "stdout",
     "output_type": "stream",
     "text": [
      "Fitting 3 folds for each of 25 candidates, totalling 75 fits\n",
      "[CV] encoder__smoothing=1000.0, encoder__min_samples_leaf=1, Ridge__alpha=1 \n"
     ]
    },
    {
     "name": "stderr",
     "output_type": "stream",
     "text": [
      "[Parallel(n_jobs=1)]: Using backend SequentialBackend with 1 concurrent workers.\n"
     ]
    },
    {
     "name": "stdout",
     "output_type": "stream",
     "text": [
      "[CV]  encoder__smoothing=1000.0, encoder__min_samples_leaf=1, Ridge__alpha=1, neg_root_mean_squared_error=-516.762, r2=0.056, total=   1.8s\n",
      "[CV] encoder__smoothing=1000.0, encoder__min_samples_leaf=1, Ridge__alpha=1 \n"
     ]
    },
    {
     "name": "stderr",
     "output_type": "stream",
     "text": [
      "[Parallel(n_jobs=1)]: Done   1 out of   1 | elapsed:    1.8s remaining:    0.0s\n"
     ]
    },
    {
     "name": "stdout",
     "output_type": "stream",
     "text": [
      "[CV]  encoder__smoothing=1000.0, encoder__min_samples_leaf=1, Ridge__alpha=1, neg_root_mean_squared_error=-349.339, r2=0.112, total=   1.7s\n",
      "[CV] encoder__smoothing=1000.0, encoder__min_samples_leaf=1, Ridge__alpha=1 \n"
     ]
    },
    {
     "name": "stderr",
     "output_type": "stream",
     "text": [
      "[Parallel(n_jobs=1)]: Done   2 out of   2 | elapsed:    3.6s remaining:    0.0s\n"
     ]
    },
    {
     "name": "stdout",
     "output_type": "stream",
     "text": [
      "[CV]  encoder__smoothing=1000.0, encoder__min_samples_leaf=1, Ridge__alpha=1, neg_root_mean_squared_error=-243.788, r2=0.183, total=   1.8s\n",
      "[CV] encoder__smoothing=1000.0, encoder__min_samples_leaf=1, Ridge__alpha=0.1 \n",
      "[CV]  encoder__smoothing=1000.0, encoder__min_samples_leaf=1, Ridge__alpha=0.1, neg_root_mean_squared_error=-516.762, r2=0.056, total=   1.5s\n",
      "[CV] encoder__smoothing=1000.0, encoder__min_samples_leaf=1, Ridge__alpha=0.1 \n",
      "[CV]  encoder__smoothing=1000.0, encoder__min_samples_leaf=1, Ridge__alpha=0.1, neg_root_mean_squared_error=-349.339, r2=0.112, total=   1.5s\n",
      "[CV] encoder__smoothing=1000.0, encoder__min_samples_leaf=1, Ridge__alpha=0.1 \n",
      "[CV]  encoder__smoothing=1000.0, encoder__min_samples_leaf=1, Ridge__alpha=0.1, neg_root_mean_squared_error=-243.788, r2=0.183, total=   1.4s\n",
      "[CV] encoder__smoothing=1.0, encoder__min_samples_leaf=3, Ridge__alpha=1 \n",
      "[CV]  encoder__smoothing=1.0, encoder__min_samples_leaf=3, Ridge__alpha=1, neg_root_mean_squared_error=-518.283, r2=0.051, total=   1.4s\n",
      "[CV] encoder__smoothing=1.0, encoder__min_samples_leaf=3, Ridge__alpha=1 \n",
      "[CV]  encoder__smoothing=1.0, encoder__min_samples_leaf=3, Ridge__alpha=1, neg_root_mean_squared_error=-349.243, r2=0.112, total=   1.5s\n",
      "[CV] encoder__smoothing=1.0, encoder__min_samples_leaf=3, Ridge__alpha=1 \n",
      "[CV]  encoder__smoothing=1.0, encoder__min_samples_leaf=3, Ridge__alpha=1, neg_root_mean_squared_error=-242.630, r2=0.191, total=   1.9s\n",
      "[CV] encoder__smoothing=100.0, encoder__min_samples_leaf=3, Ridge__alpha=1 \n",
      "[CV]  encoder__smoothing=100.0, encoder__min_samples_leaf=3, Ridge__alpha=1, neg_root_mean_squared_error=-517.872, r2=0.052, total=   1.5s\n",
      "[CV] encoder__smoothing=100.0, encoder__min_samples_leaf=3, Ridge__alpha=1 \n",
      "[CV]  encoder__smoothing=100.0, encoder__min_samples_leaf=3, Ridge__alpha=1, neg_root_mean_squared_error=-350.234, r2=0.107, total=   1.5s\n",
      "[CV] encoder__smoothing=100.0, encoder__min_samples_leaf=3, Ridge__alpha=1 \n",
      "[CV]  encoder__smoothing=100.0, encoder__min_samples_leaf=3, Ridge__alpha=1, neg_root_mean_squared_error=-244.447, r2=0.178, total=   1.6s\n",
      "[CV] encoder__smoothing=1000.0, encoder__min_samples_leaf=3, Ridge__alpha=10 \n",
      "[CV]  encoder__smoothing=1000.0, encoder__min_samples_leaf=3, Ridge__alpha=10, neg_root_mean_squared_error=-516.763, r2=0.056, total=   1.4s\n",
      "[CV] encoder__smoothing=1000.0, encoder__min_samples_leaf=3, Ridge__alpha=10 \n",
      "[CV]  encoder__smoothing=1000.0, encoder__min_samples_leaf=3, Ridge__alpha=10, neg_root_mean_squared_error=-349.341, r2=0.112, total=   1.5s\n",
      "[CV] encoder__smoothing=1000.0, encoder__min_samples_leaf=3, Ridge__alpha=10 \n",
      "[CV]  encoder__smoothing=1000.0, encoder__min_samples_leaf=3, Ridge__alpha=10, neg_root_mean_squared_error=-243.791, r2=0.183, total=   1.4s\n",
      "[CV] encoder__smoothing=0.1, encoder__min_samples_leaf=3, Ridge__alpha=0.1 \n",
      "[CV]  encoder__smoothing=0.1, encoder__min_samples_leaf=3, Ridge__alpha=0.1, neg_root_mean_squared_error=-516.834, r2=0.056, total=   1.4s\n",
      "[CV] encoder__smoothing=0.1, encoder__min_samples_leaf=3, Ridge__alpha=0.1 \n",
      "[CV]  encoder__smoothing=0.1, encoder__min_samples_leaf=3, Ridge__alpha=0.1, neg_root_mean_squared_error=-348.892, r2=0.114, total=   1.4s\n",
      "[CV] encoder__smoothing=0.1, encoder__min_samples_leaf=3, Ridge__alpha=0.1 \n",
      "[CV]  encoder__smoothing=0.1, encoder__min_samples_leaf=3, Ridge__alpha=0.1, neg_root_mean_squared_error=-239.747, r2=0.210, total=   1.4s\n",
      "[CV] encoder__smoothing=1.0, encoder__min_samples_leaf=2, Ridge__alpha=100 \n",
      "[CV]  encoder__smoothing=1.0, encoder__min_samples_leaf=2, Ridge__alpha=100, neg_root_mean_squared_error=-518.112, r2=0.051, total=   1.4s\n",
      "[CV] encoder__smoothing=1.0, encoder__min_samples_leaf=2, Ridge__alpha=100 \n",
      "[CV]  encoder__smoothing=1.0, encoder__min_samples_leaf=2, Ridge__alpha=100, neg_root_mean_squared_error=-348.871, r2=0.114, total=   1.4s\n",
      "[CV] encoder__smoothing=1.0, encoder__min_samples_leaf=2, Ridge__alpha=100 \n",
      "[CV]  encoder__smoothing=1.0, encoder__min_samples_leaf=2, Ridge__alpha=100, neg_root_mean_squared_error=-244.119, r2=0.181, total=   1.5s\n",
      "[CV] encoder__smoothing=10.0, encoder__min_samples_leaf=1, Ridge__alpha=100 \n",
      "[CV]  encoder__smoothing=10.0, encoder__min_samples_leaf=1, Ridge__alpha=100, neg_root_mean_squared_error=-518.001, r2=0.052, total=   1.5s\n",
      "[CV] encoder__smoothing=10.0, encoder__min_samples_leaf=1, Ridge__alpha=100 \n",
      "[CV]  encoder__smoothing=10.0, encoder__min_samples_leaf=1, Ridge__alpha=100, neg_root_mean_squared_error=-349.417, r2=0.112, total=   1.6s\n",
      "[CV] encoder__smoothing=10.0, encoder__min_samples_leaf=1, Ridge__alpha=100 \n",
      "[CV]  encoder__smoothing=10.0, encoder__min_samples_leaf=1, Ridge__alpha=100, neg_root_mean_squared_error=-243.516, r2=0.185, total=   1.6s\n",
      "[CV] encoder__smoothing=1000.0, encoder__min_samples_leaf=2, Ridge__alpha=1000 \n",
      "[CV]  encoder__smoothing=1000.0, encoder__min_samples_leaf=2, Ridge__alpha=1000, neg_root_mean_squared_error=-516.763, r2=0.056, total=   1.6s\n",
      "[CV] encoder__smoothing=1000.0, encoder__min_samples_leaf=2, Ridge__alpha=1000 \n",
      "[CV]  encoder__smoothing=1000.0, encoder__min_samples_leaf=2, Ridge__alpha=1000, neg_root_mean_squared_error=-349.340, r2=0.112, total=   1.6s\n",
      "[CV] encoder__smoothing=1000.0, encoder__min_samples_leaf=2, Ridge__alpha=1000 \n",
      "[CV]  encoder__smoothing=1000.0, encoder__min_samples_leaf=2, Ridge__alpha=1000, neg_root_mean_squared_error=-243.789, r2=0.183, total=   1.6s\n",
      "[CV] encoder__smoothing=1000.0, encoder__min_samples_leaf=1, Ridge__alpha=100 \n",
      "[CV]  encoder__smoothing=1000.0, encoder__min_samples_leaf=1, Ridge__alpha=100, neg_root_mean_squared_error=-516.762, r2=0.056, total=   1.5s\n",
      "[CV] encoder__smoothing=1000.0, encoder__min_samples_leaf=1, Ridge__alpha=100 \n",
      "[CV]  encoder__smoothing=1000.0, encoder__min_samples_leaf=1, Ridge__alpha=100, neg_root_mean_squared_error=-349.339, r2=0.112, total=   1.4s\n",
      "[CV] encoder__smoothing=1000.0, encoder__min_samples_leaf=1, Ridge__alpha=100 \n",
      "[CV]  encoder__smoothing=1000.0, encoder__min_samples_leaf=1, Ridge__alpha=100, neg_root_mean_squared_error=-243.788, r2=0.183, total=   1.6s\n",
      "[CV] encoder__smoothing=10.0, encoder__min_samples_leaf=2, Ridge__alpha=100 \n",
      "[CV]  encoder__smoothing=10.0, encoder__min_samples_leaf=2, Ridge__alpha=100, neg_root_mean_squared_error=-518.170, r2=0.051, total=   1.8s\n",
      "[CV] encoder__smoothing=10.0, encoder__min_samples_leaf=2, Ridge__alpha=100 \n",
      "[CV]  encoder__smoothing=10.0, encoder__min_samples_leaf=2, Ridge__alpha=100, neg_root_mean_squared_error=-349.493, r2=0.111, total=   1.7s\n",
      "[CV] encoder__smoothing=10.0, encoder__min_samples_leaf=2, Ridge__alpha=100 \n",
      "[CV]  encoder__smoothing=10.0, encoder__min_samples_leaf=2, Ridge__alpha=100, neg_root_mean_squared_error=-243.669, r2=0.184, total=   1.5s\n",
      "[CV] encoder__smoothing=1000.0, encoder__min_samples_leaf=2, Ridge__alpha=100 \n",
      "[CV]  encoder__smoothing=1000.0, encoder__min_samples_leaf=2, Ridge__alpha=100, neg_root_mean_squared_error=-516.763, r2=0.056, total=   1.5s\n",
      "[CV] encoder__smoothing=1000.0, encoder__min_samples_leaf=2, Ridge__alpha=100 \n",
      "[CV]  encoder__smoothing=1000.0, encoder__min_samples_leaf=2, Ridge__alpha=100, neg_root_mean_squared_error=-349.340, r2=0.112, total=   1.5s\n",
      "[CV] encoder__smoothing=1000.0, encoder__min_samples_leaf=2, Ridge__alpha=100 \n",
      "[CV]  encoder__smoothing=1000.0, encoder__min_samples_leaf=2, Ridge__alpha=100, neg_root_mean_squared_error=-243.790, r2=0.183, total=   1.5s\n",
      "[CV] encoder__smoothing=1.0, encoder__min_samples_leaf=1, Ridge__alpha=0.01 \n",
      "[CV]  encoder__smoothing=1.0, encoder__min_samples_leaf=1, Ridge__alpha=0.01, neg_root_mean_squared_error=-516.983, r2=0.055, total=   1.5s\n",
      "[CV] encoder__smoothing=1.0, encoder__min_samples_leaf=1, Ridge__alpha=0.01 \n",
      "[CV]  encoder__smoothing=1.0, encoder__min_samples_leaf=1, Ridge__alpha=0.01, neg_root_mean_squared_error=-348.664, r2=0.115, total=   1.4s\n",
      "[CV] encoder__smoothing=1.0, encoder__min_samples_leaf=1, Ridge__alpha=0.01 \n",
      "[CV]  encoder__smoothing=1.0, encoder__min_samples_leaf=1, Ridge__alpha=0.01, neg_root_mean_squared_error=-243.181, r2=0.187, total=   1.5s\n",
      "[CV] encoder__smoothing=1.0, encoder__min_samples_leaf=2, Ridge__alpha=10 \n",
      "[CV]  encoder__smoothing=1.0, encoder__min_samples_leaf=2, Ridge__alpha=10, neg_root_mean_squared_error=-518.112, r2=0.051, total=   1.4s\n",
      "[CV] encoder__smoothing=1.0, encoder__min_samples_leaf=2, Ridge__alpha=10 \n"
     ]
    },
    {
     "name": "stdout",
     "output_type": "stream",
     "text": [
      "[CV]  encoder__smoothing=1.0, encoder__min_samples_leaf=2, Ridge__alpha=10, neg_root_mean_squared_error=-348.871, r2=0.114, total=   1.5s\n",
      "[CV] encoder__smoothing=1.0, encoder__min_samples_leaf=2, Ridge__alpha=10 \n",
      "[CV]  encoder__smoothing=1.0, encoder__min_samples_leaf=2, Ridge__alpha=10, neg_root_mean_squared_error=-244.119, r2=0.181, total=   1.4s\n",
      "[CV] encoder__smoothing=10.0, encoder__min_samples_leaf=1, Ridge__alpha=1000 \n",
      "[CV]  encoder__smoothing=10.0, encoder__min_samples_leaf=1, Ridge__alpha=1000, neg_root_mean_squared_error=-518.001, r2=0.052, total=   1.4s\n",
      "[CV] encoder__smoothing=10.0, encoder__min_samples_leaf=1, Ridge__alpha=1000 \n",
      "[CV]  encoder__smoothing=10.0, encoder__min_samples_leaf=1, Ridge__alpha=1000, neg_root_mean_squared_error=-349.417, r2=0.112, total=   1.8s\n",
      "[CV] encoder__smoothing=10.0, encoder__min_samples_leaf=1, Ridge__alpha=1000 \n",
      "[CV]  encoder__smoothing=10.0, encoder__min_samples_leaf=1, Ridge__alpha=1000, neg_root_mean_squared_error=-243.516, r2=0.185, total=   1.7s\n",
      "[CV] encoder__smoothing=0.1, encoder__min_samples_leaf=3, Ridge__alpha=10 \n",
      "[CV]  encoder__smoothing=0.1, encoder__min_samples_leaf=3, Ridge__alpha=10, neg_root_mean_squared_error=-516.834, r2=0.056, total=   1.7s\n",
      "[CV] encoder__smoothing=0.1, encoder__min_samples_leaf=3, Ridge__alpha=10 \n",
      "[CV]  encoder__smoothing=0.1, encoder__min_samples_leaf=3, Ridge__alpha=10, neg_root_mean_squared_error=-348.892, r2=0.114, total=   1.8s\n",
      "[CV] encoder__smoothing=0.1, encoder__min_samples_leaf=3, Ridge__alpha=10 \n",
      "[CV]  encoder__smoothing=0.1, encoder__min_samples_leaf=3, Ridge__alpha=10, neg_root_mean_squared_error=-239.747, r2=0.210, total=   1.7s\n",
      "[CV] encoder__smoothing=1.0, encoder__min_samples_leaf=2, Ridge__alpha=0.01 \n",
      "[CV]  encoder__smoothing=1.0, encoder__min_samples_leaf=2, Ridge__alpha=0.01, neg_root_mean_squared_error=-518.112, r2=0.051, total=   1.7s\n",
      "[CV] encoder__smoothing=1.0, encoder__min_samples_leaf=2, Ridge__alpha=0.01 \n",
      "[CV]  encoder__smoothing=1.0, encoder__min_samples_leaf=2, Ridge__alpha=0.01, neg_root_mean_squared_error=-348.871, r2=0.114, total=   1.7s\n",
      "[CV] encoder__smoothing=1.0, encoder__min_samples_leaf=2, Ridge__alpha=0.01 \n",
      "[CV]  encoder__smoothing=1.0, encoder__min_samples_leaf=2, Ridge__alpha=0.01, neg_root_mean_squared_error=-244.119, r2=0.181, total=   1.7s\n",
      "[CV] encoder__smoothing=100.0, encoder__min_samples_leaf=1, Ridge__alpha=100 \n",
      "[CV]  encoder__smoothing=100.0, encoder__min_samples_leaf=1, Ridge__alpha=100, neg_root_mean_squared_error=-517.828, r2=0.052, total=   1.6s\n",
      "[CV] encoder__smoothing=100.0, encoder__min_samples_leaf=1, Ridge__alpha=100 \n",
      "[CV]  encoder__smoothing=100.0, encoder__min_samples_leaf=1, Ridge__alpha=100, neg_root_mean_squared_error=-350.192, r2=0.108, total=   1.5s\n",
      "[CV] encoder__smoothing=100.0, encoder__min_samples_leaf=1, Ridge__alpha=100 \n",
      "[CV]  encoder__smoothing=100.0, encoder__min_samples_leaf=1, Ridge__alpha=100, neg_root_mean_squared_error=-244.381, r2=0.179, total=   1.8s\n",
      "[CV] encoder__smoothing=100.0, encoder__min_samples_leaf=2, Ridge__alpha=10 \n",
      "[CV]  encoder__smoothing=100.0, encoder__min_samples_leaf=2, Ridge__alpha=10, neg_root_mean_squared_error=-517.850, r2=0.052, total=   1.5s\n",
      "[CV] encoder__smoothing=100.0, encoder__min_samples_leaf=2, Ridge__alpha=10 \n",
      "[CV]  encoder__smoothing=100.0, encoder__min_samples_leaf=2, Ridge__alpha=10, neg_root_mean_squared_error=-350.213, r2=0.107, total=   1.7s\n",
      "[CV] encoder__smoothing=100.0, encoder__min_samples_leaf=2, Ridge__alpha=10 \n",
      "[CV]  encoder__smoothing=100.0, encoder__min_samples_leaf=2, Ridge__alpha=10, neg_root_mean_squared_error=-244.414, r2=0.179, total=   1.5s\n",
      "[CV] encoder__smoothing=1.0, encoder__min_samples_leaf=3, Ridge__alpha=0.1 \n",
      "[CV]  encoder__smoothing=1.0, encoder__min_samples_leaf=3, Ridge__alpha=0.1, neg_root_mean_squared_error=-518.283, r2=0.051, total=   1.8s\n",
      "[CV] encoder__smoothing=1.0, encoder__min_samples_leaf=3, Ridge__alpha=0.1 \n",
      "[CV]  encoder__smoothing=1.0, encoder__min_samples_leaf=3, Ridge__alpha=0.1, neg_root_mean_squared_error=-349.243, r2=0.112, total=   2.3s\n",
      "[CV] encoder__smoothing=1.0, encoder__min_samples_leaf=3, Ridge__alpha=0.1 \n",
      "[CV]  encoder__smoothing=1.0, encoder__min_samples_leaf=3, Ridge__alpha=0.1, neg_root_mean_squared_error=-242.630, r2=0.191, total=   3.0s\n",
      "[CV] encoder__smoothing=0.1, encoder__min_samples_leaf=1, Ridge__alpha=10 \n",
      "[CV]  encoder__smoothing=0.1, encoder__min_samples_leaf=1, Ridge__alpha=10, neg_root_mean_squared_error=-516.221, r2=0.058, total=   2.7s\n",
      "[CV] encoder__smoothing=0.1, encoder__min_samples_leaf=1, Ridge__alpha=10 \n",
      "[CV]  encoder__smoothing=0.1, encoder__min_samples_leaf=1, Ridge__alpha=10, neg_root_mean_squared_error=-348.576, r2=0.116, total=   2.9s\n",
      "[CV] encoder__smoothing=0.1, encoder__min_samples_leaf=1, Ridge__alpha=10 \n",
      "[CV]  encoder__smoothing=0.1, encoder__min_samples_leaf=1, Ridge__alpha=10, neg_root_mean_squared_error=-243.179, r2=0.187, total=   2.7s\n",
      "[CV] encoder__smoothing=1000.0, encoder__min_samples_leaf=3, Ridge__alpha=0.1 \n",
      "[CV]  encoder__smoothing=1000.0, encoder__min_samples_leaf=3, Ridge__alpha=0.1, neg_root_mean_squared_error=-516.763, r2=0.056, total=   2.4s\n",
      "[CV] encoder__smoothing=1000.0, encoder__min_samples_leaf=3, Ridge__alpha=0.1 \n",
      "[CV]  encoder__smoothing=1000.0, encoder__min_samples_leaf=3, Ridge__alpha=0.1, neg_root_mean_squared_error=-349.341, r2=0.112, total=   3.0s\n",
      "[CV] encoder__smoothing=1000.0, encoder__min_samples_leaf=3, Ridge__alpha=0.1 \n",
      "[CV]  encoder__smoothing=1000.0, encoder__min_samples_leaf=3, Ridge__alpha=0.1, neg_root_mean_squared_error=-243.791, r2=0.183, total=   2.5s\n",
      "[CV] encoder__smoothing=1000.0, encoder__min_samples_leaf=2, Ridge__alpha=1 \n",
      "[CV]  encoder__smoothing=1000.0, encoder__min_samples_leaf=2, Ridge__alpha=1, neg_root_mean_squared_error=-516.763, r2=0.056, total=   2.5s\n",
      "[CV] encoder__smoothing=1000.0, encoder__min_samples_leaf=2, Ridge__alpha=1 \n",
      "[CV]  encoder__smoothing=1000.0, encoder__min_samples_leaf=2, Ridge__alpha=1, neg_root_mean_squared_error=-349.340, r2=0.112, total=   2.1s\n",
      "[CV] encoder__smoothing=1000.0, encoder__min_samples_leaf=2, Ridge__alpha=1 \n",
      "[CV]  encoder__smoothing=1000.0, encoder__min_samples_leaf=2, Ridge__alpha=1, neg_root_mean_squared_error=-243.790, r2=0.183, total=   2.0s\n",
      "[CV] encoder__smoothing=1000.0, encoder__min_samples_leaf=3, Ridge__alpha=1000 \n",
      "[CV]  encoder__smoothing=1000.0, encoder__min_samples_leaf=3, Ridge__alpha=1000, neg_root_mean_squared_error=-516.763, r2=0.056, total=   1.7s\n",
      "[CV] encoder__smoothing=1000.0, encoder__min_samples_leaf=3, Ridge__alpha=1000 \n",
      "[CV]  encoder__smoothing=1000.0, encoder__min_samples_leaf=3, Ridge__alpha=1000, neg_root_mean_squared_error=-349.341, r2=0.112, total=   1.6s\n",
      "[CV] encoder__smoothing=1000.0, encoder__min_samples_leaf=3, Ridge__alpha=1000 \n",
      "[CV]  encoder__smoothing=1000.0, encoder__min_samples_leaf=3, Ridge__alpha=1000, neg_root_mean_squared_error=-243.791, r2=0.183, total=   1.5s\n",
      "[CV] encoder__smoothing=0.1, encoder__min_samples_leaf=1, Ridge__alpha=0.01 \n",
      "[CV]  encoder__smoothing=0.1, encoder__min_samples_leaf=1, Ridge__alpha=0.01, neg_root_mean_squared_error=-516.221, r2=0.058, total=   2.1s\n",
      "[CV] encoder__smoothing=0.1, encoder__min_samples_leaf=1, Ridge__alpha=0.01 \n",
      "[CV]  encoder__smoothing=0.1, encoder__min_samples_leaf=1, Ridge__alpha=0.01, neg_root_mean_squared_error=-348.576, r2=0.116, total=   1.6s\n",
      "[CV] encoder__smoothing=0.1, encoder__min_samples_leaf=1, Ridge__alpha=0.01 \n",
      "[CV]  encoder__smoothing=0.1, encoder__min_samples_leaf=1, Ridge__alpha=0.01, neg_root_mean_squared_error=-243.179, r2=0.187, total=   1.9s\n"
     ]
    },
    {
     "name": "stderr",
     "output_type": "stream",
     "text": [
      "[Parallel(n_jobs=1)]: Done  75 out of  75 | elapsed:  2.2min finished\n"
     ]
    },
    {
     "data": {
      "text/plain": [
       "RandomizedSearchCV(cv=3, error_score=nan,\n",
       "                   estimator=Pipeline(memory=None,\n",
       "                                      steps=[('encoder',\n",
       "                                              TargetEncoder(cols=None,\n",
       "                                                            drop_invariant=False,\n",
       "                                                            handle_missing='value',\n",
       "                                                            handle_unknown='value',\n",
       "                                                            min_samples_leaf=1,\n",
       "                                                            return_df=True,\n",
       "                                                            smoothing=1.0,\n",
       "                                                            verbose=0)),\n",
       "                                             ('Ridge',\n",
       "                                              Ridge(alpha=1.0, copy_X=True,\n",
       "                                                    fit_intercept=True,\n",
       "                                                    max_iter=None,\n",
       "                                                    normalize=False,\n",
       "                                                    random_state=None,\n",
       "                                                    solver...\n",
       "                                      verbose=False),\n",
       "                   iid='deprecated', n_iter=25, n_jobs=None,\n",
       "                   param_distributions={'Ridge__alpha': [0.01, 0.1, 1, 10, 100,\n",
       "                                                         1000],\n",
       "                                        'encoder__min_samples_leaf': [1, 2, 3],\n",
       "                                        'encoder__smoothing': [0.1, 1.0, 10.0,\n",
       "                                                               100.0, 1000.0]},\n",
       "                   pre_dispatch='2*n_jobs', random_state=None,\n",
       "                   refit='neg_root_mean_squared_error',\n",
       "                   return_train_score=False,\n",
       "                   scoring=['neg_root_mean_squared_error', 'r2'], verbose=3)"
      ]
     },
     "execution_count": 128,
     "metadata": {},
     "output_type": "execute_result"
    }
   ],
   "source": [
    "ridge = Pipeline(steps=[('encoder', TargetEncoder()),  \n",
    "                     ('Ridge', Ridge())])  \n",
    "\n",
    "\n",
    "param_grid = {'encoder__smoothing': [0.1, 1., 10., 100., 1000.],\n",
    "              'encoder__min_samples_leaf': [1, 2, 3],\n",
    "              'Ridge__alpha': [0.01, 0.1, 1, 10, 100, 1000]}\n",
    "\n",
    "\n",
    "ridge_tuned = RandomizedSearchCV(ridge, param_grid,\n",
    "                          cv = 3, \n",
    "                          scoring = ['neg_root_mean_squared_error', 'r2'], \n",
    "                          refit = 'neg_root_mean_squared_error',\n",
    "                          verbose = 3,\n",
    "                          n_iter = 25)\n",
    "\n",
    "ridge_tuned.fit(X_train, y_train)"
   ]
  },
  {
   "cell_type": "code",
   "execution_count": 132,
   "metadata": {},
   "outputs": [
    {
     "data": {
      "text/plain": [
       "-368.4911704987159"
      ]
     },
     "execution_count": 132,
     "metadata": {},
     "output_type": "execute_result"
    }
   ],
   "source": [
    "ridge_tuned.best_score_"
   ]
  },
  {
   "cell_type": "code",
   "execution_count": 149,
   "metadata": {},
   "outputs": [
    {
     "data": {
      "text/plain": [
       "{'encoder__smoothing': 0.1, 'encoder__min_samples_leaf': 3, 'Ridge__alpha': 10}"
      ]
     },
     "execution_count": 149,
     "metadata": {},
     "output_type": "execute_result"
    }
   ],
   "source": [
    "ridge_tuned.best_params_"
   ]
  },
  {
   "cell_type": "code",
   "execution_count": 130,
   "metadata": {},
   "outputs": [
    {
     "name": "stdout",
     "output_type": "stream",
     "text": [
      "RMSE: 171.0608\n",
      "R^2 score: 0.3383\n"
     ]
    }
   ],
   "source": [
    "y_hat_ridge_tuned = ridge_tuned.predict(X_test)\n",
    "print(f\"\"\"RMSE: {mean_squared_error(y_test, y_hat_ridge_tuned, squared=False):.4f}\n",
    "R^2 score: {r2_score(y_test, y_hat_ridge_tuned):.4f}\"\"\")"
   ]
  },
  {
   "cell_type": "markdown",
   "metadata": {},
   "source": [
    "Zastosowanie regularyzacji L2 nie zmieniło wyniku."
   ]
  },
  {
   "cell_type": "markdown",
   "metadata": {},
   "source": [
    "### Lasso\n",
    "Regresja z regularyzacją L1 (do funkcji straty dodawany jest składnik ograniczający wartość wag $\\lambda \\sum_{i=1}^n |w_i|$, gdzie $\\sum_{i=1}^n |w_i|$ to suma wartości bezwzględnych wag i $\\lambda $ jest parametrem). "
   ]
  },
  {
   "cell_type": "code",
   "execution_count": 139,
   "metadata": {},
   "outputs": [
    {
     "data": {
      "text/plain": [
       "RandomizedSearchCV(cv=3, error_score=nan,\n",
       "                   estimator=Pipeline(memory=None,\n",
       "                                      steps=[('encoder',\n",
       "                                              TargetEncoder(cols=None,\n",
       "                                                            drop_invariant=False,\n",
       "                                                            handle_missing='value',\n",
       "                                                            handle_unknown='value',\n",
       "                                                            min_samples_leaf=1,\n",
       "                                                            return_df=True,\n",
       "                                                            smoothing=1.0,\n",
       "                                                            verbose=0)),\n",
       "                                             ('Lasso',\n",
       "                                              Lasso(alpha=1.0, copy_X=True,\n",
       "                                                    fit_intercept=True,\n",
       "                                                    max_iter=1000,\n",
       "                                                    normalize=False,\n",
       "                                                    positive=False,\n",
       "                                                    precomput...\n",
       "                                      verbose=False),\n",
       "                   iid='deprecated', n_iter=25, n_jobs=None,\n",
       "                   param_distributions={'Lasso__alpha': [0.01, 0.1, 1, 10, 100,\n",
       "                                                         1000],\n",
       "                                        'encoder__min_samples_leaf': [1, 2, 3],\n",
       "                                        'encoder__smoothing': [0.1, 1.0, 10.0,\n",
       "                                                               100.0, 1000.0]},\n",
       "                   pre_dispatch='2*n_jobs', random_state=None,\n",
       "                   refit='neg_root_mean_squared_error',\n",
       "                   return_train_score=False,\n",
       "                   scoring=['neg_root_mean_squared_error', 'r2'], verbose=0)"
      ]
     },
     "execution_count": 139,
     "metadata": {},
     "output_type": "execute_result"
    }
   ],
   "source": [
    "lasso = Pipeline(steps=[('encoder', TargetEncoder()),  \n",
    "                     ('Lasso', Lasso())])  \n",
    "\n",
    "\n",
    "param_grid = {'encoder__smoothing': [0.1, 1., 10., 100., 1000.],\n",
    "              'encoder__min_samples_leaf': [1, 2, 3],\n",
    "              'Lasso__alpha': [0.01, 0.1, 1, 10, 100, 1000]}\n",
    "\n",
    "\n",
    "lasso_tuned = RandomizedSearchCV(lasso, param_grid,\n",
    "                          cv = 3, \n",
    "                          scoring = ['neg_root_mean_squared_error', 'r2'], \n",
    "                          refit = 'neg_root_mean_squared_error',\n",
    "                          n_iter = 25)\n",
    "\n",
    "lasso_tuned.fit(X_train, y_train)"
   ]
  },
  {
   "cell_type": "code",
   "execution_count": 141,
   "metadata": {},
   "outputs": [
    {
     "data": {
      "text/plain": [
       "-368.4151410433715"
      ]
     },
     "execution_count": 141,
     "metadata": {},
     "output_type": "execute_result"
    }
   ],
   "source": [
    "lasso_tuned.best_score_"
   ]
  },
  {
   "cell_type": "code",
   "execution_count": 148,
   "metadata": {},
   "outputs": [
    {
     "data": {
      "text/plain": [
       "{'encoder__smoothing': 0.1,\n",
       " 'encoder__min_samples_leaf': 3,\n",
       " 'Lasso__alpha': 100}"
      ]
     },
     "execution_count": 148,
     "metadata": {},
     "output_type": "execute_result"
    }
   ],
   "source": [
    "lasso_tuned.best_params_"
   ]
  },
  {
   "cell_type": "code",
   "execution_count": 140,
   "metadata": {},
   "outputs": [
    {
     "name": "stdout",
     "output_type": "stream",
     "text": [
      "RMSE: 170.8879\n",
      "R^2 score: 0.3397\n"
     ]
    }
   ],
   "source": [
    "y_hat_lasso_tuned = lasso_tuned.predict(X_test)\n",
    "print(f\"\"\"RMSE: {mean_squared_error(y_test, y_hat_lasso_tuned, squared=False):.4f}\n",
    "R^2 score: {r2_score(y_test, y_hat_lasso_tuned):.4f}\"\"\")"
   ]
  },
  {
   "cell_type": "markdown",
   "metadata": {},
   "source": [
    "Zastosowanie regularyzacji L1 nieznacznie poprawiło jakość modelu. "
   ]
  },
  {
   "cell_type": "markdown",
   "metadata": {},
   "source": [
    "### Inny model regresyjny - XGBoost"
   ]
  },
  {
   "cell_type": "code",
   "execution_count": 137,
   "metadata": {},
   "outputs": [],
   "source": [
    "from xgboost import XGBRegressor"
   ]
  },
  {
   "cell_type": "code",
   "execution_count": 143,
   "metadata": {
    "scrolled": true
   },
   "outputs": [
    {
     "name": "stdout",
     "output_type": "stream",
     "text": [
      "Fitting 3 folds for each of 25 candidates, totalling 75 fits\n",
      "[CV] encoder__smoothing=0.1, encoder__min_samples_leaf=2, XGB__n_estimators=100, XGB__max_depth=1 \n"
     ]
    },
    {
     "name": "stderr",
     "output_type": "stream",
     "text": [
      "[Parallel(n_jobs=1)]: Using backend SequentialBackend with 1 concurrent workers.\n"
     ]
    },
    {
     "name": "stdout",
     "output_type": "stream",
     "text": [
      "[CV]  encoder__smoothing=0.1, encoder__min_samples_leaf=2, XGB__n_estimators=100, XGB__max_depth=1, neg_root_mean_squared_error=-516.061, r2=0.059, total=   3.8s\n",
      "[CV] encoder__smoothing=0.1, encoder__min_samples_leaf=2, XGB__n_estimators=100, XGB__max_depth=1 \n"
     ]
    },
    {
     "name": "stderr",
     "output_type": "stream",
     "text": [
      "[Parallel(n_jobs=1)]: Done   1 out of   1 | elapsed:    3.8s remaining:    0.0s\n"
     ]
    },
    {
     "name": "stdout",
     "output_type": "stream",
     "text": [
      "[CV]  encoder__smoothing=0.1, encoder__min_samples_leaf=2, XGB__n_estimators=100, XGB__max_depth=1, neg_root_mean_squared_error=-347.084, r2=0.123, total=   3.5s\n",
      "[CV] encoder__smoothing=0.1, encoder__min_samples_leaf=2, XGB__n_estimators=100, XGB__max_depth=1 \n"
     ]
    },
    {
     "name": "stderr",
     "output_type": "stream",
     "text": [
      "[Parallel(n_jobs=1)]: Done   2 out of   2 | elapsed:    7.4s remaining:    0.0s\n"
     ]
    },
    {
     "name": "stdout",
     "output_type": "stream",
     "text": [
      "[CV]  encoder__smoothing=0.1, encoder__min_samples_leaf=2, XGB__n_estimators=100, XGB__max_depth=1, neg_root_mean_squared_error=-244.717, r2=0.177, total=   3.5s\n",
      "[CV] encoder__smoothing=1.0, encoder__min_samples_leaf=2, XGB__n_estimators=100, XGB__max_depth=2 \n",
      "[CV]  encoder__smoothing=1.0, encoder__min_samples_leaf=2, XGB__n_estimators=100, XGB__max_depth=2, neg_root_mean_squared_error=-514.107, r2=0.066, total=   5.1s\n",
      "[CV] encoder__smoothing=1.0, encoder__min_samples_leaf=2, XGB__n_estimators=100, XGB__max_depth=2 \n",
      "[CV]  encoder__smoothing=1.0, encoder__min_samples_leaf=2, XGB__n_estimators=100, XGB__max_depth=2, neg_root_mean_squared_error=-349.094, r2=0.113, total=   4.7s\n",
      "[CV] encoder__smoothing=1.0, encoder__min_samples_leaf=2, XGB__n_estimators=100, XGB__max_depth=2 \n",
      "[CV]  encoder__smoothing=1.0, encoder__min_samples_leaf=2, XGB__n_estimators=100, XGB__max_depth=2, neg_root_mean_squared_error=-240.986, r2=0.202, total=   6.4s\n",
      "[CV] encoder__smoothing=1000.0, encoder__min_samples_leaf=1, XGB__n_estimators=25, XGB__max_depth=3 \n",
      "[CV]  encoder__smoothing=1000.0, encoder__min_samples_leaf=1, XGB__n_estimators=25, XGB__max_depth=3, neg_root_mean_squared_error=-514.767, r2=0.063, total=   3.4s\n",
      "[CV] encoder__smoothing=1000.0, encoder__min_samples_leaf=1, XGB__n_estimators=25, XGB__max_depth=3 \n",
      "[CV]  encoder__smoothing=1000.0, encoder__min_samples_leaf=1, XGB__n_estimators=25, XGB__max_depth=3, neg_root_mean_squared_error=-339.478, r2=0.161, total=   3.4s\n",
      "[CV] encoder__smoothing=1000.0, encoder__min_samples_leaf=1, XGB__n_estimators=25, XGB__max_depth=3 \n",
      "[CV]  encoder__smoothing=1000.0, encoder__min_samples_leaf=1, XGB__n_estimators=25, XGB__max_depth=3, neg_root_mean_squared_error=-234.590, r2=0.243, total=   3.1s\n",
      "[CV] encoder__smoothing=100.0, encoder__min_samples_leaf=1, XGB__n_estimators=50, XGB__max_depth=2 \n",
      "[CV]  encoder__smoothing=100.0, encoder__min_samples_leaf=1, XGB__n_estimators=50, XGB__max_depth=2, neg_root_mean_squared_error=-514.158, r2=0.066, total=   3.4s\n",
      "[CV] encoder__smoothing=100.0, encoder__min_samples_leaf=1, XGB__n_estimators=50, XGB__max_depth=2 \n",
      "[CV]  encoder__smoothing=100.0, encoder__min_samples_leaf=1, XGB__n_estimators=50, XGB__max_depth=2, neg_root_mean_squared_error=-346.706, r2=0.125, total=   4.0s\n",
      "[CV] encoder__smoothing=100.0, encoder__min_samples_leaf=1, XGB__n_estimators=50, XGB__max_depth=2 \n",
      "[CV]  encoder__smoothing=100.0, encoder__min_samples_leaf=1, XGB__n_estimators=50, XGB__max_depth=2, neg_root_mean_squared_error=-236.730, r2=0.230, total=   3.7s\n",
      "[CV] encoder__smoothing=0.1, encoder__min_samples_leaf=3, XGB__n_estimators=50, XGB__max_depth=1 \n",
      "[CV]  encoder__smoothing=0.1, encoder__min_samples_leaf=3, XGB__n_estimators=50, XGB__max_depth=1, neg_root_mean_squared_error=-516.603, r2=0.057, total=   3.0s\n",
      "[CV] encoder__smoothing=0.1, encoder__min_samples_leaf=3, XGB__n_estimators=50, XGB__max_depth=1 \n",
      "[CV]  encoder__smoothing=0.1, encoder__min_samples_leaf=3, XGB__n_estimators=50, XGB__max_depth=1, neg_root_mean_squared_error=-348.013, r2=0.119, total=   2.8s\n",
      "[CV] encoder__smoothing=0.1, encoder__min_samples_leaf=3, XGB__n_estimators=50, XGB__max_depth=1 \n",
      "[CV]  encoder__smoothing=0.1, encoder__min_samples_leaf=3, XGB__n_estimators=50, XGB__max_depth=1, neg_root_mean_squared_error=-242.910, r2=0.189, total=   3.5s\n",
      "[CV] encoder__smoothing=1000.0, encoder__min_samples_leaf=3, XGB__n_estimators=100, XGB__max_depth=2 \n",
      "[CV]  encoder__smoothing=1000.0, encoder__min_samples_leaf=3, XGB__n_estimators=100, XGB__max_depth=2, neg_root_mean_squared_error=-513.868, r2=0.067, total=   6.0s\n",
      "[CV] encoder__smoothing=1000.0, encoder__min_samples_leaf=3, XGB__n_estimators=100, XGB__max_depth=2 \n",
      "[CV]  encoder__smoothing=1000.0, encoder__min_samples_leaf=3, XGB__n_estimators=100, XGB__max_depth=2, neg_root_mean_squared_error=-347.311, r2=0.122, total=   6.3s\n",
      "[CV] encoder__smoothing=1000.0, encoder__min_samples_leaf=3, XGB__n_estimators=100, XGB__max_depth=2 \n",
      "[CV]  encoder__smoothing=1000.0, encoder__min_samples_leaf=3, XGB__n_estimators=100, XGB__max_depth=2, neg_root_mean_squared_error=-234.882, r2=0.242, total=   5.3s\n",
      "[CV] encoder__smoothing=10.0, encoder__min_samples_leaf=2, XGB__n_estimators=25, XGB__max_depth=1 \n",
      "[CV]  encoder__smoothing=10.0, encoder__min_samples_leaf=2, XGB__n_estimators=25, XGB__max_depth=1, neg_root_mean_squared_error=-516.516, r2=0.057, total=   2.4s\n",
      "[CV] encoder__smoothing=10.0, encoder__min_samples_leaf=2, XGB__n_estimators=25, XGB__max_depth=1 \n",
      "[CV]  encoder__smoothing=10.0, encoder__min_samples_leaf=2, XGB__n_estimators=25, XGB__max_depth=1, neg_root_mean_squared_error=-348.531, r2=0.116, total=   2.2s\n",
      "[CV] encoder__smoothing=10.0, encoder__min_samples_leaf=2, XGB__n_estimators=25, XGB__max_depth=1 \n",
      "[CV]  encoder__smoothing=10.0, encoder__min_samples_leaf=2, XGB__n_estimators=25, XGB__max_depth=1, neg_root_mean_squared_error=-243.528, r2=0.185, total=   3.0s\n",
      "[CV] encoder__smoothing=1.0, encoder__min_samples_leaf=3, XGB__n_estimators=25, XGB__max_depth=1 \n",
      "[CV]  encoder__smoothing=1.0, encoder__min_samples_leaf=3, XGB__n_estimators=25, XGB__max_depth=1, neg_root_mean_squared_error=-516.587, r2=0.057, total=   2.3s\n",
      "[CV] encoder__smoothing=1.0, encoder__min_samples_leaf=3, XGB__n_estimators=25, XGB__max_depth=1 \n",
      "[CV]  encoder__smoothing=1.0, encoder__min_samples_leaf=3, XGB__n_estimators=25, XGB__max_depth=1, neg_root_mean_squared_error=-348.508, r2=0.116, total=   2.6s\n",
      "[CV] encoder__smoothing=1.0, encoder__min_samples_leaf=3, XGB__n_estimators=25, XGB__max_depth=1 \n",
      "[CV]  encoder__smoothing=1.0, encoder__min_samples_leaf=3, XGB__n_estimators=25, XGB__max_depth=1, neg_root_mean_squared_error=-242.809, r2=0.189, total=   2.3s\n",
      "[CV] encoder__smoothing=1.0, encoder__min_samples_leaf=3, XGB__n_estimators=100, XGB__max_depth=1 \n",
      "[CV]  encoder__smoothing=1.0, encoder__min_samples_leaf=3, XGB__n_estimators=100, XGB__max_depth=1, neg_root_mean_squared_error=-516.071, r2=0.059, total=   4.7s\n",
      "[CV] encoder__smoothing=1.0, encoder__min_samples_leaf=3, XGB__n_estimators=100, XGB__max_depth=1 \n",
      "[CV]  encoder__smoothing=1.0, encoder__min_samples_leaf=3, XGB__n_estimators=100, XGB__max_depth=1, neg_root_mean_squared_error=-347.639, r2=0.121, total=   4.7s\n",
      "[CV] encoder__smoothing=1.0, encoder__min_samples_leaf=3, XGB__n_estimators=100, XGB__max_depth=1 \n",
      "[CV]  encoder__smoothing=1.0, encoder__min_samples_leaf=3, XGB__n_estimators=100, XGB__max_depth=1, neg_root_mean_squared_error=-246.127, r2=0.167, total=   4.0s\n",
      "[CV] encoder__smoothing=0.1, encoder__min_samples_leaf=3, XGB__n_estimators=100, XGB__max_depth=2 \n",
      "[CV]  encoder__smoothing=0.1, encoder__min_samples_leaf=3, XGB__n_estimators=100, XGB__max_depth=2, neg_root_mean_squared_error=-515.175, r2=0.062, total=   5.0s\n",
      "[CV] encoder__smoothing=0.1, encoder__min_samples_leaf=3, XGB__n_estimators=100, XGB__max_depth=2 \n",
      "[CV]  encoder__smoothing=0.1, encoder__min_samples_leaf=3, XGB__n_estimators=100, XGB__max_depth=2, neg_root_mean_squared_error=-352.299, r2=0.097, total=   5.8s\n",
      "[CV] encoder__smoothing=0.1, encoder__min_samples_leaf=3, XGB__n_estimators=100, XGB__max_depth=2 \n",
      "[CV]  encoder__smoothing=0.1, encoder__min_samples_leaf=3, XGB__n_estimators=100, XGB__max_depth=2, neg_root_mean_squared_error=-234.824, r2=0.242, total=   7.9s\n",
      "[CV] encoder__smoothing=0.1, encoder__min_samples_leaf=1, XGB__n_estimators=50, XGB__max_depth=2 \n",
      "[CV]  encoder__smoothing=0.1, encoder__min_samples_leaf=1, XGB__n_estimators=50, XGB__max_depth=2, neg_root_mean_squared_error=-513.914, r2=0.067, total=   4.0s\n",
      "[CV] encoder__smoothing=0.1, encoder__min_samples_leaf=1, XGB__n_estimators=50, XGB__max_depth=2 \n",
      "[CV]  encoder__smoothing=0.1, encoder__min_samples_leaf=1, XGB__n_estimators=50, XGB__max_depth=2, neg_root_mean_squared_error=-347.273, r2=0.122, total=   5.3s\n",
      "[CV] encoder__smoothing=0.1, encoder__min_samples_leaf=1, XGB__n_estimators=50, XGB__max_depth=2 \n",
      "[CV]  encoder__smoothing=0.1, encoder__min_samples_leaf=1, XGB__n_estimators=50, XGB__max_depth=2, neg_root_mean_squared_error=-235.996, r2=0.234, total=   4.8s\n",
      "[CV] encoder__smoothing=1000.0, encoder__min_samples_leaf=2, XGB__n_estimators=100, XGB__max_depth=2 \n",
      "[CV]  encoder__smoothing=1000.0, encoder__min_samples_leaf=2, XGB__n_estimators=100, XGB__max_depth=2, neg_root_mean_squared_error=-513.788, r2=0.067, total=   6.9s\n",
      "[CV] encoder__smoothing=1000.0, encoder__min_samples_leaf=2, XGB__n_estimators=100, XGB__max_depth=2 \n"
     ]
    },
    {
     "name": "stdout",
     "output_type": "stream",
     "text": [
      "[CV]  encoder__smoothing=1000.0, encoder__min_samples_leaf=2, XGB__n_estimators=100, XGB__max_depth=2, neg_root_mean_squared_error=-347.311, r2=0.122, total=   5.5s\n",
      "[CV] encoder__smoothing=1000.0, encoder__min_samples_leaf=2, XGB__n_estimators=100, XGB__max_depth=2 \n",
      "[CV]  encoder__smoothing=1000.0, encoder__min_samples_leaf=2, XGB__n_estimators=100, XGB__max_depth=2, neg_root_mean_squared_error=-235.037, r2=0.241, total=   5.8s\n",
      "[CV] encoder__smoothing=10.0, encoder__min_samples_leaf=3, XGB__n_estimators=100, XGB__max_depth=1 \n",
      "[CV]  encoder__smoothing=10.0, encoder__min_samples_leaf=3, XGB__n_estimators=100, XGB__max_depth=1, neg_root_mean_squared_error=-516.077, r2=0.059, total=   5.3s\n",
      "[CV] encoder__smoothing=10.0, encoder__min_samples_leaf=3, XGB__n_estimators=100, XGB__max_depth=1 \n",
      "[CV]  encoder__smoothing=10.0, encoder__min_samples_leaf=3, XGB__n_estimators=100, XGB__max_depth=1, neg_root_mean_squared_error=-347.695, r2=0.120, total=   4.7s\n",
      "[CV] encoder__smoothing=10.0, encoder__min_samples_leaf=3, XGB__n_estimators=100, XGB__max_depth=1 \n",
      "[CV]  encoder__smoothing=10.0, encoder__min_samples_leaf=3, XGB__n_estimators=100, XGB__max_depth=1, neg_root_mean_squared_error=-245.660, r2=0.170, total=   4.1s\n",
      "[CV] encoder__smoothing=10.0, encoder__min_samples_leaf=1, XGB__n_estimators=50, XGB__max_depth=3 \n",
      "[CV]  encoder__smoothing=10.0, encoder__min_samples_leaf=1, XGB__n_estimators=50, XGB__max_depth=3, neg_root_mean_squared_error=-516.411, r2=0.057, total=   4.3s\n",
      "[CV] encoder__smoothing=10.0, encoder__min_samples_leaf=1, XGB__n_estimators=50, XGB__max_depth=3 \n",
      "[CV]  encoder__smoothing=10.0, encoder__min_samples_leaf=1, XGB__n_estimators=50, XGB__max_depth=3, neg_root_mean_squared_error=-344.159, r2=0.138, total=   4.9s\n",
      "[CV] encoder__smoothing=10.0, encoder__min_samples_leaf=1, XGB__n_estimators=50, XGB__max_depth=3 \n",
      "[CV]  encoder__smoothing=10.0, encoder__min_samples_leaf=1, XGB__n_estimators=50, XGB__max_depth=3, neg_root_mean_squared_error=-234.458, r2=0.244, total=   5.9s\n",
      "[CV] encoder__smoothing=0.1, encoder__min_samples_leaf=3, XGB__n_estimators=50, XGB__max_depth=2 \n",
      "[CV]  encoder__smoothing=0.1, encoder__min_samples_leaf=3, XGB__n_estimators=50, XGB__max_depth=2, neg_root_mean_squared_error=-515.143, r2=0.062, total=   3.4s\n",
      "[CV] encoder__smoothing=0.1, encoder__min_samples_leaf=3, XGB__n_estimators=50, XGB__max_depth=2 \n",
      "[CV]  encoder__smoothing=0.1, encoder__min_samples_leaf=3, XGB__n_estimators=50, XGB__max_depth=2, neg_root_mean_squared_error=-351.349, r2=0.102, total=   3.4s\n",
      "[CV] encoder__smoothing=0.1, encoder__min_samples_leaf=3, XGB__n_estimators=50, XGB__max_depth=2 \n",
      "[CV]  encoder__smoothing=0.1, encoder__min_samples_leaf=3, XGB__n_estimators=50, XGB__max_depth=2, neg_root_mean_squared_error=-234.665, r2=0.243, total=   3.7s\n",
      "[CV] encoder__smoothing=10.0, encoder__min_samples_leaf=1, XGB__n_estimators=100, XGB__max_depth=3 \n",
      "[CV]  encoder__smoothing=10.0, encoder__min_samples_leaf=1, XGB__n_estimators=100, XGB__max_depth=3, neg_root_mean_squared_error=-512.165, r2=0.073, total=   6.3s\n",
      "[CV] encoder__smoothing=10.0, encoder__min_samples_leaf=1, XGB__n_estimators=100, XGB__max_depth=3 \n",
      "[CV]  encoder__smoothing=10.0, encoder__min_samples_leaf=1, XGB__n_estimators=100, XGB__max_depth=3, neg_root_mean_squared_error=-342.746, r2=0.145, total=   6.2s\n",
      "[CV] encoder__smoothing=10.0, encoder__min_samples_leaf=1, XGB__n_estimators=100, XGB__max_depth=3 \n",
      "[CV]  encoder__smoothing=10.0, encoder__min_samples_leaf=1, XGB__n_estimators=100, XGB__max_depth=3, neg_root_mean_squared_error=-236.046, r2=0.234, total=   6.7s\n",
      "[CV] encoder__smoothing=1000.0, encoder__min_samples_leaf=2, XGB__n_estimators=25, XGB__max_depth=3 \n",
      "[CV]  encoder__smoothing=1000.0, encoder__min_samples_leaf=2, XGB__n_estimators=25, XGB__max_depth=3, neg_root_mean_squared_error=-514.767, r2=0.063, total=   2.7s\n",
      "[CV] encoder__smoothing=1000.0, encoder__min_samples_leaf=2, XGB__n_estimators=25, XGB__max_depth=3 \n",
      "[CV]  encoder__smoothing=1000.0, encoder__min_samples_leaf=2, XGB__n_estimators=25, XGB__max_depth=3, neg_root_mean_squared_error=-339.478, r2=0.161, total=   2.7s\n",
      "[CV] encoder__smoothing=1000.0, encoder__min_samples_leaf=2, XGB__n_estimators=25, XGB__max_depth=3 \n",
      "[CV]  encoder__smoothing=1000.0, encoder__min_samples_leaf=2, XGB__n_estimators=25, XGB__max_depth=3, neg_root_mean_squared_error=-234.590, r2=0.243, total=   2.7s\n",
      "[CV] encoder__smoothing=100.0, encoder__min_samples_leaf=2, XGB__n_estimators=25, XGB__max_depth=3 \n",
      "[CV]  encoder__smoothing=100.0, encoder__min_samples_leaf=2, XGB__n_estimators=25, XGB__max_depth=3, neg_root_mean_squared_error=-515.004, r2=0.063, total=   2.7s\n",
      "[CV] encoder__smoothing=100.0, encoder__min_samples_leaf=2, XGB__n_estimators=25, XGB__max_depth=3 \n",
      "[CV]  encoder__smoothing=100.0, encoder__min_samples_leaf=2, XGB__n_estimators=25, XGB__max_depth=3, neg_root_mean_squared_error=-346.328, r2=0.127, total=   2.8s\n",
      "[CV] encoder__smoothing=100.0, encoder__min_samples_leaf=2, XGB__n_estimators=25, XGB__max_depth=3 \n",
      "[CV]  encoder__smoothing=100.0, encoder__min_samples_leaf=2, XGB__n_estimators=25, XGB__max_depth=3, neg_root_mean_squared_error=-239.563, r2=0.211, total=   2.7s\n",
      "[CV] encoder__smoothing=1000.0, encoder__min_samples_leaf=3, XGB__n_estimators=50, XGB__max_depth=1 \n",
      "[CV]  encoder__smoothing=1000.0, encoder__min_samples_leaf=3, XGB__n_estimators=50, XGB__max_depth=1, neg_root_mean_squared_error=-516.110, r2=0.059, total=   2.6s\n",
      "[CV] encoder__smoothing=1000.0, encoder__min_samples_leaf=3, XGB__n_estimators=50, XGB__max_depth=1 \n",
      "[CV]  encoder__smoothing=1000.0, encoder__min_samples_leaf=3, XGB__n_estimators=50, XGB__max_depth=1, neg_root_mean_squared_error=-348.074, r2=0.118, total=   2.6s\n",
      "[CV] encoder__smoothing=1000.0, encoder__min_samples_leaf=3, XGB__n_estimators=50, XGB__max_depth=1 \n",
      "[CV]  encoder__smoothing=1000.0, encoder__min_samples_leaf=3, XGB__n_estimators=50, XGB__max_depth=1, neg_root_mean_squared_error=-244.168, r2=0.180, total=   2.6s\n",
      "[CV] encoder__smoothing=1000.0, encoder__min_samples_leaf=1, XGB__n_estimators=100, XGB__max_depth=3 \n",
      "[CV]  encoder__smoothing=1000.0, encoder__min_samples_leaf=1, XGB__n_estimators=100, XGB__max_depth=3, neg_root_mean_squared_error=-510.564, r2=0.079, total=   6.3s\n",
      "[CV] encoder__smoothing=1000.0, encoder__min_samples_leaf=1, XGB__n_estimators=100, XGB__max_depth=3 \n",
      "[CV]  encoder__smoothing=1000.0, encoder__min_samples_leaf=1, XGB__n_estimators=100, XGB__max_depth=3, neg_root_mean_squared_error=-342.936, r2=0.144, total=   6.1s\n",
      "[CV] encoder__smoothing=1000.0, encoder__min_samples_leaf=1, XGB__n_estimators=100, XGB__max_depth=3 \n",
      "[CV]  encoder__smoothing=1000.0, encoder__min_samples_leaf=1, XGB__n_estimators=100, XGB__max_depth=3, neg_root_mean_squared_error=-234.628, r2=0.243, total=   8.8s\n",
      "[CV] encoder__smoothing=1.0, encoder__min_samples_leaf=3, XGB__n_estimators=50, XGB__max_depth=2 \n",
      "[CV]  encoder__smoothing=1.0, encoder__min_samples_leaf=3, XGB__n_estimators=50, XGB__max_depth=2, neg_root_mean_squared_error=-514.555, r2=0.064, total=   4.1s\n",
      "[CV] encoder__smoothing=1.0, encoder__min_samples_leaf=3, XGB__n_estimators=50, XGB__max_depth=2 \n",
      "[CV]  encoder__smoothing=1.0, encoder__min_samples_leaf=3, XGB__n_estimators=50, XGB__max_depth=2, neg_root_mean_squared_error=-348.633, r2=0.116, total=   4.1s\n",
      "[CV] encoder__smoothing=1.0, encoder__min_samples_leaf=3, XGB__n_estimators=50, XGB__max_depth=2 \n",
      "[CV]  encoder__smoothing=1.0, encoder__min_samples_leaf=3, XGB__n_estimators=50, XGB__max_depth=2, neg_root_mean_squared_error=-244.736, r2=0.177, total=   3.6s\n",
      "[CV] encoder__smoothing=1.0, encoder__min_samples_leaf=3, XGB__n_estimators=50, XGB__max_depth=1 \n",
      "[CV]  encoder__smoothing=1.0, encoder__min_samples_leaf=3, XGB__n_estimators=50, XGB__max_depth=1, neg_root_mean_squared_error=-516.324, r2=0.058, total=   4.1s\n",
      "[CV] encoder__smoothing=1.0, encoder__min_samples_leaf=3, XGB__n_estimators=50, XGB__max_depth=1 \n",
      "[CV]  encoder__smoothing=1.0, encoder__min_samples_leaf=3, XGB__n_estimators=50, XGB__max_depth=1, neg_root_mean_squared_error=-348.097, r2=0.118, total=   3.1s\n",
      "[CV] encoder__smoothing=1.0, encoder__min_samples_leaf=3, XGB__n_estimators=50, XGB__max_depth=1 \n",
      "[CV]  encoder__smoothing=1.0, encoder__min_samples_leaf=3, XGB__n_estimators=50, XGB__max_depth=1, neg_root_mean_squared_error=-245.346, r2=0.172, total=   2.9s\n",
      "[CV] encoder__smoothing=0.1, encoder__min_samples_leaf=2, XGB__n_estimators=50, XGB__max_depth=1 \n"
     ]
    },
    {
     "name": "stdout",
     "output_type": "stream",
     "text": [
      "[CV]  encoder__smoothing=0.1, encoder__min_samples_leaf=2, XGB__n_estimators=50, XGB__max_depth=1, neg_root_mean_squared_error=-516.302, r2=0.058, total=   3.1s\n",
      "[CV] encoder__smoothing=0.1, encoder__min_samples_leaf=2, XGB__n_estimators=50, XGB__max_depth=1 \n",
      "[CV]  encoder__smoothing=0.1, encoder__min_samples_leaf=2, XGB__n_estimators=50, XGB__max_depth=1, neg_root_mean_squared_error=-347.594, r2=0.121, total=   3.0s\n",
      "[CV] encoder__smoothing=0.1, encoder__min_samples_leaf=2, XGB__n_estimators=50, XGB__max_depth=1 \n",
      "[CV]  encoder__smoothing=0.1, encoder__min_samples_leaf=2, XGB__n_estimators=50, XGB__max_depth=1, neg_root_mean_squared_error=-244.289, r2=0.180, total=   2.8s\n",
      "[CV] encoder__smoothing=10.0, encoder__min_samples_leaf=2, XGB__n_estimators=50, XGB__max_depth=3 \n",
      "[CV]  encoder__smoothing=10.0, encoder__min_samples_leaf=2, XGB__n_estimators=50, XGB__max_depth=3, neg_root_mean_squared_error=-512.217, r2=0.073, total=   4.1s\n",
      "[CV] encoder__smoothing=10.0, encoder__min_samples_leaf=2, XGB__n_estimators=50, XGB__max_depth=3 \n",
      "[CV]  encoder__smoothing=10.0, encoder__min_samples_leaf=2, XGB__n_estimators=50, XGB__max_depth=3, neg_root_mean_squared_error=-343.205, r2=0.143, total=   4.2s\n",
      "[CV] encoder__smoothing=10.0, encoder__min_samples_leaf=2, XGB__n_estimators=50, XGB__max_depth=3 \n",
      "[CV]  encoder__smoothing=10.0, encoder__min_samples_leaf=2, XGB__n_estimators=50, XGB__max_depth=3, neg_root_mean_squared_error=-234.718, r2=0.243, total=   5.0s\n",
      "[CV] encoder__smoothing=10.0, encoder__min_samples_leaf=3, XGB__n_estimators=100, XGB__max_depth=3 \n",
      "[CV]  encoder__smoothing=10.0, encoder__min_samples_leaf=3, XGB__n_estimators=100, XGB__max_depth=3, neg_root_mean_squared_error=-515.654, r2=0.060, total=   6.9s\n",
      "[CV] encoder__smoothing=10.0, encoder__min_samples_leaf=3, XGB__n_estimators=100, XGB__max_depth=3 \n",
      "[CV]  encoder__smoothing=10.0, encoder__min_samples_leaf=3, XGB__n_estimators=100, XGB__max_depth=3, neg_root_mean_squared_error=-341.953, r2=0.149, total=   8.1s\n",
      "[CV] encoder__smoothing=10.0, encoder__min_samples_leaf=3, XGB__n_estimators=100, XGB__max_depth=3 \n",
      "[CV]  encoder__smoothing=10.0, encoder__min_samples_leaf=3, XGB__n_estimators=100, XGB__max_depth=3, neg_root_mean_squared_error=-234.846, r2=0.242, total=   7.2s\n"
     ]
    },
    {
     "name": "stderr",
     "output_type": "stream",
     "text": [
      "[Parallel(n_jobs=1)]: Done  75 out of  75 | elapsed:  5.4min finished\n"
     ]
    },
    {
     "data": {
      "text/plain": [
       "RandomizedSearchCV(cv=3, error_score=nan,\n",
       "                   estimator=Pipeline(memory=None,\n",
       "                                      steps=[('encoder',\n",
       "                                              TargetEncoder(cols=None,\n",
       "                                                            drop_invariant=False,\n",
       "                                                            handle_missing='value',\n",
       "                                                            handle_unknown='value',\n",
       "                                                            min_samples_leaf=1,\n",
       "                                                            return_df=True,\n",
       "                                                            smoothing=1.0,\n",
       "                                                            verbose=0)),\n",
       "                                             ('XGB',\n",
       "                                              XGBRegressor(base_score=None,\n",
       "                                                           booster=None,\n",
       "                                                           colsample_bylevel=None,\n",
       "                                                           colsample_bynode=None,\n",
       "                                                           colsample_bytree...\n",
       "                   iid='deprecated', n_iter=25, n_jobs=None,\n",
       "                   param_distributions={'XGB__max_depth': [1, 2, 3],\n",
       "                                        'XGB__n_estimators': [25, 50, 100],\n",
       "                                        'encoder__min_samples_leaf': [1, 2, 3],\n",
       "                                        'encoder__smoothing': [0.1, 1.0, 10.0,\n",
       "                                                               100.0, 1000.0]},\n",
       "                   pre_dispatch='2*n_jobs', random_state=None,\n",
       "                   refit='neg_root_mean_squared_error',\n",
       "                   return_train_score=False,\n",
       "                   scoring=['neg_root_mean_squared_error', 'r2'], verbose=3)"
      ]
     },
     "execution_count": 143,
     "metadata": {},
     "output_type": "execute_result"
    }
   ],
   "source": [
    "xgb = Pipeline(steps=[('encoder', TargetEncoder()),  \n",
    "                     ('XGB', XGBRegressor())])  \n",
    "\n",
    "\n",
    "param_grid = {'encoder__smoothing': [0.1, 1., 10., 100., 1000.],\n",
    "              'encoder__min_samples_leaf': [1, 2, 3],\n",
    "              'XGB__n_estimators': [25, 50, 100],\n",
    "              'XGB__max_depth': [1, 2, 3]}\n",
    "\n",
    "\n",
    "xgb_tuned = RandomizedSearchCV(xgb, param_grid,\n",
    "                          cv = 3, \n",
    "                          scoring = ['neg_root_mean_squared_error', 'r2'], \n",
    "                          refit = 'neg_root_mean_squared_error', \n",
    "                          verbose=3, \n",
    "                          n_iter = 25)\n",
    "\n",
    "xgb_tuned.fit(X_train, y_train)"
   ]
  },
  {
   "cell_type": "code",
   "execution_count": 146,
   "metadata": {},
   "outputs": [
    {
     "data": {
      "text/plain": [
       "{'encoder__smoothing': 1000.0,\n",
       " 'encoder__min_samples_leaf': 1,\n",
       " 'XGB__n_estimators': 100,\n",
       " 'XGB__max_depth': 3}"
      ]
     },
     "execution_count": 146,
     "metadata": {},
     "output_type": "execute_result"
    }
   ],
   "source": [
    "xgb_tuned.best_params_"
   ]
  },
  {
   "cell_type": "code",
   "execution_count": 147,
   "metadata": {},
   "outputs": [
    {
     "data": {
      "text/plain": [
       "-362.7094703594069"
      ]
     },
     "execution_count": 147,
     "metadata": {},
     "output_type": "execute_result"
    }
   ],
   "source": [
    "xgb_tuned.best_score_"
   ]
  },
  {
   "cell_type": "code",
   "execution_count": 145,
   "metadata": {},
   "outputs": [
    {
     "name": "stdout",
     "output_type": "stream",
     "text": [
      "RMSE: 177.0158\n",
      "R^2 score: 0.2914\n"
     ]
    }
   ],
   "source": [
    "y_hat_xgb_tuned = xgb_tuned.predict(X_test)\n",
    "print(f\"\"\"RMSE: {mean_squared_error(y_test, y_hat_xgb_tuned, squared=False):.4f}\n",
    "R^2 score: {r2_score(y_test, y_hat_xgb_tuned):.4f}\"\"\")"
   ]
  },
  {
   "cell_type": "markdown",
   "metadata": {},
   "source": [
    "Na podstawie miar RMSE i $R^2$ najlepszym modelem okazała się regresja Lasso. XGBoost się przeuczył, osiągnął najlepszy wynik z kroswalidacji, ale najgorszy na zbiorze testowym.\n",
    "\n",
    "Ciekawym jest też fakt, że optymalna wartość parametru smoothing okazywała się niewielka dla modeli liniowych, nawet mimo zastosowania kroswalidacji i target encodingu oddzielnie na zbiorze testowym (bez target leaku). Dopiero dla XGBoosta optymalna wartość była większa.  \n",
    "\n",
    "Oczywiście należy mieć na uwadze, że różnice są niewielkie. Można też przemyśleć oddzielne ustawienia smoothingu dla każdej z kolumn. "
   ]
  },
  {
   "cell_type": "code",
   "execution_count": null,
   "metadata": {},
   "outputs": [],
   "source": []
  }
 ],
 "metadata": {
  "kernelspec": {
   "display_name": "Python 3",
   "language": "python",
   "name": "python3"
  },
  "language_info": {
   "codemirror_mode": {
    "name": "ipython",
    "version": 3
   },
   "file_extension": ".py",
   "mimetype": "text/x-python",
   "name": "python",
   "nbconvert_exporter": "python",
   "pygments_lexer": "ipython3",
   "version": "3.7.3"
  }
 },
 "nbformat": 4,
 "nbformat_minor": 4
}
