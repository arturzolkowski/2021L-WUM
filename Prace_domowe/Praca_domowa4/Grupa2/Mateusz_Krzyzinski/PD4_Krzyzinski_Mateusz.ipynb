{
 "cells": [
  {
   "cell_type": "markdown",
   "metadata": {},
   "source": [
    "# Praca domowa 4 \n",
    "### Mateusz Krzyziński, grupa 2\n"
   ]
  },
  {
   "cell_type": "markdown",
   "metadata": {},
   "source": [
    "Zadanie dotyczy algorytmu Support Vector Machine omawianego na zajęciach i opisanego w [artykule]( http://pyml.sourceforge.net/doc/howto.pdf). \n",
    "\n",
    "Dopasujemy SVM do dwóch zbiorów danych:\n",
    "- apartments z pakietu DALEX,\n",
    "- Mobile Price Classification (wybranego przeze mnie i dostępnego na [kaggle'u](https://www.kaggle.com/iabhishekofficial/mobile-price-classification). "
   ]
  },
  {
   "cell_type": "markdown",
   "metadata": {},
   "source": [
    "#### Import pakietów"
   ]
  },
  {
   "cell_type": "code",
   "execution_count": 1,
   "metadata": {},
   "outputs": [],
   "source": [
    "import numpy as np\n",
    "import pandas as pd\n",
    "import matplotlib.pyplot as plt\n",
    "import seaborn as sns\n",
    "import warnings\n",
    "warnings.filterwarnings('ignore')"
   ]
  },
  {
   "cell_type": "markdown",
   "metadata": {},
   "source": [
    "#### Wczytanie danych"
   ]
  },
  {
   "cell_type": "code",
   "execution_count": 2,
   "metadata": {},
   "outputs": [],
   "source": [
    "from dalex.datasets import load_apartments\n",
    "apartments_data = load_apartments()\n",
    "mobile_data = pd.read_csv(\"mobile.csv\")"
   ]
  },
  {
   "cell_type": "markdown",
   "metadata": {},
   "source": [
    "W zbiorze dotyczącym mieszkań mamy 1000 obserwacji i 6 zmiennych: target - m2_price (cena za metr kwadratowy mieszkania) i 5 zmiennych objaśniających - 4 numeryczne i 1 kategoryczna (dzielnica). "
   ]
  },
  {
   "cell_type": "code",
   "execution_count": 3,
   "metadata": {},
   "outputs": [
    {
     "data": {
      "text/html": [
       "<div>\n",
       "<style scoped>\n",
       "    .dataframe tbody tr th:only-of-type {\n",
       "        vertical-align: middle;\n",
       "    }\n",
       "\n",
       "    .dataframe tbody tr th {\n",
       "        vertical-align: top;\n",
       "    }\n",
       "\n",
       "    .dataframe thead th {\n",
       "        text-align: right;\n",
       "    }\n",
       "</style>\n",
       "<table border=\"1\" class=\"dataframe\">\n",
       "  <thead>\n",
       "    <tr style=\"text-align: right;\">\n",
       "      <th></th>\n",
       "      <th>m2_price</th>\n",
       "      <th>construction_year</th>\n",
       "      <th>surface</th>\n",
       "      <th>floor</th>\n",
       "      <th>no_rooms</th>\n",
       "      <th>district</th>\n",
       "    </tr>\n",
       "  </thead>\n",
       "  <tbody>\n",
       "    <tr>\n",
       "      <th>1</th>\n",
       "      <td>5897</td>\n",
       "      <td>1953</td>\n",
       "      <td>25</td>\n",
       "      <td>3</td>\n",
       "      <td>1</td>\n",
       "      <td>Srodmiescie</td>\n",
       "    </tr>\n",
       "    <tr>\n",
       "      <th>2</th>\n",
       "      <td>1818</td>\n",
       "      <td>1992</td>\n",
       "      <td>143</td>\n",
       "      <td>9</td>\n",
       "      <td>5</td>\n",
       "      <td>Bielany</td>\n",
       "    </tr>\n",
       "    <tr>\n",
       "      <th>3</th>\n",
       "      <td>3643</td>\n",
       "      <td>1937</td>\n",
       "      <td>56</td>\n",
       "      <td>1</td>\n",
       "      <td>2</td>\n",
       "      <td>Praga</td>\n",
       "    </tr>\n",
       "    <tr>\n",
       "      <th>4</th>\n",
       "      <td>3517</td>\n",
       "      <td>1995</td>\n",
       "      <td>93</td>\n",
       "      <td>7</td>\n",
       "      <td>3</td>\n",
       "      <td>Ochota</td>\n",
       "    </tr>\n",
       "    <tr>\n",
       "      <th>5</th>\n",
       "      <td>3013</td>\n",
       "      <td>1992</td>\n",
       "      <td>144</td>\n",
       "      <td>6</td>\n",
       "      <td>5</td>\n",
       "      <td>Mokotow</td>\n",
       "    </tr>\n",
       "    <tr>\n",
       "      <th>...</th>\n",
       "      <td>...</td>\n",
       "      <td>...</td>\n",
       "      <td>...</td>\n",
       "      <td>...</td>\n",
       "      <td>...</td>\n",
       "      <td>...</td>\n",
       "    </tr>\n",
       "    <tr>\n",
       "      <th>996</th>\n",
       "      <td>6355</td>\n",
       "      <td>1921</td>\n",
       "      <td>44</td>\n",
       "      <td>2</td>\n",
       "      <td>2</td>\n",
       "      <td>Srodmiescie</td>\n",
       "    </tr>\n",
       "    <tr>\n",
       "      <th>997</th>\n",
       "      <td>3422</td>\n",
       "      <td>1921</td>\n",
       "      <td>48</td>\n",
       "      <td>10</td>\n",
       "      <td>2</td>\n",
       "      <td>Bemowo</td>\n",
       "    </tr>\n",
       "    <tr>\n",
       "      <th>998</th>\n",
       "      <td>3098</td>\n",
       "      <td>1980</td>\n",
       "      <td>85</td>\n",
       "      <td>3</td>\n",
       "      <td>3</td>\n",
       "      <td>Bemowo</td>\n",
       "    </tr>\n",
       "    <tr>\n",
       "      <th>999</th>\n",
       "      <td>4192</td>\n",
       "      <td>1942</td>\n",
       "      <td>36</td>\n",
       "      <td>7</td>\n",
       "      <td>1</td>\n",
       "      <td>Zoliborz</td>\n",
       "    </tr>\n",
       "    <tr>\n",
       "      <th>1000</th>\n",
       "      <td>3327</td>\n",
       "      <td>1992</td>\n",
       "      <td>112</td>\n",
       "      <td>6</td>\n",
       "      <td>5</td>\n",
       "      <td>Mokotow</td>\n",
       "    </tr>\n",
       "  </tbody>\n",
       "</table>\n",
       "<p>1000 rows × 6 columns</p>\n",
       "</div>"
      ],
      "text/plain": [
       "      m2_price  construction_year  surface  floor  no_rooms     district\n",
       "1         5897               1953       25      3         1  Srodmiescie\n",
       "2         1818               1992      143      9         5      Bielany\n",
       "3         3643               1937       56      1         2        Praga\n",
       "4         3517               1995       93      7         3       Ochota\n",
       "5         3013               1992      144      6         5      Mokotow\n",
       "...        ...                ...      ...    ...       ...          ...\n",
       "996       6355               1921       44      2         2  Srodmiescie\n",
       "997       3422               1921       48     10         2       Bemowo\n",
       "998       3098               1980       85      3         3       Bemowo\n",
       "999       4192               1942       36      7         1     Zoliborz\n",
       "1000      3327               1992      112      6         5      Mokotow\n",
       "\n",
       "[1000 rows x 6 columns]"
      ]
     },
     "execution_count": 3,
     "metadata": {},
     "output_type": "execute_result"
    }
   ],
   "source": [
    "apartments_data"
   ]
  },
  {
   "cell_type": "markdown",
   "metadata": {},
   "source": [
    "Nie ma też braków zmiennych. Zatem nie musimy się martwić o imputacje. "
   ]
  },
  {
   "cell_type": "code",
   "execution_count": 4,
   "metadata": {},
   "outputs": [
    {
     "name": "stdout",
     "output_type": "stream",
     "text": [
      "<class 'pandas.core.frame.DataFrame'>\n",
      "Int64Index: 1000 entries, 1 to 1000\n",
      "Data columns (total 6 columns):\n",
      " #   Column             Non-Null Count  Dtype \n",
      "---  ------             --------------  ----- \n",
      " 0   m2_price           1000 non-null   int64 \n",
      " 1   construction_year  1000 non-null   int64 \n",
      " 2   surface            1000 non-null   int64 \n",
      " 3   floor              1000 non-null   int64 \n",
      " 4   no_rooms           1000 non-null   int64 \n",
      " 5   district           1000 non-null   object\n",
      "dtypes: int64(5), object(1)\n",
      "memory usage: 54.7+ KB\n"
     ]
    }
   ],
   "source": [
    "apartments_data.info() "
   ]
  },
  {
   "cell_type": "code",
   "execution_count": 5,
   "metadata": {},
   "outputs": [],
   "source": [
    "from sklearn.model_selection import train_test_split\n",
    "\n",
    "X_train_a, X_test_a, y_train_a, y_test_a = train_test_split(\n",
    "    apartments_data.drop(\"m2_price\", axis=1), \n",
    "    apartments_data[\"m2_price\"], \n",
    "    test_size=0.3, random_state=42)"
   ]
  },
  {
   "cell_type": "markdown",
   "metadata": {},
   "source": [
    "<hr>\n",
    "\n",
    "Zbiór danych dotyczących cen telefonów jest większy - zawiera 2000 obserwacji 21 zmiennych. Zmienna celu to price_range określająca przedział cenowy danego telefonu. Pozostałe 20 zmiennych opisuje atrybuty telefonu - wszystkie zmienne mają format numeryczny, ale część jest tak naprawdę zmiennymi binarnymi określającymi, czy dana cecha występuje, czy nie w danym smartfonie. "
   ]
  },
  {
   "cell_type": "code",
   "execution_count": 6,
   "metadata": {},
   "outputs": [
    {
     "data": {
      "text/html": [
       "<div>\n",
       "<style scoped>\n",
       "    .dataframe tbody tr th:only-of-type {\n",
       "        vertical-align: middle;\n",
       "    }\n",
       "\n",
       "    .dataframe tbody tr th {\n",
       "        vertical-align: top;\n",
       "    }\n",
       "\n",
       "    .dataframe thead th {\n",
       "        text-align: right;\n",
       "    }\n",
       "</style>\n",
       "<table border=\"1\" class=\"dataframe\">\n",
       "  <thead>\n",
       "    <tr style=\"text-align: right;\">\n",
       "      <th></th>\n",
       "      <th>battery_power</th>\n",
       "      <th>blue</th>\n",
       "      <th>clock_speed</th>\n",
       "      <th>dual_sim</th>\n",
       "      <th>fc</th>\n",
       "      <th>four_g</th>\n",
       "      <th>int_memory</th>\n",
       "      <th>m_dep</th>\n",
       "      <th>mobile_wt</th>\n",
       "      <th>n_cores</th>\n",
       "      <th>...</th>\n",
       "      <th>px_height</th>\n",
       "      <th>px_width</th>\n",
       "      <th>ram</th>\n",
       "      <th>sc_h</th>\n",
       "      <th>sc_w</th>\n",
       "      <th>talk_time</th>\n",
       "      <th>three_g</th>\n",
       "      <th>touch_screen</th>\n",
       "      <th>wifi</th>\n",
       "      <th>price_range</th>\n",
       "    </tr>\n",
       "  </thead>\n",
       "  <tbody>\n",
       "    <tr>\n",
       "      <th>0</th>\n",
       "      <td>842</td>\n",
       "      <td>0</td>\n",
       "      <td>2.2</td>\n",
       "      <td>0</td>\n",
       "      <td>1</td>\n",
       "      <td>0</td>\n",
       "      <td>7</td>\n",
       "      <td>0.6</td>\n",
       "      <td>188</td>\n",
       "      <td>2</td>\n",
       "      <td>...</td>\n",
       "      <td>20</td>\n",
       "      <td>756</td>\n",
       "      <td>2549</td>\n",
       "      <td>9</td>\n",
       "      <td>7</td>\n",
       "      <td>19</td>\n",
       "      <td>0</td>\n",
       "      <td>0</td>\n",
       "      <td>1</td>\n",
       "      <td>1</td>\n",
       "    </tr>\n",
       "    <tr>\n",
       "      <th>1</th>\n",
       "      <td>1021</td>\n",
       "      <td>1</td>\n",
       "      <td>0.5</td>\n",
       "      <td>1</td>\n",
       "      <td>0</td>\n",
       "      <td>1</td>\n",
       "      <td>53</td>\n",
       "      <td>0.7</td>\n",
       "      <td>136</td>\n",
       "      <td>3</td>\n",
       "      <td>...</td>\n",
       "      <td>905</td>\n",
       "      <td>1988</td>\n",
       "      <td>2631</td>\n",
       "      <td>17</td>\n",
       "      <td>3</td>\n",
       "      <td>7</td>\n",
       "      <td>1</td>\n",
       "      <td>1</td>\n",
       "      <td>0</td>\n",
       "      <td>2</td>\n",
       "    </tr>\n",
       "    <tr>\n",
       "      <th>2</th>\n",
       "      <td>563</td>\n",
       "      <td>1</td>\n",
       "      <td>0.5</td>\n",
       "      <td>1</td>\n",
       "      <td>2</td>\n",
       "      <td>1</td>\n",
       "      <td>41</td>\n",
       "      <td>0.9</td>\n",
       "      <td>145</td>\n",
       "      <td>5</td>\n",
       "      <td>...</td>\n",
       "      <td>1263</td>\n",
       "      <td>1716</td>\n",
       "      <td>2603</td>\n",
       "      <td>11</td>\n",
       "      <td>2</td>\n",
       "      <td>9</td>\n",
       "      <td>1</td>\n",
       "      <td>1</td>\n",
       "      <td>0</td>\n",
       "      <td>2</td>\n",
       "    </tr>\n",
       "    <tr>\n",
       "      <th>3</th>\n",
       "      <td>615</td>\n",
       "      <td>1</td>\n",
       "      <td>2.5</td>\n",
       "      <td>0</td>\n",
       "      <td>0</td>\n",
       "      <td>0</td>\n",
       "      <td>10</td>\n",
       "      <td>0.8</td>\n",
       "      <td>131</td>\n",
       "      <td>6</td>\n",
       "      <td>...</td>\n",
       "      <td>1216</td>\n",
       "      <td>1786</td>\n",
       "      <td>2769</td>\n",
       "      <td>16</td>\n",
       "      <td>8</td>\n",
       "      <td>11</td>\n",
       "      <td>1</td>\n",
       "      <td>0</td>\n",
       "      <td>0</td>\n",
       "      <td>2</td>\n",
       "    </tr>\n",
       "    <tr>\n",
       "      <th>4</th>\n",
       "      <td>1821</td>\n",
       "      <td>1</td>\n",
       "      <td>1.2</td>\n",
       "      <td>0</td>\n",
       "      <td>13</td>\n",
       "      <td>1</td>\n",
       "      <td>44</td>\n",
       "      <td>0.6</td>\n",
       "      <td>141</td>\n",
       "      <td>2</td>\n",
       "      <td>...</td>\n",
       "      <td>1208</td>\n",
       "      <td>1212</td>\n",
       "      <td>1411</td>\n",
       "      <td>8</td>\n",
       "      <td>2</td>\n",
       "      <td>15</td>\n",
       "      <td>1</td>\n",
       "      <td>1</td>\n",
       "      <td>0</td>\n",
       "      <td>1</td>\n",
       "    </tr>\n",
       "    <tr>\n",
       "      <th>...</th>\n",
       "      <td>...</td>\n",
       "      <td>...</td>\n",
       "      <td>...</td>\n",
       "      <td>...</td>\n",
       "      <td>...</td>\n",
       "      <td>...</td>\n",
       "      <td>...</td>\n",
       "      <td>...</td>\n",
       "      <td>...</td>\n",
       "      <td>...</td>\n",
       "      <td>...</td>\n",
       "      <td>...</td>\n",
       "      <td>...</td>\n",
       "      <td>...</td>\n",
       "      <td>...</td>\n",
       "      <td>...</td>\n",
       "      <td>...</td>\n",
       "      <td>...</td>\n",
       "      <td>...</td>\n",
       "      <td>...</td>\n",
       "      <td>...</td>\n",
       "    </tr>\n",
       "    <tr>\n",
       "      <th>1995</th>\n",
       "      <td>794</td>\n",
       "      <td>1</td>\n",
       "      <td>0.5</td>\n",
       "      <td>1</td>\n",
       "      <td>0</td>\n",
       "      <td>1</td>\n",
       "      <td>2</td>\n",
       "      <td>0.8</td>\n",
       "      <td>106</td>\n",
       "      <td>6</td>\n",
       "      <td>...</td>\n",
       "      <td>1222</td>\n",
       "      <td>1890</td>\n",
       "      <td>668</td>\n",
       "      <td>13</td>\n",
       "      <td>4</td>\n",
       "      <td>19</td>\n",
       "      <td>1</td>\n",
       "      <td>1</td>\n",
       "      <td>0</td>\n",
       "      <td>0</td>\n",
       "    </tr>\n",
       "    <tr>\n",
       "      <th>1996</th>\n",
       "      <td>1965</td>\n",
       "      <td>1</td>\n",
       "      <td>2.6</td>\n",
       "      <td>1</td>\n",
       "      <td>0</td>\n",
       "      <td>0</td>\n",
       "      <td>39</td>\n",
       "      <td>0.2</td>\n",
       "      <td>187</td>\n",
       "      <td>4</td>\n",
       "      <td>...</td>\n",
       "      <td>915</td>\n",
       "      <td>1965</td>\n",
       "      <td>2032</td>\n",
       "      <td>11</td>\n",
       "      <td>10</td>\n",
       "      <td>16</td>\n",
       "      <td>1</td>\n",
       "      <td>1</td>\n",
       "      <td>1</td>\n",
       "      <td>2</td>\n",
       "    </tr>\n",
       "    <tr>\n",
       "      <th>1997</th>\n",
       "      <td>1911</td>\n",
       "      <td>0</td>\n",
       "      <td>0.9</td>\n",
       "      <td>1</td>\n",
       "      <td>1</td>\n",
       "      <td>1</td>\n",
       "      <td>36</td>\n",
       "      <td>0.7</td>\n",
       "      <td>108</td>\n",
       "      <td>8</td>\n",
       "      <td>...</td>\n",
       "      <td>868</td>\n",
       "      <td>1632</td>\n",
       "      <td>3057</td>\n",
       "      <td>9</td>\n",
       "      <td>1</td>\n",
       "      <td>5</td>\n",
       "      <td>1</td>\n",
       "      <td>1</td>\n",
       "      <td>0</td>\n",
       "      <td>3</td>\n",
       "    </tr>\n",
       "    <tr>\n",
       "      <th>1998</th>\n",
       "      <td>1512</td>\n",
       "      <td>0</td>\n",
       "      <td>0.9</td>\n",
       "      <td>0</td>\n",
       "      <td>4</td>\n",
       "      <td>1</td>\n",
       "      <td>46</td>\n",
       "      <td>0.1</td>\n",
       "      <td>145</td>\n",
       "      <td>5</td>\n",
       "      <td>...</td>\n",
       "      <td>336</td>\n",
       "      <td>670</td>\n",
       "      <td>869</td>\n",
       "      <td>18</td>\n",
       "      <td>10</td>\n",
       "      <td>19</td>\n",
       "      <td>1</td>\n",
       "      <td>1</td>\n",
       "      <td>1</td>\n",
       "      <td>0</td>\n",
       "    </tr>\n",
       "    <tr>\n",
       "      <th>1999</th>\n",
       "      <td>510</td>\n",
       "      <td>1</td>\n",
       "      <td>2.0</td>\n",
       "      <td>1</td>\n",
       "      <td>5</td>\n",
       "      <td>1</td>\n",
       "      <td>45</td>\n",
       "      <td>0.9</td>\n",
       "      <td>168</td>\n",
       "      <td>6</td>\n",
       "      <td>...</td>\n",
       "      <td>483</td>\n",
       "      <td>754</td>\n",
       "      <td>3919</td>\n",
       "      <td>19</td>\n",
       "      <td>4</td>\n",
       "      <td>2</td>\n",
       "      <td>1</td>\n",
       "      <td>1</td>\n",
       "      <td>1</td>\n",
       "      <td>3</td>\n",
       "    </tr>\n",
       "  </tbody>\n",
       "</table>\n",
       "<p>2000 rows × 21 columns</p>\n",
       "</div>"
      ],
      "text/plain": [
       "      battery_power  blue  clock_speed  dual_sim  fc  four_g  int_memory  \\\n",
       "0               842     0          2.2         0   1       0           7   \n",
       "1              1021     1          0.5         1   0       1          53   \n",
       "2               563     1          0.5         1   2       1          41   \n",
       "3               615     1          2.5         0   0       0          10   \n",
       "4              1821     1          1.2         0  13       1          44   \n",
       "...             ...   ...          ...       ...  ..     ...         ...   \n",
       "1995            794     1          0.5         1   0       1           2   \n",
       "1996           1965     1          2.6         1   0       0          39   \n",
       "1997           1911     0          0.9         1   1       1          36   \n",
       "1998           1512     0          0.9         0   4       1          46   \n",
       "1999            510     1          2.0         1   5       1          45   \n",
       "\n",
       "      m_dep  mobile_wt  n_cores  ...  px_height  px_width   ram  sc_h  sc_w  \\\n",
       "0       0.6        188        2  ...         20       756  2549     9     7   \n",
       "1       0.7        136        3  ...        905      1988  2631    17     3   \n",
       "2       0.9        145        5  ...       1263      1716  2603    11     2   \n",
       "3       0.8        131        6  ...       1216      1786  2769    16     8   \n",
       "4       0.6        141        2  ...       1208      1212  1411     8     2   \n",
       "...     ...        ...      ...  ...        ...       ...   ...   ...   ...   \n",
       "1995    0.8        106        6  ...       1222      1890   668    13     4   \n",
       "1996    0.2        187        4  ...        915      1965  2032    11    10   \n",
       "1997    0.7        108        8  ...        868      1632  3057     9     1   \n",
       "1998    0.1        145        5  ...        336       670   869    18    10   \n",
       "1999    0.9        168        6  ...        483       754  3919    19     4   \n",
       "\n",
       "      talk_time  three_g  touch_screen  wifi  price_range  \n",
       "0            19        0             0     1            1  \n",
       "1             7        1             1     0            2  \n",
       "2             9        1             1     0            2  \n",
       "3            11        1             0     0            2  \n",
       "4            15        1             1     0            1  \n",
       "...         ...      ...           ...   ...          ...  \n",
       "1995         19        1             1     0            0  \n",
       "1996         16        1             1     1            2  \n",
       "1997          5        1             1     0            3  \n",
       "1998         19        1             1     1            0  \n",
       "1999          2        1             1     1            3  \n",
       "\n",
       "[2000 rows x 21 columns]"
      ]
     },
     "execution_count": 6,
     "metadata": {},
     "output_type": "execute_result"
    }
   ],
   "source": [
    "mobile_data"
   ]
  },
  {
   "cell_type": "markdown",
   "metadata": {},
   "source": [
    "W tym zbiorze również nie ma brakujących wartości. "
   ]
  },
  {
   "cell_type": "code",
   "execution_count": 7,
   "metadata": {},
   "outputs": [
    {
     "name": "stdout",
     "output_type": "stream",
     "text": [
      "<class 'pandas.core.frame.DataFrame'>\n",
      "RangeIndex: 2000 entries, 0 to 1999\n",
      "Data columns (total 21 columns):\n",
      " #   Column         Non-Null Count  Dtype  \n",
      "---  ------         --------------  -----  \n",
      " 0   battery_power  2000 non-null   int64  \n",
      " 1   blue           2000 non-null   int64  \n",
      " 2   clock_speed    2000 non-null   float64\n",
      " 3   dual_sim       2000 non-null   int64  \n",
      " 4   fc             2000 non-null   int64  \n",
      " 5   four_g         2000 non-null   int64  \n",
      " 6   int_memory     2000 non-null   int64  \n",
      " 7   m_dep          2000 non-null   float64\n",
      " 8   mobile_wt      2000 non-null   int64  \n",
      " 9   n_cores        2000 non-null   int64  \n",
      " 10  pc             2000 non-null   int64  \n",
      " 11  px_height      2000 non-null   int64  \n",
      " 12  px_width       2000 non-null   int64  \n",
      " 13  ram            2000 non-null   int64  \n",
      " 14  sc_h           2000 non-null   int64  \n",
      " 15  sc_w           2000 non-null   int64  \n",
      " 16  talk_time      2000 non-null   int64  \n",
      " 17  three_g        2000 non-null   int64  \n",
      " 18  touch_screen   2000 non-null   int64  \n",
      " 19  wifi           2000 non-null   int64  \n",
      " 20  price_range    2000 non-null   int64  \n",
      "dtypes: float64(2), int64(19)\n",
      "memory usage: 328.2 KB\n"
     ]
    }
   ],
   "source": [
    "mobile_data.info() "
   ]
  },
  {
   "cell_type": "code",
   "execution_count": 8,
   "metadata": {},
   "outputs": [],
   "source": [
    "X_train_m, X_test_m, y_train_m, y_test_m = train_test_split(\n",
    "    mobile_data.drop(\"price_range\", axis=1), \n",
    "    mobile_data[\"price_range\"], \n",
    "    test_size=0.3, random_state=42) "
   ]
  },
  {
   "cell_type": "markdown",
   "metadata": {},
   "source": [
    "### 1.  Dopasowanie SVM do obu zbiorów danych"
   ]
  },
  {
   "cell_type": "markdown",
   "metadata": {},
   "source": [
    "Pierwsze zadanie jest zadaniem regresji wobec tego zastosujemy klasę SVR i miary odpowiednie dla regresji. \n",
    "Ponadto zbiór danych zawiera jedną zmienną kategoryczną, zatem musimy ją zakodować - w tym celu użyję one hot encodingu. "
   ]
  },
  {
   "cell_type": "code",
   "execution_count": 9,
   "metadata": {},
   "outputs": [],
   "source": [
    "from sklearn.svm import SVR\n",
    "from sklearn.metrics import mean_squared_error, r2_score\n",
    "from sklearn.preprocessing import OneHotEncoder\n",
    "from sklearn.compose import ColumnTransformer\n",
    "from sklearn.pipeline import Pipeline"
   ]
  },
  {
   "cell_type": "code",
   "execution_count": 10,
   "metadata": {},
   "outputs": [],
   "source": [
    "a_preprocessor = ColumnTransformer([('one hot encoding', OneHotEncoder(), [\"district\"])], remainder = \"passthrough\")\n",
    "\n",
    "svr_model = Pipeline(steps=[('preprocessing', a_preprocessor),  \n",
    "                            ('svr', SVR())])  "
   ]
  },
  {
   "cell_type": "code",
   "execution_count": 11,
   "metadata": {},
   "outputs": [],
   "source": [
    "svr_model.fit(X_train_a, y_train_a)\n",
    "y_hat_a = svr_model.predict(X_test_a)\n",
    "y_hat_a_train = svr_model.predict(X_train_a)"
   ]
  },
  {
   "cell_type": "code",
   "execution_count": 12,
   "metadata": {},
   "outputs": [
    {
     "name": "stdout",
     "output_type": "stream",
     "text": [
      "Wyniki pierwszego modelu dla zbioru apartments na zbiorze treningowym:\n",
      "RMSE: 909.5143\n",
      "R^2 score: -0.0100\n",
      "Wyniki pierwszego modelu dla zbioru apartments na zbiorze testowym:\n",
      "RMSE: 921.4747\n",
      "R^2 score: -0.0316\n"
     ]
    }
   ],
   "source": [
    "print(f\"\"\"Wyniki pierwszego modelu dla zbioru apartments na zbiorze treningowym:\n",
    "RMSE: {mean_squared_error(y_train_a, y_hat_a_train, squared=False):.4f}\n",
    "R^2 score: {r2_score(y_train_a, y_hat_a_train):.4f}\"\"\")\n",
    "\n",
    "print(f\"\"\"Wyniki pierwszego modelu dla zbioru apartments na zbiorze testowym:\n",
    "RMSE: {mean_squared_error(y_test_a, y_hat_a, squared=False):.4f}\n",
    "R^2 score: {r2_score(y_test_a, y_hat_a):.4f}\"\"\")"
   ]
  },
  {
   "cell_type": "markdown",
   "metadata": {},
   "source": [
    "Wynik $R^2$ nie napawa optymizmem, przy czym wyniki na zbiorze treningowym pozwalają nam stwierdzić, że nie jest to kwestia przeuczenia. Natomiast sama w sobie miara RMSE nie mówi nam zbyt dużo - musimy ją odnieść do wartości, jakie przyjmuje target. Niestety okazuje się, że rzeczywiście jest to dość duży błąd. "
   ]
  },
  {
   "cell_type": "code",
   "execution_count": 13,
   "metadata": {},
   "outputs": [
    {
     "data": {
      "image/png": "[encoded data removed]",
      "text/plain": [
       "<Figure size 360x360 with 1 Axes>"
      ]
     },
     "metadata": {
      "needs_background": "light"
     },
     "output_type": "display_data"
    }
   ],
   "source": [
    "sns.displot(apartments_data, x=\"m2_price\", binwidth=150)\n",
    "plt.show()"
   ]
  },
  {
   "cell_type": "markdown",
   "metadata": {},
   "source": [
    "Zadanie dotyczące drugiego zbioru jest zadaniem klasyfikacji wobec tego zastosujemy klasę SVC i miary odpowiednie dla klasyfikacji. Tym razem nie będziemy wykonywać żadnego dodatkowego preprocessingu - zmienne \"kategoryczne\" są już zakodowane w postaci binarnej. "
   ]
  },
  {
   "cell_type": "code",
   "execution_count": 14,
   "metadata": {},
   "outputs": [],
   "source": [
    "from sklearn.svm import SVC\n",
    "from sklearn.metrics import accuracy_score, f1_score, classification_report"
   ]
  },
  {
   "cell_type": "code",
   "execution_count": 15,
   "metadata": {},
   "outputs": [],
   "source": [
    "svc_model = SVC() "
   ]
  },
  {
   "cell_type": "code",
   "execution_count": 16,
   "metadata": {},
   "outputs": [],
   "source": [
    "svc_model.fit(X_train_m, y_train_m)\n",
    "y_hat_m = svc_model.predict(X_test_m)\n",
    "y_hat_m_train = svc_model.predict(X_train_m)"
   ]
  },
  {
   "cell_type": "code",
   "execution_count": 17,
   "metadata": {},
   "outputs": [
    {
     "name": "stdout",
     "output_type": "stream",
     "text": [
      "Wyniki pierwszego modelu dla zbioru mobile price na zbiorze treningowym:\n",
      "              precision    recall  f1-score   support\n",
      "\n",
      "           0     0.9745    0.9857    0.9801       349\n",
      "           1     0.9339    0.9576    0.9456       354\n",
      "           2     0.9550    0.9034    0.9285       352\n",
      "           3     0.9573    0.9739    0.9655       345\n",
      "\n",
      "    accuracy                         0.9550      1400\n",
      "   macro avg     0.9552    0.9552    0.9549      1400\n",
      "weighted avg     0.9551    0.9550    0.9548      1400\n",
      "\n",
      "Wyniki pierwszego modelu dla zbioru mobile price na zbiorze testowym:\n",
      "              precision    recall  f1-score   support\n",
      "\n",
      "           0     0.9932    0.9669    0.9799       151\n",
      "           1     0.9114    0.9863    0.9474       146\n",
      "           2     0.9437    0.9054    0.9241       148\n",
      "           3     0.9673    0.9548    0.9610       155\n",
      "\n",
      "    accuracy                         0.9533       600\n",
      "   macro avg     0.9539    0.9534    0.9531       600\n",
      "weighted avg     0.9544    0.9533    0.9533       600\n",
      "\n"
     ]
    }
   ],
   "source": [
    "print(f\"\"\"Wyniki pierwszego modelu dla zbioru mobile price na zbiorze treningowym:\n",
    "{classification_report(y_train_m, y_hat_m_train, digits=4)}\"\"\")\n",
    "\n",
    "print(f\"\"\"Wyniki pierwszego modelu dla zbioru mobile price na zbiorze testowym:\n",
    "{classification_report(y_test_m, y_hat_m, digits=4)}\"\"\")"
   ]
  },
  {
   "cell_type": "markdown",
   "metadata": {},
   "source": [
    "Widać, że model działa już bardzo dobrze."
   ]
  },
  {
   "cell_type": "markdown",
   "metadata": {},
   "source": [
    "### 2. Słuszność skalowania danych"
   ]
  },
  {
   "cell_type": "markdown",
   "metadata": {},
   "source": [
    "We wspomnianym we wstępie i podlinkowanym w treści pracy domowej artykule dotyczącym SVM znajdziemy rozdział poświęcony normalizacji zmiennych. Autorzy wskazują, że w wielu wypadkach, gdy zmienne mają istotnie różne zakresy wartości, korzystnym jest przeskalowanie do wspólnego zakresu, na przykład poprzed standardyzację. Jednak wspominają również, że standardyzacja nie jest właściwa, jeśli dane są rzadkie, gdyż wówczas proces ten przekształca dane w niewłaściwy sposób. \n",
    "\n",
    "\n",
    "W przypadku obu ramek danych zmienne numeryczne nie są rzadkie, zatem będziemy mogli poddać wszystkie standardyzacji i wytrenować na takich zmiennych modele."
   ]
  },
  {
   "cell_type": "code",
   "execution_count": 18,
   "metadata": {},
   "outputs": [
    {
     "data": {
      "image/png": "[encoded data removed]",
      "text/plain": [
       "<Figure size 720x432 with 4 Axes>"
      ]
     },
     "metadata": {
      "needs_background": "light"
     },
     "output_type": "display_data"
    }
   ],
   "source": [
    "apartments_data.drop(\"m2_price\", axis=1).hist(figsize=(10, 6))\n",
    "plt.show()"
   ]
  },
  {
   "cell_type": "code",
   "execution_count": 19,
   "metadata": {},
   "outputs": [
    {
     "data": {
      "image/png": "[encoded data removed]",
      "text/plain": [
       "<Figure size 1152x1008 with 16 Axes>"
      ]
     },
     "metadata": {
      "needs_background": "light"
     },
     "output_type": "display_data"
    }
   ],
   "source": [
    "#bez kolumn binarnych i targetu\n",
    "mobile_data.drop([\"price_range\", \"blue\", \"dual_sim\", \"four_g\", \n",
    "                  \"three_g\", \"touch_screen\", \"wifi\"], axis=1).hist(figsize=(16, 14))\n",
    "plt.show()"
   ]
  },
  {
   "cell_type": "code",
   "execution_count": 20,
   "metadata": {},
   "outputs": [],
   "source": [
    "from sklearn.preprocessing import StandardScaler"
   ]
  },
  {
   "cell_type": "code",
   "execution_count": 21,
   "metadata": {},
   "outputs": [],
   "source": [
    "a_preprocessor_prim = ColumnTransformer([('one hot encoding', OneHotEncoder(), [\"district\"]), \n",
    "                                        ('standardization', StandardScaler(), ['construction_year', 'surface', 'floor', \n",
    "                                                                               'no_rooms'])],\n",
    "                                       remainder = \"passthrough\")\n",
    "\n",
    "svr_model_with_scaling = Pipeline(steps=[('preprocessing', a_preprocessor_prim),  \n",
    "                            ('svr', SVR())])  "
   ]
  },
  {
   "cell_type": "code",
   "execution_count": 22,
   "metadata": {},
   "outputs": [],
   "source": [
    "svr_model_with_scaling.fit(X_train_a, y_train_a)\n",
    "y_hat_a_prim = svr_model_with_scaling.predict(X_test_a)\n",
    "y_hat_a_train_prim = svr_model_with_scaling.predict(X_train_a)"
   ]
  },
  {
   "cell_type": "code",
   "execution_count": 23,
   "metadata": {},
   "outputs": [
    {
     "name": "stdout",
     "output_type": "stream",
     "text": [
      "Wyniki modelu ze skalowaniem zmiennych dla zbioru apartments na zbiorze treningowym:\n",
      "RMSE: 886.8111\n",
      "R^2 score: 0.0398\n",
      "Wyniki modelu ze skalowaniem zmiennych dla zbioru apartments na zbiorze testowym:\n",
      "RMSE: 900.1320\n",
      "R^2 score: 0.0157\n"
     ]
    }
   ],
   "source": [
    "print(f\"\"\"Wyniki modelu ze skalowaniem zmiennych dla zbioru apartments na zbiorze treningowym:\n",
    "RMSE: {mean_squared_error(y_train_a, y_hat_a_train_prim, squared=False):.4f}\n",
    "R^2 score: {r2_score(y_train_a, y_hat_a_train_prim):.4f}\"\"\")\n",
    "\n",
    "print(f\"\"\"Wyniki modelu ze skalowaniem zmiennych dla zbioru apartments na zbiorze testowym:\n",
    "RMSE: {mean_squared_error(y_test_a, y_hat_a_prim, squared=False):.4f}\n",
    "R^2 score: {r2_score(y_test_a, y_hat_a_prim):.4f}\"\"\")"
   ]
  },
  {
   "cell_type": "markdown",
   "metadata": {},
   "source": [
    "Po przeskalowaniu zmiennych udało się osiągnąć nieco lepsze rezultaty w porównaniu do pierwotnego modelu."
   ]
  },
  {
   "cell_type": "code",
   "execution_count": 24,
   "metadata": {},
   "outputs": [],
   "source": [
    "m_preprocessor_prim = ColumnTransformer([('standardization', StandardScaler(), ['battery_power', 'clock_speed', \n",
    "                                                                               'fc', 'int_memory', 'm_dep',\n",
    "                                                                               'mobile_wt', 'n_cores', 'pc', \n",
    "                                                                               'px_height', 'px_width', 'ram', \n",
    "                                                                               'sc_h', 'sc_w', 'talk_time'])],\n",
    "                                       remainder = \"passthrough\")\n",
    "\n",
    "svc_model_with_scaling = Pipeline(steps=[('preprocessing', m_preprocessor_prim),  \n",
    "                            ('svc', SVC())])  "
   ]
  },
  {
   "cell_type": "code",
   "execution_count": 25,
   "metadata": {},
   "outputs": [],
   "source": [
    "svc_model_with_scaling.fit(X_train_m, y_train_m)\n",
    "y_hat_m_prim = svc_model_with_scaling.predict(X_test_m)\n",
    "y_hat_m_train_prim = svc_model_with_scaling.predict(X_train_m)"
   ]
  },
  {
   "cell_type": "code",
   "execution_count": 26,
   "metadata": {},
   "outputs": [
    {
     "name": "stdout",
     "output_type": "stream",
     "text": [
      "Wyniki modelu ze skalowaniem zmiennych dla zbioru mobile price na zbiorze treningowym:\n",
      "              precision    recall  f1-score   support\n",
      "\n",
      "           0     0.9971    0.9914    0.9943       349\n",
      "           1     0.9776    0.9859    0.9817       354\n",
      "           2     0.9802    0.9830    0.9816       352\n",
      "           3     0.9971    0.9913    0.9942       345\n",
      "\n",
      "    accuracy                         0.9879      1400\n",
      "   macro avg     0.9880    0.9879    0.9879      1400\n",
      "weighted avg     0.9879    0.9879    0.9879      1400\n",
      "\n",
      "Wyniki modelu ze skalowaniem zmiennych dla zbioru mobile price na zbiorze testowym:\n",
      "              precision    recall  f1-score   support\n",
      "\n",
      "           0     0.9456    0.9205    0.9329       151\n",
      "           1     0.8217    0.8836    0.8515       146\n",
      "           2     0.8571    0.8514    0.8542       148\n",
      "           3     0.9597    0.9226    0.9408       155\n",
      "\n",
      "    accuracy                         0.8950       600\n",
      "   macro avg     0.8960    0.8945    0.8948       600\n",
      "weighted avg     0.8973    0.8950    0.8957       600\n",
      "\n"
     ]
    }
   ],
   "source": [
    "print(f\"\"\"Wyniki modelu ze skalowaniem zmiennych dla zbioru mobile price na zbiorze treningowym:\n",
    "{classification_report(y_train_m, y_hat_m_train_prim, digits=4)}\"\"\")\n",
    "\n",
    "print(f\"\"\"Wyniki modelu ze skalowaniem zmiennych dla zbioru mobile price na zbiorze testowym:\n",
    "{classification_report(y_test_m, y_hat_m_prim, digits=4)}\"\"\")"
   ]
  },
  {
   "cell_type": "markdown",
   "metadata": {},
   "source": [
    "Po przeskalowaniu zmiennych model osiągnął lepsze rezultaty na zbiorze treningowym, jednak doszło do overfittingu i wyniki na zbiorze testowym są gorsze. Sposobem zaradzenia na ten problem może być regularyzacja modelu poprzez dobranie odpowiednich hiperparametrów. Tym zajmiemy się w punkcie trzecim. "
   ]
  },
  {
   "cell_type": "markdown",
   "metadata": {},
   "source": [
    "### 3. Optymalizacja hiperparametrów poprzez random search"
   ]
  },
  {
   "cell_type": "markdown",
   "metadata": {},
   "source": [
    "W tym punkcie spróbujemy zoptymalizować hiperparametry modeli SVM przy użyciu poszukiwania losowego po przestrzeni parametrów. Będziemy optymalizować parametry `C` i `gamma` w modelach SVM z jądrem gaussowskim (w sklearn nazwanym rbf - od radial basic function) oraz dodatkowo parametr `degree` w przypadku jądra wielomianowego. Dostrajanie przeprowadzimy oddzielnie dla jądra wielomianowego ze względu na to, że w przypadku modeli z innym jądrem parametr stopnia jest ignorowany. \n",
    "\n",
    "\n",
    "Warto przed ich optymalizacją wiedzieć, co oznaczają poszczególne parametry. \n",
    "- Parametr `gamma` definiuje \"jak daleko sięga\" wpływ poszczególnych obserwacji uznanych przez model jako wektory nośne (małe wartości oznaczają daleko, duże wartości - blisko).\n",
    "- Parametr `C` jest parametrem regularyzacyjnym modelu, który wpływa na kompromis pomiędzy wariancją a obciążeniem. Mniejsze wartości odpowiadają większej regularyzacji - prostszej funkcji decyzyjnej. \n",
    "- Parametr `degree` oznacza stopień jądra wielomianowego. "
   ]
  },
  {
   "cell_type": "markdown",
   "metadata": {},
   "source": [
    "#### Optymalizacja hiperparametrów dla pierwszego zbioru"
   ]
  },
  {
   "cell_type": "code",
   "execution_count": 27,
   "metadata": {
    "scrolled": true
   },
   "outputs": [
    {
     "data": {
      "text/plain": [
       "RandomizedSearchCV(cv=5, error_score=nan,\n",
       "                   estimator=Pipeline(memory=None,\n",
       "                                      steps=[('preprocessing',\n",
       "                                              ColumnTransformer(n_jobs=None,\n",
       "                                                                remainder='passthrough',\n",
       "                                                                sparse_threshold=0.3,\n",
       "                                                                transformer_weights=None,\n",
       "                                                                transformers=[('one '\n",
       "                                                                               'hot '\n",
       "                                                                               'encoding',\n",
       "                                                                               OneHotEncoder(categories='auto',\n",
       "                                                                                             drop=None,\n",
       "                                                                                             dtype=<class 'numpy.float64'>,\n",
       "                                                                                             handle_unknown='error',\n",
       "                                                                                             sparse=True),\n",
       "                                                                               ['district']...\n",
       "                                                  shrinking=True, tol=0.001,\n",
       "                                                  verbose=False))],\n",
       "                                      verbose=False),\n",
       "                   iid='deprecated', n_iter=30, n_jobs=None,\n",
       "                   param_distributions={'svr__C': [0.001, 0.01, 0.1, 1, 10, 100,\n",
       "                                                   1000, 10000],\n",
       "                                        'svr__gamma': ['scale', 'auto', 0.001,\n",
       "                                                       0.01, 0.1, 1]},\n",
       "                   pre_dispatch='2*n_jobs', random_state=42,\n",
       "                   refit='neg_root_mean_squared_error',\n",
       "                   return_train_score=False,\n",
       "                   scoring=['neg_root_mean_squared_error', 'r2'], verbose=0)"
      ]
     },
     "execution_count": 27,
     "metadata": {},
     "output_type": "execute_result"
    }
   ],
   "source": [
    "from sklearn.model_selection import RandomizedSearchCV\n",
    "\n",
    "svr_model_a_31 = Pipeline(steps=[('preprocessing', a_preprocessor_prim),   #with scaling\n",
    "                            ('svr', SVR(kernel = 'rbf'))])  \n",
    "\n",
    "param_grid_a_31 = {'svr__C': [0.001, 0.01, 0.1, 1, 10, 100, 1000, 10000],\n",
    "                   'svr__gamma': ['scale', 'auto', 0.001, 0.01, 0.1, 1]}\n",
    "\n",
    "svr_model_a_31_tuned = RandomizedSearchCV(svr_model_a_31, param_grid_a_31, \n",
    "                                          cv = 5, \n",
    "                                          scoring = ['neg_root_mean_squared_error', 'r2'], \n",
    "                                          refit = 'neg_root_mean_squared_error',\n",
    "                                          n_iter = 30,\n",
    "                                          random_state = 42)\n",
    "\n",
    "svr_model_a_31_tuned.fit(X_train_a, y_train_a)"
   ]
  },
  {
   "cell_type": "code",
   "execution_count": 28,
   "metadata": {},
   "outputs": [
    {
     "data": {
      "text/plain": [
       "{'svr__gamma': 0.01, 'svr__C': 10000}"
      ]
     },
     "execution_count": 28,
     "metadata": {},
     "output_type": "execute_result"
    }
   ],
   "source": [
    "svr_model_a_31_tuned.best_params_"
   ]
  },
  {
   "cell_type": "code",
   "execution_count": 29,
   "metadata": {},
   "outputs": [
    {
     "name": "stdout",
     "output_type": "stream",
     "text": [
      "Wyniki dostrojonego modelu z jądrem gaussowskim i skalowaniem zmiennych (zbiór apartments treningowy)\n",
      "RMSE: 141.6187\n",
      "R^2 score: 0.9755\n",
      "Wyniki dostrojonego modelu z jądrem gaussowskim i skalowaniem zmiennych (zbiór apartments testowy)\n",
      "RMSE: 145.3897\n",
      "R^2 score: 0.9743\n"
     ]
    }
   ],
   "source": [
    "y_hat_a_31_train = svr_model_a_31_tuned.predict(X_train_a)\n",
    "y_hat_a_31 = svr_model_a_31_tuned.predict(X_test_a)\n",
    "\n",
    "print(f\"\"\"Wyniki dostrojonego modelu z jądrem gaussowskim i skalowaniem zmiennych (zbiór apartments treningowy)\n",
    "RMSE: {mean_squared_error(y_train_a, y_hat_a_31_train, squared=False):.4f}\n",
    "R^2 score: {r2_score(y_train_a, y_hat_a_31_train):.4f}\"\"\")\n",
    "\n",
    "print(f\"\"\"Wyniki dostrojonego modelu z jądrem gaussowskim i skalowaniem zmiennych (zbiór apartments testowy)\n",
    "RMSE: {mean_squared_error(y_test_a, y_hat_a_31, squared=False):.4f}\n",
    "R^2 score: {r2_score(y_test_a, y_hat_a_31):.4f}\"\"\")"
   ]
  },
  {
   "cell_type": "markdown",
   "metadata": {},
   "source": [
    "Widać, że wyniki są już znacznie lepsze. Sprawdzimy jeszcze, co by się stało, gdybyśmy nie przeskalowali zmiennych."
   ]
  },
  {
   "cell_type": "code",
   "execution_count": 30,
   "metadata": {
    "scrolled": true
   },
   "outputs": [
    {
     "data": {
      "text/plain": [
       "RandomizedSearchCV(cv=5, error_score=nan,\n",
       "                   estimator=Pipeline(memory=None,\n",
       "                                      steps=[('preprocessing',\n",
       "                                              ColumnTransformer(n_jobs=None,\n",
       "                                                                remainder='passthrough',\n",
       "                                                                sparse_threshold=0.3,\n",
       "                                                                transformer_weights=None,\n",
       "                                                                transformers=[('one '\n",
       "                                                                               'hot '\n",
       "                                                                               'encoding',\n",
       "                                                                               OneHotEncoder(categories='auto',\n",
       "                                                                                             drop=None,\n",
       "                                                                                             dtype=<class 'numpy.float64'>,\n",
       "                                                                                             handle_unknown='error',\n",
       "                                                                                             sparse=True),\n",
       "                                                                               ['district']...\n",
       "                                                  shrinking=True, tol=0.001,\n",
       "                                                  verbose=False))],\n",
       "                                      verbose=False),\n",
       "                   iid='deprecated', n_iter=30, n_jobs=None,\n",
       "                   param_distributions={'svr__C': [0.001, 0.01, 0.1, 1, 10, 100,\n",
       "                                                   1000, 10000],\n",
       "                                        'svr__gamma': ['scale', 'auto', 0.001,\n",
       "                                                       0.01, 0.1, 1]},\n",
       "                   pre_dispatch='2*n_jobs', random_state=42,\n",
       "                   refit='neg_root_mean_squared_error',\n",
       "                   return_train_score=False,\n",
       "                   scoring=['neg_root_mean_squared_error', 'r2'], verbose=0)"
      ]
     },
     "execution_count": 30,
     "metadata": {},
     "output_type": "execute_result"
    }
   ],
   "source": [
    "svr_model_a_31_b = Pipeline(steps=[('preprocessing', a_preprocessor),   #without scaling\n",
    "                            ('svr', SVR(kernel = 'rbf'))])  \n",
    "\n",
    "svr_model_a_31_b_tuned = RandomizedSearchCV(svr_model_a_31_b, param_grid_a_31, \n",
    "                                          cv = 5, \n",
    "                                          scoring = ['neg_root_mean_squared_error', 'r2'], \n",
    "                                          refit = 'neg_root_mean_squared_error',\n",
    "                                          n_iter = 30,\n",
    "                                          random_state = 42)\n",
    "\n",
    "svr_model_a_31_b_tuned.fit(X_train_a, y_train_a)"
   ]
  },
  {
   "cell_type": "code",
   "execution_count": 31,
   "metadata": {},
   "outputs": [
    {
     "name": "stdout",
     "output_type": "stream",
     "text": [
      "Wyniki dostrojonego modelu z jądrem gaussowskim i bez skalowania zmiennych (zbiór apartments treningowy)\n",
      "RMSE: 715.6939\n",
      "R^2 score: 0.3746\n",
      "Wyniki dostrojonego modelu z jądrem gaussowskim i bez skalowania zmiennych (zbiór apartments testowy)\n",
      "RMSE: 806.9720\n",
      "R^2 score: 0.2089\n"
     ]
    }
   ],
   "source": [
    "y_hat_a_31_b_train = svr_model_a_31_b_tuned.predict(X_train_a)\n",
    "y_hat_a_31_b = svr_model_a_31_b_tuned.predict(X_test_a)\n",
    "\n",
    "print(f\"\"\"Wyniki dostrojonego modelu z jądrem gaussowskim i bez skalowania zmiennych (zbiór apartments treningowy)\n",
    "RMSE: {mean_squared_error(y_train_a, y_hat_a_31_b_train, squared=False):.4f}\n",
    "R^2 score: {r2_score(y_train_a, y_hat_a_31_b_train):.4f}\"\"\")\n",
    "\n",
    "print(f\"\"\"Wyniki dostrojonego modelu z jądrem gaussowskim i bez skalowania zmiennych (zbiór apartments testowy)\n",
    "RMSE: {mean_squared_error(y_test_a, y_hat_a_31_b, squared=False):.4f}\n",
    "R^2 score: {r2_score(y_test_a, y_hat_a_31_b):.4f}\"\"\")"
   ]
  },
  {
   "cell_type": "markdown",
   "metadata": {},
   "source": [
    "Jak widać, bez skalowania zmiennych nie jesteśmy w stanie osiągnąć tak dobrych wyników nawet z dostrajaniem hiperparametrów.\n",
    "\n",
    "\n",
    "Teraz spróbujemy również dostroić model oparty o jądro wielomianowe. "
   ]
  },
  {
   "cell_type": "code",
   "execution_count": 32,
   "metadata": {
    "scrolled": true
   },
   "outputs": [
    {
     "data": {
      "text/plain": [
       "RandomizedSearchCV(cv=5, error_score=nan,\n",
       "                   estimator=Pipeline(memory=None,\n",
       "                                      steps=[('preprocessing',\n",
       "                                              ColumnTransformer(n_jobs=None,\n",
       "                                                                remainder='passthrough',\n",
       "                                                                sparse_threshold=0.3,\n",
       "                                                                transformer_weights=None,\n",
       "                                                                transformers=[('one '\n",
       "                                                                               'hot '\n",
       "                                                                               'encoding',\n",
       "                                                                               OneHotEncoder(categories='auto',\n",
       "                                                                                             drop=None,\n",
       "                                                                                             dtype=<class 'numpy.float64'>,\n",
       "                                                                                             handle_unknown='error',\n",
       "                                                                                             sparse=True),\n",
       "                                                                               ['district']...\n",
       "                                                  verbose=False))],\n",
       "                                      verbose=False),\n",
       "                   iid='deprecated', n_iter=40, n_jobs=None,\n",
       "                   param_distributions={'svr__C': [0.001, 0.01, 0.1, 1, 10, 100,\n",
       "                                                   1000],\n",
       "                                        'svr__degree': [2, 3, 4, 5, 6, 7, 8],\n",
       "                                        'svr__gamma': ['scale', 'auto', 0.001,\n",
       "                                                       0.01, 0.1]},\n",
       "                   pre_dispatch='2*n_jobs', random_state=42,\n",
       "                   refit='neg_root_mean_squared_error',\n",
       "                   return_train_score=False,\n",
       "                   scoring=['neg_root_mean_squared_error', 'r2'], verbose=0)"
      ]
     },
     "execution_count": 32,
     "metadata": {},
     "output_type": "execute_result"
    }
   ],
   "source": [
    "svr_model_a_32 = Pipeline(steps=[('preprocessing', a_preprocessor_prim),   #with scaling\n",
    "                            ('svr', SVR(kernel = 'poly'))])  \n",
    "\n",
    "param_grid_a_32 = {'svr__C': [0.001, 0.01, 0.1, 1, 10, 100, 1000],\n",
    "                   'svr__gamma': ['scale', 'auto', 0.001, 0.01, 0.1],\n",
    "                   'svr__degree': [2, 3, 4, 5, 6, 7, 8]}\n",
    "\n",
    "svr_model_a_32_tuned = RandomizedSearchCV(svr_model_a_32, param_grid_a_32, \n",
    "                                          cv = 5, \n",
    "                                          scoring = ['neg_root_mean_squared_error', 'r2'], \n",
    "                                          refit = 'neg_root_mean_squared_error',\n",
    "                                          n_iter = 40,\n",
    "                                          random_state = 42)\n",
    "\n",
    "svr_model_a_32_tuned.fit(X_train_a, y_train_a)"
   ]
  },
  {
   "cell_type": "code",
   "execution_count": 33,
   "metadata": {},
   "outputs": [
    {
     "data": {
      "text/plain": [
       "{'svr__gamma': 0.1, 'svr__degree': 3, 'svr__C': 1000}"
      ]
     },
     "execution_count": 33,
     "metadata": {},
     "output_type": "execute_result"
    }
   ],
   "source": [
    "svr_model_a_32_tuned.best_params_"
   ]
  },
  {
   "cell_type": "code",
   "execution_count": 34,
   "metadata": {},
   "outputs": [
    {
     "name": "stdout",
     "output_type": "stream",
     "text": [
      "Wyniki dostrojonego modelu z jądrem wielomianowym i skalowaniem zmiennych (zbiór apartments treningowy)\n",
      "RMSE: 444.8104\n",
      "R^2 score: 0.7584\n",
      "Wyniki dostrojonego modelu z jądrem wielomianowym i skalowaniem zmiennych (zbiór apartments testowy)\n",
      "RMSE: 504.8480\n",
      "R^2 score: 0.6904\n"
     ]
    }
   ],
   "source": [
    "y_hat_a_32_train = svr_model_a_32_tuned.predict(X_train_a)\n",
    "y_hat_a_32 = svr_model_a_32_tuned.predict(X_test_a)\n",
    "\n",
    "print(f\"\"\"Wyniki dostrojonego modelu z jądrem wielomianowym i skalowaniem zmiennych (zbiór apartments treningowy)\n",
    "RMSE: {mean_squared_error(y_train_a, y_hat_a_32_train, squared=False):.4f}\n",
    "R^2 score: {r2_score(y_train_a, y_hat_a_32_train):.4f}\"\"\")\n",
    "\n",
    "print(f\"\"\"Wyniki dostrojonego modelu z jądrem wielomianowym i skalowaniem zmiennych (zbiór apartments testowy)\n",
    "RMSE: {mean_squared_error(y_test_a, y_hat_a_32, squared=False):.4f}\n",
    "R^2 score: {r2_score(y_test_a, y_hat_a_32):.4f}\"\"\")"
   ]
  },
  {
   "cell_type": "markdown",
   "metadata": {},
   "source": [
    "Jak widać, wynik jest również znacznie lepszy niż w przypadku niedostrojonych modeli, ale gorszy niż dla poprzedniego dostrojonego modelu (z jądrem rbf). "
   ]
  },
  {
   "cell_type": "markdown",
   "metadata": {},
   "source": [
    "#### Optymalizacja hiperparametrów dla drugiego zbioru"
   ]
  },
  {
   "cell_type": "code",
   "execution_count": 35,
   "metadata": {},
   "outputs": [],
   "source": [
    "from sklearn.metrics import make_scorer, accuracy_score, precision_score, recall_score, f1_score\n",
    "\n",
    "scoring = {'accuracy': make_scorer(accuracy_score),\n",
    "           'precision': make_scorer(precision_score, average = 'macro'),\n",
    "           'recall': make_scorer(recall_score, average = 'macro'),\n",
    "           'f1_weighted': make_scorer(f1_score, average = 'weighted')}"
   ]
  },
  {
   "cell_type": "code",
   "execution_count": 36,
   "metadata": {},
   "outputs": [
    {
     "data": {
      "text/plain": [
       "RandomizedSearchCV(cv=5, error_score=nan,\n",
       "                   estimator=Pipeline(memory=None,\n",
       "                                      steps=[('preprocessing',\n",
       "                                              ColumnTransformer(n_jobs=None,\n",
       "                                                                remainder='passthrough',\n",
       "                                                                sparse_threshold=0.3,\n",
       "                                                                transformer_weights=None,\n",
       "                                                                transformers=[('standardization',\n",
       "                                                                               StandardScaler(copy=True,\n",
       "                                                                                              with_mean=True,\n",
       "                                                                                              with_std=True),\n",
       "                                                                               ['battery_power',\n",
       "                                                                                'clock_speed',\n",
       "                                                                                'fc',\n",
       "                                                                                'int_memory',\n",
       "                                                                                'm_dep',\n",
       "                                                                                'mobile_wt...\n",
       "                                                   1000, 10000],\n",
       "                                        'svc__gamma': ['scale', 'auto', 0.001,\n",
       "                                                       0.01, 0.1, 1]},\n",
       "                   pre_dispatch='2*n_jobs', random_state=42, refit='accuracy',\n",
       "                   return_train_score=False,\n",
       "                   scoring={'accuracy': make_scorer(accuracy_score),\n",
       "                            'f1_weighted': make_scorer(f1_score, average=weighted),\n",
       "                            'precision': make_scorer(precision_score, average=macro),\n",
       "                            'recall': make_scorer(recall_score, average=macro)},\n",
       "                   verbose=0)"
      ]
     },
     "execution_count": 36,
     "metadata": {},
     "output_type": "execute_result"
    }
   ],
   "source": [
    "svc_model_m_31 = Pipeline(steps=[('preprocessing', m_preprocessor_prim),   #with scaling\n",
    "                            ('svc', SVC(kernel='rbf'))])  \n",
    "\n",
    "param_grid_m_31 = {'svc__C': [0.001, 0.01, 0.1, 1, 10, 100, 1000, 10000],\n",
    "                   'svc__gamma': ['scale', 'auto', 0.001, 0.01, 0.1, 1]}\n",
    "\n",
    "\n",
    "svc_model_m_31_tuned = RandomizedSearchCV(svc_model_m_31, param_grid_m_31, \n",
    "                                          cv = 5, \n",
    "                                          scoring = scoring,\n",
    "                                          refit = 'accuracy',\n",
    "                                          n_iter = 30,\n",
    "                                          random_state = 42)\n",
    "\n",
    "svc_model_m_31_tuned.fit(X_train_m, y_train_m)"
   ]
  },
  {
   "cell_type": "code",
   "execution_count": 37,
   "metadata": {},
   "outputs": [
    {
     "data": {
      "text/plain": [
       "{'svc__gamma': 0.001, 'svc__C': 100}"
      ]
     },
     "execution_count": 37,
     "metadata": {},
     "output_type": "execute_result"
    }
   ],
   "source": [
    "svc_model_m_31_tuned.best_params_"
   ]
  },
  {
   "cell_type": "code",
   "execution_count": 38,
   "metadata": {},
   "outputs": [
    {
     "name": "stdout",
     "output_type": "stream",
     "text": [
      "Wyniki dostrojonego modelu z jądrem gaussowskim i skalowaniem zmiennych (zbiór mobile treningowy):\n",
      "              precision    recall  f1-score   support\n",
      "\n",
      "           0     0.9771    0.9799    0.9785       349\n",
      "           1     0.9630    0.9548    0.9589       354\n",
      "           2     0.9659    0.9659    0.9659       352\n",
      "           3     0.9827    0.9884    0.9855       345\n",
      "\n",
      "    accuracy                         0.9721      1400\n",
      "   macro avg     0.9722    0.9723    0.9722      1400\n",
      "weighted avg     0.9721    0.9721    0.9721      1400\n",
      "\n",
      "Wyniki dostrojonego modelu z jądrem gaussowskim i skalowaniem zmiennych (zbiór mobile testowy):\n",
      "              precision    recall  f1-score   support\n",
      "\n",
      "           0     0.9730    0.9536    0.9632       151\n",
      "           1     0.9211    0.9589    0.9396       146\n",
      "           2     0.9786    0.9257    0.9514       148\n",
      "           3     0.9625    0.9935    0.9778       155\n",
      "\n",
      "    accuracy                         0.9583       600\n",
      "   macro avg     0.9588    0.9579    0.9580       600\n",
      "weighted avg     0.9590    0.9583    0.9583       600\n",
      "\n"
     ]
    }
   ],
   "source": [
    "y_hat_m_31_train = svc_model_m_31_tuned.predict(X_train_m)\n",
    "y_hat_m_31 = svc_model_m_31_tuned.predict(X_test_m)\n",
    "\n",
    "print(f\"\"\"Wyniki dostrojonego modelu z jądrem gaussowskim i skalowaniem zmiennych (zbiór mobile treningowy):\n",
    "{classification_report(y_train_m, y_hat_m_31_train, digits=4)}\"\"\")\n",
    "\n",
    "print(f\"\"\"Wyniki dostrojonego modelu z jądrem gaussowskim i skalowaniem zmiennych (zbiór mobile testowy):\n",
    "{classification_report(y_test_m, y_hat_m_31, digits=4)}\"\"\")"
   ]
  },
  {
   "cell_type": "markdown",
   "metadata": {},
   "source": [
    "Widać, że wyniki są już lepsze i nie dochodzi do takiego overfittingu jak wcześniej. Sprawdzimy jeszcze, co by się stało, gdybyśmy nie przeskalowali zmiennych."
   ]
  },
  {
   "cell_type": "code",
   "execution_count": 39,
   "metadata": {},
   "outputs": [
    {
     "data": {
      "text/plain": [
       "RandomizedSearchCV(cv=5, error_score=nan,\n",
       "                   estimator=Pipeline(memory=None,\n",
       "                                      steps=[('svc',\n",
       "                                              SVC(C=1.0, break_ties=False,\n",
       "                                                  cache_size=200,\n",
       "                                                  class_weight=None, coef0=0.0,\n",
       "                                                  decision_function_shape='ovr',\n",
       "                                                  degree=3, gamma='scale',\n",
       "                                                  kernel='rbf', max_iter=-1,\n",
       "                                                  probability=False,\n",
       "                                                  random_state=None,\n",
       "                                                  shrinking=True, tol=0.001,\n",
       "                                                  verbose=False))],\n",
       "                                      verbose=False),\n",
       "                   iid='deprecated', n_iter=...\n",
       "                                                   1000, 10000],\n",
       "                                        'svc__gamma': ['scale', 'auto', 0.001,\n",
       "                                                       0.01, 0.1, 1]},\n",
       "                   pre_dispatch='2*n_jobs', random_state=42, refit='accuracy',\n",
       "                   return_train_score=False,\n",
       "                   scoring={'accuracy': make_scorer(accuracy_score),\n",
       "                            'f1_weighted': make_scorer(f1_score, average=weighted),\n",
       "                            'precision': make_scorer(precision_score, average=macro),\n",
       "                            'recall': make_scorer(recall_score, average=macro)},\n",
       "                   verbose=0)"
      ]
     },
     "execution_count": 39,
     "metadata": {},
     "output_type": "execute_result"
    }
   ],
   "source": [
    "svc_model_m_31_b = Pipeline([('svc', SVC(kernel='rbf'))])  \n",
    "\n",
    "svc_model_m_31_b_tuned = RandomizedSearchCV(svc_model_m_31_b, param_grid_m_31, \n",
    "                                          cv = 5, \n",
    "                                          scoring = scoring,\n",
    "                                          refit = 'accuracy',\n",
    "                                          n_iter = 30,\n",
    "                                          random_state = 42)\n",
    "\n",
    "svc_model_m_31_b_tuned.fit(X_train_m, y_train_m)"
   ]
  },
  {
   "cell_type": "code",
   "execution_count": 40,
   "metadata": {},
   "outputs": [
    {
     "name": "stdout",
     "output_type": "stream",
     "text": [
      "Wyniki dostrojonego modelu z jądrem gaussowskim i bez skalowania zmiennych (zbiór mobile treningowy):\n",
      "              precision    recall  f1-score   support\n",
      "\n",
      "           0     0.9829    0.9885    0.9857       349\n",
      "           1     0.9689    0.9689    0.9689       354\n",
      "           2     0.9662    0.9744    0.9703       352\n",
      "           3     0.9941    0.9797    0.9869       345\n",
      "\n",
      "    accuracy                         0.9779      1400\n",
      "   macro avg     0.9780    0.9779    0.9779      1400\n",
      "weighted avg     0.9779    0.9779    0.9779      1400\n",
      "\n",
      "Wyniki dostrojonego modelu z jądrem gaussowskim i bez skalowania zmiennych (zbiór mobile testowy):\n",
      "              precision    recall  f1-score   support\n",
      "\n",
      "           0     1.0000    0.9603    0.9797       151\n",
      "           1     0.9241    1.0000    0.9605       146\n",
      "           2     0.9724    0.9527    0.9625       148\n",
      "           3     0.9934    0.9742    0.9837       155\n",
      "\n",
      "    accuracy                         0.9717       600\n",
      "   macro avg     0.9725    0.9718    0.9716       600\n",
      "weighted avg     0.9730    0.9717    0.9718       600\n",
      "\n"
     ]
    }
   ],
   "source": [
    "y_hat_m_31_b_train = svc_model_m_31_b_tuned.predict(X_train_m)\n",
    "y_hat_m_31_b = svc_model_m_31_b_tuned.predict(X_test_m)\n",
    "\n",
    "print(f\"\"\"Wyniki dostrojonego modelu z jądrem gaussowskim i bez skalowania zmiennych (zbiór mobile treningowy):\n",
    "{classification_report(y_train_m, y_hat_m_31_b_train, digits=4)}\"\"\")\n",
    "\n",
    "print(f\"\"\"Wyniki dostrojonego modelu z jądrem gaussowskim i bez skalowania zmiennych (zbiór mobile testowy):\n",
    "{classification_report(y_test_m, y_hat_m_31_b, digits=4)}\"\"\")"
   ]
  },
  {
   "cell_type": "markdown",
   "metadata": {},
   "source": [
    "W wypadku tego zbioru nieprzeskalowanie zmiennych wpływa na poprawę jakości modelu. \n",
    "\n",
    "Spróbujemy jeszcze dostroić model oparty o jądro wielomianowe. "
   ]
  },
  {
   "cell_type": "code",
   "execution_count": 41,
   "metadata": {},
   "outputs": [
    {
     "data": {
      "text/plain": [
       "RandomizedSearchCV(cv=5, error_score=nan,\n",
       "                   estimator=Pipeline(memory=None,\n",
       "                                      steps=[('preprocessing',\n",
       "                                              ColumnTransformer(n_jobs=None,\n",
       "                                                                remainder='passthrough',\n",
       "                                                                sparse_threshold=0.3,\n",
       "                                                                transformer_weights=None,\n",
       "                                                                transformers=[('standardization',\n",
       "                                                                               StandardScaler(copy=True,\n",
       "                                                                                              with_mean=True,\n",
       "                                                                                              with_std=True),\n",
       "                                                                               ['battery_power',\n",
       "                                                                                'clock_speed',\n",
       "                                                                                'fc',\n",
       "                                                                                'int_memory',\n",
       "                                                                                'm_dep',\n",
       "                                                                                'mobile_wt...\n",
       "                                        'svc__degree': [2, 3, 4, 5, 6, 7, 8],\n",
       "                                        'svc__gamma': ['scale', 'auto', 0.001,\n",
       "                                                       0.01, 0.1]},\n",
       "                   pre_dispatch='2*n_jobs', random_state=42, refit='accuracy',\n",
       "                   return_train_score=False,\n",
       "                   scoring={'accuracy': make_scorer(accuracy_score),\n",
       "                            'f1_weighted': make_scorer(f1_score, average=weighted),\n",
       "                            'precision': make_scorer(precision_score, average=macro),\n",
       "                            'recall': make_scorer(recall_score, average=macro)},\n",
       "                   verbose=0)"
      ]
     },
     "execution_count": 41,
     "metadata": {},
     "output_type": "execute_result"
    }
   ],
   "source": [
    "svc_model_m_32 = Pipeline(steps=[('preprocessing', m_preprocessor_prim),   #with scaling\n",
    "                            ('svc', SVC(kernel='poly'))])  \n",
    "\n",
    "param_grid_m_32 = {'svc__C': [0.001, 0.01, 0.1, 1, 10, 100, 1000],\n",
    "                   'svc__gamma': ['scale', 'auto', 0.001, 0.01, 0.1],\n",
    "                   'svc__degree': [2, 3, 4, 5, 6, 7, 8]}\n",
    "\n",
    "\n",
    "svc_model_m_32_tuned = RandomizedSearchCV(svc_model_m_32, param_grid_m_32, \n",
    "                                          cv = 5, \n",
    "                                          scoring = scoring,\n",
    "                                          refit = 'accuracy',\n",
    "                                          n_iter = 40,\n",
    "                                          random_state = 42)\n",
    "\n",
    "svc_model_m_32_tuned.fit(X_train_m, y_train_m)"
   ]
  },
  {
   "cell_type": "code",
   "execution_count": 42,
   "metadata": {},
   "outputs": [
    {
     "data": {
      "text/plain": [
       "{'svc__gamma': 0.1, 'svc__degree': 2, 'svc__C': 1}"
      ]
     },
     "execution_count": 42,
     "metadata": {},
     "output_type": "execute_result"
    }
   ],
   "source": [
    "svc_model_m_32_tuned.best_params_"
   ]
  },
  {
   "cell_type": "code",
   "execution_count": 43,
   "metadata": {},
   "outputs": [
    {
     "name": "stdout",
     "output_type": "stream",
     "text": [
      "Wyniki dostrojonego modelu z jądrem wielomianowym i skalowaniem zmiennych (zbiór mobile treningowy):\n",
      "              precision    recall  f1-score   support\n",
      "\n",
      "           0     0.9882    0.9599    0.9738       349\n",
      "           1     0.9209    0.9209    0.9209       354\n",
      "           2     0.8770    0.9517    0.9128       352\n",
      "           3     0.9846    0.9275    0.9552       345\n",
      "\n",
      "    accuracy                         0.9400      1400\n",
      "   macro avg     0.9427    0.9400    0.9407      1400\n",
      "weighted avg     0.9423    0.9400    0.9405      1400\n",
      "\n",
      "Wyniki dostrojonego modelu z jądrem wielomianowym i skalowaniem zmiennych (zbiór mobile testowy):\n",
      "              precision    recall  f1-score   support\n",
      "\n",
      "           0     0.8897    0.8543    0.8716       151\n",
      "           1     0.7006    0.7534    0.7261       146\n",
      "           2     0.7239    0.7973    0.7588       148\n",
      "           3     0.9630    0.8387    0.8966       155\n",
      "\n",
      "    accuracy                         0.8117       600\n",
      "   macro avg     0.8193    0.8109    0.8133       600\n",
      "weighted avg     0.8217    0.8117    0.8148       600\n",
      "\n"
     ]
    }
   ],
   "source": [
    "y_hat_m_32_train = svc_model_m_32_tuned.predict(X_train_m)\n",
    "y_hat_m_32 = svc_model_m_32_tuned.predict(X_test_m)\n",
    "\n",
    "print(f\"\"\"Wyniki dostrojonego modelu z jądrem wielomianowym i skalowaniem zmiennych (zbiór mobile treningowy):\n",
    "{classification_report(y_train_m, y_hat_m_32_train, digits=4)}\"\"\")\n",
    "\n",
    "print(f\"\"\"Wyniki dostrojonego modelu z jądrem wielomianowym i skalowaniem zmiennych (zbiór mobile testowy):\n",
    "{classification_report(y_test_m, y_hat_m_32, digits=4)}\"\"\")"
   ]
  },
  {
   "cell_type": "markdown",
   "metadata": {},
   "source": [
    "Niestety w tym przypadku jądro wielomianowe nie okazało się być dobrym rozwiązaniem. "
   ]
  },
  {
   "cell_type": "markdown",
   "metadata": {},
   "source": [
    "### Podsumowanie osiągniętych wyników\n",
    "\n",
    "1. Zbiór danych apartments"
   ]
  },
  {
   "cell_type": "code",
   "execution_count": 44,
   "metadata": {},
   "outputs": [
    {
     "data": {
      "text/html": [
       "<div>\n",
       "<style scoped>\n",
       "    .dataframe tbody tr th:only-of-type {\n",
       "        vertical-align: middle;\n",
       "    }\n",
       "\n",
       "    .dataframe tbody tr th {\n",
       "        vertical-align: top;\n",
       "    }\n",
       "\n",
       "    .dataframe thead th {\n",
       "        text-align: right;\n",
       "    }\n",
       "</style>\n",
       "<table border=\"1\" class=\"dataframe\">\n",
       "  <thead>\n",
       "    <tr style=\"text-align: right;\">\n",
       "      <th></th>\n",
       "      <th>RMSE</th>\n",
       "      <th>R2</th>\n",
       "    </tr>\n",
       "  </thead>\n",
       "  <tbody>\n",
       "    <tr>\n",
       "      <th>SVR default</th>\n",
       "      <td>921.474677</td>\n",
       "      <td>-0.031575</td>\n",
       "    </tr>\n",
       "    <tr>\n",
       "      <th>SVR w/ scaling</th>\n",
       "      <td>900.132022</td>\n",
       "      <td>0.015657</td>\n",
       "    </tr>\n",
       "    <tr>\n",
       "      <th>SVR w/ scaling tuned (rbf kernel)</th>\n",
       "      <td>145.389722</td>\n",
       "      <td>0.974320</td>\n",
       "    </tr>\n",
       "    <tr>\n",
       "      <th>SVR w/o scaling tuned (rbf kernel)</th>\n",
       "      <td>806.971957</td>\n",
       "      <td>0.208864</td>\n",
       "    </tr>\n",
       "    <tr>\n",
       "      <th>SVR w/ scaling tuned (poly kernel)</th>\n",
       "      <td>504.847954</td>\n",
       "      <td>0.690361</td>\n",
       "    </tr>\n",
       "  </tbody>\n",
       "</table>\n",
       "</div>"
      ],
      "text/plain": [
       "                                          RMSE        R2\n",
       "SVR default                         921.474677 -0.031575\n",
       "SVR w/ scaling                      900.132022  0.015657\n",
       "SVR w/ scaling tuned (rbf kernel)   145.389722  0.974320\n",
       "SVR w/o scaling tuned (rbf kernel)  806.971957  0.208864\n",
       "SVR w/ scaling tuned (poly kernel)  504.847954  0.690361"
      ]
     },
     "execution_count": 44,
     "metadata": {},
     "output_type": "execute_result"
    }
   ],
   "source": [
    "RMSE = []\n",
    "R2 = []\n",
    "for y_hat in [y_hat_a, y_hat_a_prim, y_hat_a_31, y_hat_a_31_b, y_hat_a_32]:\n",
    "    RMSE.append(mean_squared_error(y_test_a, y_hat, squared=False))\n",
    "    R2.append(r2_score(y_test_a, y_hat))\n",
    "\n",
    "pd.DataFrame(list(zip(RMSE, R2)), columns =['RMSE', 'R2'], \n",
    "             index = [\"SVR default\", \"SVR w/ scaling\", \n",
    "                      \"SVR w/ scaling tuned (rbf kernel)\", \n",
    "                      \"SVR w/o scaling tuned (rbf kernel)\",\n",
    "                      \"SVR w/ scaling tuned (poly kernel)\"] )"
   ]
  },
  {
   "cell_type": "markdown",
   "metadata": {},
   "source": [
    "W przypadku tego zbioru danych skalowanie rzeczywiście pomogło w osiągnięciu lepszego wyniku, ale dopiero po dostrojeniu hiperparametrów rzeczywiście otrzymujemy zadowalający wynik (różnica jest naprawdę znacząca). "
   ]
  },
  {
   "cell_type": "markdown",
   "metadata": {},
   "source": [
    "2. Zbiór danych mobile"
   ]
  },
  {
   "cell_type": "code",
   "execution_count": 45,
   "metadata": {},
   "outputs": [
    {
     "data": {
      "text/html": [
       "<div>\n",
       "<style scoped>\n",
       "    .dataframe tbody tr th:only-of-type {\n",
       "        vertical-align: middle;\n",
       "    }\n",
       "\n",
       "    .dataframe tbody tr th {\n",
       "        vertical-align: top;\n",
       "    }\n",
       "\n",
       "    .dataframe thead th {\n",
       "        text-align: right;\n",
       "    }\n",
       "</style>\n",
       "<table border=\"1\" class=\"dataframe\">\n",
       "  <thead>\n",
       "    <tr style=\"text-align: right;\">\n",
       "      <th></th>\n",
       "      <th>accuracy</th>\n",
       "      <th>precision</th>\n",
       "      <th>recall</th>\n",
       "      <th>f1</th>\n",
       "    </tr>\n",
       "  </thead>\n",
       "  <tbody>\n",
       "    <tr>\n",
       "      <th>SVC default</th>\n",
       "      <td>0.953333</td>\n",
       "      <td>0.953893</td>\n",
       "      <td>0.953358</td>\n",
       "      <td>0.953348</td>\n",
       "    </tr>\n",
       "    <tr>\n",
       "      <th>SVC w/ scaling</th>\n",
       "      <td>0.895000</td>\n",
       "      <td>0.896027</td>\n",
       "      <td>0.894506</td>\n",
       "      <td>0.895720</td>\n",
       "    </tr>\n",
       "    <tr>\n",
       "      <th>SVC w/ scaling tuned (rbf kernel)</th>\n",
       "      <td>0.958333</td>\n",
       "      <td>0.958774</td>\n",
       "      <td>0.957943</td>\n",
       "      <td>0.958312</td>\n",
       "    </tr>\n",
       "    <tr>\n",
       "      <th>SVC w/o scaling tuned (rbf kernel)</th>\n",
       "      <td>0.971667</td>\n",
       "      <td>0.972471</td>\n",
       "      <td>0.971790</td>\n",
       "      <td>0.971825</td>\n",
       "    </tr>\n",
       "    <tr>\n",
       "      <th>SVC w/ scaling tuned (poly kernel)</th>\n",
       "      <td>0.811667</td>\n",
       "      <td>0.819295</td>\n",
       "      <td>0.810934</td>\n",
       "      <td>0.814826</td>\n",
       "    </tr>\n",
       "  </tbody>\n",
       "</table>\n",
       "</div>"
      ],
      "text/plain": [
       "                                    accuracy  precision    recall        f1\n",
       "SVC default                         0.953333   0.953893  0.953358  0.953348\n",
       "SVC w/ scaling                      0.895000   0.896027  0.894506  0.895720\n",
       "SVC w/ scaling tuned (rbf kernel)   0.958333   0.958774  0.957943  0.958312\n",
       "SVC w/o scaling tuned (rbf kernel)  0.971667   0.972471  0.971790  0.971825\n",
       "SVC w/ scaling tuned (poly kernel)  0.811667   0.819295  0.810934  0.814826"
      ]
     },
     "execution_count": 45,
     "metadata": {},
     "output_type": "execute_result"
    }
   ],
   "source": [
    "accuracy = [] \n",
    "precision = [] \n",
    "recall = []\n",
    "f1 = []\n",
    "\n",
    "for y_hat in [y_hat_m, y_hat_m_prim, y_hat_m_31, y_hat_m_31_b, y_hat_m_32]:\n",
    "    accuracy.append(accuracy_score(y_test_m, y_hat))\n",
    "    precision.append(precision_score(y_test_m, y_hat, average = 'macro'))\n",
    "    recall.append(recall_score(y_test_m, y_hat, average = 'macro'))\n",
    "    f1.append(f1_score(y_test_m, y_hat, average = 'weighted'))\n",
    "\n",
    "pd.DataFrame(list(zip(accuracy, precision, recall, f1)), columns =['accuracy', 'precision', 'recall', 'f1'], \n",
    "             index = [\"SVC default\", \"SVC w/ scaling\", \n",
    "                      \"SVC w/ scaling tuned (rbf kernel)\", \n",
    "                      \"SVC w/o scaling tuned (rbf kernel)\",\n",
    "                      \"SVC w/ scaling tuned (poly kernel)\"] )"
   ]
  },
  {
   "cell_type": "markdown",
   "metadata": {},
   "source": [
    "W przypadku tego zbioru danych samo skalowanie bez odpowiedniej regularyzacji i dostrojenia hiperparametrów wpłynęło na przeuczenie się modelu i pogorszenie jakości predykcji na zbiorze testowym. \n",
    "Natomiast dostrojony model rzeczywiście skorzystał na skalowaniu zmiennych, natomiast najlepszy wynik osiągnął dostrojony model bez skalowania."
   ]
  },
  {
   "cell_type": "markdown",
   "metadata": {},
   "source": [
    "### Wnioski:\n",
    "- wpływ skalowania zmiennych na poprawę jakości modelu typu SVM może być znaczący (przykład pierwszego zbioru), ale zależy to również od specyfiki zbioru danych,\n",
    "- równie ważne jest dobranie odpowiednich hiperparametrów modelu, wówczas możemy odnieść większą korzyść ze skalowania."
   ]
  },
  {
   "cell_type": "code",
   "execution_count": null,
   "metadata": {},
   "outputs": [],
   "source": []
  }
 ],
 "metadata": {
  "kernelspec": {
   "display_name": "Python 3",
   "language": "python",
   "name": "python3"
  },
  "language_info": {
   "codemirror_mode": {
    "name": "ipython",
    "version": 3
   },
   "file_extension": ".py",
   "mimetype": "text/x-python",
   "name": "python",
   "nbconvert_exporter": "python",
   "pygments_lexer": "ipython3",
   "version": "3.7.3"
  }
 },
 "nbformat": 4,
 "nbformat_minor": 4
}
