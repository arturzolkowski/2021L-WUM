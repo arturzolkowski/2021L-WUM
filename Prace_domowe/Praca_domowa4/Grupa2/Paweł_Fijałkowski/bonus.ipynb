{
 "cells": [
  {
   "cell_type": "code",
   "execution_count": 57,
   "metadata": {},
   "outputs": [],
   "source": [
    "import numpy as np\n",
    "import pandas as pd\n",
    "import matplotlib.pyplot as plt\n",
    "\n",
    "from category_encoders import TargetEncoder\n",
    "from sklearn.pipeline import Pipeline\n",
    "from sklearn.model_selection import train_test_split, GridSearchCV\n",
    "from sklearn.linear_model import LinearRegression, Ridge, Lasso, BayesianRidge\n",
    "from sklearn.metrics import mean_squared_error, r2_score"
   ]
  },
  {
   "cell_type": "code",
   "execution_count": 9,
   "metadata": {},
   "outputs": [
    {
     "name": "stdout",
     "output_type": "stream",
     "text": [
      "<class 'pandas.core.frame.DataFrame'>\n",
      "RangeIndex: 420020 entries, 0 to 420019\n",
      "Data columns (total 4 columns):\n",
      " #   Column         Non-Null Count   Dtype  \n",
      "---  ------         --------------   -----  \n",
      " 0   main_category  420020 non-null  object \n",
      " 1   categories     420020 non-null  object \n",
      " 2   it_location    420020 non-null  object \n",
      " 3   price          420020 non-null  float64\n",
      "dtypes: float64(1), object(3)\n",
      "memory usage: 12.8+ MB\n"
     ]
    }
   ],
   "source": [
    "data = pd.read_csv(\"https://www.dropbox.com/s/360xhh2d9lnaek3/allegro-api-transactions.csv?dl=1\")\n",
    "selected_columns = ['main_category', 'categories', 'it_location', 'price']\n",
    "categorical = ['main_category', 'categories', 'it_location']\n",
    "data = data[selected_columns]\n",
    "data.info()"
   ]
  },
  {
   "cell_type": "markdown",
   "metadata": {},
   "source": [
    "Przeprowadzam transformacje pre-processingowe analogiczne do tych z pracy domowej 2. "
   ]
  },
  {
   "cell_type": "code",
   "execution_count": 10,
   "metadata": {},
   "outputs": [],
   "source": [
    "data['it_location'] = data['it_location'].str.lower()"
   ]
  },
  {
   "cell_type": "code",
   "execution_count": 12,
   "metadata": {},
   "outputs": [
    {
     "data": {
      "text/html": [
       "<div>\n",
       "<style scoped>\n",
       "    .dataframe tbody tr th:only-of-type {\n",
       "        vertical-align: middle;\n",
       "    }\n",
       "\n",
       "    .dataframe tbody tr th {\n",
       "        vertical-align: top;\n",
       "    }\n",
       "\n",
       "    .dataframe thead th {\n",
       "        text-align: right;\n",
       "    }\n",
       "</style>\n",
       "<table border=\"1\" class=\"dataframe\">\n",
       "  <thead>\n",
       "    <tr style=\"text-align: right;\">\n",
       "      <th></th>\n",
       "      <th>main_category</th>\n",
       "      <th>categories</th>\n",
       "      <th>it_location</th>\n",
       "    </tr>\n",
       "  </thead>\n",
       "  <tbody>\n",
       "    <tr>\n",
       "      <th>count</th>\n",
       "      <td>420020</td>\n",
       "      <td>420020</td>\n",
       "      <td>420020</td>\n",
       "    </tr>\n",
       "    <tr>\n",
       "      <th>unique</th>\n",
       "      <td>27</td>\n",
       "      <td>9020</td>\n",
       "      <td>7903</td>\n",
       "    </tr>\n",
       "    <tr>\n",
       "      <th>top</th>\n",
       "      <td>Dom i Ogród</td>\n",
       "      <td>['Dom i Ogród', 'Ogród', 'Rośliny', 'Rośliny o...</td>\n",
       "      <td>warszawa</td>\n",
       "    </tr>\n",
       "    <tr>\n",
       "      <th>freq</th>\n",
       "      <td>91042</td>\n",
       "      <td>3753</td>\n",
       "      <td>27042</td>\n",
       "    </tr>\n",
       "  </tbody>\n",
       "</table>\n",
       "</div>"
      ],
      "text/plain": [
       "       main_category                                         categories  \\\n",
       "count         420020                                             420020   \n",
       "unique            27                                               9020   \n",
       "top      Dom i Ogród  ['Dom i Ogród', 'Ogród', 'Rośliny', 'Rośliny o...   \n",
       "freq           91042                                               3753   \n",
       "\n",
       "       it_location  \n",
       "count       420020  \n",
       "unique        7903  \n",
       "top       warszawa  \n",
       "freq         27042  "
      ]
     },
     "execution_count": 12,
     "metadata": {},
     "output_type": "execute_result"
    }
   ],
   "source": [
    "data[categorical].describe()"
   ]
  },
  {
   "cell_type": "markdown",
   "metadata": {},
   "source": [
    "Pomimo zastosowanych sztuczek, ilość unikalnych kategorii zmiennych `categories` oraz `it_location` jest bardzo duża.\n",
    "\n",
    "Dalej, aby mieć pewien układ odniesienia, wykorzystamy najprostszy model (`LinearRegression`) oraz standardowy encoding (`TargetEncoder`)."
   ]
  },
  {
   "cell_type": "code",
   "execution_count": 15,
   "metadata": {},
   "outputs": [],
   "source": [
    "X_train, X_test, y_train, y_test = train_test_split(data[categorical], data[\"price\"], test_size=0.25, random_state=37)"
   ]
  },
  {
   "cell_type": "code",
   "execution_count": 16,
   "metadata": {},
   "outputs": [
    {
     "data": {
      "text/plain": [
       "GridSearchCV(cv=5,\n",
       "             estimator=Pipeline(steps=[('process', TargetEncoder()),\n",
       "                                       ('model', LinearRegression())]),\n",
       "             param_grid={'process__min_samples_leaf': [1, 2, 3, 4],\n",
       "                         'process__smoothing': [0.5, 5.0, 50.0, 500.0, 5000.0]},\n",
       "             refit='neg_root_mean_squared_error',\n",
       "             scoring=['neg_root_mean_squared_error', 'r2'])"
      ]
     },
     "execution_count": 16,
     "metadata": {},
     "output_type": "execute_result"
    }
   ],
   "source": [
    "my_pipeline = Pipeline(steps=[('process', TargetEncoder()),  ('model', LinearRegression())])  \n",
    "parameters = {\n",
    "    'process__smoothing': [0.05*10**(i) for i in range(1,6)],\n",
    "    'process__min_samples_leaf': [i for i in range(1,5)]\n",
    "             }\n",
    "model_linear = GridSearchCV(my_pipeline, parameters,\n",
    "                          cv = 5, \n",
    "                          scoring = ['neg_root_mean_squared_error', 'r2'], \n",
    "                          refit = 'neg_root_mean_squared_error')"
   ]
  },
  {
   "cell_type": "code",
   "execution_count": null,
   "metadata": {},
   "outputs": [],
   "source": [
    "model_linear.fit(X_train, y_train)"
   ]
  },
  {
   "cell_type": "code",
   "execution_count": 32,
   "metadata": {},
   "outputs": [],
   "source": [
    "def judge_model(model, x, y):\n",
    "    my_predictions_y = model.predict(x)\n",
    "    rmse_score = f'RMSE: {mean_squared_error(y, my_predictions_y, squared=False):.1f}\\n'\n",
    "    r2 = f'R^2 score: {r2_score(y, my_predictions_y):.4f}'\n",
    "    print(rmse_score + r2)"
   ]
  },
  {
   "cell_type": "code",
   "execution_count": 33,
   "metadata": {},
   "outputs": [
    {
     "name": "stdout",
     "output_type": "stream",
     "text": [
      "RMSE: 402.8\n",
      "R^2 score: 0.0926\n"
     ]
    }
   ],
   "source": [
    "judge_model(model_linear, X_test, y_test)"
   ]
  },
  {
   "cell_type": "markdown",
   "metadata": {},
   "source": [
    "Dalej wykorzystamy dwie najprostsze metody regularyzacji oferowane przez pakiet `scikit-learn` - Ridge i Lasso.\n",
    "\n",
    "\n",
    "1. [Ridge - opis](https://scikit-learn.org/stable/modules/linear_model.html#ridge-regression-and-classification)\n",
    "2. [Lasso - opis](https://scikit-learn.org/stable/modules/linear_model.html#lasso)"
   ]
  },
  {
   "cell_type": "markdown",
   "metadata": {},
   "source": [
    "## Ridge"
   ]
  },
  {
   "cell_type": "code",
   "execution_count": 22,
   "metadata": {},
   "outputs": [],
   "source": [
    "pipeline_ridge = Pipeline(steps=[('process', TargetEncoder()),('model', Ridge())])  \n",
    "params_ridge = parameters\n",
    "params_ridge[\"model__alpha\"] = [0.05*10**(i) for i in range(1,5)]\n",
    "model_ridge = GridSearchCV(pipeline_ridge, params_ridge,\n",
    "                          cv = 2, \n",
    "                          scoring = ['neg_root_mean_squared_error', 'r2'], \n",
    "                          refit = 'neg_root_mean_squared_error')\n"
   ]
  },
  {
   "cell_type": "code",
   "execution_count": 23,
   "metadata": {},
   "outputs": [
    {
     "data": {
      "text/plain": [
       "GridSearchCV(cv=2,\n",
       "             estimator=Pipeline(steps=[('process', TargetEncoder()),\n",
       "                                       ('model', Ridge())]),\n",
       "             param_grid={'model__alpha': [0.5, 5.0, 50.0, 500.0],\n",
       "                         'process__min_samples_leaf': [1, 2, 3, 4],\n",
       "                         'process__smoothing': [0.5, 5.0, 50.0, 500.0, 5000.0]},\n",
       "             refit='neg_root_mean_squared_error',\n",
       "             scoring=['neg_root_mean_squared_error', 'r2'])"
      ]
     },
     "execution_count": 23,
     "metadata": {},
     "output_type": "execute_result"
    }
   ],
   "source": [
    "model_ridge.fit(X_train, y_train)"
   ]
  },
  {
   "cell_type": "code",
   "execution_count": 34,
   "metadata": {},
   "outputs": [
    {
     "name": "stdout",
     "output_type": "stream",
     "text": [
      "RMSE: 402.6\n",
      "R^2 score: 0.0934\n"
     ]
    }
   ],
   "source": [
    "judge_model(model_ridge,X_test,y_test)"
   ]
  },
  {
   "cell_type": "markdown",
   "metadata": {},
   "source": [
    "Możemy więc zauważyć, że wynik jest praktycznie ten sam. \n",
    "\n",
    "[A to ja gdy widzę ten rezultat.](https://www.google.com/search?q=smutna+%C5%BCabka&sxsrf=ALeKk03JNu2HRvbAWA72dTrRm-TD8VT8Eg:1619458577200&tbm=isch&source=iu&ictx=1&fir=BtRo85q8mlNvyM%252Ckl6Ur4-I2CVQXM%252C_&vet=1&usg=AI4_-kQGvvrTZnglbHW0OPSt0oZx6fS4HA&sa=X&ved=2ahUKEwjTtOOpuZzwAhWCi8MKHVI_AW0Q9QF6BAgKEAE&biw=1478&bih=759#imgrc=BtRo85q8mlNvyM)"
   ]
  },
  {
   "cell_type": "markdown",
   "metadata": {},
   "source": [
    "## Lasso"
   ]
  },
  {
   "cell_type": "code",
   "execution_count": 35,
   "metadata": {},
   "outputs": [],
   "source": [
    "pipeline_lasso = Pipeline(steps=[('process', TargetEncoder()),  \n",
    "                     ('model', Lasso())])  \n",
    "params_lasso = params_ridge\n",
    "model_lasso = GridSearchCV(pipeline_lasso, params_lasso,\n",
    "                          cv = 2, \n",
    "                          scoring = ['neg_root_mean_squared_error', 'r2'], \n",
    "                          refit = 'neg_root_mean_squared_error')"
   ]
  },
  {
   "cell_type": "code",
   "execution_count": 36,
   "metadata": {},
   "outputs": [
    {
     "data": {
      "text/plain": [
       "GridSearchCV(cv=2,\n",
       "             estimator=Pipeline(steps=[('process', TargetEncoder()),\n",
       "                                       ('model', Lasso())]),\n",
       "             param_grid={'model__alpha': [0.5, 5.0, 50.0, 500.0],\n",
       "                         'process__min_samples_leaf': [1, 2, 3, 4],\n",
       "                         'process__smoothing': [0.5, 5.0, 50.0, 500.0, 5000.0]},\n",
       "             refit='neg_root_mean_squared_error',\n",
       "             scoring=['neg_root_mean_squared_error', 'r2'])"
      ]
     },
     "execution_count": 36,
     "metadata": {},
     "output_type": "execute_result"
    }
   ],
   "source": [
    "model_lasso.fit(X_train, y_train)"
   ]
  },
  {
   "cell_type": "code",
   "execution_count": 37,
   "metadata": {},
   "outputs": [
    {
     "name": "stdout",
     "output_type": "stream",
     "text": [
      "RMSE: 402.2\n",
      "R^2 score: 0.0952\n"
     ]
    }
   ],
   "source": [
    "judge_model(model_lasso,X_test,y_test)"
   ]
  },
  {
   "cell_type": "markdown",
   "metadata": {},
   "source": [
    "Możemy więc zauważyć, że wynik jest praktycznie ten sam. \n",
    "\n",
    "[A to ja gdy widzę ten rezultat.](https://www.google.com/search?q=smutna+%C5%BCabka&sxsrf=ALeKk03JNu2HRvbAWA72dTrRm-TD8VT8Eg:1619458577200&tbm=isch&source=iu&ictx=1&fir=BtRo85q8mlNvyM%252Ckl6Ur4-I2CVQXM%252C_&vet=1&usg=AI4_-kQGvvrTZnglbHW0OPSt0oZx6fS4HA&sa=X&ved=2ahUKEwjTtOOpuZzwAhWCi8MKHVI_AW0Q9QF6BAgKEAE&biw=1478&bih=759#imgrc=BtRo85q8mlNvyM)"
   ]
  },
  {
   "cell_type": "markdown",
   "metadata": {},
   "source": [
    "### Inny model - BayesianRidge"
   ]
  },
  {
   "cell_type": "code",
   "execution_count": 52,
   "metadata": {},
   "outputs": [],
   "source": [
    "pipeline_bayesian = Pipeline(steps=[('process', TargetEncoder()),  \n",
    "                     ('model', BayesianRidge())])  \n",
    "param_bayesian = {'model__alpha_1' : [6 , 7 , 8 , 9 , 10] , \n",
    "              'model__lambda_1' : [6 , 7 , 8 , 9 , 10]}\n",
    "model_bayesian = GridSearchCV(pipeline_bayesian, param_bayesian, cv=2)"
   ]
  },
  {
   "cell_type": "code",
   "execution_count": 54,
   "metadata": {},
   "outputs": [
    {
     "data": {
      "text/plain": [
       "GridSearchCV(cv=2,\n",
       "             estimator=Pipeline(steps=[('process', TargetEncoder()),\n",
       "                                       ('model', BayesianRidge())]),\n",
       "             param_grid={'model__alpha_1': [6, 7, 8, 9, 10],\n",
       "                         'model__lambda_1': [6, 7, 8, 9, 10]})"
      ]
     },
     "execution_count": 54,
     "metadata": {},
     "output_type": "execute_result"
    }
   ],
   "source": [
    "model_bayesian.fit(X_train,y_train)"
   ]
  },
  {
   "cell_type": "code",
   "execution_count": 55,
   "metadata": {},
   "outputs": [
    {
     "name": "stdout",
     "output_type": "stream",
     "text": [
      "RMSE: 402.5\n",
      "R^2 score: 0.0936\n"
     ]
    }
   ],
   "source": [
    "judge_model(model_bayesian,X_test,y_test)"
   ]
  },
  {
   "cell_type": "markdown",
   "metadata": {},
   "source": [
    "Widzimy więc, że osiągnięty rezultat jest porównywalny z poprzednimi."
   ]
  },
  {
   "cell_type": "markdown",
   "metadata": {},
   "source": [
    "## Wnioski\n",
    "\n",
    "Na podstawie przeprowadzonej pracy, możemy wysnuć hipotezę, że w sytuacji gdy model liniowy \"nie odpowiada\" danemu problemowi, jakiekolwiek sztuczki związane z regularyzacją czy parametryzacją nie pomagają. Musimy wtedy sięgnąć po bardziej złożone modele uczenia maszynowego."
   ]
  }
 ],
 "metadata": {
  "kernelspec": {
   "display_name": "Python 3",
   "language": "python",
   "name": "python3"
  },
  "language_info": {
   "codemirror_mode": {
    "name": "ipython",
    "version": 3
   },
   "file_extension": ".py",
   "mimetype": "text/x-python",
   "name": "python",
   "nbconvert_exporter": "python",
   "pygments_lexer": "ipython3",
   "version": "3.7.3"
  }
 },
 "nbformat": 4,
 "nbformat_minor": 2
}
