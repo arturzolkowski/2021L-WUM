{
 "cells": [
  {
   "cell_type": "markdown",
   "id": "convenient-onion",
   "metadata": {},
   "source": [
    "# Zadanie Bonusowe - Wstęp do uczenia maszynowego\n",
    "## Kinga Ułasik IiAD 27.04.2021"
   ]
  },
  {
   "cell_type": "markdown",
   "id": "charitable-probability",
   "metadata": {},
   "source": [
    "# Potrzebne importy"
   ]
  },
  {
   "cell_type": "code",
   "execution_count": 1,
   "id": "outside-poster",
   "metadata": {},
   "outputs": [],
   "source": [
    "import pandas as pd\n",
    "from sklearn.model_selection import train_test_split\n",
    "from sklearn.pipeline import Pipeline\n",
    "from sklearn.preprocessing import StandardScaler\n",
    "from sklearn.svm import SVR\n",
    "from numpy import log\n",
    "import category_encoders as ce\n",
    "from sklearn import svm\n",
    "import warnings\n",
    "warnings.filterwarnings('ignore')\n",
    "from sklearn import metrics\n",
    "from sklearn.metrics import mean_squared_error, r2_score\n",
    "from sklearn.model_selection import RandomizedSearchCV\n",
    "from scipy.stats import uniform"
   ]
  },
  {
   "cell_type": "markdown",
   "id": "serial-behavior",
   "metadata": {},
   "source": [
    "# Wczytanie danych"
   ]
  },
  {
   "cell_type": "code",
   "execution_count": 2,
   "id": "living-disability",
   "metadata": {},
   "outputs": [
    {
     "data": {
      "text/html": [
       "<div>\n",
       "<style scoped>\n",
       "    .dataframe tbody tr th:only-of-type {\n",
       "        vertical-align: middle;\n",
       "    }\n",
       "\n",
       "    .dataframe tbody tr th {\n",
       "        vertical-align: top;\n",
       "    }\n",
       "\n",
       "    .dataframe thead th {\n",
       "        text-align: right;\n",
       "    }\n",
       "</style>\n",
       "<table border=\"1\" class=\"dataframe\">\n",
       "  <thead>\n",
       "    <tr style=\"text-align: right;\">\n",
       "      <th></th>\n",
       "      <th>price</th>\n",
       "      <th>main_category</th>\n",
       "      <th>categories</th>\n",
       "      <th>it_location</th>\n",
       "    </tr>\n",
       "  </thead>\n",
       "  <tbody>\n",
       "    <tr>\n",
       "      <th>0</th>\n",
       "      <td>59.99</td>\n",
       "      <td>Komputery</td>\n",
       "      <td>['Komputery', 'Dyski i napędy', 'Nośniki', 'No...</td>\n",
       "      <td>Warszawa</td>\n",
       "    </tr>\n",
       "    <tr>\n",
       "      <th>1</th>\n",
       "      <td>4.90</td>\n",
       "      <td>Odzież, Obuwie, Dodatki</td>\n",
       "      <td>['Odzież, Obuwie, Dodatki', 'Bielizna damska',...</td>\n",
       "      <td>Warszawa</td>\n",
       "    </tr>\n",
       "    <tr>\n",
       "      <th>2</th>\n",
       "      <td>109.90</td>\n",
       "      <td>Dom i Ogród</td>\n",
       "      <td>['Dom i Ogród', 'Budownictwo i Akcesoria', 'Śc...</td>\n",
       "      <td>Leszno</td>\n",
       "    </tr>\n",
       "    <tr>\n",
       "      <th>3</th>\n",
       "      <td>18.50</td>\n",
       "      <td>Książki i Komiksy</td>\n",
       "      <td>['Książki i Komiksy', 'Poradniki i albumy', 'Z...</td>\n",
       "      <td>Wola Krzysztoporska</td>\n",
       "    </tr>\n",
       "    <tr>\n",
       "      <th>4</th>\n",
       "      <td>19.90</td>\n",
       "      <td>Odzież, Obuwie, Dodatki</td>\n",
       "      <td>['Odzież, Obuwie, Dodatki', 'Ślub i wesele', '...</td>\n",
       "      <td>BIAŁYSTOK</td>\n",
       "    </tr>\n",
       "  </tbody>\n",
       "</table>\n",
       "</div>"
      ],
      "text/plain": [
       "    price            main_category  \\\n",
       "0   59.99                Komputery   \n",
       "1    4.90  Odzież, Obuwie, Dodatki   \n",
       "2  109.90              Dom i Ogród   \n",
       "3   18.50        Książki i Komiksy   \n",
       "4   19.90  Odzież, Obuwie, Dodatki   \n",
       "\n",
       "                                          categories          it_location  \n",
       "0  ['Komputery', 'Dyski i napędy', 'Nośniki', 'No...             Warszawa  \n",
       "1  ['Odzież, Obuwie, Dodatki', 'Bielizna damska',...             Warszawa  \n",
       "2  ['Dom i Ogród', 'Budownictwo i Akcesoria', 'Śc...               Leszno  \n",
       "3  ['Książki i Komiksy', 'Poradniki i albumy', 'Z...  Wola Krzysztoporska  \n",
       "4  ['Odzież, Obuwie, Dodatki', 'Ślub i wesele', '...            BIAŁYSTOK  "
      ]
     },
     "execution_count": 2,
     "metadata": {},
     "output_type": "execute_result"
    }
   ],
   "source": [
    "allegro = pd.read_csv('allegro-api-transactions.csv')\n",
    "allegro = allegro[['price','main_category','categories','it_location']]\n",
    "allegro.head()"
   ]
  },
  {
   "cell_type": "markdown",
   "id": "second-divorce",
   "metadata": {},
   "source": [
    "# Target Encoding"
   ]
  },
  {
   "cell_type": "code",
   "execution_count": 3,
   "id": "raised-criminal",
   "metadata": {},
   "outputs": [],
   "source": [
    "allegro['it_location'] = allegro['it_location'].str.lower()"
   ]
  },
  {
   "cell_type": "code",
   "execution_count": 4,
   "id": "rubber-seafood",
   "metadata": {
    "scrolled": true
   },
   "outputs": [
    {
     "name": "stdout",
     "output_type": "stream",
     "text": [
      "        it_location\n",
      "0         84.132898\n",
      "1         84.132898\n",
      "2         64.883187\n",
      "3         35.433365\n",
      "4         73.772916\n",
      "...             ...\n",
      "420015    26.346402\n",
      "420016    63.645927\n",
      "420017    18.682800\n",
      "420018   104.254805\n",
      "420019    78.136792\n",
      "\n",
      "[420020 rows x 1 columns]\n"
     ]
    }
   ],
   "source": [
    "import category_encoders as ce\n",
    "\n",
    "target_encoder = ce.TargetEncoder() \n",
    "location_target = target_encoder.fit_transform(allegro['it_location'], allegro['price'])\n",
    "print(location_target)"
   ]
  },
  {
   "cell_type": "code",
   "execution_count": 5,
   "id": "restricted-encyclopedia",
   "metadata": {
    "scrolled": true
   },
   "outputs": [
    {
     "name": "stdout",
     "output_type": "stream",
     "text": [
      "        categories\n",
      "0        61.839771\n",
      "1        12.375798\n",
      "2       105.272597\n",
      "3        24.072564\n",
      "4        17.102344\n",
      "...            ...\n",
      "420015   76.811350\n",
      "420016   23.312063\n",
      "420017    9.630092\n",
      "420018  134.824626\n",
      "420019  965.619857\n",
      "\n",
      "[420020 rows x 1 columns]\n"
     ]
    }
   ],
   "source": [
    "target_encoder = ce.TargetEncoder() \n",
    "categories_target = target_encoder.fit_transform(allegro['categories'], allegro['price'])\n",
    "print(categories_target)"
   ]
  },
  {
   "cell_type": "code",
   "execution_count": 6,
   "id": "worst-monitoring",
   "metadata": {},
   "outputs": [
    {
     "name": "stdout",
     "output_type": "stream",
     "text": [
      "        main_category\n",
      "0          121.810064\n",
      "1           75.858049\n",
      "2           72.434754\n",
      "3           25.027497\n",
      "4           75.858049\n",
      "...               ...\n",
      "420015     107.534272\n",
      "420016      28.128577\n",
      "420017      75.858049\n",
      "420018      71.206386\n",
      "420019     134.426801\n",
      "\n",
      "[420020 rows x 1 columns]\n"
     ]
    }
   ],
   "source": [
    "target_encoder = ce.TargetEncoder() \n",
    "main_category_target = target_encoder.fit_transform(allegro['main_category'], allegro['price'])\n",
    "print(main_category_target)"
   ]
  },
  {
   "cell_type": "code",
   "execution_count": 8,
   "id": "vulnerable-identifier",
   "metadata": {
    "scrolled": false
   },
   "outputs": [
    {
     "data": {
      "text/html": [
       "<div>\n",
       "<style scoped>\n",
       "    .dataframe tbody tr th:only-of-type {\n",
       "        vertical-align: middle;\n",
       "    }\n",
       "\n",
       "    .dataframe tbody tr th {\n",
       "        vertical-align: top;\n",
       "    }\n",
       "\n",
       "    .dataframe thead th {\n",
       "        text-align: right;\n",
       "    }\n",
       "</style>\n",
       "<table border=\"1\" class=\"dataframe\">\n",
       "  <thead>\n",
       "    <tr style=\"text-align: right;\">\n",
       "      <th></th>\n",
       "      <th>price</th>\n",
       "      <th>main_category</th>\n",
       "      <th>categories</th>\n",
       "      <th>it_location</th>\n",
       "    </tr>\n",
       "  </thead>\n",
       "  <tbody>\n",
       "    <tr>\n",
       "      <th>0</th>\n",
       "      <td>59.99</td>\n",
       "      <td>121.810064</td>\n",
       "      <td>61.839771</td>\n",
       "      <td>84.132898</td>\n",
       "    </tr>\n",
       "    <tr>\n",
       "      <th>1</th>\n",
       "      <td>4.90</td>\n",
       "      <td>75.858049</td>\n",
       "      <td>12.375798</td>\n",
       "      <td>84.132898</td>\n",
       "    </tr>\n",
       "    <tr>\n",
       "      <th>2</th>\n",
       "      <td>109.90</td>\n",
       "      <td>72.434754</td>\n",
       "      <td>105.272597</td>\n",
       "      <td>64.883187</td>\n",
       "    </tr>\n",
       "    <tr>\n",
       "      <th>3</th>\n",
       "      <td>18.50</td>\n",
       "      <td>25.027497</td>\n",
       "      <td>24.072564</td>\n",
       "      <td>35.433365</td>\n",
       "    </tr>\n",
       "    <tr>\n",
       "      <th>4</th>\n",
       "      <td>19.90</td>\n",
       "      <td>75.858049</td>\n",
       "      <td>17.102344</td>\n",
       "      <td>73.772916</td>\n",
       "    </tr>\n",
       "  </tbody>\n",
       "</table>\n",
       "</div>"
      ],
      "text/plain": [
       "    price  main_category  categories  it_location\n",
       "0   59.99     121.810064   61.839771    84.132898\n",
       "1    4.90      75.858049   12.375798    84.132898\n",
       "2  109.90      72.434754  105.272597    64.883187\n",
       "3   18.50      25.027497   24.072564    35.433365\n",
       "4   19.90      75.858049   17.102344    73.772916"
      ]
     },
     "execution_count": 8,
     "metadata": {},
     "output_type": "execute_result"
    }
   ],
   "source": [
    "allegro['it_location'] = location_target\n",
    "allegro['categories'] = categories_target\n",
    "allegro['main_category'] = main_category_target\n",
    "allegro.head()"
   ]
  },
  {
   "cell_type": "markdown",
   "id": "changed-greece",
   "metadata": {},
   "source": [
    "# Smoothing"
   ]
  },
  {
   "cell_type": "markdown",
   "id": "piano-prophet",
   "metadata": {},
   "source": [
    "Smoothing przy target encodingu jest istotny ponieważ może on prowadzić do overfittingu oraz opieranie się na wartości średniej nie zawsze jest dobrym pomysłem np. gdy liczba wartości użytych w średniej jest niewielka. Smoothing polega na „wygładzeniu” średniej poprzez uwzględnienie globalnej średniej"
   ]
  },
  {
   "cell_type": "code",
   "execution_count": 9,
   "id": "accessible-carrier",
   "metadata": {},
   "outputs": [],
   "source": [
    "#df - pandas.DataFrame\n",
    "#by - categorical column name\n",
    "#on - the name of the target column\n",
    "#m-  weight \n",
    "\n",
    "def calc_smooth_mean(df, by, on, m):\n",
    "    # Compute the global mean\n",
    "    mean = df[on].mean()\n",
    "    # Compute the number of values and the mean of each group\n",
    "    agg = df.groupby(by)[on].agg(['count', 'mean'])\n",
    "    counts = agg['count']\n",
    "    means = agg['mean']\n",
    "    # Compute the \"smoothed\" means\n",
    "    smooth = (counts * means + m * mean) / (counts + m)\n",
    "    # Replace each value by the according smoothed mean\n",
    "    return df[by].map(smooth)"
   ]
  },
  {
   "cell_type": "code",
   "execution_count": 10,
   "id": "coordinate-hindu",
   "metadata": {
    "scrolled": true
   },
   "outputs": [
    {
     "data": {
      "text/html": [
       "<div>\n",
       "<style scoped>\n",
       "    .dataframe tbody tr th:only-of-type {\n",
       "        vertical-align: middle;\n",
       "    }\n",
       "\n",
       "    .dataframe tbody tr th {\n",
       "        vertical-align: top;\n",
       "    }\n",
       "\n",
       "    .dataframe thead th {\n",
       "        text-align: right;\n",
       "    }\n",
       "</style>\n",
       "<table border=\"1\" class=\"dataframe\">\n",
       "  <thead>\n",
       "    <tr style=\"text-align: right;\">\n",
       "      <th></th>\n",
       "      <th>price</th>\n",
       "      <th>main_category</th>\n",
       "      <th>categories</th>\n",
       "      <th>it_location</th>\n",
       "    </tr>\n",
       "  </thead>\n",
       "  <tbody>\n",
       "    <tr>\n",
       "      <th>0</th>\n",
       "      <td>59.99</td>\n",
       "      <td>121.779033</td>\n",
       "      <td>68.968738</td>\n",
       "      <td>84.130192</td>\n",
       "    </tr>\n",
       "    <tr>\n",
       "      <th>1</th>\n",
       "      <td>4.90</td>\n",
       "      <td>75.858225</td>\n",
       "      <td>13.221409</td>\n",
       "      <td>84.130192</td>\n",
       "    </tr>\n",
       "    <tr>\n",
       "      <th>2</th>\n",
       "      <td>109.90</td>\n",
       "      <td>72.435235</td>\n",
       "      <td>102.001190</td>\n",
       "      <td>64.986730</td>\n",
       "    </tr>\n",
       "    <tr>\n",
       "      <th>3</th>\n",
       "      <td>18.50</td>\n",
       "      <td>25.072207</td>\n",
       "      <td>28.225224</td>\n",
       "      <td>39.063013</td>\n",
       "    </tr>\n",
       "    <tr>\n",
       "      <th>4</th>\n",
       "      <td>19.90</td>\n",
       "      <td>75.858225</td>\n",
       "      <td>25.171128</td>\n",
       "      <td>73.776217</td>\n",
       "    </tr>\n",
       "  </tbody>\n",
       "</table>\n",
       "</div>"
      ],
      "text/plain": [
       "    price  main_category  categories  it_location\n",
       "0   59.99     121.779033   68.968738    84.130192\n",
       "1    4.90      75.858225   13.221409    84.130192\n",
       "2  109.90      72.435235  102.001190    64.986730\n",
       "3   18.50      25.072207   28.225224    39.063013\n",
       "4   19.90      75.858225   25.171128    73.776217"
      ]
     },
     "execution_count": 10,
     "metadata": {},
     "output_type": "execute_result"
    }
   ],
   "source": [
    "#df['x_1'] = calc_smooth_mean(df, by='x_1', on='y', m=10)\n",
    "allegro['it_location'] = calc_smooth_mean(allegro, by='it_location', on='price', m=10)\n",
    "allegro['categories'] = calc_smooth_mean(allegro, by='categories', on='price', m=10)\n",
    "allegro['main_category'] = calc_smooth_mean(allegro, by='main_category', on='price', m=10)\n",
    "allegro.head()"
   ]
  },
  {
   "cell_type": "markdown",
   "id": "collect-newcastle",
   "metadata": {},
   "source": [
    "# Tworzenie modelu"
   ]
  },
  {
   "cell_type": "code",
   "execution_count": 15,
   "id": "rolled-somerset",
   "metadata": {},
   "outputs": [],
   "source": [
    "X = allegro.drop('price', axis=1)\n",
    "y =  allegro.iloc[:,0]\n",
    "\n",
    "X_train, X_test, y_train, y_test = train_test_split(X, y, test_size=0.2, random_state = 0)"
   ]
  },
  {
   "cell_type": "markdown",
   "id": "thorough-diabetes",
   "metadata": {},
   "source": [
    "## Random Forest regressor"
   ]
  },
  {
   "cell_type": "code",
   "execution_count": 38,
   "id": "dental-mills",
   "metadata": {
    "scrolled": true
   },
   "outputs": [
    {
     "name": "stdout",
     "output_type": "stream",
     "text": [
      "RMSE : 278.82173583912515\n",
      "R2 squared : 0.07205348545219736\n",
      "Mean of the target variable: 76.81135036426836\n"
     ]
    }
   ],
   "source": [
    "from sklearn.ensemble import RandomForestRegressor\n",
    "forestreg = RandomForestRegressor(n_estimators = 100, random_state = 0)\n",
    "forestreg.fit(X_train, y_train)\n",
    "y_pred = forestreg.predict(X_test)  # test the output by changing values\n",
    "print('RMSE : ' + str(mean_squared_error(y_test, y_pred, squared=False)))\n",
    "print('R2 squared : ' + str(r2_score(y_test, y_pred)))\n",
    "print('Mean of the target variable: ' + str(y.mean()))"
   ]
  },
  {
   "cell_type": "code",
   "execution_count": 39,
   "id": "sudden-vaccine",
   "metadata": {},
   "outputs": [
    {
     "name": "stdout",
     "output_type": "stream",
     "text": [
      "214.11429308280972\n",
      "0.26025343494510655\n"
     ]
    }
   ],
   "source": [
    "from sklearn.model_selection import cross_validate\n",
    "print((-1)*np.mean(cross_validate(forestreg, X_test, y_test, cv=20, scoring='neg_root_mean_squared_error').get('test_score')))\n",
    "print(np.mean(cross_validate(forestreg, X_test, y_test, cv=20, scoring='r2').get('test_score')))"
   ]
  },
  {
   "cell_type": "markdown",
   "id": "traditional-surname",
   "metadata": {},
   "source": [
    "# Regularyzacja"
   ]
  },
  {
   "cell_type": "markdown",
   "id": "actual-dylan",
   "metadata": {},
   "source": [
    "## Ridge Regression"
   ]
  },
  {
   "cell_type": "markdown",
   "id": "residential-woman",
   "metadata": {},
   "source": [
    "Krótki opis:\n",
    "* Ridge Regression wykorzystuje technikę regularyzacji L2\n",
    "* Wykonuje aktualizacje wagi zmiennej, funkcja straty (loss function) ma dodatkowy kwadratowy element\n",
    "* Zmniejsza ogólny rozmiar wartości wagi zmiennych podczas optymalizacji i zmniejsza szanse na overfitting"
   ]
  },
  {
   "cell_type": "code",
   "execution_count": 27,
   "id": "collective-order",
   "metadata": {
    "scrolled": false
   },
   "outputs": [
    {
     "name": "stdout",
     "output_type": "stream",
     "text": [
      "RMSE : 255.45870778675553\n",
      "R2 squared : 0.22104725225413357\n",
      "Mean of the target variable: 76.81135036426836\n"
     ]
    }
   ],
   "source": [
    "from sklearn.linear_model import Ridge\n",
    "\n",
    "ridgereg = Ridge(alpha=0, normalize=True)\n",
    "ridgereg.fit(X_train, y_train)\n",
    "y_pred = ridgereg.predict(X_test)\n",
    "print('RMSE : ' + str(mean_squared_error(y_test, y_pred, squared=False)))\n",
    "print('R2 squared : ' + str(r2_score(y_test, y_pred)))\n",
    "print('Mean of the target variable: ' + str(y.mean()))"
   ]
  },
  {
   "cell_type": "code",
   "execution_count": 29,
   "id": "loving-layout",
   "metadata": {},
   "outputs": [
    {
     "data": {
      "text/plain": [
       "0.01"
      ]
     },
     "execution_count": 29,
     "metadata": {},
     "output_type": "execute_result"
    }
   ],
   "source": [
    "#szukamy najbardziej optymalnego alfa\n",
    "#im wyżesz alfa tym większa regularyzacja\n",
    "alpha_range = 10.**np.arange(-2, 3)\n",
    "\n",
    "from sklearn.linear_model import RidgeCV\n",
    "ridgeregcv = RidgeCV(alphas=alpha_range, normalize=True, scoring='neg_mean_squared_error')\n",
    "ridgeregcv.fit(X_train, y_train)\n",
    "ridgeregcv.alpha_"
   ]
  },
  {
   "cell_type": "code",
   "execution_count": 30,
   "id": "portuguese-treaty",
   "metadata": {},
   "outputs": [
    {
     "name": "stdout",
     "output_type": "stream",
     "text": [
      "207.58385346425817\n",
      "0.36499445086244353\n"
     ]
    }
   ],
   "source": [
    "from sklearn.linear_model import Ridge\n",
    "\n",
    "ridgereg = Ridge(alpha=0.01, normalize=True)\n",
    "ridgereg.fit(X_train, y_train)\n",
    "y_pred = ridgereg.predict(X_test)\n",
    "\n",
    "import numpy as np\n",
    "from sklearn.model_selection import cross_validate\n",
    "\n",
    "print((-1)*np.mean(cross_validate(ridgereg, X_test, y_test, cv=20, scoring='neg_root_mean_squared_error').get('test_score')))\n",
    "print(np.mean(cross_validate(ridgereg, X_test, y_test, cv=20, scoring='r2').get('test_score')))"
   ]
  },
  {
   "cell_type": "markdown",
   "id": "combined-edgar",
   "metadata": {},
   "source": [
    "## Lasso Regression"
   ]
  },
  {
   "cell_type": "markdown",
   "id": "complicated-respect",
   "metadata": {},
   "source": [
    "Krótki opis:\n",
    "* Wykorzystuje technikę regularyzacji L1\n",
    "* Wykonuje aktualizacje wagi zmienne,funkja straty (loss function) ma dodatkowy alement zawierający normę L1 wektora wag\n",
    "* Wagi niektórych zmiennych w pewnym momencie spadają do zera, skutecznie eliminując w ten sposób te cechy, które powodują problemy z dużą wariancją i nadmiernym dopasowaniem modelu"
   ]
  },
  {
   "cell_type": "code",
   "execution_count": 32,
   "id": "comprehensive-killing",
   "metadata": {
    "scrolled": true
   },
   "outputs": [
    {
     "name": "stdout",
     "output_type": "stream",
     "text": [
      "RMSE : 255.45870778675553\n",
      "R2 squared : 0.22104725225413357\n",
      "Mean of the target variable: 76.81135036426836\n"
     ]
    }
   ],
   "source": [
    "from sklearn.linear_model import Lasso\n",
    "lassoreg = Lasso(alpha=0, normalize=True)\n",
    "lassoreg.fit(X_train, y_train)\n",
    "y_pred = lassoreg.predict(X_test)\n",
    "print('RMSE : ' + str(mean_squared_error(y_test, y_pred, squared=False)))\n",
    "print('R2 squared : ' + str(r2_score(y_test, y_pred)))\n",
    "print('Mean of the target variable: ' + str(y.mean()))"
   ]
  },
  {
   "cell_type": "code",
   "execution_count": 31,
   "id": "broke-graphic",
   "metadata": {
    "scrolled": true
   },
   "outputs": [
    {
     "name": "stdout",
     "output_type": "stream",
     "text": [
      "alpha :  0.00031014483724454517\n"
     ]
    }
   ],
   "source": [
    "from sklearn.linear_model import LassoCV\n",
    "lassoregcv = LassoCV(n_alphas=100, normalize=True, random_state=1)\n",
    "lassoregcv.fit(X_train, y_train)\n",
    "print('alpha : ',lassoregcv.alpha_)"
   ]
  },
  {
   "cell_type": "code",
   "execution_count": 34,
   "id": "compatible-synthetic",
   "metadata": {},
   "outputs": [
    {
     "name": "stdout",
     "output_type": "stream",
     "text": [
      "207.66213049380139\n",
      "0.3641233397688211\n"
     ]
    }
   ],
   "source": [
    "from sklearn.linear_model import Lasso\n",
    "lassoreg = Lasso(alpha= 0.00031014483724454517, normalize=True)\n",
    "lassoreg.fit(X_train, y_train)\n",
    "y_pred = lassoreg.predict(X_test)\n",
    "\n",
    "print((-1)*np.mean(cross_validate(lassoreg, X_test, y_test, cv=20, scoring='neg_root_mean_squared_error').get('test_score')))\n",
    "print(np.mean(cross_validate(lassoreg, X_test, y_test, cv=20, scoring='r2').get('test_score')))"
   ]
  },
  {
   "cell_type": "markdown",
   "id": "static-subscriber",
   "metadata": {},
   "source": [
    "## (Classic) Linear Regression"
   ]
  },
  {
   "cell_type": "code",
   "execution_count": 36,
   "id": "horizontal-commitment",
   "metadata": {},
   "outputs": [
    {
     "name": "stdout",
     "output_type": "stream",
     "text": [
      "RMSE : 255.45870778675499\n",
      "R2 squared : 0.2210472522541368\n",
      "Mean of the target variable: 76.81135036426836\n"
     ]
    }
   ],
   "source": [
    "from sklearn.linear_model import LinearRegression\n",
    "\n",
    "X = allegro.drop('price', axis=1)\n",
    "y =  allegro.iloc[:,0]\n",
    "\n",
    "X_train, X_test, y_train, y_test = train_test_split(X, y, test_size=0.2, random_state = 0)\n",
    "regressor = LinearRegression()\n",
    "regressor.fit(X_train, y_train)\n",
    "y_pred = regressor.predict(X_test)\n",
    "\n",
    "print('RMSE : ' + str(mean_squared_error(y_test, y_pred, squared=False)))\n",
    "print('R2 squared : ' + str(r2_score(y_test, y_pred)))\n",
    "print('Mean of the target variable: ' + str(y.mean()))"
   ]
  },
  {
   "cell_type": "code",
   "execution_count": 37,
   "id": "stylish-arena",
   "metadata": {},
   "outputs": [
    {
     "name": "stdout",
     "output_type": "stream",
     "text": [
      "207.66929994660555\n",
      "0.36404281542884526\n"
     ]
    }
   ],
   "source": [
    "print((-1)*np.mean(cross_validate(regressor, X_test, y_test, cv=20, scoring='neg_root_mean_squared_error').get('test_score')))\n",
    "print(np.mean(cross_validate(regressor, X_test, y_test, cv=20, scoring='r2').get('test_score')))"
   ]
  },
  {
   "cell_type": "markdown",
   "id": "dietary-boating",
   "metadata": {},
   "source": [
    "# Ewaluacja"
   ]
  },
  {
   "cell_type": "markdown",
   "id": "exceptional-metallic",
   "metadata": {},
   "source": [
    "Biorąc pod uwagę wyniki przeprowadzonej kroswalidacji, patrząc jednocześnie na błąd RMSE i wskaźnik dopasowania regresji R2 najlepszym modelem okazał się 'ridgereg' (czyli model zbudowany za pomoca Ridge Regression)"
   ]
  }
 ],
 "metadata": {
  "kernelspec": {
   "display_name": "Python 3",
   "language": "python",
   "name": "python3"
  },
  "language_info": {
   "codemirror_mode": {
    "name": "ipython",
    "version": 3
   },
   "file_extension": ".py",
   "mimetype": "text/x-python",
   "name": "python",
   "nbconvert_exporter": "python",
   "pygments_lexer": "ipython3",
   "version": "3.9.1"
  }
 },
 "nbformat": 4,
 "nbformat_minor": 5
}
