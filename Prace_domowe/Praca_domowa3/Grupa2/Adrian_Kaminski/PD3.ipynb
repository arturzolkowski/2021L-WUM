{
 "cells": [
  {
   "cell_type": "markdown",
   "id": "rocky-therapist",
   "metadata": {},
   "source": [
    "# Adrian Kamiński\n",
    "## Praca domowa 3"
   ]
  },
  {
   "cell_type": "markdown",
   "id": "together-hospital",
   "metadata": {},
   "source": [
    "### Wczytanie danych"
   ]
  },
  {
   "cell_type": "code",
   "execution_count": 1,
   "id": "ranging-madonna",
   "metadata": {},
   "outputs": [],
   "source": [
    "import pandas as pd"
   ]
  },
  {
   "cell_type": "code",
   "execution_count": 2,
   "id": "russian-coverage",
   "metadata": {},
   "outputs": [],
   "source": [
    "df = pd.read_csv('australia.csv')"
   ]
  },
  {
   "cell_type": "code",
   "execution_count": 3,
   "id": "communist-television",
   "metadata": {},
   "outputs": [
    {
     "data": {
      "text/html": [
       "<div>\n",
       "<style scoped>\n",
       "    .dataframe tbody tr th:only-of-type {\n",
       "        vertical-align: middle;\n",
       "    }\n",
       "\n",
       "    .dataframe tbody tr th {\n",
       "        vertical-align: top;\n",
       "    }\n",
       "\n",
       "    .dataframe thead th {\n",
       "        text-align: right;\n",
       "    }\n",
       "</style>\n",
       "<table border=\"1\" class=\"dataframe\">\n",
       "  <thead>\n",
       "    <tr style=\"text-align: right;\">\n",
       "      <th></th>\n",
       "      <th>MinTemp</th>\n",
       "      <th>MaxTemp</th>\n",
       "      <th>Rainfall</th>\n",
       "      <th>Evaporation</th>\n",
       "      <th>Sunshine</th>\n",
       "      <th>WindGustSpeed</th>\n",
       "      <th>WindSpeed9am</th>\n",
       "      <th>WindSpeed3pm</th>\n",
       "      <th>Humidity9am</th>\n",
       "      <th>Humidity3pm</th>\n",
       "      <th>Pressure9am</th>\n",
       "      <th>Pressure3pm</th>\n",
       "      <th>Cloud9am</th>\n",
       "      <th>Cloud3pm</th>\n",
       "      <th>Temp9am</th>\n",
       "      <th>Temp3pm</th>\n",
       "      <th>RainToday</th>\n",
       "      <th>RainTomorrow</th>\n",
       "    </tr>\n",
       "  </thead>\n",
       "  <tbody>\n",
       "    <tr>\n",
       "      <th>0</th>\n",
       "      <td>17.9</td>\n",
       "      <td>35.2</td>\n",
       "      <td>0.0</td>\n",
       "      <td>12.0</td>\n",
       "      <td>12.3</td>\n",
       "      <td>48.0</td>\n",
       "      <td>6.0</td>\n",
       "      <td>20.0</td>\n",
       "      <td>20.0</td>\n",
       "      <td>13.0</td>\n",
       "      <td>1006.3</td>\n",
       "      <td>1004.4</td>\n",
       "      <td>2.0</td>\n",
       "      <td>5.0</td>\n",
       "      <td>26.6</td>\n",
       "      <td>33.4</td>\n",
       "      <td>0</td>\n",
       "      <td>0</td>\n",
       "    </tr>\n",
       "    <tr>\n",
       "      <th>1</th>\n",
       "      <td>18.4</td>\n",
       "      <td>28.9</td>\n",
       "      <td>0.0</td>\n",
       "      <td>14.8</td>\n",
       "      <td>13.0</td>\n",
       "      <td>37.0</td>\n",
       "      <td>19.0</td>\n",
       "      <td>19.0</td>\n",
       "      <td>30.0</td>\n",
       "      <td>8.0</td>\n",
       "      <td>1012.9</td>\n",
       "      <td>1012.1</td>\n",
       "      <td>1.0</td>\n",
       "      <td>1.0</td>\n",
       "      <td>20.3</td>\n",
       "      <td>27.0</td>\n",
       "      <td>0</td>\n",
       "      <td>0</td>\n",
       "    </tr>\n",
       "    <tr>\n",
       "      <th>2</th>\n",
       "      <td>19.4</td>\n",
       "      <td>37.6</td>\n",
       "      <td>0.0</td>\n",
       "      <td>10.8</td>\n",
       "      <td>10.6</td>\n",
       "      <td>46.0</td>\n",
       "      <td>30.0</td>\n",
       "      <td>15.0</td>\n",
       "      <td>42.0</td>\n",
       "      <td>22.0</td>\n",
       "      <td>1012.3</td>\n",
       "      <td>1009.2</td>\n",
       "      <td>1.0</td>\n",
       "      <td>6.0</td>\n",
       "      <td>28.7</td>\n",
       "      <td>34.9</td>\n",
       "      <td>0</td>\n",
       "      <td>0</td>\n",
       "    </tr>\n",
       "    <tr>\n",
       "      <th>3</th>\n",
       "      <td>21.9</td>\n",
       "      <td>38.4</td>\n",
       "      <td>0.0</td>\n",
       "      <td>11.4</td>\n",
       "      <td>12.2</td>\n",
       "      <td>31.0</td>\n",
       "      <td>6.0</td>\n",
       "      <td>6.0</td>\n",
       "      <td>37.0</td>\n",
       "      <td>22.0</td>\n",
       "      <td>1012.7</td>\n",
       "      <td>1009.1</td>\n",
       "      <td>1.0</td>\n",
       "      <td>5.0</td>\n",
       "      <td>29.1</td>\n",
       "      <td>35.6</td>\n",
       "      <td>0</td>\n",
       "      <td>0</td>\n",
       "    </tr>\n",
       "    <tr>\n",
       "      <th>4</th>\n",
       "      <td>24.2</td>\n",
       "      <td>41.0</td>\n",
       "      <td>0.0</td>\n",
       "      <td>11.2</td>\n",
       "      <td>8.4</td>\n",
       "      <td>35.0</td>\n",
       "      <td>17.0</td>\n",
       "      <td>13.0</td>\n",
       "      <td>19.0</td>\n",
       "      <td>15.0</td>\n",
       "      <td>1010.7</td>\n",
       "      <td>1007.4</td>\n",
       "      <td>1.0</td>\n",
       "      <td>6.0</td>\n",
       "      <td>33.6</td>\n",
       "      <td>37.6</td>\n",
       "      <td>0</td>\n",
       "      <td>0</td>\n",
       "    </tr>\n",
       "    <tr>\n",
       "      <th>...</th>\n",
       "      <td>...</td>\n",
       "      <td>...</td>\n",
       "      <td>...</td>\n",
       "      <td>...</td>\n",
       "      <td>...</td>\n",
       "      <td>...</td>\n",
       "      <td>...</td>\n",
       "      <td>...</td>\n",
       "      <td>...</td>\n",
       "      <td>...</td>\n",
       "      <td>...</td>\n",
       "      <td>...</td>\n",
       "      <td>...</td>\n",
       "      <td>...</td>\n",
       "      <td>...</td>\n",
       "      <td>...</td>\n",
       "      <td>...</td>\n",
       "      <td>...</td>\n",
       "    </tr>\n",
       "    <tr>\n",
       "      <th>56415</th>\n",
       "      <td>19.3</td>\n",
       "      <td>33.4</td>\n",
       "      <td>0.0</td>\n",
       "      <td>6.0</td>\n",
       "      <td>11.0</td>\n",
       "      <td>35.0</td>\n",
       "      <td>9.0</td>\n",
       "      <td>20.0</td>\n",
       "      <td>63.0</td>\n",
       "      <td>32.0</td>\n",
       "      <td>1013.9</td>\n",
       "      <td>1010.5</td>\n",
       "      <td>0.0</td>\n",
       "      <td>1.0</td>\n",
       "      <td>24.5</td>\n",
       "      <td>32.3</td>\n",
       "      <td>0</td>\n",
       "      <td>0</td>\n",
       "    </tr>\n",
       "    <tr>\n",
       "      <th>56416</th>\n",
       "      <td>21.2</td>\n",
       "      <td>32.6</td>\n",
       "      <td>0.0</td>\n",
       "      <td>7.6</td>\n",
       "      <td>8.6</td>\n",
       "      <td>37.0</td>\n",
       "      <td>13.0</td>\n",
       "      <td>11.0</td>\n",
       "      <td>56.0</td>\n",
       "      <td>28.0</td>\n",
       "      <td>1014.6</td>\n",
       "      <td>1011.2</td>\n",
       "      <td>7.0</td>\n",
       "      <td>0.0</td>\n",
       "      <td>24.8</td>\n",
       "      <td>32.0</td>\n",
       "      <td>0</td>\n",
       "      <td>0</td>\n",
       "    </tr>\n",
       "    <tr>\n",
       "      <th>56417</th>\n",
       "      <td>20.7</td>\n",
       "      <td>32.8</td>\n",
       "      <td>0.0</td>\n",
       "      <td>5.6</td>\n",
       "      <td>11.0</td>\n",
       "      <td>33.0</td>\n",
       "      <td>17.0</td>\n",
       "      <td>11.0</td>\n",
       "      <td>46.0</td>\n",
       "      <td>23.0</td>\n",
       "      <td>1015.3</td>\n",
       "      <td>1011.8</td>\n",
       "      <td>0.0</td>\n",
       "      <td>0.0</td>\n",
       "      <td>24.8</td>\n",
       "      <td>32.1</td>\n",
       "      <td>0</td>\n",
       "      <td>0</td>\n",
       "    </tr>\n",
       "    <tr>\n",
       "      <th>56418</th>\n",
       "      <td>19.5</td>\n",
       "      <td>31.8</td>\n",
       "      <td>0.0</td>\n",
       "      <td>6.2</td>\n",
       "      <td>10.6</td>\n",
       "      <td>26.0</td>\n",
       "      <td>9.0</td>\n",
       "      <td>17.0</td>\n",
       "      <td>62.0</td>\n",
       "      <td>58.0</td>\n",
       "      <td>1014.9</td>\n",
       "      <td>1010.7</td>\n",
       "      <td>1.0</td>\n",
       "      <td>1.0</td>\n",
       "      <td>24.8</td>\n",
       "      <td>29.2</td>\n",
       "      <td>0</td>\n",
       "      <td>0</td>\n",
       "    </tr>\n",
       "    <tr>\n",
       "      <th>56419</th>\n",
       "      <td>20.2</td>\n",
       "      <td>31.7</td>\n",
       "      <td>0.0</td>\n",
       "      <td>5.6</td>\n",
       "      <td>10.7</td>\n",
       "      <td>30.0</td>\n",
       "      <td>15.0</td>\n",
       "      <td>7.0</td>\n",
       "      <td>73.0</td>\n",
       "      <td>32.0</td>\n",
       "      <td>1013.9</td>\n",
       "      <td>1009.7</td>\n",
       "      <td>6.0</td>\n",
       "      <td>5.0</td>\n",
       "      <td>25.4</td>\n",
       "      <td>31.0</td>\n",
       "      <td>0</td>\n",
       "      <td>0</td>\n",
       "    </tr>\n",
       "  </tbody>\n",
       "</table>\n",
       "<p>56420 rows × 18 columns</p>\n",
       "</div>"
      ],
      "text/plain": [
       "       MinTemp  MaxTemp  Rainfall  Evaporation  Sunshine  WindGustSpeed  \\\n",
       "0         17.9     35.2       0.0         12.0      12.3           48.0   \n",
       "1         18.4     28.9       0.0         14.8      13.0           37.0   \n",
       "2         19.4     37.6       0.0         10.8      10.6           46.0   \n",
       "3         21.9     38.4       0.0         11.4      12.2           31.0   \n",
       "4         24.2     41.0       0.0         11.2       8.4           35.0   \n",
       "...        ...      ...       ...          ...       ...            ...   \n",
       "56415     19.3     33.4       0.0          6.0      11.0           35.0   \n",
       "56416     21.2     32.6       0.0          7.6       8.6           37.0   \n",
       "56417     20.7     32.8       0.0          5.6      11.0           33.0   \n",
       "56418     19.5     31.8       0.0          6.2      10.6           26.0   \n",
       "56419     20.2     31.7       0.0          5.6      10.7           30.0   \n",
       "\n",
       "       WindSpeed9am  WindSpeed3pm  Humidity9am  Humidity3pm  Pressure9am  \\\n",
       "0               6.0          20.0         20.0         13.0       1006.3   \n",
       "1              19.0          19.0         30.0          8.0       1012.9   \n",
       "2              30.0          15.0         42.0         22.0       1012.3   \n",
       "3               6.0           6.0         37.0         22.0       1012.7   \n",
       "4              17.0          13.0         19.0         15.0       1010.7   \n",
       "...             ...           ...          ...          ...          ...   \n",
       "56415           9.0          20.0         63.0         32.0       1013.9   \n",
       "56416          13.0          11.0         56.0         28.0       1014.6   \n",
       "56417          17.0          11.0         46.0         23.0       1015.3   \n",
       "56418           9.0          17.0         62.0         58.0       1014.9   \n",
       "56419          15.0           7.0         73.0         32.0       1013.9   \n",
       "\n",
       "       Pressure3pm  Cloud9am  Cloud3pm  Temp9am  Temp3pm  RainToday  \\\n",
       "0           1004.4       2.0       5.0     26.6     33.4          0   \n",
       "1           1012.1       1.0       1.0     20.3     27.0          0   \n",
       "2           1009.2       1.0       6.0     28.7     34.9          0   \n",
       "3           1009.1       1.0       5.0     29.1     35.6          0   \n",
       "4           1007.4       1.0       6.0     33.6     37.6          0   \n",
       "...            ...       ...       ...      ...      ...        ...   \n",
       "56415       1010.5       0.0       1.0     24.5     32.3          0   \n",
       "56416       1011.2       7.0       0.0     24.8     32.0          0   \n",
       "56417       1011.8       0.0       0.0     24.8     32.1          0   \n",
       "56418       1010.7       1.0       1.0     24.8     29.2          0   \n",
       "56419       1009.7       6.0       5.0     25.4     31.0          0   \n",
       "\n",
       "       RainTomorrow  \n",
       "0                 0  \n",
       "1                 0  \n",
       "2                 0  \n",
       "3                 0  \n",
       "4                 0  \n",
       "...             ...  \n",
       "56415             0  \n",
       "56416             0  \n",
       "56417             0  \n",
       "56418             0  \n",
       "56419             0  \n",
       "\n",
       "[56420 rows x 18 columns]"
      ]
     },
     "execution_count": 3,
     "metadata": {},
     "output_type": "execute_result"
    }
   ],
   "source": [
    "df"
   ]
  },
  {
   "cell_type": "markdown",
   "id": "convenient-benefit",
   "metadata": {},
   "source": [
    "### Podział na zbiór  trenigowy i testowy"
   ]
  },
  {
   "cell_type": "code",
   "execution_count": 4,
   "id": "interior-application",
   "metadata": {},
   "outputs": [],
   "source": [
    "X = df.drop('RainTomorrow', axis = 1)\n",
    "y = df.RainTomorrow"
   ]
  },
  {
   "cell_type": "code",
   "execution_count": 5,
   "id": "covered-national",
   "metadata": {},
   "outputs": [],
   "source": [
    "from sklearn.model_selection import train_test_split"
   ]
  },
  {
   "cell_type": "code",
   "execution_count": 6,
   "id": "progressive-nudist",
   "metadata": {},
   "outputs": [],
   "source": [
    "X_train, X_test, y_train, y_test = train_test_split(\n",
    "    X, y, test_size=0.2, random_state=42)"
   ]
  },
  {
   "cell_type": "markdown",
   "id": "fifteen-option",
   "metadata": {},
   "source": [
    "### Uczenie 3 dowolnych klasyfikatorów"
   ]
  },
  {
   "cell_type": "markdown",
   "id": "heated-lawrence",
   "metadata": {},
   "source": [
    "### Random Forest"
   ]
  },
  {
   "cell_type": "code",
   "execution_count": 7,
   "id": "every-sunday",
   "metadata": {},
   "outputs": [],
   "source": [
    "from sklearn.ensemble import RandomForestClassifier"
   ]
  },
  {
   "cell_type": "code",
   "execution_count": 8,
   "id": "improved-woman",
   "metadata": {},
   "outputs": [],
   "source": [
    "rfc = RandomForestClassifier(\n",
    "    n_estimators = 300, # liczba drzew w lesie \n",
    "    max_depth = 4       # maksymalna głębokość drzewa\n",
    ")"
   ]
  },
  {
   "cell_type": "code",
   "execution_count": 9,
   "id": "unsigned-decimal",
   "metadata": {},
   "outputs": [],
   "source": [
    "rfc.fit(X_train, y_train)\n",
    "rfc_pred = rfc.predict(X_test)"
   ]
  },
  {
   "cell_type": "markdown",
   "id": "front-right",
   "metadata": {},
   "source": [
    "### Ada Boost Classifier"
   ]
  },
  {
   "cell_type": "code",
   "execution_count": 10,
   "id": "parallel-badge",
   "metadata": {},
   "outputs": [],
   "source": [
    "from sklearn.ensemble import AdaBoostClassifier"
   ]
  },
  {
   "cell_type": "code",
   "execution_count": 11,
   "id": "cognitive-fancy",
   "metadata": {},
   "outputs": [],
   "source": [
    "ada = AdaBoostClassifier(\n",
    "    n_estimators = 70,  # maksymalna liczba estymatorów\n",
    "    learning_rate = 1.1 # współczynnik uczenia\n",
    ")"
   ]
  },
  {
   "cell_type": "code",
   "execution_count": 12,
   "id": "maritime-potential",
   "metadata": {},
   "outputs": [],
   "source": [
    "ada.fit(X_train, y_train)\n",
    "ada_pred = ada.predict(X_test)"
   ]
  },
  {
   "cell_type": "markdown",
   "id": "flexible-syndicate",
   "metadata": {},
   "source": [
    "### Gradient Boosting Classifier"
   ]
  },
  {
   "cell_type": "code",
   "execution_count": 13,
   "id": "spread-topic",
   "metadata": {},
   "outputs": [],
   "source": [
    "from sklearn.ensemble import GradientBoostingClassifier"
   ]
  },
  {
   "cell_type": "code",
   "execution_count": 14,
   "id": "unable-forward",
   "metadata": {},
   "outputs": [],
   "source": [
    "gbc = GradientBoostingClassifier(\n",
    "    max_depth = 4,        # maksymalna głębokość pojedynczego estymatora\n",
    "    min_samples_split = 3 # minimalna liczba próbek wymagana do podziału węzła\n",
    ")"
   ]
  },
  {
   "cell_type": "code",
   "execution_count": 15,
   "id": "hungarian-pledge",
   "metadata": {},
   "outputs": [],
   "source": [
    "gbc.fit(X_train, y_train)\n",
    "gbc_pred = gbc.predict(X_test)"
   ]
  },
  {
   "cell_type": "markdown",
   "id": "muslim-mustang",
   "metadata": {},
   "source": [
    "### Ocena jakości klasyfikatorów"
   ]
  },
  {
   "cell_type": "markdown",
   "id": "neutral-borough",
   "metadata": {},
   "source": [
    "Wybór metryk:"
   ]
  },
  {
   "cell_type": "code",
   "execution_count": 16,
   "id": "frozen-retro",
   "metadata": {},
   "outputs": [],
   "source": [
    "from sklearn.metrics import accuracy_score\n",
    "from sklearn.metrics import precision_score\n",
    "from sklearn.metrics import recall_score\n",
    "from sklearn.metrics import roc_auc_score"
   ]
  },
  {
   "cell_type": "code",
   "execution_count": 17,
   "id": "young-edmonton",
   "metadata": {},
   "outputs": [],
   "source": [
    "metrics = [recall_score, roc_auc_score, accuracy_score, precision_score]"
   ]
  },
  {
   "cell_type": "code",
   "execution_count": 18,
   "id": "spectacular-simon",
   "metadata": {},
   "outputs": [],
   "source": [
    "models = [(rfc_pred, \"RandomForestClassifier\"),(ada_pred, \"AdaBoostClassifier\"), (gbc_pred, 'GradientBoostingClassifier')]"
   ]
  },
  {
   "cell_type": "code",
   "execution_count": 19,
   "id": "seeing-cycle",
   "metadata": {},
   "outputs": [],
   "source": [
    "data = {}\n",
    "for pred, name in models:\n",
    "    output = []\n",
    "    for i in range(len(metrics)):\n",
    "        output.append(metrics[i](y_test, pred))\n",
    "    data[name] = output\n",
    "\n",
    "results = pd.DataFrame(data, index = [metric.__name__ for metric in metrics]).transpose()"
   ]
  },
  {
   "cell_type": "code",
   "execution_count": 20,
   "id": "developed-toyota",
   "metadata": {
    "scrolled": true
   },
   "outputs": [
    {
     "data": {
      "text/html": [
       "<div>\n",
       "<style scoped>\n",
       "    .dataframe tbody tr th:only-of-type {\n",
       "        vertical-align: middle;\n",
       "    }\n",
       "\n",
       "    .dataframe tbody tr th {\n",
       "        vertical-align: top;\n",
       "    }\n",
       "\n",
       "    .dataframe thead th {\n",
       "        text-align: right;\n",
       "    }\n",
       "</style>\n",
       "<table border=\"1\" class=\"dataframe\">\n",
       "  <thead>\n",
       "    <tr style=\"text-align: right;\">\n",
       "      <th></th>\n",
       "      <th>recall_score</th>\n",
       "      <th>roc_auc_score</th>\n",
       "      <th>accuracy_score</th>\n",
       "      <th>precision_score</th>\n",
       "    </tr>\n",
       "  </thead>\n",
       "  <tbody>\n",
       "    <tr>\n",
       "      <th>GradientBoostingClassifier</th>\n",
       "      <td>0.532797</td>\n",
       "      <td>0.740657</td>\n",
       "      <td>0.856966</td>\n",
       "      <td>0.745076</td>\n",
       "    </tr>\n",
       "    <tr>\n",
       "      <th>AdaBoostClassifier</th>\n",
       "      <td>0.517907</td>\n",
       "      <td>0.731280</td>\n",
       "      <td>0.850674</td>\n",
       "      <td>0.725479</td>\n",
       "    </tr>\n",
       "    <tr>\n",
       "      <th>RandomForestClassifier</th>\n",
       "      <td>0.400000</td>\n",
       "      <td>0.686192</td>\n",
       "      <td>0.846331</td>\n",
       "      <td>0.803557</td>\n",
       "    </tr>\n",
       "  </tbody>\n",
       "</table>\n",
       "</div>"
      ],
      "text/plain": [
       "                            recall_score  roc_auc_score  accuracy_score  \\\n",
       "GradientBoostingClassifier      0.532797       0.740657        0.856966   \n",
       "AdaBoostClassifier              0.517907       0.731280        0.850674   \n",
       "RandomForestClassifier          0.400000       0.686192        0.846331   \n",
       "\n",
       "                            precision_score  \n",
       "GradientBoostingClassifier         0.745076  \n",
       "AdaBoostClassifier                 0.725479  \n",
       "RandomForestClassifier             0.803557  "
      ]
     },
     "execution_count": 20,
     "metadata": {},
     "output_type": "execute_result"
    }
   ],
   "source": [
    "results.sort_values(\n",
    "    # uznałem, że najważniejsze jest zminializowanie false negative'ów stąd recall na pierwszym miejscu\n",
    "    by = ['recall_score', 'roc_auc_score', 'accuracy_score', 'precision_score'], \n",
    "    ascending = False)"
   ]
  },
  {
   "cell_type": "markdown",
   "id": "conditional-valentine",
   "metadata": {},
   "source": [
    "Najlepsze wyniki osiąga <ins>GradientBoostingClassifier</ins> (najwyższy wynik przy większości z wybranych metryk)."
   ]
  }
 ],
 "metadata": {
  "kernelspec": {
   "display_name": "Python 3",
   "language": "python",
   "name": "python3"
  },
  "language_info": {
   "codemirror_mode": {
    "name": "ipython",
    "version": 3
   },
   "file_extension": ".py",
   "mimetype": "text/x-python",
   "name": "python",
   "nbconvert_exporter": "python",
   "pygments_lexer": "ipython3",
   "version": "3.7.3"
  }
 },
 "nbformat": 4,
 "nbformat_minor": 5
}
