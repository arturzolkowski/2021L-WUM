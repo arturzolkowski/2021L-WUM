{
 "cells": [
  {
   "cell_type": "code",
   "execution_count": 1,
   "id": "wireless-livestock",
   "metadata": {},
   "outputs": [],
   "source": [
    "import pandas as pd\n",
    "import numpy as np"
   ]
  },
  {
   "cell_type": "markdown",
   "id": "hollow-literacy",
   "metadata": {},
   "source": [
    "### Wczytanie danych"
   ]
  },
  {
   "cell_type": "code",
   "execution_count": 2,
   "id": "diverse-cinema",
   "metadata": {},
   "outputs": [
    {
     "data": {
      "text/html": [
       "<div>\n",
       "<style scoped>\n",
       "    .dataframe tbody tr th:only-of-type {\n",
       "        vertical-align: middle;\n",
       "    }\n",
       "\n",
       "    .dataframe tbody tr th {\n",
       "        vertical-align: top;\n",
       "    }\n",
       "\n",
       "    .dataframe thead th {\n",
       "        text-align: right;\n",
       "    }\n",
       "</style>\n",
       "<table border=\"1\" class=\"dataframe\">\n",
       "  <thead>\n",
       "    <tr style=\"text-align: right;\">\n",
       "      <th></th>\n",
       "      <th>MinTemp</th>\n",
       "      <th>MaxTemp</th>\n",
       "      <th>Rainfall</th>\n",
       "      <th>Evaporation</th>\n",
       "      <th>Sunshine</th>\n",
       "      <th>WindGustSpeed</th>\n",
       "      <th>WindSpeed9am</th>\n",
       "      <th>WindSpeed3pm</th>\n",
       "      <th>Humidity9am</th>\n",
       "      <th>Humidity3pm</th>\n",
       "      <th>Pressure9am</th>\n",
       "      <th>Pressure3pm</th>\n",
       "      <th>Cloud9am</th>\n",
       "      <th>Cloud3pm</th>\n",
       "      <th>Temp9am</th>\n",
       "      <th>Temp3pm</th>\n",
       "      <th>RainToday</th>\n",
       "      <th>RainTomorrow</th>\n",
       "    </tr>\n",
       "  </thead>\n",
       "  <tbody>\n",
       "    <tr>\n",
       "      <th>0</th>\n",
       "      <td>17.9</td>\n",
       "      <td>35.2</td>\n",
       "      <td>0.0</td>\n",
       "      <td>12.0</td>\n",
       "      <td>12.3</td>\n",
       "      <td>48.0</td>\n",
       "      <td>6.0</td>\n",
       "      <td>20.0</td>\n",
       "      <td>20.0</td>\n",
       "      <td>13.0</td>\n",
       "      <td>1006.3</td>\n",
       "      <td>1004.4</td>\n",
       "      <td>2.0</td>\n",
       "      <td>5.0</td>\n",
       "      <td>26.6</td>\n",
       "      <td>33.4</td>\n",
       "      <td>0</td>\n",
       "      <td>0</td>\n",
       "    </tr>\n",
       "    <tr>\n",
       "      <th>1</th>\n",
       "      <td>18.4</td>\n",
       "      <td>28.9</td>\n",
       "      <td>0.0</td>\n",
       "      <td>14.8</td>\n",
       "      <td>13.0</td>\n",
       "      <td>37.0</td>\n",
       "      <td>19.0</td>\n",
       "      <td>19.0</td>\n",
       "      <td>30.0</td>\n",
       "      <td>8.0</td>\n",
       "      <td>1012.9</td>\n",
       "      <td>1012.1</td>\n",
       "      <td>1.0</td>\n",
       "      <td>1.0</td>\n",
       "      <td>20.3</td>\n",
       "      <td>27.0</td>\n",
       "      <td>0</td>\n",
       "      <td>0</td>\n",
       "    </tr>\n",
       "    <tr>\n",
       "      <th>2</th>\n",
       "      <td>19.4</td>\n",
       "      <td>37.6</td>\n",
       "      <td>0.0</td>\n",
       "      <td>10.8</td>\n",
       "      <td>10.6</td>\n",
       "      <td>46.0</td>\n",
       "      <td>30.0</td>\n",
       "      <td>15.0</td>\n",
       "      <td>42.0</td>\n",
       "      <td>22.0</td>\n",
       "      <td>1012.3</td>\n",
       "      <td>1009.2</td>\n",
       "      <td>1.0</td>\n",
       "      <td>6.0</td>\n",
       "      <td>28.7</td>\n",
       "      <td>34.9</td>\n",
       "      <td>0</td>\n",
       "      <td>0</td>\n",
       "    </tr>\n",
       "    <tr>\n",
       "      <th>3</th>\n",
       "      <td>21.9</td>\n",
       "      <td>38.4</td>\n",
       "      <td>0.0</td>\n",
       "      <td>11.4</td>\n",
       "      <td>12.2</td>\n",
       "      <td>31.0</td>\n",
       "      <td>6.0</td>\n",
       "      <td>6.0</td>\n",
       "      <td>37.0</td>\n",
       "      <td>22.0</td>\n",
       "      <td>1012.7</td>\n",
       "      <td>1009.1</td>\n",
       "      <td>1.0</td>\n",
       "      <td>5.0</td>\n",
       "      <td>29.1</td>\n",
       "      <td>35.6</td>\n",
       "      <td>0</td>\n",
       "      <td>0</td>\n",
       "    </tr>\n",
       "    <tr>\n",
       "      <th>4</th>\n",
       "      <td>24.2</td>\n",
       "      <td>41.0</td>\n",
       "      <td>0.0</td>\n",
       "      <td>11.2</td>\n",
       "      <td>8.4</td>\n",
       "      <td>35.0</td>\n",
       "      <td>17.0</td>\n",
       "      <td>13.0</td>\n",
       "      <td>19.0</td>\n",
       "      <td>15.0</td>\n",
       "      <td>1010.7</td>\n",
       "      <td>1007.4</td>\n",
       "      <td>1.0</td>\n",
       "      <td>6.0</td>\n",
       "      <td>33.6</td>\n",
       "      <td>37.6</td>\n",
       "      <td>0</td>\n",
       "      <td>0</td>\n",
       "    </tr>\n",
       "  </tbody>\n",
       "</table>\n",
       "</div>"
      ],
      "text/plain": [
       "   MinTemp  MaxTemp  Rainfall  Evaporation  Sunshine  WindGustSpeed  \\\n",
       "0     17.9     35.2       0.0         12.0      12.3           48.0   \n",
       "1     18.4     28.9       0.0         14.8      13.0           37.0   \n",
       "2     19.4     37.6       0.0         10.8      10.6           46.0   \n",
       "3     21.9     38.4       0.0         11.4      12.2           31.0   \n",
       "4     24.2     41.0       0.0         11.2       8.4           35.0   \n",
       "\n",
       "   WindSpeed9am  WindSpeed3pm  Humidity9am  Humidity3pm  Pressure9am  \\\n",
       "0           6.0          20.0         20.0         13.0       1006.3   \n",
       "1          19.0          19.0         30.0          8.0       1012.9   \n",
       "2          30.0          15.0         42.0         22.0       1012.3   \n",
       "3           6.0           6.0         37.0         22.0       1012.7   \n",
       "4          17.0          13.0         19.0         15.0       1010.7   \n",
       "\n",
       "   Pressure3pm  Cloud9am  Cloud3pm  Temp9am  Temp3pm  RainToday  RainTomorrow  \n",
       "0       1004.4       2.0       5.0     26.6     33.4          0             0  \n",
       "1       1012.1       1.0       1.0     20.3     27.0          0             0  \n",
       "2       1009.2       1.0       6.0     28.7     34.9          0             0  \n",
       "3       1009.1       1.0       5.0     29.1     35.6          0             0  \n",
       "4       1007.4       1.0       6.0     33.6     37.6          0             0  "
      ]
     },
     "execution_count": 2,
     "metadata": {},
     "output_type": "execute_result"
    }
   ],
   "source": [
    "df = pd.read_csv('australia.csv')\n",
    "df.head()"
   ]
  },
  {
   "cell_type": "code",
   "execution_count": 3,
   "id": "conscious-found",
   "metadata": {},
   "outputs": [
    {
     "data": {
      "text/plain": [
       "(56420, 18)"
      ]
     },
     "execution_count": 3,
     "metadata": {},
     "output_type": "execute_result"
    }
   ],
   "source": [
    "df.shape"
   ]
  },
  {
   "cell_type": "markdown",
   "id": "spatial-destruction",
   "metadata": {},
   "source": [
    "## Podział na zbiór treningowy i testowy"
   ]
  },
  {
   "cell_type": "code",
   "execution_count": 4,
   "id": "brown-julian",
   "metadata": {},
   "outputs": [],
   "source": [
    "X = df.drop(columns=['RainTomorrow'])\n",
    "y = df['RainTomorrow']"
   ]
  },
  {
   "cell_type": "code",
   "execution_count": 5,
   "id": "thermal-taiwan",
   "metadata": {},
   "outputs": [],
   "source": [
    "from sklearn.model_selection import train_test_split\n",
    "\n",
    "X_train, X_test, y_train, y_test = train_test_split(X, y, test_size=0.2)"
   ]
  },
  {
   "cell_type": "markdown",
   "id": "advanced-helping",
   "metadata": {},
   "source": [
    "## Regresja logistyczna"
   ]
  },
  {
   "cell_type": "code",
   "execution_count": 32,
   "id": "careful-conservation",
   "metadata": {},
   "outputs": [],
   "source": [
    "from sklearn.metrics import classification_report, roc_auc_score\n",
    "from sklearn.linear_model import LogisticRegression"
   ]
  },
  {
   "cell_type": "code",
   "execution_count": 31,
   "id": "satellite-bermuda",
   "metadata": {},
   "outputs": [
    {
     "name": "stdout",
     "output_type": "stream",
     "text": [
      "              precision    recall  f1-score   support\n",
      "\n",
      "           0       0.93      0.81      0.87      8856\n",
      "           1       0.54      0.79      0.64      2428\n",
      "\n",
      "    accuracy                           0.81     11284\n",
      "   macro avg       0.73      0.80      0.75     11284\n",
      "weighted avg       0.85      0.81      0.82     11284\n",
      "\n"
     ]
    }
   ],
   "source": [
    "lr = LogisticRegression(max_iter=1000,                        \n",
    "                        class_weight='balanced')\n",
    "lr.fit(X_train, y_train)\n",
    "y_pred2 = lr.predict(X_test)\n",
    "\n",
    "print(classification_report(y_test, y_pred2))"
   ]
  },
  {
   "cell_type": "markdown",
   "id": "foreign-proposition",
   "metadata": {},
   "source": [
    "1. Parametr `class_weight` nadaje każdej z klas wagę. Ustawienie tego parametru na `balanced` powoduje, że wagi są przyznawane klasom odwrotnie proporcjonalnie do częstości występowania danej klasy.\n",
    "2. Parametr `max_iter` ogranicza liczbę iteracji, które zostaną wykonane."
   ]
  },
  {
   "cell_type": "markdown",
   "id": "whole-syracuse",
   "metadata": {},
   "source": [
    "## XGBClassifier"
   ]
  },
  {
   "cell_type": "code",
   "execution_count": 18,
   "id": "reduced-biography",
   "metadata": {},
   "outputs": [],
   "source": [
    "from xgboost import XGBClassifier"
   ]
  },
  {
   "cell_type": "code",
   "execution_count": 21,
   "id": "clean-lending",
   "metadata": {},
   "outputs": [
    {
     "name": "stdout",
     "output_type": "stream",
     "text": [
      "              precision    recall  f1-score   support\n",
      "\n",
      "           0       0.88      0.95      0.92      8856\n",
      "           1       0.75      0.53      0.62      2428\n",
      "\n",
      "    accuracy                           0.86     11284\n",
      "   macro avg       0.82      0.74      0.77     11284\n",
      "weighted avg       0.85      0.86      0.85     11284\n",
      "\n"
     ]
    }
   ],
   "source": [
    "xg_boost = XGBClassifier(random_state=1,\n",
    "                    learning_rate=0.1,\n",
    "                    booster='gbtree',\n",
    "                    max_depth=6,  \n",
    "                    eval_metric='rmse',\n",
    "                    use_label_encoder=False)\n",
    "\n",
    "xg_boost.fit(X_train, y_train)\n",
    "y_pred3 = xg_boost.predict(X_test)\n",
    "print(classification_report(y_test, y_pred3))"
   ]
  },
  {
   "cell_type": "markdown",
   "id": "completed-ocean",
   "metadata": {},
   "source": [
    "1. Parametr `learning_rate` odpowiada za szybkość uczenia.\n",
    "2. `booster` określa strukturę modelu. Do wybory mamy: `gbtree`, `gblinear` oraz `dart`.\n",
    "3. `max_depth` ustala maksymalną głębokość drzewa.\n",
    "4. `eval_metric` - metryka używana do monitorowania uczenia modelu.\n",
    "5. `use_label_encoder` przestarzały parametr, który zaleca się ustawić na `False`, a kodowanie zmiennych przeprowadzić z wykorzystaniem odpowiednich do tego narzędzi."
   ]
  },
  {
   "cell_type": "markdown",
   "id": "activated-being",
   "metadata": {},
   "source": [
    "## KNeighborsClassifier"
   ]
  },
  {
   "cell_type": "code",
   "execution_count": 23,
   "id": "ready-entrepreneur",
   "metadata": {},
   "outputs": [],
   "source": [
    "from sklearn.neighbors import KNeighborsClassifier"
   ]
  },
  {
   "cell_type": "code",
   "execution_count": 30,
   "id": "binding-premiere",
   "metadata": {},
   "outputs": [
    {
     "name": "stdout",
     "output_type": "stream",
     "text": [
      "              precision    recall  f1-score   support\n",
      "\n",
      "           0       0.88      0.92      0.90      8856\n",
      "           1       0.66      0.54      0.59      2428\n",
      "\n",
      "    accuracy                           0.84     11284\n",
      "   macro avg       0.77      0.73      0.75     11284\n",
      "weighted avg       0.83      0.84      0.83     11284\n",
      "\n"
     ]
    }
   ],
   "source": [
    "knn = KNeighborsClassifier(n_neighbors=3,\n",
    "                          weights='distance',\n",
    "                          p=1)\n",
    "\n",
    "knn.fit(X_train, y_train)\n",
    "y_pred4 = knn.predict(X_test)\n",
    "print(classification_report(y_test, y_pred4))"
   ]
  },
  {
   "cell_type": "markdown",
   "id": "likely-velvet",
   "metadata": {},
   "source": [
    "1. `n_neighbours` - liczba sąsiadów branych pod uwagę.\n",
    "2. `weights` - wagi dla sąsiadów są nadawane odwrotnie propocjonalnie do odległości od analizowanego punktu. Czyli punkty bliżej mają większy wpływ.\n",
    "3. `p` wykładnik potęgi w metryce Minkowskiego. Dla parametru p równego 1 mamy do czynienia z metryką taksówkową."
   ]
  },
  {
   "cell_type": "markdown",
   "id": "binding-albert",
   "metadata": {},
   "source": [
    "## Porównanie klasyfikatorów"
   ]
  },
  {
   "cell_type": "markdown",
   "id": "acquired-spanish",
   "metadata": {},
   "source": [
    "Porównamy wszystkie trzy modele pod kątem accuracy, recall oraz f1-score.\n",
    "1. W przypadku accuracy najlepiej wypada XGBClassifier.\n",
    "2. W przypadku recall rózwnież najlepiej wypada XGBClassifier, bierzemy pod uwagę średnią ważoną z recall dla 0 i 1.\n",
    "3. Również pod kątem f1-score XGBClassifier radzi sobie najlepiej. Tutaj również porównujemy po średniej ważonej z f1-score.\n",
    "\n",
    "### Ranking\n",
    "1. XGBClassifier\n",
    "2. KNeighborsClassifier\n",
    "3. LogisticRegression"
   ]
  },
  {
   "cell_type": "code",
   "execution_count": null,
   "id": "moral-parameter",
   "metadata": {},
   "outputs": [],
   "source": []
  }
 ],
 "metadata": {
  "kernelspec": {
   "display_name": "Python 3",
   "language": "python",
   "name": "python3"
  },
  "language_info": {
   "codemirror_mode": {
    "name": "ipython",
    "version": 3
   },
   "file_extension": ".py",
   "mimetype": "text/x-python",
   "name": "python",
   "nbconvert_exporter": "python",
   "pygments_lexer": "ipython3",
   "version": "3.8.3"
  }
 },
 "nbformat": 4,
 "nbformat_minor": 5
}
