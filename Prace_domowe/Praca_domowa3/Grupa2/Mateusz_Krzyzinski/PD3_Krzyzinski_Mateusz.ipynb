{
 "cells": [
  {
   "cell_type": "markdown",
   "metadata": {},
   "source": [
    "# Zadanie domowe 3\n",
    "## Mateusz Krzyziński\n",
    "\n",
    "Przedmiotem zadania domowego 3 jest wytrenowanie dowolnych trzech klasyfikatorów i sprawdzenie ich skuteczności. Modele klasyfikacyjne mają przewidywać na podstawie danych pogodowych z Australii, czy następnego dnia będzie padać deszcz, czy nie. \n",
    "\n",
    "\n",
    "### Wczytanie pakietów, danych i podział na zbiory\n",
    "Mamy do czynienia ze zbiorem dotyczącym obserwacji pogodowych z australijskich stacji meteorologicznych. Jest on już przygotowany do pracy, ale dla porządku warto sprawdzić, jak wygląda. "
   ]
  },
  {
   "cell_type": "code",
   "execution_count": 1,
   "metadata": {},
   "outputs": [],
   "source": [
    "import pandas as pd\n",
    "import numpy as np\n",
    "import matplotlib.pyplot as plt\n",
    "import matplotlib\n",
    "np.random.seed = 42"
   ]
  },
  {
   "cell_type": "code",
   "execution_count": 2,
   "metadata": {},
   "outputs": [],
   "source": [
    "df = pd.read_csv('australia.csv')"
   ]
  },
  {
   "cell_type": "code",
   "execution_count": 3,
   "metadata": {},
   "outputs": [
    {
     "data": {
      "text/html": [
       "<div>\n",
       "<style scoped>\n",
       "    .dataframe tbody tr th:only-of-type {\n",
       "        vertical-align: middle;\n",
       "    }\n",
       "\n",
       "    .dataframe tbody tr th {\n",
       "        vertical-align: top;\n",
       "    }\n",
       "\n",
       "    .dataframe thead th {\n",
       "        text-align: right;\n",
       "    }\n",
       "</style>\n",
       "<table border=\"1\" class=\"dataframe\">\n",
       "  <thead>\n",
       "    <tr style=\"text-align: right;\">\n",
       "      <th></th>\n",
       "      <th>MinTemp</th>\n",
       "      <th>MaxTemp</th>\n",
       "      <th>Rainfall</th>\n",
       "      <th>Evaporation</th>\n",
       "      <th>Sunshine</th>\n",
       "      <th>WindGustSpeed</th>\n",
       "      <th>WindSpeed9am</th>\n",
       "      <th>WindSpeed3pm</th>\n",
       "      <th>Humidity9am</th>\n",
       "      <th>Humidity3pm</th>\n",
       "      <th>Pressure9am</th>\n",
       "      <th>Pressure3pm</th>\n",
       "      <th>Cloud9am</th>\n",
       "      <th>Cloud3pm</th>\n",
       "      <th>Temp9am</th>\n",
       "      <th>Temp3pm</th>\n",
       "      <th>RainToday</th>\n",
       "      <th>RainTomorrow</th>\n",
       "    </tr>\n",
       "  </thead>\n",
       "  <tbody>\n",
       "    <tr>\n",
       "      <th>0</th>\n",
       "      <td>17.9</td>\n",
       "      <td>35.2</td>\n",
       "      <td>0.0</td>\n",
       "      <td>12.0</td>\n",
       "      <td>12.3</td>\n",
       "      <td>48.0</td>\n",
       "      <td>6.0</td>\n",
       "      <td>20.0</td>\n",
       "      <td>20.0</td>\n",
       "      <td>13.0</td>\n",
       "      <td>1006.3</td>\n",
       "      <td>1004.4</td>\n",
       "      <td>2.0</td>\n",
       "      <td>5.0</td>\n",
       "      <td>26.6</td>\n",
       "      <td>33.4</td>\n",
       "      <td>0</td>\n",
       "      <td>0</td>\n",
       "    </tr>\n",
       "    <tr>\n",
       "      <th>1</th>\n",
       "      <td>18.4</td>\n",
       "      <td>28.9</td>\n",
       "      <td>0.0</td>\n",
       "      <td>14.8</td>\n",
       "      <td>13.0</td>\n",
       "      <td>37.0</td>\n",
       "      <td>19.0</td>\n",
       "      <td>19.0</td>\n",
       "      <td>30.0</td>\n",
       "      <td>8.0</td>\n",
       "      <td>1012.9</td>\n",
       "      <td>1012.1</td>\n",
       "      <td>1.0</td>\n",
       "      <td>1.0</td>\n",
       "      <td>20.3</td>\n",
       "      <td>27.0</td>\n",
       "      <td>0</td>\n",
       "      <td>0</td>\n",
       "    </tr>\n",
       "    <tr>\n",
       "      <th>2</th>\n",
       "      <td>19.4</td>\n",
       "      <td>37.6</td>\n",
       "      <td>0.0</td>\n",
       "      <td>10.8</td>\n",
       "      <td>10.6</td>\n",
       "      <td>46.0</td>\n",
       "      <td>30.0</td>\n",
       "      <td>15.0</td>\n",
       "      <td>42.0</td>\n",
       "      <td>22.0</td>\n",
       "      <td>1012.3</td>\n",
       "      <td>1009.2</td>\n",
       "      <td>1.0</td>\n",
       "      <td>6.0</td>\n",
       "      <td>28.7</td>\n",
       "      <td>34.9</td>\n",
       "      <td>0</td>\n",
       "      <td>0</td>\n",
       "    </tr>\n",
       "    <tr>\n",
       "      <th>3</th>\n",
       "      <td>21.9</td>\n",
       "      <td>38.4</td>\n",
       "      <td>0.0</td>\n",
       "      <td>11.4</td>\n",
       "      <td>12.2</td>\n",
       "      <td>31.0</td>\n",
       "      <td>6.0</td>\n",
       "      <td>6.0</td>\n",
       "      <td>37.0</td>\n",
       "      <td>22.0</td>\n",
       "      <td>1012.7</td>\n",
       "      <td>1009.1</td>\n",
       "      <td>1.0</td>\n",
       "      <td>5.0</td>\n",
       "      <td>29.1</td>\n",
       "      <td>35.6</td>\n",
       "      <td>0</td>\n",
       "      <td>0</td>\n",
       "    </tr>\n",
       "    <tr>\n",
       "      <th>4</th>\n",
       "      <td>24.2</td>\n",
       "      <td>41.0</td>\n",
       "      <td>0.0</td>\n",
       "      <td>11.2</td>\n",
       "      <td>8.4</td>\n",
       "      <td>35.0</td>\n",
       "      <td>17.0</td>\n",
       "      <td>13.0</td>\n",
       "      <td>19.0</td>\n",
       "      <td>15.0</td>\n",
       "      <td>1010.7</td>\n",
       "      <td>1007.4</td>\n",
       "      <td>1.0</td>\n",
       "      <td>6.0</td>\n",
       "      <td>33.6</td>\n",
       "      <td>37.6</td>\n",
       "      <td>0</td>\n",
       "      <td>0</td>\n",
       "    </tr>\n",
       "    <tr>\n",
       "      <th>...</th>\n",
       "      <td>...</td>\n",
       "      <td>...</td>\n",
       "      <td>...</td>\n",
       "      <td>...</td>\n",
       "      <td>...</td>\n",
       "      <td>...</td>\n",
       "      <td>...</td>\n",
       "      <td>...</td>\n",
       "      <td>...</td>\n",
       "      <td>...</td>\n",
       "      <td>...</td>\n",
       "      <td>...</td>\n",
       "      <td>...</td>\n",
       "      <td>...</td>\n",
       "      <td>...</td>\n",
       "      <td>...</td>\n",
       "      <td>...</td>\n",
       "      <td>...</td>\n",
       "    </tr>\n",
       "    <tr>\n",
       "      <th>56415</th>\n",
       "      <td>19.3</td>\n",
       "      <td>33.4</td>\n",
       "      <td>0.0</td>\n",
       "      <td>6.0</td>\n",
       "      <td>11.0</td>\n",
       "      <td>35.0</td>\n",
       "      <td>9.0</td>\n",
       "      <td>20.0</td>\n",
       "      <td>63.0</td>\n",
       "      <td>32.0</td>\n",
       "      <td>1013.9</td>\n",
       "      <td>1010.5</td>\n",
       "      <td>0.0</td>\n",
       "      <td>1.0</td>\n",
       "      <td>24.5</td>\n",
       "      <td>32.3</td>\n",
       "      <td>0</td>\n",
       "      <td>0</td>\n",
       "    </tr>\n",
       "    <tr>\n",
       "      <th>56416</th>\n",
       "      <td>21.2</td>\n",
       "      <td>32.6</td>\n",
       "      <td>0.0</td>\n",
       "      <td>7.6</td>\n",
       "      <td>8.6</td>\n",
       "      <td>37.0</td>\n",
       "      <td>13.0</td>\n",
       "      <td>11.0</td>\n",
       "      <td>56.0</td>\n",
       "      <td>28.0</td>\n",
       "      <td>1014.6</td>\n",
       "      <td>1011.2</td>\n",
       "      <td>7.0</td>\n",
       "      <td>0.0</td>\n",
       "      <td>24.8</td>\n",
       "      <td>32.0</td>\n",
       "      <td>0</td>\n",
       "      <td>0</td>\n",
       "    </tr>\n",
       "    <tr>\n",
       "      <th>56417</th>\n",
       "      <td>20.7</td>\n",
       "      <td>32.8</td>\n",
       "      <td>0.0</td>\n",
       "      <td>5.6</td>\n",
       "      <td>11.0</td>\n",
       "      <td>33.0</td>\n",
       "      <td>17.0</td>\n",
       "      <td>11.0</td>\n",
       "      <td>46.0</td>\n",
       "      <td>23.0</td>\n",
       "      <td>1015.3</td>\n",
       "      <td>1011.8</td>\n",
       "      <td>0.0</td>\n",
       "      <td>0.0</td>\n",
       "      <td>24.8</td>\n",
       "      <td>32.1</td>\n",
       "      <td>0</td>\n",
       "      <td>0</td>\n",
       "    </tr>\n",
       "    <tr>\n",
       "      <th>56418</th>\n",
       "      <td>19.5</td>\n",
       "      <td>31.8</td>\n",
       "      <td>0.0</td>\n",
       "      <td>6.2</td>\n",
       "      <td>10.6</td>\n",
       "      <td>26.0</td>\n",
       "      <td>9.0</td>\n",
       "      <td>17.0</td>\n",
       "      <td>62.0</td>\n",
       "      <td>58.0</td>\n",
       "      <td>1014.9</td>\n",
       "      <td>1010.7</td>\n",
       "      <td>1.0</td>\n",
       "      <td>1.0</td>\n",
       "      <td>24.8</td>\n",
       "      <td>29.2</td>\n",
       "      <td>0</td>\n",
       "      <td>0</td>\n",
       "    </tr>\n",
       "    <tr>\n",
       "      <th>56419</th>\n",
       "      <td>20.2</td>\n",
       "      <td>31.7</td>\n",
       "      <td>0.0</td>\n",
       "      <td>5.6</td>\n",
       "      <td>10.7</td>\n",
       "      <td>30.0</td>\n",
       "      <td>15.0</td>\n",
       "      <td>7.0</td>\n",
       "      <td>73.0</td>\n",
       "      <td>32.0</td>\n",
       "      <td>1013.9</td>\n",
       "      <td>1009.7</td>\n",
       "      <td>6.0</td>\n",
       "      <td>5.0</td>\n",
       "      <td>25.4</td>\n",
       "      <td>31.0</td>\n",
       "      <td>0</td>\n",
       "      <td>0</td>\n",
       "    </tr>\n",
       "  </tbody>\n",
       "</table>\n",
       "<p>56420 rows × 18 columns</p>\n",
       "</div>"
      ],
      "text/plain": [
       "       MinTemp  MaxTemp  Rainfall  Evaporation  Sunshine  WindGustSpeed  \\\n",
       "0         17.9     35.2       0.0         12.0      12.3           48.0   \n",
       "1         18.4     28.9       0.0         14.8      13.0           37.0   \n",
       "2         19.4     37.6       0.0         10.8      10.6           46.0   \n",
       "3         21.9     38.4       0.0         11.4      12.2           31.0   \n",
       "4         24.2     41.0       0.0         11.2       8.4           35.0   \n",
       "...        ...      ...       ...          ...       ...            ...   \n",
       "56415     19.3     33.4       0.0          6.0      11.0           35.0   \n",
       "56416     21.2     32.6       0.0          7.6       8.6           37.0   \n",
       "56417     20.7     32.8       0.0          5.6      11.0           33.0   \n",
       "56418     19.5     31.8       0.0          6.2      10.6           26.0   \n",
       "56419     20.2     31.7       0.0          5.6      10.7           30.0   \n",
       "\n",
       "       WindSpeed9am  WindSpeed3pm  Humidity9am  Humidity3pm  Pressure9am  \\\n",
       "0               6.0          20.0         20.0         13.0       1006.3   \n",
       "1              19.0          19.0         30.0          8.0       1012.9   \n",
       "2              30.0          15.0         42.0         22.0       1012.3   \n",
       "3               6.0           6.0         37.0         22.0       1012.7   \n",
       "4              17.0          13.0         19.0         15.0       1010.7   \n",
       "...             ...           ...          ...          ...          ...   \n",
       "56415           9.0          20.0         63.0         32.0       1013.9   \n",
       "56416          13.0          11.0         56.0         28.0       1014.6   \n",
       "56417          17.0          11.0         46.0         23.0       1015.3   \n",
       "56418           9.0          17.0         62.0         58.0       1014.9   \n",
       "56419          15.0           7.0         73.0         32.0       1013.9   \n",
       "\n",
       "       Pressure3pm  Cloud9am  Cloud3pm  Temp9am  Temp3pm  RainToday  \\\n",
       "0           1004.4       2.0       5.0     26.6     33.4          0   \n",
       "1           1012.1       1.0       1.0     20.3     27.0          0   \n",
       "2           1009.2       1.0       6.0     28.7     34.9          0   \n",
       "3           1009.1       1.0       5.0     29.1     35.6          0   \n",
       "4           1007.4       1.0       6.0     33.6     37.6          0   \n",
       "...            ...       ...       ...      ...      ...        ...   \n",
       "56415       1010.5       0.0       1.0     24.5     32.3          0   \n",
       "56416       1011.2       7.0       0.0     24.8     32.0          0   \n",
       "56417       1011.8       0.0       0.0     24.8     32.1          0   \n",
       "56418       1010.7       1.0       1.0     24.8     29.2          0   \n",
       "56419       1009.7       6.0       5.0     25.4     31.0          0   \n",
       "\n",
       "       RainTomorrow  \n",
       "0                 0  \n",
       "1                 0  \n",
       "2                 0  \n",
       "3                 0  \n",
       "4                 0  \n",
       "...             ...  \n",
       "56415             0  \n",
       "56416             0  \n",
       "56417             0  \n",
       "56418             0  \n",
       "56419             0  \n",
       "\n",
       "[56420 rows x 18 columns]"
      ]
     },
     "execution_count": 3,
     "metadata": {},
     "output_type": "execute_result"
    }
   ],
   "source": [
    "df"
   ]
  },
  {
   "cell_type": "code",
   "execution_count": 4,
   "metadata": {},
   "outputs": [
    {
     "data": {
      "image/png": "[encoded data removed]",
      "text/plain": [
       "<Figure size 1152x864 with 20 Axes>"
      ]
     },
     "metadata": {
      "needs_background": "light"
     },
     "output_type": "display_data"
    }
   ],
   "source": [
    "df.hist(figsize=(16,12))\n",
    "plt.show()"
   ]
  },
  {
   "cell_type": "markdown",
   "metadata": {},
   "source": [
    "Powyżej widzimy, że większość zmiennych ma rozkłady przypominające normalne, ale w różnych zakresach liczbowych - warto pomyśleć o skalowaniu. "
   ]
  },
  {
   "cell_type": "code",
   "execution_count": 5,
   "metadata": {},
   "outputs": [],
   "source": [
    "# Podział na target i zmienne wyjaśniające\n",
    "y = df['RainTomorrow']\n",
    "X = df.drop(['RainTomorrow'],axis=1)"
   ]
  },
  {
   "cell_type": "code",
   "execution_count": 6,
   "metadata": {},
   "outputs": [
    {
     "data": {
      "text/plain": [
       "0    43993\n",
       "1    12427\n",
       "Name: RainTomorrow, dtype: int64"
      ]
     },
     "execution_count": 6,
     "metadata": {},
     "output_type": "execute_result"
    }
   ],
   "source": [
    "y.value_counts()"
   ]
  },
  {
   "cell_type": "markdown",
   "metadata": {},
   "source": [
    "Sprawdzenie rozkładu targetu pokazuje, że nie jest on tak zaburzony jak można by się spodziewać (przynajmniej ja sądziłem, że dni z deszczem będzie jeszcze mniej). Pomimo to warto zadbać o proporcjonalny podział obserwacji do zbioru treningowego i testowego. W szczególności, argumentem przemawiającym za tym jest również specyfika zadania - ze względu na (jeszcze ostatkami sił 😥) stabilny klimat w przyszłości nowe dane powinny mieć podobny rozkład. "
   ]
  },
  {
   "cell_type": "code",
   "execution_count": 7,
   "metadata": {},
   "outputs": [],
   "source": [
    "from sklearn.model_selection import train_test_split\n",
    "X_train, X_test, y_train, y_test = train_test_split(\n",
    "    X, y, test_size=0.2, random_state=42, stratify=y)"
   ]
  },
  {
   "cell_type": "markdown",
   "metadata": {},
   "source": [
    "### Nauka modeli i ocena jakości \n",
    "Stworzymy trzy różne modele klasyfikacyjne. Każdy z nich będziemy sprawdzali, wykorzystując trzy miary jakości:\n",
    "- accuracy,\n",
    "- F1 score (średnia harmoniczna z precission i recall)\n",
    "- ROC AUC (łączy recall i False Positive Rate (1 - specificity)).\n",
    "Dzięki zastosowaniu różnych miar będziemy mieli większą pewność odnośnie jakości wytrenowanych klasyfikatorów, gdyż intuicyjne accuracy może go nie odzwierciedlać. Dają nam również dodatkowe informacje o popełnianych błędach - np. precyzji modelu i uciekających predykcjach (recall). \n",
    "\n",
    "Wyliczymy średnie wartości poszczególnych miar w kroswalidacji na zbiorze treningowym oraz wartości dla zbioru testowego. "
   ]
  },
  {
   "cell_type": "code",
   "execution_count": 8,
   "metadata": {},
   "outputs": [],
   "source": [
    "# Funkcja pomocnicza agregująca miary z kroswalidacji i tworząca DataFrame do późniejszej wizualizacji\n",
    "def get_results(cv_results, model_name):\n",
    "    print(\"--- Performance measures values for\", model_name, \"---\")\n",
    "    for measure in [\"test_accuracy\", \"test_f1\", \"test_roc_auc\"]:\n",
    "        print(measure.split(\"_\", 1)[1], \" | \",  f\"mean: {np.mean(cv_results[measure]):.4f}, min: {min(cv_results[measure]):.4f}, max: {max(lr_cv_results[measure]):.4f}\")\n",
    "    return pd.DataFrame({\"model\": model_name, \"accuracy_score\": cv_results[\"test_accuracy\"], \"f1_score\": cv_results[\"test_f1\"], \"roc_auc_score\": cv_results[\"test_roc_auc\"]})"
   ]
  },
  {
   "cell_type": "code",
   "execution_count": 9,
   "metadata": {},
   "outputs": [],
   "source": [
    "from sklearn.model_selection import KFold, cross_validate\n",
    "from sklearn.pipeline import Pipeline\n",
    "from sklearn.preprocessing import StandardScaler"
   ]
  },
  {
   "cell_type": "code",
   "execution_count": 10,
   "metadata": {},
   "outputs": [],
   "source": [
    "kfolds = 10\n",
    "split = KFold(n_splits=kfolds, shuffle=True, random_state=42)"
   ]
  },
  {
   "cell_type": "markdown",
   "metadata": {},
   "source": [
    "#### Pierwszy model - regresja logistyczna\n",
    "Wybrane hiperparametry: \n",
    "- `penalty = 'lasticnet'` - regresja liniowo łacząca kary Ridge ($L_2$) i Lasso($L_1$) ograniczające wartości wag, \n",
    "- `solver = 'saga'` - algorytm użyty w optymalizacji wag, konieczny do zastosowania ElasticNet,\n",
    "- `l1_ratio = 0.8` - współczynnik istotności kary $L_1$ w branej pod uwagę kombinacji liniowej."
   ]
  },
  {
   "cell_type": "code",
   "execution_count": 11,
   "metadata": {},
   "outputs": [
    {
     "name": "stdout",
     "output_type": "stream",
     "text": [
      "--- Performance measures values for LogisticRegression ---\n",
      "accuracy  |  mean: 0.8532, min: 0.8463, max: 0.8664\n",
      "f1  |  mean: 0.6155, min: 0.5884, max: 0.6428\n",
      "roc_auc  |  mean: 0.8843, min: 0.8776, max: 0.8954\n"
     ]
    }
   ],
   "source": [
    "from sklearn.linear_model import LogisticRegression\n",
    "\n",
    "lr = LogisticRegression(penalty='elasticnet', solver='saga', l1_ratio=0.8)\n",
    "\n",
    "lr_model = Pipeline(steps=[('standardscaler', StandardScaler()),   #stosujemy standaryzację \n",
    "                ('lr', lr)])  \n",
    "\n",
    "lr_cv_results = cross_validate(lr_model, \n",
    "                 X_train, y_train, \n",
    "                 cv=split,\n",
    "                 scoring=[\"accuracy\", \"f1\", \"roc_auc\"],\n",
    "                          n_jobs=-1)\n",
    "\n",
    "lr_res_df = get_results(lr_cv_results, \"LogisticRegression\")"
   ]
  },
  {
   "cell_type": "markdown",
   "metadata": {},
   "source": [
    "#### Drugi model - las losowy\n",
    "Wybrane hiperparametry: \n",
    "- `min_samples_leaf = 3` - minimala liczba obserwacji, które muszą znaleźć się w liściu drzewa - większe wartości zapobiegają dużej wariancji,\n",
    "- `min_samples_split = 7` - minimalna liczba obserwacji w węźle konieczna do podzielenia go - podobnie jak wyżej,\n",
    "- `max_depth = 20` - maksymalna głębokość pojedynczego drzewa - zmniejszenie powoduje zmniejszenie wariancji,\n",
    "- `n_estimators = 200` - liczba drzew w modelu,\n",
    "- `max_features = 'sqrt'` - maksymalna liczba cech rozważanych przy dzieleniu węzłów w drzewach. "
   ]
  },
  {
   "cell_type": "code",
   "execution_count": 12,
   "metadata": {},
   "outputs": [
    {
     "name": "stdout",
     "output_type": "stream",
     "text": [
      "--- Performance measures values for RandomForest ---\n",
      "accuracy  |  mean: 0.8604, min: 0.8542, max: 0.8664\n",
      "f1  |  mean: 0.6256, min: 0.6002, max: 0.6428\n",
      "roc_auc  |  mean: 0.8941, min: 0.8822, max: 0.8954\n"
     ]
    }
   ],
   "source": [
    "from sklearn.ensemble import RandomForestClassifier\n",
    "\n",
    "rf = RandomForestClassifier(min_samples_leaf=3, min_samples_split=7, max_depth=20, \n",
    "                             n_estimators=200, max_features='sqrt', n_jobs = -1)\n",
    "\n",
    "rf_model = Pipeline(steps=[('standardscaler', StandardScaler()),\n",
    "                ('rf', rf)])\n",
    "    \n",
    "rf_cv_results = cross_validate(rf_model, \n",
    "                 X_train, y_train, \n",
    "                 cv=split,\n",
    "                 scoring=[\"accuracy\", \"f1\", \"roc_auc\"],\n",
    "                          n_jobs=-1)\n",
    "\n",
    "rf_res_df = get_results(rf_cv_results, \"RandomForest\")"
   ]
  },
  {
   "cell_type": "markdown",
   "metadata": {},
   "source": [
    "#### Trzeci model - klasyfikator metodą k najbliższych sąsiadów\n",
    "Wybrane hiperparametry: \n",
    "- `n_neighbors = 8` - liczba sąsiadów branych pod uwagę w tworzeniu predykcji, \n",
    "- `weights = 'distance'` - waga poszczególnych sąsiadów w predykcji związana jest z odległością od obserwacji - czym mniejsza, tym większa waga, \n",
    "- `p = 1.5` - metryka odległości (w tym przypadku uogólniona odległość Minkowskiego $L_{1.5}$)."
   ]
  },
  {
   "cell_type": "code",
   "execution_count": 13,
   "metadata": {},
   "outputs": [
    {
     "name": "stdout",
     "output_type": "stream",
     "text": [
      "--- Performance measures values for KNN ---\n",
      "accuracy  |  mean: 0.8473, min: 0.8374, max: 0.8664\n",
      "f1  |  mean: 0.6003, min: 0.5687, max: 0.6428\n",
      "roc_auc  |  mean: 0.8585, min: 0.8440, max: 0.8954\n"
     ]
    }
   ],
   "source": [
    "from sklearn.neighbors import KNeighborsClassifier\n",
    "\n",
    "knn = KNeighborsClassifier(n_neighbors=8, weights='distance', p=1.5, n_jobs=-1)\n",
    "\n",
    "knn_model = Pipeline(steps=[('standardscaler', StandardScaler()),\n",
    "                ('knn', knn)])\n",
    "\n",
    "knn_cv_results = cross_validate(knn_model, \n",
    "                 X_train, y_train, \n",
    "                 cv=split,\n",
    "                 scoring=[\"accuracy\", \"f1\", \"roc_auc\"],\n",
    "                          n_jobs=-1)\n",
    "\n",
    "knn_res_df = get_results(knn_cv_results, \"KNN\")"
   ]
  },
  {
   "cell_type": "markdown",
   "metadata": {},
   "source": [
    "#### Miary z kroswalidacji"
   ]
  },
  {
   "cell_type": "code",
   "execution_count": 19,
   "metadata": {},
   "outputs": [],
   "source": [
    "cv_results_df = pd.concat([lr_res_df, rf_res_df, knn_res_df], axis=0)"
   ]
  },
  {
   "cell_type": "code",
   "execution_count": 23,
   "metadata": {},
   "outputs": [],
   "source": [
    "import seaborn as sns\n",
    "import matplotlib.pyplot as plt"
   ]
  },
  {
   "cell_type": "code",
   "execution_count": 33,
   "metadata": {},
   "outputs": [
    {
     "data": {
      "image/png": "[encoded data removed]",
      "text/plain": [
       "<Figure size 1152x432 with 3 Axes>"
      ]
     },
     "metadata": {
      "needs_background": "light"
     },
     "output_type": "display_data"
    }
   ],
   "source": [
    "plt.subplots(figsize=(16,6))\n",
    "\n",
    "plt.subplot(1, 3, 1)\n",
    "sns.boxplot(data = cv_results_df, x = \"model\", y = \"accuracy_score\")\n",
    "plt.title('Accuracy')\n",
    "\n",
    "plt.subplot(1, 3, 2)\n",
    "sns.boxplot(data = cv_results_df, x = \"model\", y = \"f1_score\")\n",
    "plt.title('F1')\n",
    "\n",
    "plt.subplot(1, 3, 3)\n",
    "sns.boxplot(data = cv_results_df, x = \"model\", y = \"roc_auc_score\")\n",
    "plt.title('AUC ROC')\n",
    "\n",
    "plt.show()"
   ]
  },
  {
   "cell_type": "markdown",
   "metadata": {},
   "source": [
    "#### Sprawdzenie modeli na zbiorze testowym"
   ]
  },
  {
   "cell_type": "code",
   "execution_count": 14,
   "metadata": {},
   "outputs": [],
   "source": [
    "from sklearn.metrics import accuracy_score, f1_score, roc_auc_score\n",
    "\n",
    "test_results = []\n",
    "for model, model_name in [(lr_model, \"LogisticRegression\"), (rf_model, \"RandomForest\"), (knn_model, \"KNN\")]:\n",
    "    model.fit(X_train, y_train)\n",
    "    y_pred = model.predict(X_test)\n",
    "    measures_results = {\"model\": model_name}\n",
    "    for measure in [accuracy_score, f1_score, roc_auc_score]:\n",
    "        measures_results[measure.__name__] = measure(y_test, y_pred)\n",
    "    test_results.append(measures_results)\n",
    "    \n",
    "test_results_df = pd.DataFrame(test_results)"
   ]
  },
  {
   "cell_type": "code",
   "execution_count": 42,
   "metadata": {},
   "outputs": [],
   "source": [
    "test_results_df = pd.melt(test_results_df, id_vars=\"model\", var_name=\"measure\", value_name=\"value\")"
   ]
  },
  {
   "cell_type": "code",
   "execution_count": 68,
   "metadata": {},
   "outputs": [
    {
     "data": {
      "image/png": "[encoded data removed]",
      "text/plain": [
       "<Figure size 848.75x360 with 1 Axes>"
      ]
     },
     "metadata": {
      "needs_background": "light"
     },
     "output_type": "display_data"
    }
   ],
   "source": [
    "sns.catplot(x='measure', y='value', hue='model', data=test_results_df, kind='bar', aspect=2)\n",
    "plt.show()"
   ]
  },
  {
   "cell_type": "code",
   "execution_count": 64,
   "metadata": {},
   "outputs": [
    {
     "data": {
      "image/png": "[encoded data removed]",
      "text/plain": [
       "<Figure size 848.75x360 with 1 Axes>"
      ]
     },
     "metadata": {
      "needs_background": "light"
     },
     "output_type": "display_data"
    }
   ],
   "source": [
    "# lepiej widać różnice, gdy obetniemy oś y\n",
    "sns.catplot(x='measure', y='value', hue='model', data=test_results_df, kind='bar', aspect=2)\n",
    "plt.ylim(0.55, 0.9)\n",
    "plt.show()"
   ]
  },
  {
   "cell_type": "markdown",
   "metadata": {},
   "source": [
    "#### Wnioski\n",
    "- Najlepszym z wytrenowanych modeli okazuje się być las losowy, dla którego każda z rozważanych miar jest lepsza od ich wartości dla innych modeli.  \n",
    "- Nie można się jednak przywiązywać do wyników modeli, gdyż zostały one wytrenowane dla konkretnych wartości hiperparametrów, które nie zostały zoptymalizowane. \n",
    "- W zależności od tego, na czym nam zależy moglibyśmy optymalizować model pod kątem różnych miar:\n",
    "    - możemy przykładowo chcieć przewidywać każdy dzień deszczowy (optymalizować recall) albo nie chcieć tworzyć fałszywych predykcji i przewidywać deszczu, gdy go nie będzie (optymalizować precission) lub w połączeniu rozważać F1 score, co wydaje się najbardziej sensowne.\n",
    "- Wybór miary klasyfikatora nie jest łatwy. Na pewno warto rozpatrzeć więcej miar niż accuracy (zauważmy bowiem, że np. w przypadku niezbalansowanych klas może on dawać wysokie wyniki, przewidując zawsze bardziej liczną klasę). \n",
    "\n"
   ]
  },
  {
   "cell_type": "code",
   "execution_count": null,
   "metadata": {},
   "outputs": [],
   "source": []
  }
 ],
 "metadata": {
  "kernelspec": {
   "display_name": "Python 3",
   "language": "python",
   "name": "python3"
  },
  "language_info": {
   "codemirror_mode": {
    "name": "ipython",
    "version": 3
   },
   "file_extension": ".py",
   "mimetype": "text/x-python",
   "name": "python",
   "nbconvert_exporter": "python",
   "pygments_lexer": "ipython3",
   "version": "3.7.3"
  }
 },
 "nbformat": 4,
 "nbformat_minor": 4
}
