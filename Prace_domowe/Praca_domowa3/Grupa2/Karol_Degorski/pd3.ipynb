{
 "cells": [
  {
   "cell_type": "markdown",
   "metadata": {},
   "source": [
    "# Praca domowa 3\n",
    "## Karol Degórski"
   ]
  },
  {
   "cell_type": "markdown",
   "metadata": {},
   "source": [
    "## Analiza zbioru danych pogodowych w Australii"
   ]
  },
  {
   "cell_type": "markdown",
   "metadata": {},
   "source": [
    "## Import potrzebnych pakietów"
   ]
  },
  {
   "cell_type": "code",
   "execution_count": 1,
   "metadata": {},
   "outputs": [],
   "source": [
    "import pandas as pd\n",
    "import numpy as np\n",
    "\n",
    "pd.options.display.max_columns = None\n",
    "\n",
    "import warnings\n",
    "warnings.filterwarnings('ignore')\n",
    "\n",
    "from matplotlib import pyplot as plt\n",
    "import seaborn as sns"
   ]
  },
  {
   "cell_type": "markdown",
   "metadata": {},
   "source": [
    "## Wczytanie danych dotyczących pogody w Australii"
   ]
  },
  {
   "cell_type": "code",
   "execution_count": 2,
   "metadata": {},
   "outputs": [
    {
     "data": {
      "text/html": [
       "<div>\n",
       "<style scoped>\n",
       "    .dataframe tbody tr th:only-of-type {\n",
       "        vertical-align: middle;\n",
       "    }\n",
       "\n",
       "    .dataframe tbody tr th {\n",
       "        vertical-align: top;\n",
       "    }\n",
       "\n",
       "    .dataframe thead th {\n",
       "        text-align: right;\n",
       "    }\n",
       "</style>\n",
       "<table border=\"1\" class=\"dataframe\">\n",
       "  <thead>\n",
       "    <tr style=\"text-align: right;\">\n",
       "      <th></th>\n",
       "      <th>MinTemp</th>\n",
       "      <th>MaxTemp</th>\n",
       "      <th>Rainfall</th>\n",
       "      <th>Evaporation</th>\n",
       "      <th>Sunshine</th>\n",
       "      <th>WindGustSpeed</th>\n",
       "      <th>WindSpeed9am</th>\n",
       "      <th>WindSpeed3pm</th>\n",
       "      <th>Humidity9am</th>\n",
       "      <th>Humidity3pm</th>\n",
       "      <th>Pressure9am</th>\n",
       "      <th>Pressure3pm</th>\n",
       "      <th>Cloud9am</th>\n",
       "      <th>Cloud3pm</th>\n",
       "      <th>Temp9am</th>\n",
       "      <th>Temp3pm</th>\n",
       "      <th>RainToday</th>\n",
       "      <th>RainTomorrow</th>\n",
       "    </tr>\n",
       "  </thead>\n",
       "  <tbody>\n",
       "    <tr>\n",
       "      <th>0</th>\n",
       "      <td>17.9</td>\n",
       "      <td>35.2</td>\n",
       "      <td>0.0</td>\n",
       "      <td>12.0</td>\n",
       "      <td>12.3</td>\n",
       "      <td>48.0</td>\n",
       "      <td>6.0</td>\n",
       "      <td>20.0</td>\n",
       "      <td>20.0</td>\n",
       "      <td>13.0</td>\n",
       "      <td>1006.3</td>\n",
       "      <td>1004.4</td>\n",
       "      <td>2.0</td>\n",
       "      <td>5.0</td>\n",
       "      <td>26.6</td>\n",
       "      <td>33.4</td>\n",
       "      <td>0</td>\n",
       "      <td>0</td>\n",
       "    </tr>\n",
       "    <tr>\n",
       "      <th>1</th>\n",
       "      <td>18.4</td>\n",
       "      <td>28.9</td>\n",
       "      <td>0.0</td>\n",
       "      <td>14.8</td>\n",
       "      <td>13.0</td>\n",
       "      <td>37.0</td>\n",
       "      <td>19.0</td>\n",
       "      <td>19.0</td>\n",
       "      <td>30.0</td>\n",
       "      <td>8.0</td>\n",
       "      <td>1012.9</td>\n",
       "      <td>1012.1</td>\n",
       "      <td>1.0</td>\n",
       "      <td>1.0</td>\n",
       "      <td>20.3</td>\n",
       "      <td>27.0</td>\n",
       "      <td>0</td>\n",
       "      <td>0</td>\n",
       "    </tr>\n",
       "    <tr>\n",
       "      <th>2</th>\n",
       "      <td>19.4</td>\n",
       "      <td>37.6</td>\n",
       "      <td>0.0</td>\n",
       "      <td>10.8</td>\n",
       "      <td>10.6</td>\n",
       "      <td>46.0</td>\n",
       "      <td>30.0</td>\n",
       "      <td>15.0</td>\n",
       "      <td>42.0</td>\n",
       "      <td>22.0</td>\n",
       "      <td>1012.3</td>\n",
       "      <td>1009.2</td>\n",
       "      <td>1.0</td>\n",
       "      <td>6.0</td>\n",
       "      <td>28.7</td>\n",
       "      <td>34.9</td>\n",
       "      <td>0</td>\n",
       "      <td>0</td>\n",
       "    </tr>\n",
       "    <tr>\n",
       "      <th>3</th>\n",
       "      <td>21.9</td>\n",
       "      <td>38.4</td>\n",
       "      <td>0.0</td>\n",
       "      <td>11.4</td>\n",
       "      <td>12.2</td>\n",
       "      <td>31.0</td>\n",
       "      <td>6.0</td>\n",
       "      <td>6.0</td>\n",
       "      <td>37.0</td>\n",
       "      <td>22.0</td>\n",
       "      <td>1012.7</td>\n",
       "      <td>1009.1</td>\n",
       "      <td>1.0</td>\n",
       "      <td>5.0</td>\n",
       "      <td>29.1</td>\n",
       "      <td>35.6</td>\n",
       "      <td>0</td>\n",
       "      <td>0</td>\n",
       "    </tr>\n",
       "    <tr>\n",
       "      <th>4</th>\n",
       "      <td>24.2</td>\n",
       "      <td>41.0</td>\n",
       "      <td>0.0</td>\n",
       "      <td>11.2</td>\n",
       "      <td>8.4</td>\n",
       "      <td>35.0</td>\n",
       "      <td>17.0</td>\n",
       "      <td>13.0</td>\n",
       "      <td>19.0</td>\n",
       "      <td>15.0</td>\n",
       "      <td>1010.7</td>\n",
       "      <td>1007.4</td>\n",
       "      <td>1.0</td>\n",
       "      <td>6.0</td>\n",
       "      <td>33.6</td>\n",
       "      <td>37.6</td>\n",
       "      <td>0</td>\n",
       "      <td>0</td>\n",
       "    </tr>\n",
       "    <tr>\n",
       "      <th>...</th>\n",
       "      <td>...</td>\n",
       "      <td>...</td>\n",
       "      <td>...</td>\n",
       "      <td>...</td>\n",
       "      <td>...</td>\n",
       "      <td>...</td>\n",
       "      <td>...</td>\n",
       "      <td>...</td>\n",
       "      <td>...</td>\n",
       "      <td>...</td>\n",
       "      <td>...</td>\n",
       "      <td>...</td>\n",
       "      <td>...</td>\n",
       "      <td>...</td>\n",
       "      <td>...</td>\n",
       "      <td>...</td>\n",
       "      <td>...</td>\n",
       "      <td>...</td>\n",
       "    </tr>\n",
       "    <tr>\n",
       "      <th>56415</th>\n",
       "      <td>19.3</td>\n",
       "      <td>33.4</td>\n",
       "      <td>0.0</td>\n",
       "      <td>6.0</td>\n",
       "      <td>11.0</td>\n",
       "      <td>35.0</td>\n",
       "      <td>9.0</td>\n",
       "      <td>20.0</td>\n",
       "      <td>63.0</td>\n",
       "      <td>32.0</td>\n",
       "      <td>1013.9</td>\n",
       "      <td>1010.5</td>\n",
       "      <td>0.0</td>\n",
       "      <td>1.0</td>\n",
       "      <td>24.5</td>\n",
       "      <td>32.3</td>\n",
       "      <td>0</td>\n",
       "      <td>0</td>\n",
       "    </tr>\n",
       "    <tr>\n",
       "      <th>56416</th>\n",
       "      <td>21.2</td>\n",
       "      <td>32.6</td>\n",
       "      <td>0.0</td>\n",
       "      <td>7.6</td>\n",
       "      <td>8.6</td>\n",
       "      <td>37.0</td>\n",
       "      <td>13.0</td>\n",
       "      <td>11.0</td>\n",
       "      <td>56.0</td>\n",
       "      <td>28.0</td>\n",
       "      <td>1014.6</td>\n",
       "      <td>1011.2</td>\n",
       "      <td>7.0</td>\n",
       "      <td>0.0</td>\n",
       "      <td>24.8</td>\n",
       "      <td>32.0</td>\n",
       "      <td>0</td>\n",
       "      <td>0</td>\n",
       "    </tr>\n",
       "    <tr>\n",
       "      <th>56417</th>\n",
       "      <td>20.7</td>\n",
       "      <td>32.8</td>\n",
       "      <td>0.0</td>\n",
       "      <td>5.6</td>\n",
       "      <td>11.0</td>\n",
       "      <td>33.0</td>\n",
       "      <td>17.0</td>\n",
       "      <td>11.0</td>\n",
       "      <td>46.0</td>\n",
       "      <td>23.0</td>\n",
       "      <td>1015.3</td>\n",
       "      <td>1011.8</td>\n",
       "      <td>0.0</td>\n",
       "      <td>0.0</td>\n",
       "      <td>24.8</td>\n",
       "      <td>32.1</td>\n",
       "      <td>0</td>\n",
       "      <td>0</td>\n",
       "    </tr>\n",
       "    <tr>\n",
       "      <th>56418</th>\n",
       "      <td>19.5</td>\n",
       "      <td>31.8</td>\n",
       "      <td>0.0</td>\n",
       "      <td>6.2</td>\n",
       "      <td>10.6</td>\n",
       "      <td>26.0</td>\n",
       "      <td>9.0</td>\n",
       "      <td>17.0</td>\n",
       "      <td>62.0</td>\n",
       "      <td>58.0</td>\n",
       "      <td>1014.9</td>\n",
       "      <td>1010.7</td>\n",
       "      <td>1.0</td>\n",
       "      <td>1.0</td>\n",
       "      <td>24.8</td>\n",
       "      <td>29.2</td>\n",
       "      <td>0</td>\n",
       "      <td>0</td>\n",
       "    </tr>\n",
       "    <tr>\n",
       "      <th>56419</th>\n",
       "      <td>20.2</td>\n",
       "      <td>31.7</td>\n",
       "      <td>0.0</td>\n",
       "      <td>5.6</td>\n",
       "      <td>10.7</td>\n",
       "      <td>30.0</td>\n",
       "      <td>15.0</td>\n",
       "      <td>7.0</td>\n",
       "      <td>73.0</td>\n",
       "      <td>32.0</td>\n",
       "      <td>1013.9</td>\n",
       "      <td>1009.7</td>\n",
       "      <td>6.0</td>\n",
       "      <td>5.0</td>\n",
       "      <td>25.4</td>\n",
       "      <td>31.0</td>\n",
       "      <td>0</td>\n",
       "      <td>0</td>\n",
       "    </tr>\n",
       "  </tbody>\n",
       "</table>\n",
       "<p>56420 rows × 18 columns</p>\n",
       "</div>"
      ],
      "text/plain": [
       "       MinTemp  MaxTemp  Rainfall  Evaporation  Sunshine  WindGustSpeed  \\\n",
       "0         17.9     35.2       0.0         12.0      12.3           48.0   \n",
       "1         18.4     28.9       0.0         14.8      13.0           37.0   \n",
       "2         19.4     37.6       0.0         10.8      10.6           46.0   \n",
       "3         21.9     38.4       0.0         11.4      12.2           31.0   \n",
       "4         24.2     41.0       0.0         11.2       8.4           35.0   \n",
       "...        ...      ...       ...          ...       ...            ...   \n",
       "56415     19.3     33.4       0.0          6.0      11.0           35.0   \n",
       "56416     21.2     32.6       0.0          7.6       8.6           37.0   \n",
       "56417     20.7     32.8       0.0          5.6      11.0           33.0   \n",
       "56418     19.5     31.8       0.0          6.2      10.6           26.0   \n",
       "56419     20.2     31.7       0.0          5.6      10.7           30.0   \n",
       "\n",
       "       WindSpeed9am  WindSpeed3pm  Humidity9am  Humidity3pm  Pressure9am  \\\n",
       "0               6.0          20.0         20.0         13.0       1006.3   \n",
       "1              19.0          19.0         30.0          8.0       1012.9   \n",
       "2              30.0          15.0         42.0         22.0       1012.3   \n",
       "3               6.0           6.0         37.0         22.0       1012.7   \n",
       "4              17.0          13.0         19.0         15.0       1010.7   \n",
       "...             ...           ...          ...          ...          ...   \n",
       "56415           9.0          20.0         63.0         32.0       1013.9   \n",
       "56416          13.0          11.0         56.0         28.0       1014.6   \n",
       "56417          17.0          11.0         46.0         23.0       1015.3   \n",
       "56418           9.0          17.0         62.0         58.0       1014.9   \n",
       "56419          15.0           7.0         73.0         32.0       1013.9   \n",
       "\n",
       "       Pressure3pm  Cloud9am  Cloud3pm  Temp9am  Temp3pm  RainToday  \\\n",
       "0           1004.4       2.0       5.0     26.6     33.4          0   \n",
       "1           1012.1       1.0       1.0     20.3     27.0          0   \n",
       "2           1009.2       1.0       6.0     28.7     34.9          0   \n",
       "3           1009.1       1.0       5.0     29.1     35.6          0   \n",
       "4           1007.4       1.0       6.0     33.6     37.6          0   \n",
       "...            ...       ...       ...      ...      ...        ...   \n",
       "56415       1010.5       0.0       1.0     24.5     32.3          0   \n",
       "56416       1011.2       7.0       0.0     24.8     32.0          0   \n",
       "56417       1011.8       0.0       0.0     24.8     32.1          0   \n",
       "56418       1010.7       1.0       1.0     24.8     29.2          0   \n",
       "56419       1009.7       6.0       5.0     25.4     31.0          0   \n",
       "\n",
       "       RainTomorrow  \n",
       "0                 0  \n",
       "1                 0  \n",
       "2                 0  \n",
       "3                 0  \n",
       "4                 0  \n",
       "...             ...  \n",
       "56415             0  \n",
       "56416             0  \n",
       "56417             0  \n",
       "56418             0  \n",
       "56419             0  \n",
       "\n",
       "[56420 rows x 18 columns]"
      ]
     },
     "execution_count": 2,
     "metadata": {},
     "output_type": "execute_result"
    }
   ],
   "source": [
    "australia_df = pd.read_csv('australia.csv')\n",
    "australia_df"
   ]
  },
  {
   "cell_type": "code",
   "execution_count": 3,
   "metadata": {},
   "outputs": [
    {
     "name": "stdout",
     "output_type": "stream",
     "text": [
      "<class 'pandas.core.frame.DataFrame'>\n",
      "RangeIndex: 56420 entries, 0 to 56419\n",
      "Data columns (total 18 columns):\n",
      " #   Column         Non-Null Count  Dtype  \n",
      "---  ------         --------------  -----  \n",
      " 0   MinTemp        56420 non-null  float64\n",
      " 1   MaxTemp        56420 non-null  float64\n",
      " 2   Rainfall       56420 non-null  float64\n",
      " 3   Evaporation    56420 non-null  float64\n",
      " 4   Sunshine       56420 non-null  float64\n",
      " 5   WindGustSpeed  56420 non-null  float64\n",
      " 6   WindSpeed9am   56420 non-null  float64\n",
      " 7   WindSpeed3pm   56420 non-null  float64\n",
      " 8   Humidity9am    56420 non-null  float64\n",
      " 9   Humidity3pm    56420 non-null  float64\n",
      " 10  Pressure9am    56420 non-null  float64\n",
      " 11  Pressure3pm    56420 non-null  float64\n",
      " 12  Cloud9am       56420 non-null  float64\n",
      " 13  Cloud3pm       56420 non-null  float64\n",
      " 14  Temp9am        56420 non-null  float64\n",
      " 15  Temp3pm        56420 non-null  float64\n",
      " 16  RainToday      56420 non-null  int64  \n",
      " 17  RainTomorrow   56420 non-null  int64  \n",
      "dtypes: float64(16), int64(2)\n",
      "memory usage: 7.7 MB\n"
     ]
    }
   ],
   "source": [
    "australia_df.info()"
   ]
  },
  {
   "cell_type": "markdown",
   "metadata": {},
   "source": [
    "Widzimy, że nie ma żadnych braków danych oraz że wszystkie wartości są liczbowe"
   ]
  },
  {
   "cell_type": "markdown",
   "metadata": {},
   "source": [
    "## Podział danych na zbiór treningowy i testowy"
   ]
  },
  {
   "cell_type": "markdown",
   "metadata": {},
   "source": [
    "Zmienną celu w naszym zadaniu jest RainTomorrow, określająca, czy jutro będzie padał deszcz (0 - jeśli nie będzie padał, 1 - jeśli będzie padał)"
   ]
  },
  {
   "cell_type": "code",
   "execution_count": 4,
   "metadata": {},
   "outputs": [],
   "source": [
    "X = australia_df.drop('RainTomorrow', axis = 1)\n",
    "y = australia_df.RainTomorrow"
   ]
  },
  {
   "cell_type": "code",
   "execution_count": 5,
   "metadata": {},
   "outputs": [],
   "source": [
    "from sklearn.model_selection import train_test_split"
   ]
  },
  {
   "cell_type": "markdown",
   "metadata": {},
   "source": [
    "Dokonujemy podziału na zbiór testowy i treningowy (zbiór testowy będzie stanowił 30% całego zbioru)"
   ]
  },
  {
   "cell_type": "code",
   "execution_count": 6,
   "metadata": {},
   "outputs": [],
   "source": [
    "X_train, X_test, y_train, y_test = train_test_split(\n",
    "    X, y, test_size=0.3, random_state=42)"
   ]
  },
  {
   "cell_type": "markdown",
   "metadata": {},
   "source": [
    "## Wybór miar oceny jakości klasyfikatorów"
   ]
  },
  {
   "cell_type": "markdown",
   "metadata": {},
   "source": [
    "W mojej pracy domowej posłużę się następującymi miarami:"
   ]
  },
  {
   "cell_type": "markdown",
   "metadata": {},
   "source": [
    "Dokładność, czyli prawdopodobieństwo prawidłowej klasyfikacji"
   ]
  },
  {
   "cell_type": "code",
   "execution_count": 7,
   "metadata": {},
   "outputs": [],
   "source": [
    "from sklearn.metrics import accuracy_score"
   ]
  },
  {
   "cell_type": "markdown",
   "metadata": {},
   "source": [
    "AUC, czyli pole powierzchni pod krzywą ROC"
   ]
  },
  {
   "cell_type": "code",
   "execution_count": 8,
   "metadata": {},
   "outputs": [],
   "source": [
    "from sklearn.metrics import roc_auc_score"
   ]
  },
  {
   "cell_type": "markdown",
   "metadata": {},
   "source": [
    "Miara f1, czyli średnia harmoniczna z precyzji i czułości. Co prawda miara nie uwzględnia wyników prawdziwie negatywnych, ale daje ocenę balansu między czułością a precyzją"
   ]
  },
  {
   "cell_type": "code",
   "execution_count": 9,
   "metadata": {},
   "outputs": [],
   "source": [
    "from sklearn.metrics import f1_score"
   ]
  },
  {
   "cell_type": "markdown",
   "metadata": {},
   "source": [
    "Recall, czyli stosunek poprawnie rozpoznanych elementów z danej klasy do wszystkich, które model powinien rozpoznać, czyli do całej danej klasy"
   ]
  },
  {
   "cell_type": "code",
   "execution_count": 10,
   "metadata": {},
   "outputs": [],
   "source": [
    "from sklearn.metrics import recall_score"
   ]
  },
  {
   "cell_type": "markdown",
   "metadata": {},
   "source": [
    "Wykorzystam również classification_report, który zawiera informacje o wartościach podstawowych miar oceny jakości klasyfikatora"
   ]
  },
  {
   "cell_type": "code",
   "execution_count": 11,
   "metadata": {},
   "outputs": [],
   "source": [
    "from sklearn.metrics import classification_report"
   ]
  },
  {
   "cell_type": "markdown",
   "metadata": {},
   "source": [
    "## Modele"
   ]
  },
  {
   "cell_type": "markdown",
   "metadata": {},
   "source": [
    "W niniejszej pracy domowej użyję trzech modeli: lasu losowego, XGBoost'a i SVM"
   ]
  },
  {
   "cell_type": "markdown",
   "metadata": {},
   "source": [
    "### Las losowy"
   ]
  },
  {
   "cell_type": "code",
   "execution_count": 12,
   "metadata": {},
   "outputs": [],
   "source": [
    "from sklearn.ensemble import RandomForestClassifier"
   ]
  },
  {
   "cell_type": "code",
   "execution_count": 13,
   "metadata": {},
   "outputs": [],
   "source": [
    "rfc = RandomForestClassifier(n_estimators=500,\n",
    "                           max_depth=8, \n",
    "                           min_samples_split = 2,\n",
    "                           max_features = 8, \n",
    "                           random_state = 0,\n",
    "                           n_jobs = -1)"
   ]
  },
  {
   "cell_type": "markdown",
   "metadata": {},
   "source": [
    "### Wybrane parametry:\n",
    "- n_estimators - liczba drzew w lesie\n",
    "- max_depth - maksymalna głębokość drzewa\n",
    "- min_samples_split - minimalna liczba obserwacji potrzebnych do dokonania podziału\n",
    "- max_features -  maksymalna liczba elementów, które należy stosować przy każdym podziale \n",
    "- random_state - ziarno dla generatora liczb losowych podczas podziału\n",
    "- n_jobs - liczba wykorzystywanych wątków (-1 oznacza wszystkie dostępne)"
   ]
  },
  {
   "cell_type": "code",
   "execution_count": 14,
   "metadata": {},
   "outputs": [],
   "source": [
    "rfc.fit(X_train, y_train)\n",
    "y_hat = rfc.predict(X_test)"
   ]
  },
  {
   "cell_type": "code",
   "execution_count": 15,
   "metadata": {},
   "outputs": [
    {
     "name": "stdout",
     "output_type": "stream",
     "text": [
      "accuracy:  0.8536570955925795\n",
      "roc_auc_score:  0.725702970193225\n",
      "f1_score:  0.6010629731035594\n",
      "recall_score:  0.49496021220159153\n"
     ]
    }
   ],
   "source": [
    "print('accuracy: ', accuracy_score(y_test, y_hat))\n",
    "print('roc_auc_score: ', roc_auc_score(y_test, y_hat))\n",
    "print('f1_score: ', f1_score(y_test, y_hat))\n",
    "print('recall_score: ', recall_score(y_test, y_hat))\n",
    "rfc_recall = recall_score(y_test, y_hat)"
   ]
  },
  {
   "cell_type": "code",
   "execution_count": 16,
   "metadata": {},
   "outputs": [
    {
     "name": "stdout",
     "output_type": "stream",
     "text": [
      "              precision    recall  f1-score   support\n",
      "\n",
      "           0       0.87      0.96      0.91     13156\n",
      "           1       0.77      0.49      0.60      3770\n",
      "\n",
      "    accuracy                           0.85     16926\n",
      "   macro avg       0.82      0.73      0.76     16926\n",
      "weighted avg       0.85      0.85      0.84     16926\n",
      "\n"
     ]
    }
   ],
   "source": [
    "print(classification_report(y_test, y_hat))"
   ]
  },
  {
   "cell_type": "markdown",
   "metadata": {},
   "source": [
    "### XGBoost"
   ]
  },
  {
   "cell_type": "code",
   "execution_count": 17,
   "metadata": {},
   "outputs": [],
   "source": [
    "from xgboost import XGBClassifier"
   ]
  },
  {
   "cell_type": "code",
   "execution_count": 18,
   "metadata": {},
   "outputs": [],
   "source": [
    "xgbc=XGBClassifier(random_state=1,\n",
    "                    learning_rate=0.31,\n",
    "                    booster='gbtree', \n",
    "                    max_depth=4, \n",
    "                    eval_metric=\"logloss\")"
   ]
  },
  {
   "cell_type": "markdown",
   "metadata": {},
   "source": [
    "### Wybrane parametry:\n",
    "- random_state - ziarno dla generatora liczb losowych podczas podziału\n",
    "- learning_rate - zapobiega nadmiernego dopasowaniu modelu (jest to zmniejszenie wielkości stopnia)\n",
    "- booster - używany w modelu booster\n",
    "- max_depth - maksymalna głębokość drzewa\n",
    "- eval_metric - metryka używana do ewaluacji działania modelu"
   ]
  },
  {
   "cell_type": "code",
   "execution_count": 19,
   "metadata": {},
   "outputs": [],
   "source": [
    "xgbc.fit(X_train, y_train)\n",
    "y_hat = xgbc.predict(X_test)"
   ]
  },
  {
   "cell_type": "code",
   "execution_count": 20,
   "metadata": {},
   "outputs": [
    {
     "name": "stdout",
     "output_type": "stream",
     "text": [
      "accuracy:  0.8600968923549569\n",
      "roc_auc_score:  0.7517029072876149\n",
      "f1_score:  0.6391344102407802\n",
      "recall_score:  0.5562334217506631\n"
     ]
    }
   ],
   "source": [
    "print('accuracy: ', accuracy_score(y_test, y_hat))\n",
    "print('roc_auc_score: ', roc_auc_score(y_test, y_hat))\n",
    "print('f1_score: ', f1_score(y_test, y_hat))\n",
    "print('recall_score: ', recall_score(y_test, y_hat))\n",
    "xgbc_recall = recall_score(y_test, y_hat)"
   ]
  },
  {
   "cell_type": "code",
   "execution_count": 21,
   "metadata": {},
   "outputs": [
    {
     "name": "stdout",
     "output_type": "stream",
     "text": [
      "              precision    recall  f1-score   support\n",
      "\n",
      "           0       0.88      0.95      0.91     13156\n",
      "           1       0.75      0.56      0.64      3770\n",
      "\n",
      "    accuracy                           0.86     16926\n",
      "   macro avg       0.82      0.75      0.78     16926\n",
      "weighted avg       0.85      0.86      0.85     16926\n",
      "\n"
     ]
    }
   ],
   "source": [
    "print(classification_report(y_test, y_hat))"
   ]
  },
  {
   "cell_type": "markdown",
   "metadata": {},
   "source": [
    "### SVM"
   ]
  },
  {
   "cell_type": "code",
   "execution_count": 22,
   "metadata": {},
   "outputs": [],
   "source": [
    "from sklearn.svm import SVC"
   ]
  },
  {
   "cell_type": "code",
   "execution_count": 23,
   "metadata": {},
   "outputs": [],
   "source": [
    "svm = SVC(kernel='rbf', gamma=0.001, C=10)"
   ]
  },
  {
   "cell_type": "markdown",
   "metadata": {},
   "source": [
    "### Wybrane parametry:\n",
    "- kernel - używane w modelu jądro\n",
    "- gamma - współczynnik dla jądra\n",
    "- C - parametr regularyzacyjny"
   ]
  },
  {
   "cell_type": "code",
   "execution_count": 24,
   "metadata": {},
   "outputs": [],
   "source": [
    "svm.fit(X_train, y_train)\n",
    "y_hat = svm.predict(X_test)"
   ]
  },
  {
   "cell_type": "code",
   "execution_count": 25,
   "metadata": {},
   "outputs": [
    {
     "name": "stdout",
     "output_type": "stream",
     "text": [
      "accuracy:  0.857910906298003\n",
      "roc_auc_score:  0.7344950776360072\n",
      "f1_score:  0.6161213088587391\n",
      "recall_score:  0.5119363395225465\n"
     ]
    }
   ],
   "source": [
    "print('accuracy: ', accuracy_score(y_test, y_hat))\n",
    "print('roc_auc_score: ', roc_auc_score(y_test, y_hat))\n",
    "print('f1_score: ', f1_score(y_test, y_hat))\n",
    "print('recall_score: ', recall_score(y_test, y_hat))\n",
    "svm_recall = recall_score(y_test, y_hat)"
   ]
  },
  {
   "cell_type": "code",
   "execution_count": 26,
   "metadata": {},
   "outputs": [
    {
     "name": "stdout",
     "output_type": "stream",
     "text": [
      "              precision    recall  f1-score   support\n",
      "\n",
      "           0       0.87      0.96      0.91     13156\n",
      "           1       0.77      0.51      0.62      3770\n",
      "\n",
      "    accuracy                           0.86     16926\n",
      "   macro avg       0.82      0.73      0.76     16926\n",
      "weighted avg       0.85      0.86      0.85     16926\n",
      "\n"
     ]
    }
   ],
   "source": [
    "print(classification_report(y_test, y_hat))"
   ]
  },
  {
   "cell_type": "markdown",
   "metadata": {},
   "source": [
    "## Podsumowanie"
   ]
  },
  {
   "cell_type": "markdown",
   "metadata": {},
   "source": [
    "Wybór miary oceny klasyfikatora nie zawsze jest łatwy. Wydawać by się mogło, że użycie miary accurancy (dokładności) jest zawsze najlepszym wyborem. Jednakże, czy jeśli nasz model będzie miał dokładność 90% i zawsze przewidywał brak deszczu, to czy taki model uznamy za optymalny? Oczywiście, że nie. Interesuje nas przecież jeszcze  jakie jest prawdopodobieństwo, że jeśli nasz model przewidział, że będzie podało, to faktycznie będzie padało, oraz prawdopodobieństwo tego, że jeśli nasz model przewidział, że nie będzie padało, to faktycznie nie pada. Aby się tego dowiedzieć należy użyć precyzji. Warto również użyć miary f1 pozwalającej w postaci jednej liczby zawrzeć informację o balansie między czułością, a precyzją. Najlepiej zatem patrzeć szeroko na różne miary i wybrać taką, która jest istotna do oceny działania danego modelu."
   ]
  },
  {
   "cell_type": "markdown",
   "metadata": {},
   "source": [
    "Jeśli jednak musiałbym wybrać tylko jedną miarę oceny jakości klasyfikatorów dla tego problemu to byłaby nią recall. Dla problemu przewidywania czy będzie padał deszcz bardziej istotne jest przewidywanie w większej liczbie przypadków deszczu, nawet jeśli nie będzie potem padało, niż przewidzieć słońce, a w rzeczywistości padałby deszcz. W końcu sprawdzając pogodę i widząc że może padać, wystarczy że weźmiemy parasolkę, a wtedy będziemy zabezpieczni na każdą ewentualność. Gdyby jednak przewidziano słońce, a padałby deszcz, to zmoklibyśmy, czego większość osób wolałaby uniknąć."
   ]
  },
  {
   "cell_type": "code",
   "execution_count": 27,
   "metadata": {},
   "outputs": [
    {
     "data": {
      "image/png": "[encoded data removed]",
      "text/plain": [
       "<Figure size 432x288 with 1 Axes>"
      ]
     },
     "metadata": {
      "needs_background": "light"
     },
     "output_type": "display_data"
    }
   ],
   "source": [
    "x = ['Las losowy', 'XGBoost', 'SVM']\n",
    "y = [rfc_recall, xgbc_recall, svm_recall]\n",
    "df = pd.DataFrame({'Model': x,\n",
    "                  'Recall': y})\n",
    "sns.barplot(data = df, x = 'Model', y = 'Recall', order=df.sort_values('Recall').Model)\n",
    "plt.show()"
   ]
  },
  {
   "cell_type": "markdown",
   "metadata": {},
   "source": [
    "Zatem biorąc pod uwagę powyższe spostrzeżenia uważam, że najlepszym klasyfikatorem jest XGBoost, ponieważ uzyskał najwyższą wartość miary recall dla klasy 1 (będzie padał deszcz). Ponadto model ten uzyskał również najwyższą wartość accuracy oraz najwyższą wartość AUC i miary f1."
   ]
  }
 ],
 "metadata": {
  "kernelspec": {
   "display_name": "Python 3",
   "language": "python",
   "name": "python3"
  },
  "language_info": {
   "codemirror_mode": {
    "name": "ipython",
    "version": 3
   },
   "file_extension": ".py",
   "mimetype": "text/x-python",
   "name": "python",
   "nbconvert_exporter": "python",
   "pygments_lexer": "ipython3",
   "version": "3.7.4"
  }
 },
 "nbformat": 4,
 "nbformat_minor": 2
}
