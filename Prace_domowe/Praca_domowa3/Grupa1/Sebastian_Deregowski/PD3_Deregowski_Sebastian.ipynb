{
 "cells": [
  {
   "cell_type": "markdown",
   "metadata": {},
   "source": [
    "# Praca domowa 3\n",
    "### Sebastian Deręgowski, grupa 1"
   ]
  },
  {
   "cell_type": "code",
   "execution_count": 1,
   "metadata": {},
   "outputs": [],
   "source": [
    "import warnings\n",
    "warnings.filterwarnings('ignore')"
   ]
  },
  {
   "cell_type": "code",
   "execution_count": 2,
   "metadata": {},
   "outputs": [],
   "source": [
    "import pandas as pd\n",
    "import numpy as np\n",
    "import dalex as dx\n",
    "from matplotlib import pyplot as plt\n",
    "from sklearn.model_selection import GridSearchCV\n",
    "from sklearn.ensemble import RandomForestClassifier\n",
    "import xgboost as xgb\n",
    "from sklearn.linear_model import LogisticRegression\n",
    "import seaborn as sns"
   ]
  },
  {
   "cell_type": "markdown",
   "metadata": {},
   "source": [
    "Na początek wczytajmy naszą ramkę danych:"
   ]
  },
  {
   "cell_type": "code",
   "execution_count": 3,
   "metadata": {},
   "outputs": [
    {
     "data": {
      "text/html": [
       "<div>\n",
       "<style scoped>\n",
       "    .dataframe tbody tr th:only-of-type {\n",
       "        vertical-align: middle;\n",
       "    }\n",
       "\n",
       "    .dataframe tbody tr th {\n",
       "        vertical-align: top;\n",
       "    }\n",
       "\n",
       "    .dataframe thead th {\n",
       "        text-align: right;\n",
       "    }\n",
       "</style>\n",
       "<table border=\"1\" class=\"dataframe\">\n",
       "  <thead>\n",
       "    <tr style=\"text-align: right;\">\n",
       "      <th></th>\n",
       "      <th>MinTemp</th>\n",
       "      <th>MaxTemp</th>\n",
       "      <th>Rainfall</th>\n",
       "      <th>Evaporation</th>\n",
       "      <th>Sunshine</th>\n",
       "      <th>WindGustSpeed</th>\n",
       "      <th>WindSpeed9am</th>\n",
       "      <th>WindSpeed3pm</th>\n",
       "      <th>Humidity9am</th>\n",
       "      <th>Humidity3pm</th>\n",
       "      <th>Pressure9am</th>\n",
       "      <th>Pressure3pm</th>\n",
       "      <th>Cloud9am</th>\n",
       "      <th>Cloud3pm</th>\n",
       "      <th>Temp9am</th>\n",
       "      <th>Temp3pm</th>\n",
       "      <th>RainToday</th>\n",
       "      <th>RainTomorrow</th>\n",
       "    </tr>\n",
       "  </thead>\n",
       "  <tbody>\n",
       "    <tr>\n",
       "      <th>0</th>\n",
       "      <td>17.9</td>\n",
       "      <td>35.2</td>\n",
       "      <td>0.0</td>\n",
       "      <td>12.0</td>\n",
       "      <td>12.3</td>\n",
       "      <td>48.0</td>\n",
       "      <td>6.0</td>\n",
       "      <td>20.0</td>\n",
       "      <td>20.0</td>\n",
       "      <td>13.0</td>\n",
       "      <td>1006.3</td>\n",
       "      <td>1004.4</td>\n",
       "      <td>2.0</td>\n",
       "      <td>5.0</td>\n",
       "      <td>26.6</td>\n",
       "      <td>33.4</td>\n",
       "      <td>0</td>\n",
       "      <td>0</td>\n",
       "    </tr>\n",
       "    <tr>\n",
       "      <th>1</th>\n",
       "      <td>18.4</td>\n",
       "      <td>28.9</td>\n",
       "      <td>0.0</td>\n",
       "      <td>14.8</td>\n",
       "      <td>13.0</td>\n",
       "      <td>37.0</td>\n",
       "      <td>19.0</td>\n",
       "      <td>19.0</td>\n",
       "      <td>30.0</td>\n",
       "      <td>8.0</td>\n",
       "      <td>1012.9</td>\n",
       "      <td>1012.1</td>\n",
       "      <td>1.0</td>\n",
       "      <td>1.0</td>\n",
       "      <td>20.3</td>\n",
       "      <td>27.0</td>\n",
       "      <td>0</td>\n",
       "      <td>0</td>\n",
       "    </tr>\n",
       "    <tr>\n",
       "      <th>2</th>\n",
       "      <td>19.4</td>\n",
       "      <td>37.6</td>\n",
       "      <td>0.0</td>\n",
       "      <td>10.8</td>\n",
       "      <td>10.6</td>\n",
       "      <td>46.0</td>\n",
       "      <td>30.0</td>\n",
       "      <td>15.0</td>\n",
       "      <td>42.0</td>\n",
       "      <td>22.0</td>\n",
       "      <td>1012.3</td>\n",
       "      <td>1009.2</td>\n",
       "      <td>1.0</td>\n",
       "      <td>6.0</td>\n",
       "      <td>28.7</td>\n",
       "      <td>34.9</td>\n",
       "      <td>0</td>\n",
       "      <td>0</td>\n",
       "    </tr>\n",
       "    <tr>\n",
       "      <th>3</th>\n",
       "      <td>21.9</td>\n",
       "      <td>38.4</td>\n",
       "      <td>0.0</td>\n",
       "      <td>11.4</td>\n",
       "      <td>12.2</td>\n",
       "      <td>31.0</td>\n",
       "      <td>6.0</td>\n",
       "      <td>6.0</td>\n",
       "      <td>37.0</td>\n",
       "      <td>22.0</td>\n",
       "      <td>1012.7</td>\n",
       "      <td>1009.1</td>\n",
       "      <td>1.0</td>\n",
       "      <td>5.0</td>\n",
       "      <td>29.1</td>\n",
       "      <td>35.6</td>\n",
       "      <td>0</td>\n",
       "      <td>0</td>\n",
       "    </tr>\n",
       "    <tr>\n",
       "      <th>4</th>\n",
       "      <td>24.2</td>\n",
       "      <td>41.0</td>\n",
       "      <td>0.0</td>\n",
       "      <td>11.2</td>\n",
       "      <td>8.4</td>\n",
       "      <td>35.0</td>\n",
       "      <td>17.0</td>\n",
       "      <td>13.0</td>\n",
       "      <td>19.0</td>\n",
       "      <td>15.0</td>\n",
       "      <td>1010.7</td>\n",
       "      <td>1007.4</td>\n",
       "      <td>1.0</td>\n",
       "      <td>6.0</td>\n",
       "      <td>33.6</td>\n",
       "      <td>37.6</td>\n",
       "      <td>0</td>\n",
       "      <td>0</td>\n",
       "    </tr>\n",
       "  </tbody>\n",
       "</table>\n",
       "</div>"
      ],
      "text/plain": [
       "   MinTemp  MaxTemp  Rainfall  Evaporation  Sunshine  WindGustSpeed  \\\n",
       "0     17.9     35.2       0.0         12.0      12.3           48.0   \n",
       "1     18.4     28.9       0.0         14.8      13.0           37.0   \n",
       "2     19.4     37.6       0.0         10.8      10.6           46.0   \n",
       "3     21.9     38.4       0.0         11.4      12.2           31.0   \n",
       "4     24.2     41.0       0.0         11.2       8.4           35.0   \n",
       "\n",
       "   WindSpeed9am  WindSpeed3pm  Humidity9am  Humidity3pm  Pressure9am  \\\n",
       "0           6.0          20.0         20.0         13.0       1006.3   \n",
       "1          19.0          19.0         30.0          8.0       1012.9   \n",
       "2          30.0          15.0         42.0         22.0       1012.3   \n",
       "3           6.0           6.0         37.0         22.0       1012.7   \n",
       "4          17.0          13.0         19.0         15.0       1010.7   \n",
       "\n",
       "   Pressure3pm  Cloud9am  Cloud3pm  Temp9am  Temp3pm  RainToday  RainTomorrow  \n",
       "0       1004.4       2.0       5.0     26.6     33.4          0             0  \n",
       "1       1012.1       1.0       1.0     20.3     27.0          0             0  \n",
       "2       1009.2       1.0       6.0     28.7     34.9          0             0  \n",
       "3       1009.1       1.0       5.0     29.1     35.6          0             0  \n",
       "4       1007.4       1.0       6.0     33.6     37.6          0             0  "
      ]
     },
     "execution_count": 3,
     "metadata": {},
     "output_type": "execute_result"
    }
   ],
   "source": [
    "australia = pd.read_csv(\"https://raw.githubusercontent.com/mini-pw/2021L-WUM/main/Prace_domowe/Praca_domowa3/australia.csv\")\n",
    "australia.head()"
   ]
  },
  {
   "cell_type": "markdown",
   "metadata": {},
   "source": [
    "Wyzdzielmy w naszym zbiorze zmienne objaśniające i zmienną celu, a następnie dokonajmy podziału na zbiór treningowy i testowy:"
   ]
  },
  {
   "cell_type": "code",
   "execution_count": 4,
   "metadata": {},
   "outputs": [],
   "source": [
    "from sklearn.model_selection import train_test_split\n",
    "\n",
    "X = australia[australia.columns.values[:-1]]\n",
    "y = australia[australia.columns.values[-1]]\n",
    "\n",
    "X_train, X_test, y_train, y_test = train_test_split(X, y, random_state=21, test_size = 0.3)"
   ]
  },
  {
   "cell_type": "markdown",
   "metadata": {},
   "source": [
    "W celu uniknięcia powtarzania tego samego kodu, stwórzmy funkcję, która jako argument przyjmie nazwę modelu (wraz z parametrami), a zwróci nam różne miary oceny jego predykcji."
   ]
  },
  {
   "cell_type": "code",
   "execution_count": 5,
   "metadata": {},
   "outputs": [],
   "source": [
    "from sklearn.metrics import precision_score\n",
    "from sklearn.metrics import recall_score\n",
    "from sklearn.metrics import confusion_matrix\n",
    "from sklearn.metrics import roc_curve\n",
    "from sklearn.metrics import roc_auc_score\n",
    "\n",
    "def model_analysis(model_name):\n",
    "    model = model_name\n",
    "    model.fit(X_train,y_train)\n",
    "    y_predicted = model.predict(X_test)\n",
    "    print(f\"Precision : {precision_score(y_test, y_predicted)}\")\n",
    "    print(f\"Recall : {recall_score(y_test, y_predicted)}\")\n",
    "    print(f\"AUC: {roc_auc_score(y_test, y_predicted)}\")\n",
    "    tn, fp, fn, tp = confusion_matrix(y_test, y_predicted).ravel()\n",
    "    confusion_sum = tn + fp + fn + tp\n",
    "    confusion_accuracy = (tn + tp) / confusion_sum\n",
    "    print(f\"Confusion matrix accuracy: {confusion_accuracy}\")\n",
    "    print(pd.DataFrame({\"Actual positives\": [tp/ confusion_sum, fp/ confusion_sum], \n",
    "                        \"Actual negatives\": [fn/ confusion_sum, tn/ confusion_sum]}, \n",
    "                 index = [\"Positive predictions\", \"Negative predictions\"]))"
   ]
  },
  {
   "cell_type": "markdown",
   "metadata": {},
   "source": [
    "Do każdego z trzech modeli, które sprawdzimy, dostroimy jeden z parametrów przy pomocy GridSearchCV."
   ]
  },
  {
   "cell_type": "markdown",
   "metadata": {},
   "source": [
    "### RandomForest"
   ]
  },
  {
   "cell_type": "markdown",
   "metadata": {},
   "source": [
    "Dla tego modelu dostroimy parametr *max_features* określający liczbę cech branych pod uwagę podczas podziału."
   ]
  },
  {
   "cell_type": "code",
   "execution_count": 6,
   "metadata": {},
   "outputs": [],
   "source": [
    "parameters = {'max_features':('auto','sqrt','log2')}"
   ]
  },
  {
   "cell_type": "code",
   "execution_count": 7,
   "metadata": {
    "scrolled": true
   },
   "outputs": [
    {
     "name": "stdout",
     "output_type": "stream",
     "text": [
      "{'max_features': 'sqrt'}\n"
     ]
    }
   ],
   "source": [
    "gscv = GridSearchCV(RandomForestClassifier(),parameters,n_jobs=-1)\n",
    "gscv.fit(X_train,y_train)\n",
    "print(gscv.best_params_)"
   ]
  },
  {
   "cell_type": "code",
   "execution_count": 8,
   "metadata": {},
   "outputs": [
    {
     "name": "stdout",
     "output_type": "stream",
     "text": [
      "Precision : 0.7630979498861048\n",
      "Recall : 0.5345744680851063\n",
      "AUC: 0.7435898316424316\n",
      "Confusion matrix accuracy: 0.8597424081295049\n",
      "                      Actual positives  Actual negatives\n",
      "Positive predictions          0.118752          0.103391\n",
      "Negative predictions          0.036866          0.740990\n"
     ]
    }
   ],
   "source": [
    "model_analysis(RandomForestClassifier(max_features='sqrt'))"
   ]
  },
  {
   "cell_type": "markdown",
   "metadata": {},
   "source": [
    "### XGBoostClassifier"
   ]
  },
  {
   "cell_type": "markdown",
   "metadata": {},
   "source": [
    "Dla tego modelu dostroimy parametr *booster* decydujący o tym, który klasyfikator zostanie użyty. Możliwe wartości tego parametru to *{'gbtree,'gblinear','dart'}*."
   ]
  },
  {
   "cell_type": "code",
   "execution_count": 9,
   "metadata": {},
   "outputs": [],
   "source": [
    "parameters = {'booster':('gbtree','gblinear','dart')}"
   ]
  },
  {
   "cell_type": "code",
   "execution_count": 10,
   "metadata": {},
   "outputs": [
    {
     "name": "stdout",
     "output_type": "stream",
     "text": [
      "{'booster': 'gbtree'}\n"
     ]
    }
   ],
   "source": [
    "gscv = GridSearchCV(xgb.XGBClassifier(objective = \"binary:logistic\",  use_label_encoder=False),parameters,n_jobs=-1)\n",
    "gscv.fit(X_train,y_train)\n",
    "print(gscv.best_params_)"
   ]
  },
  {
   "cell_type": "code",
   "execution_count": 11,
   "metadata": {
    "scrolled": false
   },
   "outputs": [
    {
     "name": "stdout",
     "output_type": "stream",
     "text": [
      "Precision : 0.7462462462462462\n",
      "Recall : 0.5287234042553192\n",
      "AUC: 0.7386895161941947\n",
      "Confusion matrix accuracy: 0.8553704360155973\n",
      "                      Actual positives  Actual negatives\n",
      "Positive predictions          0.117452          0.104691\n",
      "Negative predictions          0.039939          0.737918\n"
     ]
    }
   ],
   "source": [
    "model_analysis(xgb.XGBClassifier(objective = \"binary:logistic\", booster='gbtree', use_label_encoder=False))"
   ]
  },
  {
   "cell_type": "markdown",
   "metadata": {},
   "source": [
    "### Regresja logistyczna"
   ]
  },
  {
   "cell_type": "markdown",
   "metadata": {},
   "source": [
    "Dla tego modelu dostroimy parametr *solver* oznaczający algorytm, za pomocą którego dokonuje się optymalizacja. Dostępne algorytmy to: *{‘newton-cg’, ‘lbfgs’, ‘liblinear’, ‘sag’, ‘saga’}*. Niektóre algorytmy wymagają ustawienia parametru *verbose* na dodatnią liczbę, z tego powodu ten parametr również dodamy do siatki."
   ]
  },
  {
   "cell_type": "code",
   "execution_count": 12,
   "metadata": {},
   "outputs": [],
   "source": [
    "parameters = {'solver':('newton-cg', 'lbfgs', 'liblinear', 'sag', 'saga'),'verbose':(0,1)}"
   ]
  },
  {
   "cell_type": "code",
   "execution_count": 13,
   "metadata": {},
   "outputs": [
    {
     "name": "stdout",
     "output_type": "stream",
     "text": [
      "{'solver': 'newton-cg', 'verbose': 0}\n"
     ]
    }
   ],
   "source": [
    "gscv = GridSearchCV(LogisticRegression(max_iter=1000),parameters,n_jobs=-1)\n",
    "gscv.fit(X_train,y_train)\n",
    "print(gscv.best_params_)"
   ]
  },
  {
   "cell_type": "code",
   "execution_count": 14,
   "metadata": {
    "scrolled": false
   },
   "outputs": [
    {
     "name": "stdout",
     "output_type": "stream",
     "text": [
      "Precision : 0.7281518624641834\n",
      "Recall : 0.5406914893617021\n",
      "AUC: 0.7415215004153186\n",
      "Confusion matrix accuracy: 0.8531253692544015\n",
      "                      Actual positives  Actual negatives\n",
      "Positive predictions          0.120111          0.102032\n",
      "Negative predictions          0.044842          0.733014\n"
     ]
    }
   ],
   "source": [
    "model_analysis(LogisticRegression(solver='newton-cg',max_iter=1000,verbose=0))"
   ]
  },
  {
   "cell_type": "markdown",
   "metadata": {},
   "source": [
    "### Kroswalidacja i podsumowanie"
   ]
  },
  {
   "cell_type": "markdown",
   "metadata": {},
   "source": [
    "Dość nieoczekiwanie wszystkie trzy modele miały bardzo zbliżoną skuteczność, co szczególnie dziwi w przypadku XGBoosta, który zazwyczaj radzi sobie dużo lepiej od prostej regresji logistycznej. Być może zatem to wybrany zbiór testowy okazał się być na tyle specyficzny, że zrównał ze sobą wszystkie 3 modele. W celu większej rzetelności wyników przeprowadźmy kroswalidacje wszystkich trzech modeli. Za parametr *scoring* przyjmiemy *f1*, który jest miarą łączącą *precision* i *recall*, dobrze sprawdzającą się dla binarnych klasyfikacji."
   ]
  },
  {
   "cell_type": "code",
   "execution_count": 15,
   "metadata": {},
   "outputs": [
    {
     "name": "stdout",
     "output_type": "stream",
     "text": [
      "Model RandomForestClassifier(max_features='sqrt'): \n",
      " Średnia wyniku: 0.5965726819644881 \n",
      " Odchylenie standardowe: 0.0473676324153271 \n",
      "\n",
      "Model XGBClassifier(use_label_encoder=False): \n",
      " Średnia wyniku: 0.5977038113136395 \n",
      " Odchylenie standardowe: 0.04726318970124113 \n",
      "\n",
      "Model LogisticRegression(max_iter=1000, solver='newton-cg'): \n",
      " Średnia wyniku: 0.6095906678725057 \n",
      " Odchylenie standardowe: 0.0407918946214133 \n",
      "\n"
     ]
    },
    {
     "data": {
      "image/png": "[encoded data removed]",
      "text/plain": [
       "<Figure size 432x288 with 1 Axes>"
      ]
     },
     "metadata": {
      "needs_background": "light"
     },
     "output_type": "display_data"
    }
   ],
   "source": [
    "from sklearn.model_selection import cross_val_score\n",
    "\n",
    "models = [RandomForestClassifier(max_features='sqrt'),\n",
    "          xgb.XGBClassifier(objective = \"binary:logistic\", booster='gbtree', use_label_encoder=False),\n",
    "         LogisticRegression(solver='newton-cg',max_iter=1000,verbose=0),]\n",
    "\n",
    "scores = []\n",
    "\n",
    "for i in range(len(models)):\n",
    "    scores.append(cross_val_score(models[i], X,y, cv=10,scoring='f1'))\n",
    "    print(f\"Model {models[i]}: \\n Średnia wyniku: {np.mean(scores[i])} \\n Odchylenie standardowe: {np.std(scores[i])} \\n\")\n",
    "\n",
    "sns.distplot(scores[0], label=\"random_forest\")\n",
    "sns.distplot(scores[1], label=\"xgbc\")\n",
    "sns.distplot(scores[2], label=\"log_reg\")\n",
    "\n",
    "plt.legend()\n",
    "plt.show()"
   ]
  },
  {
   "cell_type": "markdown",
   "metadata": {},
   "source": [
    "Kroswalidacja potwierdza, że wszystkie trzy modele mają bardzo zbliżoną skuteczność. Z tego powodu trudno jest wybrać najlepszy z nich. Minimalnie najlepiej spisał się RandomForest, ale wyniki są na tyle równorzędne, że chyba nie ma sensu określać go mianem \"zwycięzcy\"."
   ]
  }
 ],
 "metadata": {
  "kernelspec": {
   "display_name": "Python 3",
   "language": "python",
   "name": "python3"
  },
  "language_info": {
   "codemirror_mode": {
    "name": "ipython",
    "version": 3
   },
   "file_extension": ".py",
   "mimetype": "text/x-python",
   "name": "python",
   "nbconvert_exporter": "python",
   "pygments_lexer": "ipython3",
   "version": "3.7.3"
  }
 },
 "nbformat": 4,
 "nbformat_minor": 2
}
