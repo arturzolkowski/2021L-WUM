{
 "cells": [
  {
   "cell_type": "code",
   "execution_count": 95,
   "id": "voluntary-ceramic",
   "metadata": {},
   "outputs": [],
   "source": [
    "import pandas as pd\n",
    "import numpy as np\n",
    "from sklearn.model_selection import train_test_split\n",
    "import warnings\n",
    "from sklearn.tree import DecisionTreeClassifier\n",
    "from sklearn.neighbors import KNeighborsClassifier\n",
    "from sklearn.linear_model import LogisticRegression\n",
    "from sklearn.model_selection import cross_val_score\n",
    "from sklearn.metrics import plot_roc_curve\n",
    "warnings.filterwarnings('ignore')"
   ]
  },
  {
   "cell_type": "markdown",
   "id": "earned-region",
   "metadata": {},
   "source": [
    "## Wczytanie ramki danych"
   ]
  },
  {
   "cell_type": "code",
   "execution_count": 47,
   "id": "meaning-morris",
   "metadata": {},
   "outputs": [
    {
     "data": {
      "text/html": [
       "<div>\n",
       "<style scoped>\n",
       "    .dataframe tbody tr th:only-of-type {\n",
       "        vertical-align: middle;\n",
       "    }\n",
       "\n",
       "    .dataframe tbody tr th {\n",
       "        vertical-align: top;\n",
       "    }\n",
       "\n",
       "    .dataframe thead th {\n",
       "        text-align: right;\n",
       "    }\n",
       "</style>\n",
       "<table border=\"1\" class=\"dataframe\">\n",
       "  <thead>\n",
       "    <tr style=\"text-align: right;\">\n",
       "      <th></th>\n",
       "      <th>MinTemp</th>\n",
       "      <th>MaxTemp</th>\n",
       "      <th>Rainfall</th>\n",
       "      <th>Evaporation</th>\n",
       "      <th>Sunshine</th>\n",
       "      <th>WindGustSpeed</th>\n",
       "      <th>WindSpeed9am</th>\n",
       "      <th>WindSpeed3pm</th>\n",
       "      <th>Humidity9am</th>\n",
       "      <th>Humidity3pm</th>\n",
       "      <th>Pressure9am</th>\n",
       "      <th>Pressure3pm</th>\n",
       "      <th>Cloud9am</th>\n",
       "      <th>Cloud3pm</th>\n",
       "      <th>Temp9am</th>\n",
       "      <th>Temp3pm</th>\n",
       "      <th>RainToday</th>\n",
       "      <th>RainTomorrow</th>\n",
       "    </tr>\n",
       "  </thead>\n",
       "  <tbody>\n",
       "    <tr>\n",
       "      <th>0</th>\n",
       "      <td>17.9</td>\n",
       "      <td>35.2</td>\n",
       "      <td>0.0</td>\n",
       "      <td>12.0</td>\n",
       "      <td>12.3</td>\n",
       "      <td>48.0</td>\n",
       "      <td>6.0</td>\n",
       "      <td>20.0</td>\n",
       "      <td>20.0</td>\n",
       "      <td>13.0</td>\n",
       "      <td>1006.3</td>\n",
       "      <td>1004.4</td>\n",
       "      <td>2.0</td>\n",
       "      <td>5.0</td>\n",
       "      <td>26.6</td>\n",
       "      <td>33.4</td>\n",
       "      <td>0</td>\n",
       "      <td>0</td>\n",
       "    </tr>\n",
       "    <tr>\n",
       "      <th>1</th>\n",
       "      <td>18.4</td>\n",
       "      <td>28.9</td>\n",
       "      <td>0.0</td>\n",
       "      <td>14.8</td>\n",
       "      <td>13.0</td>\n",
       "      <td>37.0</td>\n",
       "      <td>19.0</td>\n",
       "      <td>19.0</td>\n",
       "      <td>30.0</td>\n",
       "      <td>8.0</td>\n",
       "      <td>1012.9</td>\n",
       "      <td>1012.1</td>\n",
       "      <td>1.0</td>\n",
       "      <td>1.0</td>\n",
       "      <td>20.3</td>\n",
       "      <td>27.0</td>\n",
       "      <td>0</td>\n",
       "      <td>0</td>\n",
       "    </tr>\n",
       "    <tr>\n",
       "      <th>2</th>\n",
       "      <td>19.4</td>\n",
       "      <td>37.6</td>\n",
       "      <td>0.0</td>\n",
       "      <td>10.8</td>\n",
       "      <td>10.6</td>\n",
       "      <td>46.0</td>\n",
       "      <td>30.0</td>\n",
       "      <td>15.0</td>\n",
       "      <td>42.0</td>\n",
       "      <td>22.0</td>\n",
       "      <td>1012.3</td>\n",
       "      <td>1009.2</td>\n",
       "      <td>1.0</td>\n",
       "      <td>6.0</td>\n",
       "      <td>28.7</td>\n",
       "      <td>34.9</td>\n",
       "      <td>0</td>\n",
       "      <td>0</td>\n",
       "    </tr>\n",
       "    <tr>\n",
       "      <th>3</th>\n",
       "      <td>21.9</td>\n",
       "      <td>38.4</td>\n",
       "      <td>0.0</td>\n",
       "      <td>11.4</td>\n",
       "      <td>12.2</td>\n",
       "      <td>31.0</td>\n",
       "      <td>6.0</td>\n",
       "      <td>6.0</td>\n",
       "      <td>37.0</td>\n",
       "      <td>22.0</td>\n",
       "      <td>1012.7</td>\n",
       "      <td>1009.1</td>\n",
       "      <td>1.0</td>\n",
       "      <td>5.0</td>\n",
       "      <td>29.1</td>\n",
       "      <td>35.6</td>\n",
       "      <td>0</td>\n",
       "      <td>0</td>\n",
       "    </tr>\n",
       "    <tr>\n",
       "      <th>4</th>\n",
       "      <td>24.2</td>\n",
       "      <td>41.0</td>\n",
       "      <td>0.0</td>\n",
       "      <td>11.2</td>\n",
       "      <td>8.4</td>\n",
       "      <td>35.0</td>\n",
       "      <td>17.0</td>\n",
       "      <td>13.0</td>\n",
       "      <td>19.0</td>\n",
       "      <td>15.0</td>\n",
       "      <td>1010.7</td>\n",
       "      <td>1007.4</td>\n",
       "      <td>1.0</td>\n",
       "      <td>6.0</td>\n",
       "      <td>33.6</td>\n",
       "      <td>37.6</td>\n",
       "      <td>0</td>\n",
       "      <td>0</td>\n",
       "    </tr>\n",
       "  </tbody>\n",
       "</table>\n",
       "</div>"
      ],
      "text/plain": [
       "   MinTemp  MaxTemp  Rainfall  Evaporation  Sunshine  WindGustSpeed  \\\n",
       "0     17.9     35.2       0.0         12.0      12.3           48.0   \n",
       "1     18.4     28.9       0.0         14.8      13.0           37.0   \n",
       "2     19.4     37.6       0.0         10.8      10.6           46.0   \n",
       "3     21.9     38.4       0.0         11.4      12.2           31.0   \n",
       "4     24.2     41.0       0.0         11.2       8.4           35.0   \n",
       "\n",
       "   WindSpeed9am  WindSpeed3pm  Humidity9am  Humidity3pm  Pressure9am  \\\n",
       "0           6.0          20.0         20.0         13.0       1006.3   \n",
       "1          19.0          19.0         30.0          8.0       1012.9   \n",
       "2          30.0          15.0         42.0         22.0       1012.3   \n",
       "3           6.0           6.0         37.0         22.0       1012.7   \n",
       "4          17.0          13.0         19.0         15.0       1010.7   \n",
       "\n",
       "   Pressure3pm  Cloud9am  Cloud3pm  Temp9am  Temp3pm  RainToday  RainTomorrow  \n",
       "0       1004.4       2.0       5.0     26.6     33.4          0             0  \n",
       "1       1012.1       1.0       1.0     20.3     27.0          0             0  \n",
       "2       1009.2       1.0       6.0     28.7     34.9          0             0  \n",
       "3       1009.1       1.0       5.0     29.1     35.6          0             0  \n",
       "4       1007.4       1.0       6.0     33.6     37.6          0             0  "
      ]
     },
     "execution_count": 47,
     "metadata": {},
     "output_type": "execute_result"
    }
   ],
   "source": [
    "df = pd.read_csv(\"australia.csv\")\n",
    "df.head()"
   ]
  },
  {
   "cell_type": "markdown",
   "id": "reflected-problem",
   "metadata": {},
   "source": [
    "## Podział na podzbiór testowy oraz treningowy"
   ]
  },
  {
   "cell_type": "code",
   "execution_count": 51,
   "id": "multiple-attachment",
   "metadata": {},
   "outputs": [],
   "source": [
    "x_train, x_test, y_train, y_test = train_test_split(df.drop(columns=[\"RainTomorrow\"]), df[[\"RainTomorrow\"]], test_size=0.33, random_state=43)"
   ]
  },
  {
   "cell_type": "markdown",
   "id": "paperback-hostel",
   "metadata": {},
   "source": [
    "# Klasyfikacja"
   ]
  },
  {
   "cell_type": "markdown",
   "id": "intellectual-incentive",
   "metadata": {},
   "source": [
    "## Decision tree"
   ]
  },
  {
   "cell_type": "markdown",
   "id": "funny-danish",
   "metadata": {},
   "source": [
    "W przypadku decision tree skupimy się na hiperparametrze criterion, który mierzy jakoś podziału drzew na nody. Mamy do wyboru dwie opcje: \"gini\" oraz \"entropy\". Obie te metody mają średnio około 2% niezgodności, więc ich dostrojenie w niewielkim stopniu wpływa na ostateczny rezultat, jednak \"entropy\" ciut dłużej się wykonuję z uwagi na logarytm we wzorze."
   ]
  },
  {
   "cell_type": "code",
   "execution_count": 73,
   "id": "federal-resolution",
   "metadata": {},
   "outputs": [],
   "source": [
    "model1 = DecisionTreeClassifier(random_state=1, criterion=\"entropy\")"
   ]
  },
  {
   "cell_type": "code",
   "execution_count": 74,
   "id": "faced-boost",
   "metadata": {},
   "outputs": [
    {
     "name": "stdout",
     "output_type": "stream",
     "text": [
      "y:     [0, 1, 0, 0, 0, 0, 0, 0, 0, 0]\n",
      "y_hat: [0, 1, 0, 0, 0, 0, 0, 0, 1, 0]\n"
     ]
    }
   ],
   "source": [
    "model1.fit(x_train, y_train)\n",
    "y_hat = model1.predict(x_test)\n",
    "print('y:     ' + str(y_hat[0:10].tolist()) + '\\ny_hat: ' + str(y_test[\"RainTomorrow\"].tolist()[0:10]))"
   ]
  },
  {
   "cell_type": "code",
   "execution_count": 65,
   "id": "exciting-philosophy",
   "metadata": {},
   "outputs": [
    {
     "data": {
      "text/plain": [
       "0.5211078761402833"
      ]
     },
     "execution_count": 65,
     "metadata": {},
     "output_type": "execute_result"
    }
   ],
   "source": [
    "precision = cross_val_score(model1, x_test, y_test, scoring='precision', cv = 10)\n",
    "np.mean(precision)"
   ]
  },
  {
   "cell_type": "code",
   "execution_count": 63,
   "id": "informed-escape",
   "metadata": {},
   "outputs": [
    {
     "data": {
      "text/plain": [
       "0.7891938720679029"
      ]
     },
     "execution_count": 63,
     "metadata": {},
     "output_type": "execute_result"
    }
   ],
   "source": [
    "accuracy = cross_val_score(model1, x_test, y_test, scoring='accuracy', cv = 10)\n",
    "np.mean(accuracy)"
   ]
  },
  {
   "cell_type": "code",
   "execution_count": 66,
   "id": "alternative-disability",
   "metadata": {},
   "outputs": [
    {
     "data": {
      "text/plain": [
       "0.5467533084089965"
      ]
     },
     "execution_count": 66,
     "metadata": {},
     "output_type": "execute_result"
    }
   ],
   "source": [
    "recall = cross_val_score(model1, x_test, y_test, scoring='recall', cv = 10)\n",
    "np.mean(recall)"
   ]
  },
  {
   "cell_type": "code",
   "execution_count": 64,
   "id": "metallic-bacteria",
   "metadata": {},
   "outputs": [
    {
     "data": {
      "image/png": "[encoded data removed]",
      "text/plain": [
       "<Figure size 432x288 with 1 Axes>"
      ]
     },
     "metadata": {
      "needs_background": "light"
     },
     "output_type": "display_data"
    }
   ],
   "source": [
    "plot_roc_curve(model1, x_test, y_test);"
   ]
  },
  {
   "cell_type": "markdown",
   "id": "eligible-equivalent",
   "metadata": {},
   "source": [
    "## KNeighborsClassifier"
   ]
  },
  {
   "cell_type": "markdown",
   "id": "hollywood-double",
   "metadata": {},
   "source": [
    "W przypadku modelu KNeighbors skupimy się na parametrze n_neighbors oznaczającego ile najbliższych obserwacji ze zbioru treningowego weźmiemy pod uwagę w przypadku predykowania oraz na parametrze p definijącego czy będziemy korzystać z metryki Manhatanskiej - 1, Euklidesowskiej - 2 czy Minkowskiego - 3. "
   ]
  },
  {
   "cell_type": "code",
   "execution_count": 88,
   "id": "passive-cache",
   "metadata": {},
   "outputs": [],
   "source": [
    "model2 = KNeighborsClassifier(n_neighbors=4, p=2)"
   ]
  },
  {
   "cell_type": "code",
   "execution_count": 89,
   "id": "disciplinary-filing",
   "metadata": {},
   "outputs": [
    {
     "name": "stdout",
     "output_type": "stream",
     "text": [
      "y:     [0, 1, 0, 0, 0, 0, 0, 0, 0, 1]\n",
      "y_hat: [0, 1, 0, 0, 0, 0, 0, 0, 1, 0]\n"
     ]
    }
   ],
   "source": [
    "model2.fit(x_train, y_train)\n",
    "y_hat = model2.predict(x_test)\n",
    "print('y:     ' + str(y_hat[0:10].tolist()) + '\\ny_hat: ' + str(y_test[\"RainTomorrow\"].tolist()[0:10]))"
   ]
  },
  {
   "cell_type": "code",
   "execution_count": 90,
   "id": "formal-privacy",
   "metadata": {},
   "outputs": [
    {
     "data": {
      "text/plain": [
       "0.7333825672136172"
      ]
     },
     "execution_count": 90,
     "metadata": {},
     "output_type": "execute_result"
    }
   ],
   "source": [
    "precision = cross_val_score(model2, x_test, y_test, scoring='precision', cv = 10)\n",
    "np.mean(precision)"
   ]
  },
  {
   "cell_type": "code",
   "execution_count": 91,
   "id": "noble-inspection",
   "metadata": {},
   "outputs": [
    {
     "data": {
      "text/plain": [
       "0.8373704757787614"
      ]
     },
     "execution_count": 91,
     "metadata": {},
     "output_type": "execute_result"
    }
   ],
   "source": [
    "accuracy = cross_val_score(model2, x_test, y_test, scoring='accuracy', cv = 10)\n",
    "np.mean(accuracy)"
   ]
  },
  {
   "cell_type": "code",
   "execution_count": 92,
   "id": "subsequent-amplifier",
   "metadata": {},
   "outputs": [
    {
     "data": {
      "text/plain": [
       "0.4125553379621388"
      ]
     },
     "execution_count": 92,
     "metadata": {},
     "output_type": "execute_result"
    }
   ],
   "source": [
    "recall = cross_val_score(model2, x_test, y_test, scoring='recall', cv = 10)\n",
    "np.mean(recall)"
   ]
  },
  {
   "cell_type": "code",
   "execution_count": 93,
   "id": "chemical-holiday",
   "metadata": {},
   "outputs": [
    {
     "data": {
      "image/png": "[encoded data removed]",
      "text/plain": [
       "<Figure size 432x288 with 1 Axes>"
      ]
     },
     "metadata": {
      "needs_background": "light"
     },
     "output_type": "display_data"
    }
   ],
   "source": [
    "plot_roc_curve(model2, x_test, y_test);"
   ]
  },
  {
   "cell_type": "markdown",
   "id": "sustainable-invasion",
   "metadata": {},
   "source": [
    "## Logistic regression"
   ]
  },
  {
   "cell_type": "markdown",
   "id": "compressed-winter",
   "metadata": {},
   "source": [
    "W przypadku logistic regression będziemy dostosowywali parametr C określający \"siłę\" fitowania. W przypadku dużych wartości C, model ma tendencje do overfitowania, natomiast w przypadku małej underfitowania."
   ]
  },
  {
   "cell_type": "code",
   "execution_count": 83,
   "id": "opening-vanilla",
   "metadata": {},
   "outputs": [],
   "source": [
    "model3 = LogisticRegression(random_state=1, max_iter=1000, C=5)"
   ]
  },
  {
   "cell_type": "code",
   "execution_count": 84,
   "id": "supported-simpson",
   "metadata": {},
   "outputs": [
    {
     "name": "stdout",
     "output_type": "stream",
     "text": [
      "y:     [0, 1, 0, 0, 0, 0, 0, 0, 1, 0]\n",
      "y_hat: [0, 1, 0, 0, 0, 0, 0, 0, 1, 0]\n"
     ]
    }
   ],
   "source": [
    "model3.fit(x_train,y_train)\n",
    "y_hat = model3.predict(x_test)\n",
    "print('y:     ' + str(y_hat[0:10].tolist()) + '\\ny_hat: ' + str(y_test[\"RainTomorrow\"].tolist()[0:10]))"
   ]
  },
  {
   "cell_type": "code",
   "execution_count": 85,
   "id": "radio-defensive",
   "metadata": {},
   "outputs": [
    {
     "data": {
      "text/plain": [
       "0.7289025572479972"
      ]
     },
     "execution_count": 85,
     "metadata": {},
     "output_type": "execute_result"
    }
   ],
   "source": [
    "precision = cross_val_score(model3, x_test, y_test, scoring='precision', cv = 10)\n",
    "np.mean(precision)"
   ]
  },
  {
   "cell_type": "code",
   "execution_count": 86,
   "id": "naval-redhead",
   "metadata": {},
   "outputs": [
    {
     "data": {
      "text/plain": [
       "0.851656853810276"
      ]
     },
     "execution_count": 86,
     "metadata": {},
     "output_type": "execute_result"
    }
   ],
   "source": [
    "accuracy = cross_val_score(model3, x_test, y_test, scoring='accuracy', cv = 10)\n",
    "np.mean(accuracy)"
   ]
  },
  {
   "cell_type": "code",
   "execution_count": 87,
   "id": "refined-bulletin",
   "metadata": {},
   "outputs": [
    {
     "data": {
      "text/plain": [
       "0.5219132395703519"
      ]
     },
     "execution_count": 87,
     "metadata": {},
     "output_type": "execute_result"
    }
   ],
   "source": [
    "recall = cross_val_score(model3, x_test, y_test, scoring='recall', cv = 10)\n",
    "np.mean(recall)"
   ]
  },
  {
   "cell_type": "code",
   "execution_count": 94,
   "id": "latin-architecture",
   "metadata": {},
   "outputs": [
    {
     "data": {
      "image/png": "[encoded data removed]",
      "text/plain": [
       "<Figure size 432x288 with 1 Axes>"
      ]
     },
     "metadata": {
      "needs_background": "light"
     },
     "output_type": "display_data"
    }
   ],
   "source": [
    "plot_roc_curve(model3, x_test, y_test);"
   ]
  },
  {
   "cell_type": "markdown",
   "id": "contained-freeze",
   "metadata": {},
   "source": [
    "Wydaje mi się, że w przypadku każdego z klasyfikatorów najbardziej odpowiednią miarą jego jakości jest miara precision, gdyż pokazuję ona , jak bardzo nasz klasyfikator jest odporny na fałszywie pozytywne wyniki. Zdecydowanie nikt z nas nie chcę zostać zaskoczony deszczem, nie będąc na to wcześniej przygotowanym, natomiast jeżeli spodziewany deszcz nie pojawi się na niebie, to nie wburzy to w nas negatywnych emocji, a z reguły wręcz przeciwnie."
   ]
  },
  {
   "cell_type": "markdown",
   "id": "sacred-flour",
   "metadata": {},
   "source": [
    "Zdecydowanie najmniej przydatną miarą jest recall z wyżej wspomnianego powodu, accuracy może być przydatne natomiast w ogólnej ocenie jakości naszego klasyfikatora"
   ]
  }
 ],
 "metadata": {
  "kernelspec": {
   "display_name": "Python 3",
   "language": "python",
   "name": "python3"
  },
  "language_info": {
   "codemirror_mode": {
    "name": "ipython",
    "version": 3
   },
   "file_extension": ".py",
   "mimetype": "text/x-python",
   "name": "python",
   "nbconvert_exporter": "python",
   "pygments_lexer": "ipython3",
   "version": "3.8.8"
  }
 },
 "nbformat": 4,
 "nbformat_minor": 5
}
