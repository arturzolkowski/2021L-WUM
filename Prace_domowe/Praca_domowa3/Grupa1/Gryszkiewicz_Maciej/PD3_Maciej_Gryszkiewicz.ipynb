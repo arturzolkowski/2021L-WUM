{
 "cells": [
  {
   "cell_type": "markdown",
   "id": "hearing-peripheral",
   "metadata": {},
   "source": [
    "# Praca domowa 3\n",
    "## Maciej Gryszkiewicz"
   ]
  },
  {
   "cell_type": "code",
   "execution_count": 1,
   "id": "norman-parameter",
   "metadata": {},
   "outputs": [],
   "source": [
    "import pandas as pd\n",
    "import numpy as np\n",
    "import seaborn as sns\n",
    "import matplotlib.pyplot as plt\n",
    "import matplotlib\n",
    "import category_encoders as ce\n",
    "import random\n",
    "import warnings\n",
    "warnings.filterwarnings(\"ignore\")\n",
    "random.seed(42)"
   ]
  },
  {
   "cell_type": "code",
   "execution_count": 2,
   "id": "forty-pantyhose",
   "metadata": {},
   "outputs": [
    {
     "data": {
      "text/html": [
       "<div>\n",
       "<style scoped>\n",
       "    .dataframe tbody tr th:only-of-type {\n",
       "        vertical-align: middle;\n",
       "    }\n",
       "\n",
       "    .dataframe tbody tr th {\n",
       "        vertical-align: top;\n",
       "    }\n",
       "\n",
       "    .dataframe thead th {\n",
       "        text-align: right;\n",
       "    }\n",
       "</style>\n",
       "<table border=\"1\" class=\"dataframe\">\n",
       "  <thead>\n",
       "    <tr style=\"text-align: right;\">\n",
       "      <th></th>\n",
       "      <th>MinTemp</th>\n",
       "      <th>MaxTemp</th>\n",
       "      <th>Rainfall</th>\n",
       "      <th>Evaporation</th>\n",
       "      <th>Sunshine</th>\n",
       "      <th>WindGustSpeed</th>\n",
       "      <th>WindSpeed9am</th>\n",
       "      <th>WindSpeed3pm</th>\n",
       "      <th>Humidity9am</th>\n",
       "      <th>Humidity3pm</th>\n",
       "      <th>Pressure9am</th>\n",
       "      <th>Pressure3pm</th>\n",
       "      <th>Cloud9am</th>\n",
       "      <th>Cloud3pm</th>\n",
       "      <th>Temp9am</th>\n",
       "      <th>Temp3pm</th>\n",
       "      <th>RainToday</th>\n",
       "      <th>RainTomorrow</th>\n",
       "    </tr>\n",
       "  </thead>\n",
       "  <tbody>\n",
       "    <tr>\n",
       "      <th>0</th>\n",
       "      <td>17.9</td>\n",
       "      <td>35.2</td>\n",
       "      <td>0.0</td>\n",
       "      <td>12.0</td>\n",
       "      <td>12.3</td>\n",
       "      <td>48.0</td>\n",
       "      <td>6.0</td>\n",
       "      <td>20.0</td>\n",
       "      <td>20.0</td>\n",
       "      <td>13.0</td>\n",
       "      <td>1006.3</td>\n",
       "      <td>1004.4</td>\n",
       "      <td>2.0</td>\n",
       "      <td>5.0</td>\n",
       "      <td>26.6</td>\n",
       "      <td>33.4</td>\n",
       "      <td>0</td>\n",
       "      <td>0</td>\n",
       "    </tr>\n",
       "    <tr>\n",
       "      <th>1</th>\n",
       "      <td>18.4</td>\n",
       "      <td>28.9</td>\n",
       "      <td>0.0</td>\n",
       "      <td>14.8</td>\n",
       "      <td>13.0</td>\n",
       "      <td>37.0</td>\n",
       "      <td>19.0</td>\n",
       "      <td>19.0</td>\n",
       "      <td>30.0</td>\n",
       "      <td>8.0</td>\n",
       "      <td>1012.9</td>\n",
       "      <td>1012.1</td>\n",
       "      <td>1.0</td>\n",
       "      <td>1.0</td>\n",
       "      <td>20.3</td>\n",
       "      <td>27.0</td>\n",
       "      <td>0</td>\n",
       "      <td>0</td>\n",
       "    </tr>\n",
       "    <tr>\n",
       "      <th>2</th>\n",
       "      <td>19.4</td>\n",
       "      <td>37.6</td>\n",
       "      <td>0.0</td>\n",
       "      <td>10.8</td>\n",
       "      <td>10.6</td>\n",
       "      <td>46.0</td>\n",
       "      <td>30.0</td>\n",
       "      <td>15.0</td>\n",
       "      <td>42.0</td>\n",
       "      <td>22.0</td>\n",
       "      <td>1012.3</td>\n",
       "      <td>1009.2</td>\n",
       "      <td>1.0</td>\n",
       "      <td>6.0</td>\n",
       "      <td>28.7</td>\n",
       "      <td>34.9</td>\n",
       "      <td>0</td>\n",
       "      <td>0</td>\n",
       "    </tr>\n",
       "    <tr>\n",
       "      <th>3</th>\n",
       "      <td>21.9</td>\n",
       "      <td>38.4</td>\n",
       "      <td>0.0</td>\n",
       "      <td>11.4</td>\n",
       "      <td>12.2</td>\n",
       "      <td>31.0</td>\n",
       "      <td>6.0</td>\n",
       "      <td>6.0</td>\n",
       "      <td>37.0</td>\n",
       "      <td>22.0</td>\n",
       "      <td>1012.7</td>\n",
       "      <td>1009.1</td>\n",
       "      <td>1.0</td>\n",
       "      <td>5.0</td>\n",
       "      <td>29.1</td>\n",
       "      <td>35.6</td>\n",
       "      <td>0</td>\n",
       "      <td>0</td>\n",
       "    </tr>\n",
       "    <tr>\n",
       "      <th>4</th>\n",
       "      <td>24.2</td>\n",
       "      <td>41.0</td>\n",
       "      <td>0.0</td>\n",
       "      <td>11.2</td>\n",
       "      <td>8.4</td>\n",
       "      <td>35.0</td>\n",
       "      <td>17.0</td>\n",
       "      <td>13.0</td>\n",
       "      <td>19.0</td>\n",
       "      <td>15.0</td>\n",
       "      <td>1010.7</td>\n",
       "      <td>1007.4</td>\n",
       "      <td>1.0</td>\n",
       "      <td>6.0</td>\n",
       "      <td>33.6</td>\n",
       "      <td>37.6</td>\n",
       "      <td>0</td>\n",
       "      <td>0</td>\n",
       "    </tr>\n",
       "  </tbody>\n",
       "</table>\n",
       "</div>"
      ],
      "text/plain": [
       "   MinTemp  MaxTemp  Rainfall  Evaporation  Sunshine  WindGustSpeed  \\\n",
       "0     17.9     35.2       0.0         12.0      12.3           48.0   \n",
       "1     18.4     28.9       0.0         14.8      13.0           37.0   \n",
       "2     19.4     37.6       0.0         10.8      10.6           46.0   \n",
       "3     21.9     38.4       0.0         11.4      12.2           31.0   \n",
       "4     24.2     41.0       0.0         11.2       8.4           35.0   \n",
       "\n",
       "   WindSpeed9am  WindSpeed3pm  Humidity9am  Humidity3pm  Pressure9am  \\\n",
       "0           6.0          20.0         20.0         13.0       1006.3   \n",
       "1          19.0          19.0         30.0          8.0       1012.9   \n",
       "2          30.0          15.0         42.0         22.0       1012.3   \n",
       "3           6.0           6.0         37.0         22.0       1012.7   \n",
       "4          17.0          13.0         19.0         15.0       1010.7   \n",
       "\n",
       "   Pressure3pm  Cloud9am  Cloud3pm  Temp9am  Temp3pm  RainToday  RainTomorrow  \n",
       "0       1004.4       2.0       5.0     26.6     33.4          0             0  \n",
       "1       1012.1       1.0       1.0     20.3     27.0          0             0  \n",
       "2       1009.2       1.0       6.0     28.7     34.9          0             0  \n",
       "3       1009.1       1.0       5.0     29.1     35.6          0             0  \n",
       "4       1007.4       1.0       6.0     33.6     37.6          0             0  "
      ]
     },
     "execution_count": 2,
     "metadata": {},
     "output_type": "execute_result"
    }
   ],
   "source": [
    "df = pd.read_csv(\"australia.csv\")\n",
    "df.head()"
   ]
  },
  {
   "cell_type": "code",
   "execution_count": 3,
   "id": "appointed-alexandria",
   "metadata": {},
   "outputs": [],
   "source": [
    "X = df.drop(\"RainTomorrow\", axis=1)\n",
    "y = df[[\"RainTomorrow\"]]"
   ]
  },
  {
   "cell_type": "markdown",
   "id": "chronic-phenomenon",
   "metadata": {},
   "source": [
    "## Podział danych na zbiór testowy i treningowy"
   ]
  },
  {
   "cell_type": "markdown",
   "id": "smaller-mount",
   "metadata": {},
   "source": [
    "Do podziału wykorzystam domyślną wielkość parametru test_size, a więc zbiór testowy będzie składał się z 25% obserwacji."
   ]
  },
  {
   "cell_type": "code",
   "execution_count": 4,
   "id": "checked-compact",
   "metadata": {},
   "outputs": [],
   "source": [
    "from sklearn.model_selection import train_test_split\n",
    "\n",
    "X_train, X_test, y_train, y_test = train_test_split(X, y, random_state=42)"
   ]
  },
  {
   "cell_type": "markdown",
   "id": "differential-cradle",
   "metadata": {},
   "source": [
    "## Wybór modelu"
   ]
  },
  {
   "cell_type": "markdown",
   "id": "correct-visit",
   "metadata": {},
   "source": [
    "Do oceny jakości modelu wykorzystamy 3 metryki:\n",
    "* accuracy\n",
    "* precision\n",
    "* AUC\n",
    "P"
   ]
  },
  {
   "cell_type": "markdown",
   "id": "detected-render",
   "metadata": {},
   "source": [
    "### Model 1 - Regresja Logistyczna"
   ]
  },
  {
   "cell_type": "markdown",
   "id": "basic-stockholm",
   "metadata": {},
   "source": [
    "#### Import i uczenie modelu"
   ]
  },
  {
   "cell_type": "code",
   "execution_count": 5,
   "id": "resident-creek",
   "metadata": {},
   "outputs": [],
   "source": [
    "from sklearn.linear_model import LogisticRegression\n",
    "\n",
    "lr = LogisticRegression(penalty=\"l2\")\n",
    "lr.fit(X_train, y_train);"
   ]
  },
  {
   "cell_type": "markdown",
   "id": "rough-version",
   "metadata": {},
   "source": [
    "Parametr penalty określa normę, która jest wykorzystywana do tworzenia funkcji kary. Funkcja kary jest minimalizowana w procesie uczenia. W tym wypadku używamy regularyzacji klasy 'L2', ponieważ z reguły daje lepsze wyniki."
   ]
  },
  {
   "cell_type": "markdown",
   "id": "violent-tongue",
   "metadata": {},
   "source": [
    "#### Ocena wydajności"
   ]
  },
  {
   "cell_type": "code",
   "execution_count": 6,
   "id": "labeled-increase",
   "metadata": {
    "scrolled": true
   },
   "outputs": [
    {
     "name": "stdout",
     "output_type": "stream",
     "text": [
      "            Predicted NO  Predicted YES\n",
      "Actual NO          10418            561\n",
      "Actual YES          1519           1607\n"
     ]
    }
   ],
   "source": [
    "from sklearn.metrics import confusion_matrix\n",
    "\n",
    "print(pd.DataFrame(confusion_matrix(y_test, lr.predict(X_test)), \n",
    "                   columns=[\"Predicted NO\", \"Predicted YES\"], \n",
    "                   index=[\"Actual NO\", \"Actual YES\"]))"
   ]
  },
  {
   "cell_type": "markdown",
   "id": "opponent-viking",
   "metadata": {},
   "source": [
    "Po macierzy pomyłek widzimy że dane są bardzo niezrównoważone. Dni w których nie padało jest zdecydowanie więcej niż dni deszczowych. Przez to, miara Accuracy nie będzie dobrze odzwierciedlała skuteczności modelu. \\\n",
    "\\\n",
    "Dobrą miarą z kolei wydaję się Precision, które powie nam jaka jest szansa, że faktycznie będzie padać jeśli nasz model wskazał deszcz. \\\n",
    "Dla przykładu: Precision na poziomie 75% oznacza, że jeśli nasz model przewiduje dzień deszczowy, to na 75% faktycznie będzie padać.\\\n",
    "\\\n",
    "Bardzo rozsądną miarą w tym wypadku jest również Recall. Miara ta mówi ile deszczowych dni udało nam się przewidzieć ze wszystkich dni w których padało. \\\n",
    "Dla przykładu: Recall na poziomie 50% będzie oznaczał, że udało nam się ostrzec ludzi przed połową wszystkich opadów."
   ]
  },
  {
   "cell_type": "code",
   "execution_count": 7,
   "id": "applicable-fireplace",
   "metadata": {
    "scrolled": true
   },
   "outputs": [
    {
     "name": "stdout",
     "output_type": "stream",
     "text": [
      "Accuracy mean: 84.84%\n",
      "Accuracy std: 1.35pp\n"
     ]
    }
   ],
   "source": [
    "from sklearn.model_selection import cross_val_score\n",
    "\n",
    "accuracy = cross_val_score(lr, X, y, scoring='accuracy', cv = 10)\n",
    "\n",
    "print(\"Accuracy mean: {accuracy}%\".format(accuracy=(np.mean(accuracy)*100).round(2)))\n",
    "print(\"Accuracy std: {std}pp\".format(std=(np.std(accuracy)*100).round(2)))"
   ]
  },
  {
   "cell_type": "code",
   "execution_count": 8,
   "id": "peripheral-lawyer",
   "metadata": {},
   "outputs": [
    {
     "name": "stdout",
     "output_type": "stream",
     "text": [
      "Precision mean: 72.22%\n",
      "Precision std: 6.53pp\n"
     ]
    }
   ],
   "source": [
    "precision = cross_val_score(lr, X, y, scoring='precision', cv = 10)\n",
    "\n",
    "print(\"Precision mean: {precision}%\".format(precision=(np.mean(precision)*100).round(2)))\n",
    "print(\"Precision std: {std}pp\".format(std=(np.std(precision)*100).round(2)))"
   ]
  },
  {
   "cell_type": "code",
   "execution_count": 9,
   "id": "binary-northwest",
   "metadata": {},
   "outputs": [
    {
     "name": "stdout",
     "output_type": "stream",
     "text": [
      "Recall mean: 51.77%\n",
      "Recall std: 5.21pp\n"
     ]
    }
   ],
   "source": [
    "recall = cross_val_score(lr, X, y, scoring='recall', cv = 10)\n",
    "\n",
    "print(\"Recall mean: {recall}%\".format(recall=(np.mean(recall)*100).round(2)))\n",
    "print(\"Recall std: {std}pp\".format(std=(np.std(recall)*100).round(2)))"
   ]
  },
  {
   "cell_type": "code",
   "execution_count": 10,
   "id": "digital-billion",
   "metadata": {},
   "outputs": [
    {
     "data": {
      "image/png": "[encoded data removed]",
      "text/plain": [
       "<Figure size 432x288 with 1 Axes>"
      ]
     },
     "metadata": {
      "needs_background": "light"
     },
     "output_type": "display_data"
    }
   ],
   "source": [
    "from sklearn.metrics import plot_roc_curve, roc_auc_score\n",
    "\n",
    "plot_roc_curve(lr, X_test, y_test);"
   ]
  },
  {
   "cell_type": "code",
   "execution_count": 11,
   "id": "pressed-bouquet",
   "metadata": {
    "scrolled": false
   },
   "outputs": [
    {
     "name": "stdout",
     "output_type": "stream",
     "text": [
      "Exact AUC: 0.8770187801675938\n"
     ]
    }
   ],
   "source": [
    "auc = roc_auc_score(y_test, lr.predict_proba(X_test)[:,1])\n",
    "print(\"Exact AUC: {auc}\".format(auc=auc))"
   ]
  },
  {
   "cell_type": "markdown",
   "id": "contained-consumer",
   "metadata": {},
   "source": [
    "### Model 2 - Decision Tree"
   ]
  },
  {
   "cell_type": "markdown",
   "id": "accessible-nitrogen",
   "metadata": {},
   "source": [
    "#### Import i uczenie modelu"
   ]
  },
  {
   "cell_type": "code",
   "execution_count": 12,
   "id": "contemporary-diagnosis",
   "metadata": {},
   "outputs": [],
   "source": [
    "from sklearn.tree import DecisionTreeClassifier\n",
    "\n",
    "dtc = DecisionTreeClassifier(max_depth=6)\n",
    "dtc.fit(X_train, y_train);"
   ]
  },
  {
   "cell_type": "markdown",
   "id": "opposed-november",
   "metadata": {},
   "source": [
    "Parametr max_depth określa maksymalną głębokość drzewa, a więc maksymalną ilość podziałów obserwacji na mniejsze podgrupy. Jest to bardzo istotny parametr tego klasyfikatora, w wypadku gdy go nie podamy może dojść do overfittingu, ale również underfittingu. Co ciekawe w tym przypadku, nie podając parametru max_depth tworzy nam się drzewo decyzyjne tylko z jednym węzłem. Jest to spowodowane dużą dysproprocją danych (dużo dni słonecznych, mało deszczowych)."
   ]
  },
  {
   "cell_type": "markdown",
   "id": "progressive-temple",
   "metadata": {},
   "source": [
    "#### Ocena wydajności"
   ]
  },
  {
   "cell_type": "code",
   "execution_count": 13,
   "id": "productive-mount",
   "metadata": {},
   "outputs": [
    {
     "name": "stdout",
     "output_type": "stream",
     "text": [
      "            Predicted NO  Predicted YES\n",
      "Actual NO          10383            596\n",
      "Actual YES          1556           1570\n"
     ]
    }
   ],
   "source": [
    "print(pd.DataFrame(confusion_matrix(y_test, dtc.predict(X_test)), \n",
    "                   columns=[\"Predicted NO\", \"Predicted YES\"], \n",
    "                   index=[\"Actual NO\", \"Actual YES\"]))"
   ]
  },
  {
   "cell_type": "code",
   "execution_count": 14,
   "id": "satisfactory-particle",
   "metadata": {},
   "outputs": [
    {
     "name": "stdout",
     "output_type": "stream",
     "text": [
      "Accuracy mean: 84.3%\n",
      "Accuracy std: 1.45pp\n"
     ]
    }
   ],
   "source": [
    "accuracy = cross_val_score(dtc, X, y, scoring='accuracy', cv = 10)\n",
    "\n",
    "print(\"Accuracy mean: {accuracy}%\".format(accuracy=(np.mean(accuracy)*100).round(2)))\n",
    "print(\"Accuracy std: {std}pp\".format(std=(np.std(accuracy)*100).round(2)))"
   ]
  },
  {
   "cell_type": "code",
   "execution_count": 15,
   "id": "answering-transcript",
   "metadata": {
    "scrolled": true
   },
   "outputs": [
    {
     "name": "stdout",
     "output_type": "stream",
     "text": [
      "Precision mean: 71.12%\n",
      "Precision std: 6.31pp\n"
     ]
    }
   ],
   "source": [
    "precision = cross_val_score(dtc, X, y, scoring='precision', cv = 10)\n",
    "\n",
    "print(\"Precision mean: {precision}%\".format(precision=(np.mean(precision)*100).round(2)))\n",
    "print(\"Precision std: {std}pp\".format(std=(np.std(precision)*100).round(2)))"
   ]
  },
  {
   "cell_type": "code",
   "execution_count": 16,
   "id": "liked-magazine",
   "metadata": {},
   "outputs": [
    {
     "name": "stdout",
     "output_type": "stream",
     "text": [
      "Recall mean: 49.17%\n",
      "Recall std: 5.24pp\n"
     ]
    }
   ],
   "source": [
    "recall = cross_val_score(dtc, X, y, scoring='recall', cv = 10)\n",
    "\n",
    "print(\"Recall mean: {recall}%\".format(recall=(np.mean(recall)*100).round(2)))\n",
    "print(\"Recall std: {std}pp\".format(std=(np.std(recall)*100).round(2)))"
   ]
  },
  {
   "cell_type": "code",
   "execution_count": 17,
   "id": "harmful-oasis",
   "metadata": {},
   "outputs": [
    {
     "data": {
      "image/png": "[encoded data removed]",
      "text/plain": [
       "<Figure size 432x288 with 1 Axes>"
      ]
     },
     "metadata": {
      "needs_background": "light"
     },
     "output_type": "display_data"
    }
   ],
   "source": [
    "plot_roc_curve(dtc, X_test, y_test);"
   ]
  },
  {
   "cell_type": "markdown",
   "id": "scenic-magnitude",
   "metadata": {},
   "source": [
    "### Model 3 - XGBoost"
   ]
  },
  {
   "cell_type": "markdown",
   "id": "pediatric-unknown",
   "metadata": {},
   "source": [
    "#### Import i uczenie modelu"
   ]
  },
  {
   "cell_type": "code",
   "execution_count": 18,
   "id": "chief-processor",
   "metadata": {},
   "outputs": [],
   "source": [
    "from xgboost import XGBClassifier\n",
    "\n",
    "xgb = XGBClassifier(learning_rate=0.1, n_estiamtors=1000, max_depth=6, verbosity=0)\n",
    "xgb.fit(X_train, y_train);"
   ]
  },
  {
   "cell_type": "markdown",
   "id": "mighty-motivation",
   "metadata": {},
   "source": [
    "W tym wypadku parametr max_depth działa analogicznie do tego w DecissionTree. \\\n",
    "\\\n",
    "Parametr learning_rate (lub eta) jest charakterystyczny dla metod boostingowych. Czym wyższa jego wartość, tym model szybciej się uczy, ale jest mniej dopasowany do danych. Wartość ta zmniejsza wagę obserwacji źle zaklasyfikowanych z każdą iteracją boostingową. Zbyt niska wartość tego parametru prowadzi do overfittingu.\\\n",
    "\\\n",
    "Parametr n_estimators oznacza ilość drzew, która zostanie stworzona w procesie boostingu. Np. gdyby ten parametr był równy 1 to model wynikowy byłby zwykłym DecisionTree.\\\n",
    "\\\n",
    "Parametr verbosity=0 zapobiega wyświetlaniu wiadomości (np. warningów)  przy tworzeniu modelu."
   ]
  },
  {
   "cell_type": "markdown",
   "id": "killing-packaging",
   "metadata": {},
   "source": [
    "#### Ocena wydajności"
   ]
  },
  {
   "cell_type": "code",
   "execution_count": 19,
   "id": "pleased-bermuda",
   "metadata": {},
   "outputs": [
    {
     "name": "stdout",
     "output_type": "stream",
     "text": [
      "            Predicted NO  Predicted YES\n",
      "Actual NO          10438            541\n",
      "Actual YES          1430           1696\n"
     ]
    }
   ],
   "source": [
    "print(pd.DataFrame(confusion_matrix(y_test, xgb.predict(X_test)), \n",
    "                   columns=[\"Predicted NO\", \"Predicted YES\"], \n",
    "                   index=[\"Actual NO\", \"Actual YES\"]))"
   ]
  },
  {
   "cell_type": "code",
   "execution_count": 20,
   "id": "yellow-scanning",
   "metadata": {
    "scrolled": false
   },
   "outputs": [
    {
     "name": "stdout",
     "output_type": "stream",
     "text": [
      "Accuracy mean: 85.12%\n",
      "Accuracy std: 1.54pp\n"
     ]
    }
   ],
   "source": [
    "accuracy = cross_val_score(xgb, X, y, scoring='accuracy', cv = 10)\n",
    "\n",
    "print(\"Accuracy mean: {accuracy}%\".format(accuracy=(np.mean(accuracy)*100).round(2)))\n",
    "print(\"Accuracy std: {std}pp\".format(std=(np.std(accuracy)*100).round(2)))"
   ]
  },
  {
   "cell_type": "code",
   "execution_count": 21,
   "id": "covered-small",
   "metadata": {},
   "outputs": [
    {
     "name": "stdout",
     "output_type": "stream",
     "text": [
      "Precision mean: 72.84%\n",
      "Precision std: 5.82pp\n"
     ]
    }
   ],
   "source": [
    "precision = cross_val_score(xgb, X, y, scoring='precision', cv = 10)\n",
    "\n",
    "print(\"Precision mean: {precision}%\".format(precision=(np.mean(precision)*100).round(2)))\n",
    "print(\"Precision std: {std}pp\".format(std=(np.std(precision)*100).round(2)))"
   ]
  },
  {
   "cell_type": "code",
   "execution_count": 22,
   "id": "latest-struggle",
   "metadata": {},
   "outputs": [
    {
     "name": "stdout",
     "output_type": "stream",
     "text": [
      "Recall mean: 52.09%\n",
      "Recall std: 5.59pp\n"
     ]
    }
   ],
   "source": [
    "recall = cross_val_score(xgb, X, y, scoring='recall', cv = 10)\n",
    "\n",
    "print(\"Recall mean: {recall}%\".format(recall=(np.mean(recall)*100).round(2)))\n",
    "print(\"Recall std: {std}pp\".format(std=(np.std(recall)*100).round(2)))"
   ]
  },
  {
   "cell_type": "code",
   "execution_count": 23,
   "id": "searching-advertising",
   "metadata": {
    "scrolled": true
   },
   "outputs": [
    {
     "data": {
      "image/png": "[encoded data removed]",
      "text/plain": [
       "<Figure size 432x288 with 1 Axes>"
      ]
     },
     "metadata": {
      "needs_background": "light"
     },
     "output_type": "display_data"
    }
   ],
   "source": [
    "plot_roc_curve(xgb, X_test, y_test);"
   ]
  },
  {
   "cell_type": "code",
   "execution_count": 24,
   "id": "mexican-approval",
   "metadata": {
    "scrolled": true
   },
   "outputs": [
    {
     "name": "stdout",
     "output_type": "stream",
     "text": [
      "Exact AUC: 0.8934907839237323\n"
     ]
    }
   ],
   "source": [
    "auc = roc_auc_score(y_test, xgb.predict_proba(X_test)[:,1])\n",
    "print(\"Exact AUC: {auc}\".format(auc=auc))"
   ]
  },
  {
   "cell_type": "markdown",
   "id": "eleven-romania",
   "metadata": {},
   "source": [
    "### Podsumowanie"
   ]
  },
  {
   "cell_type": "markdown",
   "id": "supposed-hughes",
   "metadata": {},
   "source": [
    "XGBoost Classifier miał najwyższe miary każdej z metryk, jednoznacznie jest on najlepszym modelem w tym wypadku. Co najważniejsze, miał on najwyższy współczynnik Recall, a więc to dzięki niemu uchronimy najwięcej ludzi przed zmoknięciem."
   ]
  }
 ],
 "metadata": {
  "kernelspec": {
   "display_name": "Python 3",
   "language": "python",
   "name": "python3"
  },
  "language_info": {
   "codemirror_mode": {
    "name": "ipython",
    "version": 3
   },
   "file_extension": ".py",
   "mimetype": "text/x-python",
   "name": "python",
   "nbconvert_exporter": "python",
   "pygments_lexer": "ipython3",
   "version": "3.8.8"
  }
 },
 "nbformat": 4,
 "nbformat_minor": 5
}
