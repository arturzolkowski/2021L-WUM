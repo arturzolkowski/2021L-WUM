{
  "nbformat": 4,
  "nbformat_minor": 0,
  "metadata": {
    "colab": {
      "name": "PD3.ipynb",
      "provenance": [],
      "collapsed_sections": [
        "od3DBFJKNrim"
      ]
    },
    "kernelspec": {
      "name": "python3",
      "display_name": "Python 3"
    },
    "language_info": {
      "name": "python"
    }
  },
  "cells": [
    {
      "cell_type": "markdown",
      "metadata": {
        "id": "r-aiAG9KBBFH"
      },
      "source": [
        "# Klasyka"
      ]
    },
    {
      "cell_type": "code",
      "metadata": {
        "id": "7GA9l383zwaZ"
      },
      "source": [
        "import pandas as pd\n",
        "from sklearn.model_selection import train_test_split\n",
        "\n",
        "from sklearn.tree import DecisionTreeClassifier\n",
        "from sklearn.gaussian_process import GaussianProcessClassifier\n",
        "from sklearn.svm import SVC\n",
        "from sklearn.neighbors import KNeighborsClassifier\n",
        "from sklearn.ensemble import RandomForestClassifier\n",
        "\n",
        "\n",
        "from sklearn.metrics import accuracy_score\n",
        "from sklearn.metrics import f1_score\n",
        "from sklearn.metrics import roc_auc_score\n",
        "\n",
        "from sklearn.preprocessing import StandardScaler"
      ],
      "execution_count": 3,
      "outputs": []
    },
    {
      "cell_type": "code",
      "metadata": {
        "id": "d4ScnXrp2QhV"
      },
      "source": [
        "seed = 1123"
      ],
      "execution_count": 4,
      "outputs": []
    },
    {
      "cell_type": "code",
      "metadata": {
        "id": "iHhvnvJnz3IX"
      },
      "source": [
        "df = pd.read_csv(\"https://raw.githubusercontent.com/mini-pw/2021L-WUM/main/Prace_domowe/Praca_domowa3/australia.csv\")"
      ],
      "execution_count": 5,
      "outputs": []
    },
    {
      "cell_type": "markdown",
      "metadata": {
        "id": "od3DBFJKNrim"
      },
      "source": [
        "# Ramka"
      ]
    },
    {
      "cell_type": "code",
      "metadata": {
        "colab": {
          "base_uri": "https://localhost:8080/",
          "height": 419
        },
        "id": "x2wtWAL2z-XW",
        "outputId": "022777a6-66c0-43a2-b88b-5d15f467eb42"
      },
      "source": [
        "df"
      ],
      "execution_count": null,
      "outputs": [
        {
          "output_type": "execute_result",
          "data": {
            "text/html": [
              "<div>\n",
              "<style scoped>\n",
              "    .dataframe tbody tr th:only-of-type {\n",
              "        vertical-align: middle;\n",
              "    }\n",
              "\n",
              "    .dataframe tbody tr th {\n",
              "        vertical-align: top;\n",
              "    }\n",
              "\n",
              "    .dataframe thead th {\n",
              "        text-align: right;\n",
              "    }\n",
              "</style>\n",
              "<table border=\"1\" class=\"dataframe\">\n",
              "  <thead>\n",
              "    <tr style=\"text-align: right;\">\n",
              "      <th></th>\n",
              "      <th>MinTemp</th>\n",
              "      <th>MaxTemp</th>\n",
              "      <th>Rainfall</th>\n",
              "      <th>Evaporation</th>\n",
              "      <th>Sunshine</th>\n",
              "      <th>WindGustSpeed</th>\n",
              "      <th>WindSpeed9am</th>\n",
              "      <th>WindSpeed3pm</th>\n",
              "      <th>Humidity9am</th>\n",
              "      <th>Humidity3pm</th>\n",
              "      <th>Pressure9am</th>\n",
              "      <th>Pressure3pm</th>\n",
              "      <th>Cloud9am</th>\n",
              "      <th>Cloud3pm</th>\n",
              "      <th>Temp9am</th>\n",
              "      <th>Temp3pm</th>\n",
              "      <th>RainToday</th>\n",
              "      <th>RainTomorrow</th>\n",
              "    </tr>\n",
              "  </thead>\n",
              "  <tbody>\n",
              "    <tr>\n",
              "      <th>0</th>\n",
              "      <td>17.9</td>\n",
              "      <td>35.2</td>\n",
              "      <td>0.0</td>\n",
              "      <td>12.0</td>\n",
              "      <td>12.3</td>\n",
              "      <td>48.0</td>\n",
              "      <td>6.0</td>\n",
              "      <td>20.0</td>\n",
              "      <td>20.0</td>\n",
              "      <td>13.0</td>\n",
              "      <td>1006.3</td>\n",
              "      <td>1004.4</td>\n",
              "      <td>2.0</td>\n",
              "      <td>5.0</td>\n",
              "      <td>26.6</td>\n",
              "      <td>33.4</td>\n",
              "      <td>0</td>\n",
              "      <td>0</td>\n",
              "    </tr>\n",
              "    <tr>\n",
              "      <th>1</th>\n",
              "      <td>18.4</td>\n",
              "      <td>28.9</td>\n",
              "      <td>0.0</td>\n",
              "      <td>14.8</td>\n",
              "      <td>13.0</td>\n",
              "      <td>37.0</td>\n",
              "      <td>19.0</td>\n",
              "      <td>19.0</td>\n",
              "      <td>30.0</td>\n",
              "      <td>8.0</td>\n",
              "      <td>1012.9</td>\n",
              "      <td>1012.1</td>\n",
              "      <td>1.0</td>\n",
              "      <td>1.0</td>\n",
              "      <td>20.3</td>\n",
              "      <td>27.0</td>\n",
              "      <td>0</td>\n",
              "      <td>0</td>\n",
              "    </tr>\n",
              "    <tr>\n",
              "      <th>2</th>\n",
              "      <td>19.4</td>\n",
              "      <td>37.6</td>\n",
              "      <td>0.0</td>\n",
              "      <td>10.8</td>\n",
              "      <td>10.6</td>\n",
              "      <td>46.0</td>\n",
              "      <td>30.0</td>\n",
              "      <td>15.0</td>\n",
              "      <td>42.0</td>\n",
              "      <td>22.0</td>\n",
              "      <td>1012.3</td>\n",
              "      <td>1009.2</td>\n",
              "      <td>1.0</td>\n",
              "      <td>6.0</td>\n",
              "      <td>28.7</td>\n",
              "      <td>34.9</td>\n",
              "      <td>0</td>\n",
              "      <td>0</td>\n",
              "    </tr>\n",
              "    <tr>\n",
              "      <th>3</th>\n",
              "      <td>21.9</td>\n",
              "      <td>38.4</td>\n",
              "      <td>0.0</td>\n",
              "      <td>11.4</td>\n",
              "      <td>12.2</td>\n",
              "      <td>31.0</td>\n",
              "      <td>6.0</td>\n",
              "      <td>6.0</td>\n",
              "      <td>37.0</td>\n",
              "      <td>22.0</td>\n",
              "      <td>1012.7</td>\n",
              "      <td>1009.1</td>\n",
              "      <td>1.0</td>\n",
              "      <td>5.0</td>\n",
              "      <td>29.1</td>\n",
              "      <td>35.6</td>\n",
              "      <td>0</td>\n",
              "      <td>0</td>\n",
              "    </tr>\n",
              "    <tr>\n",
              "      <th>4</th>\n",
              "      <td>24.2</td>\n",
              "      <td>41.0</td>\n",
              "      <td>0.0</td>\n",
              "      <td>11.2</td>\n",
              "      <td>8.4</td>\n",
              "      <td>35.0</td>\n",
              "      <td>17.0</td>\n",
              "      <td>13.0</td>\n",
              "      <td>19.0</td>\n",
              "      <td>15.0</td>\n",
              "      <td>1010.7</td>\n",
              "      <td>1007.4</td>\n",
              "      <td>1.0</td>\n",
              "      <td>6.0</td>\n",
              "      <td>33.6</td>\n",
              "      <td>37.6</td>\n",
              "      <td>0</td>\n",
              "      <td>0</td>\n",
              "    </tr>\n",
              "    <tr>\n",
              "      <th>...</th>\n",
              "      <td>...</td>\n",
              "      <td>...</td>\n",
              "      <td>...</td>\n",
              "      <td>...</td>\n",
              "      <td>...</td>\n",
              "      <td>...</td>\n",
              "      <td>...</td>\n",
              "      <td>...</td>\n",
              "      <td>...</td>\n",
              "      <td>...</td>\n",
              "      <td>...</td>\n",
              "      <td>...</td>\n",
              "      <td>...</td>\n",
              "      <td>...</td>\n",
              "      <td>...</td>\n",
              "      <td>...</td>\n",
              "      <td>...</td>\n",
              "      <td>...</td>\n",
              "    </tr>\n",
              "    <tr>\n",
              "      <th>56415</th>\n",
              "      <td>19.3</td>\n",
              "      <td>33.4</td>\n",
              "      <td>0.0</td>\n",
              "      <td>6.0</td>\n",
              "      <td>11.0</td>\n",
              "      <td>35.0</td>\n",
              "      <td>9.0</td>\n",
              "      <td>20.0</td>\n",
              "      <td>63.0</td>\n",
              "      <td>32.0</td>\n",
              "      <td>1013.9</td>\n",
              "      <td>1010.5</td>\n",
              "      <td>0.0</td>\n",
              "      <td>1.0</td>\n",
              "      <td>24.5</td>\n",
              "      <td>32.3</td>\n",
              "      <td>0</td>\n",
              "      <td>0</td>\n",
              "    </tr>\n",
              "    <tr>\n",
              "      <th>56416</th>\n",
              "      <td>21.2</td>\n",
              "      <td>32.6</td>\n",
              "      <td>0.0</td>\n",
              "      <td>7.6</td>\n",
              "      <td>8.6</td>\n",
              "      <td>37.0</td>\n",
              "      <td>13.0</td>\n",
              "      <td>11.0</td>\n",
              "      <td>56.0</td>\n",
              "      <td>28.0</td>\n",
              "      <td>1014.6</td>\n",
              "      <td>1011.2</td>\n",
              "      <td>7.0</td>\n",
              "      <td>0.0</td>\n",
              "      <td>24.8</td>\n",
              "      <td>32.0</td>\n",
              "      <td>0</td>\n",
              "      <td>0</td>\n",
              "    </tr>\n",
              "    <tr>\n",
              "      <th>56417</th>\n",
              "      <td>20.7</td>\n",
              "      <td>32.8</td>\n",
              "      <td>0.0</td>\n",
              "      <td>5.6</td>\n",
              "      <td>11.0</td>\n",
              "      <td>33.0</td>\n",
              "      <td>17.0</td>\n",
              "      <td>11.0</td>\n",
              "      <td>46.0</td>\n",
              "      <td>23.0</td>\n",
              "      <td>1015.3</td>\n",
              "      <td>1011.8</td>\n",
              "      <td>0.0</td>\n",
              "      <td>0.0</td>\n",
              "      <td>24.8</td>\n",
              "      <td>32.1</td>\n",
              "      <td>0</td>\n",
              "      <td>0</td>\n",
              "    </tr>\n",
              "    <tr>\n",
              "      <th>56418</th>\n",
              "      <td>19.5</td>\n",
              "      <td>31.8</td>\n",
              "      <td>0.0</td>\n",
              "      <td>6.2</td>\n",
              "      <td>10.6</td>\n",
              "      <td>26.0</td>\n",
              "      <td>9.0</td>\n",
              "      <td>17.0</td>\n",
              "      <td>62.0</td>\n",
              "      <td>58.0</td>\n",
              "      <td>1014.9</td>\n",
              "      <td>1010.7</td>\n",
              "      <td>1.0</td>\n",
              "      <td>1.0</td>\n",
              "      <td>24.8</td>\n",
              "      <td>29.2</td>\n",
              "      <td>0</td>\n",
              "      <td>0</td>\n",
              "    </tr>\n",
              "    <tr>\n",
              "      <th>56419</th>\n",
              "      <td>20.2</td>\n",
              "      <td>31.7</td>\n",
              "      <td>0.0</td>\n",
              "      <td>5.6</td>\n",
              "      <td>10.7</td>\n",
              "      <td>30.0</td>\n",
              "      <td>15.0</td>\n",
              "      <td>7.0</td>\n",
              "      <td>73.0</td>\n",
              "      <td>32.0</td>\n",
              "      <td>1013.9</td>\n",
              "      <td>1009.7</td>\n",
              "      <td>6.0</td>\n",
              "      <td>5.0</td>\n",
              "      <td>25.4</td>\n",
              "      <td>31.0</td>\n",
              "      <td>0</td>\n",
              "      <td>0</td>\n",
              "    </tr>\n",
              "  </tbody>\n",
              "</table>\n",
              "<p>56420 rows × 18 columns</p>\n",
              "</div>"
            ],
            "text/plain": [
              "       MinTemp  MaxTemp  Rainfall  ...  Temp3pm  RainToday  RainTomorrow\n",
              "0         17.9     35.2       0.0  ...     33.4          0             0\n",
              "1         18.4     28.9       0.0  ...     27.0          0             0\n",
              "2         19.4     37.6       0.0  ...     34.9          0             0\n",
              "3         21.9     38.4       0.0  ...     35.6          0             0\n",
              "4         24.2     41.0       0.0  ...     37.6          0             0\n",
              "...        ...      ...       ...  ...      ...        ...           ...\n",
              "56415     19.3     33.4       0.0  ...     32.3          0             0\n",
              "56416     21.2     32.6       0.0  ...     32.0          0             0\n",
              "56417     20.7     32.8       0.0  ...     32.1          0             0\n",
              "56418     19.5     31.8       0.0  ...     29.2          0             0\n",
              "56419     20.2     31.7       0.0  ...     31.0          0             0\n",
              "\n",
              "[56420 rows x 18 columns]"
            ]
          },
          "metadata": {
            "tags": []
          },
          "execution_count": 5
        }
      ]
    },
    {
      "cell_type": "code",
      "metadata": {
        "colab": {
          "base_uri": "https://localhost:8080/"
        },
        "id": "OV6Cd9Hk7w3A",
        "outputId": "7f2ffc0d-77f2-42d7-bdc7-241b25c17a04"
      },
      "source": [
        "df.info()"
      ],
      "execution_count": null,
      "outputs": [
        {
          "output_type": "stream",
          "text": [
            "<class 'pandas.core.frame.DataFrame'>\n",
            "RangeIndex: 56420 entries, 0 to 56419\n",
            "Data columns (total 18 columns):\n",
            " #   Column         Non-Null Count  Dtype  \n",
            "---  ------         --------------  -----  \n",
            " 0   MinTemp        56420 non-null  float64\n",
            " 1   MaxTemp        56420 non-null  float64\n",
            " 2   Rainfall       56420 non-null  float64\n",
            " 3   Evaporation    56420 non-null  float64\n",
            " 4   Sunshine       56420 non-null  float64\n",
            " 5   WindGustSpeed  56420 non-null  float64\n",
            " 6   WindSpeed9am   56420 non-null  float64\n",
            " 7   WindSpeed3pm   56420 non-null  float64\n",
            " 8   Humidity9am    56420 non-null  float64\n",
            " 9   Humidity3pm    56420 non-null  float64\n",
            " 10  Pressure9am    56420 non-null  float64\n",
            " 11  Pressure3pm    56420 non-null  float64\n",
            " 12  Cloud9am       56420 non-null  float64\n",
            " 13  Cloud3pm       56420 non-null  float64\n",
            " 14  Temp9am        56420 non-null  float64\n",
            " 15  Temp3pm        56420 non-null  float64\n",
            " 16  RainToday      56420 non-null  int64  \n",
            " 17  RainTomorrow   56420 non-null  int64  \n",
            "dtypes: float64(16), int64(2)\n",
            "memory usage: 7.7 MB\n"
          ],
          "name": "stdout"
        }
      ]
    },
    {
      "cell_type": "markdown",
      "metadata": {
        "id": "I9Mucg1_Nve9"
      },
      "source": [
        "# Podział zbioru"
      ]
    },
    {
      "cell_type": "code",
      "metadata": {
        "colab": {
          "base_uri": "https://localhost:8080/"
        },
        "id": "z5ijndUZ0LtC",
        "outputId": "5666f31a-10d5-416a-8165-544a0c696660"
      },
      "source": [
        "X = df.iloc[:, :-1]\n",
        "y = df.iloc[:, -1]\n",
        "print(f\"df shape: {df.shape}, X shape: {X.shape}, y shape: {y.shape}\")"
      ],
      "execution_count": 6,
      "outputs": [
        {
          "output_type": "stream",
          "text": [
            "df shape: (56420, 18), X shape: (56420, 17), y shape: (56420,)\n"
          ],
          "name": "stdout"
        }
      ]
    },
    {
      "cell_type": "code",
      "metadata": {
        "colab": {
          "base_uri": "https://localhost:8080/"
        },
        "id": "OjPW7aK_1hqU",
        "outputId": "c4d20d42-d3e4-41fc-d983-5d3b2efc8ee3"
      },
      "source": [
        "X_train, X_test, y_train, y_test = train_test_split(X, y, test_size=0.3, random_state=seed)\n",
        "print(f\"X_train shape: {X_train.shape}, X_test shape: {X_test.shape}, y_train shape: {y_train.shape}, y_test shape: {y_test.shape}\")"
      ],
      "execution_count": 7,
      "outputs": [
        {
          "output_type": "stream",
          "text": [
            "X_train shape: (39494, 17), X_test shape: (16926, 17), y_train shape: (39494,), y_test shape: (16926,)\n"
          ],
          "name": "stdout"
        }
      ]
    },
    {
      "cell_type": "code",
      "metadata": {
        "id": "PfLMOynS3TKM"
      },
      "source": [
        "def rate_model(model, X_test_set=None):\n",
        "  if X_test_set is not None:\n",
        "    X_t = X_test_set \n",
        "  else:\n",
        "    X_t = X_test\n",
        "  y_predicted = model.predict(X_t)\n",
        "  y_proba = model.predict_proba(X_t)[:, 1]\n",
        "  print(\n",
        "    f\"\"\" \n",
        "    Model: {model.__class__}\n",
        "    Accuracy: {accuracy_score(y_test, y_predicted)},\n",
        "    F1 score: {f1_score(y_test, y_predicted)},\n",
        "    ROC AUC score: {roc_auc_score(y_test, y_proba)}\n",
        "    \"\"\"\n",
        "  )"
      ],
      "execution_count": 8,
      "outputs": []
    },
    {
      "cell_type": "markdown",
      "metadata": {
        "id": "2Mq1wN7eN-5M"
      },
      "source": [
        "# Modele"
      ]
    },
    {
      "cell_type": "code",
      "metadata": {
        "colab": {
          "base_uri": "https://localhost:8080/"
        },
        "id": "EIcRj0CT2GBd",
        "outputId": "5595f1a2-8841-4594-8a4d-ae1bac2b781b"
      },
      "source": [
        "dtc = DecisionTreeClassifier(max_leaf_nodes=16, criterion=\"entropy\", min_samples_split=20, random_state=seed+1)\n",
        "dtc.fit(X=X_train, y=y_train)\n",
        "rate_model(dtc)"
      ],
      "execution_count": 9,
      "outputs": [
        {
          "output_type": "stream",
          "text": [
            " \n",
            "    Model: <class 'sklearn.tree._classes.DecisionTreeClassifier'>\n",
            "    Accuracy: 0.836937256292095,\n",
            "    F1 score: 0.5699594889373637,\n",
            "    ROC AUC score: 0.853293624775484\n",
            "    \n"
          ],
          "name": "stdout"
        }
      ]
    },
    {
      "cell_type": "markdown",
      "metadata": {
        "id": "amV_zyEXHOGt"
      },
      "source": [
        "Drzewo decyzyjne\n",
        "\n",
        "* `max_leaf_nodes` maksymalna liczba liści w drzewie decyzyjnym \n",
        "* `criterion` rozdzaj kryterium entropii, zazwyczaj nie ma znaczenia, ale Gini impurity jest szybszy do wyliczenia \n",
        "* `min_samples_split` najmniejsza liczba próbek w liściu, przy której rozważać podział \n",
        "* `random_state` nasiono losowości, potrzebne do odtwarzania wyników"
      ]
    },
    {
      "cell_type": "code",
      "metadata": {
        "colab": {
          "base_uri": "https://localhost:8080/"
        },
        "id": "mx8lxSMFAqBy",
        "outputId": "bf7df0d4-22ec-4928-cc5e-816b75eeb3d3"
      },
      "source": [
        "rfc = RandomForestClassifier(n_estimators=50, max_depth=3, max_samples=0.3, max_features=\"sqrt\", random_state=seed+3)\n",
        "rfc.fit(X=X_train, y=y_train)\n",
        "rate_model(rfc)"
      ],
      "execution_count": 10,
      "outputs": [
        {
          "output_type": "stream",
          "text": [
            " \n",
            "    Model: <class 'sklearn.ensemble._forest.RandomForestClassifier'>\n",
            "    Accuracy: 0.836878175587853,\n",
            "    F1 score: 0.4830556075641266,\n",
            "    ROC AUC score: 0.8661888528180391\n",
            "    \n"
          ],
          "name": "stdout"
        }
      ]
    },
    {
      "cell_type": "markdown",
      "metadata": {
        "id": "Cvn12tDCIePW"
      },
      "source": [
        "Las losowy\n",
        "\n",
        "* `n_estimators` liczba drzew w lesie losowym\n",
        "* `max_depth` maksymalna głębokość drzewa w lesie\n",
        "* `max_samples` liczba/proporcja wykorzystywanych próbek do bootstrapowania\n",
        "* `max_features` liczba/proporcja cech użytych do uczenia drzew"
      ]
    },
    {
      "cell_type": "code",
      "metadata": {
        "colab": {
          "base_uri": "https://localhost:8080/"
        },
        "id": "X_fSJ6Fc7I9l",
        "outputId": "07dcc6f5-4c84-4a9e-d6bc-2fb447fa3680"
      },
      "source": [
        "knc = KNeighborsClassifier(n_neighbors=3, weights=\"distance\", algorithm=\"ball_tree\", leaf_size=10)\n",
        "knc.fit(X=X_train, y=y_train)\n",
        "rate_model(knc)"
      ],
      "execution_count": 11,
      "outputs": [
        {
          "output_type": "stream",
          "text": [
            " \n",
            "    Model: <class 'sklearn.neighbors._classification.KNeighborsClassifier'>\n",
            "    Accuracy: 0.8279569892473119,\n",
            "    F1 score: 0.5747663551401869,\n",
            "    ROC AUC score: 0.7987244973612514\n",
            "    \n"
          ],
          "name": "stdout"
        }
      ]
    },
    {
      "cell_type": "markdown",
      "metadata": {
        "id": "q6BQDwnpJ5iB"
      },
      "source": [
        "K-Sąsiadów\n",
        "\n",
        "* `n_neighbors` liczba sąsiadów decydujących o predykcji\n",
        "* `weights` wagi głosowań sąsiadów - według dystansu lub po równo\n",
        "* `algorithm` algorytm znajdywania najbliższych sąsiadów\n",
        "* `leaf_size` parametr przekazywany algorytmowi znajdowania najbliższych sąsiadów\n"
      ]
    },
    {
      "cell_type": "markdown",
      "metadata": {
        "id": "hSIe81p-OJfL"
      },
      "source": [
        "# Ocena miar jakości"
      ]
    },
    {
      "cell_type": "markdown",
      "metadata": {
        "id": "g3MxIhbvPDer"
      },
      "source": [
        "**Accuracy**\n",
        "\n",
        "Prosta metryka, dzieli liczbę prawidłowo odgadniętych etykiet przez liczbę wszystkich.\n",
        "* Łatwo wytłumaczyć\n",
        "* Słaba przy niezbalansowanych zbiorach.\n",
        "\n",
        "**ROC AUC**\n",
        "\n",
        "Metryka wykorzystująca krzywą ROC do ocenienia modelu. \n",
        "* Może być używana tylko, gdy jest w jakimś sensie możliwość przesuwania granicy decyzyjnej. \n",
        "* Łatwa wizualizacja poprzez krzywą ROC\n",
        "* Może być mało efektywna przy niezbalansowanych zbiorach.\n",
        "\n",
        "**F1**\n",
        "\n",
        "Metryka wykorzystująca średnią harmoniczną z precision i recall.\n",
        "\n",
        "* Czuła na niezbalansowane zbiory\n",
        "* Pokazuje systematyczne problemy\n",
        "\n",
        "W naszym przypadku najlepszą metryką jest **F1**, ponieważ zbiór etykiet jest przechylony w kierunku 0. Widać zalety tej metryki na confusion matrix - jest prawie 2 razy więcej FN niż TP. W zależności na czym nam zależy bardziej może to być niezły wynik, jak wskazuje ROC AUC, albo słaby - na co wskazuje F1"
      ]
    },
    {
      "cell_type": "code",
      "metadata": {
        "colab": {
          "base_uri": "https://localhost:8080/",
          "height": 279
        },
        "id": "b6Get4vkNDXN",
        "outputId": "3c1e41ea-b027-4091-bfae-fb9a64fa209e"
      },
      "source": [
        "from sklearn.metrics import plot_confusion_matrix\n",
        "import matplotlib.pyplot as plt\n",
        "plot_confusion_matrix(rfc, X_test, y_test, values_format=\"d\")\n",
        "plt.show()"
      ],
      "execution_count": 12,
      "outputs": [
        {
          "output_type": "display_data",
          "data": {
            "image/png": "[encoded data removed]",
            "text/plain": [
              "<Figure size 432x288 with 2 Axes>"
            ]
          },
          "metadata": {
            "tags": [],
            "needs_background": "light"
          }
        }
      ]
    },
    {
      "cell_type": "code",
      "metadata": {
        "colab": {
          "base_uri": "https://localhost:8080/",
          "height": 279
        },
        "id": "_gTliYIzRdlz",
        "outputId": "95f7eb53-fc7f-42be-e09d-2587959ff7bf"
      },
      "source": [
        "from sklearn.metrics import plot_roc_curve\n",
        "disp = plot_roc_curve(rfc, X_test, y_test)\n",
        "disp = plot_roc_curve(dtc, X_test, y_test, ax=disp.ax_)\n",
        "disp = plot_roc_curve(knc, X_test, y_test, ax=disp.ax_)\n",
        "\n",
        "plt.show()"
      ],
      "execution_count": 13,
      "outputs": [
        {
          "output_type": "display_data",
          "data": {
            "image/png": "[encoded data removed]",
            "text/plain": [
              "<Figure size 432x288 with 1 Axes>"
            ]
          },
          "metadata": {
            "tags": [],
            "needs_background": "light"
          }
        }
      ]
    },
    {
      "cell_type": "markdown",
      "metadata": {
        "id": "GAXYO9xrODxJ"
      },
      "source": [
        "# Popsułem :("
      ]
    },
    {
      "cell_type": "markdown",
      "metadata": {
        "id": "Q3nWwkqyYcWE"
      },
      "source": [
        "Chciałem wypróbować też inne modele, ale nie wiem czy coś popsułem, czy \"te modele tak mają\""
      ]
    },
    {
      "cell_type": "code",
      "metadata": {
        "id": "4VFPGlmJ3sf3"
      },
      "source": [
        "# gpc = GaussianProcessClassifier(random_state=seed+2, copy_X_train=False)\n",
        "# gpc.fit(X=X_train, y=y_train)\n",
        "# rate_model(dtc)\n",
        "\n",
        "# Out of memory "
      ],
      "execution_count": 14,
      "outputs": []
    },
    {
      "cell_type": "code",
      "metadata": {
        "colab": {
          "base_uri": "https://localhost:8080/"
        },
        "id": "T87CGhnE86LQ",
        "outputId": "e7ba8e4f-0612-4fbe-8453-67bdcb8aba87"
      },
      "source": [
        "svm = SVC(kernel=\"linear\", probability=True, max_iter=1000, C=0.1)\n",
        "scaler = StandardScaler()\n",
        "scaler.fit(X)\n",
        "svm.fit(\n",
        "    X=scaler.transform(X_train), y=y_train\n",
        ")\n",
        "rate_model(svm, X_test_set=scaler.transform(X_test))\n",
        "\n",
        "# Very long training times, doesn't converge."
      ],
      "execution_count": 15,
      "outputs": [
        {
          "output_type": "stream",
          "text": [
            "/usr/local/lib/python3.7/dist-packages/sklearn/svm/_base.py:231: ConvergenceWarning: Solver terminated early (max_iter=1000).  Consider pre-processing your data with StandardScaler or MinMaxScaler.\n",
            "  % self.max_iter, ConvergenceWarning)\n"
          ],
          "name": "stderr"
        },
        {
          "output_type": "stream",
          "text": [
            " \n",
            "    Model: <class 'sklearn.svm._classes.SVC'>\n",
            "    Accuracy: 0.35466146756469336,\n",
            "    F1 score: 0.406519967400163,\n",
            "    ROC AUC score: 0.8331859392668753\n",
            "    \n"
          ],
          "name": "stdout"
        }
      ]
    },
    {
      "cell_type": "code",
      "metadata": {
        "id": "SMUE401zC3Ck"
      },
      "source": [
        ""
      ],
      "execution_count": 15,
      "outputs": []
    }
  ]
}