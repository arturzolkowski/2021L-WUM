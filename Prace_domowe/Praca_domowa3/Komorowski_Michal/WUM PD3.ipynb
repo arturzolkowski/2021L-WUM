{
  "cells":[
    {
      "cell_type":"markdown",
      "source":[
        "## Praca domowa 3\n",
        "Michał Komorowski"
      ],
      "metadata":{
        
      }
    },
    {
      "cell_type":"code",
      "source":[
        "import pandas as pd\n",
        "\n",
        "from sklearn.model_selection import train_test_split\n",
        "from sklearn.linear_model import LogisticRegression\n",
        "from sklearn.ensemble import RandomForestClassifier\n",
        "\n",
        "from sklearn.metrics import f1_score\n",
        "from sklearn.metrics import accuracy_score\n",
        "from sklearn.metrics import roc_auc_score\n",
        "\n",
        "import xgboost as xgb\n",
        "\n",
        "import warnings\n",
        "warnings.filterwarnings('ignore')"
      ],
      "execution_count":42,
      "outputs":[
        
      ],
      "metadata":{
        
      }
    },
    {
      "cell_type":"code",
      "source":[
        "df = pd.read_csv(\"australia.csv\")\n",
        "\n",
        "df"
      ],
      "execution_count":2,
      "outputs":[
        {
          "data":{
            "text\/html":[
              "<div>\n",
              "<style scoped>\n",
              "    .dataframe tbody tr th:only-of-type {\n",
              "        vertical-align: middle;\n",
              "    }\n",
              "\n",
              "    .dataframe tbody tr th {\n",
              "        vertical-align: top;\n",
              "    }\n",
              "\n",
              "    .dataframe thead th {\n",
              "        text-align: right;\n",
              "    }\n",
              "<\/style>\n",
              "<table border=\"1\" class=\"dataframe\">\n",
              "  <thead>\n",
              "    <tr style=\"text-align: right;\">\n",
              "      <th><\/th>\n",
              "      <th>MinTemp<\/th>\n",
              "      <th>MaxTemp<\/th>\n",
              "      <th>Rainfall<\/th>\n",
              "      <th>Evaporation<\/th>\n",
              "      <th>Sunshine<\/th>\n",
              "      <th>WindGustSpeed<\/th>\n",
              "      <th>WindSpeed9am<\/th>\n",
              "      <th>WindSpeed3pm<\/th>\n",
              "      <th>Humidity9am<\/th>\n",
              "      <th>Humidity3pm<\/th>\n",
              "      <th>Pressure9am<\/th>\n",
              "      <th>Pressure3pm<\/th>\n",
              "      <th>Cloud9am<\/th>\n",
              "      <th>Cloud3pm<\/th>\n",
              "      <th>Temp9am<\/th>\n",
              "      <th>Temp3pm<\/th>\n",
              "      <th>RainToday<\/th>\n",
              "      <th>RainTomorrow<\/th>\n",
              "    <\/tr>\n",
              "  <\/thead>\n",
              "  <tbody>\n",
              "    <tr>\n",
              "      <th>0<\/th>\n",
              "      <td>17.9<\/td>\n",
              "      <td>35.2<\/td>\n",
              "      <td>0.0<\/td>\n",
              "      <td>12.0<\/td>\n",
              "      <td>12.3<\/td>\n",
              "      <td>48.0<\/td>\n",
              "      <td>6.0<\/td>\n",
              "      <td>20.0<\/td>\n",
              "      <td>20.0<\/td>\n",
              "      <td>13.0<\/td>\n",
              "      <td>1006.3<\/td>\n",
              "      <td>1004.4<\/td>\n",
              "      <td>2.0<\/td>\n",
              "      <td>5.0<\/td>\n",
              "      <td>26.6<\/td>\n",
              "      <td>33.4<\/td>\n",
              "      <td>0<\/td>\n",
              "      <td>0<\/td>\n",
              "    <\/tr>\n",
              "    <tr>\n",
              "      <th>1<\/th>\n",
              "      <td>18.4<\/td>\n",
              "      <td>28.9<\/td>\n",
              "      <td>0.0<\/td>\n",
              "      <td>14.8<\/td>\n",
              "      <td>13.0<\/td>\n",
              "      <td>37.0<\/td>\n",
              "      <td>19.0<\/td>\n",
              "      <td>19.0<\/td>\n",
              "      <td>30.0<\/td>\n",
              "      <td>8.0<\/td>\n",
              "      <td>1012.9<\/td>\n",
              "      <td>1012.1<\/td>\n",
              "      <td>1.0<\/td>\n",
              "      <td>1.0<\/td>\n",
              "      <td>20.3<\/td>\n",
              "      <td>27.0<\/td>\n",
              "      <td>0<\/td>\n",
              "      <td>0<\/td>\n",
              "    <\/tr>\n",
              "    <tr>\n",
              "      <th>2<\/th>\n",
              "      <td>19.4<\/td>\n",
              "      <td>37.6<\/td>\n",
              "      <td>0.0<\/td>\n",
              "      <td>10.8<\/td>\n",
              "      <td>10.6<\/td>\n",
              "      <td>46.0<\/td>\n",
              "      <td>30.0<\/td>\n",
              "      <td>15.0<\/td>\n",
              "      <td>42.0<\/td>\n",
              "      <td>22.0<\/td>\n",
              "      <td>1012.3<\/td>\n",
              "      <td>1009.2<\/td>\n",
              "      <td>1.0<\/td>\n",
              "      <td>6.0<\/td>\n",
              "      <td>28.7<\/td>\n",
              "      <td>34.9<\/td>\n",
              "      <td>0<\/td>\n",
              "      <td>0<\/td>\n",
              "    <\/tr>\n",
              "    <tr>\n",
              "      <th>3<\/th>\n",
              "      <td>21.9<\/td>\n",
              "      <td>38.4<\/td>\n",
              "      <td>0.0<\/td>\n",
              "      <td>11.4<\/td>\n",
              "      <td>12.2<\/td>\n",
              "      <td>31.0<\/td>\n",
              "      <td>6.0<\/td>\n",
              "      <td>6.0<\/td>\n",
              "      <td>37.0<\/td>\n",
              "      <td>22.0<\/td>\n",
              "      <td>1012.7<\/td>\n",
              "      <td>1009.1<\/td>\n",
              "      <td>1.0<\/td>\n",
              "      <td>5.0<\/td>\n",
              "      <td>29.1<\/td>\n",
              "      <td>35.6<\/td>\n",
              "      <td>0<\/td>\n",
              "      <td>0<\/td>\n",
              "    <\/tr>\n",
              "    <tr>\n",
              "      <th>4<\/th>\n",
              "      <td>24.2<\/td>\n",
              "      <td>41.0<\/td>\n",
              "      <td>0.0<\/td>\n",
              "      <td>11.2<\/td>\n",
              "      <td>8.4<\/td>\n",
              "      <td>35.0<\/td>\n",
              "      <td>17.0<\/td>\n",
              "      <td>13.0<\/td>\n",
              "      <td>19.0<\/td>\n",
              "      <td>15.0<\/td>\n",
              "      <td>1010.7<\/td>\n",
              "      <td>1007.4<\/td>\n",
              "      <td>1.0<\/td>\n",
              "      <td>6.0<\/td>\n",
              "      <td>33.6<\/td>\n",
              "      <td>37.6<\/td>\n",
              "      <td>0<\/td>\n",
              "      <td>0<\/td>\n",
              "    <\/tr>\n",
              "    <tr>\n",
              "      <th>...<\/th>\n",
              "      <td>...<\/td>\n",
              "      <td>...<\/td>\n",
              "      <td>...<\/td>\n",
              "      <td>...<\/td>\n",
              "      <td>...<\/td>\n",
              "      <td>...<\/td>\n",
              "      <td>...<\/td>\n",
              "      <td>...<\/td>\n",
              "      <td>...<\/td>\n",
              "      <td>...<\/td>\n",
              "      <td>...<\/td>\n",
              "      <td>...<\/td>\n",
              "      <td>...<\/td>\n",
              "      <td>...<\/td>\n",
              "      <td>...<\/td>\n",
              "      <td>...<\/td>\n",
              "      <td>...<\/td>\n",
              "      <td>...<\/td>\n",
              "    <\/tr>\n",
              "    <tr>\n",
              "      <th>56415<\/th>\n",
              "      <td>19.3<\/td>\n",
              "      <td>33.4<\/td>\n",
              "      <td>0.0<\/td>\n",
              "      <td>6.0<\/td>\n",
              "      <td>11.0<\/td>\n",
              "      <td>35.0<\/td>\n",
              "      <td>9.0<\/td>\n",
              "      <td>20.0<\/td>\n",
              "      <td>63.0<\/td>\n",
              "      <td>32.0<\/td>\n",
              "      <td>1013.9<\/td>\n",
              "      <td>1010.5<\/td>\n",
              "      <td>0.0<\/td>\n",
              "      <td>1.0<\/td>\n",
              "      <td>24.5<\/td>\n",
              "      <td>32.3<\/td>\n",
              "      <td>0<\/td>\n",
              "      <td>0<\/td>\n",
              "    <\/tr>\n",
              "    <tr>\n",
              "      <th>56416<\/th>\n",
              "      <td>21.2<\/td>\n",
              "      <td>32.6<\/td>\n",
              "      <td>0.0<\/td>\n",
              "      <td>7.6<\/td>\n",
              "      <td>8.6<\/td>\n",
              "      <td>37.0<\/td>\n",
              "      <td>13.0<\/td>\n",
              "      <td>11.0<\/td>\n",
              "      <td>56.0<\/td>\n",
              "      <td>28.0<\/td>\n",
              "      <td>1014.6<\/td>\n",
              "      <td>1011.2<\/td>\n",
              "      <td>7.0<\/td>\n",
              "      <td>0.0<\/td>\n",
              "      <td>24.8<\/td>\n",
              "      <td>32.0<\/td>\n",
              "      <td>0<\/td>\n",
              "      <td>0<\/td>\n",
              "    <\/tr>\n",
              "    <tr>\n",
              "      <th>56417<\/th>\n",
              "      <td>20.7<\/td>\n",
              "      <td>32.8<\/td>\n",
              "      <td>0.0<\/td>\n",
              "      <td>5.6<\/td>\n",
              "      <td>11.0<\/td>\n",
              "      <td>33.0<\/td>\n",
              "      <td>17.0<\/td>\n",
              "      <td>11.0<\/td>\n",
              "      <td>46.0<\/td>\n",
              "      <td>23.0<\/td>\n",
              "      <td>1015.3<\/td>\n",
              "      <td>1011.8<\/td>\n",
              "      <td>0.0<\/td>\n",
              "      <td>0.0<\/td>\n",
              "      <td>24.8<\/td>\n",
              "      <td>32.1<\/td>\n",
              "      <td>0<\/td>\n",
              "      <td>0<\/td>\n",
              "    <\/tr>\n",
              "    <tr>\n",
              "      <th>56418<\/th>\n",
              "      <td>19.5<\/td>\n",
              "      <td>31.8<\/td>\n",
              "      <td>0.0<\/td>\n",
              "      <td>6.2<\/td>\n",
              "      <td>10.6<\/td>\n",
              "      <td>26.0<\/td>\n",
              "      <td>9.0<\/td>\n",
              "      <td>17.0<\/td>\n",
              "      <td>62.0<\/td>\n",
              "      <td>58.0<\/td>\n",
              "      <td>1014.9<\/td>\n",
              "      <td>1010.7<\/td>\n",
              "      <td>1.0<\/td>\n",
              "      <td>1.0<\/td>\n",
              "      <td>24.8<\/td>\n",
              "      <td>29.2<\/td>\n",
              "      <td>0<\/td>\n",
              "      <td>0<\/td>\n",
              "    <\/tr>\n",
              "    <tr>\n",
              "      <th>56419<\/th>\n",
              "      <td>20.2<\/td>\n",
              "      <td>31.7<\/td>\n",
              "      <td>0.0<\/td>\n",
              "      <td>5.6<\/td>\n",
              "      <td>10.7<\/td>\n",
              "      <td>30.0<\/td>\n",
              "      <td>15.0<\/td>\n",
              "      <td>7.0<\/td>\n",
              "      <td>73.0<\/td>\n",
              "      <td>32.0<\/td>\n",
              "      <td>1013.9<\/td>\n",
              "      <td>1009.7<\/td>\n",
              "      <td>6.0<\/td>\n",
              "      <td>5.0<\/td>\n",
              "      <td>25.4<\/td>\n",
              "      <td>31.0<\/td>\n",
              "      <td>0<\/td>\n",
              "      <td>0<\/td>\n",
              "    <\/tr>\n",
              "  <\/tbody>\n",
              "<\/table>\n",
              "<p>56420 rows × 18 columns<\/p>\n",
              "<\/div>"
            ]
          },
          "metadata":{
            
          },
          "output_type":"display_data"
        }
      ],
      "metadata":{
        
      }
    },
    {
      "cell_type":"code",
      "source":[
        "df.shape"
      ],
      "execution_count":3,
      "outputs":[
        {
          "data":{
            "text\/plain":[
              "(56420, 18)"
            ]
          },
          "metadata":{
            
          },
          "output_type":"display_data"
        }
      ],
      "metadata":{
        
      }
    },
    {
      "cell_type":"code",
      "source":[
        "df.info()"
      ],
      "execution_count":4,
      "outputs":[
        {
          "name":"stdout",
          "text":[
            "<class 'pandas.core.frame.DataFrame'>\n",
            "RangeIndex: 56420 entries, 0 to 56419\n",
            "Data columns (total 18 columns):\n",
            " #   Column         Non-Null Count  Dtype  \n",
            "---  ------         --------------  -----  \n",
            " 0   MinTemp        56420 non-null  float64\n",
            " 1   MaxTemp        56420 non-null  float64\n",
            " 2   Rainfall       56420 non-null  float64\n",
            " 3   Evaporation    56420 non-null  float64\n",
            " 4   Sunshine       56420 non-null  float64\n",
            " 5   WindGustSpeed  56420 non-null  float64\n",
            " 6   WindSpeed9am   56420 non-null  float64\n",
            " 7   WindSpeed3pm   56420 non-null  float64\n",
            " 8   Humidity9am    56420 non-null  float64\n",
            " 9   Humidity3pm    56420 non-null  float64\n",
            " 10  Pressure9am    56420 non-null  float64\n",
            " 11  Pressure3pm    56420 non-null  float64\n",
            " 12  Cloud9am       56420 non-null  float64\n",
            " 13  Cloud3pm       56420 non-null  float64\n",
            " 14  Temp9am        56420 non-null  float64\n",
            " 15  Temp3pm        56420 non-null  float64\n",
            " 16  RainToday      56420 non-null  int64  \n",
            " 17  RainTomorrow   56420 non-null  int64  \n",
            "dtypes: float64(16), int64(2)\n",
            "memory usage: 7.7 MB\n"
          ],
          "output_type":"stream"
        }
      ],
      "metadata":{
        
      }
    },
    {
      "cell_type":"code",
      "source":[
        "df.RainTomorrow.value_counts()"
      ],
      "execution_count":5,
      "outputs":[
        {
          "data":{
            "text\/plain":[
              "0    43993\n",
              "1    12427\n",
              "Name: RainTomorrow, dtype: int64"
            ]
          },
          "metadata":{
            
          },
          "output_type":"display_data"
        }
      ],
      "metadata":{
        
      }
    },
    {
      "cell_type":"code",
      "source":[
        "X = df.loc[:, df.columns != \"RainTomorrow\"]\n",
        "y = df[\"RainTomorrow\"]\n",
        "\n",
        "X_train, X_test, y_train, y_test = train_test_split(X, y, test_size=0.2, random_state=0)"
      ],
      "execution_count":6,
      "outputs":[
        
      ],
      "metadata":{
        
      }
    },
    {
      "cell_type":"markdown",
      "source":[
        "Wybrane klasyfikatory to **regresja logistyczna**, **las losowy** oraz **XGBoost**. <br \/>\n",
        "W związku z dysproporcją wartości zmiennej celu, najlepszą metryką będzie **F1**, dodatkowo sprawdzę również **ROC AUC** oraz **accuracy**."
      ],
      "metadata":{
        
      }
    },
    {
      "cell_type":"markdown",
      "source":[
        "### Modelowanie\n",
        "Na początku możemy sprawdzić **accuracy** gdyby klasyfikator przywidywał najczęstą klasę, żeby mieć jakieś rozeznanie czy klasyfikatory są dobre. <br \/> Możemy skorzystać z `value_counts()` użytego kilka komórek wyżej.\n"
      ],
      "metadata":{
        
      }
    },
    {
      "cell_type":"code",
      "source":[
        "y_test.value_counts()"
      ],
      "execution_count":22,
      "outputs":[
        {
          "data":{
            "text\/plain":[
              "0    8854\n",
              "1    2430\n",
              "Name: RainTomorrow, dtype: int64"
            ]
          },
          "metadata":{
            
          },
          "output_type":"display_data"
        }
      ],
      "metadata":{
        
      }
    },
    {
      "cell_type":"code",
      "source":[
        "8854 \/ (8854 + 2430)"
      ],
      "execution_count":23,
      "outputs":[
        {
          "data":{
            "text\/plain":[
              "0.7846508330379298"
            ]
          },
          "metadata":{
            
          },
          "output_type":"display_data"
        }
      ],
      "metadata":{
        
      }
    },
    {
      "cell_type":"markdown",
      "source":[
        "#### Regresja logistyczna"
      ],
      "metadata":{
        
      }
    },
    {
      "cell_type":"code",
      "source":[
        "lr = LogisticRegression(random_state=0, max_iter=1000, C=0.1)"
      ],
      "execution_count":27,
      "outputs":[
        
      ],
      "metadata":{
        
      }
    },
    {
      "cell_type":"code",
      "source":[
        "lr.fit(X_train, y_train)"
      ],
      "execution_count":28,
      "outputs":[
        {
          "data":{
            "text\/plain":[
              "LogisticRegression(C=0.1, max_iter=1000, random_state=0)"
            ]
          },
          "metadata":{
            
          },
          "output_type":"display_data"
        }
      ],
      "metadata":{
        
      }
    },
    {
      "cell_type":"code",
      "source":[
        "y_pred = lr.predict(X_test)\n",
        "\n",
        "print(\"Regresja logistyczna test accuracy: {:.4f}\".format(accuracy_score(y_test, y_pred)))\n",
        "print(\"Regresja logistyczna train accuracy: {:.4f}\".format(accuracy_score(y_train, lr.predict(X_train))))\n",
        "print(\"Regresja logistyczna test ROC AUC: {:.4f}\".format(roc_auc_score(y_test, y_pred)))\n",
        "print(\"Regresja logistyczna test F1: {:.4f}\".format(f1_score(y_test, y_pred)))"
      ],
      "execution_count":29,
      "outputs":[
        {
          "name":"stdout",
          "text":[
            "Regresja logistyczna test accuracy: 0.8584\n",
            "Regresja logistyczna train accuracy: 0.8513\n",
            "Regresja logistyczna test ROC AUC: 0.7467\n",
            "Regresja logistyczna test F1: 0.6261\n"
          ],
          "output_type":"stream"
        }
      ],
      "metadata":{
        
      }
    },
    {
      "cell_type":"markdown",
      "source":[
        "#### Las losowy"
      ],
      "metadata":{
        
      }
    },
    {
      "cell_type":"code",
      "source":[
        "rf = RandomForestClassifier(random_state=0, max_depth=6, n_estimators=500)"
      ],
      "execution_count":15,
      "outputs":[
        
      ],
      "metadata":{
        
      }
    },
    {
      "cell_type":"code",
      "source":[
        "rf.fit(X_train, y_train)"
      ],
      "execution_count":16,
      "outputs":[
        {
          "data":{
            "text\/plain":[
              "RandomForestClassifier(max_depth=6, n_estimators=500, random_state=0)"
            ]
          },
          "metadata":{
            
          },
          "output_type":"display_data"
        }
      ],
      "metadata":{
        
      }
    },
    {
      "cell_type":"code",
      "source":[
        "y_pred = rf.predict(X_test)\n",
        "\n",
        "print(\"Las losowy train accuracy: {:.4f}\".format(accuracy_score(y_train, rf.predict(X_train))))\n",
        "print(\"Las losowy test accuracy: {:.4f}\".format(accuracy_score(y_test, y_pred)))\n",
        "print(\"Las losowy test ROC AUC: {:.4f}\".format(roc_auc_score(y_test, y_pred)))\n",
        "print(\"Las losowy test F1: {:.4f}\".format(f1_score(y_test, y_pred)))"
      ],
      "execution_count":30,
      "outputs":[
        {
          "name":"stdout",
          "text":[
            "Las losowy train accuracy: 0.8534\n",
            "Las losowy test accuracy: 0.8556\n",
            "Las losowy test ROC AUC: 0.7126\n",
            "Las losowy test F1: 0.5792\n"
          ],
          "output_type":"stream"
        }
      ],
      "metadata":{
        
      }
    },
    {
      "cell_type":"markdown",
      "source":[
        "Porównywalny wynik **accuracy** jednak intersujący nas wynik **F1** jest zdecydowanie niższy."
      ],
      "metadata":{
        
      }
    },
    {
      "cell_type":"markdown",
      "source":[
        "#### XGBoost"
      ],
      "metadata":{
        
      }
    },
    {
      "cell_type":"code",
      "source":[
        "xgbc = xgb.XGBClassifier(random_state=0, max_depth=3, learning_rate=0.2)"
      ],
      "execution_count":37,
      "outputs":[
        
      ],
      "metadata":{
        
      }
    },
    {
      "cell_type":"code",
      "source":[
        "xgbc.fit(X_train, y_train)"
      ],
      "execution_count":38,
      "outputs":[
        {
          "data":{
            "text\/plain":[
              "XGBClassifier(base_score=0.5, booster='gbtree', colsample_bylevel=1,\n",
              "              colsample_bynode=1, colsample_bytree=1, gamma=0, gpu_id=-1,\n",
              "              importance_type='gain', interaction_constraints='',\n",
              "              learning_rate=0.2, max_delta_step=0, max_depth=3,\n",
              "              min_child_weight=1, missing=nan, monotone_constraints='()',\n",
              "              n_estimators=100, n_jobs=0, num_parallel_tree=1, random_state=0,\n",
              "              reg_alpha=0, reg_lambda=1, scale_pos_weight=1, subsample=1,\n",
              "              tree_method='exact', validate_parameters=1, verbosity=None)"
            ]
          },
          "metadata":{
            
          },
          "output_type":"display_data"
        }
      ],
      "metadata":{
        
      }
    },
    {
      "cell_type":"code",
      "source":[
        "y_pred = xgbc.predict(X_test)\n",
        "\n",
        "print(\"XGBoost train accuracy: {:.4f}\".format(accuracy_score(y_train, xgbc.predict(X_train))))\n",
        "print(\"XGBoost test accuracy: {:.4f}\".format(accuracy_score(y_test, y_pred)))\n",
        "print(\"XGBoost test ROC AUC: {:.4f}\".format(roc_auc_score(y_test, y_pred)))\n",
        "print(\"XGBoost test F1: {:.4f}\".format(f1_score(y_test, y_pred)))"
      ],
      "execution_count":39,
      "outputs":[
        {
          "name":"stdout",
          "text":[
            "XGBoost train accuracy: 0.8653\n",
            "XGBoost test accuracy: 0.8645\n",
            "XGBoost test ROC AUC: 0.7521\n",
            "XGBoost test F1: 0.6381\n"
          ],
          "output_type":"stream"
        }
      ],
      "metadata":{
        
      }
    },
    {
      "cell_type":"markdown",
      "source":[
        "### Podsumowanie"
      ],
      "metadata":{
        
      }
    },
    {
      "cell_type":"markdown",
      "source":[
        "We wszystkich metrykach **XGBoost** sprawdził się najlepiej, nieco gorzej **regresja logistyczna**, natomiast zdecydowanie najgorzej **las losowy**."
      ],
      "metadata":{
        
      }
    }
  ],
  "metadata":{
    
  },
  "nbformat":4,
  "nbformat_minor":0
}