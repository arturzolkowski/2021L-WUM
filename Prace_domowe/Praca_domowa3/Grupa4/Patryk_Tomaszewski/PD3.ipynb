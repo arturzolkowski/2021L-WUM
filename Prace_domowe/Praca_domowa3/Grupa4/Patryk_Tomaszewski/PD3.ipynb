{
 "cells": [
  {
   "cell_type": "code",
   "execution_count": 1,
   "id": "viral-vertical",
   "metadata": {},
   "outputs": [],
   "source": [
    "import keras\n",
    "from keras.layers import Dense,Softmax,Dropout\n",
    "from keras import regularizers\n",
    "import numpy as np\n",
    "import tensorflow as tf\n",
    "import pandas as pd\n",
    "import matplotlib.pyplot as plt\n",
    "import seaborn as sns\n",
    "from sklearn.tree import DecisionTreeClassifier\n",
    "from sklearn.neighbors import KNeighborsClassifier\n",
    "from sklearn.linear_model import LogisticRegression\n",
    "from sklearn.model_selection import train_test_split\n",
    "from sklearn.metrics import accuracy_score, recall_score, precision_score\n",
    "from IPython.display import display, HTML\n",
    "tonpyarray = lambda x: np.asarray(x).astype('float32')"
   ]
  },
  {
   "cell_type": "markdown",
   "id": "tamil-mercury",
   "metadata": {},
   "source": [
    "## Wczytanie danych"
   ]
  },
  {
   "cell_type": "code",
   "execution_count": 2,
   "id": "recorded-vector",
   "metadata": {},
   "outputs": [
    {
     "data": {
      "text/html": [
       "<div>\n",
       "<style scoped>\n",
       "    .dataframe tbody tr th:only-of-type {\n",
       "        vertical-align: middle;\n",
       "    }\n",
       "\n",
       "    .dataframe tbody tr th {\n",
       "        vertical-align: top;\n",
       "    }\n",
       "\n",
       "    .dataframe thead th {\n",
       "        text-align: right;\n",
       "    }\n",
       "</style>\n",
       "<table border=\"1\" class=\"dataframe\">\n",
       "  <thead>\n",
       "    <tr style=\"text-align: right;\">\n",
       "      <th></th>\n",
       "      <th>MinTemp</th>\n",
       "      <th>MaxTemp</th>\n",
       "      <th>Rainfall</th>\n",
       "      <th>Evaporation</th>\n",
       "      <th>Sunshine</th>\n",
       "      <th>WindGustSpeed</th>\n",
       "      <th>WindSpeed9am</th>\n",
       "      <th>WindSpeed3pm</th>\n",
       "      <th>Humidity9am</th>\n",
       "      <th>Humidity3pm</th>\n",
       "      <th>Pressure9am</th>\n",
       "      <th>Pressure3pm</th>\n",
       "      <th>Cloud9am</th>\n",
       "      <th>Cloud3pm</th>\n",
       "      <th>Temp9am</th>\n",
       "      <th>Temp3pm</th>\n",
       "      <th>RainToday</th>\n",
       "      <th>RainTomorrow</th>\n",
       "    </tr>\n",
       "  </thead>\n",
       "  <tbody>\n",
       "    <tr>\n",
       "      <th>count</th>\n",
       "      <td>56420.000000</td>\n",
       "      <td>56420.000000</td>\n",
       "      <td>56420.000000</td>\n",
       "      <td>56420.000000</td>\n",
       "      <td>56420.000000</td>\n",
       "      <td>56420.000000</td>\n",
       "      <td>56420.000000</td>\n",
       "      <td>56420.000000</td>\n",
       "      <td>56420.000000</td>\n",
       "      <td>56420.000000</td>\n",
       "      <td>56420.000000</td>\n",
       "      <td>56420.000000</td>\n",
       "      <td>56420.000000</td>\n",
       "      <td>56420.000000</td>\n",
       "      <td>56420.000000</td>\n",
       "      <td>56420.000000</td>\n",
       "      <td>56420.000000</td>\n",
       "      <td>56420.000000</td>\n",
       "    </tr>\n",
       "    <tr>\n",
       "      <th>mean</th>\n",
       "      <td>13.464770</td>\n",
       "      <td>24.219206</td>\n",
       "      <td>2.130397</td>\n",
       "      <td>5.503135</td>\n",
       "      <td>7.735626</td>\n",
       "      <td>40.877366</td>\n",
       "      <td>15.667228</td>\n",
       "      <td>19.786778</td>\n",
       "      <td>65.874123</td>\n",
       "      <td>49.601985</td>\n",
       "      <td>1017.239505</td>\n",
       "      <td>1014.795580</td>\n",
       "      <td>4.241705</td>\n",
       "      <td>4.326515</td>\n",
       "      <td>18.204961</td>\n",
       "      <td>22.710333</td>\n",
       "      <td>0.220879</td>\n",
       "      <td>0.220259</td>\n",
       "    </tr>\n",
       "    <tr>\n",
       "      <th>std</th>\n",
       "      <td>6.416689</td>\n",
       "      <td>6.970676</td>\n",
       "      <td>7.014822</td>\n",
       "      <td>3.696282</td>\n",
       "      <td>3.758153</td>\n",
       "      <td>13.335232</td>\n",
       "      <td>8.317005</td>\n",
       "      <td>8.510180</td>\n",
       "      <td>18.513289</td>\n",
       "      <td>20.197040</td>\n",
       "      <td>6.909357</td>\n",
       "      <td>6.870892</td>\n",
       "      <td>2.797162</td>\n",
       "      <td>2.647251</td>\n",
       "      <td>6.567991</td>\n",
       "      <td>6.836543</td>\n",
       "      <td>0.414843</td>\n",
       "      <td>0.414425</td>\n",
       "    </tr>\n",
       "    <tr>\n",
       "      <th>min</th>\n",
       "      <td>-6.700000</td>\n",
       "      <td>4.100000</td>\n",
       "      <td>0.000000</td>\n",
       "      <td>0.000000</td>\n",
       "      <td>0.000000</td>\n",
       "      <td>9.000000</td>\n",
       "      <td>2.000000</td>\n",
       "      <td>2.000000</td>\n",
       "      <td>0.000000</td>\n",
       "      <td>0.000000</td>\n",
       "      <td>980.500000</td>\n",
       "      <td>977.100000</td>\n",
       "      <td>0.000000</td>\n",
       "      <td>0.000000</td>\n",
       "      <td>-0.700000</td>\n",
       "      <td>3.700000</td>\n",
       "      <td>0.000000</td>\n",
       "      <td>0.000000</td>\n",
       "    </tr>\n",
       "    <tr>\n",
       "      <th>25%</th>\n",
       "      <td>8.600000</td>\n",
       "      <td>18.700000</td>\n",
       "      <td>0.000000</td>\n",
       "      <td>2.800000</td>\n",
       "      <td>5.000000</td>\n",
       "      <td>31.000000</td>\n",
       "      <td>9.000000</td>\n",
       "      <td>13.000000</td>\n",
       "      <td>55.000000</td>\n",
       "      <td>35.000000</td>\n",
       "      <td>1012.700000</td>\n",
       "      <td>1010.100000</td>\n",
       "      <td>1.000000</td>\n",
       "      <td>2.000000</td>\n",
       "      <td>13.100000</td>\n",
       "      <td>17.400000</td>\n",
       "      <td>0.000000</td>\n",
       "      <td>0.000000</td>\n",
       "    </tr>\n",
       "    <tr>\n",
       "      <th>50%</th>\n",
       "      <td>13.200000</td>\n",
       "      <td>23.900000</td>\n",
       "      <td>0.000000</td>\n",
       "      <td>5.000000</td>\n",
       "      <td>8.600000</td>\n",
       "      <td>39.000000</td>\n",
       "      <td>15.000000</td>\n",
       "      <td>19.000000</td>\n",
       "      <td>67.000000</td>\n",
       "      <td>50.000000</td>\n",
       "      <td>1017.200000</td>\n",
       "      <td>1014.700000</td>\n",
       "      <td>5.000000</td>\n",
       "      <td>5.000000</td>\n",
       "      <td>17.800000</td>\n",
       "      <td>22.400000</td>\n",
       "      <td>0.000000</td>\n",
       "      <td>0.000000</td>\n",
       "    </tr>\n",
       "    <tr>\n",
       "      <th>75%</th>\n",
       "      <td>18.400000</td>\n",
       "      <td>29.700000</td>\n",
       "      <td>0.600000</td>\n",
       "      <td>7.400000</td>\n",
       "      <td>10.700000</td>\n",
       "      <td>48.000000</td>\n",
       "      <td>20.000000</td>\n",
       "      <td>26.000000</td>\n",
       "      <td>79.000000</td>\n",
       "      <td>63.000000</td>\n",
       "      <td>1021.800000</td>\n",
       "      <td>1019.400000</td>\n",
       "      <td>7.000000</td>\n",
       "      <td>7.000000</td>\n",
       "      <td>23.300000</td>\n",
       "      <td>27.900000</td>\n",
       "      <td>0.000000</td>\n",
       "      <td>0.000000</td>\n",
       "    </tr>\n",
       "    <tr>\n",
       "      <th>max</th>\n",
       "      <td>31.400000</td>\n",
       "      <td>48.100000</td>\n",
       "      <td>206.200000</td>\n",
       "      <td>81.200000</td>\n",
       "      <td>14.500000</td>\n",
       "      <td>124.000000</td>\n",
       "      <td>67.000000</td>\n",
       "      <td>76.000000</td>\n",
       "      <td>100.000000</td>\n",
       "      <td>100.000000</td>\n",
       "      <td>1040.400000</td>\n",
       "      <td>1038.900000</td>\n",
       "      <td>8.000000</td>\n",
       "      <td>9.000000</td>\n",
       "      <td>39.400000</td>\n",
       "      <td>46.100000</td>\n",
       "      <td>1.000000</td>\n",
       "      <td>1.000000</td>\n",
       "    </tr>\n",
       "  </tbody>\n",
       "</table>\n",
       "</div>"
      ],
      "text/plain": [
       "            MinTemp       MaxTemp      Rainfall   Evaporation      Sunshine  \\\n",
       "count  56420.000000  56420.000000  56420.000000  56420.000000  56420.000000   \n",
       "mean      13.464770     24.219206      2.130397      5.503135      7.735626   \n",
       "std        6.416689      6.970676      7.014822      3.696282      3.758153   \n",
       "min       -6.700000      4.100000      0.000000      0.000000      0.000000   \n",
       "25%        8.600000     18.700000      0.000000      2.800000      5.000000   \n",
       "50%       13.200000     23.900000      0.000000      5.000000      8.600000   \n",
       "75%       18.400000     29.700000      0.600000      7.400000     10.700000   \n",
       "max       31.400000     48.100000    206.200000     81.200000     14.500000   \n",
       "\n",
       "       WindGustSpeed  WindSpeed9am  WindSpeed3pm   Humidity9am   Humidity3pm  \\\n",
       "count   56420.000000  56420.000000  56420.000000  56420.000000  56420.000000   \n",
       "mean       40.877366     15.667228     19.786778     65.874123     49.601985   \n",
       "std        13.335232      8.317005      8.510180     18.513289     20.197040   \n",
       "min         9.000000      2.000000      2.000000      0.000000      0.000000   \n",
       "25%        31.000000      9.000000     13.000000     55.000000     35.000000   \n",
       "50%        39.000000     15.000000     19.000000     67.000000     50.000000   \n",
       "75%        48.000000     20.000000     26.000000     79.000000     63.000000   \n",
       "max       124.000000     67.000000     76.000000    100.000000    100.000000   \n",
       "\n",
       "        Pressure9am   Pressure3pm      Cloud9am      Cloud3pm       Temp9am  \\\n",
       "count  56420.000000  56420.000000  56420.000000  56420.000000  56420.000000   \n",
       "mean    1017.239505   1014.795580      4.241705      4.326515     18.204961   \n",
       "std        6.909357      6.870892      2.797162      2.647251      6.567991   \n",
       "min      980.500000    977.100000      0.000000      0.000000     -0.700000   \n",
       "25%     1012.700000   1010.100000      1.000000      2.000000     13.100000   \n",
       "50%     1017.200000   1014.700000      5.000000      5.000000     17.800000   \n",
       "75%     1021.800000   1019.400000      7.000000      7.000000     23.300000   \n",
       "max     1040.400000   1038.900000      8.000000      9.000000     39.400000   \n",
       "\n",
       "            Temp3pm     RainToday  RainTomorrow  \n",
       "count  56420.000000  56420.000000  56420.000000  \n",
       "mean      22.710333      0.220879      0.220259  \n",
       "std        6.836543      0.414843      0.414425  \n",
       "min        3.700000      0.000000      0.000000  \n",
       "25%       17.400000      0.000000      0.000000  \n",
       "50%       22.400000      0.000000      0.000000  \n",
       "75%       27.900000      0.000000      0.000000  \n",
       "max       46.100000      1.000000      1.000000  "
      ]
     },
     "execution_count": 2,
     "metadata": {},
     "output_type": "execute_result"
    }
   ],
   "source": [
    "data = pd.read_csv(\"australia.csv\")\n",
    "data.describe()"
   ]
  },
  {
   "cell_type": "markdown",
   "id": "featured-boundary",
   "metadata": {},
   "source": [
    "W zbiorze mamy dwie kolumny, reprezentujące ciśnienie atomsferyczne, których wartości znacznie odstają od pozostałch kolumn. Dodatkowo, zmienna RainToday jest zmienną przyjmującą tylko wartości 0 i 1."
   ]
  },
  {
   "cell_type": "markdown",
   "id": "registered-selling",
   "metadata": {},
   "source": [
    "## Przygotowanie danych"
   ]
  },
  {
   "cell_type": "code",
   "execution_count": 3,
   "id": "seventh-consumer",
   "metadata": {},
   "outputs": [
    {
     "name": "stdout",
     "output_type": "stream",
     "text": [
      "Train size: 45136\n",
      "Test size: 11284\n"
     ]
    }
   ],
   "source": [
    "x_train, x_test, y_train, y_test = train_test_split(\n",
    "    data.iloc[:,:-1], data['RainTomorrow'], stratify=data['RainTomorrow'], test_size=0.2, random_state=7\n",
    ")\n",
    "\n",
    "print(\"Train size: \"+str(len(x_train)))\n",
    "print(\"Test size: \"+str(len(x_test)))"
   ]
  },
  {
   "cell_type": "markdown",
   "id": "incoming-temple",
   "metadata": {},
   "source": [
    "Dzielimy zbiór danych na dwa zestawy - trenujący i testujący, w proporcjach 4:1. Dodatkowo rozdzielamy zmienną targetowaną od pozostałych danych, aby można było przeprowadzić trening i ewaluację modeli."
   ]
  },
  {
   "cell_type": "markdown",
   "id": "imported-europe",
   "metadata": {},
   "source": [
    "## Przygotowanie ewaluacji modeli"
   ]
  },
  {
   "cell_type": "code",
   "execution_count": 4,
   "id": "cooked-junior",
   "metadata": {},
   "outputs": [],
   "source": [
    "results = pd.DataFrame({'Label': [], 'Sublabel': [], 'Accuracy': [], 'Recall': [], 'Precision': []})\n",
    "def evaluateResult(y_pred, label, sublabel=\"\", display=True):\n",
    "    acc = accuracy_score(y_test,y_pred)\n",
    "    rec = recall_score(y_test,y_pred)\n",
    "    prec = precision_score(y_test,y_pred)\n",
    "    \n",
    "    results.loc[label+(\" - \"+sublabel if sublabel!=\"\" else \"\")] = [label, sublabel, acc, rec, prec]\n",
    "    \n",
    "    if(display):\n",
    "        print(\"Accuracy: \"+str(acc))\n",
    "        print(\"Recall: \"+str(rec))\n",
    "        print(\"Precision: \"+str(prec))"
   ]
  },
  {
   "cell_type": "markdown",
   "id": "personalized-devices",
   "metadata": {},
   "source": [
    "Do ewaluacji modeli będziemy używać trzech miar:  \n",
    "  `accuracy`, które mówi o ogólnej jakości modelu  \n",
    "  `recall`, który mówi o tym jaką część dni deszczowych udało się wykryć jako takie  \n",
    "  `precision`, które mówi o tym jaka część dni wykrytych jako deszczowe naprawdę takie było\n",
    "  \n",
    "Będziemy zapisywać wyniki ewaluacji, aby można było z nich później utworzyć wykres."
   ]
  },
  {
   "cell_type": "code",
   "execution_count": 5,
   "id": "great-festival",
   "metadata": {},
   "outputs": [],
   "source": [
    "def displayResults(label):\n",
    "    # Prepare data for display as a table\n",
    "    displayData = pd.DataFrame({'Accuracy': [], 'Recall': [], 'Precision': []})\n",
    "    \n",
    "    # Copy baseline for display\n",
    "    displayData.loc['Baseline'] = results.loc['Baseline'][['Accuracy', 'Recall', 'Precision']]\n",
    "    \n",
    "    # Add all rows matching label\n",
    "    matchLabel = results[results.Label == label]\n",
    "    displayData = displayData.append(matchLabel[['Accuracy', 'Recall', 'Precision']].set_axis(matchLabel.Sublabel.values))\n",
    "    \n",
    "    \n",
    "    # Create a barplot for scores\n",
    "    plotData = displayData.copy()\n",
    "    plotData[\"\"] = plotData.index # Add indexes back before melting\n",
    "    plotData = plotData.melt('', var_name=\"Score\", value_name=\"Value\") # Transform each score into separate row\n",
    "    \n",
    "    # Display results\n",
    "    sns.catplot(x=\"\", y=\"Value\", hue=\"Score\", data=plotData, kind=\"bar\", height=6, aspect=1.7)\n",
    "    plt.show()\n",
    "    display(displayData.T)"
   ]
  },
  {
   "cell_type": "markdown",
   "id": "unavailable-regression",
   "metadata": {},
   "source": [
    "Przygotujemy sobie także funkcję do wyświetlania wyników jakości modeli w postaci grafu i tabelki, co pomoże nam w analizowaniu jakości modelu i doboru hiperparametru."
   ]
  },
  {
   "cell_type": "markdown",
   "id": "swiss-pilot",
   "metadata": {},
   "source": [
    "## Baseline"
   ]
  },
  {
   "cell_type": "code",
   "execution_count": 6,
   "id": "polish-preparation",
   "metadata": {},
   "outputs": [
    {
     "name": "stdout",
     "output_type": "stream",
     "text": [
      "Accuracy: 0.8518255937610776\n",
      "Recall: 0.5138832997987928\n",
      "Precision: 0.7334865020103389\n"
     ]
    }
   ],
   "source": [
    "baseline = LogisticRegression(max_iter=1200)\n",
    "baseline.fit(x_train,y_train)\n",
    "\n",
    "y_pred = baseline.predict(x_test)\n",
    "evaluateResult(y_pred, \"Baseline\")"
   ]
  },
  {
   "cell_type": "markdown",
   "id": "severe-driver",
   "metadata": {},
   "source": [
    "Jako baseline do porównywania jakości modeli użyjemy prostej regresji logistycznej. Model ten trenuje się bardzo szybko, więc będzie dobrym wyznacznikiem czy pozostałe modele są warte trenowania."
   ]
  },
  {
   "cell_type": "markdown",
   "id": "metric-significance",
   "metadata": {},
   "source": [
    "## Drzewo decyzyjne"
   ]
  },
  {
   "cell_type": "code",
   "execution_count": 66,
   "id": "understood-watershed",
   "metadata": {
    "scrolled": false
   },
   "outputs": [
    {
     "data": {
      "image/png": "[encoded data removed]",
      "text/plain": [
       "<Figure size 816.15x432 with 1 Axes>"
      ]
     },
     "metadata": {
      "needs_background": "light"
     },
     "output_type": "display_data"
    },
    {
     "data": {
      "text/html": [
       "<div>\n",
       "<style scoped>\n",
       "    .dataframe tbody tr th:only-of-type {\n",
       "        vertical-align: middle;\n",
       "    }\n",
       "\n",
       "    .dataframe tbody tr th {\n",
       "        vertical-align: top;\n",
       "    }\n",
       "\n",
       "    .dataframe thead th {\n",
       "        text-align: right;\n",
       "    }\n",
       "</style>\n",
       "<table border=\"1\" class=\"dataframe\">\n",
       "  <thead>\n",
       "    <tr style=\"text-align: right;\">\n",
       "      <th></th>\n",
       "      <th>Baseline</th>\n",
       "      <th>Depth 4</th>\n",
       "      <th>Depth 6</th>\n",
       "      <th>Depth 8</th>\n",
       "      <th>Depth 10</th>\n",
       "      <th>Depth 12</th>\n",
       "      <th>Depth 14</th>\n",
       "      <th>Depth 16</th>\n",
       "    </tr>\n",
       "  </thead>\n",
       "  <tbody>\n",
       "    <tr>\n",
       "      <th>Accuracy</th>\n",
       "      <td>0.851826</td>\n",
       "      <td>0.835165</td>\n",
       "      <td>0.843229</td>\n",
       "      <td>0.844470</td>\n",
       "      <td>0.838355</td>\n",
       "      <td>0.832329</td>\n",
       "      <td>0.823024</td>\n",
       "      <td>0.811237</td>\n",
       "    </tr>\n",
       "    <tr>\n",
       "      <th>Recall</th>\n",
       "      <td>0.513883</td>\n",
       "      <td>0.358149</td>\n",
       "      <td>0.487726</td>\n",
       "      <td>0.500604</td>\n",
       "      <td>0.505030</td>\n",
       "      <td>0.529577</td>\n",
       "      <td>0.529980</td>\n",
       "      <td>0.547686</td>\n",
       "    </tr>\n",
       "    <tr>\n",
       "      <th>Precision</th>\n",
       "      <td>0.733487</td>\n",
       "      <td>0.770563</td>\n",
       "      <td>0.709602</td>\n",
       "      <td>0.707622</td>\n",
       "      <td>0.678745</td>\n",
       "      <td>0.645414</td>\n",
       "      <td>0.613700</td>\n",
       "      <td>0.574989</td>\n",
       "    </tr>\n",
       "  </tbody>\n",
       "</table>\n",
       "</div>"
      ],
      "text/plain": [
       "           Baseline   Depth 4   Depth 6   Depth 8  Depth 10  Depth 12  \\\n",
       "Accuracy   0.851826  0.835165  0.843229  0.844470  0.838355  0.832329   \n",
       "Recall     0.513883  0.358149  0.487726  0.500604  0.505030  0.529577   \n",
       "Precision  0.733487  0.770563  0.709602  0.707622  0.678745  0.645414   \n",
       "\n",
       "           Depth 14  Depth 16  \n",
       "Accuracy   0.823024  0.811237  \n",
       "Recall     0.529980  0.547686  \n",
       "Precision  0.613700  0.574989  "
      ]
     },
     "metadata": {},
     "output_type": "display_data"
    }
   ],
   "source": [
    "results = results[results.Label != \"Decision Tree\"]\n",
    "for i in range(4, 18, 2):\n",
    "    model = DecisionTreeClassifier(max_depth = i, random_state=1)\n",
    "    model.fit(x_train,y_train)\n",
    "    y_pred = model.predict(x_test)\n",
    "    evaluateResult(y_pred, \"Decision Tree\", \"Depth \"+str(i), False)\n",
    "displayResults(\"Decision Tree\")"
   ]
  },
  {
   "cell_type": "markdown",
   "id": "placed-chair",
   "metadata": {},
   "source": [
    "W drzewie decyzyjnym hiperparametrem na którym się skupimy jest głębokość drzewa. Jak widać, zarówno dla `accuracy` i `precision` ten model jest gorszy niż nasz baseline. Widać także że już po głębokości 8 dochodzi do overfittingu, i obie te miary spadają. Warto zauważyć że pomimo tego wartość `recall` wciąż rośnie. "
   ]
  },
  {
   "cell_type": "markdown",
   "id": "recreational-belle",
   "metadata": {},
   "source": [
    "## Sąsiedzi"
   ]
  },
  {
   "cell_type": "code",
   "execution_count": 8,
   "id": "green-techno",
   "metadata": {},
   "outputs": [
    {
     "data": {
      "image/png": "[encoded data removed]",
      "text/plain": [
       "<Figure size 816.15x432 with 1 Axes>"
      ]
     },
     "metadata": {
      "needs_background": "light"
     },
     "output_type": "display_data"
    },
    {
     "data": {
      "text/html": [
       "<div>\n",
       "<style scoped>\n",
       "    .dataframe tbody tr th:only-of-type {\n",
       "        vertical-align: middle;\n",
       "    }\n",
       "\n",
       "    .dataframe tbody tr th {\n",
       "        vertical-align: top;\n",
       "    }\n",
       "\n",
       "    .dataframe thead th {\n",
       "        text-align: right;\n",
       "    }\n",
       "</style>\n",
       "<table border=\"1\" class=\"dataframe\">\n",
       "  <thead>\n",
       "    <tr style=\"text-align: right;\">\n",
       "      <th></th>\n",
       "      <th>Baseline</th>\n",
       "      <th>Neighbors 3</th>\n",
       "      <th>Neighbors 4</th>\n",
       "      <th>Neighbors 5</th>\n",
       "      <th>Neighbors 6</th>\n",
       "      <th>Neighbors 7</th>\n",
       "      <th>Neighbors 8</th>\n",
       "      <th>Neighbors 9</th>\n",
       "      <th>Neighbors 10</th>\n",
       "    </tr>\n",
       "  </thead>\n",
       "  <tbody>\n",
       "    <tr>\n",
       "      <th>Accuracy</th>\n",
       "      <td>0.851826</td>\n",
       "      <td>0.834367</td>\n",
       "      <td>0.840128</td>\n",
       "      <td>0.842343</td>\n",
       "      <td>0.844470</td>\n",
       "      <td>0.846686</td>\n",
       "      <td>0.846597</td>\n",
       "      <td>0.846774</td>\n",
       "      <td>0.847040</td>\n",
       "    </tr>\n",
       "    <tr>\n",
       "      <th>Recall</th>\n",
       "      <td>0.513883</td>\n",
       "      <td>0.537626</td>\n",
       "      <td>0.426157</td>\n",
       "      <td>0.522334</td>\n",
       "      <td>0.447887</td>\n",
       "      <td>0.519517</td>\n",
       "      <td>0.459155</td>\n",
       "      <td>0.510262</td>\n",
       "      <td>0.460765</td>\n",
       "    </tr>\n",
       "    <tr>\n",
       "      <th>Precision</th>\n",
       "      <td>0.733487</td>\n",
       "      <td>0.649805</td>\n",
       "      <td>0.736952</td>\n",
       "      <td>0.686772</td>\n",
       "      <td>0.743984</td>\n",
       "      <td>0.706623</td>\n",
       "      <td>0.746728</td>\n",
       "      <td>0.712360</td>\n",
       "      <td>0.747877</td>\n",
       "    </tr>\n",
       "  </tbody>\n",
       "</table>\n",
       "</div>"
      ],
      "text/plain": [
       "           Baseline  Neighbors 3  Neighbors 4  Neighbors 5  Neighbors 6  \\\n",
       "Accuracy   0.851826     0.834367     0.840128     0.842343     0.844470   \n",
       "Recall     0.513883     0.537626     0.426157     0.522334     0.447887   \n",
       "Precision  0.733487     0.649805     0.736952     0.686772     0.743984   \n",
       "\n",
       "           Neighbors 7  Neighbors 8  Neighbors 9  Neighbors 10  \n",
       "Accuracy      0.846686     0.846597     0.846774      0.847040  \n",
       "Recall        0.519517     0.459155     0.510262      0.460765  \n",
       "Precision     0.706623     0.746728     0.712360      0.747877  "
      ]
     },
     "metadata": {},
     "output_type": "display_data"
    }
   ],
   "source": [
    "results = results[results.Label != \"Neighbors\"]\n",
    "for i in range(3, 11):\n",
    "    model = KNeighborsClassifier(n_neighbors=i)\n",
    "    model.fit(x_train,y_train)\n",
    "    y_pred = model.predict(x_test)\n",
    "    evaluateResult(y_pred, \"Neighbors\", \"Neighbors \"+str(i), False)\n",
    "displayResults(\"Neighbors\")"
   ]
  },
  {
   "cell_type": "markdown",
   "id": "wicked-welding",
   "metadata": {},
   "source": [
    "Dla modelu sąsiadów hiperparametrem na którym się skupimy jest liczba sąsiądów uwzględnianych przy ewaluacji. Widać tutaj dosyć interesującą zależność - `recall` jest większy dla `n` nieparzystych, a `precision` dla `n` parzystych. Dla `n` równego 10 otrzymujemy `accuracy` prawie równe wartości dla baseline, niższy `recall` i wyższe `precision`. Różnica jakości jest minimalna, więc to czy ten model jest lepszy niż baseline zależy od planowanego zastosowania modelu."
   ]
  },
  {
   "cell_type": "markdown",
   "id": "oriented-powell",
   "metadata": {},
   "source": [
    "## Boosted trees"
   ]
  },
  {
   "cell_type": "code",
   "execution_count": 56,
   "id": "respected-sessions",
   "metadata": {},
   "outputs": [],
   "source": [
    "# Disable logging messages\n",
    "import os\n",
    "os.environ['TF_CPP_MIN_LOG_LEVEL'] = '3' \n",
    "tf.get_logger().setLevel('ERROR')\n",
    "tf.compat.v1.logging.set_verbosity(tf.compat.v1.logging.ERROR)\n",
    "\n",
    "# Transforms datasets into functions for tensorflow\n",
    "def make_input_fn(x, y, n_epochs=None, shuffle=True):\n",
    "  def input_fn():\n",
    "    dataset = tf.data.Dataset.from_tensor_slices((x.to_dict(orient='list'), y))\n",
    "    if shuffle:\n",
    "      dataset = dataset.shuffle(9834)\n",
    "    # For training, cycle thru dataset as many times as need (n_epochs=None).\n",
    "    dataset = (dataset\n",
    "      .repeat(n_epochs)\n",
    "      .batch(9834))\n",
    "    return dataset\n",
    "  return input_fn\n",
    "\n",
    "# Create list of features\n",
    "feature_columns = []\n",
    "for feature_name in x_train.columns:\n",
    "    feature_columns.append(tf.feature_column.numeric_column(feature_name, dtype=tf.float32))\n",
    "\n",
    "# Transform datasets into functions for tensorflow\n",
    "train_input_fn = make_input_fn(x_train, tonpyarray(y_train))\n",
    "eval_input_fn = make_input_fn(x_test, y_test, shuffle=False, n_epochs=1)"
   ]
  },
  {
   "cell_type": "markdown",
   "id": "significant-retreat",
   "metadata": {},
   "source": [
    "*Kod stworzony na bazie [tej części dokumentacji](https://www.tensorflow.org/tutorials/estimator/boosted_trees_model_understanding).*"
   ]
  },
  {
   "cell_type": "code",
   "execution_count": 57,
   "id": "manual-theology",
   "metadata": {},
   "outputs": [
    {
     "data": {
      "image/png": "[encoded data removed]",
      "text/plain": [
       "<Figure size 816.15x432 with 1 Axes>"
      ]
     },
     "metadata": {
      "needs_background": "light"
     },
     "output_type": "display_data"
    },
    {
     "data": {
      "text/html": [
       "<div>\n",
       "<style scoped>\n",
       "    .dataframe tbody tr th:only-of-type {\n",
       "        vertical-align: middle;\n",
       "    }\n",
       "\n",
       "    .dataframe tbody tr th {\n",
       "        vertical-align: top;\n",
       "    }\n",
       "\n",
       "    .dataframe thead th {\n",
       "        text-align: right;\n",
       "    }\n",
       "</style>\n",
       "<table border=\"1\" class=\"dataframe\">\n",
       "  <thead>\n",
       "    <tr style=\"text-align: right;\">\n",
       "      <th></th>\n",
       "      <th>Baseline</th>\n",
       "      <th>Trees 10</th>\n",
       "      <th>Trees 20</th>\n",
       "      <th>Trees 30</th>\n",
       "      <th>Trees 40</th>\n",
       "      <th>Trees 50</th>\n",
       "    </tr>\n",
       "  </thead>\n",
       "  <tbody>\n",
       "    <tr>\n",
       "      <th>Accuracy</th>\n",
       "      <td>0.851826</td>\n",
       "      <td>0.848635</td>\n",
       "      <td>0.854396</td>\n",
       "      <td>0.853952</td>\n",
       "      <td>0.854041</td>\n",
       "      <td>0.852712</td>\n",
       "    </tr>\n",
       "    <tr>\n",
       "      <th>Recall</th>\n",
       "      <td>0.513883</td>\n",
       "      <td>0.512274</td>\n",
       "      <td>0.531992</td>\n",
       "      <td>0.536016</td>\n",
       "      <td>0.541247</td>\n",
       "      <td>0.537223</td>\n",
       "    </tr>\n",
       "    <tr>\n",
       "      <th>Precision</th>\n",
       "      <td>0.733487</td>\n",
       "      <td>0.719616</td>\n",
       "      <td>0.733629</td>\n",
       "      <td>0.729064</td>\n",
       "      <td>0.726242</td>\n",
       "      <td>0.722794</td>\n",
       "    </tr>\n",
       "  </tbody>\n",
       "</table>\n",
       "</div>"
      ],
      "text/plain": [
       "           Baseline  Trees 10  Trees 20  Trees 30  Trees 40  Trees 50\n",
       "Accuracy   0.851826  0.848635  0.854396  0.853952  0.854041  0.852712\n",
       "Recall     0.513883  0.512274  0.531992  0.536016  0.541247  0.537223\n",
       "Precision  0.733487  0.719616  0.733629  0.729064  0.726242  0.722794"
      ]
     },
     "metadata": {},
     "output_type": "display_data"
    }
   ],
   "source": [
    "results = results[results.Label != \"Boosted Trees\"]\n",
    "for i in range(10, 51, 10):\n",
    "    params = {\n",
    "      'n_trees': i,\n",
    "      'max_depth': 6,\n",
    "      'n_batches_per_layer': 1,\n",
    "      'center_bias': True\n",
    "    }\n",
    "    model = tf.estimator.BoostedTreesClassifier(feature_columns, **params)\n",
    "    model.train(train_input_fn, max_steps=800)\n",
    "    y_pred = model.predict(eval_input_fn)\n",
    "    y_pred = tonpyarray([item['classes'][0] for item in y_pred]) # Transform output into normal array\n",
    "    evaluateResult(y_pred, \"Boosted Trees\", \"Trees \"+str(i), False)\n",
    "displayResults(\"Boosted Trees\")"
   ]
  },
  {
   "cell_type": "markdown",
   "id": "fresh-plate",
   "metadata": {},
   "source": [
    "Dla boosted trees interesującym nas hiperparametrem jest ilość drzew wykorzystanych w lasie. Widzimy że dla tego modelu, jeżeli ilość drzew jest większa niż 10, to jakość modelu jest większa niż nasz baseline. Szczególną uwagę należy zwrócić na wartości dla 20 drzew, ponieważ ten model przewyższył baseline w każdej z obranych przez nas miar."
   ]
  },
  {
   "cell_type": "markdown",
   "id": "crude-carbon",
   "metadata": {},
   "source": [
    "## Podsumowanie"
   ]
  },
  {
   "cell_type": "code",
   "execution_count": 67,
   "id": "indirect-cartoon",
   "metadata": {},
   "outputs": [
    {
     "data": {
      "image/png": "[encoded data removed]",
      "text/plain": [
       "<Figure size 816.15x432 with 1 Axes>"
      ]
     },
     "metadata": {
      "needs_background": "light"
     },
     "output_type": "display_data"
    },
    {
     "data": {
      "text/html": [
       "<div>\n",
       "<style scoped>\n",
       "    .dataframe tbody tr th:only-of-type {\n",
       "        vertical-align: middle;\n",
       "    }\n",
       "\n",
       "    .dataframe tbody tr th {\n",
       "        vertical-align: top;\n",
       "    }\n",
       "\n",
       "    .dataframe thead th {\n",
       "        text-align: right;\n",
       "    }\n",
       "</style>\n",
       "<table border=\"1\" class=\"dataframe\">\n",
       "  <thead>\n",
       "    <tr style=\"text-align: right;\">\n",
       "      <th></th>\n",
       "      <th>Boosted Trees</th>\n",
       "      <th>Logistic Regression</th>\n",
       "      <th>Neighbors</th>\n",
       "      <th>Decision Tree</th>\n",
       "    </tr>\n",
       "  </thead>\n",
       "  <tbody>\n",
       "    <tr>\n",
       "      <th>Accuracy</th>\n",
       "      <td>0.854396</td>\n",
       "      <td>0.851826</td>\n",
       "      <td>0.847040</td>\n",
       "      <td>0.844470</td>\n",
       "    </tr>\n",
       "    <tr>\n",
       "      <th>Recall</th>\n",
       "      <td>0.531992</td>\n",
       "      <td>0.513883</td>\n",
       "      <td>0.460765</td>\n",
       "      <td>0.500604</td>\n",
       "    </tr>\n",
       "    <tr>\n",
       "      <th>Precision</th>\n",
       "      <td>0.733629</td>\n",
       "      <td>0.733487</td>\n",
       "      <td>0.747877</td>\n",
       "      <td>0.707622</td>\n",
       "    </tr>\n",
       "  </tbody>\n",
       "</table>\n",
       "</div>"
      ],
      "text/plain": [
       "           Boosted Trees  Logistic Regression  Neighbors  Decision Tree\n",
       "Accuracy        0.854396             0.851826   0.847040       0.844470\n",
       "Recall          0.531992             0.513883   0.460765       0.500604\n",
       "Precision       0.733629             0.733487   0.747877       0.707622"
      ]
     },
     "metadata": {},
     "output_type": "display_data"
    }
   ],
   "source": [
    "# Create a table of best results\n",
    "bestResults = results.sort_values('Accuracy', ascending=False).drop_duplicates(['Label'])\n",
    "bestResults.loc['Baseline','Label'] = \"Logistic Regression\"\n",
    "bestResults = bestResults.set_axis(bestResults.Label.values)[['Accuracy', 'Recall', 'Precision']]\n",
    "\n",
    "# Create a barplot for scores\n",
    "plotData = bestResults.copy()\n",
    "plotData[\"\"] = plotData.index # Add indexes back before melting\n",
    "plotData = plotData.melt('', var_name=\"Score\", value_name=\"Value\") # Transform each score into separate row\n",
    "\n",
    "# Display results\n",
    "sns.catplot(x=\"\", y=\"Value\", hue=\"Score\", data=plotData, kind=\"bar\", height=6, aspect=1.7)\n",
    "plt.show()\n",
    "display(bestResults.T)"
   ]
  },
  {
   "cell_type": "markdown",
   "id": "greater-screw",
   "metadata": {},
   "source": [
    "Z porównywanych modeli na niemodyfikowanym zbiorze danych najlepiej radzi sobie boosted trees zarówno pod względem `accuracy` jak i `recall`. Największe `precision` ma model sąsiadów, jednak z powodu dużej różnicy dla pozostałych miar, boosted trees wydają się lepszym rozwiązaniem. Jeżeli jednak zależałoby nam na szybkości treningu to zdecydowanym zwycięzcą jest regresja. Różnica w jakości pomiędzy tym modelem a boosted trees nie jest duża, a czas treningu jest około 100 razy krótszy.\n",
    "\n",
    "Jeżeli chcielibyśmy uzyskać większą dokładność na tym zbiorze danych, to należałoby przeprowadzić eksplorację danych i odpowiednio go zmodyfikować. Bez preprocessingu danych uzyskanie lepszych wyników jest bardzo trudne dla wszystkich z analizowanych modeli."
   ]
  }
 ],
 "metadata": {
  "kernelspec": {
   "display_name": "tensorflow",
   "language": "python",
   "name": "tensorflow"
  },
  "language_info": {
   "codemirror_mode": {
    "name": "ipython",
    "version": 3
   },
   "file_extension": ".py",
   "mimetype": "text/x-python",
   "name": "python",
   "nbconvert_exporter": "python",
   "pygments_lexer": "ipython3",
   "version": "3.8.8"
  }
 },
 "nbformat": 4,
 "nbformat_minor": 5
}
