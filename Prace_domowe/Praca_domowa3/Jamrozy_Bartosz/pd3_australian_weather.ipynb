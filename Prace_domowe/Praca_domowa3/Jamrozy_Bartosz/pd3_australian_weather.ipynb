{
 "cells": [
  {
   "cell_type": "markdown",
   "id": "electoral-curtis",
   "metadata": {},
   "source": [
    "# Praca domowa nr 3, Bartosz Jamrozy"
   ]
  },
  {
   "cell_type": "code",
   "execution_count": 11,
   "id": "consistent-custom",
   "metadata": {},
   "outputs": [],
   "source": [
    "import pandas as pd\n",
    "import numpy as np\n",
    "import seaborn as sns\n",
    "import matplotlib.pyplot as plt\n",
    "import matplotlib\n",
    "\n",
    "import warnings\n",
    "warnings.filterwarnings('ignore')\n",
    "\n",
    "from IPython.display import display\n",
    "pd.options.display.max_columns = None # display all columns\n",
    "\n",
    "from sklearn import datasets, metrics\n",
    "from sklearn.metrics import roc_auc_score\n",
    "from sklearn.metrics import accuracy_score\n",
    "from sklearn.metrics import precision_score\n",
    "from sklearn.metrics import recall_score\n",
    "from sklearn.metrics import f1_score"
   ]
  },
  {
   "cell_type": "code",
   "execution_count": 4,
   "id": "addressed-disco",
   "metadata": {},
   "outputs": [
    {
     "data": {
      "text/html": [
       "<div>\n",
       "<style scoped>\n",
       "    .dataframe tbody tr th:only-of-type {\n",
       "        vertical-align: middle;\n",
       "    }\n",
       "\n",
       "    .dataframe tbody tr th {\n",
       "        vertical-align: top;\n",
       "    }\n",
       "\n",
       "    .dataframe thead th {\n",
       "        text-align: right;\n",
       "    }\n",
       "</style>\n",
       "<table border=\"1\" class=\"dataframe\">\n",
       "  <thead>\n",
       "    <tr style=\"text-align: right;\">\n",
       "      <th></th>\n",
       "      <th>MinTemp</th>\n",
       "      <th>MaxTemp</th>\n",
       "      <th>Rainfall</th>\n",
       "      <th>Evaporation</th>\n",
       "      <th>Sunshine</th>\n",
       "      <th>WindGustSpeed</th>\n",
       "      <th>WindSpeed9am</th>\n",
       "      <th>WindSpeed3pm</th>\n",
       "      <th>Humidity9am</th>\n",
       "      <th>Humidity3pm</th>\n",
       "      <th>Pressure9am</th>\n",
       "      <th>Pressure3pm</th>\n",
       "      <th>Cloud9am</th>\n",
       "      <th>Cloud3pm</th>\n",
       "      <th>Temp9am</th>\n",
       "      <th>Temp3pm</th>\n",
       "      <th>RainToday</th>\n",
       "      <th>RainTomorrow</th>\n",
       "    </tr>\n",
       "  </thead>\n",
       "  <tbody>\n",
       "    <tr>\n",
       "      <th>0</th>\n",
       "      <td>17.9</td>\n",
       "      <td>35.2</td>\n",
       "      <td>0.0</td>\n",
       "      <td>12.0</td>\n",
       "      <td>12.3</td>\n",
       "      <td>48.0</td>\n",
       "      <td>6.0</td>\n",
       "      <td>20.0</td>\n",
       "      <td>20.0</td>\n",
       "      <td>13.0</td>\n",
       "      <td>1006.3</td>\n",
       "      <td>1004.4</td>\n",
       "      <td>2.0</td>\n",
       "      <td>5.0</td>\n",
       "      <td>26.6</td>\n",
       "      <td>33.4</td>\n",
       "      <td>0</td>\n",
       "      <td>0</td>\n",
       "    </tr>\n",
       "    <tr>\n",
       "      <th>1</th>\n",
       "      <td>18.4</td>\n",
       "      <td>28.9</td>\n",
       "      <td>0.0</td>\n",
       "      <td>14.8</td>\n",
       "      <td>13.0</td>\n",
       "      <td>37.0</td>\n",
       "      <td>19.0</td>\n",
       "      <td>19.0</td>\n",
       "      <td>30.0</td>\n",
       "      <td>8.0</td>\n",
       "      <td>1012.9</td>\n",
       "      <td>1012.1</td>\n",
       "      <td>1.0</td>\n",
       "      <td>1.0</td>\n",
       "      <td>20.3</td>\n",
       "      <td>27.0</td>\n",
       "      <td>0</td>\n",
       "      <td>0</td>\n",
       "    </tr>\n",
       "    <tr>\n",
       "      <th>2</th>\n",
       "      <td>19.4</td>\n",
       "      <td>37.6</td>\n",
       "      <td>0.0</td>\n",
       "      <td>10.8</td>\n",
       "      <td>10.6</td>\n",
       "      <td>46.0</td>\n",
       "      <td>30.0</td>\n",
       "      <td>15.0</td>\n",
       "      <td>42.0</td>\n",
       "      <td>22.0</td>\n",
       "      <td>1012.3</td>\n",
       "      <td>1009.2</td>\n",
       "      <td>1.0</td>\n",
       "      <td>6.0</td>\n",
       "      <td>28.7</td>\n",
       "      <td>34.9</td>\n",
       "      <td>0</td>\n",
       "      <td>0</td>\n",
       "    </tr>\n",
       "    <tr>\n",
       "      <th>3</th>\n",
       "      <td>21.9</td>\n",
       "      <td>38.4</td>\n",
       "      <td>0.0</td>\n",
       "      <td>11.4</td>\n",
       "      <td>12.2</td>\n",
       "      <td>31.0</td>\n",
       "      <td>6.0</td>\n",
       "      <td>6.0</td>\n",
       "      <td>37.0</td>\n",
       "      <td>22.0</td>\n",
       "      <td>1012.7</td>\n",
       "      <td>1009.1</td>\n",
       "      <td>1.0</td>\n",
       "      <td>5.0</td>\n",
       "      <td>29.1</td>\n",
       "      <td>35.6</td>\n",
       "      <td>0</td>\n",
       "      <td>0</td>\n",
       "    </tr>\n",
       "    <tr>\n",
       "      <th>4</th>\n",
       "      <td>24.2</td>\n",
       "      <td>41.0</td>\n",
       "      <td>0.0</td>\n",
       "      <td>11.2</td>\n",
       "      <td>8.4</td>\n",
       "      <td>35.0</td>\n",
       "      <td>17.0</td>\n",
       "      <td>13.0</td>\n",
       "      <td>19.0</td>\n",
       "      <td>15.0</td>\n",
       "      <td>1010.7</td>\n",
       "      <td>1007.4</td>\n",
       "      <td>1.0</td>\n",
       "      <td>6.0</td>\n",
       "      <td>33.6</td>\n",
       "      <td>37.6</td>\n",
       "      <td>0</td>\n",
       "      <td>0</td>\n",
       "    </tr>\n",
       "  </tbody>\n",
       "</table>\n",
       "</div>"
      ],
      "text/plain": [
       "   MinTemp  MaxTemp  Rainfall  Evaporation  Sunshine  WindGustSpeed  \\\n",
       "0     17.9     35.2       0.0         12.0      12.3           48.0   \n",
       "1     18.4     28.9       0.0         14.8      13.0           37.0   \n",
       "2     19.4     37.6       0.0         10.8      10.6           46.0   \n",
       "3     21.9     38.4       0.0         11.4      12.2           31.0   \n",
       "4     24.2     41.0       0.0         11.2       8.4           35.0   \n",
       "\n",
       "   WindSpeed9am  WindSpeed3pm  Humidity9am  Humidity3pm  Pressure9am  \\\n",
       "0           6.0          20.0         20.0         13.0       1006.3   \n",
       "1          19.0          19.0         30.0          8.0       1012.9   \n",
       "2          30.0          15.0         42.0         22.0       1012.3   \n",
       "3           6.0           6.0         37.0         22.0       1012.7   \n",
       "4          17.0          13.0         19.0         15.0       1010.7   \n",
       "\n",
       "   Pressure3pm  Cloud9am  Cloud3pm  Temp9am  Temp3pm  RainToday  RainTomorrow  \n",
       "0       1004.4       2.0       5.0     26.6     33.4          0             0  \n",
       "1       1012.1       1.0       1.0     20.3     27.0          0             0  \n",
       "2       1009.2       1.0       6.0     28.7     34.9          0             0  \n",
       "3       1009.1       1.0       5.0     29.1     35.6          0             0  \n",
       "4       1007.4       1.0       6.0     33.6     37.6          0             0  "
      ]
     },
     "execution_count": 4,
     "metadata": {},
     "output_type": "execute_result"
    }
   ],
   "source": [
    "weather_df = pd.read_csv('australia.csv')\n",
    "weather_df.head()"
   ]
  },
  {
   "cell_type": "code",
   "execution_count": null,
   "id": "assumed-institute",
   "metadata": {},
   "outputs": [],
   "source": []
  },
  {
   "cell_type": "code",
   "execution_count": 6,
   "id": "lesser-conviction",
   "metadata": {},
   "outputs": [],
   "source": [
    "from sklearn.model_selection import train_test_split\n",
    "X = weather_df.drop(['RainTomorrow'],axis=1)\n",
    "y= np.array(weather_df['RainTomorrow'])\n",
    "X_train, X_test, y_train, y_test = train_test_split(X, y, test_size=0.3, random_state=42)\n"
   ]
  },
  {
   "cell_type": "code",
   "execution_count": 7,
   "id": "decimal-california",
   "metadata": {},
   "outputs": [
    {
     "name": "stdout",
     "output_type": "stream",
     "text": [
      "(56420, 17) (39494, 17) (16926, 17)\n"
     ]
    }
   ],
   "source": [
    "print(X.shape,X_train.shape, X_test.shape)"
   ]
  },
  {
   "cell_type": "markdown",
   "id": "answering-irrigation",
   "metadata": {},
   "source": [
    "## Regresja logistyczna"
   ]
  },
  {
   "cell_type": "code",
   "execution_count": 14,
   "id": "experimental-round",
   "metadata": {},
   "outputs": [
    {
     "name": "stdout",
     "output_type": "stream",
     "text": [
      "auc        0.7402024512219415\n",
      "accuracy   0.8550159517901453\n",
      "recall     0.53315649867374\n",
      "precision  0.7433431952662722\n",
      "f1         0.6209453197405005\n"
     ]
    }
   ],
   "source": [
    "from sklearn.linear_model import LogisticRegression\n",
    "lr = LogisticRegression(max_iter=2000)\n",
    "\n",
    "# max_iter maksymalna liczba iteracji algorytmu \n",
    "\n",
    "lr.fit(X_train,y_train)\n",
    "y_hat = lr.predict(X_test)\n",
    "\n",
    "\n",
    "print(\"auc       \",roc_auc_score(y_test,y_hat))\n",
    "print(\"accuracy  \",accuracy_score(y_test,y_hat))\n",
    "print(\"recall    \",recall_score(y_test,y_hat))\n",
    "print(\"precision \",precision_score(y_test,y_hat))\n",
    "print(\"f1        \",f1_score(y_test,y_hat))"
   ]
  },
  {
   "cell_type": "markdown",
   "id": "presidential-architecture",
   "metadata": {},
   "source": [
    "## Drzewo decyzyjne"
   ]
  },
  {
   "cell_type": "code",
   "execution_count": 19,
   "id": "split-fraction",
   "metadata": {
    "scrolled": true
   },
   "outputs": [
    {
     "name": "stdout",
     "output_type": "stream",
     "text": [
      "auc        0.7026268334364286\n",
      "accuracy   0.8436724565756824\n",
      "recall     0.4482758620689655\n",
      "precision  0.749113475177305\n",
      "f1         0.5609027547295055\n"
     ]
    }
   ],
   "source": [
    "from sklearn.tree import DecisionTreeClassifier,plot_tree\n",
    "\n",
    "tree1 = DecisionTreeClassifier(max_depth=5,min_samples_split=10)\n",
    "# max_depth maksymalna głębokość drzewa \n",
    "# min_samples_split minimlana liczba próbek wymagana do podziału węzła\n",
    "\n",
    "tree1.fit(X_train,y_train)\n",
    "y_hat = tree1.predict(X_test)\n",
    "\n",
    "print(\"auc       \",roc_auc_score(y_test,y_hat))\n",
    "print(\"accuracy  \",accuracy_score(y_test,y_hat))\n",
    "print(\"recall    \",recall_score(y_test,y_hat))\n",
    "print(\"precision \",precision_score(y_test,y_hat))\n",
    "print(\"f1        \",f1_score(y_test,y_hat))"
   ]
  },
  {
   "cell_type": "markdown",
   "id": "cognitive-attention",
   "metadata": {},
   "source": [
    "## Random Forest"
   ]
  },
  {
   "cell_type": "code",
   "execution_count": 23,
   "id": "higher-zambia",
   "metadata": {},
   "outputs": [
    {
     "name": "stdout",
     "output_type": "stream",
     "text": [
      "auc        0.6711459829525795\n",
      "accuracy   0.8398912915041947\n",
      "recall     0.3668435013262599\n",
      "precision  0.8106682297772567\n",
      "f1         0.5051132213294376\n"
     ]
    }
   ],
   "source": [
    "from sklearn.ensemble import RandomForestClassifier\n",
    "\n",
    "model_rf = RandomForestClassifier(n_estimators=1000,\n",
    "                                  max_depth=3,\n",
    "                                  min_samples_split = 5\n",
    "                                 )\n",
    "# n_estimators Ilość słabych estymatorów\n",
    "# max_depth  Maksymalna wysokość drzewa w słabym estymatorze\n",
    "# min_samples_split minimlana liczba próbek wymagana do podziału węzła\n",
    "\n",
    "model_rf.fit(X_train, y_train)\n",
    "\n",
    "y_hat = model_rf.predict(X_test)\n",
    "\n",
    "\n",
    "print(\"auc       \",roc_auc_score(y_test,y_hat))\n",
    "print(\"accuracy  \",accuracy_score(y_test,y_hat))\n",
    "print(\"recall    \",recall_score(y_test,y_hat))\n",
    "print(\"precision \",precision_score(y_test,y_hat))\n",
    "print(\"f1        \",f1_score(y_test,y_hat))"
   ]
  },
  {
   "cell_type": "code",
   "execution_count": null,
   "id": "alpha-error",
   "metadata": {},
   "outputs": [],
   "source": []
  },
  {
   "cell_type": "markdown",
   "id": "complimentary-shark",
   "metadata": {},
   "source": [
    "##  Kolumna celu"
   ]
  },
  {
   "cell_type": "code",
   "execution_count": 25,
   "id": "cooked-steal",
   "metadata": {},
   "outputs": [
    {
     "data": {
      "text/plain": [
       "0    43993\n",
       "1    12427\n",
       "Name: RainTomorrow, dtype: int64"
      ]
     },
     "execution_count": 25,
     "metadata": {},
     "output_type": "execute_result"
    }
   ],
   "source": [
    "rain_tomorrow=weather_df.RainTomorrow.value_counts()\n",
    "rain_tomorrow"
   ]
  },
  {
   "cell_type": "markdown",
   "id": "invisible-earthquake",
   "metadata": {},
   "source": [
    "Zmienna celu jest niezbalansowana.\n"
   ]
  },
  {
   "cell_type": "markdown",
   "id": "precise-anaheim",
   "metadata": {},
   "source": [
    "## Najlepszy model "
   ]
  },
  {
   "cell_type": "markdown",
   "id": "acknowledged-ordinance",
   "metadata": {},
   "source": [
    "Moim zdaniem, miary na które zasługują na większą uwagę to:  <br>\n",
    "accurecy ( TP+TN/ P+N) przewidywania w których model miał racie do wszystkich przewidywań <br>\n",
    "Oraz z powodu niezbalansowania klas miara recall (TP/TP+FN) nagradza model za dobre przewidywanie klasy małolicznej oraz każe za złą predykcję klasy o większej liczności   <br>\n",
    "Regresjia logistyczny zwyciężyła  w obydwu tych miarach, uznaję ją za najlepszy model \n"
   ]
  }
 ],
 "metadata": {
  "kernelspec": {
   "display_name": "Python 3",
   "language": "python",
   "name": "python3"
  },
  "language_info": {
   "codemirror_mode": {
    "name": "ipython",
    "version": 3
   },
   "file_extension": ".py",
   "mimetype": "text/x-python",
   "name": "python",
   "nbconvert_exporter": "python",
   "pygments_lexer": "ipython3",
   "version": "3.8.3"
  }
 },
 "nbformat": 4,
 "nbformat_minor": 5
}
