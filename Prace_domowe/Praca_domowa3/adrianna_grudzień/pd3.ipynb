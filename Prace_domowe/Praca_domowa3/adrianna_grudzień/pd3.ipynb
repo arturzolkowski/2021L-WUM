{
 "cells": [
  {
   "cell_type": "markdown",
   "id": "contained-december",
   "metadata": {},
   "source": [
    "# Praca domowa nr 3\n",
    "Adrianna Grudzień\\\n",
    "12.04.2021 r.\n",
    "\n",
    "W ramach pracy domowej z przedmiotu Wstęp do uczenia maszynowego stworzyłam model klasyfikacyjny, który  potrafi przewidzieć, czy następnego dnia będzie padał deszcz, czy też nie.\n",
    "\n",
    "Zbiór danych *australia.csv* zawiera codzienne obserwacje pogody z wielu australijskich stacji pogodowych.\n",
    "Dane pochodzą z https://www.kaggle.com/jsphyg/weather-dataset-rattle-package. Natomiast nasz zbiór jest już przygotowany do pracy i nie zawiera brakujących wartości i kolumn z tekstem.\n",
    "\n",
    "Podstawowa część zadania polega na wytrenowaniu dowolnych 3 klasyfikatorów i sprawdzeniu ich skuteczności. Raport zawiera:\n",
    "\n",
    "* podział danych na zbiór treningowy i testowy\n",
    "* nauczenie 3 dowolnych klasyfikatorów\n",
    "* w każdym klasyfikatorze należy wybrać minimum jeden hiperparametr (nie trzeba go stroić - wystarczy się zapoznać z parametrami modelu)\n",
    "* wykorzystanie przynajmniej 3 miar oceny jakości klasyfikatorów i wybór najlepszego z nich.\n",
    "\n",
    "Skupiam się na klasyfikacji binarnej - czy jutro deszcz będzie padał, czy też nie."
   ]
  },
  {
   "cell_type": "code",
   "execution_count": 60,
   "id": "sublime-consideration",
   "metadata": {},
   "outputs": [],
   "source": [
    "import pandas as pd\n",
    "import numpy as np\n",
    "import matplotlib.pyplot as plt\n",
    "import warnings\n",
    "warnings.filterwarnings('ignore')\n",
    "np.random.seed = 42\n",
    "from sklearn.metrics import accuracy_score, precision_score, recall_score, confusion_matrix"
   ]
  },
  {
   "cell_type": "code",
   "execution_count": 61,
   "id": "romantic-cowboy",
   "metadata": {},
   "outputs": [
    {
     "data": {
      "text/html": [
       "<div>\n",
       "<style scoped>\n",
       "    .dataframe tbody tr th:only-of-type {\n",
       "        vertical-align: middle;\n",
       "    }\n",
       "\n",
       "    .dataframe tbody tr th {\n",
       "        vertical-align: top;\n",
       "    }\n",
       "\n",
       "    .dataframe thead th {\n",
       "        text-align: right;\n",
       "    }\n",
       "</style>\n",
       "<table border=\"1\" class=\"dataframe\">\n",
       "  <thead>\n",
       "    <tr style=\"text-align: right;\">\n",
       "      <th></th>\n",
       "      <th>MinTemp</th>\n",
       "      <th>MaxTemp</th>\n",
       "      <th>Rainfall</th>\n",
       "      <th>Evaporation</th>\n",
       "      <th>Sunshine</th>\n",
       "      <th>WindGustSpeed</th>\n",
       "      <th>WindSpeed9am</th>\n",
       "      <th>WindSpeed3pm</th>\n",
       "      <th>Humidity9am</th>\n",
       "      <th>Humidity3pm</th>\n",
       "      <th>Pressure9am</th>\n",
       "      <th>Pressure3pm</th>\n",
       "      <th>Cloud9am</th>\n",
       "      <th>Cloud3pm</th>\n",
       "      <th>Temp9am</th>\n",
       "      <th>Temp3pm</th>\n",
       "      <th>RainToday</th>\n",
       "      <th>RainTomorrow</th>\n",
       "    </tr>\n",
       "  </thead>\n",
       "  <tbody>\n",
       "    <tr>\n",
       "      <th>0</th>\n",
       "      <td>17.9</td>\n",
       "      <td>35.2</td>\n",
       "      <td>0.0</td>\n",
       "      <td>12.0</td>\n",
       "      <td>12.3</td>\n",
       "      <td>48.0</td>\n",
       "      <td>6.0</td>\n",
       "      <td>20.0</td>\n",
       "      <td>20.0</td>\n",
       "      <td>13.0</td>\n",
       "      <td>1006.3</td>\n",
       "      <td>1004.4</td>\n",
       "      <td>2.0</td>\n",
       "      <td>5.0</td>\n",
       "      <td>26.6</td>\n",
       "      <td>33.4</td>\n",
       "      <td>0</td>\n",
       "      <td>0</td>\n",
       "    </tr>\n",
       "    <tr>\n",
       "      <th>1</th>\n",
       "      <td>18.4</td>\n",
       "      <td>28.9</td>\n",
       "      <td>0.0</td>\n",
       "      <td>14.8</td>\n",
       "      <td>13.0</td>\n",
       "      <td>37.0</td>\n",
       "      <td>19.0</td>\n",
       "      <td>19.0</td>\n",
       "      <td>30.0</td>\n",
       "      <td>8.0</td>\n",
       "      <td>1012.9</td>\n",
       "      <td>1012.1</td>\n",
       "      <td>1.0</td>\n",
       "      <td>1.0</td>\n",
       "      <td>20.3</td>\n",
       "      <td>27.0</td>\n",
       "      <td>0</td>\n",
       "      <td>0</td>\n",
       "    </tr>\n",
       "    <tr>\n",
       "      <th>2</th>\n",
       "      <td>19.4</td>\n",
       "      <td>37.6</td>\n",
       "      <td>0.0</td>\n",
       "      <td>10.8</td>\n",
       "      <td>10.6</td>\n",
       "      <td>46.0</td>\n",
       "      <td>30.0</td>\n",
       "      <td>15.0</td>\n",
       "      <td>42.0</td>\n",
       "      <td>22.0</td>\n",
       "      <td>1012.3</td>\n",
       "      <td>1009.2</td>\n",
       "      <td>1.0</td>\n",
       "      <td>6.0</td>\n",
       "      <td>28.7</td>\n",
       "      <td>34.9</td>\n",
       "      <td>0</td>\n",
       "      <td>0</td>\n",
       "    </tr>\n",
       "    <tr>\n",
       "      <th>3</th>\n",
       "      <td>21.9</td>\n",
       "      <td>38.4</td>\n",
       "      <td>0.0</td>\n",
       "      <td>11.4</td>\n",
       "      <td>12.2</td>\n",
       "      <td>31.0</td>\n",
       "      <td>6.0</td>\n",
       "      <td>6.0</td>\n",
       "      <td>37.0</td>\n",
       "      <td>22.0</td>\n",
       "      <td>1012.7</td>\n",
       "      <td>1009.1</td>\n",
       "      <td>1.0</td>\n",
       "      <td>5.0</td>\n",
       "      <td>29.1</td>\n",
       "      <td>35.6</td>\n",
       "      <td>0</td>\n",
       "      <td>0</td>\n",
       "    </tr>\n",
       "    <tr>\n",
       "      <th>4</th>\n",
       "      <td>24.2</td>\n",
       "      <td>41.0</td>\n",
       "      <td>0.0</td>\n",
       "      <td>11.2</td>\n",
       "      <td>8.4</td>\n",
       "      <td>35.0</td>\n",
       "      <td>17.0</td>\n",
       "      <td>13.0</td>\n",
       "      <td>19.0</td>\n",
       "      <td>15.0</td>\n",
       "      <td>1010.7</td>\n",
       "      <td>1007.4</td>\n",
       "      <td>1.0</td>\n",
       "      <td>6.0</td>\n",
       "      <td>33.6</td>\n",
       "      <td>37.6</td>\n",
       "      <td>0</td>\n",
       "      <td>0</td>\n",
       "    </tr>\n",
       "  </tbody>\n",
       "</table>\n",
       "</div>"
      ],
      "text/plain": [
       "   MinTemp  MaxTemp  Rainfall  Evaporation  Sunshine  WindGustSpeed  \\\n",
       "0     17.9     35.2       0.0         12.0      12.3           48.0   \n",
       "1     18.4     28.9       0.0         14.8      13.0           37.0   \n",
       "2     19.4     37.6       0.0         10.8      10.6           46.0   \n",
       "3     21.9     38.4       0.0         11.4      12.2           31.0   \n",
       "4     24.2     41.0       0.0         11.2       8.4           35.0   \n",
       "\n",
       "   WindSpeed9am  WindSpeed3pm  Humidity9am  Humidity3pm  Pressure9am  \\\n",
       "0           6.0          20.0         20.0         13.0       1006.3   \n",
       "1          19.0          19.0         30.0          8.0       1012.9   \n",
       "2          30.0          15.0         42.0         22.0       1012.3   \n",
       "3           6.0           6.0         37.0         22.0       1012.7   \n",
       "4          17.0          13.0         19.0         15.0       1010.7   \n",
       "\n",
       "   Pressure3pm  Cloud9am  Cloud3pm  Temp9am  Temp3pm  RainToday  RainTomorrow  \n",
       "0       1004.4       2.0       5.0     26.6     33.4          0             0  \n",
       "1       1012.1       1.0       1.0     20.3     27.0          0             0  \n",
       "2       1009.2       1.0       6.0     28.7     34.9          0             0  \n",
       "3       1009.1       1.0       5.0     29.1     35.6          0             0  \n",
       "4       1007.4       1.0       6.0     33.6     37.6          0             0  "
      ]
     },
     "execution_count": 61,
     "metadata": {},
     "output_type": "execute_result"
    }
   ],
   "source": [
    "data = pd.read_csv('australia.csv')\n",
    "data.head()"
   ]
  },
  {
   "cell_type": "markdown",
   "id": "another-stupid",
   "metadata": {},
   "source": [
    "Kolumny:\n",
    "\n",
    "-    MinTemp - Minimalna temperatura [C]\n",
    "-    MaxTemp - Maksymalna temperatura [C]\n",
    "-    Rainfall - Suma opadów [mm]\n",
    "-    Evaporation - Miara odparowywania [mm]\n",
    "-    Sunshine - Suma czasu nasłonecznienia [h]\n",
    "-    WindGustSpeed - Najwyższa prędkość wiatru [km/h]\n",
    "-    WindSpeed9am - Prędkość wiatru o 9:00 [km/h]\n",
    "-   WindSpeed3pm - Prędkość wiatru o 15:00 [km/h]\n",
    "-    Humidity9am - Wilgotność o 9:00 [%]\n",
    "-    Humidity3pm - Wilgotność o 15:00 [%]\n",
    "-    Pressure9am - Ciśnienie atmosferyczne o 9:00 [hPa]\n",
    "-    Pressure3pm - Ciśnienie atmosferyczne o 15:00 [hPa]\n",
    "-   Cloud9am - Zachmurzenie o 9:00 [skala: 0 - słońce, 8 - całkowite zachmurzenie]\n",
    "-    Cloud3pm - Zachmurzenie o 15:00 [skala: 0 - słońce, 8 - całkowite zachmurzenie]\n",
    "-    Temp9am - Temperatura o 9:00 [C]\n",
    "-    Temp3pm - Temperatura o 15:00 [C]\n",
    "-    RainToday - Czy dzisiaj padał deszcz [0 - nie, 1 - tak]\n",
    "-    Zmienna celu: RainTomorrow - Czy jutro będzie padał deszcz [0 - nie, 1 - tak]"
   ]
  },
  {
   "cell_type": "code",
   "execution_count": 62,
   "id": "legislative-baptist",
   "metadata": {},
   "outputs": [
    {
     "name": "stdout",
     "output_type": "stream",
     "text": [
      "<class 'pandas.core.frame.DataFrame'>\n",
      "RangeIndex: 56420 entries, 0 to 56419\n",
      "Data columns (total 18 columns):\n",
      " #   Column         Non-Null Count  Dtype  \n",
      "---  ------         --------------  -----  \n",
      " 0   MinTemp        56420 non-null  float64\n",
      " 1   MaxTemp        56420 non-null  float64\n",
      " 2   Rainfall       56420 non-null  float64\n",
      " 3   Evaporation    56420 non-null  float64\n",
      " 4   Sunshine       56420 non-null  float64\n",
      " 5   WindGustSpeed  56420 non-null  float64\n",
      " 6   WindSpeed9am   56420 non-null  float64\n",
      " 7   WindSpeed3pm   56420 non-null  float64\n",
      " 8   Humidity9am    56420 non-null  float64\n",
      " 9   Humidity3pm    56420 non-null  float64\n",
      " 10  Pressure9am    56420 non-null  float64\n",
      " 11  Pressure3pm    56420 non-null  float64\n",
      " 12  Cloud9am       56420 non-null  float64\n",
      " 13  Cloud3pm       56420 non-null  float64\n",
      " 14  Temp9am        56420 non-null  float64\n",
      " 15  Temp3pm        56420 non-null  float64\n",
      " 16  RainToday      56420 non-null  int64  \n",
      " 17  RainTomorrow   56420 non-null  int64  \n",
      "dtypes: float64(16), int64(2)\n",
      "memory usage: 7.7 MB\n"
     ]
    }
   ],
   "source": [
    "data.info()\n",
    "# rzeczywiście nie ma nuli i wszystkie zmienne są numeryczne"
   ]
  },
  {
   "cell_type": "markdown",
   "id": "fixed-significance",
   "metadata": {},
   "source": [
    "### Modelowanie"
   ]
  },
  {
   "cell_type": "code",
   "execution_count": 63,
   "id": "viral-teens",
   "metadata": {},
   "outputs": [
    {
     "name": "stdout",
     "output_type": "stream",
     "text": [
      "[0 0 0 0 0 0 0 0 0 0 0 0 0 0 0 0 0 1 0 0 1 1 0 0 0 0 0 0 0 0 0 0 1 0 0 0 0\n",
      " 0 0 0 0 0 1 1 0 1 1 0 0 0 0 0 1 0 0 0 0 0 0 0 0 0 0 0 0 0 0 0 0 1 1 0 0 0\n",
      " 0 0 0 0 0 0 0 0 0 0 0 0 0 0 0 0 0 0 0 0 0 1 1 1 0 0]\n"
     ]
    },
    {
     "data": {
      "text/plain": [
       "0.22025877348457992"
      ]
     },
     "execution_count": 63,
     "metadata": {},
     "output_type": "execute_result"
    }
   ],
   "source": [
    "y = np.array(data['RainTomorrow'])\n",
    "X = data.drop(['RainTomorrow'],axis=1)\n",
    "print(y[:100]) # większość wartości to 0\n",
    "y.mean() # rzeczywiście - średnia jest zdeccydowanie przesunięta w stronę zera"
   ]
  },
  {
   "cell_type": "markdown",
   "id": "amino-racing",
   "metadata": {},
   "source": [
    "## Zbiór treningowy, walidacyjny i testowy¶\n",
    "Prosty podział danych na część, na której uczymy model i na część która służy nam do sprawdzenia jego skuteczności."
   ]
  },
  {
   "cell_type": "code",
   "execution_count": 64,
   "id": "ruled-programming",
   "metadata": {},
   "outputs": [],
   "source": [
    "from sklearn.model_selection import train_test_split\n",
    "X_train, X_val, y_train, y_val = train_test_split(X, y, test_size=0.3, random_state=42)\n",
    "X_val, X_test, y_val, y_test = train_test_split(X_val, y_val, test_size=0.3, random_state=42)"
   ]
  },
  {
   "cell_type": "code",
   "execution_count": 65,
   "id": "joined-cherry",
   "metadata": {},
   "outputs": [
    {
     "name": "stdout",
     "output_type": "stream",
     "text": [
      "(56420, 17) (39494, 17) (11848, 17) (5078, 17)\n"
     ]
    }
   ],
   "source": [
    "print(X.shape,X_train.shape, X_val.shape, X_test.shape)"
   ]
  },
  {
   "cell_type": "markdown",
   "id": "loving-speech",
   "metadata": {},
   "source": [
    "# Klasyfikator 1.: `Dummy Classifier`"
   ]
  },
  {
   "cell_type": "markdown",
   "id": "indonesian-offset",
   "metadata": {},
   "source": [
    "Parametr strategy może przyjmować wartości {“stratified”, “most_frequent”, “prior”, “uniform”, “constant”}.\n",
    "\n",
    "Strategy to use to generate predictions.\n",
    "\n",
    "   - “stratified”: generates predictions by respecting the training set’s class distribution.\n",
    "\n",
    "   - “most_frequent”: always predicts the most frequent label in the training set.\n",
    "\n",
    "   - “prior”: always predicts the class that maximizes the class prior (like “most_frequent”) and predict_proba returns the class prior.\n",
    "\n",
    "   - “uniform”: generates predictions uniformly at random.\n",
    "\n",
    "   - “constant”: always predicts a constant label that is provided by the user. This is useful for metrics that evaluate a non-majority class"
   ]
  },
  {
   "cell_type": "code",
   "execution_count": 66,
   "id": "hidden-trout",
   "metadata": {},
   "outputs": [
    {
     "name": "stdout",
     "output_type": "stream",
     "text": [
      "y:     [0 1 0 0 0 1 0 0 0 1 0 0 0 0 1 0 1 1 1 0 1 0 1 1 1 1 1 1 1 1]\n",
      "y_hat: [0 0 1 0 0 0 0 0 0 0 0 0 1 0 1 0 1 0 0 0 0 0 0 0 0 0 0 0 1 1]\n"
     ]
    }
   ],
   "source": [
    "from sklearn.dummy import DummyClassifier\n",
    "\n",
    "dc = DummyClassifier(strategy='uniform', random_state=42)\n",
    "dc.fit(X_train,y_train)\n",
    "y_proba = dc.predict_proba(X_val)\n",
    "y_hat = dc.predict(X_val)\n",
    "print('y:     ' + str(y_hat[0:30]) + '\\ny_hat: ' + str(y_val[0:30]))"
   ]
  },
  {
   "cell_type": "code",
   "execution_count": 67,
   "id": "bigger-scotland",
   "metadata": {},
   "outputs": [
    {
     "name": "stdout",
     "output_type": "stream",
     "text": [
      "accuracy:  0.4977211343686698 \n",
      "precision_score:  0.49430523917995445 \n",
      "recall_score:  0.2198952879581152\n"
     ]
    }
   ],
   "source": [
    "# miary:\n",
    "ac1 = accuracy_score(y_val,y_hat)\n",
    "pr1 = precision_score(y_hat, y_val)\n",
    "re1 = recall_score(y_hat, y_val)\n",
    "\n",
    "print('accuracy: ',ac1, '\\nprecision_score: ', pr1, '\\nrecall_score: ', re1)"
   ]
  },
  {
   "cell_type": "markdown",
   "id": "plain-holiday",
   "metadata": {},
   "source": [
    "# Klasyfikator 2.: `Decision Tree Classifier`"
   ]
  },
  {
   "cell_type": "markdown",
   "id": "confidential-carnival",
   "metadata": {},
   "source": [
    "splitter{“best”, “random”}\n",
    "\n",
    "The strategy used to choose the split at each node. Supported strategies are “best” to choose the best split and “random” to choose the best random split."
   ]
  },
  {
   "cell_type": "code",
   "execution_count": 68,
   "id": "christian-newspaper",
   "metadata": {},
   "outputs": [],
   "source": [
    "from sklearn.tree import DecisionTreeClassifier,plot_tree, export_graphviz\n",
    "import graphviz\n",
    "\n",
    "tree1 = DecisionTreeClassifier(splitter = 'best')\n",
    "tree2 = DecisionTreeClassifier(splitter = 'random')\n",
    "\n",
    "tree1.fit(X_train,y_train)\n",
    "y_hat = tree1.predict(X_val)\n",
    "tree2.fit(X_train,y_train)\n",
    "y_hat2 = tree2.predict(X_val)"
   ]
  },
  {
   "cell_type": "code",
   "execution_count": 69,
   "id": "genuine-tablet",
   "metadata": {},
   "outputs": [
    {
     "name": "stdout",
     "output_type": "stream",
     "text": [
      "splitter = 'best'\n",
      "accuracy:  0.7948176907494936 \n",
      "precision_score:  0.5379723157500935 \n",
      "recall_score:  0.5459377372817008\n",
      "splitter = 'random'\n",
      "accuracy:  0.7855334233625928 \n",
      "precision_score:  0.5169152419061477 \n",
      "recall_score:  0.5394836750189825\n"
     ]
    }
   ],
   "source": [
    "# miary:\n",
    "ac2 = accuracy_score(y_val,y_hat)\n",
    "pr2 = precision_score(y_val, y_hat)\n",
    "re2 = recall_score(y_val, y_hat)\n",
    "print(\"splitter = 'best'\")\n",
    "print('accuracy: ',ac2, '\\nprecision_score: ', pr2, '\\nrecall_score: ', re2)\n",
    "\n",
    "ac2 = accuracy_score(y_val,y_hat2)\n",
    "pr2 = precision_score(y_val, y_hat2)\n",
    "re2 = recall_score(y_val, y_hat2)\n",
    "print(\"splitter = 'random'\")\n",
    "print('accuracy: ',ac2, '\\nprecision_score: ', pr2, '\\nrecall_score: ', re2)"
   ]
  },
  {
   "cell_type": "markdown",
   "id": "noticed-sword",
   "metadata": {},
   "source": [
    "W tym przypadku lepsze wyniki dostajemy dla splitter = 'best'."
   ]
  },
  {
   "cell_type": "markdown",
   "id": "dried-gauge",
   "metadata": {},
   "source": [
    "# Klasyfikator 3.: `Ada Boost Classifier`"
   ]
  },
  {
   "cell_type": "markdown",
   "id": "victorian-thread",
   "metadata": {},
   "source": [
    "n_estimatorsint, default=50\n",
    "\n",
    "The maximum number of estimators at which boosting is terminated. In case of perfect fit, the learning procedure is stopped early.\n"
   ]
  },
  {
   "cell_type": "code",
   "execution_count": 70,
   "id": "organized-permission",
   "metadata": {},
   "outputs": [],
   "source": [
    "from sklearn.ensemble import AdaBoostClassifier\n",
    "\n",
    "ab = AdaBoostClassifier(n_estimators=100, random_state=0)\n",
    "ab.fit(X_train, y_train)\n",
    "y_hat = ab.predict(X_val)\n",
    "\n",
    "ab2 = AdaBoostClassifier(n_estimators=50, random_state=0)\n",
    "ab2.fit(X_train, y_train)\n",
    "y_hat2 = ab.predict(X_val)"
   ]
  },
  {
   "cell_type": "code",
   "execution_count": 71,
   "id": "medieval-gauge",
   "metadata": {},
   "outputs": [
    {
     "name": "stdout",
     "output_type": "stream",
     "text": [
      "n_estimators=100\n",
      "accuracy:  0.8539837947332883 \n",
      "precision_score:  0.530751708428246 \n",
      "recall_score:  0.7389006342494715\n",
      "n_estimators=50\n",
      "accuracy:  0.8539837947332883 \n",
      "precision_score:  0.530751708428246 \n",
      "recall_score:  0.7389006342494715\n"
     ]
    }
   ],
   "source": [
    "# miary:\n",
    "print(\"n_estimators=100\")\n",
    "ac3 = accuracy_score(y_hat,y_val)\n",
    "pr3 = precision_score(y_hat, y_val)\n",
    "re3 = recall_score(y_hat, y_val)\n",
    "print('accuracy: ',ac3, '\\nprecision_score: ', pr3, '\\nrecall_score: ', re3)\n",
    "\n",
    "print(\"n_estimators=50\")\n",
    "ac3 = accuracy_score(y_hat2,y_val)\n",
    "pr3 = precision_score(y_hat2, y_val)\n",
    "re3 = recall_score(y_hat2, y_val)\n",
    "print('accuracy: ',ac3, '\\nprecision_score: ', pr3, '\\nrecall_score: ', re3)"
   ]
  },
  {
   "cell_type": "markdown",
   "id": "typical-telling",
   "metadata": {},
   "source": [
    "Wyniki są takie same, zatem uczenie musiało być zaprzestane przy liczbie estymatorów <= 50."
   ]
  },
  {
   "cell_type": "markdown",
   "id": "determined-essay",
   "metadata": {},
   "source": [
    "## Miary ocen jakości klasyfikatorów"
   ]
  },
  {
   "cell_type": "markdown",
   "id": "equal-dollar",
   "metadata": {},
   "source": [
    "`Accuracy` najlepsze (największe) dla klasyfikatora Ada Boost.\n",
    "`Precision score` właściwie nigdzie nie jest duże, ale tym razem najlepsze dla Decision Tree.\n",
    "`Recall score` najmniejsze dla Dummy, największe dla Ada Boost.\n",
    "\n",
    "Trudno wybrać jeden najlepszy model i jak widać, przy okazji sprawdzania wyników dla innych wartości parametrów, każdy z modeli można w ten sposób ulepszyć. Na ten moment najlepsze wydają się modele `Decision Tree` oraz `Ada Boost`."
   ]
  }
 ],
 "metadata": {
  "kernelspec": {
   "display_name": "Python 3",
   "language": "python",
   "name": "python3"
  },
  "language_info": {
   "codemirror_mode": {
    "name": "ipython",
    "version": 3
   },
   "file_extension": ".py",
   "mimetype": "text/x-python",
   "name": "python",
   "nbconvert_exporter": "python",
   "pygments_lexer": "ipython3",
   "version": "3.7.6"
  }
 },
 "nbformat": 4,
 "nbformat_minor": 5
}
