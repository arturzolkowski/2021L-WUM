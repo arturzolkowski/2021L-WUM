{
 "cells": [
  {
   "cell_type": "markdown",
   "metadata": {},
   "source": [
    "# Wstęp do Uczenia Maszynowego - Lab 5"
   ]
  },
  {
   "cell_type": "code",
   "execution_count": null,
   "metadata": {
    "ExecuteTime": {
     "end_time": "2020-03-23T09:42:16.256846Z",
     "start_time": "2020-03-23T09:42:15.442652Z"
    }
   },
   "outputs": [],
   "source": [
    "import pandas as pd\n",
    "import numpy as np\n",
    "import matplotlib.pyplot as plt\n",
    "from sklearn.model_selection import cross_val_score\n",
    "from sklearn.tree import DecisionTreeClassifier\n",
    "from sklearn.neighbors import KNeighborsClassifier\n",
    "from sklearn.linear_model import LogisticRegression\n",
    "from sklearn.ensemble import BaggingClassifier\n",
    "from sklearn.model_selection import train_test_split\n",
    "from sklearn.metrics import accuracy_score\n",
    "\n",
    "np.random.seed = 42"
   ]
  },
  {
   "cell_type": "code",
   "execution_count": null,
   "metadata": {
    "ExecuteTime": {
     "end_time": "2020-03-23T09:42:16.281787Z",
     "start_time": "2020-03-23T09:42:16.261833Z"
    }
   },
   "outputs": [],
   "source": [
    "data = pd.read_csv('heart.csv')\n",
    "data.head()"
   ]
  },
  {
   "cell_type": "code",
   "execution_count": null,
   "metadata": {
    "ExecuteTime": {
     "end_time": "2020-03-23T09:42:16.288795Z",
     "start_time": "2020-03-23T09:42:16.283777Z"
    }
   },
   "outputs": [],
   "source": [
    "y = np.array(data['chd'])\n",
    "X = data.drop(['chd'],axis=1)"
   ]
  },
  {
   "cell_type": "code",
   "execution_count": null,
   "metadata": {
    "ExecuteTime": {
     "end_time": "2020-03-23T09:42:16.304107Z",
     "start_time": "2020-03-23T09:42:16.291084Z"
    }
   },
   "outputs": [],
   "source": [
    "map_dict = {'Present': 1, 'Absent':0}\n",
    "X['famhist'] = X['famhist'].map(map_dict)\n",
    "X.head()"
   ]
  },
  {
   "cell_type": "code",
   "execution_count": null,
   "metadata": {
    "ExecuteTime": {
     "end_time": "2020-03-23T09:42:16.826694Z",
     "start_time": "2020-03-23T09:42:16.798744Z"
    }
   },
   "outputs": [],
   "source": [
    "X_train, X_test, y_train, y_test = train_test_split(\n",
    "    X, y, test_size=0.2, random_state=42, stratify=y\n",
    ")"
   ]
  },
  {
   "cell_type": "code",
   "execution_count": null,
   "metadata": {
    "ExecuteTime": {
     "end_time": "2020-03-23T09:42:16.979676Z",
     "start_time": "2020-03-23T09:42:16.974666Z"
    }
   },
   "outputs": [],
   "source": [
    "print(X.shape, X_train.shape, X_test.shape)"
   ]
  },
  {
   "cell_type": "markdown",
   "metadata": {},
   "source": [
    "## Ensemble Methods\n",
    "Na potrzeby stosowania różnych metod Ensemble Learningu załadujemy sobie już 3 modele z których będziemy potem korzystać."
   ]
  },
  {
   "cell_type": "code",
   "execution_count": null,
   "metadata": {
    "ExecuteTime": {
     "end_time": "2020-03-23T10:04:23.248656Z",
     "start_time": "2020-03-23T10:04:23.241676Z"
    }
   },
   "outputs": [],
   "source": [
    "model1 = DecisionTreeClassifier(random_state=1)\n",
    "model2 = KNeighborsClassifier()\n",
    "model3 = LogisticRegression(random_state=1, max_iter=1000)\n",
    "estimators=[('DecisionTree', model1), ('KNN', model2), ('LR', model2)]"
   ]
  },
  {
   "cell_type": "markdown",
   "metadata": {},
   "source": [
    "### Max Voting\n",
    "lub Hard Voting - głosowanie większościowe\n",
    "\n"
   ]
  },
  {
   "cell_type": "code",
   "execution_count": null,
   "metadata": {
    "ExecuteTime": {
     "end_time": "2020-03-23T10:04:23.752520Z",
     "start_time": "2020-03-23T10:04:23.748530Z"
    }
   },
   "outputs": [],
   "source": [
    "from sklearn.ensemble import VotingClassifier"
   ]
  },
  {
   "cell_type": "code",
   "execution_count": null,
   "metadata": {
    "ExecuteTime": {
     "end_time": "2020-03-23T10:04:24.077640Z",
     "start_time": "2020-03-23T10:04:24.044296Z"
    }
   },
   "outputs": [],
   "source": [
    "model = VotingClassifier(estimators=estimators, voting='hard')\n",
    "model.fit(X_train,y_train)\n",
    "\n",
    "y_hat = model.predict(X_test)\n",
    "accuracy_score(y_test, y_hat), model.score(X_test,y_test)"
   ]
  },
  {
   "cell_type": "markdown",
   "metadata": {},
   "source": [
    "### Averaging\n",
    "Soft Voting. Nie patrzymy na liczbę głosów, ale na \"pewność\". Patrzymy na ile pewny jest klasyfikator, że rekord należy do klasy 1. c1 - 90%, c2 - 49%, c3 - 49%\n",
    "\n",
    "* hard voting: klasa 0 (1 głos na tak, 2 głosy na nie)\n",
    "* soft voting: klasa 1 ( (90 + 49 + 49)/3 $\\approx$ 63% > 50%)\n"
   ]
  },
  {
   "cell_type": "code",
   "execution_count": null,
   "metadata": {
    "ExecuteTime": {
     "end_time": "2020-03-23T10:04:25.210091Z",
     "start_time": "2020-03-23T10:04:25.164210Z"
    }
   },
   "outputs": [],
   "source": [
    "model1.fit(X_train,y_train)\n",
    "model2.fit(X_train,y_train)\n",
    "model3.fit(X_train,y_train)\n",
    "\n",
    "pred1=model1.predict_proba(X_test)\n",
    "pred2=model2.predict_proba(X_test)\n",
    "pred3=model3.predict_proba(X_test)\n",
    "\n",
    "# Average\n",
    "pred_average=(pred1+pred2+pred3)/3\n",
    "y_hat = np.argmax(pred_average, axis=1)\n",
    "print(accuracy_score(y_test, y_hat))\n",
    "\n",
    "# Weighted Average\n",
    "pred_weighted_average=(pred1*0.05+pred2*0.05+pred3*0.9)\n",
    "y_hat = np.argmax(pred_weighted_average, axis=1)\n",
    "print(accuracy_score(y_test, y_hat))"
   ]
  },
  {
   "cell_type": "markdown",
   "metadata": {},
   "source": [
    "### Stacking\n",
    "![Stacking](https://miro.medium.com/max/700/1*RP0pkQEOSrw9_EjFu4w3gg.png)\n",
    "\n",
    "Bierzemy kilka różnych modeli (base) i jeden meta-model. Meta-model uczy się przewidzieć wynik na podstawie wyników z base.\n",
    "\n",
    "Zasada kciuka: ostatni model jest raczej prosty (regresja liniowa/logistyczna).\n",
    "Więcej (np. o trenowaniu) tutaj: https://machinelearningmastery.com/stacking-ensemble-machine-learning-with-python/\n",
    "\n"
   ]
  },
  {
   "cell_type": "code",
   "execution_count": null,
   "metadata": {
    "ExecuteTime": {
     "end_time": "2020-03-23T10:05:20.908643Z",
     "start_time": "2020-03-23T10:05:20.904653Z"
    }
   },
   "outputs": [],
   "source": [
    "from sklearn.ensemble import StackingClassifier"
   ]
  },
  {
   "cell_type": "code",
   "execution_count": null,
   "metadata": {
    "ExecuteTime": {
     "end_time": "2020-03-23T10:05:21.255832Z",
     "start_time": "2020-03-23T10:05:21.177931Z"
    }
   },
   "outputs": [],
   "source": [
    "clf = StackingClassifier(estimators=estimators, final_estimator=LogisticRegression())\n",
    "from sklearn.model_selection import train_test_split\n",
    "clf.fit(X_train, y_train).score(X_test, y_test)"
   ]
  },
  {
   "cell_type": "markdown",
   "metadata": {},
   "source": [
    "#### Czy zestackowanie kilku takich samych modeli zwiększy ich dokładność?\n",
    "- Jeżeli tak to podaj przykład?\n",
    "- Jeżeli nie to czy masz jakiś pomysł żeby ulepszyć tą metodę?"
   ]
  },
  {
   "cell_type": "markdown",
   "metadata": {},
   "source": [
    "### Bagging\n",
    "Bootstraping - to technika próbkowania, w której tworzymy podzbiory (próby) obserwacji z oryginalnego datasetu, **ze zwracaniem**. Rozmiar podzbiorów jest taki sam jak rozmiar oryginalnego datasetu.\n",
    "\n",
    "1. Losujemy N **bootstrapowych** prób ze zbioru treningowego\n",
    "2. Trenujemy niezależnie N \"słabych\" klasyfikatorów\n",
    "3. Składamy wyniki \"słabych\" modeli \n",
    "    - **Klasyfikacja:** reguła większościowa / uśrednione prawdopodobieństwo\n",
    "    - **Regresja:** Uśrednione wartości"
   ]
  },
  {
   "cell_type": "code",
   "execution_count": null,
   "metadata": {
    "ExecuteTime": {
     "end_time": "2020-03-23T10:40:53.981479Z",
     "start_time": "2020-03-23T10:40:53.956920Z"
    }
   },
   "outputs": [],
   "source": [
    "clf = BaggingClassifier(base_estimator=model1,\n",
    "                        n_estimators=10, random_state=0)\n",
    "clf.fit(X_train, y_train)\n",
    "clf.score(X_test,y_test)"
   ]
  },
  {
   "cell_type": "markdown",
   "metadata": {},
   "source": [
    "#### Jakie widzicie wady i zalety takiej metody?"
   ]
  },
  {
   "cell_type": "markdown",
   "metadata": {},
   "source": [
    "#### Random Forest\n",
    "Najbardziej popularny algorytm Baggingowy.\n",
    "\n",
    "Cechy:\n",
    "- podstawowym algorytmem jest Drzewo Decyzyjne (wszystkie zalety drzew: obsługa NA)\n",
    "- Do podziału każdego węzła wykorzystujemy losowe zmienne (ilość można wybrać jako hiperparametr)\n",
    "- wbudowana metoda istotności zmiennych"
   ]
  },
  {
   "cell_type": "code",
   "execution_count": null,
   "metadata": {
    "ExecuteTime": {
     "end_time": "2020-03-23T10:40:19.674175Z",
     "start_time": "2020-03-23T10:40:19.670184Z"
    }
   },
   "outputs": [],
   "source": [
    "from sklearn.ensemble import RandomForestClassifier"
   ]
  },
  {
   "cell_type": "code",
   "execution_count": null,
   "metadata": {
    "ExecuteTime": {
     "end_time": "2020-03-23T10:49:09.020525Z",
     "start_time": "2020-03-23T10:49:08.109569Z"
    }
   },
   "outputs": [],
   "source": [
    "model_rf = RandomForestClassifier(n_estimators=1000, # Ilość słabych estymatorów\n",
    "                                  max_depth=2, # Maksymalna wysokość drzewa w słabym estymatorze\n",
    "                                  min_samples_split = 2, # Minimalna ilość obserwacji wymagana do podziału węzła\n",
    "                                  max_features = 3, # Maksymalna ilość zmiennych brana pod uwagę przy podziale węzła\n",
    "                                  random_state=0,\n",
    "                                  n_jobs = -1)\n",
    "model_rf.fit(X_train, y_train)\n",
    "model_rf.score(X_test,y_test)"
   ]
  },
  {
   "cell_type": "markdown",
   "metadata": {},
   "source": [
    "![Bagging vs Boosting](https://quantdare.com/wp-content/uploads/2016/04/bb3.png)"
   ]
  },
  {
   "cell_type": "markdown",
   "metadata": {},
   "source": [
    "### Boosting\n",
    "Boosting działa podobnie jak Bagging z jedną różnicą. Każda kolejna próba bootstrap jest tworzona w taki sposób, że losuje z większym prawdopodobieństwiem obserwacje **źle sklasyfikowane**. W skrócie: Boosting uczy się na błędach, które popełnił w poprzednich iteracjach."
   ]
  },
  {
   "cell_type": "markdown",
   "metadata": {},
   "source": [
    "#### AdaBoost\n",
    "Najprostsza metoda boostingowa\n",
    "\n",
    "W każdej iteracji dla nowego klasyfikatora $h$ dobiera $\\alpha_t$ minimalizujące\n",
    "![](https://wikimedia.org/api/rest_v1/media/math/render/svg/3ad2646753bae9d7170c88485eec7db956feecc1)\n",
    "Gdzie $F_{t-1}$ - boosted classifier z poprzedniej iteracji\n",
    "\n",
    "W każdej iteracji wagi samplowania dla każdego punktu $x_i$:\n",
    "$$E(F_{t-1}(x_i))$$"
   ]
  },
  {
   "cell_type": "code",
   "execution_count": null,
   "metadata": {
    "ExecuteTime": {
     "end_time": "2020-03-23T10:50:26.312390Z",
     "start_time": "2020-03-23T10:50:26.308376Z"
    }
   },
   "outputs": [],
   "source": [
    "from sklearn.ensemble import AdaBoostClassifier"
   ]
  },
  {
   "cell_type": "code",
   "execution_count": null,
   "metadata": {
    "ExecuteTime": {
     "end_time": "2020-03-23T10:50:33.506609Z",
     "start_time": "2020-03-23T10:50:33.430090Z"
    }
   },
   "outputs": [],
   "source": [
    "model = AdaBoostClassifier(random_state=1)\n",
    "model.fit(X_train, y_train)\n",
    "model.score(X_test,y_test)"
   ]
  },
  {
   "cell_type": "markdown",
   "metadata": {},
   "source": [
    "#### Gradient Boosting"
   ]
  },
  {
   "cell_type": "code",
   "execution_count": null,
   "metadata": {
    "ExecuteTime": {
     "end_time": "2020-03-23T10:50:44.448951Z",
     "start_time": "2020-03-23T10:50:44.444975Z"
    }
   },
   "outputs": [],
   "source": [
    "from sklearn.ensemble import GradientBoostingClassifier"
   ]
  },
  {
   "cell_type": "code",
   "execution_count": null,
   "metadata": {
    "ExecuteTime": {
     "end_time": "2020-03-23T10:50:53.477714Z",
     "start_time": "2020-03-23T10:50:53.380545Z"
    }
   },
   "outputs": [],
   "source": [
    "model= GradientBoostingClassifier(random_state=1,\n",
    "                                  learning_rate=0.01)\n",
    "model.fit(X_train, y_train)\n",
    "model.score(X_test,y_test)"
   ]
  },
  {
   "cell_type": "markdown",
   "metadata": {},
   "source": [
    "#### XGBoost\n",
    "Zaawansowana implementacja Gradient Boostingu"
   ]
  },
  {
   "cell_type": "code",
   "execution_count": null,
   "metadata": {
    "ExecuteTime": {
     "end_time": "2020-03-23T10:51:55.997278Z",
     "start_time": "2020-03-23T10:51:55.993198Z"
    }
   },
   "outputs": [],
   "source": [
    "from xgboost import XGBClassifier # Inna paczka niż sklearn!"
   ]
  },
  {
   "cell_type": "code",
   "execution_count": null,
   "metadata": {
    "ExecuteTime": {
     "end_time": "2020-03-23T12:45:09.842895Z",
     "start_time": "2020-03-23T12:45:09.783537Z"
    }
   },
   "outputs": [],
   "source": [
    "model=XGBClassifier(random_state=1,\n",
    "                    learning_rate=0.01, # Szybkość \"uczenia\" się\n",
    "                    booster='gbtree', # Jaki model wykorzystujemy (drzewo - gbtree, liniowe - gblinear)\n",
    "                    nround = 100, # Ilość itereacji boosingowych\n",
    "                    max_depth=4 # Maksymalna głębokość drzewa \n",
    "                    )\n",
    "model.fit(X_train, y_train)\n",
    "model.score(X_test,y_test)"
   ]
  }
 ],
 "metadata": {
  "kernelspec": {
   "display_name": "Python 3",
   "language": "python",
   "name": "python3"
  },
  "language_info": {
   "codemirror_mode": {
    "name": "ipython",
    "version": 3
   },
   "file_extension": ".py",
   "mimetype": "text/x-python",
   "name": "python",
   "nbconvert_exporter": "python",
   "pygments_lexer": "ipython3",
   "version": "3.8.3"
  },
  "toc": {
   "base_numbering": 1,
   "nav_menu": {},
   "number_sections": true,
   "sideBar": true,
   "skip_h1_title": false,
   "title_cell": "Table of Contents",
   "title_sidebar": "Contents",
   "toc_cell": false,
   "toc_position": {},
   "toc_section_display": true,
   "toc_window_display": false
  }
 },
 "nbformat": 4,
 "nbformat_minor": 2
}
