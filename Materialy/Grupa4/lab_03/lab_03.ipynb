{
 "cells": [
  {
   "cell_type": "markdown",
   "metadata": {},
   "source": [
    "## Klasyfikacja \n",
    "Klasyfikacja to rodzaj algorytmu statystycznego, który przydziela obserwacje statystyczne do klas, bazując na atrybutach tych obserwacji.\n",
    "\n",
    "**Definicja:**\n",
    "Dla danego zbioru danych trenujących $\\{(x_1,y_1),\\ldots,(x_n,y_n)\\}$ algorytm potrafi znaleźć funkcję klasyfikującją $h: X -> Y$, która przydziela obiektowi $x\\in X$ klasę $y \\in Y$.\n",
    "\n",
    "- prawdopodobieństwo aposteriori: $P(Y=i|X)$ *\n",
    "- funkcja klasyfikacyjna przyjmuje postać: $h(X) = argmax_{1,\\ldots,y} P(Y=i|X)$\n",
    "\n",
    "*większość klasyfikatorów modeluje prawdopodobieństwa, wyjątek stanowi SVM\n",
    "\n",
    "Przykłady klasyfikacji:\n",
    "- wykrywanie czy pacjent jest chory na daną chorobę na podstawie wyników badań\n",
    "- klasyfikacja maili jako spam/nie-spam\n",
    "- czy transakcja dokonana na koncie klienta banku to oszustwo/kradzież czy też normalna transakcja\n",
    "- rozpoznawania na obrazu różnych rodzajów zwierząt\n",
    "- rozpoznawanie czy pasażer przeżyje katastrofę na Titanicu\n",
    "\n",
    "**Na potrzeby uproszczenia wyjaśniania w dalszej części labów, skupimy się tylko na klasyfikacji binarnej.**\n",
    "\n",
    "Zajmiemy się zbiorem gdzie klasyfikujemy u pacjentów czy występuje choroba serca czy nie."
   ]
  },
  {
   "cell_type": "code",
   "execution_count": 2,
   "metadata": {
    "ExecuteTime": {
     "end_time": "2020-03-07T15:01:18.130629Z",
     "start_time": "2020-03-07T15:01:18.127672Z"
    }
   },
   "outputs": [],
   "source": [
    "import pandas as pd\n",
    "import numpy as np\n",
    "import matplotlib.pyplot as plt\n",
    "import warnings\n",
    "warnings.filterwarnings('ignore')\n",
    "np.random.seed = 42"
   ]
  },
  {
   "cell_type": "code",
   "execution_count": 3,
   "metadata": {
    "ExecuteTime": {
     "end_time": "2020-03-07T14:45:39.531710Z",
     "start_time": "2020-03-07T14:45:39.518696Z"
    }
   },
   "outputs": [
    {
     "data": {
      "text/html": [
       "<div>\n",
       "<style scoped>\n",
       "    .dataframe tbody tr th:only-of-type {\n",
       "        vertical-align: middle;\n",
       "    }\n",
       "\n",
       "    .dataframe tbody tr th {\n",
       "        vertical-align: top;\n",
       "    }\n",
       "\n",
       "    .dataframe thead th {\n",
       "        text-align: right;\n",
       "    }\n",
       "</style>\n",
       "<table border=\"1\" class=\"dataframe\">\n",
       "  <thead>\n",
       "    <tr style=\"text-align: right;\">\n",
       "      <th></th>\n",
       "      <th>sbp</th>\n",
       "      <th>tobacco</th>\n",
       "      <th>ldl</th>\n",
       "      <th>adiposity</th>\n",
       "      <th>famhist</th>\n",
       "      <th>typea</th>\n",
       "      <th>obesity</th>\n",
       "      <th>alcohol</th>\n",
       "      <th>age</th>\n",
       "      <th>chd</th>\n",
       "    </tr>\n",
       "  </thead>\n",
       "  <tbody>\n",
       "    <tr>\n",
       "      <th>0</th>\n",
       "      <td>160</td>\n",
       "      <td>12.00</td>\n",
       "      <td>5.73</td>\n",
       "      <td>23.11</td>\n",
       "      <td>Present</td>\n",
       "      <td>49</td>\n",
       "      <td>25.30</td>\n",
       "      <td>97.20</td>\n",
       "      <td>52</td>\n",
       "      <td>1</td>\n",
       "    </tr>\n",
       "    <tr>\n",
       "      <th>1</th>\n",
       "      <td>144</td>\n",
       "      <td>0.01</td>\n",
       "      <td>4.41</td>\n",
       "      <td>28.61</td>\n",
       "      <td>Absent</td>\n",
       "      <td>55</td>\n",
       "      <td>28.87</td>\n",
       "      <td>2.06</td>\n",
       "      <td>63</td>\n",
       "      <td>1</td>\n",
       "    </tr>\n",
       "    <tr>\n",
       "      <th>2</th>\n",
       "      <td>118</td>\n",
       "      <td>0.08</td>\n",
       "      <td>3.48</td>\n",
       "      <td>32.28</td>\n",
       "      <td>Present</td>\n",
       "      <td>52</td>\n",
       "      <td>29.14</td>\n",
       "      <td>3.81</td>\n",
       "      <td>46</td>\n",
       "      <td>0</td>\n",
       "    </tr>\n",
       "    <tr>\n",
       "      <th>3</th>\n",
       "      <td>170</td>\n",
       "      <td>7.50</td>\n",
       "      <td>6.41</td>\n",
       "      <td>38.03</td>\n",
       "      <td>Present</td>\n",
       "      <td>51</td>\n",
       "      <td>31.99</td>\n",
       "      <td>24.26</td>\n",
       "      <td>58</td>\n",
       "      <td>1</td>\n",
       "    </tr>\n",
       "    <tr>\n",
       "      <th>4</th>\n",
       "      <td>134</td>\n",
       "      <td>13.60</td>\n",
       "      <td>3.50</td>\n",
       "      <td>27.78</td>\n",
       "      <td>Present</td>\n",
       "      <td>60</td>\n",
       "      <td>25.99</td>\n",
       "      <td>57.34</td>\n",
       "      <td>49</td>\n",
       "      <td>1</td>\n",
       "    </tr>\n",
       "  </tbody>\n",
       "</table>\n",
       "</div>"
      ],
      "text/plain": [
       "   sbp  tobacco   ldl  adiposity  famhist  typea  obesity  alcohol  age  chd\n",
       "0  160    12.00  5.73      23.11  Present     49    25.30    97.20   52    1\n",
       "1  144     0.01  4.41      28.61   Absent     55    28.87     2.06   63    1\n",
       "2  118     0.08  3.48      32.28  Present     52    29.14     3.81   46    0\n",
       "3  170     7.50  6.41      38.03  Present     51    31.99    24.26   58    1\n",
       "4  134    13.60  3.50      27.78  Present     60    25.99    57.34   49    1"
      ]
     },
     "execution_count": 3,
     "metadata": {},
     "output_type": "execute_result"
    }
   ],
   "source": [
    "data = pd.read_csv('heart.csv')\n",
    "data.head()"
   ]
  },
  {
   "cell_type": "code",
   "execution_count": 4,
   "metadata": {
    "ExecuteTime": {
     "end_time": "2020-03-07T14:45:53.174538Z",
     "start_time": "2020-03-07T14:45:53.166435Z"
    }
   },
   "outputs": [
    {
     "data": {
      "text/plain": [
       "sbp          0.0\n",
       "tobacco      0.0\n",
       "ldl          0.0\n",
       "adiposity    0.0\n",
       "famhist      0.0\n",
       "typea        0.0\n",
       "obesity      0.0\n",
       "alcohol      0.0\n",
       "age          0.0\n",
       "chd          0.0\n",
       "dtype: float64"
      ]
     },
     "execution_count": 4,
     "metadata": {},
     "output_type": "execute_result"
    }
   ],
   "source": [
    "# Szybko sprawdzamy podstawowe cechy danych\n",
    "na_ratio_cols = data.isna().mean(axis=0)\n",
    "na_ratio_cols"
   ]
  },
  {
   "cell_type": "code",
   "execution_count": 7,
   "metadata": {},
   "outputs": [
    {
     "data": {
      "text/plain": [
       "array([1, 1, 0, 1, 1, 0, 0, 1, 0, 1])"
      ]
     },
     "execution_count": 7,
     "metadata": {},
     "output_type": "execute_result"
    }
   ],
   "source": [
    "y = np.array(data['chd'])\n",
    "X = data.drop(['chd'],axis=1)\n",
    "y[:10]"
   ]
  },
  {
   "cell_type": "code",
   "execution_count": 8,
   "metadata": {
    "ExecuteTime": {
     "end_time": "2020-03-07T14:52:23.920291Z",
     "start_time": "2020-03-07T14:52:23.911127Z"
    }
   },
   "outputs": [
    {
     "data": {
      "text/html": [
       "<div>\n",
       "<style scoped>\n",
       "    .dataframe tbody tr th:only-of-type {\n",
       "        vertical-align: middle;\n",
       "    }\n",
       "\n",
       "    .dataframe tbody tr th {\n",
       "        vertical-align: top;\n",
       "    }\n",
       "\n",
       "    .dataframe thead th {\n",
       "        text-align: right;\n",
       "    }\n",
       "</style>\n",
       "<table border=\"1\" class=\"dataframe\">\n",
       "  <thead>\n",
       "    <tr style=\"text-align: right;\">\n",
       "      <th></th>\n",
       "      <th>sbp</th>\n",
       "      <th>tobacco</th>\n",
       "      <th>ldl</th>\n",
       "      <th>adiposity</th>\n",
       "      <th>famhist</th>\n",
       "      <th>typea</th>\n",
       "      <th>obesity</th>\n",
       "      <th>alcohol</th>\n",
       "      <th>age</th>\n",
       "    </tr>\n",
       "  </thead>\n",
       "  <tbody>\n",
       "    <tr>\n",
       "      <th>0</th>\n",
       "      <td>160</td>\n",
       "      <td>12.00</td>\n",
       "      <td>5.73</td>\n",
       "      <td>23.11</td>\n",
       "      <td>1</td>\n",
       "      <td>49</td>\n",
       "      <td>25.30</td>\n",
       "      <td>97.20</td>\n",
       "      <td>52</td>\n",
       "    </tr>\n",
       "    <tr>\n",
       "      <th>1</th>\n",
       "      <td>144</td>\n",
       "      <td>0.01</td>\n",
       "      <td>4.41</td>\n",
       "      <td>28.61</td>\n",
       "      <td>0</td>\n",
       "      <td>55</td>\n",
       "      <td>28.87</td>\n",
       "      <td>2.06</td>\n",
       "      <td>63</td>\n",
       "    </tr>\n",
       "    <tr>\n",
       "      <th>2</th>\n",
       "      <td>118</td>\n",
       "      <td>0.08</td>\n",
       "      <td>3.48</td>\n",
       "      <td>32.28</td>\n",
       "      <td>1</td>\n",
       "      <td>52</td>\n",
       "      <td>29.14</td>\n",
       "      <td>3.81</td>\n",
       "      <td>46</td>\n",
       "    </tr>\n",
       "    <tr>\n",
       "      <th>3</th>\n",
       "      <td>170</td>\n",
       "      <td>7.50</td>\n",
       "      <td>6.41</td>\n",
       "      <td>38.03</td>\n",
       "      <td>1</td>\n",
       "      <td>51</td>\n",
       "      <td>31.99</td>\n",
       "      <td>24.26</td>\n",
       "      <td>58</td>\n",
       "    </tr>\n",
       "    <tr>\n",
       "      <th>4</th>\n",
       "      <td>134</td>\n",
       "      <td>13.60</td>\n",
       "      <td>3.50</td>\n",
       "      <td>27.78</td>\n",
       "      <td>1</td>\n",
       "      <td>60</td>\n",
       "      <td>25.99</td>\n",
       "      <td>57.34</td>\n",
       "      <td>49</td>\n",
       "    </tr>\n",
       "  </tbody>\n",
       "</table>\n",
       "</div>"
      ],
      "text/plain": [
       "   sbp  tobacco   ldl  adiposity  famhist  typea  obesity  alcohol  age\n",
       "0  160    12.00  5.73      23.11        1     49    25.30    97.20   52\n",
       "1  144     0.01  4.41      28.61        0     55    28.87     2.06   63\n",
       "2  118     0.08  3.48      32.28        1     52    29.14     3.81   46\n",
       "3  170     7.50  6.41      38.03        1     51    31.99    24.26   58\n",
       "4  134    13.60  3.50      27.78        1     60    25.99    57.34   49"
      ]
     },
     "execution_count": 8,
     "metadata": {},
     "output_type": "execute_result"
    }
   ],
   "source": [
    "map_dict = {'Present': 1, 'Absent':0}\n",
    "X['famhist'] = X['famhist'].map(map_dict)\n",
    "X.head()"
   ]
  },
  {
   "cell_type": "markdown",
   "metadata": {},
   "source": [
    "## Sposoby podziału danych\n",
    "- Jak radzić sobie z overfitingiem?\n",
    "- Jakie znacie sposoby podziału danych na treningowe i testowe?"
   ]
  },
  {
   "cell_type": "markdown",
   "metadata": {},
   "source": [
    "![image.png](https://media.geeksforgeeks.org/wp-content/cdn-uploads/20190523171258/overfitting_2.png)"
   ]
  },
  {
   "cell_type": "markdown",
   "metadata": {},
   "source": [
    "https://www.geeksforgeeks.org/underfitting-and-overfitting-in-machine-learning/"
   ]
  },
  {
   "cell_type": "markdown",
   "metadata": {},
   "source": [
    "## Jak sobie radzić?\n",
    "### Underfitting\n",
    "* bardziej skomplikowany model (np. wyższe drzewo)\n",
    "* więcej parametrów, może nie wyrzucajmy aż tylu kolumn, feature engineering (jakieś wielomiany od cech)\n",
    "* czasem trzeba dłużej potrenować\n",
    "\n",
    "### Overfitting\n",
    "* mniej skomplikowany model (np. niższe drzewo)\n",
    "* mniej parametrów, feature selection, mocniej ograniczyć cechy np. mapowanie kilku kategorii (kolory) do dwóch (czarny i nie-czarny) *\n",
    "* więcej danych\n",
    "\n",
    "\\* To jest trochę odpowiedź na pytanie z 2 zajęć temu - \"co jeśli jest duża dysproporcja w klasach?\" Zależy jak duża. Jak kilka rzędów wielkości, to warto agregować (tak jak robiliśmy), a jeśli się nie da, to może usunąć"
   ]
  },
  {
   "cell_type": "markdown",
   "metadata": {},
   "source": [
    "## Zbiór treningowy, walidacyjny i testowy¶\n",
    "Prosty podział danych na część, na której uczymy model i na część która służy nam do sprawdzenia jego skuteczności."
   ]
  },
  {
   "cell_type": "code",
   "execution_count": 9,
   "metadata": {
    "ExecuteTime": {
     "end_time": "2020-03-07T17:50:27.159896Z",
     "start_time": "2020-03-07T17:50:27.154910Z"
    }
   },
   "outputs": [],
   "source": [
    "from sklearn.model_selection import train_test_split\n",
    "X_train, X_val, y_train, y_val = train_test_split(X, y, test_size=0.3, random_state=42)\n",
    "X_val, X_test, y_val, y_test = train_test_split(X_val, y_val, test_size=0.3, random_state=42)"
   ]
  },
  {
   "cell_type": "code",
   "execution_count": 10,
   "metadata": {
    "ExecuteTime": {
     "end_time": "2020-03-07T17:50:52.333567Z",
     "start_time": "2020-03-07T17:50:52.329929Z"
    }
   },
   "outputs": [
    {
     "name": "stdout",
     "output_type": "stream",
     "text": [
      "(462, 9) (323, 9) (97, 9) (42, 9)\n"
     ]
    }
   ],
   "source": [
    "print(X.shape,X_train.shape, X_val.shape, X_test.shape)"
   ]
  },
  {
   "cell_type": "markdown",
   "metadata": {},
   "source": [
    "### Po co jest zbiór walidacyjny?\n",
    "1. Jeśli chcemy mieć obiektywny benchmark naszego modelu, to musimy go testować na zbiorze, którego model nie widział, czyli na takim, na którym nie dobieramy żadnych parametrów. W przeciwnym razie nasz wynik będzie zaburzony, bo optymalizujemy model pod taki zbiór.\n",
    "2. Val/dev set służy do wybrania *hiper-parametrów*, czyli takich parametrów, które my musimy wybrać (w przeciwieństwie do tych, których algorytm się uczy). Np. wysokość drzewa, prędkość uczenia. Hiperparametry podajemy przy tworzeniu instancji modelu.\n",
    "2. Jak wygląda proces treningu:\n",
    "    * Trenujemy kilka modeli na zbiorze treningowym kilka drzew różnej wysokości i naszą ulubioną regresję logistyczną.\n",
    "    * Na zbiorze walidacyjnym wybieramy najlepszy model\n",
    "    * Na zbiorze testowym mierzymy jego dokładność\n",
    "3. Jeśli pominęlibyśmy krok drugi, to oczywiście uda nam się wybrać najlepszy model, ale jego wynik nie jest rzeczywisty (jest zawyżony), bo *optymalizowaliśmy pod zbiór testowy*"
   ]
  },
  {
   "cell_type": "markdown",
   "metadata": {},
   "source": [
    "### Jakie widzicie wady podejścia train/val/test split?\n",
    "Przy jednokrotnym podziale jest szansa na to, że dane się *korzystnie* ułożą i nasze wyniki będą znów przekłamane"
   ]
  },
  {
   "cell_type": "markdown",
   "metadata": {},
   "source": [
    "### Pomocny może być cross-validation\n",
    "Pomysł polega na tym, że najpierw oddzielamy test set. A to co nam zostało dzelimy wielokrotnie na train i dev set.  \n",
    "\n",
    "Możemy policzyć średnią i wariancję wyników klasyfikatora. Jeśli wyniki mają dużą wariancję, to znaczy, że z klasyfikatorem jest coś nie tak, bo raz działa bardzo dobrze, a raz bardzo źle.  \n",
    "\n",
    "Prawdopodobnie overfitting, ale może być też problem z rozkładem w naszych danych.\n",
    "\n",
    "Więcej o cross-validation na dole\n",
    "<div>\n",
    "<img src=\"https://scikit-learn.org/stable/_images/grid_search_cross_validation.png\" width=\"500\"/>\n",
    "</div>"
   ]
  },
  {
   "cell_type": "markdown",
   "metadata": {},
   "source": [
    "### Jaki znacie najprostszy klasyfikator?"
   ]
  },
  {
   "cell_type": "code",
   "execution_count": 136,
   "metadata": {},
   "outputs": [],
   "source": [
    "from sklearn.dummy import DummyClassifier"
   ]
  },
  {
   "cell_type": "code",
   "execution_count": 137,
   "metadata": {
    "ExecuteTime": {
     "end_time": "2020-03-07T16:35:17.078577Z",
     "start_time": "2020-03-07T16:35:17.072606Z"
    }
   },
   "outputs": [
    {
     "name": "stdout",
     "output_type": "stream",
     "text": [
      "proba: [0.5 0.5 0.5 0.5 0.5 0.5 0.5 0.5 0.5 0.5]\n",
      "y:     [0 1 0 0 0 1 0 0 0 1]\n",
      "y_hat: [0 0 0 0 0 1 0 0 0 0]\n"
     ]
    }
   ],
   "source": [
    "dc = DummyClassifier(strategy='uniform', random_state=42)\n",
    "dc.fit(X_train,y_train)\n",
    "y_proba = dc.predict_proba(X_val)\n",
    "y_hat = dc.predict(X_val)\n",
    "print(\"proba: \" + str(y_proba[0:10,0]) + '\\ny:     ' + str(y_hat[0:10]) + '\\ny_hat: ' + str(y_val[0:10]))"
   ]
  },
  {
   "cell_type": "markdown",
   "metadata": {},
   "source": [
    "Przetestujcie jaki będzie wynik działania algorytmu gdy zmienimy parametr *strategy* - podpowiedź: skorzystaj z dokumentacji funkcji"
   ]
  },
  {
   "cell_type": "code",
   "execution_count": null,
   "metadata": {},
   "outputs": [],
   "source": []
  },
  {
   "cell_type": "markdown",
   "metadata": {},
   "source": [
    "- Jakieś inne proste klasyfikatory?\n",
    "\n",
    "* KNN - https://www.kdnuggets.com/2020/11/most-popular-distance-metrics-knn.html"
   ]
  },
  {
   "cell_type": "markdown",
   "metadata": {},
   "source": [
    "## Regresja logistyczna - czemu by nie prognozować prawdopodobieństwa za pomocą regresji liniowej?\n",
    "\n",
    "**Przypomnienie:** uogólniony model liniowy (regresja liniowa z poprzednich zajęć): $y_{i}=\\beta _{0}1+\\beta _{1}x_{i1}+\\cdots +\\beta _{p}x_{ip} = x^T \\beta$\n",
    "\n",
    "\n",
    "![image](http://res.cloudinary.com/dyd911kmh/image/upload/f_auto,q_auto:best/v1534281070/linear_vs_logistic_regression_edxw03.png)\n",
    "https://www.datacamp.com/community/tutorials/understanding-logistic-regression-python"
   ]
  },
  {
   "cell_type": "markdown",
   "metadata": {},
   "source": [
    "### Jaki jest podstawowy problem z wykorzystaniem regresji do modelowania prawdopodobieństwa?\n",
    "* prawdopodobieństwo $\\in [0,1]$\n",
    "* regresja liniowa jest mocno podatna na odchylenia -> https://www.youtube.com/watch?v=-la3q9d7AKQ&t=211s  \n",
    "\n",
    "### Jakie macie propozycje rozwiązania tego problemu?\n",
    "* *ściśnijmy* wynik naszej funkcji"
   ]
  },
  {
   "cell_type": "markdown",
   "metadata": {},
   "source": [
    "Powyżej po prawej stronie widzice wykres funkcji sigmoid $\\frac{1}{1+e^{-x}}$. To jest przykład funkcji *ściskającej*. Można zapisać też w postaci $\\frac{e^x}{e^x + 1}$ (*)\n",
    "\n",
    "Bierzemy naszą regresję liniową i ściskamy ją sigmoidem - oto cała regresja logistyczna"
   ]
  },
  {
   "cell_type": "markdown",
   "metadata": {},
   "source": [
    "# Uwaga! \n",
    "$x_i$ czasami to wektor cech tzn. $(x_1, ..., x_n)$ a czasami wektor cech z dopisaną jednyką $(1, x_1,..., x_n)$.  \n",
    "To dość powszechna konwencja.  \n",
    "Jednak model regresji w sklearn trzyma pierwszy wyraz $\\beta$ (ten, przez który mnożona jest jedynka) w oddzielnym polu lr.intercept_, więc się nie dziwcie jeśli on czasem wyskakuje \\:) "
   ]
  },
  {
   "cell_type": "markdown",
   "metadata": {},
   "source": [
    "#### Od strony bardziej teoretycznej:\n",
    "1. Przypomnijmy rozkład Bernoulliego (zero-jedynkowy),  $p \\in (0,1)$\n",
    "    * $P(y=1) = p$,\n",
    "    * $P(y=0) = 1-p$.\n",
    "2. Zakładamy, że $y|x_i$ ma rozkład $P(y=1|x_i) = \\frac{1}{1+e^{-x_i \\beta}}$, dla pewnego $\\beta$, które chcemy nauczyć model.\n",
    "\n",
    "#### Poniższe już nie jest kluczowe, ale dla zainteresowanych tym, o co chodziło z tymi napisami.\n",
    "\n",
    "3. Korzystając z alternatywnej postaci sigmoida (\\*) i przekształcając powyższe otrzymujemy, że $\\log\\big(\\frac{P(y=1|x_i)}{P(y=0|x_i)}\\big) = x_i \\beta$\n",
    "4. Wyrażenie $\\frac{P(y=1)}{P(y=0)} = \\frac{p}{1-p}$ nazywamy *szansą* (ang. odds). Szansa **nie jest** prawdopodobieństwem, nie musi być w $(0, 1)$, wręcz przeciwnie, gdy $p = P(y=1), p \\in (0, 1)$, wtedy odds $\\in (0, \\infty)$.\n",
    "5. Problem z szansą jest taki, że $odds(1-p) = \\frac{1}{odds(p)}$, czyli to nie jest symetryczne przy zamianie $p \\rightarrow 1-p$, (zamianie prawdopodobieństwa między zdarzeniami 0 i 1).  \n",
    "Przykład: $p = 0.7$, $odds(p) = \\frac{7}{3} \\approx 2.33$ i $odds(1-p) = \\frac{3}{7} \\approx 0.43$\n",
    "6. Rozwiązaniem jest przyłożenie logarytmu. Oczywiście $\\log(p) = -\\log(1-p)$, czyli ten problem znika. Co więcej, $\\log(odds) \\in (-\\infty, \\infty)$. Możemy zatem go modelować przy użyciu regresji liniowej. To jest napisane w punkcie 3 \\:)\n",
    "7. Zamiast ściskać regresję liniową, żeby przewidywać p-wo, możemy rozciągnąć p-wo, żeby dało się je przewidywać regresją."
   ]
  },
  {
   "cell_type": "code",
   "execution_count": 17,
   "metadata": {
    "ExecuteTime": {
     "end_time": "2020-03-07T15:17:06.286476Z",
     "start_time": "2020-03-07T15:17:06.227772Z"
    }
   },
   "outputs": [
    {
     "name": "stdout",
     "output_type": "stream",
     "text": [
      "y:     [0 0 0 1 1 0 0 0 0 0]\n",
      "y_hat: [0 0 0 0 0 1 0 0 0 0]\n"
     ]
    }
   ],
   "source": [
    "from sklearn.linear_model import LogisticRegression\n",
    "lr = LogisticRegression(max_iter=1000)\n",
    "\n",
    "lr.fit(X_train,y_train)\n",
    "y_hat = lr.predict(X_val)\n",
    "print('y:     ' + str(y_hat[0:10]) + '\\ny_hat: ' + str(y_val[0:10]))"
   ]
  },
  {
   "cell_type": "code",
   "execution_count": 14,
   "metadata": {},
   "outputs": [
    {
     "data": {
      "text/plain": [
       "array([[ 0.00965688,  0.06134623,  0.20694506,  0.0260466 ,  0.70000749,\n",
       "         0.03849995, -0.06385679,  0.0012118 ,  0.04180183]])"
      ]
     },
     "execution_count": 14,
     "metadata": {},
     "output_type": "execute_result"
    }
   ],
   "source": [
    "lr.coef_"
   ]
  },
  {
   "cell_type": "code",
   "execution_count": 15,
   "metadata": {},
   "outputs": [
    {
     "data": {
      "text/plain": [
       "array([-6.55947076])"
      ]
     },
     "execution_count": 15,
     "metadata": {},
     "output_type": "execute_result"
    }
   ],
   "source": [
    "lr.intercept_"
   ]
  },
  {
   "cell_type": "markdown",
   "metadata": {},
   "source": [
    "### Jak interpretować wyniki?"
   ]
  },
  {
   "cell_type": "code",
   "execution_count": 28,
   "metadata": {},
   "outputs": [
    {
     "name": "stdout",
     "output_type": "stream",
     "text": [
      "dla  pierwszej obserwacji przewidujemy klasę 0:  [0]\n",
      "mamy 0.65 na bycie zerem i pozostałe na bycie jedynką:  [[0.65832523 0.34167477]]\n"
     ]
    }
   ],
   "source": [
    "# metoda predict służy do przewidywania -> zwraca wynik\n",
    "print('dla  pierwszej obserwacji przewidujemy klasę 0: ', lr.predict(X_val.iloc[0, :].values.reshape(1,-1))) \n",
    "\n",
    "# metoda predict_proba służy do przewidywania prawdopodobieństwa\n",
    "print('mamy 0.65 na bycie zerem i pozostałe na bycie jedynką: ', lr.predict_proba(X_val.iloc[0, :].values.reshape(1,-1))) \n",
    "\n",
    "# czyli predict_proba(x_i)[1] = p zgodnie z poprzednimi oznaczeniami, jest to szansa, że P(y=1|x_i)"
   ]
  },
  {
   "cell_type": "code",
   "execution_count": 29,
   "metadata": {},
   "outputs": [
    {
     "data": {
      "text/plain": [
       "-0.6297931478708315"
      ]
     },
     "execution_count": 29,
     "metadata": {},
     "output_type": "execute_result"
    }
   ],
   "source": [
    "# Było na zajęciach:\n",
    "    # jak się zmieni powyższy wynik gdy zwiększymy wartość czwartej cechy (tj. adiposity) dla pierwszej obserwacji o 1\n",
    "\n",
    "# Inaczej można powiedzieć: jak zmieni się log(odds), gdy zwiększymy\n",
    "\n",
    "# rozwiązanie:\n",
    "# przygotowujemy sobie wektor danych\n",
    "experiment=X_val.iloc[0,:]\n",
    "experiment[3]=experiment[3]+1\n",
    "\n",
    "# podstawiamy do wzoru na log(odds)\n",
    "np.log(\n",
    "    lr.predict_proba(experiment.values.reshape(1,-1))[0,1] # to jest nasze p\n",
    "    /lr.predict_proba(experiment.values.reshape(1,-1))[0,0]) # to jest 1-p"
   ]
  },
  {
   "cell_type": "markdown",
   "metadata": {},
   "source": [
    "#### Dlaczego można było się przewidzieć, że taki właśnie będzie wynik?"
   ]
  },
  {
   "cell_type": "code",
   "execution_count": 31,
   "metadata": {},
   "outputs": [
    {
     "data": {
      "text/plain": [
       "-0.6297931478708311"
      ]
     },
     "execution_count": 31,
     "metadata": {},
     "output_type": "execute_result"
    }
   ],
   "source": [
    "# Było:\n",
    "\n",
    "#solution\n",
    "np.log(lr.predict_proba(X_val)[0,1]/lr.predict_proba(X_val)[0,0])+lr.coef_[0,3]\n",
    "# otrzymano taki sam wynik - nie trzeba było wykonywać metody predict"
   ]
  },
  {
   "cell_type": "markdown",
   "metadata": {},
   "source": [
    "Inaczej, można od razu skorzystać z równania log(odds) = 'regresja liniowa'  \n",
    "$(1, x_1,..., x_4 + 1, ...) * (\\beta_1,...) = x*\\beta + \\beta_4 = \\log(odds) + \\beta_4$\n",
    "\n",
    "Współczynniki $\\beta$ są zapisane w polu lr.coef_ (patrz wyżej).\n",
    "Można też było się zatrzymać w krok wcześniej, tzn $x*\\beta + \\beta_4$"
   ]
  },
  {
   "cell_type": "code",
   "execution_count": 43,
   "metadata": {},
   "outputs": [
    {
     "data": {
      "text/plain": [
       "array([[-0.62979315]])"
      ]
     },
     "execution_count": 43,
     "metadata": {},
     "output_type": "execute_result"
    }
   ],
   "source": [
    "np.dot(X_val.iloc[0, :].values.reshape(1, -1), lr.coef_.T)+lr.intercept_ + lr.coef_[0,3]"
   ]
  },
  {
   "cell_type": "markdown",
   "metadata": {},
   "source": [
    "#### Jakie są zalety regresji logistycznej?\n",
    "Przede wszystkim interpretowalność"
   ]
  },
  {
   "cell_type": "markdown",
   "metadata": {},
   "source": [
    "## Drzewo decyzyjne\n",
    "<div>\n",
    "<img src=\"https://2.bp.blogspot.com/-T8mWmpq4AsY/USW5BrY2JdI/AAAAAAAAPJE/oRjEsmDN2lM/s1600/WD-40+Duct+Tape+Chart.jpg\" width=\"500\"/>\n",
    "</div>"
   ]
  },
  {
   "cell_type": "markdown",
   "metadata": {},
   "source": [
    "### Zalety drzew\n",
    "* interpretowalność\n",
    "* prostota + wizualizacja\n",
    "* nie trzeba normalizować danych \\:) i outliery się ich nie tykają\n",
    "* mają fajne metody do wykrywania ważnych cech\n",
    "\n",
    "### Wady drzew\n",
    "* łatwo o overfitting\n",
    "* drzewo długo rośnie\n",
    "* starych drzew się nie przesadza - nie da się dotrenować algorytmu po jakimś czasie, trzeba zasadzić nowe \n",
    "* jest duża losowość - na tych samych danych algorytm może dawać bardzo różne wyniki\n",
    "\n",
    "Jak dzielą się dane w nodach: https://jakbadacdane.pl/jak-wyhodowac-drzewo-decyzyjne/"
   ]
  },
  {
   "cell_type": "code",
   "execution_count": 45,
   "metadata": {
    "ExecuteTime": {
     "end_time": "2020-03-07T16:33:36.468292Z",
     "start_time": "2020-03-07T16:33:36.240821Z"
    }
   },
   "outputs": [
    {
     "name": "stdout",
     "output_type": "stream",
     "text": [
      "y:     [0 0 0 0 1 0 1 0 1 1]\n",
      "y_hat: [0 0 0 0 0 1 0 0 0 0]\n"
     ]
    },
    {
     "data": {
      "image/png": "[encoded data removed]",
      "text/plain": [
       "<Figure size 1440x1440 with 1 Axes>"
      ]
     },
     "metadata": {
      "needs_background": "light"
     },
     "output_type": "display_data"
    }
   ],
   "source": [
    "from sklearn.tree import DecisionTreeClassifier,plot_tree, export_graphviz\n",
    "## biblioteka poniżej może być problematyczna na Windows\n",
    "import graphviz\n",
    "\n",
    "tree1 = DecisionTreeClassifier()\n",
    "\n",
    "tree1.fit(X_train,y_train)\n",
    "y_hat = tree1.predict(X_val)\n",
    "print('y:     ' + str(y_hat[0:10]) + '\\ny_hat: ' + str(y_val[0:10]))\n",
    "\n",
    "plt.figure(figsize=(20,20))\n",
    "splits=plot_tree(tree1, filled=True)"
   ]
  },
  {
   "cell_type": "code",
   "execution_count": 46,
   "metadata": {},
   "outputs": [
    {
     "data": {
      "text/plain": [
       "{'ccp_alpha': 0.0,\n",
       " 'class_weight': None,\n",
       " 'criterion': 'gini',\n",
       " 'max_depth': None,\n",
       " 'max_features': None,\n",
       " 'max_leaf_nodes': None,\n",
       " 'min_impurity_decrease': 0.0,\n",
       " 'min_impurity_split': None,\n",
       " 'min_samples_leaf': 1,\n",
       " 'min_samples_split': 2,\n",
       " 'min_weight_fraction_leaf': 0.0,\n",
       " 'presort': 'deprecated',\n",
       " 'random_state': None,\n",
       " 'splitter': 'best'}"
      ]
     },
     "execution_count": 46,
     "metadata": {},
     "output_type": "execute_result"
    }
   ],
   "source": [
    "tree1.get_params() # możemy podejrzeć parametry modelu"
   ]
  },
  {
   "cell_type": "markdown",
   "metadata": {},
   "source": [
    "## SVM\n",
    "Znalezienie równania hiperpłaszczyzny, która najlepiej dzieli nasz zbiór danych na klasy.\n",
    "\n",
    "**Uwaga: w przypadku SVM nie modelujemy prawdopodobieństwa przynależności do danej klasy - domyślnym wyjściem jest informacja o konkretnej klasie**\n",
    "- Co jeżeli nie istnieje taka płaszczyzna?\n",
    "- Co jeżeli nasze dane nie są separowalne liniowo, tylko np. radialnie?"
   ]
  },
  {
   "cell_type": "markdown",
   "metadata": {},
   "source": [
    "![image](https://upload.wikimedia.org/wikipedia/commons/thumb/7/72/SVM_margin.png/300px-SVM_margin.png)"
   ]
  },
  {
   "cell_type": "markdown",
   "metadata": {},
   "source": [
    "https://en.wikipedia.org/wiki/Support-vector_machine"
   ]
  },
  {
   "cell_type": "markdown",
   "metadata": {},
   "source": [
    "### Kernel trick\n",
    "1. To jest ponad zakres tego kursu\n",
    "2. To jest najlepsze co mają SVMy, bo tak to są po prostu kolejnym liniowym klasyfikatorem"
   ]
  },
  {
   "cell_type": "markdown",
   "metadata": {},
   "source": [
    "![image](https://machine-learning-note.readthedocs.io/en/latest/_images/svm_kernel_trick.png)"
   ]
  },
  {
   "cell_type": "markdown",
   "metadata": {},
   "source": [
    "https://machine-learning-note.readthedocs.io/en/latest/algorithm/svm.html"
   ]
  },
  {
   "cell_type": "code",
   "execution_count": 150,
   "metadata": {
    "ExecuteTime": {
     "end_time": "2020-03-07T16:57:59.319024Z",
     "start_time": "2020-03-07T16:57:59.302833Z"
    }
   },
   "outputs": [
    {
     "name": "stdout",
     "output_type": "stream",
     "text": [
      "y:     [0 0 0 0 0 0 0 0 0 0]\n",
      "y_hat: [0 0 0 0 0 1 0 0 0 0]\n"
     ]
    }
   ],
   "source": [
    "from sklearn.svm import SVC\n",
    "svm = SVC()\n",
    "\n",
    "svm.fit(X_train,y_train)\n",
    "y_hat = svm.predict(X_val)\n",
    "print('y:     ' + str(y_hat[0:10]) + '\\ny_hat: ' + str(y_val[0:10]))"
   ]
  },
  {
   "cell_type": "markdown",
   "metadata": {},
   "source": [
    "Jakie są wady?\n",
    "- trudno dobrać optymalne parametry\n",
    "- metoda wrażliwa na skalowanie danych\n",
    "- długo się \"uczy\""
   ]
  },
  {
   "cell_type": "markdown",
   "metadata": {},
   "source": [
    "## Naiwny Klasyfikator Bayesowski\n",
    "Jest oparty na założeniu o wzajemnej niezależności zmiennych. Często nie mają one żadnego związku z rzeczywistością i właśnie z tego powodu nazywa się je naiwnymi."
   ]
  },
  {
   "cell_type": "markdown",
   "metadata": {},
   "source": [
    "![image](https://wikimedia.org/api/rest_v1/media/math/render/svg/cae70e6035d9ac52c547bc1c666e372063b85324)"
   ]
  },
  {
   "cell_type": "markdown",
   "metadata": {},
   "source": [
    "Mianownik nie zależy od C więc nie będziemy go dalej analizować - skupimy się na liczniku.\n",
    "![image](https://wikimedia.org/api/rest_v1/media/math/render/svg/2d0555690cd428cb6d6a52ea6b6391256125a45c) "
   ]
  },
  {
   "cell_type": "markdown",
   "metadata": {},
   "source": [
    "Rekurencyjnie obliczenia będą kontynuowane. Teraz pora zrozumieć dokładniej dlaczego występuje słowo \"naiwny\" w nazwie metody.\n",
    "    Zakładamy bowiem że cechy $F_i$ są niezależne czyli ![image](https://wikimedia.org/api/rest_v1/media/math/render/svg/8898f2ee081f407669fdb7a4f60e390615513346)"
   ]
  },
  {
   "cell_type": "markdown",
   "metadata": {},
   "source": [
    "Ostatecznie wzór to: ![image](https://wikimedia.org/api/rest_v1/media/math/render/svg/a5978cc50b1c3d745ad304987a750aeb4a27df5b)"
   ]
  },
  {
   "cell_type": "markdown",
   "metadata": {},
   "source": [
    "https://pl.wikipedia.org/wiki/Naiwny_klasyfikator_bayesowski"
   ]
  },
  {
   "cell_type": "code",
   "execution_count": 151,
   "metadata": {
    "ExecuteTime": {
     "end_time": "2020-03-07T17:27:54.549246Z",
     "start_time": "2020-03-07T17:27:54.541140Z"
    }
   },
   "outputs": [
    {
     "name": "stdout",
     "output_type": "stream",
     "text": [
      "y:     [0 0 0 1 1 0 0 0 0 0]\n",
      "y_hat: [0 0 0 0 0 1 0 0 0 0]\n"
     ]
    }
   ],
   "source": [
    "from sklearn.naive_bayes import GaussianNB\n",
    "\n",
    "nb = GaussianNB()\n",
    "\n",
    "nb.fit(X_train,y_train)\n",
    "y_hat = nb.predict(X_val)\n",
    "print('y:     ' + str(y_hat[0:10]) + '\\ny_hat: ' + str(y_val[0:10]))"
   ]
  },
  {
   "cell_type": "markdown",
   "metadata": {},
   "source": [
    "## Lepszy sposób na podział danych na zbiory treningowe i testowe"
   ]
  },
  {
   "cell_type": "markdown",
   "metadata": {},
   "source": [
    "### Crossvalidation\n",
    "- Czy możemy stosować CV dzieląc zbiór, tak by w zbiorze walidacyjnym pozostała tylko jedna obserwacja danych?  \n",
    "Tak, ale to wymaga dużo trenowania i może nie być tego warte\n",
    "- Czy sprawdzając performance modelu przez CV, możemy potem nauczyć model na całym zbiorze danych?  \n",
    "Na całym treningowym i walidacyjnym. Testowy zawsze zostaje "
   ]
  },
  {
   "cell_type": "code",
   "execution_count": 152,
   "metadata": {
    "ExecuteTime": {
     "end_time": "2020-03-07T17:58:33.491733Z",
     "start_time": "2020-03-07T17:58:33.127377Z"
    }
   },
   "outputs": [
    {
     "data": {
      "text/plain": [
       "array([0.80952381, 0.80952381, 0.69047619, 0.66666667, 0.61904762,\n",
       "       0.64285714, 0.73809524, 0.66666667, 0.73809524, 0.76190476])"
      ]
     },
     "execution_count": 152,
     "metadata": {},
     "output_type": "execute_result"
    }
   ],
   "source": [
    "from sklearn.model_selection import cross_val_score\n",
    "X_train_val=pd.concat((X_train,X_val))\n",
    "y_train_val=np.concatenate((y_train,y_val), axis=0)\n",
    "cross_val_score(lr, X_train_val, y_train_val, scoring='accuracy', cv = 10)"
   ]
  },
  {
   "cell_type": "markdown",
   "metadata": {},
   "source": [
    "## Miary ocen jakości klasyfikatorów\n",
    "- Jakie znacie miary oceny klasyfikatorów?"
   ]
  },
  {
   "cell_type": "markdown",
   "metadata": {},
   "source": [
    "### Accuracy\n",
    "$ACC = \\frac{TP+TN}{ALL}$\n",
    "\n",
    "Bardzo intuicyjna miara - ile obserwacji zakwalifikowaliśmy poprawnie.\n",
    "\n",
    "- Jaki jest problem z *accuracy*?"
   ]
  },
  {
   "cell_type": "markdown",
   "metadata": {},
   "source": [
    "### Precision & Recall\n",
    "$PRECISION = \\frac{TP}{TP+FP}= \\frac{TP}{\\text{TOTAL PREDICTED POSITIVE}}$\n",
    "\n",
    "$RECALL = \\frac{TP}{TP+FN}$"
   ]
  },
  {
   "cell_type": "markdown",
   "metadata": {},
   "source": [
    "### F1 Score\n",
    "$F1\\_SCORE =\\frac{2*PRECISION*RECALL}{PRECISION+RECALL}$"
   ]
  },
  {
   "cell_type": "markdown",
   "metadata": {},
   "source": [
    "### ROC AUC"
   ]
  },
  {
   "cell_type": "markdown",
   "metadata": {},
   "source": [
    "![Image](https://mathspace.pl/wp-content/uploads/2016/09/ROC-krzywa.png)"
   ]
  },
  {
   "cell_type": "markdown",
   "metadata": {},
   "source": [
    "https://mathspace.pl/matematyka/receiver-operating-characteristic-krzywa-roc-czyli-ocena-jakosci-klasyfikacji-czesc-7/"
   ]
  },
  {
   "cell_type": "markdown",
   "metadata": {},
   "source": [
    "![image](https://cdn.analyticsvidhya.com/wp-content/uploads/2020/06/data-1.png)"
   ]
  },
  {
   "cell_type": "markdown",
   "metadata": {},
   "source": [
    "https://www.analyticsvidhya.com/blog/2020/06/auc-roc-curve-machine-learning/"
   ]
  },
  {
   "cell_type": "markdown",
   "metadata": {},
   "source": [
    "**Zadanie** - przetestować 3 modele przedstawione dziś na zajęciach i sprawdzić, który jest lepszy na podstawie wyżej wymienionych miar. Należy zastosować kroswalidację."
   ]
  },
  {
   "cell_type": "code",
   "execution_count": null,
   "metadata": {},
   "outputs": [],
   "source": []
  }
 ],
 "metadata": {
  "kernelspec": {
   "display_name": "Python 3",
   "language": "python",
   "name": "python3"
  },
  "language_info": {
   "codemirror_mode": {
    "name": "ipython",
    "version": 3
   },
   "file_extension": ".py",
   "mimetype": "text/x-python",
   "name": "python",
   "nbconvert_exporter": "python",
   "pygments_lexer": "ipython3",
   "version": "3.8.3"
  },
  "toc": {
   "base_numbering": 1,
   "nav_menu": {},
   "number_sections": true,
   "sideBar": true,
   "skip_h1_title": false,
   "title_cell": "Table of Contents",
   "title_sidebar": "Contents",
   "toc_cell": false,
   "toc_position": {},
   "toc_section_display": true,
   "toc_window_display": false
  }
 },
 "nbformat": 4,
 "nbformat_minor": 2
}
