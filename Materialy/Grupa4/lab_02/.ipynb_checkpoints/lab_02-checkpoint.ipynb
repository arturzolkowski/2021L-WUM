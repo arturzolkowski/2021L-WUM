{
 "cells": [
  {
   "cell_type": "markdown",
   "metadata": {},
   "source": [
    "# Pakiety"
   ]
  },
  {
   "cell_type": "code",
   "execution_count": null,
   "metadata": {},
   "outputs": [],
   "source": [
    "import pandas as pd\n",
    "import numpy as np\n",
    "import sklearn \n",
    "from sklearn.datasets import load_boston\n",
    "import seaborn as sns\n",
    "import matplotlib.pyplot as plt\n",
    "import matplotlib\n",
    "import warnings\n",
    "warnings.filterwarnings('ignore')\n",
    "np.random.seed(23)"
   ]
  },
  {
   "cell_type": "code",
   "execution_count": null,
   "metadata": {},
   "outputs": [],
   "source": [
    "COLOR = 'white'\n",
    "matplotlib.rcParams['text.color'] = COLOR\n",
    "matplotlib.rcParams['axes.labelcolor'] = COLOR\n",
    "matplotlib.rcParams['xtick.color'] = COLOR\n",
    "matplotlib.rcParams['ytick.color'] = COLOR\n",
    "matplotlib.rcParams['figure.figsize'] = (10, 6)\n",
    "matplotlib.rcParams['font.size'] = 14"
   ]
  },
  {
   "cell_type": "markdown",
   "metadata": {},
   "source": [
    "# Zbiór danych nt. butów męskich\n",
    "## naszym celem jest przewidzenie ceny - prices_amountmin"
   ]
  },
  {
   "cell_type": "code",
   "execution_count": null,
   "metadata": {},
   "outputs": [],
   "source": [
    "# wczytujemy dane \n",
    "shoes_df = pd.read_csv('menshoes.csv')\n",
    "\n",
    "# w tym momencie następuje odruch bezwarunkowy\n",
    "shoes_df.head()\n",
    "\n",
    "# jakie wnioski?\n",
    "# @conclusions\n"
   ]
  },
  {
   "cell_type": "code",
   "execution_count": null,
   "metadata": {},
   "outputs": [],
   "source": [
    "#  Korzystając z przyjaciół przyjrzyjmy się bliżej\n",
    "shoes_df.info()\n",
    "# @conclusions\n"
   ]
  },
  {
   "cell_type": "code",
   "execution_count": null,
   "metadata": {},
   "outputs": [],
   "source": [
    "threshold = shoes_df.shape[0] * 0.7\n",
    "shoes_df_drop = shoes_df.loc[:, shoes_df.apply(lambda x: x.isna().sum(), axis=0) < threshold]\n",
    "shoes_df_drop.head(10)"
   ]
  },
  {
   "cell_type": "markdown",
   "metadata": {},
   "source": [
    "które kolumny jeszcze wydają się niepotrzebne?  \n",
    "które kolumny trzeba przekształcić?"
   ]
  },
  {
   "cell_type": "code",
   "execution_count": null,
   "metadata": {},
   "outputs": [],
   "source": [
    "# @conclusions\n"
   ]
  },
  {
   "cell_type": "code",
   "execution_count": null,
   "metadata": {},
   "outputs": [],
   "source": [
    "# popatrzmy na kolory butów\n",
    "shoes_df_drop['colors'].value_counts()\n",
    "\n",
    "# jakie jest ograniczenie metody .value_counts()?\n",
    "# @conclusion\n"
   ]
  },
  {
   "cell_type": "code",
   "execution_count": null,
   "metadata": {},
   "outputs": [],
   "source": [
    "# wartości NA\n",
    "pd.DataFrame(shoes_df_drop['colors']).info()"
   ]
  },
  {
   "cell_type": "markdown",
   "metadata": {},
   "source": [
    "jest sporo braków  \n",
    "pomówimy jak z tym żyć za chwilę  \n",
    "najpierw wizualizacja  \n",
    "jakieś pomysły na wizualizację zmienna ciągła vs. kategoryczna?"
   ]
  },
  {
   "cell_type": "code",
   "execution_count": null,
   "metadata": {
    "scrolled": true
   },
   "outputs": [],
   "source": [
    "Black_Brown = shoes_df_drop.loc[shoes_df_drop['colors'].isin(['Black', 'Brown'])]\n",
    "violin_plot = sns.violinplot(Black_Brown['colors'], Black_Brown['prices_amountmin'])\n",
    "violin_plot.set_title('Rozkład ceny względem koloru butów')\n",
    "plt.show()"
   ]
  },
  {
   "cell_type": "code",
   "execution_count": null,
   "metadata": {},
   "outputs": [],
   "source": [
    "popular_colors=shoes_df_drop.loc[shoes_df_drop['colors'].isin(shoes_df_drop['colors'].value_counts().index[:5])]\n",
    "mean_price_popular_colors=popular_colors.groupby('colors')['prices_amountmin'].mean()\n",
    "mean_price_popular_colors.plot(kind='bar', title='Średnia cena')\n",
    "plt.\n",
    "plt.show()"
   ]
  },
  {
   "cell_type": "markdown",
   "metadata": {},
   "source": [
    "# Imputacja zmiennych kategorycznych"
   ]
  },
  {
   "cell_type": "markdown",
   "metadata": {},
   "source": [
    "kolumna colors miała dużo nieuzupełnionych wartości  \n",
    "jak można je uzupełnić?"
   ]
  },
  {
   "cell_type": "code",
   "execution_count": null,
   "metadata": {},
   "outputs": [],
   "source": [
    "# możnaby najczęściej występującym kolorem, ale czy to nie wprowadza fałszywej informacji?\n",
    "# lepsze podejście - nowa klasa 'Other'\n",
    "shoes_df_drop['colors'].fillna('Missing_color')  #działa"
   ]
  },
  {
   "cell_type": "code",
   "execution_count": null,
   "metadata": {},
   "outputs": [],
   "source": [
    "# czy można lepiej?\n",
    "# można!\n",
    "shoes_df_drop['missing' + 'colors'] = shoes_df_drop['colors'].isna()*1\n",
    "shoes_df_drop['colors'].fillna('Missing_color', inplace=True)\n",
    "\n",
    "# po co ta informacja, skoro w kolumnie już jest napisane, że to brakujący kolor?\n",
    "# @conclusion\n"
   ]
  },
  {
   "cell_type": "markdown",
   "metadata": {},
   "source": [
    "### Uwaga, to co jest wyżej to wcale nie jest prawda  \n",
    "### przekonamy się o tym przy one hot encoding"
   ]
  },
  {
   "cell_type": "markdown",
   "metadata": {},
   "source": [
    "# Imputacja zmiennych ciągłych"
   ]
  },
  {
   "cell_type": "code",
   "execution_count": null,
   "metadata": {},
   "outputs": [],
   "source": [
    "# w naszym zbiorze nie ma nic do imputacji ciągłej\n",
    "# zerknijmy na szutczny zbiór\n",
    "fake_data=pd.DataFrame({'num':np.random.choice([None, 3,4], 100), \n",
    "                        'cat': np.random.choice([None, 'Puma','Nike','Adidas'], 100, p=[0.92, 0.03, 0.03, 0.02])})\n",
    "fake_data.head()"
   ]
  },
  {
   "cell_type": "code",
   "execution_count": null,
   "metadata": {},
   "outputs": [],
   "source": [
    "# średnia czy mediana?\n",
    "fake_data.num.fillna(fake_data.num.median(), inplace=True) #fake_data.num.mean()\n",
    "fake_data.info()"
   ]
  },
  {
   "cell_type": "markdown",
   "metadata": {},
   "source": [
    "# Outliery"
   ]
  },
  {
   "cell_type": "code",
   "execution_count": null,
   "metadata": {},
   "outputs": [],
   "source": [
    "# dane jedynie z przedziału (średnia +- 3 sigma) - ma to sens gdy rozkład normalny\n",
    "data=pd.DataFrame({'num':np.random.normal(2,0.4,1000)})\n",
    "factor = 3\n",
    "upper_lim = data['num'].mean () + data['num'].std () * factor\n",
    "lower_lim = data['num'].mean () - data['num'].std () * factor\n",
    "\n",
    "data = data[(data['num'] < upper_lim) & (data['num'] > lower_lim)]\n",
    "data.shape"
   ]
  },
  {
   "cell_type": "code",
   "execution_count": null,
   "metadata": {},
   "outputs": [],
   "source": [
    "# usuwanie na podstawie skrajnych percentyli\n",
    "# to już zadziała \"dobrze\" dla każdego rozkładu\n",
    "# załadujmy nasz ulubiony Boston\n",
    "boston_dict = load_boston()\n",
    "boston_df = pd.DataFrame(boston_dict['data'], columns=boston_dict['feature_names'])\n",
    "\n",
    "dis_data = boston_df['DIS']\n",
    "print('Wejściowy rozmiar: ', dis_data.shape[0])\n",
    "\n",
    "upper_lim = dis_data.quantile(.95)\n",
    "lower_lim = dis_data.quantile(.05)\n",
    "\n",
    "data_percentile = dis_data[(dis_data < upper_lim) & (dis_data > lower_lim)]\n",
    "print('Wyjściowy rozmiar: ', data_percentile.shape[0])\n",
    "print('Pozostało %: ', round(data_percentile.shape[0]/dis_data.shape[0], 2))\n",
    "\n",
    "# co tu jest nie halo?\n",
    "# @conclusion\n"
   ]
  },
  {
   "cell_type": "code",
   "execution_count": null,
   "metadata": {},
   "outputs": [],
   "source": [
    "# to może boxplot?\n",
    "# faktycznie, dołu nie powinniśmy obcinać\n",
    "# ale na górze są outliery!\n",
    "plot_box = sns.boxplot(boston_df['DIS'])\n",
    "plot_box.set_title('Rozkład zmiennej DIS')\n",
    "plt.show()"
   ]
  },
  {
   "cell_type": "code",
   "execution_count": null,
   "metadata": {},
   "outputs": [],
   "source": [
    "# nope\n",
    "# ten rozkład taki jest, nie można go za to winić\n",
    "# tu nie ma outlierów\n",
    "plot_dens=sns.histplot(boston_df['DIS'])\n",
    "plot_dens.set_title('Rozkład zmiennej DIS')\n",
    "plt.show()"
   ]
  },
  {
   "cell_type": "markdown",
   "metadata": {},
   "source": [
    "#  Grouping & Binning\n",
    "### Agregujemy klasy do wyższego poziomu lub tniemy zmienną ciągłą na klasy"
   ]
  },
  {
   "cell_type": "markdown",
   "metadata": {},
   "source": [
    "czasami potrzebujemy zrobić ze zmiennej ciągłej kategoryczną  \n",
    "albo mamy zmienną kategoryczną o bardzo dużej liczbie klas  \n",
    "albo dużo klas mało licznych"
   ]
  },
  {
   "cell_type": "code",
   "execution_count": null,
   "metadata": {},
   "outputs": [],
   "source": [
    "# zobaczmy jak wygląda kolumna brand \n",
    "shoes_df_drop['brand'].value_counts()\n",
    "# co można z tym zrobić?\n",
    "# @conclusions\n"
   ]
  },
  {
   "cell_type": "code",
   "execution_count": null,
   "metadata": {},
   "outputs": [],
   "source": [
    "# jest aż 560 marek, które występują raz\n",
    "shoes_df_drop['brand'].value_counts()[shoes_df_drop['brand'].value_counts() == 1].shape[0]\n",
    "\n",
    "# czyli grupujemy w kategorię Other?\n",
    "# @conclusion\n"
   ]
  },
  {
   "cell_type": "code",
   "execution_count": null,
   "metadata": {},
   "outputs": [],
   "source": [
    "# przyjrzyjmy się bliżej\n",
    "brands = shoes_df_drop[['brand']].groupby(['brand']).size().sort_values(ascending=False).reset_index()\n",
    "brands.columns = ['brand', 'count']\n",
    "brands.loc[brands['brand'].apply(lambda x:'nike' in x.lower())]"
   ]
  },
  {
   "cell_type": "markdown",
   "metadata": {},
   "source": [
    "może warto najpierw zgrupować Najacze a potem dopiero Others?  \n",
    "Nike i NIKE to na pewno to samo, ale może NIKE - Kobe to dość niszowe obuwie i warto, żeby było Others?  \n",
    "to samodzielna decyzja"
   ]
  },
  {
   "cell_type": "code",
   "execution_count": null,
   "metadata": {},
   "outputs": [],
   "source": [
    "nike_synonyms = brands.loc[brands['brand'].apply(lambda x:'nike' in x.lower()), 'brand'].values\n",
    "\n",
    "small_classes = shoes_df_drop['brand'].value_counts()[shoes_df_drop['brand'].value_counts() == 1].index\n",
    "\n",
    "shoes_df_drop['brands' + '_processed'] = np.where(shoes_df_drop['brand'].isin(nike_synonyms), 'nike', \n",
    "                                              np.where(shoes_df_drop['brand'].isin(small_classes), 'Other', shoes_df_drop['brand']))\n",
    "\n",
    "shoes_df_drop['brands' + '_processed'].value_counts()"
   ]
  },
  {
   "cell_type": "code",
   "execution_count": null,
   "metadata": {},
   "outputs": [],
   "source": [
    "# można to zrobić też przy pomocy słownika\n",
    "geo=np.random.choice((\"Poland\",'Chile', 'France', 'Spain'), 100)\n",
    "geo=pd.Series(geo)\n",
    "geo"
   ]
  },
  {
   "cell_type": "code",
   "execution_count": null,
   "metadata": {},
   "outputs": [],
   "source": [
    "dict_geo={'Poland': \"Europe\", \"Chile\":\"South America\", \"France\":\"Europe\"}\n",
    "from collections import defaultdict\n",
    "countries_list = [('Poland','Europe'), ('France','Europe'), ('Chile','South America')]\n",
    "geo.map(dict_geo)"
   ]
  },
  {
   "cell_type": "code",
   "execution_count": null,
   "metadata": {},
   "outputs": [],
   "source": [
    "# metoda z użyciem dict/defaultdict\n",
    "countries_dict = defaultdict(lambda:'Other')\n",
    "for continent, country in countries_list:\n",
    "     countries_dict[continent]=country\n",
    "geo.map(countries_dict)"
   ]
  },
  {
   "cell_type": "code",
   "execution_count": null,
   "metadata": {},
   "outputs": [],
   "source": [
    "# naszym celem było przewidywanie cen butów\n",
    "# ale może wystarczy jeśli przewidzimy to bardziej z grubsza? Tanie, średnie, drogie\n",
    "prices_hist = sns.histplot(shoes_df_drop['prices_amountmin'])\n",
    "prices_hist.set_title('Rozkład cen butów')\n",
    "plt.show()"
   ]
  },
  {
   "cell_type": "code",
   "execution_count": null,
   "metadata": {},
   "outputs": [],
   "source": [
    "pd.cut(shoes_df_drop['prices_amountmin'], bins=[0, 100, 200, 250], labels=['cheap', 'affordable', 'expensive'])[17:]"
   ]
  },
  {
   "cell_type": "code",
   "execution_count": null,
   "metadata": {},
   "outputs": [],
   "source": [
    "cutted = pd.cut(shoes_df_drop['prices_amountmin'], bins=[0, 100, 200, np.inf], labels=['cheap', 'affordable', 'expensive'])\n",
    "cutted[18:]"
   ]
  },
  {
   "cell_type": "code",
   "execution_count": null,
   "metadata": {},
   "outputs": [],
   "source": [
    "# zawsze warto sprawdzić\n",
    "cutted[cutted.isna()]"
   ]
  },
  {
   "cell_type": "code",
   "execution_count": null,
   "metadata": {},
   "outputs": [],
   "source": [
    "# i spróbować zrozumieć dlaczego\n",
    "shoes_df_drop.loc[4176, 'prices_amountmin']"
   ]
  },
  {
   "cell_type": "markdown",
   "metadata": {},
   "source": [
    "# Dla przypomnienia - Log Transform"
   ]
  },
  {
   "cell_type": "code",
   "execution_count": null,
   "metadata": {},
   "outputs": [],
   "source": [
    "dis_dist = sns.distplot(boston_df['DIS'])\n",
    "dis_dist.set_title('Rozkład zmiennej DIS')\n",
    "plt.show()"
   ]
  },
  {
   "cell_type": "code",
   "execution_count": null,
   "metadata": {},
   "outputs": [],
   "source": [
    "dis_log_dist = sns.distplot(np.log1p(boston_df['DIS']))\n",
    "dis_log_dist.set_title('Rozkład logarytmu zmiennej DIS')\n",
    "plt.show()\n",
    "# nie jest idealnie, ale na pewno mniej skośnie \\:)"
   ]
  },
  {
   "cell_type": "markdown",
   "metadata": {},
   "source": [
    "# Categorical variables encoding\n",
    "### algorytmy często nie lubią zmiennych kategorycznych"
   ]
  },
  {
   "cell_type": "code",
   "execution_count": null,
   "metadata": {},
   "outputs": [],
   "source": [
    "from sklearn.preprocessing import LabelEncoder\n",
    "from sklearn.preprocessing import OneHotEncoder\n",
    "\n",
    "data = ['cold', 'cold', 'warm', 'cold', 'hot', 'hot', 'warm', 'cold', 'warm', 'hot']\n",
    "values = np.array(data)\n",
    "\n",
    "# integer encode\n",
    "le = LabelEncoder()\n",
    "integer_encoded = le.fit_transform(values)\n",
    "print(integer_encoded)"
   ]
  },
  {
   "cell_type": "markdown",
   "metadata": {},
   "source": [
    "Warto zauważyć, że to ma sens, tylko dla zmiennych, które reprezentują jakieś poziomy/kolejność"
   ]
  },
  {
   "cell_type": "code",
   "execution_count": null,
   "metadata": {},
   "outputs": [],
   "source": [
    "# uwaga! \n",
    "# nie panujemy nad kolejnością -> check OrdinalEncoder\n",
    "data = ['hot', 'cold', 'warm', 'cold', 'hot', 'hot', 'warm', 'cold', 'warm', 'hot']\n",
    "values = np.array(data)\n",
    "le = LabelEncoder()\n",
    "integer_encoded = le.fit_transform(values)\n",
    "print(integer_encoded)"
   ]
  },
  {
   "cell_type": "code",
   "execution_count": null,
   "metadata": {},
   "outputs": [],
   "source": [
    "# binary encode\n",
    "onehot_encoder = OneHotEncoder(sparse=False)\n",
    "integer_encoded = integer_encoded.reshape(len(integer_encoded), 1)\n",
    "onehot_encoded = onehot_encoder.fit_transform(integer_encoded)\n",
    "print(onehot_encoded)"
   ]
  },
  {
   "cell_type": "code",
   "execution_count": null,
   "metadata": {},
   "outputs": [],
   "source": [
    "# przykład z naszych danych\n",
    "# kolumna categories wyglądała obiecująco\n",
    "shoes_df_drop.head()"
   ]
  },
  {
   "cell_type": "code",
   "execution_count": null,
   "metadata": {},
   "outputs": [],
   "source": [
    "shoes_df_drop['categories'].value_counts()"
   ]
  },
  {
   "cell_type": "code",
   "execution_count": null,
   "metadata": {},
   "outputs": [],
   "source": [
    "# podrążmy temat\n",
    "categories = {}\n",
    "def split_and_count(x, categories):\n",
    "    cat_list = x.split(',')\n",
    "    for cat in cat_list:\n",
    "        categories.setdefault(cat, 0)\n",
    "        categories[cat] += 1\n",
    "    return categories\n",
    "\n",
    "for row in shoes_df_drop['categories'].iteritems():\n",
    "    split_and_count(row[1], categories)\n",
    "categories_df = pd.DataFrame.from_dict(categories, orient='index').reset_index()\n",
    "categories_df.columns = ['category', 'count']\n",
    "categories_df.sort_values(by='count', ascending=False).head(20)\n",
    "\n",
    "# kategorie typu athletic, *sport, *outwear mogą się nadawać na one-hot"
   ]
  },
  {
   "cell_type": "markdown",
   "metadata": {},
   "source": [
    "# Scaling\n",
    "- min-max scaling\n",
    "- standarization"
   ]
  },
  {
   "cell_type": "markdown",
   "metadata": {},
   "source": [
    "niektóre algorytmy nie lubią dużych skal zmiennych - regresja liniowa z poprzednich zajęć   \n",
    "jakiś parametr musi \"obsłużyć\" bardzo małe i bardzo duże liczby  \n",
    "inne potrzebują mieć zmienne w konkretnym przedziale"
   ]
  },
  {
   "cell_type": "code",
   "execution_count": null,
   "metadata": {
    "scrolled": true
   },
   "outputs": [],
   "source": [
    "# min-max scaling\n",
    "from sklearn.preprocessing import MinMaxScaler\n",
    "data = np.array([-1, 2, -0.5, 6, 0, 10, 1, 18]).reshape(-1, 1)\n",
    "mm_scaler = MinMaxScaler()\n",
    "\n",
    "print(mm_scaler.fit_transform(data))\n"
   ]
  },
  {
   "cell_type": "code",
   "execution_count": null,
   "metadata": {},
   "outputs": [],
   "source": [
    "# standarization\n",
    "from sklearn.preprocessing import StandardScaler\n",
    "data = np.array([-1, 2, -0.5, 6, 0, 10, 1, 18]).reshape(-1, 1)\n",
    "scaler = StandardScaler()\n",
    "scaled_data = scaler.fit_transform(data)\n",
    "print(scaled_data)\n",
    "print(np.round(np.mean(scaled_data), 4), np.std(scaled_data))"
   ]
  },
  {
   "cell_type": "markdown",
   "metadata": {},
   "source": [
    "# Extracting info from date"
   ]
  },
  {
   "cell_type": "code",
   "execution_count": null,
   "metadata": {},
   "outputs": [],
   "source": [
    "from datetime import date\n",
    "\n",
    "data = pd.DataFrame({'date':\n",
    "['01-01-2017',\n",
    "'04-12-2008',\n",
    "'23-06-1988',\n",
    "'25-08-1999',\n",
    "'20-02-1993',\n",
    "]})\n",
    "\n",
    "#Transform string to date\n",
    "data['date'] = pd.to_datetime(data.date, format=\"%d-%m-%Y\")\n",
    "\n",
    "#Extracting Year\n",
    "data['year'] = data['date'].dt.year\n",
    "\n",
    "#Extracting Month\n",
    "data['month'] = data['date'].dt.month\n",
    "\n",
    "#Extracting passed years since the date\n",
    "data['passed_years'] = date.today().year - data['date'].dt.year\n",
    "\n",
    "#Extracting passed months since the date\n",
    "data['passed_months'] = (date.today().year - data['date'].dt.year) * 12 + date.today().month - data['date'].dt.month\n",
    "\n",
    "#Extracting the weekday name of the date\n",
    "data['day_name'] = data['date'].dt.day_name()"
   ]
  },
  {
   "cell_type": "code",
   "execution_count": null,
   "metadata": {},
   "outputs": [],
   "source": [
    "data"
   ]
  },
  {
   "cell_type": "markdown",
   "metadata": {},
   "source": [
    "# warto poczytać\n",
    "pakiet category_encoders:\n",
    "- https://kiwidamien.github.io/encoding-categorical-variables.html\n",
    "- https://pbpython.com/categorical-encoding.html"
   ]
  },
  {
   "cell_type": "markdown",
   "metadata": {},
   "source": [
    "Ciekawa strona z przykładami wizualizacji (wraz z kodem):\n",
    "    https://www.machinelearningplus.com/plots/top-50-matplotlib-visualizations-the-master-plots-python/"
   ]
  }
 ],
 "metadata": {
  "kernelspec": {
   "display_name": "PyCharm (big_project)",
   "language": "python",
   "name": "pycharm-63e77e4d"
  },
  "language_info": {
   "codemirror_mode": {
    "name": "ipython",
    "version": 3
   },
   "file_extension": ".py",
   "mimetype": "text/x-python",
   "name": "python",
   "nbconvert_exporter": "python",
   "pygments_lexer": "ipython3",
   "version": "3.8.5"
  }
 },
 "nbformat": 4,
 "nbformat_minor": 4
}
