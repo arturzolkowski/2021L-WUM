{
 "cells": [
  {
   "cell_type": "markdown",
   "metadata": {},
   "source": [
    "# Strojenie parametrów - czyli jak znaleźć najlepszy model?"
   ]
  },
  {
   "cell_type": "code",
   "execution_count": 1,
   "metadata": {},
   "outputs": [],
   "source": [
    "import numpy as np\n",
    "import pandas as pd\n",
    "import warnings\n",
    "warnings.filterwarnings('ignore')\n",
    "np.random.seed(123) \n",
    "import matplotlib\n",
    "import matplotlib.pyplot as plt"
   ]
  },
  {
   "cell_type": "code",
   "execution_count": 2,
   "metadata": {},
   "outputs": [],
   "source": [
    "COLOR = 'white'\n",
    "matplotlib.rcParams['text.color'] = COLOR\n",
    "matplotlib.rcParams['axes.labelcolor'] = COLOR\n",
    "matplotlib.rcParams['xtick.color'] = COLOR\n",
    "matplotlib.rcParams['ytick.color'] = COLOR\n",
    "matplotlib.rcParams['figure.figsize'] = (10, 6)\n",
    "matplotlib.rcParams['font.size'] = 14"
   ]
  },
  {
   "cell_type": "markdown",
   "metadata": {},
   "source": [
    "### Wczytanie danych i podział na train-test"
   ]
  },
  {
   "cell_type": "code",
   "execution_count": 3,
   "metadata": {},
   "outputs": [
    {
     "data": {
      "text/html": [
       "<div>\n",
       "<style scoped>\n",
       "    .dataframe tbody tr th:only-of-type {\n",
       "        vertical-align: middle;\n",
       "    }\n",
       "\n",
       "    .dataframe tbody tr th {\n",
       "        vertical-align: top;\n",
       "    }\n",
       "\n",
       "    .dataframe thead th {\n",
       "        text-align: right;\n",
       "    }\n",
       "</style>\n",
       "<table border=\"1\" class=\"dataframe\">\n",
       "  <thead>\n",
       "    <tr style=\"text-align: right;\">\n",
       "      <th></th>\n",
       "      <th>sbp</th>\n",
       "      <th>tobacco</th>\n",
       "      <th>ldl</th>\n",
       "      <th>adiposity</th>\n",
       "      <th>famhist</th>\n",
       "      <th>typea</th>\n",
       "      <th>obesity</th>\n",
       "      <th>alcohol</th>\n",
       "      <th>age</th>\n",
       "    </tr>\n",
       "  </thead>\n",
       "  <tbody>\n",
       "    <tr>\n",
       "      <th>0</th>\n",
       "      <td>160</td>\n",
       "      <td>12.00</td>\n",
       "      <td>5.73</td>\n",
       "      <td>23.11</td>\n",
       "      <td>1</td>\n",
       "      <td>49</td>\n",
       "      <td>25.30</td>\n",
       "      <td>97.20</td>\n",
       "      <td>52</td>\n",
       "    </tr>\n",
       "    <tr>\n",
       "      <th>1</th>\n",
       "      <td>144</td>\n",
       "      <td>0.01</td>\n",
       "      <td>4.41</td>\n",
       "      <td>28.61</td>\n",
       "      <td>0</td>\n",
       "      <td>55</td>\n",
       "      <td>28.87</td>\n",
       "      <td>2.06</td>\n",
       "      <td>63</td>\n",
       "    </tr>\n",
       "    <tr>\n",
       "      <th>2</th>\n",
       "      <td>118</td>\n",
       "      <td>0.08</td>\n",
       "      <td>3.48</td>\n",
       "      <td>32.28</td>\n",
       "      <td>1</td>\n",
       "      <td>52</td>\n",
       "      <td>29.14</td>\n",
       "      <td>3.81</td>\n",
       "      <td>46</td>\n",
       "    </tr>\n",
       "    <tr>\n",
       "      <th>3</th>\n",
       "      <td>170</td>\n",
       "      <td>7.50</td>\n",
       "      <td>6.41</td>\n",
       "      <td>38.03</td>\n",
       "      <td>1</td>\n",
       "      <td>51</td>\n",
       "      <td>31.99</td>\n",
       "      <td>24.26</td>\n",
       "      <td>58</td>\n",
       "    </tr>\n",
       "    <tr>\n",
       "      <th>4</th>\n",
       "      <td>134</td>\n",
       "      <td>13.60</td>\n",
       "      <td>3.50</td>\n",
       "      <td>27.78</td>\n",
       "      <td>1</td>\n",
       "      <td>60</td>\n",
       "      <td>25.99</td>\n",
       "      <td>57.34</td>\n",
       "      <td>49</td>\n",
       "    </tr>\n",
       "  </tbody>\n",
       "</table>\n",
       "</div>"
      ],
      "text/plain": [
       "   sbp  tobacco   ldl  adiposity  famhist  typea  obesity  alcohol  age\n",
       "0  160    12.00  5.73      23.11        1     49    25.30    97.20   52\n",
       "1  144     0.01  4.41      28.61        0     55    28.87     2.06   63\n",
       "2  118     0.08  3.48      32.28        1     52    29.14     3.81   46\n",
       "3  170     7.50  6.41      38.03        1     51    31.99    24.26   58\n",
       "4  134    13.60  3.50      27.78        1     60    25.99    57.34   49"
      ]
     },
     "execution_count": 3,
     "metadata": {},
     "output_type": "execute_result"
    }
   ],
   "source": [
    "data=pd.read_csv('heart.csv')\n",
    "\n",
    "y = np.array(data['chd'])\n",
    "X = data.drop(['chd'],axis=1)\n",
    "\n",
    "map_dict = {'Present': 1, 'Absent':0}\n",
    "X['famhist'] = X['famhist'].map(map_dict)\n",
    "X.head()"
   ]
  },
  {
   "cell_type": "code",
   "execution_count": 4,
   "metadata": {},
   "outputs": [],
   "source": [
    "from sklearn.model_selection import train_test_split\n",
    "X_train, X_test, y_train, y_test =train_test_split(X, y, test_size=0.2)"
   ]
  },
  {
   "cell_type": "markdown",
   "metadata": {},
   "source": [
    "### Drzewo decyzyjne"
   ]
  },
  {
   "cell_type": "code",
   "execution_count": 5,
   "metadata": {},
   "outputs": [
    {
     "data": {
      "text/plain": [
       "0.6344086021505376"
      ]
     },
     "execution_count": 5,
     "metadata": {},
     "output_type": "execute_result"
    }
   ],
   "source": [
    "from sklearn.tree import DecisionTreeClassifier\n",
    "#parametry domyślne\n",
    "tree_model= DecisionTreeClassifier()\n",
    "\n",
    "tree_model.fit(X_train, y_train).score(X_test, y_test)"
   ]
  },
  {
   "cell_type": "markdown",
   "metadata": {},
   "source": [
    "## Po co to wszystko?"
   ]
  },
  {
   "cell_type": "markdown",
   "metadata": {},
   "source": [
    "![image.png](http://snoek.ddns.net/~oliver/mysite/images/blog7_accuracyprecision_banner.png)\n",
    "http://snoek.ddns.net/~oliver/mysite/the-bias-variance-tradeoff.html"
   ]
  },
  {
   "cell_type": "markdown",
   "metadata": {},
   "source": [
    "### Jak zdiagnozować problem? Learning Curves"
   ]
  },
  {
   "cell_type": "code",
   "execution_count": 6,
   "metadata": {},
   "outputs": [
    {
     "data": {
      "image/png": "[encoded data removed]",
      "text/plain": [
       "<Figure size 720x432 with 1 Axes>"
      ]
     },
     "metadata": {
      "needs_background": "dark"
     },
     "output_type": "display_data"
    }
   ],
   "source": [
    "from sklearn.model_selection import learning_curve\n",
    "tree_model= DecisionTreeClassifier(max_depth=5)\n",
    "train_sizes, train_scores, test_scores = \\\n",
    "    learning_curve(tree_model, X_train[:300], y_train[:300], train_sizes=np.linspace(0.1, 1, 100),\n",
    "                   scoring=\"accuracy\", cv=3)\n",
    "\n",
    "fig = plt.figure()\n",
    "ax = fig.add_subplot(111)\n",
    "\n",
    "plt.plot(train_sizes, test_scores.mean(1), 'o-', color=\"r\",\n",
    "         label=\"test\")\n",
    "plt.plot(train_sizes, train_scores.mean(1), 'o-', color=\"b\",\n",
    "         label=\"train\")\n",
    "\n",
    "\n",
    "plt.xlabel(\"Train size\")\n",
    "plt.ylabel(\"Accuracy\")\n",
    "plt.title('Learning curves')\n",
    "plt.legend(loc=\"best\")\n",
    "l = ax.legend()\n",
    "for text in l.get_texts():\n",
    "    text.set_color(\"black\")\n",
    "\n",
    "plt.show()"
   ]
  },
  {
   "cell_type": "markdown",
   "metadata": {},
   "source": [
    "### Diagnoza: High Variance"
   ]
  },
  {
   "cell_type": "code",
   "execution_count": 7,
   "metadata": {},
   "outputs": [
    {
     "data": {
      "image/png": "[encoded data removed]",
      "text/plain": [
       "<Figure size 720x432 with 1 Axes>"
      ]
     },
     "metadata": {
      "needs_background": "dark"
     },
     "output_type": "display_data"
    }
   ],
   "source": [
    "from sklearn.model_selection import learning_curve\n",
    "tree_model= DecisionTreeClassifier(max_depth=1)\n",
    "train_sizes, train_scores, test_scores = \\\n",
    "    learning_curve(tree_model, X_train[:300], y_train[:300], train_sizes=np.linspace(0.1, 1, 100),\n",
    "                   scoring=\"accuracy\", cv=3)\n",
    "\n",
    "fig = plt.figure()\n",
    "ax = fig.add_subplot(111)\n",
    "\n",
    "plt.plot(train_sizes, test_scores.mean(1), 'o-', color=\"r\",\n",
    "         \n",
    "         label=\"test\")\n",
    "plt.plot(train_sizes, train_scores.mean(1), 'o-', color=\"b\",\n",
    "         label=\"train\")\n",
    "\n",
    "\n",
    "plt.xlabel(\"Train size\")\n",
    "plt.ylabel(\"Accuracy\")\n",
    "plt.title('Learning curves')\n",
    "plt.legend(loc=\"best\")\n",
    "l = ax.legend()\n",
    "for text in l.get_texts():\n",
    "    text.set_color(\"black\")\n",
    "\n",
    "plt.show()"
   ]
  },
  {
   "cell_type": "markdown",
   "metadata": {},
   "source": [
    "### Powyżej mamy High Bias\n",
    "Andrew Ng: https://www.youtube.com/watch?v=ISBGFY-gBug&t=344s"
   ]
  },
  {
   "cell_type": "markdown",
   "metadata": {},
   "source": [
    "### Kroswalidacja"
   ]
  },
  {
   "cell_type": "code",
   "execution_count": 8,
   "metadata": {},
   "outputs": [
    {
     "name": "stdout",
     "output_type": "stream",
     "text": [
      "0.6601449275362319 0.01798940865300251\n"
     ]
    }
   ],
   "source": [
    "import sklearn\n",
    "from sklearn.model_selection import cross_val_score\n",
    "tree_model= DecisionTreeClassifier()\n",
    "results=cross_val_score(tree_model, X, y) # można zdefiniować: scoring='roc_auc'\n",
    "# uwaga: tutaj nie strojono parametrów więc można użyć całego zbioru\n",
    "print(np.mean(results), np.std(results))"
   ]
  },
  {
   "cell_type": "code",
   "execution_count": 9,
   "metadata": {},
   "outputs": [
    {
     "data": {
      "text/plain": [
       "dict_keys(['explained_variance', 'r2', 'max_error', 'neg_median_absolute_error', 'neg_mean_absolute_error', 'neg_mean_squared_error', 'neg_mean_squared_log_error', 'neg_root_mean_squared_error', 'neg_mean_poisson_deviance', 'neg_mean_gamma_deviance', 'accuracy', 'roc_auc', 'roc_auc_ovr', 'roc_auc_ovo', 'roc_auc_ovr_weighted', 'roc_auc_ovo_weighted', 'balanced_accuracy', 'average_precision', 'neg_log_loss', 'neg_brier_score', 'adjusted_rand_score', 'homogeneity_score', 'completeness_score', 'v_measure_score', 'mutual_info_score', 'adjusted_mutual_info_score', 'normalized_mutual_info_score', 'fowlkes_mallows_score', 'precision', 'precision_macro', 'precision_micro', 'precision_samples', 'precision_weighted', 'recall', 'recall_macro', 'recall_micro', 'recall_samples', 'recall_weighted', 'f1', 'f1_macro', 'f1_micro', 'f1_samples', 'f1_weighted', 'jaccard', 'jaccard_macro', 'jaccard_micro', 'jaccard_samples', 'jaccard_weighted'])"
      ]
     },
     "execution_count": 9,
     "metadata": {},
     "output_type": "execute_result"
    }
   ],
   "source": [
    "# mamy wiele możliwych metryk\n",
    "sklearn.metrics.SCORERS.keys()"
   ]
  },
  {
   "cell_type": "markdown",
   "metadata": {},
   "source": [
    "## Przeszukiwanie przestrzeni parametrów"
   ]
  },
  {
   "cell_type": "markdown",
   "metadata": {},
   "source": [
    "### Grid Search\n",
    "Klasyczne przeszukiwanie wszystkich możliwości\n",
    "\n",
    "#### Zalety:\n",
    "* sprawdzimy wszystkie kombinacje\n",
    "\n",
    "#### Wady:\n",
    "* musimy wiedzieć jakie konkretnie kombinacje chcemy sprawdzić\n",
    "* długo trwa"
   ]
  },
  {
   "cell_type": "code",
   "execution_count": 10,
   "metadata": {},
   "outputs": [],
   "source": [
    "from sklearn.model_selection import GridSearchCV\n",
    "\n",
    "max_depth=[3, 5, 6]\n",
    "criterion=[\"gini\",\"entrophy\"]\n",
    "ccp_alpha=[0, 0.05]\n",
    "param_grid = dict(max_depth=max_depth,criterion=criterion, ccp_alpha=ccp_alpha)"
   ]
  },
  {
   "cell_type": "code",
   "execution_count": 11,
   "metadata": {},
   "outputs": [
    {
     "name": "stdout",
     "output_type": "stream",
     "text": [
      "Best: 0.680217 using {'ccp_alpha': 0, 'criterion': 'gini', 'max_depth': 3}\n"
     ]
    }
   ],
   "source": [
    "tree_model= DecisionTreeClassifier()\n",
    "grid = GridSearchCV(estimator=tree_model, param_grid=param_grid, cv = 3, n_jobs=-1)\n",
    "\n",
    "grid_result = grid.fit(X_train, y_train) #tutaj lepiej zastosować tylko trainset\n",
    "\n",
    "print(\"Best: %f using %s\" % (grid_result.best_score_, grid_result.best_params_))"
   ]
  },
  {
   "cell_type": "code",
   "execution_count": 12,
   "metadata": {},
   "outputs": [
    {
     "data": {
      "text/plain": [
       "0.6666666666666666"
      ]
     },
     "execution_count": 12,
     "metadata": {},
     "output_type": "execute_result"
    }
   ],
   "source": [
    "grid_result.best_estimator_.score(X_test, y_test)"
   ]
  },
  {
   "cell_type": "markdown",
   "metadata": {},
   "source": [
    "### Random Search "
   ]
  },
  {
   "cell_type": "code",
   "execution_count": 13,
   "metadata": {},
   "outputs": [
    {
     "name": "stdout",
     "output_type": "stream",
     "text": [
      "Best: 0.680217 using {'max_depth': 3, 'criterion': 'gini', 'ccp_alpha': 0}\n"
     ]
    }
   ],
   "source": [
    "from sklearn.model_selection import RandomizedSearchCV\n",
    "\n",
    "random = RandomizedSearchCV(estimator=tree_model, param_distributions=param_grid, cv = 3, n_jobs=-1)\n",
    "\n",
    "random_result = random.fit(X_train, y_train)\n",
    "# Summarize results\n",
    "print(\"Best: %f using %s\" % (random_result.best_score_, random_result.best_params_))"
   ]
  },
  {
   "cell_type": "code",
   "execution_count": 14,
   "metadata": {},
   "outputs": [
    {
     "data": {
      "text/plain": [
       "0.6666666666666666"
      ]
     },
     "execution_count": 14,
     "metadata": {},
     "output_type": "execute_result"
    }
   ],
   "source": [
    "best_model=random_result.best_estimator_\n",
    "best_model.score(X_test, y_test)"
   ]
  },
  {
   "cell_type": "markdown",
   "metadata": {},
   "source": [
    "Zauważmy, że tu mało się zmienia. Nadal przeszukujemy siatkę, ale w sposób losowy. Nasza siatka jest dość mała, więc i tak sprawdzamy wszystkie możliwości"
   ]
  },
  {
   "cell_type": "markdown",
   "metadata": {},
   "source": [
    "## Zdefiniowanie rozkładów"
   ]
  },
  {
   "cell_type": "markdown",
   "metadata": {},
   "source": [
    "<div>\n",
    "<img src=\"https://ksopyla.com/wp-content/uploads/2018/12/Grid_search_vs_random_search_cross_validation.png\" width=\"800\"/>\n",
    "</div>\n",
    "\n",
    "sos: https://ksopyla.com/machine-learning/grid-random-search-scikit-learn-dobor-parametrow/"
   ]
  },
  {
   "cell_type": "code",
   "execution_count": 15,
   "metadata": {},
   "outputs": [],
   "source": [
    "from scipy.stats import poisson,expon\n",
    "param_grid = {'ccp_alpha': expon(0.08),\n",
    "             'max_depth': poisson(5)}"
   ]
  },
  {
   "cell_type": "code",
   "execution_count": 16,
   "metadata": {},
   "outputs": [
    {
     "name": "stdout",
     "output_type": "stream",
     "text": [
      "Best: 0.655827 using {'ccp_alpha': 1.2722721434811057, 'max_depth': 7}\n"
     ]
    }
   ],
   "source": [
    "random = RandomizedSearchCV(estimator=tree_model, param_distributions=param_grid, cv = 3, n_jobs=-1, random_state=123)\n",
    "\n",
    "random_result = random.fit(X_train, y_train)\n",
    "# Summarize results\n",
    "print(\"Best: %f using %s\" % (random_result.best_score_, random_result.best_params_))"
   ]
  },
  {
   "cell_type": "code",
   "execution_count": 17,
   "metadata": {},
   "outputs": [
    {
     "data": {
      "text/plain": [
       "0.6451612903225806"
      ]
     },
     "execution_count": 17,
     "metadata": {},
     "output_type": "execute_result"
    }
   ],
   "source": [
    "random_result.best_estimator_.score(X_test, y_test)"
   ]
  },
  {
   "cell_type": "markdown",
   "metadata": {},
   "source": [
    "## Bayes optimization\n",
    "Bardziej inteligentne przeszukiwanie na podstawie Gaussian process"
   ]
  },
  {
   "cell_type": "code",
   "execution_count": 18,
   "metadata": {},
   "outputs": [],
   "source": [
    "#!pip install scikit-optimize\n",
    "#!pip install --upgrade scikit-learn==0.23.2\n",
    "#Jest problem z najnowszą wersją sklearn"
   ]
  },
  {
   "cell_type": "code",
   "execution_count": 19,
   "metadata": {},
   "outputs": [
    {
     "name": "stdout",
     "output_type": "stream",
     "text": [
      "val. score: 0.7018970189701897\n",
      "test score: 0.7526881720430108\n"
     ]
    }
   ],
   "source": [
    "from skopt import BayesSearchCV\n",
    "from sklearn.svm import SVC\n",
    "\n",
    "opt = BayesSearchCV(\n",
    "    SVC(),\n",
    "    {\n",
    "        'degree': (1, 8),  # integer valued parameter\n",
    "        'kernel': ['linear', 'poly', 'rbf'],  # categorical parameter\n",
    "    },\n",
    "    n_iter=8, # tu powinno być więcej, ale to się długo liczy\n",
    "    cv=3\n",
    ")\n",
    "\n",
    "opt.fit(X_train, y_train)\n",
    "\n",
    "print(\"val. score: %s\" % opt.best_score_)\n",
    "print(\"test score: %s\" % opt.score(X_test, y_test))"
   ]
  },
  {
   "cell_type": "markdown",
   "metadata": {},
   "source": [
    "Przykład pochodzi stąd: https://scikit-optimize.github.io/stable/auto_examples/sklearn-gridsearchcv-replacement.html  \n",
    "Tam też jest więcej parametrów"
   ]
  },
  {
   "cell_type": "markdown",
   "metadata": {},
   "source": [
    "# Są narzędzia, które robią wszystko za nas"
   ]
  },
  {
   "cell_type": "markdown",
   "metadata": {},
   "source": [
    "## automl from sklearn\n",
    "(działa tylko na Linuxie - rozwiązanie: korzystać z Google Colaboratory)  \n",
    "Nie ma na Anacondzie, wymaga sklearn >= 0.24"
   ]
  },
  {
   "cell_type": "code",
   "execution_count": 20,
   "metadata": {
    "collapsed": true
   },
   "outputs": [
    {
     "ename": "NameError",
     "evalue": "name 'autosklearn' is not defined",
     "output_type": "error",
     "traceback": [
      "\u001b[0;31m---------------------------------------------------------------------------\u001b[0m",
      "\u001b[0;31mNameError\u001b[0m                                 Traceback (most recent call last)",
      "\u001b[0;32m<ipython-input-20-fbbe5357b2bb>\u001b[0m in \u001b[0;36m<module>\u001b[0;34m\u001b[0m\n\u001b[1;32m      1\u001b[0m \u001b[0;31m#import autosklearn.classification\u001b[0m\u001b[0;34m\u001b[0m\u001b[0;34m\u001b[0m\u001b[0;34m\u001b[0m\u001b[0m\n\u001b[0;32m----> 2\u001b[0;31m \u001b[0mautoml\u001b[0m \u001b[0;34m=\u001b[0m \u001b[0mautosklearn\u001b[0m\u001b[0;34m.\u001b[0m\u001b[0mclassification\u001b[0m\u001b[0;34m.\u001b[0m\u001b[0mAutoSklearnClassifier\u001b[0m\u001b[0;34m(\u001b[0m\u001b[0;34m)\u001b[0m\u001b[0;34m\u001b[0m\u001b[0;34m\u001b[0m\u001b[0m\n\u001b[0m\u001b[1;32m      3\u001b[0m \u001b[0mautoml\u001b[0m\u001b[0;34m.\u001b[0m\u001b[0mfit\u001b[0m\u001b[0;34m(\u001b[0m\u001b[0mX_train\u001b[0m\u001b[0;34m,\u001b[0m \u001b[0my_train\u001b[0m\u001b[0;34m)\u001b[0m\u001b[0;34m\u001b[0m\u001b[0;34m\u001b[0m\u001b[0m\n\u001b[1;32m      4\u001b[0m \u001b[0my_pred\u001b[0m \u001b[0;34m=\u001b[0m \u001b[0mautoml\u001b[0m\u001b[0;34m.\u001b[0m\u001b[0mpredict\u001b[0m\u001b[0;34m(\u001b[0m\u001b[0mX_test\u001b[0m\u001b[0;34m)\u001b[0m\u001b[0;34m\u001b[0m\u001b[0;34m\u001b[0m\u001b[0m\n\u001b[1;32m      5\u001b[0m \u001b[0mprint\u001b[0m\u001b[0;34m(\u001b[0m\u001b[0;34m\"Accuracy score\"\u001b[0m\u001b[0;34m,\u001b[0m \u001b[0msklearn\u001b[0m\u001b[0;34m.\u001b[0m\u001b[0mmetrics\u001b[0m\u001b[0;34m.\u001b[0m\u001b[0maccuracy_score\u001b[0m\u001b[0;34m(\u001b[0m\u001b[0my_test\u001b[0m\u001b[0;34m,\u001b[0m \u001b[0my_pred\u001b[0m\u001b[0;34m)\u001b[0m\u001b[0;34m)\u001b[0m\u001b[0;34m\u001b[0m\u001b[0;34m\u001b[0m\u001b[0m\n",
      "\u001b[0;31mNameError\u001b[0m: name 'autosklearn' is not defined"
     ]
    }
   ],
   "source": [
    "#import autosklearn.classification\n",
    "automl = autosklearn.classification.AutoSklearnClassifier()\n",
    "automl.fit(X_train, y_train)\n",
    "y_pred = automl.predict(X_test)\n",
    "print(\"Accuracy score\", sklearn.metrics.accuracy_score(y_test, y_pred))"
   ]
  },
  {
   "cell_type": "markdown",
   "metadata": {},
   "source": [
    "Jak widać trudno się czasem dogadać ze wszystkimi pakietami..."
   ]
  },
  {
   "cell_type": "markdown",
   "metadata": {},
   "source": [
    "### TPOT\n",
    "https://epistasislab.github.io/tpot/  \n",
    "Korzysta z algorytmów genetycznych"
   ]
  },
  {
   "cell_type": "markdown",
   "metadata": {},
   "source": [
    "![image.png](https://res.cloudinary.com/dyd911kmh/image/upload/f_auto,q_auto:best/v1537396029/output_2_0_d7uh0v.png)\n",
    "https://www.datacamp.com/community/tutorials/tpot-machine-learning-python"
   ]
  },
  {
   "cell_type": "code",
   "execution_count": null,
   "metadata": {},
   "outputs": [],
   "source": [
    "# ! pip install tpot"
   ]
  },
  {
   "cell_type": "code",
   "execution_count": 21,
   "metadata": {},
   "outputs": [
    {
     "data": {
      "application/vnd.jupyter.widget-view+json": {
       "model_id": "",
       "version_major": 2,
       "version_minor": 0
      },
      "text/plain": [
       "HBox(children=(FloatProgress(value=0.0, description='Optimization Progress', max=600.0, style=ProgressStyle(de…"
      ]
     },
     "metadata": {},
     "output_type": "display_data"
    },
    {
     "name": "stdout",
     "output_type": "stream",
     "text": [
      "\n",
      "Generation 1 - Current best internal CV score: 0.7210662717512032\n",
      "\n",
      "Generation 2 - Current best internal CV score: 0.7210662717512032\n",
      "\n",
      "Generation 3 - Current best internal CV score: 0.7237319511292114\n",
      "\n",
      "Generation 4 - Current best internal CV score: 0.7237319511292114\n",
      "\n",
      "Generation 5 - Current best internal CV score: 0.7345427619400222\n",
      "\n",
      "Best pipeline: ExtraTreesClassifier(input_matrix, bootstrap=True, criterion=entropy, max_features=0.35000000000000003, min_samples_leaf=5, min_samples_split=20, n_estimators=100)\n"
     ]
    },
    {
     "data": {
      "text/plain": [
       "TPOTClassifier(generations=5, verbosity=2)"
      ]
     },
     "execution_count": 21,
     "metadata": {},
     "output_type": "execute_result"
    }
   ],
   "source": [
    "from tpot import TPOTClassifier\n",
    "#from tpot import TPOTRegressor\n",
    "\n",
    "tpot = TPOTClassifier(generations=5,verbosity=2)\n",
    "\n",
    "tpot.fit(X_train, y_train)"
   ]
  },
  {
   "cell_type": "code",
   "execution_count": 22,
   "metadata": {},
   "outputs": [
    {
     "data": {
      "text/plain": [
       "0.6989247311827957"
      ]
     },
     "execution_count": 22,
     "metadata": {},
     "output_type": "execute_result"
    }
   ],
   "source": [
    "tpot.score(X_test, y_test)"
   ]
  },
  {
   "cell_type": "markdown",
   "metadata": {},
   "source": [
    "### Potencjalne wady:\n",
    "- długo się liczy\n",
    "- nie gwarantuje zbieżności\n",
    "\n",
    "Trochę więcej (np. o parametrach) można poczytać tutaj https://www.datacamp.com/community/tutorials/tpot-machine-learning-python"
   ]
  },
  {
   "cell_type": "markdown",
   "metadata": {},
   "source": [
    "## Selekcja zmiennych"
   ]
  },
  {
   "cell_type": "markdown",
   "metadata": {},
   "source": [
    "### Filtry\n",
    "Najprostsze metody, nie zależą od moeli. To jest preprocessing.\n",
    "\n",
    "Przykłady:\n",
    "- korelacja ze zmienną celu\n",
    "- informacja wzajema ze zmienną celu (VIF)"
   ]
  },
  {
   "cell_type": "markdown",
   "metadata": {},
   "source": [
    "## VIF\n",
    "Variance Inflation Factor  \n",
    "Dopasowujemy model regresji liniowej, gdzie jedna kolumna jest targetem, a pozostałe feature'ami"
   ]
  },
  {
   "cell_type": "code",
   "execution_count": 23,
   "metadata": {
    "scrolled": true
   },
   "outputs": [
    {
     "data": {
      "text/html": [
       "<div>\n",
       "<style scoped>\n",
       "    .dataframe tbody tr th:only-of-type {\n",
       "        vertical-align: middle;\n",
       "    }\n",
       "\n",
       "    .dataframe tbody tr th {\n",
       "        vertical-align: top;\n",
       "    }\n",
       "\n",
       "    .dataframe thead th {\n",
       "        text-align: right;\n",
       "    }\n",
       "</style>\n",
       "<table border=\"1\" class=\"dataframe\">\n",
       "  <thead>\n",
       "    <tr style=\"text-align: right;\">\n",
       "      <th></th>\n",
       "      <th>feature</th>\n",
       "      <th>vif_score</th>\n",
       "    </tr>\n",
       "  </thead>\n",
       "  <tbody>\n",
       "    <tr>\n",
       "      <th>0</th>\n",
       "      <td>sbp</td>\n",
       "      <td>39.633703</td>\n",
       "    </tr>\n",
       "    <tr>\n",
       "      <th>1</th>\n",
       "      <td>tobacco</td>\n",
       "      <td>2.114713</td>\n",
       "    </tr>\n",
       "    <tr>\n",
       "      <th>2</th>\n",
       "      <td>ldl</td>\n",
       "      <td>8.109231</td>\n",
       "    </tr>\n",
       "    <tr>\n",
       "      <th>3</th>\n",
       "      <td>adiposity</td>\n",
       "      <td>37.912573</td>\n",
       "    </tr>\n",
       "    <tr>\n",
       "      <th>4</th>\n",
       "      <td>famhist</td>\n",
       "      <td>1.866989</td>\n",
       "    </tr>\n",
       "    <tr>\n",
       "      <th>5</th>\n",
       "      <td>typea</td>\n",
       "      <td>25.535142</td>\n",
       "    </tr>\n",
       "    <tr>\n",
       "      <th>6</th>\n",
       "      <td>obesity</td>\n",
       "      <td>64.617438</td>\n",
       "    </tr>\n",
       "    <tr>\n",
       "      <th>7</th>\n",
       "      <td>alcohol</td>\n",
       "      <td>1.584873</td>\n",
       "    </tr>\n",
       "    <tr>\n",
       "      <th>8</th>\n",
       "      <td>age</td>\n",
       "      <td>20.609623</td>\n",
       "    </tr>\n",
       "  </tbody>\n",
       "</table>\n",
       "</div>"
      ],
      "text/plain": [
       "     feature  vif_score\n",
       "0        sbp  39.633703\n",
       "1    tobacco   2.114713\n",
       "2        ldl   8.109231\n",
       "3  adiposity  37.912573\n",
       "4    famhist   1.866989\n",
       "5      typea  25.535142\n",
       "6    obesity  64.617438\n",
       "7    alcohol   1.584873\n",
       "8        age  20.609623"
      ]
     },
     "execution_count": 23,
     "metadata": {},
     "output_type": "execute_result"
    }
   ],
   "source": [
    "from statsmodels.stats.outliers_influence import variance_inflation_factor as vif\n",
    "pd.DataFrame(data = [(X_train.columns[i], vif(X_train.values, i)) for i in range(X_train.shape[1])], columns=['feature', 'vif_score'])"
   ]
  },
  {
   "cell_type": "markdown",
   "metadata": {},
   "source": [
    "## Metody wbudowane\n",
    "czyli takie metody, które są wbudowane w algorytm - Lasso albo Random Forest"
   ]
  },
  {
   "cell_type": "code",
   "execution_count": 24,
   "metadata": {},
   "outputs": [
    {
     "data": {
      "text/plain": [
       "RandomForestClassifier(class_weight='balanced', max_depth=5, n_jobs=-1)"
      ]
     },
     "execution_count": 24,
     "metadata": {},
     "output_type": "execute_result"
    }
   ],
   "source": [
    "from sklearn.ensemble import RandomForestClassifier\n",
    "import seaborn as sns\n",
    "import matplotlib.pyplot as plt\n",
    "rf = RandomForestClassifier(n_jobs=-1, class_weight='balanced', max_depth=5)\n",
    "rf.fit(X_train, y_train)"
   ]
  },
  {
   "cell_type": "code",
   "execution_count": 25,
   "metadata": {},
   "outputs": [
    {
     "data": {
      "image/png": "[encoded data removed]",
      "text/plain": [
       "<Figure size 720x432 with 1 Axes>"
      ]
     },
     "metadata": {
      "needs_background": "dark"
     },
     "output_type": "display_data"
    }
   ],
   "source": [
    "importances = rf.feature_importances_\n",
    "std = np.std([tree.feature_importances_ for tree in rf.estimators_],\n",
    "             axis=0)\n",
    "indices = np.argsort(importances)[::-1]\n",
    "\n",
    "\n",
    "plt.figure()\n",
    "plt.title(\"Feature importance\")\n",
    "plt.bar(X.columns, importances[indices],\n",
    "       color=\"r\", yerr=std[indices], align=\"center\")\n",
    "plt.xticks(rotation=45)\n",
    "plt.show()"
   ]
  },
  {
   "cell_type": "markdown",
   "metadata": {},
   "source": [
    "### Wrappery\n",
    "Oceniają poszczególne zbiory zmiennych na podstawie wybranych metryk (accuracy, AUC, ...). Zazwyczaj działa to w ten sposób, że iteracyjnie dodajemy/odejmujemy kolejne zmienne aż osiągniemy daną liczbę zmiennych/wynik modelu.   \n",
    "\n",
    "Zasadniczo to taki model, który ocenia zmienne. Też trzeba go zfitować.\n",
    "\n",
    "Przykłady:\n",
    "- Forward Selection (K Best, Select From Model) \n",
    "- Recursive Feature Elimination\n",
    "- Boruta"
   ]
  },
  {
   "cell_type": "markdown",
   "metadata": {},
   "source": [
    "### SelectKBest \n",
    "Wybieramy K Najlepszych cech na podstawie zadanego kryterium  \n",
    "Default: na podstawie algorytmu ANOVA"
   ]
  },
  {
   "cell_type": "code",
   "execution_count": 26,
   "metadata": {},
   "outputs": [],
   "source": [
    "from sklearn.pipeline import Pipeline\n",
    "from sklearn.feature_selection import SelectKBest\n",
    "tree_model=DecisionTreeClassifier()\n",
    "\n",
    "pipe = Pipeline([\n",
    "    ('select', SelectKBest()),\n",
    "    ('model', tree_model)])\n",
    "\n",
    "k=[5,6]\n",
    "max_depth=[3, 5, 6]\n",
    "criterion=[\"gini\",\"entrophy\"]\n",
    "\n",
    "# uwaga: gdy podajemy parametry do strojenia gdy mamy pipeline to trzeba w nazwach kluczy podać nazwę_danego_etapu__ \n",
    "# (poprzedzoną dwoma podkreślnikami)\n",
    "param_grid = {\"model__max_depth\": max_depth, \"model__criterion\": criterion, \"select__k\": k}\n",
    "\n",
    "search = GridSearchCV(pipe, param_grid, cv=5).fit(X_train, y_train)"
   ]
  },
  {
   "cell_type": "code",
   "execution_count": 27,
   "metadata": {},
   "outputs": [
    {
     "data": {
      "text/plain": [
       "0.7311827956989247"
      ]
     },
     "execution_count": 27,
     "metadata": {},
     "output_type": "execute_result"
    }
   ],
   "source": [
    "search.score(X_test, y_test)"
   ]
  },
  {
   "cell_type": "code",
   "execution_count": 28,
   "metadata": {},
   "outputs": [
    {
     "data": {
      "text/plain": [
       "Index(['sbp', 'tobacco', 'ldl', 'adiposity', 'famhist', 'age'], dtype='object')"
      ]
     },
     "execution_count": 28,
     "metadata": {},
     "output_type": "execute_result"
    }
   ],
   "source": [
    "X_train.columns[search.best_estimator_.steps[0][1].get_support()]"
   ]
  },
  {
   "cell_type": "markdown",
   "metadata": {},
   "source": [
    "### Select From Model"
   ]
  },
  {
   "cell_type": "code",
   "execution_count": 37,
   "metadata": {},
   "outputs": [],
   "source": [
    "from sklearn.feature_selection import SelectFromModel\n",
    "from sklearn.linear_model import LogisticRegression\n",
    "model_selector = SelectFromModel(\n",
    "    LogisticRegression(C=0.000025, solver=\"liblinear\"),\n",
    "    threshold = 'mean'\n",
    ")\n",
    "\n",
    "pipe = Pipeline([\n",
    "    ('select', model_selector),\n",
    "    ('model', tree_model)])\n",
    "\n",
    "penalty = ['l1', 'l2']\n",
    "\n",
    "# tu odwołujemy się do select (SelectFromModel) i do estymatora w środku (LR), więc dwa razy podwójny podkreślnik (__)\n",
    "param_grid = {\"model__max_depth\": max_depth, \"model__criterion\": criterion, \"select__estimator__penalty\": penalty}\n",
    "search = GridSearchCV(pipe, param_grid, cv=5).fit(X_train, y_train)"
   ]
  },
  {
   "cell_type": "code",
   "execution_count": 38,
   "metadata": {},
   "outputs": [
    {
     "data": {
      "text/plain": [
       "Index(['sbp', 'tobacco', 'age'], dtype='object')"
      ]
     },
     "execution_count": 38,
     "metadata": {},
     "output_type": "execute_result"
    }
   ],
   "source": [
    "X_train.columns[search.best_estimator_.steps[0][1].get_support()]"
   ]
  },
  {
   "cell_type": "markdown",
   "metadata": {},
   "source": [
    "### Recursive Feature Elimination\n",
    "Zasadniczo, działa tak jak brzmi. \n",
    "Dopasuj model, zobacz, która cecha jest \"najmniej ważna\".  \n",
    "Powtórz dla modelu bez tej cechy.  \n",
    "\n",
    "Najmniej ważna to może być względem *feature_importances* albo *coef*"
   ]
  },
  {
   "cell_type": "code",
   "execution_count": 31,
   "metadata": {},
   "outputs": [],
   "source": [
    "from sklearn.feature_selection import RFE\n",
    "estimator = tree_model\n",
    "selector = RFE(estimator, n_features_to_select=3, step=1) #step ile (procent) cech usuwamy w kroku\n",
    "selector = selector.fit(X_train, y_train) "
   ]
  },
  {
   "cell_type": "code",
   "execution_count": 32,
   "metadata": {},
   "outputs": [
    {
     "data": {
      "text/plain": [
       "Index(['ldl', 'typea', 'age'], dtype='object')"
      ]
     },
     "execution_count": 32,
     "metadata": {},
     "output_type": "execute_result"
    }
   ],
   "source": [
    "X_train.columns[selector.support_]\n"
   ]
  },
  {
   "cell_type": "markdown",
   "metadata": {},
   "source": [
    "### Boruta\n",
    "Próbuje znaleźć *wszystkie* cechy, które mają związek z targetem"
   ]
  },
  {
   "cell_type": "code",
   "execution_count": 33,
   "metadata": {},
   "outputs": [],
   "source": [
    "#!pip install boruta"
   ]
  },
  {
   "cell_type": "code",
   "execution_count": 34,
   "metadata": {},
   "outputs": [],
   "source": [
    "from boruta import BorutaPy\n",
    "# for classification only (we need to convert pd.DataFrame to np.array)"
   ]
  },
  {
   "cell_type": "code",
   "execution_count": 35,
   "metadata": {},
   "outputs": [
    {
     "name": "stdout",
     "output_type": "stream",
     "text": [
      "Iteration: \t1 / 100\n",
      "Confirmed: \t0\n",
      "Tentative: \t9\n",
      "Rejected: \t0\n",
      "Iteration: \t2 / 100\n",
      "Confirmed: \t0\n",
      "Tentative: \t9\n",
      "Rejected: \t0\n",
      "Iteration: \t3 / 100\n",
      "Confirmed: \t0\n",
      "Tentative: \t9\n",
      "Rejected: \t0\n",
      "Iteration: \t4 / 100\n",
      "Confirmed: \t0\n",
      "Tentative: \t9\n",
      "Rejected: \t0\n",
      "Iteration: \t5 / 100\n",
      "Confirmed: \t0\n",
      "Tentative: \t9\n",
      "Rejected: \t0\n",
      "Iteration: \t6 / 100\n",
      "Confirmed: \t0\n",
      "Tentative: \t9\n",
      "Rejected: \t0\n",
      "Iteration: \t7 / 100\n",
      "Confirmed: \t0\n",
      "Tentative: \t9\n",
      "Rejected: \t0\n",
      "Iteration: \t8 / 100\n",
      "Confirmed: \t4\n",
      "Tentative: \t3\n",
      "Rejected: \t2\n",
      "Iteration: \t9 / 100\n",
      "Confirmed: \t4\n",
      "Tentative: \t3\n",
      "Rejected: \t2\n",
      "Iteration: \t10 / 100\n",
      "Confirmed: \t4\n",
      "Tentative: \t3\n",
      "Rejected: \t2\n",
      "Iteration: \t11 / 100\n",
      "Confirmed: \t4\n",
      "Tentative: \t3\n",
      "Rejected: \t2\n",
      "Iteration: \t12 / 100\n",
      "Confirmed: \t4\n",
      "Tentative: \t3\n",
      "Rejected: \t2\n",
      "Iteration: \t13 / 100\n",
      "Confirmed: \t4\n",
      "Tentative: \t3\n",
      "Rejected: \t2\n",
      "Iteration: \t14 / 100\n",
      "Confirmed: \t4\n",
      "Tentative: \t3\n",
      "Rejected: \t2\n",
      "Iteration: \t15 / 100\n",
      "Confirmed: \t4\n",
      "Tentative: \t3\n",
      "Rejected: \t2\n",
      "Iteration: \t16 / 100\n",
      "Confirmed: \t4\n",
      "Tentative: \t2\n",
      "Rejected: \t3\n",
      "Iteration: \t17 / 100\n",
      "Confirmed: \t4\n",
      "Tentative: \t2\n",
      "Rejected: \t3\n",
      "Iteration: \t18 / 100\n",
      "Confirmed: \t4\n",
      "Tentative: \t2\n",
      "Rejected: \t3\n",
      "Iteration: \t19 / 100\n",
      "Confirmed: \t4\n",
      "Tentative: \t2\n",
      "Rejected: \t3\n",
      "Iteration: \t20 / 100\n",
      "Confirmed: \t4\n",
      "Tentative: \t2\n",
      "Rejected: \t3\n",
      "Iteration: \t21 / 100\n",
      "Confirmed: \t4\n",
      "Tentative: \t2\n",
      "Rejected: \t3\n",
      "Iteration: \t22 / 100\n",
      "Confirmed: \t4\n",
      "Tentative: \t2\n",
      "Rejected: \t3\n",
      "Iteration: \t23 / 100\n",
      "Confirmed: \t4\n",
      "Tentative: \t2\n",
      "Rejected: \t3\n",
      "Iteration: \t24 / 100\n",
      "Confirmed: \t4\n",
      "Tentative: \t2\n",
      "Rejected: \t3\n",
      "Iteration: \t25 / 100\n",
      "Confirmed: \t4\n",
      "Tentative: \t2\n",
      "Rejected: \t3\n",
      "Iteration: \t26 / 100\n",
      "Confirmed: \t4\n",
      "Tentative: \t2\n",
      "Rejected: \t3\n",
      "Iteration: \t27 / 100\n",
      "Confirmed: \t4\n",
      "Tentative: \t2\n",
      "Rejected: \t3\n",
      "Iteration: \t28 / 100\n",
      "Confirmed: \t4\n",
      "Tentative: \t2\n",
      "Rejected: \t3\n",
      "Iteration: \t29 / 100\n",
      "Confirmed: \t4\n",
      "Tentative: \t2\n",
      "Rejected: \t3\n",
      "Iteration: \t30 / 100\n",
      "Confirmed: \t4\n",
      "Tentative: \t2\n",
      "Rejected: \t3\n",
      "Iteration: \t31 / 100\n",
      "Confirmed: \t4\n",
      "Tentative: \t2\n",
      "Rejected: \t3\n",
      "Iteration: \t32 / 100\n",
      "Confirmed: \t4\n",
      "Tentative: \t2\n",
      "Rejected: \t3\n",
      "Iteration: \t33 / 100\n",
      "Confirmed: \t4\n",
      "Tentative: \t2\n",
      "Rejected: \t3\n",
      "Iteration: \t34 / 100\n",
      "Confirmed: \t4\n",
      "Tentative: \t2\n",
      "Rejected: \t3\n",
      "Iteration: \t35 / 100\n",
      "Confirmed: \t4\n",
      "Tentative: \t2\n",
      "Rejected: \t3\n",
      "Iteration: \t36 / 100\n",
      "Confirmed: \t4\n",
      "Tentative: \t2\n",
      "Rejected: \t3\n",
      "Iteration: \t37 / 100\n",
      "Confirmed: \t4\n",
      "Tentative: \t2\n",
      "Rejected: \t3\n",
      "Iteration: \t38 / 100\n",
      "Confirmed: \t4\n",
      "Tentative: \t2\n",
      "Rejected: \t3\n",
      "Iteration: \t39 / 100\n",
      "Confirmed: \t4\n",
      "Tentative: \t2\n",
      "Rejected: \t3\n",
      "Iteration: \t40 / 100\n",
      "Confirmed: \t4\n",
      "Tentative: \t2\n",
      "Rejected: \t3\n",
      "Iteration: \t41 / 100\n",
      "Confirmed: \t4\n",
      "Tentative: \t2\n",
      "Rejected: \t3\n",
      "Iteration: \t42 / 100\n",
      "Confirmed: \t4\n",
      "Tentative: \t2\n",
      "Rejected: \t3\n",
      "Iteration: \t43 / 100\n",
      "Confirmed: \t4\n",
      "Tentative: \t2\n",
      "Rejected: \t3\n",
      "Iteration: \t44 / 100\n",
      "Confirmed: \t4\n",
      "Tentative: \t2\n",
      "Rejected: \t3\n",
      "Iteration: \t45 / 100\n",
      "Confirmed: \t4\n",
      "Tentative: \t2\n",
      "Rejected: \t3\n",
      "Iteration: \t46 / 100\n",
      "Confirmed: \t4\n",
      "Tentative: \t2\n",
      "Rejected: \t3\n",
      "Iteration: \t47 / 100\n",
      "Confirmed: \t4\n",
      "Tentative: \t2\n",
      "Rejected: \t3\n",
      "Iteration: \t48 / 100\n",
      "Confirmed: \t4\n",
      "Tentative: \t2\n",
      "Rejected: \t3\n",
      "Iteration: \t49 / 100\n",
      "Confirmed: \t4\n",
      "Tentative: \t2\n",
      "Rejected: \t3\n",
      "Iteration: \t50 / 100\n",
      "Confirmed: \t4\n",
      "Tentative: \t2\n",
      "Rejected: \t3\n",
      "Iteration: \t51 / 100\n",
      "Confirmed: \t4\n",
      "Tentative: \t2\n",
      "Rejected: \t3\n",
      "Iteration: \t52 / 100\n",
      "Confirmed: \t4\n",
      "Tentative: \t2\n",
      "Rejected: \t3\n",
      "Iteration: \t53 / 100\n",
      "Confirmed: \t4\n",
      "Tentative: \t2\n",
      "Rejected: \t3\n",
      "Iteration: \t54 / 100\n",
      "Confirmed: \t4\n",
      "Tentative: \t2\n",
      "Rejected: \t3\n",
      "Iteration: \t55 / 100\n",
      "Confirmed: \t4\n",
      "Tentative: \t2\n",
      "Rejected: \t3\n",
      "Iteration: \t56 / 100\n",
      "Confirmed: \t4\n",
      "Tentative: \t2\n",
      "Rejected: \t3\n",
      "Iteration: \t57 / 100\n",
      "Confirmed: \t4\n",
      "Tentative: \t2\n",
      "Rejected: \t3\n",
      "Iteration: \t58 / 100\n",
      "Confirmed: \t4\n",
      "Tentative: \t2\n",
      "Rejected: \t3\n",
      "Iteration: \t59 / 100\n",
      "Confirmed: \t4\n",
      "Tentative: \t2\n",
      "Rejected: \t3\n",
      "Iteration: \t60 / 100\n",
      "Confirmed: \t4\n",
      "Tentative: \t2\n",
      "Rejected: \t3\n",
      "Iteration: \t61 / 100\n",
      "Confirmed: \t4\n",
      "Tentative: \t2\n",
      "Rejected: \t3\n",
      "Iteration: \t62 / 100\n",
      "Confirmed: \t4\n",
      "Tentative: \t2\n",
      "Rejected: \t3\n",
      "Iteration: \t63 / 100\n",
      "Confirmed: \t4\n",
      "Tentative: \t2\n",
      "Rejected: \t3\n",
      "Iteration: \t64 / 100\n",
      "Confirmed: \t4\n",
      "Tentative: \t2\n",
      "Rejected: \t3\n",
      "Iteration: \t65 / 100\n",
      "Confirmed: \t4\n",
      "Tentative: \t2\n",
      "Rejected: \t3\n",
      "Iteration: \t66 / 100\n",
      "Confirmed: \t4\n",
      "Tentative: \t2\n",
      "Rejected: \t3\n",
      "Iteration: \t67 / 100\n",
      "Confirmed: \t4\n",
      "Tentative: \t2\n",
      "Rejected: \t3\n",
      "Iteration: \t68 / 100\n",
      "Confirmed: \t4\n",
      "Tentative: \t2\n",
      "Rejected: \t3\n",
      "Iteration: \t69 / 100\n",
      "Confirmed: \t4\n",
      "Tentative: \t2\n",
      "Rejected: \t3\n",
      "Iteration: \t70 / 100\n",
      "Confirmed: \t4\n",
      "Tentative: \t2\n",
      "Rejected: \t3\n",
      "Iteration: \t71 / 100\n",
      "Confirmed: \t4\n",
      "Tentative: \t2\n",
      "Rejected: \t3\n",
      "Iteration: \t72 / 100\n",
      "Confirmed: \t4\n",
      "Tentative: \t2\n",
      "Rejected: \t3\n",
      "Iteration: \t73 / 100\n",
      "Confirmed: \t4\n",
      "Tentative: \t2\n",
      "Rejected: \t3\n",
      "Iteration: \t74 / 100\n",
      "Confirmed: \t4\n",
      "Tentative: \t2\n",
      "Rejected: \t3\n",
      "Iteration: \t75 / 100\n",
      "Confirmed: \t4\n",
      "Tentative: \t2\n",
      "Rejected: \t3\n",
      "Iteration: \t76 / 100\n",
      "Confirmed: \t4\n",
      "Tentative: \t2\n",
      "Rejected: \t3\n",
      "Iteration: \t77 / 100\n",
      "Confirmed: \t4\n",
      "Tentative: \t2\n",
      "Rejected: \t3\n",
      "Iteration: \t78 / 100\n",
      "Confirmed: \t4\n",
      "Tentative: \t2\n",
      "Rejected: \t3\n",
      "Iteration: \t79 / 100\n",
      "Confirmed: \t4\n",
      "Tentative: \t2\n",
      "Rejected: \t3\n",
      "Iteration: \t80 / 100\n",
      "Confirmed: \t4\n",
      "Tentative: \t2\n",
      "Rejected: \t3\n",
      "Iteration: \t81 / 100\n",
      "Confirmed: \t4\n",
      "Tentative: \t2\n",
      "Rejected: \t3\n",
      "Iteration: \t82 / 100\n",
      "Confirmed: \t4\n",
      "Tentative: \t2\n",
      "Rejected: \t3\n",
      "Iteration: \t83 / 100\n",
      "Confirmed: \t4\n",
      "Tentative: \t2\n",
      "Rejected: \t3\n",
      "Iteration: \t84 / 100\n",
      "Confirmed: \t4\n",
      "Tentative: \t2\n",
      "Rejected: \t3\n",
      "Iteration: \t85 / 100\n",
      "Confirmed: \t4\n",
      "Tentative: \t2\n",
      "Rejected: \t3\n",
      "Iteration: \t86 / 100\n",
      "Confirmed: \t4\n",
      "Tentative: \t2\n",
      "Rejected: \t3\n",
      "Iteration: \t87 / 100\n",
      "Confirmed: \t4\n",
      "Tentative: \t2\n",
      "Rejected: \t3\n",
      "Iteration: \t88 / 100\n",
      "Confirmed: \t4\n",
      "Tentative: \t2\n",
      "Rejected: \t3\n",
      "Iteration: \t89 / 100\n",
      "Confirmed: \t4\n",
      "Tentative: \t2\n",
      "Rejected: \t3\n",
      "Iteration: \t90 / 100\n",
      "Confirmed: \t4\n",
      "Tentative: \t2\n",
      "Rejected: \t3\n",
      "Iteration: \t91 / 100\n",
      "Confirmed: \t4\n",
      "Tentative: \t2\n",
      "Rejected: \t3\n",
      "Iteration: \t92 / 100\n",
      "Confirmed: \t4\n",
      "Tentative: \t2\n",
      "Rejected: \t3\n",
      "Iteration: \t93 / 100\n",
      "Confirmed: \t4\n",
      "Tentative: \t2\n",
      "Rejected: \t3\n",
      "Iteration: \t94 / 100\n",
      "Confirmed: \t4\n",
      "Tentative: \t2\n",
      "Rejected: \t3\n",
      "Iteration: \t95 / 100\n",
      "Confirmed: \t4\n",
      "Tentative: \t2\n",
      "Rejected: \t3\n",
      "Iteration: \t96 / 100\n",
      "Confirmed: \t4\n",
      "Tentative: \t2\n",
      "Rejected: \t3\n",
      "Iteration: \t97 / 100\n",
      "Confirmed: \t4\n",
      "Tentative: \t2\n",
      "Rejected: \t3\n",
      "Iteration: \t98 / 100\n",
      "Confirmed: \t4\n",
      "Tentative: \t2\n",
      "Rejected: \t3\n",
      "Iteration: \t99 / 100\n",
      "Confirmed: \t4\n",
      "Tentative: \t2\n",
      "Rejected: \t3\n",
      "\n",
      "\n",
      "BorutaPy finished running.\n",
      "\n",
      "Iteration: \t100 / 100\n",
      "Confirmed: \t4\n",
      "Tentative: \t1\n",
      "Rejected: \t3\n"
     ]
    }
   ],
   "source": [
    "from sklearn.ensemble import RandomForestClassifier\n",
    "rf = RandomForestClassifier(n_jobs=-1, class_weight='balanced', max_depth=5)\n",
    "\n",
    "feat_selector = BorutaPy(rf, n_estimators='auto', verbose=2, random_state=1)\n",
    "\n",
    "feat_selector.fit(X_train.values, y_train)\n",
    "feat_selector.support_\n",
    "feat_selector.ranking_\n",
    "\n",
    "# wybór odpowiednich zmiennych ze zbioru testowego\n",
    "X_filtered = feat_selector.transform(X_test.values)"
   ]
  },
  {
   "cell_type": "code",
   "execution_count": 36,
   "metadata": {},
   "outputs": [
    {
     "data": {
      "text/plain": [
       "Index(['tobacco', 'ldl', 'adiposity', 'age'], dtype='object')"
      ]
     },
     "execution_count": 36,
     "metadata": {},
     "output_type": "execute_result"
    }
   ],
   "source": [
    "X_train.columns[feat_selector.support_]"
   ]
  },
  {
   "cell_type": "markdown",
   "metadata": {},
   "source": [
    "## Ciekawostki: \n",
    "Przykład wizualizacji dla kilku metryk \n",
    "- https://scikit-learn.org/stable/auto_examples/model_selection/plot_multi_metric_evaluation.html   \n",
    "\n",
    "Jak robić strojenie parametrów dla różnych modeli?\n",
    "- http://www.davidsbatista.net/blog/2018/02/23/model_optimization/\n",
    "- https://stackoverflow.com/questions/50265993/alternate-different-models-in-pipeline-for-gridsearchcv  \n",
    "\n",
    "Inny przykład automl\n",
    "- Hyperopt https://hyperopt.github.io/hyperopt/\n",
    "\n",
    "Paulina wrzuciła ten link a propos metod wbudowanych, więc nie chciałem być gorszy\n",
    "- https://towardsdatascience.com/the-mathematics-of-decision-trees-random-forest-and-feature-importance-in-scikit-learn-and-spark-f2861df67e3"
   ]
  }
 ],
 "metadata": {
  "kernelspec": {
   "display_name": "Python 3",
   "language": "python",
   "name": "python3"
  },
  "language_info": {
   "codemirror_mode": {
    "name": "ipython",
    "version": 3
   },
   "file_extension": ".py",
   "mimetype": "text/x-python",
   "name": "python",
   "nbconvert_exporter": "python",
   "pygments_lexer": "ipython3",
   "version": "3.8.3"
  }
 },
 "nbformat": 4,
 "nbformat_minor": 2
}
