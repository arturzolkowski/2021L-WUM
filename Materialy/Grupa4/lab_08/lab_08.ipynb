{
 "cells": [
  {
   "cell_type": "code",
   "execution_count": null,
   "metadata": {
    "ExecuteTime": {
     "end_time": "2020-05-19T06:27:02.858593Z",
     "start_time": "2020-05-19T06:27:01.458581Z"
    }
   },
   "outputs": [],
   "source": [
    "import numpy as np\n",
    "import pandas as pd\n",
    "import matplotlib.pyplot as plt\n",
    "from sklearn import cluster, datasets, mixture\n",
    "from sklearn import preprocessing\n",
    "import seaborn as sns"
   ]
  },
  {
   "cell_type": "markdown",
   "metadata": {},
   "source": [
    "# Spis Treści\n",
    "1. [Metoda K-średnich](#kmeans)\n",
    "    1. [Powtórka](#kmeans)\n",
    "    2. [Mini Batch K-means](#mbkmeans)\n",
    "    3. [Zadanie](#kmeans_task)\n",
    "2. [DBSCAN](#DBSCAN)\n",
    "    1. [Teoria](#DBSCAN)\n",
    "    2. [Przykład](#DBSCAN_example)\n",
    "    3. [Zadanie](#DBSCAN_task)\n",
    "    4. [Źródła](#DBSCAN_sources)\n",
    "3. [GMM](#GMM)\n",
    "    1. [Teoria](#GMM)\n",
    "    2. [Przykład](#GMM_example)\n",
    "    3. [Zadanie](#GMM_task)\n",
    "    4. [Źródła](#GMM_sources)\n",
    "4. [Standaryzacja](#standardization)"
   ]
  },
  {
   "cell_type": "markdown",
   "metadata": {},
   "source": [
    "Przygotowanie danych:"
   ]
  },
  {
   "cell_type": "code",
   "execution_count": null,
   "metadata": {
    "ExecuteTime": {
     "end_time": "2020-05-19T06:27:02.871764Z",
     "start_time": "2020-05-19T06:27:02.859924Z"
    }
   },
   "outputs": [],
   "source": [
    "from IPython.display import HTML\n",
    "import random\n",
    "\n",
    "def hide_toggle(for_next=False):\n",
    "    this_cell = \"\"\"$('div.cell.code_cell.rendered.selected')\"\"\"\n",
    "    next_cell = this_cell + '.next()'\n",
    "\n",
    "    toggle_text = 'Toggle show/hide'  # text shown on toggle link\n",
    "    target_cell = this_cell  # target cell to control with toggle\n",
    "    js_hide_current = ''  # bit of JS to permanently hide code in current cell (only when toggling next cell)\n",
    "\n",
    "    if for_next:\n",
    "        target_cell = next_cell\n",
    "        toggle_text += ' next cell'\n",
    "        js_hide_current = this_cell + '.find(\"div.input\").hide();'\n",
    "\n",
    "    js_f_name = 'code_toggle_{}'.format(str(random.randint(1,2**64)))\n",
    "\n",
    "    html = \"\"\"\n",
    "        <script>\n",
    "            function {f_name}() {{\n",
    "                {cell_selector}.find('div.input').toggle();\n",
    "            }}\n",
    "\n",
    "            {js_hide_current}\n",
    "        </script>\n",
    "\n",
    "        <a href=\"javascript:{f_name}()\">{toggle_text}</a>\n",
    "    \"\"\".format(\n",
    "        f_name=js_f_name,\n",
    "        cell_selector=target_cell,\n",
    "        js_hide_current=js_hide_current, \n",
    "        toggle_text=toggle_text\n",
    "    )\n",
    "\n",
    "    return HTML(html)\n",
    "hide_toggle(for_next=True)\n"
   ]
  },
  {
   "cell_type": "code",
   "execution_count": null,
   "metadata": {
    "ExecuteTime": {
     "end_time": "2020-05-19T06:27:05.192998Z",
     "start_time": "2020-05-19T06:27:05.143634Z"
    }
   },
   "outputs": [],
   "source": [
    "# Przygotowanie danych\n",
    "n_samples = 1500\n",
    "noisy_circles, _ = datasets.make_circles(n_samples=n_samples, factor=.5,noise=.05)\n",
    "noisy_moons, _ = datasets.make_moons(n_samples=n_samples, noise=.05)\n",
    "blobs, _ = datasets.make_blobs(n_samples=n_samples, random_state=8)\n",
    "no_structure = np.random.rand(n_samples, 2), None\n",
    "\n",
    "# Anisotropicly distributed data\n",
    "X, _ = datasets.make_blobs(n_samples=n_samples, random_state=170)\n",
    "transformation = [[0.6, -0.6], [-0.4, 0.8]]\n",
    "X_aniso = np.dot(X, transformation)\n",
    "aniso = (X_aniso, _)\n",
    "\n",
    "X, _ = datasets.make_blobs(n_samples=n_samples, random_state=1)\n",
    "transformation = [[0.6, -0.6], [-0.4, 0.8]]\n",
    "X_aniso_noisy = np.dot(X, transformation)\n",
    "aniso_noisy = (X_aniso, _)\n",
    "\n",
    "varied = datasets.make_blobs(n_samples=n_samples,\n",
    "                             cluster_std=[1.0, 2.5, 0.5],\n",
    "                             random_state=170)\n",
    "\n",
    "X_batch_blobs, y_batch_blobs= datasets.make_blobs(n_samples=np.linspace(1000, 21000, 11, dtype=np.int),\n",
    "                                                  random_state=8, center_box=(-100, 100),\n",
    "                                                  cluster_std=np.linspace(1, 5, 11))"
   ]
  },
  {
   "cell_type": "markdown",
   "metadata": {},
   "source": [
    "## Metoda K-średnich <a name=\"kmeans\"></a>\n",
    "\n",
    "\n"
   ]
  },
  {
   "cell_type": "markdown",
   "metadata": {},
   "source": [
    "Przypomnienie:  \n",
    "![](https://miro.medium.com/max/960/1*KrcZK0xYgTa4qFrVr0fO2w.gif)\n",
    "<div align=\"center\">Żródło: https://towardsdatascience.com/the-5-clustering-algorithms-data-scientists-need-to-know-a36d136ef68</div>"
   ]
  },
  {
   "cell_type": "markdown",
   "metadata": {},
   "source": [
    "<details>\n",
    "<summary>Zalety?</summary>\n",
    "    \n",
    "   - niska złożoność, a co za tym idzie wysoka wydajność działania,\n",
    "    \n",
    "   - działa szybko przy dużych zbiorach i niskich ilościach grup,\n",
    "    \n",
    "   - pogrupowane zbiory są z reguły bardziej ciaśniejsze i zbite.\n",
    "</details>\n",
    "\n",
    "<details>\n",
    "<summary>Wady?</summary>\n",
    "    \n",
    "   - nie pomaga w określeniu ilości grup (K),\n",
    "    \n",
    "   - różne wartości początkowe prowadzą do różnych wyników,\n",
    "    \n",
    "   - działa dobrze tylko dla „sferycznych” skupisk o jednorodnej gęstości.\n",
    "</details>\n",
    "\n",
    "<details>\n",
    "<summary>Pytania - co możemy poprawić?</summary>\n",
    "    \n",
    "   - Co zrobić jeśli mamy bardzo dużo danych?\n",
    "   \n",
    "   - Co jeśli dane nie są sferyczne?\n",
    "   \n",
    "   - Może automatyczna detekcja liczby skupień?\n",
    "</details>"
   ]
  },
  {
   "cell_type": "markdown",
   "metadata": {},
   "source": [
    "### Metoda Mini Batch <a name=\"mbkmeans\"></a>"
   ]
  },
  {
   "cell_type": "code",
   "execution_count": null,
   "metadata": {
    "ExecuteTime": {
     "end_time": "2020-05-19T06:27:18.842163Z",
     "start_time": "2020-05-19T06:27:18.836317Z"
    }
   },
   "outputs": [],
   "source": [
    "len(X_batch_blobs[:,0])"
   ]
  },
  {
   "cell_type": "code",
   "execution_count": null,
   "metadata": {
    "ExecuteTime": {
     "end_time": "2020-05-19T06:27:19.772525Z",
     "start_time": "2020-05-19T06:27:19.413215Z"
    }
   },
   "outputs": [],
   "source": [
    "plt.scatter(X_batch_blobs[:,0], X_batch_blobs[:,1])\n",
    "plt.show()"
   ]
  },
  {
   "cell_type": "code",
   "execution_count": null,
   "metadata": {
    "ExecuteTime": {
     "end_time": "2020-05-19T06:28:04.453246Z",
     "start_time": "2020-05-19T06:28:04.446170Z"
    }
   },
   "outputs": [],
   "source": [
    "def _KMeans(X, n_clusters):\n",
    "    kmeans = cluster.KMeans(n_clusters=n_clusters, random_state=0)\n",
    "    kmeans.fit(X)\n",
    "    return X, kmeans\n",
    "\n",
    "def _MiniBatchKMeans(X, n_clusters):\n",
    "    miniBatchKmeans = cluster.MiniBatchKMeans(n_clusters=n_clusters)\n",
    "    miniBatchKmeans.fit(X)\n",
    "    return X, miniBatchKmeans"
   ]
  },
  {
   "cell_type": "markdown",
   "metadata": {},
   "source": [
    "Porównanie czasów działania:"
   ]
  },
  {
   "cell_type": "code",
   "execution_count": null,
   "metadata": {
    "ExecuteTime": {
     "end_time": "2020-05-19T06:28:06.072836Z",
     "start_time": "2020-05-19T06:28:04.940746Z"
    }
   },
   "outputs": [],
   "source": [
    "%%time\n",
    "kmeans=_KMeans(X_batch_blobs, n_clusters=11)"
   ]
  },
  {
   "cell_type": "code",
   "execution_count": null,
   "metadata": {
    "ExecuteTime": {
     "end_time": "2020-05-19T06:28:06.463085Z",
     "start_time": "2020-05-19T06:28:06.073893Z"
    }
   },
   "outputs": [],
   "source": [
    "%%time\n",
    "batch_kmeans=_MiniBatchKMeans(X_batch_blobs, n_clusters=11)"
   ]
  },
  {
   "cell_type": "code",
   "execution_count": null,
   "metadata": {
    "ExecuteTime": {
     "end_time": "2020-05-19T06:28:06.468447Z",
     "start_time": "2020-05-19T06:28:06.464456Z"
    }
   },
   "outputs": [],
   "source": [
    "def plot_clusters(X, model, title=\"\", **kwargs):\n",
    "    if hasattr(model, 'labels_'):\n",
    "        y_pred = model.labels_.astype(np.int)\n",
    "    else:\n",
    "        y_pred = model.predict(X)\n",
    "    plt.scatter(X[:,0],X[:,1],c=y_pred, cmap='viridis', **kwargs)\n",
    "    plt.title(title)\n",
    "    plt.show()"
   ]
  },
  {
   "cell_type": "markdown",
   "metadata": {},
   "source": [
    "Wizualizacja podziału:"
   ]
  },
  {
   "cell_type": "code",
   "execution_count": null,
   "metadata": {
    "ExecuteTime": {
     "end_time": "2020-05-19T06:28:10.192874Z",
     "start_time": "2020-05-19T06:28:06.470986Z"
    }
   },
   "outputs": [],
   "source": [
    "plot_clusters(*kmeans)\n",
    "plot_clusters(*batch_kmeans)"
   ]
  },
  {
   "cell_type": "markdown",
   "metadata": {},
   "source": [
    "## DBSCAN  <a name=\"DBSCAN\"></a>\n",
    "### Density-based spatial clustering of applications with noise "
   ]
  },
  {
   "cell_type": "markdown",
   "metadata": {},
   "source": [
    "DBSCAN prezentuje inne podejście do problemów analizy skupień, oparte na analizie gęstości.\n",
    "\n",
    "Dwa podstawowe parametry:\n",
    " - $\\epsilon$,\n",
    " - **minPts**\n",
    "\n",
    "Sposób działania:\n",
    "\n",
    "   1. Znajdź punkty w sąsiedztwie ($\\epsilon$) każdego punktu, znajdź \"punkty bazowe\" (ang. core points) mające więcej niż **minPts** sąsiadów.\n",
    "   2. Znajdź spójne składowe punktów bazowych, pomijając wszystkie pozostałe punkty,\n",
    "   3. Przypisz każdy pozostały punkt do najbliższego klastra, jeśli jest w jego sąsiedztwie, w przeciwnym wypadku oznacz go jako szum/obserwację odstającą.\n",
    "  "
   ]
  },
  {
   "cell_type": "markdown",
   "metadata": {},
   "source": [
    "\n",
    "<img src=\"https://upload.wikimedia.org/wikipedia/commons/a/af/DBSCAN-Illustration.svg\" alt=\"drawing\" width=\"400\"/>\n",
    "\n",
    "In this diagram, minPts = 4. Point A and the other red points are core points, because the area surrounding these points in an ε radius contain at least 4 points (including the point itself). Because they are all reachable from one another, they form a single cluster. Points B and C are not core points, but are reachable from A (via other core points) and thus belong to the cluster as well. Point N is a noise point that is neither a core point nor directly-reachable.\n",
    "\n",
    "Źródło ilustracji: https://en.wikipedia.org/wiki/DBSCAN"
   ]
  },
  {
   "cell_type": "markdown",
   "metadata": {},
   "source": [
    "### Przykład <a name=\"DBSCAN_example\"></a>"
   ]
  },
  {
   "cell_type": "code",
   "execution_count": null,
   "metadata": {
    "ExecuteTime": {
     "end_time": "2020-05-19T06:28:15.439085Z",
     "start_time": "2020-05-19T06:28:15.433846Z"
    }
   },
   "outputs": [],
   "source": [
    "def _DBSCAN(X, eps=0.3):\n",
    "    dbs = cluster.DBSCAN(eps=eps)\n",
    "    dbs.fit(X)\n",
    "    return X, dbs"
   ]
  },
  {
   "cell_type": "markdown",
   "metadata": {},
   "source": [
    "Podstawowe parametry *sklearn.cluster.DBSCAN*: \n",
    "\n",
    "`eps` default=0.5  \n",
    "`min_samples` default=5   \n",
    "`metric` default = 'euclidean'  "
   ]
  },
  {
   "cell_type": "code",
   "execution_count": null,
   "metadata": {
    "ExecuteTime": {
     "end_time": "2020-05-19T06:28:16.807867Z",
     "start_time": "2020-05-19T06:28:16.638771Z"
    }
   },
   "outputs": [],
   "source": [
    "plot_clusters(*_KMeans(X_aniso, n_clusters=3))"
   ]
  },
  {
   "cell_type": "code",
   "execution_count": null,
   "metadata": {
    "ExecuteTime": {
     "end_time": "2020-05-19T07:07:28.014947Z",
     "start_time": "2020-05-19T07:07:27.867458Z"
    }
   },
   "outputs": [],
   "source": [
    "plot_clusters(*_DBSCAN(X_aniso, eps=0.35), title=\"DBSCAN\")"
   ]
  },
  {
   "cell_type": "markdown",
   "metadata": {},
   "source": [
    "### Zadanie <a name=\"DBSCAN_task\"></a>  "
   ]
  },
  {
   "cell_type": "code",
   "execution_count": null,
   "metadata": {
    "ExecuteTime": {
     "end_time": "2020-05-19T06:28:20.490136Z",
     "start_time": "2020-05-19T06:28:20.355490Z"
    }
   },
   "outputs": [],
   "source": [
    "plot_clusters(*_DBSCAN(noisy_circles))"
   ]
  },
  {
   "cell_type": "markdown",
   "metadata": {},
   "source": [
    "### Więcej <a name=\"DBSCAN_sources\"></a>  \n",
    "\n",
    " - https://github.com/tirthajyoti/Machine-Learning-with-Python/blob/master/Clustering-Dimensionality-Reduction/DBScan_Clustering.ipynb\n",
    "\n",
    " - Przykład z dokumentacji: https://scikit-learn.org/stable/auto_examples/cluster/plot_dbscan.html#sphx-glr-auto-examples-cluster-plot-dbscan-py\n",
    " \n",
    " - DBSCAN Revisited, Revisited: Why and How You Should (Still) Use DBSCAN (2017): https://dl.acm.org/doi/10.1145/3068335"
   ]
  },
  {
   "cell_type": "markdown",
   "metadata": {},
   "source": [
    "## GMM (Gaussian Mixture Models) <a name=\"GMM\"></a>"
   ]
  },
  {
   "cell_type": "markdown",
   "metadata": {},
   "source": [
    "Jeszcze inne podejście oparte na modelowaniu skupień przy pomocy rozkładów normalnych."
   ]
  },
  {
   "attachments": {
    "image.png": {
     "image/png": "[encoded data removed]"
    }
   },
   "cell_type": "markdown",
   "metadata": {},
   "source": [
    "![image.png](https://miro.medium.com/max/700/1*lTv7e4Cdlp738X_WFZyZHA.png)"
   ]
  },
  {
   "cell_type": "markdown",
   "metadata": {},
   "source": [
    "Źródło:https://towardsdatascience.com/gaussian-mixture-models-explained-6986aaf5a95"
   ]
  },
  {
   "cell_type": "markdown",
   "metadata": {},
   "source": [
    "Dla **K** klastrów mamy **K** funkcji o 3 podstawowych parametrach:\n",
    " - $\\mu$ - średnia określająca centrum,\n",
    " - $\\Sigma$ - macierz kowariancji, określająca szerokość. W wielu wymiarach określa wymiary elipsoidy. \n",
    " - $\\pi$ - określa wysokość, $$\\sum_{i}^{K}  \\pi_{i} = 1$$\n",
    " \n",
    " $$p(x) = \\sum_{i}^{K} \\pi_{i} \\mathcal{N}(\\mu_{i}, \\Sigma_{i})$$"
   ]
  },
  {
   "cell_type": "markdown",
   "metadata": {},
   "source": [
    "W przeciwieństwie do pozostałych algorytmów zwraca prawdopodobieństwo przyporządkowania obserwacji do określonego skupienia.\n",
    "\n",
    "Zalety:\n",
    " - rozpoznaje klastry o mniejszej gęstości,\n",
    " - rozpoznaje klastry inne niż tylko sferyczne,\n",
    " - przypadki, w których możemy wykorzystać przyporządkowanie do wielu skupień na raz."
   ]
  },
  {
   "cell_type": "markdown",
   "metadata": {},
   "source": [
    "### Przykład <a name=\"GMM_example\"></a>"
   ]
  },
  {
   "cell_type": "code",
   "execution_count": null,
   "metadata": {
    "ExecuteTime": {
     "end_time": "2020-05-19T06:28:24.823270Z",
     "start_time": "2020-05-19T06:28:24.819789Z"
    }
   },
   "outputs": [],
   "source": [
    "parameters = {\n",
    "    'alpha': 0.5,\n",
    "    's': 30\n",
    "}"
   ]
  },
  {
   "cell_type": "code",
   "execution_count": null,
   "metadata": {
    "ExecuteTime": {
     "end_time": "2020-05-19T06:28:25.425609Z",
     "start_time": "2020-05-19T06:28:25.303152Z"
    }
   },
   "outputs": [],
   "source": [
    "plt.scatter(varied[0][:,0], varied[0][:,1], **parameters)\n",
    "plt.show()"
   ]
  },
  {
   "cell_type": "markdown",
   "metadata": {},
   "source": [
    "Jak sobie poradzi DBSCAN?"
   ]
  },
  {
   "cell_type": "code",
   "execution_count": null,
   "metadata": {
    "ExecuteTime": {
     "end_time": "2020-05-19T06:28:27.103963Z",
     "start_time": "2020-05-19T06:28:26.956789Z"
    }
   },
   "outputs": [],
   "source": [
    "plot_clusters(*_DBSCAN(varied[0]), **parameters)"
   ]
  },
  {
   "cell_type": "code",
   "execution_count": null,
   "metadata": {
    "ExecuteTime": {
     "end_time": "2020-05-19T06:28:27.552400Z",
     "start_time": "2020-05-19T06:28:27.547631Z"
    }
   },
   "outputs": [],
   "source": [
    "def _GMM(X, n_components, covariance_type='full'):\n",
    "    gmm = mixture.GaussianMixture(n_components=n_components, covariance_type=covariance_type)\n",
    "    gmm.fit(X)\n",
    "    return X, gmm"
   ]
  },
  {
   "cell_type": "code",
   "execution_count": null,
   "metadata": {
    "ExecuteTime": {
     "end_time": "2020-05-19T06:28:28.242558Z",
     "start_time": "2020-05-19T06:28:28.084156Z"
    }
   },
   "outputs": [],
   "source": [
    "plot_clusters(*_GMM(varied[0], n_components=3), **parameters)"
   ]
  },
  {
   "cell_type": "markdown",
   "metadata": {},
   "source": [
    "### Zadanie <a name=\"GMM_task\"></a>\n",
    "Przetestuj metody dla poniższych 3 zbiorów. Zbadaj czasy poszczególnych metod."
   ]
  },
  {
   "cell_type": "code",
   "execution_count": null,
   "metadata": {
    "ExecuteTime": {
     "end_time": "2020-05-19T06:28:29.987335Z",
     "start_time": "2020-05-19T06:28:29.357138Z"
    }
   },
   "outputs": [],
   "source": [
    "plt.scatter(noisy_moons[:,0], noisy_moons[:,1])\n",
    "plt.show()\n",
    "plt.scatter(aniso_noisy[0][:,0], aniso_noisy[0][:,1])\n",
    "plt.show()\n",
    "plt.scatter(X_batch_blobs[:,0], X_batch_blobs[:,1])\n",
    "plt.show()"
   ]
  },
  {
   "cell_type": "markdown",
   "metadata": {},
   "source": [
    "Więcej: <a name='GMM_sources'></a>\n",
    "   - https://www.kaggle.com/sid321axn/customer-segments-gmm-vs-k-means-clustering\n",
    "   - https://github.com/duducheng/clustering_tutorial/blob/master/2_Gaussian_Mixture_and_EM.ipynb"
   ]
  },
  {
   "cell_type": "markdown",
   "metadata": {},
   "source": [
    "## Standaryzacja <a name=\"standardization\"></a>"
   ]
  },
  {
   "cell_type": "code",
   "execution_count": null,
   "metadata": {
    "ExecuteTime": {
     "end_time": "2020-05-19T06:28:32.291741Z",
     "start_time": "2020-05-19T06:28:32.261341Z"
    }
   },
   "outputs": [],
   "source": [
    "x1 = np.concatenate((np.random.normal(150, 5, 400), \n",
    "                     np.random.normal(100, 5, 300),\n",
    "                     np.random.normal(50, 5, 300)),\n",
    "                    axis=None)\n",
    "x2 = np.concatenate((np.random.normal(200, 5, 400), \n",
    "                     np.random.normal(150, 5, 300),\n",
    "                     np.random.normal(100, 5, 300)),\n",
    "                    axis=None)\n",
    "x3 = np.random.normal(10000, 1000, 1000)\n",
    "\n",
    "df = pd.DataFrame({'X1': x1,'X2': x2,'X3': x3})\n",
    "df.head()"
   ]
  },
  {
   "cell_type": "code",
   "execution_count": null,
   "metadata": {
    "ExecuteTime": {
     "end_time": "2020-05-19T06:28:33.231782Z",
     "start_time": "2020-05-19T06:28:33.048248Z"
    }
   },
   "outputs": [],
   "source": [
    "fig = plt.figure(figsize=(9, 9))\n",
    "ax = fig.add_subplot(111, projection='3d')\n",
    "\n",
    "ax.scatter(df.X1, df.X2, df.X3, s=50)\n",
    "\n",
    "ax.set_xlabel('X1')\n",
    "ax.set_ylabel('X2')\n",
    "ax.set_zlabel('X3')\n",
    "\n",
    "plt.tight_layout()\n",
    "plt.show()\n"
   ]
  },
  {
   "cell_type": "code",
   "execution_count": null,
   "metadata": {
    "ExecuteTime": {
     "end_time": "2020-05-19T06:28:33.646706Z",
     "start_time": "2020-05-19T06:28:33.476255Z"
    }
   },
   "outputs": [],
   "source": [
    "df.plot()"
   ]
  },
  {
   "cell_type": "code",
   "execution_count": null,
   "metadata": {
    "ExecuteTime": {
     "end_time": "2020-05-19T06:28:36.361707Z",
     "start_time": "2020-05-19T06:28:34.398421Z"
    }
   },
   "outputs": [],
   "source": [
    "sns.pairplot(df, height=3)\n",
    "plt.tight_layout()"
   ]
  },
  {
   "cell_type": "code",
   "execution_count": null,
   "metadata": {
    "ExecuteTime": {
     "end_time": "2020-05-19T06:28:38.988524Z",
     "start_time": "2020-05-19T06:28:36.364618Z"
    }
   },
   "outputs": [],
   "source": [
    "df['k']= hue=_KMeans(df, 3)[1].predict(df)\n",
    "\n",
    "sns.pairplot(df, height=3, hue='k')\n",
    "plt.tight_layout()"
   ]
  },
  {
   "cell_type": "code",
   "execution_count": null,
   "metadata": {
    "ExecuteTime": {
     "end_time": "2020-05-19T06:28:39.005365Z",
     "start_time": "2020-05-19T06:28:38.990173Z"
    }
   },
   "outputs": [],
   "source": [
    "std_scale = preprocessing.StandardScaler().fit(df.iloc[:,[0,1,2]])\n",
    "df_std = pd.DataFrame(std_scale.transform(df.iloc[:,[0,1,2]]), columns=[\"X1\", \"X2\", \"X3\"])\n",
    "\n",
    "df_std.head()"
   ]
  },
  {
   "cell_type": "code",
   "execution_count": null,
   "metadata": {
    "ExecuteTime": {
     "end_time": "2020-05-19T06:28:41.806022Z",
     "start_time": "2020-05-19T06:28:39.008332Z"
    }
   },
   "outputs": [],
   "source": [
    "df_std['k']= hue=_KMeans(df_std, 3)[1].predict(df_std)\n",
    "\n",
    "sns.pairplot(df_std, height=3, hue='k')\n",
    "plt.tight_layout()"
   ]
  },
  {
   "cell_type": "markdown",
   "metadata": {},
   "source": [
    "Więcej:\n",
    "https://sebastianraschka.com/Articles/2014_about_feature_scaling.html"
   ]
  }
 ],
 "metadata": {
  "kernelspec": {
   "name": "python392jvsc74a57bd01d5d51aab73d9610ec47b9b307b85bba458be1808c0087ceef2f39693ec1d43d",
   "display_name": "Python 3.9.2 64-bit ('vis': conda)"
  },
  "language_info": {
   "codemirror_mode": {
    "name": "ipython",
    "version": 3
   },
   "file_extension": ".py",
   "mimetype": "text/x-python",
   "name": "python",
   "nbconvert_exporter": "python",
   "pygments_lexer": "ipython3",
   "version": "3.9.2"
  }
 },
 "nbformat": 4,
 "nbformat_minor": 4
}