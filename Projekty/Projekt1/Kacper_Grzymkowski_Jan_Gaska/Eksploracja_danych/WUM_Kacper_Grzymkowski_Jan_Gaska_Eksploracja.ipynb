{
  "nbformat": 4,
  "nbformat_minor": 0,
  "metadata": {
    "colab": {
      "name": "Projekt I WUM.ipynb",
      "provenance": [],
      "collapsed_sections": [
        "hsX5aI9BHYs_",
        "O6yob8ucsjKR",
        "1nCdX2QVnJmw"
      ],
      "toc_visible": true
    },
    "kernelspec": {
      "name": "python3",
      "display_name": "Python 3"
    }
  },
  "cells": [
    {
      "cell_type": "markdown",
      "metadata": {
        "id": "Pvou4a33QJ_z"
      },
      "source": [
        "# Eksploracja danych kongresu amerykańskeigo\n",
        "W tej prezentacji dokonaliśmy eksploracji ramki danych zamieszczonej pod adresem : https://www.apispreadsheets.com/datasets/121.\n",
        "\n",
        "Ramka zawiera binarne informacje ('yes' lub 'no') o oddanych głosach przez członków Kongresu Stanów Zjednaczonych Ameryki, oraz jedną kolumnę stwierdzającą przynależność do ugrupowania politycznego (republikańskiego bądź demokratów). Na podstawie oddanych głosów finalnie utworzymy algorytm stierdzający przynależność polityczną bazując swoją wiedzę na kombinacji oddanych głosów."
      ]
    },
    {
      "cell_type": "code",
      "metadata": {
        "id": "iTSTuYnuPnGb"
      },
      "source": [
        "# Przygotowanie bibliotek\n",
        "import pandas as pd\n",
        "from numpy import array\n",
        "import numpy as np\n",
        "import seaborn as sns\n",
        "from sklearn.preprocessing import OneHotEncoder\n",
        "from sklearn.preprocessing import LabelEncoder\n",
        "from matplotlib import pyplot as plt"
      ],
      "execution_count": null,
      "outputs": []
    },
    {
      "cell_type": "code",
      "metadata": {
        "id": "TchYv8nO5vtJ"
      },
      "source": [
        "# Wgranie ramek danych\n",
        "raw_df = pd.read_csv(\"https://lovespreadsheet-tutorials.s3.amazonaws.com/APIDatasets/congressional_voting_dataset.csv\")\n",
        "DESCR = pd.read_csv('attributes_congressional_voting.csv')"
      ],
      "execution_count": null,
      "outputs": []
    },
    {
      "cell_type": "markdown",
      "metadata": {
        "id": "DQ10hnJwR_VH"
      },
      "source": [
        "# Opis ramki\n",
        "Poniżej zawarta została ramka danych zawierająca informacje o poszczególnych kolumnach oraz jak prezentuje się oryginalna ramka danych:"
      ]
    },
    {
      "cell_type": "code",
      "metadata": {
        "colab": {
          "base_uri": "https://localhost:8080/",
          "height": 576
        },
        "id": "99WNnciASk7I",
        "outputId": "a60e40b7-e28b-4568-e3ff-1498a534e259"
      },
      "source": [
        "DESCR"
      ],
      "execution_count": null,
      "outputs": [
        {
          "output_type": "execute_result",
          "data": {
            "text/html": [
              "<div>\n",
              "<style scoped>\n",
              "    .dataframe tbody tr th:only-of-type {\n",
              "        vertical-align: middle;\n",
              "    }\n",
              "\n",
              "    .dataframe tbody tr th {\n",
              "        vertical-align: top;\n",
              "    }\n",
              "\n",
              "    .dataframe thead th {\n",
              "        text-align: right;\n",
              "    }\n",
              "</style>\n",
              "<table border=\"1\" class=\"dataframe\">\n",
              "  <thead>\n",
              "    <tr style=\"text-align: right;\">\n",
              "      <th></th>\n",
              "      <th>name</th>\n",
              "      <th>type</th>\n",
              "      <th>description</th>\n",
              "    </tr>\n",
              "  </thead>\n",
              "  <tbody>\n",
              "    <tr>\n",
              "      <th>0</th>\n",
              "      <td>handicapped_infants</td>\n",
              "      <td>string</td>\n",
              "      <td>Handicapped Infants and Toddlers Act. Values: ...</td>\n",
              "    </tr>\n",
              "    <tr>\n",
              "      <th>1</th>\n",
              "      <td>water_project_cost_sharing</td>\n",
              "      <td>string</td>\n",
              "      <td>Water Resources Development Act. Values: y or n</td>\n",
              "    </tr>\n",
              "    <tr>\n",
              "      <th>2</th>\n",
              "      <td>adoption_of_the_budget_resolution</td>\n",
              "      <td>string</td>\n",
              "      <td>Omnibus Budget Reconciliation Act of 1986. Val...</td>\n",
              "    </tr>\n",
              "    <tr>\n",
              "      <th>3</th>\n",
              "      <td>physician_fee_freeze</td>\n",
              "      <td>string</td>\n",
              "      <td>Medicare Physician Fee Freeze. Values: y or n</td>\n",
              "    </tr>\n",
              "    <tr>\n",
              "      <th>4</th>\n",
              "      <td>el_salvador_aid</td>\n",
              "      <td>string</td>\n",
              "      <td>Aid given to El Salvador. Values: y or n</td>\n",
              "    </tr>\n",
              "    <tr>\n",
              "      <th>5</th>\n",
              "      <td>religious_groups_in_schools</td>\n",
              "      <td>string</td>\n",
              "      <td>Unknown bill.Values: y or n</td>\n",
              "    </tr>\n",
              "    <tr>\n",
              "      <th>6</th>\n",
              "      <td>anti_satellite_test_ban</td>\n",
              "      <td>string</td>\n",
              "      <td>Values: y or n</td>\n",
              "    </tr>\n",
              "    <tr>\n",
              "      <th>7</th>\n",
              "      <td>aid_to_nicaraguan_contras</td>\n",
              "      <td>string</td>\n",
              "      <td>Aid given to contras in Nicaragua. Values: y or n</td>\n",
              "    </tr>\n",
              "    <tr>\n",
              "      <th>8</th>\n",
              "      <td>mx_missile</td>\n",
              "      <td>string</td>\n",
              "      <td>Decision to retire the MX missile.Values: y or n</td>\n",
              "    </tr>\n",
              "    <tr>\n",
              "      <th>9</th>\n",
              "      <td>immigration</td>\n",
              "      <td>string</td>\n",
              "      <td>Immigration Reform and Control Act of 1986. Va...</td>\n",
              "    </tr>\n",
              "    <tr>\n",
              "      <th>10</th>\n",
              "      <td>synfuels_corporation_cutback</td>\n",
              "      <td>string</td>\n",
              "      <td>Values: y or n</td>\n",
              "    </tr>\n",
              "    <tr>\n",
              "      <th>11</th>\n",
              "      <td>education_spending</td>\n",
              "      <td>string</td>\n",
              "      <td>Values: y or n</td>\n",
              "    </tr>\n",
              "    <tr>\n",
              "      <th>12</th>\n",
              "      <td>superfund_right_to_sue</td>\n",
              "      <td>string</td>\n",
              "      <td>Superfund Amendments and Reauthorization Act o...</td>\n",
              "    </tr>\n",
              "    <tr>\n",
              "      <th>13</th>\n",
              "      <td>crime</td>\n",
              "      <td>string</td>\n",
              "      <td>Values: y or n</td>\n",
              "    </tr>\n",
              "    <tr>\n",
              "      <th>14</th>\n",
              "      <td>duty_free_exports</td>\n",
              "      <td>string</td>\n",
              "      <td>Values: y or n</td>\n",
              "    </tr>\n",
              "    <tr>\n",
              "      <th>15</th>\n",
              "      <td>export_administration_act_south_africa</td>\n",
              "      <td>string</td>\n",
              "      <td>Values: y or n</td>\n",
              "    </tr>\n",
              "    <tr>\n",
              "      <th>16</th>\n",
              "      <td>political_party</td>\n",
              "      <td>string</td>\n",
              "      <td>Predictor Class: democrat or republican</td>\n",
              "    </tr>\n",
              "  </tbody>\n",
              "</table>\n",
              "</div>"
            ],
            "text/plain": [
              "                                      name  ...                                        description\n",
              "0                      handicapped_infants  ...  Handicapped Infants and Toddlers Act. Values: ...\n",
              "1               water_project_cost_sharing  ...    Water Resources Development Act. Values: y or n\n",
              "2        adoption_of_the_budget_resolution  ...  Omnibus Budget Reconciliation Act of 1986. Val...\n",
              "3                     physician_fee_freeze  ...      Medicare Physician Fee Freeze. Values: y or n\n",
              "4                          el_salvador_aid  ...           Aid given to El Salvador. Values: y or n\n",
              "5              religious_groups_in_schools  ...                        Unknown bill.Values: y or n\n",
              "6                  anti_satellite_test_ban  ...                                     Values: y or n\n",
              "7                aid_to_nicaraguan_contras  ...  Aid given to contras in Nicaragua. Values: y or n\n",
              "8                               mx_missile  ...   Decision to retire the MX missile.Values: y or n\n",
              "9                              immigration  ...  Immigration Reform and Control Act of 1986. Va...\n",
              "10            synfuels_corporation_cutback  ...                                     Values: y or n\n",
              "11                      education_spending  ...                                     Values: y or n\n",
              "12                  superfund_right_to_sue  ...  Superfund Amendments and Reauthorization Act o...\n",
              "13                                   crime  ...                                     Values: y or n\n",
              "14                       duty_free_exports  ...                                     Values: y or n\n",
              "15  export_administration_act_south_africa  ...                                     Values: y or n\n",
              "16                         political_party  ...            Predictor Class: democrat or republican\n",
              "\n",
              "[17 rows x 3 columns]"
            ]
          },
          "metadata": {
            "tags": []
          },
          "execution_count": 117
        }
      ]
    },
    {
      "cell_type": "markdown",
      "metadata": {
        "id": "GO5WWyVx_wdl"
      },
      "source": [
        "Dane składają się z 16 kolumn, w które opisują jak dany polityk głosował nad pewnymi kluczowymi ustawami w Kongresie Stanów Zjednoczonych oraz jednej kolumny zawierającej informację o partii tego polityka.\n",
        "\n",
        "* \"y\" - polityk głosował za ustawą\n",
        "* \"n\" - polityk głosował przeciw ustawie\n",
        "* \"?\" - polityk wstrzymał się od głosu lub nie głosował"
      ]
    },
    {
      "cell_type": "code",
      "metadata": {
        "colab": {
          "base_uri": "https://localhost:8080/"
        },
        "id": "rS1PIazUAIpN",
        "outputId": "78117924-d872-47e2-c4ed-1df8fda3a7e0"
      },
      "source": [
        "raw_df.shape"
      ],
      "execution_count": null,
      "outputs": [
        {
          "output_type": "execute_result",
          "data": {
            "text/plain": [
              "(435, 17)"
            ]
          },
          "metadata": {
            "tags": []
          },
          "execution_count": 141
        }
      ]
    },
    {
      "cell_type": "code",
      "metadata": {
        "colab": {
          "base_uri": "https://localhost:8080/"
        },
        "id": "NiBJ5S636-eU",
        "outputId": "74c08cd5-bfea-4b4b-820b-b2c62417d64c"
      },
      "source": [
        "raw_df.info()"
      ],
      "execution_count": null,
      "outputs": [
        {
          "output_type": "stream",
          "text": [
            "<class 'pandas.core.frame.DataFrame'>\n",
            "RangeIndex: 435 entries, 0 to 434\n",
            "Data columns (total 17 columns):\n",
            " #   Column                                  Non-Null Count  Dtype \n",
            "---  ------                                  --------------  ----- \n",
            " 0   handicapped_infants                     435 non-null    object\n",
            " 1   water_project_cost_sharing              435 non-null    object\n",
            " 2   adoption_of_the_budget_resolution       435 non-null    object\n",
            " 3   physician_fee_freeze                    435 non-null    object\n",
            " 4   el_salvador_aid                         435 non-null    object\n",
            " 5   religious_groups_in_schools             435 non-null    object\n",
            " 6   anti_satellite_test_ban                 435 non-null    object\n",
            " 7   aid_to_nicaraguan_contras               435 non-null    object\n",
            " 8   mx_missile                              435 non-null    object\n",
            " 9   immigration                             435 non-null    object\n",
            " 10  synfuels_corporation_cutback            435 non-null    object\n",
            " 11  education_spending                      435 non-null    object\n",
            " 12  superfund_right_to_sue                  435 non-null    object\n",
            " 13  crime                                   435 non-null    object\n",
            " 14  duty_free_exports                       435 non-null    object\n",
            " 15  export_administration_act_south_africa  435 non-null    object\n",
            " 16  political_party                         435 non-null    object\n",
            "dtypes: object(17)\n",
            "memory usage: 57.9+ KB\n"
          ],
          "name": "stdout"
        }
      ]
    },
    {
      "cell_type": "markdown",
      "metadata": {
        "id": "ItZywWS37Cxy"
      },
      "source": [
        "Nie ma nulli to fajne, ale wszystko ciągi znaków, co mniej fajne."
      ]
    },
    {
      "cell_type": "code",
      "metadata": {
        "colab": {
          "base_uri": "https://localhost:8080/",
          "height": 439
        },
        "id": "4avmsPJFSpl3",
        "outputId": "5f7e82b3-0723-4aa8-fd4e-403e889b289c"
      },
      "source": [
        "raw_df"
      ],
      "execution_count": null,
      "outputs": [
        {
          "output_type": "execute_result",
          "data": {
            "text/html": [
              "<div>\n",
              "<style scoped>\n",
              "    .dataframe tbody tr th:only-of-type {\n",
              "        vertical-align: middle;\n",
              "    }\n",
              "\n",
              "    .dataframe tbody tr th {\n",
              "        vertical-align: top;\n",
              "    }\n",
              "\n",
              "    .dataframe thead th {\n",
              "        text-align: right;\n",
              "    }\n",
              "</style>\n",
              "<table border=\"1\" class=\"dataframe\">\n",
              "  <thead>\n",
              "    <tr style=\"text-align: right;\">\n",
              "      <th></th>\n",
              "      <th>handicapped_infants</th>\n",
              "      <th>water_project_cost_sharing</th>\n",
              "      <th>adoption_of_the_budget_resolution</th>\n",
              "      <th>physician_fee_freeze</th>\n",
              "      <th>el_salvador_aid</th>\n",
              "      <th>religious_groups_in_schools</th>\n",
              "      <th>anti_satellite_test_ban</th>\n",
              "      <th>aid_to_nicaraguan_contras</th>\n",
              "      <th>mx_missile</th>\n",
              "      <th>immigration</th>\n",
              "      <th>synfuels_corporation_cutback</th>\n",
              "      <th>education_spending</th>\n",
              "      <th>superfund_right_to_sue</th>\n",
              "      <th>crime</th>\n",
              "      <th>duty_free_exports</th>\n",
              "      <th>export_administration_act_south_africa</th>\n",
              "      <th>political_party</th>\n",
              "    </tr>\n",
              "  </thead>\n",
              "  <tbody>\n",
              "    <tr>\n",
              "      <th>0</th>\n",
              "      <td>n</td>\n",
              "      <td>y</td>\n",
              "      <td>n</td>\n",
              "      <td>y</td>\n",
              "      <td>y</td>\n",
              "      <td>y</td>\n",
              "      <td>n</td>\n",
              "      <td>n</td>\n",
              "      <td>n</td>\n",
              "      <td>y</td>\n",
              "      <td>?</td>\n",
              "      <td>y</td>\n",
              "      <td>y</td>\n",
              "      <td>y</td>\n",
              "      <td>n</td>\n",
              "      <td>y</td>\n",
              "      <td>republican</td>\n",
              "    </tr>\n",
              "    <tr>\n",
              "      <th>1</th>\n",
              "      <td>n</td>\n",
              "      <td>y</td>\n",
              "      <td>n</td>\n",
              "      <td>y</td>\n",
              "      <td>y</td>\n",
              "      <td>y</td>\n",
              "      <td>n</td>\n",
              "      <td>n</td>\n",
              "      <td>n</td>\n",
              "      <td>n</td>\n",
              "      <td>n</td>\n",
              "      <td>y</td>\n",
              "      <td>y</td>\n",
              "      <td>y</td>\n",
              "      <td>n</td>\n",
              "      <td>?</td>\n",
              "      <td>republican</td>\n",
              "    </tr>\n",
              "    <tr>\n",
              "      <th>2</th>\n",
              "      <td>?</td>\n",
              "      <td>y</td>\n",
              "      <td>y</td>\n",
              "      <td>?</td>\n",
              "      <td>y</td>\n",
              "      <td>y</td>\n",
              "      <td>n</td>\n",
              "      <td>n</td>\n",
              "      <td>n</td>\n",
              "      <td>n</td>\n",
              "      <td>y</td>\n",
              "      <td>n</td>\n",
              "      <td>y</td>\n",
              "      <td>y</td>\n",
              "      <td>n</td>\n",
              "      <td>n</td>\n",
              "      <td>democrat</td>\n",
              "    </tr>\n",
              "    <tr>\n",
              "      <th>3</th>\n",
              "      <td>n</td>\n",
              "      <td>y</td>\n",
              "      <td>y</td>\n",
              "      <td>n</td>\n",
              "      <td>?</td>\n",
              "      <td>y</td>\n",
              "      <td>n</td>\n",
              "      <td>n</td>\n",
              "      <td>n</td>\n",
              "      <td>n</td>\n",
              "      <td>y</td>\n",
              "      <td>n</td>\n",
              "      <td>y</td>\n",
              "      <td>n</td>\n",
              "      <td>n</td>\n",
              "      <td>y</td>\n",
              "      <td>democrat</td>\n",
              "    </tr>\n",
              "    <tr>\n",
              "      <th>4</th>\n",
              "      <td>y</td>\n",
              "      <td>y</td>\n",
              "      <td>y</td>\n",
              "      <td>n</td>\n",
              "      <td>y</td>\n",
              "      <td>y</td>\n",
              "      <td>n</td>\n",
              "      <td>n</td>\n",
              "      <td>n</td>\n",
              "      <td>n</td>\n",
              "      <td>y</td>\n",
              "      <td>?</td>\n",
              "      <td>y</td>\n",
              "      <td>y</td>\n",
              "      <td>y</td>\n",
              "      <td>y</td>\n",
              "      <td>democrat</td>\n",
              "    </tr>\n",
              "    <tr>\n",
              "      <th>...</th>\n",
              "      <td>...</td>\n",
              "      <td>...</td>\n",
              "      <td>...</td>\n",
              "      <td>...</td>\n",
              "      <td>...</td>\n",
              "      <td>...</td>\n",
              "      <td>...</td>\n",
              "      <td>...</td>\n",
              "      <td>...</td>\n",
              "      <td>...</td>\n",
              "      <td>...</td>\n",
              "      <td>...</td>\n",
              "      <td>...</td>\n",
              "      <td>...</td>\n",
              "      <td>...</td>\n",
              "      <td>...</td>\n",
              "      <td>...</td>\n",
              "    </tr>\n",
              "    <tr>\n",
              "      <th>430</th>\n",
              "      <td>n</td>\n",
              "      <td>n</td>\n",
              "      <td>y</td>\n",
              "      <td>y</td>\n",
              "      <td>y</td>\n",
              "      <td>y</td>\n",
              "      <td>n</td>\n",
              "      <td>n</td>\n",
              "      <td>y</td>\n",
              "      <td>y</td>\n",
              "      <td>n</td>\n",
              "      <td>y</td>\n",
              "      <td>y</td>\n",
              "      <td>y</td>\n",
              "      <td>n</td>\n",
              "      <td>y</td>\n",
              "      <td>republican</td>\n",
              "    </tr>\n",
              "    <tr>\n",
              "      <th>431</th>\n",
              "      <td>n</td>\n",
              "      <td>n</td>\n",
              "      <td>y</td>\n",
              "      <td>n</td>\n",
              "      <td>n</td>\n",
              "      <td>n</td>\n",
              "      <td>y</td>\n",
              "      <td>y</td>\n",
              "      <td>y</td>\n",
              "      <td>y</td>\n",
              "      <td>n</td>\n",
              "      <td>n</td>\n",
              "      <td>n</td>\n",
              "      <td>n</td>\n",
              "      <td>n</td>\n",
              "      <td>y</td>\n",
              "      <td>democrat</td>\n",
              "    </tr>\n",
              "    <tr>\n",
              "      <th>432</th>\n",
              "      <td>n</td>\n",
              "      <td>?</td>\n",
              "      <td>n</td>\n",
              "      <td>y</td>\n",
              "      <td>y</td>\n",
              "      <td>y</td>\n",
              "      <td>n</td>\n",
              "      <td>n</td>\n",
              "      <td>n</td>\n",
              "      <td>n</td>\n",
              "      <td>y</td>\n",
              "      <td>y</td>\n",
              "      <td>y</td>\n",
              "      <td>y</td>\n",
              "      <td>n</td>\n",
              "      <td>y</td>\n",
              "      <td>republican</td>\n",
              "    </tr>\n",
              "    <tr>\n",
              "      <th>433</th>\n",
              "      <td>n</td>\n",
              "      <td>n</td>\n",
              "      <td>n</td>\n",
              "      <td>y</td>\n",
              "      <td>y</td>\n",
              "      <td>y</td>\n",
              "      <td>?</td>\n",
              "      <td>?</td>\n",
              "      <td>?</td>\n",
              "      <td>?</td>\n",
              "      <td>n</td>\n",
              "      <td>y</td>\n",
              "      <td>y</td>\n",
              "      <td>y</td>\n",
              "      <td>n</td>\n",
              "      <td>y</td>\n",
              "      <td>republican</td>\n",
              "    </tr>\n",
              "    <tr>\n",
              "      <th>434</th>\n",
              "      <td>n</td>\n",
              "      <td>y</td>\n",
              "      <td>n</td>\n",
              "      <td>y</td>\n",
              "      <td>y</td>\n",
              "      <td>y</td>\n",
              "      <td>n</td>\n",
              "      <td>n</td>\n",
              "      <td>n</td>\n",
              "      <td>y</td>\n",
              "      <td>n</td>\n",
              "      <td>y</td>\n",
              "      <td>y</td>\n",
              "      <td>y</td>\n",
              "      <td>?</td>\n",
              "      <td>n</td>\n",
              "      <td>republican</td>\n",
              "    </tr>\n",
              "  </tbody>\n",
              "</table>\n",
              "<p>435 rows × 17 columns</p>\n",
              "</div>"
            ],
            "text/plain": [
              "    handicapped_infants  ... political_party\n",
              "0                     n  ...      republican\n",
              "1                     n  ...      republican\n",
              "2                     ?  ...        democrat\n",
              "3                     n  ...        democrat\n",
              "4                     y  ...        democrat\n",
              "..                  ...  ...             ...\n",
              "430                   n  ...      republican\n",
              "431                   n  ...        democrat\n",
              "432                   n  ...      republican\n",
              "433                   n  ...      republican\n",
              "434                   n  ...      republican\n",
              "\n",
              "[435 rows x 17 columns]"
            ]
          },
          "metadata": {
            "tags": []
          },
          "execution_count": 140
        }
      ]
    },
    {
      "cell_type": "markdown",
      "metadata": {
        "id": "vdVD1GoEpDHQ"
      },
      "source": [
        "Przy przygotowywaniu danych do modelowania najlepiej trzeba będzie przygotować One Hot Encoding, aby uwzględnić wszystkie wartości. Jak się dalej okaże w raporcie, wstrzymanie się od głosu może pomóc w wykryciu partii politycznej, więc lepiej nie marnować informacji. Zwłaszcza, że specyfika zbioru danych może utrudnić zadanie."
      ]
    },
    {
      "cell_type": "code",
      "metadata": {
        "colab": {
          "base_uri": "https://localhost:8080/",
          "height": 193
        },
        "id": "-2a7wxr0hx0i",
        "outputId": "42dcaa2a-40b2-4901-9421-e6bebff10bb2"
      },
      "source": [
        "raw_df.describe()"
      ],
      "execution_count": null,
      "outputs": [
        {
          "output_type": "execute_result",
          "data": {
            "text/html": [
              "<div>\n",
              "<style scoped>\n",
              "    .dataframe tbody tr th:only-of-type {\n",
              "        vertical-align: middle;\n",
              "    }\n",
              "\n",
              "    .dataframe tbody tr th {\n",
              "        vertical-align: top;\n",
              "    }\n",
              "\n",
              "    .dataframe thead th {\n",
              "        text-align: right;\n",
              "    }\n",
              "</style>\n",
              "<table border=\"1\" class=\"dataframe\">\n",
              "  <thead>\n",
              "    <tr style=\"text-align: right;\">\n",
              "      <th></th>\n",
              "      <th>handicapped_infants</th>\n",
              "      <th>water_project_cost_sharing</th>\n",
              "      <th>adoption_of_the_budget_resolution</th>\n",
              "      <th>physician_fee_freeze</th>\n",
              "      <th>el_salvador_aid</th>\n",
              "      <th>religious_groups_in_schools</th>\n",
              "      <th>anti_satellite_test_ban</th>\n",
              "      <th>aid_to_nicaraguan_contras</th>\n",
              "      <th>mx_missile</th>\n",
              "      <th>immigration</th>\n",
              "      <th>synfuels_corporation_cutback</th>\n",
              "      <th>education_spending</th>\n",
              "      <th>superfund_right_to_sue</th>\n",
              "      <th>crime</th>\n",
              "      <th>duty_free_exports</th>\n",
              "      <th>export_administration_act_south_africa</th>\n",
              "      <th>political_party</th>\n",
              "    </tr>\n",
              "  </thead>\n",
              "  <tbody>\n",
              "    <tr>\n",
              "      <th>count</th>\n",
              "      <td>435</td>\n",
              "      <td>435</td>\n",
              "      <td>435</td>\n",
              "      <td>435</td>\n",
              "      <td>435</td>\n",
              "      <td>435</td>\n",
              "      <td>435</td>\n",
              "      <td>435</td>\n",
              "      <td>435</td>\n",
              "      <td>435</td>\n",
              "      <td>435</td>\n",
              "      <td>435</td>\n",
              "      <td>435</td>\n",
              "      <td>435</td>\n",
              "      <td>435</td>\n",
              "      <td>435</td>\n",
              "      <td>435</td>\n",
              "    </tr>\n",
              "    <tr>\n",
              "      <th>unique</th>\n",
              "      <td>3</td>\n",
              "      <td>3</td>\n",
              "      <td>3</td>\n",
              "      <td>3</td>\n",
              "      <td>3</td>\n",
              "      <td>3</td>\n",
              "      <td>3</td>\n",
              "      <td>3</td>\n",
              "      <td>3</td>\n",
              "      <td>3</td>\n",
              "      <td>3</td>\n",
              "      <td>3</td>\n",
              "      <td>3</td>\n",
              "      <td>3</td>\n",
              "      <td>3</td>\n",
              "      <td>3</td>\n",
              "      <td>2</td>\n",
              "    </tr>\n",
              "    <tr>\n",
              "      <th>top</th>\n",
              "      <td>n</td>\n",
              "      <td>y</td>\n",
              "      <td>y</td>\n",
              "      <td>n</td>\n",
              "      <td>y</td>\n",
              "      <td>y</td>\n",
              "      <td>y</td>\n",
              "      <td>y</td>\n",
              "      <td>y</td>\n",
              "      <td>y</td>\n",
              "      <td>n</td>\n",
              "      <td>n</td>\n",
              "      <td>y</td>\n",
              "      <td>y</td>\n",
              "      <td>n</td>\n",
              "      <td>y</td>\n",
              "      <td>democrat</td>\n",
              "    </tr>\n",
              "    <tr>\n",
              "      <th>freq</th>\n",
              "      <td>236</td>\n",
              "      <td>195</td>\n",
              "      <td>253</td>\n",
              "      <td>247</td>\n",
              "      <td>212</td>\n",
              "      <td>272</td>\n",
              "      <td>239</td>\n",
              "      <td>242</td>\n",
              "      <td>207</td>\n",
              "      <td>216</td>\n",
              "      <td>264</td>\n",
              "      <td>233</td>\n",
              "      <td>209</td>\n",
              "      <td>248</td>\n",
              "      <td>233</td>\n",
              "      <td>269</td>\n",
              "      <td>267</td>\n",
              "    </tr>\n",
              "  </tbody>\n",
              "</table>\n",
              "</div>"
            ],
            "text/plain": [
              "       handicapped_infants  ... political_party\n",
              "count                  435  ...             435\n",
              "unique                   3  ...               2\n",
              "top                      n  ...        democrat\n",
              "freq                   236  ...             267\n",
              "\n",
              "[4 rows x 17 columns]"
            ]
          },
          "metadata": {
            "tags": []
          },
          "execution_count": 83
        }
      ]
    },
    {
      "cell_type": "markdown",
      "metadata": {
        "id": "hsX5aI9BHYs_"
      },
      "source": [
        "# Początkowa analiza\n",
        "\n",
        "Naturalnym punktem startowym jest porównanie liczności partii politycznych."
      ]
    },
    {
      "cell_type": "code",
      "metadata": {
        "colab": {
          "base_uri": "https://localhost:8080/",
          "height": 368
        },
        "id": "dgSxrm3SGhWn",
        "outputId": "e90b59db-15e5-4a5f-a844-a5d0ef0c88c9"
      },
      "source": [
        "republicans_count = raw_df[raw_df.political_party == 'republican'].shape[0]\n",
        "democrats_count = raw_df[raw_df.political_party == 'democrat'].shape[0]\n",
        "print(f\"Republican politians: {republicans_count}\")\n",
        "print(f\"Democrat politians: {democrats_count}\")\n",
        "\n",
        "party_count_df = pd.DataFrame({\"Party\": [\"Republicans\", \"Democrats\"], \"Count\": [republicans_count, democrats_count]})\n",
        "plt.figure(figsize=(5,5))\n",
        "p = sns.barplot(data=party_count_df, x=\"Party\", y=\"Count\", hue=\"Party\", palette={\"Republicans\":\"red\", \"Democrats\": \"blue\"})\n",
        "p.legend().remove()\n",
        "plt.show()"
      ],
      "execution_count": null,
      "outputs": [
        {
          "output_type": "stream",
          "text": [
            "Republican politians: 168\n",
            "Democrat politians: 267\n"
          ],
          "name": "stdout"
        },
        {
          "output_type": "display_data",
          "data": {
            "image/png": "[encoded data removed]",
            "text/plain": [
              "<Figure size 360x360 with 1 Axes>"
            ]
          },
          "metadata": {
            "tags": [],
            "needs_background": "light"
          }
        }
      ]
    },
    {
      "cell_type": "markdown",
      "metadata": {
        "id": "i9U8knLG4t7X"
      },
      "source": [
        "Demokraci są u władzy (z przewagą 99 osób), a Republikanie są w opozycji. Być może warto zastanowić się przy podziale zbioru na zbiory treningowe / walidacyjne / testowe nad podzieleniem w proporcjonalny sposób, aby uniknąć sytuacji, w której jeden ze zbiorów jest zdominowany jedną partią.\n",
        "\n",
        "Jednak nie każdy polityk musi głosować dokładnie tak, jak każe mu partia. Warto więc przyjrzeć się jak osoby z przeciwnych sobie partii głosowały na każdą z ustaw."
      ]
    },
    {
      "cell_type": "code",
      "metadata": {
        "colab": {
          "base_uri": "https://localhost:8080/",
          "height": 545
        },
        "id": "1kPhB6Og41wp",
        "outputId": "3bf755bd-5ffb-4066-8e6c-4d32f862c476"
      },
      "source": [
        "def process(fdf, r_to, r_with):\n",
        "  d = fdf.copy()\n",
        "  d.iloc[:, :-1] = d.iloc[:, :-1].replace(r_to, r_with)\n",
        "  return d[d[\"political_party\"]==\"republican\"], d[d[\"political_party\"]==\"democrat\"]\n",
        "\n",
        "df_yes_r, df_yes_d = process(raw_df, [\"y\", \"n\", \"?\"], [1, 0, 0])\n",
        "df_no_r, df_no_d = process(raw_df, [\"y\", \"n\", \"?\"], [0, 1, 0])\n",
        "df_other_r, df_other_d = process(raw_df, [\"y\", \"n\", \"?\"], [0, 0, 1])\n",
        "df_compare = pd.DataFrame({\"Issue\": df_yes_r.sum().index,\n",
        "                           \"For (R)\": df_yes_r.sum(), \n",
        "                           \"Against (R)\": df_no_r.sum(), \n",
        "                           \"Other (R)\": df_other_r.sum(),\n",
        "                           \"For (D)\": df_yes_d.sum(), \n",
        "                           \"Against (D)\": df_no_d.sum(), \n",
        "                           \"Other (D)\": df_other_d.sum()})\n",
        "df_compare = df_compare.drop(\"political_party\").reset_index(drop=True)\n",
        "df_compare = df_compare.convert_dtypes()\n",
        "df_compare"
      ],
      "execution_count": null,
      "outputs": [
        {
          "output_type": "execute_result",
          "data": {
            "text/html": [
              "<div>\n",
              "<style scoped>\n",
              "    .dataframe tbody tr th:only-of-type {\n",
              "        vertical-align: middle;\n",
              "    }\n",
              "\n",
              "    .dataframe tbody tr th {\n",
              "        vertical-align: top;\n",
              "    }\n",
              "\n",
              "    .dataframe thead th {\n",
              "        text-align: right;\n",
              "    }\n",
              "</style>\n",
              "<table border=\"1\" class=\"dataframe\">\n",
              "  <thead>\n",
              "    <tr style=\"text-align: right;\">\n",
              "      <th></th>\n",
              "      <th>Issue</th>\n",
              "      <th>For (R)</th>\n",
              "      <th>Against (R)</th>\n",
              "      <th>Other (R)</th>\n",
              "      <th>For (D)</th>\n",
              "      <th>Against (D)</th>\n",
              "      <th>Other (D)</th>\n",
              "    </tr>\n",
              "  </thead>\n",
              "  <tbody>\n",
              "    <tr>\n",
              "      <th>0</th>\n",
              "      <td>handicapped_infants</td>\n",
              "      <td>31</td>\n",
              "      <td>134</td>\n",
              "      <td>3</td>\n",
              "      <td>156</td>\n",
              "      <td>102</td>\n",
              "      <td>9</td>\n",
              "    </tr>\n",
              "    <tr>\n",
              "      <th>1</th>\n",
              "      <td>water_project_cost_sharing</td>\n",
              "      <td>75</td>\n",
              "      <td>73</td>\n",
              "      <td>20</td>\n",
              "      <td>120</td>\n",
              "      <td>119</td>\n",
              "      <td>28</td>\n",
              "    </tr>\n",
              "    <tr>\n",
              "      <th>2</th>\n",
              "      <td>adoption_of_the_budget_resolution</td>\n",
              "      <td>22</td>\n",
              "      <td>142</td>\n",
              "      <td>4</td>\n",
              "      <td>231</td>\n",
              "      <td>29</td>\n",
              "      <td>7</td>\n",
              "    </tr>\n",
              "    <tr>\n",
              "      <th>3</th>\n",
              "      <td>physician_fee_freeze</td>\n",
              "      <td>163</td>\n",
              "      <td>2</td>\n",
              "      <td>3</td>\n",
              "      <td>14</td>\n",
              "      <td>245</td>\n",
              "      <td>8</td>\n",
              "    </tr>\n",
              "    <tr>\n",
              "      <th>4</th>\n",
              "      <td>el_salvador_aid</td>\n",
              "      <td>157</td>\n",
              "      <td>8</td>\n",
              "      <td>3</td>\n",
              "      <td>55</td>\n",
              "      <td>200</td>\n",
              "      <td>12</td>\n",
              "    </tr>\n",
              "    <tr>\n",
              "      <th>5</th>\n",
              "      <td>religious_groups_in_schools</td>\n",
              "      <td>149</td>\n",
              "      <td>17</td>\n",
              "      <td>2</td>\n",
              "      <td>123</td>\n",
              "      <td>135</td>\n",
              "      <td>9</td>\n",
              "    </tr>\n",
              "    <tr>\n",
              "      <th>6</th>\n",
              "      <td>anti_satellite_test_ban</td>\n",
              "      <td>39</td>\n",
              "      <td>123</td>\n",
              "      <td>6</td>\n",
              "      <td>200</td>\n",
              "      <td>59</td>\n",
              "      <td>8</td>\n",
              "    </tr>\n",
              "    <tr>\n",
              "      <th>7</th>\n",
              "      <td>aid_to_nicaraguan_contras</td>\n",
              "      <td>24</td>\n",
              "      <td>133</td>\n",
              "      <td>11</td>\n",
              "      <td>218</td>\n",
              "      <td>45</td>\n",
              "      <td>4</td>\n",
              "    </tr>\n",
              "    <tr>\n",
              "      <th>8</th>\n",
              "      <td>mx_missile</td>\n",
              "      <td>19</td>\n",
              "      <td>146</td>\n",
              "      <td>3</td>\n",
              "      <td>188</td>\n",
              "      <td>60</td>\n",
              "      <td>19</td>\n",
              "    </tr>\n",
              "    <tr>\n",
              "      <th>9</th>\n",
              "      <td>immigration</td>\n",
              "      <td>92</td>\n",
              "      <td>73</td>\n",
              "      <td>3</td>\n",
              "      <td>124</td>\n",
              "      <td>139</td>\n",
              "      <td>4</td>\n",
              "    </tr>\n",
              "    <tr>\n",
              "      <th>10</th>\n",
              "      <td>synfuels_corporation_cutback</td>\n",
              "      <td>21</td>\n",
              "      <td>138</td>\n",
              "      <td>9</td>\n",
              "      <td>129</td>\n",
              "      <td>126</td>\n",
              "      <td>12</td>\n",
              "    </tr>\n",
              "    <tr>\n",
              "      <th>11</th>\n",
              "      <td>education_spending</td>\n",
              "      <td>135</td>\n",
              "      <td>20</td>\n",
              "      <td>13</td>\n",
              "      <td>36</td>\n",
              "      <td>213</td>\n",
              "      <td>18</td>\n",
              "    </tr>\n",
              "    <tr>\n",
              "      <th>12</th>\n",
              "      <td>superfund_right_to_sue</td>\n",
              "      <td>136</td>\n",
              "      <td>22</td>\n",
              "      <td>10</td>\n",
              "      <td>73</td>\n",
              "      <td>179</td>\n",
              "      <td>15</td>\n",
              "    </tr>\n",
              "    <tr>\n",
              "      <th>13</th>\n",
              "      <td>crime</td>\n",
              "      <td>158</td>\n",
              "      <td>3</td>\n",
              "      <td>7</td>\n",
              "      <td>90</td>\n",
              "      <td>167</td>\n",
              "      <td>10</td>\n",
              "    </tr>\n",
              "    <tr>\n",
              "      <th>14</th>\n",
              "      <td>duty_free_exports</td>\n",
              "      <td>14</td>\n",
              "      <td>142</td>\n",
              "      <td>12</td>\n",
              "      <td>160</td>\n",
              "      <td>91</td>\n",
              "      <td>16</td>\n",
              "    </tr>\n",
              "    <tr>\n",
              "      <th>15</th>\n",
              "      <td>export_administration_act_south_africa</td>\n",
              "      <td>96</td>\n",
              "      <td>50</td>\n",
              "      <td>22</td>\n",
              "      <td>173</td>\n",
              "      <td>12</td>\n",
              "      <td>82</td>\n",
              "    </tr>\n",
              "  </tbody>\n",
              "</table>\n",
              "</div>"
            ],
            "text/plain": [
              "                                     Issue  For (R)  ...  Against (D)  Other (D)\n",
              "0                      handicapped_infants       31  ...          102          9\n",
              "1               water_project_cost_sharing       75  ...          119         28\n",
              "2        adoption_of_the_budget_resolution       22  ...           29          7\n",
              "3                     physician_fee_freeze      163  ...          245          8\n",
              "4                          el_salvador_aid      157  ...          200         12\n",
              "5              religious_groups_in_schools      149  ...          135          9\n",
              "6                  anti_satellite_test_ban       39  ...           59          8\n",
              "7                aid_to_nicaraguan_contras       24  ...           45          4\n",
              "8                               mx_missile       19  ...           60         19\n",
              "9                              immigration       92  ...          139          4\n",
              "10            synfuels_corporation_cutback       21  ...          126         12\n",
              "11                      education_spending      135  ...          213         18\n",
              "12                  superfund_right_to_sue      136  ...          179         15\n",
              "13                                   crime      158  ...          167         10\n",
              "14                       duty_free_exports       14  ...           91         16\n",
              "15  export_administration_act_south_africa       96  ...           12         82\n",
              "\n",
              "[16 rows x 7 columns]"
            ]
          },
          "metadata": {
            "tags": []
          },
          "execution_count": 78
        }
      ]
    },
    {
      "cell_type": "markdown",
      "metadata": {
        "id": "Ni0vpiTrrt5p"
      },
      "source": [
        "Najciekawsze wartości to 82 wstrzymania demokratów w głosowaniu nad ustawą \"export_administration_act_south_africa\" oraz słabo zarysowane partyjne granice przy ustawie \"immigration\" i \"water_project_cost_sharing\". Te ustawy mogą być mniej przydatne w modelu.\n",
        "\n",
        "Na suche wartości słabo się patrzy, lepiej je umieścić na wykresach."
      ]
    },
    {
      "cell_type": "code",
      "metadata": {
        "id": "1AtCPyW5TP7i"
      },
      "source": [
        "# wersja ramki bardziej przyjazna wykresom\n",
        "df_temp_r = pd.DataFrame({\n",
        "    \"Issue\": df_yes_r.sum().index,\n",
        "    \"For votes\": df_yes_r.sum(), \n",
        "    \"Against votes\": df_no_r.sum(), \n",
        "    \"Other votes\": df_other_r.sum(),\n",
        "    \"Party\": \"Republicans\"\n",
        "})\n",
        "df_temp_r = df_temp_r.drop(\"political_party\").reset_index(drop=True)\n",
        "df_temp_d = pd.DataFrame({\n",
        "    \"Issue\": df_yes_d.sum().index,\n",
        "    \"For votes\": df_yes_d.sum(), \n",
        "    \"Against votes\": df_no_d.sum(), \n",
        "    \"Other votes\": df_other_d.sum(),\n",
        "    \"Party\": \"Democrats\"\n",
        "})\n",
        "df_temp_d = df_temp_d.drop(\"political_party\").reset_index(drop=True)\n",
        "df_compare_plot = df_temp_r.append(df_temp_d).reset_index(drop=True)\n",
        "df_compare_plot = df_compare_plot.melt(id_vars=[\"Issue\", \"Party\"]).rename(columns={\"variable\":\"Vote type\", \"value\": \"Vote count\"})"
      ],
      "execution_count": null,
      "outputs": []
    },
    {
      "cell_type": "markdown",
      "metadata": {
        "id": "O6yob8ucsjKR"
      },
      "source": [
        "# Rozkłady według partii\n",
        "Pierwsza rzecz, nad którą warto się zastanowić, to w jaki sposób partie głosowały.\n"
      ]
    },
    {
      "cell_type": "markdown",
      "metadata": {
        "id": "Go8mBF8E2NeE"
      },
      "source": [
        "Na początek warto się przyjrzeć jak rokładały się głosy \"za\" według partii politycznej."
      ]
    },
    {
      "cell_type": "code",
      "metadata": {
        "colab": {
          "base_uri": "https://localhost:8080/",
          "height": 531
        },
        "id": "nj2x3ziklGgQ",
        "outputId": "ab31e376-f12f-494d-b71a-e7e05ff5bd1a"
      },
      "source": [
        "g = sns.FacetGrid(data=df_compare_plot, col=\"Vote type\")\n",
        "g.map_dataframe(sns.barplot, x=\"Vote count\", y=\"Issue\", hue=\"Party\", hue_order=[\"Democrats\", \"Republicans\"], palette={\"Republicans\":\"red\", \"Democrats\": \"blue\"})\n",
        "g.fig.set_size_inches(30, 10)\n",
        "g.add_legend()\n",
        "plt.show() # nie wiem czy nie rozbić na 3 po prostu, brzydko wygląda tbh"
      ],
      "execution_count": null,
      "outputs": [
        {
          "output_type": "display_data",
          "data": {
            "image/png": "[encoded data removed]",
            "text/plain": [
              "<Figure size 2256.38x720 with 3 Axes>"
            ]
          },
          "metadata": {
            "tags": [],
            "needs_background": "light"
          }
        }
      ]
    },
    {
      "cell_type": "markdown",
      "metadata": {
        "id": "c7empiej2kh6"
      },
      "source": [
        "Są spore różnice w wielu miejscach, więc warto przyjrzeć się tym głosom na wykresie punktowym."
      ]
    },
    {
      "cell_type": "markdown",
      "metadata": {
        "id": "1nCdX2QVnJmw"
      },
      "source": [
        "# Wykresy punktowe ustaw\n",
        "Partie są sobie przeciwne, a więc powinniśmy się spodziewać odwrotnej korelacji w głosach \"za\" i \"przeciw\", ale co się dzieje ze wstrzymaniami się od głosu?"
      ]
    },
    {
      "cell_type": "code",
      "metadata": {
        "colab": {
          "base_uri": "https://localhost:8080/",
          "height": 458
        },
        "id": "9jxSIrndKOyj",
        "outputId": "7d06505c-d81f-47f5-a354-f0a16c8d44ec"
      },
      "source": [
        "plt.figure(figsize=(7, 7))\n",
        "sns.scatterplot(data=df_compare, x=\"For (D)\", y=\"For (R)\", s=700)\n",
        "plt.title(\"Scatterplot of issues (by votes in favor)\")\n",
        "plt.show()"
      ],
      "execution_count": null,
      "outputs": [
        {
          "output_type": "display_data",
          "data": {
            "image/png": "[encoded data removed]",
            "text/plain": [
              "<Figure size 504x504 with 1 Axes>"
            ]
          },
          "metadata": {
            "tags": [],
            "needs_background": "light"
          }
        }
      ]
    },
    {
      "cell_type": "markdown",
      "metadata": {
        "id": "s39adySku8i9"
      },
      "source": [
        "Trzy ustawy znajdujące się na \"centrystycznej wyspie\" na środku wykresu to są wcześniej zauważone \"export_administration_act_south_africa\", \"immigration\" i \"water_project_cost_sharing\"."
      ]
    },
    {
      "cell_type": "code",
      "metadata": {
        "colab": {
          "base_uri": "https://localhost:8080/",
          "height": 458
        },
        "id": "WVH3ojpGlzQ5",
        "outputId": "b35db689-14f1-456e-ffce-db6ecf393474"
      },
      "source": [
        "plt.figure(figsize=(7, 7))\n",
        "sns.scatterplot(data=df_compare, x=\"Against (D)\", y=\"Against (R)\", s=700)\n",
        "plt.title(\"Scatterplot of issues (by votes against)\")\n",
        "plt.show()"
      ],
      "execution_count": null,
      "outputs": [
        {
          "output_type": "display_data",
          "data": {
            "image/png": "[encoded data removed]",
            "text/plain": [
              "<Figure size 504x504 with 1 Axes>"
            ]
          },
          "metadata": {
            "tags": [],
            "needs_background": "light"
          }
        }
      ]
    },
    {
      "cell_type": "markdown",
      "metadata": {
        "id": "7IS-FL1ot45p"
      },
      "source": [
        "Odstająca wartość w wykresie po głosach przeciw w lewej dolnej części wykresu to ustawa \"export_administration_act_south_africa\". Już wcześniej zauważyliśmy, że z nią jest dosyć nietypowa."
      ]
    },
    {
      "cell_type": "code",
      "metadata": {
        "colab": {
          "base_uri": "https://localhost:8080/",
          "height": 458
        },
        "id": "7R5PbdzYmEr4",
        "outputId": "6a81f4e4-f536-4683-ee77-ead2b6cfef5a"
      },
      "source": [
        "plt.figure(figsize=(7, 7))\n",
        "sns.scatterplot(data=df_compare, x=\"Other (D)\", y=\"Other (R)\", s=700)\n",
        "plt.title(\"Scatterplot of issues (by abstaining votes)\")\n",
        "plt.show() "
      ],
      "execution_count": null,
      "outputs": [
        {
          "output_type": "display_data",
          "data": {
            "image/png": "[encoded data removed]",
            "text/plain": [
              "<Figure size 504x504 with 1 Axes>"
            ]
          },
          "metadata": {
            "tags": [],
            "needs_background": "light"
          }
        }
      ]
    },
    {
      "cell_type": "markdown",
      "metadata": {
        "id": "Kr-aaoHoLaBy"
      },
      "source": [
        "W przypadku wstrzymania się od głosu wygląda na dodatnią korelację, ale widać, że Demokraci dużo częściej wstrzymują się od głosu od Republikan. Nie potrzeba komentarza, że wartość w prawym górnym rogu to jest ta jedna nietypowa ustawa."
      ]
    },
    {
      "cell_type": "markdown",
      "metadata": {
        "id": "ZYT_8Wv9ob8I"
      },
      "source": [
        "# Różnice pomiędzy partiami\n",
        "\n",
        "Naszym celem w tym zbiorze danych jest przewidzenie partii polityka, więc warto zobaczyć jak te dwie partie się różnią.\n",
        "\n",
        "\n"
      ]
    },
    {
      "cell_type": "code",
      "metadata": {
        "colab": {
          "base_uri": "https://localhost:8080/",
          "height": 444
        },
        "id": "_uo9LIlghCy_",
        "outputId": "b1fd2ff3-09b4-4230-ed02-5885acb5e72f"
      },
      "source": [
        "plt.figure(figsize=(7,7))\n",
        "sns.heatmap(df_compare.corr(), annot=True, fmt=\".2f\", cmap=\"bwr\")\n",
        "plt.title(\"Correlation heatmap of all values\")\n",
        "plt.show()"
      ],
      "execution_count": null,
      "outputs": [
        {
          "output_type": "display_data",
          "data": {
            "image/png": "[encoded data removed]",
            "text/plain": [
              "<Figure size 504x504 with 2 Axes>"
            ]
          },
          "metadata": {
            "tags": [],
            "needs_background": "light"
          }
        }
      ]
    },
    {
      "cell_type": "markdown",
      "metadata": {
        "id": "_RS5WnMnxJBv"
      },
      "source": [
        "Widać wszystkie korelacje, o których spekulowaliśmy przy wykresach punktowych, ale również charakterystyki wewnątrzpartyjne."
      ]
    },
    {
      "cell_type": "code",
      "metadata": {
        "colab": {
          "base_uri": "https://localhost:8080/",
          "height": 336
        },
        "id": "Ty84wv1Fxt64",
        "outputId": "3eb52fd4-b029-4bdc-85ea-66a23c672a60"
      },
      "source": [
        "plt.figure(figsize=(5,5))\n",
        "sns.heatmap(df_compare.corr().iloc[:3, :3], annot=True, fmt=\".2f\", cmap=\"bwr\")\n",
        "plt.title(\"Republican intra-party characteristic\")\n",
        "plt.show()"
      ],
      "execution_count": null,
      "outputs": [
        {
          "output_type": "display_data",
          "data": {
            "image/png": "[encoded data removed]",
            "text/plain": [
              "<Figure size 360x360 with 2 Axes>"
            ]
          },
          "metadata": {
            "tags": [],
            "needs_background": "light"
          }
        }
      ]
    },
    {
      "cell_type": "code",
      "metadata": {
        "colab": {
          "base_uri": "https://localhost:8080/",
          "height": 336
        },
        "id": "ppSN0cEKyLts",
        "outputId": "2f25b701-fac3-403c-f0fd-54aeafd9f852"
      },
      "source": [
        "plt.figure(figsize=(5,5))\n",
        "sns.heatmap(df_compare.corr().iloc[3:, 3:], annot=True, fmt=\".2f\", cmap=\"bwr\")\n",
        "plt.title(\"Democratic intra-party characteristic\")\n",
        "plt.show()"
      ],
      "execution_count": null,
      "outputs": [
        {
          "output_type": "display_data",
          "data": {
            "image/png": "[encoded data removed]",
            "text/plain": [
              "<Figure size 360x360 with 2 Axes>"
            ]
          },
          "metadata": {
            "tags": [],
            "needs_background": "light"
          }
        }
      ]
    },
    {
      "cell_type": "markdown",
      "metadata": {
        "id": "YoVTUtWWzQxR"
      },
      "source": [
        "W charakterystykach wewnątrzpartyjnych warto zauważyć różnicę pomiędzy korelacjami w przypadku głosowań wstrzymujących się."
      ]
    },
    {
      "cell_type": "code",
      "metadata": {
        "colab": {
          "base_uri": "https://localhost:8080/",
          "height": 336
        },
        "id": "hvbCxtGNyY7t",
        "outputId": "0b590936-3142-4c4e-ad41-fb8aedec0b54"
      },
      "source": [
        "plt.figure(figsize=(5,5))\n",
        "sns.heatmap(df_compare.corr().iloc[3:, :3], annot=True, fmt=\".2f\", cmap=\"bwr\")\n",
        "plt.title(\"Inter-party characteristic\")\n",
        "plt.show()"
      ],
      "execution_count": null,
      "outputs": [
        {
          "output_type": "display_data",
          "data": {
            "image/png": "[encoded data removed]",
            "text/plain": [
              "<Figure size 360x360 with 2 Axes>"
            ]
          },
          "metadata": {
            "tags": [],
            "needs_background": "light"
          }
        }
      ]
    },
    {
      "cell_type": "markdown",
      "metadata": {
        "id": "lV6nNEzMz1Ee"
      },
      "source": [
        "W przypadku międzypartyjnej charakterystyki, otrzymujemy to czego się spodziewaliśmy, czyli odwrotnej "
      ]
    },
    {
      "cell_type": "markdown",
      "metadata": {
        "id": "hMCF4y2y8LQV"
      },
      "source": [
        "# Koniec\n",
        "Zbiór danych jest dosyć nietypowy, co utrudnia analizę, ale również widać wiele zależności, co daje nadzieję na możliwość stworzenia dobrego modelu."
      ]
    }
  ]
}