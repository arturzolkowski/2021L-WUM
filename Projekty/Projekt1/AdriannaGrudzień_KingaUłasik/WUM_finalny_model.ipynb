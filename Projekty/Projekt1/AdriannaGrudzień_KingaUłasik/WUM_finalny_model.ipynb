{
  "nbformat": 4,
  "nbformat_minor": 0,
  "metadata": {
    "accelerator": "GPU",
    "colab": {
      "name": "WUM_finalny_model.ipynb",
      "provenance": [],
      "collapsed_sections": [],
      "toc_visible": true
    },
    "kernelspec": {
      "display_name": "Python 3",
      "name": "python3"
    },
    "language_info": {
      "name": "python"
    },
    "widgets": {
      "application/vnd.jupyter.widget-state+json": {
        "611315de643d42f792e387f62c2443a8": {
          "model_module": "@jupyter-widgets/controls",
          "model_name": "HBoxModel",
          "state": {
            "_view_name": "HBoxView",
            "_dom_classes": [],
            "_model_name": "HBoxModel",
            "_view_module": "@jupyter-widgets/controls",
            "_model_module_version": "1.5.0",
            "_view_count": null,
            "_view_module_version": "1.5.0",
            "box_style": "",
            "layout": "IPY_MODEL_1dd4c6c3e3974d6d8354824e038354bb",
            "_model_module": "@jupyter-widgets/controls",
            "children": [
              "IPY_MODEL_cbfbbfa496334bf394b5df58e6e50a3a",
              "IPY_MODEL_b5d0d863f29149ab91b24ce21ab2691d"
            ]
          }
        },
        "1dd4c6c3e3974d6d8354824e038354bb": {
          "model_module": "@jupyter-widgets/base",
          "model_name": "LayoutModel",
          "state": {
            "_view_name": "LayoutView",
            "grid_template_rows": null,
            "right": null,
            "justify_content": null,
            "_view_module": "@jupyter-widgets/base",
            "overflow": null,
            "_model_module_version": "1.2.0",
            "_view_count": null,
            "flex_flow": null,
            "width": null,
            "min_width": null,
            "border": null,
            "align_items": null,
            "bottom": null,
            "_model_module": "@jupyter-widgets/base",
            "top": null,
            "grid_column": null,
            "overflow_y": null,
            "overflow_x": null,
            "grid_auto_flow": null,
            "grid_area": null,
            "grid_template_columns": null,
            "flex": null,
            "_model_name": "LayoutModel",
            "justify_items": null,
            "grid_row": null,
            "max_height": null,
            "align_content": null,
            "visibility": null,
            "align_self": null,
            "height": null,
            "min_height": null,
            "padding": null,
            "grid_auto_rows": null,
            "grid_gap": null,
            "max_width": null,
            "order": null,
            "_view_module_version": "1.2.0",
            "grid_template_areas": null,
            "object_position": null,
            "object_fit": null,
            "grid_auto_columns": null,
            "margin": null,
            "display": null,
            "left": null
          }
        },
        "cbfbbfa496334bf394b5df58e6e50a3a": {
          "model_module": "@jupyter-widgets/controls",
          "model_name": "FloatProgressModel",
          "state": {
            "_view_name": "ProgressView",
            "style": "IPY_MODEL_78f2ae674b66471f96386403729db8be",
            "_dom_classes": [],
            "description": "Optimization Progress: 100%",
            "_model_name": "FloatProgressModel",
            "bar_style": "",
            "max": 300,
            "_view_module": "@jupyter-widgets/controls",
            "_model_module_version": "1.5.0",
            "value": 300,
            "_view_count": null,
            "_view_module_version": "1.5.0",
            "orientation": "horizontal",
            "min": 0,
            "description_tooltip": null,
            "_model_module": "@jupyter-widgets/controls",
            "layout": "IPY_MODEL_3dba527e2fce4b028943bd694254c6ed"
          }
        },
        "b5d0d863f29149ab91b24ce21ab2691d": {
          "model_module": "@jupyter-widgets/controls",
          "model_name": "HTMLModel",
          "state": {
            "_view_name": "HTMLView",
            "style": "IPY_MODEL_1b6070f6a1a1416499d2e9bd1fbbec56",
            "_dom_classes": [],
            "description": "",
            "_model_name": "HTMLModel",
            "placeholder": "​",
            "_view_module": "@jupyter-widgets/controls",
            "_model_module_version": "1.5.0",
            "value": " 300/300 [14:27&lt;00:00,  1.45s/pipeline]",
            "_view_count": null,
            "_view_module_version": "1.5.0",
            "description_tooltip": null,
            "_model_module": "@jupyter-widgets/controls",
            "layout": "IPY_MODEL_6634e225d600411fb53aa69935708f0c"
          }
        },
        "78f2ae674b66471f96386403729db8be": {
          "model_module": "@jupyter-widgets/controls",
          "model_name": "ProgressStyleModel",
          "state": {
            "_view_name": "StyleView",
            "_model_name": "ProgressStyleModel",
            "description_width": "initial",
            "_view_module": "@jupyter-widgets/base",
            "_model_module_version": "1.5.0",
            "_view_count": null,
            "_view_module_version": "1.2.0",
            "bar_color": null,
            "_model_module": "@jupyter-widgets/controls"
          }
        },
        "3dba527e2fce4b028943bd694254c6ed": {
          "model_module": "@jupyter-widgets/base",
          "model_name": "LayoutModel",
          "state": {
            "_view_name": "LayoutView",
            "grid_template_rows": null,
            "right": null,
            "justify_content": null,
            "_view_module": "@jupyter-widgets/base",
            "overflow": null,
            "_model_module_version": "1.2.0",
            "_view_count": null,
            "flex_flow": null,
            "width": null,
            "min_width": null,
            "border": null,
            "align_items": null,
            "bottom": null,
            "_model_module": "@jupyter-widgets/base",
            "top": null,
            "grid_column": null,
            "overflow_y": null,
            "overflow_x": null,
            "grid_auto_flow": null,
            "grid_area": null,
            "grid_template_columns": null,
            "flex": null,
            "_model_name": "LayoutModel",
            "justify_items": null,
            "grid_row": null,
            "max_height": null,
            "align_content": null,
            "visibility": null,
            "align_self": null,
            "height": null,
            "min_height": null,
            "padding": null,
            "grid_auto_rows": null,
            "grid_gap": null,
            "max_width": null,
            "order": null,
            "_view_module_version": "1.2.0",
            "grid_template_areas": null,
            "object_position": null,
            "object_fit": null,
            "grid_auto_columns": null,
            "margin": null,
            "display": null,
            "left": null
          }
        },
        "1b6070f6a1a1416499d2e9bd1fbbec56": {
          "model_module": "@jupyter-widgets/controls",
          "model_name": "DescriptionStyleModel",
          "state": {
            "_view_name": "StyleView",
            "_model_name": "DescriptionStyleModel",
            "description_width": "",
            "_view_module": "@jupyter-widgets/base",
            "_model_module_version": "1.5.0",
            "_view_count": null,
            "_view_module_version": "1.2.0",
            "_model_module": "@jupyter-widgets/controls"
          }
        },
        "6634e225d600411fb53aa69935708f0c": {
          "model_module": "@jupyter-widgets/base",
          "model_name": "LayoutModel",
          "state": {
            "_view_name": "LayoutView",
            "grid_template_rows": null,
            "right": null,
            "justify_content": null,
            "_view_module": "@jupyter-widgets/base",
            "overflow": null,
            "_model_module_version": "1.2.0",
            "_view_count": null,
            "flex_flow": null,
            "width": null,
            "min_width": null,
            "border": null,
            "align_items": null,
            "bottom": null,
            "_model_module": "@jupyter-widgets/base",
            "top": null,
            "grid_column": null,
            "overflow_y": null,
            "overflow_x": null,
            "grid_auto_flow": null,
            "grid_area": null,
            "grid_template_columns": null,
            "flex": null,
            "_model_name": "LayoutModel",
            "justify_items": null,
            "grid_row": null,
            "max_height": null,
            "align_content": null,
            "visibility": null,
            "align_self": null,
            "height": null,
            "min_height": null,
            "padding": null,
            "grid_auto_rows": null,
            "grid_gap": null,
            "max_width": null,
            "order": null,
            "_view_module_version": "1.2.0",
            "grid_template_areas": null,
            "object_position": null,
            "object_fit": null,
            "grid_auto_columns": null,
            "margin": null,
            "display": null,
            "left": null
          }
        }
      }
    }
  },
  "cells": [
    {
      "cell_type": "markdown",
      "metadata": {
        "id": "54o4M2y1IpZq"
      },
      "source": [
        "# Końcowy model i ewaluacja\n",
        "## Topic: School grades - Predict grades of school students based on lifestyle attributes\n",
        "\n",
        "\n",
        "Adrianna Grudzień,\\\n",
        "Kinga Ułasik"
      ]
    },
    {
      "cell_type": "markdown",
      "metadata": {
        "id": "ihBOK1I7Qogs"
      },
      "source": [
        "# Importowanie potrzebnych pakietów"
      ]
    },
    {
      "cell_type": "code",
      "metadata": {
        "id": "wS854wXgnU26"
      },
      "source": [
        "import pandas as pd\n",
        "import pylab as pl\n",
        "import numpy as np\n",
        "import sklearn \n",
        "import seaborn as sns\n",
        "import matplotlib.pyplot as plt\n",
        "import matplotlib\n",
        "%matplotlib inline\n",
        "import warnings\n",
        "warnings.filterwarnings('ignore')\n",
        "import matplotlib.ticker as ticker\n",
        "from sklearn.model_selection import train_test_split\n",
        "from sklearn.linear_model import LinearRegression\n",
        "from sklearn import metrics, preprocessing\n",
        "from sklearn.preprocessing import PolynomialFeatures\n",
        "from sklearn.metrics import mean_squared_error, r2_score\n",
        "import statsmodels.api as sm\n",
        "from sklearn.linear_model import Ridge\n",
        "from sklearn.model_selection import RepeatedKFold\n",
        "from sklearn.model_selection import GridSearchCV"
      ],
      "execution_count": null,
      "outputs": []
    },
    {
      "cell_type": "markdown",
      "metadata": {
        "id": "1tsZSLIaQt3j"
      },
      "source": [
        "# Wczytanie danych"
      ]
    },
    {
      "cell_type": "code",
      "metadata": {
        "colab": {
          "base_uri": "https://localhost:8080/",
          "height": 241
        },
        "id": "LiNJtERMnbVw",
        "outputId": "3e4a639d-cda5-4593-faa4-30f4665eb7ea"
      },
      "source": [
        "#grades_final - plik .csv wygenerowany w poprzednim etapie projektu po mapowaniu i kodowaniu zmiennych\n",
        "grades_org = pd.read_csv('grades_final.csv')\n",
        "grades_org.head()"
      ],
      "execution_count": null,
      "outputs": [
        {
          "output_type": "execute_result",
          "data": {
            "text/html": [
              "<div>\n",
              "<style scoped>\n",
              "    .dataframe tbody tr th:only-of-type {\n",
              "        vertical-align: middle;\n",
              "    }\n",
              "\n",
              "    .dataframe tbody tr th {\n",
              "        vertical-align: top;\n",
              "    }\n",
              "\n",
              "    .dataframe thead th {\n",
              "        text-align: right;\n",
              "    }\n",
              "</style>\n",
              "<table border=\"1\" class=\"dataframe\">\n",
              "  <thead>\n",
              "    <tr style=\"text-align: right;\">\n",
              "      <th></th>\n",
              "      <th>Unnamed: 0</th>\n",
              "      <th>school</th>\n",
              "      <th>sex</th>\n",
              "      <th>age</th>\n",
              "      <th>address</th>\n",
              "      <th>famsize</th>\n",
              "      <th>Pstatus</th>\n",
              "      <th>Medu</th>\n",
              "      <th>Fedu</th>\n",
              "      <th>traveltime</th>\n",
              "      <th>studytime</th>\n",
              "      <th>failures</th>\n",
              "      <th>schoolsup</th>\n",
              "      <th>famsup</th>\n",
              "      <th>paid</th>\n",
              "      <th>activities</th>\n",
              "      <th>nursery</th>\n",
              "      <th>higher</th>\n",
              "      <th>internet</th>\n",
              "      <th>romantic</th>\n",
              "      <th>famrel</th>\n",
              "      <th>freetime</th>\n",
              "      <th>goout</th>\n",
              "      <th>Dalc</th>\n",
              "      <th>Walc</th>\n",
              "      <th>health</th>\n",
              "      <th>absences</th>\n",
              "      <th>G1</th>\n",
              "      <th>G2</th>\n",
              "      <th>G3</th>\n",
              "      <th>Mjob_health</th>\n",
              "      <th>Mjob_other</th>\n",
              "      <th>Mjob_services</th>\n",
              "      <th>Mjob_teacher</th>\n",
              "      <th>Fjob_health</th>\n",
              "      <th>Fjob_other</th>\n",
              "      <th>Fjob_services</th>\n",
              "      <th>Fjob_teacher</th>\n",
              "      <th>reason_home</th>\n",
              "      <th>other</th>\n",
              "      <th>reputation</th>\n",
              "      <th>guardian_mother</th>\n",
              "      <th>guardian_other</th>\n",
              "    </tr>\n",
              "  </thead>\n",
              "  <tbody>\n",
              "    <tr>\n",
              "      <th>0</th>\n",
              "      <td>0</td>\n",
              "      <td>1</td>\n",
              "      <td>1</td>\n",
              "      <td>18</td>\n",
              "      <td>1</td>\n",
              "      <td>0</td>\n",
              "      <td>0</td>\n",
              "      <td>4</td>\n",
              "      <td>4</td>\n",
              "      <td>2</td>\n",
              "      <td>2</td>\n",
              "      <td>0</td>\n",
              "      <td>1</td>\n",
              "      <td>0</td>\n",
              "      <td>0</td>\n",
              "      <td>0</td>\n",
              "      <td>1</td>\n",
              "      <td>1</td>\n",
              "      <td>0</td>\n",
              "      <td>0</td>\n",
              "      <td>4</td>\n",
              "      <td>3</td>\n",
              "      <td>4</td>\n",
              "      <td>1</td>\n",
              "      <td>1</td>\n",
              "      <td>3</td>\n",
              "      <td>4</td>\n",
              "      <td>0</td>\n",
              "      <td>11</td>\n",
              "      <td>11</td>\n",
              "      <td>0</td>\n",
              "      <td>0</td>\n",
              "      <td>0</td>\n",
              "      <td>0</td>\n",
              "      <td>0</td>\n",
              "      <td>0</td>\n",
              "      <td>0</td>\n",
              "      <td>1</td>\n",
              "      <td>0</td>\n",
              "      <td>0</td>\n",
              "      <td>0</td>\n",
              "      <td>1</td>\n",
              "      <td>0</td>\n",
              "    </tr>\n",
              "    <tr>\n",
              "      <th>1</th>\n",
              "      <td>1</td>\n",
              "      <td>1</td>\n",
              "      <td>1</td>\n",
              "      <td>17</td>\n",
              "      <td>1</td>\n",
              "      <td>0</td>\n",
              "      <td>1</td>\n",
              "      <td>1</td>\n",
              "      <td>1</td>\n",
              "      <td>1</td>\n",
              "      <td>2</td>\n",
              "      <td>0</td>\n",
              "      <td>0</td>\n",
              "      <td>1</td>\n",
              "      <td>0</td>\n",
              "      <td>0</td>\n",
              "      <td>0</td>\n",
              "      <td>1</td>\n",
              "      <td>1</td>\n",
              "      <td>0</td>\n",
              "      <td>5</td>\n",
              "      <td>3</td>\n",
              "      <td>3</td>\n",
              "      <td>1</td>\n",
              "      <td>1</td>\n",
              "      <td>3</td>\n",
              "      <td>2</td>\n",
              "      <td>9</td>\n",
              "      <td>11</td>\n",
              "      <td>11</td>\n",
              "      <td>0</td>\n",
              "      <td>0</td>\n",
              "      <td>0</td>\n",
              "      <td>0</td>\n",
              "      <td>0</td>\n",
              "      <td>1</td>\n",
              "      <td>0</td>\n",
              "      <td>0</td>\n",
              "      <td>0</td>\n",
              "      <td>0</td>\n",
              "      <td>0</td>\n",
              "      <td>0</td>\n",
              "      <td>0</td>\n",
              "    </tr>\n",
              "    <tr>\n",
              "      <th>2</th>\n",
              "      <td>2</td>\n",
              "      <td>1</td>\n",
              "      <td>1</td>\n",
              "      <td>15</td>\n",
              "      <td>1</td>\n",
              "      <td>1</td>\n",
              "      <td>1</td>\n",
              "      <td>1</td>\n",
              "      <td>1</td>\n",
              "      <td>1</td>\n",
              "      <td>2</td>\n",
              "      <td>0</td>\n",
              "      <td>1</td>\n",
              "      <td>0</td>\n",
              "      <td>0</td>\n",
              "      <td>0</td>\n",
              "      <td>1</td>\n",
              "      <td>1</td>\n",
              "      <td>1</td>\n",
              "      <td>0</td>\n",
              "      <td>4</td>\n",
              "      <td>3</td>\n",
              "      <td>2</td>\n",
              "      <td>2</td>\n",
              "      <td>3</td>\n",
              "      <td>3</td>\n",
              "      <td>6</td>\n",
              "      <td>12</td>\n",
              "      <td>13</td>\n",
              "      <td>12</td>\n",
              "      <td>0</td>\n",
              "      <td>0</td>\n",
              "      <td>0</td>\n",
              "      <td>0</td>\n",
              "      <td>0</td>\n",
              "      <td>1</td>\n",
              "      <td>0</td>\n",
              "      <td>0</td>\n",
              "      <td>0</td>\n",
              "      <td>1</td>\n",
              "      <td>0</td>\n",
              "      <td>1</td>\n",
              "      <td>0</td>\n",
              "    </tr>\n",
              "    <tr>\n",
              "      <th>3</th>\n",
              "      <td>3</td>\n",
              "      <td>1</td>\n",
              "      <td>1</td>\n",
              "      <td>15</td>\n",
              "      <td>1</td>\n",
              "      <td>0</td>\n",
              "      <td>1</td>\n",
              "      <td>4</td>\n",
              "      <td>2</td>\n",
              "      <td>1</td>\n",
              "      <td>3</td>\n",
              "      <td>0</td>\n",
              "      <td>0</td>\n",
              "      <td>1</td>\n",
              "      <td>0</td>\n",
              "      <td>1</td>\n",
              "      <td>1</td>\n",
              "      <td>1</td>\n",
              "      <td>1</td>\n",
              "      <td>1</td>\n",
              "      <td>3</td>\n",
              "      <td>2</td>\n",
              "      <td>2</td>\n",
              "      <td>1</td>\n",
              "      <td>1</td>\n",
              "      <td>5</td>\n",
              "      <td>0</td>\n",
              "      <td>14</td>\n",
              "      <td>14</td>\n",
              "      <td>14</td>\n",
              "      <td>1</td>\n",
              "      <td>0</td>\n",
              "      <td>0</td>\n",
              "      <td>0</td>\n",
              "      <td>0</td>\n",
              "      <td>0</td>\n",
              "      <td>1</td>\n",
              "      <td>0</td>\n",
              "      <td>1</td>\n",
              "      <td>0</td>\n",
              "      <td>0</td>\n",
              "      <td>1</td>\n",
              "      <td>0</td>\n",
              "    </tr>\n",
              "    <tr>\n",
              "      <th>4</th>\n",
              "      <td>4</td>\n",
              "      <td>1</td>\n",
              "      <td>1</td>\n",
              "      <td>16</td>\n",
              "      <td>1</td>\n",
              "      <td>0</td>\n",
              "      <td>1</td>\n",
              "      <td>3</td>\n",
              "      <td>3</td>\n",
              "      <td>1</td>\n",
              "      <td>2</td>\n",
              "      <td>0</td>\n",
              "      <td>0</td>\n",
              "      <td>1</td>\n",
              "      <td>0</td>\n",
              "      <td>0</td>\n",
              "      <td>1</td>\n",
              "      <td>1</td>\n",
              "      <td>0</td>\n",
              "      <td>0</td>\n",
              "      <td>4</td>\n",
              "      <td>3</td>\n",
              "      <td>2</td>\n",
              "      <td>1</td>\n",
              "      <td>2</td>\n",
              "      <td>5</td>\n",
              "      <td>0</td>\n",
              "      <td>11</td>\n",
              "      <td>13</td>\n",
              "      <td>13</td>\n",
              "      <td>0</td>\n",
              "      <td>1</td>\n",
              "      <td>0</td>\n",
              "      <td>0</td>\n",
              "      <td>0</td>\n",
              "      <td>1</td>\n",
              "      <td>0</td>\n",
              "      <td>0</td>\n",
              "      <td>1</td>\n",
              "      <td>0</td>\n",
              "      <td>0</td>\n",
              "      <td>0</td>\n",
              "      <td>0</td>\n",
              "    </tr>\n",
              "  </tbody>\n",
              "</table>\n",
              "</div>"
            ],
            "text/plain": [
              "   Unnamed: 0  school  sex  ...  reputation  guardian_mother  guardian_other\n",
              "0           0       1    1  ...           0                1               0\n",
              "1           1       1    1  ...           0                0               0\n",
              "2           2       1    1  ...           0                1               0\n",
              "3           3       1    1  ...           0                1               0\n",
              "4           4       1    1  ...           0                0               0\n",
              "\n",
              "[5 rows x 43 columns]"
            ]
          },
          "metadata": {
            "tags": []
          },
          "execution_count": 2
        }
      ]
    },
    {
      "cell_type": "code",
      "metadata": {
        "colab": {
          "base_uri": "https://localhost:8080/",
          "height": 241
        },
        "id": "L7usYHRDnhmt",
        "outputId": "7e7e11d8-0914-4d93-f26b-b06f869a250d"
      },
      "source": [
        "#wiek normalizujemy logarytmicznie - dzięki temu błąd jest jeszcze mniejszy\n",
        "grades = grades_org.copy(deep=True)\n",
        "grades['age'] = np.log2(grades['age']) \n",
        "grades.head()"
      ],
      "execution_count": null,
      "outputs": [
        {
          "output_type": "execute_result",
          "data": {
            "text/html": [
              "<div>\n",
              "<style scoped>\n",
              "    .dataframe tbody tr th:only-of-type {\n",
              "        vertical-align: middle;\n",
              "    }\n",
              "\n",
              "    .dataframe tbody tr th {\n",
              "        vertical-align: top;\n",
              "    }\n",
              "\n",
              "    .dataframe thead th {\n",
              "        text-align: right;\n",
              "    }\n",
              "</style>\n",
              "<table border=\"1\" class=\"dataframe\">\n",
              "  <thead>\n",
              "    <tr style=\"text-align: right;\">\n",
              "      <th></th>\n",
              "      <th>Unnamed: 0</th>\n",
              "      <th>school</th>\n",
              "      <th>sex</th>\n",
              "      <th>age</th>\n",
              "      <th>address</th>\n",
              "      <th>famsize</th>\n",
              "      <th>Pstatus</th>\n",
              "      <th>Medu</th>\n",
              "      <th>Fedu</th>\n",
              "      <th>traveltime</th>\n",
              "      <th>studytime</th>\n",
              "      <th>failures</th>\n",
              "      <th>schoolsup</th>\n",
              "      <th>famsup</th>\n",
              "      <th>paid</th>\n",
              "      <th>activities</th>\n",
              "      <th>nursery</th>\n",
              "      <th>higher</th>\n",
              "      <th>internet</th>\n",
              "      <th>romantic</th>\n",
              "      <th>famrel</th>\n",
              "      <th>freetime</th>\n",
              "      <th>goout</th>\n",
              "      <th>Dalc</th>\n",
              "      <th>Walc</th>\n",
              "      <th>health</th>\n",
              "      <th>absences</th>\n",
              "      <th>G1</th>\n",
              "      <th>G2</th>\n",
              "      <th>G3</th>\n",
              "      <th>Mjob_health</th>\n",
              "      <th>Mjob_other</th>\n",
              "      <th>Mjob_services</th>\n",
              "      <th>Mjob_teacher</th>\n",
              "      <th>Fjob_health</th>\n",
              "      <th>Fjob_other</th>\n",
              "      <th>Fjob_services</th>\n",
              "      <th>Fjob_teacher</th>\n",
              "      <th>reason_home</th>\n",
              "      <th>other</th>\n",
              "      <th>reputation</th>\n",
              "      <th>guardian_mother</th>\n",
              "      <th>guardian_other</th>\n",
              "    </tr>\n",
              "  </thead>\n",
              "  <tbody>\n",
              "    <tr>\n",
              "      <th>0</th>\n",
              "      <td>0</td>\n",
              "      <td>1</td>\n",
              "      <td>1</td>\n",
              "      <td>4.169925</td>\n",
              "      <td>1</td>\n",
              "      <td>0</td>\n",
              "      <td>0</td>\n",
              "      <td>4</td>\n",
              "      <td>4</td>\n",
              "      <td>2</td>\n",
              "      <td>2</td>\n",
              "      <td>0</td>\n",
              "      <td>1</td>\n",
              "      <td>0</td>\n",
              "      <td>0</td>\n",
              "      <td>0</td>\n",
              "      <td>1</td>\n",
              "      <td>1</td>\n",
              "      <td>0</td>\n",
              "      <td>0</td>\n",
              "      <td>4</td>\n",
              "      <td>3</td>\n",
              "      <td>4</td>\n",
              "      <td>1</td>\n",
              "      <td>1</td>\n",
              "      <td>3</td>\n",
              "      <td>4</td>\n",
              "      <td>0</td>\n",
              "      <td>11</td>\n",
              "      <td>11</td>\n",
              "      <td>0</td>\n",
              "      <td>0</td>\n",
              "      <td>0</td>\n",
              "      <td>0</td>\n",
              "      <td>0</td>\n",
              "      <td>0</td>\n",
              "      <td>0</td>\n",
              "      <td>1</td>\n",
              "      <td>0</td>\n",
              "      <td>0</td>\n",
              "      <td>0</td>\n",
              "      <td>1</td>\n",
              "      <td>0</td>\n",
              "    </tr>\n",
              "    <tr>\n",
              "      <th>1</th>\n",
              "      <td>1</td>\n",
              "      <td>1</td>\n",
              "      <td>1</td>\n",
              "      <td>4.087463</td>\n",
              "      <td>1</td>\n",
              "      <td>0</td>\n",
              "      <td>1</td>\n",
              "      <td>1</td>\n",
              "      <td>1</td>\n",
              "      <td>1</td>\n",
              "      <td>2</td>\n",
              "      <td>0</td>\n",
              "      <td>0</td>\n",
              "      <td>1</td>\n",
              "      <td>0</td>\n",
              "      <td>0</td>\n",
              "      <td>0</td>\n",
              "      <td>1</td>\n",
              "      <td>1</td>\n",
              "      <td>0</td>\n",
              "      <td>5</td>\n",
              "      <td>3</td>\n",
              "      <td>3</td>\n",
              "      <td>1</td>\n",
              "      <td>1</td>\n",
              "      <td>3</td>\n",
              "      <td>2</td>\n",
              "      <td>9</td>\n",
              "      <td>11</td>\n",
              "      <td>11</td>\n",
              "      <td>0</td>\n",
              "      <td>0</td>\n",
              "      <td>0</td>\n",
              "      <td>0</td>\n",
              "      <td>0</td>\n",
              "      <td>1</td>\n",
              "      <td>0</td>\n",
              "      <td>0</td>\n",
              "      <td>0</td>\n",
              "      <td>0</td>\n",
              "      <td>0</td>\n",
              "      <td>0</td>\n",
              "      <td>0</td>\n",
              "    </tr>\n",
              "    <tr>\n",
              "      <th>2</th>\n",
              "      <td>2</td>\n",
              "      <td>1</td>\n",
              "      <td>1</td>\n",
              "      <td>3.906891</td>\n",
              "      <td>1</td>\n",
              "      <td>1</td>\n",
              "      <td>1</td>\n",
              "      <td>1</td>\n",
              "      <td>1</td>\n",
              "      <td>1</td>\n",
              "      <td>2</td>\n",
              "      <td>0</td>\n",
              "      <td>1</td>\n",
              "      <td>0</td>\n",
              "      <td>0</td>\n",
              "      <td>0</td>\n",
              "      <td>1</td>\n",
              "      <td>1</td>\n",
              "      <td>1</td>\n",
              "      <td>0</td>\n",
              "      <td>4</td>\n",
              "      <td>3</td>\n",
              "      <td>2</td>\n",
              "      <td>2</td>\n",
              "      <td>3</td>\n",
              "      <td>3</td>\n",
              "      <td>6</td>\n",
              "      <td>12</td>\n",
              "      <td>13</td>\n",
              "      <td>12</td>\n",
              "      <td>0</td>\n",
              "      <td>0</td>\n",
              "      <td>0</td>\n",
              "      <td>0</td>\n",
              "      <td>0</td>\n",
              "      <td>1</td>\n",
              "      <td>0</td>\n",
              "      <td>0</td>\n",
              "      <td>0</td>\n",
              "      <td>1</td>\n",
              "      <td>0</td>\n",
              "      <td>1</td>\n",
              "      <td>0</td>\n",
              "    </tr>\n",
              "    <tr>\n",
              "      <th>3</th>\n",
              "      <td>3</td>\n",
              "      <td>1</td>\n",
              "      <td>1</td>\n",
              "      <td>3.906891</td>\n",
              "      <td>1</td>\n",
              "      <td>0</td>\n",
              "      <td>1</td>\n",
              "      <td>4</td>\n",
              "      <td>2</td>\n",
              "      <td>1</td>\n",
              "      <td>3</td>\n",
              "      <td>0</td>\n",
              "      <td>0</td>\n",
              "      <td>1</td>\n",
              "      <td>0</td>\n",
              "      <td>1</td>\n",
              "      <td>1</td>\n",
              "      <td>1</td>\n",
              "      <td>1</td>\n",
              "      <td>1</td>\n",
              "      <td>3</td>\n",
              "      <td>2</td>\n",
              "      <td>2</td>\n",
              "      <td>1</td>\n",
              "      <td>1</td>\n",
              "      <td>5</td>\n",
              "      <td>0</td>\n",
              "      <td>14</td>\n",
              "      <td>14</td>\n",
              "      <td>14</td>\n",
              "      <td>1</td>\n",
              "      <td>0</td>\n",
              "      <td>0</td>\n",
              "      <td>0</td>\n",
              "      <td>0</td>\n",
              "      <td>0</td>\n",
              "      <td>1</td>\n",
              "      <td>0</td>\n",
              "      <td>1</td>\n",
              "      <td>0</td>\n",
              "      <td>0</td>\n",
              "      <td>1</td>\n",
              "      <td>0</td>\n",
              "    </tr>\n",
              "    <tr>\n",
              "      <th>4</th>\n",
              "      <td>4</td>\n",
              "      <td>1</td>\n",
              "      <td>1</td>\n",
              "      <td>4.000000</td>\n",
              "      <td>1</td>\n",
              "      <td>0</td>\n",
              "      <td>1</td>\n",
              "      <td>3</td>\n",
              "      <td>3</td>\n",
              "      <td>1</td>\n",
              "      <td>2</td>\n",
              "      <td>0</td>\n",
              "      <td>0</td>\n",
              "      <td>1</td>\n",
              "      <td>0</td>\n",
              "      <td>0</td>\n",
              "      <td>1</td>\n",
              "      <td>1</td>\n",
              "      <td>0</td>\n",
              "      <td>0</td>\n",
              "      <td>4</td>\n",
              "      <td>3</td>\n",
              "      <td>2</td>\n",
              "      <td>1</td>\n",
              "      <td>2</td>\n",
              "      <td>5</td>\n",
              "      <td>0</td>\n",
              "      <td>11</td>\n",
              "      <td>13</td>\n",
              "      <td>13</td>\n",
              "      <td>0</td>\n",
              "      <td>1</td>\n",
              "      <td>0</td>\n",
              "      <td>0</td>\n",
              "      <td>0</td>\n",
              "      <td>1</td>\n",
              "      <td>0</td>\n",
              "      <td>0</td>\n",
              "      <td>1</td>\n",
              "      <td>0</td>\n",
              "      <td>0</td>\n",
              "      <td>0</td>\n",
              "      <td>0</td>\n",
              "    </tr>\n",
              "  </tbody>\n",
              "</table>\n",
              "</div>"
            ],
            "text/plain": [
              "   Unnamed: 0  school  sex  ...  reputation  guardian_mother  guardian_other\n",
              "0           0       1    1  ...           0                1               0\n",
              "1           1       1    1  ...           0                0               0\n",
              "2           2       1    1  ...           0                1               0\n",
              "3           3       1    1  ...           0                1               0\n",
              "4           4       1    1  ...           0                0               0\n",
              "\n",
              "[5 rows x 43 columns]"
            ]
          },
          "metadata": {
            "tags": []
          },
          "execution_count": 3
        }
      ]
    },
    {
      "cell_type": "markdown",
      "metadata": {
        "id": "Ly54Cc9Snw0K"
      },
      "source": [
        "# Prezentowanie finalnego modelu\n",
        "Najlepszy model byliśmy w stanie uzyskać wybierając jako parametry zmienne:\n",
        "* G2 -  2nd period grade\n",
        "* failures - failures - number of past class failures \n",
        "* higher - wants to take higher education (binary: 1 or 0)\n",
        "* studytime - weekly study time (numeric: 1 - <2 hours, 2 - 2 to 5 hours, 3 - 5 to 10 hours, or 4 - >10 hours)\n",
        "* school - student's school (binary: 1 - Gabriel Pereira or 0 - Mousinho da Silveira)\n",
        "* age - student's age (numeric: from 15 to 22) [normalized]\n",
        "* goout -  going out with friends (numeric: from 1 - very low to 5 - very high)\n",
        "* freetime -  free time after school (numeric: from 1 - very low to 5 - very high)\n",
        "* Dalc - workday alcohol consumption (numeric: from 1 - very low to 5 - very high)\n"
      ]
    },
    {
      "cell_type": "code",
      "metadata": {
        "colab": {
          "base_uri": "https://localhost:8080/"
        },
        "id": "eZO7l8sQnsgo",
        "outputId": "a780ad50-fe30-48ed-822e-d8b6e39cc17f"
      },
      "source": [
        "X = grades[['G2','failures', 'higher', 'studytime', 'school', 'age', 'goout', 'freetime', 'Dalc']]\n",
        "Y = grades['G3']\n",
        "X_train, X_test, y_train, y_test = train_test_split(X, Y, test_size=0.2, random_state=0)\n",
        "regressor = LinearRegression()\n",
        "regressor.fit(X_train, y_train)\n",
        "\n",
        "y_pred = regressor.predict(X_test)\n",
        "error = np.sqrt(metrics.mean_squared_error(y_test, y_pred))\n",
        "print('Root Mean Squared Error:', error)\n",
        "test_set_r2 = r2_score(y_test, y_pred)\n",
        "print('R-squared:', test_set_r2)"
      ],
      "execution_count": null,
      "outputs": [
        {
          "output_type": "stream",
          "text": [
            "Root Mean Squared Error: 0.9809479465281395\n",
            "R-squared: 0.8645450875659495\n"
          ],
          "name": "stdout"
        }
      ]
    },
    {
      "cell_type": "markdown",
      "metadata": {
        "id": "8oNcHg5IpKfC"
      },
      "source": [
        "# Strojenie hiperparametrów"
      ]
    },
    {
      "cell_type": "code",
      "metadata": {
        "colab": {
          "base_uri": "https://localhost:8080/"
        },
        "id": "JhFvkNxGTaIg",
        "outputId": "7d901321-121e-47e5-dd3c-c80b6f3293e2"
      },
      "source": [
        "#sprawdźmy jakie parametry ma Linear Regression\n",
        "regressor.get_params()"
      ],
      "execution_count": null,
      "outputs": [
        {
          "output_type": "execute_result",
          "data": {
            "text/plain": [
              "{'copy_X': True, 'fit_intercept': True, 'n_jobs': None, 'normalize': False}"
            ]
          },
          "metadata": {
            "tags": []
          },
          "execution_count": 11
        }
      ]
    },
    {
      "cell_type": "markdown",
      "metadata": {
        "id": "V0G_WriJYbjE"
      },
      "source": [
        "Opis hiperparametrów:\n",
        "* fit_intercept - whether to calculate the intercept for this model. If set to False, no intercept will be used in calculations (i.e. data is expected to be centered)\n",
        "* normalize - if True, the regressors X will be normalized before regression by subtracting the mean and dividing by the l2-norm\n",
        "* n_jobs - the number of jobs to use for the computation. This will only provide speedup for n_targets > 1 and sufficient large problems. None means 1 unless in a joblib.parallel_backend context. -1 means using all processors\n",
        "\n",
        "\n"
      ]
    },
    {
      "cell_type": "code",
      "metadata": {
        "colab": {
          "base_uri": "https://localhost:8080/"
        },
        "id": "Em6g9p45r1HR",
        "outputId": "a8f407f1-b6a4-421b-a228-eef7591f9451"
      },
      "source": [
        "#strojenie hiperparametrów\n",
        "\n",
        "from numpy import arange\n",
        "grid_values = {'fit_intercept':['True', 'False'],  \n",
        "    'normalize':['True', 'False'],\n",
        "    #'n_jobs': arange(-1, 10, 1)}\n",
        "    'n_jobs' :[-1, 'None', 1]}\n",
        "grid_regressor_acc = GridSearchCV(regressor, param_grid = grid_values, scoring = 'neg_mean_squared_error')\n",
        "grid_regressor_acc.fit(X_train, y_train)\n",
        "\n",
        "y_pred_acc = grid_regressor_acc.predict(X_test)\n",
        "# New Model Evaluation metrics \n",
        "print(grid_regressor_acc.best_params_)\n",
        "print('RMSE : ' + str(mean_squared_error(y_test,y_pred_acc)))\n",
        "print('R2 squared : ' + str(r2_score(y_test,y_pred_acc)))\n"
      ],
      "execution_count": null,
      "outputs": [
        {
          "output_type": "stream",
          "text": [
            "{'fit_intercept': 'True', 'n_jobs': -1, 'normalize': 'True'}\n",
            "RMSE : 0.9622588737977708\n",
            "R2 squared : 0.8645450875659498\n"
          ],
          "name": "stdout"
        }
      ]
    },
    {
      "cell_type": "code",
      "metadata": {
        "colab": {
          "base_uri": "https://localhost:8080/"
        },
        "id": "D28vdhIoX58A",
        "outputId": "5c1b9271-ee98-4ccd-9caf-d527837e9c28"
      },
      "source": [
        "#model z hiperparametrami\n",
        "regressor = LinearRegression(fit_intercept='True', n_jobs = -1, normalize=True)\n",
        "regressor.fit(X_train, y_train)\n",
        "\n",
        "y_pred = regressor.predict(X_test)\n",
        "print('RMSE : ' + str(mean_squared_error(y_test,y_pred)))\n",
        "print('R2 squared : ' + str(r2_score(y_test,y_pred)))"
      ],
      "execution_count": null,
      "outputs": [
        {
          "output_type": "stream",
          "text": [
            "RMSE : 0.9622588737977708\n",
            "R2 squared : 0.8645450875659498\n"
          ],
          "name": "stdout"
        }
      ]
    },
    {
      "cell_type": "markdown",
      "metadata": {
        "id": "38okk-RRacyf"
      },
      "source": [
        "Otrzymaliśmy lekko lepsze wyniki niż przed strojeniem."
      ]
    },
    {
      "cell_type": "markdown",
      "metadata": {
        "id": "Ao5ZkGHUdRt0"
      },
      "source": [
        "# Kroswalidacja\n",
        "Żeby sprawdzić jak wypada model, została przeprowadzona kroswalidacja. Jako narzędzia ewaluacyjne zostały użyte dwie miary:\n",
        "* RMSE - pierwiastek kwadratowy średniej kwadratów różnic między prognozą a rzeczywistą obserwacją\n",
        "* R2 - jedna z miar jakości dopasowania modelu do danych uczących,  gdy R2 = 1 wówczas model jest idealny"
      ]
    },
    {
      "cell_type": "code",
      "metadata": {
        "colab": {
          "base_uri": "https://localhost:8080/"
        },
        "id": "Fzc3W-5EdUp4",
        "outputId": "09841658-f28a-4a53-bcd7-1ff17867c698"
      },
      "source": [
        "from sklearn.model_selection import cross_validate\n",
        "print((-1)*np.mean(cross_validate(regressor, X_test, y_test, cv=20, scoring='neg_root_mean_squared_error').get('test_score')))\n",
        "print(np.mean(cross_validate(regressor, X_test, y_test, cv=20, scoring='r2').get('test_score')))"
      ],
      "execution_count": null,
      "outputs": [
        {
          "output_type": "stream",
          "text": [
            "0.9135234415045297\n",
            "0.7884095196388904\n"
          ],
          "name": "stdout"
        }
      ]
    },
    {
      "cell_type": "markdown",
      "metadata": {
        "id": "EMSrSgSfX2lT"
      },
      "source": [
        "# Zależności między parametrami a zmienną targetową\n",
        "Przyjrzyjmy się bliżej relacji pomiędzy parametrami a zmienną targetową. Na początku zostanie przedstawiona tablica współczynników stojących przy wartościach zmiennych, a następnie - wizualicje krzywych najlepszego dopasowania."
      ]
    },
    {
      "cell_type": "code",
      "metadata": {
        "colab": {
          "base_uri": "https://localhost:8080/"
        },
        "id": "qkam7h4Ofhkb",
        "outputId": "61a279a2-9759-49e9-c959-4b9fb73a61ad"
      },
      "source": [
        "coeff_df = pd.DataFrame(regressor.coef_, X.columns, columns=['Coefficient'])\n",
        "print(coeff_df)"
      ],
      "execution_count": null,
      "outputs": [
        {
          "output_type": "stream",
          "text": [
            "           Coefficient\n",
            "G2            0.995922\n",
            "failures     -0.254465\n",
            "higher        0.096815\n",
            "studytime     0.074919\n",
            "school        0.248308\n",
            "age           0.242837\n",
            "goout        -0.003889\n",
            "freetime     -0.041020\n",
            "Dalc         -0.095967\n"
          ],
          "name": "stdout"
        }
      ]
    },
    {
      "cell_type": "markdown",
      "metadata": {
        "id": "Dl2YeClEiFPR"
      },
      "source": [
        "Możemy zauwazyć, że współczynniki stojące przy goout i freetime są bardzo małe, więc jeśli zaszłaby taka potrzeba, można by zbudować model działający podobnie dobrze bez tych dwóch zmiennych."
      ]
    },
    {
      "cell_type": "code",
      "metadata": {
        "colab": {
          "base_uri": "https://localhost:8080/",
          "height": 1000
        },
        "id": "SuF-k_5690dF",
        "outputId": "d74f9153-3e0e-40cc-c276-67f59929f262"
      },
      "source": [
        "sns.pairplot(grades, x_vars= ['G2', 'failures', 'higher'], y_vars='G3', size=7, aspect=0.7, kind='reg')\n",
        "sns.pairplot(grades, x_vars= ['studytime', 'school', 'age'], y_vars='G3', size=7, aspect=0.7, kind='reg')\n",
        "sns.pairplot(grades, x_vars= ['goout', 'freetime', 'Dalc'], y_vars='G3', size=7, aspect=0.7, kind='reg')\n",
        "#, 'studytime', 'school', 'age', 'goout', 'freetime', 'Dalc']"
      ],
      "execution_count": null,
      "outputs": [
        {
          "output_type": "execute_result",
          "data": {
            "text/plain": [
              "<seaborn.axisgrid.PairGrid at 0x7f1217b74510>"
            ]
          },
          "metadata": {
            "tags": []
          },
          "execution_count": 14
        },
        {
          "output_type": "display_data",
          "data": {
            "image/png": "[encoded data removed]",
            "text/plain": [
              "<Figure size 1058.4x504 with 3 Axes>"
            ]
          },
          "metadata": {
            "tags": []
          }
        },
        {
          "output_type": "display_data",
          "data": {
            "image/png": "[encoded data removed]",
            "text/plain": [
              "<Figure size 1058.4x504 with 3 Axes>"
            ]
          },
          "metadata": {
            "tags": []
          }
        },
        {
          "output_type": "display_data",
          "data": {
            "image/png": "[encoded data removed]",
            "text/plain": [
              "<Figure size 1058.4x504 with 3 Axes>"
            ]
          },
          "metadata": {
            "tags": []
          }
        }
      ]
    },
    {
      "cell_type": "markdown",
      "metadata": {
        "id": "n2uC684QiZj9"
      },
      "source": [
        "Raczej nie wytworzyły się tu jakieś niespodziewane zależności - wpływy zmiennych na zmienną targetową są raczej intuicyjne i ,,można się było tego spodziewać\"."
      ]
    },
    {
      "cell_type": "markdown",
      "metadata": {
        "id": "uF4KddQErNIo"
      },
      "source": [
        "# Auto ML\n",
        "Czy automat zrobiłby to lepiej od nas? \n"
      ]
    },
    {
      "cell_type": "markdown",
      "metadata": {
        "id": "EbrLa1Uss0U8"
      },
      "source": [
        "Na początku zbadajmy jakie zmienne Feature_Selection uznałoby za ważne i porównajmy z naszymi wyborami. "
      ]
    },
    {
      "cell_type": "code",
      "metadata": {
        "id": "badRuaD7OT0T",
        "colab": {
          "base_uri": "https://localhost:8080/"
        },
        "outputId": "23d8417a-724a-4c7f-ea85-8ca275c3d523"
      },
      "source": [
        "from sklearn.feature_selection import SelectKBest\n",
        "from sklearn.feature_selection import chi2\n",
        "import pandas as pd\n",
        "\n",
        "X = grades.drop(['G3','Unnamed: 0'], axis=1)\n",
        "y = grades['G3']\n",
        "\n",
        "selector = SelectKBest(chi2, k=12)\n",
        "selector.fit(X, y)\n",
        "\n",
        "X_new = selector.transform(X)\n",
        "print(X_new.shape)\n",
        "\n",
        "X.columns[selector.get_support(indices=True)]\n",
        "\n",
        "# 1st way to get the list\n",
        "vector_names = list(X.columns[selector.get_support(indices=True)])\n",
        "print(vector_names)"
      ],
      "execution_count": null,
      "outputs": [
        {
          "output_type": "stream",
          "text": [
            "(649, 12)\n",
            "['school', 'Medu', 'Fedu', 'failures', 'Dalc', 'Walc', 'absences', 'G1', 'G2', 'Mjob_teacher', 'Fjob_teacher', 'other']\n"
          ],
          "name": "stdout"
        }
      ]
    },
    {
      "cell_type": "markdown",
      "metadata": {
        "id": "XNgT0KeXs5YH"
      },
      "source": [
        "Dla przypomnienia, wybrane przez nas zmienne to:\n",
        "```\n",
        "'G2','failures', 'higher', 'studytime', 'school', 'age', 'goout', 'freetime', 'Dalc'\n",
        "```\n",
        "Z grubsza, automat wybrał podobne zmienne do tych, które pojawiły się w naszym modelu końcowym.\n"
      ]
    },
    {
      "cell_type": "markdown",
      "metadata": {
        "id": "dMxHjUdMv5O6"
      },
      "source": [
        "Spróbujmy teraz zbudowac cały model, polegając tylko na automacie (używając pakietu TPOT)"
      ]
    },
    {
      "cell_type": "code",
      "metadata": {
        "id": "yk7cIfIZui2H",
        "colab": {
          "base_uri": "https://localhost:8080/"
        },
        "outputId": "526f8eef-04f4-4d0a-c096-2930cc7bab79"
      },
      "source": [
        " !pip install TPOT"
      ],
      "execution_count": null,
      "outputs": [
        {
          "output_type": "stream",
          "text": [
            "Collecting TPOT\n",
            "\u001b[?25l  Downloading https://files.pythonhosted.org/packages/b2/55/a7185198f554ea19758e5ac4641f100c94cba4585e738e2e48e3c40a0b7f/TPOT-0.11.7-py3-none-any.whl (87kB)\n",
            "\u001b[K     |████████████████████████████████| 92kB 5.2MB/s \n",
            "\u001b[?25hCollecting deap>=1.2\n",
            "\u001b[?25l  Downloading https://files.pythonhosted.org/packages/99/d1/803c7a387d8a7e6866160b1541307f88d534da4291572fb32f69d2548afb/deap-1.3.1-cp37-cp37m-manylinux2010_x86_64.whl (157kB)\n",
            "\u001b[K     |████████████████████████████████| 163kB 13.6MB/s \n",
            "\u001b[?25hRequirement already satisfied: tqdm>=4.36.1 in /usr/local/lib/python3.7/dist-packages (from TPOT) (4.41.1)\n",
            "Requirement already satisfied: scipy>=1.3.1 in /usr/local/lib/python3.7/dist-packages (from TPOT) (1.4.1)\n",
            "Collecting xgboost>=1.1.0\n",
            "\u001b[?25l  Downloading https://files.pythonhosted.org/packages/23/88/f52938e30f84ae662b4a0bc63cafc095fb3e38ca2ec188b8a863f8e2c016/xgboost-1.4.1-py3-none-manylinux2010_x86_64.whl (166.7MB)\n",
            "\u001b[K     |████████████████████████████████| 166.7MB 80kB/s \n",
            "\u001b[?25hCollecting stopit>=1.1.1\n",
            "  Downloading https://files.pythonhosted.org/packages/35/58/e8bb0b0fb05baf07bbac1450c447d753da65f9701f551dca79823ce15d50/stopit-1.1.2.tar.gz\n",
            "Requirement already satisfied: pandas>=0.24.2 in /usr/local/lib/python3.7/dist-packages (from TPOT) (1.1.5)\n",
            "Requirement already satisfied: numpy>=1.16.3 in /usr/local/lib/python3.7/dist-packages (from TPOT) (1.19.5)\n",
            "Collecting update-checker>=0.16\n",
            "  Downloading https://files.pythonhosted.org/packages/0c/ba/8dd7fa5f0b1c6a8ac62f8f57f7e794160c1f86f31c6d0fb00f582372a3e4/update_checker-0.18.0-py3-none-any.whl\n",
            "Requirement already satisfied: scikit-learn>=0.22.0 in /usr/local/lib/python3.7/dist-packages (from TPOT) (0.22.2.post1)\n",
            "Requirement already satisfied: joblib>=0.13.2 in /usr/local/lib/python3.7/dist-packages (from TPOT) (1.0.1)\n",
            "Requirement already satisfied: python-dateutil>=2.7.3 in /usr/local/lib/python3.7/dist-packages (from pandas>=0.24.2->TPOT) (2.8.1)\n",
            "Requirement already satisfied: pytz>=2017.2 in /usr/local/lib/python3.7/dist-packages (from pandas>=0.24.2->TPOT) (2018.9)\n",
            "Requirement already satisfied: requests>=2.3.0 in /usr/local/lib/python3.7/dist-packages (from update-checker>=0.16->TPOT) (2.23.0)\n",
            "Requirement already satisfied: six>=1.5 in /usr/local/lib/python3.7/dist-packages (from python-dateutil>=2.7.3->pandas>=0.24.2->TPOT) (1.15.0)\n",
            "Requirement already satisfied: urllib3!=1.25.0,!=1.25.1,<1.26,>=1.21.1 in /usr/local/lib/python3.7/dist-packages (from requests>=2.3.0->update-checker>=0.16->TPOT) (1.24.3)\n",
            "Requirement already satisfied: idna<3,>=2.5 in /usr/local/lib/python3.7/dist-packages (from requests>=2.3.0->update-checker>=0.16->TPOT) (2.10)\n",
            "Requirement already satisfied: certifi>=2017.4.17 in /usr/local/lib/python3.7/dist-packages (from requests>=2.3.0->update-checker>=0.16->TPOT) (2020.12.5)\n",
            "Requirement already satisfied: chardet<4,>=3.0.2 in /usr/local/lib/python3.7/dist-packages (from requests>=2.3.0->update-checker>=0.16->TPOT) (3.0.4)\n",
            "Building wheels for collected packages: stopit\n",
            "  Building wheel for stopit (setup.py) ... \u001b[?25l\u001b[?25hdone\n",
            "  Created wheel for stopit: filename=stopit-1.1.2-cp37-none-any.whl size=11954 sha256=a1cec26dd11c358fd7d1a8c43d60e56b9a283d1154ae94ff5d01da0f411eea17\n",
            "  Stored in directory: /root/.cache/pip/wheels/3c/85/2b/2580190404636bfc63e8de3dff629c03bb795021e1983a6cc7\n",
            "Successfully built stopit\n",
            "Installing collected packages: deap, xgboost, stopit, update-checker, TPOT\n",
            "  Found existing installation: xgboost 0.90\n",
            "    Uninstalling xgboost-0.90:\n",
            "      Successfully uninstalled xgboost-0.90\n",
            "Successfully installed TPOT-0.11.7 deap-1.3.1 stopit-1.1.2 update-checker-0.18.0 xgboost-1.4.1\n"
          ],
          "name": "stdout"
        }
      ]
    },
    {
      "cell_type": "code",
      "metadata": {
        "colab": {
          "base_uri": "https://localhost:8080/",
          "height": 221,
          "referenced_widgets": [
            "611315de643d42f792e387f62c2443a8",
            "1dd4c6c3e3974d6d8354824e038354bb",
            "cbfbbfa496334bf394b5df58e6e50a3a",
            "b5d0d863f29149ab91b24ce21ab2691d",
            "78f2ae674b66471f96386403729db8be",
            "3dba527e2fce4b028943bd694254c6ed",
            "1b6070f6a1a1416499d2e9bd1fbbec56",
            "6634e225d600411fb53aa69935708f0c"
          ]
        },
        "id": "YVZSDi5MrOZY",
        "outputId": "78a1836b-47a1-44b3-c48d-be36dcb78f58"
      },
      "source": [
        "from tpot import TPOTRegressor\n",
        "cv = RepeatedKFold(n_splits=10, n_repeats=3, random_state=1)\n",
        "# define search\n",
        "model = TPOTRegressor(generations=5, population_size=50, scoring='r2', cv=cv, verbosity=2, random_state=1, n_jobs=-1)\n",
        "# perform the search\n",
        "model.fit(X_train, y_train)\n",
        "# export the best model\n",
        "model.export('tpot_insurance_best_model.py')"
      ],
      "execution_count": null,
      "outputs": [
        {
          "output_type": "display_data",
          "data": {
            "application/vnd.jupyter.widget-view+json": {
              "model_id": "611315de643d42f792e387f62c2443a8",
              "version_minor": 0,
              "version_major": 2
            },
            "text/plain": [
              "HBox(children=(FloatProgress(value=0.0, description='Optimization Progress', max=300.0, style=ProgressStyle(de…"
            ]
          },
          "metadata": {
            "tags": []
          }
        },
        {
          "output_type": "stream",
          "text": [
            "\r\n",
            "Generation 1 - Current best internal CV score: 0.8427712046443019\n",
            "\n",
            "Generation 2 - Current best internal CV score: 0.8433418382431329\n",
            "\n",
            "Generation 3 - Current best internal CV score: 0.8433418382431329\n",
            "\n",
            "Generation 4 - Current best internal CV score: 0.8438306650745957\n",
            "\n",
            "Generation 5 - Current best internal CV score: 0.8438306650745957\n",
            "\n",
            "Best pipeline: ElasticNetCV(PCA(input_matrix, iterated_power=8, svd_solver=randomized), l1_ratio=0.8500000000000001, tol=0.0001)\n"
          ],
          "name": "stdout"
        }
      ]
    },
    {
      "cell_type": "code",
      "metadata": {
        "id": "DFCgRCp1aujK"
      },
      "source": [
        "#model wygenerowany przez TPOT\n",
        "\n",
        "import numpy as np\n",
        "import pandas as pd\n",
        "from sklearn.ensemble import RandomForestRegressor\n",
        "from sklearn.feature_selection import SelectFwe, f_regression\n",
        "from sklearn.linear_model import LassoLarsCV\n",
        "from sklearn.model_selection import train_test_split\n",
        "from sklearn.pipeline import make_pipeline, make_union\n",
        "from tpot.builtins import StackingEstimator\n",
        "from tpot.export_utils import set_param_recursive\n",
        "X_train, X_test, y_train, y_test = train_test_split(X, Y, test_size=0.2, random_state=0)\n",
        "\n",
        "exported_pipeline = make_pipeline(\n",
        "    StackingEstimator(estimator=RandomForestRegressor(bootstrap=True, max_features=0.35000000000000003, min_samples_leaf=19, min_samples_split=15, n_estimators=100)),\n",
        "    SelectFwe(score_func=f_regression, alpha=0.011),\n",
        "    LassoLarsCV(normalize=False)\n",
        ")\n",
        "exported_pipeline.fit(X_train, y_train)\n",
        "results = exported_pipeline.predict(X_test)"
      ],
      "execution_count": null,
      "outputs": []
    },
    {
      "cell_type": "code",
      "metadata": {
        "colab": {
          "base_uri": "https://localhost:8080/"
        },
        "id": "ofLPiv5VcMOI",
        "outputId": "8e65ca6a-92b0-48f2-e971-5557390c6cca"
      },
      "source": [
        "error = np.sqrt(metrics.mean_squared_error(y_test, results))\n",
        "print('Root Mean Squared Error:', error)\n",
        "test_set_r2 = r2_score(y_test, results)\n",
        "print('R-squared:', test_set_r2)"
      ],
      "execution_count": null,
      "outputs": [
        {
          "output_type": "stream",
          "text": [
            "Root Mean Squared Error: 0.9822666024095801\n",
            "R-squared: 0.8641806676739481\n"
          ],
          "name": "stdout"
        }
      ]
    },
    {
      "cell_type": "markdown",
      "metadata": {
        "id": "pp-byoqT_u_6"
      },
      "source": [
        "Wyniki otrzymane przez nas i przez TPOT są do siebie bardzo zbliżone.\n",
        "Dla przypomnienia, w naszym modelu po strojeniu otrzymałyśmy wyniki: \n",
        "\n",
        "RMSE : 0.9622588737977708 \n",
        "\n",
        "R2 squared : 0.8645450875659498\n",
        "\n",
        "Można zaobserwować, że wartość R2 squared jest praktycznie identyczna, jednak w modelu stworzonym przez nas RMSE jest mniejsze.\n",
        "Taki wynik jednocześnie nas cieszy, ale też trochę martwi (czy już jesteśmy zastąpieni?)"
      ]
    },
    {
      "cell_type": "markdown",
      "metadata": {
        "id": "uysL4Tukipqv"
      },
      "source": [
        "# Generalny Raport"
      ]
    },
    {
      "cell_type": "markdown",
      "metadata": {
        "id": "fhc79jV7XSoO"
      },
      "source": [
        "Przyjrzyjmy się ogólnym statystykom w raporcie stworzonym przy pomocy statsmodels (OLS = Ordinary Least Squares)"
      ]
    },
    {
      "cell_type": "code",
      "metadata": {
        "colab": {
          "base_uri": "https://localhost:8080/"
        },
        "id": "B3wgUl3eKFFg",
        "outputId": "9e793562-2231-4414-90b1-7c884129aae6"
      },
      "source": [
        "import statsmodels.api as sm\n",
        "\n",
        "x = X_test\n",
        "x = sm.add_constant(x)\n",
        "y = y_test\n",
        "model = sm.OLS(y, x)\n",
        "results = model.fit()\n",
        "print(results.summary())"
      ],
      "execution_count": null,
      "outputs": [
        {
          "output_type": "stream",
          "text": [
            "                            OLS Regression Results                            \n",
            "==============================================================================\n",
            "Dep. Variable:                     G3   R-squared:                       0.887\n",
            "Model:                            OLS   Adj. R-squared:                  0.879\n",
            "Method:                 Least Squares   F-statistic:                     105.1\n",
            "Date:                Fri, 16 Apr 2021   Prob (F-statistic):           1.30e-52\n",
            "Time:                        21:40:02   Log-Likelihood:                -169.92\n",
            "No. Observations:                 130   AIC:                             359.8\n",
            "Df Residuals:                     120   BIC:                             388.5\n",
            "Df Model:                           9                                         \n",
            "Covariance Type:            nonrobust                                         \n",
            "==============================================================================\n",
            "                 coef    std err          t      P>|t|      [0.025      0.975]\n",
            "------------------------------------------------------------------------------\n",
            "const         -1.4352      3.456     -0.415      0.679      -8.278       5.408\n",
            "G2             0.8711      0.034     25.756      0.000       0.804       0.938\n",
            "failures       0.0128      0.186      0.069      0.945      -0.355       0.380\n",
            "higher         0.2414      0.323      0.747      0.457      -0.399       0.882\n",
            "studytime      0.1477      0.118      1.256      0.211      -0.085       0.381\n",
            "school         0.3041      0.189      1.613      0.109      -0.069       0.677\n",
            "age            0.7340      0.841      0.873      0.384      -0.930       2.398\n",
            "goout         -0.0012      0.079     -0.016      0.988      -0.158       0.156\n",
            "freetime      -0.1077      0.083     -1.302      0.195      -0.272       0.056\n",
            "Dalc          -0.0074      0.111     -0.066      0.947      -0.227       0.212\n",
            "==============================================================================\n",
            "Omnibus:                       23.847   Durbin-Watson:                   1.967\n",
            "Prob(Omnibus):                  0.000   Jarque-Bera (JB):               45.711\n",
            "Skew:                          -0.796   Prob(JB):                     1.19e-10\n",
            "Kurtosis:                       5.430   Cond. No.                         597.\n",
            "==============================================================================\n",
            "\n",
            "Warnings:\n",
            "[1] Standard Errors assume that the covariance matrix of the errors is correctly specified.\n"
          ],
          "name": "stdout"
        }
      ]
    },
    {
      "cell_type": "markdown",
      "metadata": {
        "id": "6cGqT4MAHDzS"
      },
      "source": [
        "Analiza wybranych parametrów raportu:\n",
        "\n",
        "Kryterium informacyjne Akaike (AIC) jest techniką opartą na dopasowaniu w próbie do oszacowania prawdopodobieństwa modelu do przewidzenia / oszacowania przyszłych wartości.\n",
        "\n",
        "Dobry model to taki, który ma minimalne AIC spośród wszystkich innych modeli. AIC można wykorzystać do wyboru między addytywnym i multiplikatywnym modelem Holta-Wintersa.\n",
        "\n",
        "Bayesowskie kryterium informacyjne (BIC) to kolejne kryterium wyboru modelu, które mierzy kompromis między dopasowaniem modelu a złożonością modelu. Niższa wartość AIC lub BIC oznacza lepsze dopasowanie.\n",
        "\n",
        "Durbin-watson: Kolejnym założeniem OLS jest homoskedastyczność. Oznacza to, że wariancja błędów jest stała. Preferowana jest wartość od 1 do 2. Tutaj jest to ~ 1.967, co oznacza, że ​​wyniki regresji są wiarygodne od strony interpretacji tej miary.\n",
        "\n",
        "Prob(Omnibus): Jednym z założeń OLS jest to, że błędy mają rozkład normalny. Aby to sprawdzić, wykonywany jest test zbiorczy. Tutaj hipoteza zerowa głosi, że rozkład błędów jest normalny. Prob (Omnibus) ma być zbliżony do 1, aby spełniał założenie OLS. W tym przypadku Prob (Omnibus) wynosi w przybliżeniu 0.000, co oznacza, że ​​założenie OLS nie jest spełnione. Z tego powodu oszacowane z tego współczynniki nie są najlepszymi liniowymi bezstronnymi szacunkami.\n",
        "\n",
        "Prob (Jarque-Bera): Jest to zgodne z testem Omnibus. Jest również wykonywana w celu analizy dystrybucji błędów regresji. Ma się to zgadzać z wynikami testu Omnibus. Duża wartość testu JB wskazuje, że błędy nie mają rozkładu normalnego.\n"
      ]
    }
  ]
}