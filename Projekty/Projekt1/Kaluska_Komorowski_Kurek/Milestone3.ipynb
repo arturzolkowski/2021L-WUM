{
 "cells": [
  {
   "cell_type": "markdown",
   "id": "interior-quantum",
   "metadata": {},
   "source": [
    "# Strojenie hiperparametrów"
   ]
  },
  {
   "cell_type": "markdown",
   "id": "regulation-baltimore",
   "metadata": {},
   "source": [
    "## Wczytanie pakietów i danych"
   ]
  },
  {
   "cell_type": "code",
   "execution_count": null,
   "id": "connected-spectacular",
   "metadata": {},
   "outputs": [],
   "source": [
    "pip install light"
   ]
  },
  {
   "cell_type": "code",
   "execution_count": 8,
   "id": "structural-syntax",
   "metadata": {},
   "outputs": [],
   "source": [
    "import pandas as pd\n",
    "import numpy as np\n",
    "\n",
    "from catboost  import CatBoostClassifier\n",
    "from xgboost import XGBClassifier\n",
    "\n",
    "from sklearn.tree import DecisionTreeClassifier\n",
    "\n",
    "from sklearn.linear_model import LogisticRegression\n",
    "\n",
    "from sklearn.ensemble import AdaBoostClassifier\n",
    "from sklearn.ensemble import RandomForestClassifier\n",
    "\n",
    "from sklearn.model_selection import train_test_split\n",
    "from sklearn.model_selection import cross_validate\n",
    "from sklearn.model_selection import GridSearchCV\n",
    "\n",
    "from sklearn.metrics import roc_auc_score\n",
    "from sklearn.metrics import f1_score\n",
    "from sklearn.metrics import accuracy_score\n",
    "from sklearn.metrics import classification_report\n",
    "from sklearn.metrics import balanced_accuracy_score\n",
    "from sklearn.metrics import roc_curve, auc, plot_roc_curve\n",
    "from sklearn.metrics import plot_confusion_matrix\n",
    "\n",
    "from matplotlib import pyplot as plt\n",
    "import warnings\n",
    "warnings.filterwarnings('ignore')\n",
    "pd.set_option('display.max_colwidth', None)"
   ]
  },
  {
   "cell_type": "code",
   "execution_count": 2,
   "id": "curious-paper",
   "metadata": {},
   "outputs": [],
   "source": [
    "df = pd.read_csv('preprocessed_data.csv')\n",
    "X = df.drop(columns=['income_level'])\n",
    "y = df['income_level']"
   ]
  },
  {
   "cell_type": "code",
   "execution_count": 4,
   "id": "accepting-benjamin",
   "metadata": {
    "scrolled": false
   },
   "outputs": [
    {
     "name": "stdout",
     "output_type": "stream",
     "text": [
      "<class 'pandas.core.frame.DataFrame'>\n",
      "RangeIndex: 45222 entries, 0 to 45221\n",
      "Data columns (total 49 columns):\n",
      " #   Column                                Non-Null Count  Dtype  \n",
      "---  ------                                --------------  -----  \n",
      " 0   age                                   45222 non-null  float64\n",
      " 1   workclass_State-gov                   45222 non-null  int64  \n",
      " 2   workclass_Self-emp-not-inc            45222 non-null  int64  \n",
      " 3   workclass_Private                     45222 non-null  int64  \n",
      " 4   workclass_Federal-gov                 45222 non-null  int64  \n",
      " 5   workclass_Local-gov                   45222 non-null  int64  \n",
      " 6   workclass_Self-emp-inc                45222 non-null  int64  \n",
      " 7   workclass_Without-pay                 45222 non-null  int64  \n",
      " 8   education_num                         45222 non-null  int64  \n",
      " 9   marital_status_Never-married          45222 non-null  int64  \n",
      " 10  marital_status_Married-civ-spouse     45222 non-null  int64  \n",
      " 11  marital_status_Divorced               45222 non-null  int64  \n",
      " 12  marital_status_Married-spouse-absent  45222 non-null  int64  \n",
      " 13  marital_status_Separated              45222 non-null  int64  \n",
      " 14  marital_status_Married-AF-spouse      45222 non-null  int64  \n",
      " 15  marital_status_Widowed                45222 non-null  int64  \n",
      " 16  occupation_Adm-clerical               45222 non-null  int64  \n",
      " 17  occupation_Exec-managerial            45222 non-null  int64  \n",
      " 18  occupation_Handlers-cleaners          45222 non-null  int64  \n",
      " 19  occupation_Prof-specialty             45222 non-null  int64  \n",
      " 20  occupation_Other-service              45222 non-null  int64  \n",
      " 21  occupation_Sales                      45222 non-null  int64  \n",
      " 22  occupation_Transport-moving           45222 non-null  int64  \n",
      " 23  occupation_Farming-fishing            45222 non-null  int64  \n",
      " 24  occupation_Machine-op-inspct          45222 non-null  int64  \n",
      " 25  occupation_Tech-support               45222 non-null  int64  \n",
      " 26  occupation_Craft-repair               45222 non-null  int64  \n",
      " 27  occupation_Protective-serv            45222 non-null  int64  \n",
      " 28  occupation_Armed-Forces               45222 non-null  int64  \n",
      " 29  occupation_Priv-house-serv            45222 non-null  int64  \n",
      " 30  relationship_Not-in-family            45222 non-null  int64  \n",
      " 31  relationship_Husband                  45222 non-null  int64  \n",
      " 32  relationship_Wife                     45222 non-null  int64  \n",
      " 33  relationship_Own-child                45222 non-null  int64  \n",
      " 34  relationship_Unmarried                45222 non-null  int64  \n",
      " 35  relationship_Other-relative           45222 non-null  int64  \n",
      " 36  race                                  45222 non-null  float64\n",
      " 37  sex_Male                              45222 non-null  int64  \n",
      " 38  sex_Female                            45222 non-null  int64  \n",
      " 39  capital_gain                          45222 non-null  float64\n",
      " 40  capital_loss                          45222 non-null  float64\n",
      " 41  hours_per_week_exactly_40             45222 non-null  int64  \n",
      " 42  hours_per_week_more_than_40           45222 non-null  int64  \n",
      " 43  hours_per_week_less_than_40           45222 non-null  int64  \n",
      " 44  native_country_United States          45222 non-null  int64  \n",
      " 45  native_country_LA                     45222 non-null  int64  \n",
      " 46  native_country_ASIA                   45222 non-null  int64  \n",
      " 47  native_country_EU                     45222 non-null  int64  \n",
      " 48  native_country_NA                     45222 non-null  int64  \n",
      "dtypes: float64(4), int64(45)\n",
      "memory usage: 16.9 MB\n"
     ]
    }
   ],
   "source": [
    "X.info()"
   ]
  },
  {
   "cell_type": "code",
   "execution_count": 5,
   "id": "meaning-clone",
   "metadata": {},
   "outputs": [],
   "source": [
    "X_train, X_test, y_train, y_test = train_test_split(X, y, test_size=0.25, random_state=45, stratify=y)"
   ]
  },
  {
   "cell_type": "markdown",
   "id": "permanent-academy",
   "metadata": {},
   "source": [
    "#### Funkcje pomocnicze"
   ]
  },
  {
   "cell_type": "code",
   "execution_count": 167,
   "id": "clinical-arlington",
   "metadata": {},
   "outputs": [],
   "source": [
    "def simple_fit(clfs, cols=None):\n",
    "    for i, clf in enumerate(clfs):\n",
    "        if cols is not None and cols[i] is not None:              \n",
    "            clf.fit(X_train.loc[:, cols[i]], y_train)\n",
    "        \n",
    "            y_pred = clf.predict(X_test.loc[:, cols[i]])\n",
    "            y_pred_train = clf.predict(X_train.loc[:, cols[i]])\n",
    "        else:\n",
    "            clf.fit(X_train, y_train)  \n",
    "            \n",
    "            y_pred = clf.predict(X_test)\n",
    "            y_pred_train = clf.predict(X_train)\n",
    "        \n",
    "        name = clf.__class__.__name__\n",
    "        print(f\"{name} train set accuracy score : {accuracy_score(y_train, y_pred_train):.4f}\")\n",
    "        print(f\"{name} test set accuracy score : {accuracy_score(y_test, y_pred):.4f}\")\n",
    "        print(\"\")"
   ]
  },
  {
   "cell_type": "code",
   "execution_count": 81,
   "id": "modified-scanner",
   "metadata": {},
   "outputs": [],
   "source": [
    "def cross_val(clf, cols=None):\n",
    "        print(\"5-fold CV results\")\n",
    "        if cols is not None:\n",
    "            cv_score = cross_validate(clf, X_train.loc[:, cols], y_train, scoring=[\"accuracy\", \"f1\", \"roc_auc\"], return_train_score=True, n_jobs=-1)\n",
    "        else:\n",
    "            cv_score = cross_validate(clf, X_train, y_train, scoring=[\"accuracy\", \"f1\", \"roc_auc\"], return_train_score=True, n_jobs=-1)\n",
    "\n",
    "        name = clf.__class__.__name__\n",
    "\n",
    "        print(f'{name} train accuracy : {np.mean(cv_score[\"train_accuracy\"]) * 100:.2f}% +- {np.std(cv_score[\"train_accuracy\"]) * 100:.2f}%')\n",
    "        print(f'{name} test accuracy : {np.mean(cv_score[\"test_accuracy\"]) * 100:.2f}% +- {np.std(cv_score[\"test_accuracy\"]) * 100:.2f}%')\n",
    "        print('')\n",
    "        print(f'{name} test F1 : {np.mean(cv_score[\"test_f1\"]) * 100:.2f}% +- {np.std(cv_score[\"test_f1\"]) * 100:.2f}%')\n",
    "        print(f'{name} test ROC AUC : {np.mean(cv_score[\"test_roc_auc\"]) * 100:.2f}% +- {np.std(cv_score[\"test_roc_auc\"]) * 100:.2f}%')\n",
    "        print(f'{name} fit time : {np.mean(cv_score[\"fit_time\"])}')\n",
    "        print('')\n",
    "        return cv_score"
   ]
  },
  {
   "cell_type": "code",
   "execution_count": 19,
   "id": "automated-luxembourg",
   "metadata": {},
   "outputs": [],
   "source": [
    "def insert_results_to_df(df, res, row_name):\n",
    "    df.loc[row_name] = [np.mean(res[\"test_accuracy\"]), \\\n",
    "                                np.mean(res[\"test_roc_auc\"]), np.mean(res[\"test_f1\"])]"
   ]
  },
  {
   "cell_type": "code",
   "execution_count": 20,
   "id": "expanded-trick",
   "metadata": {},
   "outputs": [],
   "source": [
    "indicators = ['accuracy', 'roc auc', 'f1']\n",
    "t = pd.DataFrame(columns = indicators) "
   ]
  },
  {
   "cell_type": "markdown",
   "id": "foster-think",
   "metadata": {},
   "source": [
    "## Wybór modeli\n",
    "Po analizie wyników z naszej wcześniejszej pracy do dalszej analizy wybraliśmy modele CatBoostClassifier oraz XGBClassifier. Cechowały się one najwyższą dokładnością.\n",
    "Poniżej przypomnimy jakie wyniki średnio osiągały testowane przez nas modele."
   ]
  },
  {
   "cell_type": "code",
   "execution_count": 15,
   "id": "weekly-review",
   "metadata": {},
   "outputs": [],
   "source": [
    "classifiers1 = [\n",
    "    DecisionTreeClassifier(random_state=0, max_depth=3),\n",
    "    LogisticRegression(random_state=0, max_iter=1000),\n",
    "    AdaBoostClassifier(random_state=0, n_estimators=1000),\n",
    "    RandomForestClassifier(random_state=0, n_estimators=750, max_depth=4),\n",
    "    CatBoostClassifier(random_state=0, depth=3, silent=True, n_estimators=100),\n",
    "    XGBClassifier(random_state=0, learning_rate=0.4, booster='gbtree', max_depth=4, eval_metric=\"logloss\", use_label_encoder=False)\n",
    "]"
   ]
  },
  {
   "cell_type": "code",
   "execution_count": 16,
   "id": "willing-jimmy",
   "metadata": {},
   "outputs": [
    {
     "name": "stdout",
     "output_type": "stream",
     "text": [
      "DecisionTreeClassifier train set accuracy score : 0.8390\n",
      "DecisionTreeClassifier test set accuracy score : 0.8404\n",
      "\n",
      "LogisticRegression train set accuracy score : 0.8492\n",
      "LogisticRegression test set accuracy score : 0.8496\n",
      "\n",
      "AdaBoostClassifier train set accuracy score : 0.8703\n",
      "AdaBoostClassifier test set accuracy score : 0.8685\n",
      "\n",
      "RandomForestClassifier train set accuracy score : 0.8348\n",
      "RandomForestClassifier test set accuracy score : 0.8389\n",
      "\n",
      "CatBoostClassifier train set accuracy score : 0.8757\n",
      "CatBoostClassifier test set accuracy score : 0.8687\n",
      "\n",
      "XGBClassifier train set accuracy score : 0.8799\n",
      "XGBClassifier test set accuracy score : 0.8707\n",
      "\n"
     ]
    }
   ],
   "source": [
    "simple_fit(classifiers1)"
   ]
  },
  {
   "cell_type": "markdown",
   "id": "coordinated-macedonia",
   "metadata": {},
   "source": [
    "## XGBClassifier\n",
    "Aby móc zobaczyć różnicę, pokażemy jak ten model radzi sobie z dotychczasowymi ustawieniami parametrów. Następnie skorzystamy z metod dostrajania parametrów oraz doboru znaczących zmiennych i ocenimy różnicę."
   ]
  },
  {
   "cell_type": "markdown",
   "id": "taken-layout",
   "metadata": {},
   "source": [
    "### Model przed zmianami\n",
    "Widzimy, że można posądzać model o lekki overfitting."
   ]
  },
  {
   "cell_type": "code",
   "execution_count": 30,
   "id": "literary-printer",
   "metadata": {},
   "outputs": [],
   "source": [
    "xg_boost = XGBClassifier(random_state=0,\n",
    "                    learning_rate=0.4, \n",
    "                    booster='gbtree', \n",
    "                    max_depth=4,  \n",
    "                    eval_metric=\"logloss\",\n",
    "                    use_label_encoder=False)"
   ]
  },
  {
   "cell_type": "code",
   "execution_count": 31,
   "id": "superb-prague",
   "metadata": {
    "scrolled": true
   },
   "outputs": [
    {
     "name": "stdout",
     "output_type": "stream",
     "text": [
      "5-fold CV results\n",
      "XGBClassifier train accuracy : 88.11% +- 0.12%\n",
      "XGBClassifier test accuracy : 86.96% +- 0.40%\n",
      "\n",
      "XGBClassifier test F1 : 71.50% +- 0.86%\n",
      "XGBClassifier test ROC AUC : 92.71% +- 0.30%\n",
      "XGBClassifier fit time : 2.273709297180176\n",
      "\n"
     ]
    }
   ],
   "source": [
    "res = cross_val(xg_boost)\n",
    "\n",
    "insert_results_to_df(t, res, 'XGBoost initial')"
   ]
  },
  {
   "cell_type": "markdown",
   "id": "magnetic-belly",
   "metadata": {},
   "source": [
    "### Grid Search\n",
    "Przechodzimy do strojenia parametrów. Poniżej wybraliśmy parametry, które uważamy za najistotniejsze."
   ]
  },
  {
   "cell_type": "code",
   "execution_count": 57,
   "id": "mobile-crystal",
   "metadata": {},
   "outputs": [
    {
     "data": {
      "text/plain": [
       "GridSearchCV(cv=3,\n",
       "             estimator=XGBClassifier(base_score=None, booster=None,\n",
       "                                     colsample_bylevel=None,\n",
       "                                     colsample_bynode=None,\n",
       "                                     colsample_bytree=None, gamma=None,\n",
       "                                     gpu_id=None, importance_type='gain',\n",
       "                                     interaction_constraints=None,\n",
       "                                     learning_rate=None, max_delta_step=None,\n",
       "                                     max_depth=None, min_child_weight=None,\n",
       "                                     missing=nan, monotone_constraints=None,\n",
       "                                     n_estimators=100, n_jobs...\n",
       "                                     scale_pos_weight=None, subsample=None,\n",
       "                                     tree_method=None, validate_parameters=None,\n",
       "                                     verbosity=None),\n",
       "             n_jobs=-1,\n",
       "             param_grid={'booster': ['gbtree', 'gblinear', 'dart'],\n",
       "                         'eval_metric': ['logloss', 'rmse', 'error'],\n",
       "                         'gamma': [0.5, 1, 1.5, 2, 5],\n",
       "                         'learning_rate': [0.05, 0.1, 0.2, 0.3, 0.4, 0.5],\n",
       "                         'max_depth': [3, 4, 5, 6],\n",
       "                         'min_child_weight': [1, 5, 10], 'random_state': [1],\n",
       "                         'use_label_encoder': [False]})"
      ]
     },
     "execution_count": 57,
     "metadata": {},
     "output_type": "execute_result"
    }
   ],
   "source": [
    "xg_boost = XGBClassifier()\n",
    "\n",
    "parameters = {\n",
    "    'max_depth': [3, 4, 5, 6],\n",
    "    'learning_rate': [0.05, 0.1, 0.2, 0.3, 0.4, 0.5],\n",
    "    'booster': ['gbtree', 'gblinear', 'dart'],\n",
    "    'min_child_weight': [1, 5, 10],\n",
    "    'gamma': [0.5, 1, 1.5, 2, 5],\n",
    "    'random_state': [1],\n",
    "    'eval_metric': ['logloss', 'rmse', 'error'],\n",
    "    'use_label_encoder': [False]\n",
    "}\n",
    "\n",
    "xgb_grid = GridSearchCV(xg_boost, parameters, cv=3, n_jobs=-1)\n",
    "xgb_grid.fit(X_train, y_train)"
   ]
  },
  {
   "cell_type": "code",
   "execution_count": 61,
   "id": "treated-study",
   "metadata": {
    "scrolled": false
   },
   "outputs": [
    {
     "data": {
      "text/html": [
       "<div>\n",
       "<style scoped>\n",
       "    .dataframe tbody tr th:only-of-type {\n",
       "        vertical-align: middle;\n",
       "    }\n",
       "\n",
       "    .dataframe tbody tr th {\n",
       "        vertical-align: top;\n",
       "    }\n",
       "\n",
       "    .dataframe thead th {\n",
       "        text-align: right;\n",
       "    }\n",
       "</style>\n",
       "<table border=\"1\" class=\"dataframe\">\n",
       "  <thead>\n",
       "    <tr style=\"text-align: right;\">\n",
       "      <th></th>\n",
       "      <th>params</th>\n",
       "      <th>mean_test_score</th>\n",
       "    </tr>\n",
       "  </thead>\n",
       "  <tbody>\n",
       "    <tr>\n",
       "      <th>0</th>\n",
       "      <td>{'booster': 'gbtree', 'eval_metric': 'rmse', 'gamma': 0.5, 'learning_rate': 0.4, 'max_depth': 3, 'min_child_weight': 1, 'random_state': 1, 'use_label_encoder': False}</td>\n",
       "      <td>0.872155</td>\n",
       "    </tr>\n",
       "    <tr>\n",
       "      <th>1</th>\n",
       "      <td>{'booster': 'dart', 'eval_metric': 'error', 'gamma': 0.5, 'learning_rate': 0.4, 'max_depth': 3, 'min_child_weight': 1, 'random_state': 1, 'use_label_encoder': False}</td>\n",
       "      <td>0.872155</td>\n",
       "    </tr>\n",
       "    <tr>\n",
       "      <th>2</th>\n",
       "      <td>{'booster': 'dart', 'eval_metric': 'logloss', 'gamma': 0.5, 'learning_rate': 0.4, 'max_depth': 3, 'min_child_weight': 1, 'random_state': 1, 'use_label_encoder': False}</td>\n",
       "      <td>0.872155</td>\n",
       "    </tr>\n",
       "    <tr>\n",
       "      <th>3</th>\n",
       "      <td>{'booster': 'gbtree', 'eval_metric': 'logloss', 'gamma': 0.5, 'learning_rate': 0.4, 'max_depth': 3, 'min_child_weight': 1, 'random_state': 1, 'use_label_encoder': False}</td>\n",
       "      <td>0.872155</td>\n",
       "    </tr>\n",
       "    <tr>\n",
       "      <th>4</th>\n",
       "      <td>{'booster': 'gbtree', 'eval_metric': 'error', 'gamma': 0.5, 'learning_rate': 0.4, 'max_depth': 3, 'min_child_weight': 1, 'random_state': 1, 'use_label_encoder': False}</td>\n",
       "      <td>0.872155</td>\n",
       "    </tr>\n",
       "    <tr>\n",
       "      <th>...</th>\n",
       "      <td>...</td>\n",
       "      <td>...</td>\n",
       "    </tr>\n",
       "    <tr>\n",
       "      <th>3775</th>\n",
       "      <td>{'booster': 'gblinear', 'eval_metric': 'rmse', 'gamma': 2, 'learning_rate': 0.01, 'max_depth': 3, 'min_child_weight': 5, 'random_state': 1, 'use_label_encoder': False}</td>\n",
       "      <td>0.827603</td>\n",
       "    </tr>\n",
       "    <tr>\n",
       "      <th>3776</th>\n",
       "      <td>{'booster': 'gblinear', 'eval_metric': 'logloss', 'gamma': 1, 'learning_rate': 0.01, 'max_depth': 6, 'min_child_weight': 10, 'random_state': 1, 'use_label_encoder': False}</td>\n",
       "      <td>0.827603</td>\n",
       "    </tr>\n",
       "    <tr>\n",
       "      <th>3777</th>\n",
       "      <td>{'booster': 'gblinear', 'eval_metric': 'error', 'gamma': 0.5, 'learning_rate': 0.01, 'max_depth': 5, 'min_child_weight': 10, 'random_state': 1, 'use_label_encoder': False}</td>\n",
       "      <td>0.827603</td>\n",
       "    </tr>\n",
       "    <tr>\n",
       "      <th>3778</th>\n",
       "      <td>{'booster': 'gblinear', 'eval_metric': 'rmse', 'gamma': 1, 'learning_rate': 0.01, 'max_depth': 4, 'min_child_weight': 10, 'random_state': 1, 'use_label_encoder': False}</td>\n",
       "      <td>0.827574</td>\n",
       "    </tr>\n",
       "    <tr>\n",
       "      <th>3779</th>\n",
       "      <td>{'booster': 'gblinear', 'eval_metric': 'logloss', 'gamma': 1, 'learning_rate': 0.01, 'max_depth': 3, 'min_child_weight': 10, 'random_state': 1, 'use_label_encoder': False}</td>\n",
       "      <td>0.827574</td>\n",
       "    </tr>\n",
       "  </tbody>\n",
       "</table>\n",
       "<p>3780 rows × 2 columns</p>\n",
       "</div>"
      ],
      "text/plain": [
       "                                                                                                                                                                           params  \\\n",
       "0          {'booster': 'gbtree', 'eval_metric': 'rmse', 'gamma': 0.5, 'learning_rate': 0.4, 'max_depth': 3, 'min_child_weight': 1, 'random_state': 1, 'use_label_encoder': False}   \n",
       "1           {'booster': 'dart', 'eval_metric': 'error', 'gamma': 0.5, 'learning_rate': 0.4, 'max_depth': 3, 'min_child_weight': 1, 'random_state': 1, 'use_label_encoder': False}   \n",
       "2         {'booster': 'dart', 'eval_metric': 'logloss', 'gamma': 0.5, 'learning_rate': 0.4, 'max_depth': 3, 'min_child_weight': 1, 'random_state': 1, 'use_label_encoder': False}   \n",
       "3       {'booster': 'gbtree', 'eval_metric': 'logloss', 'gamma': 0.5, 'learning_rate': 0.4, 'max_depth': 3, 'min_child_weight': 1, 'random_state': 1, 'use_label_encoder': False}   \n",
       "4         {'booster': 'gbtree', 'eval_metric': 'error', 'gamma': 0.5, 'learning_rate': 0.4, 'max_depth': 3, 'min_child_weight': 1, 'random_state': 1, 'use_label_encoder': False}   \n",
       "...                                                                                                                                                                           ...   \n",
       "3775      {'booster': 'gblinear', 'eval_metric': 'rmse', 'gamma': 2, 'learning_rate': 0.01, 'max_depth': 3, 'min_child_weight': 5, 'random_state': 1, 'use_label_encoder': False}   \n",
       "3776  {'booster': 'gblinear', 'eval_metric': 'logloss', 'gamma': 1, 'learning_rate': 0.01, 'max_depth': 6, 'min_child_weight': 10, 'random_state': 1, 'use_label_encoder': False}   \n",
       "3777  {'booster': 'gblinear', 'eval_metric': 'error', 'gamma': 0.5, 'learning_rate': 0.01, 'max_depth': 5, 'min_child_weight': 10, 'random_state': 1, 'use_label_encoder': False}   \n",
       "3778     {'booster': 'gblinear', 'eval_metric': 'rmse', 'gamma': 1, 'learning_rate': 0.01, 'max_depth': 4, 'min_child_weight': 10, 'random_state': 1, 'use_label_encoder': False}   \n",
       "3779  {'booster': 'gblinear', 'eval_metric': 'logloss', 'gamma': 1, 'learning_rate': 0.01, 'max_depth': 3, 'min_child_weight': 10, 'random_state': 1, 'use_label_encoder': False}   \n",
       "\n",
       "      mean_test_score  \n",
       "0            0.872155  \n",
       "1            0.872155  \n",
       "2            0.872155  \n",
       "3            0.872155  \n",
       "4            0.872155  \n",
       "...               ...  \n",
       "3775         0.827603  \n",
       "3776         0.827603  \n",
       "3777         0.827603  \n",
       "3778         0.827574  \n",
       "3779         0.827574  \n",
       "\n",
       "[3780 rows x 2 columns]"
      ]
     },
     "execution_count": 61,
     "metadata": {},
     "output_type": "execute_result"
    }
   ],
   "source": [
    "df = pd.DataFrame(xgb_grid.cv_results_)\n",
    "df = df.loc[:,['params', 'mean_test_score']]\n",
    "\n",
    "grid_search_results = df.sort_values('mean_test_score', ascending=False) \\\n",
    "                        .reset_index(drop=True)\n",
    "grid_search_results"
   ]
  },
  {
   "cell_type": "markdown",
   "id": "reliable-mongolia",
   "metadata": {},
   "source": [
    "Wyniki nie poprawiły się w znaczący sposób. Widać też, że wiele modeli osiąga identyczne wyniki. \n",
    "Przyjrzymy się pierwszym 10 modelom oraz przeprowadzimy crossvalidację na najlepszym modelu by móc porównać go z modelem początkowym."
   ]
  },
  {
   "cell_type": "code",
   "execution_count": 63,
   "id": "dirty-dancing",
   "metadata": {
    "scrolled": true
   },
   "outputs": [
    {
     "data": {
      "text/html": [
       "<div>\n",
       "<style scoped>\n",
       "    .dataframe tbody tr th:only-of-type {\n",
       "        vertical-align: middle;\n",
       "    }\n",
       "\n",
       "    .dataframe tbody tr th {\n",
       "        vertical-align: top;\n",
       "    }\n",
       "\n",
       "    .dataframe thead th {\n",
       "        text-align: right;\n",
       "    }\n",
       "</style>\n",
       "<table border=\"1\" class=\"dataframe\">\n",
       "  <thead>\n",
       "    <tr style=\"text-align: right;\">\n",
       "      <th></th>\n",
       "      <th>params</th>\n",
       "      <th>mean_test_score</th>\n",
       "    </tr>\n",
       "  </thead>\n",
       "  <tbody>\n",
       "    <tr>\n",
       "      <th>0</th>\n",
       "      <td>{'booster': 'gbtree', 'eval_metric': 'rmse', 'gamma': 0.5, 'learning_rate': 0.4, 'max_depth': 3, 'min_child_weight': 1, 'random_state': 1, 'use_label_encoder': False}</td>\n",
       "      <td>0.872155</td>\n",
       "    </tr>\n",
       "    <tr>\n",
       "      <th>1</th>\n",
       "      <td>{'booster': 'dart', 'eval_metric': 'error', 'gamma': 0.5, 'learning_rate': 0.4, 'max_depth': 3, 'min_child_weight': 1, 'random_state': 1, 'use_label_encoder': False}</td>\n",
       "      <td>0.872155</td>\n",
       "    </tr>\n",
       "    <tr>\n",
       "      <th>2</th>\n",
       "      <td>{'booster': 'dart', 'eval_metric': 'logloss', 'gamma': 0.5, 'learning_rate': 0.4, 'max_depth': 3, 'min_child_weight': 1, 'random_state': 1, 'use_label_encoder': False}</td>\n",
       "      <td>0.872155</td>\n",
       "    </tr>\n",
       "    <tr>\n",
       "      <th>3</th>\n",
       "      <td>{'booster': 'gbtree', 'eval_metric': 'logloss', 'gamma': 0.5, 'learning_rate': 0.4, 'max_depth': 3, 'min_child_weight': 1, 'random_state': 1, 'use_label_encoder': False}</td>\n",
       "      <td>0.872155</td>\n",
       "    </tr>\n",
       "    <tr>\n",
       "      <th>4</th>\n",
       "      <td>{'booster': 'gbtree', 'eval_metric': 'error', 'gamma': 0.5, 'learning_rate': 0.4, 'max_depth': 3, 'min_child_weight': 1, 'random_state': 1, 'use_label_encoder': False}</td>\n",
       "      <td>0.872155</td>\n",
       "    </tr>\n",
       "    <tr>\n",
       "      <th>5</th>\n",
       "      <td>{'booster': 'dart', 'eval_metric': 'rmse', 'gamma': 0.5, 'learning_rate': 0.4, 'max_depth': 3, 'min_child_weight': 1, 'random_state': 1, 'use_label_encoder': False}</td>\n",
       "      <td>0.872155</td>\n",
       "    </tr>\n",
       "    <tr>\n",
       "      <th>6</th>\n",
       "      <td>{'booster': 'dart', 'eval_metric': 'rmse', 'gamma': 2, 'learning_rate': 0.3, 'max_depth': 5, 'min_child_weight': 1, 'random_state': 1, 'use_label_encoder': False}</td>\n",
       "      <td>0.871536</td>\n",
       "    </tr>\n",
       "    <tr>\n",
       "      <th>7</th>\n",
       "      <td>{'booster': 'gbtree', 'eval_metric': 'logloss', 'gamma': 2, 'learning_rate': 0.3, 'max_depth': 5, 'min_child_weight': 1, 'random_state': 1, 'use_label_encoder': False}</td>\n",
       "      <td>0.871536</td>\n",
       "    </tr>\n",
       "    <tr>\n",
       "      <th>8</th>\n",
       "      <td>{'booster': 'gbtree', 'eval_metric': 'rmse', 'gamma': 2, 'learning_rate': 0.3, 'max_depth': 5, 'min_child_weight': 1, 'random_state': 1, 'use_label_encoder': False}</td>\n",
       "      <td>0.871536</td>\n",
       "    </tr>\n",
       "    <tr>\n",
       "      <th>9</th>\n",
       "      <td>{'booster': 'dart', 'eval_metric': 'logloss', 'gamma': 2, 'learning_rate': 0.3, 'max_depth': 5, 'min_child_weight': 1, 'random_state': 1, 'use_label_encoder': False}</td>\n",
       "      <td>0.871536</td>\n",
       "    </tr>\n",
       "  </tbody>\n",
       "</table>\n",
       "</div>"
      ],
      "text/plain": [
       "                                                                                                                                                                      params  \\\n",
       "0     {'booster': 'gbtree', 'eval_metric': 'rmse', 'gamma': 0.5, 'learning_rate': 0.4, 'max_depth': 3, 'min_child_weight': 1, 'random_state': 1, 'use_label_encoder': False}   \n",
       "1      {'booster': 'dart', 'eval_metric': 'error', 'gamma': 0.5, 'learning_rate': 0.4, 'max_depth': 3, 'min_child_weight': 1, 'random_state': 1, 'use_label_encoder': False}   \n",
       "2    {'booster': 'dart', 'eval_metric': 'logloss', 'gamma': 0.5, 'learning_rate': 0.4, 'max_depth': 3, 'min_child_weight': 1, 'random_state': 1, 'use_label_encoder': False}   \n",
       "3  {'booster': 'gbtree', 'eval_metric': 'logloss', 'gamma': 0.5, 'learning_rate': 0.4, 'max_depth': 3, 'min_child_weight': 1, 'random_state': 1, 'use_label_encoder': False}   \n",
       "4    {'booster': 'gbtree', 'eval_metric': 'error', 'gamma': 0.5, 'learning_rate': 0.4, 'max_depth': 3, 'min_child_weight': 1, 'random_state': 1, 'use_label_encoder': False}   \n",
       "5       {'booster': 'dart', 'eval_metric': 'rmse', 'gamma': 0.5, 'learning_rate': 0.4, 'max_depth': 3, 'min_child_weight': 1, 'random_state': 1, 'use_label_encoder': False}   \n",
       "6         {'booster': 'dart', 'eval_metric': 'rmse', 'gamma': 2, 'learning_rate': 0.3, 'max_depth': 5, 'min_child_weight': 1, 'random_state': 1, 'use_label_encoder': False}   \n",
       "7    {'booster': 'gbtree', 'eval_metric': 'logloss', 'gamma': 2, 'learning_rate': 0.3, 'max_depth': 5, 'min_child_weight': 1, 'random_state': 1, 'use_label_encoder': False}   \n",
       "8       {'booster': 'gbtree', 'eval_metric': 'rmse', 'gamma': 2, 'learning_rate': 0.3, 'max_depth': 5, 'min_child_weight': 1, 'random_state': 1, 'use_label_encoder': False}   \n",
       "9      {'booster': 'dart', 'eval_metric': 'logloss', 'gamma': 2, 'learning_rate': 0.3, 'max_depth': 5, 'min_child_weight': 1, 'random_state': 1, 'use_label_encoder': False}   \n",
       "\n",
       "   mean_test_score  \n",
       "0         0.872155  \n",
       "1         0.872155  \n",
       "2         0.872155  \n",
       "3         0.872155  \n",
       "4         0.872155  \n",
       "5         0.872155  \n",
       "6         0.871536  \n",
       "7         0.871536  \n",
       "8         0.871536  \n",
       "9         0.871536  "
      ]
     },
     "execution_count": 63,
     "metadata": {},
     "output_type": "execute_result"
    }
   ],
   "source": [
    "top10 = grid_search_results.iloc[:10, :]\n",
    "\n",
    "top10"
   ]
  },
  {
   "cell_type": "markdown",
   "id": "flush-grave",
   "metadata": {},
   "source": [
    "Wybieramy najlepszy model i testujemy go tak jak model początkowy."
   ]
  },
  {
   "cell_type": "code",
   "execution_count": 62,
   "id": "included-consensus",
   "metadata": {},
   "outputs": [
    {
     "name": "stdout",
     "output_type": "stream",
     "text": [
      "5-fold CV results\n",
      "XGBClassifier train accuracy : 87.69% +- 0.06%\n",
      "XGBClassifier test accuracy : 87.05% +- 0.35%\n",
      "\n",
      "XGBClassifier test F1 : 71.45% +- 0.79%\n",
      "XGBClassifier test ROC AUC : 92.73% +- 0.32%\n",
      "XGBClassifier fit time : 1.7649950981140137\n",
      "\n"
     ]
    }
   ],
   "source": [
    "xg_boost_best = XGBClassifier(booster='gbtree', \n",
    "                              eval_metric='rmse',\n",
    "                              gamma=0.5,\n",
    "                              learning_rate=0.4,\n",
    "                              max_depth=3,\n",
    "                              min_child_weight=1,\n",
    "                              random_state=1,\n",
    "                              use_label_encoder=False)\n",
    "\n",
    "res = cross_val(xg_boost_best)\n",
    "\n",
    "insert_results_to_df(t, res, 'XGBoost best GS')"
   ]
  },
  {
   "cell_type": "code",
   "execution_count": 63,
   "id": "structural-benjamin",
   "metadata": {},
   "outputs": [
    {
     "data": {
      "text/html": [
       "<div>\n",
       "<style scoped>\n",
       "    .dataframe tbody tr th:only-of-type {\n",
       "        vertical-align: middle;\n",
       "    }\n",
       "\n",
       "    .dataframe tbody tr th {\n",
       "        vertical-align: top;\n",
       "    }\n",
       "\n",
       "    .dataframe thead th {\n",
       "        text-align: right;\n",
       "    }\n",
       "</style>\n",
       "<table border=\"1\" class=\"dataframe\">\n",
       "  <thead>\n",
       "    <tr style=\"text-align: right;\">\n",
       "      <th></th>\n",
       "      <th>accuracy</th>\n",
       "      <th>roc auc</th>\n",
       "      <th>f1</th>\n",
       "    </tr>\n",
       "  </thead>\n",
       "  <tbody>\n",
       "    <tr>\n",
       "      <th>XGBoost initial</th>\n",
       "      <td>0.869590</td>\n",
       "      <td>0.927138</td>\n",
       "      <td>0.715033</td>\n",
       "    </tr>\n",
       "    <tr>\n",
       "      <th>XGBoost best GS</th>\n",
       "      <td>0.870474</td>\n",
       "      <td>0.927280</td>\n",
       "      <td>0.714495</td>\n",
       "    </tr>\n",
       "  </tbody>\n",
       "</table>\n",
       "</div>"
      ],
      "text/plain": [
       "                 accuracy   roc auc        f1\n",
       "XGBoost initial  0.869590  0.927138  0.715033\n",
       "XGBoost best GS  0.870474  0.927280  0.714495"
      ]
     },
     "execution_count": 63,
     "metadata": {},
     "output_type": "execute_result"
    }
   ],
   "source": [
    "t"
   ]
  },
  {
   "cell_type": "markdown",
   "id": "herbal-lexington",
   "metadata": {},
   "source": [
    "### Wnioski\n",
    "W każdym z najlepszych modeli jest `learning rate=0.4`, `max_depth=3`,`min_child_weight=1`oraz `gamma=0.5`, widać że metryka nie ma wielkiego wpływu i że booster `gbtree` i `dart` są zbliżone. \n",
    "\n",
    "Najlepszy model osiąga lepsze wyniki niż model bazowy."
   ]
  },
  {
   "cell_type": "markdown",
   "id": "closed-scanner",
   "metadata": {},
   "source": [
    "## Selekcja zmiennych"
   ]
  },
  {
   "cell_type": "markdown",
   "id": "determined-coordination",
   "metadata": {},
   "source": [
    "### SelectKbest"
   ]
  },
  {
   "cell_type": "code",
   "execution_count": 77,
   "id": "endless-framing",
   "metadata": {},
   "outputs": [],
   "source": [
    "from sklearn.feature_selection import SelectKBest\n",
    "\n",
    "selector = SelectKBest(k=30)\n",
    "selector.fit_transform(X_train, y_train)\n",
    "\n",
    "selected = selector.get_support()"
   ]
  },
  {
   "cell_type": "code",
   "execution_count": 82,
   "id": "reverse-unemployment",
   "metadata": {},
   "outputs": [
    {
     "name": "stdout",
     "output_type": "stream",
     "text": [
      "5-fold CV results\n",
      "XGBClassifier train accuracy : 87.16% +- 0.06%\n",
      "XGBClassifier test accuracy : 86.65% +- 0.27%\n",
      "\n",
      "XGBClassifier test F1 : 70.32% +- 0.60%\n",
      "XGBClassifier test ROC AUC : 92.50% +- 0.36%\n",
      "XGBClassifier fit time : 1.3052058219909668\n",
      "\n"
     ]
    }
   ],
   "source": [
    "res = cross_val(xg_boost_best, cols=selected)\n",
    "insert_results_to_df(t, res, 'XGBoost best 30')"
   ]
  },
  {
   "cell_type": "markdown",
   "id": "starting-objective",
   "metadata": {},
   "source": [
    "Zostawienie jedynie 30 zmiennych trochę pogorszyło jakość modelu."
   ]
  },
  {
   "cell_type": "code",
   "execution_count": 83,
   "id": "severe-interview",
   "metadata": {
    "scrolled": true
   },
   "outputs": [
    {
     "name": "stdout",
     "output_type": "stream",
     "text": [
      "5-fold CV results\n",
      "XGBClassifier train accuracy : 87.60% +- 0.07%\n",
      "XGBClassifier test accuracy : 87.00% +- 0.30%\n",
      "\n",
      "XGBClassifier test F1 : 71.35% +- 0.74%\n",
      "XGBClassifier test ROC AUC : 92.71% +- 0.32%\n",
      "XGBClassifier fit time : 1.5544206619262695\n",
      "\n"
     ]
    }
   ],
   "source": [
    "selector = SelectKBest(k=40)\n",
    "selector.fit_transform(X_train, y_train)\n",
    "\n",
    "selected = selector.get_support()\n",
    "\n",
    "res = cross_val(xg_boost_best, cols=selected)\n",
    "\n",
    "insert_results_to_df(t, res, 'XGBoost best 40')"
   ]
  },
  {
   "cell_type": "markdown",
   "id": "intermediate-weather",
   "metadata": {},
   "source": [
    "Zostawienie 40 zmiennych daje lepsze efekty niż przy 30, jednak nadal jest to gorszy wynik niż model ze wszystkimi zmiennymi."
   ]
  },
  {
   "cell_type": "code",
   "execution_count": 84,
   "id": "hourly-visitor",
   "metadata": {},
   "outputs": [
    {
     "name": "stdout",
     "output_type": "stream",
     "text": [
      "5-fold CV results\n",
      "XGBClassifier train accuracy : 87.69% +- 0.07%\n",
      "XGBClassifier test accuracy : 87.04% +- 0.35%\n",
      "\n",
      "XGBClassifier test F1 : 71.44% +- 0.74%\n",
      "XGBClassifier test ROC AUC : 92.74% +- 0.34%\n",
      "XGBClassifier fit time : 1.109172248840332\n",
      "\n"
     ]
    }
   ],
   "source": [
    "selector = SelectKBest(k=46)\n",
    "selector.fit_transform(X_train, y_train)\n",
    "\n",
    "selected = selector.get_support()\n",
    "\n",
    "res = cross_val(xg_boost_best, cols=selected)\n",
    "\n",
    "insert_results_to_df(t, res, 'XGBoost best 46')"
   ]
  },
  {
   "cell_type": "code",
   "execution_count": 88,
   "id": "timely-snowboard",
   "metadata": {},
   "outputs": [
    {
     "data": {
      "text/html": [
       "<div>\n",
       "<style scoped>\n",
       "    .dataframe tbody tr th:only-of-type {\n",
       "        vertical-align: middle;\n",
       "    }\n",
       "\n",
       "    .dataframe tbody tr th {\n",
       "        vertical-align: top;\n",
       "    }\n",
       "\n",
       "    .dataframe thead th {\n",
       "        text-align: right;\n",
       "    }\n",
       "</style>\n",
       "<table border=\"1\" class=\"dataframe\">\n",
       "  <thead>\n",
       "    <tr style=\"text-align: right;\">\n",
       "      <th></th>\n",
       "      <th>accuracy</th>\n",
       "      <th>roc auc</th>\n",
       "      <th>f1</th>\n",
       "    </tr>\n",
       "  </thead>\n",
       "  <tbody>\n",
       "    <tr>\n",
       "      <th>XGBoost best GS</th>\n",
       "      <td>0.870474</td>\n",
       "      <td>0.927280</td>\n",
       "      <td>0.714495</td>\n",
       "    </tr>\n",
       "    <tr>\n",
       "      <th>XGBoost best GS2</th>\n",
       "      <td>0.870415</td>\n",
       "      <td>0.927032</td>\n",
       "      <td>0.714842</td>\n",
       "    </tr>\n",
       "    <tr>\n",
       "      <th>XGBoost best 46</th>\n",
       "      <td>0.870415</td>\n",
       "      <td>0.927431</td>\n",
       "      <td>0.714378</td>\n",
       "    </tr>\n",
       "    <tr>\n",
       "      <th>XGBoost best 40</th>\n",
       "      <td>0.870002</td>\n",
       "      <td>0.927106</td>\n",
       "      <td>0.713468</td>\n",
       "    </tr>\n",
       "    <tr>\n",
       "      <th>XGBoost initial</th>\n",
       "      <td>0.869590</td>\n",
       "      <td>0.927138</td>\n",
       "      <td>0.715033</td>\n",
       "    </tr>\n",
       "    <tr>\n",
       "      <th>XGBoost best 30</th>\n",
       "      <td>0.866494</td>\n",
       "      <td>0.925001</td>\n",
       "      <td>0.703236</td>\n",
       "    </tr>\n",
       "  </tbody>\n",
       "</table>\n",
       "</div>"
      ],
      "text/plain": [
       "                  accuracy   roc auc        f1\n",
       "XGBoost best GS   0.870474  0.927280  0.714495\n",
       "XGBoost best GS2  0.870415  0.927032  0.714842\n",
       "XGBoost best 46   0.870415  0.927431  0.714378\n",
       "XGBoost best 40   0.870002  0.927106  0.713468\n",
       "XGBoost initial   0.869590  0.927138  0.715033\n",
       "XGBoost best 30   0.866494  0.925001  0.703236"
      ]
     },
     "execution_count": 88,
     "metadata": {},
     "output_type": "execute_result"
    }
   ],
   "source": [
    "t.sort_values(by=['accuracy'], ascending=False)"
   ]
  },
  {
   "cell_type": "markdown",
   "id": "strange-growth",
   "metadata": {},
   "source": [
    "#### Wnioski\n",
    "W przypadku tego modelu redukcja zmiennych nie wnosi korzyści.\n",
    "Spróbujemy teraz dokonać redukcji metodą Recursive Feature Elimination."
   ]
  },
  {
   "cell_type": "markdown",
   "id": "systematic-transfer",
   "metadata": {},
   "source": [
    "### Recursive Feature Elimination"
   ]
  },
  {
   "cell_type": "code",
   "execution_count": 89,
   "id": "brave-meter",
   "metadata": {},
   "outputs": [
    {
     "name": "stdout",
     "output_type": "stream",
     "text": [
      "5-fold CV results\n",
      "XGBClassifier train accuracy : 87.73% +- 0.06%\n",
      "XGBClassifier test accuracy : 87.03% +- 0.44%\n",
      "\n",
      "XGBClassifier test F1 : 71.42% +- 1.00%\n",
      "XGBClassifier test ROC AUC : 92.75% +- 0.32%\n",
      "XGBClassifier fit time : 1.6363305568695068\n",
      "\n"
     ]
    }
   ],
   "source": [
    "from sklearn.feature_selection import RFE\n",
    "\n",
    "rfe_selector = RFE(xg_boost_best, n_features_to_select=40, step=1)\n",
    "rfe_selector = rfe_selector.fit(X_train, y_train)\n",
    "\n",
    "res = cross_val(xg_boost_best, cols=rfe_selector.support_)\n",
    "\n",
    "insert_results_to_df(t, res, 'XGBoost best 40 RFE')"
   ]
  },
  {
   "cell_type": "code",
   "execution_count": 113,
   "id": "federal-surfing",
   "metadata": {},
   "outputs": [
    {
     "name": "stdout",
     "output_type": "stream",
     "text": [
      "5-fold CV results\n",
      "XGBClassifier train accuracy : 87.69% +- 0.08%\n",
      "XGBClassifier test accuracy : 87.07% +- 0.39%\n",
      "\n",
      "XGBClassifier test F1 : 71.49% +- 0.90%\n",
      "XGBClassifier test ROC AUC : 92.71% +- 0.33%\n",
      "XGBClassifier fit time : 1.728564977645874\n",
      "\n"
     ]
    }
   ],
   "source": [
    "rfe_selector2 = RFE(xg_boost_best, n_features_to_select=45, step=1)\n",
    "rfe_selector2 = rfe_selector2.fit(X_train, y_train) \n",
    "\n",
    "res = cross_val(xg_boost_best, cols=rfe_selector2.support_)\n",
    "\n",
    "insert_results_to_df(t, res, 'XGBoost best 45 RFE')"
   ]
  },
  {
   "cell_type": "code",
   "execution_count": 91,
   "id": "humanitarian-shooting",
   "metadata": {},
   "outputs": [
    {
     "name": "stdout",
     "output_type": "stream",
     "text": [
      "5-fold CV results\n",
      "XGBClassifier train accuracy : 87.69% +- 0.06%\n",
      "XGBClassifier test accuracy : 87.05% +- 0.35%\n",
      "\n",
      "XGBClassifier test F1 : 71.45% +- 0.79%\n",
      "XGBClassifier test ROC AUC : 92.73% +- 0.32%\n",
      "XGBClassifier fit time : 1.6473766326904298\n",
      "\n"
     ]
    }
   ],
   "source": [
    "rfe_selector = RFE(xg_boost_best, n_features_to_select=47, step=1)\n",
    "rfe_selector = rfe_selector.fit(X_train, y_train) \n",
    "\n",
    "res = cross_val(xg_boost_best, cols=rfe_selector.support_)\n",
    "\n",
    "insert_results_to_df(t, res, 'XGBoost best 47 RFE')"
   ]
  },
  {
   "cell_type": "code",
   "execution_count": 92,
   "id": "played-provision",
   "metadata": {
    "scrolled": true
   },
   "outputs": [
    {
     "data": {
      "text/html": [
       "<div>\n",
       "<style scoped>\n",
       "    .dataframe tbody tr th:only-of-type {\n",
       "        vertical-align: middle;\n",
       "    }\n",
       "\n",
       "    .dataframe tbody tr th {\n",
       "        vertical-align: top;\n",
       "    }\n",
       "\n",
       "    .dataframe thead th {\n",
       "        text-align: right;\n",
       "    }\n",
       "</style>\n",
       "<table border=\"1\" class=\"dataframe\">\n",
       "  <thead>\n",
       "    <tr style=\"text-align: right;\">\n",
       "      <th></th>\n",
       "      <th>accuracy</th>\n",
       "      <th>roc auc</th>\n",
       "      <th>f1</th>\n",
       "    </tr>\n",
       "  </thead>\n",
       "  <tbody>\n",
       "    <tr>\n",
       "      <th>XGBoost best 45 RFE</th>\n",
       "      <td>0.870740</td>\n",
       "      <td>0.927096</td>\n",
       "      <td>0.714907</td>\n",
       "    </tr>\n",
       "    <tr>\n",
       "      <th>XGBoost best GS</th>\n",
       "      <td>0.870474</td>\n",
       "      <td>0.927280</td>\n",
       "      <td>0.714495</td>\n",
       "    </tr>\n",
       "    <tr>\n",
       "      <th>XGBoost best 47 RFE</th>\n",
       "      <td>0.870474</td>\n",
       "      <td>0.927280</td>\n",
       "      <td>0.714495</td>\n",
       "    </tr>\n",
       "    <tr>\n",
       "      <th>XGBoost best GS2</th>\n",
       "      <td>0.870415</td>\n",
       "      <td>0.927032</td>\n",
       "      <td>0.714842</td>\n",
       "    </tr>\n",
       "    <tr>\n",
       "      <th>XGBoost best 46</th>\n",
       "      <td>0.870415</td>\n",
       "      <td>0.927431</td>\n",
       "      <td>0.714378</td>\n",
       "    </tr>\n",
       "    <tr>\n",
       "      <th>XGBoost best 40 RFE</th>\n",
       "      <td>0.870268</td>\n",
       "      <td>0.927484</td>\n",
       "      <td>0.714233</td>\n",
       "    </tr>\n",
       "    <tr>\n",
       "      <th>XGBoost best 40</th>\n",
       "      <td>0.870002</td>\n",
       "      <td>0.927106</td>\n",
       "      <td>0.713468</td>\n",
       "    </tr>\n",
       "    <tr>\n",
       "      <th>XGBoost initial</th>\n",
       "      <td>0.869590</td>\n",
       "      <td>0.927138</td>\n",
       "      <td>0.715033</td>\n",
       "    </tr>\n",
       "    <tr>\n",
       "      <th>XGBoost best 30</th>\n",
       "      <td>0.866494</td>\n",
       "      <td>0.925001</td>\n",
       "      <td>0.703236</td>\n",
       "    </tr>\n",
       "  </tbody>\n",
       "</table>\n",
       "</div>"
      ],
      "text/plain": [
       "                     accuracy   roc auc        f1\n",
       "XGBoost best 45 RFE  0.870740  0.927096  0.714907\n",
       "XGBoost best GS      0.870474  0.927280  0.714495\n",
       "XGBoost best 47 RFE  0.870474  0.927280  0.714495\n",
       "XGBoost best GS2     0.870415  0.927032  0.714842\n",
       "XGBoost best 46      0.870415  0.927431  0.714378\n",
       "XGBoost best 40 RFE  0.870268  0.927484  0.714233\n",
       "XGBoost best 40      0.870002  0.927106  0.713468\n",
       "XGBoost initial      0.869590  0.927138  0.715033\n",
       "XGBoost best 30      0.866494  0.925001  0.703236"
      ]
     },
     "execution_count": 92,
     "metadata": {},
     "output_type": "execute_result"
    }
   ],
   "source": [
    "t.sort_values(by=['accuracy'], ascending=False)"
   ]
  },
  {
   "cell_type": "markdown",
   "id": "weird-tablet",
   "metadata": {},
   "source": [
    "### Potencjalne kolumny do odrzucenia"
   ]
  },
  {
   "cell_type": "code",
   "execution_count": 114,
   "id": "individual-netherlands",
   "metadata": {},
   "outputs": [
    {
     "data": {
      "text/plain": [
       "Index(['occupation_Armed-Forces', 'sex_Female'], dtype='object')"
      ]
     },
     "execution_count": 114,
     "metadata": {},
     "output_type": "execute_result"
    }
   ],
   "source": [
    "cols = -(rfe_selector.support_.astype('int16') - 1)\n",
    "cols = cols.astype('bool')\n",
    "X_train.loc[:,cols].columns"
   ]
  },
  {
   "cell_type": "code",
   "execution_count": 115,
   "id": "based-timing",
   "metadata": {},
   "outputs": [
    {
     "data": {
      "text/plain": [
       "Index(['workclass_Without-pay', 'marital_status_Separated',\n",
       "       'occupation_Armed-Forces', 'sex_Female'],\n",
       "      dtype='object')"
      ]
     },
     "execution_count": 115,
     "metadata": {},
     "output_type": "execute_result"
    }
   ],
   "source": [
    "cols2 = -(rfe_selector2.support_.astype('int16') - 1)\n",
    "cols2 = cols2.astype('bool')\n",
    "X_train.loc[:,cols2].columns"
   ]
  },
  {
   "cell_type": "markdown",
   "id": "optimum-least",
   "metadata": {},
   "source": [
    "### Obserwacje\n",
    "Przy usunięciu 2 zmiennych - `sex_Female`oraz `occupation_Armed-Forces`  model osiąga nieznacznie wyższe wyniki niż z nimi. Jednak różnice są tak małe, że może to być kwestia doboru zbioru treningowego."
   ]
  },
  {
   "cell_type": "markdown",
   "id": "accurate-popularity",
   "metadata": {},
   "source": [
    "### Weryfikacja na zbiorze testowym"
   ]
  },
  {
   "cell_type": "code",
   "execution_count": 118,
   "id": "declared-lover",
   "metadata": {},
   "outputs": [
    {
     "data": {
      "text/plain": [
       "0.8712188218644967"
      ]
     },
     "execution_count": 118,
     "metadata": {},
     "output_type": "execute_result"
    }
   ],
   "source": [
    "xg_boost_best.fit(X_train, y_train)\n",
    "y_pred = xg_boost_best.predict(X_test)\n",
    "accuracy_score(y_pred, y_test)"
   ]
  },
  {
   "cell_type": "markdown",
   "id": "graduate-combine",
   "metadata": {},
   "source": [
    "Weryfikacja okazała się miłym zaskoczeniem. Nie doświadczyliśmy overfittingu.\n",
    "Sprawdźmy co jesli usuniemy kolumny `sex_Female` oraz `occupation_Armed-Forces`."
   ]
  },
  {
   "cell_type": "code",
   "execution_count": 122,
   "id": "major-phenomenon",
   "metadata": {},
   "outputs": [
    {
     "data": {
      "text/plain": [
       "0.8712188218644967"
      ]
     },
     "execution_count": 122,
     "metadata": {},
     "output_type": "execute_result"
    }
   ],
   "source": [
    "xg_boost_best = XGBClassifier(booster='gbtree', \n",
    "                              eval_metric='rmse',\n",
    "                              gamma=0.5,\n",
    "                              learning_rate=0.4,\n",
    "                              max_depth=3,\n",
    "                              min_child_weight=1,\n",
    "                              random_state=1,\n",
    "                              use_label_encoder=False)\n",
    "xg_boost_best.fit(X_train.drop(columns=['occupation_Armed-Forces', 'sex_Female']), y_train)\n",
    "\n",
    "y_pred = xg_boost_best.predict(X_test.drop(columns=['occupation_Armed-Forces', 'sex_Female']))\n",
    "accuracy_score(y_pred, y_test)"
   ]
  },
  {
   "cell_type": "markdown",
   "id": "ahead-battery",
   "metadata": {},
   "source": [
    "Wynik się nie zmienił dlatego porzucimy te dwie kolumny w finalnym modelu."
   ]
  },
  {
   "cell_type": "markdown",
   "id": "north-directive",
   "metadata": {},
   "source": [
    "## CatBoostClassifier"
   ]
  },
  {
   "cell_type": "code",
   "execution_count": 159,
   "id": "happy-generic",
   "metadata": {},
   "outputs": [
    {
     "name": "stdout",
     "output_type": "stream",
     "text": [
      "5-fold CV results\n",
      "CatBoostClassifier train accuracy : 88.85% +- 0.14%\n",
      "CatBoostClassifier test accuracy : 87.04% +- 0.35%\n",
      "\n",
      "CatBoostClassifier test F1 : 71.47% +- 0.87%\n",
      "CatBoostClassifier test ROC AUC : 92.77% +- 0.32%\n",
      "CatBoostClassifier fit time : 14.27340931892395\n",
      "\n"
     ]
    }
   ],
   "source": [
    "catboost_base = CatBoostClassifier(learning_rate=0.04, depth=6, verbose = False)\n",
    "\n",
    "res = cross_val(catboost_base)\n",
    "insert_results_to_df(t, res, 'CatBoost initial')"
   ]
  },
  {
   "cell_type": "markdown",
   "id": "primary-backing",
   "metadata": {},
   "source": [
    "### Optymalizowane parametry:\n",
    "- iterations (100)\n",
    "- l2_leaf_reg\n",
    "- min_data_in_leaf\n",
    "- grow_policy\n",
    "- learning_rate\n",
    "- depth\n",
    "\n",
    "### Grid Search"
   ]
  },
  {
   "cell_type": "code",
   "execution_count": 145,
   "id": "direct-mexican",
   "metadata": {},
   "outputs": [
    {
     "data": {
      "text/plain": [
       "GridSearchCV(cv=3,\n",
       "             estimator=<catboost.core.CatBoostClassifier object at 0x000002B1014474F0>,\n",
       "             n_jobs=-1,\n",
       "             param_grid={'depth': [3, 4, 5, 6],\n",
       "                         'grow_policy': ['SymmetricTree', 'Depthwise'],\n",
       "                         'l2_leaf_reg': [1, 2],\n",
       "                         'learning_rate': [0.04, 0.1, 0.2, 0.3, 0.4, 0.5],\n",
       "                         'min_data_in_leaf': [2, 3, 4]})"
      ]
     },
     "execution_count": 145,
     "metadata": {},
     "output_type": "execute_result"
    }
   ],
   "source": [
    "cat_boost = CatBoostClassifier(loss_function='Logloss', silent=True)\n",
    "grid = {'l2_leaf_reg': [1, 2],\n",
    "        'min_data_in_leaf': [2, 3, 4],\n",
    "        'grow_policy' : ['SymmetricTree', 'Depthwise'],\n",
    "        'learning_rate': [0.04, 0.1, 0.2, 0.3, 0.4, 0.5],\n",
    "        'depth': [3, 4, 5, 6]}\n",
    "\n",
    "cat_grid = GridSearchCV(model, grid, cv=3, n_jobs=-1)\n",
    "cat_grid.fit(X_train, y_train)"
   ]
  },
  {
   "cell_type": "code",
   "execution_count": 146,
   "id": "induced-traffic",
   "metadata": {
    "scrolled": true
   },
   "outputs": [
    {
     "data": {
      "text/plain": [
       "{'depth': 3,\n",
       " 'grow_policy': 'Depthwise',\n",
       " 'l2_leaf_reg': 2,\n",
       " 'learning_rate': 0.04,\n",
       " 'min_data_in_leaf': 2}"
      ]
     },
     "execution_count": 146,
     "metadata": {},
     "output_type": "execute_result"
    }
   ],
   "source": [
    "df = pd.DataFrame(cat_grid.cv_results_)\n",
    "df = df.loc[:,['params', 'mean_test_score']]\n",
    "\n",
    "grid_search_results = df.sort_values('mean_test_score', ascending=False) \\\n",
    "                        .reset_index(drop=True)\n",
    "grid_search_results.iloc[0:4, 0] #najlepsze uzyskane wyniki\n",
    "grid_search_results.iloc[0, 0]"
   ]
  },
  {
   "cell_type": "code",
   "execution_count": 151,
   "id": "limiting-projection",
   "metadata": {},
   "outputs": [
    {
     "name": "stdout",
     "output_type": "stream",
     "text": [
      "5-fold CV results\n",
      "CatBoostClassifier train accuracy : 87.84% +- 0.06%\n",
      "CatBoostClassifier test accuracy : 87.14% +- 0.34%\n",
      "\n",
      "CatBoostClassifier test F1 : 71.63% +- 0.79%\n",
      "CatBoostClassifier test ROC AUC : 92.79% +- 0.32%\n",
      "CatBoostClassifier fit time : 12.363013505935669\n",
      "\n"
     ]
    }
   ],
   "source": [
    "cat_boost_best = CatBoostClassifier(loss_function='Logloss', silent=True, depth=3, grow_policy='Depthwise', l2_leaf_reg=2, learning_rate=0.04, min_data_in_leaf=2)\n",
    "res = cross_val(cat_boost_best)\n",
    "insert_results_to_df(t, res, 'CatBoost best GS')"
   ]
  },
  {
   "cell_type": "code",
   "execution_count": 158,
   "id": "innovative-empire",
   "metadata": {},
   "outputs": [
    {
     "data": {
      "text/html": [
       "<div>\n",
       "<style scoped>\n",
       "    .dataframe tbody tr th:only-of-type {\n",
       "        vertical-align: middle;\n",
       "    }\n",
       "\n",
       "    .dataframe tbody tr th {\n",
       "        vertical-align: top;\n",
       "    }\n",
       "\n",
       "    .dataframe thead th {\n",
       "        text-align: right;\n",
       "    }\n",
       "</style>\n",
       "<table border=\"1\" class=\"dataframe\">\n",
       "  <thead>\n",
       "    <tr style=\"text-align: right;\">\n",
       "      <th></th>\n",
       "      <th>accuracy</th>\n",
       "      <th>roc auc</th>\n",
       "      <th>f1</th>\n",
       "    </tr>\n",
       "  </thead>\n",
       "  <tbody>\n",
       "    <tr>\n",
       "      <th>XGBoost initial</th>\n",
       "      <td>0.869590</td>\n",
       "      <td>0.927138</td>\n",
       "      <td>0.715033</td>\n",
       "    </tr>\n",
       "    <tr>\n",
       "      <th>XGBoost best GS</th>\n",
       "      <td>0.870474</td>\n",
       "      <td>0.927280</td>\n",
       "      <td>0.714495</td>\n",
       "    </tr>\n",
       "    <tr>\n",
       "      <th>XGBoost best GS2</th>\n",
       "      <td>0.870415</td>\n",
       "      <td>0.927032</td>\n",
       "      <td>0.714842</td>\n",
       "    </tr>\n",
       "    <tr>\n",
       "      <th>XGBoost best 30</th>\n",
       "      <td>0.866494</td>\n",
       "      <td>0.925001</td>\n",
       "      <td>0.703236</td>\n",
       "    </tr>\n",
       "    <tr>\n",
       "      <th>XGBoost best 40</th>\n",
       "      <td>0.870002</td>\n",
       "      <td>0.927106</td>\n",
       "      <td>0.713468</td>\n",
       "    </tr>\n",
       "    <tr>\n",
       "      <th>XGBoost best 46</th>\n",
       "      <td>0.870415</td>\n",
       "      <td>0.927431</td>\n",
       "      <td>0.714378</td>\n",
       "    </tr>\n",
       "    <tr>\n",
       "      <th>XGBoost best 40 RFE</th>\n",
       "      <td>0.870268</td>\n",
       "      <td>0.927484</td>\n",
       "      <td>0.714233</td>\n",
       "    </tr>\n",
       "    <tr>\n",
       "      <th>XGBoost best 45 RFE</th>\n",
       "      <td>0.870740</td>\n",
       "      <td>0.927096</td>\n",
       "      <td>0.714907</td>\n",
       "    </tr>\n",
       "    <tr>\n",
       "      <th>XGBoost best 47 RFE</th>\n",
       "      <td>0.870474</td>\n",
       "      <td>0.927280</td>\n",
       "      <td>0.714495</td>\n",
       "    </tr>\n",
       "    <tr>\n",
       "      <th>CatBoost best GS</th>\n",
       "      <td>0.871418</td>\n",
       "      <td>0.927888</td>\n",
       "      <td>0.716308</td>\n",
       "    </tr>\n",
       "    <tr>\n",
       "      <th>CatBoost best 44</th>\n",
       "      <td>0.871182</td>\n",
       "      <td>0.927262</td>\n",
       "      <td>0.716044</td>\n",
       "    </tr>\n",
       "  </tbody>\n",
       "</table>\n",
       "</div>"
      ],
      "text/plain": [
       "                     accuracy   roc auc        f1\n",
       "XGBoost initial      0.869590  0.927138  0.715033\n",
       "XGBoost best GS      0.870474  0.927280  0.714495\n",
       "XGBoost best GS2     0.870415  0.927032  0.714842\n",
       "XGBoost best 30      0.866494  0.925001  0.703236\n",
       "XGBoost best 40      0.870002  0.927106  0.713468\n",
       "XGBoost best 46      0.870415  0.927431  0.714378\n",
       "XGBoost best 40 RFE  0.870268  0.927484  0.714233\n",
       "XGBoost best 45 RFE  0.870740  0.927096  0.714907\n",
       "XGBoost best 47 RFE  0.870474  0.927280  0.714495\n",
       "CatBoost best GS     0.871418  0.927888  0.716308\n",
       "CatBoost best 44     0.871182  0.927262  0.716044"
      ]
     },
     "execution_count": 158,
     "metadata": {},
     "output_type": "execute_result"
    }
   ],
   "source": [
    "t"
   ]
  },
  {
   "cell_type": "markdown",
   "id": "significant-montana",
   "metadata": {},
   "source": [
    " #### Najlepsze parametry :\n",
    "`depth=3`, `grow_policy=Depthwise`,\n",
    " `iterations=100`,\n",
    " `l2_leaf_reg=2`,\n",
    " `learning_rate=0.04`,\n",
    " `min_data_in_leaf=2`"
   ]
  },
  {
   "cell_type": "markdown",
   "id": "processed-prophet",
   "metadata": {},
   "source": [
    "### Selekcja Zmiennych"
   ]
  },
  {
   "cell_type": "code",
   "execution_count": 135,
   "id": "wicked-lawsuit",
   "metadata": {},
   "outputs": [
    {
     "data": {
      "text/html": [
       "<div>\n",
       "<style scoped>\n",
       "    .dataframe tbody tr th:only-of-type {\n",
       "        vertical-align: middle;\n",
       "    }\n",
       "\n",
       "    .dataframe tbody tr th {\n",
       "        vertical-align: top;\n",
       "    }\n",
       "\n",
       "    .dataframe thead th {\n",
       "        text-align: right;\n",
       "    }\n",
       "</style>\n",
       "<table border=\"1\" class=\"dataframe\">\n",
       "  <thead>\n",
       "    <tr style=\"text-align: right;\">\n",
       "      <th></th>\n",
       "      <th>name</th>\n",
       "      <th>importance</th>\n",
       "    </tr>\n",
       "  </thead>\n",
       "  <tbody>\n",
       "    <tr>\n",
       "      <th>0</th>\n",
       "      <td>age</td>\n",
       "      <td>0.000000e+00</td>\n",
       "    </tr>\n",
       "    <tr>\n",
       "      <th>29</th>\n",
       "      <td>relationship_Own-child</td>\n",
       "      <td>0.000000e+00</td>\n",
       "    </tr>\n",
       "    <tr>\n",
       "      <th>33</th>\n",
       "      <td>sex_Male</td>\n",
       "      <td>0.000000e+00</td>\n",
       "    </tr>\n",
       "    <tr>\n",
       "      <th>14</th>\n",
       "      <td>occupation_Exec-managerial</td>\n",
       "      <td>0.000000e+00</td>\n",
       "    </tr>\n",
       "    <tr>\n",
       "      <th>27</th>\n",
       "      <td>relationship_Husband</td>\n",
       "      <td>0.000000e+00</td>\n",
       "    </tr>\n",
       "    <tr>\n",
       "      <th>35</th>\n",
       "      <td>capital_gain</td>\n",
       "      <td>0.000000e+00</td>\n",
       "    </tr>\n",
       "    <tr>\n",
       "      <th>8</th>\n",
       "      <td>marital_status_Married-civ-spouse</td>\n",
       "      <td>0.000000e+00</td>\n",
       "    </tr>\n",
       "    <tr>\n",
       "      <th>34</th>\n",
       "      <td>sex_Female</td>\n",
       "      <td>0.000000e+00</td>\n",
       "    </tr>\n",
       "    <tr>\n",
       "      <th>6</th>\n",
       "      <td>education_num</td>\n",
       "      <td>0.000000e+00</td>\n",
       "    </tr>\n",
       "    <tr>\n",
       "      <th>7</th>\n",
       "      <td>marital_status_Never-married</td>\n",
       "      <td>0.000000e+00</td>\n",
       "    </tr>\n",
       "    <tr>\n",
       "      <th>39</th>\n",
       "      <td>hours_per_week_less_than_40</td>\n",
       "      <td>0.000000e+00</td>\n",
       "    </tr>\n",
       "    <tr>\n",
       "      <th>26</th>\n",
       "      <td>relationship_Not-in-family</td>\n",
       "      <td>9.812189e-287</td>\n",
       "    </tr>\n",
       "    <tr>\n",
       "      <th>38</th>\n",
       "      <td>hours_per_week_more_than_40</td>\n",
       "      <td>9.300450e-265</td>\n",
       "    </tr>\n",
       "    <tr>\n",
       "      <th>16</th>\n",
       "      <td>occupation_Prof-specialty</td>\n",
       "      <td>4.769277e-259</td>\n",
       "    </tr>\n",
       "    <tr>\n",
       "      <th>17</th>\n",
       "      <td>occupation_Other-service</td>\n",
       "      <td>9.767557e-207</td>\n",
       "    </tr>\n",
       "    <tr>\n",
       "      <th>36</th>\n",
       "      <td>capital_loss</td>\n",
       "      <td>2.216213e-185</td>\n",
       "    </tr>\n",
       "    <tr>\n",
       "      <th>30</th>\n",
       "      <td>relationship_Unmarried</td>\n",
       "      <td>6.578149e-164</td>\n",
       "    </tr>\n",
       "    <tr>\n",
       "      <th>9</th>\n",
       "      <td>marital_status_Divorced</td>\n",
       "      <td>7.684285e-138</td>\n",
       "    </tr>\n",
       "    <tr>\n",
       "      <th>5</th>\n",
       "      <td>workclass_Self-emp-inc</td>\n",
       "      <td>1.622231e-137</td>\n",
       "    </tr>\n",
       "    <tr>\n",
       "      <th>28</th>\n",
       "      <td>relationship_Wife</td>\n",
       "      <td>5.984326e-118</td>\n",
       "    </tr>\n",
       "    <tr>\n",
       "      <th>2</th>\n",
       "      <td>workclass_Private</td>\n",
       "      <td>1.717514e-102</td>\n",
       "    </tr>\n",
       "    <tr>\n",
       "      <th>32</th>\n",
       "      <td>race</td>\n",
       "      <td>2.265267e-77</td>\n",
       "    </tr>\n",
       "    <tr>\n",
       "      <th>13</th>\n",
       "      <td>occupation_Adm-clerical</td>\n",
       "      <td>8.053130e-73</td>\n",
       "    </tr>\n",
       "    <tr>\n",
       "      <th>15</th>\n",
       "      <td>occupation_Handlers-cleaners</td>\n",
       "      <td>9.267588e-66</td>\n",
       "    </tr>\n",
       "    <tr>\n",
       "      <th>31</th>\n",
       "      <td>relationship_Other-relative</td>\n",
       "      <td>4.007640e-57</td>\n",
       "    </tr>\n",
       "    <tr>\n",
       "      <th>41</th>\n",
       "      <td>native_country_LA</td>\n",
       "      <td>6.055903e-54</td>\n",
       "    </tr>\n",
       "    <tr>\n",
       "      <th>21</th>\n",
       "      <td>occupation_Machine-op-inspct</td>\n",
       "      <td>1.071181e-47</td>\n",
       "    </tr>\n",
       "    <tr>\n",
       "      <th>11</th>\n",
       "      <td>marital_status_Separated</td>\n",
       "      <td>8.265360e-43</td>\n",
       "    </tr>\n",
       "    <tr>\n",
       "      <th>37</th>\n",
       "      <td>hours_per_week_exactly_40</td>\n",
       "      <td>2.455824e-30</td>\n",
       "    </tr>\n",
       "    <tr>\n",
       "      <th>12</th>\n",
       "      <td>marital_status_Widowed</td>\n",
       "      <td>5.559146e-29</td>\n",
       "    </tr>\n",
       "    <tr>\n",
       "      <th>3</th>\n",
       "      <td>workclass_Federal-gov</td>\n",
       "      <td>2.445884e-27</td>\n",
       "    </tr>\n",
       "    <tr>\n",
       "      <th>20</th>\n",
       "      <td>occupation_Farming-fishing</td>\n",
       "      <td>1.692532e-23</td>\n",
       "    </tr>\n",
       "    <tr>\n",
       "      <th>25</th>\n",
       "      <td>occupation_Priv-house-serv</td>\n",
       "      <td>2.581172e-14</td>\n",
       "    </tr>\n",
       "    <tr>\n",
       "      <th>40</th>\n",
       "      <td>native_country_United States</td>\n",
       "      <td>5.771262e-13</td>\n",
       "    </tr>\n",
       "    <tr>\n",
       "      <th>10</th>\n",
       "      <td>marital_status_Married-spouse-absent</td>\n",
       "      <td>2.287946e-11</td>\n",
       "    </tr>\n",
       "    <tr>\n",
       "      <th>4</th>\n",
       "      <td>workclass_Local-gov</td>\n",
       "      <td>9.961290e-08</td>\n",
       "    </tr>\n",
       "    <tr>\n",
       "      <th>19</th>\n",
       "      <td>occupation_Transport-moving</td>\n",
       "      <td>8.521948e-06</td>\n",
       "    </tr>\n",
       "    <tr>\n",
       "      <th>1</th>\n",
       "      <td>workclass_Self-emp-not-inc</td>\n",
       "      <td>1.745782e-05</td>\n",
       "    </tr>\n",
       "    <tr>\n",
       "      <th>24</th>\n",
       "      <td>occupation_Protective-serv</td>\n",
       "      <td>3.143360e-05</td>\n",
       "    </tr>\n",
       "    <tr>\n",
       "      <th>42</th>\n",
       "      <td>native_country_ASIA</td>\n",
       "      <td>6.975373e-05</td>\n",
       "    </tr>\n",
       "    <tr>\n",
       "      <th>23</th>\n",
       "      <td>occupation_Craft-repair</td>\n",
       "      <td>2.192637e-04</td>\n",
       "    </tr>\n",
       "    <tr>\n",
       "      <th>22</th>\n",
       "      <td>occupation_Tech-support</td>\n",
       "      <td>3.539858e-04</td>\n",
       "    </tr>\n",
       "    <tr>\n",
       "      <th>43</th>\n",
       "      <td>native_country_EU</td>\n",
       "      <td>4.229056e-04</td>\n",
       "    </tr>\n",
       "    <tr>\n",
       "      <th>18</th>\n",
       "      <td>occupation_Sales</td>\n",
       "      <td>5.997781e-04</td>\n",
       "    </tr>\n",
       "  </tbody>\n",
       "</table>\n",
       "</div>"
      ],
      "text/plain": [
       "                                    name     importance\n",
       "0                                    age   0.000000e+00\n",
       "29                relationship_Own-child   0.000000e+00\n",
       "33                              sex_Male   0.000000e+00\n",
       "14            occupation_Exec-managerial   0.000000e+00\n",
       "27                  relationship_Husband   0.000000e+00\n",
       "35                          capital_gain   0.000000e+00\n",
       "8      marital_status_Married-civ-spouse   0.000000e+00\n",
       "34                            sex_Female   0.000000e+00\n",
       "6                          education_num   0.000000e+00\n",
       "7           marital_status_Never-married   0.000000e+00\n",
       "39           hours_per_week_less_than_40   0.000000e+00\n",
       "26            relationship_Not-in-family  9.812189e-287\n",
       "38           hours_per_week_more_than_40  9.300450e-265\n",
       "16             occupation_Prof-specialty  4.769277e-259\n",
       "17              occupation_Other-service  9.767557e-207\n",
       "36                          capital_loss  2.216213e-185\n",
       "30                relationship_Unmarried  6.578149e-164\n",
       "9                marital_status_Divorced  7.684285e-138\n",
       "5                 workclass_Self-emp-inc  1.622231e-137\n",
       "28                     relationship_Wife  5.984326e-118\n",
       "2                      workclass_Private  1.717514e-102\n",
       "32                                  race   2.265267e-77\n",
       "13               occupation_Adm-clerical   8.053130e-73\n",
       "15          occupation_Handlers-cleaners   9.267588e-66\n",
       "31           relationship_Other-relative   4.007640e-57\n",
       "41                     native_country_LA   6.055903e-54\n",
       "21          occupation_Machine-op-inspct   1.071181e-47\n",
       "11              marital_status_Separated   8.265360e-43\n",
       "37             hours_per_week_exactly_40   2.455824e-30\n",
       "12                marital_status_Widowed   5.559146e-29\n",
       "3                  workclass_Federal-gov   2.445884e-27\n",
       "20            occupation_Farming-fishing   1.692532e-23\n",
       "25            occupation_Priv-house-serv   2.581172e-14\n",
       "40          native_country_United States   5.771262e-13\n",
       "10  marital_status_Married-spouse-absent   2.287946e-11\n",
       "4                    workclass_Local-gov   9.961290e-08\n",
       "19           occupation_Transport-moving   8.521948e-06\n",
       "1             workclass_Self-emp-not-inc   1.745782e-05\n",
       "24            occupation_Protective-serv   3.143360e-05\n",
       "42                   native_country_ASIA   6.975373e-05\n",
       "23               occupation_Craft-repair   2.192637e-04\n",
       "22               occupation_Tech-support   3.539858e-04\n",
       "43                     native_country_EU   4.229056e-04\n",
       "18                      occupation_Sales   5.997781e-04"
      ]
     },
     "execution_count": 135,
     "metadata": {},
     "output_type": "execute_result"
    }
   ],
   "source": [
    "selector = SelectKBest(k=44)\n",
    "selector.fit_transform(X_train, y_train)\n",
    "selected = selector.get_support()\n",
    "selected\n",
    "\n",
    "X_train.columns[selected]\n",
    "selector.pvalues_[selected]\n",
    "\n",
    "imp_df = pd.DataFrame({\"name\":X_train.columns[selected], \"importance\":selector.pvalues_[selected]}).sort_values(by = 'importance')\n",
    "imp_df"
   ]
  },
  {
   "cell_type": "markdown",
   "id": "commercial-moderator",
   "metadata": {},
   "source": [
    "### Sprawdzenie po odrzuceniu 5 najmniej ważnych cech"
   ]
  },
  {
   "cell_type": "code",
   "execution_count": 139,
   "id": "blocked-grade",
   "metadata": {
    "scrolled": true
   },
   "outputs": [
    {
     "name": "stdout",
     "output_type": "stream",
     "text": [
      "5-fold CV results\n",
      "CatBoostClassifier train accuracy : 87.79% +- 0.06%\n",
      "CatBoostClassifier test accuracy : 87.12% +- 0.31%\n",
      "\n",
      "CatBoostClassifier test F1 : 71.60% +- 0.74%\n",
      "CatBoostClassifier test ROC AUC : 92.73% +- 0.27%\n",
      "CatBoostClassifier fit time : 1.2009706020355224\n",
      "\n"
     ]
    }
   ],
   "source": [
    "res = cross_val(cat_boost_best, cols=selected)\n",
    "insert_results_to_df(t, res, 'CatBoost best 44')"
   ]
  },
  {
   "cell_type": "markdown",
   "id": "included-lighting",
   "metadata": {},
   "source": [
    "Odrzucenie zmiennych delikatnie pogorszyło wynik modelu. Dlatego w przypadku CatBoost zrezygnujemy z redukcji zmiennych."
   ]
  },
  {
   "cell_type": "markdown",
   "id": "southwest-smith",
   "metadata": {},
   "source": [
    "### Końcowa ewaluacja modelu"
   ]
  },
  {
   "cell_type": "code",
   "execution_count": 161,
   "id": "short-winner",
   "metadata": {},
   "outputs": [
    {
     "data": {
      "text/plain": [
       "0.8710419246417831"
      ]
     },
     "execution_count": 161,
     "metadata": {},
     "output_type": "execute_result"
    }
   ],
   "source": [
    "cat_boost_best.fit(X_train, y_train)\n",
    "y_pred = cat_boost_best.predict(X_test)\n",
    "\n",
    "accuracy_score(y_test, y_pred)"
   ]
  },
  {
   "cell_type": "markdown",
   "id": "computational-apparel",
   "metadata": {},
   "source": [
    "### Tymczasem bazowy model na danych testowych..."
   ]
  },
  {
   "cell_type": "code",
   "execution_count": 144,
   "id": "weighted-crowd",
   "metadata": {},
   "outputs": [
    {
     "data": {
      "text/plain": [
       "0.8708650274190696"
      ]
     },
     "execution_count": 144,
     "metadata": {},
     "output_type": "execute_result"
    }
   ],
   "source": [
    "catboost_base.fit(X_train, y_train)\n",
    "y_pred = catboost_base.predict(X_test)\n",
    "\n",
    "accuracy_score(y_test, y_pred)"
   ]
  },
  {
   "cell_type": "markdown",
   "id": "subsequent-tokyo",
   "metadata": {},
   "source": [
    "### Wnioski\n",
    "Strojenie hiperparametrów w klasyfikatorze CatBoost nie przyniosło efektów. Podobnie redukcja zmiennych nie wpływa na poprawę modelu."
   ]
  },
  {
   "cell_type": "markdown",
   "id": "parliamentary-collaboration",
   "metadata": {},
   "source": [
    "## Podsumowanie"
   ]
  },
  {
   "cell_type": "markdown",
   "id": "forward-party",
   "metadata": {},
   "source": [
    "### Wyniki krosswalidacji"
   ]
  },
  {
   "cell_type": "code",
   "execution_count": 164,
   "id": "present-municipality",
   "metadata": {},
   "outputs": [
    {
     "data": {
      "text/html": [
       "<div>\n",
       "<style scoped>\n",
       "    .dataframe tbody tr th:only-of-type {\n",
       "        vertical-align: middle;\n",
       "    }\n",
       "\n",
       "    .dataframe tbody tr th {\n",
       "        vertical-align: top;\n",
       "    }\n",
       "\n",
       "    .dataframe thead th {\n",
       "        text-align: right;\n",
       "    }\n",
       "</style>\n",
       "<table border=\"1\" class=\"dataframe\">\n",
       "  <thead>\n",
       "    <tr style=\"text-align: right;\">\n",
       "      <th></th>\n",
       "      <th>accuracy</th>\n",
       "      <th>roc auc</th>\n",
       "      <th>f1</th>\n",
       "    </tr>\n",
       "  </thead>\n",
       "  <tbody>\n",
       "    <tr>\n",
       "      <th>CatBoost best GS</th>\n",
       "      <td>0.871418</td>\n",
       "      <td>0.927888</td>\n",
       "      <td>0.716308</td>\n",
       "    </tr>\n",
       "    <tr>\n",
       "      <th>CatBoost best 44</th>\n",
       "      <td>0.871182</td>\n",
       "      <td>0.927262</td>\n",
       "      <td>0.716044</td>\n",
       "    </tr>\n",
       "    <tr>\n",
       "      <th>XGBoost best 45 RFE</th>\n",
       "      <td>0.870740</td>\n",
       "      <td>0.927096</td>\n",
       "      <td>0.714907</td>\n",
       "    </tr>\n",
       "    <tr>\n",
       "      <th>XGBoost best GS</th>\n",
       "      <td>0.870474</td>\n",
       "      <td>0.927280</td>\n",
       "      <td>0.714495</td>\n",
       "    </tr>\n",
       "    <tr>\n",
       "      <th>XGBoost best 47 RFE</th>\n",
       "      <td>0.870474</td>\n",
       "      <td>0.927280</td>\n",
       "      <td>0.714495</td>\n",
       "    </tr>\n",
       "    <tr>\n",
       "      <th>CatBoost initial</th>\n",
       "      <td>0.870445</td>\n",
       "      <td>0.927683</td>\n",
       "      <td>0.714682</td>\n",
       "    </tr>\n",
       "    <tr>\n",
       "      <th>XGBoost best GS2</th>\n",
       "      <td>0.870415</td>\n",
       "      <td>0.927032</td>\n",
       "      <td>0.714842</td>\n",
       "    </tr>\n",
       "    <tr>\n",
       "      <th>XGBoost best 46</th>\n",
       "      <td>0.870415</td>\n",
       "      <td>0.927431</td>\n",
       "      <td>0.714378</td>\n",
       "    </tr>\n",
       "    <tr>\n",
       "      <th>XGBoost best 40 RFE</th>\n",
       "      <td>0.870268</td>\n",
       "      <td>0.927484</td>\n",
       "      <td>0.714233</td>\n",
       "    </tr>\n",
       "    <tr>\n",
       "      <th>XGBoost best 40</th>\n",
       "      <td>0.870002</td>\n",
       "      <td>0.927106</td>\n",
       "      <td>0.713468</td>\n",
       "    </tr>\n",
       "    <tr>\n",
       "      <th>XGBoost initial</th>\n",
       "      <td>0.869590</td>\n",
       "      <td>0.927138</td>\n",
       "      <td>0.715033</td>\n",
       "    </tr>\n",
       "    <tr>\n",
       "      <th>XGBoost best 30</th>\n",
       "      <td>0.866494</td>\n",
       "      <td>0.925001</td>\n",
       "      <td>0.703236</td>\n",
       "    </tr>\n",
       "  </tbody>\n",
       "</table>\n",
       "</div>"
      ],
      "text/plain": [
       "                     accuracy   roc auc        f1\n",
       "CatBoost best GS     0.871418  0.927888  0.716308\n",
       "CatBoost best 44     0.871182  0.927262  0.716044\n",
       "XGBoost best 45 RFE  0.870740  0.927096  0.714907\n",
       "XGBoost best GS      0.870474  0.927280  0.714495\n",
       "XGBoost best 47 RFE  0.870474  0.927280  0.714495\n",
       "CatBoost initial     0.870445  0.927683  0.714682\n",
       "XGBoost best GS2     0.870415  0.927032  0.714842\n",
       "XGBoost best 46      0.870415  0.927431  0.714378\n",
       "XGBoost best 40 RFE  0.870268  0.927484  0.714233\n",
       "XGBoost best 40      0.870002  0.927106  0.713468\n",
       "XGBoost initial      0.869590  0.927138  0.715033\n",
       "XGBoost best 30      0.866494  0.925001  0.703236"
      ]
     },
     "execution_count": 164,
     "metadata": {},
     "output_type": "execute_result"
    }
   ],
   "source": [
    "t.sort_values(by=['accuracy'], ascending=False)"
   ]
  },
  {
   "cell_type": "markdown",
   "id": "removed-mention",
   "metadata": {},
   "source": [
    "### Porównanie wyników na zbiorze testowym"
   ]
  },
  {
   "cell_type": "code",
   "execution_count": 174,
   "id": "bizarre-taylor",
   "metadata": {},
   "outputs": [
    {
     "name": "stdout",
     "output_type": "stream",
     "text": [
      "[20:23:50] WARNING: C:/Users/Administrator/workspace/xgboost-win64_release_1.3.0/src/learner.cc:1061: Starting in XGBoost 1.3.0, the default evaluation metric used with the objective 'binary:logistic' was changed from 'error' to 'logloss'. Explicitly set eval_metric if you'd like to restore the old behavior.\n",
      "XGBClassifier train set accuracy score : 0.8871\n",
      "XGBClassifier test set accuracy score : 0.8691\n",
      "\n",
      "XGBClassifier train set accuracy score : 0.8765\n",
      "XGBClassifier test set accuracy score : 0.8712\n",
      "\n",
      "XGBClassifier train set accuracy score : 0.8765\n",
      "XGBClassifier test set accuracy score : 0.8712\n",
      "\n",
      "XGBClassifier train set accuracy score : 0.8763\n",
      "XGBClassifier test set accuracy score : 0.8710\n",
      "\n",
      "CatBoostClassifier train set accuracy score : 0.8851\n",
      "CatBoostClassifier test set accuracy score : 0.8709\n",
      "\n",
      "CatBoostClassifier train set accuracy score : 0.8770\n",
      "CatBoostClassifier test set accuracy score : 0.8710\n",
      "\n",
      "CatBoostClassifier train set accuracy score : 0.8773\n",
      "CatBoostClassifier test set accuracy score : 0.8698\n",
      "\n"
     ]
    }
   ],
   "source": [
    "classifiers = [xg_boost, xg_boost_best, xg_boost_best, xg_boost_best, catboost_base, cat_boost_best, cat_boost_best]\n",
    "cols = [None, None, rfe_selector.support_, rfe_selector2.support_, None, None, selected]\n",
    "simple_fit(classifiers, cols)"
   ]
  },
  {
   "cell_type": "markdown",
   "id": "usual-quick",
   "metadata": {},
   "source": [
    "Wyniki są bardzo zbliżone. Strojenie parametrów wprowadziło minimalne zmiany. Różnice między modelami mogą zależeć od podziału zbioru na testowy i treningowy.\n",
    "\n",
    "Ponieważ dokładność modeli jest prawie identyczna uznaliśmy, że wybierzemy model, pod kątem tego aby był jak najszybszy.\n",
    "\n",
    "Ostatecznie zdecydujemy się na model XGBClassifier o parametrach: `learning rate=0.4`, `max_depth=3`,`min_child_weight=1`, `gamma=0.5` oraz `booster=gbtree`.\n",
    "Zrezygnujemy także z kolumn `sex_Female` oraz z kolumny `occupation_Armed-Forces`."
   ]
  }
 ],
 "metadata": {
  "kernelspec": {
   "display_name": "wum_p1",
   "language": "python",
   "name": "wum_p1"
  },
  "language_info": {
   "codemirror_mode": {
    "name": "ipython",
    "version": 3
   },
   "file_extension": ".py",
   "mimetype": "text/x-python",
   "name": "python",
   "nbconvert_exporter": "python",
   "pygments_lexer": "ipython3",
   "version": "3.8.3"
  }
 },
 "nbformat": 4,
 "nbformat_minor": 5
}
