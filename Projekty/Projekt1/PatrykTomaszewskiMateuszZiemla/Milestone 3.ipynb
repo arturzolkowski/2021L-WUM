{
 "cells": [
  {
   "cell_type": "code",
   "execution_count": 1,
   "metadata": {
    "scrolled": false
   },
   "outputs": [],
   "source": [
    "import keras\n",
    "from keras.layers import Dense,Softmax,Dropout\n",
    "from keras import regularizers\n",
    "import numpy as np\n",
    "import tensorflow as tf\n",
    "import pandas as pd\n",
    "import matplotlib.pyplot as plt\n",
    "import seaborn as sns\n",
    "from sklearn.tree import DecisionTreeClassifier\n",
    "from sklearn.neighbors import KNeighborsClassifier\n",
    "from sklearn.model_selection import train_test_split\n",
    "from sklearn.linear_model import LogisticRegression\n",
    "from sklearn.metrics import accuracy_score, recall_score, precision_score\n",
    "from IPython.display import display, HTML\n",
    "from bayes_opt import BayesianOptimization\n",
    "\n",
    "tonpyarray = lambda x: np.asarray(x).astype('float32')"
   ]
  },
  {
   "cell_type": "markdown",
   "metadata": {},
   "source": [
    "## Przygotowanie danych"
   ]
  },
  {
   "cell_type": "code",
   "execution_count": 7,
   "metadata": {},
   "outputs": [],
   "source": [
    " link = \"https://lovespreadsheet-tutorials.s3.amazonaws.com/APIDatasets/gender_voice_dataset.csv\"\n",
    " data = pd.read_csv(link)"
   ]
  },
  {
   "cell_type": "code",
   "execution_count": 8,
   "metadata": {},
   "outputs": [],
   "source": [
    "# Przygotowanie danych do trenowania\n",
    "x_train, x_test, y_train, y_test = train_test_split(\n",
    "    data.iloc[:,:-1], data['label'], stratify=data['label'], test_size=0.2, random_state=7\n",
    ")\n",
    "\n",
    "# One hot encoding dla zmiennej label\n",
    "label_function = lambda s: 1 if s==\"male\" else 0\n",
    "y_train = tonpyarray(list(y_train.apply(label_function)))\n",
    "y_test = tonpyarray(list(y_test.apply(label_function)))"
   ]
  },
  {
   "cell_type": "markdown",
   "metadata": {},
   "source": [
    "## Porównywanie efektywności"
   ]
  },
  {
   "cell_type": "code",
   "execution_count": 11,
   "metadata": {},
   "outputs": [],
   "source": [
    "# Przygotowanie funkcji do zapisu efektywności modeli\n",
    "results = pd.DataFrame({'Label': [], 'Sublabel': [], 'Accuracy': [], 'Recall': [], 'Precision': []})\n",
    "def evaluateResult(y_pred, label, sublabel=\"\", display=True):\n",
    "    acc = accuracy_score(y_test,y_pred)\n",
    "    rec = recall_score(y_test,y_pred,average='weighted')\n",
    "    prec = precision_score(y_test,y_pred,average='weighted')\n",
    "    \n",
    "    results.loc[label+(\" - \"+sublabel if sublabel!=\"\" else \"\")] = [label, sublabel, acc, rec, prec]\n",
    "    \n",
    "    if(display):\n",
    "        print(\"Accuracy: \"+str(acc))\n",
    "        print(\"Recall: \"+str(rec))\n",
    "        print(\"Precision: \"+str(prec))\n",
    "        \n",
    "    return acc"
   ]
  },
  {
   "cell_type": "markdown",
   "metadata": {},
   "source": [
    "Modele będziemy porównywać względem trzech metryk - `accuracy`, `recall` i `precision`, z czego największy nacisk będziemy kładli na `accuracy`. Powyższa funkcja oblicza wartości dla każdej z tych metryk i zapisuje je do późniejszego porównywania."
   ]
  },
  {
   "cell_type": "code",
   "execution_count": 12,
   "metadata": {},
   "outputs": [],
   "source": [
    "def displayResults(label, title):\n",
    "    # Przygotowanie danych do wyświetlenia\n",
    "    displayData = pd.DataFrame({'Accuracy': [], 'Recall': [], 'Precision': []})\n",
    "    \n",
    "    # Umieszczenie baselinu dla porównania\n",
    "    displayData.loc['Baseline'] = results.loc['Baseline'][['Accuracy', 'Recall', 'Precision']]\n",
    "    \n",
    "    # Dodanie wszystkich pasujących wierszy\n",
    "    matchLabel = results[results.Label == label]\n",
    "    displayData = displayData.append(matchLabel[['Accuracy', 'Recall', 'Precision']].set_axis(matchLabel.Sublabel.values))\n",
    "    \n",
    "    \n",
    "    # Utworzenie wykresu\n",
    "    plotData = displayData.copy()\n",
    "    plotData[\"\"] = plotData.index\n",
    "    plotData = plotData.melt('', var_name=\"Score\", value_name=\"Value\")\n",
    "    \n",
    "    # Wyświetlenie wyników\n",
    "    sns.catplot(x=\"\", y=\"Value\", hue=\"Score\", data=plotData, kind=\"bar\", height=6, aspect=1.7).fig.suptitle(title)\n",
    "    plt.ylim(0.8, 1)\n",
    "    plt.show()\n",
    "    display(displayData.T)"
   ]
  },
  {
   "cell_type": "markdown",
   "metadata": {},
   "source": [
    "Przygotujemy także funkcję pozwalającą nam na porównanie modeli w sposób wizualny, za pomocą wykresu i tabelki z dokładnymi wartościami."
   ]
  },
  {
   "cell_type": "markdown",
   "metadata": {},
   "source": [
    "## Baseline"
   ]
  },
  {
   "cell_type": "markdown",
   "metadata": {},
   "source": [
    "Jako baseline weźmiemy model bazujący na podstawie jednej zmiennej i prostego warunku."
   ]
  },
  {
   "cell_type": "code",
   "execution_count": 22,
   "metadata": {},
   "outputs": [
    {
     "name": "stdout",
     "output_type": "stream",
     "text": [
      "Accuracy: 0.9542586750788643\n",
      "Recall: 0.9542586750788643\n",
      "Precision: 0.9544802867383513\n"
     ]
    }
   ],
   "source": [
    "# Model działający na podstawie jednego if-a\n",
    "y_baseline = x_test.copy()\n",
    "y_baseline.loc[:,\"label\"] = 0\n",
    "y_baseline.loc[y_baseline.meanfun < 0.145,\"label\"] = 1\n",
    "\n",
    "suppress = evaluateResult(y_baseline[\"label\"], \"Baseline\")"
   ]
  },
  {
   "cell_type": "markdown",
   "metadata": {},
   "source": [
    "Widać, że nawet przy tak prostym modelu, wykorzystującym tylko jedną zmienną, udaje nam się uzyskać dokładność na poziomie 95%. Zatem, jeżeli zależałoby nam przede wszystkim na szybkości model, ten jest wystaczającym rozwiązaniem. Będziemy jednak chcieli stworzyć model który uzyskuje większą dokładność kosztem jego prędkości."
   ]
  },
  {
   "cell_type": "markdown",
   "metadata": {},
   "source": [
    "## Nasz model"
   ]
  },
  {
   "cell_type": "markdown",
   "metadata": {},
   "source": [
    "Po poprzedniej analizie modeli doszliśmy do wniosku że najlepszym rozwiązaniem będzie wykorzystanie boosted trees. Najlepszą dokładność uzyskaliśmy wykorzystując wszystkie dostępne zmienne, jednak chcielibyśmy ograniczyć ilość tych zmiennych i zobaczyć jak model się wtedy zachowa."
   ]
  },
  {
   "cell_type": "code",
   "execution_count": 4,
   "metadata": {},
   "outputs": [],
   "source": [
    "# Wyłączenie wyświetlania informacji debugowych\n",
    "import os\n",
    "os.environ['TF_CPP_MIN_LOG_LEVEL'] = '3' \n",
    "tf.get_logger().setLevel('ERROR')\n",
    "tf.compat.v1.logging.set_verbosity(tf.compat.v1.logging.ERROR)\n",
    "\n",
    "# Przetworzenie danych na funkcje dla tensorflowa\n",
    "def make_input_fn(x, y, n_epochs=None, shuffle=True):\n",
    "  def input_fn():\n",
    "    dataset = tf.data.Dataset.from_tensor_slices((x.to_dict(orient='list'), y))\n",
    "    if shuffle:\n",
    "      dataset = dataset.shuffle(2534)\n",
    "    dataset = (dataset\n",
    "      .repeat(n_epochs)\n",
    "      .batch(2534))\n",
    "    return dataset\n",
    "  return input_fn\n",
    "\n",
    "# Przygotowanie zmiennych pomocniczych do boosted trees\n",
    "def prepareForBoostedTrees(columns):\n",
    "    feature_columns = []\n",
    "    for feature_name in columns:\n",
    "        feature_columns.append(tf.feature_column.numeric_column(feature_name, dtype=tf.float32))\n",
    "\n",
    "    train_input_fn = make_input_fn(x_train[columns], y_train)\n",
    "    eval_input_fn = make_input_fn(x_test[columns], y_test, shuffle=False, n_epochs=1)\n",
    "    \n",
    "    return (feature_columns, train_input_fn, eval_input_fn)"
   ]
  },
  {
   "cell_type": "markdown",
   "metadata": {},
   "source": [
    "*Kod stworzony na bazie [tej części dokumentacji](https://www.tensorflow.org/tutorials/estimator/boosted_trees_model_understanding).*"
   ]
  },
  {
   "cell_type": "code",
   "execution_count": 125,
   "metadata": {
    "scrolled": false
   },
   "outputs": [
    {
     "data": {
      "image/png": "[encoded data removed]",
      "text/plain": [
       "<Figure size 816.15x432 with 1 Axes>"
      ]
     },
     "metadata": {
      "needs_background": "light"
     },
     "output_type": "display_data"
    },
    {
     "data": {
      "text/html": [
       "<div>\n",
       "<style scoped>\n",
       "    .dataframe tbody tr th:only-of-type {\n",
       "        vertical-align: middle;\n",
       "    }\n",
       "\n",
       "    .dataframe tbody tr th {\n",
       "        vertical-align: top;\n",
       "    }\n",
       "\n",
       "    .dataframe thead th {\n",
       "        text-align: right;\n",
       "    }\n",
       "</style>\n",
       "<table border=\"1\" class=\"dataframe\">\n",
       "  <thead>\n",
       "    <tr style=\"text-align: right;\">\n",
       "      <th></th>\n",
       "      <th>Baseline</th>\n",
       "      <th>All parameters</th>\n",
       "      <th>Nearly all parameters</th>\n",
       "      <th>Non-correlated parameters</th>\n",
       "      <th>Three parameters</th>\n",
       "    </tr>\n",
       "  </thead>\n",
       "  <tbody>\n",
       "    <tr>\n",
       "      <th>Accuracy</th>\n",
       "      <td>0.954259</td>\n",
       "      <td>0.977918</td>\n",
       "      <td>0.979495</td>\n",
       "      <td>0.974763</td>\n",
       "      <td>0.965300</td>\n",
       "    </tr>\n",
       "    <tr>\n",
       "      <th>Recall</th>\n",
       "      <td>0.954259</td>\n",
       "      <td>0.977918</td>\n",
       "      <td>0.979495</td>\n",
       "      <td>0.974763</td>\n",
       "      <td>0.965300</td>\n",
       "    </tr>\n",
       "    <tr>\n",
       "      <th>Precision</th>\n",
       "      <td>0.954480</td>\n",
       "      <td>0.978223</td>\n",
       "      <td>0.979882</td>\n",
       "      <td>0.975445</td>\n",
       "      <td>0.965763</td>\n",
       "    </tr>\n",
       "  </tbody>\n",
       "</table>\n",
       "</div>"
      ],
      "text/plain": [
       "           Baseline  All parameters  Nearly all parameters  \\\n",
       "Accuracy   0.954259        0.977918               0.979495   \n",
       "Recall     0.954259        0.977918               0.979495   \n",
       "Precision  0.954480        0.978223               0.979882   \n",
       "\n",
       "           Non-correlated parameters  Three parameters  \n",
       "Accuracy                    0.974763          0.965300  \n",
       "Recall                      0.974763          0.965300  \n",
       "Precision                   0.975445          0.965763  "
      ]
     },
     "metadata": {},
     "output_type": "display_data"
    }
   ],
   "source": [
    "def trainBoostedTrees(columns, label):\n",
    "    params = {\n",
    "      'n_trees': 100,\n",
    "      'max_depth': 6,\n",
    "      'n_batches_per_layer': 1,\n",
    "      'center_bias': True\n",
    "    }\n",
    "    feature_columns, train_input_fn, eval_input_fn = prepareForBoostedTrees(columns)\n",
    "    \n",
    "    model = tf.estimator.BoostedTreesClassifier(feature_columns, **params)\n",
    "    model.train(train_input_fn, max_steps=600)\n",
    "    \n",
    "    y_pred = model.predict(eval_input_fn)\n",
    "    y_pred = tonpyarray([item['classes'][0] for item in y_pred]) # Konwersja wyników aby zgadzały się typem\n",
    "    \n",
    "    evaluateResult(y_pred, \"Boosted Trees\", label, False)\n",
    "\n",
    "trainBoostedTrees(list(data.columns[:-1]), \"All parameters\")\n",
    "trainBoostedTrees([\"meanfreq\",\"skew\",\"mode\",\"meanfun\",\"minfun\",\"maxfun\",\"meandom\",\"mindom\",\"modindx\",\"sd\",\"median\",\"Q25\",\"Q75\",\"IQR\",\"sp.ent\",\"sfm\",\"maxdom\"], \"Nearly all parameters\")\n",
    "trainBoostedTrees([\"meanfreq\",\"skew\",\"mode\",\"meanfun\",\"minfun\",\"maxfun\",\"meandom\",\"mindom\",\"modindx\"], \"Non-correlated parameters\")\n",
    "trainBoostedTrees(['IQR','Q25','meanfun'], \"Three parameters\")\n",
    "displayResults(\"Boosted Trees\", \"Model comparison by parameters used\")"
   ]
  },
  {
   "cell_type": "markdown",
   "metadata": {},
   "source": [
    "Porównujemy efektywność modeli w zależności od tego jakich parametrów użyjemy. Dobór parametrów bazowany jest na korelacji analizowanej podczas eksploracji danych.   \n",
    "Widzimy że najlepszy wynik uzyskujemy dla wykorzystania \"prawie wszystkich parametrów\", czyli wszystkich poza `kurt`, `centroid` i `dfrange`, które są bardzo mocno skorelowane z innymi zmiennymi.\n",
    "\n"
   ]
  },
  {
   "cell_type": "markdown",
   "metadata": {},
   "source": [
    "## Strojenie hiperparametrów"
   ]
  },
  {
   "cell_type": "markdown",
   "metadata": {},
   "source": [
    "Do dalszych rozważań będziemy uwzględniać właśnie model z prawie wszystkimi parametrami. Chcemy dobrać hiperparametry `n_trees` i `max_depth` tak, aby uzyskać jak największą dokładność modelu. Użyjemy do tego gotowej biblioteki która przeprowadzi optymalizację bayesowską."
   ]
  },
  {
   "cell_type": "code",
   "execution_count": 18,
   "metadata": {
    "scrolled": false
   },
   "outputs": [
    {
     "name": "stdout",
     "output_type": "stream",
     "text": [
      "|   iter    |  target   | max_depth |  n_trees  |\n",
      "-------------------------------------------------\n",
      "| \u001b[0m 1       \u001b[0m | \u001b[0m 0.9779  \u001b[0m | \u001b[0m 6.502   \u001b[0m | \u001b[0m 235.7   \u001b[0m |\n",
      "| \u001b[0m 2       \u001b[0m | \u001b[0m 0.9779  \u001b[0m | \u001b[0m 4.001   \u001b[0m | \u001b[0m 139.5   \u001b[0m |\n",
      "| \u001b[95m 3       \u001b[0m | \u001b[95m 0.9795  \u001b[0m | \u001b[95m 4.881   \u001b[0m | \u001b[95m 91.24   \u001b[0m |\n"
     ]
    },
    {
     "name": "stderr",
     "output_type": "stream",
     "text": [
      "c:\\users\\filmos\\appdata\\local\\programs\\python\\python38\\lib\\site-packages\\sklearn\\metrics\\_classification.py:1245: UndefinedMetricWarning: Precision is ill-defined and being set to 0.0 in labels with no predicted samples. Use `zero_division` parameter to control this behavior.\n",
      "  _warn_prf(average, modifier, msg_start, len(result))\n"
     ]
    },
    {
     "name": "stdout",
     "output_type": "stream",
     "text": [
      "| \u001b[0m 4       \u001b[0m | \u001b[0m 0.5     \u001b[0m | \u001b[0m 5.118   \u001b[0m | \u001b[0m 149.5   \u001b[0m |\n",
      "| \u001b[95m 5       \u001b[0m | \u001b[95m 0.9811  \u001b[0m | \u001b[95m 4.234   \u001b[0m | \u001b[95m 139.5   \u001b[0m |\n",
      "| \u001b[0m 6       \u001b[0m | \u001b[0m 0.9779  \u001b[0m | \u001b[0m 4.0     \u001b[0m | \u001b[0m 130.5   \u001b[0m |\n",
      "| \u001b[0m 7       \u001b[0m | \u001b[0m 0.9779  \u001b[0m | \u001b[0m 5.022   \u001b[0m | \u001b[0m 103.1   \u001b[0m |\n",
      "| \u001b[0m 8       \u001b[0m | \u001b[0m 0.9779  \u001b[0m | \u001b[0m 7.628   \u001b[0m | \u001b[0m 115.7   \u001b[0m |\n",
      "| \u001b[0m 9       \u001b[0m | \u001b[0m 0.9811  \u001b[0m | \u001b[0m 6.485   \u001b[0m | \u001b[0m 247.9   \u001b[0m |\n",
      "| \u001b[0m 10      \u001b[0m | \u001b[0m 0.9795  \u001b[0m | \u001b[0m 10.0    \u001b[0m | \u001b[0m 259.7   \u001b[0m |\n",
      "| \u001b[0m 11      \u001b[0m | \u001b[0m 0.9779  \u001b[0m | \u001b[0m 4.0     \u001b[0m | \u001b[0m 270.4   \u001b[0m |\n",
      "| \u001b[0m 12      \u001b[0m | \u001b[0m 0.9763  \u001b[0m | \u001b[0m 9.786   \u001b[0m | \u001b[0m 281.2   \u001b[0m |\n",
      "| \u001b[0m 13      \u001b[0m | \u001b[0m 0.9779  \u001b[0m | \u001b[0m 9.955   \u001b[0m | \u001b[0m 80.24   \u001b[0m |\n",
      "| \u001b[0m 14      \u001b[0m | \u001b[0m 0.9811  \u001b[0m | \u001b[0m 4.201   \u001b[0m | \u001b[0m 70.2    \u001b[0m |\n",
      "| \u001b[0m 15      \u001b[0m | \u001b[0m 0.9779  \u001b[0m | \u001b[0m 9.894   \u001b[0m | \u001b[0m 223.7   \u001b[0m |\n",
      "| \u001b[0m 16      \u001b[0m | \u001b[0m 0.9795  \u001b[0m | \u001b[0m 4.202   \u001b[0m | \u001b[0m 212.8   \u001b[0m |\n",
      "| \u001b[0m 17      \u001b[0m | \u001b[0m 0.9763  \u001b[0m | \u001b[0m 9.639   \u001b[0m | \u001b[0m 202.0   \u001b[0m |\n",
      "| \u001b[0m 18      \u001b[0m | \u001b[0m 0.9795  \u001b[0m | \u001b[0m 4.139   \u001b[0m | \u001b[0m 292.2   \u001b[0m |\n",
      "| \u001b[0m 19      \u001b[0m | \u001b[0m 0.9795  \u001b[0m | \u001b[0m 4.0     \u001b[0m | \u001b[0m 191.3   \u001b[0m |\n",
      "| \u001b[0m 20      \u001b[0m | \u001b[0m 0.9779  \u001b[0m | \u001b[0m 10.0    \u001b[0m | \u001b[0m 181.4   \u001b[0m |\n",
      "=================================================\n",
      "Best accuracy: \n",
      "{'target': 0.9810725552050473, 'params': {'max_depth': 4.2335082401529505, 'n_trees': 139.4527163842324}}\n"
     ]
    }
   ],
   "source": [
    "feature_columns, train_input_fn, eval_input_fn = prepareForBoostedTrees([\"meanfreq\",\"skew\",\"mode\",\"meanfun\",\"minfun\",\"maxfun\",\"meandom\",\"mindom\",\"modindx\",\"sd\",\"median\",\"Q25\",\"Q75\",\"IQR\",\"sp.ent\",\"sfm\",\"maxdom\"])\n",
    "def optimizeHiperparameters(n_trees, max_depth):\n",
    "    n_trees = round(n_trees)\n",
    "    max_depth = round(max_depth)\n",
    "    \n",
    "    params = {\n",
    "      'n_trees': n_trees,\n",
    "      'max_depth': max_depth,\n",
    "      'n_batches_per_layer': 1,\n",
    "      'center_bias': True\n",
    "    }\n",
    "    \n",
    "    model = tf.estimator.BoostedTreesClassifier(feature_columns, **params)\n",
    "    model.train(train_input_fn, max_steps=600)\n",
    "    \n",
    "    y_pred = model.predict(eval_input_fn)\n",
    "    y_pred = tonpyarray([item['classes'][0] for item in y_pred]) # Konwersja wyników aby zgadzały się typem\n",
    "    \n",
    "    return evaluateResult(y_pred, \"Hiperparemeters\", \"Trees: \"+str(n_trees)+\"\\nDepth: \"+str(max_depth), False)\n",
    "\n",
    "# Ustawienie zakresu do optymalizacji\n",
    "pbounds = {'n_trees': (70, 300), 'max_depth': (4, 10)}\n",
    "\n",
    "# Optymalizacja bayesowska\n",
    "optimizer = BayesianOptimization(\n",
    "    f=optimizeHiperparameters,\n",
    "    pbounds=pbounds,\n",
    "    random_state=1,\n",
    ")\n",
    "optimizer.maximize(\n",
    "    init_points=4,\n",
    "    n_iter=16,\n",
    ")\n",
    "print(\"Best accuracy: \")\n",
    "print(optimizer.max)"
   ]
  },
  {
   "cell_type": "markdown",
   "metadata": {},
   "source": [
    "Po wybraniu najlepszego zestawu otrzymujemy dokładność na poziomie 98%.  \n",
    "Pomimo zmiany hiperparametrów nie ma dużej różnicy w dokładności naszego modelu, większość różnic jest spowodowana losowością boosted trees. "
   ]
  },
  {
   "cell_type": "markdown",
   "metadata": {},
   "source": [
    "## Finalny model"
   ]
  },
  {
   "cell_type": "markdown",
   "metadata": {},
   "source": [
    "Jako ostateczna próba zwiększenia dokładności zwiększymy długość trenowania naszego modelu i zobaczymy jak to wpłynie na jakość modelu."
   ]
  },
  {
   "cell_type": "code",
   "execution_count": 24,
   "metadata": {
    "scrolled": false
   },
   "outputs": [
    {
     "data": {
      "image/png": "[encoded data removed]",
      "text/plain": [
       "<Figure size 816.15x432 with 1 Axes>"
      ]
     },
     "metadata": {
      "needs_background": "light"
     },
     "output_type": "display_data"
    },
    {
     "data": {
      "text/html": [
       "<div>\n",
       "<style scoped>\n",
       "    .dataframe tbody tr th:only-of-type {\n",
       "        vertical-align: middle;\n",
       "    }\n",
       "\n",
       "    .dataframe tbody tr th {\n",
       "        vertical-align: top;\n",
       "    }\n",
       "\n",
       "    .dataframe thead th {\n",
       "        text-align: right;\n",
       "    }\n",
       "</style>\n",
       "<table border=\"1\" class=\"dataframe\">\n",
       "  <thead>\n",
       "    <tr style=\"text-align: right;\">\n",
       "      <th></th>\n",
       "      <th>Baseline</th>\n",
       "      <th>Final model</th>\n",
       "    </tr>\n",
       "  </thead>\n",
       "  <tbody>\n",
       "    <tr>\n",
       "      <th>Accuracy</th>\n",
       "      <td>0.954259</td>\n",
       "      <td>0.979495</td>\n",
       "    </tr>\n",
       "    <tr>\n",
       "      <th>Recall</th>\n",
       "      <td>0.954259</td>\n",
       "      <td>0.979495</td>\n",
       "    </tr>\n",
       "    <tr>\n",
       "      <th>Precision</th>\n",
       "      <td>0.954480</td>\n",
       "      <td>0.979729</td>\n",
       "    </tr>\n",
       "  </tbody>\n",
       "</table>\n",
       "</div>"
      ],
      "text/plain": [
       "           Baseline  Final model\n",
       "Accuracy   0.954259     0.979495\n",
       "Recall     0.954259     0.979495\n",
       "Precision  0.954480     0.979729"
      ]
     },
     "metadata": {},
     "output_type": "display_data"
    }
   ],
   "source": [
    "params = {\n",
    "  'n_trees': 140,\n",
    "  'max_depth': 4,\n",
    "  'n_batches_per_layer': 1,\n",
    "  'center_bias': True\n",
    "}\n",
    "\n",
    "model = tf.estimator.BoostedTreesClassifier(feature_columns, **params)\n",
    "model.train(train_input_fn, max_steps=2000)\n",
    "\n",
    "y_pred = model.predict(eval_input_fn)\n",
    "y_pred = tonpyarray([item['classes'][0] for item in y_pred]) # Konwersja wyników aby zgadzały się typem\n",
    "\n",
    "evaluateResult(y_pred, \"Final model\", \"Final model\", False)\n",
    "displayResults(\"Final model\", \"Model to baseline comparison\")"
   ]
  },
  {
   "cell_type": "markdown",
   "metadata": {},
   "source": [
    "Dłuższy czas trenowania nie poprawił jakości modelu. Tak jak było wspomnianie to wcześniej, minimalny spadek dokładności jest spowodowany losowością boosted trees.  \n",
    "\n",
    "Podsumowując, używając wyłącznie jednego if-a jesteśmy w stanie uzyskać dokładność na poziomie 95%, co może być przydatne jeśli bardzo zależy nam na szybkości modelu. Jeżeli chcielibyśmy uzyskać dokładniejszy model to najlepszym rozwiązaniem wydaje się użycie boosted trees na zbiorze danych z wyłączeniem bardzo mocno skorelowanych zmiennych (`kurt`, `centroid` i `dfrange`). Dla takiego modelu `accuracy`, `recall` oraz `precision` wynoszą 98%, co jest bardzo dobrym wynikiem."
   ]
  }
 ],
 "metadata": {
  "kernelspec": {
   "display_name": "tensorflow",
   "language": "python",
   "name": "tensorflow"
  },
  "language_info": {
   "codemirror_mode": {
    "name": "ipython",
    "version": 3
   },
   "file_extension": ".py",
   "mimetype": "text/x-python",
   "name": "python",
   "nbconvert_exporter": "python",
   "pygments_lexer": "ipython3",
   "version": "3.8.8"
  }
 },
 "nbformat": 4,
 "nbformat_minor": 2
}
