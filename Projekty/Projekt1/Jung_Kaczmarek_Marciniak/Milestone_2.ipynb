{
 "cells": [
  {
   "cell_type": "markdown",
   "metadata": {
    "id": "E14kt20mt7VI"
   },
   "source": [
    "# Inżynieria cech"
   ]
  },
  {
   "cell_type": "code",
   "execution_count": 1,
   "metadata": {
    "id": "0gMSSznrDItQ"
   },
   "outputs": [],
   "source": [
    "import pandas as pd\n",
    "import numpy as np\n",
    "\n",
    "import matplotlib.pyplot as plt\n",
    "import seaborn as sns \n",
    "import math\n",
    "import warnings\n",
    "warnings.filterwarnings('ignore')\n",
    "from pandas_profiling import ProfileReport\n",
    "\n",
    "from category_encoders import OneHotEncoder"
   ]
  },
  {
   "cell_type": "markdown",
   "metadata": {
    "id": "iQCWmESNtzNd"
   },
   "source": [
    "Wczytanie danych"
   ]
  },
  {
   "cell_type": "code",
   "execution_count": 2,
   "metadata": {
    "colab": {
     "base_uri": "https://localhost:8080/",
     "height": 224
    },
    "id": "y3Ov4sQBtkZ0",
    "outputId": "712a0a77-ba04-4a9c-b87b-2e7384bfbf5e"
   },
   "outputs": [
    {
     "data": {
      "text/html": [
       "<div>\n",
       "<style scoped>\n",
       "    .dataframe tbody tr th:only-of-type {\n",
       "        vertical-align: middle;\n",
       "    }\n",
       "\n",
       "    .dataframe tbody tr th {\n",
       "        vertical-align: top;\n",
       "    }\n",
       "\n",
       "    .dataframe thead th {\n",
       "        text-align: right;\n",
       "    }\n",
       "</style>\n",
       "<table border=\"1\" class=\"dataframe\">\n",
       "  <thead>\n",
       "    <tr style=\"text-align: right;\">\n",
       "      <th></th>\n",
       "      <th>school</th>\n",
       "      <th>sex</th>\n",
       "      <th>age</th>\n",
       "      <th>address</th>\n",
       "      <th>famsize</th>\n",
       "      <th>Pstatus</th>\n",
       "      <th>Medu</th>\n",
       "      <th>Fedu</th>\n",
       "      <th>Mjob</th>\n",
       "      <th>Fjob</th>\n",
       "      <th>...</th>\n",
       "      <th>famrel</th>\n",
       "      <th>freetime</th>\n",
       "      <th>goout</th>\n",
       "      <th>Dalc</th>\n",
       "      <th>Walc</th>\n",
       "      <th>health</th>\n",
       "      <th>absences</th>\n",
       "      <th>G1</th>\n",
       "      <th>G2</th>\n",
       "      <th>G3</th>\n",
       "    </tr>\n",
       "  </thead>\n",
       "  <tbody>\n",
       "    <tr>\n",
       "      <th>0</th>\n",
       "      <td>GP</td>\n",
       "      <td>F</td>\n",
       "      <td>18</td>\n",
       "      <td>U</td>\n",
       "      <td>GT3</td>\n",
       "      <td>A</td>\n",
       "      <td>4</td>\n",
       "      <td>4</td>\n",
       "      <td>at_home</td>\n",
       "      <td>teacher</td>\n",
       "      <td>...</td>\n",
       "      <td>4</td>\n",
       "      <td>3</td>\n",
       "      <td>4</td>\n",
       "      <td>1</td>\n",
       "      <td>1</td>\n",
       "      <td>3</td>\n",
       "      <td>4</td>\n",
       "      <td>0</td>\n",
       "      <td>11</td>\n",
       "      <td>11</td>\n",
       "    </tr>\n",
       "    <tr>\n",
       "      <th>1</th>\n",
       "      <td>GP</td>\n",
       "      <td>F</td>\n",
       "      <td>17</td>\n",
       "      <td>U</td>\n",
       "      <td>GT3</td>\n",
       "      <td>T</td>\n",
       "      <td>1</td>\n",
       "      <td>1</td>\n",
       "      <td>at_home</td>\n",
       "      <td>other</td>\n",
       "      <td>...</td>\n",
       "      <td>5</td>\n",
       "      <td>3</td>\n",
       "      <td>3</td>\n",
       "      <td>1</td>\n",
       "      <td>1</td>\n",
       "      <td>3</td>\n",
       "      <td>2</td>\n",
       "      <td>9</td>\n",
       "      <td>11</td>\n",
       "      <td>11</td>\n",
       "    </tr>\n",
       "    <tr>\n",
       "      <th>2</th>\n",
       "      <td>GP</td>\n",
       "      <td>F</td>\n",
       "      <td>15</td>\n",
       "      <td>U</td>\n",
       "      <td>LE3</td>\n",
       "      <td>T</td>\n",
       "      <td>1</td>\n",
       "      <td>1</td>\n",
       "      <td>at_home</td>\n",
       "      <td>other</td>\n",
       "      <td>...</td>\n",
       "      <td>4</td>\n",
       "      <td>3</td>\n",
       "      <td>2</td>\n",
       "      <td>2</td>\n",
       "      <td>3</td>\n",
       "      <td>3</td>\n",
       "      <td>6</td>\n",
       "      <td>12</td>\n",
       "      <td>13</td>\n",
       "      <td>12</td>\n",
       "    </tr>\n",
       "    <tr>\n",
       "      <th>3</th>\n",
       "      <td>GP</td>\n",
       "      <td>F</td>\n",
       "      <td>15</td>\n",
       "      <td>U</td>\n",
       "      <td>GT3</td>\n",
       "      <td>T</td>\n",
       "      <td>4</td>\n",
       "      <td>2</td>\n",
       "      <td>health</td>\n",
       "      <td>services</td>\n",
       "      <td>...</td>\n",
       "      <td>3</td>\n",
       "      <td>2</td>\n",
       "      <td>2</td>\n",
       "      <td>1</td>\n",
       "      <td>1</td>\n",
       "      <td>5</td>\n",
       "      <td>0</td>\n",
       "      <td>14</td>\n",
       "      <td>14</td>\n",
       "      <td>14</td>\n",
       "    </tr>\n",
       "    <tr>\n",
       "      <th>4</th>\n",
       "      <td>GP</td>\n",
       "      <td>F</td>\n",
       "      <td>16</td>\n",
       "      <td>U</td>\n",
       "      <td>GT3</td>\n",
       "      <td>T</td>\n",
       "      <td>3</td>\n",
       "      <td>3</td>\n",
       "      <td>other</td>\n",
       "      <td>other</td>\n",
       "      <td>...</td>\n",
       "      <td>4</td>\n",
       "      <td>3</td>\n",
       "      <td>2</td>\n",
       "      <td>1</td>\n",
       "      <td>2</td>\n",
       "      <td>5</td>\n",
       "      <td>0</td>\n",
       "      <td>11</td>\n",
       "      <td>13</td>\n",
       "      <td>13</td>\n",
       "    </tr>\n",
       "  </tbody>\n",
       "</table>\n",
       "<p>5 rows × 33 columns</p>\n",
       "</div>"
      ],
      "text/plain": [
       "  school sex  age address famsize Pstatus  Medu  Fedu     Mjob      Fjob  ...  \\\n",
       "0     GP   F   18       U     GT3       A     4     4  at_home   teacher  ...   \n",
       "1     GP   F   17       U     GT3       T     1     1  at_home     other  ...   \n",
       "2     GP   F   15       U     LE3       T     1     1  at_home     other  ...   \n",
       "3     GP   F   15       U     GT3       T     4     2   health  services  ...   \n",
       "4     GP   F   16       U     GT3       T     3     3    other     other  ...   \n",
       "\n",
       "  famrel freetime  goout  Dalc  Walc health absences  G1  G2  G3  \n",
       "0      4        3      4     1     1      3        4   0  11  11  \n",
       "1      5        3      3     1     1      3        2   9  11  11  \n",
       "2      4        3      2     2     3      3        6  12  13  12  \n",
       "3      3        2      2     1     1      5        0  14  14  14  \n",
       "4      4        3      2     1     2      5        0  11  13  13  \n",
       "\n",
       "[5 rows x 33 columns]"
      ]
     },
     "execution_count": 2,
     "metadata": {},
     "output_type": "execute_result"
    }
   ],
   "source": [
    "grades_df=pd.read_csv('https://lovespreadsheet-tutorials.s3.amazonaws.com/APIDatasets/school_grades_dataset.csv')\n",
    "grades_df.head()"
   ]
  },
  {
   "cell_type": "code",
   "execution_count": 3,
   "metadata": {
    "colab": {
     "base_uri": "https://localhost:8080/",
     "height": 439
    },
    "id": "rFaCOuCMyD47",
    "outputId": "f0573d93-9490-4c43-f050-1508460e594e"
   },
   "outputs": [
    {
     "data": {
      "text/html": [
       "<div>\n",
       "<style scoped>\n",
       "    .dataframe tbody tr th:only-of-type {\n",
       "        vertical-align: middle;\n",
       "    }\n",
       "\n",
       "    .dataframe tbody tr th {\n",
       "        vertical-align: top;\n",
       "    }\n",
       "\n",
       "    .dataframe thead th {\n",
       "        text-align: right;\n",
       "    }\n",
       "</style>\n",
       "<table border=\"1\" class=\"dataframe\">\n",
       "  <thead>\n",
       "    <tr style=\"text-align: right;\">\n",
       "      <th></th>\n",
       "      <th>school</th>\n",
       "      <th>sex</th>\n",
       "      <th>age</th>\n",
       "      <th>address</th>\n",
       "      <th>famsize</th>\n",
       "      <th>Pstatus</th>\n",
       "      <th>Medu</th>\n",
       "      <th>Fedu</th>\n",
       "      <th>Mjob</th>\n",
       "      <th>Fjob</th>\n",
       "      <th>...</th>\n",
       "      <th>famrel</th>\n",
       "      <th>freetime</th>\n",
       "      <th>goout</th>\n",
       "      <th>Dalc</th>\n",
       "      <th>Walc</th>\n",
       "      <th>health</th>\n",
       "      <th>absences</th>\n",
       "      <th>G1</th>\n",
       "      <th>G2</th>\n",
       "      <th>G3</th>\n",
       "    </tr>\n",
       "  </thead>\n",
       "  <tbody>\n",
       "    <tr>\n",
       "      <th>0</th>\n",
       "      <td>GP</td>\n",
       "      <td>F</td>\n",
       "      <td>18</td>\n",
       "      <td>U</td>\n",
       "      <td>GT3</td>\n",
       "      <td>A</td>\n",
       "      <td>4</td>\n",
       "      <td>4</td>\n",
       "      <td>at_home</td>\n",
       "      <td>teacher</td>\n",
       "      <td>...</td>\n",
       "      <td>4</td>\n",
       "      <td>3</td>\n",
       "      <td>4</td>\n",
       "      <td>1</td>\n",
       "      <td>1</td>\n",
       "      <td>3</td>\n",
       "      <td>4</td>\n",
       "      <td>0</td>\n",
       "      <td>11</td>\n",
       "      <td>11</td>\n",
       "    </tr>\n",
       "    <tr>\n",
       "      <th>1</th>\n",
       "      <td>GP</td>\n",
       "      <td>F</td>\n",
       "      <td>17</td>\n",
       "      <td>U</td>\n",
       "      <td>GT3</td>\n",
       "      <td>T</td>\n",
       "      <td>1</td>\n",
       "      <td>1</td>\n",
       "      <td>at_home</td>\n",
       "      <td>other</td>\n",
       "      <td>...</td>\n",
       "      <td>5</td>\n",
       "      <td>3</td>\n",
       "      <td>3</td>\n",
       "      <td>1</td>\n",
       "      <td>1</td>\n",
       "      <td>3</td>\n",
       "      <td>2</td>\n",
       "      <td>9</td>\n",
       "      <td>11</td>\n",
       "      <td>11</td>\n",
       "    </tr>\n",
       "    <tr>\n",
       "      <th>2</th>\n",
       "      <td>GP</td>\n",
       "      <td>F</td>\n",
       "      <td>15</td>\n",
       "      <td>U</td>\n",
       "      <td>LE3</td>\n",
       "      <td>T</td>\n",
       "      <td>1</td>\n",
       "      <td>1</td>\n",
       "      <td>at_home</td>\n",
       "      <td>other</td>\n",
       "      <td>...</td>\n",
       "      <td>4</td>\n",
       "      <td>3</td>\n",
       "      <td>2</td>\n",
       "      <td>2</td>\n",
       "      <td>3</td>\n",
       "      <td>3</td>\n",
       "      <td>6</td>\n",
       "      <td>12</td>\n",
       "      <td>13</td>\n",
       "      <td>12</td>\n",
       "    </tr>\n",
       "    <tr>\n",
       "      <th>3</th>\n",
       "      <td>GP</td>\n",
       "      <td>F</td>\n",
       "      <td>15</td>\n",
       "      <td>U</td>\n",
       "      <td>GT3</td>\n",
       "      <td>T</td>\n",
       "      <td>4</td>\n",
       "      <td>2</td>\n",
       "      <td>health</td>\n",
       "      <td>services</td>\n",
       "      <td>...</td>\n",
       "      <td>3</td>\n",
       "      <td>2</td>\n",
       "      <td>2</td>\n",
       "      <td>1</td>\n",
       "      <td>1</td>\n",
       "      <td>5</td>\n",
       "      <td>0</td>\n",
       "      <td>14</td>\n",
       "      <td>14</td>\n",
       "      <td>14</td>\n",
       "    </tr>\n",
       "    <tr>\n",
       "      <th>4</th>\n",
       "      <td>GP</td>\n",
       "      <td>F</td>\n",
       "      <td>16</td>\n",
       "      <td>U</td>\n",
       "      <td>GT3</td>\n",
       "      <td>T</td>\n",
       "      <td>3</td>\n",
       "      <td>3</td>\n",
       "      <td>other</td>\n",
       "      <td>other</td>\n",
       "      <td>...</td>\n",
       "      <td>4</td>\n",
       "      <td>3</td>\n",
       "      <td>2</td>\n",
       "      <td>1</td>\n",
       "      <td>2</td>\n",
       "      <td>5</td>\n",
       "      <td>0</td>\n",
       "      <td>11</td>\n",
       "      <td>13</td>\n",
       "      <td>13</td>\n",
       "    </tr>\n",
       "    <tr>\n",
       "      <th>...</th>\n",
       "      <td>...</td>\n",
       "      <td>...</td>\n",
       "      <td>...</td>\n",
       "      <td>...</td>\n",
       "      <td>...</td>\n",
       "      <td>...</td>\n",
       "      <td>...</td>\n",
       "      <td>...</td>\n",
       "      <td>...</td>\n",
       "      <td>...</td>\n",
       "      <td>...</td>\n",
       "      <td>...</td>\n",
       "      <td>...</td>\n",
       "      <td>...</td>\n",
       "      <td>...</td>\n",
       "      <td>...</td>\n",
       "      <td>...</td>\n",
       "      <td>...</td>\n",
       "      <td>...</td>\n",
       "      <td>...</td>\n",
       "      <td>...</td>\n",
       "    </tr>\n",
       "    <tr>\n",
       "      <th>644</th>\n",
       "      <td>MS</td>\n",
       "      <td>F</td>\n",
       "      <td>19</td>\n",
       "      <td>R</td>\n",
       "      <td>GT3</td>\n",
       "      <td>T</td>\n",
       "      <td>2</td>\n",
       "      <td>3</td>\n",
       "      <td>services</td>\n",
       "      <td>other</td>\n",
       "      <td>...</td>\n",
       "      <td>5</td>\n",
       "      <td>4</td>\n",
       "      <td>2</td>\n",
       "      <td>1</td>\n",
       "      <td>2</td>\n",
       "      <td>5</td>\n",
       "      <td>4</td>\n",
       "      <td>10</td>\n",
       "      <td>11</td>\n",
       "      <td>10</td>\n",
       "    </tr>\n",
       "    <tr>\n",
       "      <th>645</th>\n",
       "      <td>MS</td>\n",
       "      <td>F</td>\n",
       "      <td>18</td>\n",
       "      <td>U</td>\n",
       "      <td>LE3</td>\n",
       "      <td>T</td>\n",
       "      <td>3</td>\n",
       "      <td>1</td>\n",
       "      <td>teacher</td>\n",
       "      <td>services</td>\n",
       "      <td>...</td>\n",
       "      <td>4</td>\n",
       "      <td>3</td>\n",
       "      <td>4</td>\n",
       "      <td>1</td>\n",
       "      <td>1</td>\n",
       "      <td>1</td>\n",
       "      <td>4</td>\n",
       "      <td>15</td>\n",
       "      <td>15</td>\n",
       "      <td>16</td>\n",
       "    </tr>\n",
       "    <tr>\n",
       "      <th>646</th>\n",
       "      <td>MS</td>\n",
       "      <td>F</td>\n",
       "      <td>18</td>\n",
       "      <td>U</td>\n",
       "      <td>GT3</td>\n",
       "      <td>T</td>\n",
       "      <td>1</td>\n",
       "      <td>1</td>\n",
       "      <td>other</td>\n",
       "      <td>other</td>\n",
       "      <td>...</td>\n",
       "      <td>1</td>\n",
       "      <td>1</td>\n",
       "      <td>1</td>\n",
       "      <td>1</td>\n",
       "      <td>1</td>\n",
       "      <td>5</td>\n",
       "      <td>6</td>\n",
       "      <td>11</td>\n",
       "      <td>12</td>\n",
       "      <td>9</td>\n",
       "    </tr>\n",
       "    <tr>\n",
       "      <th>647</th>\n",
       "      <td>MS</td>\n",
       "      <td>M</td>\n",
       "      <td>17</td>\n",
       "      <td>U</td>\n",
       "      <td>LE3</td>\n",
       "      <td>T</td>\n",
       "      <td>3</td>\n",
       "      <td>1</td>\n",
       "      <td>services</td>\n",
       "      <td>services</td>\n",
       "      <td>...</td>\n",
       "      <td>2</td>\n",
       "      <td>4</td>\n",
       "      <td>5</td>\n",
       "      <td>3</td>\n",
       "      <td>4</td>\n",
       "      <td>2</td>\n",
       "      <td>6</td>\n",
       "      <td>10</td>\n",
       "      <td>10</td>\n",
       "      <td>10</td>\n",
       "    </tr>\n",
       "    <tr>\n",
       "      <th>648</th>\n",
       "      <td>MS</td>\n",
       "      <td>M</td>\n",
       "      <td>18</td>\n",
       "      <td>R</td>\n",
       "      <td>LE3</td>\n",
       "      <td>T</td>\n",
       "      <td>3</td>\n",
       "      <td>2</td>\n",
       "      <td>services</td>\n",
       "      <td>other</td>\n",
       "      <td>...</td>\n",
       "      <td>4</td>\n",
       "      <td>4</td>\n",
       "      <td>1</td>\n",
       "      <td>3</td>\n",
       "      <td>4</td>\n",
       "      <td>5</td>\n",
       "      <td>4</td>\n",
       "      <td>10</td>\n",
       "      <td>11</td>\n",
       "      <td>11</td>\n",
       "    </tr>\n",
       "  </tbody>\n",
       "</table>\n",
       "<p>649 rows × 33 columns</p>\n",
       "</div>"
      ],
      "text/plain": [
       "    school sex  age address famsize Pstatus  Medu  Fedu      Mjob      Fjob  \\\n",
       "0       GP   F   18       U     GT3       A     4     4   at_home   teacher   \n",
       "1       GP   F   17       U     GT3       T     1     1   at_home     other   \n",
       "2       GP   F   15       U     LE3       T     1     1   at_home     other   \n",
       "3       GP   F   15       U     GT3       T     4     2    health  services   \n",
       "4       GP   F   16       U     GT3       T     3     3     other     other   \n",
       "..     ...  ..  ...     ...     ...     ...   ...   ...       ...       ...   \n",
       "644     MS   F   19       R     GT3       T     2     3  services     other   \n",
       "645     MS   F   18       U     LE3       T     3     1   teacher  services   \n",
       "646     MS   F   18       U     GT3       T     1     1     other     other   \n",
       "647     MS   M   17       U     LE3       T     3     1  services  services   \n",
       "648     MS   M   18       R     LE3       T     3     2  services     other   \n",
       "\n",
       "     ... famrel freetime  goout  Dalc  Walc health absences  G1  G2  G3  \n",
       "0    ...      4        3      4     1     1      3        4   0  11  11  \n",
       "1    ...      5        3      3     1     1      3        2   9  11  11  \n",
       "2    ...      4        3      2     2     3      3        6  12  13  12  \n",
       "3    ...      3        2      2     1     1      5        0  14  14  14  \n",
       "4    ...      4        3      2     1     2      5        0  11  13  13  \n",
       "..   ...    ...      ...    ...   ...   ...    ...      ...  ..  ..  ..  \n",
       "644  ...      5        4      2     1     2      5        4  10  11  10  \n",
       "645  ...      4        3      4     1     1      1        4  15  15  16  \n",
       "646  ...      1        1      1     1     1      5        6  11  12   9  \n",
       "647  ...      2        4      5     3     4      2        6  10  10  10  \n",
       "648  ...      4        4      1     3     4      5        4  10  11  11  \n",
       "\n",
       "[649 rows x 33 columns]"
      ]
     },
     "execution_count": 3,
     "metadata": {},
     "output_type": "execute_result"
    }
   ],
   "source": [
    "grades_changed=grades_df.copy()\n",
    "grades_changed"
   ]
  },
  {
   "cell_type": "markdown",
   "metadata": {
    "id": "f3VnBFSKucBJ"
   },
   "source": [
    "Jak widać wiele kolumn zawiera wartości inne niż takie będące liczbowymi. Stąd by przeprowadzić lepsze modelowanie, postanowiliśmy zamienić je na wartości numeryczne."
   ]
  },
  {
   "cell_type": "code",
   "execution_count": 4,
   "metadata": {
    "id": "yvpIaALsutl8"
   },
   "outputs": [],
   "source": [
    "def SchoolName(school):\n",
    "  return{\n",
    "      \"GP\":0,\n",
    "      \"MS\":1\n",
    "  }[school]\n",
    "\n",
    "def FemaleMen(gender):\n",
    "  return{\n",
    "      \"F\": 0,\n",
    "      \"M\":1\n",
    "  }[gender]\n",
    "\n",
    "def Address(address):\n",
    "  return{\n",
    "      \"U\":0,\n",
    "      \"R\":1\n",
    "  }[address]\n",
    "\n",
    "def FamSize(family):\n",
    "  return{\n",
    "      \"LE3\":0,\n",
    "      \"GT3\":1\n",
    "  }[family]\n",
    "\n",
    "def Pstatus(parents):\n",
    "  return{\n",
    "      \"A\":0,\n",
    "      \"T\":1\n",
    "  }[parents]\n",
    "\n",
    "\n",
    "def SchoolSup(support):\n",
    "  return{\n",
    "      \"yes\":1,\n",
    "      \"no\":0\n",
    "  }[support]\n",
    "\n",
    "def FamilySup(Fsupport):\n",
    "  return{\n",
    "      \"yes\":1,\n",
    "      \"no\":0\n",
    "  }[Fsupport]\n",
    "\n",
    "def Paid(paid):\n",
    "  return{\n",
    "      \"yes\":1,\n",
    "      \"no\":0\n",
    "  }[paid] \n",
    "\n",
    "def Activities(activ):\n",
    "  return{\n",
    "      \"yes\":1,\n",
    "      \"no\":0\n",
    "  }[activ]\n",
    "\n",
    "def Nursery(nurs):\n",
    "  return{\n",
    "      \"yes\":1,\n",
    "      \"no\":0\n",
    "  }[nurs]\n",
    "\n",
    "def Higher(high):\n",
    "  return{\n",
    "      \"yes\":1,\n",
    "      \"no\":0\n",
    "  }[high]\n",
    "\n",
    "def Internet(net):\n",
    "  return{\n",
    "      \"yes\":1,\n",
    "      \"no\":0\n",
    "  }[net]\n",
    "\n",
    "def Romantic(rom):\n",
    "  return{\n",
    "      \"yes\":1,\n",
    "      \"no\":0\n",
    "  }[rom]"
   ]
  },
  {
   "cell_type": "code",
   "execution_count": 5,
   "metadata": {
    "colab": {
     "base_uri": "https://localhost:8080/",
     "height": 224
    },
    "id": "o4QwtwWRuLfO",
    "outputId": "d4accc02-e9f0-4df2-9b62-1c02cc5e0bda"
   },
   "outputs": [
    {
     "data": {
      "text/html": [
       "<div>\n",
       "<style scoped>\n",
       "    .dataframe tbody tr th:only-of-type {\n",
       "        vertical-align: middle;\n",
       "    }\n",
       "\n",
       "    .dataframe tbody tr th {\n",
       "        vertical-align: top;\n",
       "    }\n",
       "\n",
       "    .dataframe thead th {\n",
       "        text-align: right;\n",
       "    }\n",
       "</style>\n",
       "<table border=\"1\" class=\"dataframe\">\n",
       "  <thead>\n",
       "    <tr style=\"text-align: right;\">\n",
       "      <th></th>\n",
       "      <th>school</th>\n",
       "      <th>sex</th>\n",
       "      <th>age</th>\n",
       "      <th>address</th>\n",
       "      <th>famsize</th>\n",
       "      <th>Pstatus</th>\n",
       "      <th>Medu</th>\n",
       "      <th>Fedu</th>\n",
       "      <th>Mjob</th>\n",
       "      <th>Fjob</th>\n",
       "      <th>...</th>\n",
       "      <th>famrel</th>\n",
       "      <th>freetime</th>\n",
       "      <th>goout</th>\n",
       "      <th>Dalc</th>\n",
       "      <th>Walc</th>\n",
       "      <th>health</th>\n",
       "      <th>absences</th>\n",
       "      <th>G1</th>\n",
       "      <th>G2</th>\n",
       "      <th>G3</th>\n",
       "    </tr>\n",
       "  </thead>\n",
       "  <tbody>\n",
       "    <tr>\n",
       "      <th>0</th>\n",
       "      <td>0</td>\n",
       "      <td>0</td>\n",
       "      <td>18</td>\n",
       "      <td>0</td>\n",
       "      <td>1</td>\n",
       "      <td>0</td>\n",
       "      <td>4</td>\n",
       "      <td>4</td>\n",
       "      <td>at_home</td>\n",
       "      <td>teacher</td>\n",
       "      <td>...</td>\n",
       "      <td>4</td>\n",
       "      <td>3</td>\n",
       "      <td>4</td>\n",
       "      <td>1</td>\n",
       "      <td>1</td>\n",
       "      <td>3</td>\n",
       "      <td>4</td>\n",
       "      <td>0</td>\n",
       "      <td>11</td>\n",
       "      <td>11</td>\n",
       "    </tr>\n",
       "    <tr>\n",
       "      <th>1</th>\n",
       "      <td>0</td>\n",
       "      <td>0</td>\n",
       "      <td>17</td>\n",
       "      <td>0</td>\n",
       "      <td>1</td>\n",
       "      <td>1</td>\n",
       "      <td>1</td>\n",
       "      <td>1</td>\n",
       "      <td>at_home</td>\n",
       "      <td>other</td>\n",
       "      <td>...</td>\n",
       "      <td>5</td>\n",
       "      <td>3</td>\n",
       "      <td>3</td>\n",
       "      <td>1</td>\n",
       "      <td>1</td>\n",
       "      <td>3</td>\n",
       "      <td>2</td>\n",
       "      <td>9</td>\n",
       "      <td>11</td>\n",
       "      <td>11</td>\n",
       "    </tr>\n",
       "    <tr>\n",
       "      <th>2</th>\n",
       "      <td>0</td>\n",
       "      <td>0</td>\n",
       "      <td>15</td>\n",
       "      <td>0</td>\n",
       "      <td>0</td>\n",
       "      <td>1</td>\n",
       "      <td>1</td>\n",
       "      <td>1</td>\n",
       "      <td>at_home</td>\n",
       "      <td>other</td>\n",
       "      <td>...</td>\n",
       "      <td>4</td>\n",
       "      <td>3</td>\n",
       "      <td>2</td>\n",
       "      <td>2</td>\n",
       "      <td>3</td>\n",
       "      <td>3</td>\n",
       "      <td>6</td>\n",
       "      <td>12</td>\n",
       "      <td>13</td>\n",
       "      <td>12</td>\n",
       "    </tr>\n",
       "    <tr>\n",
       "      <th>3</th>\n",
       "      <td>0</td>\n",
       "      <td>0</td>\n",
       "      <td>15</td>\n",
       "      <td>0</td>\n",
       "      <td>1</td>\n",
       "      <td>1</td>\n",
       "      <td>4</td>\n",
       "      <td>2</td>\n",
       "      <td>health</td>\n",
       "      <td>services</td>\n",
       "      <td>...</td>\n",
       "      <td>3</td>\n",
       "      <td>2</td>\n",
       "      <td>2</td>\n",
       "      <td>1</td>\n",
       "      <td>1</td>\n",
       "      <td>5</td>\n",
       "      <td>0</td>\n",
       "      <td>14</td>\n",
       "      <td>14</td>\n",
       "      <td>14</td>\n",
       "    </tr>\n",
       "    <tr>\n",
       "      <th>4</th>\n",
       "      <td>0</td>\n",
       "      <td>0</td>\n",
       "      <td>16</td>\n",
       "      <td>0</td>\n",
       "      <td>1</td>\n",
       "      <td>1</td>\n",
       "      <td>3</td>\n",
       "      <td>3</td>\n",
       "      <td>other</td>\n",
       "      <td>other</td>\n",
       "      <td>...</td>\n",
       "      <td>4</td>\n",
       "      <td>3</td>\n",
       "      <td>2</td>\n",
       "      <td>1</td>\n",
       "      <td>2</td>\n",
       "      <td>5</td>\n",
       "      <td>0</td>\n",
       "      <td>11</td>\n",
       "      <td>13</td>\n",
       "      <td>13</td>\n",
       "    </tr>\n",
       "  </tbody>\n",
       "</table>\n",
       "<p>5 rows × 33 columns</p>\n",
       "</div>"
      ],
      "text/plain": [
       "   school  sex  age  address  famsize  Pstatus  Medu  Fedu     Mjob      Fjob  \\\n",
       "0       0    0   18        0        1        0     4     4  at_home   teacher   \n",
       "1       0    0   17        0        1        1     1     1  at_home     other   \n",
       "2       0    0   15        0        0        1     1     1  at_home     other   \n",
       "3       0    0   15        0        1        1     4     2   health  services   \n",
       "4       0    0   16        0        1        1     3     3    other     other   \n",
       "\n",
       "   ... famrel freetime  goout  Dalc  Walc  health  absences  G1  G2  G3  \n",
       "0  ...      4        3      4     1     1       3         4   0  11  11  \n",
       "1  ...      5        3      3     1     1       3         2   9  11  11  \n",
       "2  ...      4        3      2     2     3       3         6  12  13  12  \n",
       "3  ...      3        2      2     1     1       5         0  14  14  14  \n",
       "4  ...      4        3      2     1     2       5         0  11  13  13  \n",
       "\n",
       "[5 rows x 33 columns]"
      ]
     },
     "execution_count": 5,
     "metadata": {},
     "output_type": "execute_result"
    }
   ],
   "source": [
    "grades_changed.school=grades_changed.school.apply(SchoolName)\n",
    "grades_changed.sex=grades_changed.sex.apply(FemaleMen)\n",
    "grades_changed.address=grades_changed.address.apply(Address)\n",
    "grades_changed.famsize=grades_changed.famsize.apply(FamSize)\n",
    "grades_changed.Pstatus=grades_changed.Pstatus.apply(Pstatus)\n",
    "grades_changed.schoolsup=grades_changed.schoolsup.apply(SchoolSup)\n",
    "grades_changed.famsup=grades_changed.famsup.apply(FamilySup)\n",
    "grades_changed.paid=grades_changed.paid.apply(Paid)\n",
    "grades_changed.activities=grades_changed.activities.apply(Activities)\n",
    "grades_changed.nursery=grades_changed.nursery.apply(Nursery)\n",
    "grades_changed.higher=grades_changed.higher.apply(Higher)\n",
    "grades_changed.internet=grades_changed.internet.apply(Internet)\n",
    "grades_changed.romantic=grades_changed.romantic.apply(Romantic)\n",
    "grades_changed.head()"
   ]
  },
  {
   "cell_type": "markdown",
   "metadata": {
    "id": "UvG7NNof22Dh"
   },
   "source": [
    "Teraz jeszcze zamienimy pozostałe cztery kolumny za pomocą One-Hot encoding."
   ]
  },
  {
   "cell_type": "code",
   "execution_count": 6,
   "metadata": {
    "id": "jGHwifZZ21kp"
   },
   "outputs": [],
   "source": [
    "#Mjob, Fjob, reason, guardian\n",
    "one_hot_enc_0=OneHotEncoder(use_cat_names=True).fit_transform(grades_changed.Mjob)\n",
    "one_hot_enc_1=OneHotEncoder(use_cat_names=True).fit_transform(grades_changed.Fjob)\n",
    "one_hot_enc_2=OneHotEncoder(use_cat_names=True).fit_transform(grades_changed.reason)\n",
    "one_hot_enc_3=OneHotEncoder(use_cat_names=True).fit_transform(grades_changed.guardian)"
   ]
  },
  {
   "cell_type": "code",
   "execution_count": 7,
   "metadata": {
    "colab": {
     "base_uri": "https://localhost:8080/",
     "height": 439
    },
    "id": "4KVYAJj33_Dx",
    "outputId": "9d3ce73b-7a5d-4879-d5bc-9928bf5c6267"
   },
   "outputs": [
    {
     "data": {
      "text/html": [
       "<div>\n",
       "<style scoped>\n",
       "    .dataframe tbody tr th:only-of-type {\n",
       "        vertical-align: middle;\n",
       "    }\n",
       "\n",
       "    .dataframe tbody tr th {\n",
       "        vertical-align: top;\n",
       "    }\n",
       "\n",
       "    .dataframe thead th {\n",
       "        text-align: right;\n",
       "    }\n",
       "</style>\n",
       "<table border=\"1\" class=\"dataframe\">\n",
       "  <thead>\n",
       "    <tr style=\"text-align: right;\">\n",
       "      <th></th>\n",
       "      <th>school</th>\n",
       "      <th>sex</th>\n",
       "      <th>age</th>\n",
       "      <th>address</th>\n",
       "      <th>famsize</th>\n",
       "      <th>Pstatus</th>\n",
       "      <th>Medu</th>\n",
       "      <th>Fedu</th>\n",
       "      <th>traveltime</th>\n",
       "      <th>studytime</th>\n",
       "      <th>...</th>\n",
       "      <th>Fjob_services</th>\n",
       "      <th>Fjob_health</th>\n",
       "      <th>Fjob_at_home</th>\n",
       "      <th>reason_course</th>\n",
       "      <th>reason_other</th>\n",
       "      <th>reason_home</th>\n",
       "      <th>reason_reputation</th>\n",
       "      <th>guardian_mother</th>\n",
       "      <th>guardian_father</th>\n",
       "      <th>guardian_other</th>\n",
       "    </tr>\n",
       "  </thead>\n",
       "  <tbody>\n",
       "    <tr>\n",
       "      <th>0</th>\n",
       "      <td>0</td>\n",
       "      <td>0</td>\n",
       "      <td>18</td>\n",
       "      <td>0</td>\n",
       "      <td>1</td>\n",
       "      <td>0</td>\n",
       "      <td>4</td>\n",
       "      <td>4</td>\n",
       "      <td>2</td>\n",
       "      <td>2</td>\n",
       "      <td>...</td>\n",
       "      <td>0</td>\n",
       "      <td>0</td>\n",
       "      <td>0</td>\n",
       "      <td>1</td>\n",
       "      <td>0</td>\n",
       "      <td>0</td>\n",
       "      <td>0</td>\n",
       "      <td>1</td>\n",
       "      <td>0</td>\n",
       "      <td>0</td>\n",
       "    </tr>\n",
       "    <tr>\n",
       "      <th>1</th>\n",
       "      <td>0</td>\n",
       "      <td>0</td>\n",
       "      <td>17</td>\n",
       "      <td>0</td>\n",
       "      <td>1</td>\n",
       "      <td>1</td>\n",
       "      <td>1</td>\n",
       "      <td>1</td>\n",
       "      <td>1</td>\n",
       "      <td>2</td>\n",
       "      <td>...</td>\n",
       "      <td>0</td>\n",
       "      <td>0</td>\n",
       "      <td>0</td>\n",
       "      <td>1</td>\n",
       "      <td>0</td>\n",
       "      <td>0</td>\n",
       "      <td>0</td>\n",
       "      <td>0</td>\n",
       "      <td>1</td>\n",
       "      <td>0</td>\n",
       "    </tr>\n",
       "    <tr>\n",
       "      <th>2</th>\n",
       "      <td>0</td>\n",
       "      <td>0</td>\n",
       "      <td>15</td>\n",
       "      <td>0</td>\n",
       "      <td>0</td>\n",
       "      <td>1</td>\n",
       "      <td>1</td>\n",
       "      <td>1</td>\n",
       "      <td>1</td>\n",
       "      <td>2</td>\n",
       "      <td>...</td>\n",
       "      <td>0</td>\n",
       "      <td>0</td>\n",
       "      <td>0</td>\n",
       "      <td>0</td>\n",
       "      <td>1</td>\n",
       "      <td>0</td>\n",
       "      <td>0</td>\n",
       "      <td>1</td>\n",
       "      <td>0</td>\n",
       "      <td>0</td>\n",
       "    </tr>\n",
       "    <tr>\n",
       "      <th>3</th>\n",
       "      <td>0</td>\n",
       "      <td>0</td>\n",
       "      <td>15</td>\n",
       "      <td>0</td>\n",
       "      <td>1</td>\n",
       "      <td>1</td>\n",
       "      <td>4</td>\n",
       "      <td>2</td>\n",
       "      <td>1</td>\n",
       "      <td>3</td>\n",
       "      <td>...</td>\n",
       "      <td>1</td>\n",
       "      <td>0</td>\n",
       "      <td>0</td>\n",
       "      <td>0</td>\n",
       "      <td>0</td>\n",
       "      <td>1</td>\n",
       "      <td>0</td>\n",
       "      <td>1</td>\n",
       "      <td>0</td>\n",
       "      <td>0</td>\n",
       "    </tr>\n",
       "    <tr>\n",
       "      <th>4</th>\n",
       "      <td>0</td>\n",
       "      <td>0</td>\n",
       "      <td>16</td>\n",
       "      <td>0</td>\n",
       "      <td>1</td>\n",
       "      <td>1</td>\n",
       "      <td>3</td>\n",
       "      <td>3</td>\n",
       "      <td>1</td>\n",
       "      <td>2</td>\n",
       "      <td>...</td>\n",
       "      <td>0</td>\n",
       "      <td>0</td>\n",
       "      <td>0</td>\n",
       "      <td>0</td>\n",
       "      <td>0</td>\n",
       "      <td>1</td>\n",
       "      <td>0</td>\n",
       "      <td>0</td>\n",
       "      <td>1</td>\n",
       "      <td>0</td>\n",
       "    </tr>\n",
       "    <tr>\n",
       "      <th>...</th>\n",
       "      <td>...</td>\n",
       "      <td>...</td>\n",
       "      <td>...</td>\n",
       "      <td>...</td>\n",
       "      <td>...</td>\n",
       "      <td>...</td>\n",
       "      <td>...</td>\n",
       "      <td>...</td>\n",
       "      <td>...</td>\n",
       "      <td>...</td>\n",
       "      <td>...</td>\n",
       "      <td>...</td>\n",
       "      <td>...</td>\n",
       "      <td>...</td>\n",
       "      <td>...</td>\n",
       "      <td>...</td>\n",
       "      <td>...</td>\n",
       "      <td>...</td>\n",
       "      <td>...</td>\n",
       "      <td>...</td>\n",
       "      <td>...</td>\n",
       "    </tr>\n",
       "    <tr>\n",
       "      <th>644</th>\n",
       "      <td>1</td>\n",
       "      <td>0</td>\n",
       "      <td>19</td>\n",
       "      <td>1</td>\n",
       "      <td>1</td>\n",
       "      <td>1</td>\n",
       "      <td>2</td>\n",
       "      <td>3</td>\n",
       "      <td>1</td>\n",
       "      <td>3</td>\n",
       "      <td>...</td>\n",
       "      <td>0</td>\n",
       "      <td>0</td>\n",
       "      <td>0</td>\n",
       "      <td>1</td>\n",
       "      <td>0</td>\n",
       "      <td>0</td>\n",
       "      <td>0</td>\n",
       "      <td>1</td>\n",
       "      <td>0</td>\n",
       "      <td>0</td>\n",
       "    </tr>\n",
       "    <tr>\n",
       "      <th>645</th>\n",
       "      <td>1</td>\n",
       "      <td>0</td>\n",
       "      <td>18</td>\n",
       "      <td>0</td>\n",
       "      <td>0</td>\n",
       "      <td>1</td>\n",
       "      <td>3</td>\n",
       "      <td>1</td>\n",
       "      <td>1</td>\n",
       "      <td>2</td>\n",
       "      <td>...</td>\n",
       "      <td>1</td>\n",
       "      <td>0</td>\n",
       "      <td>0</td>\n",
       "      <td>1</td>\n",
       "      <td>0</td>\n",
       "      <td>0</td>\n",
       "      <td>0</td>\n",
       "      <td>1</td>\n",
       "      <td>0</td>\n",
       "      <td>0</td>\n",
       "    </tr>\n",
       "    <tr>\n",
       "      <th>646</th>\n",
       "      <td>1</td>\n",
       "      <td>0</td>\n",
       "      <td>18</td>\n",
       "      <td>0</td>\n",
       "      <td>1</td>\n",
       "      <td>1</td>\n",
       "      <td>1</td>\n",
       "      <td>1</td>\n",
       "      <td>2</td>\n",
       "      <td>2</td>\n",
       "      <td>...</td>\n",
       "      <td>0</td>\n",
       "      <td>0</td>\n",
       "      <td>0</td>\n",
       "      <td>1</td>\n",
       "      <td>0</td>\n",
       "      <td>0</td>\n",
       "      <td>0</td>\n",
       "      <td>1</td>\n",
       "      <td>0</td>\n",
       "      <td>0</td>\n",
       "    </tr>\n",
       "    <tr>\n",
       "      <th>647</th>\n",
       "      <td>1</td>\n",
       "      <td>1</td>\n",
       "      <td>17</td>\n",
       "      <td>0</td>\n",
       "      <td>0</td>\n",
       "      <td>1</td>\n",
       "      <td>3</td>\n",
       "      <td>1</td>\n",
       "      <td>2</td>\n",
       "      <td>1</td>\n",
       "      <td>...</td>\n",
       "      <td>1</td>\n",
       "      <td>0</td>\n",
       "      <td>0</td>\n",
       "      <td>1</td>\n",
       "      <td>0</td>\n",
       "      <td>0</td>\n",
       "      <td>0</td>\n",
       "      <td>1</td>\n",
       "      <td>0</td>\n",
       "      <td>0</td>\n",
       "    </tr>\n",
       "    <tr>\n",
       "      <th>648</th>\n",
       "      <td>1</td>\n",
       "      <td>1</td>\n",
       "      <td>18</td>\n",
       "      <td>1</td>\n",
       "      <td>0</td>\n",
       "      <td>1</td>\n",
       "      <td>3</td>\n",
       "      <td>2</td>\n",
       "      <td>3</td>\n",
       "      <td>1</td>\n",
       "      <td>...</td>\n",
       "      <td>0</td>\n",
       "      <td>0</td>\n",
       "      <td>0</td>\n",
       "      <td>1</td>\n",
       "      <td>0</td>\n",
       "      <td>0</td>\n",
       "      <td>0</td>\n",
       "      <td>1</td>\n",
       "      <td>0</td>\n",
       "      <td>0</td>\n",
       "    </tr>\n",
       "  </tbody>\n",
       "</table>\n",
       "<p>649 rows × 46 columns</p>\n",
       "</div>"
      ],
      "text/plain": [
       "     school  sex  age  address  famsize  Pstatus  Medu  Fedu  traveltime  \\\n",
       "0         0    0   18        0        1        0     4     4           2   \n",
       "1         0    0   17        0        1        1     1     1           1   \n",
       "2         0    0   15        0        0        1     1     1           1   \n",
       "3         0    0   15        0        1        1     4     2           1   \n",
       "4         0    0   16        0        1        1     3     3           1   \n",
       "..      ...  ...  ...      ...      ...      ...   ...   ...         ...   \n",
       "644       1    0   19        1        1        1     2     3           1   \n",
       "645       1    0   18        0        0        1     3     1           1   \n",
       "646       1    0   18        0        1        1     1     1           2   \n",
       "647       1    1   17        0        0        1     3     1           2   \n",
       "648       1    1   18        1        0        1     3     2           3   \n",
       "\n",
       "     studytime  ...  Fjob_services  Fjob_health  Fjob_at_home  reason_course  \\\n",
       "0            2  ...              0            0             0              1   \n",
       "1            2  ...              0            0             0              1   \n",
       "2            2  ...              0            0             0              0   \n",
       "3            3  ...              1            0             0              0   \n",
       "4            2  ...              0            0             0              0   \n",
       "..         ...  ...            ...          ...           ...            ...   \n",
       "644          3  ...              0            0             0              1   \n",
       "645          2  ...              1            0             0              1   \n",
       "646          2  ...              0            0             0              1   \n",
       "647          1  ...              1            0             0              1   \n",
       "648          1  ...              0            0             0              1   \n",
       "\n",
       "     reason_other  reason_home  reason_reputation  guardian_mother  \\\n",
       "0               0            0                  0                1   \n",
       "1               0            0                  0                0   \n",
       "2               1            0                  0                1   \n",
       "3               0            1                  0                1   \n",
       "4               0            1                  0                0   \n",
       "..            ...          ...                ...              ...   \n",
       "644             0            0                  0                1   \n",
       "645             0            0                  0                1   \n",
       "646             0            0                  0                1   \n",
       "647             0            0                  0                1   \n",
       "648             0            0                  0                1   \n",
       "\n",
       "     guardian_father  guardian_other  \n",
       "0                  0               0  \n",
       "1                  1               0  \n",
       "2                  0               0  \n",
       "3                  0               0  \n",
       "4                  1               0  \n",
       "..               ...             ...  \n",
       "644                0               0  \n",
       "645                0               0  \n",
       "646                0               0  \n",
       "647                0               0  \n",
       "648                0               0  \n",
       "\n",
       "[649 rows x 46 columns]"
      ]
     },
     "execution_count": 7,
     "metadata": {},
     "output_type": "execute_result"
    }
   ],
   "source": [
    "grades_changed= grades_changed.join(one_hot_enc_0)\n",
    "grades_changed= grades_changed.join(one_hot_enc_1)\n",
    "grades_changed= grades_changed.join(one_hot_enc_2)\n",
    "grades_changed= grades_changed.join(one_hot_enc_3)\n",
    "del grades_changed['Mjob']\n",
    "del grades_changed['Fjob']\n",
    "del grades_changed['reason']\n",
    "del grades_changed['guardian']\n",
    "grades_changed"
   ]
  },
  {
   "source": [
    "W naszych danych podano wyniki śródsemestralnych egzaminów dla poszczególnych studentów (\"G1\", \"G2\"), które są bardzo zbliżone do wyników ostatecznych (\"G3\"). Stąd zdecydowaliśmy się przygotować modele na dwóch rodzajach danych - tych zawierających kolumny \"G1\" oraz \"G2\" oraz takich, które ich nie zawierają."
   ],
   "cell_type": "markdown",
   "metadata": {}
  },
  {
   "cell_type": "code",
   "execution_count": 8,
   "metadata": {
    "id": "iEOJKlB34cXA"
   },
   "outputs": [],
   "source": [
    "X_without_exams = grades_changed.drop([\"G1\", \"G2\", \"G3\"], axis=1)\n",
    "X_with_exams = grades_changed.drop(\"G3\", axis=1)\n",
    "Y = grades_changed.G3\n",
    "total_results_with = {}\n",
    "total_results_without = {}"
   ]
  },
  {
   "cell_type": "markdown",
   "metadata": {
    "id": "ZI4dzV0nDlia"
   },
   "source": [
    "# Przykładowe modele\n",
    "Na nasz problem można spojrzeć zarówno jako na problem klasyfikacji, jak i regresji, zatem przygotujemy modele dla obu tych rodzajów. Z powodu małej ilości danych do testowania modeli użyjemy metody cross-validation."
   ]
  },
  {
   "cell_type": "markdown",
   "metadata": {
    "id": "2fKtD112rT5F"
   },
   "source": [
    "## Modele klasyfikacyjne"
   ]
  },
  {
   "cell_type": "markdown",
   "metadata": {
    "id": "3Ytk1X-CfW0S"
   },
   "source": [
    "### Logistyczna regresja\n",
    "Na początek sprawdźmy, jak sprawdzi się prosta regresja logistyczna na naszym zbiorze."
   ]
  },
  {
   "cell_type": "code",
   "execution_count": 9,
   "metadata": {
    "id": "kZBxiCKGfWjf"
   },
   "outputs": [],
   "source": [
    "from sklearn.model_selection import cross_validate\n",
    "from sklearn.linear_model import LogisticRegression\n",
    "from sklearn.preprocessing import PolynomialFeatures\n",
    "from sklearn.pipeline import Pipeline\n",
    "\n",
    "logreg = LogisticRegression()\n",
    "standard_with = cross_validate(logreg, X_with_exams, Y, scoring=['accuracy', 'neg_root_mean_squared_error'], cv=6)"
   ]
  },
  {
   "cell_type": "code",
   "execution_count": 10,
   "metadata": {
    "id": "xniu1xCOgU_P"
   },
   "outputs": [],
   "source": [
    "standard_without = cross_validate(logreg, X_without_exams, Y, scoring=['accuracy', 'neg_root_mean_squared_error'], cv=6)"
   ]
  },
  {
   "cell_type": "markdown",
   "metadata": {
    "id": "dPoOx8qSlCDf"
   },
   "source": [
    "Spróbujmy wygenerować nowe wielomianowe cechy i zastosujemy je dla kolumn liczbowych."
   ]
  },
  {
   "cell_type": "code",
   "execution_count": 11,
   "metadata": {
    "id": "nY6r39A1Ph_c"
   },
   "outputs": [],
   "source": [
    "not_categorical = grades_df.select_dtypes(include=np.number).columns.tolist()\n",
    "not_categorical.remove('G3')\n",
    "not_categorical_mod = not_categorical.copy()\n",
    "not_categorical_mod.remove('G2')\n",
    "not_categorical_mod.remove('G1')"
   ]
  },
  {
   "cell_type": "code",
   "execution_count": 12,
   "metadata": {
    "id": "OfDeD89wSuLv"
   },
   "outputs": [],
   "source": [
    "from sklearn.compose import ColumnTransformer\n",
    "poly = ColumnTransformer([\n",
    "                          ('Poly', PolynomialFeatures(2, include_bias=False), not_categorical)\n",
    "                          ],\n",
    "                         remainder='passthrough'\n",
    "                         )\n",
    "logreg_modified = Pipeline([\n",
    "                            (\"Poly\", poly),\n",
    "                            (\"Logreg\", logreg)\n",
    "])\n",
    "poly_with = cross_validate(logreg_modified, X_with_exams, Y, scoring=['accuracy', 'neg_root_mean_squared_error'], cv=6)"
   ]
  },
  {
   "cell_type": "markdown",
   "metadata": {},
   "source": [
    "Teraz robimy to samo, tylko dla danych bez wyników egzaminu."
   ]
  },
  {
   "cell_type": "code",
   "execution_count": 13,
   "metadata": {
    "id": "ueJpBzQFnJDt"
   },
   "outputs": [],
   "source": [
    "poly = ColumnTransformer([\n",
    "                          ('Poly', PolynomialFeatures(2, include_bias=False), not_categorical_mod)\n",
    "                          ],\n",
    "                         remainder='passthrough'\n",
    "                         )\n",
    "logreg_modified = Pipeline([\n",
    "                            (\"Poly\", poly),\n",
    "                            (\"Logreg\", logreg)\n",
    "])\n",
    "\n",
    "poly_without= cross_validate(logreg_modified, X_without_exams, Y, scoring=['accuracy', 'neg_root_mean_squared_error'], cv=6)"
   ]
  },
  {
   "cell_type": "markdown",
   "metadata": {
    "id": "9VbDazzaTRhv"
   },
   "source": [
    "Wygenerowanie wielomianowych feature'ów zapewniło nam lepsze osiągi w przypadku, gdy mieliśmy dane na temat poprzednich egzaminów."
   ]
  },
  {
   "cell_type": "code",
   "execution_count": 14,
   "metadata": {
    "id": "2y59KBbNUAdy"
   },
   "outputs": [
    {
     "data": {
      "image/png": "[encoded data removed]",
      "text/plain": [
       "<Figure size 1152x720 with 1 Axes>"
      ]
     },
     "metadata": {
      "needs_background": "light"
     },
     "output_type": "display_data"
    }
   ],
   "source": [
    "results_df = pd.DataFrame({'Standard with exams': standard_with.get('test_neg_root_mean_squared_error'), \n",
    "                           'Standard without exams':standard_without.get('test_neg_root_mean_squared_error'),\n",
    "                           'Polynomial with exams': poly_with.get('test_neg_root_mean_squared_error'),\n",
    "                           'Polynomial without exams': poly_without.get('test_neg_root_mean_squared_error')})\n",
    "\n",
    "total_results_with.update({\"standard_logreg\":standard_with.get('test_neg_root_mean_squared_error').mean()})\n",
    "total_results_without.update({\"standard_logreg\":standard_without.get('test_neg_root_mean_squared_error').mean()})\n",
    "total_results_with.update({\"poly_logreg\":poly_with.get('test_neg_root_mean_squared_error').mean()})\n",
    "total_results_without.update({\"poly_logreg\":poly_without.get('test_neg_root_mean_squared_error').mean()})\n",
    "\n",
    "results_df = results_df.melt(value_vars=results_df.columns.to_list())\n",
    "\n",
    "plt.figure(figsize=(16,10))\n",
    "sns.swarmplot(data=results_df, x='variable', y='value')\n",
    "plt.show()"
   ]
  },
  {
   "cell_type": "markdown",
   "metadata": {},
   "source": [
    "Różnice w  **RMSE** w przypadku wielomianowych feature'ów wynika, zapewne z overffitingu dla danych testowych, model w tych sytuacjach słabo generalizuje."
   ]
  },
  {
   "cell_type": "markdown",
   "metadata": {
    "id": "25aLi9IJQPPa"
   },
   "source": [
    "### SVC - Support Vector Machine"
   ]
  },
  {
   "cell_type": "code",
   "execution_count": 15,
   "metadata": {
    "id": "--5Gvt93FLQ9"
   },
   "outputs": [],
   "source": [
    "from sklearn.svm import SVC\n",
    "from sklearn.preprocessing import StandardScaler\n",
    "from sklearn.compose import TransformedTargetRegressor\n",
    "\n",
    "svc_simple = Pipeline(\n",
    "    [\n",
    "      ('SVC', SVC())\n",
    "    ]\n",
    ")\n"
   ]
  },
  {
   "cell_type": "markdown",
   "metadata": {
    "id": "-XRVp1A3SJCK"
   },
   "source": [
    "Z wynikami z testów G1, G2."
   ]
  },
  {
   "cell_type": "code",
   "execution_count": 16,
   "metadata": {
    "id": "qogcYnBnR-Jv"
   },
   "outputs": [],
   "source": [
    "standard_with = cross_validate(svc_simple, X_with_exams, Y, scoring=['accuracy', 'neg_root_mean_squared_error'], cv=6)"
   ]
  },
  {
   "cell_type": "code",
   "execution_count": 17,
   "metadata": {
    "id": "RYOIAcziWtW7"
   },
   "outputs": [],
   "source": [
    "standard_without = cross_validate(svc_simple, X_without_exams, Y, scoring=['accuracy', 'neg_root_mean_squared_error'], cv=6)"
   ]
  },
  {
   "cell_type": "markdown",
   "metadata": {
    "id": "YqU046U4Wt4M"
   },
   "source": [
    "Spróbujemy zmodyfikowanej wersji SVG."
   ]
  },
  {
   "cell_type": "code",
   "execution_count": 18,
   "metadata": {
    "id": "hBFR1X9cWC37"
   },
   "outputs": [],
   "source": [
    "scaler_with = ColumnTransformer(\n",
    "    [\n",
    "     ('Standard', StandardScaler(), not_categorical)\n",
    "    ],\n",
    "    remainder='passthrough'\n",
    ")\n",
    "\n",
    "\n",
    "svc_modified = Pipeline(\n",
    "    [\n",
    "      ('Standard', scaler_with),\n",
    "      ('SVC', SVC(cache_size=1000, decision_function_shape='ovo'))\n",
    "    ]\n",
    ")\n",
    "\n",
    "\n",
    "modified_with = cross_validate(svc_modified, X_with_exams, Y, scoring=['accuracy', 'neg_root_mean_squared_error'], cv=6)"
   ]
  },
  {
   "cell_type": "code",
   "execution_count": 19,
   "metadata": {
    "id": "6Wt8s5ghX7IR"
   },
   "outputs": [],
   "source": [
    "scaler_without = ColumnTransformer(\n",
    "    [\n",
    "     ('Standard', StandardScaler(), not_categorical_mod)\n",
    "    ],\n",
    "    remainder='passthrough'\n",
    ")\n",
    "\n",
    "\n",
    "svc_modified = Pipeline(\n",
    "    [\n",
    "      ('Standard', scaler_without),\n",
    "      ('SVC', SVC(cache_size=1000, decision_function_shape='ovo'))\n",
    "    ]\n",
    ")\n",
    "\n",
    "\n",
    "modified_without = cross_validate(svc_modified, X_without_exams, Y, scoring=['accuracy', 'neg_root_mean_squared_error'], cv=6)"
   ]
  },
  {
   "cell_type": "code",
   "execution_count": 20,
   "metadata": {
    "id": "0nUFF2n9k5Ut"
   },
   "outputs": [
    {
     "data": {
      "image/png": "[encoded data removed]",
      "text/plain": [
       "<Figure size 1152x720 with 1 Axes>"
      ]
     },
     "metadata": {
      "needs_background": "light"
     },
     "output_type": "display_data"
    }
   ],
   "source": [
    "results_df = pd.DataFrame({'Standard with exams': standard_with.get('test_neg_root_mean_squared_error'), \n",
    "                           'Standard without exams':standard_without.get('test_neg_root_mean_squared_error'),\n",
    "                           'Modified with exams': modified_with.get('test_neg_root_mean_squared_error'),\n",
    "                           'Modified without exams': modified_without.get('test_neg_root_mean_squared_error')})\n",
    "\n",
    "total_results_with.update({\"standard_svc\":standard_with.get('test_neg_root_mean_squared_error').mean()})\n",
    "total_results_without.update({\"standard_svc\":standard_without.get('test_neg_root_mean_squared_error').mean()})\n",
    "total_results_with.update({\"modified_svc\":modified_with.get('test_neg_root_mean_squared_error').mean()})\n",
    "total_results_without.update({\"modified_svc\":modified_without.get('test_neg_root_mean_squared_error').mean()})\n",
    "\n",
    "results_df = results_df.melt(value_vars=results_df.columns.to_list())\n",
    "\n",
    "plt.figure(figsize=(16,10))\n",
    "sns.swarmplot(data=results_df, x='variable', y='value')\n",
    "plt.show()"
   ]
  },
  {
   "cell_type": "markdown",
   "metadata": {
    "id": "sKNl1haZkIxx"
   },
   "source": [
    "### Drzewa decyzyjne"
   ]
  },
  {
   "cell_type": "code",
   "execution_count": 21,
   "metadata": {
    "id": "clMfwPI5kYJW"
   },
   "outputs": [],
   "source": [
    "from sklearn.tree import DecisionTreeClassifier\n",
    "\n",
    "simple_tree = DecisionTreeClassifier(max_depth=6)\n",
    "with_exams = cross_validate(simple_tree, X_with_exams, Y, scoring=['accuracy', 'neg_root_mean_squared_error'], cv=6) # Po ręcznym sprawdzeniu 6 jako maksymalna głębokość dała najlepsze wyniki"
   ]
  },
  {
   "cell_type": "code",
   "execution_count": 22,
   "metadata": {
    "id": "oZYuqv59o9rW"
   },
   "outputs": [],
   "source": [
    "simple_tree = DecisionTreeClassifier(max_depth=5)\n",
    "without_exams = cross_validate(simple_tree, X_without_exams, Y, scoring=['accuracy', 'neg_root_mean_squared_error'], cv=6)"
   ]
  },
  {
   "cell_type": "code",
   "execution_count": 23,
   "metadata": {
    "id": "07o5riwfnZBx"
   },
   "outputs": [
    {
     "data": {
      "image/png": "[encoded data removed]",
      "text/plain": [
       "<Figure size 1152x720 with 1 Axes>"
      ]
     },
     "metadata": {
      "needs_background": "light"
     },
     "output_type": "display_data"
    }
   ],
   "source": [
    "results_df = pd.DataFrame({'With exams': with_exams.get('test_neg_root_mean_squared_error'), \n",
    "                           'Without exams': without_exams.get('test_neg_root_mean_squared_error')})\n",
    "\n",
    "total_results_with.update({\"decision_tree\":with_exams.get('test_neg_root_mean_squared_error').mean()})\n",
    "total_results_without.update({\"decision_tree\":without_exams.get('test_neg_root_mean_squared_error').mean()})\n",
    "\n",
    "results_df = results_df.melt(value_vars=results_df.columns.to_list())\n",
    "\n",
    "plt.figure(figsize=(16,10))\n",
    "sns.swarmplot(data=results_df, x='variable', y='value')\n",
    "plt.show()\n"
   ]
  },
  {
   "cell_type": "markdown",
   "metadata": {
    "id": "NHBbQexmqa2p"
   },
   "source": [
    "### Sieci neuronowe"
   ]
  },
  {
   "cell_type": "markdown",
   "metadata": {
    "id": "dfrg0MBqr6wV"
   },
   "source": [
    "Spróbujmy implementacji ze *Scikit-learn*, ponieważ nasza sieć jest dosyć mała więc nie powinniśmy mieć problemów z długim czasem wykonowania."
   ]
  },
  {
   "cell_type": "code",
   "execution_count": 24,
   "metadata": {
    "id": "M2FfM4nAqdUP"
   },
   "outputs": [],
   "source": [
    "from sklearn.neural_network import MLPClassifier\n",
    "clf = MLPClassifier(hidden_layer_sizes=(64, 64), solver='lbfgs', random_state=1)\n",
    "normal_with = cross_validate(clf, X_with_exams, Y, scoring=['accuracy', 'neg_root_mean_squared_error'], cv=6)"
   ]
  },
  {
   "cell_type": "markdown",
   "metadata": {
    "id": "TAG5F5q5xlpG"
   },
   "source": [
    "Sprawdźmy, jak standaryzacja feature'ów wpłynie na wyniki naszej sieci. "
   ]
  },
  {
   "cell_type": "code",
   "execution_count": 25,
   "metadata": {
    "id": "N0qdqwIfxa5w"
   },
   "outputs": [],
   "source": [
    "from sklearn.neural_network import MLPClassifier\n",
    "clf = MLPClassifier(hidden_layer_sizes=(64, 64), solver='lbfgs', random_state=1)\n",
    "\n",
    "stand_network = Pipeline([\n",
    "                          (\"Standard\", scaler_with),\n",
    "                          (\"Network\", clf)\n",
    "])\n",
    "standarized_with = cross_validate(stand_network, X_with_exams, Y, scoring=['accuracy', 'neg_root_mean_squared_error'], cv=6)"
   ]
  },
  {
   "cell_type": "markdown",
   "metadata": {
    "id": "UosDJ_ftxx21"
   },
   "source": [
    "Modele bez wyników egzaminu"
   ]
  },
  {
   "cell_type": "code",
   "execution_count": 26,
   "metadata": {
    "id": "-la5jJa5qfAc"
   },
   "outputs": [],
   "source": [
    "clf = MLPClassifier(hidden_layer_sizes=(48, 48), solver='lbfgs', random_state=1, alpha=0.0003)\n",
    "normal_without = cross_validate(clf, X_without_exams, Y, scoring=['accuracy', 'neg_root_mean_squared_error'], cv=6)"
   ]
  },
  {
   "cell_type": "code",
   "execution_count": 27,
   "metadata": {
    "id": "zQU2rIZR0kBd"
   },
   "outputs": [],
   "source": [
    "clf = MLPClassifier(hidden_layer_sizes=(32, 32), solver='lbfgs', random_state=1)\n",
    "stand_network = Pipeline([\n",
    "                          (\"Standard\", scaler_without),\n",
    "                          (\"Network\", clf)\n",
    "])\n",
    "standard_without = cross_validate(stand_network, X_without_exams, Y, scoring=['accuracy', 'neg_root_mean_squared_error'], cv=10)"
   ]
  },
  {
   "cell_type": "code",
   "execution_count": 28,
   "metadata": {
    "id": "45mgziFSo7LU"
   },
   "outputs": [
    {
     "data": {
      "image/png": "[encoded data removed]",
      "text/plain": [
       "<Figure size 1152x720 with 1 Axes>"
      ]
     },
     "metadata": {
      "needs_background": "light"
     },
     "output_type": "display_data"
    }
   ],
   "source": [
    "results_df = pd.DataFrame({'Network with exams': normal_with.get('test_neg_root_mean_squared_error'), \n",
    "                           'Network without exams': normal_without.get('test_neg_root_mean_squared_error'),\n",
    "                           'Standarized network with exams': modified_with.get('test_neg_root_mean_squared_error'),\n",
    "                           'Standarized network without exams': modified_without.get('test_neg_root_mean_squared_error')})\n",
    "\n",
    "total_results_with.update({\"NN_class\":normal_with.get('test_neg_root_mean_squared_error').mean()})\n",
    "total_results_without.update({\"NN_class\":normal_without.get('test_neg_root_mean_squared_error').mean()})\n",
    "total_results_with.update({\"standarized_NN_class\":modified_with.get('test_neg_root_mean_squared_error').mean()})\n",
    "total_results_without.update({\"standarized_NN_class\":modified_without.get('test_neg_root_mean_squared_error').mean()})\n",
    "\n",
    "results_df = results_df.melt(value_vars=results_df.columns.to_list())\n",
    "\n",
    "plt.figure(figsize=(16,10))\n",
    "sns.swarmplot(data=results_df, x='variable', y='value')\n",
    "plt.show()"
   ]
  },
  {
   "cell_type": "markdown",
   "metadata": {
    "id": "xlu1dk66pt_J"
   },
   "source": [
    "Standaryzacja pozwoliła nam uzyskać bardziej stabilne wyniki. Poniżej umieściliśmy naszą teorię dlaczego standaryzacja nie poprawia wyników w przypadku egzaminów. Standaryzacja sprawia, że niejako wszystkie feature mają tą samą wagę, dlatego osłabia wagę kolumn z egzaminami, które są silnie skorelowane."
   ]
  },
  {
   "cell_type": "markdown",
   "metadata": {
    "id": "uhKAP4xI08Ui"
   },
   "source": [
    "### Random Forest"
   ]
  },
  {
   "cell_type": "code",
   "execution_count": 29,
   "metadata": {
    "id": "bK7iywpZmz7B"
   },
   "outputs": [],
   "source": [
    "from sklearn.ensemble import RandomForestClassifier\n",
    "\n",
    "rf = RandomForestClassifier(n_estimators = 500,\n",
    "                                  max_depth=10,\n",
    "                                  min_samples_split = 2,\n",
    "                                  max_features = 6,\n",
    "                                  random_state=1,\n",
    "                                  n_jobs = -1)\n",
    "\n",
    "rf_with = cross_validate(rf, X_with_exams, Y, scoring=['accuracy', 'neg_root_mean_squared_error'], cv=6)\n",
    "rf_without = cross_validate(rf, X_without_exams, Y, scoring=['accuracy', 'neg_root_mean_squared_error'], cv=6)"
   ]
  },
  {
   "cell_type": "code",
   "execution_count": 30,
   "metadata": {},
   "outputs": [
    {
     "data": {
      "image/png": "[encoded data removed]",
      "text/plain": [
       "<Figure size 1152x720 with 1 Axes>"
      ]
     },
     "metadata": {
      "needs_background": "light"
     },
     "output_type": "display_data"
    }
   ],
   "source": [
    "results_df = pd.DataFrame({'With exams': rf_with.get('test_neg_root_mean_squared_error'), \n",
    "                           'Without exams': rf_without.get('test_neg_root_mean_squared_error')})\n",
    "\n",
    "total_results_with.update({\"random_forest\":rf_with.get('test_neg_root_mean_squared_error').mean()})\n",
    "total_results_without.update({\"random_forest\":rf_without.get('test_neg_root_mean_squared_error').mean()})\n",
    "\n",
    "results_df = results_df.melt(value_vars=results_df.columns.to_list())\n",
    "\n",
    "plt.figure(figsize=(16,10))\n",
    "sns.swarmplot(data=results_df, x='variable', y='value')\n",
    "plt.show()"
   ]
  },
  {
   "cell_type": "markdown",
   "metadata": {
    "id": "U1Ju7Kgh1CKR"
   },
   "source": [
    "### Naiwny Klasyfikator Bayesowski"
   ]
  },
  {
   "cell_type": "code",
   "execution_count": 31,
   "metadata": {},
   "outputs": [],
   "source": [
    "from sklearn.naive_bayes import GaussianNB\n",
    "\n",
    "nb = GaussianNB()\n",
    "nb_with = cross_validate(nb, X_with_exams, Y, scoring=['accuracy', 'neg_root_mean_squared_error'], cv=6)\n",
    "nb_without = cross_validate(nb, X_without_exams, Y, scoring=['accuracy', 'neg_root_mean_squared_error'], cv=6)"
   ]
  },
  {
   "cell_type": "code",
   "execution_count": 32,
   "metadata": {},
   "outputs": [
    {
     "data": {
      "image/png": "[encoded data removed]",
      "text/plain": [
       "<Figure size 1152x720 with 1 Axes>"
      ]
     },
     "metadata": {
      "needs_background": "light"
     },
     "output_type": "display_data"
    }
   ],
   "source": [
    "nb_results = pd.DataFrame({\n",
    "    'Classifier with exams': nb_with.get('test_neg_root_mean_squared_error'),\n",
    "    'Classifier without exams': nb_without.get('test_neg_root_mean_squared_error')})\n",
    "\n",
    "total_results_with.update({\"Naive Bayes\": nb_with.get('test_neg_root_mean_squared_error').mean()})\n",
    "total_results_without.update({\"Naive Bayes\": nb_without.get('test_neg_root_mean_squared_error').mean()})\n",
    "\n",
    "nb_results = nb_results.melt(value_vars=nb_results.columns.to_list())\n",
    "\n",
    "plt.figure(figsize=(16,10))\n",
    "sns.swarmplot(data=nb_results, x='variable', y='value')\n",
    "plt.title(\"RMSE\")\n",
    "plt.show()"
   ]
  },
  {
   "cell_type": "markdown",
   "metadata": {
    "id": "qpNzhwjOw2Cm"
   },
   "source": [
    "## Modele regresyjne"
   ]
  },
  {
   "cell_type": "markdown",
   "metadata": {
    "id": "FBbM2IlG1Ygb"
   },
   "source": [
    "### Liniowa regresja"
   ]
  },
  {
   "cell_type": "code",
   "execution_count": 33,
   "metadata": {},
   "outputs": [],
   "source": [
    "from sklearn.linear_model import LinearRegression\n",
    "\n",
    "linreg = LinearRegression()\n",
    "\n",
    "lr_with = cross_validate(linreg, X_with_exams, Y, scoring=['neg_root_mean_squared_error'], cv=6)\n",
    "lr_without = cross_validate(linreg, X_without_exams, Y, scoring=['neg_root_mean_squared_error'], cv=6)"
   ]
  },
  {
   "cell_type": "code",
   "execution_count": 34,
   "metadata": {},
   "outputs": [
    {
     "data": {
      "image/png": "[encoded data removed]",
      "text/plain": [
       "<Figure size 1152x720 with 1 Axes>"
      ]
     },
     "metadata": {
      "needs_background": "light"
     },
     "output_type": "display_data"
    }
   ],
   "source": [
    "results_df = pd.DataFrame({'With exams': lr_with.get('test_neg_root_mean_squared_error'), \n",
    "                           'Without exams': lr_without.get('test_neg_root_mean_squared_error')})\n",
    "\n",
    "total_results_with.update({\"linreg\":lr_with.get('test_neg_root_mean_squared_error').mean()})\n",
    "total_results_without.update({\"linreg\":lr_without.get('test_neg_root_mean_squared_error').mean()})\n",
    "\n",
    "results_df = results_df.melt(value_vars=results_df.columns.to_list())\n",
    "\n",
    "plt.figure(figsize=(16,10))\n",
    "sns.swarmplot(data=results_df, x='variable', y='value')\n",
    "plt.show()"
   ]
  },
  {
   "cell_type": "markdown",
   "metadata": {
    "id": "wiEyeyv41jdd"
   },
   "source": [
    "### SVR"
   ]
  },
  {
   "cell_type": "code",
   "execution_count": 35,
   "metadata": {},
   "outputs": [],
   "source": [
    "from sklearn import svm\n",
    "\n",
    "SVR = svm.SVR()\n",
    "\n",
    "SVR_with = cross_validate(SVR, X_with_exams, Y, scoring=['neg_root_mean_squared_error'], cv=6)\n",
    "SVR_without = cross_validate(SVR, X_without_exams, Y, scoring=['neg_root_mean_squared_error'], cv=6)"
   ]
  },
  {
   "cell_type": "code",
   "execution_count": 36,
   "metadata": {},
   "outputs": [
    {
     "data": {
      "image/png": "[encoded data removed]",
      "text/plain": [
       "<Figure size 1152x720 with 1 Axes>"
      ]
     },
     "metadata": {
      "needs_background": "light"
     },
     "output_type": "display_data"
    }
   ],
   "source": [
    "results_df = pd.DataFrame({'With exams': SVR_with.get('test_neg_root_mean_squared_error'), \n",
    "                           'Without exams':SVR_without.get('test_neg_root_mean_squared_error')})\n",
    "\n",
    "total_results_with.update({\"SVR\":SVR_with.get('test_neg_root_mean_squared_error').mean()})\n",
    "total_results_without.update({\"SVR\":SVR_without.get('test_neg_root_mean_squared_error').mean()})\n",
    "\n",
    "results_df = results_df.melt(value_vars=results_df.columns.to_list())\n",
    "\n",
    "plt.figure(figsize=(16,10))\n",
    "sns.swarmplot(data=results_df, x='variable', y='value')\n",
    "plt.show()"
   ]
  },
  {
   "cell_type": "markdown",
   "metadata": {},
   "source": [
    "Predykcje są trochę lepsze niż w przypadku klasyfikacji przy użyciu SVM."
   ]
  },
  {
   "cell_type": "code",
   "execution_count": 37,
   "metadata": {},
   "outputs": [
    {
     "data": {
      "text/plain": [
       "(-1.3679126508494486, -2.869683625313503)"
      ]
     },
     "execution_count": 37,
     "metadata": {},
     "output_type": "execute_result"
    }
   ],
   "source": [
    "SVR_with.get('test_neg_root_mean_squared_error').mean(), SVR_without.get('test_neg_root_mean_squared_error').mean()"
   ]
  },
  {
   "cell_type": "markdown",
   "metadata": {
    "id": "_PIsJnW3xDi2"
   },
   "source": [
    "### Sieci neuronowe"
   ]
  },
  {
   "cell_type": "code",
   "execution_count": 38,
   "metadata": {
    "id": "pvmxIe6GxF0m"
   },
   "outputs": [],
   "source": [
    "from sklearn.neural_network import MLPRegressor\n",
    "net_reg = MLPRegressor(hidden_layer_sizes=(64, 64), solver='lbfgs', random_state=1)\n",
    "normal_with = cross_validate(net_reg, X_with_exams, Y, scoring=['neg_root_mean_squared_error'], cv=10)"
   ]
  },
  {
   "cell_type": "code",
   "execution_count": 39,
   "metadata": {
    "id": "HHHFXoog4Gmy"
   },
   "outputs": [],
   "source": [
    "net_reg = MLPRegressor(hidden_layer_sizes=(64, 64), solver='lbfgs', random_state=1)\n",
    "stand_network = Pipeline([\n",
    "                          (\"Standard\", scaler_with),\n",
    "                          (\"Network\", net_reg)\n",
    "])\n",
    "wrap_model = TransformedTargetRegressor(regressor=stand_network, transformer=StandardScaler())\n",
    "modified_with = cross_validate(wrap_model, X_with_exams, Y, scoring=['neg_root_mean_squared_error'], cv=10)"
   ]
  },
  {
   "cell_type": "markdown",
   "metadata": {
    "id": "pdraYvCD4ckV"
   },
   "source": [
    "Modele bez wyników egzaminów"
   ]
  },
  {
   "cell_type": "code",
   "execution_count": 40,
   "metadata": {
    "id": "xZcVGs_o4cQY"
   },
   "outputs": [],
   "source": [
    "from sklearn.neural_network import MLPRegressor\n",
    "net_reg = MLPRegressor(hidden_layer_sizes=(64, 64), solver='lbfgs', random_state=1)\n",
    "normal_without = cross_validate(net_reg, X_without_exams, Y, scoring=['neg_root_mean_squared_error'], cv=10)"
   ]
  },
  {
   "cell_type": "code",
   "execution_count": 41,
   "metadata": {
    "id": "SsbhcCes4xNR"
   },
   "outputs": [],
   "source": [
    "net_reg = MLPRegressor(hidden_layer_sizes=(48, 48), solver='lbfgs', random_state=1)\n",
    "stand_network = Pipeline([\n",
    "                          (\"Standard\", scaler_without),\n",
    "                          (\"Network\", net_reg)\n",
    "])\n",
    "wrap_model = TransformedTargetRegressor(regressor=stand_network, transformer=StandardScaler())\n",
    "modified_without = cross_validate(wrap_model, X_without_exams, Y, scoring=['neg_root_mean_squared_error'], cv=10)"
   ]
  },
  {
   "cell_type": "code",
   "execution_count": 42,
   "metadata": {
    "id": "8QeGNGsur6mR"
   },
   "outputs": [
    {
     "data": {
      "image/png": "[encoded data removed]",
      "text/plain": [
       "<Figure size 1152x720 with 1 Axes>"
      ]
     },
     "metadata": {
      "needs_background": "light"
     },
     "output_type": "display_data"
    }
   ],
   "source": [
    "results_df = pd.DataFrame({'Network with exams': normal_with.get('test_neg_root_mean_squared_error'), \n",
    "                           'Network without exams': normal_without.get('test_neg_root_mean_squared_error'),\n",
    "                           'Standarized network with exams': modified_with.get('test_neg_root_mean_squared_error'),\n",
    "                           'Standarized network without exams': modified_without.get('test_neg_root_mean_squared_error')})\n",
    "\n",
    "total_results_with.update({\"NN_reg\":normal_with.get('test_neg_root_mean_squared_error').mean()})\n",
    "total_results_without.update({\"NN_reg\":normal_without.get('test_neg_root_mean_squared_error').mean()})\n",
    "total_results_with.update({\"standarized_NN_reg\":modified_with.get('test_neg_root_mean_squared_error').mean()})\n",
    "total_results_without.update({\"standarized_NN_reg\":modified_without.get('test_neg_root_mean_squared_error').mean()})\n",
    "\n",
    "results_df = results_df.melt(value_vars=results_df.columns.to_list())\n",
    "\n",
    "plt.figure(figsize=(16,10))\n",
    "sns.swarmplot(data=results_df, x='variable', y='value')\n",
    "plt.show()"
   ]
  },
  {
   "cell_type": "markdown",
   "metadata": {
    "id": "lFPbirdSrNTd"
   },
   "source": [
    "# Podsumowanie\n",
    "Najlepszym modelami w przypadku posiadania rezultatów są modele regresyjne, co wynika zapewne z tego, że zwracają one liczby zmiennoprzecinkowe, a zatem nie dopasowują dokładniej ilości punktów. Naszym kolejnym celem jest sprzetestowanie większej liczby modeli bootstrapowych, modeli boostingowych, być może stworzenie kolejnych sieci, połączenie najlepszych modeli w jakieś komitety. "
   ]
  },
  {
   "cell_type": "code",
   "execution_count": 43,
   "metadata": {},
   "outputs": [
    {
     "data": {
      "text/plain": [
       "{'standard_logreg': -1.905488205203749,\n",
       " 'poly_logreg': -1.786680429640752,\n",
       " 'standard_svc': -1.9523695118383486,\n",
       " 'modified_svc': -2.0298216961943774,\n",
       " 'decision_tree': -1.745201418274797,\n",
       " 'NN_class': -1.9052376905759247,\n",
       " 'standarized_NN_class': -2.0298216961943774,\n",
       " 'random_forest': -1.676598229605444,\n",
       " 'Naive Bayes': -4.3556323216607815,\n",
       " 'linreg': -1.3087525404420923,\n",
       " 'SVR': -1.3679126508494486,\n",
       " 'NN_reg': -1.4909237442087244,\n",
       " 'standarized_NN_reg': -1.6014477192055794}"
      ]
     },
     "execution_count": 43,
     "metadata": {},
     "output_type": "execute_result"
    }
   ],
   "source": [
    "total_results_with"
   ]
  },
  {
   "cell_type": "code",
   "execution_count": 44,
   "metadata": {},
   "outputs": [
    {
     "data": {
      "text/plain": [
       "{'standard_logreg': -3.5598175530154728,\n",
       " 'poly_logreg': -3.59158455030567,\n",
       " 'standard_svc': -3.0992016571675136,\n",
       " 'modified_svc': -2.9849155375965313,\n",
       " 'decision_tree': -3.7419694845039033,\n",
       " 'NN_class': -3.9863546185777867,\n",
       " 'standarized_NN_class': -2.9849155375965313,\n",
       " 'random_forest': -3.2056494185902253,\n",
       " 'Naive Bayes': -5.324360083595241,\n",
       " 'linreg': -2.7475800945482907,\n",
       " 'SVR': -2.869683625313503,\n",
       " 'NN_reg': -3.131396934806986,\n",
       " 'standarized_NN_reg': -3.3715065413066965}"
      ]
     },
     "execution_count": 44,
     "metadata": {},
     "output_type": "execute_result"
    }
   ],
   "source": [
    "total_results_without"
   ]
  }
 ],
 "metadata": {
  "colab": {
   "collapsed_sections": [
    "sKNl1haZkIxx"
   ],
   "name": "wum_projekt_1.ipynb",
   "provenance": []
  },
  "kernelspec": {
   "display_name": "Python 3",
   "language": "python",
   "name": "python3"
  },
  "language_info": {
   "codemirror_mode": {
    "name": "ipython",
    "version": 3
   },
   "file_extension": ".py",
   "mimetype": "text/x-python",
   "name": "python",
   "nbconvert_exporter": "python",
   "pygments_lexer": "ipython3",
   "version": "3.8.5"
  }
 },
 "nbformat": 4,
 "nbformat_minor": 4
}